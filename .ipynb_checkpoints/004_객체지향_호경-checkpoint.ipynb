{
 "cells": [
  {
   "cell_type": "code",
   "execution_count": 1,
   "metadata": {},
   "outputs": [],
   "source": [
    "# 객체 지향 프로그래밍( class(꼴) => (instance: 메모리 확보) Object(객체:메모리 확보된 상태) )\n",
    "# - Class : 멤버변수(속성) + 멤버함수\n",
    "# - instance할 때는 멤버변수(속성)를 저장하는 공간만 확보(*멤버함수는 공유되어짐)"
   ]
  },
  {
   "cell_type": "code",
   "execution_count": 2,
   "metadata": {},
   "outputs": [
    {
     "name": "stdout",
     "output_type": "stream",
     "text": [
      "삼각형의 넓이는 100.0\n"
     ]
    }
   ],
   "source": [
    "width = 10\n",
    "height = 20\n",
    "area = 10 * 20 / 2\n",
    "area = 10 * 20 / 2\n",
    "print(\"삼각형의 넓이는\", area)"
   ]
  },
  {
   "cell_type": "code",
   "execution_count": 8,
   "metadata": {},
   "outputs": [
    {
     "name": "stdout",
     "output_type": "stream",
     "text": [
      "10 20 100.0\n"
     ]
    }
   ],
   "source": [
    "class Triangle :\n",
    "    def setData(self, width, height): # 함수를 이용한 초기화 (self:default,매개변수 취급X)\n",
    "        self.width = width\n",
    "        self.height = height\n",
    "    def area(self):\n",
    "        return self.width * self.height / 2\n",
    "\n",
    "tri1 = Triangle()    # instance한다. => class명()\n",
    "tri1.setData(10, 20) # 실시간으로 변수공간 확보\n",
    "print(tri1.width, tri1.height, tri1.area())"
   ]
  },
  {
   "cell_type": "code",
   "execution_count": 11,
   "metadata": {},
   "outputs": [
    {
     "name": "stdout",
     "output_type": "stream",
     "text": [
      "10 20 100.0\n"
     ]
    }
   ],
   "source": [
    "class Triangle : # class 생성 시, Object class는 자동 상속\n",
    "    # __init__: 생성자(초기화함수), 강제호출불가, Object에 있는 함수를 재정의\n",
    "    def __init__(self, width, height):\n",
    "        self.width = width\n",
    "        self.height = height\n",
    "    def area(self):\n",
    "        return self.width * self.height / 2\n",
    "tri1 = Triangle(10, 20)\n",
    "#tri1.__init__(10,20) <- 이렇게 호출불가, instance할 때 자동으로 호출\n",
    "print(tri1.width, tri1.height, tri1.area())"
   ]
  },
  {
   "cell_type": "code",
   "execution_count": 23,
   "metadata": {},
   "outputs": [
    {
     "name": "stdout",
     "output_type": "stream",
     "text": [
      "12345\n",
      "54321\n",
      "54321\n",
      "54321\n"
     ]
    }
   ],
   "source": [
    "# class변수, 멤버변수, 지역변수\n",
    "class MyClass(object): # 선언하는 순간에 메모리에 자리잡음 -> class MyClass:\n",
    "    \"\"\"클래스의 예\"\"\"\n",
    "    i = 12345          # class변수 - 공용변수, class시작부분에 선언\n",
    "    \n",
    "    def __init__(self):\n",
    "        self.i = 54321 # 멤버변수 - self.변수명\n",
    "        num = 100      # 지역변수 - 변수명\n",
    "    def f(self):\n",
    "        return self.i\n",
    "    \n",
    "MyClass.__doc__ # __doc__ : class주석 출력, Object의 속성\n",
    "\n",
    "print(MyClass.i) # class변수는 instance하지 않고도 호출가능      12345\n",
    "\n",
    "myclass = MyClass() # instance - self.i에 대한 메모리 확보\n",
    "print(myclass.i)   # = 54321\n",
    "print(myclass.f()) # = 54321\n",
    "print(MyClass().i) # = 54321 -> 참조가 없으므로 사용과 동시에 메모리에서 사라짐"
   ]
  },
  {
   "cell_type": "code",
   "execution_count": 30,
   "metadata": {},
   "outputs": [
    {
     "name": "stdout",
     "output_type": "stream",
     "text": [
      "생성 Mon Dec 30 11:10:03 2019\n",
      "Sleeping for 3sec\n",
      "사망 Mon Dec 30 11:10:06 2019\n"
     ]
    }
   ],
   "source": [
    "from time import time, ctime, sleep # ctime : convert time(현재 초로 된 시간을 문자열로)\n",
    "class Life:\n",
    "    def __init__(self):             # 생성자\n",
    "        self.birth = ctime()\n",
    "        print(\"생성\", self.birth)\n",
    "    def __del__(self):              # 소멸자 - 메모리에서 사라질 때 자동으로 호출\n",
    "        print(\"사망\", ctime())\n",
    "    def test(self):\n",
    "        #mylife = Life()\n",
    "        print(\"Sleeping for 3sec\")\n",
    "        sleep(3) # sleep(초)\n",
    "        \n",
    "li = Life() # Life()->heap에 저장, li->Life()의 주소값을 stack에 저장\n",
    "li.test()\n",
    "del li"
   ]
  },
  {
   "cell_type": "code",
   "execution_count": 69,
   "metadata": {},
   "outputs": [
    {
     "name": "stdout",
     "output_type": "stream",
     "text": [
      "직원 수 = 1\n",
      "직원 수 = 2\n",
      "직원 수 = 2\n",
      "Called :  ('도우너', 500, 100) {'c': 100}\n",
      "이름 :  홍길동 , 급여 :  500\n",
      "이름 :  김둘리 , 급여 :  500\n"
     ]
    }
   ],
   "source": [
    "# 사원관리\n",
    "class Employee:\n",
    "    empCount = 0 # 사원수 - class변수(공유변수), 외부에서 수정가능\n",
    "    \n",
    "    def __init__(self, name, salary):\n",
    "        self.name = name      # 이름\n",
    "        self.salary = salary  # 급여\n",
    "        Employee.empCount += 1\n",
    "    def displayCount(self):\n",
    "        print(\"직원 수 = %d\" % Employee.empCount)\n",
    "    def displayEmployee(self):\n",
    "        print(\"이름 : \", self.name, \", 급여 : \", self.salary)\n",
    "    def __call__(self, *pargs, **kargs):\n",
    "        print(\"Called : \", pargs, kargs)\n",
    "        \n",
    "emp = Employee(\"홍길동\", 500)\n",
    "emp.displayCount()  # =1\n",
    "emp1 = Employee(\"김둘리\", 500)\n",
    "emp1.displayCount() # =2\n",
    "emp.displayCount()  # =2\n",
    "emp(\"도우너\", 500, 100, c = 100) # __call__을 overriding -> class를 함수처럼 사용하고 싶은 경우\n",
    "\n",
    "# emp와 emp1은 data를 담고 있는 위치가 다름 -> data가 다름\n",
    "emp.displayEmployee()\n",
    "emp1.displayEmployee()"
   ]
  },
  {
   "cell_type": "code",
   "execution_count": 64,
   "metadata": {},
   "outputs": [
    {
     "name": "stdout",
     "output_type": "stream",
     "text": [
      "7\n",
      "8\n",
      "{'name': '홍길동', 'salary': 500, 'age': 8}\n",
      "{'name': '김둘리', 'salary': 500, 'age': 7}\n",
      "['__call__', '__class__', '__delattr__', '__dict__', '__dir__', '__doc__', '__eq__', '__format__', '__ge__', '__getattribute__', '__gt__', '__hash__', '__init__', '__init_subclass__', '__le__', '__lt__', '__module__', '__ne__', '__new__', '__reduce__', '__reduce_ex__', '__repr__', '__setattr__', '__sizeof__', '__str__', '__subclasshook__', '__weakref__', 'age', 'displayCount', 'displayEmployee', 'empCount', 'name', 'salary']\n"
     ]
    }
   ],
   "source": [
    "# 실시간으로 class의 멤버변수 추가가능\n",
    "emp1.age = 7\n",
    "emp.age = 8\n",
    "print(emp1.age)\n",
    "print(emp.age)\n",
    "print(emp.__dict__)\n",
    "print(emp1.__dict__)\n",
    "print(dir(emp)) # class가 가지고 있는 함수"
   ]
  },
  {
   "cell_type": "code",
   "execution_count": 133,
   "metadata": {},
   "outputs": [
    {
     "name": "stdout",
     "output_type": "stream",
     "text": [
      "이름 : 홍길동 , 나이 : 15\n",
      "나의 이름은 홍길동\n",
      "<class '__main__.Student'>\n",
      "나의 이름은 또치\n"
     ]
    },
    {
     "data": {
      "text/plain": [
       "{'full_name': '또치', 'age': 35}"
      ]
     },
     "execution_count": 133,
     "metadata": {},
     "output_type": "execute_result"
    }
   ],
   "source": [
    "# 문제\n",
    "# - 이름과 나이를 저장하는 Student class를 생성하시요.\n",
    "# - 이름과 나이를 출력하는 pring()를 클래스 내에 정의하시요.\n",
    "class Student: # 사용자 정의 data type 정의\n",
    "    \"\"\"학생관리\"\"\"\n",
    "    def __init__(self, name, age):\n",
    "        self.full_name = name\n",
    "        self.age = age\n",
    "    def print(self):\n",
    "        print(\"이름 :\", self.full_name, \", 나이 :\", self.age)\n",
    "    def __repr__(self): # repr을 overriding->print(class명)하면 출력됨(*repr 이전버전이 str)\n",
    "        return \"나의 이름은 \" + self.full_name\n",
    "\n",
    "f = Student(\"홍길동\", 15)\n",
    "f.print()\n",
    "print(f)\n",
    "print(f.__class__)\n",
    "\n",
    "# instance된 변수(=f)로부터 class명을 알아내어(=.__class__) class생성\n",
    "g = f.__class__(\"또치\", 35)\n",
    "print(g)\n",
    "g.__dict__ # {'full_name': '또치', 'age': 35}"
   ]
  },
  {
   "cell_type": "code",
   "execution_count": 92,
   "metadata": {},
   "outputs": [
    {
     "name": "stdout",
     "output_type": "stream",
     "text": [
      "좌표는 (7, 3)\n",
      "좌표는 (4, 7)\n",
      "두 점 사이의 거리는 =  5.0\n",
      "충돌하지 않았습니다.\n"
     ]
    }
   ],
   "source": [
    "import math\n",
    "class Point:\n",
    "    def __init__(self, x, y): # 생성자\n",
    "        self.x = x\n",
    "        self.y = y\n",
    "    def __str__(self): # =__repr__ : 문자열을 요구하는 함수에 들어가면 작동한다. ex) print\n",
    "        return \"좌표는 (%d, %d)\" % (self.x, self.y)\n",
    "    # 두 점 사이의 거리값\n",
    "    def dist(self, other): # other : 다른 Point객체(거리값은 두 개의 Point가 필요)\n",
    "        distance = math.sqrt((self.x-other.x)**2+(self.y-other.y)**2)\n",
    "        return distance\n",
    "    # 두 점의 충돌여부\n",
    "    def collision(self, other):\n",
    "        return self.dist(other) < 3\n",
    "\n",
    "first = Point(7, 3)\n",
    "second = Point(4, 7)\n",
    "print(first)\n",
    "print(second)\n",
    "\n",
    "print(\"두 점 사이의 거리는 = \", first.dist(second))\n",
    "if first.collision(second):\n",
    "    print(\"충돌했습니다.\")\n",
    "else:\n",
    "    print(\"충돌하지 않았습니다.\")"
   ]
  },
  {
   "cell_type": "code",
   "execution_count": 104,
   "metadata": {},
   "outputs": [
    {
     "name": "stdout",
     "output_type": "stream",
     "text": [
      "원의 중심 좌표는 (7, 3) 반지름은 1\n",
      "원의 중심 좌표는 (4, 7) 반지름은 5\n",
      "충돌한다.\n"
     ]
    },
    {
     "data": {
      "text/plain": [
       "'충돌한다.'"
      ]
     },
     "execution_count": 104,
     "metadata": {},
     "output_type": "execute_result"
    }
   ],
   "source": [
    "# 문제. Point클래스를 이용하여 Circle클래스를 정의하시요.\n",
    "# 원 - 중심점, 반지름\n",
    "# 원과 원이 충돌하는 여부를 확인하는 함수를 작성하시요.\n",
    "class Circle:\n",
    "    def __init__(self, point, r):\n",
    "        self.point = point\n",
    "        self.r = r\n",
    "    def __repr__(self):\n",
    "        return \"원의 중심 \" + str(self.point) +\" 반지름은 \" + str(self.r)\n",
    "    def collision(self, other):\n",
    "        if self.point.dist(other.point) < self.r + other.r:\n",
    "            result = \"충돌한다.\"\n",
    "        else:\n",
    "            result = \"충돌하지 않는다.\"\n",
    "        return result\n",
    "        \n",
    "first_circle = Circle(first, 1)\n",
    "second_circle = Circle(second, 5)\n",
    "print(first_circle)\n",
    "print(second_circle)\n",
    "print(first_circle.collision(second_circle))\n",
    "\n",
    "# class의 함수를 직접 호출하면 self 대신에 첫번째 매개변수값이 들어간다.\n",
    "Circle.collision(first_circle, second_circle)"
   ]
  },
  {
   "cell_type": "code",
   "execution_count": 151,
   "metadata": {},
   "outputs": [
    {
     "name": "stdout",
     "output_type": "stream",
     "text": [
      "사각형의..\n",
      "12\n",
      "2\n",
      "5.0\n"
     ]
    }
   ],
   "source": [
    "# Point를 이용해서 사각형 Rectangle클래스를 작성하시요.(사각형 - 2개의 점)\n",
    "# - 사각형의 면적을 구하는 함수를 작성하시요.\n",
    "# - 사각형의 둘레를 구하는 함수를 작성하시요.\n",
    "# - 대각선의 길이를 구하는 함수를 작성하시요.\n",
    "class Rectangle:\n",
    "    def __init__(self, point1, point2):\n",
    "        self.point1 = point1\n",
    "        self.point2 = point2\n",
    "    def __repr__(self):\n",
    "        return \"사각형의..\"\n",
    "    \n",
    "    # 면적\n",
    "    def calc_area(self):\n",
    "        p1 = self.point1\n",
    "        p2 = self.point2\n",
    "        return abs((p1.x - p2.x) * (p1.y - p2.y))\n",
    "    \n",
    "    # 둘레\n",
    "    def calc_around(self):\n",
    "        p1 = self.point1\n",
    "        p2 = self.point2\n",
    "        return abs((p1.x - p2.x) * 2 + (p1.y - p2.y) * 2)\n",
    "    \n",
    "    # 대각선\n",
    "    def calc_diagonal_line(self):\n",
    "        return self.point1.dist(self.point2)\n",
    "    \n",
    "rect = Rectangle(Point(1,2), Point(4,5))\n",
    "print(rect)\n",
    "print(rect.calc_area())\n",
    "print(rect.calc_around())\n",
    "print(rect.calc_diagonal_line())"
   ]
  },
  {
   "cell_type": "code",
   "execution_count": 146,
   "metadata": {},
   "outputs": [
    {
     "name": "stdout",
     "output_type": "stream",
     "text": [
      "(좌표는 110, 69)\n",
      "(좌표는 1000, 1058)\n",
      "(좌표는 90, 23)\n",
      "(좌표는 10, 2)\n"
     ]
    }
   ],
   "source": [
    "# 문제. Vector class를 작성하시요.\n",
    "# - x, y의 2차원 벡터를 구현\n",
    "# - 벡터의 연산 (+,-,*,/) : 요소별로 계산\n",
    "# - dot함수 : 벡터의 요소별로 곱하고 모두 더해주면 '내적 유사도'\n",
    "# - cos값으로 변환하는 함수를 구현하시요.\n",
    "#    cos theta = acos( A내적B / |A||B| )\n",
    "#    |A| = math.sqrt(x^2 + y^2)\n",
    "\n",
    "#a = 10\n",
    "#b = 20\n",
    "#c = a + b\n",
    "class Vector:\n",
    "    def __init__(self, x, y):\n",
    "        self.x = x\n",
    "        self.y = y\n",
    "    def __repr__(self):\n",
    "        return \"(좌표는 %d, %d)\" %(self.x, self.y)\n",
    "    \n",
    "    def __add__(self, other): # 연산자 +에 대한 overloading을 overidding으로 구현한 것\n",
    "        return Vector(self.x + other.x, self.y + other.y)\n",
    "    def __mul__(self, other): # 연산자 *에 대한 overloading을 overidding으로 구현한 것\n",
    "        return Vector(self.x * other.x, self.y * other.y)\n",
    "    def __sub__(self, other): # 연산자 -에 대한 overloading을 overidding으로 구현한 것\n",
    "        return Vector(self.x - other.x, self.y - other.y)\n",
    "    def __truediv__(self, other): # 연산자 /에 대한 overloading을 overidding으로 구현한 것\n",
    "        return Vector(self.x / other.x, self.y / other.y)\n",
    "    \n",
    "f = Vector(100, 46)\n",
    "g = Vector(10, 23)\n",
    "\n",
    "print(f + g)\n",
    "print(f * g)\n",
    "print(f - g)\n",
    "print(f / g)"
   ]
  },
  {
   "cell_type": "code",
   "execution_count": 153,
   "metadata": {},
   "outputs": [
    {
     "name": "stdout",
     "output_type": "stream",
     "text": [
      "(좌표는 50, 50, 50)\n",
      "(좌표는 400, 600, 600)\n",
      "(좌표는 30, 10, -10)\n",
      "(좌표는 4, 1, 0)\n"
     ]
    }
   ],
   "source": [
    "# 3차원 벡터를 클래스로 구현하시요.(연산자 오버로딩 +,-,*,/)\n",
    "class Vector:\n",
    "    def __init__(self, x, y, z):\n",
    "        self.x = x\n",
    "        self.y = y\n",
    "        self.z = z\n",
    "    def __repr__(self):\n",
    "        return \"(좌표는 %d, %d, %d)\" %(self.x, self.y, self.z)\n",
    "    \n",
    "    def __add__(self, other): # 연산자 +에 대한 overloading을 overidding으로 구현한 것\n",
    "        return Vector(self.x + other.x, self.y + other.y, self.z + other.z)\n",
    "    def __mul__(self, other): # 연산자 *에 대한 overloading을 overidding으로 구현한 것\n",
    "        return Vector(self.x * other.x, self.y * other.y, self.z * other.z)\n",
    "    def __sub__(self, other): # 연산자 -에 대한 overloading을 overidding으로 구현한 것\n",
    "        return Vector(self.x - other.x, self.y - other.y, self.z - other.z)\n",
    "    def __truediv__(self, other): # 연산자 /에 대한 overloading을 overidding으로 구현한 것\n",
    "        return Vector(self.x / other.x, self.y / other.y, self.z / other.z)\n",
    "    def dist(self):\n",
    "        return math.sqrt(self.x * self.x + self.y * self.y + self.z * self.z)\n",
    "    \n",
    "    # 정규화(normalization) 크기값이 1인 사이즈로 변경(반지름이 1인 사이즈)\n",
    "    def norm(self): # 방향만 바뀌어야지 크기까지 바뀌면 안되므로\n",
    "        dist = self.dist()\n",
    "        return self.x / dist, self.y / dist, self.z / dist\n",
    "    def dot(self, other):\n",
    "        return (self.x * other.x + self.y * other.y + self.z * other.z)\n",
    "    def theta(self, other):\n",
    "        dot = self.dot(other)\n",
    "        dist1 = self.dist()\n",
    "        dist2 = other.dist()\n",
    "        return math.acos(dot / (dist1 * dist2)) * (180 / math.pi) # radian => degree로 변경\n",
    "        # 변환과정이 필요하다.\n",
    "        # => 사람이 사용하는 degree입력(90) -> radian변환(math.pi/180) -> 계산 -> degree변환(180/math.pi)\n",
    "    \n",
    "vec1 = Vector(40, 30, 20)\n",
    "vec2 = Vector(10, 20, 30)\n",
    "print(vec1 + vec2)\n",
    "print(vec1 * vec2)\n",
    "print(vec1 - vec2)\n",
    "print(vec1 / vec2)"
   ]
  },
  {
   "cell_type": "code",
   "execution_count": 160,
   "metadata": {},
   "outputs": [
    {
     "name": "stdout",
     "output_type": "stream",
     "text": [
      "(좌표는 10, 0, 0)\n",
      "(좌표는 20, 0, 0)\n",
      "(좌표는 10, -27, 0)\n",
      "(좌표는 0, 0, 0)\n",
      "f벡터의 크기 =  10.0\n",
      "g벡터의 크기 =  27.0\n",
      "f의 normal vector =  (1.0, 0.0, 0.0)\n",
      "g의 normal vector =  (0.0, 1.0, 0.0)\n",
      "두 벡터 사이의 내적 =  0\n",
      "f와 g의 사이각 =  90.0\n"
     ]
    }
   ],
   "source": [
    "f = Vector(10, 0, 0)\n",
    "g = Vector(0, 27, 0)\n",
    "\n",
    "print(f)\n",
    "print(f+f)\n",
    "print(f-g)\n",
    "print(f*g)\n",
    "print(\"f벡터의 크기 = \", f.dist())\n",
    "print(\"g벡터의 크기 = \", g.dist())\n",
    "print(\"f의 normal vector = \", f.norm()) # (1.0, 0.0, 0.0)\n",
    "print(\"g의 normal vector = \", g.norm()) # (0.0, 1.0, 0.0)\n",
    "print(\"두 벡터 사이의 내적 = \", g.dot(f)) # 0 (*내적이 0이면 직교한다.(두 벡터는 90도))\n",
    "print(\"f와 g의 사이각 = \", f.theta(g))   # 90"
   ]
  },
  {
   "cell_type": "code",
   "execution_count": 165,
   "metadata": {},
   "outputs": [
    {
     "name": "stdout",
     "output_type": "stream",
     "text": [
      "a= [1, 2, 3]\n",
      "x= [[1, 2, 3], [4, 5, [1, 2, 3]], 100]\n",
      "y (cp_x)= [[1, 2, 3], [4, 5, [1, 2, 3]], 100]\n",
      "t (dcp_x)= [[1, 2, 3], [4, 5, [1, 2, 3]], 100]\n",
      "e (dcp_y)= [[1, 2, 3], [4, 5, [1, 2, 3]], 100]\n",
      "a.append(100)\n",
      "x= [[1, 2, 3, 100], [4, 5, [1, 2, 3, 100]], 100]\n",
      "y (cp_x)= [[1, 2, 3, 100], [4, 5, [1, 2, 3, 100]], 100]\n",
      "t (dcp_x)= [[1, 2, 3], [4, 5, [1, 2, 3]], 100]\n",
      "e (dcp_y)= [[1, 2, 3], [4, 5, [1, 2, 3]], 100]\n"
     ]
    }
   ],
   "source": [
    "import copy\n",
    "a = [1,2,3]\n",
    "b = [4,5,a]\n",
    "x = [a,b,100]\n",
    "y = copy.copy(x)     # 주소 복사\n",
    "t = copy.deepcopy(x) # 원래의 요소를 별도의 공간에 복사한 다음 주소 전달\n",
    "e = copy.deepcopy(y)\n",
    "print(\"a=\",a)\n",
    "print(\"x=\",x)\n",
    "print(\"y (cp_x)=\",y)\n",
    "print(\"t (dcp_x)=\",t)\n",
    "print(\"e (dcp_y)=\",e)\n",
    "a.append(100)\n",
    "print(\"a.append(100)\")\n",
    "print(\"x=\",x)\n",
    "print(\"y (cp_x)=\",y)\n",
    "print(\"t (dcp_x)=\",t)\n",
    "print(\"e (dcp_y)=\",e)"
   ]
  },
  {
   "cell_type": "code",
   "execution_count": 2,
   "metadata": {},
   "outputs": [],
   "source": [
    "# 이름, 국어, 수학, 영어를 관리하는 Student class를 작성하시요(1명분 관리)\n",
    "# - 총점과 평균도 계산해서 멤버변수에 저장\n",
    "class Student:\n",
    "    stCount = 0 # 학생 수 저장\n",
    "    \n",
    "    def __init__(self, name, kor, eng, math):\n",
    "        self.name = name\n",
    "        self.kor = eval(kor)\n",
    "        self.eng = eval(eng)\n",
    "        self.math = eval(math)\n",
    "        self.total = self.kor + self.eng + self.math\n",
    "        self.avg = self.total / 3\n",
    "        Student.stCount += 1\n"
   ]
  },
  {
   "cell_type": "code",
   "execution_count": 3,
   "metadata": {},
   "outputs": [
    {
     "name": "stdout",
     "output_type": "stream",
     "text": [
      "1.입력 2.출력 3.계산 4.종료 =>1\n",
      "이름 >>홍길동\n",
      "국어점수 >>70\n",
      "수학점수 >>80\n",
      "영어점수 >>60\n",
      "1.입력 2.출력 3.계산 4.종료 =>1\n",
      "이름 >>박또치\n",
      "국어점수 >>80\n",
      "수학점수 >>70\n",
      "영어점수 >>60\n",
      "1.입력 2.출력 3.계산 4.종료 =>1\n",
      "이름 >>도우너\n",
      "국어점수 >>80\n",
      "수학점수 >>70\n",
      "영어점수 >>80\n",
      "1.입력 2.출력 3.계산 4.종료 =>2\n",
      "이름: 홍길동, 국어: 70, 영어: 60, 수학: 80, 총점: 210, 평균: 70.0\n",
      "이름: 박또치, 국어: 80, 영어: 60, 수학: 70, 총점: 210, 평균: 70.0\n",
      "이름: 도우너, 국어: 80, 영어: 80, 수학: 70, 총점: 230, 평균: 76.66666666666667\n",
      "1.입력 2.출력 3.계산 4.종료 =>3\n",
      "총 학생수 : 3\n",
      "국어 반평균: 76.67, 영어 반평균: 66.67, 수학 반평균: 73.33\n",
      "1.입력 2.출력 3.계산 4.종료 =>4\n"
     ]
    }
   ],
   "source": [
    "def start():\n",
    "    students = []\n",
    "    while True:\n",
    "        choice = input(\"1.입력 2.출력 3.계산 4.종료 =>\")\n",
    "        \n",
    "        # 입력\n",
    "        if choice == \"1\":\n",
    "            name = input(\"이름 >>\")\n",
    "            kor = input(\"국어점수 >>\")\n",
    "            math = input(\"수학점수 >>\")\n",
    "            eng = input(\"영어점수 >>\")\n",
    "            student = Student(name, kor, eng, math)\n",
    "            students.append(student)\n",
    "        \n",
    "        # 출력\n",
    "        elif choice == \"2\":\n",
    "            for s in students:\n",
    "                print(\"이름: %s, 국어: %s, 영어: %s, 수학: %s, 총점: %s, 평균: %s\" % (s.name, s.kor, s.eng, s.math, s.total, s.avg))\n",
    "        \n",
    "        # 국어 영어 수학의 반평균 출력\n",
    "        elif choice == \"3\":\n",
    "            tot_kor = 0; tot_eng = 0; tot_math = 0\n",
    "            \n",
    "            for s in students:\n",
    "                tot_kor += s.kor\n",
    "                tot_eng += s.eng\n",
    "                tot_math += s.math\n",
    "                \n",
    "            avg_kor = round(tot_kor / len(students), 2)\n",
    "            avg_eng = round(tot_eng / len(students), 2)\n",
    "            avg_math = round(tot_math / len(students), 2)\n",
    "            \n",
    "            print(\"총 학생수 : %s\" % len(students))\n",
    "            print(\"국어 반평균: %s, 영어 반평균: %s, 수학 반평균: %s\" % (avg_kor, avg_eng, avg_math) )\n",
    "        \n",
    "        # 종료\n",
    "        elif choice == \"4\":\n",
    "            break\n",
    "            \n",
    "start()"
   ]
  },
  {
   "cell_type": "code",
   "execution_count": 1,
   "metadata": {},
   "outputs": [],
   "source": [
    "# 2개로 분리된 Class\n",
    "# - Class_1 : 기본적인 데이터를 저장\n",
    "# - Class_2 : Management(입력, 출력, 검색, 수정 등)\n",
    "# - Menu 함수\n",
    "import sys\n",
    "class Student:\n",
    "    def __init__(self):\n",
    "        self.bunho = 0; self.name = \"\";\n",
    "        self.kor = 0; self.math = 0; self.eng = 0;\n",
    "        self.total = 0; self.avg = 0; self.grade = \"\"\n",
    "    def inputData(self):\n",
    "        self.name = input(\"이름      >> \")\n",
    "        self.kor  = eval(input(\"국어 점수 >> \"))\n",
    "        self.math = eval(input(\"수학 점수 >> \"))\n",
    "        self.eng  = eval(input(\"영어 점수 >> \"))\n",
    "    def calc_total_avg(self):\n",
    "        self.total= self.kor + self.math + self.eng\n",
    "        self.avg = round(self.total / 3, 2)\n",
    "        self.grade = self.calcSemGrade()\n",
    "    def calcSemGrade(self):\n",
    "        if self.avg   >= 90: return \"A\"\n",
    "        elif self.avg >= 80: return \"B\"\n",
    "        elif self.avg >= 70: return \"C\"\n",
    "        elif self.avg >= 60: return \"D\"\n",
    "        else:                return \"F\"\n",
    "    def __str__(self):\n",
    "        return \"%5s  %5s  %6.2f  %6.2f  %6.2f  %7.2f  %7.2f  %5s\" % (self.bunho, self.name, self.kor, self.math, self.eng, self.total, self.avg, self.grade)\n",
    "    def __cmp__(self, other):\n",
    "        return self.name == other.name\n",
    "                        "
   ]
  },
  {
   "cell_type": "code",
   "execution_count": 2,
   "metadata": {},
   "outputs": [],
   "source": [
    "class Management:\n",
    "    schoolName = \"제주 아카데미\"\n",
    "    bunho = 0\n",
    "    \n",
    "    def __init__(self, count):\n",
    "        print(\"메뉴를 선택하시오.\")\n",
    "        self.sungjuk = []\n",
    "        self.count = count\n",
    "        \n",
    "    def input(self):\n",
    "        for co_in in range(self.count):\n",
    "            s = Student()\n",
    "            s.inputData()\n",
    "            # 학생번호를 자동 증가입력 하기 위해 class변수로 선언\n",
    "            Management.bunho += 1\n",
    "            s.bunho = Management.bunho\n",
    "            self.sungjuk.append(s)\n",
    "            \n",
    "    def print_sungjuk(self):\n",
    "        for per in self.sungjuk:\n",
    "            print(per)\n",
    "            print()\n",
    "    def calc_sungjuk(self):\n",
    "        for per in self.sungjuk:\n",
    "            per.calc_total_avg()\n",
    "            \n",
    "    # 검색\n",
    "    def search_name(self):\n",
    "        name = input(\"검색할 학생 이름을 입력하세요 >> \")\n",
    "        for per in self.sungjuk:\n",
    "            if(per.name == name) :\n",
    "                print(per)\n",
    "                return\n",
    "        print(\"검색하고자 하는 학생이 없습니다.\")\n",
    "        return\n",
    "    \n",
    "    # 이름 수정\n",
    "    def update_name(self):\n",
    "        old_name = input(\"수정하고자 하는 학생 이름을 입력하세요 >> \")\n",
    "        new_name = input(\"수정될 이름을 입력하세요 >> \")\n",
    "        for per in self.sungjuk:\n",
    "            if(per.name == old_name):\n",
    "                per.name = new_name\n",
    "                \n",
    "    # 이름 삭제(6)\n",
    "    def delete_name(self):\n",
    "        name = input(\"삭제하고자 하는 학생 이름을 입력하세요 >> \")\n",
    "        \n",
    "        while True:\n",
    "            delCnt = 0\n",
    "            for per in self.sungjuk:\n",
    "                if(per.name == name):\n",
    "                    self.sungjuk.remove(per)\n",
    "                    delCnt += 1\n",
    "            if delCnt == 0: break\n",
    "    # 정렬(8)\n",
    "    def sort_avg(self):\n",
    "        self.sungjuk.sort(key = lambda x: x.avg, reverse = True)\n",
    "        self.print_sungjuk()"
   ]
  },
  {
   "cell_type": "code",
   "execution_count": 3,
   "metadata": {},
   "outputs": [
    {
     "name": "stdout",
     "output_type": "stream",
     "text": [
      "메뉴를 선택하시오.\n",
      "['입력(1)', '출력(2)', '계산(3)', '검색(4)', '이름수정(5)', '이름삭제(6)', '이름삭제(7)', '정렬(8)', '종료(9)']1\n",
      "이름      >> 홍길동\n",
      "국어 점수 >> 10\n",
      "수학 점수 >> 20\n",
      "영어 점수 >> 30\n",
      "이름      >> 최둘리\n",
      "국어 점수 >> 80\n",
      "수학 점수 >> 70\n",
      "영어 점수 >> 80\n",
      "이름      >> 박또치\n",
      "국어 점수 >> 80\n",
      "수학 점수 >> 70\n",
      "영어 점수 >> 66\n",
      "['입력(1)', '출력(2)', '계산(3)', '검색(4)', '이름수정(5)', '이름삭제(6)', '이름삭제(7)', '정렬(8)', '종료(9)']2\n",
      "제주 아카데미 성적 계산표\n",
      "  번 호   이 름    국 어    수 학    영 어     총 점     평 균   학 점\n",
      "    1    홍길동   10.00   20.00   30.00     0.00     0.00       \n",
      "\n",
      "    2    최둘리   80.00   70.00   80.00     0.00     0.00       \n",
      "\n",
      "    3    박또치   80.00   70.00   66.00     0.00     0.00       \n",
      "\n",
      "['입력(1)', '출력(2)', '계산(3)', '검색(4)', '이름수정(5)', '이름삭제(6)', '이름삭제(7)', '정렬(8)', '종료(9)']3\n",
      "계산이 완료되었습니다. - 확인하려면 출력해보세요~\n",
      "['입력(1)', '출력(2)', '계산(3)', '검색(4)', '이름수정(5)', '이름삭제(6)', '이름삭제(7)', '정렬(8)', '종료(9)']2\n",
      "제주 아카데미 성적 계산표\n",
      "  번 호   이 름    국 어    수 학    영 어     총 점     평 균   학 점\n",
      "    1    홍길동   10.00   20.00   30.00    60.00    20.00      F\n",
      "\n",
      "    2    최둘리   80.00   70.00   80.00   230.00    76.67      C\n",
      "\n",
      "    3    박또치   80.00   70.00   66.00   216.00    72.00      C\n",
      "\n",
      "['입력(1)', '출력(2)', '계산(3)', '검색(4)', '이름수정(5)', '이름삭제(6)', '이름삭제(7)', '정렬(8)', '종료(9)']8\n",
      "    2    최둘리   80.00   70.00   80.00   230.00    76.67      C\n",
      "\n",
      "    3    박또치   80.00   70.00   66.00   216.00    72.00      C\n",
      "\n",
      "    1    홍길동   10.00   20.00   30.00    60.00    20.00      F\n",
      "\n",
      "['입력(1)', '출력(2)', '계산(3)', '검색(4)', '이름수정(5)', '이름삭제(6)', '이름삭제(7)', '정렬(8)', '종료(9)']9\n"
     ]
    }
   ],
   "source": [
    "sj = [\"번호\", \"이름\", \"국어\", \"수학\", \"영어\", \"총점\", \"평균\", \"학점\"]\n",
    "menu = [\"입력(1)\", \"출력(2)\", \"계산(3)\", \"검색(4)\", \"이름수정(5)\", \"이름삭제(6)\", \"이름삭제(7)\", \"정렬(8)\", \"종료(9)\"]\n",
    "man_sung = Management(3)\n",
    "while 1:\n",
    "    sel = input(menu)\n",
    "    \n",
    "    if sel == \"1\":\n",
    "        man_sung.input()\n",
    "        continue\n",
    "    elif sel == \"2\":\n",
    "        print(Management.schoolName + \" 성적 계산표\")\n",
    "        print(\"%5s %5s %6s %6s %6s %7s %7s %5s\" %(\"번 호\", \"이 름\", \"국 어\", \"수 학\", \"영 어\", \"총 점\", \"평 균\", \"학 점\"))\n",
    "        man_sung.print_sungjuk()\n",
    "        continue\n",
    "    elif sel == \"3\":\n",
    "        man_sung.calc_sungjuk()\n",
    "        print(\"계산이 완료되었습니다. - 확인하려면 출력해보세요~\")\n",
    "        continue\n",
    "    elif sel == \"4\":\n",
    "        man_sung.search_name()\n",
    "        continue\n",
    "    # 이름 수정\n",
    "    elif sel == \"5\":\n",
    "        man_sung.update_name()\n",
    "        continue\n",
    "    # 이름 삭제\n",
    "    elif sel == \"6\":\n",
    "        man_sung.delete_name()\n",
    "        continue\n",
    "    elif sel == \"8\":\n",
    "        man_sung.sort_avg()\n",
    "        continue\n",
    "    elif sel == \"9\":\n",
    "        break\n",
    "    else:\n",
    "        print(\"잘못된 입력입니다. 다시 입력하시요.\")\n",
    "        continue"
   ]
  },
  {
   "cell_type": "code",
   "execution_count": null,
   "metadata": {},
   "outputs": [],
   "source": []
  }
 ],
 "metadata": {
  "kernelspec": {
   "display_name": "Python 3",
   "language": "python",
   "name": "python3"
  },
  "language_info": {
   "codemirror_mode": {
    "name": "ipython",
    "version": 3
   },
   "file_extension": ".py",
   "mimetype": "text/x-python",
   "name": "python",
   "nbconvert_exporter": "python",
   "pygments_lexer": "ipython3",
   "version": "3.7.4"
  }
 },
 "nbformat": 4,
 "nbformat_minor": 2
}
