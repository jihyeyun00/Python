{
 "cells": [
  {
   "cell_type": "code",
   "execution_count": 11,
   "metadata": {},
   "outputs": [
    {
     "name": "stdout",
     "output_type": "stream",
     "text": [
      "시작\n",
      "1,2,3,\n",
      "1,2,3,4,5,\n",
      "시작\n",
      "1,3,2,\n",
      "1,2,3,4,5,\n"
     ]
    }
   ],
   "source": [
    "def func1(*args): #list \n",
    "    for i in args:\n",
    "        print(i, end=',')\n",
    "    print()\n",
    "print('시작')\n",
    "func1(1,2,3)\n",
    "func1(1,2,3,4,5)\n",
    "\n",
    "def func1(*args):\n",
    "    for i in args:\n",
    "        print(i, end=\",\")\n",
    "    print()\n",
    "print('시작')\n",
    "func1(1,3,2)\n",
    "func1(1,2,3,4,5)"
   ]
  },
  {
   "cell_type": "code",
   "execution_count": 10,
   "metadata": {},
   "outputs": [
    {
     "name": "stdout",
     "output_type": "stream",
     "text": [
      "7\n"
     ]
    }
   ],
   "source": [
    "#def add_many(*args): \n",
    "#    result = 0 \n",
    "#    for i in args: \n",
    "#        result = result + i \n",
    "#    return result \n",
    "#\n",
    "#result = add_many(1,2,3)\n",
    "#print(result)\n",
    "#\n",
    "#result = add_many(1,2,3,4,5,6,7,8,9,10)\n",
    "#print(result)\n",
    "#\n",
    "\n",
    "def a(*b):\n",
    "    result=1\n",
    "    for i in b:\n",
    "        result=result+i\n",
    "    return result\n",
    "\n",
    "result=a(1,2,3)\n",
    "print(result)"
   ]
  }
 ],
 "metadata": {
  "kernelspec": {
   "display_name": "Python 3",
   "language": "python",
   "name": "python3"
  },
  "language_info": {
   "codemirror_mode": {
    "name": "ipython",
    "version": 3
   },
   "file_extension": ".py",
   "mimetype": "text/x-python",
   "name": "python",
   "nbconvert_exporter": "python",
   "pygments_lexer": "ipython3",
   "version": "3.7.4"
  }
 },
 "nbformat": 4,
 "nbformat_minor": 2
}
