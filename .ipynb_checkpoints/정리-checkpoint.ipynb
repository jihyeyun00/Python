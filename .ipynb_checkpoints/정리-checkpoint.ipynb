{
 "cells": [
  {
   "cell_type": "markdown",
   "metadata": {},
   "source": [
    "# 소프트맥스 함수\n",
    "softmax함수는 k개의 값이 존재할때 각각의 값의 편차를 확대시켜 \n",
    "큰값은 상대적으로 더 크게, 작은 값은 상대적으로 더 작게 만든 다음에 normalization 시키는 함수\n",
    "(지수함수를 이용한다:지수함수 그래프를 생각해보면 입력값이 커질수록 가하급수적으로 출력값이 커짐,총합은 1이 됨)"
   ]
  },
  {
   "cell_type": "markdown",
   "metadata": {},
   "source": [
    "# 시그모이드 함수\n",
    "로지스틱 회귀분석 또는 neural network의 binary classfication 마지막 레이어의 활성함수로 사용하는 시그모이드\n",
    "데이터를 두 개의 그룹으로 분류하는 문제에서 가장 기본적인 방법은 로지스틱 회귀분석이다\n",
    "\n",
    "(단순선형회귀분석(독립변수가 1개)은 목표가 실수값예측이기때문에y=wx+b를 이용하여 예측한다.하지만 로지스틱회귀분석에서는 종속변수가 0또는 1이기 때문에 y=wx+b 를 이용해서 예측하는 것은 의미가 없다. \n",
    "그래서 x데이터가 주어졌을 때, 성공또는 실패(0또는 1)의 로지스틱 회귀분석을 잘 설명하는 시그모이드 함수의 w와 b를 찾는 문제(0.5를 기준으로 ))"
   ]
  },
  {
   "cell_type": "code",
   "execution_count": null,
   "metadata": {},
   "outputs": [],
   "source": [
    "오버피팅을 줄이는 방법(변수가 많으면 (깊게 하면) 오버피팅될 가능성이 많다)\n",
    "-트레이닝데이터를 더 많이\n",
    "-피쳐의 개수를 줄여\n",
    "-일반화(regularization):가중치(선,클수록구부러짐)를 구부리지 말고 펴\n"
   ]
  },
  {
   "cell_type": "code",
   "execution_count": null,
   "metadata": {},
   "outputs": [],
   "source": []
  },
  {
   "cell_type": "code",
   "execution_count": null,
   "metadata": {},
   "outputs": [],
   "source": []
  }
 ],
 "metadata": {
  "kernelspec": {
   "display_name": "Python 3",
   "language": "python",
   "name": "python3"
  },
  "language_info": {
   "codemirror_mode": {
    "name": "ipython",
    "version": 3
   },
   "file_extension": ".py",
   "mimetype": "text/x-python",
   "name": "python",
   "nbconvert_exporter": "python",
   "pygments_lexer": "ipython3",
   "version": "3.7.4"
  }
 },
 "nbformat": 4,
 "nbformat_minor": 2
}
