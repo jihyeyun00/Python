{
 "cells": [
  {
   "cell_type": "code",
   "execution_count": 5,
   "metadata": {},
   "outputs": [
    {
     "name": "stdout",
     "output_type": "stream",
     "text": [
      "e- Base\n",
      "e- ['B', 'a', 's', 'e']\n"
     ]
    }
   ],
   "source": [
    "e=[1000,10000,['Ace','Base','Captine']]\n",
    "print('e-',e[-1][1]) #문자열\n",
    "print('e-',list(e[-1][1])) #list 열"
   ]
  },
  {
   "cell_type": "code",
   "execution_count": null,
   "metadata": {},
   "outputs": [],
   "source": [
    "#반복문"
   ]
  },
  {
   "cell_type": "code",
   "execution_count": 6,
   "metadata": {},
   "outputs": [
    {
     "name": "stdout",
     "output_type": "stream",
     "text": [
      "7 2 4\n",
      "3 8\n"
     ]
    }
   ],
   "source": [
    "num1=6\n",
    "num1+=1\n",
    "num2=7\n",
    "num2-=5\n",
    "num3=8\n",
    "num3/=2\n",
    "print(num1,num2,round(num3))\n",
    "\n",
    "num1=1\n",
    "num1*=3\n",
    "num2=2\n",
    "num2**=3   #2의 3승 \n",
    "print(num1,num2)"
   ]
  },
  {
   "cell_type": "code",
   "execution_count": 14,
   "metadata": {},
   "outputs": [
    {
     "name": "stdout",
     "output_type": "stream",
     "text": [
      "Non-negative\n"
     ]
    },
    {
     "data": {
      "text/plain": [
       "str"
      ]
     },
     "execution_count": 14,
     "metadata": {},
     "output_type": "execute_result"
    }
   ],
   "source": [
    "#3항 연산자\n",
    "x=5\n",
    "ans='Non-negative' if x >=0 else \"Negative\" \n",
    "print(ans) #문자열 str\n",
    "type(ans)"
   ]
  },
  {
   "cell_type": "code",
   "execution_count": 3,
   "metadata": {},
   "outputs": [
    {
     "name": "stdout",
     "output_type": "stream",
     "text": [
      "empty city\n"
     ]
    }
   ],
   "source": [
    "city=\" \"     #문자열 거짓, 공백도 문자열, 숫자:(), list:[], dict{},tuple 의 거짓:() #?\n",
    "if city:   #조건이 참인 경우만 실행 \n",
    "    print('empty city')"
   ]
  },
  {
   "cell_type": "code",
   "execution_count": 6,
   "metadata": {},
   "outputs": [
    {
     "name": "stdout",
     "output_type": "stream",
     "text": [
      "2019-12-26 11:03:19.193270\n",
      "\n",
      "생년월일(19951031)을 입력하시오19870313\n",
      "당신의 나이는  33\n",
      "당신은 미성년자가 아닙니다.\n"
     ]
    }
   ],
   "source": [
    "#날짜의 입력은 문자열\n",
    "#특수하게 해석해서 년월일로 해석\n",
    "\n",
    "import datetime\n",
    "df=datetime.datetime.now()\n",
    "print(df)\n",
    "print()\n",
    "#데이터 입력\n",
    "age=input(\"생년월일(19951031)을 입력하시오\")\n",
    "#데이터 처리\n",
    "year=int(age[0:4])\n",
    "month=int(age[4:6])\n",
    "day=int(age[6:])\n",
    "year_diff=df.year-year\n",
    "month_diff=df.month-month\n",
    "day_diff=df.day-day\n",
    "#빼기연산 \n",
    "#분산:상게방지(제곱)\n",
    "if day_diff<0:\n",
    "          month_diff-=1\n",
    "if month_diff<0:\n",
    "          year_diff-=1\n",
    "print(\"당신의 나이는 \",year_diff+1)\n",
    "#데이터출력\n",
    "if year_diff<18:\n",
    "    print(\"당신은 미성년자 입니다.\")\n",
    "else :\n",
    "    print(\"당신은 미성년자가 아닙니다.\")"
   ]
  },
  {
   "cell_type": "code",
   "execution_count": null,
   "metadata": {},
   "outputs": [],
   "source": [
    "#데이터입력->처리(연산자),제어문(판단문,한가지규칙을 여러데이터에 적용:반복문)"
   ]
  },
  {
   "cell_type": "code",
   "execution_count": null,
   "metadata": {},
   "outputs": [],
   "source": [
    "#for\n",
    "#for(i=0; i<100; i++)->이전에 for문 사용방식:인덱스오버플로우 문제 ?\n",
    "#for in문"
   ]
  },
  {
   "cell_type": "code",
   "execution_count": 10,
   "metadata": {},
   "outputs": [
    {
     "name": "stdout",
     "output_type": "stream",
     "text": [
      "earth air fire water "
     ]
    }
   ],
   "source": [
    "#데이터를 이용하는 방법\n",
    "elements=[\"earth\",\"air\",\"fire\",'water']\n",
    "for i in elements:  #in =문 뒤에 올수 있는것 =Coㅣlection, Literator,  Generator, Enumerate\n",
    "    print(i,end=\" \") #\\n end\" \"하면 한줄로 나옴 "
   ]
  },
  {
   "cell_type": "code",
   "execution_count": null,
   "metadata": {
    "collapsed": true
   },
   "outputs": [],
   "source": [
    "#collection,:list , tuple, dict, set\n",
    "#litrator:range (i=0; i<100; i++) 와 같은 방법으로 사용[형식:(start:end:step)]\n",
    "#generator:데이터 생성, 메로리를 차지하지않음\n",
    "#enumerate:매핑을 해줌:(0:earth, 1:air, 2:fire)"
   ]
  },
  {
   "cell_type": "code",
   "execution_count": 11,
   "metadata": {},
   "outputs": [
    {
     "name": "stdout",
     "output_type": "stream",
     "text": [
      "0\n",
      "1\n",
      "2\n",
      "3\n",
      "4\n"
     ]
    }
   ],
   "source": [
    "for i in range(5): #최종값\n",
    "    print(i)"
   ]
  },
  {
   "cell_type": "code",
   "execution_count": 12,
   "metadata": {},
   "outputs": [
    {
     "name": "stdout",
     "output_type": "stream",
     "text": [
      "2\n",
      "3\n",
      "4\n"
     ]
    }
   ],
   "source": [
    "#파이선은 오버로딩이 없음\n",
    "for i in range(2,5):\n",
    "    print(i)"
   ]
  },
  {
   "cell_type": "code",
   "execution_count": 13,
   "metadata": {},
   "outputs": [
    {
     "name": "stdout",
     "output_type": "stream",
     "text": [
      "0\n",
      "2\n",
      "4\n",
      "6\n",
      "8\n"
     ]
    }
   ],
   "source": [
    "for i in range(0,10,2):# start , end, step \n",
    "    print(i)"
   ]
  },
  {
   "cell_type": "code",
   "execution_count": 14,
   "metadata": {},
   "outputs": [
    {
     "name": "stdout",
     "output_type": "stream",
     "text": [
      "0\n",
      "earth\n",
      "1\n",
      "air\n",
      "2\n",
      "fire\n",
      "3\n",
      "water\n"
     ]
    }
   ],
   "source": [
    "#인덱스를 이용하는 방법\n",
    "for i in range(4): #0,1,2,3\n",
    "    print(i)\n",
    "    print(elements[i])"
   ]
  },
  {
   "cell_type": "code",
   "execution_count": 18,
   "metadata": {},
   "outputs": [
    {
     "name": "stdout",
     "output_type": "stream",
     "text": [
      "<range_iterator object at 0x00000245518C6710>\n",
      "[3, 2, 1, 0]\n"
     ]
    }
   ],
   "source": [
    "#range는 객체(ovject)다. for in 문 에 들어갈때 제대로 작동\n",
    "ra=reversed(range(4))\n",
    "print(ra) \n",
    "print(list(ra)) #리스트로 캐스팅"
   ]
  },
  {
   "cell_type": "code",
   "execution_count": 19,
   "metadata": {},
   "outputs": [
    {
     "name": "stdout",
     "output_type": "stream",
     "text": [
      "[5, 4, 3, 2, 1, 0]\n"
     ]
    }
   ],
   "source": [
    "print(list(range(5,-1,-1)))"
   ]
  },
  {
   "cell_type": "code",
   "execution_count": 21,
   "metadata": {},
   "outputs": [
    {
     "name": "stdout",
     "output_type": "stream",
     "text": [
      "55\n"
     ]
    }
   ],
   "source": [
    "#증가변수, 누적변수 \n",
    "sum=0\n",
    "for x in range(1,11):\n",
    "    #sum=sum+x\n",
    "    sum+=x\n",
    "print(sum)"
   ]
  },
  {
   "cell_type": "code",
   "execution_count": 24,
   "metadata": {},
   "outputs": [
    {
     "name": "stdout",
     "output_type": "stream",
     "text": [
      "\n",
      "2 * 2 = 4    2 * 3 = 6    2 * 4 = 8    2 * 5 = 10    2 * 6 = 12    2 * 7 = 14    2 * 8 = 16    2 * 9 = 18    \n",
      "3 * 2 = 6    3 * 3 = 9    3 * 4 = 12    3 * 5 = 15    3 * 6 = 18    3 * 7 = 21    3 * 8 = 24    3 * 9 = 27    "
     ]
    }
   ],
   "source": [
    "#중첩된 for 문\n",
    "for x in range(2,4):\n",
    "    print()\n",
    "    for y in range(2,10):\n",
    "        print(x, \"*\", y, '=', x*y, end=\"    \")"
   ]
  },
  {
   "cell_type": "code",
   "execution_count": 33,
   "metadata": {},
   "outputs": [
    {
     "name": "stdout",
     "output_type": "stream",
     "text": [
      "\n",
      "2 * 2 = 4 \t    3 * 2 = 6 \t    4 * 2 = 8 \t    5 * 2 = 10 \t    6 * 2 = 12 \t    7 * 2 = 14 \t    8 * 2 = 16 \t    9 * 2 = 18 \t    \n",
      "2 * 3 = 6 \t    3 * 3 = 9 \t    4 * 3 = 12 \t    5 * 3 = 15 \t    6 * 3 = 18 \t    7 * 3 = 21 \t    8 * 3 = 24 \t    9 * 3 = 27 \t    \n",
      "2 * 4 = 8 \t    3 * 4 = 12 \t    4 * 4 = 16 \t    5 * 4 = 20 \t    6 * 4 = 24 \t    7 * 4 = 28 \t    8 * 4 = 32 \t    9 * 4 = 36 \t    \n",
      "2 * 5 = 10 \t    3 * 5 = 15 \t    4 * 5 = 20 \t    5 * 5 = 25 \t    6 * 5 = 30 \t    7 * 5 = 35 \t    8 * 5 = 40 \t    9 * 5 = 45 \t    \n",
      "2 * 6 = 12 \t    3 * 6 = 18 \t    4 * 6 = 24 \t    5 * 6 = 30 \t    6 * 6 = 36 \t    7 * 6 = 42 \t    8 * 6 = 48 \t    9 * 6 = 54 \t    \n",
      "2 * 7 = 14 \t    3 * 7 = 21 \t    4 * 7 = 28 \t    5 * 7 = 35 \t    6 * 7 = 42 \t    7 * 7 = 49 \t    8 * 7 = 56 \t    9 * 7 = 63 \t    \n",
      "2 * 8 = 16 \t    3 * 8 = 24 \t    4 * 8 = 32 \t    5 * 8 = 40 \t    6 * 8 = 48 \t    7 * 8 = 56 \t    8 * 8 = 64 \t    9 * 8 = 72 \t    \n",
      "2 * 9 = 18 \t    3 * 9 = 27 \t    4 * 9 = 36 \t    5 * 9 = 45 \t    6 * 9 = 54 \t    7 * 9 = 63 \t    8 * 9 = 72 \t    9 * 9 = 81 \t    "
     ]
    }
   ],
   "source": [
    "for x in range(2,10):\n",
    "    print()\n",
    "    for y in range(2,10):\n",
    "        print(y, \"*\", x, '=', x*y, \"\\t\", end=\"    \") #x y 순서 바꿈 , 가로로 출력되는것 "
   ]
  },
  {
   "cell_type": "code",
   "execution_count": 35,
   "metadata": {},
   "outputs": [
    {
     "data": {
      "text/plain": [
       "[0, 1, 2, 3, 4, 5, 6, 7, 8, 9]"
      ]
     },
     "execution_count": 35,
     "metadata": {},
     "output_type": "execute_result"
    }
   ],
   "source": [
    "#내장리스트:동적으로 데이터 생성\n",
    "[i for i in range(10)]"
   ]
  },
  {
   "cell_type": "code",
   "execution_count": 46,
   "metadata": {},
   "outputs": [
    {
     "data": {
      "text/plain": [
       "{0: 0, 1: 1, 2: 8, 3: 27, 4: 64, 5: 125, 6: 216, 7: 343, 8: 512, 9: 729}"
      ]
     },
     "execution_count": 46,
     "metadata": {},
     "output_type": "execute_result"
    }
   ],
   "source": [
    "{i: i**3 for i in range(10)} #dict  **는 제곱"
   ]
  },
  {
   "cell_type": "code",
   "execution_count": 48,
   "metadata": {},
   "outputs": [
    {
     "data": {
      "text/plain": [
       "[0, 4, 16, 36, 64]"
      ]
     },
     "execution_count": 48,
     "metadata": {},
     "output_type": "execute_result"
    }
   ],
   "source": [
    "[i**2 for i in range(10) if i%2==0] #list 는 value값만 나옴 "
   ]
  },
  {
   "cell_type": "code",
   "execution_count": 41,
   "metadata": {},
   "outputs": [
    {
     "data": {
      "text/plain": [
       "[(1, 10),\n",
       " (1, 11),\n",
       " (1, 12),\n",
       " (1, 13),\n",
       " (1, 14),\n",
       " (2, 10),\n",
       " (2, 11),\n",
       " (2, 12),\n",
       " (2, 13),\n",
       " (2, 14),\n",
       " (3, 10),\n",
       " (3, 11),\n",
       " (3, 12),\n",
       " (3, 13),\n",
       " (3, 14),\n",
       " (4, 10),\n",
       " (4, 11),\n",
       " (4, 12),\n",
       " (4, 13),\n",
       " (4, 14)]"
      ]
     },
     "execution_count": 41,
     "metadata": {},
     "output_type": "execute_result"
    }
   ],
   "source": [
    "#for i in rows:  ?\n",
    "#    for c in cols:\n",
    "#       (r, c)\n",
    "\n",
    "rows = range(1,5)\n",
    "cols = range(10,15)\n",
    "vectors = [(r,c) for r in rows for c in cols]\n",
    "vectors"
   ]
  },
  {
   "cell_type": "code",
   "execution_count": 43,
   "metadata": {},
   "outputs": [
    {
     "data": {
      "text/plain": [
       "[1,\n",
       " 2,\n",
       " '3의 배수',\n",
       " 4,\n",
       " '5의 배수 ',\n",
       " '3의 배수',\n",
       " 7,\n",
       " 8,\n",
       " '3의 배수',\n",
       " '5의 배수 ',\n",
       " 11,\n",
       " '3의 배수',\n",
       " 13,\n",
       " 14,\n",
       " '3의 배수5의 배수 ',\n",
       " 16,\n",
       " 17,\n",
       " '3의 배수',\n",
       " 19,\n",
       " '5의 배수 ']"
      ]
     },
     "execution_count": 43,
     "metadata": {},
     "output_type": "execute_result"
    }
   ],
   "source": [
    "#문자열 연산자 +, *(반복)  \n",
    "#앞이 참이면 뒤의 것은 계산하지 않음\n",
    "#True ==1, false==0\n",
    "[\"3의 배수\"* (i%3==0) + \"5의 배수 \"* (i% 5==0) or i for i in range(1,21)]\n",
    "[(\"3의 배수\"* (i%3==0) + \"5의 배수 \"* (i% 5==0) or i) for i in range(1,21)]"
   ]
  },
  {
   "cell_type": "code",
   "execution_count": 10,
   "metadata": {},
   "outputs": [
    {
     "name": "stdout",
     "output_type": "stream",
     "text": [
      "점수입력: 0\n"
     ]
    }
   ],
   "source": [
    "#점수를 입력 받아 A,B,C,D,F 학점으로 출력하시오 (점수를 학점으로 mapping)\n",
    "while True :#무한 루프\n",
    "    print('점수입력:', end=\" \")\n",
    "    jumsu=int(input())\n",
    "    if jumsu==0:#무한루프의 경우 종료조건 지정\n",
    "        break #반복문 종료명령\n",
    "    if jumsu>=90:print('A')\n",
    "    elif jumsu>=80:print(\"B\")\n",
    "    elif jumsu>=80:print(\"C\")\n",
    "    elif jumsu>=80:print(\"D\")\n",
    "    else:print(\"F\")"
   ]
  },
  {
   "cell_type": "code",
   "execution_count": 4,
   "metadata": {},
   "outputs": [
    {
     "name": "stdout",
     "output_type": "stream",
     "text": [
      "번호를 입력하시오:1\n",
      "이름을 입력하시오:1\n",
      "국어 점수 입력:1\n",
      "영어 점수 입력:1\n",
      "수학 점수 입력:1\n",
      "번호를 입력하시오:2\n",
      "이름을 입력하시오:2\n",
      "국어 점수 입력:2\n",
      "영어 점수 입력:2\n",
      "수학 점수 입력:2\n",
      "번호를 입력하시오:3\n",
      "이름을 입력하시오:3\n",
      "국어 점수 입력:3\n",
      "영어 점수 입력:3\n",
      "수학 점수 입력:3\n",
      "[['1', '1', '1', '1', '1'], ['2', '2', '2', '2', '2'], ['3', '3', '3', '3', '3']]\n"
     ]
    }
   ],
   "source": [
    "#번호이름 국어 영어 수학 점수를 입력하는 프로그램 작성 (3명분)\n",
    "#2차원 리스트\n",
    "final=[] \n",
    "\n",
    "for i in range(3):\n",
    "    sungjuk=[]  #주소장\n",
    "    num=input(\"번호를 입력하시오:\")\n",
    "    name=input(\"이름을 입력하시오:\")\n",
    "    kor=input(\"국어 점수 입력:\")\n",
    "    eng=input(\"영어 점수 입력:\")\n",
    "    math=input(\"수학 점수 입력:\")\n",
    "    \n",
    "    sungjuk.append(num)\n",
    "    sungjuk.append(name)\n",
    "    sungjuk.append(kor)\n",
    "    sungjuk.append(eng)\n",
    "    sungjuk.append(math)\n",
    "    final.append(sungjuk)\n",
    "print(final)"
   ]
  },
  {
   "cell_type": "code",
   "execution_count": 8,
   "metadata": {},
   "outputs": [
    {
     "name": "stdout",
     "output_type": "stream",
     "text": [
      "번호를 입력하시오:1\n",
      "이름을 입력하시오:1\n",
      "국어 점수 입력:1\n",
      "영어 점수 입력:1\n",
      "수학 점수 입력:1\n",
      "번호를 입력하시오:2\n",
      "이름을 입력하시오:2\n",
      "국어 점수 입력:2\n",
      "영어 점수 입력:2\n",
      "수학 점수 입력:2\n",
      "번호를 입력하시오:3\n",
      "이름을 입력하시오:3\n",
      "국어 점수 입력:33\n",
      "영어 점수 입력:33\n",
      "수학 점수 입력:55\n",
      "[['1', '1', 1, 1, 1, 3, 1.0], ['2', '2', 2, 2, 2, 6, 2.0], ['3', '3', 33, 33, 55, 121, 40.33]]\n"
     ]
    }
   ],
   "source": [
    "#문제: 합계와 평균을 구해서 추가시켜 보시오. \n",
    "#평균은 소수점 3째 자리에서 반올림하고 2째자리까지 표현하시오.\n",
    "final=[] \n",
    "\n",
    "for i in range(3):\n",
    "    sungjuk=[]  #주소장\n",
    "    num=input(\"번호를 입력하시오:\")\n",
    "    name=input(\"이름을 입력하시오:\")\n",
    "    kor=int(input(\"국어 점수 입력:\"))\n",
    "    eng=int(input(\"영어 점수 입력:\"))\n",
    "    math=int(input(\"수학 점수 입력:\"))\n",
    "    \n",
    "    hab=kor+eng+math\n",
    "    avg=round(hab/3, 2)\n",
    "    \n",
    "    #순서가 있는 자료구조\n",
    "    sungjuk.append(num)\n",
    "    sungjuk.append(name)\n",
    "    sungjuk.append(kor)\n",
    "    sungjuk.append(eng)\n",
    "    sungjuk.append(math)\n",
    "    sungjuk.append(hab)\n",
    "    sungjuk.append(avg)\n",
    "    final.append(sungjuk)\n",
    "print(final)\n"
   ]
  },
  {
   "cell_type": "code",
   "execution_count": 26,
   "metadata": {},
   "outputs": [
    {
     "name": "stdout",
     "output_type": "stream",
     "text": [
      "번호를 입력하시오:1\n",
      "이름을 입력하시오:윤지혜]\n",
      "국어 점수 입력:85\n",
      "영어 점수 입력:90\n",
      "수학 점수 입력:75\n",
      "번호를 입력하시오:2\n",
      "이름을 입력하시오:김호경\n",
      "국어 점수 입력:95\n",
      "영어 점수 입력:10\n",
      "수학 점수 입력:100\n",
      "번호를 입력하시오:3\n",
      "이름을 입력하시오:홍길동\n",
      "국어 점수 입력:70\n",
      "영어 점수 입력:3\n",
      "수학 점수 입력:85\n",
      "[['1', '윤지혜]', 85, 90, 75, 250, 83.33, 'B'], ['2', '김호경', 95, 10, 100, 205, 68.33, 'D'], ['3', '홍길동', 70, 3, 85, 158, 52.67, 'F']]\n"
     ]
    }
   ],
   "source": [
    "final=[] \n",
    "\n",
    "for i in range(3):\n",
    "    sungjuk=[]  #주소장\n",
    "    num=input(\"번호를 입력하시오:\")\n",
    "    name=input(\"이름을 입력하시오:\")\n",
    "    kor=int(input(\"국어 점수 입력:\"))\n",
    "    eng=int(input(\"영어 점수 입력:\"))\n",
    "    math=int(input(\"수학 점수 입력:\"))\n",
    "    \n",
    "    hab=kor+eng+math\n",
    "    avg=round(hab/3, 2)\n",
    "    if avg>=90:\n",
    "        grade=\"A\"\n",
    "    elif avg>=80:\n",
    "        grade=\"B\"\n",
    "    elif avg>=70:\n",
    "        grade=\"C\"\n",
    "    elif avg>=60:\n",
    "        grade=\"D\"\n",
    "    else:\n",
    "        grade=\"F\"\n",
    "    #프로그램은 순서적으로 실행됨:순서를 병경하는 것은 '제어문'과 '함수'이다\n",
    "    #순서가 있는 자료구조\n",
    "    sungjuk.append(num)\n",
    "    sungjuk.append(name)\n",
    "    sungjuk.append(kor)\n",
    "    sungjuk.append(eng)\n",
    "    sungjuk.append(math)\n",
    "    sungjuk.append(hab)\n",
    "    sungjuk.append(avg)\n",
    "    sungjuk.append(grade)\n",
    "    \n",
    "    final.append(sungjuk)\n",
    "print(final)"
   ]
  },
  {
   "cell_type": "code",
   "execution_count": 27,
   "metadata": {},
   "outputs": [
    {
     "name": "stdout",
     "output_type": "stream",
     "text": [
      "[['1', '윤지혜]', 85, 90, 75, 250, 83.33, 'B'], ['2', '김호경', 95, 10, 100, 205, 68.33, 'D'], ['3', '홍길동', 70, 3, 85, 158, 52.67, 'F']]\n"
     ]
    }
   ],
   "source": [
    "#정렬하고 싶은 경우\n",
    "#기본데이터타입:str,int,float,list,dict,set,tuple\n",
    "#파이선은 모든것이 객체 (변수 +함수 ):사용자 정의 데이터 타입\n",
    "final.sort()\n",
    "\n",
    "print(final)"
   ]
  },
  {
   "cell_type": "code",
   "execution_count": 28,
   "metadata": {},
   "outputs": [
    {
     "name": "stdout",
     "output_type": "stream",
     "text": [
      "[['3', '홍길동', 70, 3, 85, 158, 52.67, 'F'], ['1', '윤지혜]', 85, 90, 75, 250, 83.33, 'B'], ['2', '김호경', 95, 10, 100, 205, 68.33, 'D']]\n"
     ]
    }
   ],
   "source": [
    "#함수를 키로 한다.  (이름으로 정렬하고 싶을때): 1인분데이터전달 (번호,이름,국어,영)\n",
    "def getkey(a1):\n",
    "    return a1[1]   #1번이 이름이니까 이름 기준으로 내림차순,첫번째 데이터로 정렬됨\n",
    "final.sort(key=getkey, reverse=True) #내림차순\n",
    "print(final)"
   ]
  },
  {
   "cell_type": "code",
   "execution_count": 31,
   "metadata": {},
   "outputs": [
    {
     "name": "stdout",
     "output_type": "stream",
     "text": [
      "[['3', '홍길동', 70, 3, 85, 158, 52.67, 'F'], ['1', '윤지혜]', 85, 90, 75, 250, 83.33, 'B'], ['2', '김호경', 95, 10, 100, 205, 68.33, 'D']]\n"
     ]
    }
   ],
   "source": [
    "#lambda 함수: 무명함수, 간단한 함수를 작성할때 사용\n",
    "#getkey=lambda row:row[1]\n",
    "final=[['1', '윤지혜', 85, 90, 75, 250, 83.33, 'B'], ['2', '김호경', 95, 10, 100, 205, 68.33, 'D'], ['3', '홍길동', 70, 3, 85, 158, 52.67, 'F']]\n",
    "final.sort(key=lambda a1:a1[1], reverse=True)  #row=a1 이랑 같음 \n",
    "\n",
    "print(final)"
   ]
  },
  {
   "cell_type": "code",
   "execution_count": 48,
   "metadata": {},
   "outputs": [
    {
     "name": "stdout",
     "output_type": "stream",
     "text": [
      "[['1', '윤지혜', 85, 90, 75, 250, 83.33, 'B', 1], ['2', '김호경', 95, 10, 100, 205, 68.33, 'D', 2], ['3', '홍길동', 70, 3, 85, 158, 52.67, 'F', 3]]\n"
     ]
    }
   ],
   "source": [
    "#등수를 입력하는 필드를 추가하시오\n",
    "final=[['1', '윤지혜', 85, 90, 75, 250, 83.33, 'B'], ['2', '김호경', 95, 10, 100, 205, 68.33, 'D'], ['3', '홍길동', 70, 3, 85, 158, 52.67, 'F']]\n",
    "final.sort(key=lambda a1:a1[6],reverse=True)\n",
    "\n",
    "for i in range(3):\n",
    "    sungjuk = final[i]\n",
    "    sungjuk.append(i+1)\n",
    "\n",
    "final.sort()\n",
    "    \n",
    "print(final)"
   ]
  },
  {
   "cell_type": "code",
   "execution_count": 55,
   "metadata": {},
   "outputs": [
    {
     "name": "stdout",
     "output_type": "stream",
     "text": [
      "3\n",
      "8\n",
      "번호   이름   국어   수학   영어   합계   평균   성적   순위   \n",
      "1 윤지혜 85 90 75 250 83.33 B \n",
      "2 김호경 95 10 100 205 68.33 D \n",
      "3 홍길동 70 3 85 158 52.67 F "
     ]
    }
   ],
   "source": [
    "final=[['1', '윤지혜', 85, 90, 75, 250, 83.33, 'B'], ['2', '김호경', 95, 10, 100, 205, 68.33, 'D'], ['3', '홍길동', 70, 3, 85, 158, 52.67, 'F']]\n",
    "rank=0\n",
    "\n",
    "print(len(final))\n",
    "print(len(final[0]))\n",
    "for i in range(len(final)):\n",
    "    rank=rank+1\n",
    "    final[i].append(rank)\n",
    "final.sort(key=lambda row:row[0])\n",
    "tot_list=[\"번호\",\"이름\",\"국어\",\"수학\",\"영어\",\"합계\",\"평균\",\"성적\",\"순위\"]\n",
    "\n",
    "for j in range(len(final[0])):   # j는 아무거나 해도 되는데 for문 안에서만 유효하다=지역변수, 8번만 도는 것=>len(final[0])만큼 \n",
    "    print(tot_list[j], end = \"   \")\n",
    "\n",
    "for i in range(len(final)):\n",
    "    print(end=\"\\n\")\n",
    "    for j in range(8):\n",
    "        print(final[i][j],end=\" \")"
   ]
  },
  {
   "cell_type": "code",
   "execution_count": null,
   "metadata": {},
   "outputs": [],
   "source": [
    "#문제; numbe guess (숫자맞추기게임1:1)\n",
    "1)computer 는 숫자를 랜덤으로 발생시킵니다. (1~100)\n",
    "2)사용자는 숫자를 입력합니다. \n",
    "3)컴퓨터가 낸 숫자와 사용자가 입력한 숫자가 일치하는지 확인하고 일치하면 확인하고 다시 다음게임으로 진행합니다.\n",
    "4)만약 맞추지 못하였으면 사용자가 입력한 숫자가 컴퓨터가 가지고 있는 수 보다 큰지 작은지를 알려줍니다. \n",
    "5)무한루프로 진행하던 게임은 q가 눌리면 종료합니다. \n",
    "6)몇회만에 맞추었는지 확인하여 출력해줍니다. \n",
    "7)총 진행회수하고 guess회수를 누적시킨다음 평균 시도회수를 출력하시오.\n",
    "\n"
   ]
  },
  {
   "cell_type": "code",
   "execution_count": 60,
   "metadata": {},
   "outputs": [
    {
     "name": "stdout",
     "output_type": "stream",
     "text": [
      "상상의 수를 입력(Q to exit):45\n",
      "높은 수를 선택하시오\n",
      "상상의 수를 입력(Q to exit):55\n",
      "높은 수를 선택하시오\n",
      "상상의 수를 입력(Q to exit):65\n",
      "높은 수를 선택하시오\n",
      "상상의 수를 입력(Q to exit):87\n",
      "높은 수를 선택하시오\n",
      "상상의 수를 입력(Q to exit):00\n",
      "높은 수를 선택하시오\n",
      "상상의 수를 입력(Q to exit):88\n",
      "높은 수를 선택하시오\n",
      "상상의 수를 입력(Q to exit):Q\n",
      "총게임수: 0 이긴게임수 0\n"
     ]
    },
    {
     "ename": "ZeroDivisionError",
     "evalue": "division by zero",
     "output_type": "error",
     "traceback": [
      "\u001b[1;31m---------------------------------------------------------------------------\u001b[0m",
      "\u001b[1;31mZeroDivisionError\u001b[0m                         Traceback (most recent call last)",
      "\u001b[1;32m<ipython-input-60-7a172e3fb990>\u001b[0m in \u001b[0;36m<module>\u001b[1;34m\u001b[0m\n\u001b[0;32m     18\u001b[0m             \u001b[0mprint\u001b[0m\u001b[1;33m(\u001b[0m\u001b[1;34m\"총게임수:\"\u001b[0m\u001b[1;33m,\u001b[0m\u001b[0mtot_game\u001b[0m\u001b[1;33m-\u001b[0m\u001b[1;36m1\u001b[0m\u001b[1;33m,\u001b[0m\u001b[1;34m\"이긴게임수\"\u001b[0m\u001b[1;33m,\u001b[0m\u001b[0mwin\u001b[0m\u001b[1;33m)\u001b[0m\u001b[1;33m\u001b[0m\u001b[1;33m\u001b[0m\u001b[0m\n\u001b[0;32m     19\u001b[0m             \u001b[0mgame_tot\u001b[0m\u001b[1;33m=\u001b[0m\u001b[0msum\u001b[0m\u001b[1;33m(\u001b[0m\u001b[0mtot_attempt\u001b[0m\u001b[1;33m)\u001b[0m\u001b[1;33m\u001b[0m\u001b[1;33m\u001b[0m\u001b[0m\n\u001b[1;32m---> 20\u001b[1;33m             \u001b[0mprint\u001b[0m\u001b[1;33m(\u001b[0m\u001b[1;34m\"평균시도횟수\"\u001b[0m\u001b[1;33m,\u001b[0m\u001b[0mgame_tot\u001b[0m\u001b[1;33m/\u001b[0m\u001b[1;33m(\u001b[0m\u001b[0mtot_game\u001b[0m\u001b[1;33m-\u001b[0m\u001b[1;36m1\u001b[0m\u001b[1;33m)\u001b[0m\u001b[1;33m)\u001b[0m\u001b[1;33m\u001b[0m\u001b[1;33m\u001b[0m\u001b[0m\n\u001b[0m\u001b[0;32m     21\u001b[0m             \u001b[0msys\u001b[0m\u001b[1;33m.\u001b[0m\u001b[0mexit\u001b[0m\u001b[1;33m(\u001b[0m\u001b[1;36m0\u001b[0m\u001b[1;33m)\u001b[0m\u001b[1;31m#프로그램을 종료\u001b[0m\u001b[1;33m\u001b[0m\u001b[1;33m\u001b[0m\u001b[0m\n\u001b[0;32m     22\u001b[0m         \u001b[0mians\u001b[0m\u001b[1;33m=\u001b[0m\u001b[0mint\u001b[0m\u001b[1;33m(\u001b[0m\u001b[0mans\u001b[0m\u001b[1;33m)\u001b[0m\u001b[1;33m\u001b[0m\u001b[1;33m\u001b[0m\u001b[0m\n",
      "\u001b[1;31mZeroDivisionError\u001b[0m: division by zero"
     ]
    }
   ],
   "source": [
    "#필요한 변수:컴퓨터선정수, 사용자입력, 총횟수, 평균시도회수\n",
    "#경우의 수는 3가지 (정답, 작은 경우, 큰경우)\n",
    "#전체게임의 회수와 이긴회수\n",
    "#평균 시도회수를 계산하기 위해서 변수를 정의하고 계산\n",
    "from random import randint\n",
    "n=randint(1,101) #컴퓨터는 수 하나 선택\n",
    "\n",
    "import sys\n",
    "tot_game=0  #총게임수\n",
    "win=0   #이긴게임의수\n",
    "tot_attempt=[]#전체시도회수\n",
    "\n",
    "while True:\n",
    "    n=randint(1,101)\n",
    "    tot_game +=1\n",
    "    game=0\n",
    "    while True:#사용자정의하고 이미 정의된 내장명령어를 구분\n",
    "        ans=input(\"상상의 수를 입력(Q to exit):\")\n",
    "        game+=1\n",
    "        if ans.upper()==\"Q\":\n",
    "            print(\"총게임수:\",tot_game-1,\"이긴게임수\",win)\n",
    "            game_tot=sum(tot_attempt)\n",
    "            print(\"평균시도횟수\",game_tot/(tot_game-1))\n",
    "            sys.exit(0)#프로그램을 종료\n",
    "        ians=int(ans)\n",
    "        if(n==ians):\n",
    "            print(\"정답!\"); win+=1;tot_attempt.append(game)\n",
    "            break\n",
    "        elif(n>ians):\n",
    "            print(\"높은 수를 선택하시오\")\n",
    "        else:\n",
    "            print(\"작은수를 선택하시오\")\n",
    "\n"
   ]
  },
  {
   "cell_type": "code",
   "execution_count": 67,
   "metadata": {},
   "outputs": [
    {
     "name": "stdout",
     "output_type": "stream",
     "text": [
      "제곱미터25\n",
      "소형\n"
     ]
    }
   ],
   "source": [
    "#문제1:제곱미터로 입력되는 아파트 면적을 평형으로 계산하여 종류 판정\n",
    "#(30평을 기준으로 판정)하는 프로그램 작성\n",
    "#소형(17)중소형(25)중형(30)\n",
    "#평형수=제곱미터/3.305\n",
    "apt=int(input(\"제곱미터\"))\n",
    "phs=apt/3.305 \n",
    "if phs<=17:\n",
    "    print(\"소형\")\n",
    "elif 17< phs <= 30:\n",
    "    print(\"중소형\")\n",
    "else:\n",
    "    print(\"중형\")\n",
    "    "
   ]
  },
  {
   "cell_type": "code",
   "execution_count": 70,
   "metadata": {},
   "outputs": [
    {
     "name": "stdout",
     "output_type": "stream",
     "text": [
      "날수20\n",
      "1728000\n"
     ]
    }
   ],
   "source": [
    "#문제2: 날 수를 입력하면 이를 초로 변경하는 프로그램 작성\n",
    "day=int(input(\"날수\"))\n",
    "\n",
    "print(60*60*24*day)"
   ]
  },
  {
   "cell_type": "code",
   "execution_count": 72,
   "metadata": {},
   "outputs": [
    {
     "name": "stdout",
     "output_type": "stream",
     "text": [
      "연봉20000000\n",
      "입력하신 연봉은 20000000 원에 대한 세금= 1140000.0 원\n"
     ]
    }
   ],
   "source": [
    "#소득세 계산: 소득 세율표를 구해보고 이를 이용하여 소득이 들어오면 세금이 얼마인지 계산해보시오. (연봉, 단순히 세율만 적용합니다.)\n",
    "#1천만원 미만시 연봉 9.5% / 1천~4천: 19% / 4천~8천:28% /8천 이상:37%\n",
    "\n",
    "#선생님답\n",
    "income=int(input('연봉'))\n",
    "tax=0.0\n",
    "if income < 10000000:\n",
    "    tax=income*0.095\n",
    "elif income < 40000000:\n",
    "    tax=10000000*0.095+(income-10000000)*0.019\n",
    "elif income < 80000000:\n",
    "    tax=10000000*0.095+30000000*0.019+(income-40000000)*0.028\n",
    "else:\n",
    "    tax=10000000*0.095+30000000*0.019+(income-40000000)*0.028+(income-80000000)*0.037\n",
    "\n",
    "print(\"입력하신 연봉은\",income,\"원에 대한 세금=\", tax, \"원\")\n",
    "    "
   ]
  },
  {
   "cell_type": "code",
   "execution_count": 71,
   "metadata": {},
   "outputs": [
    {
     "name": "stdout",
     "output_type": "stream",
     "text": [
      "초등학생은 몇명입니까?1\n",
      "청소년은 몇명입니까?1\n",
      "일반은 몇명입니까?1\n",
      "경로대상은 몇명입니까?0\n",
      "카드없음(0),일반카드(1),vip(2)를 선택해주세요2\n",
      "총이용요금은 26402.4 원입니다.\n"
     ]
    }
   ],
   "source": [
    "#놀이공원 매표소 단체 입장료 계산하기\n",
    "#조건:팀별 인원 구성을 입력(초등,청소년,일반인,경로대상)하면 입장료 소견표에\n",
    "#정산요금:초등(5000원),청소년(10000원),일반인(15000원),경로대상(3000원)\n",
    "#팀별할인카드확인 \n",
    "#카드없음:할인무,일반카드:10%, vip:20%\n",
    "\n",
    "#선생님답\n",
    "cho=int(input(\"초등학생은 몇명입니까?\"))\n",
    "mid=int(input(\"청소년은 몇명입니까?\"))\n",
    "adult=int(input(\"일반은 몇명입니까?\"))\n",
    "old=int(input(\"경로대상은 몇명입니까?\"))\n",
    "\n",
    "cho_tot=5000+cho\n",
    "mid_tot=10000+mid\n",
    "adult_tot=15000+adult\n",
    "old_tot=3000+old\n",
    "tot=cho_tot+mid_tot+adult_tot+old_tot\n",
    "\n",
    "#it문을 사용하지 않고 선택\n",
    "dis=int(input(\"카드없음(0),일반카드(1),vip(2)를 선택해주세요\"))\n",
    "select=[tot,tot*0.9,tot*0.8]\n",
    "print(\"총이용요금은\",select[dis],\"원입니다.\")"
   ]
  },
  {
   "cell_type": "code",
   "execution_count": 20,
   "metadata": {},
   "outputs": [
    {
     "name": "stdout",
     "output_type": "stream",
     "text": [
      "숫자를 입력:10\n",
      "*\n",
      "**\n",
      "***\n",
      "****\n",
      "*****\n",
      "******\n",
      "*******\n",
      "********\n",
      "*********\n",
      "**********\n"
     ]
    }
   ],
   "source": [
    "numberOfRows=int(input(\"숫자를 입력:\"))\n",
    "for i in range(numberOfRows):\n",
    "    for j in range(i+1):\n",
    "        print(\"*\",end=\"\")\n",
    "    print()"
   ]
  },
  {
   "cell_type": "code",
   "execution_count": 21,
   "metadata": {},
   "outputs": [
    {
     "name": "stdout",
     "output_type": "stream",
     "text": [
      "숫자를 입력:10\n",
      "          *\n",
      "         **\n",
      "        ***\n",
      "       ****\n",
      "      *****\n",
      "     ******\n",
      "    *******\n",
      "   ********\n",
      "  *********\n",
      " **********\n"
     ]
    }
   ],
   "source": [
    "numberOfRows=int(input(\"숫자를 입력:\"))\n",
    "for i in range(numberOfRows):\n",
    "    for k in range(numberOfRows-i):\n",
    "        print(\" \",end=\"\")\n",
    "    for j in range(i+1):\n",
    "        print(\"*\",end=\"\")\n",
    "    print()"
   ]
  },
  {
   "cell_type": "code",
   "execution_count": 15,
   "metadata": {},
   "outputs": [
    {
     "name": "stdout",
     "output_type": "stream",
     "text": [
      "숫자를 입력:10\n",
      "          *\n",
      "         ***\n",
      "        *****\n",
      "       *******\n",
      "      *********\n",
      "     ***********\n",
      "    *************\n",
      "   ***************\n",
      "  *****************\n",
      " *******************\n"
     ]
    }
   ],
   "source": [
    "numberOfRows=int(input(\"숫자를 입력:\"))\n",
    "for i in range(numberOfRows):\n",
    "    for k in range(numberOfRows-i):\n",
    "        print(\" \",end=\"\")\n",
    "    for j in range(i+0):        #i+1   for문 안에는 \n",
    "        print(\"*\",end=\"\")\n",
    "    for l in range(i+1):        #i , j로 또 써도 된다.\n",
    "        print(\"*\",end=\"\")\n",
    "    print()"
   ]
  },
  {
   "cell_type": "code",
   "execution_count": 27,
   "metadata": {},
   "outputs": [
    {
     "name": "stdout",
     "output_type": "stream",
     "text": [
      "숫자를 입력:10\n",
      "*\n",
      "**\n",
      "***\n",
      "****\n",
      "*****\n",
      "******\n",
      "*******\n",
      "********\n",
      "*********\n",
      "**********\n",
      "*********\n",
      "********\n",
      "*******\n",
      "******\n",
      "*****\n",
      "****\n",
      "***\n",
      "**\n",
      "*\n"
     ]
    }
   ],
   "source": [
    "numberOfRows=int(input(\"숫자를 입력:\"))\n",
    "numberOfRows2=numberOfRows-1\n",
    "for i in range(numberOfRows):\n",
    "    for k in range(i+1):\n",
    "        print(\"*\",end=\"\")\n",
    "    print()\n",
    "for i in range(numberOfRows2):\n",
    "    for k in range(numberOfRows2-i):\n",
    "        print(\"*\",end=\"\")\n",
    "    print()"
   ]
  },
  {
   "cell_type": "code",
   "execution_count": 1,
   "metadata": {},
   "outputs": [
    {
     "name": "stdout",
     "output_type": "stream",
     "text": [
      "\n",
      "*\n",
      "**\n",
      "***\n",
      "****\n",
      "*****\n",
      "****\n",
      "***\n",
      "**\n",
      "*\n"
     ]
    }
   ],
   "source": [
    "print(\"\")\n",
    "for i in range(1,10):\n",
    "    print(\"*\"*(i-int(i/6)*(i*2-10)))"
   ]
  },
  {
   "cell_type": "code",
   "execution_count": 6,
   "metadata": {},
   "outputs": [
    {
     "name": "stdout",
     "output_type": "stream",
     "text": [
      "숫자를 입력:10\n",
      "*\n",
      "**\n",
      "***\n",
      "****\n",
      "*****\n",
      "******\n",
      "*******\n",
      "********\n",
      "*********\n",
      "**********\n",
      "*********\n",
      "********\n",
      "*******\n",
      "******\n",
      "*****\n",
      "****\n",
      "***\n",
      "**\n",
      "*\n",
      "********\n",
      "*******\n",
      "******\n",
      "*****\n",
      "****\n",
      "***\n",
      "**\n",
      "*\n"
     ]
    }
   ],
   "source": [
    "numberOfRows=int(input(\"숫자를 입력:\"))\n",
    "numberOfRows2=numberOfRows-1\n",
    "numberOfRows3=numberOfRows-2\n",
    "\n",
    "for i in range(numberOfRows):\n",
    "    for k in range(i+1):\n",
    "        print(\"*\",end=\"\")\n",
    "    print()\n",
    "for i in range(numberOfRows2):\n",
    "    for k in range(numberOfRows2-i):\n",
    "        print(\"*\",end=\"\")\n",
    "    print()\n",
    "\n",
    "for i in range(numberOfRows3):\n",
    "    for k in range(numberOfRows3-i):\n",
    "        print(\"*\",end=\"\")\n",
    "    print()\n"
   ]
  }
 ],
 "metadata": {
  "kernelspec": {
   "display_name": "Python 3",
   "language": "python",
   "name": "python3"
  },
  "language_info": {
   "codemirror_mode": {
    "name": "ipython",
    "version": 3
   },
   "file_extension": ".py",
   "mimetype": "text/x-python",
   "name": "python",
   "nbconvert_exporter": "python",
   "pygments_lexer": "ipython3",
   "version": "3.7.4"
  }
 },
 "nbformat": 4,
 "nbformat_minor": 2
}
