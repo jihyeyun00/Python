{
 "cells": [
  {
   "cell_type": "markdown",
   "metadata": {},
   "source": [
    "#편집모드와 명령행 모드(주석)"
   ]
  },
  {
   "cell_type": "code",
   "execution_count": 4,
   "metadata": {},
   "outputs": [
    {
     "name": "stdout",
     "output_type": "stream",
     "text": [
      "10\n",
      "10\n"
     ]
    }
   ],
   "source": [
    "a=10 #주소=>값 저장(맵핑)\n",
    "b=a  #10이 대입되는 것이 아니고 a가 가리키는 주소가 대입\n",
    "print(a)\n",
    "print(b)"
   ]
  },
  {
   "cell_type": "code",
   "execution_count": 6,
   "metadata": {},
   "outputs": [
    {
     "name": "stdout",
     "output_type": "stream",
     "text": [
      "주소값 대입 140706870502064\n",
      "140706870502064\n"
     ]
    },
    {
     "data": {
      "text/plain": [
       "(None, None)"
      ]
     },
     "execution_count": 6,
     "metadata": {},
     "output_type": "execute_result"
    }
   ],
   "source": [
    "#주소값이 일치\n",
    "print('주소값 대입',id(a)),print(id(b))"
   ]
  },
  {
   "cell_type": "code",
   "execution_count": 7,
   "metadata": {},
   "outputs": [
    {
     "name": "stdout",
     "output_type": "stream",
     "text": [
      "20\n",
      "10\n",
      "주소값 대입 140706870502384\n",
      "140706870502064\n"
     ]
    },
    {
     "data": {
      "text/plain": [
       "(None, None)"
      ]
     },
     "execution_count": 7,
     "metadata": {},
     "output_type": "execute_result"
    }
   ],
   "source": [
    "a=20 \n",
    "print(a)\n",
    "print(b)\n",
    "print('주소값 대입',id(a)),print(id(b))"
   ]
  },
  {
   "cell_type": "code",
   "execution_count": null,
   "metadata": {},
   "outputs": [],
   "source": [
    "#파이썬은 대소 문자를 구분한다"
   ]
  },
  {
   "cell_type": "code",
   "execution_count": 8,
   "metadata": {},
   "outputs": [
    {
     "data": {
      "text/plain": [
       "int"
      ]
     },
     "execution_count": 8,
     "metadata": {},
     "output_type": "execute_result"
    }
   ],
   "source": [
    "type(a)"
   ]
  },
  {
   "cell_type": "code",
   "execution_count": 10,
   "metadata": {},
   "outputs": [
    {
     "name": "stdout",
     "output_type": "stream",
     "text": [
      "10\n"
     ]
    }
   ],
   "source": [
    "a=10\n",
    "A=20\n",
    "print(a)"
   ]
  },
  {
   "cell_type": "code",
   "execution_count": 14,
   "metadata": {},
   "outputs": [
    {
     "name": "stdout",
     "output_type": "stream",
     "text": [
      "수식을 입력하시요10\n",
      "10\n",
      "10\n",
      "10\n"
     ]
    }
   ],
   "source": [
    "#데이터 입력\n",
    "problem=input('수식을 입력하시오') #데이터 입출력은 문자열로 입출력됨 (problem:문자형)\n",
    "#연산을 위해 데이터 타입을 숫자로 변경\n",
    "print(problem)\n",
    "print(int(problem)) #데이터  casting: 데이터형 변환\n",
    "print(eval(problem)) #eval:평가"
   ]
  },
  {
   "cell_type": "code",
   "execution_count": 15,
   "metadata": {},
   "outputs": [
    {
     "name": "stdout",
     "output_type": "stream",
     "text": [
      "0.00424\n",
      "127\n"
     ]
    }
   ],
   "source": [
    "a3=4.24e-3  #exponent 지수형\n",
    "a4=0o177    #octal 8진수로 표현 ??\n",
    "print(a3)\n",
    "print(a4)"
   ]
  },
  {
   "cell_type": "code",
   "execution_count": 23,
   "metadata": {},
   "outputs": [
    {
     "name": "stdout",
     "output_type": "stream",
     "text": [
      "이름을 입력하세요:홍 길동\n",
      "홍\n",
      " \n",
      "길\n",
      "1\n",
      "이름: 길동\n",
      "성(s): 홍\n"
     ]
    }
   ],
   "source": [
    "#fullName 문자형 :기본이 1차원 배열 , 숫자 int:4바이트 float: 4바이트\n",
    "fullName=input(\"이름을 입력하세요:\")\n",
    "n=fullName.rfind(\" \")  #rivers find거꾸로 찾으라 https://blog.naver.com/iadslba\n",
    "\n",
    "print(fullName[0])   #배열과 리스트의 인덱싱은 동일하다\n",
    "print(fullName[1])   #0이 홍,1이 빈칸, 2가 길, 파이선은 0부터\n",
    "print(fullName[2])\n",
    "print(n)             #n이니까 1\n",
    "print(\"이름:\",fullName[n+1:]) #+1: 끝까지 :n이 1이니까 이름 끝까지\n",
    "print(\"성(s):\",fullName[:n])  #처음부터"
   ]
  },
  {
   "cell_type": "code",
   "execution_count": 31,
   "metadata": {},
   "outputs": [
    {
     "name": "stdout",
     "output_type": "stream",
     "text": [
      "koreakorea\n",
      "koreakoreakorea\n",
      "korea\n",
      "a\n",
      "a\n",
      "or\n",
      "ea\n",
      "ea\n",
      "e\n",
      "5\n"
     ]
    },
    {
     "data": {
      "text/plain": [
       "['ko', 'ea']"
      ]
     },
     "execution_count": 31,
     "metadata": {},
     "output_type": "execute_result"
    }
   ],
   "source": [
    "#문자열은 \"'\":single quotation, \"korea:\"double quotation\n",
    "#\"\"\" \"\"\": 3개인 경우는 입력하는 대로 저장함\n",
    "s=\"korea\"\n",
    "print(s+s)\n",
    "print(s*3)#횟수지정\n",
    "print(s[0:])\n",
    "\n",
    "print(s[4])\n",
    "print(s[-1])#R에서 :-인덱스:제외하고, 파이썬에서는 뒤에서\n",
    "print(s[1:3])#끝은 제외? =1:2 \n",
    "\n",
    "print(s[-2:])#뒤에서 두번째부터 끝까지\n",
    "print(s[-2:5])#뒤에서 두번째부터 다섯번째까지인데 마지막은 빼니까 \n",
    "print(s[3:-1]) \n",
    "print(len(s))\n",
    "s.split('r')"
   ]
  },
  {
   "cell_type": "code",
   "execution_count": 54,
   "metadata": {},
   "outputs": [
    {
     "name": "stdout",
     "output_type": "stream",
     "text": [
      "['Seoul', 'incheon', 'won']\n"
     ]
    }
   ],
   "source": [
    "#csv 데이터:comma 로 분리된 데이터\n",
    "t='Seoul,incheon,won'.split(',')\n",
    "print(t)#리스트로 분할"
   ]
  },
  {
   "cell_type": "code",
   "execution_count": 28,
   "metadata": {},
   "outputs": [
    {
     "data": {
      "text/plain": [
       "'Seoul.incheon.won'"
      ]
     },
     "execution_count": 28,
     "metadata": {},
     "output_type": "execute_result"
    }
   ],
   "source": [
    "','.join(t)"
   ]
  },
  {
   "cell_type": "code",
   "execution_count": 32,
   "metadata": {},
   "outputs": [
    {
     "name": "stdout",
     "output_type": "stream",
     "text": [
      "Korea\n",
      "2\n",
      "1\n",
      "True\n",
      "False\n",
      "True\n",
      "koRea\n",
      "False\n",
      "True\n"
     ]
    }
   ],
   "source": [
    "#파이썬은 객체 지향 프로그래밍으로 설계된 언어임:모든것이 객체임, 함수도 객체임\n",
    "#c,jave 는 객체지향을 별도로 학습 \n",
    "#python은 자체가 객체지향 언어임\n",
    "s='korea'\n",
    "print(s.capitalize()) #첫번째문자가 대문자로\n",
    "print(s.find(\"r\"))  #r을 찾아\n",
    "print(s.count(\"re\")) #몇번?\n",
    "\n",
    "print(s.isalpha())  #문자형이냐\n",
    "print(s.isdigit()) #숫자냐\n",
    "print(\"0123\".isdigit())\n",
    "\n",
    "print(s.replace(\"r\",\"R\")) #많이 씀\n",
    "print(s.startswith(\"K\")) #k로 시작하냐\n",
    "print(s.endswith(\"a\")) #a로 끝나냐"
   ]
  },
  {
   "cell_type": "code",
   "execution_count": 33,
   "metadata": {},
   "outputs": [
    {
     "name": "stdout",
     "output_type": "stream",
     "text": [
      "7 -1 12 0.75\n",
      "0.75\n",
      "3\n",
      "1\n",
      "0\n",
      "1\n",
      "0\n",
      "1.75\n",
      "1\n"
     ]
    }
   ],
   "source": [
    "#산술연산\n",
    "a=3\n",
    "b=4\n",
    "\n",
    "print(a+b,a-b,a*b,a/b)\n",
    "print(a/b) #일반 나누기\n",
    "\n",
    "#%나머지\n",
    "print(a%b) #나머지 연산자:경우의 수를 생성할때:변수가 가질 수 있는 경우의 수를 확인 예)1을 2로 나누면 \n",
    "print(1%2) #나머지1\n",
    "print(2%2)\n",
    "print(3%2) #몫이 1이고 나머지도 1\n",
    "print(4%2)\n",
    "\n",
    "print(7/4) \n",
    "print(7//4) #몫 연산자 "
   ]
  },
  {
   "cell_type": "code",
   "execution_count": 41,
   "metadata": {},
   "outputs": [
    {
     "name": "stdout",
     "output_type": "stream",
     "text": [
      "sum([1,2,3]): 6\n",
      "min([1,2,3]): 1\n",
      "abs(-11): 11\n",
      "pow(2,10): 1024\n",
      "round(3.141595): 3\n",
      "round(3.141595): 3.14\n"
     ]
    }
   ],
   "source": [
    "#내장함수:\n",
    "#괄호의 의미: [] list,{}:dict,set ():tuple,함수\n",
    "print(\"sum([1,2,3]):\",sum([1,2,3]))\n",
    "print(\"min([1,2,3]):\",min([1,2,3]))\n",
    "print(\"abs(-11):\",abs(-11)) #절대값\n",
    "print(\"pow(2,10):\",pow(2,10)) #2의 10승\n",
    "print(\"round(3.141595):\",round(3.141592)) #반올림\n",
    "print(\"round(3.141595):\",round(3.141595,2)) #소수점 2번째 자리까지\n",
    "#함수의 형태가 다르면 :오버로딩\n",
    "#파이썬에서는 오버로딩이 없음=>디폴트 매개변수"
   ]
  },
  {
   "cell_type": "code",
   "execution_count": 39,
   "metadata": {},
   "outputs": [
    {
     "name": "stdout",
     "output_type": "stream",
     "text": [
      "19\n"
     ]
    }
   ],
   "source": [
    "#문제:숫자 4,7,8을 리스트로 초기화하고 합계를 출력하시오.\n",
    "nums=[4,7,8]\n",
    "\n",
    "print(sum(nums))"
   ]
  },
  {
   "cell_type": "code",
   "execution_count": 53,
   "metadata": {},
   "outputs": [
    {
     "name": "stdout",
     "output_type": "stream",
     "text": [
      "첫번째 수5\n",
      "두번째 수8\n",
      "홀수입니다\n"
     ]
    }
   ],
   "source": [
    "#문제:두 수를 입력받아 몫과 나머지를 출력하시오.\n",
    "\n",
    "#\n",
    "num1=int(input(\"첫번째 수\"))\n",
    "num2=int(input(\"두번째 수\"))\n",
    "hab = num1 + num2\n",
    "\n",
    "quotient=hab//2\n",
    "remainder=hab%2\n",
    "\n",
    "#파이썬의 블록은 들여쓰기임:블록 :여러일을 묶는 역할\n",
    "#:조건문, 반복문, 함수\n",
    "if remainder==0:\n",
    "    print('짝수입니다')\n",
    "    print('짝수입니다')\n",
    "    print('짝수입니다')\n",
    "else:\n",
    "    print('홀수입니다')\n",
    "\n",
    "\n"
   ]
  },
  {
   "cell_type": "markdown",
   "metadata": {},
   "source": [
    "# scope"
   ]
  },
  {
   "cell_type": "code",
   "execution_count": 43,
   "metadata": {},
   "outputs": [
    {
     "name": "stdout",
     "output_type": "stream",
     "text": [
      "200\n",
      "300\n"
     ]
    }
   ],
   "source": [
    "x=300 #전역변수\n",
    "\n",
    "def myfunc(): #함수도 리턴타입을 지정하지 않는다\n",
    "    x=200    #지역변수:함수와 생사를 같이 한다.\n",
    "    print(x)\n",
    "myfunc()\n",
    "print(x)"
   ]
  },
  {
   "cell_type": "code",
   "execution_count": null,
   "metadata": {},
   "outputs": [],
   "source": [
    "#어떤 수가 들어 오더라도 나머지가 0:가위, 1:바위, 2:보로 출력하시오"
   ]
  },
  {
   "cell_type": "code",
   "execution_count": 44,
   "metadata": {},
   "outputs": [
    {
     "name": "stdout",
     "output_type": "stream",
     "text": [
      "정수를 입력하시오2\n",
      "보\n"
     ]
    }
   ],
   "source": [
    "select=int(input(\"정수를 입력하시오\"))%3\n",
    "if select==0:\n",
    "    print('가위')\n",
    "elif select==1:\n",
    "    print('바위')\n",
    "elif select==2:\n",
    "    print('보')"
   ]
  },
  {
   "cell_type": "code",
   "execution_count": 52,
   "metadata": {},
   "outputs": [
    {
     "name": "stdout",
     "output_type": "stream",
     "text": [
      "4\n",
      "earths\n",
      "['fire', 'air']\n",
      "['air', 1, 'water', 'fire', 'earths']\n"
     ]
    }
   ],
   "source": [
    "#random :프로그램에서 난수는 의사난수임\n",
    "import random\n",
    "random.seed(1000)  #seed는 출발점 고정\n",
    "print(random.randint(1, 5)) #1부터 5부터 사이에 랜덤으로 \n",
    "\n",
    "elements=[\"earth\",1,\"air\",\"fire\",\"water\"] #list;서로 다른 자료형(문자형, 숫자형)을 하나의 list에 저장 가능\n",
    "elements[0]=\"earths\"\n",
    "\n",
    "print(random.choice(elements)) #하나선택\n",
    "print(random.sample(elements,2)) #두개선택\n",
    "\n",
    "random.shuffle(elements)#?\n",
    "print(elements)"
   ]
  },
  {
   "cell_type": "code",
   "execution_count": 50,
   "metadata": {},
   "outputs": [
    {
     "name": "stdout",
     "output_type": "stream",
     "text": [
      "True\n",
      "True\n"
     ]
    }
   ],
   "source": [
    "#비교연산자[>=,<=,==,<,>]와 논리 연산자[and, or, not]\n",
    "a=20\n",
    "b=10\n",
    "c=a>10 and b<50\n",
    "print(c)\n",
    "\n",
    "c=10<a<50\n",
    "print(c)"
   ]
  },
  {
   "cell_type": "code",
   "execution_count": 51,
   "metadata": {},
   "outputs": [
    {
     "name": "stdout",
     "output_type": "stream",
     "text": [
      "6 5\n"
     ]
    }
   ],
   "source": [
    "#swap \n",
    "x=5\n",
    "y=6\n",
    "x,y=y,x #리턴값이 2개 이상도 가능\n",
    "print(x,y)"
   ]
  },
  {
   "cell_type": "code",
   "execution_count": 56,
   "metadata": {},
   "outputs": [
    {
     "name": "stdout",
     "output_type": "stream",
     "text": [
      "[3, ['a', 'b', 'c'], 4]\n",
      "['a', 'b']\n",
      "1\n",
      "Life\n"
     ]
    }
   ],
   "source": [
    "#list 안의 list\n",
    "#a에 저장된것:list주소,리스트는 주소를 담아내는 항아리\n",
    "a=[1,2,3,['a','b','c'],4,5]\n",
    "\n",
    "print(a[2:5]) \n",
    "print(a[3][:2]) #?\n",
    "\n",
    "#\n",
    "a=[1,2,['a','b',['Life','is']]]\n",
    "print(a[0])\n",
    "print(a[2][2][0])"
   ]
  },
  {
   "cell_type": "code",
   "execution_count": 58,
   "metadata": {},
   "outputs": [
    {
     "name": "stdout",
     "output_type": "stream",
     "text": [
      "60\n",
      "[10, 20, 30, 40, 50]\n",
      "60\n",
      "80\n"
     ]
    }
   ],
   "source": [
    "#리스트를 이용한 스택(stack) LIF0-복귀주소저장(함수의 운용)\n",
    "a=[10,20,30,40,50]\n",
    "a.append(60)  #넣는 함수, 데이터 추가시 append 함수 사용 \n",
    "print(a.pop()) #뒤에서 데이터를 가지고 오면서 삭제\n",
    "\n",
    "print(a)\n",
    "a.append(60)\n",
    "print(a.pop())\n",
    "\n",
    "a.append(70)\n",
    "a.append(80)\n",
    "print(a.pop())"
   ]
  },
  {
   "cell_type": "code",
   "execution_count": 59,
   "metadata": {},
   "outputs": [
    {
     "name": "stdout",
     "output_type": "stream",
     "text": [
      "7 12\n",
      "7\n"
     ]
    },
    {
     "data": {
      "text/plain": [
       "(9, 20)"
      ]
     },
     "execution_count": 59,
     "metadata": {},
     "output_type": "execute_result"
    }
   ],
   "source": [
    "#파이썬 함수: 리턴값의 지정은 없음\n",
    "def calc(a,b):  #define 의 약자 ,함수의 역할:작업, 매개변수: 작업할때 필요한 데이터 \n",
    "    return a+b,a*b  #리턴값이 2개일 수 있다.\n",
    "x,y=calc(3,4)   #calc 함수이름\n",
    "print(x,y)\n",
    "print(x)\n",
    "x,y\n",
    "args=(4,5)  #tuple\n",
    "calc(*args) #포인터  *주소값을 찾아가서 함수수행하라"
   ]
  },
  {
   "cell_type": "code",
   "execution_count": 61,
   "metadata": {},
   "outputs": [
    {
     "data": {
      "text/plain": [
       "dict_items([('one', 1), ('two', 2)])"
      ]
     },
     "execution_count": 61,
     "metadata": {},
     "output_type": "execute_result"
    }
   ],
   "source": [
    "#dictionary\n",
    "#colon으로 구분된 키 데이터 형식으로 입력\n",
    "d={'one':1,'two':2} #키=>저장될 주소값으로 계산됨-검색에서 가장 속도가 빠름\n",
    "d.items()\n",
    "#mongodb=>NOSQL(key-data 형식으로 저장되어있음 대용량 데이터를 빠르게 처리)"
   ]
  },
  {
   "cell_type": "code",
   "execution_count": 79,
   "metadata": {},
   "outputs": [
    {
     "name": "stdout",
     "output_type": "stream",
     "text": [
      "2\n",
      "True\n",
      "1\n"
     ]
    },
    {
     "data": {
      "text/plain": [
       "['suwon', 'seoul', 'incheon']"
      ]
     },
     "execution_count": 79,
     "metadata": {},
     "output_type": "execute_result"
    }
   ],
   "source": [
    "cities=['seoul','incheon','suwon']\n",
    "print(cities.index('suwon'))\n",
    "print('incheon'in cities)  #in 포함 연산자 \n",
    "\n",
    "cities.count('seoul')\n",
    "print(cities.count('seoul'))\n",
    "\n",
    "sorted(cities) #오름차순 ㄱ,ㄴ 순\n",
    "sorted(cities,reverse=True) "
   ]
  },
  {
   "cell_type": "code",
   "execution_count": 80,
   "metadata": {},
   "outputs": [
    {
     "name": "stdout",
     "output_type": "stream",
     "text": [
      "['seoul', 'incheon', 'suwon']\n",
      "['seoul', 'incheon', 'suwon', 'busan']\n",
      "['daegu', 'seoul', 'incheon', 'suwon', 'busan']\n",
      "결합 ['daegu', 'seoul', 'incheon', 'suwon', 'busan', 'jeju', 'kwangju']\n",
      "['daegu', 'seoul', 'incheon', 'suwon', 'busan', ['daejun', 'ulsan']]\n",
      "['daegu', 'seoul', 'incheon', 'suwon', 'busan', ['daejun', 'ulsan'], 'jeju', 'kwangju']\n"
     ]
    }
   ],
   "source": [
    "#리스트는 데이터 삽입,삭제가 용이\n",
    "print(cities)\n",
    "\n",
    "cities.append('busan') #append 붙이기\n",
    "print(cities)\n",
    "\n",
    "cities.insert(0,'daegu') #데이터삽입\n",
    "print(cities)\n",
    "\n",
    "other_cities=[\"jeju\",\"kwangju\"]\n",
    "print(\"결합\",cities+other_cities) #리스트+연산자\n",
    "\n",
    "cities.append([\"daejun\",\"ulsan\"]) #list안에 list로 넣겠다.모양이 유지가 됨\n",
    "print(cities)\n",
    "\n",
    "cities.extend(['jeju','kwangju']) #원소로 넣겠다\n",
    "print(cities)"
   ]
  },
  {
   "cell_type": "code",
   "execution_count": 81,
   "metadata": {},
   "outputs": [
    {
     "name": "stdout",
     "output_type": "stream",
     "text": [
      "['daejun', 'ulsan']\n",
      "ulsan\n",
      "['daegu', 'seoul', 'incheon', 'suwon', 'busan', ['daejun', 'jeju'], 'jeju', 'kwangju']\n",
      "jeju\n",
      "['daegu', 'seoul', 'incheon', 'suwon', 'busan', ['daejun'], 'jeju', 'kwangju']\n"
     ]
    }
   ],
   "source": [
    "print(cities[5])\n",
    "print(cities[5][1])\n",
    "cities[5][1]='jeju'\n",
    "print(cities)\n",
    "\n",
    "print(cities[5][1])\n",
    "del cities[5][1] # cities[5].remove(cities[5][1])\n",
    "print(cities)"
   ]
  },
  {
   "cell_type": "code",
   "execution_count": null,
   "metadata": {},
   "outputs": [],
   "source": [
    "#cities[5],remove(cities[5][1])\n",
    "del(cities[5][1])\n",
    "print(cities)"
   ]
  },
  {
   "cell_type": "code",
   "execution_count": null,
   "metadata": {},
   "outputs": [],
   "source": [
    "#자료구조를 데이터 타입화\n",
    "#list :데이터의 앞/뒤에  다음/이전 데이터의 주소 저장\n",
    "#     :메모리를 효율적으로 사용하고 삽입/삭제를 용이하게 하기 위해서 사용하는 자료구조\n",
    "#dict:key값이 데이터가 저장되어지는 주소값으로 계산되는 hash함수(주소를 만들어내는:중요하지 않음)를 \n",
    "#     이용해 데이터 저장\n",
    "#    :검색 속도가 빠름\n",
    "#    :데이터 주소값으로 변환되어지는 key:데이터 형식으로 저장됨\n",
    "#set:key만 저장(중복불허)-범주형 데이터의 종류를 확인할때 사용\n",
    "#tuple:list와 동일한데 변경이 불가능함(함수가 작음):함수의 매개변수로 값을 전달하거나 여러개의 값을 \n",
    "#     :리턴하고 싶을때 사용:속도가 빠름"
   ]
  },
  {
   "cell_type": "code",
   "execution_count": 82,
   "metadata": {},
   "outputs": [
    {
     "name": "stdout",
     "output_type": "stream",
     "text": [
      "점수입력:85\n",
      "B\n"
     ]
    }
   ],
   "source": [
    "print('점수입력:',end='') #\\n 공백으로 바꾸라는 것 :엔터 \n",
    "jumsu=int(input())\n",
    "if jumsu >= 90:print(\"A\")\n",
    "elif jumsu >=80:print(\"B\")\n",
    "elif jumsu >=70:print(\"C\")\n",
    "elif jumsu >=60:print(\"D\")\n",
    "else:print(\"F\")\n"
   ]
  },
  {
   "cell_type": "code",
   "execution_count": 85,
   "metadata": {},
   "outputs": [
    {
     "name": "stdout",
     "output_type": "stream",
     "text": [
      "색입력(blue or red):blue \n",
      "mode 입력 (steady or flashing):steady\n",
      "예측된 날씨는 비오는날\n"
     ]
    }
   ],
   "source": [
    "#a,b:로 변수를 입력하지 말고 의미가 있는 변수명을 입력\n",
    "#다음 표(color와 model에 따른 날씨)를 if 문을 이용하여 출력하시오\n",
    "#(반응에 따른 날씨 프로그램)\n",
    "#                        blue        red\n",
    "#           steady       화창        비오는날\n",
    "#           flashing     구름        눈오늘날\n",
    "\n",
    "#내 답\n",
    "#print('반응:',end='')\n",
    "#ban=int(input())\n",
    "#if ban ==\"blue\"and\"steady('화창')\n",
    "#elif ban == \"red\"and\"steady('비오는날')\n",
    "#elif ban ==\"blue\"and\"flashing('구름')\n",
    "#else:print('눈오늘날')\n",
    "    \n",
    "#선생님\n",
    "color=input('색입력(blue or red):')\n",
    "mode=input('mode 입력 (steady or flashing):')\n",
    "#color=color.upper()\n",
    "#mode=mode.upper()\n",
    "result=\"\"\n",
    "\n",
    "if color=='blue':\n",
    "    if mode=='steady':\n",
    "        result='화창한날'\n",
    "    else:\n",
    "        result='구름낀날'\n",
    "else:\n",
    "    if mode=='steady':\n",
    "        result='비오는날'\n",
    "    else:\n",
    "        result='눈오는날'\n",
    "print('예측된 날씨는',result)\n"
   ]
  },
  {
   "cell_type": "code",
   "execution_count": 90,
   "metadata": {},
   "outputs": [
    {
     "name": "stdout",
     "output_type": "stream",
     "text": [
      "총비용을 입력하시오100\n",
      "총수익을 입력하시오200\n",
      "순수익=100.00.\n"
     ]
    }
   ],
   "source": [
    "#평균,분산,표준편차,              표준오차:데이터개수의 root값으로 나누어서 \n",
    " #분산: 관측치-평균\n",
    "#for문:\n",
    "#수입(revenue)과 지출(costs)을 입력받아 순수입을 출력하는 프로그램을 작성하시오\n",
    "     #제약조건:소수점 이하 2자리 까지 출력(round)\n",
    "     # :수입과 지출이 동일한 경우를 고려하시오(손익분기점)\n",
    "     # :결과 출력시 경우에 따라 순수익, 순손실도 같이 출력하도록 하시오\n",
    " \n",
    "costs=eval(input('총비용을 입력하시오'))\n",
    "revenue=eval(input('총수익을 입력하시오'))\n",
    "if costs==revenue:\n",
    "    result='손익분기점입니다.'\n",
    "else:\n",
    "    if costs<revenue:\n",
    "        profit=revenue=costs\n",
    "        result='순수익={0:,.2f}.'.format(round(profit,2))#포멧문자열 \n",
    "    else:\n",
    "        loss=costs-revenue\n",
    "        result='순손실={0:,.2f}.'.format(round(loss,2))\n",
    "print(result)\n"
   ]
  }
 ],
 "metadata": {
  "kernelspec": {
   "display_name": "Python 3",
   "language": "python",
   "name": "python3"
  },
  "language_info": {
   "codemirror_mode": {
    "name": "ipython",
    "version": 3
   },
   "file_extension": ".py",
   "mimetype": "text/x-python",
   "name": "python",
   "nbconvert_exporter": "python",
   "pygments_lexer": "ipython3",
   "version": "3.7.4"
  }
 },
 "nbformat": 4,
 "nbformat_minor": 2
}
