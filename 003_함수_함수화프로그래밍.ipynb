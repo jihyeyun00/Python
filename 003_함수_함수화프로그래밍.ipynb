{
 "cells": [
  {
   "cell_type": "code",
   "execution_count": null,
   "metadata": {},
   "outputs": [],
   "source": [
    "#함수(function)\n",
    "-함수 이름은 중복이 되면 안됨(오버로딩은 default매개 변수로 해결)\n",
    "-required arguments -매개변수를 반드시 순서대로 입력\n",
    "-keyword arguments -key 매개 변수의 순서 변경 가능\n",
    "-default arguments -overloading 해결\n",
    "-variable-length arguments(변동매개변수):*list, **dict"
   ]
  },
  {
   "cell_type": "code",
   "execution_count": 7,
   "metadata": {},
   "outputs": [
    {
     "name": "stdout",
     "output_type": "stream",
     "text": [
      "70\n",
      "\n",
      "30\n",
      "70\n"
     ]
    }
   ],
   "source": [
    "a=10\n",
    "b=20\n",
    "result=a+b\n",
    "\n",
    "c=30\n",
    "d=40\n",
    "result=c+d\n",
    "print(result)\n",
    "print()\n",
    "\n",
    "\n",
    "\n",
    "def addvalue(ad,bd):#ad=10,bd=20 주소값만 전달 call by reference\n",
    "    return ad+bd\n",
    "\n",
    "\n",
    "print(addvalue(10,20))#호출시 데이터는 힙에 저장=>주소값만 전달\n",
    "print(addvalue(30,40))"
   ]
  },
  {
   "cell_type": "code",
   "execution_count": null,
   "metadata": {},
   "outputs": [],
   "source": [
    "#회귀분석\n",
    "-y=ax+b#기울기 계수,b:bias 절편"
   ]
  },
  {
   "cell_type": "code",
   "execution_count": 66,
   "metadata": {},
   "outputs": [
    {
     "name": "stdout",
     "output_type": "stream",
     "text": [
      "40\n"
     ]
    }
   ],
   "source": [
    "def reg(a,b,x):   #함수를 정의에러가 뜸 함수이름이 같으면 안됨 \n",
    "    return a*x+b\n",
    " \n",
    "reg(10,30,100)  #함수를 호출\n",
    "\n",
    "def reg(x):\n",
    "    a=10\n",
    "    b=30\n",
    "    return a*x+b\n",
    "\n",
    "print(reg(100))\n",
    "#reg(10,30,100)"
   ]
  },
  {
   "cell_type": "code",
   "execution_count": 2,
   "metadata": {},
   "outputs": [
    {
     "name": "stdout",
     "output_type": "stream",
     "text": [
      "10보다 크다\n"
     ]
    }
   ],
   "source": [
    "#두수를 더한 값이 10보다 큰지 확인하시오.\n",
    "a=10\n",
    "b=20\n",
    "result=a+b\n",
    "if result>=10:\n",
    "    result=\"10보다 크다\"\n",
    "else:\n",
    "    result=\"10보다 작다\"\n",
    "print(result)"
   ]
  },
  {
   "cell_type": "code",
   "execution_count": 3,
   "metadata": {},
   "outputs": [
    {
     "data": {
      "text/plain": [
       "'10보다 크다'"
      ]
     },
     "execution_count": 3,
     "metadata": {},
     "output_type": "execute_result"
    }
   ],
   "source": [
    "def sum_1(a,b):  #위의함수를 정의한것 \n",
    "    result=a+b\n",
    "    if result>=10:\n",
    "        result=\"10보다 크다\"\n",
    "    else:\n",
    "        result=\"10보다 작다.\"\n",
    "    return result\n",
    "\n",
    "sum_1(10,20)  #함수명만 있으면 호출하는것\n"
   ]
  },
  {
   "cell_type": "code",
   "execution_count": 47,
   "metadata": {},
   "outputs": [
    {
     "name": "stdout",
     "output_type": "stream",
     "text": [
      "20 10\n",
      "(10, 20)\n"
     ]
    },
    {
     "data": {
      "text/plain": [
       "tuple"
      ]
     },
     "execution_count": 47,
     "metadata": {},
     "output_type": "execute_result"
    }
   ],
   "source": [
    "a=10\n",
    "b=20\n",
    "def swap(x,y):  #함수는 여러개의 값을 리턴할 수 있음\n",
    "    return y,x\n",
    "\n",
    "a,b=swap(a,b) #a=20 b=10\n",
    "print(a,b)\n",
    "\n",
    "x=swap(a,b) #함수가 리턴하는 값은 튜플  (10, 20)\n",
    "print(x)\n",
    "type(x)\n"
   ]
  },
  {
   "cell_type": "code",
   "execution_count": 21,
   "metadata": {},
   "outputs": [
    {
     "name": "stdout",
     "output_type": "stream",
     "text": [
      "결과: 30\n",
      "결과: -10\n",
      "결과: 200\n"
     ]
    }
   ],
   "source": [
    "#두 수를 입력받아 +,-,* 하는 함수 3개를 작성하시오 \n",
    "#add,subtract,multiply\n",
    "def add(a,b):\n",
    "    return a+b\n",
    "def subtract(a,b):\n",
    "    return a-b\n",
    "def multiply(a,b):\n",
    "    return a*b\n",
    "#함수는 일급함수 :함수가 매개변수로 전달 가능, 리턴값으로 가능\n",
    "\n",
    "def changefun(g,a,b): #뒤에 3번 참고\n",
    "    return g(a,b)   #괄호 앞에는 함수 이름이고 함수명()=함수 ,튜플:변수명=()\n",
    "print(\"결과:\",changefun(add,10,20))  #sort(key함수 전달)\n",
    "print(\"결과:\",changefun(subtract,10,20)) \n",
    "print(\"결과:\",changefun(multiply,10,20)) "
   ]
  },
  {
   "cell_type": "code",
   "execution_count": 18,
   "metadata": {},
   "outputs": [
    {
     "name": "stdout",
     "output_type": "stream",
     "text": [
      "함수 내부에서 출력: [10, 20, 30, [1, 2, 3, 4]]\n",
      "함수 외부에서 출력: [10, 20, 30, [1, 2, 3, 4]]\n"
     ]
    }
   ],
   "source": [
    "def changeme(mylist): #mylist=mylist주소\n",
    "    mylist.append([1,2,3,4]) #넘어온 주소에 대입이 벌어지면 call by value\n",
    "    print(\"함수 내부에서 출력:\",mylist)\n",
    "    return\n",
    "mylist=[10,20,30] #list 형 #heap에 저장, 이유 :주소값이 넘어갔기 때문 call by reference\n",
    "changeme(mylist) \n",
    "print(\"함수 외부에서 출력:\",mylist)"
   ]
  },
  {
   "cell_type": "code",
   "execution_count": 24,
   "metadata": {},
   "outputs": [
    {
     "ename": "AttributeError",
     "evalue": "'set' object has no attribute 'append'",
     "output_type": "error",
     "traceback": [
      "\u001b[1;31m---------------------------------------------------------------------------\u001b[0m",
      "\u001b[1;31mAttributeError\u001b[0m                            Traceback (most recent call last)",
      "\u001b[1;32m<ipython-input-24-e3bb5b76b128>\u001b[0m in \u001b[0;36m<module>\u001b[1;34m\u001b[0m\n\u001b[0;32m      1\u001b[0m \u001b[0mmylist\u001b[0m\u001b[1;33m=\u001b[0m\u001b[1;33m{\u001b[0m\u001b[1;36m10\u001b[0m\u001b[1;33m,\u001b[0m\u001b[1;36m20\u001b[0m\u001b[1;33m,\u001b[0m\u001b[1;36m30\u001b[0m\u001b[1;33m}\u001b[0m \u001b[1;31m#dict 에는 append 라는 함수가 없다. 데이터 타입을 구분해야 하는 것은 프로그래머의 책임\u001b[0m\u001b[1;33m\u001b[0m\u001b[1;33m\u001b[0m\u001b[0m\n\u001b[1;32m----> 2\u001b[1;33m \u001b[0mchangeme\u001b[0m\u001b[1;33m(\u001b[0m\u001b[0mmylist\u001b[0m\u001b[1;33m)\u001b[0m\u001b[1;33m\u001b[0m\u001b[1;33m\u001b[0m\u001b[0m\n\u001b[0m\u001b[0;32m      3\u001b[0m \u001b[0mprint\u001b[0m\u001b[1;33m(\u001b[0m\u001b[1;34m'함수 외부에서 출력:'\u001b[0m\u001b[1;33m,\u001b[0m\u001b[0mmylist\u001b[0m\u001b[1;33m)\u001b[0m\u001b[1;33m\u001b[0m\u001b[1;33m\u001b[0m\u001b[0m\n\u001b[0;32m      4\u001b[0m \u001b[1;33m\u001b[0m\u001b[0m\n\u001b[0;32m      5\u001b[0m \u001b[0mtype\u001b[0m\u001b[1;33m(\u001b[0m\u001b[0mmylist\u001b[0m\u001b[1;33m)\u001b[0m\u001b[1;33m\u001b[0m\u001b[1;33m\u001b[0m\u001b[0m\n",
      "\u001b[1;32m<ipython-input-18-a1e0ab9937ad>\u001b[0m in \u001b[0;36mchangeme\u001b[1;34m(mylist)\u001b[0m\n\u001b[0;32m      1\u001b[0m \u001b[1;32mdef\u001b[0m \u001b[0mchangeme\u001b[0m\u001b[1;33m(\u001b[0m\u001b[0mmylist\u001b[0m\u001b[1;33m)\u001b[0m\u001b[1;33m:\u001b[0m \u001b[1;31m#mylist=mylist주소\u001b[0m\u001b[1;33m\u001b[0m\u001b[1;33m\u001b[0m\u001b[0m\n\u001b[1;32m----> 2\u001b[1;33m     \u001b[0mmylist\u001b[0m\u001b[1;33m.\u001b[0m\u001b[0mappend\u001b[0m\u001b[1;33m(\u001b[0m\u001b[1;33m[\u001b[0m\u001b[1;36m1\u001b[0m\u001b[1;33m,\u001b[0m\u001b[1;36m2\u001b[0m\u001b[1;33m,\u001b[0m\u001b[1;36m3\u001b[0m\u001b[1;33m,\u001b[0m\u001b[1;36m4\u001b[0m\u001b[1;33m]\u001b[0m\u001b[1;33m)\u001b[0m \u001b[1;31m#넘어온 주소에 대입이 벌어지면 call by value\u001b[0m\u001b[1;33m\u001b[0m\u001b[1;33m\u001b[0m\u001b[0m\n\u001b[0m\u001b[0;32m      3\u001b[0m     \u001b[0mprint\u001b[0m\u001b[1;33m(\u001b[0m\u001b[1;34m\"함수 내부에서 출력:\"\u001b[0m\u001b[1;33m,\u001b[0m\u001b[0mmylist\u001b[0m\u001b[1;33m)\u001b[0m\u001b[1;33m\u001b[0m\u001b[1;33m\u001b[0m\u001b[0m\n\u001b[0;32m      4\u001b[0m     \u001b[1;32mreturn\u001b[0m\u001b[1;33m\u001b[0m\u001b[1;33m\u001b[0m\u001b[0m\n\u001b[0;32m      5\u001b[0m \u001b[0mmylist\u001b[0m\u001b[1;33m=\u001b[0m\u001b[1;33m[\u001b[0m\u001b[1;36m10\u001b[0m\u001b[1;33m,\u001b[0m\u001b[1;36m20\u001b[0m\u001b[1;33m,\u001b[0m\u001b[1;36m30\u001b[0m\u001b[1;33m]\u001b[0m \u001b[1;31m#heap에 저장, 이유 :주소값이 넘어갔기 때문 call by reference\u001b[0m\u001b[1;33m\u001b[0m\u001b[1;33m\u001b[0m\u001b[0m\n",
      "\u001b[1;31mAttributeError\u001b[0m: 'set' object has no attribute 'append'"
     ]
    }
   ],
   "source": [
    "mylist={10,20,30} #dirctionary 형에는append 라는 함수가 없다. 데이터 타입을 구분해야 하는 것은 프로그래머의 책임\n",
    "changeme(mylist)\n",
    "print('함수 외부에서 출력:',mylist)\n",
    "\n",
    "type(mylist)"
   ]
  },
  {
   "cell_type": "code",
   "execution_count": 26,
   "metadata": {},
   "outputs": [
    {
     "name": "stdout",
     "output_type": "stream",
     "text": [
      "시작\n",
      "1,2,3,\n",
      "1,2,3,4,5,\n"
     ]
    }
   ],
   "source": [
    "#변동매개변수 :다른 매개변수는 순서 지켜줘야 하는데 예외사항이 있다. \n",
    "def func1(*args): #list \n",
    "    for i in args:\n",
    "        print(i, end=',')\n",
    "    print()\n",
    "print('시작')\n",
    "func1(1,2,3)\n",
    "func1(1,2,3,4,5)"
   ]
  },
  {
   "cell_type": "code",
   "execution_count": 32,
   "metadata": {},
   "outputs": [
    {
     "name": "stdout",
     "output_type": "stream",
     "text": [
      "args is (1, 2)\n",
      "kwargs is {'z': 5}\n",
      "hello now I'm going to call <function g at 0x000001A27E8411F8>\n",
      "1\n",
      "2\n",
      "5\n"
     ]
    },
    {
     "data": {
      "text/plain": [
       "0.6"
      ]
     },
     "execution_count": 32,
     "metadata": {},
     "output_type": "execute_result"
    }
   ],
   "source": [
    "def say_hello_then_call(f,*args,**kwargs):\n",
    "    print('args is',args)\n",
    "    print('kwargs is',kwargs)\n",
    "    print(\"hello now I'm going to call %s\" %f)\n",
    "    return f(*args,**kwargs)\n",
    "def g(x,y,z=1):#디폴트 매개변수\n",
    "    print(x)\n",
    "    print(y)\n",
    "    print(z)\n",
    "    return(x+y)/z\n",
    "say_hello_then_call(g,1,2,z=5) \n",
    "            "
   ]
  },
  {
   "cell_type": "code",
   "execution_count": 31,
   "metadata": {},
   "outputs": [
    {
     "name": "stdout",
     "output_type": "stream",
     "text": [
      "1 0\n",
      "1 2\n",
      "1 2\n"
     ]
    }
   ],
   "source": [
    "def func_test2(a,b=0):\n",
    "    print(a,b)\n",
    "func_test2(1) #a=1,b=0\n",
    "func_test2(1,2) #a=1,b=2\n",
    "func_test2(b=2,a=1)#key 매개변수"
   ]
  },
  {
   "cell_type": "code",
   "execution_count": 43,
   "metadata": {},
   "outputs": [],
   "source": [
    "def func_test4():#none =>객체\n",
    "    pass #몸통을 미지정"
   ]
  },
  {
   "cell_type": "code",
   "execution_count": 38,
   "metadata": {},
   "outputs": [
    {
     "data": {
      "text/plain": [
       "True"
      ]
     },
     "execution_count": 38,
     "metadata": {},
     "output_type": "execute_result"
    }
   ],
   "source": [
    "#==:숫자 ,문자 비교\n",
    "#is: 객체 비교\n",
    "result= func_test4()\n",
    "result== None"
   ]
  },
  {
   "cell_type": "code",
   "execution_count": 39,
   "metadata": {},
   "outputs": [
    {
     "data": {
      "text/plain": [
       "NoneType"
      ]
     },
     "execution_count": 39,
     "metadata": {},
     "output_type": "execute_result"
    }
   ],
   "source": [
    "result.__class__#클래스 확인,멤버 변수 , 시스템에서 생성한 변수\n"
   ]
  },
  {
   "cell_type": "code",
   "execution_count": 40,
   "metadata": {},
   "outputs": [
    {
     "data": {
      "text/plain": [
       "function"
      ]
     },
     "execution_count": 40,
     "metadata": {},
     "output_type": "execute_result"
    }
   ],
   "source": [
    "func_test4.__class__"
   ]
  },
  {
   "cell_type": "code",
   "execution_count": 44,
   "metadata": {},
   "outputs": [
    {
     "name": "stdout",
     "output_type": "stream",
     "text": [
      "15 5 50\n",
      "<class 'function'>\n"
     ]
    }
   ],
   "source": [
    "def func_test3(a,b):\n",
    "    return a+b, a-b, a*b\n",
    "a,b,c=func_test3(10,5)\n",
    "print(a,b,c)\n",
    "print(type(func_test3))"
   ]
  },
  {
   "cell_type": "code",
   "execution_count": null,
   "metadata": {},
   "outputs": [],
   "source": [
    "http://"
   ]
  },
  {
   "cell_type": "code",
   "execution_count": 48,
   "metadata": {},
   "outputs": [
    {
     "name": "stdout",
     "output_type": "stream",
     "text": [
      "15\n"
     ]
    }
   ],
   "source": [
    "#커링\n",
    "def all_number(x,y):\n",
    "    return x+y\n",
    "add_five=lambda y:all_number(5,y)  #무명함수=>유명함수\n",
    "print(add_five(10))"
   ]
  },
  {
   "cell_type": "code",
   "execution_count": 55,
   "metadata": {},
   "outputs": [
    {
     "name": "stdout",
     "output_type": "stream",
     "text": [
      "1.4142135623730951\n"
     ]
    }
   ],
   "source": [
    "#문제:두 점 사이의 거리값을 구하는 함수를 작성하시오.\n",
    "#root=>\n",
    "import math\n",
    "#math.sqrt()\n",
    "#def gr (x1,x2,y1,y2):\n",
    "#    return abs(x1-x2)+abs(y1-y2)\n",
    "#print(gr)\n",
    "\n",
    "#def gr2 (x3,y3):\n",
    "#    return x3**2,y3**2\n",
    "#print(gr2)\n",
    "\n",
    "#선생님답\n",
    "def dist(x1,y1,x2,y2):\n",
    "    \"\"\"거리\"\"\"\n",
    "    dx=x1-x2\n",
    "    dy=y1-y2\n",
    "    dist=math.sqrt(dx**2+dy**2)\n",
    "    return dist\n",
    "print(dist(1,1,2,2))\n",
    "?dist"
   ]
  },
  {
   "cell_type": "code",
   "execution_count": 56,
   "metadata": {},
   "outputs": [
    {
     "data": {
      "text/plain": [
       "120"
      ]
     },
     "execution_count": 56,
     "metadata": {},
     "output_type": "execute_result"
    }
   ],
   "source": [
    "#수학에서 factorial 5!=5*4*3*2*1\n",
    "def factorial(n):\n",
    "    sum=1 #항등원:덧셈의 항등원 =0, 곱셈의 항등원=1, 행렬의 항등원=단위행렬\n",
    "    for i in range(n,1,-1):\n",
    "        sum*=i \n",
    "    return sum\n",
    "factorial(5)"
   ]
  },
  {
   "cell_type": "code",
   "execution_count": 58,
   "metadata": {},
   "outputs": [
    {
     "data": {
      "text/plain": [
       "120"
      ]
     },
     "execution_count": 58,
     "metadata": {},
     "output_type": "execute_result"
    }
   ],
   "source": [
    "#재귀함수:위에것과 같음 :함수가 자기 자신 함수를 호출 ,종료조건이 앞으로 와야 함\n",
    "def factorial(n,stop=1): #stop :종료조건\n",
    "    if n <=stop or n <=0: #종료조건 or 입력을 제한 시킴\n",
    "        return 1\n",
    "    return n * factorial(n-1,stop)\n",
    "factorial(5)"
   ]
  },
  {
   "cell_type": "code",
   "execution_count": 59,
   "metadata": {},
   "outputs": [
    {
     "name": "stdout",
     "output_type": "stream",
     "text": [
      "8\n"
     ]
    }
   ],
   "source": [
    "#power 함수를 구현하시오 2^10 #pow(2,10)=>재귀호출 방식으로 변환\n",
    "def power(r,n):\n",
    "    value=1\n",
    "    for i in range(1,n+1):\n",
    "        value=r*value\n",
    "    return value\n",
    "print(power(2,3))"
   ]
  },
  {
   "cell_type": "code",
   "execution_count": 61,
   "metadata": {},
   "outputs": [
    {
     "name": "stdout",
     "output_type": "stream",
     "text": [
      "8\n"
     ]
    }
   ],
   "source": [
    "def power(n,stop=1):\n",
    "    if n<=stop or n<=0:\n",
    "        return 1\n",
    "    return n * power(n-1,stop)\n",
    "power(2,3)\n",
    "\n",
    "#선생님답\n",
    "def power(r,n):\n",
    "    if n==1:\n",
    "        return r\n",
    "    else:\n",
    "        return r*power(r,n-1)\n",
    "print(power(2,3))"
   ]
  },
  {
   "cell_type": "code",
   "execution_count": 62,
   "metadata": {},
   "outputs": [
    {
     "name": "stdout",
     "output_type": "stream",
     "text": [
      "inner\n"
     ]
    }
   ],
   "source": [
    "#내부함수\n",
    "def outer():     #함수 안에 함수 호출\n",
    "    def inner():\n",
    "        print(\"inner\")\n",
    "    inner()\n",
    "    \n",
    "def inner():\n",
    "    print('global inner')\n",
    "outer()"
   ]
  },
  {
   "cell_type": "code",
   "execution_count": 65,
   "metadata": {},
   "outputs": [
    {
     "name": "stdout",
     "output_type": "stream",
     "text": [
      "0.5083279349017371\n",
      "0.47969218123801927\n",
      "0.0802955084894148\n",
      "0.565396744556151\n"
     ]
    }
   ],
   "source": [
    "#generator :메모리를 낭비하지 않고 실시간으로 데이터를 사용하려고\n",
    "#for in :colletions(list,tuple,dict,set),literator (ranges),generator,eneumerator\n",
    "\n",
    "import random \n",
    "def gaus_dist(n):\n",
    "    while n>0:     #랜덤으로 되기 때문에 메모리를 사용안함\n",
    "        yield random.random()  #비동기 호출함수\n",
    "        n-=1\n",
    "gd=gaus_dist(4)\n",
    "for i in gd:\n",
    "    print(i)"
   ]
  },
  {
   "cell_type": "code",
   "execution_count": 67,
   "metadata": {},
   "outputs": [
    {
     "name": "stdout",
     "output_type": "stream",
     "text": [
      "python's recipe no.1\n",
      "per1's recipe no.2\n"
     ]
    },
    {
     "data": {
      "text/plain": [
       "(1797421424216, 1797421572312)"
      ]
     },
     "execution_count": 67,
     "metadata": {},
     "output_type": "execute_result"
    }
   ],
   "source": [
    "#함수가 값을 저장할 수 있는가?:지역변수라 저장이 불가\n",
    "#clouser (자바스크립트에서 사용하던 방식):값을 저장하는 방법\n",
    "def cookbook(name):\n",
    "    def recipe(no):\n",
    "        print(\"%s's recipe no.%d\" %(name,no))\n",
    "    return recipe\n",
    "python_recipe=cookbook(\"python\")\n",
    "per1_recipe=cookbook(\"per1\")\n",
    "python_recipe(1)\n",
    "per1_recipe(2)\n",
    "id(python_recipe), id(per1_recipe)"
   ]
  },
  {
   "cell_type": "code",
   "execution_count": 70,
   "metadata": {},
   "outputs": [
    {
     "name": "stdout",
     "output_type": "stream",
     "text": [
      "         1.7560\n",
      "         2.2220\n",
      "              1\n"
     ]
    }
   ],
   "source": [
    "#clouser 클로저의 응용(장식자:dacorator)\n",
    "def format_and_pad(template,space):\n",
    "    def formatter(x):\n",
    "        return (template % x).rjust(space)\n",
    "    return formatter\n",
    "\n",
    "fmt=format_and_pad(\"%.4f\",15)  #소수점 4자리까지(float:실수)\n",
    "print(fmt(1.756))\n",
    "print(fmt(2.222))\n",
    "\n",
    "fmt2=format_and_pad(\"%d\",15)  ##%d :정수\n",
    "print(fmt2(1.756))"
   ]
  },
  {
   "cell_type": "code",
   "execution_count": 119,
   "metadata": {},
   "outputs": [
    {
     "name": "stdout",
     "output_type": "stream",
     "text": [
      "밑변이나 반지름 값10\n",
      "삼격형이나 사각형의 높이를 입력10\n",
      "삼각형의 넓이는 50.0\n",
      "사각형의 넓이는 100\n",
      "원의 넓이는 314.1592653589793\n"
     ]
    }
   ],
   "source": [
    "#데이터를 입력받아\n",
    "#삼각형의 넓이 (밑변X높이)\n",
    "#사각형의 넓이 (밑변,높이)\n",
    "#원의 넓이를 계산하는 함수를 작성해 보시오(반지름) math.pi\n",
    "\n",
    "##nm=int(input(\"데이터\"))\n",
    "##h=int(input(\"데이터\"))\n",
    "#def s_nm(nm,h):\n",
    "#    return (nm*h)\n",
    "#print(s_nm)\n",
    "#\n",
    "\n",
    "#선생님답\n",
    "import math\n",
    "def calculate_tri(mylist):\n",
    "    return mylist[0]*mylist[1]/2\n",
    "\n",
    "def calculate_rec(mylist):\n",
    "    return mylist[0]*mylist[1]\n",
    "\n",
    "def calculate_cir(mylist):\n",
    "    return math.pi*(mylist[0]**2)\n",
    "mylist =[]\n",
    "width=eval(input(\"밑변이나 반지름 값\"))\n",
    "height=eval(input(\"삼각형이나 사각형의 높이를 입력\"))\n",
    "mylist.append(width)\n",
    "mylist.append(height)\n",
    "print(\"삼각형의 넓이는\",calculate_tri(mylist))\n",
    "print(\"사각형의 넓이는\",calculate_rec(mylist))\n",
    "print(\"원의 넓이는\",calculate_cir(mylist))"
   ]
  },
  {
   "cell_type": "code",
   "execution_count": 81,
   "metadata": {},
   "outputs": [
    {
     "name": "stdout",
     "output_type": "stream",
     "text": [
      "시간당 급여는:5000\n",
      "주간 총 근무시간:41\n",
      "주간 수입은 : 207,500.00원\n"
     ]
    }
   ],
   "source": [
    "#시간과 시간당 급여를 입력받아 주급을 계산하는 프로그램을 작성하시오\n",
    "#-조건:40시간이 넘으면 1.5배 하여 지급합니다.\n",
    "#    -매개변수(시간, 시간당 급여)\n",
    "\n",
    "#per_pay=int(input('급여입력'))\n",
    "\n",
    "#def per_pay(time,timepay):\n",
    "#    if per_pay>40\n",
    "    \n",
    "#선생님답\n",
    "basic=40   #상수는 변수화 하는 것이 유리:자꾸바꿔줘야 하니까\n",
    "def pay(wage,hours):\n",
    "    if hours <=basic:\n",
    "        amount=wage*hours\n",
    "    else:\n",
    "        amount=(wage*basic)+((1.5)*wage*(hours-basic))\n",
    "    return amount\n",
    "\n",
    "hoursWage=eval(input(\"시간당 급여는:\"))\n",
    "hoursWork=eval(input(\"주간 총 근무시간:\"))\n",
    "earning=pay(hoursWage,hoursWork)\n",
    "print(\"주간 수입은 : {0:,.2f}원\".format(earning))"
   ]
  },
  {
   "cell_type": "code",
   "execution_count": 88,
   "metadata": {},
   "outputs": [
    {
     "name": "stdout",
     "output_type": "stream",
     "text": [
      "예금액100000\n",
      "기간3\n",
      "예금총액:$112,486.40 이자총액:$12,486.40\n",
      "예금액100000\n",
      "기간3\n",
      "예금총액:$112,486.40 이자총액:$12,486.40\n"
     ]
    }
   ],
   "source": [
    "#이자율이 주어졌을때 기간거치 후의 총액과 이자수익을 출력하시오\n",
    "#복리계산=(원가1+이율0.04)**거치년수\n",
    "#매개변수:원금,거치기간\n",
    "#단서조건:입력함수,계산함수, 출력함수로 분리해서 작성하시오\n",
    "INTEREST_RATE=0.04\n",
    "\n",
    "#oney=int(input(\"원금:\")\n",
    "#ay=int(input(\"기간\"))\n",
    "#         \n",
    "#ef income(money,day):\n",
    "#   rate=(1+INTEREST_RATE)**day\n",
    "#   totalmoney=money*rate\n",
    "#   interest=totalmoney-money\n",
    "#   return (totalmoney,interest)\n",
    "          \n",
    "def getinput(): #입력\n",
    "    pricipal=eval(input(\"예금액\"))\n",
    "    number=eval(input(\"기간\"))\n",
    "    return (pricipal,number)\n",
    "          \n",
    "def balance(prin,number): #처리\n",
    "    balance=prin*((1+INTEREST_RATE)**number)\n",
    "    interest=balance-prin\n",
    "    return (balance,interest)\n",
    "def display(bal,intearned): #\n",
    "    print(\"예금총액:${:,.2f} 이자총액:${:,.2f}\".format(bal,intearned))\n",
    "    \n",
    "def main():\n",
    "    principal,number=getinput()\n",
    "    bal,intearned=balance(principal,number)\n",
    "    display(bal,intearned)\n",
    "    \n",
    "    display(*(balance(*(getinput()))))\n",
    "main()"
   ]
  },
  {
   "cell_type": "markdown",
   "metadata": {},
   "source": [
    "#함수화 프로그래밍 for +함수를 적용\n",
    "lambda 함수를 이용한 처리가 많음"
   ]
  },
  {
   "cell_type": "code",
   "execution_count": null,
   "metadata": {},
   "outputs": [],
   "source": [
    "(lambda x: x*x)(10)"
   ]
  },
  {
   "cell_type": "code",
   "execution_count": 89,
   "metadata": {},
   "outputs": [
    {
     "name": "stdout",
     "output_type": "stream",
     "text": [
      "11\n"
     ]
    },
    {
     "data": {
      "text/plain": [
       "15"
      ]
     },
     "execution_count": 89,
     "metadata": {},
     "output_type": "execute_result"
    }
   ],
   "source": [
    "incr=lambda x, incr=1:x +incr \n",
    "print(incr(10))\n",
    "incr(10,5)"
   ]
  },
  {
   "cell_type": "code",
   "execution_count": 91,
   "metadata": {},
   "outputs": [
    {
     "name": "stdout",
     "output_type": "stream",
     "text": [
      "['aaaa', 'foo', 'abab', 'bar', 'card']\n"
     ]
    }
   ],
   "source": [
    "#개수에 따른 정렬\n",
    "stings=['foo','card','bar','aaaa','abab']\n",
    "#정렬기준을 key에 함수로 전달()\n",
    "stings.sort(key=lambda x:len(set(list(x)))) #각 글자에 몇개의 알파벳이 쓰였는지, 그 개수의 오름차순으로 정렬한것 \n",
    "print(stings)\n",
    "\n",
    "#aaaa=1\n",
    "#foo,abab=2\n",
    "#bar=3\n",
    "#card=4"
   ]
  },
  {
   "cell_type": "code",
   "execution_count": 92,
   "metadata": {},
   "outputs": [
    {
     "name": "stdout",
     "output_type": "stream",
     "text": [
      "<map object at 0x000001A27EAADE08>\n",
      "[9, 16]\n"
     ]
    }
   ],
   "source": [
    "#디폴트가 없기때문\n",
    "m=map(lambda x:x*x,[3,4]) #[]가 데이터 ,고유한 포맷으로 출력되므로 바로 볼수 없다. \n",
    "print(m)\n",
    "print(list(m)) #list 로 캐스팅해야 출력됨"
   ]
  },
  {
   "cell_type": "code",
   "execution_count": 93,
   "metadata": {},
   "outputs": [
    {
     "data": {
      "text/plain": [
       "[0, 1, 4, 9, 16]"
      ]
     },
     "execution_count": 93,
     "metadata": {},
     "output_type": "execute_result"
    }
   ],
   "source": [
    "list(map(lambda x:x*x, range(5)))"
   ]
  },
  {
   "cell_type": "code",
   "execution_count": null,
   "metadata": {},
   "outputs": [],
   "source": [
    "#문제:다음 출근 시간 데이터에 대하여 기본금 10000원 시간당 7500원의 급여를 계산하고 lambda 함수와 map 함수를 이용하여 구하시오"
   ]
  },
  {
   "cell_type": "code",
   "execution_count": 101,
   "metadata": {},
   "outputs": [
    {
     "name": "stdout",
     "output_type": "stream",
     "text": [
      "[1210000, 1135000, 910000, 1360000, 2260000, 3010000]\n"
     ]
    }
   ],
   "source": [
    "total_time=[160,150,120,180,300,400]\n",
    "calc=lambda x :10000 +7500 *x\n",
    "pay=list(map(calc,total_time))\n",
    "print(pay)"
   ]
  },
  {
   "cell_type": "code",
   "execution_count": 95,
   "metadata": {},
   "outputs": [
    {
     "name": "stdout",
     "output_type": "stream",
     "text": [
      "[1210000, 1135000, 910000, 1360000, 2260000, 3010000]\n"
     ]
    }
   ],
   "source": [
    "pay=list(map(lambda x:10000+7500*x, total_time))\n",
    "print(pay)"
   ]
  },
  {
   "cell_type": "code",
   "execution_count": 100,
   "metadata": {},
   "outputs": [
    {
     "data": {
      "text/plain": [
       "[1, 3, 5, 7, 9]"
      ]
     },
     "execution_count": 100,
     "metadata": {},
     "output_type": "execute_result"
    }
   ],
   "source": [
    "def odd(p):\n",
    "    return [i for i in p if i%2] #홀수 \n",
    "odd(range(10))"
   ]
  },
  {
   "cell_type": "code",
   "execution_count": 118,
   "metadata": {},
   "outputs": [
    {
     "name": "stdout",
     "output_type": "stream",
     "text": [
      "[1, 3, 5, 7, 9, 11, 13, 15, 17, 19, 21, 23, 25, 27, 29, 31, 33, 35, 37, 39, 41, 43, 45, 47, 49, 51, 53, 55, 57, 59, 61, 63, 65, 67, 69, 71, 73, 75, 77, 79, 81, 83, 85, 87, 89, 91, 93, 95, 97, 99],"
     ]
    }
   ],
   "source": [
    "#필터의 함수는 True/False 를 리턴하는 함수여야 함\n",
    "def odd(k):\n",
    "    return k%2\n",
    "print(list(filter(odd,range(100))),end=\",\")"
   ]
  },
  {
   "cell_type": "code",
   "execution_count": 106,
   "metadata": {},
   "outputs": [
    {
     "name": "stdout",
     "output_type": "stream",
     "text": [
      "[3, 6, 9, 12, 15, 18, 21, 24, 27, 30, 33, 36, 39, 42, 45, 48, 51, 54, 57, 60, 63, 66, 69, 72, 75, 78, 81, 84, 87, 90, 93, 96, 99]"
     ]
    }
   ],
   "source": [
    "#문제: 1부터 99사이의 데이터중 3으로 나눠 떨ㄹ어지는 데이터를 filter를 이용해 구하시오\n",
    "def div3(num):\n",
    "    return num%3==0\n",
    "\n",
    "print(list(filter(div3,range(1,100))),end=\"\")"
   ]
  },
  {
   "cell_type": "code",
   "execution_count": 116,
   "metadata": {},
   "outputs": [
    {
     "data": {
      "text/plain": [
       "362880"
      ]
     },
     "execution_count": 116,
     "metadata": {},
     "output_type": "execute_result"
    }
   ],
   "source": [
    "#분산처리시 값을 계산할때 사용\n",
    "from functools import reduce\n",
    "reduce(lambda x,y:x*y,range(1,10)) #y= 새로운값, x=이전에 계산된 값 =>거꾸로 들어가는 것"
   ]
  },
  {
   "cell_type": "code",
   "execution_count": null,
   "metadata": {},
   "outputs": [],
   "source": []
  },
  {
   "cell_type": "code",
   "execution_count": 117,
   "metadata": {},
   "outputs": [
    {
     "data": {
      "text/plain": [
       "'edocba'"
      ]
     },
     "execution_count": 117,
     "metadata": {},
     "output_type": "execute_result"
    }
   ],
   "source": [
    "reduce(lambda x,y:y+x,'abcode')"
   ]
  },
  {
   "cell_type": "code",
   "execution_count": 114,
   "metadata": {},
   "outputs": [
    {
     "data": {
      "text/plain": [
       "5.0"
      ]
     },
     "execution_count": 114,
     "metadata": {},
     "output_type": "execute_result"
    }
   ],
   "source": [
    "#함수배열\n",
    "func_choice=[lambda x,y:x**y,lambda x,y:x/y]\n",
    "func_choice[0](10,2)\n",
    "func_choice[1](10,2)"
   ]
  },
  {
   "cell_type": "code",
   "execution_count": 113,
   "metadata": {},
   "outputs": [
    {
     "name": "stdout",
     "output_type": "stream",
     "text": [
      "[5, 6, 7, 8]\n"
     ]
    }
   ],
   "source": [
    "#문제:1)다음 데이터에서 4보다 큰 수만 출력하도록 filtering 해 보시오\n",
    "data=[1,2,3,4,5,6,7,8,3,4,2,1]\n",
    "\n",
    "fil=list(filter(lambda x:x>4, data))\n",
    "print(fil)"
   ]
  },
  {
   "cell_type": "code",
   "execution_count": 121,
   "metadata": {},
   "outputs": [
    {
     "name": "stdout",
     "output_type": "stream",
     "text": [
      "숫자를 입력하세요2\n",
      "나는 행복한 사람입니다.\n"
     ]
    }
   ],
   "source": [
    "#문제2)숫자를 입력 받아서 홀수 인 경우는 \"나는 행복합니다.\" 라고 출력하고 \n",
    "#짝수인 경우는 '나는 귀중한 사람입니다.'라고 출력하는 함수를 구현해 보시오\n",
    "num=int(input(\"숫자를 입력하세요\"))\n",
    "func=[lambda:print(\"나는 귀중한 사람입니다\"),\n",
    "      lambda:print(\"나는 행복한 사람입니다.\")]\n",
    "\n",
    "func[num%2==0]()\n",
    "       "
   ]
  },
  {
   "cell_type": "code",
   "execution_count": 136,
   "metadata": {},
   "outputs": [
    {
     "name": "stdout",
     "output_type": "stream",
     "text": [
      "이름1\n",
      "국어1\n",
      "영어1\n",
      "수학1\n",
      "이름\t국어\t영어\t수학\t총점\t평균\t\n",
      "1\t1\t1\t1\t3\t1.0\t"
     ]
    }
   ],
   "source": [
    "#성적프로그램을 입력, 처리, 출력 함수를 이용해서 구현하시오\n",
    "#이름, 국어, 영어, 수학, 총점, 평균\n",
    "#sungjuk=[] #전역적으로 선언하고 구현\n",
    "\n",
    "sungjuk=[]\n",
    "def getinput(): #입력\n",
    "    name=input(\"이름\")\n",
    "    kor=eval(input(\"국어\"))\n",
    "    eng=eval(input(\"영어\"))\n",
    "    math=eval(input(\"수학\"))\n",
    "    sungjuk.append(name)\n",
    "    sungjuk.append(kor)\n",
    "    sungjuk.append(eng)\n",
    "    sungjuk.append(math)\n",
    "    return sungjuk\n",
    "\n",
    "def chuery(sungjuk): #처리\n",
    "    hab=sum(sungjuk[1:])\n",
    "    average=hab/3\n",
    "    sungjuk.append(hab)\n",
    "    sungjuk.append(average)\n",
    "    return sungjuk\n",
    "\n",
    "def output(sungjuk): #출력\n",
    "    colnm=[\"이름\", \"국어\", \"영어\", \"수학\", \"총점\", \"평균\"]  #ct+sh+큰 따옴표 #\n",
    "    for i in range(len(colnm)):\n",
    "        print(colnm[i], end=\"\\t\")  #i= \"이름\", \"국어\", \"영어\", \"수학\", \"총점\", \"평균\" 순서대로 인덱스 번호\n",
    "    print()\n",
    "    for i in range(len(sungjuk)):\n",
    "        print(sungjuk[i], end=\"\\t\")\n",
    "\n",
    "\n",
    "output(chuery(getinput()))\n"
   ]
  }
 ],
 "metadata": {
  "kernelspec": {
   "display_name": "Python 3",
   "language": "python",
   "name": "python3"
  },
  "language_info": {
   "codemirror_mode": {
    "name": "ipython",
    "version": 3
   },
   "file_extension": ".py",
   "mimetype": "text/x-python",
   "name": "python",
   "nbconvert_exporter": "python",
   "pygments_lexer": "ipython3",
   "version": "3.7.4"
  }
 },
 "nbformat": 4,
 "nbformat_minor": 2
}
