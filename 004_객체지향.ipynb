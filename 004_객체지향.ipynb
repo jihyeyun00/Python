{
 "cells": [
  {
   "cell_type": "code",
   "execution_count": null,
   "metadata": {},
   "outputs": [],
   "source": [
    "#객체 지향 프로그래밍(class (꼴))=>(instance:메모리 확보)object(객체)\n",
    "-class:멤버변수(속성)+멤버함수(공유되어짐)\n",
    "-인스턴스할때 멤버변수(속성)를 저장하는 공간만 확보"
   ]
  },
  {
   "cell_type": "code",
   "execution_count": null,
   "metadata": {},
   "outputs": [],
   "source": [
    "width=10\n",
    "height=20\n",
    "area=10*20/2\n",
    "area=10*20/2\n",
    "print(\"삼각형의 넓이는\",area)"
   ]
  },
  {
   "cell_type": "code",
   "execution_count": 11,
   "metadata": {},
   "outputs": [
    {
     "name": "stdout",
     "output_type": "stream",
     "text": [
      "10 20 100.0\n"
     ]
    }
   ],
   "source": [
    "class Triangle:\n",
    "    def setData(self,width,height): #함수를 이용한 초기화 (self:default,매개변수 취급X)\n",
    "        self.width=width\n",
    "        self.height=height\n",
    "    def area(self): #매개변수 취급은 안함\n",
    "        return self.width*self.height/2\n",
    "tri1=Triangle() #인스턴스한다  ():함수처럼 괄호 해줘야함\n",
    "tri1.setData(10,20) #실시간으로 변수공간 확보\n",
    "print(tri1.width,tri1.height,tri1.area())"
   ]
  },
  {
   "cell_type": "code",
   "execution_count": 12,
   "metadata": {},
   "outputs": [
    {
     "name": "stdout",
     "output_type": "stream",
     "text": [
      "10 20 100.0\n"
     ]
    }
   ],
   "source": [
    "#__init__:object 에 있는 함수 (상속:클래스를 생성하면 자동으로 상속)\n",
    "class Triangle:\n",
    "    def __init__(self,width,height): #초기화 함수, 생성자, 강제로 호출 불가한 함수\n",
    "        self.width=width\n",
    "        self.height=height\n",
    "    def area(self): \n",
    "        return self.width*self.height/2\n",
    "tri1=Triangle(10,20)\n",
    "#tri1.__init__(10,20) 불가 인스턴스할때 자동으로 호출, 재정의한 함수다.\n",
    "print(tri1.width,tri1.height,tri1.area())"
   ]
  },
  {
   "cell_type": "code",
   "execution_count": 13,
   "metadata": {},
   "outputs": [
    {
     "data": {
      "text/plain": [
       "'클래스의 예'"
      ]
     },
     "execution_count": 13,
     "metadata": {},
     "output_type": "execute_result"
    }
   ],
   "source": [
    "#클래스변수, 멤버변수, 지역변수\n",
    "class MyClass(object):  #선언하는 순간에 메모리에 자리를 잡음,object 생략가능, 이미 만들어놓음\n",
    "    \"\"\"클래스의 예\"\"\"\n",
    "    i=12345   #class변수 - 공용변수, class시작부분에 선언\n",
    "    def __init__(self):\n",
    "        self.i=54321  #멤버변수, 실행되도 없어지지 않음 :self.변수명\n",
    "        num=100  #지역변수,실행되고 나면 없어짐 \n",
    "    def f(self):\n",
    "        return self.i\n",
    "MyClass.__doc__  #Object 의 속성"
   ]
  },
  {
   "cell_type": "code",
   "execution_count": 14,
   "metadata": {},
   "outputs": [
    {
     "name": "stdout",
     "output_type": "stream",
     "text": [
      "12345\n"
     ]
    }
   ],
   "source": [
    "print(MyClass.i)# 인스턴스하지 않고도 호출가능"
   ]
  },
  {
   "cell_type": "code",
   "execution_count": 18,
   "metadata": {},
   "outputs": [
    {
     "name": "stdout",
     "output_type": "stream",
     "text": [
      "54321\n"
     ]
    },
    {
     "data": {
      "text/plain": [
       "54321"
      ]
     },
     "execution_count": 18,
     "metadata": {},
     "output_type": "execute_result"
    }
   ],
   "source": [
    "myclass=MyClass() #self.i 에 대한 메모리 확보\n",
    "print(myclass.i) #멤버변수 호출 =print(MyClass().i)과 동일 \n",
    "myclass.f()"
   ]
  },
  {
   "cell_type": "code",
   "execution_count": 20,
   "metadata": {},
   "outputs": [
    {
     "name": "stdout",
     "output_type": "stream",
     "text": [
      "12345\n",
      "54321\n"
     ]
    }
   ],
   "source": [
    "print(MyClass.i) \n",
    "print(MyClass().i) #참조가 없기 때문에 사용과 동시에 메모리에서 사라짐"
   ]
  },
  {
   "cell_type": "code",
   "execution_count": 15,
   "metadata": {},
   "outputs": [
    {
     "name": "stdout",
     "output_type": "stream",
     "text": [
      "생성 Mon Dec 30 11:06:35 2019\n",
      "Sleeping for 3 sec\n",
      "사망 Mon Dec 30 11:06:38 2019\n"
     ]
    }
   ],
   "source": [
    "from time import time,ctime,sleep #시간은 초로 관리 ctime(문자열로 convert)\n",
    "class Life:\n",
    "    def __init__(self): #생성자\n",
    "        self.birth=ctime() #현재의 시간을 문자열로 변환\n",
    "        print(\"생성\",ctime()) \n",
    "    def __del__(self): #소멸자(메모리에서 사라질때 자동으로 호출)\n",
    "        print(\"사망\",ctime())    #??\n",
    "    def test(self):\n",
    "        #mylife=Life()\n",
    "        print(\"Sleeping for 3 sec\")\n",
    "        sleep(3)#초\n",
    "#주소를 불러와서 데이터를 읽는다. 주소는 스택에 저장되어 있다. 데이터의 실제값은 힙,즉 스택에 있는것 부르는거\n",
    "#데이터의 주소는  stack 에 저장, 실제값은 haap 에 저장 !!\n",
    "li=Life()  #오른쪽은 heap에 저장, 왼쪽은 그 주소를 가리키는 stack에 생성\n",
    "li.test()\n",
    "del li  #자동으로 garbage 컬렉션 됨"
   ]
  },
  {
   "cell_type": "code",
   "execution_count": 22,
   "metadata": {},
   "outputs": [],
   "source": [
    "#사원 관리\n",
    "class Employee:\n",
    "    empCount=0 \n",
    "    def __init__(self,name,salary):\n",
    "        self.name=name\n",
    "        self.salary=salary\n",
    "        Employee.empCount +=1\n",
    "    def displayCount(self):\n",
    "        print(\"직원 수=%d\" % Employee.empCount)\n",
    "    def displayEmployee(self):\n",
    "        print(\"이름:\",self.name,\"급여:\",self.salary)\n",
    "    def __call__(self,*pargs,**kargs):\n",
    "        print(\"Called:\",pargs,kargs)\n",
    "        "
   ]
  },
  {
   "cell_type": "code",
   "execution_count": 23,
   "metadata": {},
   "outputs": [
    {
     "name": "stdout",
     "output_type": "stream",
     "text": [
      "직원 수=1\n",
      "None\n",
      "직원 수=2\n",
      "None\n",
      "직원 수=2\n",
      "None\n",
      "이름: 김종호 급여: 500\n",
      "None\n",
      "이름: 김종호 급여: 500\n",
      "None\n",
      "Called: ('빅데타', 500, 100) {'c': 100}\n",
      "None\n"
     ]
    }
   ],
   "source": [
    "emp=Employee(\"김종호\",500)\n",
    "print(emp.displayCount()) #1\n",
    "emp1=Employee(\"빅데타\",500)\n",
    "print(emp1.displayCount())#2\n",
    "print(emp.displayCount())#2 공유변수이기 때문\n",
    "print(emp.displayEmployee()) #데이터를 담고 있는 위치가 다르기 때문\n",
    "print(emp.displayEmployee()) \n",
    "print(emp(\"빅데타\",500,100,c=100))#클래스를 함수처러 사용하고 싶을 때 #__call__ 을 오버라이딩 시킴 ??"
   ]
  },
  {
   "cell_type": "code",
   "execution_count": 28,
   "metadata": {},
   "outputs": [],
   "source": [
    "#실시간으로 변수를 추가 가능\n",
    "emp1.age=8\n",
    "emp.age=7"
   ]
  },
  {
   "cell_type": "code",
   "execution_count": 29,
   "metadata": {},
   "outputs": [
    {
     "name": "stdout",
     "output_type": "stream",
     "text": [
      "8\n",
      "7\n"
     ]
    }
   ],
   "source": [
    "print(emp1.age)\n",
    "print(emp.age)"
   ]
  },
  {
   "cell_type": "code",
   "execution_count": 32,
   "metadata": {},
   "outputs": [
    {
     "name": "stdout",
     "output_type": "stream",
     "text": [
      "{'name': '김종호', 'salary': 500, 'age': 7}\n"
     ]
    }
   ],
   "source": [
    "print(emp.__dict__)#object 를 상속 "
   ]
  },
  {
   "cell_type": "code",
   "execution_count": 33,
   "metadata": {},
   "outputs": [
    {
     "name": "stdout",
     "output_type": "stream",
     "text": [
      "2\n"
     ]
    }
   ],
   "source": [
    "print(Employee.empCount)"
   ]
  },
  {
   "cell_type": "code",
   "execution_count": 34,
   "metadata": {},
   "outputs": [
    {
     "name": "stdout",
     "output_type": "stream",
     "text": [
      "['__call__', '__class__', '__delattr__', '__dict__', '__dir__', '__doc__', '__eq__', '__format__', '__ge__', '__getattribute__', '__gt__', '__hash__', '__init__', '__init_subclass__', '__le__', '__lt__', '__module__', '__ne__', '__new__', '__reduce__', '__reduce_ex__', '__repr__', '__setattr__', '__sizeof__', '__str__', '__subclasshook__', '__weakref__', 'age', 'displayCount', 'displayEmployee', 'empCount', 'name', 'salary']\n"
     ]
    }
   ],
   "source": [
    "print(dir(emp))"
   ]
  },
  {
   "cell_type": "code",
   "execution_count": 36,
   "metadata": {},
   "outputs": [],
   "source": [
    "#문제\n",
    "#-이름과 나이를 저장하는 student clss를 생성하시오\n",
    "#-이름과 나이를 출력하는 pring 함수를 클래스 내에 정의하시오\n",
    "\n",
    "class student:  #사용자 정의 데이터 타입\n",
    "    \"\"\"학생관리\"\"\"\n",
    "    def __init__(self,name,age):\n",
    "        self.name=name\n",
    "        self.age=age\n",
    "    def print(self):\n",
    "        print(\"이름:\",self.name,\"나이\",self.age)\n",
    "    def __repr__(self): #repr을 overriding->print(class명)하면 출력됨(*repr 이전버전이 str)\n",
    "        return \"나의 이름은 \"+ self.name\n",
    "        "
   ]
  },
  {
   "cell_type": "code",
   "execution_count": 37,
   "metadata": {},
   "outputs": [
    {
     "name": "stdout",
     "output_type": "stream",
     "text": [
      "이름: 윤지혜 나이 33\n",
      "이름: 윤지혜 나이 33\n"
     ]
    }
   ],
   "source": [
    "f=student(\"윤지혜\",33)\n",
    "student(\"윤지혜\",33).print()  #아래와 같음!! 어차피 f로 치환한거니깐\n",
    "f.print()"
   ]
  },
  {
   "cell_type": "code",
   "execution_count": 34,
   "metadata": {},
   "outputs": [
    {
     "name": "stdout",
     "output_type": "stream",
     "text": [
      "나의 이름은윤지혜\n"
     ]
    }
   ],
   "source": [
    "print(f)"
   ]
  },
  {
   "cell_type": "code",
   "execution_count": 13,
   "metadata": {},
   "outputs": [
    {
     "name": "stdout",
     "output_type": "stream",
     "text": [
      "<class '__main__.student'>\n"
     ]
    }
   ],
   "source": [
    "#object로 부터 상속 \n",
    "print(f.__class__) #어떤 클래스 에서 인스턴스 되었는지를 확인"
   ]
  },
  {
   "cell_type": "code",
   "execution_count": 38,
   "metadata": {},
   "outputs": [
    {
     "name": "stdout",
     "output_type": "stream",
     "text": [
      "나의 이름은 김종호\n"
     ]
    }
   ],
   "source": [
    "#student('김종호',34)\n",
    "g=f.__class__('김종호',34)\n",
    "print(g)"
   ]
  },
  {
   "cell_type": "code",
   "execution_count": 42,
   "metadata": {},
   "outputs": [
    {
     "name": "stdout",
     "output_type": "stream",
     "text": [
      "좌표는 (7,3)\n",
      "좌표는 (4,7)\n"
     ]
    }
   ],
   "source": [
    "import math\n",
    "#1개를 다루는 클래스를 작성하고 있지만 거리값은 두개를 이용\n",
    "class Point:\n",
    "    def __init__(self,x,y): #생성자 \n",
    "        self.x=x  \n",
    "        self.y=y        \n",
    "    def __str__(self): #__repr__ 문자열을 요구하는 함수에 들어가면 작동\n",
    "        return \"좌표는 (%d,%d)\"%(self.x,self.y)\n",
    "    #두점 사이의 거리값\n",
    "    def dist(self,other): # other : 다른 Point객체(거리값은 두 개의 Point가 필요) #피타고라스 정리\n",
    "        distance=math.sqrt((self.x-other.x)**2+(self.y-other.y)**2) #math.sqrt가 루트씌우는것\n",
    "        return distance  \n",
    "    #두점의 충돌여부\n",
    "    def collision(self,other):\n",
    "        return self.dist(other)<3    ##first.dist(second)\n",
    "    \n",
    "first=Point(7,3)\n",
    "second=Point(4,7)\n",
    "print(first)\n",
    "print(second)"
   ]
  },
  {
   "cell_type": "code",
   "execution_count": 43,
   "metadata": {},
   "outputs": [
    {
     "name": "stdout",
     "output_type": "stream",
     "text": [
      "두점 사이의 거리는 = 5.0\n",
      "충돌하지 않았습니다\n"
     ]
    }
   ],
   "source": [
    "print(\"두점 사이의 거리는 =\",first.dist(second)) #\n",
    "if first.collision(second):  #\n",
    "    print (\"충돌했습니다.\")\n",
    "else:\n",
    "    print (\"충돌하지 않았습니다\")"
   ]
  },
  {
   "cell_type": "code",
   "execution_count": 44,
   "metadata": {},
   "outputs": [],
   "source": [
    "#문제:Point 클래스를 이용하여 Circle 클래스를 정의하시오.\n",
    "#원:중심점과 반지름\n",
    "#원과 원이 충돌하는지 여부를 확인하는 함수를 작성하시오\n",
    "\n",
    "\n",
    "#center=Point() 라고 생각하고 짜야\n",
    "class Circle:\n",
    "    def __init__(self,center,radius):  \n",
    "        self.center=center\n",
    "        self.radius=radius\n",
    "    def __str__(self):\n",
    "        return \"원의 중심은\"+str(self.center)+\"반지름은\"+str(self.radius)\n",
    "    def collision(self,other):\n",
    "        if self.center.dist(other.center)<self.radius+other.radius:\n",
    "            result=\"충돌한다\"\n",
    "        else:\n",
    "            return\"충돌하지 않는다\"\n",
    "        return result\n",
    "   "
   ]
  },
  {
   "cell_type": "code",
   "execution_count": 45,
   "metadata": {},
   "outputs": [
    {
     "name": "stdout",
     "output_type": "stream",
     "text": [
      "원의 중심은좌표는 (7,3)반지름은1\n",
      "원의 중심은좌표는 (4,7)반지름은5\n"
     ]
    },
    {
     "data": {
      "text/plain": [
       "8"
      ]
     },
     "execution_count": 45,
     "metadata": {},
     "output_type": "execute_result"
    }
   ],
   "source": [
    "cir=Circle(first,1) #center=first (x,y 좌표를 이미 가지고 있는 것 ),radius=1\n",
    "cir2=Circle(second,5)\n",
    "print(cir)\n",
    "print(cir2)\n",
    "\n",
    "\n",
    "\n",
    "def func(c):\n",
    "    c = c+1\n",
    "    return c\n",
    "    \n",
    "func(7)"
   ]
  },
  {
   "cell_type": "code",
   "execution_count": 58,
   "metadata": {},
   "outputs": [
    {
     "name": "stdout",
     "output_type": "stream",
     "text": [
      "충돌한다\n"
     ]
    },
    {
     "data": {
      "text/plain": [
       "'충돌한다'"
      ]
     },
     "execution_count": 58,
     "metadata": {},
     "output_type": "execute_result"
    }
   ],
   "source": [
    "print(cir.collision(cir2))\n",
    "Circle.collision(cir,cir2)#self"
   ]
  },
  {
   "cell_type": "code",
   "execution_count": 46,
   "metadata": {},
   "outputs": [
    {
     "name": "stdout",
     "output_type": "stream",
     "text": [
      "좌표는 (7,3), (4,7)\n",
      "12\n",
      "-2\n",
      "5.0\n"
     ]
    }
   ],
   "source": [
    "#절대값:abs :absolute\n",
    "#point를 이용해서 사각형 Rectangle\n",
    "#사각형의 면적을 구하는 함수를 작성 :밑변 X 높이\n",
    "#사각형의 둘레를 구하는 함수를 작성 :두변의 길이 X2\n",
    "#대각선의 길이를 구하는 함수를 작성 :\n",
    "\n",
    "class Rectangle:\n",
    "    def __init__(self,r1,r2): #r1,r2= x y 좌표를 해주는 것 맵핑 !!!\n",
    "        self.r1=r1\n",
    "        self.r2=r2\n",
    "    def __str__(self):\n",
    "        return \"좌표는 (%d,%d), (%d,%d)\"%( self.r1.x, self.r1.y, self.r2.x, self.r2.y ) #한 튜플안에 넣음\n",
    "    def wide(self):\n",
    "        wide=abs((self.r1.x-self.r2.x)*(self.r1.y-self.r2.y))\n",
    "        return wide\n",
    "    def dule(self):\n",
    "        dule=(self.r1.x-self.r2.x)*2+(self.r1.y-self.r2.y)*2\n",
    "        return dule\n",
    "    def diagonal_dist(self):    ##other는 다른 Point class 이고 멤버변수를 가지고 온것 #피타고라스 정리\n",
    "        distance=math.sqrt((self.r1.x-self.r2.x)**2+(self.r1.y-self.r2.y)**2)\n",
    "        return distance\n",
    "\n",
    "rect=Rectangle(first,second)\n",
    "print(rect)\n",
    "print(rect.wide())\n",
    "print(rect.dule())\n",
    "print(rect.diagonal_dist())          "
   ]
  },
  {
   "cell_type": "code",
   "execution_count": 47,
   "metadata": {},
   "outputs": [],
   "source": [
    "#문제 :vector class 를 작성하시오\n",
    "#-x,y의 2차원 벡터 구현\n",
    "#-벡터의 연산(+,-,*,/):요소별로 계산하면 됨\n",
    "#-dot 함수를 구현하시오:벡터의 요소별로 곱하고 모두 더해주면 내적 유사도\n",
    "#-cos 값으로 변환하는 함수를 수현하시오\n",
    "#    cos theta=acos(A내적B/|A||B|)\n",
    "#    |A|=math.sqrt(x^2+y^2)\n",
    "\n",
    "class Vector:\n",
    "    def __init__(self,x,y):\n",
    "        self.x=x\n",
    "        self.y=y\n",
    "    def __repr__(self):\n",
    "        return \"(좌표는 %d,%d)\" %(self.x,self.y)\n",
    "    def __add__(self,other): #연산자 오버로딩을 오버라이딩으로 구현한것 \n",
    "        return Vector(self.x+other.x,self.y+other.y) \n",
    "    def __mul__(self,other):\n",
    "        return Vector(self.x*other.x,self.y*other.y)\n",
    "    def __sub__(self,other):\n",
    "        return Vector(self.x-other.x,self.y-other.y)\n",
    "    def __truediv__(self,other): #div 2점 버전대에서 사용\n",
    "        return Vector(self.x/other.x,self.y/other.y)"
   ]
  },
  {
   "cell_type": "code",
   "execution_count": 48,
   "metadata": {},
   "outputs": [
    {
     "name": "stdout",
     "output_type": "stream",
     "text": [
      "(좌표는 10,23)\n",
      "(좌표는 20,46)\n",
      "(좌표는 30,50)\n",
      "(좌표는 200,621)\n",
      "(좌표는 0,0)\n"
     ]
    }
   ],
   "source": [
    "f=Vector(10,23)\n",
    "g=Vector(20,27)\n",
    "print(f)\n",
    "print(f+f)\n",
    "print(f+g)\n",
    "print(f*g)\n",
    "print(f/g)\n",
    "#print(f/g)"
   ]
  },
  {
   "cell_type": "code",
   "execution_count": 50,
   "metadata": {},
   "outputs": [],
   "source": [
    "#3차원 벡터를 클래스로 구현하시오.(연산자 오버로딩 +,-,*,/)\n",
    "class Vector:\n",
    "    def __init__(self,x,y,z):\n",
    "        self.x=x\n",
    "        self.y=y\n",
    "        self.z=z\n",
    "    def __repr__(self):\n",
    "        return \"(좌표는 %d,%d,%d)\" %(self.x,self.y,self.z)\n",
    "    def __add__(self,other): #연산자 오버로딩을 오버라이딩으로 구현한것 \n",
    "        return Vector(self.x+other.x,self.y+other.y,self.z+other.z) \n",
    "    def __mul__(self,other):\n",
    "        return Vector(self.x*other.x,self.y*other.y,self.z*other.z)\n",
    "    def __sub__(self,other):\n",
    "        return Vector(self.x-other.x,self.y-other.y,self.z-other.z)\n",
    "    def __truediv__(self,other): #div 2점 버전대에서 사용\n",
    "        return Vector(self.x/other.x,self.y/other.y,self.z/other.z)\n",
    "    def dist(self):\n",
    "        return math.sqrt(self.x*other.x+self.y*other.y+self.z*other.z) #\n",
    "    \n",
    "    #방향만 바뀌어야지 크기까지 바뀌면 안됨\n",
    "    def norm(self): #정규화(normalization)크기값이 1인 사이즈로 변경(반지름이 1인 사이즈)\n",
    "        dist=self.dist()\n",
    "        return self.x/dist,self.y/dis,self.z/dist     #?? 위에다가 아예 써도 되지 않음?\n",
    "    def dot(self,other):\n",
    "        dot=self.dot(other)\n",
    "        dist1=self.dist()\n",
    "        dist2=other.dist() #radian=>degree 로 (컴퓨터는 라디안만사용)\n",
    "        return math.acos(dot/(dist1*dist2))*(180/math.pi)#라디안=>디그리로 변환\n",
    "#변환과정이 필요 =>사람이 사용하는 각도 입력(90)=>라디안(호의 길이) 변환 (math.pi/180)\n",
    "#=>계산후 =>사람이 사용하는 degree로 변환해서 출력(180/math.pi)"
   ]
  },
  {
   "cell_type": "code",
   "execution_count": 89,
   "metadata": {},
   "outputs": [
    {
     "name": "stdout",
     "output_type": "stream",
     "text": [
      "(좌표는 10,23,30)\n",
      "(좌표는 30,53,70)\n",
      "(좌표는 200,690,1200)\n",
      "(좌표는 -10,-7,-10)\n",
      "(좌표는 0,0,0)\n"
     ]
    }
   ],
   "source": [
    "f1=Vector(10,23,30) #3차원은 x,y,z 좌표가 \n",
    "g1=Vector(20,30,40)\n",
    "\n",
    "print(f1)\n",
    "print(f1+g1)\n",
    "print(f1*g1)\n",
    "print(f1-g1)\n",
    "print(f1/g1)"
   ]
  },
  {
   "cell_type": "code",
   "execution_count": null,
   "metadata": {},
   "outputs": [],
   "source": [
    "#내적:두 벡터의 사이값과 같은 것 "
   ]
  },
  {
   "cell_type": "code",
   "execution_count": 90,
   "metadata": {},
   "outputs": [
    {
     "name": "stdout",
     "output_type": "stream",
     "text": [
      "(좌표는 10,0,0)\n",
      "(좌표는 20,0,0)\n",
      "(좌표는 10,-27,0)\n",
      "(좌표는 0,0,0)\n"
     ]
    },
    {
     "ename": "NameError",
     "evalue": "name 'other' is not defined",
     "output_type": "error",
     "traceback": [
      "\u001b[1;31m---------------------------------------------------------------------------\u001b[0m",
      "\u001b[1;31mNameError\u001b[0m                                 Traceback (most recent call last)",
      "\u001b[1;32m<ipython-input-90-2925b2bf2422>\u001b[0m in \u001b[0;36m<module>\u001b[1;34m\u001b[0m\n\u001b[0;32m      6\u001b[0m \u001b[0mprint\u001b[0m\u001b[1;33m(\u001b[0m\u001b[0mf\u001b[0m\u001b[1;33m-\u001b[0m\u001b[0mg\u001b[0m\u001b[1;33m)\u001b[0m\u001b[1;33m\u001b[0m\u001b[1;33m\u001b[0m\u001b[0m\n\u001b[0;32m      7\u001b[0m \u001b[0mprint\u001b[0m\u001b[1;33m(\u001b[0m\u001b[0mf\u001b[0m\u001b[1;33m*\u001b[0m\u001b[0mg\u001b[0m\u001b[1;33m)\u001b[0m\u001b[1;33m\u001b[0m\u001b[1;33m\u001b[0m\u001b[0m\n\u001b[1;32m----> 8\u001b[1;33m \u001b[0mprint\u001b[0m\u001b[1;33m(\u001b[0m\u001b[1;34m\"f벡터의 크기=\"\u001b[0m\u001b[1;33m,\u001b[0m\u001b[0mf\u001b[0m\u001b[1;33m.\u001b[0m\u001b[0mdist\u001b[0m\u001b[1;33m(\u001b[0m\u001b[1;33m)\u001b[0m\u001b[1;33m)\u001b[0m\u001b[1;33m\u001b[0m\u001b[1;33m\u001b[0m\u001b[0m\n\u001b[0m\u001b[0;32m      9\u001b[0m \u001b[0mprint\u001b[0m\u001b[1;33m(\u001b[0m\u001b[1;34m\"g벡터의 크리=\"\u001b[0m\u001b[1;33m,\u001b[0m\u001b[0mg\u001b[0m\u001b[1;33m.\u001b[0m\u001b[0mdist\u001b[0m\u001b[1;33m(\u001b[0m\u001b[1;33m)\u001b[0m\u001b[1;33m)\u001b[0m\u001b[1;33m\u001b[0m\u001b[1;33m\u001b[0m\u001b[0m\n\u001b[0;32m     10\u001b[0m \u001b[0mprint\u001b[0m\u001b[1;33m(\u001b[0m\u001b[1;34m\"f의 normal vector=\"\u001b[0m\u001b[1;33m,\u001b[0m\u001b[0mf\u001b[0m\u001b[1;33m.\u001b[0m\u001b[0mnorm\u001b[0m\u001b[1;33m(\u001b[0m\u001b[1;33m)\u001b[0m\u001b[1;33m)\u001b[0m \u001b[1;31m#1.0,0.0,0.0\u001b[0m\u001b[1;33m\u001b[0m\u001b[1;33m\u001b[0m\u001b[0m\n",
      "\u001b[1;32m<ipython-input-88-df1117c64857>\u001b[0m in \u001b[0;36mdist\u001b[1;34m(self)\u001b[0m\n\u001b[0;32m     16\u001b[0m         \u001b[1;32mreturn\u001b[0m \u001b[0mVector\u001b[0m\u001b[1;33m(\u001b[0m\u001b[0mself\u001b[0m\u001b[1;33m.\u001b[0m\u001b[0mx\u001b[0m\u001b[1;33m/\u001b[0m\u001b[0mother\u001b[0m\u001b[1;33m.\u001b[0m\u001b[0mx\u001b[0m\u001b[1;33m,\u001b[0m\u001b[0mself\u001b[0m\u001b[1;33m.\u001b[0m\u001b[0my\u001b[0m\u001b[1;33m/\u001b[0m\u001b[0mother\u001b[0m\u001b[1;33m.\u001b[0m\u001b[0my\u001b[0m\u001b[1;33m,\u001b[0m\u001b[0mself\u001b[0m\u001b[1;33m.\u001b[0m\u001b[0mz\u001b[0m\u001b[1;33m/\u001b[0m\u001b[0mother\u001b[0m\u001b[1;33m.\u001b[0m\u001b[0mz\u001b[0m\u001b[1;33m)\u001b[0m\u001b[1;33m\u001b[0m\u001b[1;33m\u001b[0m\u001b[0m\n\u001b[0;32m     17\u001b[0m     \u001b[1;32mdef\u001b[0m \u001b[0mdist\u001b[0m\u001b[1;33m(\u001b[0m\u001b[0mself\u001b[0m\u001b[1;33m)\u001b[0m\u001b[1;33m:\u001b[0m\u001b[1;33m\u001b[0m\u001b[1;33m\u001b[0m\u001b[0m\n\u001b[1;32m---> 18\u001b[1;33m         \u001b[1;32mreturn\u001b[0m \u001b[0mmath\u001b[0m\u001b[1;33m.\u001b[0m\u001b[0msqrt\u001b[0m\u001b[1;33m(\u001b[0m\u001b[0mself\u001b[0m\u001b[1;33m.\u001b[0m\u001b[0mx\u001b[0m\u001b[1;33m*\u001b[0m\u001b[0mother\u001b[0m\u001b[1;33m.\u001b[0m\u001b[0mx\u001b[0m\u001b[1;33m+\u001b[0m\u001b[0mself\u001b[0m\u001b[1;33m.\u001b[0m\u001b[0my\u001b[0m\u001b[1;33m*\u001b[0m\u001b[0mother\u001b[0m\u001b[1;33m.\u001b[0m\u001b[0my\u001b[0m\u001b[1;33m+\u001b[0m\u001b[0mself\u001b[0m\u001b[1;33m.\u001b[0m\u001b[0mz\u001b[0m\u001b[1;33m*\u001b[0m\u001b[0mother\u001b[0m\u001b[1;33m.\u001b[0m\u001b[0mz\u001b[0m\u001b[1;33m)\u001b[0m\u001b[1;33m\u001b[0m\u001b[1;33m\u001b[0m\u001b[0m\n\u001b[0m\u001b[0;32m     19\u001b[0m     \u001b[1;31m#방향만 바뀌어야지 크기까지 바뀌면 안됨\u001b[0m\u001b[1;33m\u001b[0m\u001b[1;33m\u001b[0m\u001b[1;33m\u001b[0m\u001b[0m\n\u001b[0;32m     20\u001b[0m     \u001b[1;32mdef\u001b[0m \u001b[0mnorm\u001b[0m\u001b[1;33m(\u001b[0m\u001b[0mself\u001b[0m\u001b[1;33m)\u001b[0m\u001b[1;33m:\u001b[0m \u001b[1;31m#정규화(normalization)크기값이 1인 사이즈로 변경(반지름이 1인 사이즈)\u001b[0m\u001b[1;33m\u001b[0m\u001b[1;33m\u001b[0m\u001b[0m\n",
      "\u001b[1;31mNameError\u001b[0m: name 'other' is not defined"
     ]
    }
   ],
   "source": [
    "f=Vector(10,0,0)\n",
    "g=Vector(0,27,0)\n",
    "\n",
    "print(f)\n",
    "print(f+f)\n",
    "print(f-g)\n",
    "print(f*g)\n",
    "print(\"f벡터의 크기=\",f.dist())\n",
    "print(\"g벡터의 크기=\",g.dist())\n",
    "print(\"f의 normal vector=\",f.norm()) #1.0,0.0,0.0\n",
    "print(\"g의 normal vector=\",g.norm()) #0.0,1.0,0.0\n",
    "print(\"두 벡터의 내적=\",g.dot(f)) #0  내적이 0이면 두 벡터는 90도 직교한다.\n",
    "print(\"f와 g의 사이각은=\",f.theta(g)) #90"
   ]
  },
  {
   "cell_type": "code",
   "execution_count": 95,
   "metadata": {},
   "outputs": [
    {
     "name": "stdout",
     "output_type": "stream",
     "text": [
      "a= [1, 2, 3]\n",
      "[[1, 2, 3], [4, 5, [1, 2, 3]], 100]\n",
      "[[1, 2, 3], [4, 5, [1, 2, 3]], 100]\n",
      "[[1, 2, 3], [4, 5, [1, 2, 3]], 100]\n",
      "[[1, 2, 3], [4, 5, [1, 2, 3]], 100]\n",
      "\n",
      "[[1, 2, 3, 100], [4, 5, [1, 2, 3, 100]], 100]\n",
      "[[1, 2, 3, 100], [4, 5, [1, 2, 3, 100]], 100]\n",
      "[[1, 2, 3], [4, 5, [1, 2, 3]], 100]\n",
      "[[1, 2, 3], [4, 5, [1, 2, 3]], 100]\n"
     ]
    }
   ],
   "source": [
    "import copy\n",
    "a=[1,2,3]\n",
    "b=[4,5,a] #a=[] ,주소\n",
    "x=[a,b,100]\n",
    "y=copy.copy(x) #주소복사\n",
    "t=copy.deepcopy(x) #원래의 요소를 공간에 복사한 다음 주소 전달\n",
    "e=copy.deepcopy(y)\n",
    "\n",
    "print(\"a=\",a)\n",
    "print(x)\n",
    "print(y)\n",
    "print(t)\n",
    "print(e)\n",
    "print()\n",
    "a.append(100)\n",
    "print(x)\n",
    "print(y)\n",
    "print(t)  #\n",
    "print(e)"
   ]
  },
  {
   "cell_type": "code",
   "execution_count": 1,
   "metadata": {},
   "outputs": [],
   "source": [
    "#이름,국어 수학 영어를 관리하는 student class를 작성하시오(1인분관리)\n",
    "#-총점과 평균도 계산해서 멤버변수에 저장  \n",
    "\n",
    "\n",
    "class Student:\n",
    "    stCount=0 #학생수 저장\n",
    "    def __init__(self,name,kor,eng,mat):\n",
    "        self.name=name\n",
    "        self.kor=int(kor)\n",
    "        self.eng=int(eng)\n",
    "        self.mat=int(mat)\n",
    "        self.tot=self.kor+self.eng+self.mat\n",
    "        self.aveg=(self.kor+self.eng+self.mat)/3\n",
    "        Student.stCount+=1\n",
    "        "
   ]
  },
  {
   "cell_type": "code",
   "execution_count": 2,
   "metadata": {},
   "outputs": [
    {
     "name": "stdout",
     "output_type": "stream",
     "text": [
      "1.입력 2.출력 3.계산 4.종료=>4\n"
     ]
    }
   ],
   "source": [
    "#메뉴화\n",
    "def start():\n",
    "    students=[]\n",
    "    while True:\n",
    "        choice=input(\"1.입력 2.출력 3.계산 4.종료=>\")\n",
    "        if choice==\"1\":\n",
    "            name=input(\"이름\")\n",
    "            kor=input(\"국어\")\n",
    "            eng=input(\"영어\")\n",
    "            mat=input(\"수학\")\n",
    "            stud=Student(name,kor,eng,mat)\n",
    "            students.append(stud)\n",
    "        elif choice==\"2\":\n",
    "            for s in students:\n",
    "                print(\"이름 :%s, 국어:%s, 영어:%s, 수학:%s, 총점:%s, 평균:%s\" %(s.name,s.kor,s.eng,s.mat,s.tot,s.aveg))\n",
    "        elif choice==\"3\":\n",
    "            kor_tot=0; eng_tot=0; mat_tot=0   #왜 0으로 들어가는지 꼭 이것을 써줘야 하는지\n",
    "            for s in students:\n",
    "                kor_tot+=s.kor\n",
    "                eng_tot+=s.eng\n",
    "                mat_tot+=s.mat\n",
    "            kor_aveg=round(kor_tot/len(students),2)\n",
    "            eng_aveg=round(eng_tot/len(students),2)\n",
    "            mat_aveg=round(mat_tot/len(students),2)\n",
    "            print(\"총 학생수:%s 명\"% len(students))\n",
    "            print(\"국어 평균:%s\\t\\t,영어평균:%s\\t\\t,수학평균:%s\\t\\t\"% (kor_aveg,eng_aveg,mat_aveg))\n",
    "        elif choice==\"4\":\n",
    "            break\n",
    "start()"
   ]
  },
  {
   "cell_type": "code",
   "execution_count": null,
   "metadata": {},
   "outputs": [],
   "source": [
    "#3번 국어, 영어, 수학의 반평균을 출력하시오"
   ]
  },
  {
   "cell_type": "code",
   "execution_count": 1,
   "metadata": {},
   "outputs": [],
   "source": [
    "#2개로 분리된 class\n",
    "#기본적인 데이터를 저장하는 클래스\n",
    "#Management(입력,출력,검색,수정등)\n",
    "#메뉴함수 ...못썼어...\n",
    "\n",
    "#1인분에 대한 데이터를 처리\n",
    "import sys\n",
    "class Student:\n",
    "    def __init__(self):\n",
    "        self.bunho=0; self.name=\"\";\n",
    "        self.kor=0; self.mat=0; self.eng=0\n",
    "        self.total=0; self.average=0; self.grade=\"\"\n",
    "    def inputData(self):\n",
    "        self.name=input(\"이름을 입력\")\n",
    "        self.kor=eval(input(\"국어점수\"))\n",
    "        self.mat=eval(input(\"수학점수\"))\n",
    "        self.eng=eval(input(\"영어점수\"))\n",
    "    def calc_total_average(self):\n",
    "        self.total=self.kor+self.mat+self.eng\n",
    "        self.average=round(self.total/3,2)\n",
    "        self.grade=self.calcSemGrade()\n",
    "    def calcSemGrade(self):\n",
    "        if self.average>=90:  return \"A\"\n",
    "        elif self.average>=80: return \"B\"\n",
    "        elif self.average>=70: return \"C\"\n",
    "        elif self.average>=60: return \"D\"\n",
    "        else:\n",
    "            return \"F\"\n",
    "    def __str__(self):\n",
    "        return \"%5s %5s %6.2f %6.2f %6.2f %7.2f  %7.2f  %5s \"% (self.bunho, self.name, self.kor,self.mat,self.eng,self.total,self.average,self.grade)\n",
    "    def __cmp__(self,other):\n",
    "        return self.name==other.name\n",
    "                                                        \n",
    "                                                           "
   ]
  },
  {
   "cell_type": "code",
   "execution_count": 8,
   "metadata": {},
   "outputs": [],
   "source": [
    "#여러사람에 대해서: 분리\n",
    "class Management:\n",
    "    schoolname=\"제주아카데미\"\n",
    "    bunho=0  #함수바깥에 선언된 함수는 클래스변수\n",
    "    def __init__(self,count):\n",
    "        print('메뉴를 선택')\n",
    "        self.sungjuk=[] #리스트로 초기화 됨\n",
    "        self.count=count\n",
    "    def input(self):\n",
    "        for co_in in range(self.count):\n",
    "              stu=Student() #인스턴스\n",
    "              stu.inputData()\n",
    "              Management.bunho+=1 #번호를 자동으로 입력하기 위해\n",
    "              stu.bunho=Management.bunho\n",
    "              self.sungjuk.append(stu)\n",
    "    def print_sungjuk(self):\n",
    "        for per in self. sungjuk:\n",
    "              print(per)\n",
    "              print()\n",
    "    def calc_sungjuk(self):\n",
    "        for per in self.sungjuk:\n",
    "            per.calc_total_average()\n",
    "    def search_name(self):\n",
    "        name=input('검색할 이름')\n",
    "        for per in self.sungjuk:\n",
    "            if(per.name==name):\n",
    "                print(per)\n",
    "                return\n",
    "        print('검색하고자 하는 이름 없음')\n",
    "        return\n",
    "    def update_name(self):\n",
    "        oldname=input(\"이름\")\n",
    "        newname=input(\"새로운이름\")\n",
    "        for per in self.sungjuk:\n",
    "            if(per.name==oldname):\n",
    "                per.name=newname\n",
    "    def del_name(self):\n",
    "        del_name=input(\"삭제할 이름\")\n",
    "        for per in self.sungjuk:\n",
    "            if(per.name==del_name):\n",
    "                self.sungjuk.remove(per)  #리스트:remove ..\n",
    "    def sort_average(self):\n",
    "        self.sungjuk.sort(key=lambda x:x.average,reverse=True)"
   ]
  },
  {
   "cell_type": "code",
   "execution_count": 9,
   "metadata": {},
   "outputs": [
    {
     "name": "stdout",
     "output_type": "stream",
     "text": [
      "메뉴를 선택\n",
      "['입력(1),출력(2),계산(3),검색(4),이름수정(5),이름삭제(6),정렬(8),종료(9)']1\n",
      "이름을 입력윤\n",
      "국어점수10\n",
      "수학점수20\n",
      "영어점수30\n",
      "이름을 입력김\n",
      "국어점수20\n",
      "수학점수30\n",
      "영어점수40\n",
      "이름을 입력박\n",
      "국어점수30\n",
      "수학점수40\n",
      "영어점수50\n",
      "['입력(1),출력(2),계산(3),검색(4),이름수정(5),이름삭제(6),정렬(8),종료(9)']2\n",
      "제주아카데미성적계산표\n",
      "   번호    이름     국어      수학     영어      총점      평균      학점 \n",
      "    1     윤  10.00  20.00  30.00    0.00     0.00        \n",
      "\n",
      "    2     김  20.00  30.00  40.00    0.00     0.00        \n",
      "\n",
      "    3     박  30.00  40.00  50.00    0.00     0.00        \n",
      "\n",
      "['입력(1),출력(2),계산(3),검색(4),이름수정(5),이름삭제(6),정렬(8),종료(9)']8\n",
      "['입력(1),출력(2),계산(3),검색(4),이름수정(5),이름삭제(6),정렬(8),종료(9)']2\n",
      "제주아카데미성적계산표\n",
      "   번호    이름     국어      수학     영어      총점      평균      학점 \n",
      "    1     윤  10.00  20.00  30.00    0.00     0.00        \n",
      "\n",
      "    2     김  20.00  30.00  40.00    0.00     0.00        \n",
      "\n",
      "    3     박  30.00  40.00  50.00    0.00     0.00        \n",
      "\n",
      "['입력(1),출력(2),계산(3),검색(4),이름수정(5),이름삭제(6),정렬(8),종료(9)']3\n",
      "계산이 완료되었다 -확인하려면 출력해\n",
      "['입력(1),출력(2),계산(3),검색(4),이름수정(5),이름삭제(6),정렬(8),종료(9)']8\n",
      "['입력(1),출력(2),계산(3),검색(4),이름수정(5),이름삭제(6),정렬(8),종료(9)']2\n",
      "제주아카데미성적계산표\n",
      "   번호    이름     국어      수학     영어      총점      평균      학점 \n",
      "    3     박  30.00  40.00  50.00  120.00    40.00      F \n",
      "\n",
      "    2     김  20.00  30.00  40.00   90.00    30.00      F \n",
      "\n",
      "    1     윤  10.00  20.00  30.00   60.00    20.00      F \n",
      "\n",
      "['입력(1),출력(2),계산(3),검색(4),이름수정(5),이름삭제(6),정렬(8),종료(9)']9\n"
     ]
    }
   ],
   "source": [
    "sj=['번호','이름','국어','수학','영어','총점','평균','학점']\n",
    "\n",
    "menu=['입력(1),출력(2),계산(3),검색(4),이름수정(5),이름삭제(6),정렬(8),종료(9)']\n",
    "man_sung=Management(3)\n",
    "while 1:\n",
    "    sel=input(menu)\n",
    "    if sel==\"1\":\n",
    "        man_sung.input()\n",
    "        continue\n",
    "    elif sel==\"2\":\n",
    "        print(Management.schoolname+ \"성적계산표\")\n",
    "        print(\"%5s %5s %6s  %6s %6s %7s %7s %7s \"% ('번호','이름','국어','수학','영어','총점','평균','학점'))\n",
    "        man_sung.print_sungjuk()\n",
    "        continue\n",
    "    elif sel==\"3\":\n",
    "        man_sung.calc_sungjuk()\n",
    "        print(\"계산이 완료되었다 -확인하려면 출력해\")\n",
    "        continue\n",
    "    elif sel==\"4\":\n",
    "        man_sung.search_name()\n",
    "        continue\n",
    "    elif sel==\"5\":\n",
    "        man_sung.update_name()\n",
    "        continue\n",
    "    elif sel==\"6\":\n",
    "        man_sung.del_name()\n",
    "        continue\n",
    "    elif sel==\"8\":\n",
    "        man_sung.sort_average()\n",
    "        continue\n",
    "    elif sel==\"9\":\n",
    "        break \n",
    "    else:\n",
    "        print(\"잘못입력했다.다시해\")\n",
    "        continue"
   ]
  }
 ],
 "metadata": {
  "kernelspec": {
   "display_name": "Python 3",
   "language": "python",
   "name": "python3"
  },
  "language_info": {
   "codemirror_mode": {
    "name": "ipython",
    "version": 3
   },
   "file_extension": ".py",
   "mimetype": "text/x-python",
   "name": "python",
   "nbconvert_exporter": "python",
   "pygments_lexer": "ipython3",
   "version": "3.7.4"
  }
 },
 "nbformat": 4,
 "nbformat_minor": 2
}
