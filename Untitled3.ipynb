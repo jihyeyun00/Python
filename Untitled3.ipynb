{
 "cells": [
  {
   "cell_type": "code",
   "execution_count": 1,
   "metadata": {},
   "outputs": [],
   "source": [
    "class Triangle:\n",
    "    def setData(self,width,height): #함수를 이용한 초기화\n",
    "        self.width=width\n",
    "        self.height=height\n",
    "    def area(self): #매개변수 취급은 안함\n",
    "        return self.width*self.height/2\n",
    "tri1=Triangle() #인스턴스한다()함수처럼 괄호 해줘야함\n",
    "tri1.setData(10,20) #실시간으로 변수공간 확보\n",
    "print(tri1.width,tri1.height,tri1.area())"
   ]
  },
  {
   "cell_type": "code",
   "execution_count": 5,
   "metadata": {},
   "outputs": [
    {
     "name": "stdout",
     "output_type": "stream",
     "text": [
      "직원 수=1\n",
      "None\n",
      "직원 수=2\n",
      "None\n",
      "직원 수=2\n",
      "None\n"
     ]
    }
   ],
   "source": [
    "class Employee:\n",
    "    empCount=0 \n",
    "    def __init__(self,name,salary):\n",
    "        self.name=name\n",
    "        self.salary=salary\n",
    "        Employee.empCount +=1\n",
    "    def displayCount(self):\n",
    "        print(\"직원 수=%d\" % Employee.empCount)\n",
    "    def displayEmployee(self):\n",
    "        print(\"이름:\",self.name,\"급여:\",self.salary)\n",
    "    def __call__(self,*pargs,**kargs):\n",
    "        print(\"Called:\",pargs,kargs)\n",
    "        \n",
    "emp=Employee(\"김종호\",500)\n",
    "print(emp.displayCount()) \n",
    "emp1=Employee(\"빅데타\",500)\n",
    "print(emp1.displayCount())\n",
    "print(emp.displayCount())"
   ]
  },
  {
   "cell_type": "code",
   "execution_count": 6,
   "metadata": {},
   "outputs": [
    {
     "ename": "IndentationError",
     "evalue": "expected an indented block (<ipython-input-6-5bf033e11e82>, line 2)",
     "output_type": "error",
     "traceback": [
      "\u001b[1;36m  File \u001b[1;32m\"<ipython-input-6-5bf033e11e82>\"\u001b[1;36m, line \u001b[1;32m2\u001b[0m\n\u001b[1;33m    print(__repr__)\u001b[0m\n\u001b[1;37m        ^\u001b[0m\n\u001b[1;31mIndentationError\u001b[0m\u001b[1;31m:\u001b[0m expected an indented block\n"
     ]
    }
   ],
   "source": [
    "def __repr__(self):\n",
    "print(__repr__)"
   ]
  },
  {
   "cell_type": "code",
   "execution_count": 8,
   "metadata": {},
   "outputs": [],
   "source": [
    "class student:  #사용자 정의 데이터 타입\n",
    "    \"\"\"학생관리\"\"\"\n",
    "    def __init__(self,name,age):\n",
    "        self.name=name\n",
    "        self.age=age\n",
    "    def print(self):\n",
    "        print(\"이름:\",self.name,\"나이\",self.age)\n",
    "    def __repr__(self): #repr을 overriding->print(class명)하면 출력됨(*repr 이전버전이 str)\n",
    "        return \"나의 이름은 \"+ self.name\n",
    "        "
   ]
  },
  {
   "cell_type": "code",
   "execution_count": 11,
   "metadata": {},
   "outputs": [
    {
     "name": "stdout",
     "output_type": "stream",
     "text": [
      "이름: 윤지혜 나이 33\n",
      "나의 이름은 윤지혜\n"
     ]
    }
   ],
   "source": [
    "f=student(\"윤지혜\",33)\n",
    "#f.print()\n",
    "student(\"윤지혜\",33).print()\n",
    "print(f)"
   ]
  },
  {
   "cell_type": "code",
   "execution_count": null,
   "metadata": {},
   "outputs": [],
   "source": [
    "class Point:\n",
    "    def __init__(self,x,y): #생성자 \n",
    "        self.x=x  \n",
    "        self.y=y\n",
    "    def __str__(self): #__repr__ 문자열을 요구하는 함수에 들어가면 작동\n",
    "        return \"좌표는 (%d,%d)\"%(self.x,self.y)\n",
    "    def dist(self,other):    ##other는 다른 Point class 이고 멤버변수를 가지고 온것 #피타고라스 정리\n",
    "        distance=math.sqrt((self.x-other.x)**2+(self.y-other.y)**2)\n",
    "        return distance\n",
    "    def collision(self,other):\n",
    "        return self.dist(other)<3\n",
    "    \n",
    "first=Point(7,3)\n",
    "second=Point(4,7)\n",
    "print(first)\n",
    "print(second)"
   ]
  }
 ],
 "metadata": {
  "kernelspec": {
   "display_name": "Python 3",
   "language": "python",
   "name": "python3"
  },
  "language_info": {
   "codemirror_mode": {
    "name": "ipython",
    "version": 3
   },
   "file_extension": ".py",
   "mimetype": "text/x-python",
   "name": "python",
   "nbconvert_exporter": "python",
   "pygments_lexer": "ipython3",
   "version": "3.7.4"
  }
 },
 "nbformat": 4,
 "nbformat_minor": 2
}
