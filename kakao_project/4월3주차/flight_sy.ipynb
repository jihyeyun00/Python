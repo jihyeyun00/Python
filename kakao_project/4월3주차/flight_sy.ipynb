{
 "cells": [
  {
   "cell_type": "code",
   "execution_count": null,
   "metadata": {},
   "outputs": [],
   "source": [
    "import pandas as pd\n",
    "import urllib.request\n",
    "import requests\n",
    "from bs4 import BeautifulSoup"
   ]
  },
  {
   "cell_type": "code",
   "execution_count": null,
   "metadata": {},
   "outputs": [],
   "source": [
    "key = \"kMp5bNdDlE6%2FAh38y4amt4hwbKsh4JZlPkgj0WmWEHTMfhyE9Sa1Hojx0Jbj4Gi7QXC7jRoWloXcXBsp3QtJgg%3D%3D\"\n",
    "def dataset(key) :\n",
    "    \n",
    "    tag_list = [\"airfln\",'airlineenglish','airlinekorean','airport','arrivedeng',\n",
    "           'arrivedkor','boardingeng','boardingkor','city','etd','gate',\n",
    "           'io','line','rmkeng','rmkkor','std']\n",
    "    \n",
    "    url = \"http://openapi.airport.co.kr/service/rest/FlightStatusList/getFlightStatusList?ServiceKey=\"+key+\"&schStTime=0600&schEdTime=1800&schAirCode=CJU&pageNo=1\"\n",
    "    dataset = []\n",
    "    for i in tag_list:\n",
    "        dataList = []\n",
    "        res = requests.get(url)\n",
    "        soup = BeautifulSoup(res.content, 'html.parser')\n",
    "        find_soup = soup.find_all(i)\n",
    "        for j in find_soup :\n",
    "            dataList.append(j.get_text())\n",
    "        dataset.append(dataList)\n",
    "    return pd.DataFrame(dataset)\n",
    "\n",
    "dataset = dataset(key)\n",
    "dataset"
   ]
  }
 ],
 "metadata": {
  "kernelspec": {
   "display_name": "Python 3",
   "language": "python",
   "name": "python3"
  },
  "language_info": {
   "codemirror_mode": {
    "name": "ipython",
    "version": 3
   },
   "file_extension": ".py",
   "mimetype": "text/x-python",
   "name": "python",
   "nbconvert_exporter": "python",
   "pygments_lexer": "ipython3",
   "version": "3.7.4"
  },
  "toc": {
   "base_numbering": 1,
   "nav_menu": {},
   "number_sections": true,
   "sideBar": true,
   "skip_h1_title": false,
   "title_cell": "Table of Contents",
   "title_sidebar": "Contents",
   "toc_cell": false,
   "toc_position": {},
   "toc_section_display": true,
   "toc_window_display": false
  }
 },
 "nbformat": 4,
 "nbformat_minor": 2
}
