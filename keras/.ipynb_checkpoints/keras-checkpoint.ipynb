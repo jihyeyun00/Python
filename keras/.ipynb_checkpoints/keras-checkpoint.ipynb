{
 "cells": [
  {
   "cell_type": "markdown",
   "metadata": {},
   "source": [
    "# keras --> 프로그래밍이 간단해진다. \n",
    "\n",
    "- Backend - tensorflow\n",
    "          - CNTK\n",
    "          - Theamo\n",
    "            \n",
    "- constant , variables , placeholder --> 행렬연산\n",
    "- loss function , activation, optimizer\n",
    "- keras는 텐서플로의 과정을 내포시켜 놓았다. \n",
    "- Dense --> 가중치가 자동으로 만들어지는 함수 ( tensorflow 안에서 ) --> variable을 선언할 필요 x 등등...\n",
    "\n",
    "\n",
    "- keras --> add를 통해서 layer를 추가\n",
    "        --> retrun 받는 과정을 생략한다. 체이닝을 할 필요가 xx\n",
    "        --> 이전 layer에서 계산된 결과가 자동으로 들어간다. \n",
    "        --> 가중치를 선언할 필요가 없다 위에서 설명할때의 Dense 처럼. \n",
    "<span style = \"color:red\">--> @@중@@ 출력 차수만을 지정해주면 이전 레이어에서 들어온 값과 출력 차수를 계산해서 다음 레이어로 보내준다 @@요@@</span>\n",
    "- keras model을 만드는 방법  --> seqential\n",
    "                             --> functional  (multi input multi output)\n",
    "                             --> model  --> 클래스 베이스로 프로그래밍 하게 만들어져 있다. \n",
    "                            \n",
    "- loss , activation , optimizer를 compile의 매개 변수로 넣어줘야한다. \n",
    "- Data 입력 , epoch, batch_size, validation   를  fit의 매개변수로 넣어줘야한다. \n",
    "- evaluate --> predict 를 이용해서  프로그램을 만들수 있다. \n",
    "\n",
    "- keras와 sklearn이 같이 연결되어 있음. --> classifer 와 regressior를 사용(?) --> 분류와 예측. \n",
    "- pre training --> transfer learning --> 가중치가 어느정도 학습이 되어 져 있음. \n",
    "- 이걸 케라스에서는 application 으로 들어와 있다. \n",
    "- RNN도 10단계 이상을 진행하면 기울기 손실이 생길수 밖에 없다.--> 그래서 나온게 LSTM이다. --> LSTM을 바꾼게 --> GRU(updata, reset)()\n",
    "\n",
    "- seq2seq가 효율이 별로 좋지 않아서 만든게 attention이더라. \n",
    "- attention --> 가중치 3개를 가지고 만든것.\n",
    "- NMT == seq2seq + attention\n",
    "- transformer == (?) seq2seq\n",
    "- BERT (bi-directional embedding Transformer)\n",
    "-\n",
    "-\n",
    "- Image -> openCv\n",
    "- sound -> libosa\n",
    "- text -> gensim\n",
    "- 이미지에서는 GAN 이 트렌드 , 텍스트에서는 BERT가 트렌드이다. \n",
    "\n",
    "\n",
    "- tensorflow를 배우는 이유--> 뭔가 작업을 자동화 시키기 위해서. \n",
    "### 예를 들어서. \n",
    "- 공장에서 나오는 기계 소리를 분석해서 어떤 소리가 들리면 이건 일주일 후에 고장난다라는 예측을 하자. \n",
    "\n",
    "\n",
    "\n",
    "\n",
    "\n",
    "\n",
    "\n",
    "\n"
   ]
  },
  {
   "cell_type": "code",
   "execution_count": 1,
   "metadata": {
    "scrolled": true
   },
   "outputs": [
    {
     "name": "stderr",
     "output_type": "stream",
     "text": [
      "Using TensorFlow backend.\n",
      "C:\\Users\\ICT01_04\\Anaconda3\\lib\\site-packages\\tensorflow\\python\\framework\\dtypes.py:516: FutureWarning: Passing (type, 1) or '1type' as a synonym of type is deprecated; in a future version of numpy, it will be understood as (type, (1,)) / '(1,)type'.\n",
      "  _np_qint8 = np.dtype([(\"qint8\", np.int8, 1)])\n",
      "C:\\Users\\ICT01_04\\Anaconda3\\lib\\site-packages\\tensorflow\\python\\framework\\dtypes.py:517: FutureWarning: Passing (type, 1) or '1type' as a synonym of type is deprecated; in a future version of numpy, it will be understood as (type, (1,)) / '(1,)type'.\n",
      "  _np_quint8 = np.dtype([(\"quint8\", np.uint8, 1)])\n",
      "C:\\Users\\ICT01_04\\Anaconda3\\lib\\site-packages\\tensorflow\\python\\framework\\dtypes.py:518: FutureWarning: Passing (type, 1) or '1type' as a synonym of type is deprecated; in a future version of numpy, it will be understood as (type, (1,)) / '(1,)type'.\n",
      "  _np_qint16 = np.dtype([(\"qint16\", np.int16, 1)])\n",
      "C:\\Users\\ICT01_04\\Anaconda3\\lib\\site-packages\\tensorflow\\python\\framework\\dtypes.py:519: FutureWarning: Passing (type, 1) or '1type' as a synonym of type is deprecated; in a future version of numpy, it will be understood as (type, (1,)) / '(1,)type'.\n",
      "  _np_quint16 = np.dtype([(\"quint16\", np.uint16, 1)])\n",
      "C:\\Users\\ICT01_04\\Anaconda3\\lib\\site-packages\\tensorflow\\python\\framework\\dtypes.py:520: FutureWarning: Passing (type, 1) or '1type' as a synonym of type is deprecated; in a future version of numpy, it will be understood as (type, (1,)) / '(1,)type'.\n",
      "  _np_qint32 = np.dtype([(\"qint32\", np.int32, 1)])\n",
      "C:\\Users\\ICT01_04\\Anaconda3\\lib\\site-packages\\tensorflow\\python\\framework\\dtypes.py:525: FutureWarning: Passing (type, 1) or '1type' as a synonym of type is deprecated; in a future version of numpy, it will be understood as (type, (1,)) / '(1,)type'.\n",
      "  np_resource = np.dtype([(\"resource\", np.ubyte, 1)])\n",
      "C:\\Users\\ICT01_04\\Anaconda3\\lib\\site-packages\\tensorboard\\compat\\tensorflow_stub\\dtypes.py:541: FutureWarning: Passing (type, 1) or '1type' as a synonym of type is deprecated; in a future version of numpy, it will be understood as (type, (1,)) / '(1,)type'.\n",
      "  _np_qint8 = np.dtype([(\"qint8\", np.int8, 1)])\n",
      "C:\\Users\\ICT01_04\\Anaconda3\\lib\\site-packages\\tensorboard\\compat\\tensorflow_stub\\dtypes.py:542: FutureWarning: Passing (type, 1) or '1type' as a synonym of type is deprecated; in a future version of numpy, it will be understood as (type, (1,)) / '(1,)type'.\n",
      "  _np_quint8 = np.dtype([(\"quint8\", np.uint8, 1)])\n",
      "C:\\Users\\ICT01_04\\Anaconda3\\lib\\site-packages\\tensorboard\\compat\\tensorflow_stub\\dtypes.py:543: FutureWarning: Passing (type, 1) or '1type' as a synonym of type is deprecated; in a future version of numpy, it will be understood as (type, (1,)) / '(1,)type'.\n",
      "  _np_qint16 = np.dtype([(\"qint16\", np.int16, 1)])\n",
      "C:\\Users\\ICT01_04\\Anaconda3\\lib\\site-packages\\tensorboard\\compat\\tensorflow_stub\\dtypes.py:544: FutureWarning: Passing (type, 1) or '1type' as a synonym of type is deprecated; in a future version of numpy, it will be understood as (type, (1,)) / '(1,)type'.\n",
      "  _np_quint16 = np.dtype([(\"quint16\", np.uint16, 1)])\n",
      "C:\\Users\\ICT01_04\\Anaconda3\\lib\\site-packages\\tensorboard\\compat\\tensorflow_stub\\dtypes.py:545: FutureWarning: Passing (type, 1) or '1type' as a synonym of type is deprecated; in a future version of numpy, it will be understood as (type, (1,)) / '(1,)type'.\n",
      "  _np_qint32 = np.dtype([(\"qint32\", np.int32, 1)])\n",
      "C:\\Users\\ICT01_04\\Anaconda3\\lib\\site-packages\\tensorboard\\compat\\tensorflow_stub\\dtypes.py:550: FutureWarning: Passing (type, 1) or '1type' as a synonym of type is deprecated; in a future version of numpy, it will be understood as (type, (1,)) / '(1,)type'.\n",
      "  np_resource = np.dtype([(\"resource\", np.ubyte, 1)])\n"
     ]
    },
    {
     "name": "stdout",
     "output_type": "stream",
     "text": [
      "WARNING:tensorflow:From C:\\Users\\ICT01_04\\Anaconda3\\lib\\site-packages\\keras\\backend\\tensorflow_backend.py:422: The name tf.global_variables is deprecated. Please use tf.compat.v1.global_variables instead.\n",
      "\n",
      "입력데이터 = [0.72514063 0.74570817], 예측결과 = [0.8952212]\n",
      "입력데이터 = [0.5294337  0.37245742], 예측결과 = [0.40100086]\n",
      "입력데이터 = [0.69163493 0.39282232], 예측결과 = [0.5707431]\n"
     ]
    }
   ],
   "source": [
    "#Dense망은 FFNN을 만들때 사용한다. \n",
    "\n",
    "from keras.models import Sequential   # keras안에 models안에 서브패키지에 있다. \n",
    "from keras.layers import Dense       # layers에서 모델을 구성한다. \n",
    "from sklearn.datasets import make_regression \n",
    "from sklearn.preprocessing import MinMaxScaler\n",
    "# 신경망에서는 정규화 시켜줘야한다. \n",
    "X, y = make_regression(n_samples = 100, n_features = 2, noise =0.1, random_state = 42)\n",
    "# X = 100x 2 y = 100개가 나온다. \n",
    "# 회귀하고있음. \n",
    "\n",
    "scalarX, scalarY = MinMaxScaler(), MinMaxScaler()  # 데이터가 다르고 데이터의 사이즈( 값의 범위)가 다르기 때문에 두개로 만들어준다. \n",
    "\n",
    "scalarX.fit(X)  \n",
    "scalarY.fit(y.reshape(100,1))  # 위에서 열로 100개가 만들어졌기 때문에 행으로 만들어 주기 위해서. \n",
    "X = scalarX.transform(X)\n",
    "y = scalarY.transform(y.reshape(100,1))\n",
    "\n",
    "\n",
    "# 케라스의 모델을 시작한다. \n",
    "\n",
    "# Dense 망을 시작한다. \n",
    "model = Sequential()\n",
    "model.add(Dense(4, input_dim = 2, activation = 'relu'))  # 여기서 4는 출력 차수로 지정한다. \n",
    "# 인풋데이터 100X2 일때 출력이 4인데  가중치를 맞춰줄려고 2x4로 만들어준다 따라서 여기서 100x2, 2X4가 된다 --> 100x4의 형태. \n",
    "\n",
    "model.add(Dense(4, activation = 'relu'))\n",
    "# 앞 layer의 값 100X 4가 들어오고  가중치는 100X4 , 4X4, 즉 100x4로 출력된다. \n",
    "# 여기까지 layer Depth = 2\n",
    "model.add(Dense(1, activation = 'linear'))\n",
    "# 100X4, 4X1 100X1로 예측된다. \n",
    "model.compile(loss = 'mse', optimizer = 'adam')  # tensorflow 모델을 변환한다. 여기까지 모델을 만들어놓고 \n",
    "# 회귀에서는 mse , 분류에서는 cross-entropy, Gan에서는 KL-divergence\n",
    "model.fit(X,y, epochs= 1000, verbose = 0)  # 여기에서 fit해서 작동 시킨다. \n",
    "# 안에서 2중 for 문이 작동한다. \n",
    "# X,y == 인풋데이터 , \n",
    "Xnew, a = make_regression(n_samples = 3, n_features = 2, noise = 0.1, random_state = 42)\n",
    "Xnew = scalarX.transform(Xnew)\n",
    "ynew = model.predict(Xnew)\n",
    "for i in range(len(Xnew)):\n",
    "    print(\"입력데이터 = %s, 예측결과 = %s\" % (Xnew[i], ynew[i])) "
   ]
  },
  {
   "cell_type": "code",
   "execution_count": 2,
   "metadata": {},
   "outputs": [
    {
     "name": "stdout",
     "output_type": "stream",
     "text": [
      "WARNING:tensorflow:From C:\\Users\\ICT01_04\\Anaconda3\\lib\\site-packages\\tensorflow\\python\\ops\\nn_impl.py:180: add_dispatch_support.<locals>.wrapper (from tensorflow.python.ops.array_ops) is deprecated and will be removed in a future version.\n",
      "Instructions for updating:\n",
      "Use tf.where in 2.0, which has the same broadcast rule as np.where\n",
      "Train on 514 samples, validate on 254 samples\n",
      "Epoch 1/150\n",
      "514/514 [==============================] - 0s 638us/step - loss: 0.6796 - accuracy: 0.6401 - val_loss: 0.6586 - val_accuracy: 0.6732\n",
      "Epoch 2/150\n",
      "514/514 [==============================] - 0s 120us/step - loss: 0.6687 - accuracy: 0.6401 - val_loss: 0.6535 - val_accuracy: 0.6732\n",
      "Epoch 3/150\n",
      "514/514 [==============================] - 0s 119us/step - loss: 0.6618 - accuracy: 0.6401 - val_loss: 0.6519 - val_accuracy: 0.6732\n",
      "Epoch 4/150\n",
      "514/514 [==============================] - 0s 117us/step - loss: 0.6542 - accuracy: 0.6342 - val_loss: 0.6457 - val_accuracy: 0.6811\n",
      "Epoch 5/150\n",
      "514/514 [==============================] - 0s 111us/step - loss: 0.6458 - accuracy: 0.6401 - val_loss: 0.6367 - val_accuracy: 0.7008\n",
      "Epoch 6/150\n",
      "514/514 [==============================] - 0s 114us/step - loss: 0.6386 - accuracy: 0.6420 - val_loss: 0.6234 - val_accuracy: 0.6811\n",
      "Epoch 7/150\n",
      "514/514 [==============================] - 0s 140us/step - loss: 0.6320 - accuracy: 0.6595 - val_loss: 0.6158 - val_accuracy: 0.6890\n",
      "Epoch 8/150\n",
      "514/514 [==============================] - 0s 140us/step - loss: 0.6216 - accuracy: 0.6732 - val_loss: 0.6046 - val_accuracy: 0.6850\n",
      "Epoch 9/150\n",
      "514/514 [==============================] - 0s 121us/step - loss: 0.6170 - accuracy: 0.6693 - val_loss: 0.6052 - val_accuracy: 0.6850\n",
      "Epoch 10/150\n",
      "514/514 [==============================] - 0s 117us/step - loss: 0.6109 - accuracy: 0.6907 - val_loss: 0.5935 - val_accuracy: 0.7008\n",
      "Epoch 11/150\n",
      "514/514 [==============================] - 0s 122us/step - loss: 0.6019 - accuracy: 0.6965 - val_loss: 0.6129 - val_accuracy: 0.6929\n",
      "Epoch 12/150\n",
      "514/514 [==============================] - 0s 106us/step - loss: 0.6062 - accuracy: 0.6770 - val_loss: 0.5826 - val_accuracy: 0.7244\n",
      "Epoch 13/150\n",
      "514/514 [==============================] - 0s 120us/step - loss: 0.6016 - accuracy: 0.7004 - val_loss: 0.5841 - val_accuracy: 0.6890\n",
      "Epoch 14/150\n",
      "514/514 [==============================] - 0s 118us/step - loss: 0.5905 - accuracy: 0.7023 - val_loss: 0.5769 - val_accuracy: 0.7205\n",
      "Epoch 15/150\n",
      "514/514 [==============================] - 0s 111us/step - loss: 0.5879 - accuracy: 0.7121 - val_loss: 0.5741 - val_accuracy: 0.7047\n",
      "Epoch 16/150\n",
      "514/514 [==============================] - 0s 108us/step - loss: 0.5941 - accuracy: 0.7043 - val_loss: 0.5713 - val_accuracy: 0.7047\n",
      "Epoch 17/150\n",
      "514/514 [==============================] - 0s 114us/step - loss: 0.5867 - accuracy: 0.7101 - val_loss: 0.5656 - val_accuracy: 0.7205\n",
      "Epoch 18/150\n",
      "514/514 [==============================] - 0s 112us/step - loss: 0.5841 - accuracy: 0.7140 - val_loss: 0.5726 - val_accuracy: 0.7087\n",
      "Epoch 19/150\n",
      "514/514 [==============================] - 0s 126us/step - loss: 0.5847 - accuracy: 0.7043 - val_loss: 0.5729 - val_accuracy: 0.7126\n",
      "Epoch 20/150\n",
      "514/514 [==============================] - 0s 112us/step - loss: 0.5815 - accuracy: 0.7160 - val_loss: 0.5664 - val_accuracy: 0.7165\n",
      "Epoch 21/150\n",
      "514/514 [==============================] - 0s 112us/step - loss: 0.5746 - accuracy: 0.7160 - val_loss: 0.5746 - val_accuracy: 0.7087\n",
      "Epoch 22/150\n",
      "514/514 [==============================] - 0s 104us/step - loss: 0.5707 - accuracy: 0.7432 - val_loss: 0.5637 - val_accuracy: 0.7165\n",
      "Epoch 23/150\n",
      "514/514 [==============================] - 0s 129us/step - loss: 0.5740 - accuracy: 0.6984 - val_loss: 0.5645 - val_accuracy: 0.7205\n",
      "Epoch 24/150\n",
      "514/514 [==============================] - 0s 113us/step - loss: 0.5586 - accuracy: 0.7374 - val_loss: 0.5574 - val_accuracy: 0.7244\n",
      "Epoch 25/150\n",
      "514/514 [==============================] - 0s 114us/step - loss: 0.5654 - accuracy: 0.7237 - val_loss: 0.5544 - val_accuracy: 0.7126\n",
      "Epoch 26/150\n",
      "514/514 [==============================] - 0s 112us/step - loss: 0.5605 - accuracy: 0.7315 - val_loss: 0.5595 - val_accuracy: 0.7047\n",
      "Epoch 27/150\n",
      "514/514 [==============================] - 0s 113us/step - loss: 0.5579 - accuracy: 0.7374 - val_loss: 0.5602 - val_accuracy: 0.7126\n",
      "Epoch 28/150\n",
      "514/514 [==============================] - 0s 124us/step - loss: 0.5566 - accuracy: 0.7315 - val_loss: 0.6341 - val_accuracy: 0.5984\n",
      "Epoch 29/150\n",
      "514/514 [==============================] - 0s 126us/step - loss: 0.5580 - accuracy: 0.7276 - val_loss: 0.5730 - val_accuracy: 0.7205\n",
      "Epoch 30/150\n",
      "514/514 [==============================] - 0s 128us/step - loss: 0.5539 - accuracy: 0.7237 - val_loss: 0.5606 - val_accuracy: 0.7244\n",
      "Epoch 31/150\n",
      "514/514 [==============================] - 0s 117us/step - loss: 0.5472 - accuracy: 0.7198 - val_loss: 0.5771 - val_accuracy: 0.7165\n",
      "Epoch 32/150\n",
      "514/514 [==============================] - 0s 114us/step - loss: 0.5654 - accuracy: 0.7198 - val_loss: 0.5947 - val_accuracy: 0.6378\n",
      "Epoch 33/150\n",
      "514/514 [==============================] - 0s 111us/step - loss: 0.5754 - accuracy: 0.7082 - val_loss: 0.5774 - val_accuracy: 0.7126\n",
      "Epoch 34/150\n",
      "514/514 [==============================] - 0s 113us/step - loss: 0.5517 - accuracy: 0.7296 - val_loss: 0.5614 - val_accuracy: 0.7126\n",
      "Epoch 35/150\n",
      "514/514 [==============================] - 0s 125us/step - loss: 0.5466 - accuracy: 0.7335 - val_loss: 0.5567 - val_accuracy: 0.7244\n",
      "Epoch 36/150\n",
      "514/514 [==============================] - 0s 128us/step - loss: 0.5538 - accuracy: 0.7276 - val_loss: 0.5564 - val_accuracy: 0.7244\n",
      "Epoch 37/150\n",
      "514/514 [==============================] - 0s 113us/step - loss: 0.5455 - accuracy: 0.7393 - val_loss: 0.5563 - val_accuracy: 0.7362\n",
      "Epoch 38/150\n",
      "514/514 [==============================] - 0s 108us/step - loss: 0.5452 - accuracy: 0.7296 - val_loss: 0.5423 - val_accuracy: 0.7283\n",
      "Epoch 39/150\n",
      "514/514 [==============================] - 0s 104us/step - loss: 0.5522 - accuracy: 0.7237 - val_loss: 0.5498 - val_accuracy: 0.7480\n",
      "Epoch 40/150\n",
      "514/514 [==============================] - 0s 109us/step - loss: 0.5461 - accuracy: 0.7374 - val_loss: 0.5536 - val_accuracy: 0.7205\n",
      "Epoch 41/150\n",
      "514/514 [==============================] - 0s 120us/step - loss: 0.5405 - accuracy: 0.7412 - val_loss: 0.5430 - val_accuracy: 0.7441\n",
      "Epoch 42/150\n",
      "514/514 [==============================] - 0s 115us/step - loss: 0.5479 - accuracy: 0.7412 - val_loss: 0.5691 - val_accuracy: 0.7165\n",
      "Epoch 43/150\n",
      "514/514 [==============================] - 0s 116us/step - loss: 0.5474 - accuracy: 0.7335 - val_loss: 0.5547 - val_accuracy: 0.7244\n",
      "Epoch 44/150\n",
      "514/514 [==============================] - 0s 105us/step - loss: 0.5465 - accuracy: 0.7276 - val_loss: 0.5529 - val_accuracy: 0.7283\n",
      "Epoch 45/150\n",
      "514/514 [==============================] - 0s 116us/step - loss: 0.5394 - accuracy: 0.7276 - val_loss: 0.5708 - val_accuracy: 0.7126\n",
      "Epoch 46/150\n",
      "514/514 [==============================] - 0s 123us/step - loss: 0.5466 - accuracy: 0.7179 - val_loss: 0.5574 - val_accuracy: 0.7205\n",
      "Epoch 47/150\n",
      "514/514 [==============================] - 0s 116us/step - loss: 0.5498 - accuracy: 0.7198 - val_loss: 0.5482 - val_accuracy: 0.7362\n",
      "Epoch 48/150\n",
      "514/514 [==============================] - 0s 117us/step - loss: 0.5401 - accuracy: 0.7218 - val_loss: 0.5494 - val_accuracy: 0.7480\n",
      "Epoch 49/150\n",
      "514/514 [==============================] - 0s 110us/step - loss: 0.5414 - accuracy: 0.7315 - val_loss: 0.5538 - val_accuracy: 0.7283\n",
      "Epoch 50/150\n",
      "514/514 [==============================] - 0s 109us/step - loss: 0.5413 - accuracy: 0.7354 - val_loss: 0.5684 - val_accuracy: 0.6890\n",
      "Epoch 51/150\n",
      "514/514 [==============================] - 0s 120us/step - loss: 0.5338 - accuracy: 0.7471 - val_loss: 0.5483 - val_accuracy: 0.7480\n",
      "Epoch 52/150\n",
      "514/514 [==============================] - 0s 118us/step - loss: 0.5398 - accuracy: 0.7451 - val_loss: 0.5530 - val_accuracy: 0.7283\n",
      "Epoch 53/150\n",
      "514/514 [==============================] - 0s 128us/step - loss: 0.5369 - accuracy: 0.7354 - val_loss: 0.5394 - val_accuracy: 0.7362\n",
      "Epoch 54/150\n",
      "514/514 [==============================] - 0s 119us/step - loss: 0.5318 - accuracy: 0.7354 - val_loss: 0.5466 - val_accuracy: 0.7480\n",
      "Epoch 55/150\n",
      "514/514 [==============================] - 0s 109us/step - loss: 0.5344 - accuracy: 0.7335 - val_loss: 0.5472 - val_accuracy: 0.7441\n",
      "Epoch 56/150\n",
      "514/514 [==============================] - 0s 113us/step - loss: 0.5382 - accuracy: 0.7393 - val_loss: 0.5572 - val_accuracy: 0.7283\n",
      "Epoch 57/150\n",
      "514/514 [==============================] - 0s 119us/step - loss: 0.5410 - accuracy: 0.7393 - val_loss: 0.5593 - val_accuracy: 0.7402\n",
      "Epoch 58/150\n",
      "514/514 [==============================] - 0s 128us/step - loss: 0.5310 - accuracy: 0.7257 - val_loss: 0.5606 - val_accuracy: 0.6969\n",
      "Epoch 59/150\n",
      "514/514 [==============================] - 0s 116us/step - loss: 0.5428 - accuracy: 0.7276 - val_loss: 0.5474 - val_accuracy: 0.7520\n",
      "Epoch 60/150\n",
      "514/514 [==============================] - 0s 147us/step - loss: 0.5364 - accuracy: 0.7296 - val_loss: 0.5438 - val_accuracy: 0.7480\n",
      "Epoch 61/150\n",
      "514/514 [==============================] - 0s 137us/step - loss: 0.5317 - accuracy: 0.7451 - val_loss: 0.5551 - val_accuracy: 0.7480\n",
      "Epoch 62/150\n",
      "514/514 [==============================] - 0s 163us/step - loss: 0.5357 - accuracy: 0.7276 - val_loss: 0.5458 - val_accuracy: 0.7362\n",
      "Epoch 63/150\n",
      "514/514 [==============================] - 0s 129us/step - loss: 0.5305 - accuracy: 0.7354 - val_loss: 0.5504 - val_accuracy: 0.7323\n",
      "Epoch 64/150\n",
      "514/514 [==============================] - 0s 126us/step - loss: 0.5331 - accuracy: 0.7393 - val_loss: 0.5533 - val_accuracy: 0.7480\n",
      "Epoch 65/150\n",
      "514/514 [==============================] - 0s 128us/step - loss: 0.5365 - accuracy: 0.7296 - val_loss: 0.5557 - val_accuracy: 0.7323\n",
      "Epoch 66/150\n",
      "514/514 [==============================] - 0s 125us/step - loss: 0.5362 - accuracy: 0.7237 - val_loss: 0.5338 - val_accuracy: 0.7638\n",
      "Epoch 67/150\n",
      "514/514 [==============================] - 0s 121us/step - loss: 0.5269 - accuracy: 0.7432 - val_loss: 0.5581 - val_accuracy: 0.7402\n",
      "Epoch 68/150\n",
      "514/514 [==============================] - 0s 139us/step - loss: 0.5353 - accuracy: 0.7335 - val_loss: 0.5629 - val_accuracy: 0.7362\n",
      "Epoch 69/150\n",
      "514/514 [==============================] - 0s 122us/step - loss: 0.5395 - accuracy: 0.7315 - val_loss: 0.5529 - val_accuracy: 0.7677\n",
      "Epoch 70/150\n",
      "514/514 [==============================] - 0s 115us/step - loss: 0.5340 - accuracy: 0.7335 - val_loss: 0.5371 - val_accuracy: 0.7520\n",
      "Epoch 71/150\n",
      "514/514 [==============================] - 0s 110us/step - loss: 0.5277 - accuracy: 0.7471 - val_loss: 0.5493 - val_accuracy: 0.7717\n",
      "Epoch 72/150\n",
      "514/514 [==============================] - 0s 108us/step - loss: 0.5289 - accuracy: 0.7451 - val_loss: 0.5326 - val_accuracy: 0.7756\n",
      "Epoch 73/150\n",
      "514/514 [==============================] - 0s 106us/step - loss: 0.5327 - accuracy: 0.7257 - val_loss: 0.5322 - val_accuracy: 0.7480\n",
      "Epoch 74/150\n",
      "514/514 [==============================] - 0s 109us/step - loss: 0.5271 - accuracy: 0.7354 - val_loss: 0.5448 - val_accuracy: 0.7441\n",
      "Epoch 75/150\n",
      "514/514 [==============================] - 0s 107us/step - loss: 0.5288 - accuracy: 0.7510 - val_loss: 0.5425 - val_accuracy: 0.7402\n",
      "Epoch 76/150\n",
      "514/514 [==============================] - 0s 109us/step - loss: 0.5254 - accuracy: 0.7393 - val_loss: 0.5381 - val_accuracy: 0.7638\n",
      "Epoch 77/150\n",
      "514/514 [==============================] - 0s 93us/step - loss: 0.5228 - accuracy: 0.7432 - val_loss: 0.5375 - val_accuracy: 0.7559\n",
      "Epoch 78/150\n",
      "514/514 [==============================] - 0s 133us/step - loss: 0.5223 - accuracy: 0.7451 - val_loss: 0.5315 - val_accuracy: 0.7795\n",
      "Epoch 79/150\n",
      "514/514 [==============================] - 0s 128us/step - loss: 0.5313 - accuracy: 0.7451 - val_loss: 0.5432 - val_accuracy: 0.7677\n",
      "Epoch 80/150\n",
      "514/514 [==============================] - 0s 179us/step - loss: 0.5263 - accuracy: 0.7510 - val_loss: 0.5387 - val_accuracy: 0.7756\n",
      "Epoch 81/150\n",
      "514/514 [==============================] - 0s 171us/step - loss: 0.5335 - accuracy: 0.7471 - val_loss: 0.5423 - val_accuracy: 0.7677\n",
      "Epoch 82/150\n",
      "514/514 [==============================] - 0s 151us/step - loss: 0.5243 - accuracy: 0.7315 - val_loss: 0.5309 - val_accuracy: 0.7717\n",
      "Epoch 83/150\n",
      "514/514 [==============================] - 0s 179us/step - loss: 0.5195 - accuracy: 0.7354 - val_loss: 0.5388 - val_accuracy: 0.7598\n",
      "Epoch 84/150\n",
      "514/514 [==============================] - 0s 101us/step - loss: 0.5297 - accuracy: 0.7510 - val_loss: 0.5301 - val_accuracy: 0.7756\n",
      "Epoch 85/150\n",
      "514/514 [==============================] - 0s 97us/step - loss: 0.5229 - accuracy: 0.7451 - val_loss: 0.5347 - val_accuracy: 0.7323\n",
      "Epoch 86/150\n",
      "514/514 [==============================] - 0s 109us/step - loss: 0.5211 - accuracy: 0.7432 - val_loss: 0.5337 - val_accuracy: 0.7638\n",
      "Epoch 87/150\n",
      "514/514 [==============================] - 0s 114us/step - loss: 0.5192 - accuracy: 0.7451 - val_loss: 0.5293 - val_accuracy: 0.7874\n",
      "Epoch 88/150\n",
      "514/514 [==============================] - 0s 116us/step - loss: 0.5174 - accuracy: 0.7529 - val_loss: 0.5315 - val_accuracy: 0.7402\n",
      "Epoch 89/150\n",
      "514/514 [==============================] - 0s 111us/step - loss: 0.5178 - accuracy: 0.7354 - val_loss: 0.5281 - val_accuracy: 0.7717\n",
      "Epoch 90/150\n",
      "514/514 [==============================] - 0s 118us/step - loss: 0.5208 - accuracy: 0.7451 - val_loss: 0.5389 - val_accuracy: 0.7283\n",
      "Epoch 91/150\n",
      "514/514 [==============================] - 0s 132us/step - loss: 0.5205 - accuracy: 0.7354 - val_loss: 0.5343 - val_accuracy: 0.7598\n",
      "Epoch 92/150\n",
      "514/514 [==============================] - 0s 123us/step - loss: 0.5299 - accuracy: 0.7354 - val_loss: 0.5295 - val_accuracy: 0.7480\n",
      "Epoch 93/150\n",
      "514/514 [==============================] - 0s 114us/step - loss: 0.5184 - accuracy: 0.7607 - val_loss: 0.5376 - val_accuracy: 0.7559\n",
      "Epoch 94/150\n",
      "514/514 [==============================] - 0s 116us/step - loss: 0.5224 - accuracy: 0.7510 - val_loss: 0.5259 - val_accuracy: 0.7598\n",
      "Epoch 95/150\n",
      "514/514 [==============================] - 0s 120us/step - loss: 0.5232 - accuracy: 0.7607 - val_loss: 0.5417 - val_accuracy: 0.7283\n",
      "Epoch 96/150\n",
      "514/514 [==============================] - 0s 130us/step - loss: 0.5250 - accuracy: 0.7432 - val_loss: 0.5277 - val_accuracy: 0.7638\n",
      "Epoch 97/150\n",
      "514/514 [==============================] - 0s 167us/step - loss: 0.5171 - accuracy: 0.7490 - val_loss: 0.5222 - val_accuracy: 0.7874\n",
      "Epoch 98/150\n",
      "514/514 [==============================] - 0s 202us/step - loss: 0.5277 - accuracy: 0.7335 - val_loss: 0.5373 - val_accuracy: 0.7520\n",
      "Epoch 99/150\n",
      "514/514 [==============================] - 0s 109us/step - loss: 0.5274 - accuracy: 0.7315 - val_loss: 0.5303 - val_accuracy: 0.7835\n",
      "Epoch 100/150\n",
      "514/514 [==============================] - 0s 129us/step - loss: 0.5203 - accuracy: 0.7529 - val_loss: 0.5189 - val_accuracy: 0.7717\n",
      "Epoch 101/150\n",
      "514/514 [==============================] - 0s 113us/step - loss: 0.5176 - accuracy: 0.7432 - val_loss: 0.5224 - val_accuracy: 0.7638\n",
      "Epoch 102/150\n",
      "514/514 [==============================] - 0s 124us/step - loss: 0.5129 - accuracy: 0.7510 - val_loss: 0.5155 - val_accuracy: 0.7913\n",
      "Epoch 103/150\n",
      "514/514 [==============================] - 0s 116us/step - loss: 0.5233 - accuracy: 0.7510 - val_loss: 0.5256 - val_accuracy: 0.7402\n",
      "Epoch 104/150\n",
      "514/514 [==============================] - 0s 109us/step - loss: 0.5153 - accuracy: 0.7412 - val_loss: 0.5156 - val_accuracy: 0.7756\n",
      "Epoch 105/150\n",
      "514/514 [==============================] - 0s 116us/step - loss: 0.5110 - accuracy: 0.7549 - val_loss: 0.5346 - val_accuracy: 0.7520\n",
      "Epoch 106/150\n",
      "514/514 [==============================] - 0s 115us/step - loss: 0.5156 - accuracy: 0.7510 - val_loss: 0.5212 - val_accuracy: 0.7638\n",
      "Epoch 107/150\n",
      "514/514 [==============================] - 0s 115us/step - loss: 0.5184 - accuracy: 0.7490 - val_loss: 0.5322 - val_accuracy: 0.7441\n",
      "Epoch 108/150\n",
      "514/514 [==============================] - 0s 111us/step - loss: 0.5231 - accuracy: 0.7490 - val_loss: 0.5279 - val_accuracy: 0.7520\n",
      "Epoch 109/150\n",
      "514/514 [==============================] - 0s 143us/step - loss: 0.5143 - accuracy: 0.7510 - val_loss: 0.5167 - val_accuracy: 0.7756\n",
      "Epoch 110/150\n"
     ]
    },
    {
     "name": "stdout",
     "output_type": "stream",
     "text": [
      "514/514 [==============================] - 0s 149us/step - loss: 0.5073 - accuracy: 0.7529 - val_loss: 0.5631 - val_accuracy: 0.7402\n",
      "Epoch 111/150\n",
      "514/514 [==============================] - 0s 126us/step - loss: 0.5289 - accuracy: 0.7412 - val_loss: 0.5259 - val_accuracy: 0.7717\n",
      "Epoch 112/150\n",
      "514/514 [==============================] - 0s 113us/step - loss: 0.5087 - accuracy: 0.7490 - val_loss: 0.5230 - val_accuracy: 0.7441\n",
      "Epoch 113/150\n",
      "514/514 [==============================] - 0s 106us/step - loss: 0.5135 - accuracy: 0.7451 - val_loss: 0.5157 - val_accuracy: 0.7756\n",
      "Epoch 114/150\n",
      "514/514 [==============================] - 0s 112us/step - loss: 0.5098 - accuracy: 0.7471 - val_loss: 0.5134 - val_accuracy: 0.7717\n",
      "Epoch 115/150\n",
      "514/514 [==============================] - 0s 104us/step - loss: 0.5110 - accuracy: 0.7471 - val_loss: 0.5124 - val_accuracy: 0.7795\n",
      "Epoch 116/150\n",
      "514/514 [==============================] - 0s 115us/step - loss: 0.5107 - accuracy: 0.7490 - val_loss: 0.5120 - val_accuracy: 0.7874\n",
      "Epoch 117/150\n",
      "514/514 [==============================] - 0s 114us/step - loss: 0.5133 - accuracy: 0.7451 - val_loss: 0.5499 - val_accuracy: 0.7638\n",
      "Epoch 118/150\n",
      "514/514 [==============================] - 0s 123us/step - loss: 0.5090 - accuracy: 0.7412 - val_loss: 0.5133 - val_accuracy: 0.7677\n",
      "Epoch 119/150\n",
      "514/514 [==============================] - 0s 115us/step - loss: 0.5152 - accuracy: 0.7451 - val_loss: 0.5315 - val_accuracy: 0.7717\n",
      "Epoch 120/150\n",
      "514/514 [==============================] - 0s 115us/step - loss: 0.5082 - accuracy: 0.7549 - val_loss: 0.5147 - val_accuracy: 0.7835\n",
      "Epoch 121/150\n",
      "514/514 [==============================] - 0s 112us/step - loss: 0.5092 - accuracy: 0.7529 - val_loss: 0.5298 - val_accuracy: 0.7559\n",
      "Epoch 122/150\n",
      "514/514 [==============================] - 0s 112us/step - loss: 0.5089 - accuracy: 0.7588 - val_loss: 0.5148 - val_accuracy: 0.7913\n",
      "Epoch 123/150\n",
      "514/514 [==============================] - 0s 110us/step - loss: 0.5121 - accuracy: 0.7490 - val_loss: 0.5174 - val_accuracy: 0.7480\n",
      "Epoch 124/150\n",
      "514/514 [==============================] - 0s 109us/step - loss: 0.5096 - accuracy: 0.7490 - val_loss: 0.5254 - val_accuracy: 0.7362\n",
      "Epoch 125/150\n",
      "514/514 [==============================] - 0s 116us/step - loss: 0.5195 - accuracy: 0.7412 - val_loss: 0.5162 - val_accuracy: 0.7677\n",
      "Epoch 126/150\n",
      "514/514 [==============================] - 0s 110us/step - loss: 0.5040 - accuracy: 0.7335 - val_loss: 0.5314 - val_accuracy: 0.7323\n",
      "Epoch 127/150\n",
      "514/514 [==============================] - 0s 107us/step - loss: 0.5055 - accuracy: 0.7490 - val_loss: 0.5023 - val_accuracy: 0.7913\n",
      "Epoch 128/150\n",
      "514/514 [==============================] - 0s 115us/step - loss: 0.5018 - accuracy: 0.7685 - val_loss: 0.5118 - val_accuracy: 0.7756\n",
      "Epoch 129/150\n",
      "514/514 [==============================] - 0s 110us/step - loss: 0.5085 - accuracy: 0.7412 - val_loss: 0.5065 - val_accuracy: 0.7717\n",
      "Epoch 130/150\n",
      "514/514 [==============================] - 0s 116us/step - loss: 0.5055 - accuracy: 0.7471 - val_loss: 0.5019 - val_accuracy: 0.7992\n",
      "Epoch 131/150\n",
      "514/514 [==============================] - 0s 115us/step - loss: 0.5027 - accuracy: 0.7529 - val_loss: 0.5271 - val_accuracy: 0.7480\n",
      "Epoch 132/150\n",
      "514/514 [==============================] - 0s 111us/step - loss: 0.5105 - accuracy: 0.7510 - val_loss: 0.5071 - val_accuracy: 0.7795\n",
      "Epoch 133/150\n",
      "514/514 [==============================] - 0s 111us/step - loss: 0.5044 - accuracy: 0.7529 - val_loss: 0.5172 - val_accuracy: 0.7756\n",
      "Epoch 134/150\n",
      "514/514 [==============================] - 0s 114us/step - loss: 0.5035 - accuracy: 0.7568 - val_loss: 0.5138 - val_accuracy: 0.7756\n",
      "Epoch 135/150\n",
      "514/514 [==============================] - 0s 112us/step - loss: 0.5075 - accuracy: 0.7529 - val_loss: 0.5058 - val_accuracy: 0.7874\n",
      "Epoch 136/150\n",
      "514/514 [==============================] - 0s 111us/step - loss: 0.5039 - accuracy: 0.7529 - val_loss: 0.5022 - val_accuracy: 0.7717\n",
      "Epoch 137/150\n",
      "514/514 [==============================] - 0s 107us/step - loss: 0.5157 - accuracy: 0.7335 - val_loss: 0.5101 - val_accuracy: 0.7638\n",
      "Epoch 138/150\n",
      "514/514 [==============================] - 0s 111us/step - loss: 0.5002 - accuracy: 0.7529 - val_loss: 0.5096 - val_accuracy: 0.7835\n",
      "Epoch 139/150\n",
      "514/514 [==============================] - 0s 116us/step - loss: 0.5046 - accuracy: 0.7568 - val_loss: 0.5013 - val_accuracy: 0.7835\n",
      "Epoch 140/150\n",
      "514/514 [==============================] - 0s 117us/step - loss: 0.4984 - accuracy: 0.7607 - val_loss: 0.5109 - val_accuracy: 0.7717\n",
      "Epoch 141/150\n",
      "514/514 [==============================] - 0s 111us/step - loss: 0.5038 - accuracy: 0.7354 - val_loss: 0.4935 - val_accuracy: 0.8110\n",
      "Epoch 142/150\n",
      "514/514 [==============================] - 0s 114us/step - loss: 0.5046 - accuracy: 0.7490 - val_loss: 0.5027 - val_accuracy: 0.7795\n",
      "Epoch 143/150\n",
      "514/514 [==============================] - 0s 114us/step - loss: 0.5048 - accuracy: 0.7471 - val_loss: 0.5013 - val_accuracy: 0.7874\n",
      "Epoch 144/150\n",
      "514/514 [==============================] - 0s 113us/step - loss: 0.5117 - accuracy: 0.7510 - val_loss: 0.5030 - val_accuracy: 0.7756\n",
      "Epoch 145/150\n",
      "514/514 [==============================] - 0s 112us/step - loss: 0.5035 - accuracy: 0.7393 - val_loss: 0.4948 - val_accuracy: 0.8031\n",
      "Epoch 146/150\n",
      "514/514 [==============================] - 0s 113us/step - loss: 0.4947 - accuracy: 0.7471 - val_loss: 0.5163 - val_accuracy: 0.7835\n",
      "Epoch 147/150\n",
      "514/514 [==============================] - 0s 108us/step - loss: 0.4986 - accuracy: 0.7451 - val_loss: 0.4979 - val_accuracy: 0.7756\n",
      "Epoch 148/150\n",
      "514/514 [==============================] - 0s 113us/step - loss: 0.4973 - accuracy: 0.7510 - val_loss: 0.5230 - val_accuracy: 0.7480\n",
      "Epoch 149/150\n",
      "514/514 [==============================] - 0s 116us/step - loss: 0.4987 - accuracy: 0.7626 - val_loss: 0.4939 - val_accuracy: 0.7953\n",
      "Epoch 150/150\n",
      "514/514 [==============================] - 0s 116us/step - loss: 0.4968 - accuracy: 0.7626 - val_loss: 0.4993 - val_accuracy: 0.7874\n",
      "768/768 [==============================] - 0s 14us/step\n",
      "\n",
      "accuracy: 77.86%\n"
     ]
    }
   ],
   "source": [
    "from keras.models import Sequential # 입력이 하나고 output도 하나인 망\n",
    "from keras.layers import Dense\n",
    "import numpy \n",
    "numpy.random.seed(7)\n",
    "datasets = numpy.loadtxt('pima.data', delimiter = \",\")\n",
    "X = datasets[:, 0:8]  # 8개까지가 독립변수이고 \n",
    "Y = datasets[:,8]   # 9번쨰가 독립 변수임. \n",
    "model = Sequential()\n",
    "model.add(Dense(12, input_dim = 8,kernel_initializer = 'uniform', activation = 'relu'))\n",
    "# ? X 8, 8X12 ==?X12                     # 초기화 방법 --> 균등분포\n",
    "model.add(Dense(8, kernel_initializer = 'uniform', activation = 'relu'))\n",
    "# ?X12 12X8 ==> ?X8\n",
    "model.add(Dense(1, kernel_initializer = 'uniform', activation = 'sigmoid'))\n",
    "# ?X 8  8X1 ==> ? x1 분류           \n",
    "model.compile(loss = 'binary_crossentropy', optimizer = 'adam', metrics = ['accuracy'])\n",
    "# metics == accuracy는 정확도를 측정하겠다라는 뜻임 즉 내가 보고싶은게 accuracy이다 라는뜻이다. \n",
    "history = model.fit(X,Y, epochs = 150,validation_split = 0.33, batch_size = 10)\n",
    "# 데이터를 분리 입력할때 (train, test)  이놈 까지도 과적합 되는 현상이 생긴다.\n",
    "# 따라서 그 안에서도 과적합을 방지하기 위한 validation 을 만들어줘야한다. \n",
    "scores = model.evaluate(X,Y)\n",
    "print('\\n%s: %.2f%%'  %(model.metrics_names[1], scores[1]*100))\n",
    "# 모델의 메트릭스의 이름을 지정하고 그 이름의 점수 값을 지정한다. \n"
   ]
  },
  {
   "cell_type": "code",
   "execution_count": 3,
   "metadata": {},
   "outputs": [
    {
     "name": "stdout",
     "output_type": "stream",
     "text": [
      "dict_keys(['val_loss', 'val_accuracy', 'loss', 'accuracy'])\n"
     ]
    },
    {
     "data": {
      "image/png": "[encoded data removed]",
      "text/plain": [
       "<Figure size 432x288 with 1 Axes>"
      ]
     },
     "metadata": {
      "needs_background": "light"
     },
     "output_type": "display_data"
    }
   ],
   "source": [
    "import matplotlib.pyplot as plt\n",
    "%matplotlib inline\n",
    "\n",
    "print(history.history.keys())\n",
    "## val_loss, val_accuracy , loss , accuracy\n",
    "\n",
    "plt.plot(history.history['accuracy'])\n",
    "plt.plot(history.history['val_accuracy'])\n",
    "plt.title('accuracy')\n",
    "plt.ylabel('accuracy')\n",
    "plt.xlabel('epoch')\n",
    "plt.legend(['train','test'], loc = 'upper left')\n",
    "plt.show()"
   ]
  },
  {
   "cell_type": "code",
   "execution_count": 4,
   "metadata": {},
   "outputs": [
    {
     "name": "stdout",
     "output_type": "stream",
     "text": [
      "dict_keys(['val_loss', 'val_accuracy', 'loss', 'accuracy'])\n"
     ]
    },
    {
     "data": {
      "image/png": "[encoded data removed]",
      "text/plain": [
       "<Figure size 432x288 with 1 Axes>"
      ]
     },
     "metadata": {
      "needs_background": "light"
     },
     "output_type": "display_data"
    }
   ],
   "source": [
    "import matplotlib.pyplot as plt\n",
    "%matplotlib inline\n",
    "\n",
    "print(history.history.keys())\n",
    "## val_loss, val_accuracy , loss , accuracy\n",
    "\n",
    "plt.plot(history.history['loss'])\n",
    "plt.plot(history.history['val_loss'])\n",
    "plt.title('loss')\n",
    "plt.ylabel('loss')\n",
    "plt.xlabel('epoch')\n",
    "plt.legend(['train','test'], loc = 'upper left')\n",
    "plt.show()"
   ]
  },
  {
   "cell_type": "code",
   "execution_count": 5,
   "metadata": {},
   "outputs": [],
   "source": [
    "from sklearn.preprocessing import scale\n",
    "from sklearn.model_selection import train_test_split\n",
    "from sklearn.datasets import make_moons\n",
    "X,Y = make_moons(noise = 0.2, random_state =0, n_samples = 1000)\n",
    "X = scale(X)\n",
    "X_train,X_test,Y_train, Y_test = train_test_split(X,Y, test_size = .5)"
   ]
  },
  {
   "cell_type": "code",
   "execution_count": 6,
   "metadata": {},
   "outputs": [
    {
     "data": {
      "text/plain": [
       "[Text(0, 0.5, 'Y'), Text(0.5, 0, 'X'), Text(0.5, 1.0, 'binary classifiicaion')]"
      ]
     },
     "execution_count": 6,
     "metadata": {},
     "output_type": "execute_result"
    },
    {
     "data": {
      "image/png": "[encoded data removed]",
      "text/plain": [
       "<Figure size 432x288 with 1 Axes>"
      ]
     },
     "metadata": {
      "needs_background": "light"
     },
     "output_type": "display_data"
    }
   ],
   "source": [
    "fig, ax = plt.subplots()\n",
    "ax.scatter(X[Y == 0,0], X[Y == 0,1], label = 'Class 0')\n",
    "ax.scatter(X[Y == 1,0], X[Y ==1,1], color = 'r', label = 'Class 1')\n",
    "ax.legend()\n",
    "ax.set(xlabel = 'X', ylabel = 'Y', title = 'binary classifiicaion')"
   ]
  },
  {
   "cell_type": "code",
   "execution_count": 7,
   "metadata": {},
   "outputs": [
    {
     "name": "stdout",
     "output_type": "stream",
     "text": [
      "WARNING:tensorflow:From C:\\Users\\ICT01_04\\Anaconda3\\lib\\site-packages\\keras\\callbacks\\tensorboard_v1.py:146: The name tf.summary.histogram is deprecated. Please use tf.compat.v1.summary.histogram instead.\n",
      "\n",
      "WARNING:tensorflow:From C:\\Users\\ICT01_04\\Anaconda3\\lib\\site-packages\\keras\\callbacks\\tensorboard_v1.py:200: The name tf.summary.merge_all is deprecated. Please use tf.compat.v1.summary.merge_all instead.\n",
      "\n",
      "WARNING:tensorflow:From C:\\Users\\ICT01_04\\Anaconda3\\lib\\site-packages\\keras\\callbacks\\tensorboard_v1.py:203: The name tf.summary.FileWriter is deprecated. Please use tf.compat.v1.summary.FileWriter instead.\n",
      "\n"
     ]
    }
   ],
   "source": [
    "import keras\n",
    "# 비선형 모델 - 신경망\n",
    "model = Sequential()\n",
    "# 행렬 연산의 규칙.  \n",
    "model.add(Dense(32, input_dim = 2, activation = 'relu'))\n",
    "# 1000 X2 , 2X32 --> 1000X32 2개로 설명할것을 32개로 설명한다. \n",
    "# 논리적으로보면 변수를 32개로 늘린것과 같다. \n",
    "model.add(Dense(1, activation = 'sigmoid'))\n",
    "# 1000 X32 , 32X1 --> 1000X1 로 분류 \n",
    "model.compile(optimizer = 'AdaDelta', loss = 'binary_crossentropy', metrics = ['accuracy'])\n",
    "tb_callback = keras.callbacks.TensorBoard( log_dir = './Graph/modle_1/', histogram_freq = 100, \n",
    "                                         write_graph = True, write_images = False)\n",
    "## callback함수는 window 자동으로 호출되는 함수. \n",
    "# graph 이미지를 출력할 준비를 해라. \n",
    "tb_callback.set_model(model) # 콜백을 모델에 등록해라. "
   ]
  },
  {
   "cell_type": "code",
   "execution_count": 8,
   "metadata": {},
   "outputs": [
    {
     "name": "stdout",
     "output_type": "stream",
     "text": [
      "WARNING:tensorflow:From C:\\Users\\ICT01_04\\Anaconda3\\lib\\site-packages\\keras\\callbacks\\tensorboard_v1.py:343: The name tf.Summary is deprecated. Please use tf.compat.v1.Summary instead.\n",
      "\n"
     ]
    }
   ],
   "source": [
    "hist = model.fit(X_train, Y_train, batch_size = 32, epochs =200, \n",
    "                verbose = 0, validation_data = (X_test, Y_test), callbacks = [tb_callback])"
   ]
  },
  {
   "cell_type": "code",
   "execution_count": 9,
   "metadata": {},
   "outputs": [
    {
     "name": "stdout",
     "output_type": "stream",
     "text": [
      "Test loss: 0.12789358568191528\n",
      "Test accuracy: 0.949999988079071\n"
     ]
    }
   ],
   "source": [
    "score = model.evaluate(X_test, Y_test, verbose = 0)\n",
    "print('Test loss:', score[0])\n",
    "print('Test accuracy:', score[1])"
   ]
  },
  {
   "cell_type": "code",
   "execution_count": 10,
   "metadata": {},
   "outputs": [
    {
     "name": "stdout",
     "output_type": "stream",
     "text": [
      "Model: \"sequential_3\"\n",
      "_________________________________________________________________\n",
      "Layer (type)                 Output Shape              Param #   \n",
      "=================================================================\n",
      "dense_7 (Dense)              (None, 32)                96        \n",
      "_________________________________________________________________\n",
      "dense_8 (Dense)              (None, 1)                 33        \n",
      "=================================================================\n",
      "Total params: 129\n",
      "Trainable params: 129\n",
      "Non-trainable params: 0\n",
      "_________________________________________________________________\n"
     ]
    }
   ],
   "source": [
    "keras.utils.print_summary(model)"
   ]
  },
  {
   "cell_type": "code",
   "execution_count": 11,
   "metadata": {},
   "outputs": [
    {
     "data": {
      "image/png": "[encoded data removed]",
      "text/plain": [
       "<IPython.core.display.Image object>"
      ]
     },
     "execution_count": 11,
     "metadata": {},
     "output_type": "execute_result"
    }
   ],
   "source": [
    "keras.utils.plot_model(model)"
   ]
  },
  {
   "cell_type": "code",
   "execution_count": 12,
   "metadata": {},
   "outputs": [
    {
     "data": {
      "text/plain": [
       "<pydot.Dot at 0x153f64181c8>"
      ]
     },
     "execution_count": 12,
     "metadata": {},
     "output_type": "execute_result"
    }
   ],
   "source": [
    "from keras.utils.vis_utils import model_to_dot\n",
    "model_to_dot(model)"
   ]
  },
  {
   "cell_type": "code",
   "execution_count": 13,
   "metadata": {},
   "outputs": [
    {
     "data": {
      "image/svg+xml": [
       "<svg height=\"255pt\" viewBox=\"0.00 0.00 174.00 191.00\" width=\"232pt\" xmlns=\"http://www.w3.org/2000/svg\" xmlns:xlink=\"http://www.w3.org/1999/xlink\">\n",
       "<g class=\"graph\" id=\"graph0\" transform=\"scale(1.33333 1.33333) rotate(0) translate(4 187)\">\n",
       "<title>G</title>\n",
       "<polygon fill=\"white\" points=\"-4,4 -4,-187 170,-187 170,4 -4,4\" stroke=\"none\"/>\n",
       "<!-- 1460036556808 -->\n",
       "<g class=\"node\" id=\"node1\"><title>1460036556808</title>\n",
       "<polygon fill=\"none\" points=\"0,-146.5 0,-182.5 166,-182.5 166,-146.5 0,-146.5\" stroke=\"black\"/>\n",
       "<text font-family=\"Times New Roman,serif\" font-size=\"14.00\" text-anchor=\"middle\" x=\"83\" y=\"-160.8\">dense_7_input: InputLayer</text>\n",
       "</g>\n",
       "<!-- 1460036555592 -->\n",
       "<g class=\"node\" id=\"node2\"><title>1460036555592</title>\n",
       "<polygon fill=\"none\" points=\"31,-73.5 31,-109.5 135,-109.5 135,-73.5 31,-73.5\" stroke=\"black\"/>\n",
       "<text font-family=\"Times New Roman,serif\" font-size=\"14.00\" text-anchor=\"middle\" x=\"83\" y=\"-87.8\">dense_7: Dense</text>\n",
       "</g>\n",
       "<!-- 1460036556808&#45;&gt;1460036555592 -->\n",
       "<g class=\"edge\" id=\"edge1\"><title>1460036556808-&gt;1460036555592</title>\n",
       "<path d=\"M83,-146.313C83,-138.289 83,-128.547 83,-119.569\" fill=\"none\" stroke=\"black\"/>\n",
       "<polygon fill=\"black\" points=\"86.5001,-119.529 83,-109.529 79.5001,-119.529 86.5001,-119.529\" stroke=\"black\"/>\n",
       "</g>\n",
       "<!-- 1460035769480 -->\n",
       "<g class=\"node\" id=\"node3\"><title>1460035769480</title>\n",
       "<polygon fill=\"none\" points=\"31,-0.5 31,-36.5 135,-36.5 135,-0.5 31,-0.5\" stroke=\"black\"/>\n",
       "<text font-family=\"Times New Roman,serif\" font-size=\"14.00\" text-anchor=\"middle\" x=\"83\" y=\"-14.8\">dense_8: Dense</text>\n",
       "</g>\n",
       "<!-- 1460036555592&#45;&gt;1460035769480 -->\n",
       "<g class=\"edge\" id=\"edge2\"><title>1460036555592-&gt;1460035769480</title>\n",
       "<path d=\"M83,-73.3129C83,-65.2895 83,-55.5475 83,-46.5691\" fill=\"none\" stroke=\"black\"/>\n",
       "<polygon fill=\"black\" points=\"86.5001,-46.5288 83,-36.5288 79.5001,-46.5289 86.5001,-46.5288\" stroke=\"black\"/>\n",
       "</g>\n",
       "</g>\n",
       "</svg>"
      ],
      "text/plain": [
       "<IPython.core.display.SVG object>"
      ]
     },
     "execution_count": 13,
     "metadata": {},
     "output_type": "execute_result"
    }
   ],
   "source": [
    "from IPython.display import Image, SVG\n",
    "SVG(model_to_dot(model).create(prog = 'dot', format = 'svg'))"
   ]
  },
  {
   "cell_type": "code",
   "execution_count": 14,
   "metadata": {},
   "outputs": [
    {
     "name": "stdout",
     "output_type": "stream",
     "text": [
      "Model: \"sequential_3\"\n",
      "_________________________________________________________________\n",
      "Layer (type)                 Output Shape              Param #   \n",
      "=================================================================\n",
      "dense_7 (Dense)              (None, 32)                96        \n",
      "_________________________________________________________________\n",
      "dense_8 (Dense)              (None, 1)                 33        \n",
      "=================================================================\n",
      "Total params: 129\n",
      "Trainable params: 129\n",
      "Non-trainable params: 0\n",
      "_________________________________________________________________\n"
     ]
    }
   ],
   "source": [
    "model.summary()\n",
    "# param = 96--> 2X32 == 64 + bias(32개 )"
   ]
  },
  {
   "cell_type": "code",
   "execution_count": 15,
   "metadata": {},
   "outputs": [],
   "source": [
    "# Callback class\n",
    "# custom callback 함수의 제작\n",
    "# 함수에 의해서 호출되는 객체 \n",
    "\n",
    "class CustomHistory(keras.callbacks.Callback):   ## 상속\n",
    "    def init(self):\n",
    "        self.train_loss = []\n",
    "        self.val_loss = []\n",
    "        self.train_acc = []\n",
    "        self.val_acc = []\n",
    "        \n",
    "    def on_epoch_end(self, batch, logs = {}):  ## 오버라이딩 \n",
    "        self.train_loss.append(logs.get('loss'))\n",
    "        self.val_loss.append(logs.get('val_loss'))\n",
    "        self.train_acc.append(logs.get('acc'))\n",
    "        self.val_acc.append(logs.get('val_acc'))\n",
    "        "
   ]
  },
  {
   "cell_type": "code",
   "execution_count": 16,
   "metadata": {},
   "outputs": [
    {
     "name": "stdout",
     "output_type": "stream",
     "text": [
      "(60000, 28, 28) uint8\n",
      "(60000,) uint8\n",
      "(10000, 28, 28) uint8\n",
      "(10000,) uint8\n"
     ]
    }
   ],
   "source": [
    "from keras.datasets import mnist\n",
    "import matplotlib.pylab as plt\n",
    "(X_train0, y_train0), (X_test0, y_test0) = mnist.load_data()\n",
    "print(X_train0.shape, X_train0.dtype)\n",
    "print(y_train0.shape, y_train0.dtype)\n",
    "print(X_test0.shape, X_test0.dtype)\n",
    "print(y_test0.shape, y_test0.dtype)\n"
   ]
  },
  {
   "cell_type": "code",
   "execution_count": 17,
   "metadata": {},
   "outputs": [
    {
     "data": {
      "image/png": "[encoded data removed]",
      "text/plain": [
       "<Figure size 432x288 with 1 Axes>"
      ]
     },
     "metadata": {
      "needs_background": "light"
     },
     "output_type": "display_data"
    }
   ],
   "source": [
    "plt.imshow(X_train0[0])\n",
    "plt.grid(False)\n",
    "plt.show()"
   ]
  },
  {
   "cell_type": "code",
   "execution_count": 18,
   "metadata": {},
   "outputs": [
    {
     "name": "stdout",
     "output_type": "stream",
     "text": [
      "(60000, 784) float32\n"
     ]
    }
   ],
   "source": [
    "# fully-connected: fltten : FFNN은 데이터가 한줄로 \n",
    "# 이미지 정규화는 0에서부터 255까지의 컬러 값을 가지므로 255.0으로 나누어줘야한다. \n",
    "# \n",
    "X_train = X_train0.reshape(60000, 784).astype('float32')/255.0\n",
    "X_test = X_test0.reshape(10000,784).astype('float32')/255.0\n",
    "print(X_train.shape, X_train.dtype)"
   ]
  },
  {
   "cell_type": "code",
   "execution_count": 19,
   "metadata": {},
   "outputs": [
    {
     "data": {
      "text/plain": [
       "array([5, 0, 4, 1, 9], dtype=uint8)"
      ]
     },
     "execution_count": 19,
     "metadata": {},
     "output_type": "execute_result"
    }
   ],
   "source": [
    "y_train0[:5]"
   ]
  },
  {
   "cell_type": "code",
   "execution_count": 20,
   "metadata": {},
   "outputs": [
    {
     "data": {
      "text/plain": [
       "array([[0., 0., 0., 0., 0., 1., 0., 0., 0., 0.],\n",
       "       [1., 0., 0., 0., 0., 0., 0., 0., 0., 0.],\n",
       "       [0., 0., 0., 0., 1., 0., 0., 0., 0., 0.],\n",
       "       [0., 1., 0., 0., 0., 0., 0., 0., 0., 0.],\n",
       "       [0., 0., 0., 0., 0., 0., 0., 0., 0., 1.]], dtype=float32)"
      ]
     },
     "execution_count": 20,
     "metadata": {},
     "output_type": "execute_result"
    }
   ],
   "source": [
    "from keras.utils import np_utils\n",
    "Y_train = np_utils.to_categorical(y_train0, 10)\n",
    "Y_test = np_utils.to_categorical(y_test0, 10)\n",
    "Y_train[:5]"
   ]
  },
  {
   "cell_type": "code",
   "execution_count": 21,
   "metadata": {},
   "outputs": [],
   "source": [
    "import numpy as np\n",
    "from keras.optimizers import SGD\n",
    "np.random.seed(0)\n",
    "model = Sequential()\n",
    "\n",
    "# 60000 X 784  784X 15  ==> 60000X15\n",
    "model.add(Dense(512, input_dim = 784, activation = 'sigmoid'))\n",
    "model.add(Dense(15))\n",
    "# 60000X15 15 X 10 ==> 60000 X10 \n",
    "model.add(Dense(10, activation = 'sigmoid'))\n",
    "model.compile(optimizer = SGD(lr = 0.2), loss = 'mse', metrics = ['accuracy'])\n",
    "## lr == learning rate \n",
    "## SGD == 확률적 경사하강법\n"
   ]
  },
  {
   "cell_type": "code",
   "execution_count": 22,
   "metadata": {},
   "outputs": [
    {
     "data": {
      "text/plain": [
       "[<keras.layers.core.Dense at 0x153f665c988>,\n",
       " <keras.layers.core.Dense at 0x153f66487c8>]"
      ]
     },
     "execution_count": 22,
     "metadata": {},
     "output_type": "execute_result"
    }
   ],
   "source": [
    "model.layers"
   ]
  },
  {
   "cell_type": "code",
   "execution_count": 23,
   "metadata": {},
   "outputs": [
    {
     "data": {
      "text/plain": [
       "<function keras.activations.sigmoid(x)>"
      ]
     },
     "execution_count": 23,
     "metadata": {},
     "output_type": "execute_result"
    }
   ],
   "source": [
    "l1 = model.layers[0]\n",
    "l2 = model.layers[1]\n",
    "\n",
    "l1.name\n",
    "l1.input_shape\n",
    "l1.output_shape\n",
    "l1.activation"
   ]
  },
  {
   "cell_type": "code",
   "execution_count": 24,
   "metadata": {},
   "outputs": [
    {
     "name": "stderr",
     "output_type": "stream",
     "text": [
      "C:\\Users\\ICT01_04\\Anaconda3\\lib\\site-packages\\ipykernel_launcher.py:4: UserWarning: The `nb_epoch` argument in `fit` has been renamed `epochs`.\n",
      "  after removing the cwd from sys.path.\n"
     ]
    },
    {
     "name": "stdout",
     "output_type": "stream",
     "text": [
      "Train on 60000 samples, validate on 10000 samples\n",
      "Epoch 1/30\n",
      " - 9s - loss: 0.1019 - accuracy: 0.2440 - val_loss: 0.0864 - val_accuracy: 0.3212\n",
      "Epoch 2/30\n",
      " - 9s - loss: 0.0845 - accuracy: 0.3921 - val_loss: 0.0821 - val_accuracy: 0.4409\n",
      "Epoch 3/30\n",
      " - 9s - loss: 0.0796 - accuracy: 0.4997 - val_loss: 0.0765 - val_accuracy: 0.5340\n",
      "Epoch 4/30\n",
      " - 9s - loss: 0.0740 - accuracy: 0.5620 - val_loss: 0.0707 - val_accuracy: 0.5852\n",
      "Epoch 5/30\n",
      " - 8s - loss: 0.0682 - accuracy: 0.6149 - val_loss: 0.0649 - val_accuracy: 0.6522\n",
      "Epoch 6/30\n",
      " - 10s - loss: 0.0625 - accuracy: 0.6759 - val_loss: 0.0594 - val_accuracy: 0.6998\n",
      "Epoch 7/30\n",
      " - 10s - loss: 0.0576 - accuracy: 0.7101 - val_loss: 0.0551 - val_accuracy: 0.7316\n",
      "Epoch 8/30\n",
      " - 11s - loss: 0.0537 - accuracy: 0.7325 - val_loss: 0.0516 - val_accuracy: 0.7485\n",
      "Epoch 9/30\n",
      " - 10s - loss: 0.0505 - accuracy: 0.7474 - val_loss: 0.0486 - val_accuracy: 0.7639\n",
      "Epoch 10/30\n",
      " - 10s - loss: 0.0478 - accuracy: 0.7609 - val_loss: 0.0461 - val_accuracy: 0.7759\n",
      "Epoch 11/30\n",
      " - 11s - loss: 0.0455 - accuracy: 0.7739 - val_loss: 0.0439 - val_accuracy: 0.7893\n",
      "Epoch 12/30\n",
      " - 10s - loss: 0.0435 - accuracy: 0.7859 - val_loss: 0.0420 - val_accuracy: 0.8023\n",
      "Epoch 13/30\n",
      " - 10s - loss: 0.0417 - accuracy: 0.7977 - val_loss: 0.0402 - val_accuracy: 0.8132\n",
      "Epoch 14/30\n",
      " - 9s - loss: 0.0400 - accuracy: 0.8083 - val_loss: 0.0386 - val_accuracy: 0.8255\n",
      "Epoch 15/30\n",
      " - 9s - loss: 0.0385 - accuracy: 0.8192 - val_loss: 0.0371 - val_accuracy: 0.8359\n",
      "Epoch 16/30\n",
      " - 11s - loss: 0.0371 - accuracy: 0.8288 - val_loss: 0.0358 - val_accuracy: 0.8432\n",
      "Epoch 17/30\n",
      " - 9s - loss: 0.0359 - accuracy: 0.8371 - val_loss: 0.0345 - val_accuracy: 0.8503\n",
      "Epoch 18/30\n",
      " - 10s - loss: 0.0347 - accuracy: 0.8440 - val_loss: 0.0334 - val_accuracy: 0.8557\n",
      "Epoch 19/30\n",
      " - 9s - loss: 0.0336 - accuracy: 0.8506 - val_loss: 0.0323 - val_accuracy: 0.8618\n",
      "Epoch 20/30\n",
      " - 8s - loss: 0.0326 - accuracy: 0.8565 - val_loss: 0.0313 - val_accuracy: 0.8651\n",
      "Epoch 21/30\n",
      " - 9s - loss: 0.0316 - accuracy: 0.8610 - val_loss: 0.0304 - val_accuracy: 0.8706\n",
      "Epoch 22/30\n",
      " - 9s - loss: 0.0308 - accuracy: 0.8646 - val_loss: 0.0295 - val_accuracy: 0.8742\n",
      "Epoch 23/30\n",
      " - 10s - loss: 0.0299 - accuracy: 0.8680 - val_loss: 0.0287 - val_accuracy: 0.8777\n",
      "Epoch 24/30\n",
      " - 9s - loss: 0.0292 - accuracy: 0.8709 - val_loss: 0.0280 - val_accuracy: 0.8790\n",
      "Epoch 25/30\n",
      " - 10s - loss: 0.0285 - accuracy: 0.8738 - val_loss: 0.0273 - val_accuracy: 0.8814\n",
      "Epoch 26/30\n",
      " - 10s - loss: 0.0278 - accuracy: 0.8765 - val_loss: 0.0267 - val_accuracy: 0.8845\n",
      "Epoch 27/30\n",
      " - 10s - loss: 0.0272 - accuracy: 0.8787 - val_loss: 0.0261 - val_accuracy: 0.8863\n",
      "Epoch 28/30\n",
      " - 8s - loss: 0.0266 - accuracy: 0.8814 - val_loss: 0.0255 - val_accuracy: 0.8878\n",
      "Epoch 29/30\n",
      " - 9s - loss: 0.0261 - accuracy: 0.8829 - val_loss: 0.0250 - val_accuracy: 0.8894\n",
      "Epoch 30/30\n",
      " - 9s - loss: 0.0256 - accuracy: 0.8844 - val_loss: 0.0245 - val_accuracy: 0.8904\n"
     ]
    },
    {
     "data": {
      "image/png": "[encoded data removed]",
      "text/plain": [
       "<Figure size 432x288 with 1 Axes>"
      ]
     },
     "metadata": {
      "needs_background": "light"
     },
     "output_type": "display_data"
    }
   ],
   "source": [
    "custom_hist = CustomHistory()\n",
    "custom_hist.init()\n",
    "hist = model.fit(X_train, Y_train, nb_epoch = 30, \n",
    "                 batch_size =100, validation_data = (X_test, Y_test), callbacks = [custom_hist] ,verbose = 2)\n",
    "plt.plot(hist.history['loss'])\n",
    "plt.show()"
   ]
  },
  {
   "cell_type": "code",
   "execution_count": 29,
   "metadata": {},
   "outputs": [
    {
     "data": {
      "image/png": "[encoded data removed]",
      "text/plain": [
       "<Figure size 432x288 with 1 Axes>"
      ]
     },
     "metadata": {
      "needs_background": "light"
     },
     "output_type": "display_data"
    },
    {
     "name": "stdout",
     "output_type": "stream",
     "text": [
      "<keras.engine.sequential.Sequential object at 0x00000153F6425808>\n",
      "{'batch_size': 100, 'epochs': 30, 'steps': None, 'samples': 60000, 'verbose': 2, 'do_validation': True, 'metrics': ['loss', 'accuracy', 'val_loss', 'val_accuracy']}\n",
      "[0.24401666, 0.39213333, 0.49971667, 0.56201667, 0.6149167, 0.6759167, 0.7101333, 0.7325, 0.7474167, 0.76085, 0.77395, 0.7858833, 0.79766667, 0.8082833, 0.81918335, 0.82878333, 0.83713335, 0.84403336, 0.8506333, 0.85646665, 0.8609667, 0.8646167, 0.86795, 0.87091666, 0.87381667, 0.87651664, 0.8786833, 0.88136667, 0.8829, 0.8844]\n",
      "0.8903999924659729\n"
     ]
    },
    {
     "data": {
      "image/png": "[encoded data removed]",
      "text/plain": [
       "<Figure size 432x288 with 1 Axes>"
      ]
     },
     "metadata": {
      "needs_background": "light"
     },
     "output_type": "display_data"
    }
   ],
   "source": [
    "plt.plot(hist.history['accuracy'], 'b-', label = 'training')\n",
    "plt.plot(hist.history['val_accuracy'], 'r:', label = 'test')\n",
    "plt.legend()\n",
    "plt.show()\n",
    "\n",
    "print(hist.model)\n",
    "print(hist.params)\n",
    "print(hist.history['accuracy'])\n",
    "print(hist.history['val_accuracy'][29])\n",
    "plt.show()\n",
    "plt.plot(custom_hist.train_loss, 'y' , label = 'train loss')\n",
    "plt.show()"
   ]
  },
  {
   "cell_type": "code",
   "execution_count": 30,
   "metadata": {},
   "outputs": [
    {
     "data": {
      "text/plain": [
       "array([[0.01767004, 0.01917329, 0.01319787, 0.02869663, 0.01251969,\n",
       "        0.05721784, 0.01232022, 0.94186753, 0.00762814, 0.05536831]],\n",
       "      dtype=float32)"
      ]
     },
     "execution_count": 30,
     "metadata": {},
     "output_type": "execute_result"
    }
   ],
   "source": [
    "# answp X_test의 이미지 한장의 label을 예측해 보시오 \n",
    "\n",
    "# 앞에서 모델을 전부 만들어 진다. \n",
    "model.predict(X_test[:1,:])"
   ]
  },
  {
   "cell_type": "code",
   "execution_count": 31,
   "metadata": {},
   "outputs": [
    {
     "data": {
      "text/plain": [
       "array([7], dtype=int64)"
      ]
     },
     "execution_count": 31,
     "metadata": {},
     "output_type": "execute_result"
    }
   ],
   "source": [
    "model.predict_classes(X_test[:1, :], verbose = 0)"
   ]
  },
  {
   "cell_type": "code",
   "execution_count": 33,
   "metadata": {},
   "outputs": [],
   "source": [
    "# 출력차수가 512인 레이어를 추가히시오"
   ]
  },
  {
   "cell_type": "code",
   "execution_count": 44,
   "metadata": {},
   "outputs": [
    {
     "name": "stdout",
     "output_type": "stream",
     "text": [
      "(404, 13)\n",
      "(404,)\n",
      "(102, 13)\n",
      "(102,)\n"
     ]
    }
   ],
   "source": [
    "from keras.datasets import boston_housing\n",
    "(x_train,y_train), (x_test, y_test) = boston_housing.load_data()\n",
    "\n",
    "print(x_train.shape)\n",
    "print(y_train.shape)\n",
    "print(x_test.shape)\n",
    "print(y_test.shape)\n",
    "\n",
    "## 이넘으로 보스턴 집값 예측 ㄱㄱ"
   ]
  },
  {
   "cell_type": "code",
   "execution_count": 47,
   "metadata": {
    "scrolled": true
   },
   "outputs": [],
   "source": [
    "model = Sequential()\n",
    "num_features = 13\n",
    "model.add(Dense(1, input_dim = num_features, activation = 'linear'))\n"
   ]
  },
  {
   "cell_type": "code",
   "execution_count": 52,
   "metadata": {},
   "outputs": [
    {
     "name": "stdout",
     "output_type": "stream",
     "text": [
      "Model: \"sequential_6\"\n",
      "_________________________________________________________________\n",
      "Layer (type)                 Output Shape              Param #   \n",
      "=================================================================\n",
      "dense_11 (Dense)             (None, 1)                 14        \n",
      "=================================================================\n",
      "Total params: 14\n",
      "Trainable params: 14\n",
      "Non-trainable params: 0\n",
      "_________________________________________________________________\n",
      "Epoch 1/10\n",
      "404/404 [==============================] - 0s 803us/step - loss: 81.2728 - mae: 6.4433\n",
      "Epoch 2/10\n",
      "404/404 [==============================] - 0s 573us/step - loss: 75.8646 - mae: 6.2267\n",
      "Epoch 3/10\n",
      "404/404 [==============================] - 0s 592us/step - loss: 73.1563 - mae: 6.0461\n",
      "Epoch 4/10\n",
      "404/404 [==============================] - 0s 594us/step - loss: 68.9858 - mae: 5.7840\n",
      "Epoch 5/10\n",
      "404/404 [==============================] - 0s 594us/step - loss: 62.8754 - mae: 5.6818\n",
      "Epoch 6/10\n",
      "404/404 [==============================] - 0s 590us/step - loss: 60.0871 - mae: 5.5299\n",
      "Epoch 7/10\n",
      "404/404 [==============================] - 0s 608us/step - loss: 56.1151 - mae: 5.3377\n",
      "Epoch 8/10\n",
      "404/404 [==============================] - 0s 559us/step - loss: 53.0433 - mae: 5.2852\n",
      "Epoch 9/10\n",
      "404/404 [==============================] - 0s 575us/step - loss: 51.6283 - mae: 5.1969\n",
      "Epoch 10/10\n",
      "404/404 [==============================] - 0s 600us/step - loss: 49.9294 - mae: 5.0733\n"
     ]
    },
    {
     "data": {
      "text/plain": [
       "<keras.callbacks.callbacks.History at 0x153982bc588>"
      ]
     },
     "execution_count": 52,
     "metadata": {},
     "output_type": "execute_result"
    }
   ],
   "source": [
    "model.summary()\n",
    "model.compile(optimizer = 'rmsprop',loss = 'mse', metrics = ['mae'] )\n",
    "model.fit(x_train, y_train, batch_size = 1, epochs = 10, verbose = 1)\n"
   ]
  },
  {
   "cell_type": "code",
   "execution_count": 54,
   "metadata": {},
   "outputs": [
    {
     "data": {
      "text/plain": [
       "(54.151563158222274, 7.358774569058511, 5.222496509552002)"
      ]
     },
     "execution_count": 54,
     "metadata": {},
     "output_type": "execute_result"
    }
   ],
   "source": [
    "mse, mae = model.evaluate(x_test, y_test, verbose = False)\n",
    "rmse = np.sqrt(mse)\n",
    "mse,rmse, mae"
   ]
  },
  {
   "cell_type": "code",
   "execution_count": 78,
   "metadata": {},
   "outputs": [],
   "source": [
    "# x_test의 3장을 예측해보시오\n",
    "\n",
    "pred = model.predict(x_test[:3,:])"
   ]
  },
  {
   "cell_type": "code",
   "execution_count": 79,
   "metadata": {},
   "outputs": [],
   "source": [
    "target = y_test[:3]"
   ]
  },
  {
   "cell_type": "code",
   "execution_count": 80,
   "metadata": {},
   "outputs": [
    {
     "ename": "ValueError",
     "evalue": "all the input array dimensions for the concatenation axis must match exactly, but along dimension 1, the array at index 0 has size 1 and the array at index 1 has size 3",
     "output_type": "error",
     "traceback": [
      "\u001b[1;31m---------------------------------------------------------------------------\u001b[0m",
      "\u001b[1;31mValueError\u001b[0m                                Traceback (most recent call last)",
      "\u001b[1;32m<ipython-input-80-a21003eb85da>\u001b[0m in \u001b[0;36m<module>\u001b[1;34m\u001b[0m\n\u001b[0;32m      1\u001b[0m \u001b[1;32mimport\u001b[0m \u001b[0mnumpy\u001b[0m \u001b[1;32mas\u001b[0m \u001b[0mnp\u001b[0m\u001b[1;33m\u001b[0m\u001b[1;33m\u001b[0m\u001b[0m\n\u001b[1;32m----> 2\u001b[1;33m \u001b[0mnp\u001b[0m\u001b[1;33m.\u001b[0m\u001b[0mcorrcoef\u001b[0m\u001b[1;33m(\u001b[0m\u001b[0mpred\u001b[0m\u001b[1;33m,\u001b[0m \u001b[0mtarget\u001b[0m\u001b[1;33m)\u001b[0m\u001b[1;33m\u001b[0m\u001b[1;33m\u001b[0m\u001b[0m\n\u001b[0m",
      "\u001b[1;32m<__array_function__ internals>\u001b[0m in \u001b[0;36mcorrcoef\u001b[1;34m(*args, **kwargs)\u001b[0m\n",
      "\u001b[1;32m~\\AppData\\Roaming\\Python\\Python37\\site-packages\\numpy\\lib\\function_base.py\u001b[0m in \u001b[0;36mcorrcoef\u001b[1;34m(x, y, rowvar, bias, ddof)\u001b[0m\n\u001b[0;32m   2524\u001b[0m         warnings.warn('bias and ddof have no effect and are deprecated',\n\u001b[0;32m   2525\u001b[0m                       DeprecationWarning, stacklevel=3)\n\u001b[1;32m-> 2526\u001b[1;33m     \u001b[0mc\u001b[0m \u001b[1;33m=\u001b[0m \u001b[0mcov\u001b[0m\u001b[1;33m(\u001b[0m\u001b[0mx\u001b[0m\u001b[1;33m,\u001b[0m \u001b[0my\u001b[0m\u001b[1;33m,\u001b[0m \u001b[0mrowvar\u001b[0m\u001b[1;33m)\u001b[0m\u001b[1;33m\u001b[0m\u001b[1;33m\u001b[0m\u001b[0m\n\u001b[0m\u001b[0;32m   2527\u001b[0m     \u001b[1;32mtry\u001b[0m\u001b[1;33m:\u001b[0m\u001b[1;33m\u001b[0m\u001b[1;33m\u001b[0m\u001b[0m\n\u001b[0;32m   2528\u001b[0m         \u001b[0md\u001b[0m \u001b[1;33m=\u001b[0m \u001b[0mdiag\u001b[0m\u001b[1;33m(\u001b[0m\u001b[0mc\u001b[0m\u001b[1;33m)\u001b[0m\u001b[1;33m\u001b[0m\u001b[1;33m\u001b[0m\u001b[0m\n",
      "\u001b[1;32m<__array_function__ internals>\u001b[0m in \u001b[0;36mcov\u001b[1;34m(*args, **kwargs)\u001b[0m\n",
      "\u001b[1;32m~\\AppData\\Roaming\\Python\\Python37\\site-packages\\numpy\\lib\\function_base.py\u001b[0m in \u001b[0;36mcov\u001b[1;34m(m, y, rowvar, bias, ddof, fweights, aweights)\u001b[0m\n\u001b[0;32m   2388\u001b[0m         \u001b[1;32mif\u001b[0m \u001b[1;32mnot\u001b[0m \u001b[0mrowvar\u001b[0m \u001b[1;32mand\u001b[0m \u001b[0my\u001b[0m\u001b[1;33m.\u001b[0m\u001b[0mshape\u001b[0m\u001b[1;33m[\u001b[0m\u001b[1;36m0\u001b[0m\u001b[1;33m]\u001b[0m \u001b[1;33m!=\u001b[0m \u001b[1;36m1\u001b[0m\u001b[1;33m:\u001b[0m\u001b[1;33m\u001b[0m\u001b[1;33m\u001b[0m\u001b[0m\n\u001b[0;32m   2389\u001b[0m             \u001b[0my\u001b[0m \u001b[1;33m=\u001b[0m \u001b[0my\u001b[0m\u001b[1;33m.\u001b[0m\u001b[0mT\u001b[0m\u001b[1;33m\u001b[0m\u001b[1;33m\u001b[0m\u001b[0m\n\u001b[1;32m-> 2390\u001b[1;33m         \u001b[0mX\u001b[0m \u001b[1;33m=\u001b[0m \u001b[0mnp\u001b[0m\u001b[1;33m.\u001b[0m\u001b[0mconcatenate\u001b[0m\u001b[1;33m(\u001b[0m\u001b[1;33m(\u001b[0m\u001b[0mX\u001b[0m\u001b[1;33m,\u001b[0m \u001b[0my\u001b[0m\u001b[1;33m)\u001b[0m\u001b[1;33m,\u001b[0m \u001b[0maxis\u001b[0m\u001b[1;33m=\u001b[0m\u001b[1;36m0\u001b[0m\u001b[1;33m)\u001b[0m\u001b[1;33m\u001b[0m\u001b[1;33m\u001b[0m\u001b[0m\n\u001b[0m\u001b[0;32m   2391\u001b[0m \u001b[1;33m\u001b[0m\u001b[0m\n\u001b[0;32m   2392\u001b[0m     \u001b[1;32mif\u001b[0m \u001b[0mddof\u001b[0m \u001b[1;32mis\u001b[0m \u001b[1;32mNone\u001b[0m\u001b[1;33m:\u001b[0m\u001b[1;33m\u001b[0m\u001b[1;33m\u001b[0m\u001b[0m\n",
      "\u001b[1;32m<__array_function__ internals>\u001b[0m in \u001b[0;36mconcatenate\u001b[1;34m(*args, **kwargs)\u001b[0m\n",
      "\u001b[1;31mValueError\u001b[0m: all the input array dimensions for the concatenation axis must match exactly, but along dimension 1, the array at index 0 has size 1 and the array at index 1 has size 3"
     ]
    }
   ],
   "source": [
    "import numpy as np\n",
    "np.corrcoef(pred, target.)"
   ]
  },
  {
   "cell_type": "code",
   "execution_count": null,
   "metadata": {},
   "outputs": [],
   "source": [
    "        "
   ]
  },
  {
   "cell_type": "code",
   "execution_count": null,
   "metadata": {},
   "outputs": [],
   "source": [
    "import numpy\n",
    "from "
   ]
  },
  {
   "cell_type": "code",
   "execution_count": 1,
   "metadata": {},
   "outputs": [
    {
     "ename": "SyntaxError",
     "evalue": "unexpected EOF while parsing (<ipython-input-1-3d8654a2041a>, line 1)",
     "output_type": "error",
     "traceback": [
      "\u001b[1;36m  File \u001b[1;32m\"<ipython-input-1-3d8654a2041a>\"\u001b[1;36m, line \u001b[1;32m1\u001b[0m\n\u001b[1;33m    def create_model():\u001b[0m\n\u001b[1;37m                       ^\u001b[0m\n\u001b[1;31mSyntaxError\u001b[0m\u001b[1;31m:\u001b[0m unexpected EOF while parsing\n"
     ]
    }
   ],
   "source": [
    "def create_model():\n",
    "    model=Sequential()\n",
    "    model.add(Dense(12,input_dim=8,activation='relu'))\n",
    "    model.add(Dense(1,activation='sigmoid'))"
   ]
  },
  {
   "cell_type": "code",
   "execution_count": null,
   "metadata": {},
   "outputs": [],
   "source": []
  },
  {
   "cell_type": "code",
   "execution_count": null,
   "metadata": {},
   "outputs": [],
   "source": []
  }
 ],
 "metadata": {
  "kernelspec": {
   "display_name": "Python 3",
   "language": "python",
   "name": "python3"
  },
  "language_info": {
   "codemirror_mode": {
    "name": "ipython",
    "version": 3
   },
   "file_extension": ".py",
   "mimetype": "text/x-python",
   "name": "python",
   "nbconvert_exporter": "python",
   "pygments_lexer": "ipython3",
   "version": "3.7.4"
  }
 },
 "nbformat": 4,
 "nbformat_minor": 2
}
