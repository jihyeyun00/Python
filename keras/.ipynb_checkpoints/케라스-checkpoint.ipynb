{
 "cells": [
  {
   "cell_type": "code",
   "execution_count": 6,
   "metadata": {},
   "outputs": [
    {
     "name": "stdout",
     "output_type": "stream",
     "text": [
      "WARNING:tensorflow:From C:\\Users\\ICT01_15\\Anaconda3\\lib\\site-packages\\keras\\backend\\tensorflow_backend.py:422: The name tf.global_variables is deprecated. Please use tf.compat.v1.global_variables instead.\n",
      "\n",
      "입력데이터=[0.29466096 0.30317302],예측결과=[0.1730334]\n",
      "입력데이터=[0.39445118 0.79390858],예측결과=[0.7441898]\n",
      "입력데이터=[0.02884127 0.6208843 ],예측결과=[0.40246361]\n"
     ]
    }
   ],
   "source": [
    "#회귀\n",
    "from keras.models import Sequential #models 서브패키지\n",
    "from keras.layers import Dense #layers 모델구성\n",
    "from sklearn.datasets import make_regression\n",
    "\n",
    "#MinMaxScaler 신경망-정규화\n",
    "from sklearn.preprocessing import MinMaxScaler\n",
    "\n",
    "#훈련데이터\n",
    "#X=100x2 y=100\n",
    "X,y=make_regression(n_samples=100,n_features=2,\n",
    "                   noise=0.1,random_state=1)   #noise 를 주면 학습이 잘됨\n",
    "scalarX,scalarY=MinMaxScaler(),MinMaxScaler() #값의 범위가 (데이터사이즈가) 다르므로 \n",
    "scalarX.fit(X)\n",
    "scalarY.fit(y.reshape(100,1)) #y=100 열, 행으로 만들어 주기 위해 \n",
    "X=scalarX.transform(X)\n",
    "y=scalarY.transform(y.reshape(100,1))\n",
    "\n",
    "#케라스모델시작 \n",
    "model=Sequential()\n",
    "#layer depth\n",
    "#100x2 출력차수지정, 2x4 의 가중치(의 차수를 자동으로 맞춰줌), 결과는 100x4\n",
    "model.add(Dense(4,input_dim=2,activation='relu'))  #ffnn 만들때\n",
    "#100x4(출력이 입력으로) 4x4 100x4\n",
    "model.add(Dense(4,activation='relu'))\n",
    "#100x4 4x1 100x1 예측\n",
    "model.add(Dense(1,activation='linear'))\n",
    "#backend=tensorflow \n",
    "#mse, cross entropy kl_divergence \n",
    "model.compile(loss='mse',optimizer='adam') #tensorflow 로 모델을 변환\n",
    "model.fit(X,y,epochs=1000,verbose=0) #2개의 for문 대신 verbose=0 은 출력여부 no\n",
    "\n",
    "\n",
    "#예측(테스트데이터)\n",
    "Xnew,a=make_regression(n_samples=3,n_features=2,noise=0.1,random_state=1) #a를 쓴 이유:make_regression x,y 값이 필요함(앞:x값 뒤:y값)\n",
    "Xnew=scalarX.transform(Xnew)\n",
    "ynew=model.predict(Xnew)\n",
    "\n",
    "for i in range(len(Xnew)):\n",
    "    print('입력데이터=%s,예측결과=%s' %(Xnew[i],ynew[i]))\n",
    "    \n",
    "\n"
   ]
  },
  {
   "cell_type": "code",
   "execution_count": 5,
   "metadata": {},
   "outputs": [
    {
     "name": "stderr",
     "output_type": "stream",
     "text": [
      "Using TensorFlow backend.\n"
     ]
    },
    {
     "name": "stdout",
     "output_type": "stream",
     "text": [
      "(768, 8)\n",
      "(768,)\n",
      "WARNING:tensorflow:From C:\\Users\\ICT01_15\\Anaconda3\\lib\\site-packages\\tensorflow\\python\\ops\\nn_impl.py:180: add_dispatch_support.<locals>.wrapper (from tensorflow.python.ops.array_ops) is deprecated and will be removed in a future version.\n",
      "Instructions for updating:\n",
      "Use tf.where in 2.0, which has the same broadcast rule as np.where\n",
      "WARNING:tensorflow:From C:\\Users\\ICT01_15\\Anaconda3\\lib\\site-packages\\keras\\backend\\tensorflow_backend.py:422: The name tf.global_variables is deprecated. Please use tf.compat.v1.global_variables instead.\n",
      "\n",
      "Train on 514 samples, validate on 254 samples\n",
      "Epoch 1/150\n",
      "514/514 [==============================] - 1s 1ms/step - loss: 0.6904 - accuracy: 0.6595 - val_loss: 0.6552 - val_accuracy: 0.6575\n",
      "Epoch 2/150\n",
      "514/514 [==============================] - 0s 107us/step - loss: 0.6549 - accuracy: 0.6342 - val_loss: 0.6316 - val_accuracy: 0.6614\n",
      "Epoch 3/150\n",
      "514/514 [==============================] - 0s 112us/step - loss: 0.6469 - accuracy: 0.6381 - val_loss: 0.6260 - val_accuracy: 0.6654\n",
      "Epoch 4/150\n",
      "514/514 [==============================] - 0s 111us/step - loss: 0.6367 - accuracy: 0.6556 - val_loss: 0.6277 - val_accuracy: 0.6654\n",
      "Epoch 5/150\n",
      "514/514 [==============================] - 0s 107us/step - loss: 0.6269 - accuracy: 0.6537 - val_loss: 0.6229 - val_accuracy: 0.6693\n",
      "Epoch 6/150\n",
      "514/514 [==============================] - 0s 103us/step - loss: 0.6185 - accuracy: 0.6654 - val_loss: 0.6299 - val_accuracy: 0.6772\n",
      "Epoch 7/150\n",
      "514/514 [==============================] - 0s 106us/step - loss: 0.6148 - accuracy: 0.6693 - val_loss: 0.6171 - val_accuracy: 0.6654\n",
      "Epoch 8/150\n",
      "514/514 [==============================] - 0s 130us/step - loss: 0.6112 - accuracy: 0.6654 - val_loss: 0.6146 - val_accuracy: 0.6732\n",
      "Epoch 9/150\n",
      "514/514 [==============================] - 0s 107us/step - loss: 0.6076 - accuracy: 0.6790 - val_loss: 0.6121 - val_accuracy: 0.6732\n",
      "Epoch 10/150\n",
      "514/514 [==============================] - 0s 103us/step - loss: 0.6003 - accuracy: 0.6790 - val_loss: 0.6050 - val_accuracy: 0.6693\n",
      "Epoch 11/150\n",
      "514/514 [==============================] - 0s 108us/step - loss: 0.5976 - accuracy: 0.6770 - val_loss: 0.6169 - val_accuracy: 0.6811\n",
      "Epoch 12/150\n",
      "514/514 [==============================] - 0s 109us/step - loss: 0.6014 - accuracy: 0.6693 - val_loss: 0.6113 - val_accuracy: 0.6693\n",
      "Epoch 13/150\n",
      "514/514 [==============================] - 0s 105us/step - loss: 0.5962 - accuracy: 0.6809 - val_loss: 0.6093 - val_accuracy: 0.6772\n",
      "Epoch 14/150\n",
      "514/514 [==============================] - 0s 116us/step - loss: 0.5925 - accuracy: 0.6907 - val_loss: 0.6011 - val_accuracy: 0.6850\n",
      "Epoch 15/150\n",
      "514/514 [==============================] - 0s 110us/step - loss: 0.5933 - accuracy: 0.6790 - val_loss: 0.5994 - val_accuracy: 0.6850\n",
      "Epoch 16/150\n",
      "514/514 [==============================] - 0s 127us/step - loss: 0.5940 - accuracy: 0.6848 - val_loss: 0.5979 - val_accuracy: 0.6732\n",
      "Epoch 17/150\n",
      "514/514 [==============================] - 0s 104us/step - loss: 0.5944 - accuracy: 0.6712 - val_loss: 0.5915 - val_accuracy: 0.6811\n",
      "Epoch 18/150\n",
      "514/514 [==============================] - 0s 109us/step - loss: 0.5849 - accuracy: 0.6712 - val_loss: 0.5949 - val_accuracy: 0.6890\n",
      "Epoch 19/150\n",
      "514/514 [==============================] - 0s 104us/step - loss: 0.5868 - accuracy: 0.6868 - val_loss: 0.5921 - val_accuracy: 0.6811\n",
      "Epoch 20/150\n",
      "514/514 [==============================] - 0s 107us/step - loss: 0.5850 - accuracy: 0.6887 - val_loss: 0.6041 - val_accuracy: 0.6850\n",
      "Epoch 21/150\n",
      "514/514 [==============================] - 0s 102us/step - loss: 0.5912 - accuracy: 0.6809 - val_loss: 0.6057 - val_accuracy: 0.6693\n",
      "Epoch 22/150\n",
      "514/514 [==============================] - 0s 103us/step - loss: 0.5895 - accuracy: 0.6809 - val_loss: 0.6193 - val_accuracy: 0.6654\n",
      "Epoch 23/150\n",
      "514/514 [==============================] - 0s 105us/step - loss: 0.5848 - accuracy: 0.6770 - val_loss: 0.5963 - val_accuracy: 0.6732\n",
      "Epoch 24/150\n",
      "514/514 [==============================] - 0s 107us/step - loss: 0.5786 - accuracy: 0.6926 - val_loss: 0.5925 - val_accuracy: 0.6890\n",
      "Epoch 25/150\n",
      "514/514 [==============================] - 0s 102us/step - loss: 0.5920 - accuracy: 0.6868 - val_loss: 0.5974 - val_accuracy: 0.6772\n",
      "Epoch 26/150\n",
      "514/514 [==============================] - 0s 106us/step - loss: 0.5797 - accuracy: 0.6965 - val_loss: 0.5892 - val_accuracy: 0.6850\n",
      "Epoch 27/150\n",
      "514/514 [==============================] - 0s 126us/step - loss: 0.5836 - accuracy: 0.6809 - val_loss: 0.5860 - val_accuracy: 0.6929\n",
      "Epoch 28/150\n",
      "514/514 [==============================] - 0s 103us/step - loss: 0.5850 - accuracy: 0.6868 - val_loss: 0.6123 - val_accuracy: 0.6654\n",
      "Epoch 29/150\n",
      "514/514 [==============================] - 0s 102us/step - loss: 0.5837 - accuracy: 0.6848 - val_loss: 0.6032 - val_accuracy: 0.6890\n",
      "Epoch 30/150\n",
      "514/514 [==============================] - 0s 107us/step - loss: 0.5772 - accuracy: 0.6887 - val_loss: 0.5908 - val_accuracy: 0.6890\n",
      "Epoch 31/150\n",
      "514/514 [==============================] - 0s 124us/step - loss: 0.5735 - accuracy: 0.6926 - val_loss: 0.5889 - val_accuracy: 0.6969\n",
      "Epoch 32/150\n",
      "514/514 [==============================] - 0s 103us/step - loss: 0.5774 - accuracy: 0.6790 - val_loss: 0.6200 - val_accuracy: 0.6457\n",
      "Epoch 33/150\n",
      "514/514 [==============================] - 0s 107us/step - loss: 0.5917 - accuracy: 0.6946 - val_loss: 0.6052 - val_accuracy: 0.7008\n",
      "Epoch 34/150\n",
      "514/514 [==============================] - 0s 105us/step - loss: 0.5756 - accuracy: 0.6887 - val_loss: 0.5979 - val_accuracy: 0.6811\n",
      "Epoch 35/150\n",
      "514/514 [==============================] - 0s 102us/step - loss: 0.5689 - accuracy: 0.7023 - val_loss: 0.5821 - val_accuracy: 0.7047\n",
      "Epoch 36/150\n",
      "514/514 [==============================] - 0s 102us/step - loss: 0.5872 - accuracy: 0.6887 - val_loss: 0.5867 - val_accuracy: 0.6969\n",
      "Epoch 37/150\n",
      "514/514 [==============================] - 0s 105us/step - loss: 0.5750 - accuracy: 0.6946 - val_loss: 0.5843 - val_accuracy: 0.7008\n",
      "Epoch 38/150\n",
      "514/514 [==============================] - 0s 101us/step - loss: 0.5725 - accuracy: 0.6926 - val_loss: 0.5819 - val_accuracy: 0.7047\n",
      "Epoch 39/150\n",
      "514/514 [==============================] - 0s 101us/step - loss: 0.5707 - accuracy: 0.6868 - val_loss: 0.5809 - val_accuracy: 0.7126\n",
      "Epoch 40/150\n",
      "514/514 [==============================] - 0s 111us/step - loss: 0.5768 - accuracy: 0.6732 - val_loss: 0.5835 - val_accuracy: 0.7008\n",
      "Epoch 41/150\n",
      "514/514 [==============================] - 0s 104us/step - loss: 0.5689 - accuracy: 0.6926 - val_loss: 0.5823 - val_accuracy: 0.6969\n",
      "Epoch 42/150\n",
      "514/514 [==============================] - 0s 104us/step - loss: 0.5650 - accuracy: 0.6887 - val_loss: 0.5946 - val_accuracy: 0.6929\n",
      "Epoch 43/150\n",
      "514/514 [==============================] - 0s 101us/step - loss: 0.5689 - accuracy: 0.6809 - val_loss: 0.5827 - val_accuracy: 0.6929\n",
      "Epoch 44/150\n",
      "514/514 [==============================] - 0s 104us/step - loss: 0.5679 - accuracy: 0.6848 - val_loss: 0.5902 - val_accuracy: 0.6850\n",
      "Epoch 45/150\n",
      "514/514 [==============================] - 0s 101us/step - loss: 0.5623 - accuracy: 0.6848 - val_loss: 0.6095 - val_accuracy: 0.6535\n",
      "Epoch 46/150\n",
      "514/514 [==============================] - 0s 100us/step - loss: 0.5755 - accuracy: 0.6790 - val_loss: 0.5894 - val_accuracy: 0.6969\n",
      "Epoch 47/150\n",
      "514/514 [==============================] - 0s 100us/step - loss: 0.5656 - accuracy: 0.6926 - val_loss: 0.5790 - val_accuracy: 0.7047\n",
      "Epoch 48/150\n",
      "514/514 [==============================] - 0s 104us/step - loss: 0.5682 - accuracy: 0.6907 - val_loss: 0.5833 - val_accuracy: 0.7008\n",
      "Epoch 49/150\n",
      "514/514 [==============================] - 0s 107us/step - loss: 0.5647 - accuracy: 0.6946 - val_loss: 0.5833 - val_accuracy: 0.6850\n",
      "Epoch 50/150\n",
      "514/514 [==============================] - 0s 102us/step - loss: 0.5640 - accuracy: 0.6868 - val_loss: 0.5872 - val_accuracy: 0.7008\n",
      "Epoch 51/150\n",
      "514/514 [==============================] - 0s 102us/step - loss: 0.5615 - accuracy: 0.6926 - val_loss: 0.5746 - val_accuracy: 0.7047\n",
      "Epoch 52/150\n",
      "514/514 [==============================] - 0s 103us/step - loss: 0.5689 - accuracy: 0.6848 - val_loss: 0.5944 - val_accuracy: 0.6969\n",
      "Epoch 53/150\n"
     ]
    },
    {
     "name": "stdout",
     "output_type": "stream",
     "text": [
      "514/514 [==============================] - 0s 100us/step - loss: 0.5601 - accuracy: 0.6946 - val_loss: 0.5860 - val_accuracy: 0.7047\n",
      "Epoch 54/150\n",
      "514/514 [==============================] - 0s 100us/step - loss: 0.5657 - accuracy: 0.6887 - val_loss: 0.5752 - val_accuracy: 0.6969\n",
      "Epoch 55/150\n",
      "514/514 [==============================] - 0s 100us/step - loss: 0.5600 - accuracy: 0.6907 - val_loss: 0.6229 - val_accuracy: 0.7087\n",
      "Epoch 56/150\n",
      "514/514 [==============================] - 0s 103us/step - loss: 0.5736 - accuracy: 0.6693 - val_loss: 0.5854 - val_accuracy: 0.6969\n",
      "Epoch 57/150\n",
      "514/514 [==============================] - 0s 100us/step - loss: 0.5727 - accuracy: 0.6887 - val_loss: 0.5760 - val_accuracy: 0.7047\n",
      "Epoch 58/150\n",
      "514/514 [==============================] - 0s 100us/step - loss: 0.5563 - accuracy: 0.6984 - val_loss: 0.6079 - val_accuracy: 0.6693\n",
      "Epoch 59/150\n",
      "514/514 [==============================] - 0s 101us/step - loss: 0.5695 - accuracy: 0.6712 - val_loss: 0.5965 - val_accuracy: 0.6890\n",
      "Epoch 60/150\n",
      "514/514 [==============================] - 0s 102us/step - loss: 0.5633 - accuracy: 0.6887 - val_loss: 0.5740 - val_accuracy: 0.6929\n",
      "Epoch 61/150\n",
      "514/514 [==============================] - 0s 106us/step - loss: 0.5650 - accuracy: 0.6848 - val_loss: 0.5784 - val_accuracy: 0.6890\n",
      "Epoch 62/150\n",
      "514/514 [==============================] - 0s 102us/step - loss: 0.5585 - accuracy: 0.6965 - val_loss: 0.5755 - val_accuracy: 0.7008\n",
      "Epoch 63/150\n",
      "514/514 [==============================] - 0s 103us/step - loss: 0.5510 - accuracy: 0.6868 - val_loss: 0.5739 - val_accuracy: 0.7008\n",
      "Epoch 64/150\n",
      "514/514 [==============================] - 0s 102us/step - loss: 0.5518 - accuracy: 0.6965 - val_loss: 0.5797 - val_accuracy: 0.7126\n",
      "Epoch 65/150\n",
      "514/514 [==============================] - 0s 101us/step - loss: 0.5557 - accuracy: 0.6887 - val_loss: 0.5868 - val_accuracy: 0.6890\n",
      "Epoch 66/150\n",
      "514/514 [==============================] - 0s 100us/step - loss: 0.5529 - accuracy: 0.6848 - val_loss: 0.5717 - val_accuracy: 0.7165\n",
      "Epoch 67/150\n",
      "514/514 [==============================] - 0s 99us/step - loss: 0.5491 - accuracy: 0.6984 - val_loss: 0.5783 - val_accuracy: 0.6850\n",
      "Epoch 68/150\n",
      "514/514 [==============================] - 0s 107us/step - loss: 0.5577 - accuracy: 0.6829 - val_loss: 0.5692 - val_accuracy: 0.7008\n",
      "Epoch 69/150\n",
      "514/514 [==============================] - 0s 112us/step - loss: 0.5526 - accuracy: 0.6887 - val_loss: 0.5784 - val_accuracy: 0.6969\n",
      "Epoch 70/150\n",
      "514/514 [==============================] - 0s 110us/step - loss: 0.5516 - accuracy: 0.6946 - val_loss: 0.5955 - val_accuracy: 0.6772\n",
      "Epoch 71/150\n",
      "514/514 [==============================] - 0s 106us/step - loss: 0.5489 - accuracy: 0.7004 - val_loss: 0.5728 - val_accuracy: 0.6969\n",
      "Epoch 72/150\n",
      "514/514 [==============================] - 0s 105us/step - loss: 0.5491 - accuracy: 0.6887 - val_loss: 0.5775 - val_accuracy: 0.7008\n",
      "Epoch 73/150\n",
      "514/514 [==============================] - 0s 104us/step - loss: 0.5586 - accuracy: 0.6887 - val_loss: 0.5674 - val_accuracy: 0.7008\n",
      "Epoch 74/150\n",
      "514/514 [==============================] - 0s 101us/step - loss: 0.5462 - accuracy: 0.6926 - val_loss: 0.5776 - val_accuracy: 0.6929\n",
      "Epoch 75/150\n",
      "514/514 [==============================] - 0s 105us/step - loss: 0.5448 - accuracy: 0.6926 - val_loss: 0.5711 - val_accuracy: 0.6929\n",
      "Epoch 76/150\n",
      "514/514 [==============================] - 0s 102us/step - loss: 0.5407 - accuracy: 0.6926 - val_loss: 0.5703 - val_accuracy: 0.7008\n",
      "Epoch 77/150\n",
      "514/514 [==============================] - 0s 106us/step - loss: 0.5438 - accuracy: 0.6887 - val_loss: 0.5788 - val_accuracy: 0.6969\n",
      "Epoch 78/150\n",
      "514/514 [==============================] - 0s 102us/step - loss: 0.5505 - accuracy: 0.6868 - val_loss: 0.5784 - val_accuracy: 0.7047\n",
      "Epoch 79/150\n",
      "514/514 [==============================] - 0s 101us/step - loss: 0.5508 - accuracy: 0.6907 - val_loss: 0.5732 - val_accuracy: 0.6969\n",
      "Epoch 80/150\n",
      "514/514 [==============================] - 0s 104us/step - loss: 0.5414 - accuracy: 0.6926 - val_loss: 0.5687 - val_accuracy: 0.7087\n",
      "Epoch 81/150\n",
      "514/514 [==============================] - 0s 103us/step - loss: 0.5493 - accuracy: 0.6965 - val_loss: 0.5758 - val_accuracy: 0.7008\n",
      "Epoch 82/150\n",
      "514/514 [==============================] - 0s 110us/step - loss: 0.5471 - accuracy: 0.7004 - val_loss: 0.5680 - val_accuracy: 0.7087\n",
      "Epoch 83/150\n",
      "514/514 [==============================] - 0s 101us/step - loss: 0.5428 - accuracy: 0.6984 - val_loss: 0.5762 - val_accuracy: 0.7008\n",
      "Epoch 84/150\n",
      "514/514 [==============================] - 0s 99us/step - loss: 0.5440 - accuracy: 0.6926 - val_loss: 0.5727 - val_accuracy: 0.6929\n",
      "Epoch 85/150\n",
      "514/514 [==============================] - 0s 100us/step - loss: 0.5553 - accuracy: 0.6829 - val_loss: 0.5680 - val_accuracy: 0.7087\n",
      "Epoch 86/150\n",
      "514/514 [==============================] - 0s 102us/step - loss: 0.5384 - accuracy: 0.7043 - val_loss: 0.5667 - val_accuracy: 0.7126\n",
      "Epoch 87/150\n",
      "514/514 [==============================] - 0s 104us/step - loss: 0.5393 - accuracy: 0.7043 - val_loss: 0.5770 - val_accuracy: 0.7126\n",
      "Epoch 88/150\n",
      "514/514 [==============================] - 0s 101us/step - loss: 0.5341 - accuracy: 0.7004 - val_loss: 0.5686 - val_accuracy: 0.7047\n",
      "Epoch 89/150\n",
      "514/514 [==============================] - 0s 103us/step - loss: 0.5305 - accuracy: 0.7004 - val_loss: 0.5881 - val_accuracy: 0.6969\n",
      "Epoch 90/150\n",
      "514/514 [==============================] - 0s 103us/step - loss: 0.5438 - accuracy: 0.7004 - val_loss: 0.5866 - val_accuracy: 0.6890\n",
      "Epoch 91/150\n",
      "514/514 [==============================] - 0s 102us/step - loss: 0.5450 - accuracy: 0.6965 - val_loss: 0.5798 - val_accuracy: 0.7047\n",
      "Epoch 92/150\n",
      "514/514 [==============================] - 0s 104us/step - loss: 0.5535 - accuracy: 0.6907 - val_loss: 0.5615 - val_accuracy: 0.7047\n",
      "Epoch 93/150\n",
      "514/514 [==============================] - 0s 101us/step - loss: 0.5384 - accuracy: 0.7004 - val_loss: 0.5681 - val_accuracy: 0.7008\n",
      "Epoch 94/150\n",
      "514/514 [==============================] - 0s 96us/step - loss: 0.5371 - accuracy: 0.6965 - val_loss: 0.5688 - val_accuracy: 0.7008\n",
      "Epoch 95/150\n",
      "514/514 [==============================] - 0s 99us/step - loss: 0.5417 - accuracy: 0.7023 - val_loss: 0.5949 - val_accuracy: 0.6732\n",
      "Epoch 96/150\n",
      "514/514 [==============================] - 0s 96us/step - loss: 0.5360 - accuracy: 0.6848 - val_loss: 0.5748 - val_accuracy: 0.7008\n",
      "Epoch 97/150\n",
      "514/514 [==============================] - 0s 102us/step - loss: 0.5329 - accuracy: 0.6868 - val_loss: 0.5682 - val_accuracy: 0.7087\n",
      "Epoch 98/150\n",
      "514/514 [==============================] - 0s 104us/step - loss: 0.5381 - accuracy: 0.6946 - val_loss: 0.5722 - val_accuracy: 0.7008\n",
      "Epoch 99/150\n",
      "514/514 [==============================] - 0s 100us/step - loss: 0.5456 - accuracy: 0.7004 - val_loss: 0.5662 - val_accuracy: 0.7047\n",
      "Epoch 100/150\n",
      "514/514 [==============================] - 0s 102us/step - loss: 0.5422 - accuracy: 0.6965 - val_loss: 0.5689 - val_accuracy: 0.7126\n",
      "Epoch 101/150\n",
      "514/514 [==============================] - 0s 104us/step - loss: 0.5409 - accuracy: 0.7082 - val_loss: 0.5710 - val_accuracy: 0.6969\n",
      "Epoch 102/150\n",
      "514/514 [==============================] - 0s 107us/step - loss: 0.5324 - accuracy: 0.6907 - val_loss: 0.5690 - val_accuracy: 0.7087\n",
      "Epoch 103/150\n",
      "514/514 [==============================] - 0s 116us/step - loss: 0.5465 - accuracy: 0.6946 - val_loss: 0.5678 - val_accuracy: 0.7087\n",
      "Epoch 104/150\n",
      "514/514 [==============================] - 0s 107us/step - loss: 0.5496 - accuracy: 0.6946 - val_loss: 0.5657 - val_accuracy: 0.7205\n",
      "Epoch 105/150\n",
      "514/514 [==============================] - 0s 102us/step - loss: 0.5361 - accuracy: 0.7004 - val_loss: 0.5714 - val_accuracy: 0.6850\n",
      "Epoch 106/150\n",
      "514/514 [==============================] - 0s 114us/step - loss: 0.5433 - accuracy: 0.6946 - val_loss: 0.5675 - val_accuracy: 0.7126\n",
      "Epoch 107/150\n",
      "514/514 [==============================] - 0s 113us/step - loss: 0.5301 - accuracy: 0.7023 - val_loss: 0.5704 - val_accuracy: 0.7008\n",
      "Epoch 108/150\n",
      "514/514 [==============================] - 0s 106us/step - loss: 0.5485 - accuracy: 0.6984 - val_loss: 0.5688 - val_accuracy: 0.7047\n",
      "Epoch 109/150\n",
      "514/514 [==============================] - 0s 104us/step - loss: 0.5310 - accuracy: 0.6946 - val_loss: 0.5655 - val_accuracy: 0.6969\n",
      "Epoch 110/150\n",
      "514/514 [==============================] - 0s 102us/step - loss: 0.5349 - accuracy: 0.7023 - val_loss: 0.5714 - val_accuracy: 0.7087\n",
      "Epoch 111/150\n",
      "514/514 [==============================] - 0s 99us/step - loss: 0.5396 - accuracy: 0.6984 - val_loss: 0.5661 - val_accuracy: 0.7008\n",
      "Epoch 112/150\n",
      "514/514 [==============================] - 0s 103us/step - loss: 0.5276 - accuracy: 0.7062 - val_loss: 0.5906 - val_accuracy: 0.6969\n",
      "Epoch 113/150\n",
      "514/514 [==============================] - 0s 108us/step - loss: 0.5350 - accuracy: 0.6984 - val_loss: 0.5736 - val_accuracy: 0.7047\n",
      "Epoch 114/150\n",
      "514/514 [==============================] - 0s 100us/step - loss: 0.5286 - accuracy: 0.6946 - val_loss: 0.5861 - val_accuracy: 0.6811\n",
      "Epoch 115/150\n",
      "514/514 [==============================] - 0s 103us/step - loss: 0.5386 - accuracy: 0.6984 - val_loss: 0.5671 - val_accuracy: 0.6929\n",
      "Epoch 116/150\n",
      "514/514 [==============================] - 0s 100us/step - loss: 0.5293 - accuracy: 0.7043 - val_loss: 0.5810 - val_accuracy: 0.7047\n",
      "Epoch 117/150\n",
      "514/514 [==============================] - 0s 103us/step - loss: 0.5367 - accuracy: 0.7004 - val_loss: 0.5699 - val_accuracy: 0.7087\n",
      "Epoch 118/150\n",
      "514/514 [==============================] - 0s 101us/step - loss: 0.5329 - accuracy: 0.6965 - val_loss: 0.5656 - val_accuracy: 0.7047\n",
      "Epoch 119/150\n",
      "514/514 [==============================] - 0s 101us/step - loss: 0.5456 - accuracy: 0.6926 - val_loss: 0.5677 - val_accuracy: 0.7087\n",
      "Epoch 120/150\n",
      "514/514 [==============================] - 0s 102us/step - loss: 0.5291 - accuracy: 0.6926 - val_loss: 0.5597 - val_accuracy: 0.7087\n",
      "Epoch 121/150\n",
      "514/514 [==============================] - 0s 105us/step - loss: 0.5346 - accuracy: 0.6887 - val_loss: 0.5830 - val_accuracy: 0.7126\n",
      "Epoch 122/150\n",
      "514/514 [==============================] - 0s 102us/step - loss: 0.5397 - accuracy: 0.7004 - val_loss: 0.5663 - val_accuracy: 0.7165\n",
      "Epoch 123/150\n",
      "514/514 [==============================] - 0s 103us/step - loss: 0.5253 - accuracy: 0.6946 - val_loss: 0.5934 - val_accuracy: 0.6850\n",
      "Epoch 124/150\n",
      "514/514 [==============================] - 0s 104us/step - loss: 0.5308 - accuracy: 0.6965 - val_loss: 0.5671 - val_accuracy: 0.7165\n",
      "Epoch 125/150\n",
      "514/514 [==============================] - 0s 105us/step - loss: 0.5268 - accuracy: 0.7043 - val_loss: 0.5669 - val_accuracy: 0.7047\n",
      "Epoch 126/150\n",
      "514/514 [==============================] - 0s 100us/step - loss: 0.5188 - accuracy: 0.6984 - val_loss: 0.5687 - val_accuracy: 0.6929\n",
      "Epoch 127/150\n",
      "514/514 [==============================] - 0s 102us/step - loss: 0.5286 - accuracy: 0.7023 - val_loss: 0.5816 - val_accuracy: 0.6969\n",
      "Epoch 128/150\n",
      "514/514 [==============================] - 0s 102us/step - loss: 0.5186 - accuracy: 0.7140 - val_loss: 0.5626 - val_accuracy: 0.7047\n",
      "Epoch 129/150\n",
      "514/514 [==============================] - 0s 103us/step - loss: 0.5221 - accuracy: 0.6984 - val_loss: 0.5791 - val_accuracy: 0.7047\n",
      "Epoch 130/150\n",
      "514/514 [==============================] - 0s 101us/step - loss: 0.5289 - accuracy: 0.6926 - val_loss: 0.5620 - val_accuracy: 0.7126\n",
      "Epoch 131/150\n",
      "514/514 [==============================] - 0s 103us/step - loss: 0.5288 - accuracy: 0.7082 - val_loss: 0.5636 - val_accuracy: 0.7126\n",
      "Epoch 132/150\n",
      "514/514 [==============================] - 0s 103us/step - loss: 0.5250 - accuracy: 0.7004 - val_loss: 0.5583 - val_accuracy: 0.7244\n",
      "Epoch 133/150\n",
      "514/514 [==============================] - 0s 108us/step - loss: 0.5212 - accuracy: 0.7043 - val_loss: 0.5551 - val_accuracy: 0.7165\n",
      "Epoch 134/150\n",
      "514/514 [==============================] - 0s 100us/step - loss: 0.5259 - accuracy: 0.7043 - val_loss: 0.5662 - val_accuracy: 0.7008\n",
      "Epoch 135/150\n",
      "514/514 [==============================] - 0s 103us/step - loss: 0.5165 - accuracy: 0.7121 - val_loss: 0.5543 - val_accuracy: 0.7283\n",
      "Epoch 136/150\n",
      "514/514 [==============================] - 0s 101us/step - loss: 0.5278 - accuracy: 0.6984 - val_loss: 0.5802 - val_accuracy: 0.7126\n",
      "Epoch 137/150\n",
      "514/514 [==============================] - 0s 112us/step - loss: 0.5222 - accuracy: 0.7101 - val_loss: 0.5608 - val_accuracy: 0.7126\n",
      "Epoch 138/150\n",
      "514/514 [==============================] - 0s 102us/step - loss: 0.5189 - accuracy: 0.6926 - val_loss: 0.5588 - val_accuracy: 0.7126\n",
      "Epoch 139/150\n",
      "514/514 [==============================] - 0s 101us/step - loss: 0.5211 - accuracy: 0.6984 - val_loss: 0.5554 - val_accuracy: 0.7087\n",
      "Epoch 140/150\n",
      "514/514 [==============================] - 0s 103us/step - loss: 0.5170 - accuracy: 0.6984 - val_loss: 0.5600 - val_accuracy: 0.7126\n",
      "Epoch 141/150\n",
      "514/514 [==============================] - 0s 101us/step - loss: 0.5204 - accuracy: 0.6907 - val_loss: 0.5562 - val_accuracy: 0.7008\n",
      "Epoch 142/150\n",
      "514/514 [==============================] - 0s 101us/step - loss: 0.5372 - accuracy: 0.6907 - val_loss: 0.5565 - val_accuracy: 0.7126\n",
      "Epoch 143/150\n",
      "514/514 [==============================] - 0s 96us/step - loss: 0.5248 - accuracy: 0.6907 - val_loss: 0.5587 - val_accuracy: 0.7087\n",
      "Epoch 144/150\n",
      "514/514 [==============================] - 0s 106us/step - loss: 0.5365 - accuracy: 0.7140 - val_loss: 0.5471 - val_accuracy: 0.7205\n",
      "Epoch 145/150\n",
      "514/514 [==============================] - 0s 105us/step - loss: 0.5228 - accuracy: 0.7004 - val_loss: 0.5527 - val_accuracy: 0.7087\n",
      "Epoch 146/150\n",
      "514/514 [==============================] - 0s 104us/step - loss: 0.5239 - accuracy: 0.6946 - val_loss: 0.5548 - val_accuracy: 0.7047\n",
      "Epoch 147/150\n",
      "514/514 [==============================] - 0s 106us/step - loss: 0.5206 - accuracy: 0.7004 - val_loss: 0.5540 - val_accuracy: 0.7047\n",
      "Epoch 148/150\n",
      "514/514 [==============================] - 0s 103us/step - loss: 0.5176 - accuracy: 0.6926 - val_loss: 0.5572 - val_accuracy: 0.7126\n",
      "Epoch 149/150\n",
      "514/514 [==============================] - 0s 101us/step - loss: 0.5122 - accuracy: 0.7082 - val_loss: 0.5839 - val_accuracy: 0.6890\n",
      "Epoch 150/150\n",
      "514/514 [==============================] - 0s 103us/step - loss: 0.5196 - accuracy: 0.7198 - val_loss: 0.5528 - val_accuracy: 0.7047\n",
      "768/768 [==============================] - 0s 13us/step\n",
      "\n",
      "accuracy:70.70%\n"
     ]
    }
   ],
   "source": [
    "from keras.models import Sequential #models 서브패키지\n",
    "from keras.layers import Dense #layers 모델구성\n",
    "from sklearn.datasets import make_regression\n",
    "import numpy \n",
    "numpy.random.seed(7)\n",
    "dataset=numpy.loadtxt('pima.data',delimiter=',')\n",
    "X=dataset[:,0:8] #8개의 독립변수\n",
    "Y=dataset[:,8] #종속변수 8번째 독립변수의 종속변수를 모름(768이긴하지만) \n",
    "print(X.shape)\n",
    "print(Y.shape)\n",
    "\n",
    "model=Sequential()\n",
    "#? x 8 8x12=>?x12\n",
    "model.add(Dense(12,input_dim=8, kernel_initializer='uniform', activation='relu'))\n",
    "#?x12 12x8 =>?x8                                #초기화:균등분포\n",
    "model.add(Dense(8, activation='relu'))\n",
    "#?x8 8x1->?X1\n",
    "model.add(Dense(1,activation='sigmoid')) #분류 0.5 기준으로 크면 1 작으면 0\n",
    "model.compile(loss='binary_crossentropy',optimizer='adam',metrics=['accuracy']) \n",
    "\n",
    "\n",
    "#model.fit(X,Y,epochs=150,batch_size=10)\n",
    "#데이터 분리 입력 (train, test):과적합\n",
    "#train, validation ,test\n",
    "history=model.fit(X,Y,validation_split=0.33, epochs=150,batch_size=10)\n",
    "scores=model.evaluate(X,Y) #accuracy 를 출력해줌\n",
    "\n",
    "\n",
    "#1번 loss ,2번째 accuracy (metrics=['accuracy'])??\n",
    "print('\\n%s:%.2f%%' % (model.metrics_names[1],scores[1]*100))\n",
    "\n",
    "          "
   ]
  },
  {
   "cell_type": "code",
   "execution_count": null,
   "metadata": {},
   "outputs": [],
   "source": []
  },
  {
   "cell_type": "code",
   "execution_count": 6,
   "metadata": {},
   "outputs": [
    {
     "name": "stdout",
     "output_type": "stream",
     "text": [
      "dict_keys(['val_loss', 'val_accuracy', 'loss', 'accuracy'])\n"
     ]
    },
    {
     "data": {
      "image/png": "[encoded data removed]",
      "text/plain": [
       "<Figure size 432x288 with 1 Axes>"
      ]
     },
     "metadata": {
      "needs_background": "light"
     },
     "output_type": "display_data"
    }
   ],
   "source": [
    "import matplotlib.pyplot as plt\n",
    "%matplotlib inline\n",
    "\n",
    "print(history.history.keys())\n",
    "\n",
    "#val_loss,val_accuracy,loss,accuracy :4개 나옴\n",
    "\n",
    "plt.plot(history.history['accuracy'])\n",
    "plt.plot(history.history['val_accuracy'])\n",
    "plt.title('accuracy')\n",
    "plt.ylabel('accuracy')\n",
    "plt.xlabel('epoch')\n",
    "plt.legend(['trian','test'],loc='upper left')\n",
    "\n",
    "plt.show()"
   ]
  },
  {
   "cell_type": "code",
   "execution_count": 7,
   "metadata": {},
   "outputs": [
    {
     "data": {
      "image/png": "[encoded data removed]",
      "text/plain": [
       "<Figure size 432x288 with 1 Axes>"
      ]
     },
     "metadata": {
      "needs_background": "light"
     },
     "output_type": "display_data"
    }
   ],
   "source": [
    "plt.plot(history.history['loss'])\n",
    "plt.plot(history.history['val_loss'])\n",
    "plt.title('loss')\n",
    "plt.ylabel('loss')\n",
    "plt.xlabel('epoch')\n",
    "plt.legend(['trian','test'],loc='upper left')\n",
    "plt.show()"
   ]
  },
  {
   "cell_type": "code",
   "execution_count": 8,
   "metadata": {},
   "outputs": [],
   "source": [
    "########여기서부터 "
   ]
  },
  {
   "cell_type": "code",
   "execution_count": 9,
   "metadata": {},
   "outputs": [
    {
     "name": "stdout",
     "output_type": "stream",
     "text": [
      "(1000, 2)\n",
      "(1000,)\n"
     ]
    }
   ],
   "source": [
    "from sklearn.preprocessing import scale\n",
    "from sklearn.datasets import make_moons\n",
    "from sklearn.model_selection import train_test_split\n",
    "\n",
    "X,Y=make_moons(noise=0.2, random_state=0, n_samples=1000)\n",
    "X=scale(X)\n",
    "X_train,X_test,Y_train,Y_test=train_test_split(X,Y,test_size=.5)\n",
    "print(X.shape)\n",
    "print(Y.shape)"
   ]
  },
  {
   "cell_type": "code",
   "execution_count": 10,
   "metadata": {},
   "outputs": [
    {
     "data": {
      "text/plain": [
       "[Text(0, 0.5, 'Y'),\n",
       " Text(0.5, 0, 'X'),\n",
       " Text(0.5, 1.0, 'history classification')]"
      ]
     },
     "execution_count": 10,
     "metadata": {},
     "output_type": "execute_result"
    },
    {
     "data": {
      "image/png": "[encoded data removed]",
      "text/plain": [
       "<Figure size 432x288 with 1 Axes>"
      ]
     },
     "metadata": {
      "needs_background": "light"
     },
     "output_type": "display_data"
    }
   ],
   "source": [
    "fig,ax=plt.subplots()\n",
    "ax.scatter(X[Y==0,0],X[Y==0,1],label='Class 0')\n",
    "ax.scatter(X[Y==1,0],X[Y==1,1],color='r',label='Class 1')\n",
    "ax.legend()\n",
    "ax.set(xlabel='X',ylabel='Y',title='history classification')"
   ]
  },
  {
   "cell_type": "code",
   "execution_count": 11,
   "metadata": {},
   "outputs": [
    {
     "data": {
      "text/plain": [
       "(500, 2)"
      ]
     },
     "execution_count": 11,
     "metadata": {},
     "output_type": "execute_result"
    }
   ],
   "source": [
    "X_train.shape"
   ]
  },
  {
   "cell_type": "code",
   "execution_count": 12,
   "metadata": {},
   "outputs": [
    {
     "name": "stdout",
     "output_type": "stream",
     "text": [
      "WARNING:tensorflow:From C:\\Users\\ICT01_15\\Anaconda3\\lib\\site-packages\\keras\\callbacks\\tensorboard_v1.py:146: The name tf.summary.histogram is deprecated. Please use tf.compat.v1.summary.histogram instead.\n",
      "\n",
      "WARNING:tensorflow:From C:\\Users\\ICT01_15\\Anaconda3\\lib\\site-packages\\keras\\callbacks\\tensorboard_v1.py:200: The name tf.summary.merge_all is deprecated. Please use tf.compat.v1.summary.merge_all instead.\n",
      "\n",
      "WARNING:tensorflow:From C:\\Users\\ICT01_15\\Anaconda3\\lib\\site-packages\\keras\\callbacks\\tensorboard_v1.py:203: The name tf.summary.FileWriter is deprecated. Please use tf.compat.v1.summary.FileWriter instead.\n",
      "\n"
     ]
    }
   ],
   "source": [
    "import keras\n",
    "# 비선형일 때 신경망을 사용한다.\n",
    "model = Sequential()\n",
    "# 입력데이터 1000x2 2x32 => 1000x32 (차원확대 2->32 => 설명이 잘된다) \n",
    "#param 96인 이유 2x32=64 +(가중치)32=96 !!!!!!\n",
    "model.add(Dense(32, input_dim=2, activation=\"relu\"))\n",
    "# 1000x32 32x1 => 1000x1(분류)\n",
    "model.add(Dense(1, activation=\"sigmoid\"))\n",
    "model.compile(optimizer=\"AdaDelta\", loss=\"binary_crossentropy\", metrics=[\"accuracy\"])\n",
    "\n",
    "# callback함수 : winodows에서 event후에 자동으로 호출되어지는 함수\n",
    "# graph image 출력\n",
    "tb_callback = keras.callbacks.TensorBoard(log_dir=\"./Graph/model_1/\",\n",
    "                                          histogram_freq=100,\n",
    "                                          write_graph=True,\n",
    "                                          write_images=False)\n",
    "tb_callback.set_model(model) # callback함수를 model에 등록"
   ]
  },
  {
   "cell_type": "code",
   "execution_count": null,
   "metadata": {},
   "outputs": [],
   "source": []
  },
  {
   "cell_type": "code",
   "execution_count": 13,
   "metadata": {
    "scrolled": false
   },
   "outputs": [
    {
     "name": "stdout",
     "output_type": "stream",
     "text": [
      "WARNING:tensorflow:From C:\\Users\\ICT01_15\\Anaconda3\\lib\\site-packages\\keras\\callbacks\\tensorboard_v1.py:343: The name tf.Summary is deprecated. Please use tf.compat.v1.Summary instead.\n",
      "\n"
     ]
    }
   ],
   "source": [
    "hist = model.fit(X_train, Y_train, batch_size=32, epochs=200, verbose=0, validation_data=(X_test, Y_test), callbacks=[tb_callback])\n"
   ]
  },
  {
   "cell_type": "code",
   "execution_count": 14,
   "metadata": {},
   "outputs": [
    {
     "name": "stdout",
     "output_type": "stream",
     "text": [
      "test loss: 0.12789358568191528\n",
      "test accuracy: 0.949999988079071\n"
     ]
    }
   ],
   "source": [
    "score=model.evaluate(X_test,Y_test,verbose=0)\n",
    "print('test loss:',score[0])\n",
    "print('test accuracy:',score[1])"
   ]
  },
  {
   "cell_type": "code",
   "execution_count": 15,
   "metadata": {},
   "outputs": [
    {
     "name": "stdout",
     "output_type": "stream",
     "text": [
      "Model: \"sequential_2\"\n",
      "_________________________________________________________________\n",
      "Layer (type)                 Output Shape              Param #   \n",
      "=================================================================\n",
      "dense_4 (Dense)              (None, 32)                96        \n",
      "_________________________________________________________________\n",
      "dense_5 (Dense)              (None, 1)                 33        \n",
      "=================================================================\n",
      "Total params: 129\n",
      "Trainable params: 129\n",
      "Non-trainable params: 0\n",
      "_________________________________________________________________\n"
     ]
    }
   ],
   "source": [
    "keras.utils.print_summary(model)"
   ]
  },
  {
   "cell_type": "code",
   "execution_count": 17,
   "metadata": {},
   "outputs": [
    {
     "data": {
      "text/plain": [
       "<pydot.Dot at 0x23cff7e58c8>"
      ]
     },
     "execution_count": 17,
     "metadata": {},
     "output_type": "execute_result"
    }
   ],
   "source": [
    "#conda install graphviz\n",
    "#conda install pydot\n",
    "#import pydot\n",
    "from keras.utils.vis_utils import model_to_dot\n",
    "model_to_dot(model)"
   ]
  },
  {
   "cell_type": "code",
   "execution_count": 21,
   "metadata": {},
   "outputs": [
    {
     "data": {
      "image/png": "[encoded data removed]",
      "text/plain": [
       "<IPython.core.display.Image object>"
      ]
     },
     "execution_count": 21,
     "metadata": {},
     "output_type": "execute_result"
    }
   ],
   "source": [
    "from keras.utils import plot_model\n",
    "plot_model(model)"
   ]
  },
  {
   "cell_type": "code",
   "execution_count": 22,
   "metadata": {},
   "outputs": [
    {
     "data": {
      "image/svg+xml": [
       "<svg height=\"255pt\" viewBox=\"0.00 0.00 174.00 191.00\" width=\"232pt\" xmlns=\"http://www.w3.org/2000/svg\" xmlns:xlink=\"http://www.w3.org/1999/xlink\">\n",
       "<g class=\"graph\" id=\"graph0\" transform=\"scale(1.33333 1.33333) rotate(0) translate(4 187)\">\n",
       "<title>G</title>\n",
       "<polygon fill=\"white\" points=\"-4,4 -4,-187 170,-187 170,4 -4,4\" stroke=\"none\"/>\n",
       "<!-- 2461007813128 -->\n",
       "<g class=\"node\" id=\"node1\"><title>2461007813128</title>\n",
       "<polygon fill=\"none\" points=\"0,-146.5 0,-182.5 166,-182.5 166,-146.5 0,-146.5\" stroke=\"black\"/>\n",
       "<text font-family=\"Times New Roman,serif\" font-size=\"14.00\" text-anchor=\"middle\" x=\"83\" y=\"-160.8\">dense_4_input: InputLayer</text>\n",
       "</g>\n",
       "<!-- 2461007810824 -->\n",
       "<g class=\"node\" id=\"node2\"><title>2461007810824</title>\n",
       "<polygon fill=\"none\" points=\"31,-73.5 31,-109.5 135,-109.5 135,-73.5 31,-73.5\" stroke=\"black\"/>\n",
       "<text font-family=\"Times New Roman,serif\" font-size=\"14.00\" text-anchor=\"middle\" x=\"83\" y=\"-87.8\">dense_4: Dense</text>\n",
       "</g>\n",
       "<!-- 2461007813128&#45;&gt;2461007810824 -->\n",
       "<g class=\"edge\" id=\"edge1\"><title>2461007813128-&gt;2461007810824</title>\n",
       "<path d=\"M83,-146.313C83,-138.289 83,-128.547 83,-119.569\" fill=\"none\" stroke=\"black\"/>\n",
       "<polygon fill=\"black\" points=\"86.5001,-119.529 83,-109.529 79.5001,-119.529 86.5001,-119.529\" stroke=\"black\"/>\n",
       "</g>\n",
       "<!-- 2461007810888 -->\n",
       "<g class=\"node\" id=\"node3\"><title>2461007810888</title>\n",
       "<polygon fill=\"none\" points=\"31,-0.5 31,-36.5 135,-36.5 135,-0.5 31,-0.5\" stroke=\"black\"/>\n",
       "<text font-family=\"Times New Roman,serif\" font-size=\"14.00\" text-anchor=\"middle\" x=\"83\" y=\"-14.8\">dense_5: Dense</text>\n",
       "</g>\n",
       "<!-- 2461007810824&#45;&gt;2461007810888 -->\n",
       "<g class=\"edge\" id=\"edge2\"><title>2461007810824-&gt;2461007810888</title>\n",
       "<path d=\"M83,-73.3129C83,-65.2895 83,-55.5475 83,-46.5691\" fill=\"none\" stroke=\"black\"/>\n",
       "<polygon fill=\"black\" points=\"86.5001,-46.5288 83,-36.5288 79.5001,-46.5289 86.5001,-46.5288\" stroke=\"black\"/>\n",
       "</g>\n",
       "</g>\n",
       "</svg>"
      ],
      "text/plain": [
       "<IPython.core.display.SVG object>"
      ]
     },
     "execution_count": 22,
     "metadata": {},
     "output_type": "execute_result"
    }
   ],
   "source": [
    "from IPython.display import Image, SVG\n",
    "SVG(model_to_dot(model).create(prog='dot',format='svg'))"
   ]
  },
  {
   "cell_type": "code",
   "execution_count": 20,
   "metadata": {},
   "outputs": [
    {
     "name": "stdout",
     "output_type": "stream",
     "text": [
      "Model: \"sequential_2\"\n",
      "_________________________________________________________________\n",
      "Layer (type)                 Output Shape              Param #   \n",
      "=================================================================\n",
      "dense_4 (Dense)              (None, 32)                96        \n",
      "_________________________________________________________________\n",
      "dense_5 (Dense)              (None, 1)                 33        \n",
      "=================================================================\n",
      "Total params: 129\n",
      "Trainable params: 129\n",
      "Non-trainable params: 0\n",
      "_________________________________________________________________\n"
     ]
    }
   ],
   "source": [
    "model.summary()"
   ]
  },
  {
   "cell_type": "code",
   "execution_count": null,
   "metadata": {},
   "outputs": [],
   "source": []
  },
  {
   "cell_type": "code",
   "execution_count": 34,
   "metadata": {},
   "outputs": [
    {
     "name": "stdout",
     "output_type": "stream",
     "text": [
      "(60000, 28, 28) uint8\n",
      "(60000,) uint8\n",
      "(10000, 28, 28) uint8\n",
      "(10000,) uint8\n"
     ]
    }
   ],
   "source": [
    "from keras.datasets import mnist\n",
    "import matplotlib.pylab as plt\n",
    "(X_train0,y_train0),(X_test0,y_test0)=mnist.load_data()\n",
    "print(X_train0.shape, X_train0.dtype) #60000, 28x28  원본이미지 보통 인터넷에서 다운받으면 640 x 640\n",
    "print(y_train0.shape, y_train0.dtype) #60000\n",
    "print(X_test0.shape, X_test0.dtype) #10000 28x28\n",
    "print(y_test0.shape, y_test0.dtype) #10000 28x28"
   ]
  },
  {
   "cell_type": "code",
   "execution_count": 35,
   "metadata": {},
   "outputs": [
    {
     "data": {
      "image/png": "[encoded data removed]",
      "text/plain": [
       "<Figure size 432x288 with 1 Axes>"
      ]
     },
     "metadata": {
      "needs_background": "light"
     },
     "output_type": "display_data"
    }
   ],
   "source": [
    "plt.imshow(X_train0[0])\n",
    "plt.grid(False)\n",
    "plt.show()\n"
   ]
  },
  {
   "cell_type": "code",
   "execution_count": 36,
   "metadata": {},
   "outputs": [
    {
     "name": "stdout",
     "output_type": "stream",
     "text": [
      "(60000, 784) float32\n"
     ]
    }
   ],
   "source": [
    "#fully-connected:flatten :ffnn 은 \n",
    "#이미지 정규화 :0~255 컬러값 /255  => 0~1\n",
    "X_train=X_train0.reshape(60000,784).astype('float32')/255.0  \n",
    "X_test=X_test0.reshape(10000,784).astype('float32')/255.0\n",
    "print(X_train.shape, X_train.dtype) \n"
   ]
  },
  {
   "cell_type": "code",
   "execution_count": 37,
   "metadata": {},
   "outputs": [
    {
     "data": {
      "text/plain": [
       "array([5, 0, 4, 1, 9], dtype=uint8)"
      ]
     },
     "execution_count": 37,
     "metadata": {},
     "output_type": "execute_result"
    }
   ],
   "source": [
    "y_train0[:5] #one hot encoding 여부 \n",
    "#:multi label일 경우 sotfmax사용 (경우의 수에 대한 확률값) -3개 이상인 경우 사용!! 2개일때는 (binary.....)\n",
    "#5, 0, 4, 1, 9 :원핫인코딩이 안되어 있음"
   ]
  },
  {
   "cell_type": "code",
   "execution_count": 38,
   "metadata": {},
   "outputs": [
    {
     "data": {
      "text/plain": [
       "array([[0., 0., 0., 0., 0., 1., 0., 0., 0., 0.],\n",
       "       [1., 0., 0., 0., 0., 0., 0., 0., 0., 0.],\n",
       "       [0., 0., 0., 0., 1., 0., 0., 0., 0., 0.],\n",
       "       [0., 1., 0., 0., 0., 0., 0., 0., 0., 0.],\n",
       "       [0., 0., 0., 0., 0., 0., 0., 0., 0., 1.]], dtype=float32)"
      ]
     },
     "execution_count": 38,
     "metadata": {},
     "output_type": "execute_result"
    }
   ],
   "source": [
    "from keras.utils import np_utils\n",
    "Y_train=np_utils.to_categorical(y_train0,10)\n",
    "Y_test=np_utils.to_categorical(y_test0,10)\n",
    "Y_train[:5]"
   ]
  },
  {
   "cell_type": "code",
   "execution_count": 39,
   "metadata": {},
   "outputs": [],
   "source": [
    "import numpy as np\n",
    "from keras.optimizers import SGD\n",
    "\n",
    "np.random.seed(0)\n",
    "model=Sequential()\n",
    "\n",
    "#60000x784 ,784 x 15 =>60000x15\n",
    "model.add(Dense(512,input_dim=784,activation='sigmoid'))\n",
    "model.add(Dense(15))\n",
    "#60000x15 15x10 =>60000x 10\n",
    "model.add(Dense(10,activation='sigmoid')) #확률값으로 출력\n",
    "#lr:learning rate\n",
    "#stochastic gradient descent\n",
    "model.compile(optimizer=SGD(lr=0.2),loss='mean_squared_error',metrics=['accuracy'])"
   ]
  },
  {
   "cell_type": "code",
   "execution_count": 40,
   "metadata": {},
   "outputs": [
    {
     "data": {
      "text/plain": [
       "[<keras.layers.core.Dense at 0x242b4047f88>,\n",
       " <keras.layers.core.Dense at 0x242b4047488>,\n",
       " <keras.layers.core.Dense at 0x242bb086fc8>]"
      ]
     },
     "execution_count": 40,
     "metadata": {},
     "output_type": "execute_result"
    }
   ],
   "source": [
    "model.layers"
   ]
  },
  {
   "cell_type": "code",
   "execution_count": 41,
   "metadata": {},
   "outputs": [
    {
     "data": {
      "text/plain": [
       "<function keras.activations.sigmoid(x)>"
      ]
     },
     "execution_count": 41,
     "metadata": {},
     "output_type": "execute_result"
    }
   ],
   "source": [
    "l1=model.layers[0]\n",
    "l2=model.layers[1]\n",
    "#레이어 속성으로 정보 확인\n",
    "l1.name\n",
    "l1.input_shape\n",
    "l1.output_shape\n",
    "l1.activation"
   ]
  },
  {
   "cell_type": "code",
   "execution_count": 42,
   "metadata": {},
   "outputs": [],
   "source": [
    "#callbacks class \n",
    "#Custom callbacks 함수의 제작\n",
    "#함수에 의해서 호출되는 객체\n",
    "import keras\n",
    "class CustomHistory(keras.callbacks.Callback): #상속\n",
    "    def init(self):\n",
    "        self.train_loss=[]\n",
    "        self.val_loss=[]\n",
    "        self.train_acc=[]\n",
    "        self.val_acc=[]\n",
    "    def on_epoch_end(self,batch,logs={}): #오버라이딩\n",
    "        self.train_loss.append(logs.get('loss'))\n",
    "        self.val_loss.append(logs.get('val_loss'))\n",
    "        self.train_acc.append(logs.get('accuracy'))\n",
    "        self.val_loss.append(logs.get('val_loss'))"
   ]
  },
  {
   "cell_type": "code",
   "execution_count": 43,
   "metadata": {},
   "outputs": [
    {
     "name": "stderr",
     "output_type": "stream",
     "text": [
      "C:\\Users\\ICT01_15\\Anaconda3\\lib\\site-packages\\ipykernel_launcher.py:4: UserWarning: The `nb_epoch` argument in `fit` has been renamed `epochs`.\n",
      "  after removing the cwd from sys.path.\n"
     ]
    },
    {
     "name": "stdout",
     "output_type": "stream",
     "text": [
      "Train on 60000 samples, validate on 10000 samples\n",
      "Epoch 1/30\n",
      " - 1s - loss: 0.1022 - accuracy: 0.1207 - val_loss: 0.0894 - val_accuracy: 0.1868\n",
      "Epoch 2/30\n",
      " - 1s - loss: 0.0889 - accuracy: 0.2013 - val_loss: 0.0884 - val_accuracy: 0.2180\n",
      "Epoch 3/30\n",
      " - 1s - loss: 0.0880 - accuracy: 0.2581 - val_loss: 0.0874 - val_accuracy: 0.3206\n",
      "Epoch 4/30\n",
      " - 1s - loss: 0.0870 - accuracy: 0.3395 - val_loss: 0.0863 - val_accuracy: 0.3785\n",
      "Epoch 5/30\n",
      " - 1s - loss: 0.0858 - accuracy: 0.3882 - val_loss: 0.0850 - val_accuracy: 0.4014\n",
      "Epoch 6/30\n",
      " - 1s - loss: 0.0845 - accuracy: 0.4065 - val_loss: 0.0836 - val_accuracy: 0.4366\n",
      "Epoch 7/30\n",
      " - 1s - loss: 0.0831 - accuracy: 0.4326 - val_loss: 0.0821 - val_accuracy: 0.4714\n",
      "Epoch 8/30\n",
      " - 1s - loss: 0.0815 - accuracy: 0.4549 - val_loss: 0.0804 - val_accuracy: 0.4979\n",
      "Epoch 9/30\n",
      " - 1s - loss: 0.0798 - accuracy: 0.4837 - val_loss: 0.0786 - val_accuracy: 0.5107\n",
      "Epoch 10/30\n",
      " - 1s - loss: 0.0779 - accuracy: 0.5049 - val_loss: 0.0767 - val_accuracy: 0.5277\n",
      "Epoch 11/30\n",
      " - 1s - loss: 0.0761 - accuracy: 0.5272 - val_loss: 0.0748 - val_accuracy: 0.5522\n",
      "Epoch 12/30\n",
      " - 1s - loss: 0.0742 - accuracy: 0.5507 - val_loss: 0.0728 - val_accuracy: 0.5690\n",
      "Epoch 13/30\n",
      " - 1s - loss: 0.0723 - accuracy: 0.5683 - val_loss: 0.0709 - val_accuracy: 0.5970\n",
      "Epoch 14/30\n",
      " - 1s - loss: 0.0704 - accuracy: 0.5896 - val_loss: 0.0690 - val_accuracy: 0.6139\n",
      "Epoch 15/30\n",
      " - 1s - loss: 0.0686 - accuracy: 0.6080 - val_loss: 0.0671 - val_accuracy: 0.6305\n",
      "Epoch 16/30\n",
      " - 1s - loss: 0.0667 - accuracy: 0.6255 - val_loss: 0.0652 - val_accuracy: 0.6455\n",
      "Epoch 17/30\n",
      " - 1s - loss: 0.0649 - accuracy: 0.6414 - val_loss: 0.0634 - val_accuracy: 0.6670\n",
      "Epoch 18/30\n",
      " - 1s - loss: 0.0631 - accuracy: 0.6618 - val_loss: 0.0616 - val_accuracy: 0.6936\n",
      "Epoch 19/30\n",
      " - 1s - loss: 0.0614 - accuracy: 0.6799 - val_loss: 0.0598 - val_accuracy: 0.7021\n",
      "Epoch 20/30\n",
      " - 1s - loss: 0.0597 - accuracy: 0.6964 - val_loss: 0.0581 - val_accuracy: 0.7216\n",
      "Epoch 21/30\n",
      " - 1s - loss: 0.0580 - accuracy: 0.7119 - val_loss: 0.0564 - val_accuracy: 0.7321\n",
      "Epoch 22/30\n",
      " - 1s - loss: 0.0563 - accuracy: 0.7238 - val_loss: 0.0547 - val_accuracy: 0.7437\n",
      "Epoch 23/30\n",
      " - 1s - loss: 0.0547 - accuracy: 0.7356 - val_loss: 0.0530 - val_accuracy: 0.7528\n",
      "Epoch 24/30\n",
      " - 1s - loss: 0.0531 - accuracy: 0.7449 - val_loss: 0.0515 - val_accuracy: 0.7645\n",
      "Epoch 25/30\n",
      " - 1s - loss: 0.0516 - accuracy: 0.7534 - val_loss: 0.0499 - val_accuracy: 0.7737\n",
      "Epoch 26/30\n",
      " - 1s - loss: 0.0501 - accuracy: 0.7609 - val_loss: 0.0484 - val_accuracy: 0.7817\n",
      "Epoch 27/30\n",
      " - 1s - loss: 0.0486 - accuracy: 0.7671 - val_loss: 0.0470 - val_accuracy: 0.7883\n",
      "Epoch 28/30\n",
      " - 1s - loss: 0.0473 - accuracy: 0.7739 - val_loss: 0.0457 - val_accuracy: 0.7960\n",
      "Epoch 29/30\n",
      " - 1s - loss: 0.0460 - accuracy: 0.7800 - val_loss: 0.0444 - val_accuracy: 0.7997\n",
      "Epoch 30/30\n",
      " - 1s - loss: 0.0448 - accuracy: 0.7851 - val_loss: 0.0433 - val_accuracy: 0.8026\n"
     ]
    }
   ],
   "source": [
    "#callback function 사용\n",
    "custom_hist=CustomHistory()\n",
    "custom_hist.init()\n",
    "hist=model.fit(X_train,Y_train,nb_epoch=30,batch_size=1000,validation_data=(X_test,Y_test),verbose=2,callbacks=[custom_hist])\n"
   ]
  },
  {
   "cell_type": "code",
   "execution_count": 32,
   "metadata": {},
   "outputs": [
    {
     "data": {
      "image/png": "[encoded data removed]",
      "text/plain": [
       "<Figure size 432x288 with 1 Axes>"
      ]
     },
     "metadata": {
      "needs_background": "light"
     },
     "output_type": "display_data"
    },
    {
     "data": {
      "text/plain": [
       "{'val_loss': [0.08938412368297577,\n",
       "  0.0883925773203373,\n",
       "  0.08740723133087158,\n",
       "  0.08630768582224846,\n",
       "  0.08504326641559601,\n",
       "  0.08363822847604752,\n",
       "  0.08207345530390739,\n",
       "  0.08037374168634415,\n",
       "  0.07855112999677658,\n",
       "  0.0766752801835537,\n",
       "  0.07475815713405609,\n",
       "  0.07283084094524384,\n",
       "  0.070909383893013,\n",
       "  0.06899746805429459,\n",
       "  0.06709608696401119,\n",
       "  0.06520821079611779,\n",
       "  0.06337240971624851,\n",
       "  0.061587801203131676,\n",
       "  0.0597979623824358,\n",
       "  0.058061642199754716,\n",
       "  0.056354080140590665,\n",
       "  0.054682868719100955,\n",
       "  0.05303945504128933,\n",
       "  0.05147535242140293,\n",
       "  0.049891619384288786,\n",
       "  0.04839757010340691,\n",
       "  0.04698770046234131,\n",
       "  0.045660673081874846,\n",
       "  0.04440286532044411,\n",
       "  0.04326608330011368],\n",
       " 'val_accuracy': [0.1868000030517578,\n",
       "  0.21799999475479126,\n",
       "  0.3206000030040741,\n",
       "  0.3785000145435333,\n",
       "  0.40139999985694885,\n",
       "  0.436599999666214,\n",
       "  0.4713999927043915,\n",
       "  0.49790000915527344,\n",
       "  0.510699987411499,\n",
       "  0.5277000069618225,\n",
       "  0.5522000193595886,\n",
       "  0.5690000057220459,\n",
       "  0.597000002861023,\n",
       "  0.6139000058174133,\n",
       "  0.6305000185966492,\n",
       "  0.6455000042915344,\n",
       "  0.6669999957084656,\n",
       "  0.6935999989509583,\n",
       "  0.7020999789237976,\n",
       "  0.7215999960899353,\n",
       "  0.7321000099182129,\n",
       "  0.7437000274658203,\n",
       "  0.7527999877929688,\n",
       "  0.7645000219345093,\n",
       "  0.7736999988555908,\n",
       "  0.7817000150680542,\n",
       "  0.7882999777793884,\n",
       "  0.7960000038146973,\n",
       "  0.7997000217437744,\n",
       "  0.8026000261306763],\n",
       " 'loss': [0.10220795186857383,\n",
       "  0.08894110048810641,\n",
       "  0.08800135143101215,\n",
       "  0.08698499749104181,\n",
       "  0.08583587209383646,\n",
       "  0.08453844698766867,\n",
       "  0.0830793106307586,\n",
       "  0.08147473993400732,\n",
       "  0.0797512059410413,\n",
       "  0.0779414805273215,\n",
       "  0.07608637002607187,\n",
       "  0.07420515231788158,\n",
       "  0.07231457295517127,\n",
       "  0.07043354039390883,\n",
       "  0.06856446129580339,\n",
       "  0.06671972572803497,\n",
       "  0.06490262721975644,\n",
       "  0.06311949075510105,\n",
       "  0.06137049322326978,\n",
       "  0.05965270356585582,\n",
       "  0.057965869766970476,\n",
       "  0.0563128008817633,\n",
       "  0.054686967345575495,\n",
       "  0.05309974979609251,\n",
       "  0.05155613838384549,\n",
       "  0.050064259705444175,\n",
       "  0.04864128765960534,\n",
       "  0.04728855521728595,\n",
       "  0.046020419150590894,\n",
       "  0.04483614719162385],\n",
       " 'accuracy': [0.120683335,\n",
       "  0.20128334,\n",
       "  0.25806665,\n",
       "  0.33955,\n",
       "  0.3882,\n",
       "  0.40651667,\n",
       "  0.43256667,\n",
       "  0.4549,\n",
       "  0.48371667,\n",
       "  0.50495,\n",
       "  0.52725,\n",
       "  0.5507333,\n",
       "  0.5683,\n",
       "  0.58963335,\n",
       "  0.60805,\n",
       "  0.62555,\n",
       "  0.64141667,\n",
       "  0.66181666,\n",
       "  0.6799333,\n",
       "  0.69638336,\n",
       "  0.7119167,\n",
       "  0.7238333,\n",
       "  0.7356,\n",
       "  0.7449167,\n",
       "  0.75338334,\n",
       "  0.76088333,\n",
       "  0.76715,\n",
       "  0.77388334,\n",
       "  0.77996665,\n",
       "  0.78508335]}"
      ]
     },
     "execution_count": 32,
     "metadata": {},
     "output_type": "execute_result"
    }
   ],
   "source": [
    "plt.plot(hist.history['loss'])  #영택이거랑 다름\n",
    "plt.show()\n",
    "hist.history"
   ]
  },
  {
   "cell_type": "code",
   "execution_count": 44,
   "metadata": {},
   "outputs": [
    {
     "data": {
      "image/png": "[encoded data removed]",
      "text/plain": [
       "<Figure size 432x288 with 1 Axes>"
      ]
     },
     "metadata": {
      "needs_background": "light"
     },
     "output_type": "display_data"
    },
    {
     "name": "stdout",
     "output_type": "stream",
     "text": [
      "<keras.engine.sequential.Sequential object at 0x00000242B9CBDF48>\n",
      "{'batch_size': 1000, 'epochs': 30, 'steps': None, 'samples': 60000, 'verbose': 2, 'do_validation': True, 'metrics': ['loss', 'accuracy', 'val_loss', 'val_accuracy']}\n"
     ]
    },
    {
     "ename": "KeyError",
     "evalue": "'acc'",
     "output_type": "error",
     "traceback": [
      "\u001b[1;31m---------------------------------------------------------------------------\u001b[0m",
      "\u001b[1;31mKeyError\u001b[0m                                  Traceback (most recent call last)",
      "\u001b[1;32m<ipython-input-44-5a4243f8ad6a>\u001b[0m in \u001b[0;36m<module>\u001b[1;34m\u001b[0m\n\u001b[0;32m      6\u001b[0m \u001b[0mprint\u001b[0m\u001b[1;33m(\u001b[0m\u001b[0mhist\u001b[0m\u001b[1;33m.\u001b[0m\u001b[0mmodel\u001b[0m\u001b[1;33m)\u001b[0m\u001b[1;33m\u001b[0m\u001b[1;33m\u001b[0m\u001b[0m\n\u001b[0;32m      7\u001b[0m \u001b[0mprint\u001b[0m\u001b[1;33m(\u001b[0m\u001b[0mhist\u001b[0m\u001b[1;33m.\u001b[0m\u001b[0mparams\u001b[0m\u001b[1;33m)\u001b[0m\u001b[1;33m\u001b[0m\u001b[1;33m\u001b[0m\u001b[0m\n\u001b[1;32m----> 8\u001b[1;33m \u001b[0mprint\u001b[0m\u001b[1;33m(\u001b[0m\u001b[0mhist\u001b[0m\u001b[1;33m.\u001b[0m\u001b[0mhistory\u001b[0m\u001b[1;33m[\u001b[0m\u001b[1;34m'acc'\u001b[0m\u001b[1;33m]\u001b[0m\u001b[1;33m)\u001b[0m\u001b[1;33m\u001b[0m\u001b[1;33m\u001b[0m\u001b[0m\n\u001b[0m\u001b[0;32m      9\u001b[0m \u001b[0mprint\u001b[0m\u001b[1;33m(\u001b[0m\u001b[0mhist\u001b[0m\u001b[1;33m.\u001b[0m\u001b[0mhisrory\u001b[0m\u001b[1;33m[\u001b[0m\u001b[1;34m'vall_accracy'\u001b[0m\u001b[1;33m]\u001b[0m\u001b[1;33m[\u001b[0m\u001b[1;36m29\u001b[0m\u001b[1;33m]\u001b[0m\u001b[1;33m)\u001b[0m\u001b[1;33m\u001b[0m\u001b[1;33m\u001b[0m\u001b[0m\n\u001b[0;32m     10\u001b[0m \u001b[0mplt\u001b[0m\u001b[1;33m.\u001b[0m\u001b[0mshow\u001b[0m\u001b[1;33m(\u001b[0m\u001b[1;33m)\u001b[0m\u001b[1;33m\u001b[0m\u001b[1;33m\u001b[0m\u001b[0m\n",
      "\u001b[1;31mKeyError\u001b[0m: 'acc'"
     ]
    }
   ],
   "source": [
    "plt.plot(hist.history['accuracy'],'b-',label='training')\n",
    "plt.plot(hist.history['val_accuracy'],'r-',label='test')\n",
    "plt.legend()\n",
    "plt.show()\n",
    "\n",
    "print(hist.model)\n",
    "print(hist.params)\n",
    "print(hist.history['acc'])\n",
    "print(hist.hisrory['vall_accracy'][29])\n",
    "plt.show()\n",
    "plt.plot(custom_hist.train_loss, 'y', label='train loss')\n",
    "plt.show()"
   ]
  },
  {
   "cell_type": "code",
   "execution_count": null,
   "metadata": {},
   "outputs": [],
   "source": []
  },
  {
   "cell_type": "code",
   "execution_count": null,
   "metadata": {},
   "outputs": [],
   "source": []
  },
  {
   "cell_type": "code",
   "execution_count": null,
   "metadata": {},
   "outputs": [],
   "source": []
  },
  {
   "cell_type": "code",
   "execution_count": null,
   "metadata": {},
   "outputs": [],
   "source": [
    "######문제 X_test 의 이미지 한장의 label 을 예측해보시오"
   ]
  },
  {
   "cell_type": "code",
   "execution_count": null,
   "metadata": {},
   "outputs": [],
   "source": [
    "model.predict(X_test[:1,:])"
   ]
  },
  {
   "cell_type": "code",
   "execution_count": null,
   "metadata": {},
   "outputs": [],
   "source": [
    "model.predict_classes(X_test[:1,:],verbose=0) #넘버로 바꿔줌...."
   ]
  },
  {
   "cell_type": "code",
   "execution_count": null,
   "metadata": {},
   "outputs": [],
   "source": [
    "#######문제 :출력 차수가 512인 레이어를 추가하시오 (위)"
   ]
  },
  {
   "cell_type": "code",
   "execution_count": null,
   "metadata": {},
   "outputs": [],
   "source": []
  },
  {
   "cell_type": "code",
   "execution_count": null,
   "metadata": {},
   "outputs": [],
   "source": [
    "#집값예측\n",
    "from keras.datasets import boston_housing\n",
    "(x_train, y_train),(x_test,y_test)=boston_housing.load_data()\n",
    "print(x_train.shape)\n",
    "print(y_train.shape)"
   ]
  },
  {
   "cell_type": "code",
   "execution_count": null,
   "metadata": {},
   "outputs": [],
   "source": [
    "model=Sequential()\n",
    "num_features=13\n",
    "model.add(Dense(1,input_dim=num_features,activation='linear'))"
   ]
  },
  {
   "cell_type": "code",
   "execution_count": null,
   "metadata": {},
   "outputs": [],
   "source": [
    "model.summary()\n",
    "model.compile(optimizer='rmsprop',loss='mse',metrics=['mae'])\n",
    "model.fit(x_train,y_train,batch_size=1,epochs=10,verbose=1)"
   ]
  },
  {
   "cell_type": "code",
   "execution_count": null,
   "metadata": {},
   "outputs": [],
   "source": [
    "#accuracy 였는데 바뀐이유:loss='mse',metrics=['mae']\n",
    "mse,mae=model.evaluate(x_test,y_test,verbose=False)\n",
    "rmse=np.sqrt(mse)\n",
    "mse,rmse,mae"
   ]
  },
  {
   "cell_type": "code",
   "execution_count": null,
   "metadata": {},
   "outputs": [],
   "source": [
    "#########문제 :x_test 의 앞의 3집을 예측해 보시오\n"
   ]
  },
  {
   "cell_type": "code",
   "execution_count": null,
   "metadata": {},
   "outputs": [],
   "source": [
    "pred=model.predict(X_test[:3,:])"
   ]
  },
  {
   "cell_type": "code",
   "execution_count": null,
   "metadata": {},
   "outputs": [],
   "source": [
    "real=y_test[:3]"
   ]
  },
  {
   "cell_type": "code",
   "execution_count": null,
   "metadata": {},
   "outputs": [],
   "source": [
    "#상관계수를 확인하시오"
   ]
  },
  {
   "cell_type": "code",
   "execution_count": null,
   "metadata": {},
   "outputs": [],
   "source": [
    "import numpy as np\n",
    "np.corrcoef(pred,real)"
   ]
  },
  {
   "cell_type": "code",
   "execution_count": null,
   "metadata": {},
   "outputs": [],
   "source": []
  },
  {
   "cell_type": "code",
   "execution_count": null,
   "metadata": {},
   "outputs": [],
   "source": [
    "import numpy \n",
    "from sklearn.model_selection import GridSearchCV\n",
    "from keras.mo"
   ]
  },
  {
   "cell_type": "code",
   "execution_count": null,
   "metadata": {},
   "outputs": [],
   "source": []
  }
 ],
 "metadata": {
  "kernelspec": {
   "display_name": "Python 3",
   "language": "python",
   "name": "python3"
  },
  "language_info": {
   "codemirror_mode": {
    "name": "ipython",
    "version": 3
   },
   "file_extension": ".py",
   "mimetype": "text/x-python",
   "name": "python",
   "nbconvert_exporter": "python",
   "pygments_lexer": "ipython3",
   "version": "3.7.4"
  },
  "toc": {
   "base_numbering": 1,
   "nav_menu": {},
   "number_sections": true,
   "sideBar": true,
   "skip_h1_title": false,
   "title_cell": "Table of Contents",
   "title_sidebar": "Contents",
   "toc_cell": false,
   "toc_position": {},
   "toc_section_display": true,
   "toc_window_display": false
  }
 },
 "nbformat": 4,
 "nbformat_minor": 2
}
