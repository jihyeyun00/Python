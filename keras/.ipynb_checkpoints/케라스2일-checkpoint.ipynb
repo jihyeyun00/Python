{
 "cells": [
  {
   "cell_type": "code",
   "execution_count": 2,
   "metadata": {},
   "outputs": [
    {
     "name": "stdout",
     "output_type": "stream",
     "text": [
      "[name: \"/device:CPU:0\"\n",
      "device_type: \"CPU\"\n",
      "memory_limit: 268435456\n",
      "locality {\n",
      "}\n",
      "incarnation: 3211631790584911345\n",
      ", name: \"/device:GPU:0\"\n",
      "device_type: \"GPU\"\n",
      "memory_limit: 3141979340\n",
      "locality {\n",
      "  bus_id: 1\n",
      "  links {\n",
      "  }\n",
      "}\n",
      "incarnation: 7731969936872831059\n",
      "physical_device_desc: \"device: 0, name: GeForce GTX 1050 Ti, pci bus id: 0000:01:00.0, compute capability: 6.1\"\n",
      "]\n"
     ]
    }
   ],
   "source": [
    "from tensorflow.python.client import device_lib\n",
    "print(device_lib.list_local_devices())"
   ]
  },
  {
   "cell_type": "code",
   "execution_count": 5,
   "metadata": {},
   "outputs": [],
   "source": [
    "#CNN\n"
   ]
  },
  {
   "cell_type": "code",
   "execution_count": 6,
   "metadata": {},
   "outputs": [
    {
     "name": "stderr",
     "output_type": "stream",
     "text": [
      "Using TensorFlow backend.\n"
     ]
    }
   ],
   "source": [
    "import matplotlib.pyplot as plt\n",
    "%matplotlib inline\n",
    "import keras\n",
    "from keras.datasets import mnist\n",
    "from keras.models import Sequential\n",
    "from keras.layers import Dense, Dropout, Flatten\n",
    "from keras.layers import Conv2D,MaxPooling2D\n",
    "from keras import backend as k\n",
    "\n",
    "batch_size=128\n",
    "num_classes=10\n",
    "epochs=12\n",
    "img_rows, img_clos=28, 28\n",
    "(x_train, y_train),(x_test, y_test)=mnist.load_data()"
   ]
  },
  {
   "cell_type": "code",
   "execution_count": 7,
   "metadata": {},
   "outputs": [
    {
     "data": {
      "text/plain": [
       "<matplotlib.image.AxesImage at 0x1d199a24208>"
      ]
     },
     "execution_count": 7,
     "metadata": {},
     "output_type": "execute_result"
    },
    {
     "data": {
      "image/png": "[encoded data removed]",
      "text/plain": [
       "<Figure size 432x288 with 1 Axes>"
      ]
     },
     "metadata": {
      "needs_background": "light"
     },
     "output_type": "display_data"
    }
   ],
   "source": [
    "first_image=x_train[0,:,:]\n",
    "plt.imshow(first_image, cmap=plt.cm.Greys)"
   ]
  },
  {
   "cell_type": "code",
   "execution_count": 8,
   "metadata": {},
   "outputs": [
    {
     "name": "stdout",
     "output_type": "stream",
     "text": [
      "x_train shape: (60000, 28, 28, 1)\n",
      "60000 train samples\n",
      "10000 test samples\n"
     ]
    }
   ],
   "source": [
    "##channel_first, channelllast\n",
    "#X_train=X_train.reshape(X_train.shape[0],1,28,28)\n",
    "#X_test=x_test.reshape(X_test.shape[0],1,28,28)\n",
    "\n",
    "x_train=x_train.reshape(x_train.shape[0],28,28,1)\n",
    "x_test=x_test.reshape(x_test.shape[0],28,28,1)\n",
    "x_train=x_train.astype('float32') #타입변경\n",
    "x_test=x_test.astype('float32')\n",
    "x_train /=255  #float32 로 타입변경 255로 나눠줘야 하기 때문에 \n",
    "x_test /=255\n",
    "print('x_train shape:',x_train.shape)\n",
    "print(x_train.shape[0],'train samples')\n",
    "print(x_test.shape[0],'test samples')\n",
    "y_train=keras.utils.to_categorical(y_train, num_classes)\n",
    "y_test=keras.utils.to_categorical(y_test, num_classes)"
   ]
  },
  {
   "cell_type": "code",
   "execution_count": 9,
   "metadata": {},
   "outputs": [
    {
     "name": "stdout",
     "output_type": "stream",
     "text": [
      "WARNING:tensorflow:From C:\\Users\\ICT01_23\\Anaconda3\\lib\\site-packages\\tensorflow_core\\python\\ops\\resource_variable_ops.py:1630: calling BaseResourceVariable.__init__ (from tensorflow.python.ops.resource_variable_ops) with constraint is deprecated and will be removed in a future version.\n",
      "Instructions for updating:\n",
      "If using Keras pass *_constraint arguments to layers.\n",
      "WARNING:tensorflow:From C:\\Users\\ICT01_23\\Anaconda3\\lib\\site-packages\\keras\\backend\\tensorflow_backend.py:4070: The name tf.nn.max_pool is deprecated. Please use tf.nn.max_pool2d instead.\n",
      "\n"
     ]
    }
   ],
   "source": [
    "model=Sequential()\n",
    "#      32:아웃풋 필터 개수,3*3 :필터 사이즈 \n",
    "#입력 :28 * 28 =>(128(128*1), 26(28-5+1), 26,32)  #valid,same(28,28):모서리 특징\n",
    "model.add(Conv2D(32,kernel_size=(3,3),activation='relu'  #음수가 제거 \n",
    "                 ,input_shape=(28,28,1)))\n",
    "model.add(Conv2D(64,(3,3),activation='relu'))\n",
    "#128장 24(?) * 24 *64 \n",
    "model.add(MaxPooling2D(pool_size=(2,2))) #128장,12,12,64\n",
    "model.add(Dropout(0.25))\n",
    "model.add(Flatten()) #12*12*64 =>1차원 9216\n",
    "model.add(Dense(128,activation='relu')) #9216*128\n",
    "#128 * 128\n",
    "model.add(Dropout(0.5)) #계산회로만 생략:\n",
    "model.add(Dense(10,activation='softmax')) #128*10 가중치 \n",
    "#128*10"
   ]
  },
  {
   "cell_type": "code",
   "execution_count": 10,
   "metadata": {},
   "outputs": [
    {
     "name": "stdout",
     "output_type": "stream",
     "text": [
      "WARNING:tensorflow:From C:\\Users\\ICT01_23\\Anaconda3\\lib\\site-packages\\keras\\backend\\tensorflow_backend.py:422: The name tf.global_variables is deprecated. Please use tf.compat.v1.global_variables instead.\n",
      "\n",
      "Train on 60000 samples, validate on 10000 samples\n",
      "Epoch 1/12\n",
      "60000/60000 [==============================] - 10s 167us/step - loss: 0.2702 - accuracy: 0.9172 - val_loss: 0.0589 - val_accuracy: 0.9807\n",
      "Epoch 2/12\n",
      "60000/60000 [==============================] - 8s 129us/step - loss: 0.0880 - accuracy: 0.9730 - val_loss: 0.0426 - val_accuracy: 0.9854\n",
      "Epoch 3/12\n",
      "60000/60000 [==============================] - 8s 133us/step - loss: 0.0662 - accuracy: 0.9791 - val_loss: 0.0397 - val_accuracy: 0.9862\n",
      "Epoch 4/12\n",
      "60000/60000 [==============================] - 8s 127us/step - loss: 0.0545 - accuracy: 0.9835 - val_loss: 0.0320 - val_accuracy: 0.9891\n",
      "Epoch 5/12\n",
      "60000/60000 [==============================] - 8s 126us/step - loss: 0.0465 - accuracy: 0.9856 - val_loss: 0.0275 - val_accuracy: 0.9908\n",
      "Epoch 6/12\n",
      "60000/60000 [==============================] - 8s 129us/step - loss: 0.0410 - accuracy: 0.9879 - val_loss: 0.0271 - val_accuracy: 0.9914\n",
      "Epoch 7/12\n",
      "60000/60000 [==============================] - 8s 128us/step - loss: 0.0382 - accuracy: 0.9888 - val_loss: 0.0263 - val_accuracy: 0.9919\n",
      "Epoch 8/12\n",
      "60000/60000 [==============================] - 8s 126us/step - loss: 0.0338 - accuracy: 0.9901 - val_loss: 0.0294 - val_accuracy: 0.9904\n",
      "Epoch 9/12\n",
      "60000/60000 [==============================] - 8s 126us/step - loss: 0.0322 - accuracy: 0.9900 - val_loss: 0.0251 - val_accuracy: 0.9922\n",
      "Epoch 10/12\n",
      "60000/60000 [==============================] - 8s 127us/step - loss: 0.0296 - accuracy: 0.9914 - val_loss: 0.0265 - val_accuracy: 0.9921\n",
      "Epoch 11/12\n",
      "60000/60000 [==============================] - 8s 125us/step - loss: 0.0278 - accuracy: 0.9916 - val_loss: 0.0274 - val_accuracy: 0.9911\n",
      "Epoch 12/12\n",
      "60000/60000 [==============================] - 8s 128us/step - loss: 0.0261 - accuracy: 0.9923 - val_loss: 0.0250 - val_accuracy: 0.9920\n"
     ]
    }
   ],
   "source": [
    "model.compile(loss=keras.losses.categorical_crossentropy,\n",
    "              optimizer=keras.optimizers.Adadelta(),\n",
    "              metrics=[\"accuracy\"])\n",
    "model.fit(x_train, y_train, batch_size=batch_size, epochs=epochs, verbose=1, validation_data=(x_test, y_test))\n",
    "score = model.evaluate(x_test, y_test, verbose=0)"
   ]
  },
  {
   "cell_type": "code",
   "execution_count": 56,
   "metadata": {},
   "outputs": [
    {
     "ename": "ValueError",
     "evalue": "Error when checking input: expected conv2d_3_input to have shape (32, 32, 3) but got array with shape (28, 28, 1)",
     "output_type": "error",
     "traceback": [
      "\u001b[1;31m---------------------------------------------------------------------------\u001b[0m",
      "\u001b[1;31mValueError\u001b[0m                                Traceback (most recent call last)",
      "\u001b[1;32m<ipython-input-56-03d0f2249758>\u001b[0m in \u001b[0;36m<module>\u001b[1;34m\u001b[0m\n\u001b[0;32m     28\u001b[0m \u001b[1;33m\u001b[0m\u001b[0m\n\u001b[0;32m     29\u001b[0m \u001b[1;33m\u001b[0m\u001b[0m\n\u001b[1;32m---> 30\u001b[1;33m \u001b[0mmodel\u001b[0m\u001b[1;33m.\u001b[0m\u001b[0mfit\u001b[0m\u001b[1;33m(\u001b[0m\u001b[0mx_train\u001b[0m\u001b[1;33m,\u001b[0m \u001b[0my_train\u001b[0m\u001b[1;33m,\u001b[0m \u001b[0mbatch_size\u001b[0m\u001b[1;33m=\u001b[0m\u001b[0mbatch_size\u001b[0m\u001b[1;33m,\u001b[0m\u001b[0mepochs\u001b[0m\u001b[1;33m=\u001b[0m\u001b[0mepochs\u001b[0m\u001b[1;33m,\u001b[0m \u001b[0mverbose\u001b[0m\u001b[1;33m=\u001b[0m\u001b[1;36m1\u001b[0m\u001b[1;33m,\u001b[0m \u001b[0mvalidation_data\u001b[0m\u001b[1;33m=\u001b[0m\u001b[1;33m(\u001b[0m\u001b[0mx_test\u001b[0m\u001b[1;33m,\u001b[0m\u001b[0my_test\u001b[0m\u001b[1;33m)\u001b[0m\u001b[1;33m,\u001b[0m \u001b[0mcallbacks\u001b[0m\u001b[1;33m=\u001b[0m\u001b[1;33m[\u001b[0m\u001b[0mhistory\u001b[0m\u001b[1;33m]\u001b[0m\u001b[1;33m)\u001b[0m\u001b[1;33m\u001b[0m\u001b[1;33m\u001b[0m\u001b[0m\n\u001b[0m",
      "\u001b[1;32m~\\Anaconda3\\lib\\site-packages\\keras\\engine\\training.py\u001b[0m in \u001b[0;36mfit\u001b[1;34m(self, x, y, batch_size, epochs, verbose, callbacks, validation_split, validation_data, shuffle, class_weight, sample_weight, initial_epoch, steps_per_epoch, validation_steps, validation_freq, max_queue_size, workers, use_multiprocessing, **kwargs)\u001b[0m\n\u001b[0;32m   1152\u001b[0m             \u001b[0msample_weight\u001b[0m\u001b[1;33m=\u001b[0m\u001b[0msample_weight\u001b[0m\u001b[1;33m,\u001b[0m\u001b[1;33m\u001b[0m\u001b[1;33m\u001b[0m\u001b[0m\n\u001b[0;32m   1153\u001b[0m             \u001b[0mclass_weight\u001b[0m\u001b[1;33m=\u001b[0m\u001b[0mclass_weight\u001b[0m\u001b[1;33m,\u001b[0m\u001b[1;33m\u001b[0m\u001b[1;33m\u001b[0m\u001b[0m\n\u001b[1;32m-> 1154\u001b[1;33m             batch_size=batch_size)\n\u001b[0m\u001b[0;32m   1155\u001b[0m \u001b[1;33m\u001b[0m\u001b[0m\n\u001b[0;32m   1156\u001b[0m         \u001b[1;31m# Prepare validation data.\u001b[0m\u001b[1;33m\u001b[0m\u001b[1;33m\u001b[0m\u001b[1;33m\u001b[0m\u001b[0m\n",
      "\u001b[1;32m~\\Anaconda3\\lib\\site-packages\\keras\\engine\\training.py\u001b[0m in \u001b[0;36m_standardize_user_data\u001b[1;34m(self, x, y, sample_weight, class_weight, check_array_lengths, batch_size)\u001b[0m\n\u001b[0;32m    577\u001b[0m             \u001b[0mfeed_input_shapes\u001b[0m\u001b[1;33m,\u001b[0m\u001b[1;33m\u001b[0m\u001b[1;33m\u001b[0m\u001b[0m\n\u001b[0;32m    578\u001b[0m             \u001b[0mcheck_batch_axis\u001b[0m\u001b[1;33m=\u001b[0m\u001b[1;32mFalse\u001b[0m\u001b[1;33m,\u001b[0m  \u001b[1;31m# Don't enforce the batch size.\u001b[0m\u001b[1;33m\u001b[0m\u001b[1;33m\u001b[0m\u001b[0m\n\u001b[1;32m--> 579\u001b[1;33m             exception_prefix='input')\n\u001b[0m\u001b[0;32m    580\u001b[0m \u001b[1;33m\u001b[0m\u001b[0m\n\u001b[0;32m    581\u001b[0m         \u001b[1;32mif\u001b[0m \u001b[0my\u001b[0m \u001b[1;32mis\u001b[0m \u001b[1;32mnot\u001b[0m \u001b[1;32mNone\u001b[0m\u001b[1;33m:\u001b[0m\u001b[1;33m\u001b[0m\u001b[1;33m\u001b[0m\u001b[0m\n",
      "\u001b[1;32m~\\Anaconda3\\lib\\site-packages\\keras\\engine\\training_utils.py\u001b[0m in \u001b[0;36mstandardize_input_data\u001b[1;34m(data, names, shapes, check_batch_axis, exception_prefix)\u001b[0m\n\u001b[0;32m    143\u001b[0m                             \u001b[1;34m': expected '\u001b[0m \u001b[1;33m+\u001b[0m \u001b[0mnames\u001b[0m\u001b[1;33m[\u001b[0m\u001b[0mi\u001b[0m\u001b[1;33m]\u001b[0m \u001b[1;33m+\u001b[0m \u001b[1;34m' to have shape '\u001b[0m \u001b[1;33m+\u001b[0m\u001b[1;33m\u001b[0m\u001b[1;33m\u001b[0m\u001b[0m\n\u001b[0;32m    144\u001b[0m                             \u001b[0mstr\u001b[0m\u001b[1;33m(\u001b[0m\u001b[0mshape\u001b[0m\u001b[1;33m)\u001b[0m \u001b[1;33m+\u001b[0m \u001b[1;34m' but got array with shape '\u001b[0m \u001b[1;33m+\u001b[0m\u001b[1;33m\u001b[0m\u001b[1;33m\u001b[0m\u001b[0m\n\u001b[1;32m--> 145\u001b[1;33m                             str(data_shape))\n\u001b[0m\u001b[0;32m    146\u001b[0m     \u001b[1;32mreturn\u001b[0m \u001b[0mdata\u001b[0m\u001b[1;33m\u001b[0m\u001b[1;33m\u001b[0m\u001b[0m\n\u001b[0;32m    147\u001b[0m \u001b[1;33m\u001b[0m\u001b[0m\n",
      "\u001b[1;31mValueError\u001b[0m: Error when checking input: expected conv2d_3_input to have shape (32, 32, 3) but got array with shape (28, 28, 1)"
     ]
    }
   ],
   "source": [
    "#model.compile(loss=keras.losses.categorical_crossentropy, optimizer=keras.optimizers.Adadelta(), metrics=['accuracy']) #num_classes=10 때문에\n",
    "#class AccuracyHistory(keras.callbacks.Callback):\n",
    "#    def on_train_begin(self, logs={}): #훈련시작시 이벤으 반드시 이 함수를 써야함\n",
    "#        self.acc=[]\n",
    "#    def on_epoch_end(self,batch,logs={}):\n",
    "#        self.acc.append(logs.get('acc'))\n",
    "#history=AccuracyHistory()\n",
    "#model.fit(x_train,y_train,batch_size=batch_size,epochs=epochs,verbose=1,validation_data=(x_test,y_test), callbacks=[history])\n",
    "#score=model.evaluate(x_test,y_test,verbose=0)\n",
    "#score[0]\n",
    "#score[1]\n",
    "#plt.plot(range(1,11),history,acc)\n",
    "#plt.xlabel('Epoch')\n",
    "#plt.ylabel('Accuracy')\n",
    "#plt.show()\n",
    "#\n",
    "model.compile(loss=keras.losses.categorical_crossentropy, optimizer=keras.optimizers.Adadelta(), metrics=['accuracy'])\n",
    "\n",
    "# epoch 마다 accuracy 를 저장하게 해준다.  ( 안해도 별차니는 없다 ) \n",
    "class AccuracyHistory(keras.callbacks.Callback):\n",
    "    def on_train_begin(self,logs={}): # 오버라이팅 ( -> 반드시 이름이 on_train_begin 으로 ! )\n",
    "        self.acc=[]              #>> 훈련시작시 이벤트(on_train_begin) 가 발생하도록 발생했다 \n",
    "    def on_epochs_end(self, batch, logs={}):   # epoch 하나 끝날때마다 하도록 설정 \n",
    "        self.acc.append(logs.get('accuracy'))\n",
    "history = AccuracyHistory()  # 인스턴스 해주고 아래 fit에 , callbacks에  history 지정한다.\n",
    "\n",
    "model.fit(x_train, y_train, batch_size=batch_size,epochs=epochs, verbose=1, validation_data=(x_test,y_test), callbacks=[history])"
   ]
  },
  {
   "cell_type": "code",
   "execution_count": null,
   "metadata": {},
   "outputs": [],
   "source": [
    "score=model.evaluate(x_test,y_test,verbose=0)\n",
    "score[0]\n",
    "score[1]\n",
    "plt.plot(range(1,11),history,acc)\n",
    "plt.xlabel('Epoch')\n",
    "plt.ylabel('Accuracy')\n",
    "plt.show()\n"
   ]
  },
  {
   "cell_type": "code",
   "execution_count": null,
   "metadata": {},
   "outputs": [],
   "source": []
  },
  {
   "cell_type": "code",
   "execution_count": null,
   "metadata": {},
   "outputs": [],
   "source": [
    "#모델저장/로딩"
   ]
  },
  {
   "cell_type": "code",
   "execution_count": 46,
   "metadata": {},
   "outputs": [
    {
     "name": "stdout",
     "output_type": "stream",
     "text": [
      "모델이 저장되었습니다.\n",
      "모델이 로딩되었습니다.\n",
      "Model: \"sequential_12\"\n",
      "_________________________________________________________________\n",
      "Layer (type)                 Output Shape              Param #   \n",
      "=================================================================\n",
      "conv2d_14 (Conv2D)           (None, 26, 26, 32)        320       \n",
      "_________________________________________________________________\n",
      "conv2d_15 (Conv2D)           (None, 24, 24, 64)        18496     \n",
      "_________________________________________________________________\n",
      "max_pooling2d_6 (MaxPooling2 (None, 12, 12, 64)        0         \n",
      "_________________________________________________________________\n",
      "dropout_11 (Dropout)         (None, 12, 12, 64)        0         \n",
      "_________________________________________________________________\n",
      "flatten_6 (Flatten)          (None, 9216)              0         \n",
      "_________________________________________________________________\n",
      "dense_11 (Dense)             (None, 128)               1179776   \n",
      "_________________________________________________________________\n",
      "dropout_12 (Dropout)         (None, 128)               0         \n",
      "_________________________________________________________________\n",
      "dense_12 (Dense)             (None, 10)                1290      \n",
      "=================================================================\n",
      "Total params: 1,199,882\n",
      "Trainable params: 1,199,882\n",
      "Non-trainable params: 0\n",
      "_________________________________________________________________\n"
     ]
    }
   ],
   "source": [
    "#HDFS(hadoop file system ):model 구조전체 저장\n",
    "#가중치 구조, optimization stage 등이 저장\n",
    "#json 으로 저장, 구조 가중치를 별도로 저장 =>web 에서 tensorflow\n",
    "model.save('model_mnist.h5')\n",
    "print('모델이 저장되었습니다.')\n",
    "from keras.models import load_model\n",
    "\n",
    "model=load_model('model_mnist.h5')\n",
    "print('모델이 로딩되었습니다.')\n",
    "\n",
    "model.summary()"
   ]
  },
  {
   "cell_type": "code",
   "execution_count": 48,
   "metadata": {},
   "outputs": [
    {
     "name": "stdout",
     "output_type": "stream",
     "text": [
      "conv2d_14\n",
      "(None, 28, 28, 1)\n",
      "<function relu at 0x000002AFAFBF8438>\n",
      "(None, 26, 26, 32)\n"
     ]
    }
   ],
   "source": [
    "#레이어 정보 확인\n",
    "l1=model.layers[0]\n",
    "l2=model.layers[1]\n",
    "print(l1.name) #?\n",
    "print(l1.input_shape)\n",
    "print(l1.activation)\n",
    "print(l1.output_shape)"
   ]
  },
  {
   "cell_type": "code",
   "execution_count": 54,
   "metadata": {},
   "outputs": [
    {
     "data": {
      "image/png": "[encoded data removed]",
      "text/plain": [
       "<Figure size 432x288 with 9 Axes>"
      ]
     },
     "metadata": {
      "needs_background": "light"
     },
     "output_type": "display_data"
    }
   ],
   "source": [
    "from keras.datasets import mnist\n",
    "from keras.preprocessing.image import ImageDataGenerator\n",
    "from matplotlib import pyplot\n",
    "from keras import backend as K\n",
    "(X_train, y_train),(X_test,y_test)=mnist.load_data()\n",
    "X_train=X_train.reshape(X_train.shape[0],28,28,1)\n",
    "X_test=X_test.reshape(X_test.shape[0],28,28,1)\n",
    "X_train=X_train.astype('float32')\n",
    "X_test=X_test.astype('float32')\n",
    "datagen=ImageDataGenerator(horizontal_flip=True,vertical_flip=True)\n",
    "#datagen=ImageDataGenerator(width_shift_range=0.2,heigh_shift_range=0.2)\n",
    "#이미지 백색화 =>noise 제거 (변수간 상관도를 없앰:PCA)\n",
    "\n",
    "datagen.fit(X_train)\n",
    "for X_batch,y_batch in datagen.flow(X_train,y_train,batch_size=9,\n",
    "    #augment\n",
    "    save_to_dir='Images',save_prefix='aug',save_format='png'):\n",
    "    for i in range(0,9):\n",
    "        pyplot.subplot(330+1+i)\n",
    "        pyplot.imshow(X_batch[i].reshape(28,28),cmap=pyplot.get_cmap('gray'))\n",
    "    pyplot.show()\n",
    "    break"
   ]
  },
  {
   "cell_type": "code",
   "execution_count": 21,
   "metadata": {},
   "outputs": [
    {
     "name": "stdout",
     "output_type": "stream",
     "text": [
      "X_train shape: (50000, 32, 32, 3)\n",
      "50000 train samples\n",
      "10000 test samples\n"
     ]
    },
    {
     "data": {
      "image/png": "[encoded data removed]",
      "text/plain": [
       "<Figure size 432x288 with 1 Axes>"
      ]
     },
     "metadata": {
      "needs_background": "light"
     },
     "output_type": "display_data"
    },
    {
     "data": {
      "image/png": "[encoded data removed]",
      "text/plain": [
       "<Figure size 432x288 with 1 Axes>"
      ]
     },
     "metadata": {
      "needs_background": "light"
     },
     "output_type": "display_data"
    }
   ],
   "source": [
    "from keras.datasets import cifar10\n",
    "from keras.optimizers import SGD,Adam,RMSprop\n",
    "from keras.utils import np_utils\n",
    "from keras.layers import Activation\n",
    "from keras.datasets import mnist\n",
    "from keras.models import Sequential\n",
    "from keras.layers import Dense, Dropout, Flatten\n",
    "from keras.layers import Conv2D,MaxPooling2D\n",
    "from keras import backend as k\n",
    "import matplotlib.pyplot as plt\n",
    "#import\n",
    "\n",
    "(X_train,Y_train),(X_test,Y_test)=cifar10.load_data()\n",
    "print('X_train shape:',X_train.shape)\n",
    "print(X_train.shape[0],'train samples')\n",
    "print(X_test.shape[0],'test samples')\n",
    "NB_CLASSES=10\n",
    "Y_train=np_utils.to_categorical(Y_train,NB_CLASSES)\n",
    "Y_test=np_utils.to_categorical(Y_test,NB_CLASSES)\n",
    "\n",
    "X_train=X_train.astype('float32')\n",
    "X_test=X_test.astype('float32')\n",
    "X_train /=255\n",
    "X_test /=255\n",
    "\n",
    "\n",
    "plt.imshow(X_train[5])\n",
    "plt.grid(False)\n",
    "plt.show()\n",
    "plt.imshow(X_train[6])\n",
    "plt.grid(False)\n",
    "plt.show()"
   ]
  },
  {
   "cell_type": "code",
   "execution_count": 22,
   "metadata": {},
   "outputs": [],
   "source": [
    "IMG_CHANNELS=3\n",
    "IMG_ROWS=32\n",
    "IMG_COLS=32\n",
    "BATCH_SIZE=128\n",
    "NB_EPOCH=40\n",
    "NB_CLASSES=10\n",
    "VERBOSE=1\n",
    "VALIDATION_SPLIT=0.2\n",
    "OPTIM=RMSprop()"
   ]
  },
  {
   "cell_type": "code",
   "execution_count": 23,
   "metadata": {},
   "outputs": [],
   "source": [
    "model=Sequential()\n",
    "#residual 망의 영향을 받아서 \n",
    "#32 * 32 =>32 * 32 * 32\n",
    "model.add(Conv2D(32,kernel_size=3,padding='same',\n",
    "                input_shape=(IMG_ROWS,IMG_COLS,IMG_CHANNELS)))\n",
    "model.add(Activation('relu'))\n",
    "model.add(Conv2D(32,kernel_size=3,padding='same'))\n",
    "model.add(Activation('relu'))\n",
    "model.add(MaxPooling2D(pool_size=(2,2)))\n",
    "model.add(Dropout(0.25))"
   ]
  },
  {
   "cell_type": "code",
   "execution_count": 24,
   "metadata": {},
   "outputs": [
    {
     "name": "stderr",
     "output_type": "stream",
     "text": [
      "C:\\Users\\ICT01_23\\Anaconda3\\lib\\site-packages\\ipykernel_launcher.py:3: UserWarning: Update your `Conv2D` call to the Keras 2 API: `Conv2D(64, (3, 3))`\n",
      "  This is separate from the ipykernel package so we can avoid doing imports until\n"
     ]
    }
   ],
   "source": [
    "model.add(Conv2D(32,kernel_size=3,padding='same'))\n",
    "model.add(Activation('relu'))\n",
    "model.add(Conv2D(64,3,3))\n",
    "model.add(MaxPooling2D(pool_size=(2,2)))\n",
    "model.add(Dropout(0.25))"
   ]
  },
  {
   "cell_type": "code",
   "execution_count": 25,
   "metadata": {},
   "outputs": [
    {
     "name": "stdout",
     "output_type": "stream",
     "text": [
      "Model: \"sequential_2\"\n",
      "_________________________________________________________________\n",
      "Layer (type)                 Output Shape              Param #   \n",
      "=================================================================\n",
      "conv2d_3 (Conv2D)            (None, 32, 32, 32)        896       \n",
      "_________________________________________________________________\n",
      "activation_99 (Activation)   (None, 32, 32, 32)        0         \n",
      "_________________________________________________________________\n",
      "conv2d_4 (Conv2D)            (None, 32, 32, 32)        9248      \n",
      "_________________________________________________________________\n",
      "activation_100 (Activation)  (None, 32, 32, 32)        0         \n",
      "_________________________________________________________________\n",
      "max_pooling2d_4 (MaxPooling2 (None, 16, 16, 32)        0         \n",
      "_________________________________________________________________\n",
      "dropout_3 (Dropout)          (None, 16, 16, 32)        0         \n",
      "_________________________________________________________________\n",
      "conv2d_5 (Conv2D)            (None, 16, 16, 32)        9248      \n",
      "_________________________________________________________________\n",
      "activation_101 (Activation)  (None, 16, 16, 32)        0         \n",
      "_________________________________________________________________\n",
      "conv2d_6 (Conv2D)            (None, 14, 14, 64)        18496     \n",
      "_________________________________________________________________\n",
      "max_pooling2d_5 (MaxPooling2 (None, 7, 7, 64)          0         \n",
      "_________________________________________________________________\n",
      "dropout_4 (Dropout)          (None, 7, 7, 64)          0         \n",
      "_________________________________________________________________\n",
      "flatten_2 (Flatten)          (None, 3136)              0         \n",
      "_________________________________________________________________\n",
      "dense_3 (Dense)              (None, 512)               1606144   \n",
      "_________________________________________________________________\n",
      "activation_102 (Activation)  (None, 512)               0         \n",
      "_________________________________________________________________\n",
      "dropout_5 (Dropout)          (None, 512)               0         \n",
      "_________________________________________________________________\n",
      "dense_4 (Dense)              (None, 10)                5130      \n",
      "_________________________________________________________________\n",
      "activation_103 (Activation)  (None, 10)                0         \n",
      "=================================================================\n",
      "Total params: 1,649,162\n",
      "Trainable params: 1,649,162\n",
      "Non-trainable params: 0\n",
      "_________________________________________________________________\n"
     ]
    }
   ],
   "source": [
    "model.add(Flatten())\n",
    "model.add(Dense(512))\n",
    "model.add(Activation('relu'))\n",
    "model.add(Dropout(0.5))\n",
    "model.add(Dense(NB_CLASSES))\n",
    "model.add(Activation('softmax'))\n",
    "model.summary()\n",
    "model.compile(loss='categorical_crossentropy',optimizer=OPTIM,metrics=['accuracy'])"
   ]
  },
  {
   "cell_type": "code",
   "execution_count": 26,
   "metadata": {},
   "outputs": [
    {
     "name": "stdout",
     "output_type": "stream",
     "text": [
      "Train on 40000 samples, validate on 10000 samples\n",
      "Epoch 1/40\n",
      "40000/40000 [==============================] - 8s 209us/step - loss: 1.7505 - accuracy: 0.3720 - val_loss: 1.3403 - val_accuracy: 0.5222\n",
      "Epoch 2/40\n",
      "40000/40000 [==============================] - 7s 182us/step - loss: 1.3114 - accuracy: 0.5325 - val_loss: 1.5548 - val_accuracy: 0.4793\n",
      "Epoch 3/40\n",
      "40000/40000 [==============================] - 7s 182us/step - loss: 1.1038 - accuracy: 0.6100 - val_loss: 0.9520 - val_accuracy: 0.6605\n",
      "Epoch 4/40\n",
      "40000/40000 [==============================] - 7s 187us/step - loss: 0.9720 - accuracy: 0.6597 - val_loss: 0.9662 - val_accuracy: 0.6617\n",
      "Epoch 5/40\n",
      "40000/40000 [==============================] - 7s 182us/step - loss: 0.8754 - accuracy: 0.6927 - val_loss: 0.8626 - val_accuracy: 0.7033\n",
      "Epoch 6/40\n",
      "40000/40000 [==============================] - 7s 184us/step - loss: 0.8050 - accuracy: 0.7185 - val_loss: 1.0812 - val_accuracy: 0.6451\n",
      "Epoch 7/40\n",
      "40000/40000 [==============================] - 7s 182us/step - loss: 0.7572 - accuracy: 0.7366 - val_loss: 0.7807 - val_accuracy: 0.7276\n",
      "Epoch 8/40\n",
      "40000/40000 [==============================] - 7s 182us/step - loss: 0.7071 - accuracy: 0.7530 - val_loss: 0.7310 - val_accuracy: 0.7472\n",
      "Epoch 9/40\n",
      "40000/40000 [==============================] - 7s 187us/step - loss: 0.6581 - accuracy: 0.7693 - val_loss: 0.7147 - val_accuracy: 0.7537\n",
      "Epoch 10/40\n",
      "40000/40000 [==============================] - 7s 181us/step - loss: 0.6210 - accuracy: 0.7825 - val_loss: 0.6994 - val_accuracy: 0.7624\n",
      "Epoch 11/40\n",
      "40000/40000 [==============================] - 7s 181us/step - loss: 0.5861 - accuracy: 0.7947 - val_loss: 0.7581 - val_accuracy: 0.7486\n",
      "Epoch 12/40\n",
      "40000/40000 [==============================] - 7s 181us/step - loss: 0.5571 - accuracy: 0.8057 - val_loss: 0.8673 - val_accuracy: 0.7300\n",
      "Epoch 13/40\n",
      "40000/40000 [==============================] - 7s 181us/step - loss: 0.5309 - accuracy: 0.8137 - val_loss: 0.7214 - val_accuracy: 0.7614\n",
      "Epoch 14/40\n",
      "40000/40000 [==============================] - 7s 181us/step - loss: 0.4977 - accuracy: 0.8250 - val_loss: 0.7741 - val_accuracy: 0.7532\n",
      "Epoch 15/40\n",
      "40000/40000 [==============================] - 7s 181us/step - loss: 0.4850 - accuracy: 0.8294 - val_loss: 0.7548 - val_accuracy: 0.7630\n",
      "Epoch 16/40\n",
      "40000/40000 [==============================] - 7s 181us/step - loss: 0.4622 - accuracy: 0.8381 - val_loss: 0.7176 - val_accuracy: 0.7761\n",
      "Epoch 17/40\n",
      "40000/40000 [==============================] - 7s 184us/step - loss: 0.4422 - accuracy: 0.8443 - val_loss: 0.7926 - val_accuracy: 0.7638\n",
      "Epoch 18/40\n",
      "40000/40000 [==============================] - 7s 181us/step - loss: 0.4258 - accuracy: 0.8504 - val_loss: 0.7263 - val_accuracy: 0.7692\n",
      "Epoch 19/40\n",
      "40000/40000 [==============================] - 7s 181us/step - loss: 0.4135 - accuracy: 0.8557 - val_loss: 0.7523 - val_accuracy: 0.7771\n",
      "Epoch 20/40\n",
      "40000/40000 [==============================] - 7s 184us/step - loss: 0.3997 - accuracy: 0.8585 - val_loss: 0.7633 - val_accuracy: 0.7735\n",
      "Epoch 21/40\n",
      "40000/40000 [==============================] - 7s 182us/step - loss: 0.3861 - accuracy: 0.8664 - val_loss: 0.7268 - val_accuracy: 0.7813\n",
      "Epoch 22/40\n",
      "40000/40000 [==============================] - 7s 185us/step - loss: 0.3723 - accuracy: 0.8704 - val_loss: 0.7929 - val_accuracy: 0.7553\n",
      "Epoch 23/40\n",
      "40000/40000 [==============================] - 7s 184us/step - loss: 0.3597 - accuracy: 0.8749 - val_loss: 1.0010 - val_accuracy: 0.7461\n",
      "Epoch 24/40\n",
      "40000/40000 [==============================] - 7s 185us/step - loss: 0.3618 - accuracy: 0.8733 - val_loss: 0.8256 - val_accuracy: 0.7554\n",
      "Epoch 25/40\n",
      "40000/40000 [==============================] - 7s 186us/step - loss: 0.3472 - accuracy: 0.8767 - val_loss: 0.8373 - val_accuracy: 0.7681\n",
      "Epoch 26/40\n",
      "40000/40000 [==============================] - 7s 184us/step - loss: 0.3414 - accuracy: 0.8819 - val_loss: 0.8307 - val_accuracy: 0.7694\n",
      "Epoch 27/40\n",
      "40000/40000 [==============================] - 7s 183us/step - loss: 0.3463 - accuracy: 0.8798 - val_loss: 0.7937 - val_accuracy: 0.7820\n",
      "Epoch 28/40\n",
      "40000/40000 [==============================] - 7s 185us/step - loss: 0.3276 - accuracy: 0.8865 - val_loss: 0.8035 - val_accuracy: 0.7708\n",
      "Epoch 29/40\n",
      "40000/40000 [==============================] - 7s 185us/step - loss: 0.3213 - accuracy: 0.8867 - val_loss: 0.8311 - val_accuracy: 0.7774\n",
      "Epoch 30/40\n",
      "40000/40000 [==============================] - 7s 183us/step - loss: 0.3228 - accuracy: 0.8884 - val_loss: 0.9292 - val_accuracy: 0.7599\n",
      "Epoch 31/40\n",
      "40000/40000 [==============================] - 7s 183us/step - loss: 0.3126 - accuracy: 0.8940 - val_loss: 0.8493 - val_accuracy: 0.7763\n",
      "Epoch 32/40\n",
      "40000/40000 [==============================] - 7s 182us/step - loss: 0.3069 - accuracy: 0.8946 - val_loss: 0.8493 - val_accuracy: 0.7752\n",
      "Epoch 33/40\n",
      "40000/40000 [==============================] - 7s 183us/step - loss: 0.3059 - accuracy: 0.8952 - val_loss: 0.8027 - val_accuracy: 0.7812\n",
      "Epoch 34/40\n",
      "40000/40000 [==============================] - 7s 182us/step - loss: 0.3020 - accuracy: 0.8964 - val_loss: 0.9038 - val_accuracy: 0.7715\n",
      "Epoch 35/40\n",
      "40000/40000 [==============================] - 7s 183us/step - loss: 0.2974 - accuracy: 0.8988 - val_loss: 0.7971 - val_accuracy: 0.7863\n",
      "Epoch 36/40\n",
      "40000/40000 [==============================] - 7s 181us/step - loss: 0.2960 - accuracy: 0.8997 - val_loss: 0.8146 - val_accuracy: 0.7783\n",
      "Epoch 37/40\n",
      "40000/40000 [==============================] - 7s 181us/step - loss: 0.2944 - accuracy: 0.8997 - val_loss: 0.8282 - val_accuracy: 0.7824\n",
      "Epoch 38/40\n",
      "40000/40000 [==============================] - 7s 183us/step - loss: 0.2861 - accuracy: 0.9023 - val_loss: 0.8278 - val_accuracy: 0.7850\n",
      "Epoch 39/40\n",
      "40000/40000 [==============================] - 7s 181us/step - loss: 0.2913 - accuracy: 0.9009 - val_loss: 0.8439 - val_accuracy: 0.7748\n",
      "Epoch 40/40\n",
      "40000/40000 [==============================] - 7s 181us/step - loss: 0.2822 - accuracy: 0.9041 - val_loss: 0.9305 - val_accuracy: 0.7781\n"
     ]
    }
   ],
   "source": [
    "history=model.fit(X_train,Y_train,batch_size=BATCH_SIZE,epochs=NB_EPOCH, validation_split=VALIDATION_SPLIT,\n",
    "                 verbose=VERBOSE)"
   ]
  },
  {
   "cell_type": "code",
   "execution_count": 29,
   "metadata": {},
   "outputs": [],
   "source": [
    "from keras.preprocessing.image import ImageDataGenerator\n",
    "datagen=ImageDataGenerator(featurewise_center=False, #똑같은 데이터 \n",
    "                           samplewise_center=False,\n",
    "                           featurewise_std_normalization=False,\n",
    "                           samplewise_std_normalization=False,\n",
    "                           zca_whitening=False, #이미지 PCA 노이즈 제거\n",
    "                           rotation_range=0,\n",
    "                           width_shift_range=0.1,\n",
    "                           height_shift_range=0.1,\n",
    "                           horizontal_flip=True,\n",
    "                           vertical_flip=False)\n",
    "datagen.fit(X_train)\n",
    "                           "
   ]
  },
  {
   "cell_type": "code",
   "execution_count": 31,
   "metadata": {},
   "outputs": [
    {
     "name": "stdout",
     "output_type": "stream",
     "text": [
      "Epoch 1/40\n",
      "  3/390 [..............................] - ETA: 15s - loss: 1.2675 - accuracy: 0.6328"
     ]
    },
    {
     "name": "stderr",
     "output_type": "stream",
     "text": [
      "C:\\Users\\ICT01_23\\Anaconda3\\lib\\site-packages\\ipykernel_launcher.py:5: UserWarning: The semantics of the Keras 2 argument `steps_per_epoch` is not the same as the Keras 1 argument `samples_per_epoch`. `steps_per_epoch` is the number of batches to draw from the generator at each epoch. Basically steps_per_epoch = samples_per_epoch/batch_size. Similarly `nb_val_samples`->`validation_steps` and `val_samples`->`steps` arguments have changed. Update your method calls accordingly.\n",
      "  \"\"\"\n",
      "C:\\Users\\ICT01_23\\Anaconda3\\lib\\site-packages\\ipykernel_launcher.py:5: UserWarning: Update your `fit_generator` call to the Keras 2 API: `fit_generator(<keras.pre..., verbose=1, steps_per_epoch=390, epochs=40)`\n",
      "  \"\"\"\n"
     ]
    },
    {
     "name": "stdout",
     "output_type": "stream",
     "text": [
      "390/390 [==============================] - 13s 34ms/step - loss: 0.9716 - accuracy: 0.6752\n",
      "Epoch 2/40\n",
      "390/390 [==============================] - 13s 32ms/step - loss: 0.9083 - accuracy: 0.6941\n",
      "Epoch 3/40\n",
      "390/390 [==============================] - 13s 32ms/step - loss: 0.8739 - accuracy: 0.7015\n",
      "Epoch 4/40\n",
      "390/390 [==============================] - 13s 34ms/step - loss: 0.8548 - accuracy: 0.7081\n",
      "Epoch 5/40\n",
      "390/390 [==============================] - 13s 32ms/step - loss: 0.8465 - accuracy: 0.7127\n",
      "Epoch 6/40\n",
      "390/390 [==============================] - 13s 32ms/step - loss: 0.8283 - accuracy: 0.7200\n",
      "Epoch 7/40\n",
      "390/390 [==============================] - 13s 33ms/step - loss: 0.8210 - accuracy: 0.7192\n",
      "Epoch 8/40\n",
      "390/390 [==============================] - 13s 32ms/step - loss: 0.8141 - accuracy: 0.7223\n",
      "Epoch 9/40\n",
      "390/390 [==============================] - 13s 33ms/step - loss: 0.8177 - accuracy: 0.7224\n",
      "Epoch 10/40\n",
      "390/390 [==============================] - 13s 34ms/step - loss: 0.8063 - accuracy: 0.7267\n",
      "Epoch 11/40\n",
      "390/390 [==============================] - 13s 32ms/step - loss: 0.7950 - accuracy: 0.7292\n",
      "Epoch 12/40\n",
      "390/390 [==============================] - 13s 32ms/step - loss: 0.7991 - accuracy: 0.72861s - loss: 0.7976 - accu - ETA: 1s - loss: 0.7960 - accuracy: 0.72 - ETA: 0s -\n",
      "Epoch 13/40\n",
      "390/390 [==============================] - 13s 34ms/step - loss: 0.7880 - accuracy: 0.7319\n",
      "Epoch 14/40\n",
      "390/390 [==============================] - 13s 32ms/step - loss: 0.7823 - accuracy: 0.7325\n",
      "Epoch 15/40\n",
      "390/390 [==============================] - 13s 33ms/step - loss: 0.7893 - accuracy: 0.73020s - loss: 0.7875 \n",
      "Epoch 16/40\n",
      "390/390 [==============================] - 13s 34ms/step - loss: 0.7715 - accuracy: 0.7374\n",
      "Epoch 17/40\n",
      "390/390 [==============================] - 13s 33ms/step - loss: 0.7764 - accuracy: 0.7370\n",
      "Epoch 18/40\n",
      "390/390 [==============================] - 13s 32ms/step - loss: 0.7751 - accuracy: 0.7369\n",
      "Epoch 19/40\n",
      "390/390 [==============================] - 13s 34ms/step - loss: 0.7596 - accuracy: 0.7416\n",
      "Epoch 20/40\n",
      "390/390 [==============================] - 13s 32ms/step - loss: 0.7627 - accuracy: 0.7414\n",
      "Epoch 21/40\n",
      "390/390 [==============================] - 13s 33ms/step - loss: 0.7691 - accuracy: 0.7397TA: 0s - loss: 0.7702 - \n",
      "Epoch 22/40\n",
      "390/390 [==============================] - 13s 34ms/step - loss: 0.7625 - accuracy: 0.7395\n",
      "Epoch 23/40\n",
      "390/390 [==============================] - 13s 32ms/step - loss: 0.7623 - accuracy: 0.7428\n",
      "Epoch 24/40\n",
      "390/390 [==============================] - 13s 32ms/step - loss: 0.7617 - accuracy: 0.7409\n",
      "Epoch 25/40\n",
      "390/390 [==============================] - 13s 34ms/step - loss: 0.7558 - accuracy: 0.7434TA: 1s - l - ETA: 0s - loss: 0.7554 - accu\n",
      "Epoch 26/40\n",
      "390/390 [==============================] - 13s 33ms/step - loss: 0.7578 - accuracy: 0.7436\n",
      "Epoch 27/40\n",
      "390/390 [==============================] - 13s 32ms/step - loss: 0.7609 - accuracy: 0.7433\n",
      "Epoch 28/40\n",
      "390/390 [==============================] - 13s 34ms/step - loss: 0.7526 - accuracy: 0.7468\n",
      "Epoch 29/40\n",
      "390/390 [==============================] - 13s 32ms/step - loss: 0.7582 - accuracy: 0.7414\n",
      "Epoch 30/40\n",
      "390/390 [==============================] - 13s 32ms/step - loss: 0.7457 - accuracy: 0.7455\n",
      "Epoch 31/40\n",
      "390/390 [==============================] - 13s 34ms/step - loss: 0.7513 - accuracy: 0.7476\n",
      "Epoch 32/40\n",
      "390/390 [==============================] - 13s 33ms/step - loss: 0.7483 - accuracy: 0.7455\n",
      "Epoch 33/40\n",
      "390/390 [==============================] - 13s 32ms/step - loss: 0.7491 - accuracy: 0.7465\n",
      "Epoch 34/40\n",
      "390/390 [==============================] - 13s 34ms/step - loss: 0.7563 - accuracy: 0.7455\n",
      "Epoch 35/40\n",
      "390/390 [==============================] - 13s 33ms/step - loss: 0.7542 - accuracy: 0.7447\n",
      "Epoch 36/40\n",
      "390/390 [==============================] - 13s 32ms/step - loss: 0.7507 - accuracy: 0.7469\n",
      "Epoch 37/40\n",
      "390/390 [==============================] - 13s 34ms/step - loss: 0.7465 - accuracy: 0.7483\n",
      "Epoch 38/40\n",
      "390/390 [==============================] - 13s 32ms/step - loss: 0.7447 - accuracy: 0.7507\n",
      "Epoch 39/40\n",
      "390/390 [==============================] - 13s 32ms/step - loss: 0.7408 - accuracy: 0.7512\n",
      "Epoch 40/40\n",
      "390/390 [==============================] - 13s 33ms/step - loss: 0.7518 - accuracy: 0.7486\n"
     ]
    },
    {
     "data": {
      "text/plain": [
       "<keras.callbacks.callbacks.History at 0x1d2d28ed788>"
      ]
     },
     "execution_count": 31,
     "metadata": {},
     "output_type": "execute_result"
    }
   ],
   "source": [
    "model.fit_generator(datagen.flow(X_train, Y_train,\n",
    "                                batch_size=BATCH_SIZE),\n",
    "                    samples_per_epoch=X_train.shape[0],\n",
    "                    nb_epoch=NB_EPOCH,\n",
    "                    verbose=VERBOSE)"
   ]
  },
  {
   "cell_type": "code",
   "execution_count": 35,
   "metadata": {},
   "outputs": [
    {
     "name": "stdout",
     "output_type": "stream",
     "text": [
      "10000/10000 [==============================] - 1s 86us/step\n",
      "\n",
      "Test score: 0.6048658179283142\n",
      "\n",
      "Test accuracy: 0.7997000217437744\n"
     ]
    }
   ],
   "source": [
    "score=model.evaluate(X_test,Y_test,batch_size=BATCH_SIZE,verbose=VERBOSE)\n",
    "print('\\nTest score:',score[0])\n",
    "print('\\nTest accuracy:',score[1])\n"
   ]
  },
  {
   "cell_type": "code",
   "execution_count": 47,
   "metadata": {},
   "outputs": [],
   "source": [
    "#json\n",
    "model_json=model.to_json()\n",
    "open('cifar10_architecture.json','w').write(model_json)\n",
    "model.save_weights('cifar10_weights.h5',overwrite=True)"
   ]
  },
  {
   "cell_type": "code",
   "execution_count": 48,
   "metadata": {},
   "outputs": [
    {
     "ename": "NameError",
     "evalue": "name 'modle_from_json' is not defined",
     "output_type": "error",
     "traceback": [
      "\u001b[1;31m---------------------------------------------------------------------------\u001b[0m",
      "\u001b[1;31mNameError\u001b[0m                                 Traceback (most recent call last)",
      "\u001b[1;32m<ipython-input-48-a4c4316359a1>\u001b[0m in \u001b[0;36m<module>\u001b[1;34m\u001b[0m\n\u001b[0;32m      3\u001b[0m \u001b[0mloaded_model_json\u001b[0m\u001b[1;33m=\u001b[0m\u001b[0mjson_file\u001b[0m\u001b[1;33m.\u001b[0m\u001b[0mread\u001b[0m\u001b[1;33m(\u001b[0m\u001b[1;33m)\u001b[0m\u001b[1;33m\u001b[0m\u001b[1;33m\u001b[0m\u001b[0m\n\u001b[0;32m      4\u001b[0m \u001b[0mjson_file\u001b[0m\u001b[1;33m.\u001b[0m\u001b[0mclose\u001b[0m\u001b[1;33m(\u001b[0m\u001b[1;33m)\u001b[0m\u001b[1;33m\u001b[0m\u001b[1;33m\u001b[0m\u001b[0m\n\u001b[1;32m----> 5\u001b[1;33m \u001b[0mloaded_model\u001b[0m\u001b[1;33m=\u001b[0m\u001b[0mmodle_from_json\u001b[0m\u001b[1;33m(\u001b[0m\u001b[0mload_model_json\u001b[0m\u001b[1;33m)\u001b[0m\u001b[1;33m\u001b[0m\u001b[1;33m\u001b[0m\u001b[0m\n\u001b[0m\u001b[0;32m      6\u001b[0m \u001b[0mloaded_model\u001b[0m\u001b[1;33m.\u001b[0m\u001b[0mload_weighs\u001b[0m\u001b[1;33m(\u001b[0m\u001b[1;34m'cifar10_weights.h5'\u001b[0m\u001b[1;33m)\u001b[0m\u001b[1;33m\u001b[0m\u001b[1;33m\u001b[0m\u001b[0m\n\u001b[0;32m      7\u001b[0m \u001b[0mprint\u001b[0m\u001b[1;33m(\u001b[0m\u001b[1;34m'Loaded model from disk'\u001b[0m\u001b[1;33m)\u001b[0m\u001b[1;33m\u001b[0m\u001b[1;33m\u001b[0m\u001b[0m\n",
      "\u001b[1;31mNameError\u001b[0m: name 'modle_from_json' is not defined"
     ]
    }
   ],
   "source": [
    "from keras.models import model_from_json\n",
    "json_file=open('cifar10_architecture.json','r')\n",
    "loaded_model_json=json_file.read()\n",
    "json_file.close()\n",
    "loaded_model=modle_from_json(load_model_json)\n",
    "loaded_model.load_weighs('cifar10_weights.h5')\n",
    "print('Loaded model from disk')"
   ]
  },
  {
   "cell_type": "code",
   "execution_count": null,
   "metadata": {},
   "outputs": [],
   "source": [
    "#accuracy graph를 출력해보시오\n",
    "이미지 cat dog를 다운로드한 다음 위의 모델로예측해보아라"
   ]
  },
  {
   "cell_type": "code",
   "execution_count": 44,
   "metadata": {},
   "outputs": [
    {
     "ename": "KeyError",
     "evalue": "'acc'",
     "output_type": "error",
     "traceback": [
      "\u001b[1;31m---------------------------------------------------------------------------\u001b[0m",
      "\u001b[1;31mKeyError\u001b[0m                                  Traceback (most recent call last)",
      "\u001b[1;32m<ipython-input-44-2c46664bd130>\u001b[0m in \u001b[0;36m<module>\u001b[1;34m\u001b[0m\n\u001b[0;32m      1\u001b[0m \u001b[0mplt\u001b[0m\u001b[1;33m.\u001b[0m\u001b[0mplot\u001b[0m\u001b[1;33m(\u001b[0m\u001b[0mhistory\u001b[0m\u001b[1;33m.\u001b[0m\u001b[0mhistory\u001b[0m\u001b[1;33m[\u001b[0m\u001b[1;34m'val_accuracy'\u001b[0m\u001b[1;33m]\u001b[0m\u001b[1;33m)\u001b[0m\u001b[1;33m\u001b[0m\u001b[1;33m\u001b[0m\u001b[0m\n\u001b[1;32m----> 2\u001b[1;33m \u001b[0mplt\u001b[0m\u001b[1;33m.\u001b[0m\u001b[0mplot\u001b[0m\u001b[1;33m(\u001b[0m\u001b[0mhistory\u001b[0m\u001b[1;33m.\u001b[0m\u001b[0mhistory\u001b[0m\u001b[1;33m[\u001b[0m\u001b[1;34m'acc'\u001b[0m\u001b[1;33m]\u001b[0m\u001b[1;33m)\u001b[0m\u001b[1;33m\u001b[0m\u001b[1;33m\u001b[0m\u001b[0m\n\u001b[0m\u001b[0;32m      3\u001b[0m \u001b[0mplt\u001b[0m\u001b[1;33m.\u001b[0m\u001b[0mtitle\u001b[0m\u001b[1;33m(\u001b[0m\u001b[1;34m'model accuracy'\u001b[0m\u001b[1;33m)\u001b[0m\u001b[1;33m\u001b[0m\u001b[1;33m\u001b[0m\u001b[0m\n\u001b[0;32m      4\u001b[0m \u001b[0mplt\u001b[0m\u001b[1;33m.\u001b[0m\u001b[0mylabel\u001b[0m\u001b[1;33m(\u001b[0m\u001b[1;34m'accuracy'\u001b[0m\u001b[1;33m)\u001b[0m\u001b[1;33m\u001b[0m\u001b[1;33m\u001b[0m\u001b[0m\n\u001b[0;32m      5\u001b[0m \u001b[0mplt\u001b[0m\u001b[1;33m.\u001b[0m\u001b[0mxlabel\u001b[0m\u001b[1;33m(\u001b[0m\u001b[1;34m'epoch'\u001b[0m\u001b[1;33m)\u001b[0m\u001b[1;33m\u001b[0m\u001b[1;33m\u001b[0m\u001b[0m\n",
      "\u001b[1;31mKeyError\u001b[0m: 'acc'"
     ]
    },
    {
     "data": {
      "image/png": "[encoded data removed]",
      "text/plain": [
       "<Figure size 432x288 with 1 Axes>"
      ]
     },
     "metadata": {
      "needs_background": "light"
     },
     "output_type": "display_data"
    }
   ],
   "source": [
    "plt.plot(history.history['val_accuracy'])\n",
    "plt.plot(history.history['acc'])\n",
    "plt.title('model accuracy')\n",
    "plt.ylabel('accuracy')\n",
    "plt.xlabel('epoch')\n",
    "plt.legend(['train','test'],loc='upper left')\n",
    "plt.show()"
   ]
  },
  {
   "cell_type": "code",
   "execution_count": 45,
   "metadata": {},
   "outputs": [
    {
     "name": "stdout",
     "output_type": "stream",
     "text": [
      "[[1.57576341e-10 1.38739811e-10 1.14419793e-10 1.39463241e-11\n",
      "  7.25460733e-11 2.55409049e-09 1.62369701e-11 4.93906915e-10\n",
      "  7.63029995e-09 2.10169711e-11 4.36061465e-11 2.28217822e-09\n",
      "  5.16790166e-10 1.52415691e-10 1.91582375e-10 1.72548906e-10\n",
      "  9.25713906e-09 1.59161639e-09 7.98054456e-10 1.77165477e-10\n",
      "  4.49552721e-11 1.26135505e-10 7.14512671e-09 8.07103967e-11\n",
      "  5.03962974e-12 5.12669455e-11 8.18290487e-12 1.39258896e-10\n",
      "  2.29039704e-10 1.01583221e-10 2.99516939e-11 1.04529621e-08\n",
      "  1.39542400e-09 4.90490157e-12 1.52976035e-10 1.69911602e-11\n",
      "  9.63191540e-11 9.27392274e-10 3.63400698e-10 3.18971766e-10\n",
      "  5.43845236e-09 5.76709999e-11 1.37982931e-10 1.27732658e-10\n",
      "  2.65331618e-10 1.51117197e-09 3.04347871e-08 6.60290489e-10\n",
      "  7.17598481e-11 7.31610605e-12 3.01193348e-10 7.20880688e-09\n",
      "  6.35444897e-09 2.21615101e-10 7.09931211e-11 6.58359482e-08\n",
      "  3.45045173e-11 7.88855717e-11 6.77195106e-11 2.34075994e-08\n",
      "  6.30795416e-10 3.58012960e-11 9.19521664e-12 3.45890733e-10\n",
      "  1.45708041e-08 2.99224756e-10 6.25981178e-09 7.56713095e-11\n",
      "  9.49326839e-10 1.22513596e-10 2.48136539e-10 2.98142899e-10\n",
      "  1.67255154e-10 8.93560392e-10 1.10388398e-09 6.16675710e-10\n",
      "  6.81490350e-11 1.70836553e-10 5.43686607e-09 3.14854809e-10\n",
      "  4.08936357e-10 2.93900286e-11 3.93439809e-10 4.19556445e-10\n",
      "  1.52777374e-11 4.92029889e-11 3.73941433e-10 9.12362894e-11\n",
      "  2.61629052e-09 1.12898730e-08 5.00739583e-09 9.86525792e-11\n",
      "  7.91837873e-10 4.87934182e-09 3.16416648e-09 1.16427534e-10\n",
      "  3.25806382e-09 4.35170178e-10 9.82581312e-13 3.74613708e-11\n",
      "  1.27822350e-10 2.30075525e-11 1.62449401e-10 4.82249352e-10\n",
      "  4.02115580e-12 2.18070145e-11 3.06631491e-11 3.46061013e-10\n",
      "  1.33149829e-08 1.54428942e-10 1.74921340e-08 6.76641809e-09\n",
      "  2.17003731e-08 4.19998010e-08 3.25863709e-08 2.29141195e-09\n",
      "  1.34666805e-10 2.80037793e-09 1.40489870e-10 3.78617887e-10\n",
      "  2.49852417e-10 3.22451732e-10 7.24063531e-10 4.25954445e-11\n",
      "  2.12803025e-10 1.23045263e-09 3.14830217e-10 8.55401427e-12\n",
      "  3.71351734e-12 6.39631880e-12 6.84353477e-11 1.97879144e-11\n",
      "  4.66918240e-11 4.23448152e-11 2.34236432e-11 3.09068438e-10\n",
      "  1.84625448e-09 4.38455300e-10 3.74477055e-12 2.77792025e-11\n",
      "  2.43825663e-12 1.74690696e-11 1.30405773e-11 2.36946001e-11\n",
      "  8.84781692e-11 1.52102331e-10 1.83586724e-09 1.45547602e-10\n",
      "  1.83964163e-10 3.86952935e-11 1.01932393e-10 2.62102051e-09\n",
      "  4.00540845e-09 2.67255889e-08 3.49753981e-09 3.33154171e-10\n",
      "  1.42101456e-10 1.12262000e-09 2.12537349e-10 1.76081472e-09\n",
      "  1.74904414e-11 1.44467299e-10 2.93967004e-11 1.15462896e-10\n",
      "  5.88799495e-11 1.55208433e-11 2.53653817e-11 6.91588453e-12\n",
      "  1.81255211e-09 2.57256549e-10 3.47009921e-11 1.38970280e-09\n",
      "  1.56163804e-10 9.19544562e-12 2.96132252e-09 9.04931408e-11\n",
      "  1.23177094e-11 4.62154967e-11 2.52292409e-09 1.85569504e-09\n",
      "  4.18462175e-11 8.77765707e-11 2.26958397e-10 6.43747722e-09\n",
      "  1.71956227e-10 9.50878576e-09 3.76827725e-09 9.19448961e-10\n",
      "  8.65449157e-10 2.21410734e-09 1.18383095e-10 3.22912086e-10\n",
      "  4.49883811e-11 9.57139368e-10 4.35902668e-11 3.02183811e-09\n",
      "  2.55392874e-10 9.05945111e-11 6.49919354e-11 1.41612805e-10\n",
      "  2.18614238e-09 8.87472387e-11 1.84460713e-09 4.97787256e-10\n",
      "  1.23760380e-08 8.23682303e-11 2.19424173e-10 4.03870271e-09\n",
      "  7.80443418e-11 7.92886701e-10 4.42827094e-11 2.09849360e-10\n",
      "  1.01790180e-10 1.55643415e-10 3.67316177e-11 8.40804718e-11\n",
      "  2.13276813e-10 3.57808817e-11 2.27685405e-11 7.62048966e-11\n",
      "  3.76827541e-10 8.91326596e-11 7.45628559e-10 1.66249066e-07\n",
      "  2.60108002e-09 1.19573407e-09 6.33665398e-10 8.98786948e-11\n",
      "  8.84537096e-11 2.59734539e-10 1.29837488e-10 8.04864975e-09\n",
      "  9.75875825e-10 1.98182648e-09 2.26930280e-10 2.09669038e-09\n",
      "  8.68737027e-10 4.25389585e-10 2.38818160e-10 1.11730736e-09\n",
      "  6.68586186e-10 2.79217927e-10 2.29175609e-10 8.27633517e-11\n",
      "  9.98939334e-11 2.49143017e-09 3.09129111e-10 1.02237352e-09\n",
      "  7.59688146e-10 7.55388552e-09 4.16592510e-10 3.02819059e-09\n",
      "  2.89059304e-10 9.03043806e-10 1.03795923e-08 6.39277575e-10\n",
      "  5.70028647e-09 1.04329941e-10 1.61816534e-08 4.64490455e-08\n",
      "  9.33371336e-09 9.64993276e-08 1.50915067e-08 3.57909546e-09\n",
      "  3.87620935e-10 1.36334355e-09 1.84041365e-10 1.40176148e-10\n",
      "  1.12034615e-09 7.74801334e-11 2.52537380e-10 1.70676639e-10\n",
      "  2.75534179e-10 3.02026217e-11 3.78568600e-11 3.61360837e-11\n",
      "  4.00197549e-11 1.14367210e-10 1.77637054e-11 1.13119665e-08\n",
      "  2.47368983e-11 1.08377716e-08 3.84195314e-10 3.63778829e-09\n",
      "  1.49727342e-10 5.75386350e-10 1.88191632e-11 1.05746967e-10\n",
      "  4.24011486e-11 1.63260128e-10 3.20118029e-11 2.53309092e-11\n",
      "  1.03525799e-09 1.78893164e-10 3.74329456e-11 6.78974654e-11\n",
      "  8.91959784e-10 4.71376202e-11 5.71174386e-10 4.57247712e-10\n",
      "  5.83790016e-10 1.47004187e-07 2.10354692e-10 5.29047292e-11\n",
      "  2.00898640e-08 2.49870069e-10 6.81150922e-08 8.32597991e-09\n",
      "  5.98753802e-09 7.86706735e-08 2.91266332e-07 1.20877335e-08\n",
      "  2.50735361e-08 2.08560516e-10 2.48421261e-09 8.56281446e-08\n",
      "  2.94451435e-10 5.26635837e-08 1.38823308e-08 9.26379307e-10\n",
      "  1.23561950e-09 3.68504394e-10 2.80726883e-11 4.99667197e-09\n",
      "  7.58166752e-10 6.21018899e-08 1.87234472e-09 3.77481646e-09\n",
      "  3.17788351e-09 4.10176837e-10 5.89651453e-11 3.57289164e-11\n",
      "  1.01280009e-11 4.66399079e-08 3.11789095e-10 1.07211601e-11\n",
      "  1.63087523e-12 1.76258452e-10 2.66905276e-09 5.44665840e-11\n",
      "  3.58657444e-11 1.28276808e-11 6.22763646e-12 9.60811708e-11\n",
      "  9.48817622e-11 5.48473038e-11 3.51886619e-12 1.99298026e-11\n",
      "  8.14334104e-12 2.54087528e-12 2.12392569e-11 8.75973946e-12\n",
      "  5.00111029e-11 9.93565039e-12 1.51925458e-10 2.18885656e-11\n",
      "  2.25586411e-10 3.91561505e-10 5.57538904e-10 1.45453605e-09\n",
      "  5.15211540e-10 6.47364884e-10 2.77659597e-11 3.09840459e-10\n",
      "  1.51473500e-10 2.21213048e-10 5.47405975e-11 1.33254366e-10\n",
      "  2.04775537e-11 6.22039781e-11 3.65703440e-11 4.07975563e-11\n",
      "  6.56640367e-11 1.28095215e-10 7.45221523e-11 2.18539839e-11\n",
      "  4.39094455e-11 1.40693468e-09 8.62886151e-10 5.22532746e-11\n",
      "  9.68141123e-10 1.52596234e-11 9.52611184e-11 1.08151495e-10\n",
      "  2.46310750e-10 5.14709386e-11 3.56998285e-11 2.20522888e-11\n",
      "  7.54191067e-12 3.99830551e-11 2.75835066e-09 2.08600602e-11\n",
      "  1.51372792e-09 5.55967539e-09 3.68826757e-12 1.06293148e-10\n",
      "  7.90708943e-10 9.46238227e-12 1.17212806e-09 1.07527287e-09\n",
      "  1.60172420e-09 5.15859522e-10 3.69571485e-10 1.12778738e-10\n",
      "  3.02364557e-11 3.12373599e-10 2.34311182e-10 3.16182670e-12\n",
      "  7.94885130e-11 9.50008427e-09 5.12587299e-11 6.74283476e-11\n",
      "  2.21961649e-09 1.19038069e-11 1.82921234e-09 1.90871607e-09\n",
      "  3.71124442e-12 1.16053629e-08 7.02046143e-10 3.38694406e-10\n",
      "  6.65663080e-11 3.72125153e-09 3.23007754e-09 5.57924817e-11\n",
      "  8.91998489e-11 1.51138158e-10 4.19938528e-09 2.40595899e-09\n",
      "  9.90391769e-09 1.48608639e-10 1.78411591e-11 1.95399377e-10\n",
      "  1.76692772e-09 6.38957331e-09 6.37042206e-08 1.91801675e-07\n",
      "  1.81536661e-11 9.46226431e-10 1.53381052e-09 1.76320666e-10\n",
      "  2.04461537e-09 1.08603626e-09 5.45566536e-10 7.71978370e-10\n",
      "  4.59613791e-10 1.38835687e-09 1.84877758e-09 4.54768001e-10\n",
      "  4.05908240e-09 2.03536840e-11 1.20089438e-10 8.62722810e-11\n",
      "  9.51908774e-10 2.07134143e-10 9.79332837e-10 1.45592383e-09\n",
      "  2.55962945e-10 2.72238010e-09 2.26152930e-10 2.38509518e-10\n",
      "  2.28819515e-11 1.71497982e-10 6.66877353e-09 3.16909194e-07\n",
      "  6.57650068e-09 6.87849111e-10 1.61910155e-11 1.87914372e-11\n",
      "  5.35439248e-09 2.37523725e-08 4.12452209e-07 1.00456499e-09\n",
      "  1.36873508e-08 7.54708829e-09 5.51275414e-11 5.06997555e-10\n",
      "  2.03292649e-09 3.43349105e-09 3.21130289e-10 3.30005911e-10\n",
      "  2.73720092e-11 2.82390333e-09 1.09088752e-10 1.46864687e-10\n",
      "  7.26718200e-11 4.27059221e-11 7.32619104e-11 1.18902679e-10\n",
      "  2.79132339e-09 2.04848005e-09 1.97045394e-10 4.75924244e-10\n",
      "  1.01859365e-09 1.49822266e-09 3.15921247e-11 1.91872365e-10\n",
      "  7.58513918e-10 5.26334032e-10 1.58885627e-09 1.43696937e-07\n",
      "  1.07073655e-11 1.31443978e-09 2.44855158e-08 2.91464963e-09\n",
      "  8.15541501e-09 1.48557717e-07 1.27728242e-07 6.01360739e-10\n",
      "  7.90741073e-09 4.00906752e-10 6.97452263e-10 1.89164476e-10\n",
      "  1.81376709e-08 1.44120662e-08 2.82432744e-10 7.73206299e-09\n",
      "  3.59542751e-09 8.17997892e-10 7.58917651e-10 4.02208435e-08\n",
      "  1.50878934e-10 9.82168680e-10 4.33137481e-09 3.51621487e-09\n",
      "  1.70363432e-10 2.36870541e-11 1.23737187e-09 4.49116716e-10\n",
      "  7.86979459e-09 6.55356081e-09 8.05167488e-09 3.10406079e-09\n",
      "  3.44168694e-09 1.48908064e-09 6.30363983e-09 3.80848478e-11\n",
      "  5.74508704e-11 3.28294530e-10 2.24721075e-10 3.34380630e-08\n",
      "  5.27659583e-11 3.55065810e-10 1.97757100e-09 3.96615096e-09\n",
      "  3.10916248e-09 1.43913759e-09 3.42054229e-09 1.76107826e-11\n",
      "  4.11520575e-11 8.38409397e-10 8.09923406e-10 1.63263003e-09\n",
      "  6.49254317e-10 2.05806622e-10 1.05976339e-10 1.12946430e-10\n",
      "  2.21479124e-09 1.39410519e-08 9.44650469e-10 4.30021546e-10\n",
      "  2.49740333e-11 1.77500320e-10 4.81355178e-10 3.92701018e-08\n",
      "  2.13428608e-10 3.86762601e-11 3.87927107e-10 2.55458428e-08\n",
      "  1.52947082e-11 1.32175770e-10 1.62437086e-09 4.10181368e-11\n",
      "  1.53775346e-07 8.19251264e-11 6.73087530e-10 1.82544639e-11\n",
      "  3.97588129e-10 1.99581171e-10 2.31681763e-09 4.19822233e-10\n",
      "  7.03224545e-09 4.82987365e-11 6.01815699e-08 9.71596692e-10\n",
      "  6.04140325e-07 2.34675479e-08 8.06940834e-11 4.76996842e-09\n",
      "  1.15136869e-08 2.62940758e-09 1.69509118e-09 3.93232957e-09\n",
      "  8.61646865e-12 1.59295876e-09 4.54322624e-09 8.74408601e-11\n",
      "  3.92072108e-09 9.20369614e-11 1.36687092e-10 4.25359581e-10\n",
      "  4.66061465e-07 1.14307674e-10 1.10263609e-09 1.59755768e-11\n",
      "  4.68251082e-09 1.62577410e-10 5.32241806e-10 5.07567073e-08\n",
      "  8.58106752e-10 3.75776632e-11 1.48405332e-09 1.34052783e-10\n",
      "  7.05034225e-11 1.67629521e-09 2.64922910e-11 9.04698400e-11\n",
      "  3.18139080e-08 1.07167684e-10 3.20761480e-08 4.96310726e-08\n",
      "  5.40829659e-10 6.74479306e-10 7.16220583e-10 1.33320910e-07\n",
      "  1.75995746e-10 4.36373472e-11 3.74925024e-09 1.30478172e-11\n",
      "  5.08648818e-11 5.72861403e-09 1.52523072e-09 1.69418364e-08\n",
      "  1.44812773e-09 7.84385445e-09 5.05614170e-12 5.56104363e-09\n",
      "  5.31288402e-10 3.26875582e-10 1.51689189e-10 3.55792562e-10\n",
      "  3.48073046e-12 4.78126552e-08 5.80915142e-11 1.51804169e-09\n",
      "  7.14921233e-10 8.02869826e-10 1.67774739e-09 1.50785539e-07\n",
      "  2.26565366e-09 1.36829706e-11 2.53899968e-09 3.98568373e-10\n",
      "  4.64318722e-11 4.75499584e-10 2.17227868e-11 1.19669696e-09\n",
      "  6.78921199e-12 1.31543734e-10 1.68118230e-08 9.91223814e-08\n",
      "  3.87930625e-11 1.53871117e-11 1.46027287e-10 8.16857346e-12\n",
      "  7.85175369e-10 3.56811275e-10 3.36925154e-06 1.14553922e-09\n",
      "  3.46703138e-10 1.09165760e-10 1.82212075e-11 7.31362609e-11\n",
      "  9.43717660e-10 9.63478630e-10 1.28681277e-09 6.08475423e-12\n",
      "  6.91938840e-10 8.19141199e-09 3.70441833e-09 6.93718221e-08\n",
      "  4.76616691e-07 2.17054530e-09 1.06494057e-10 4.78853401e-10\n",
      "  1.14627206e-08 4.74991487e-12 2.49134671e-11 1.21071434e-11\n",
      "  6.57727137e-11 3.03822079e-10 1.94152142e-11 3.93857480e-09\n",
      "  1.00991149e-09 4.24170432e-09 1.21422013e-11 4.43583892e-10\n",
      "  2.02922372e-08 1.27920219e-09 4.86360896e-10 7.60697338e-10\n",
      "  3.54945495e-09 3.40181217e-08 6.12574991e-10 5.88668447e-10\n",
      "  7.59405316e-11 5.69144558e-12 3.40450917e-10 2.30666625e-10\n",
      "  4.87144436e-10 3.65929864e-09 1.05201687e-08 1.42804515e-08\n",
      "  4.59585758e-10 5.01335695e-10 3.45578843e-10 4.91827412e-10\n",
      "  9.53566559e-09 7.37955808e-10 5.59901257e-11 3.65022967e-09\n",
      "  9.15051146e-09 4.88531082e-09 1.61748979e-08 6.42398446e-09\n",
      "  9.73518002e-11 2.27723558e-06 2.80837881e-10 3.62224278e-10\n",
      "  4.61427829e-09 1.87034210e-09 1.24409971e-09 5.21743786e-08\n",
      "  3.34154621e-10 1.10338727e-09 2.03753876e-12 6.49408261e-09\n",
      "  1.11829235e-09 1.45427617e-08 7.62755747e-07 8.28594193e-10\n",
      "  7.97868716e-10 1.48477189e-10 1.32613129e-10 2.56283293e-11\n",
      "  2.54891608e-10 5.25097431e-11 8.36746850e-09 1.45219017e-10\n",
      "  2.24882293e-10 3.77424278e-08 1.67390143e-10 1.34602537e-11\n",
      "  3.94798166e-10 6.71112110e-10 1.67643829e-10 1.11908295e-11\n",
      "  9.07782044e-11 5.62217009e-11 1.75693238e-10 1.98203343e-10\n",
      "  9.56105328e-09 4.18326085e-09 1.71673820e-09 8.41260325e-11\n",
      "  1.47227897e-10 1.07374660e-08 5.45645640e-10 1.62689020e-07\n",
      "  7.01772668e-11 7.88871546e-09 1.18073995e-09 4.83479756e-10\n",
      "  9.94361038e-09 6.91718185e-07 2.72153389e-09 4.54668481e-09\n",
      "  1.56388924e-09 6.56750931e-10 7.29020799e-09 4.89950247e-10\n",
      "  3.74458187e-10 1.14149011e-11 3.79730886e-10 7.87741286e-08\n",
      "  4.41843149e-08 9.88345739e-10 3.26590954e-09 1.08701805e-10\n",
      "  1.79532456e-09 1.27434813e-10 1.75358625e-08 1.40974699e-09\n",
      "  1.60534086e-07 7.62203811e-09 7.26687475e-08 6.49729204e-09\n",
      "  6.99639957e-10 1.41793965e-09 3.52150670e-11 2.91171420e-10\n",
      "  9.35223166e-12 6.61868160e-09 1.75641640e-10 2.61220690e-09\n",
      "  7.45056017e-09 4.07098188e-10 3.22969562e-09 4.37246628e-11\n",
      "  5.26227617e-10 6.49942322e-09 4.21023660e-09 5.66113656e-10\n",
      "  1.21393303e-11 4.29913527e-09 3.20567295e-10 3.70788222e-09\n",
      "  1.27699606e-09 5.05358949e-11 8.26180582e-08 4.27482355e-10\n",
      "  4.91811930e-12 4.70748831e-12 7.01760983e-10 7.47162154e-09\n",
      "  5.37157021e-08 1.72438774e-09 6.15159390e-09 2.52410731e-10\n",
      "  5.99856889e-07 7.04762247e-12 3.16350235e-09 6.48064491e-09\n",
      "  2.39085374e-09 1.64817007e-10 3.01515653e-11 8.28671631e-10\n",
      "  1.36241098e-08 2.66715450e-09 1.85994811e-08 2.36658280e-11\n",
      "  9.82774573e-09 8.70922001e-10 8.03098033e-10 8.39067305e-09\n",
      "  1.64974718e-08 1.08088285e-08 9.05978847e-09 6.92862920e-11\n",
      "  1.31304842e-10 1.21066932e-07 2.21628738e-09 2.84828339e-09\n",
      "  7.12152399e-08 1.04616683e-10 1.02166586e-09 6.54445476e-09\n",
      "  1.33516920e-10 2.16356000e-09 1.40035734e-08 5.00521846e-09\n",
      "  7.26000926e-10 4.13270556e-08 1.86712001e-09 2.51348969e-10\n",
      "  1.19769585e-11 1.13816429e-10 2.71907857e-10 5.79245540e-11\n",
      "  4.04746459e-08 8.78254691e-11 1.34816436e-09 9.38851705e-11\n",
      "  1.08230158e-09 1.46101103e-10 2.54743600e-12 2.65689165e-10\n",
      "  3.84155612e-07 1.84827154e-11 1.79244697e-09 4.22602975e-09\n",
      "  6.20941243e-10 2.59165467e-10 5.62120794e-10 2.14729357e-06\n",
      "  4.52065468e-10 5.85057736e-09 1.60870997e-10 2.28271221e-10\n",
      "  3.59085092e-12 3.82809201e-10 1.11417639e-10 3.27649574e-10\n",
      "  4.31641434e-09 1.00316672e-10 1.43396364e-10 4.67894404e-11\n",
      "  9.88148230e-09 5.91219651e-09 3.20133182e-08 7.71413937e-08\n",
      "  3.95513240e-11 5.90321292e-10 1.71619234e-08 1.90100624e-09\n",
      "  3.42032513e-10 3.02416620e-10 1.01788238e-10 1.51292312e-08\n",
      "  2.44834240e-11 1.30791500e-09 2.00751540e-08 8.30121127e-09\n",
      "  1.90526692e-10 4.95749899e-11 3.60379990e-11 3.88153433e-11\n",
      "  3.25963789e-08 9.17925805e-11 1.06738796e-08 5.20726184e-10\n",
      "  1.83674298e-09 1.77089210e-09 3.67498743e-09 1.36348788e-07\n",
      "  1.01120721e-08 7.62756436e-09 4.69099204e-10 1.01226427e-09\n",
      "  1.09018767e-08 3.63017278e-08 1.44346179e-09 6.24259489e-09\n",
      "  9.64666458e-10 3.35222117e-09 1.62566508e-07 4.20186375e-08\n",
      "  4.63043257e-08 2.44510534e-06 1.71182144e-08 1.34939764e-04\n",
      "  3.68514447e-05 7.34959394e-05 2.81782650e-05 3.58339412e-06\n",
      "  1.48362474e-07 7.89317128e-05 1.64351754e-10 6.71537492e-09\n",
      "  2.77810359e-05 2.56134740e-07 7.70464467e-05 1.41207172e-04\n",
      "  6.28330672e-05 3.62660899e-06 9.99302745e-01 1.79153380e-06\n",
      "  9.45902769e-08 1.81534529e-06 4.31125101e-11 2.37656526e-08\n",
      "  6.52188747e-09 4.25495084e-10 1.21127329e-07 7.23348118e-11\n",
      "  1.02805808e-09 1.28885902e-09 1.27646826e-08 5.51718560e-10\n",
      "  1.76761375e-07 1.60319811e-08 7.83361986e-11 1.43416679e-09\n",
      "  8.69247507e-10 2.88399554e-10 1.21406270e-11 1.46896706e-09\n",
      "  8.58553229e-11 7.82555964e-10 1.26715505e-09 8.43261988e-11\n",
      "  4.12003556e-11 7.97997259e-12 4.58710639e-11 1.17787363e-10\n",
      "  4.16158308e-09 6.31851833e-07 2.74615246e-08 1.71136776e-06\n",
      "  4.54965630e-07 5.38089111e-08 1.51779052e-08 1.79778912e-08\n",
      "  1.57350785e-10 2.17562163e-10 2.54706950e-10 8.58188576e-10\n",
      "  3.89618737e-09 9.80224346e-10 9.55881561e-08 1.23516930e-09]]\n"
     ]
    }
   ],
   "source": [
    "import numpy as np #이미지 사이즈 일치\n",
    "from imageio import imread\n",
    "from skimage.transform import resize\n",
    "from keras.models import model_from_json\n",
    "img_names=['cat.jpg','dog.jpg']\n",
    "imgs=[resize(imread(img_name),(32,32)).astype('float32') for img_name in img_names]\n",
    "imgs=np.array(imgs)\n",
    "predicions=model.predict_classes(imgs)\n",
    "print(predictions)\n"
   ]
  },
  {
   "cell_type": "code",
   "execution_count": null,
   "metadata": {},
   "outputs": [],
   "source": [
    "#전이 (transfer learning ) 학습Application\n",
    "반지도 학습 (일부데이터 라빌이 없음):knn, Trenductive SVM\n",
    "가중치 활용: 그대로 적용\n",
    "가중치 중 일부만 활용\n",
    "가중치는 그대로 두고 FFNN부분만 학습해서 사용하기"
   ]
  },
  {
   "cell_type": "code",
   "execution_count": null,
   "metadata": {},
   "outputs": [],
   "source": [
    "pre-trained model ,fine-tuning:FFNN 부분만 domain knowledge"
   ]
  },
  {
   "cell_type": "code",
   "execution_count": 18,
   "metadata": {},
   "outputs": [
    {
     "name": "stdout",
     "output_type": "stream",
     "text": [
      "PIL image size (224, 224)\n"
     ]
    },
    {
     "data": {
      "image/png": "[encoded data removed]",
      "text/plain": [
       "<Figure size 432x288 with 1 Axes>"
      ]
     },
     "metadata": {
      "needs_background": "light"
     },
     "output_type": "display_data"
    },
    {
     "name": "stdout",
     "output_type": "stream",
     "text": [
      "numpy array size (224, 224, 3)\n",
      "image array size (1, 224, 224, 3)\n",
      "[[('n07753592', 'banana', 0.99930274), ('n07749582', 'lemon', 0.00014120717), ('n07716358', 'zucchini', 0.00013493976), ('n07720875', 'bell_pepper', 7.893171e-05), ('n07747607', 'orange', 7.704645e-05)]]\n"
     ]
    },
    {
     "data": {
      "image/png": "[encoded data removed]",
      "text/plain": [
       "<Figure size 432x288 with 1 Axes>"
      ]
     },
     "metadata": {
      "needs_background": "light"
     },
     "output_type": "display_data"
    }
   ],
   "source": [
    "import PIL\n",
    "from keras.preprocessing.image import load_img, img_to_array\n",
    "from keras.applications.imagenet_utils import decode_predictions\n",
    "import numpy as np\n",
    "from keras.applications.resnet50 import ResNet50\n",
    "from keras.applications import resnet50\n",
    "filename = 'banana.jpg'\n",
    "original = load_img(filename, target_size=(224,224))\n",
    "print('PIL image size', original.size)\n",
    "plt.imshow(original)\n",
    "plt.show()\n",
    "numpy_image = img_to_array(original)\n",
    "plt.imshow(np.uint8(numpy_image))\n",
    "print('numpy array size' , numpy_image.shape)\n",
    "\n",
    "#차원확대 :여러장 처리\n",
    "#1장 (3차원->4차원 으로 확장)\n",
    "image_batch=np.expand_dims(numpy_image, axis=0)\n",
    "print('image array size' , image_batch.shape)\n",
    "#prepare the image for the resnet50 model\n",
    "precessed_image = resnet50.preprocess_input(image_batch.copy())\n",
    "#dense 을 이용하여 모델을 생성\n",
    "#라벨->확률:\n",
    "resnet_model = resnet50.ResNet50(weights = 'imagenet')\n",
    "predictions = resnet_model.predict(precessed_image)\n",
    "label = decode_predictions(predictions)\n",
    "print(label)"
   ]
  },
  {
   "cell_type": "code",
   "execution_count": 19,
   "metadata": {},
   "outputs": [
    {
     "name": "stdout",
     "output_type": "stream",
     "text": [
      "[[('n07753592', 'banana', 0.99930274), ('n07749582', 'lemon', 0.00014120717), ('n07716358', 'zucchini', 0.00013493976)]]\n"
     ]
    }
   ],
   "source": [
    "label = decode_predictions(predictions,top=3)\n",
    "print(label)"
   ]
  },
  {
   "cell_type": "code",
   "execution_count": null,
   "metadata": {},
   "outputs": [],
   "source": [
    "#ft."
   ]
  },
  {
   "cell_type": "code",
   "execution_count": 60,
   "metadata": {},
   "outputs": [],
   "source": [
    "from numpy.random import randn\n",
    "import pathlib\n",
    "import random\n",
    "import matplotlib.pyplot as plt\n",
    "import tensorflow as tf\n",
    "import numpy as np\n",
    "from matplotlib.image import imread\n",
    "from keras.preprocessing import image\n",
    "# tf.enable_eager_execution()  -> 2.0 이 아닌경우 맨처음에 실행해줘야한다\n",
    "AUTOTUNE = tf.data.experimental.AUTOTUNE"
   ]
  },
  {
   "cell_type": "code",
   "execution_count": 64,
   "metadata": {},
   "outputs": [
    {
     "ename": "SyntaxError",
     "evalue": "(unicode error) 'unicodeescape' codec can't decode bytes in position 2-3: truncated \\UXXXXXXXX escape (<ipython-input-64-ee13b3b43192>, line 1)",
     "output_type": "error",
     "traceback": [
      "\u001b[1;36m  File \u001b[1;32m\"<ipython-input-64-ee13b3b43192>\"\u001b[1;36m, line \u001b[1;32m1\u001b[0m\n\u001b[1;33m    data_dir = 'C:\\Users\\ICT01_23\\Documents\\Python\\케라스\\전달\\flowers\\flower_photos'\u001b[0m\n\u001b[1;37m              ^\u001b[0m\n\u001b[1;31mSyntaxError\u001b[0m\u001b[1;31m:\u001b[0m (unicode error) 'unicodeescape' codec can't decode bytes in position 2-3: truncated \\UXXXXXXXX escape\n"
     ]
    }
   ],
   "source": [
    "data_dir = 'C:\\Users\\ICT01_23\\Documents\\Python\\케라스\\전달\\flowers\\flower_photos'\n",
    "data_dir = pathlib.Path(data_dir)\n",
    "label_names= {'daisy':0, 'dandelion':1, 'roses':2, 'sunflowers':3, 'tulips':4}\n",
    "label_key = ['daisy','dandelion','roses','sunflowers','tulips']"
   ]
  },
  {
   "cell_type": "code",
   "execution_count": 62,
   "metadata": {},
   "outputs": [],
   "source": [
    "all_images = list(data_dir.glob(\"*/*\"))\n",
    "all_images = [str(path) for path in all_images]\n",
    "random.shuffle(all_images)"
   ]
  },
  {
   "cell_type": "code",
   "execution_count": 63,
   "metadata": {},
   "outputs": [
    {
     "name": "stdout",
     "output_type": "stream",
     "text": [
      "WARNING:tensorflow:From C:\\Users\\ICT01_23\\Anaconda3\\lib\\site-packages\\tensorflow_core\\python\\autograph\\converters\\directives.py:119: The name tf.read_file is deprecated. Please use tf.io.read_file instead.\n",
      "\n"
     ]
    },
    {
     "ename": "TypeError",
     "evalue": "in converted code:\n\n    <ipython-input-63-a9b414d677ea>:2 _parse_data  *\n        image = tf.read_file(x)\n    C:\\Users\\ICT01_23\\Anaconda3\\lib\\site-packages\\tensorflow_core\\python\\ops\\gen_io_ops.py:626 read_file\n        \"ReadFile\", filename=filename, name=name)\n    C:\\Users\\ICT01_23\\Anaconda3\\lib\\site-packages\\tensorflow_core\\python\\framework\\op_def_library.py:551 _apply_op_helper\n        (prefix, dtypes.as_dtype(input_arg.type).name))\n\n    TypeError: Input 'filename' of 'ReadFile' Op has type float32 that does not match expected type of string.\n",
     "output_type": "error",
     "traceback": [
      "\u001b[1;31m---------------------------------------------------------------------------\u001b[0m",
      "\u001b[1;31mTypeError\u001b[0m                                 Traceback (most recent call last)",
      "\u001b[1;32m<ipython-input-63-a9b414d677ea>\u001b[0m in \u001b[0;36m<module>\u001b[1;34m\u001b[0m\n\u001b[0;32m     14\u001b[0m     \u001b[0mds\u001b[0m \u001b[1;33m=\u001b[0m \u001b[0mds\u001b[0m\u001b[1;33m.\u001b[0m\u001b[0mprefetch\u001b[0m\u001b[1;33m(\u001b[0m\u001b[0mbuffer_size\u001b[0m\u001b[1;33m=\u001b[0m\u001b[0mAUTOTUNE\u001b[0m\u001b[1;33m)\u001b[0m\u001b[1;33m\u001b[0m\u001b[1;33m\u001b[0m\u001b[0m\n\u001b[0;32m     15\u001b[0m     \u001b[1;32mreturn\u001b[0m \u001b[0mds\u001b[0m\u001b[1;33m\u001b[0m\u001b[1;33m\u001b[0m\u001b[0m\n\u001b[1;32m---> 16\u001b[1;33m \u001b[0mtrain_ds\u001b[0m \u001b[1;33m=\u001b[0m \u001b[0m_input_fn\u001b[0m\u001b[1;33m(\u001b[0m\u001b[0mx_train\u001b[0m\u001b[1;33m,\u001b[0m\u001b[0my_train\u001b[0m\u001b[1;33m)\u001b[0m\u001b[1;33m\u001b[0m\u001b[1;33m\u001b[0m\u001b[0m\n\u001b[0m\u001b[0;32m     17\u001b[0m \u001b[0mvalidation_ds\u001b[0m \u001b[1;33m=\u001b[0m \u001b[0m_input_fn\u001b[0m\u001b[1;33m(\u001b[0m\u001b[0mx_test\u001b[0m\u001b[1;33m,\u001b[0m \u001b[0my_test\u001b[0m\u001b[1;33m)\u001b[0m\u001b[1;33m\u001b[0m\u001b[1;33m\u001b[0m\u001b[0m\n",
      "\u001b[1;32m<ipython-input-63-a9b414d677ea>\u001b[0m in \u001b[0;36m_input_fn\u001b[1;34m(x, y)\u001b[0m\n\u001b[0;32m      8\u001b[0m \u001b[1;32mdef\u001b[0m \u001b[0m_input_fn\u001b[0m\u001b[1;33m(\u001b[0m\u001b[0mx\u001b[0m\u001b[1;33m,\u001b[0m\u001b[0my\u001b[0m\u001b[1;33m)\u001b[0m\u001b[1;33m:\u001b[0m\u001b[1;33m\u001b[0m\u001b[1;33m\u001b[0m\u001b[0m\n\u001b[0;32m      9\u001b[0m     \u001b[0mds\u001b[0m \u001b[1;33m=\u001b[0m \u001b[0mtf\u001b[0m\u001b[1;33m.\u001b[0m\u001b[0mdata\u001b[0m\u001b[1;33m.\u001b[0m\u001b[0mDataset\u001b[0m\u001b[1;33m.\u001b[0m\u001b[0mfrom_tensor_slices\u001b[0m\u001b[1;33m(\u001b[0m\u001b[1;33m(\u001b[0m\u001b[0mx\u001b[0m\u001b[1;33m,\u001b[0m\u001b[0my\u001b[0m\u001b[1;33m)\u001b[0m\u001b[1;33m)\u001b[0m\u001b[1;33m\u001b[0m\u001b[1;33m\u001b[0m\u001b[0m\n\u001b[1;32m---> 10\u001b[1;33m     \u001b[0mds\u001b[0m \u001b[1;33m=\u001b[0m \u001b[0mds\u001b[0m\u001b[1;33m.\u001b[0m\u001b[0mmap\u001b[0m\u001b[1;33m(\u001b[0m\u001b[0m_parse_data\u001b[0m\u001b[1;33m)\u001b[0m\u001b[1;33m\u001b[0m\u001b[1;33m\u001b[0m\u001b[0m\n\u001b[0m\u001b[0;32m     11\u001b[0m     \u001b[0mds\u001b[0m \u001b[1;33m=\u001b[0m \u001b[0mds\u001b[0m\u001b[1;33m.\u001b[0m\u001b[0mshuffle\u001b[0m\u001b[1;33m(\u001b[0m\u001b[0mbuffer_size\u001b[0m\u001b[1;33m=\u001b[0m\u001b[0mdata_size\u001b[0m\u001b[1;33m)\u001b[0m\u001b[1;33m\u001b[0m\u001b[1;33m\u001b[0m\u001b[0m\n\u001b[0;32m     12\u001b[0m     \u001b[0mds\u001b[0m \u001b[1;33m=\u001b[0m \u001b[0mds\u001b[0m\u001b[1;33m.\u001b[0m\u001b[0mrepeat\u001b[0m\u001b[1;33m(\u001b[0m\u001b[1;33m)\u001b[0m\u001b[1;33m\u001b[0m\u001b[1;33m\u001b[0m\u001b[0m\n",
      "\u001b[1;32m~\\Anaconda3\\lib\\site-packages\\tensorflow_core\\python\\data\\ops\\dataset_ops.py\u001b[0m in \u001b[0;36mmap\u001b[1;34m(self, map_func, num_parallel_calls)\u001b[0m\n\u001b[0;32m   1907\u001b[0m     \u001b[1;32mif\u001b[0m \u001b[0mnum_parallel_calls\u001b[0m \u001b[1;32mis\u001b[0m \u001b[1;32mNone\u001b[0m\u001b[1;33m:\u001b[0m\u001b[1;33m\u001b[0m\u001b[1;33m\u001b[0m\u001b[0m\n\u001b[0;32m   1908\u001b[0m       return DatasetV1Adapter(\n\u001b[1;32m-> 1909\u001b[1;33m           MapDataset(self, map_func, preserve_cardinality=False))\n\u001b[0m\u001b[0;32m   1910\u001b[0m     \u001b[1;32melse\u001b[0m\u001b[1;33m:\u001b[0m\u001b[1;33m\u001b[0m\u001b[1;33m\u001b[0m\u001b[0m\n\u001b[0;32m   1911\u001b[0m       return DatasetV1Adapter(\n",
      "\u001b[1;32m~\\Anaconda3\\lib\\site-packages\\tensorflow_core\\python\\data\\ops\\dataset_ops.py\u001b[0m in \u001b[0;36m__init__\u001b[1;34m(self, input_dataset, map_func, use_inter_op_parallelism, preserve_cardinality, use_legacy_function)\u001b[0m\n\u001b[0;32m   3432\u001b[0m         \u001b[0mself\u001b[0m\u001b[1;33m.\u001b[0m\u001b[0m_transformation_name\u001b[0m\u001b[1;33m(\u001b[0m\u001b[1;33m)\u001b[0m\u001b[1;33m,\u001b[0m\u001b[1;33m\u001b[0m\u001b[1;33m\u001b[0m\u001b[0m\n\u001b[0;32m   3433\u001b[0m         \u001b[0mdataset\u001b[0m\u001b[1;33m=\u001b[0m\u001b[0minput_dataset\u001b[0m\u001b[1;33m,\u001b[0m\u001b[1;33m\u001b[0m\u001b[1;33m\u001b[0m\u001b[0m\n\u001b[1;32m-> 3434\u001b[1;33m         use_legacy_function=use_legacy_function)\n\u001b[0m\u001b[0;32m   3435\u001b[0m     variant_tensor = gen_dataset_ops.map_dataset(\n\u001b[0;32m   3436\u001b[0m         \u001b[0minput_dataset\u001b[0m\u001b[1;33m.\u001b[0m\u001b[0m_variant_tensor\u001b[0m\u001b[1;33m,\u001b[0m  \u001b[1;31m# pylint: disable=protected-access\u001b[0m\u001b[1;33m\u001b[0m\u001b[1;33m\u001b[0m\u001b[0m\n",
      "\u001b[1;32m~\\Anaconda3\\lib\\site-packages\\tensorflow_core\\python\\data\\ops\\dataset_ops.py\u001b[0m in \u001b[0;36m__init__\u001b[1;34m(self, func, transformation_name, dataset, input_classes, input_shapes, input_types, input_structure, add_to_graph, use_legacy_function, defun_kwargs)\u001b[0m\n\u001b[0;32m   2711\u001b[0m       \u001b[0mresource_tracker\u001b[0m \u001b[1;33m=\u001b[0m \u001b[0mtracking\u001b[0m\u001b[1;33m.\u001b[0m\u001b[0mResourceTracker\u001b[0m\u001b[1;33m(\u001b[0m\u001b[1;33m)\u001b[0m\u001b[1;33m\u001b[0m\u001b[1;33m\u001b[0m\u001b[0m\n\u001b[0;32m   2712\u001b[0m       \u001b[1;32mwith\u001b[0m \u001b[0mtracking\u001b[0m\u001b[1;33m.\u001b[0m\u001b[0mresource_tracker_scope\u001b[0m\u001b[1;33m(\u001b[0m\u001b[0mresource_tracker\u001b[0m\u001b[1;33m)\u001b[0m\u001b[1;33m:\u001b[0m\u001b[1;33m\u001b[0m\u001b[1;33m\u001b[0m\u001b[0m\n\u001b[1;32m-> 2713\u001b[1;33m         \u001b[0mself\u001b[0m\u001b[1;33m.\u001b[0m\u001b[0m_function\u001b[0m \u001b[1;33m=\u001b[0m \u001b[0mwrapper_fn\u001b[0m\u001b[1;33m.\u001b[0m\u001b[0m_get_concrete_function_internal\u001b[0m\u001b[1;33m(\u001b[0m\u001b[1;33m)\u001b[0m\u001b[1;33m\u001b[0m\u001b[1;33m\u001b[0m\u001b[0m\n\u001b[0m\u001b[0;32m   2714\u001b[0m         \u001b[1;32mif\u001b[0m \u001b[0madd_to_graph\u001b[0m\u001b[1;33m:\u001b[0m\u001b[1;33m\u001b[0m\u001b[1;33m\u001b[0m\u001b[0m\n\u001b[0;32m   2715\u001b[0m           \u001b[0mself\u001b[0m\u001b[1;33m.\u001b[0m\u001b[0m_function\u001b[0m\u001b[1;33m.\u001b[0m\u001b[0madd_to_graph\u001b[0m\u001b[1;33m(\u001b[0m\u001b[0mops\u001b[0m\u001b[1;33m.\u001b[0m\u001b[0mget_default_graph\u001b[0m\u001b[1;33m(\u001b[0m\u001b[1;33m)\u001b[0m\u001b[1;33m)\u001b[0m\u001b[1;33m\u001b[0m\u001b[1;33m\u001b[0m\u001b[0m\n",
      "\u001b[1;32m~\\Anaconda3\\lib\\site-packages\\tensorflow_core\\python\\eager\\function.py\u001b[0m in \u001b[0;36m_get_concrete_function_internal\u001b[1;34m(self, *args, **kwargs)\u001b[0m\n\u001b[0;32m   1851\u001b[0m     \u001b[1;34m\"\"\"Bypasses error checking when getting a graph function.\"\"\"\u001b[0m\u001b[1;33m\u001b[0m\u001b[1;33m\u001b[0m\u001b[0m\n\u001b[0;32m   1852\u001b[0m     graph_function = self._get_concrete_function_internal_garbage_collected(\n\u001b[1;32m-> 1853\u001b[1;33m         *args, **kwargs)\n\u001b[0m\u001b[0;32m   1854\u001b[0m     \u001b[1;31m# We're returning this concrete function to someone, and they may keep a\u001b[0m\u001b[1;33m\u001b[0m\u001b[1;33m\u001b[0m\u001b[1;33m\u001b[0m\u001b[0m\n\u001b[0;32m   1855\u001b[0m     \u001b[1;31m# reference to the FuncGraph without keeping a reference to the\u001b[0m\u001b[1;33m\u001b[0m\u001b[1;33m\u001b[0m\u001b[1;33m\u001b[0m\u001b[0m\n",
      "\u001b[1;32m~\\Anaconda3\\lib\\site-packages\\tensorflow_core\\python\\eager\\function.py\u001b[0m in \u001b[0;36m_get_concrete_function_internal_garbage_collected\u001b[1;34m(self, *args, **kwargs)\u001b[0m\n\u001b[0;32m   1845\u001b[0m     \u001b[1;32mif\u001b[0m \u001b[0mself\u001b[0m\u001b[1;33m.\u001b[0m\u001b[0minput_signature\u001b[0m\u001b[1;33m:\u001b[0m\u001b[1;33m\u001b[0m\u001b[1;33m\u001b[0m\u001b[0m\n\u001b[0;32m   1846\u001b[0m       \u001b[0margs\u001b[0m\u001b[1;33m,\u001b[0m \u001b[0mkwargs\u001b[0m \u001b[1;33m=\u001b[0m \u001b[1;32mNone\u001b[0m\u001b[1;33m,\u001b[0m \u001b[1;32mNone\u001b[0m\u001b[1;33m\u001b[0m\u001b[1;33m\u001b[0m\u001b[0m\n\u001b[1;32m-> 1847\u001b[1;33m     \u001b[0mgraph_function\u001b[0m\u001b[1;33m,\u001b[0m \u001b[0m_\u001b[0m\u001b[1;33m,\u001b[0m \u001b[0m_\u001b[0m \u001b[1;33m=\u001b[0m \u001b[0mself\u001b[0m\u001b[1;33m.\u001b[0m\u001b[0m_maybe_define_function\u001b[0m\u001b[1;33m(\u001b[0m\u001b[0margs\u001b[0m\u001b[1;33m,\u001b[0m \u001b[0mkwargs\u001b[0m\u001b[1;33m)\u001b[0m\u001b[1;33m\u001b[0m\u001b[1;33m\u001b[0m\u001b[0m\n\u001b[0m\u001b[0;32m   1848\u001b[0m     \u001b[1;32mreturn\u001b[0m \u001b[0mgraph_function\u001b[0m\u001b[1;33m\u001b[0m\u001b[1;33m\u001b[0m\u001b[0m\n\u001b[0;32m   1849\u001b[0m \u001b[1;33m\u001b[0m\u001b[0m\n",
      "\u001b[1;32m~\\Anaconda3\\lib\\site-packages\\tensorflow_core\\python\\eager\\function.py\u001b[0m in \u001b[0;36m_maybe_define_function\u001b[1;34m(self, args, kwargs)\u001b[0m\n\u001b[0;32m   2145\u001b[0m         \u001b[0mgraph_function\u001b[0m \u001b[1;33m=\u001b[0m \u001b[0mself\u001b[0m\u001b[1;33m.\u001b[0m\u001b[0m_function_cache\u001b[0m\u001b[1;33m.\u001b[0m\u001b[0mprimary\u001b[0m\u001b[1;33m.\u001b[0m\u001b[0mget\u001b[0m\u001b[1;33m(\u001b[0m\u001b[0mcache_key\u001b[0m\u001b[1;33m,\u001b[0m \u001b[1;32mNone\u001b[0m\u001b[1;33m)\u001b[0m\u001b[1;33m\u001b[0m\u001b[1;33m\u001b[0m\u001b[0m\n\u001b[0;32m   2146\u001b[0m         \u001b[1;32mif\u001b[0m \u001b[0mgraph_function\u001b[0m \u001b[1;32mis\u001b[0m \u001b[1;32mNone\u001b[0m\u001b[1;33m:\u001b[0m\u001b[1;33m\u001b[0m\u001b[1;33m\u001b[0m\u001b[0m\n\u001b[1;32m-> 2147\u001b[1;33m           \u001b[0mgraph_function\u001b[0m \u001b[1;33m=\u001b[0m \u001b[0mself\u001b[0m\u001b[1;33m.\u001b[0m\u001b[0m_create_graph_function\u001b[0m\u001b[1;33m(\u001b[0m\u001b[0margs\u001b[0m\u001b[1;33m,\u001b[0m \u001b[0mkwargs\u001b[0m\u001b[1;33m)\u001b[0m\u001b[1;33m\u001b[0m\u001b[1;33m\u001b[0m\u001b[0m\n\u001b[0m\u001b[0;32m   2148\u001b[0m           \u001b[0mself\u001b[0m\u001b[1;33m.\u001b[0m\u001b[0m_function_cache\u001b[0m\u001b[1;33m.\u001b[0m\u001b[0mprimary\u001b[0m\u001b[1;33m[\u001b[0m\u001b[0mcache_key\u001b[0m\u001b[1;33m]\u001b[0m \u001b[1;33m=\u001b[0m \u001b[0mgraph_function\u001b[0m\u001b[1;33m\u001b[0m\u001b[1;33m\u001b[0m\u001b[0m\n\u001b[0;32m   2149\u001b[0m         \u001b[1;32mreturn\u001b[0m \u001b[0mgraph_function\u001b[0m\u001b[1;33m,\u001b[0m \u001b[0margs\u001b[0m\u001b[1;33m,\u001b[0m \u001b[0mkwargs\u001b[0m\u001b[1;33m\u001b[0m\u001b[1;33m\u001b[0m\u001b[0m\n",
      "\u001b[1;32m~\\Anaconda3\\lib\\site-packages\\tensorflow_core\\python\\eager\\function.py\u001b[0m in \u001b[0;36m_create_graph_function\u001b[1;34m(self, args, kwargs, override_flat_arg_shapes)\u001b[0m\n\u001b[0;32m   2036\u001b[0m             \u001b[0marg_names\u001b[0m\u001b[1;33m=\u001b[0m\u001b[0marg_names\u001b[0m\u001b[1;33m,\u001b[0m\u001b[1;33m\u001b[0m\u001b[1;33m\u001b[0m\u001b[0m\n\u001b[0;32m   2037\u001b[0m             \u001b[0moverride_flat_arg_shapes\u001b[0m\u001b[1;33m=\u001b[0m\u001b[0moverride_flat_arg_shapes\u001b[0m\u001b[1;33m,\u001b[0m\u001b[1;33m\u001b[0m\u001b[1;33m\u001b[0m\u001b[0m\n\u001b[1;32m-> 2038\u001b[1;33m             capture_by_value=self._capture_by_value),\n\u001b[0m\u001b[0;32m   2039\u001b[0m         \u001b[0mself\u001b[0m\u001b[1;33m.\u001b[0m\u001b[0m_function_attributes\u001b[0m\u001b[1;33m,\u001b[0m\u001b[1;33m\u001b[0m\u001b[1;33m\u001b[0m\u001b[0m\n\u001b[0;32m   2040\u001b[0m         \u001b[1;31m# Tell the ConcreteFunction to clean up its graph once it goes out of\u001b[0m\u001b[1;33m\u001b[0m\u001b[1;33m\u001b[0m\u001b[1;33m\u001b[0m\u001b[0m\n",
      "\u001b[1;32m~\\Anaconda3\\lib\\site-packages\\tensorflow_core\\python\\framework\\func_graph.py\u001b[0m in \u001b[0;36mfunc_graph_from_py_func\u001b[1;34m(name, python_func, args, kwargs, signature, func_graph, autograph, autograph_options, add_control_dependencies, arg_names, op_return_value, collections, capture_by_value, override_flat_arg_shapes)\u001b[0m\n\u001b[0;32m    913\u001b[0m                                           converted_func)\n\u001b[0;32m    914\u001b[0m \u001b[1;33m\u001b[0m\u001b[0m\n\u001b[1;32m--> 915\u001b[1;33m       \u001b[0mfunc_outputs\u001b[0m \u001b[1;33m=\u001b[0m \u001b[0mpython_func\u001b[0m\u001b[1;33m(\u001b[0m\u001b[1;33m*\u001b[0m\u001b[0mfunc_args\u001b[0m\u001b[1;33m,\u001b[0m \u001b[1;33m**\u001b[0m\u001b[0mfunc_kwargs\u001b[0m\u001b[1;33m)\u001b[0m\u001b[1;33m\u001b[0m\u001b[1;33m\u001b[0m\u001b[0m\n\u001b[0m\u001b[0;32m    916\u001b[0m \u001b[1;33m\u001b[0m\u001b[0m\n\u001b[0;32m    917\u001b[0m       \u001b[1;31m# invariant: `func_outputs` contains only Tensors, CompositeTensors,\u001b[0m\u001b[1;33m\u001b[0m\u001b[1;33m\u001b[0m\u001b[1;33m\u001b[0m\u001b[0m\n",
      "\u001b[1;32m~\\Anaconda3\\lib\\site-packages\\tensorflow_core\\python\\data\\ops\\dataset_ops.py\u001b[0m in \u001b[0;36mwrapper_fn\u001b[1;34m(*args)\u001b[0m\n\u001b[0;32m   2705\u001b[0m           attributes=defun_kwargs)\n\u001b[0;32m   2706\u001b[0m       \u001b[1;32mdef\u001b[0m \u001b[0mwrapper_fn\u001b[0m\u001b[1;33m(\u001b[0m\u001b[1;33m*\u001b[0m\u001b[0margs\u001b[0m\u001b[1;33m)\u001b[0m\u001b[1;33m:\u001b[0m  \u001b[1;31m# pylint: disable=missing-docstring\u001b[0m\u001b[1;33m\u001b[0m\u001b[1;33m\u001b[0m\u001b[0m\n\u001b[1;32m-> 2707\u001b[1;33m         \u001b[0mret\u001b[0m \u001b[1;33m=\u001b[0m \u001b[0m_wrapper_helper\u001b[0m\u001b[1;33m(\u001b[0m\u001b[1;33m*\u001b[0m\u001b[0margs\u001b[0m\u001b[1;33m)\u001b[0m\u001b[1;33m\u001b[0m\u001b[1;33m\u001b[0m\u001b[0m\n\u001b[0m\u001b[0;32m   2708\u001b[0m         \u001b[0mret\u001b[0m \u001b[1;33m=\u001b[0m \u001b[0mstructure\u001b[0m\u001b[1;33m.\u001b[0m\u001b[0mto_tensor_list\u001b[0m\u001b[1;33m(\u001b[0m\u001b[0mself\u001b[0m\u001b[1;33m.\u001b[0m\u001b[0m_output_structure\u001b[0m\u001b[1;33m,\u001b[0m \u001b[0mret\u001b[0m\u001b[1;33m)\u001b[0m\u001b[1;33m\u001b[0m\u001b[1;33m\u001b[0m\u001b[0m\n\u001b[0;32m   2709\u001b[0m         \u001b[1;32mreturn\u001b[0m \u001b[1;33m[\u001b[0m\u001b[0mops\u001b[0m\u001b[1;33m.\u001b[0m\u001b[0mconvert_to_tensor\u001b[0m\u001b[1;33m(\u001b[0m\u001b[0mt\u001b[0m\u001b[1;33m)\u001b[0m \u001b[1;32mfor\u001b[0m \u001b[0mt\u001b[0m \u001b[1;32min\u001b[0m \u001b[0mret\u001b[0m\u001b[1;33m]\u001b[0m\u001b[1;33m\u001b[0m\u001b[1;33m\u001b[0m\u001b[0m\n",
      "\u001b[1;32m~\\Anaconda3\\lib\\site-packages\\tensorflow_core\\python\\data\\ops\\dataset_ops.py\u001b[0m in \u001b[0;36m_wrapper_helper\u001b[1;34m(*args)\u001b[0m\n\u001b[0;32m   2650\u001b[0m         \u001b[0mnested_args\u001b[0m \u001b[1;33m=\u001b[0m \u001b[1;33m(\u001b[0m\u001b[0mnested_args\u001b[0m\u001b[1;33m,\u001b[0m\u001b[1;33m)\u001b[0m\u001b[1;33m\u001b[0m\u001b[1;33m\u001b[0m\u001b[0m\n\u001b[0;32m   2651\u001b[0m \u001b[1;33m\u001b[0m\u001b[0m\n\u001b[1;32m-> 2652\u001b[1;33m       \u001b[0mret\u001b[0m \u001b[1;33m=\u001b[0m \u001b[0mautograph\u001b[0m\u001b[1;33m.\u001b[0m\u001b[0mtf_convert\u001b[0m\u001b[1;33m(\u001b[0m\u001b[0mfunc\u001b[0m\u001b[1;33m,\u001b[0m \u001b[0mag_ctx\u001b[0m\u001b[1;33m)\u001b[0m\u001b[1;33m(\u001b[0m\u001b[1;33m*\u001b[0m\u001b[0mnested_args\u001b[0m\u001b[1;33m)\u001b[0m\u001b[1;33m\u001b[0m\u001b[1;33m\u001b[0m\u001b[0m\n\u001b[0m\u001b[0;32m   2653\u001b[0m       \u001b[1;31m# If `func` returns a list of tensors, `nest.flatten()` and\u001b[0m\u001b[1;33m\u001b[0m\u001b[1;33m\u001b[0m\u001b[1;33m\u001b[0m\u001b[0m\n\u001b[0;32m   2654\u001b[0m       \u001b[1;31m# `ops.convert_to_tensor()` would conspire to attempt to stack\u001b[0m\u001b[1;33m\u001b[0m\u001b[1;33m\u001b[0m\u001b[1;33m\u001b[0m\u001b[0m\n",
      "\u001b[1;32m~\\Anaconda3\\lib\\site-packages\\tensorflow_core\\python\\autograph\\impl\\api.py\u001b[0m in \u001b[0;36mwrapper\u001b[1;34m(*args, **kwargs)\u001b[0m\n\u001b[0;32m    235\u001b[0m       \u001b[1;32mexcept\u001b[0m \u001b[0mException\u001b[0m \u001b[1;32mas\u001b[0m \u001b[0me\u001b[0m\u001b[1;33m:\u001b[0m  \u001b[1;31m# pylint:disable=broad-except\u001b[0m\u001b[1;33m\u001b[0m\u001b[1;33m\u001b[0m\u001b[0m\n\u001b[0;32m    236\u001b[0m         \u001b[1;32mif\u001b[0m \u001b[0mhasattr\u001b[0m\u001b[1;33m(\u001b[0m\u001b[0me\u001b[0m\u001b[1;33m,\u001b[0m \u001b[1;34m'ag_error_metadata'\u001b[0m\u001b[1;33m)\u001b[0m\u001b[1;33m:\u001b[0m\u001b[1;33m\u001b[0m\u001b[1;33m\u001b[0m\u001b[0m\n\u001b[1;32m--> 237\u001b[1;33m           \u001b[1;32mraise\u001b[0m \u001b[0me\u001b[0m\u001b[1;33m.\u001b[0m\u001b[0mag_error_metadata\u001b[0m\u001b[1;33m.\u001b[0m\u001b[0mto_exception\u001b[0m\u001b[1;33m(\u001b[0m\u001b[0me\u001b[0m\u001b[1;33m)\u001b[0m\u001b[1;33m\u001b[0m\u001b[1;33m\u001b[0m\u001b[0m\n\u001b[0m\u001b[0;32m    238\u001b[0m         \u001b[1;32melse\u001b[0m\u001b[1;33m:\u001b[0m\u001b[1;33m\u001b[0m\u001b[1;33m\u001b[0m\u001b[0m\n\u001b[0;32m    239\u001b[0m           \u001b[1;32mraise\u001b[0m\u001b[1;33m\u001b[0m\u001b[1;33m\u001b[0m\u001b[0m\n",
      "\u001b[1;31mTypeError\u001b[0m: in converted code:\n\n    <ipython-input-63-a9b414d677ea>:2 _parse_data  *\n        image = tf.read_file(x)\n    C:\\Users\\ICT01_23\\Anaconda3\\lib\\site-packages\\tensorflow_core\\python\\ops\\gen_io_ops.py:626 read_file\n        \"ReadFile\", filename=filename, name=name)\n    C:\\Users\\ICT01_23\\Anaconda3\\lib\\site-packages\\tensorflow_core\\python\\framework\\op_def_library.py:551 _apply_op_helper\n        (prefix, dtypes.as_dtype(input_arg.type).name))\n\n    TypeError: Input 'filename' of 'ReadFile' Op has type float32 that does not match expected type of string.\n"
     ]
    }
   ],
   "source": [
    "def _parse_data(x,y):\n",
    "    image = tf.read_file(x)\n",
    "    image = tf.image.decode_jpeg(image, channels= 3)\n",
    "    image = tf.cast(image,tf.float32)\n",
    "    image = (image/127.5) -1 \n",
    "    image = tf.image.resize(image, (IMG_SIZE, IMG_SIZE))\n",
    "    return image,y \n",
    "def _input_fn(x,y):\n",
    "    ds = tf.data.Dataset.from_tensor_slices((x,y))\n",
    "    ds = ds.map(_parse_data)\n",
    "    ds = ds.shuffle(buffer_size=data_size)\n",
    "    ds = ds.repeat()\n",
    "    ds = ds.batch(BATCH_SIZE)\n",
    "    ds = ds.prefetch(buffer_size=AUTOTUNE)\n",
    "    return ds\n",
    "train_ds = _input_fn(x_train,y_train)\n",
    "validation_ds = _input_fn(x_test, y_test)"
   ]
  },
  {
   "cell_type": "code",
   "execution_count": null,
   "metadata": {},
   "outputs": [],
   "source": [
    "IMG_SHAPE = (IMG_SIZE, IMG_SIZE, 3)\n",
    "VGG16_MODEL = tf.keras.applications.VGG16(input_shape=IMG_SHAPE, include_top=False, weights='imagenet')"
   ]
  },
  {
   "cell_type": "code",
   "execution_count": null,
   "metadata": {},
   "outputs": [],
   "source": [
    "VGG16_MODEL.trainable =False\n",
    "global_average_layer = tf.keras.layers.GlobalAveragePooling2D()\n",
    "prediction_layer = tf.keras.layers.Dense(len(label_names),activation='softmax')"
   ]
  },
  {
   "cell_type": "code",
   "execution_count": null,
   "metadata": {},
   "outputs": [],
   "source": [
    "model=tf.keras.Sequential([ VGG16_MODEL, global_average_layer, prediction_layer])"
   ]
  },
  {
   "cell_type": "code",
   "execution_count": null,
   "metadata": {},
   "outputs": [],
   "source": [
    "model.compile(optimizer=tf.train.AdamOptimizer(),\n",
    "             loss=tf.keras.losses.sparse_categorical_crossentropy, metrics=['accuracy'])"
   ]
  },
  {
   "cell_type": "code",
   "execution_count": null,
   "metadata": {},
   "outputs": [],
   "source": [
    "history = model.fit(train_ds, epochs=100, steps_per_epoch=2)"
   ]
  },
  {
   "cell_type": "code",
   "execution_count": null,
   "metadata": {},
   "outputs": [],
   "source": []
  },
  {
   "cell_type": "code",
   "execution_count": null,
   "metadata": {},
   "outputs": [],
   "source": []
  },
  {
   "cell_type": "code",
   "execution_count": null,
   "metadata": {},
   "outputs": [],
   "source": []
  },
  {
   "cell_type": "code",
   "execution_count": null,
   "metadata": {},
   "outputs": [],
   "source": []
  },
  {
   "cell_type": "code",
   "execution_count": null,
   "metadata": {},
   "outputs": [],
   "source": []
  }
 ],
 "metadata": {
  "kernelspec": {
   "display_name": "Python 3",
   "language": "python",
   "name": "python3"
  },
  "language_info": {
   "codemirror_mode": {
    "name": "ipython",
    "version": 3
   },
   "file_extension": ".py",
   "mimetype": "text/x-python",
   "name": "python",
   "nbconvert_exporter": "python",
   "pygments_lexer": "ipython3",
   "version": "3.7.4"
  }
 },
 "nbformat": 4,
 "nbformat_minor": 2
}
