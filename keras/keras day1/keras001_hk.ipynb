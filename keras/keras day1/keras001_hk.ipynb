{
 "cells": [
  {
   "cell_type": "code",
   "execution_count": 1,
   "metadata": {},
   "outputs": [
    {
     "name": "stderr",
     "output_type": "stream",
     "text": [
      "Using TensorFlow backend.\n"
     ]
    },
    {
     "name": "stdout",
     "output_type": "stream",
     "text": [
      "WARNING:tensorflow:From C:\\Users\\ICT01_15\\Anaconda3\\lib\\site-packages\\keras\\backend\\tensorflow_backend.py:422: The name tf.global_variables is deprecated. Please use tf.compat.v1.global_variables instead.\n",
      "\n",
      "입력데이터=[0.29466096 0.30317302], 예측결과=[0.17335463]\n",
      "입력데이터=[0.39445118 0.79390858], 예측결과=[0.74470896]\n",
      "입력데이터=[0.02884127 0.6208843 ], 예측결과=[0.40309572]\n"
     ]
    }
   ],
   "source": [
    "from keras.models import Sequential\n",
    "from keras.layers import Dense\n",
    "from sklearn.datasets import make_regression\n",
    "# 신경망 - 정규화\n",
    "from sklearn.preprocessing import MinMaxScaler\n",
    "\n",
    "# X = 100x2, y = 100\n",
    "X, y = make_regression(n_samples=100, n_features=2, noise=0.1, random_state=1)\n",
    "\n",
    "# 값의 범위가 다름\n",
    "scalarX, scalarY = MinMaxScaler(), MinMaxScaler()\n",
    "scalarX.fit(X)\n",
    "scalarY.fit(y.reshape(100,1)) # 행으로 만들어서\n",
    "X = scalarX.transform(X)\n",
    "y = scalarY.transform(y.reshape(100,1))\n",
    "\n",
    "# Keras Model\n",
    "model = Sequential()\n",
    "# Dense -> FFNN망\n",
    "# layer 3개(layer depth)\n",
    "# 가중치 : 2x4 => 결과 : 100x4\n",
    "model.add(Dense(4, input_dim=2, activation='relu')) # 가중치 생성(출력차수(=4)만 지정해주면)\n",
    "# 100x4 4x4 100x4\n",
    "model.add(Dense(4, activation='relu'))\n",
    "# 100x4 4x1 100x1\n",
    "model.add(Dense(1, activation='linear')) # linear:예측\n",
    "# mse, cross entropy(분류), KL-divergence(분포비교)\n",
    "model.compile(loss='mse', optimizer='adam') # tensorflow 모델을 변환(backend=tensorflow)\n",
    "model.fit(X, y, epochs=1000, verbose=0)\n",
    "\n",
    "Xnew, a = make_regression(n_samples=3, n_features=2, noise=0.1, random_state=1)\n",
    "Xnew = scalarX.transform(Xnew)\n",
    "ynew = model.predict(Xnew)\n",
    "\n",
    "for i in range(len(Xnew)):\n",
    "    print(\"입력데이터=%s, 예측결과=%s\" %(Xnew[i], ynew[i]))"
   ]
  },
  {
   "cell_type": "code",
   "execution_count": 2,
   "metadata": {
    "scrolled": true
   },
   "outputs": [
    {
     "name": "stdout",
     "output_type": "stream",
     "text": [
      "WARNING:tensorflow:From C:\\Users\\ICT01_15\\Anaconda3\\lib\\site-packages\\tensorflow\\python\\ops\\nn_impl.py:180: add_dispatch_support.<locals>.wrapper (from tensorflow.python.ops.array_ops) is deprecated and will be removed in a future version.\n",
      "Instructions for updating:\n",
      "Use tf.where in 2.0, which has the same broadcast rule as np.where\n",
      "Train on 514 samples, validate on 254 samples\n",
      "Epoch 1/150\n",
      "514/514 [==============================] - 0s 649us/step - loss: 0.6796 - accuracy: 0.6401 - val_loss: 0.6586 - val_accuracy: 0.6732\n",
      "Epoch 2/150\n",
      "514/514 [==============================] - 0s 108us/step - loss: 0.6688 - accuracy: 0.6401 - val_loss: 0.6533 - val_accuracy: 0.6732\n",
      "Epoch 3/150\n",
      "514/514 [==============================] - 0s 107us/step - loss: 0.6616 - accuracy: 0.6401 - val_loss: 0.6510 - val_accuracy: 0.6732\n",
      "Epoch 4/150\n",
      "514/514 [==============================] - 0s 104us/step - loss: 0.6545 - accuracy: 0.6401 - val_loss: 0.6455 - val_accuracy: 0.6850\n",
      "Epoch 5/150\n",
      "514/514 [==============================] - 0s 111us/step - loss: 0.6456 - accuracy: 0.6420 - val_loss: 0.6361 - val_accuracy: 0.7047\n",
      "Epoch 6/150\n",
      "514/514 [==============================] - 0s 110us/step - loss: 0.6402 - accuracy: 0.6479 - val_loss: 0.6239 - val_accuracy: 0.6969\n",
      "Epoch 7/150\n",
      "514/514 [==============================] - 0s 108us/step - loss: 0.6315 - accuracy: 0.6595 - val_loss: 0.6158 - val_accuracy: 0.6890\n",
      "Epoch 8/150\n",
      "514/514 [==============================] - 0s 112us/step - loss: 0.6228 - accuracy: 0.6673 - val_loss: 0.6050 - val_accuracy: 0.6850\n",
      "Epoch 9/150\n",
      "514/514 [==============================] - 0s 108us/step - loss: 0.6163 - accuracy: 0.6673 - val_loss: 0.6040 - val_accuracy: 0.6732\n",
      "Epoch 10/150\n",
      "514/514 [==============================] - 0s 107us/step - loss: 0.6079 - accuracy: 0.6984 - val_loss: 0.5913 - val_accuracy: 0.6969\n",
      "Epoch 11/150\n",
      "514/514 [==============================] - 0s 106us/step - loss: 0.6029 - accuracy: 0.7004 - val_loss: 0.5978 - val_accuracy: 0.6929\n",
      "Epoch 12/150\n",
      "514/514 [==============================] - 0s 116us/step - loss: 0.6059 - accuracy: 0.6907 - val_loss: 0.5802 - val_accuracy: 0.7244\n",
      "Epoch 13/150\n",
      "514/514 [==============================] - 0s 105us/step - loss: 0.6018 - accuracy: 0.6984 - val_loss: 0.5824 - val_accuracy: 0.6969\n",
      "Epoch 14/150\n",
      "514/514 [==============================] - 0s 106us/step - loss: 0.5882 - accuracy: 0.7101 - val_loss: 0.5712 - val_accuracy: 0.7205\n",
      "Epoch 15/150\n",
      "514/514 [==============================] - 0s 107us/step - loss: 0.5844 - accuracy: 0.7179 - val_loss: 0.5744 - val_accuracy: 0.7047\n",
      "Epoch 16/150\n",
      "514/514 [==============================] - 0s 104us/step - loss: 0.5929 - accuracy: 0.6946 - val_loss: 0.5728 - val_accuracy: 0.7087\n",
      "Epoch 17/150\n",
      "514/514 [==============================] - 0s 107us/step - loss: 0.5853 - accuracy: 0.7082 - val_loss: 0.5654 - val_accuracy: 0.7205\n",
      "Epoch 18/150\n",
      "514/514 [==============================] - 0s 104us/step - loss: 0.5829 - accuracy: 0.7121 - val_loss: 0.5704 - val_accuracy: 0.7126\n",
      "Epoch 19/150\n",
      "514/514 [==============================] - 0s 105us/step - loss: 0.5826 - accuracy: 0.7043 - val_loss: 0.5730 - val_accuracy: 0.7244\n",
      "Epoch 20/150\n",
      "514/514 [==============================] - 0s 106us/step - loss: 0.5753 - accuracy: 0.7121 - val_loss: 0.5674 - val_accuracy: 0.7126\n",
      "Epoch 21/150\n",
      "514/514 [==============================] - 0s 110us/step - loss: 0.5729 - accuracy: 0.7160 - val_loss: 0.5761 - val_accuracy: 0.7087\n",
      "Epoch 22/150\n",
      "514/514 [==============================] - 0s 104us/step - loss: 0.5750 - accuracy: 0.7237 - val_loss: 0.5666 - val_accuracy: 0.7008\n",
      "Epoch 23/150\n",
      "514/514 [==============================] - 0s 104us/step - loss: 0.5745 - accuracy: 0.7023 - val_loss: 0.5662 - val_accuracy: 0.7205\n",
      "Epoch 24/150\n",
      "514/514 [==============================] - 0s 105us/step - loss: 0.5581 - accuracy: 0.7276 - val_loss: 0.5659 - val_accuracy: 0.7244\n",
      "Epoch 25/150\n",
      "514/514 [==============================] - 0s 105us/step - loss: 0.5641 - accuracy: 0.7198 - val_loss: 0.5580 - val_accuracy: 0.7205\n",
      "Epoch 26/150\n",
      "514/514 [==============================] - 0s 107us/step - loss: 0.5615 - accuracy: 0.7374 - val_loss: 0.5618 - val_accuracy: 0.7205\n",
      "Epoch 27/150\n",
      "514/514 [==============================] - 0s 107us/step - loss: 0.5587 - accuracy: 0.7354 - val_loss: 0.5620 - val_accuracy: 0.7244\n",
      "Epoch 28/150\n",
      "514/514 [==============================] - 0s 106us/step - loss: 0.5549 - accuracy: 0.7374 - val_loss: 0.6266 - val_accuracy: 0.5984\n",
      "Epoch 29/150\n",
      "514/514 [==============================] - 0s 118us/step - loss: 0.5554 - accuracy: 0.7198 - val_loss: 0.5764 - val_accuracy: 0.7205\n",
      "Epoch 30/150\n",
      "514/514 [==============================] - 0s 109us/step - loss: 0.5531 - accuracy: 0.7276 - val_loss: 0.5661 - val_accuracy: 0.7323\n",
      "Epoch 31/150\n",
      "514/514 [==============================] - 0s 110us/step - loss: 0.5498 - accuracy: 0.7140 - val_loss: 0.5768 - val_accuracy: 0.7165\n",
      "Epoch 32/150\n",
      "514/514 [==============================] - 0s 114us/step - loss: 0.5551 - accuracy: 0.7354 - val_loss: 0.5897 - val_accuracy: 0.6929\n",
      "Epoch 33/150\n",
      "514/514 [==============================] - 0s 132us/step - loss: 0.5816 - accuracy: 0.7140 - val_loss: 0.5981 - val_accuracy: 0.7244\n",
      "Epoch 34/150\n",
      "514/514 [==============================] - 0s 113us/step - loss: 0.5518 - accuracy: 0.7160 - val_loss: 0.5659 - val_accuracy: 0.7087\n",
      "Epoch 35/150\n",
      "514/514 [==============================] - 0s 108us/step - loss: 0.5446 - accuracy: 0.7412 - val_loss: 0.5551 - val_accuracy: 0.7283\n",
      "Epoch 36/150\n",
      "514/514 [==============================] - 0s 112us/step - loss: 0.5520 - accuracy: 0.7218 - val_loss: 0.5714 - val_accuracy: 0.7087\n",
      "Epoch 37/150\n",
      "514/514 [==============================] - 0s 118us/step - loss: 0.5453 - accuracy: 0.7315 - val_loss: 0.5673 - val_accuracy: 0.7283\n",
      "Epoch 38/150\n",
      "514/514 [==============================] - 0s 110us/step - loss: 0.5432 - accuracy: 0.7471 - val_loss: 0.5492 - val_accuracy: 0.7402\n",
      "Epoch 39/150\n",
      "514/514 [==============================] - 0s 118us/step - loss: 0.5510 - accuracy: 0.7179 - val_loss: 0.5588 - val_accuracy: 0.7441\n",
      "Epoch 40/150\n",
      "514/514 [==============================] - 0s 120us/step - loss: 0.5440 - accuracy: 0.7471 - val_loss: 0.5562 - val_accuracy: 0.7283\n",
      "Epoch 41/150\n",
      "514/514 [==============================] - 0s 105us/step - loss: 0.5410 - accuracy: 0.7374 - val_loss: 0.5521 - val_accuracy: 0.7323\n",
      "Epoch 42/150\n",
      "514/514 [==============================] - 0s 109us/step - loss: 0.5467 - accuracy: 0.7432 - val_loss: 0.5868 - val_accuracy: 0.7126\n",
      "Epoch 43/150\n",
      "514/514 [==============================] - 0s 108us/step - loss: 0.5459 - accuracy: 0.7296 - val_loss: 0.5586 - val_accuracy: 0.7402\n",
      "Epoch 44/150\n",
      "514/514 [==============================] - 0s 108us/step - loss: 0.5433 - accuracy: 0.7354 - val_loss: 0.5587 - val_accuracy: 0.7205\n",
      "Epoch 45/150\n",
      "514/514 [==============================] - 0s 103us/step - loss: 0.5340 - accuracy: 0.7335 - val_loss: 0.5859 - val_accuracy: 0.6890\n",
      "Epoch 46/150\n",
      "514/514 [==============================] - 0s 110us/step - loss: 0.5473 - accuracy: 0.7198 - val_loss: 0.5662 - val_accuracy: 0.7205\n",
      "Epoch 47/150\n",
      "514/514 [==============================] - 0s 106us/step - loss: 0.5487 - accuracy: 0.7335 - val_loss: 0.5571 - val_accuracy: 0.7441\n",
      "Epoch 48/150\n",
      "514/514 [==============================] - 0s 105us/step - loss: 0.5387 - accuracy: 0.7237 - val_loss: 0.5583 - val_accuracy: 0.7244\n",
      "Epoch 49/150\n",
      "514/514 [==============================] - 0s 103us/step - loss: 0.5380 - accuracy: 0.7471 - val_loss: 0.5512 - val_accuracy: 0.7283\n",
      "Epoch 50/150\n",
      "514/514 [==============================] - 0s 107us/step - loss: 0.5384 - accuracy: 0.7412 - val_loss: 0.5632 - val_accuracy: 0.7047\n",
      "Epoch 51/150\n",
      "514/514 [==============================] - 0s 103us/step - loss: 0.5335 - accuracy: 0.7490 - val_loss: 0.5505 - val_accuracy: 0.7323\n",
      "Epoch 52/150\n",
      "514/514 [==============================] - 0s 106us/step - loss: 0.5366 - accuracy: 0.7510 - val_loss: 0.5579 - val_accuracy: 0.7087\n",
      "Epoch 53/150\n",
      "514/514 [==============================] - 0s 106us/step - loss: 0.5339 - accuracy: 0.7510 - val_loss: 0.5447 - val_accuracy: 0.7480\n",
      "Epoch 54/150\n"
     ]
    },
    {
     "name": "stdout",
     "output_type": "stream",
     "text": [
      "514/514 [==============================] - 0s 106us/step - loss: 0.5308 - accuracy: 0.7276 - val_loss: 0.5526 - val_accuracy: 0.7559\n",
      "Epoch 55/150\n",
      "514/514 [==============================] - 0s 109us/step - loss: 0.5291 - accuracy: 0.7296 - val_loss: 0.5529 - val_accuracy: 0.7244\n",
      "Epoch 56/150\n",
      "514/514 [==============================] - 0s 110us/step - loss: 0.5392 - accuracy: 0.7335 - val_loss: 0.5595 - val_accuracy: 0.7480\n",
      "Epoch 57/150\n",
      "514/514 [==============================] - 0s 113us/step - loss: 0.5413 - accuracy: 0.7354 - val_loss: 0.5659 - val_accuracy: 0.7244\n",
      "Epoch 58/150\n",
      "514/514 [==============================] - 0s 110us/step - loss: 0.5287 - accuracy: 0.7335 - val_loss: 0.5705 - val_accuracy: 0.6929\n",
      "Epoch 59/150\n",
      "514/514 [==============================] - 0s 114us/step - loss: 0.5403 - accuracy: 0.7296 - val_loss: 0.5523 - val_accuracy: 0.7402\n",
      "Epoch 60/150\n",
      "514/514 [==============================] - 0s 110us/step - loss: 0.5326 - accuracy: 0.7257 - val_loss: 0.5455 - val_accuracy: 0.7362\n",
      "Epoch 61/150\n",
      "514/514 [==============================] - 0s 114us/step - loss: 0.5315 - accuracy: 0.7432 - val_loss: 0.5597 - val_accuracy: 0.7283\n",
      "Epoch 62/150\n",
      "514/514 [==============================] - 0s 109us/step - loss: 0.5323 - accuracy: 0.7335 - val_loss: 0.5509 - val_accuracy: 0.7362\n",
      "Epoch 63/150\n",
      "514/514 [==============================] - 0s 108us/step - loss: 0.5252 - accuracy: 0.7354 - val_loss: 0.5460 - val_accuracy: 0.7402\n",
      "Epoch 64/150\n",
      "514/514 [==============================] - 0s 103us/step - loss: 0.5299 - accuracy: 0.7432 - val_loss: 0.5508 - val_accuracy: 0.7402\n",
      "Epoch 65/150\n",
      "514/514 [==============================] - 0s 109us/step - loss: 0.5325 - accuracy: 0.7257 - val_loss: 0.5543 - val_accuracy: 0.7402\n",
      "Epoch 66/150\n",
      "514/514 [==============================] - 0s 111us/step - loss: 0.5344 - accuracy: 0.7276 - val_loss: 0.5394 - val_accuracy: 0.7520\n",
      "Epoch 67/150\n",
      "514/514 [==============================] - 0s 110us/step - loss: 0.5280 - accuracy: 0.7354 - val_loss: 0.5557 - val_accuracy: 0.7441\n",
      "Epoch 68/150\n",
      "514/514 [==============================] - 0s 108us/step - loss: 0.5316 - accuracy: 0.7374 - val_loss: 0.5666 - val_accuracy: 0.7283\n",
      "Epoch 69/150\n",
      "514/514 [==============================] - 0s 106us/step - loss: 0.5300 - accuracy: 0.7257 - val_loss: 0.5468 - val_accuracy: 0.7559\n",
      "Epoch 70/150\n",
      "514/514 [==============================] - 0s 109us/step - loss: 0.5311 - accuracy: 0.7432 - val_loss: 0.5473 - val_accuracy: 0.7244\n",
      "Epoch 71/150\n",
      "514/514 [==============================] - 0s 111us/step - loss: 0.5250 - accuracy: 0.7471 - val_loss: 0.5518 - val_accuracy: 0.7402\n",
      "Epoch 72/150\n",
      "514/514 [==============================] - 0s 111us/step - loss: 0.5266 - accuracy: 0.7354 - val_loss: 0.5346 - val_accuracy: 0.7598\n",
      "Epoch 73/150\n",
      "514/514 [==============================] - 0s 111us/step - loss: 0.5263 - accuracy: 0.7432 - val_loss: 0.5361 - val_accuracy: 0.7520\n",
      "Epoch 74/150\n",
      "514/514 [==============================] - 0s 112us/step - loss: 0.5217 - accuracy: 0.7374 - val_loss: 0.5520 - val_accuracy: 0.7441\n",
      "Epoch 75/150\n",
      "514/514 [==============================] - 0s 108us/step - loss: 0.5240 - accuracy: 0.7412 - val_loss: 0.5408 - val_accuracy: 0.7559\n",
      "Epoch 76/150\n",
      "514/514 [==============================] - 0s 104us/step - loss: 0.5213 - accuracy: 0.7451 - val_loss: 0.5392 - val_accuracy: 0.7480\n",
      "Epoch 77/150\n",
      "514/514 [==============================] - 0s 112us/step - loss: 0.5206 - accuracy: 0.7451 - val_loss: 0.5410 - val_accuracy: 0.7520\n",
      "Epoch 78/150\n",
      "514/514 [==============================] - 0s 115us/step - loss: 0.5189 - accuracy: 0.7549 - val_loss: 0.5360 - val_accuracy: 0.7638\n",
      "Epoch 79/150\n",
      "514/514 [==============================] - 0s 112us/step - loss: 0.5269 - accuracy: 0.7432 - val_loss: 0.5501 - val_accuracy: 0.7402\n",
      "Epoch 80/150\n",
      "514/514 [==============================] - 0s 110us/step - loss: 0.5170 - accuracy: 0.7490 - val_loss: 0.5431 - val_accuracy: 0.7559\n",
      "Epoch 81/150\n",
      "514/514 [==============================] - 0s 104us/step - loss: 0.5311 - accuracy: 0.7374 - val_loss: 0.5464 - val_accuracy: 0.7402\n",
      "Epoch 82/150\n",
      "514/514 [==============================] - 0s 104us/step - loss: 0.5218 - accuracy: 0.7354 - val_loss: 0.5339 - val_accuracy: 0.7559\n",
      "Epoch 83/150\n",
      "514/514 [==============================] - 0s 110us/step - loss: 0.5133 - accuracy: 0.7490 - val_loss: 0.5413 - val_accuracy: 0.7362\n",
      "Epoch 84/150\n",
      "514/514 [==============================] - 0s 110us/step - loss: 0.5242 - accuracy: 0.7510 - val_loss: 0.5328 - val_accuracy: 0.7598\n",
      "Epoch 85/150\n",
      "514/514 [==============================] - 0s 118us/step - loss: 0.5197 - accuracy: 0.7490 - val_loss: 0.5402 - val_accuracy: 0.7244\n",
      "Epoch 86/150\n",
      "514/514 [==============================] - 0s 112us/step - loss: 0.5152 - accuracy: 0.7354 - val_loss: 0.5414 - val_accuracy: 0.7480\n",
      "Epoch 87/150\n",
      "514/514 [==============================] - 0s 121us/step - loss: 0.5136 - accuracy: 0.7529 - val_loss: 0.5264 - val_accuracy: 0.7756\n",
      "Epoch 88/150\n",
      "514/514 [==============================] - 0s 109us/step - loss: 0.5152 - accuracy: 0.7529 - val_loss: 0.5456 - val_accuracy: 0.7441\n",
      "Epoch 89/150\n",
      "514/514 [==============================] - 0s 113us/step - loss: 0.5136 - accuracy: 0.7412 - val_loss: 0.5320 - val_accuracy: 0.7520\n",
      "Epoch 90/150\n",
      "514/514 [==============================] - 0s 110us/step - loss: 0.5145 - accuracy: 0.7432 - val_loss: 0.5361 - val_accuracy: 0.7520\n",
      "Epoch 91/150\n",
      "514/514 [==============================] - 0s 111us/step - loss: 0.5164 - accuracy: 0.7490 - val_loss: 0.5430 - val_accuracy: 0.7441\n",
      "Epoch 92/150\n",
      "514/514 [==============================] - 0s 110us/step - loss: 0.5206 - accuracy: 0.7393 - val_loss: 0.5396 - val_accuracy: 0.7362\n",
      "Epoch 93/150\n",
      "514/514 [==============================] - 0s 116us/step - loss: 0.5136 - accuracy: 0.7529 - val_loss: 0.5434 - val_accuracy: 0.7480\n",
      "Epoch 94/150\n",
      "514/514 [==============================] - 0s 110us/step - loss: 0.5173 - accuracy: 0.7490 - val_loss: 0.5279 - val_accuracy: 0.7638\n",
      "Epoch 95/150\n",
      "514/514 [==============================] - 0s 115us/step - loss: 0.5150 - accuracy: 0.7607 - val_loss: 0.5432 - val_accuracy: 0.7205\n",
      "Epoch 96/150\n",
      "514/514 [==============================] - 0s 112us/step - loss: 0.5193 - accuracy: 0.7451 - val_loss: 0.5261 - val_accuracy: 0.7756\n",
      "Epoch 97/150\n",
      "514/514 [==============================] - 0s 108us/step - loss: 0.5134 - accuracy: 0.7490 - val_loss: 0.5255 - val_accuracy: 0.7598\n",
      "Epoch 98/150\n",
      "514/514 [==============================] - 0s 107us/step - loss: 0.5195 - accuracy: 0.7412 - val_loss: 0.5440 - val_accuracy: 0.7480\n",
      "Epoch 99/150\n",
      "514/514 [==============================] - 0s 105us/step - loss: 0.5189 - accuracy: 0.7335 - val_loss: 0.5394 - val_accuracy: 0.7598\n",
      "Epoch 100/150\n",
      "514/514 [==============================] - 0s 106us/step - loss: 0.5112 - accuracy: 0.7412 - val_loss: 0.5239 - val_accuracy: 0.7717\n",
      "Epoch 101/150\n",
      "514/514 [==============================] - 0s 110us/step - loss: 0.5105 - accuracy: 0.7432 - val_loss: 0.5307 - val_accuracy: 0.7520\n",
      "Epoch 102/150\n",
      "514/514 [==============================] - 0s 109us/step - loss: 0.5036 - accuracy: 0.7510 - val_loss: 0.5236 - val_accuracy: 0.7638\n",
      "Epoch 103/150\n",
      "514/514 [==============================] - 0s 131us/step - loss: 0.5201 - accuracy: 0.7432 - val_loss: 0.5278 - val_accuracy: 0.7480\n",
      "Epoch 104/150\n",
      "514/514 [==============================] - 0s 108us/step - loss: 0.5110 - accuracy: 0.7490 - val_loss: 0.5218 - val_accuracy: 0.7559\n",
      "Epoch 105/150\n",
      "514/514 [==============================] - 0s 110us/step - loss: 0.5031 - accuracy: 0.7549 - val_loss: 0.5220 - val_accuracy: 0.7717\n",
      "Epoch 106/150\n",
      "514/514 [==============================] - 0s 110us/step - loss: 0.5115 - accuracy: 0.7393 - val_loss: 0.5205 - val_accuracy: 0.7677\n",
      "Epoch 107/150\n",
      "514/514 [==============================] - 0s 110us/step - loss: 0.5100 - accuracy: 0.7412 - val_loss: 0.5386 - val_accuracy: 0.7402\n",
      "Epoch 108/150\n",
      "514/514 [==============================] - 0s 109us/step - loss: 0.5180 - accuracy: 0.7529 - val_loss: 0.5283 - val_accuracy: 0.7638\n",
      "Epoch 109/150\n",
      "514/514 [==============================] - 0s 107us/step - loss: 0.5080 - accuracy: 0.7451 - val_loss: 0.5207 - val_accuracy: 0.7835\n",
      "Epoch 110/150\n"
     ]
    },
    {
     "name": "stdout",
     "output_type": "stream",
     "text": [
      "514/514 [==============================] - 0s 109us/step - loss: 0.5019 - accuracy: 0.7451 - val_loss: 0.5507 - val_accuracy: 0.7323\n",
      "Epoch 111/150\n",
      "514/514 [==============================] - 0s 109us/step - loss: 0.5160 - accuracy: 0.7315 - val_loss: 0.5246 - val_accuracy: 0.7480\n",
      "Epoch 112/150\n",
      "514/514 [==============================] - 0s 114us/step - loss: 0.5016 - accuracy: 0.7432 - val_loss: 0.5304 - val_accuracy: 0.7362\n",
      "Epoch 113/150\n",
      "514/514 [==============================] - 0s 113us/step - loss: 0.5051 - accuracy: 0.7432 - val_loss: 0.5166 - val_accuracy: 0.7638\n",
      "Epoch 114/150\n",
      "514/514 [==============================] - 0s 109us/step - loss: 0.5000 - accuracy: 0.7412 - val_loss: 0.5170 - val_accuracy: 0.7677\n",
      "Epoch 115/150\n",
      "514/514 [==============================] - 0s 110us/step - loss: 0.5016 - accuracy: 0.7529 - val_loss: 0.5177 - val_accuracy: 0.7677\n",
      "Epoch 116/150\n",
      "514/514 [==============================] - 0s 105us/step - loss: 0.5033 - accuracy: 0.7451 - val_loss: 0.5121 - val_accuracy: 0.7756\n",
      "Epoch 117/150\n",
      "514/514 [==============================] - 0s 107us/step - loss: 0.5065 - accuracy: 0.7490 - val_loss: 0.5414 - val_accuracy: 0.7559\n",
      "Epoch 118/150\n",
      "514/514 [==============================] - 0s 113us/step - loss: 0.5000 - accuracy: 0.7471 - val_loss: 0.5214 - val_accuracy: 0.7598\n",
      "Epoch 119/150\n",
      "514/514 [==============================] - 0s 110us/step - loss: 0.5081 - accuracy: 0.7568 - val_loss: 0.5266 - val_accuracy: 0.7638\n",
      "Epoch 120/150\n",
      "514/514 [==============================] - 0s 118us/step - loss: 0.4977 - accuracy: 0.7451 - val_loss: 0.5169 - val_accuracy: 0.7559\n",
      "Epoch 121/150\n",
      "514/514 [==============================] - 0s 125us/step - loss: 0.4986 - accuracy: 0.7490 - val_loss: 0.5238 - val_accuracy: 0.7441\n",
      "Epoch 122/150\n",
      "514/514 [==============================] - 0s 112us/step - loss: 0.5003 - accuracy: 0.7568 - val_loss: 0.5085 - val_accuracy: 0.7677\n",
      "Epoch 123/150\n",
      "514/514 [==============================] - 0s 109us/step - loss: 0.4959 - accuracy: 0.7412 - val_loss: 0.5201 - val_accuracy: 0.7559\n",
      "Epoch 124/150\n",
      "514/514 [==============================] - 0s 109us/step - loss: 0.4982 - accuracy: 0.7549 - val_loss: 0.5224 - val_accuracy: 0.7598\n",
      "Epoch 125/150\n",
      "514/514 [==============================] - 0s 112us/step - loss: 0.5019 - accuracy: 0.7510 - val_loss: 0.5199 - val_accuracy: 0.7559\n",
      "Epoch 126/150\n",
      "514/514 [==============================] - 0s 114us/step - loss: 0.4909 - accuracy: 0.7529 - val_loss: 0.5352 - val_accuracy: 0.7362\n",
      "Epoch 127/150\n",
      "514/514 [==============================] - 0s 115us/step - loss: 0.4943 - accuracy: 0.7490 - val_loss: 0.5183 - val_accuracy: 0.7638\n",
      "Epoch 128/150\n",
      "514/514 [==============================] - 0s 109us/step - loss: 0.4969 - accuracy: 0.7704 - val_loss: 0.5205 - val_accuracy: 0.7638\n",
      "Epoch 129/150\n",
      "514/514 [==============================] - 0s 105us/step - loss: 0.4984 - accuracy: 0.7451 - val_loss: 0.5021 - val_accuracy: 0.7756\n",
      "Epoch 130/150\n",
      "514/514 [==============================] - 0s 106us/step - loss: 0.4936 - accuracy: 0.7451 - val_loss: 0.5125 - val_accuracy: 0.7717\n",
      "Epoch 131/150\n",
      "514/514 [==============================] - 0s 118us/step - loss: 0.4916 - accuracy: 0.7568 - val_loss: 0.5231 - val_accuracy: 0.7402\n",
      "Epoch 132/150\n",
      "514/514 [==============================] - 0s 109us/step - loss: 0.4964 - accuracy: 0.7568 - val_loss: 0.5109 - val_accuracy: 0.7677\n",
      "Epoch 133/150\n",
      "514/514 [==============================] - 0s 112us/step - loss: 0.4923 - accuracy: 0.7685 - val_loss: 0.5131 - val_accuracy: 0.7795\n",
      "Epoch 134/150\n",
      "514/514 [==============================] - 0s 109us/step - loss: 0.4911 - accuracy: 0.7588 - val_loss: 0.5131 - val_accuracy: 0.7480\n",
      "Epoch 135/150\n",
      "514/514 [==============================] - 0s 107us/step - loss: 0.4852 - accuracy: 0.7510 - val_loss: 0.5104 - val_accuracy: 0.7677\n",
      "Epoch 136/150\n",
      "514/514 [==============================] - 0s 102us/step - loss: 0.4945 - accuracy: 0.7432 - val_loss: 0.5071 - val_accuracy: 0.7756\n",
      "Epoch 137/150\n",
      "514/514 [==============================] - 0s 107us/step - loss: 0.5033 - accuracy: 0.7412 - val_loss: 0.5116 - val_accuracy: 0.7717\n",
      "Epoch 138/150\n",
      "514/514 [==============================] - 0s 113us/step - loss: 0.4888 - accuracy: 0.7529 - val_loss: 0.5093 - val_accuracy: 0.7756\n",
      "Epoch 139/150\n",
      "514/514 [==============================] - 0s 111us/step - loss: 0.4936 - accuracy: 0.7626 - val_loss: 0.5044 - val_accuracy: 0.7717\n",
      "Epoch 140/150\n",
      "514/514 [==============================] - 0s 114us/step - loss: 0.4866 - accuracy: 0.7568 - val_loss: 0.5114 - val_accuracy: 0.7795\n",
      "Epoch 141/150\n",
      "514/514 [==============================] - 0s 111us/step - loss: 0.4881 - accuracy: 0.7374 - val_loss: 0.5056 - val_accuracy: 0.7756\n",
      "Epoch 142/150\n",
      "514/514 [==============================] - 0s 106us/step - loss: 0.4917 - accuracy: 0.7471 - val_loss: 0.5050 - val_accuracy: 0.7717\n",
      "Epoch 143/150\n",
      "514/514 [==============================] - 0s 110us/step - loss: 0.4940 - accuracy: 0.7315 - val_loss: 0.5004 - val_accuracy: 0.7795\n",
      "Epoch 144/150\n",
      "514/514 [==============================] - 0s 104us/step - loss: 0.4947 - accuracy: 0.7568 - val_loss: 0.5136 - val_accuracy: 0.7795\n",
      "Epoch 145/150\n",
      "514/514 [==============================] - 0s 112us/step - loss: 0.4891 - accuracy: 0.7471 - val_loss: 0.5023 - val_accuracy: 0.7874\n",
      "Epoch 146/150\n",
      "514/514 [==============================] - 0s 113us/step - loss: 0.4862 - accuracy: 0.7432 - val_loss: 0.5160 - val_accuracy: 0.7835\n",
      "Epoch 147/150\n",
      "514/514 [==============================] - 0s 110us/step - loss: 0.4823 - accuracy: 0.7529 - val_loss: 0.5034 - val_accuracy: 0.7795\n",
      "Epoch 148/150\n",
      "514/514 [==============================] - 0s 109us/step - loss: 0.4907 - accuracy: 0.7607 - val_loss: 0.5227 - val_accuracy: 0.7598\n",
      "Epoch 149/150\n",
      "514/514 [==============================] - 0s 107us/step - loss: 0.4806 - accuracy: 0.7607 - val_loss: 0.5060 - val_accuracy: 0.7756\n",
      "Epoch 150/150\n",
      "514/514 [==============================] - 0s 104us/step - loss: 0.4835 - accuracy: 0.7685 - val_loss: 0.5159 - val_accuracy: 0.7520\n",
      "768/768 [==============================] - 0s 12us/step\n",
      "\n",
      "accuracy: 76.56%\n"
     ]
    }
   ],
   "source": [
    "from keras.models import Sequential # input 1개, output 1개인 망\n",
    "from keras.layers import Dense\n",
    "import numpy\n",
    "\n",
    "numpy.random.seed(7)\n",
    "dataset = numpy.loadtxt(\"pima.data\", delimiter=\",\")\n",
    "X = dataset[:, 0:8] # 8개 독립변수\n",
    "Y = dataset[:, 8]   # 종속변수\n",
    "\n",
    "model = Sequential()\n",
    "# ?x8 8x12(가중치) => ?x12\n",
    "model.add(Dense(12, input_dim=8, kernel_initializer=\"uniform\", activation=\"relu\"))\n",
    "# ?x12 12x8(가중치) => ?x8\n",
    "model.add(Dense(8, kernel_initializer=\"uniform\", activation=\"relu\"))\n",
    "# ?x8 8x1(가중치) => ?x1\n",
    "model.add(Dense(1, kernel_initializer=\"uniform\", activation=\"sigmoid\")) # sigmoid:분류, 0.5기준으로\n",
    "model.compile(loss=\"binary_crossentropy\", optimizer=\"adam\", metrics=[\"accuracy\"]) # metrics:무엇을 측정하겠는가\n",
    "# validation_split\n",
    "#  : 데이터를 분리 입력(train,test)할 때, test도 과적합\n",
    "#  : train, validation, test으로 나눔\n",
    "history = model.fit(X, Y, epochs=150, batch_size=10, validation_split=0.33)\n",
    "scores = model.evaluate(X, Y)\n",
    "print(\"\\n%s: %.2f%%\" % (model.metrics_names[1], scores[1]*100))"
   ]
  },
  {
   "cell_type": "code",
   "execution_count": 3,
   "metadata": {},
   "outputs": [
    {
     "name": "stdout",
     "output_type": "stream",
     "text": [
      "dict_keys(['val_loss', 'val_accuracy', 'loss', 'accuracy'])\n"
     ]
    },
    {
     "data": {
      "image/png": "[encoded data removed]",
      "text/plain": [
       "<Figure size 432x288 with 1 Axes>"
      ]
     },
     "metadata": {
      "needs_background": "light"
     },
     "output_type": "display_data"
    }
   ],
   "source": [
    "import matplotlib.pyplot as plt\n",
    "%matplotlib inline\n",
    "\n",
    "# 기본 'loss', 'accuracy'\n",
    "# validation_split하면 'val_loss', 'val_accuracy', 'loss', 'accuracy'\n",
    "print(history.history.keys())\n",
    "\n",
    "plt.plot(history.history['accuracy'])\n",
    "plt.plot(history.history['val_accuracy'])\n",
    "plt.title(\"accuracy\")\n",
    "plt.ylabel(\"accuracy\")\n",
    "plt.xlabel(\"epoch\")\n",
    "plt.legend([\"train\", \"test\"], loc=\"upper left\")\n",
    "plt.show()"
   ]
  },
  {
   "cell_type": "code",
   "execution_count": 4,
   "metadata": {},
   "outputs": [
    {
     "data": {
      "image/png": "[encoded data removed]",
      "text/plain": [
       "<Figure size 432x288 with 1 Axes>"
      ]
     },
     "metadata": {
      "needs_background": "light"
     },
     "output_type": "display_data"
    }
   ],
   "source": [
    "plt.plot(history.history['loss'])\n",
    "plt.plot(history.history['val_loss'])\n",
    "plt.title(\"loss\")\n",
    "plt.ylabel(\"loss\")\n",
    "plt.xlabel(\"epoch\")\n",
    "plt.legend([\"train\", \"test\"], loc=\"upper left\")\n",
    "plt.show()"
   ]
  },
  {
   "cell_type": "code",
   "execution_count": 5,
   "metadata": {},
   "outputs": [
    {
     "name": "stdout",
     "output_type": "stream",
     "text": [
      "(1000, 2)\n",
      "(1000,)\n"
     ]
    }
   ],
   "source": [
    "from sklearn.preprocessing import scale\n",
    "from sklearn.model_selection import train_test_split\n",
    "from sklearn.datasets import make_moons\n",
    "X, Y = make_moons(noise=0.2, random_state=0, n_samples=1000)\n",
    "X = scale(X)\n",
    "X_train, X_test, Y_train, Y_test = train_test_split(X, Y, test_size=.5)\n",
    "print(X.shape) # 1000 x 2\n",
    "print(Y.shape)"
   ]
  },
  {
   "cell_type": "code",
   "execution_count": 6,
   "metadata": {},
   "outputs": [
    {
     "data": {
      "text/plain": [
       "[Text(0, 0.5, 'Y'),\n",
       " Text(0.5, 0, 'x'),\n",
       " Text(0.5, 1.0, 'history classification')]"
      ]
     },
     "execution_count": 6,
     "metadata": {},
     "output_type": "execute_result"
    },
    {
     "data": {
      "image/png": "[encoded data removed]",
      "text/plain": [
       "<Figure size 432x288 with 1 Axes>"
      ]
     },
     "metadata": {
      "needs_background": "light"
     },
     "output_type": "display_data"
    }
   ],
   "source": [
    "fig, ax = plt.subplots()\n",
    "ax.scatter(X[Y==0, 0], X[Y==0, 1], label=\"Class 0\")\n",
    "ax.scatter(X[Y==1, 0], X[Y==1, 1], color=\"r\", label=\"Class 1\")\n",
    "ax.legend()\n",
    "ax.set(xlabel=\"x\", ylabel=\"Y\", title=\"history classification\")"
   ]
  },
  {
   "cell_type": "code",
   "execution_count": 7,
   "metadata": {},
   "outputs": [
    {
     "name": "stdout",
     "output_type": "stream",
     "text": [
      "WARNING:tensorflow:From C:\\Users\\ICT01_15\\Anaconda3\\lib\\site-packages\\keras\\callbacks\\tensorboard_v1.py:146: The name tf.summary.histogram is deprecated. Please use tf.compat.v1.summary.histogram instead.\n",
      "\n",
      "WARNING:tensorflow:From C:\\Users\\ICT01_15\\Anaconda3\\lib\\site-packages\\keras\\callbacks\\tensorboard_v1.py:200: The name tf.summary.merge_all is deprecated. Please use tf.compat.v1.summary.merge_all instead.\n",
      "\n",
      "WARNING:tensorflow:From C:\\Users\\ICT01_15\\Anaconda3\\lib\\site-packages\\keras\\callbacks\\tensorboard_v1.py:203: The name tf.summary.FileWriter is deprecated. Please use tf.compat.v1.summary.FileWriter instead.\n",
      "\n"
     ]
    }
   ],
   "source": [
    "import keras\n",
    "# 비선형일 때 신경망을 사용한다.\n",
    "model = Sequential()\n",
    "# 입력데이터 1000x2 2x32 => 1000x32 (차원확대 2->32 => 설명이 잘된다)\n",
    "model.add(Dense(32, input_dim=2, activation=\"relu\"))\n",
    "# 1000x32 32x1 = 33 + bias1개 = 34 => 1000x1(분류)\n",
    "model.add(Dense(1, activation=\"sigmoid\"))\n",
    "model.compile(optimizer=\"AdaDelta\", loss=\"binary_crossentropy\", metrics=[\"accuracy\"])\n",
    "\n",
    "# callback함수 : winodows에서 event후에 자동으로 호출되어지는 함수\n",
    "# graph image 출력\n",
    "tb_callback = keras.callbacks.TensorBoard(log_dir=\"./Graph/model_1/\",\n",
    "                                          histogram_freq=100,\n",
    "                                          write_graph=True,\n",
    "                                          write_images=False)\n",
    "tb_callback.set_model(model) # callback함수를 model에 등록"
   ]
  },
  {
   "cell_type": "code",
   "execution_count": 8,
   "metadata": {},
   "outputs": [
    {
     "name": "stdout",
     "output_type": "stream",
     "text": [
      "WARNING:tensorflow:From C:\\Users\\ICT01_15\\Anaconda3\\lib\\site-packages\\keras\\callbacks\\tensorboard_v1.py:343: The name tf.Summary is deprecated. Please use tf.compat.v1.Summary instead.\n",
      "\n"
     ]
    }
   ],
   "source": [
    "hist = model.fit(X_train, Y_train, batch_size=32, epochs=200, verbose=0, validation_data=(X_test, Y_test), callbacks=[tb_callback])"
   ]
  },
  {
   "cell_type": "code",
   "execution_count": 9,
   "metadata": {},
   "outputs": [
    {
     "name": "stdout",
     "output_type": "stream",
     "text": [
      "Test loss: 0.12789358568191528\n",
      "Test accuracy: 0.949999988079071\n"
     ]
    }
   ],
   "source": [
    "score = model.evaluate(X_test, Y_test, verbose = 0)\n",
    "print(\"Test loss:\", score[0])\n",
    "print(\"Test accuracy:\", score[1])"
   ]
  },
  {
   "cell_type": "code",
   "execution_count": 10,
   "metadata": {},
   "outputs": [
    {
     "name": "stdout",
     "output_type": "stream",
     "text": [
      "Model: \"sequential_3\"\n",
      "_________________________________________________________________\n",
      "Layer (type)                 Output Shape              Param #   \n",
      "=================================================================\n",
      "dense_7 (Dense)              (None, 32)                96        \n",
      "_________________________________________________________________\n",
      "dense_8 (Dense)              (None, 1)                 33        \n",
      "=================================================================\n",
      "Total params: 129\n",
      "Trainable params: 129\n",
      "Non-trainable params: 0\n",
      "_________________________________________________________________\n"
     ]
    }
   ],
   "source": [
    "keras.utils.print_summary(model)"
   ]
  },
  {
   "cell_type": "code",
   "execution_count": 12,
   "metadata": {},
   "outputs": [
    {
     "data": {
      "image/png": "[encoded data removed]",
      "text/plain": [
       "<IPython.core.display.Image object>"
      ]
     },
     "execution_count": 12,
     "metadata": {},
     "output_type": "execute_result"
    }
   ],
   "source": [
    "keras.utils.plot_model(model)"
   ]
  },
  {
   "cell_type": "code",
   "execution_count": 13,
   "metadata": {},
   "outputs": [
    {
     "data": {
      "text/plain": [
       "<pydot.Dot at 0x1e1a1946888>"
      ]
     },
     "execution_count": 13,
     "metadata": {},
     "output_type": "execute_result"
    }
   ],
   "source": [
    "%matplotlib inline\n",
    "from keras.utils.vis_utils import model_to_dot\n",
    "model_to_dot(model)"
   ]
  },
  {
   "cell_type": "code",
   "execution_count": 14,
   "metadata": {},
   "outputs": [
    {
     "data": {
      "image/svg+xml": [
       "<svg height=\"255pt\" viewBox=\"0.00 0.00 174.00 191.00\" width=\"232pt\" xmlns=\"http://www.w3.org/2000/svg\" xmlns:xlink=\"http://www.w3.org/1999/xlink\">\n",
       "<g class=\"graph\" id=\"graph0\" transform=\"scale(1.33333 1.33333) rotate(0) translate(4 187)\">\n",
       "<title>G</title>\n",
       "<polygon fill=\"white\" points=\"-4,4 -4,-187 170,-187 170,4 -4,4\" stroke=\"none\"/>\n",
       "<!-- 2068533099144 -->\n",
       "<g class=\"node\" id=\"node1\"><title>2068533099144</title>\n",
       "<polygon fill=\"none\" points=\"0,-146.5 0,-182.5 166,-182.5 166,-146.5 0,-146.5\" stroke=\"black\"/>\n",
       "<text font-family=\"Times New Roman,serif\" font-size=\"14.00\" text-anchor=\"middle\" x=\"83\" y=\"-160.8\">dense_7_input: InputLayer</text>\n",
       "</g>\n",
       "<!-- 2068533308808 -->\n",
       "<g class=\"node\" id=\"node2\"><title>2068533308808</title>\n",
       "<polygon fill=\"none\" points=\"31,-73.5 31,-109.5 135,-109.5 135,-73.5 31,-73.5\" stroke=\"black\"/>\n",
       "<text font-family=\"Times New Roman,serif\" font-size=\"14.00\" text-anchor=\"middle\" x=\"83\" y=\"-87.8\">dense_7: Dense</text>\n",
       "</g>\n",
       "<!-- 2068533099144&#45;&gt;2068533308808 -->\n",
       "<g class=\"edge\" id=\"edge1\"><title>2068533099144-&gt;2068533308808</title>\n",
       "<path d=\"M83,-146.313C83,-138.289 83,-128.547 83,-119.569\" fill=\"none\" stroke=\"black\"/>\n",
       "<polygon fill=\"black\" points=\"86.5001,-119.529 83,-109.529 79.5001,-119.529 86.5001,-119.529\" stroke=\"black\"/>\n",
       "</g>\n",
       "<!-- 2068532744328 -->\n",
       "<g class=\"node\" id=\"node3\"><title>2068532744328</title>\n",
       "<polygon fill=\"none\" points=\"31,-0.5 31,-36.5 135,-36.5 135,-0.5 31,-0.5\" stroke=\"black\"/>\n",
       "<text font-family=\"Times New Roman,serif\" font-size=\"14.00\" text-anchor=\"middle\" x=\"83\" y=\"-14.8\">dense_8: Dense</text>\n",
       "</g>\n",
       "<!-- 2068533308808&#45;&gt;2068532744328 -->\n",
       "<g class=\"edge\" id=\"edge2\"><title>2068533308808-&gt;2068532744328</title>\n",
       "<path d=\"M83,-73.3129C83,-65.2895 83,-55.5475 83,-46.5691\" fill=\"none\" stroke=\"black\"/>\n",
       "<polygon fill=\"black\" points=\"86.5001,-46.5288 83,-36.5288 79.5001,-46.5289 86.5001,-46.5288\" stroke=\"black\"/>\n",
       "</g>\n",
       "</g>\n",
       "</svg>"
      ],
      "text/plain": [
       "<IPython.core.display.SVG object>"
      ]
     },
     "execution_count": 14,
     "metadata": {},
     "output_type": "execute_result"
    }
   ],
   "source": [
    "from IPython.display import Image, SVG\n",
    "SVG(model_to_dot(model).create(prog=\"dot\", format=\"svg\"))"
   ]
  },
  {
   "cell_type": "code",
   "execution_count": 15,
   "metadata": {},
   "outputs": [
    {
     "name": "stdout",
     "output_type": "stream",
     "text": [
      "Model: \"sequential_3\"\n",
      "_________________________________________________________________\n",
      "Layer (type)                 Output Shape              Param #   \n",
      "=================================================================\n",
      "dense_7 (Dense)              (None, 32)                96        \n",
      "_________________________________________________________________\n",
      "dense_8 (Dense)              (None, 1)                 33        \n",
      "=================================================================\n",
      "Total params: 129\n",
      "Trainable params: 129\n",
      "Non-trainable params: 0\n",
      "_________________________________________________________________\n"
     ]
    }
   ],
   "source": [
    "model.summary()"
   ]
  },
  {
   "cell_type": "code",
   "execution_count": 16,
   "metadata": {},
   "outputs": [
    {
     "name": "stdout",
     "output_type": "stream",
     "text": [
      "(60000, 28, 28) uint8\n",
      "(60000,) uint8\n",
      "(10000, 28, 28) uint8\n",
      "(10000,) uint8\n"
     ]
    }
   ],
   "source": [
    "from keras.datasets import mnist\n",
    "import matplotlib.pylab as plt\n",
    "(X_train0, y_train0), (X_test0, y_test0) = mnist.load_data()\n",
    "print(X_train0.shape, X_train0.dtype) # (60000, 28x28)\n",
    "print(y_train0.shape, y_train0.dtype) # (60000,)\n",
    "print(X_test0.shape, X_test0.dtype)   # (10000, 28x28)\n",
    "print(y_test0.shape, y_test0.dtype)   # (10000,)"
   ]
  },
  {
   "cell_type": "code",
   "execution_count": 17,
   "metadata": {},
   "outputs": [
    {
     "data": {
      "image/png": "[encoded data removed]",
      "text/plain": [
       "<Figure size 432x288 with 1 Axes>"
      ]
     },
     "metadata": {
      "needs_background": "light"
     },
     "output_type": "display_data"
    }
   ],
   "source": [
    "plt.imshow(X_train0[0])\n",
    "plt.grid(False)\n",
    "plt.show()"
   ]
  },
  {
   "cell_type": "code",
   "execution_count": 18,
   "metadata": {},
   "outputs": [
    {
     "name": "stdout",
     "output_type": "stream",
     "text": [
      "(60000, 784) float32\n"
     ]
    }
   ],
   "source": [
    "# fully-connected : flatten <- FFNN은 데이터가 한줄로\n",
    "# 이미지 정규화 : 0~255의 컬러값을 갖기때문에 '/255' 하면은 => 0~1\n",
    "X_train = X_train0.reshape(60000, 784).astype(\"float32\") / 255.0\n",
    "X_test = X_test0.reshape(10000, 784).astype(\"float32\") / 255.0\n",
    "print(X_train.shape, X_train.dtype) # 60000 x 784"
   ]
  },
  {
   "cell_type": "code",
   "execution_count": 19,
   "metadata": {},
   "outputs": [
    {
     "data": {
      "text/plain": [
       "array([5, 0, 4, 1, 9], dtype=uint8)"
      ]
     },
     "execution_count": 19,
     "metadata": {},
     "output_type": "execute_result"
    }
   ],
   "source": [
    "# multi-label일 경우에 softmax\n",
    "# 경우의 수에 대한 확률값\n",
    "y_train0[:5] # one-hot-encoding여부 = X (5, 0, 4, 1, 9)"
   ]
  },
  {
   "cell_type": "code",
   "execution_count": 20,
   "metadata": {},
   "outputs": [
    {
     "data": {
      "text/plain": [
       "array([[0., 0., 0., 0., 0., 1., 0., 0., 0., 0.],\n",
       "       [1., 0., 0., 0., 0., 0., 0., 0., 0., 0.],\n",
       "       [0., 0., 0., 0., 1., 0., 0., 0., 0., 0.],\n",
       "       [0., 1., 0., 0., 0., 0., 0., 0., 0., 0.],\n",
       "       [0., 0., 0., 0., 0., 0., 0., 0., 0., 1.]], dtype=float32)"
      ]
     },
     "execution_count": 20,
     "metadata": {},
     "output_type": "execute_result"
    }
   ],
   "source": [
    "# one-hot-encoding\n",
    "from keras.utils import np_utils\n",
    "Y_train = np_utils.to_categorical(y_train0, 10)\n",
    "Y_test = np_utils.to_categorical(y_test0, 10)\n",
    "Y_train[:5]"
   ]
  },
  {
   "cell_type": "code",
   "execution_count": 21,
   "metadata": {},
   "outputs": [],
   "source": [
    "import numpy as np\n",
    "from keras.optimizers import SGD\n",
    "\n",
    "np.random.seed(0)\n",
    "model = Sequential()\n",
    "# 60000 x 784, 784 x 15 => 60000 x 15\n",
    "###### 1번\n",
    "#model.add(Dense(15, input_dim=784, activation=\"sigmoid\"))\n",
    "\n",
    "###### 2번(문제.출력차수가 512인 레이어를 추가하시요.)\n",
    "model.add(Dense(512, input_dim=784, activation=\"sigmoid\"))\n",
    "model.add(Dense(15))\n",
    "\n",
    "# 60000 x 15, 15 x 10 => 60000 x 10\n",
    "model.add(Dense(10, activation=\"sigmoid\"))\n",
    "# lr = Learning Rate\n",
    "# SGD(Stochastic Gradient Descent)\n",
    "model.compile(optimizer=SGD(lr=0.2), loss=\"mean_squared_error\", metrics=[\"accuracy\"])"
   ]
  },
  {
   "cell_type": "code",
   "execution_count": 22,
   "metadata": {},
   "outputs": [
    {
     "data": {
      "text/plain": [
       "[<keras.layers.core.Dense at 0x1e1a3cdb6c8>,\n",
       " <keras.layers.core.Dense at 0x1e1a3cb6888>,\n",
       " <keras.layers.core.Dense at 0x1e1a71b5fc8>]"
      ]
     },
     "execution_count": 22,
     "metadata": {},
     "output_type": "execute_result"
    }
   ],
   "source": [
    "model.layers"
   ]
  },
  {
   "cell_type": "code",
   "execution_count": 23,
   "metadata": {},
   "outputs": [
    {
     "data": {
      "text/plain": [
       "(None, 512)"
      ]
     },
     "execution_count": 23,
     "metadata": {},
     "output_type": "execute_result"
    }
   ],
   "source": [
    "l1 = model.layers[0]\n",
    "l2 = model.layers[1]\n",
    "#레이어 속성으로 정보 확인\n",
    "l1.name\n",
    "l1.input_shape\n",
    "l1.output_shape"
   ]
  },
  {
   "cell_type": "code",
   "execution_count": 24,
   "metadata": {},
   "outputs": [],
   "source": [
    "# Callback Class\n",
    "# custom callback함수의 제장\n",
    "# Callback function : 함수에 의해서 호출되는 객체(함수)\n",
    "class CustomHistory(keras.callbacks.Callback): # keras.callbacks.Callback을 상속받는다.\n",
    "    def init(self):\n",
    "        self.train_loss = []\n",
    "        self.val_loss = []\n",
    "        self.train_acc = []\n",
    "        self.val_acc = []\n",
    "    def on_epoch_end(self, batch, logs={}): # overriding\n",
    "        self.train_loss.append(logs.get(\"loss\"))\n",
    "        self.val_loss.append(logs.get(\"val_loss\"))\n",
    "        self.train_acc.append(logs.get(\"accuracy\"))\n",
    "        self.val_acc.append(logs.get(\"val_accuracy\"))"
   ]
  },
  {
   "cell_type": "code",
   "execution_count": 25,
   "metadata": {},
   "outputs": [
    {
     "name": "stderr",
     "output_type": "stream",
     "text": [
      "C:\\Users\\ICT01_15\\Anaconda3\\lib\\site-packages\\ipykernel_launcher.py:10: UserWarning: The `nb_epoch` argument in `fit` has been renamed `epochs`.\n",
      "  # Remove the CWD from sys.path while we load stuff.\n"
     ]
    },
    {
     "name": "stdout",
     "output_type": "stream",
     "text": [
      "Train on 60000 samples, validate on 10000 samples\n",
      "Epoch 1/30\n",
      " - 1s - loss: 0.1022 - accuracy: 0.1207 - val_loss: 0.0894 - val_accuracy: 0.1868\n",
      "Epoch 2/30\n",
      " - 1s - loss: 0.0889 - accuracy: 0.2013 - val_loss: 0.0884 - val_accuracy: 0.2180\n",
      "Epoch 3/30\n",
      " - 1s - loss: 0.0880 - accuracy: 0.2581 - val_loss: 0.0874 - val_accuracy: 0.3206\n",
      "Epoch 4/30\n",
      " - 1s - loss: 0.0870 - accuracy: 0.3395 - val_loss: 0.0863 - val_accuracy: 0.3785\n",
      "Epoch 5/30\n",
      " - 1s - loss: 0.0858 - accuracy: 0.3882 - val_loss: 0.0850 - val_accuracy: 0.4014\n",
      "Epoch 6/30\n",
      " - 1s - loss: 0.0845 - accuracy: 0.4065 - val_loss: 0.0836 - val_accuracy: 0.4366\n",
      "Epoch 7/30\n",
      " - 1s - loss: 0.0831 - accuracy: 0.4326 - val_loss: 0.0821 - val_accuracy: 0.4714\n",
      "Epoch 8/30\n",
      " - 1s - loss: 0.0815 - accuracy: 0.4549 - val_loss: 0.0804 - val_accuracy: 0.4979\n",
      "Epoch 9/30\n",
      " - 1s - loss: 0.0798 - accuracy: 0.4837 - val_loss: 0.0786 - val_accuracy: 0.5107\n",
      "Epoch 10/30\n",
      " - 1s - loss: 0.0779 - accuracy: 0.5049 - val_loss: 0.0767 - val_accuracy: 0.5277\n",
      "Epoch 11/30\n",
      " - 1s - loss: 0.0761 - accuracy: 0.5272 - val_loss: 0.0748 - val_accuracy: 0.5522\n",
      "Epoch 12/30\n",
      " - 1s - loss: 0.0742 - accuracy: 0.5507 - val_loss: 0.0728 - val_accuracy: 0.5690\n",
      "Epoch 13/30\n",
      " - 1s - loss: 0.0723 - accuracy: 0.5683 - val_loss: 0.0709 - val_accuracy: 0.5970\n",
      "Epoch 14/30\n",
      " - 1s - loss: 0.0704 - accuracy: 0.5896 - val_loss: 0.0690 - val_accuracy: 0.6139\n",
      "Epoch 15/30\n",
      " - 1s - loss: 0.0686 - accuracy: 0.6080 - val_loss: 0.0671 - val_accuracy: 0.6305\n",
      "Epoch 16/30\n",
      " - 1s - loss: 0.0667 - accuracy: 0.6255 - val_loss: 0.0652 - val_accuracy: 0.6455\n",
      "Epoch 17/30\n",
      " - 1s - loss: 0.0649 - accuracy: 0.6414 - val_loss: 0.0634 - val_accuracy: 0.6670\n",
      "Epoch 18/30\n",
      " - 1s - loss: 0.0631 - accuracy: 0.6618 - val_loss: 0.0616 - val_accuracy: 0.6936\n",
      "Epoch 19/30\n",
      " - 1s - loss: 0.0614 - accuracy: 0.6799 - val_loss: 0.0598 - val_accuracy: 0.7021\n",
      "Epoch 20/30\n",
      " - 1s - loss: 0.0597 - accuracy: 0.6964 - val_loss: 0.0581 - val_accuracy: 0.7216\n",
      "Epoch 21/30\n",
      " - 1s - loss: 0.0580 - accuracy: 0.7119 - val_loss: 0.0564 - val_accuracy: 0.7321\n",
      "Epoch 22/30\n",
      " - 1s - loss: 0.0563 - accuracy: 0.7238 - val_loss: 0.0547 - val_accuracy: 0.7437\n",
      "Epoch 23/30\n",
      " - 1s - loss: 0.0547 - accuracy: 0.7356 - val_loss: 0.0530 - val_accuracy: 0.7528\n",
      "Epoch 24/30\n",
      " - 1s - loss: 0.0531 - accuracy: 0.7449 - val_loss: 0.0515 - val_accuracy: 0.7645\n",
      "Epoch 25/30\n",
      " - 1s - loss: 0.0516 - accuracy: 0.7534 - val_loss: 0.0499 - val_accuracy: 0.7737\n",
      "Epoch 26/30\n",
      " - 1s - loss: 0.0501 - accuracy: 0.7609 - val_loss: 0.0484 - val_accuracy: 0.7817\n",
      "Epoch 27/30\n",
      " - 1s - loss: 0.0486 - accuracy: 0.7671 - val_loss: 0.0470 - val_accuracy: 0.7883\n",
      "Epoch 28/30\n",
      " - 1s - loss: 0.0473 - accuracy: 0.7739 - val_loss: 0.0457 - val_accuracy: 0.7960\n",
      "Epoch 29/30\n",
      " - 1s - loss: 0.0460 - accuracy: 0.7800 - val_loss: 0.0444 - val_accuracy: 0.7997\n",
      "Epoch 30/30\n",
      " - 1s - loss: 0.0448 - accuracy: 0.7851 - val_loss: 0.0433 - val_accuracy: 0.8026\n"
     ]
    },
    {
     "data": {
      "image/png": "[encoded data removed]",
      "text/plain": [
       "<Figure size 432x288 with 1 Axes>"
      ]
     },
     "metadata": {
      "needs_background": "light"
     },
     "output_type": "display_data"
    }
   ],
   "source": [
    "# callback function 사용\n",
    "custom_hist = CustomHistory()\n",
    "custom_hist.init()\n",
    "\n",
    "hist = model.fit(X_train, Y_train,\n",
    "                 nb_epoch=30,\n",
    "                 batch_size=1000,\n",
    "                 validation_data=(X_test, Y_test),\n",
    "                 verbose=2,\n",
    "                 callbacks=[custom_hist])\n",
    "plt.plot(hist.history[\"loss\"])\n",
    "plt.show()"
   ]
  },
  {
   "cell_type": "code",
   "execution_count": 26,
   "metadata": {
    "scrolled": false
   },
   "outputs": [
    {
     "data": {
      "image/png": "[encoded data removed]",
      "text/plain": [
       "<Figure size 432x288 with 1 Axes>"
      ]
     },
     "metadata": {
      "needs_background": "light"
     },
     "output_type": "display_data"
    },
    {
     "name": "stdout",
     "output_type": "stream",
     "text": [
      "<keras.engine.sequential.Sequential object at 0x000001E19F455C88>\n",
      "{'batch_size': 1000, 'epochs': 30, 'steps': None, 'samples': 60000, 'verbose': 2, 'do_validation': True, 'metrics': ['loss', 'accuracy', 'val_loss', 'val_accuracy']}\n",
      "[0.120683335, 0.20128334, 0.25806665, 0.33955, 0.3882, 0.40651667, 0.43256667, 0.4549, 0.48371667, 0.50495, 0.52725, 0.5507333, 0.5683, 0.58963335, 0.60805, 0.62555, 0.64141667, 0.66181666, 0.6799333, 0.69638336, 0.7119167, 0.7238333, 0.7356, 0.7449167, 0.75338334, 0.76088333, 0.76715, 0.77388334, 0.77996665, 0.78508335]\n",
      "0.8026000261306763\n"
     ]
    },
    {
     "data": {
      "image/png": "[encoded data removed]",
      "text/plain": [
       "<Figure size 432x288 with 1 Axes>"
      ]
     },
     "metadata": {
      "needs_background": "light"
     },
     "output_type": "display_data"
    }
   ],
   "source": [
    "plt.plot(hist.history[\"accuracy\"], \"b-\", label=\"training\")\n",
    "plt.plot(hist.history[\"val_accuracy\"], \"r:\", label=\"test\")\n",
    "plt.legend()\n",
    "plt.show()\n",
    "\n",
    "print(hist.model)\n",
    "print(hist.params)\n",
    "print(hist.history[\"accuracy\"])\n",
    "print(hist.history[\"val_accuracy\"][29])\n",
    "plt.show()\n",
    "plt.plot(custom_hist.train_loss, \"y\", label=\"train loss\")\n",
    "plt.show()"
   ]
  },
  {
   "cell_type": "code",
   "execution_count": 27,
   "metadata": {},
   "outputs": [
    {
     "data": {
      "text/plain": [
       "array([[0.09661809, 0.01256534, 0.0857769 , 0.02382597, 0.088494  ,\n",
       "        0.06951162, 0.06905296, 0.7364791 , 0.0355393 , 0.05977838]],\n",
       "      dtype=float32)"
      ]
     },
     "execution_count": 27,
     "metadata": {},
     "output_type": "execute_result"
    }
   ],
   "source": [
    "# 문제. X_test의 이미지 한장의 label을 예측해보시요.\n",
    "model.predict(X_test[:1, :]) # 결과 - 10개의 확률값으로 나옴"
   ]
  },
  {
   "cell_type": "code",
   "execution_count": 28,
   "metadata": {},
   "outputs": [
    {
     "data": {
      "text/plain": [
       "array([7], dtype=int64)"
      ]
     },
     "execution_count": 28,
     "metadata": {},
     "output_type": "execute_result"
    }
   ],
   "source": [
    "model.predict_classes(X_test[:1, :], verbose=0) # "
   ]
  },
  {
   "cell_type": "code",
   "execution_count": 29,
   "metadata": {},
   "outputs": [],
   "source": [
    "# 출력차수가 512인 레이어를 추가하시요.(위에 있음)"
   ]
  },
  {
   "cell_type": "code",
   "execution_count": 30,
   "metadata": {},
   "outputs": [],
   "source": [
    "# boston 집값 예측\n",
    "from keras.datasets import boston_housing\n",
    "# x_train : 404 x 13, y_train : 404\n",
    "# x_test : 102 x 13, t_test : 102\n",
    "(x_train, y_train), (x_test, y_test) = boston_housing.load_data()\n",
    "num_features = 13"
   ]
  },
  {
   "cell_type": "code",
   "execution_count": 31,
   "metadata": {},
   "outputs": [],
   "source": [
    "model = Sequential()\n",
    "model.add(Dense(1, input_dim=num_features, activation=\"linear\"))"
   ]
  },
  {
   "cell_type": "code",
   "execution_count": 32,
   "metadata": {},
   "outputs": [
    {
     "name": "stdout",
     "output_type": "stream",
     "text": [
      "Model: \"sequential_5\"\n",
      "_________________________________________________________________\n",
      "Layer (type)                 Output Shape              Param #   \n",
      "=================================================================\n",
      "dense_12 (Dense)             (None, 1)                 14        \n",
      "=================================================================\n",
      "Total params: 14\n",
      "Trainable params: 14\n",
      "Non-trainable params: 0\n",
      "_________________________________________________________________\n",
      "Epoch 1/10\n",
      "404/404 [==============================] - 0s 763us/step - loss: 28031.2535 - mae: 127.1642\n",
      "Epoch 2/10\n",
      "404/404 [==============================] - 0s 523us/step - loss: 3554.3965 - mae: 46.6836\n",
      "Epoch 3/10\n",
      "404/404 [==============================] - 0s 531us/step - loss: 1257.6941 - mae: 27.5113\n",
      "Epoch 4/10\n",
      "404/404 [==============================] - 0s 535us/step - loss: 298.5174 - mae: 12.8495\n",
      "Epoch 5/10\n",
      "404/404 [==============================] - 0s 531us/step - loss: 140.4095 - mae: 8.7667\n",
      "Epoch 6/10\n",
      "404/404 [==============================] - 0s 581us/step - loss: 126.6947 - mae: 8.0275\n",
      "Epoch 7/10\n",
      "404/404 [==============================] - 0s 542us/step - loss: 113.5021 - mae: 7.5869\n",
      "Epoch 8/10\n",
      "404/404 [==============================] - 0s 566us/step - loss: 104.8122 - mae: 7.3391\n",
      "Epoch 9/10\n",
      "404/404 [==============================] - 0s 533us/step - loss: 98.4709 - mae: 7.0894\n",
      "Epoch 10/10\n",
      "404/404 [==============================] - 0s 528us/step - loss: 91.2522 - mae: 6.6835\n"
     ]
    },
    {
     "data": {
      "text/plain": [
       "<keras.callbacks.callbacks.History at 0x1e1a8f56088>"
      ]
     },
     "execution_count": 32,
     "metadata": {},
     "output_type": "execute_result"
    }
   ],
   "source": [
    "model.summary()\n",
    "model.compile(optimizer=\"rmsprop\", loss=\"mse\", metrics=[\"mae\"])\n",
    "model.fit(x_train, y_train, batch_size=1, epochs=10, verbose=1)"
   ]
  },
  {
   "cell_type": "code",
   "execution_count": 33,
   "metadata": {},
   "outputs": [
    {
     "data": {
      "text/plain": [
       "(80.5265775194355, 8.973660207486994, 6.593564033508301)"
      ]
     },
     "execution_count": 33,
     "metadata": {},
     "output_type": "execute_result"
    }
   ],
   "source": [
    "# accuracy\n",
    "mse, mae = model.evaluate(x_test, y_test, verbose=False)\n",
    "rmse = np.sqrt(mse)\n",
    "mse, rmse, mae"
   ]
  },
  {
   "cell_type": "code",
   "execution_count": 34,
   "metadata": {},
   "outputs": [
    {
     "data": {
      "text/plain": [
       "array([[ 8.539897],\n",
       "       [19.76989 ],\n",
       "       [27.80211 ]], dtype=float32)"
      ]
     },
     "execution_count": 34,
     "metadata": {},
     "output_type": "execute_result"
    }
   ],
   "source": [
    "# 문제. X_test의 앞의 3개의 집을 예측하시요.\n",
    "pred = model.predict(x_test[:3, :])\n",
    "pred"
   ]
  },
  {
   "cell_type": "code",
   "execution_count": 35,
   "metadata": {},
   "outputs": [
    {
     "data": {
      "text/plain": [
       "array([ 7.2, 18.8, 19. ])"
      ]
     },
     "execution_count": 35,
     "metadata": {},
     "output_type": "execute_result"
    }
   ],
   "source": [
    "real = y_test[:3]\n",
    "real"
   ]
  },
  {
   "cell_type": "code",
   "execution_count": 36,
   "metadata": {},
   "outputs": [
    {
     "data": {
      "text/plain": [
       "array([[1.        , 0.91582434],\n",
       "       [0.91582434, 1.        ]])"
      ]
     },
     "execution_count": 36,
     "metadata": {},
     "output_type": "execute_result"
    }
   ],
   "source": [
    "# 상관계수를 확인하시요.\n",
    "import numpy as np\n",
    "np.corrcoef(pred.reshape(3), real)"
   ]
  },
  {
   "cell_type": "code",
   "execution_count": null,
   "metadata": {},
   "outputs": [],
   "source": [
    "#########내가 한거"
   ]
  },
  {
   "cell_type": "code",
   "execution_count": 47,
   "metadata": {},
   "outputs": [],
   "source": [
    "# scikits - keras 연결 => KerasClassifier, KerasRegressor\n",
    "import numpy\n",
    "from sklearn.model_selection import GridSearchCV\n",
    "from keras.models import Sequential\n",
    "from keras.layers import Dense\n",
    "from keras.wrappers.scikit_learn import KerasClassifier"
   ]
  },
  {
   "cell_type": "code",
   "execution_count": 52,
   "metadata": {},
   "outputs": [],
   "source": [
    "# 입력768x9 => (768,8), (768,1) 종속변수\n",
    "# 변수 8개\n",
    "def create_model():\n",
    "    model = Sequential()\n",
    "    # 8x12(가중치) => 768x12\n",
    "    model.add(Dense(12, input_dim=8, activation='relu'))\n",
    "    model.add(Dropout(dropoup_rate))\n",
    "    # 768x12 => 768x1\n",
    "    model.add(Dense(1, kernel_initializer=init_mode, activation=\"sigmoid\")) # 0~1사이의 값으로\n",
    "    model.compile(loss=\"binary_crossentropy\", optimizer=\"adam\", metrics=[\"accuracy\"])\n",
    "    return model\n",
    "\n",
    "seed = 7\n",
    "numpy.random.seed(seed)\n",
    "dataset = numpy.loadtxt(\"pima.csv\", delimiter=\",\")\n",
    "\n",
    "X = dataset[:, 0:8]\n",
    "Y = dataset[:, 8]\n",
    "#create model\n",
    "#Earlystopping\n",
    "from keras.callbacks import EarlyStopping\n",
    "stopper=EarlyStopping(monitor='val_accuracy',patience=3,verbose=1)\n",
    "#model = KerasClassifier(build_fn=create_model, verbose=0)\n",
    "model=KerasClassifier(build_fn=create_model,epochs=100,batch_size=40)"
   ]
  },
  {
   "cell_type": "code",
   "execution_count": 53,
   "metadata": {},
   "outputs": [
    {
     "name": "stderr",
     "output_type": "stream",
     "text": [
      "C:\\Users\\ICT01_15\\Anaconda3\\lib\\site-packages\\sklearn\\model_selection\\_split.py:1978: FutureWarning: The default value of cv will change from 3 to 5 in version 0.22. Specify it explicitly to silence this warning.\n",
      "  warnings.warn(CV_WARNING, FutureWarning)\n"
     ]
    },
    {
     "ename": "NameError",
     "evalue": "name 'Dropout' is not defined",
     "output_type": "error",
     "traceback": [
      "\u001b[1;31m---------------------------------------------------------------------------\u001b[0m",
      "\u001b[1;31m_RemoteTraceback\u001b[0m                          Traceback (most recent call last)",
      "\u001b[1;31m_RemoteTraceback\u001b[0m: \n\"\"\"\nTraceback (most recent call last):\n  File \"C:\\Users\\ICT01_15\\Anaconda3\\lib\\site-packages\\joblib\\externals\\loky\\process_executor.py\", line 418, in _process_worker\n    r = call_item()\n  File \"C:\\Users\\ICT01_15\\Anaconda3\\lib\\site-packages\\joblib\\externals\\loky\\process_executor.py\", line 272, in __call__\n    return self.fn(*self.args, **self.kwargs)\n  File \"C:\\Users\\ICT01_15\\Anaconda3\\lib\\site-packages\\joblib\\_parallel_backends.py\", line 567, in __call__\n    return self.func(*args, **kwargs)\n  File \"C:\\Users\\ICT01_15\\Anaconda3\\lib\\site-packages\\joblib\\parallel.py\", line 225, in __call__\n    for func, args, kwargs in self.items]\n  File \"C:\\Users\\ICT01_15\\Anaconda3\\lib\\site-packages\\joblib\\parallel.py\", line 225, in <listcomp>\n    for func, args, kwargs in self.items]\n  File \"C:\\Users\\ICT01_15\\Anaconda3\\lib\\site-packages\\sklearn\\model_selection\\_validation.py\", line 516, in _fit_and_score\n    estimator.fit(X_train, y_train, **fit_params)\n  File \"C:\\Users\\ICT01_15\\Anaconda3\\lib\\site-packages\\keras\\wrappers\\scikit_learn.py\", line 209, in fit\n    return super(KerasClassifier, self).fit(x, y, **kwargs)\n  File \"C:\\Users\\ICT01_15\\Anaconda3\\lib\\site-packages\\keras\\wrappers\\scikit_learn.py\", line 142, in fit\n    self.model = self.build_fn(**self.filter_sk_params(self.build_fn))\n  File \"<ipython-input-52-7778457334f8>\", line 7, in create_model\nNameError: name 'Dropout' is not defined\n\"\"\"",
      "\nThe above exception was the direct cause of the following exception:\n",
      "\u001b[1;31mNameError\u001b[0m                                 Traceback (most recent call last)",
      "\u001b[1;32m<ipython-input-53-164cd589418d>\u001b[0m in \u001b[0;36m<module>\u001b[1;34m\u001b[0m\n\u001b[0;32m     10\u001b[0m \u001b[0mfit_params\u001b[0m\u001b[1;33m=\u001b[0m\u001b[0mdict\u001b[0m\u001b[1;33m(\u001b[0m\u001b[0mcallbacks\u001b[0m\u001b[1;33m=\u001b[0m\u001b[1;33m[\u001b[0m\u001b[0mstopper\u001b[0m\u001b[1;33m]\u001b[0m\u001b[1;33m)\u001b[0m\u001b[1;33m\u001b[0m\u001b[1;33m\u001b[0m\u001b[0m\n\u001b[0;32m     11\u001b[0m \u001b[1;31m#변동매개변수 (여러개가 전달될때)list= *, dict=**\u001b[0m\u001b[1;33m\u001b[0m\u001b[1;33m\u001b[0m\u001b[1;33m\u001b[0m\u001b[0m\n\u001b[1;32m---> 12\u001b[1;33m \u001b[0mgrid_result\u001b[0m \u001b[1;33m=\u001b[0m \u001b[0mgrid\u001b[0m\u001b[1;33m.\u001b[0m\u001b[0mfit\u001b[0m\u001b[1;33m(\u001b[0m\u001b[0mX\u001b[0m\u001b[1;33m,\u001b[0m \u001b[0mY\u001b[0m\u001b[1;33m,\u001b[0m\u001b[1;33m**\u001b[0m\u001b[0mfit_params\u001b[0m\u001b[1;33m)\u001b[0m\u001b[1;33m\u001b[0m\u001b[1;33m\u001b[0m\u001b[0m\n\u001b[0m\u001b[0;32m     13\u001b[0m \u001b[1;33m\u001b[0m\u001b[0m\n\u001b[0;32m     14\u001b[0m \u001b[1;31m#summarize results\u001b[0m\u001b[1;33m\u001b[0m\u001b[1;33m\u001b[0m\u001b[1;33m\u001b[0m\u001b[0m\n",
      "\u001b[1;32m~\\Anaconda3\\lib\\site-packages\\sklearn\\model_selection\\_search.py\u001b[0m in \u001b[0;36mfit\u001b[1;34m(self, X, y, groups, **fit_params)\u001b[0m\n\u001b[0;32m    686\u001b[0m                 \u001b[1;32mreturn\u001b[0m \u001b[0mresults\u001b[0m\u001b[1;33m\u001b[0m\u001b[1;33m\u001b[0m\u001b[0m\n\u001b[0;32m    687\u001b[0m \u001b[1;33m\u001b[0m\u001b[0m\n\u001b[1;32m--> 688\u001b[1;33m             \u001b[0mself\u001b[0m\u001b[1;33m.\u001b[0m\u001b[0m_run_search\u001b[0m\u001b[1;33m(\u001b[0m\u001b[0mevaluate_candidates\u001b[0m\u001b[1;33m)\u001b[0m\u001b[1;33m\u001b[0m\u001b[1;33m\u001b[0m\u001b[0m\n\u001b[0m\u001b[0;32m    689\u001b[0m \u001b[1;33m\u001b[0m\u001b[0m\n\u001b[0;32m    690\u001b[0m         \u001b[1;31m# For multi-metric evaluation, store the best_index_, best_params_ and\u001b[0m\u001b[1;33m\u001b[0m\u001b[1;33m\u001b[0m\u001b[1;33m\u001b[0m\u001b[0m\n",
      "\u001b[1;32m~\\Anaconda3\\lib\\site-packages\\sklearn\\model_selection\\_search.py\u001b[0m in \u001b[0;36m_run_search\u001b[1;34m(self, evaluate_candidates)\u001b[0m\n\u001b[0;32m   1147\u001b[0m     \u001b[1;32mdef\u001b[0m \u001b[0m_run_search\u001b[0m\u001b[1;33m(\u001b[0m\u001b[0mself\u001b[0m\u001b[1;33m,\u001b[0m \u001b[0mevaluate_candidates\u001b[0m\u001b[1;33m)\u001b[0m\u001b[1;33m:\u001b[0m\u001b[1;33m\u001b[0m\u001b[1;33m\u001b[0m\u001b[0m\n\u001b[0;32m   1148\u001b[0m         \u001b[1;34m\"\"\"Search all candidates in param_grid\"\"\"\u001b[0m\u001b[1;33m\u001b[0m\u001b[1;33m\u001b[0m\u001b[0m\n\u001b[1;32m-> 1149\u001b[1;33m         \u001b[0mevaluate_candidates\u001b[0m\u001b[1;33m(\u001b[0m\u001b[0mParameterGrid\u001b[0m\u001b[1;33m(\u001b[0m\u001b[0mself\u001b[0m\u001b[1;33m.\u001b[0m\u001b[0mparam_grid\u001b[0m\u001b[1;33m)\u001b[0m\u001b[1;33m)\u001b[0m\u001b[1;33m\u001b[0m\u001b[1;33m\u001b[0m\u001b[0m\n\u001b[0m\u001b[0;32m   1150\u001b[0m \u001b[1;33m\u001b[0m\u001b[0m\n\u001b[0;32m   1151\u001b[0m \u001b[1;33m\u001b[0m\u001b[0m\n",
      "\u001b[1;32m~\\Anaconda3\\lib\\site-packages\\sklearn\\model_selection\\_search.py\u001b[0m in \u001b[0;36mevaluate_candidates\u001b[1;34m(candidate_params)\u001b[0m\n\u001b[0;32m    665\u001b[0m                                \u001b[1;32mfor\u001b[0m \u001b[0mparameters\u001b[0m\u001b[1;33m,\u001b[0m \u001b[1;33m(\u001b[0m\u001b[0mtrain\u001b[0m\u001b[1;33m,\u001b[0m \u001b[0mtest\u001b[0m\u001b[1;33m)\u001b[0m\u001b[1;33m\u001b[0m\u001b[1;33m\u001b[0m\u001b[0m\n\u001b[0;32m    666\u001b[0m                                in product(candidate_params,\n\u001b[1;32m--> 667\u001b[1;33m                                           cv.split(X, y, groups)))\n\u001b[0m\u001b[0;32m    668\u001b[0m \u001b[1;33m\u001b[0m\u001b[0m\n\u001b[0;32m    669\u001b[0m                 \u001b[1;32mif\u001b[0m \u001b[0mlen\u001b[0m\u001b[1;33m(\u001b[0m\u001b[0mout\u001b[0m\u001b[1;33m)\u001b[0m \u001b[1;33m<\u001b[0m \u001b[1;36m1\u001b[0m\u001b[1;33m:\u001b[0m\u001b[1;33m\u001b[0m\u001b[1;33m\u001b[0m\u001b[0m\n",
      "\u001b[1;32m~\\Anaconda3\\lib\\site-packages\\joblib\\parallel.py\u001b[0m in \u001b[0;36m__call__\u001b[1;34m(self, iterable)\u001b[0m\n\u001b[0;32m    932\u001b[0m \u001b[1;33m\u001b[0m\u001b[0m\n\u001b[0;32m    933\u001b[0m             \u001b[1;32mwith\u001b[0m \u001b[0mself\u001b[0m\u001b[1;33m.\u001b[0m\u001b[0m_backend\u001b[0m\u001b[1;33m.\u001b[0m\u001b[0mretrieval_context\u001b[0m\u001b[1;33m(\u001b[0m\u001b[1;33m)\u001b[0m\u001b[1;33m:\u001b[0m\u001b[1;33m\u001b[0m\u001b[1;33m\u001b[0m\u001b[0m\n\u001b[1;32m--> 934\u001b[1;33m                 \u001b[0mself\u001b[0m\u001b[1;33m.\u001b[0m\u001b[0mretrieve\u001b[0m\u001b[1;33m(\u001b[0m\u001b[1;33m)\u001b[0m\u001b[1;33m\u001b[0m\u001b[1;33m\u001b[0m\u001b[0m\n\u001b[0m\u001b[0;32m    935\u001b[0m             \u001b[1;31m# Make sure that we get a last message telling us we are done\u001b[0m\u001b[1;33m\u001b[0m\u001b[1;33m\u001b[0m\u001b[1;33m\u001b[0m\u001b[0m\n\u001b[0;32m    936\u001b[0m             \u001b[0melapsed_time\u001b[0m \u001b[1;33m=\u001b[0m \u001b[0mtime\u001b[0m\u001b[1;33m.\u001b[0m\u001b[0mtime\u001b[0m\u001b[1;33m(\u001b[0m\u001b[1;33m)\u001b[0m \u001b[1;33m-\u001b[0m \u001b[0mself\u001b[0m\u001b[1;33m.\u001b[0m\u001b[0m_start_time\u001b[0m\u001b[1;33m\u001b[0m\u001b[1;33m\u001b[0m\u001b[0m\n",
      "\u001b[1;32m~\\Anaconda3\\lib\\site-packages\\joblib\\parallel.py\u001b[0m in \u001b[0;36mretrieve\u001b[1;34m(self)\u001b[0m\n\u001b[0;32m    831\u001b[0m             \u001b[1;32mtry\u001b[0m\u001b[1;33m:\u001b[0m\u001b[1;33m\u001b[0m\u001b[1;33m\u001b[0m\u001b[0m\n\u001b[0;32m    832\u001b[0m                 \u001b[1;32mif\u001b[0m \u001b[0mgetattr\u001b[0m\u001b[1;33m(\u001b[0m\u001b[0mself\u001b[0m\u001b[1;33m.\u001b[0m\u001b[0m_backend\u001b[0m\u001b[1;33m,\u001b[0m \u001b[1;34m'supports_timeout'\u001b[0m\u001b[1;33m,\u001b[0m \u001b[1;32mFalse\u001b[0m\u001b[1;33m)\u001b[0m\u001b[1;33m:\u001b[0m\u001b[1;33m\u001b[0m\u001b[1;33m\u001b[0m\u001b[0m\n\u001b[1;32m--> 833\u001b[1;33m                     \u001b[0mself\u001b[0m\u001b[1;33m.\u001b[0m\u001b[0m_output\u001b[0m\u001b[1;33m.\u001b[0m\u001b[0mextend\u001b[0m\u001b[1;33m(\u001b[0m\u001b[0mjob\u001b[0m\u001b[1;33m.\u001b[0m\u001b[0mget\u001b[0m\u001b[1;33m(\u001b[0m\u001b[0mtimeout\u001b[0m\u001b[1;33m=\u001b[0m\u001b[0mself\u001b[0m\u001b[1;33m.\u001b[0m\u001b[0mtimeout\u001b[0m\u001b[1;33m)\u001b[0m\u001b[1;33m)\u001b[0m\u001b[1;33m\u001b[0m\u001b[1;33m\u001b[0m\u001b[0m\n\u001b[0m\u001b[0;32m    834\u001b[0m                 \u001b[1;32melse\u001b[0m\u001b[1;33m:\u001b[0m\u001b[1;33m\u001b[0m\u001b[1;33m\u001b[0m\u001b[0m\n\u001b[0;32m    835\u001b[0m                     \u001b[0mself\u001b[0m\u001b[1;33m.\u001b[0m\u001b[0m_output\u001b[0m\u001b[1;33m.\u001b[0m\u001b[0mextend\u001b[0m\u001b[1;33m(\u001b[0m\u001b[0mjob\u001b[0m\u001b[1;33m.\u001b[0m\u001b[0mget\u001b[0m\u001b[1;33m(\u001b[0m\u001b[1;33m)\u001b[0m\u001b[1;33m)\u001b[0m\u001b[1;33m\u001b[0m\u001b[1;33m\u001b[0m\u001b[0m\n",
      "\u001b[1;32m~\\Anaconda3\\lib\\site-packages\\joblib\\_parallel_backends.py\u001b[0m in \u001b[0;36mwrap_future_result\u001b[1;34m(future, timeout)\u001b[0m\n\u001b[0;32m    519\u001b[0m         AsyncResults.get from multiprocessing.\"\"\"\n\u001b[0;32m    520\u001b[0m         \u001b[1;32mtry\u001b[0m\u001b[1;33m:\u001b[0m\u001b[1;33m\u001b[0m\u001b[1;33m\u001b[0m\u001b[0m\n\u001b[1;32m--> 521\u001b[1;33m             \u001b[1;32mreturn\u001b[0m \u001b[0mfuture\u001b[0m\u001b[1;33m.\u001b[0m\u001b[0mresult\u001b[0m\u001b[1;33m(\u001b[0m\u001b[0mtimeout\u001b[0m\u001b[1;33m=\u001b[0m\u001b[0mtimeout\u001b[0m\u001b[1;33m)\u001b[0m\u001b[1;33m\u001b[0m\u001b[1;33m\u001b[0m\u001b[0m\n\u001b[0m\u001b[0;32m    522\u001b[0m         \u001b[1;32mexcept\u001b[0m \u001b[0mLokyTimeoutError\u001b[0m\u001b[1;33m:\u001b[0m\u001b[1;33m\u001b[0m\u001b[1;33m\u001b[0m\u001b[0m\n\u001b[0;32m    523\u001b[0m             \u001b[1;32mraise\u001b[0m \u001b[0mTimeoutError\u001b[0m\u001b[1;33m(\u001b[0m\u001b[1;33m)\u001b[0m\u001b[1;33m\u001b[0m\u001b[1;33m\u001b[0m\u001b[0m\n",
      "\u001b[1;32m~\\Anaconda3\\lib\\concurrent\\futures\\_base.py\u001b[0m in \u001b[0;36mresult\u001b[1;34m(self, timeout)\u001b[0m\n\u001b[0;32m    433\u001b[0m                 \u001b[1;32mraise\u001b[0m \u001b[0mCancelledError\u001b[0m\u001b[1;33m(\u001b[0m\u001b[1;33m)\u001b[0m\u001b[1;33m\u001b[0m\u001b[1;33m\u001b[0m\u001b[0m\n\u001b[0;32m    434\u001b[0m             \u001b[1;32melif\u001b[0m \u001b[0mself\u001b[0m\u001b[1;33m.\u001b[0m\u001b[0m_state\u001b[0m \u001b[1;33m==\u001b[0m \u001b[0mFINISHED\u001b[0m\u001b[1;33m:\u001b[0m\u001b[1;33m\u001b[0m\u001b[1;33m\u001b[0m\u001b[0m\n\u001b[1;32m--> 435\u001b[1;33m                 \u001b[1;32mreturn\u001b[0m \u001b[0mself\u001b[0m\u001b[1;33m.\u001b[0m\u001b[0m__get_result\u001b[0m\u001b[1;33m(\u001b[0m\u001b[1;33m)\u001b[0m\u001b[1;33m\u001b[0m\u001b[1;33m\u001b[0m\u001b[0m\n\u001b[0m\u001b[0;32m    436\u001b[0m             \u001b[1;32melse\u001b[0m\u001b[1;33m:\u001b[0m\u001b[1;33m\u001b[0m\u001b[1;33m\u001b[0m\u001b[0m\n\u001b[0;32m    437\u001b[0m                 \u001b[1;32mraise\u001b[0m \u001b[0mTimeoutError\u001b[0m\u001b[1;33m(\u001b[0m\u001b[1;33m)\u001b[0m\u001b[1;33m\u001b[0m\u001b[1;33m\u001b[0m\u001b[0m\n",
      "\u001b[1;32m~\\Anaconda3\\lib\\concurrent\\futures\\_base.py\u001b[0m in \u001b[0;36m__get_result\u001b[1;34m(self)\u001b[0m\n\u001b[0;32m    382\u001b[0m     \u001b[1;32mdef\u001b[0m \u001b[0m__get_result\u001b[0m\u001b[1;33m(\u001b[0m\u001b[0mself\u001b[0m\u001b[1;33m)\u001b[0m\u001b[1;33m:\u001b[0m\u001b[1;33m\u001b[0m\u001b[1;33m\u001b[0m\u001b[0m\n\u001b[0;32m    383\u001b[0m         \u001b[1;32mif\u001b[0m \u001b[0mself\u001b[0m\u001b[1;33m.\u001b[0m\u001b[0m_exception\u001b[0m\u001b[1;33m:\u001b[0m\u001b[1;33m\u001b[0m\u001b[1;33m\u001b[0m\u001b[0m\n\u001b[1;32m--> 384\u001b[1;33m             \u001b[1;32mraise\u001b[0m \u001b[0mself\u001b[0m\u001b[1;33m.\u001b[0m\u001b[0m_exception\u001b[0m\u001b[1;33m\u001b[0m\u001b[1;33m\u001b[0m\u001b[0m\n\u001b[0m\u001b[0;32m    385\u001b[0m         \u001b[1;32melse\u001b[0m\u001b[1;33m:\u001b[0m\u001b[1;33m\u001b[0m\u001b[1;33m\u001b[0m\u001b[0m\n\u001b[0;32m    386\u001b[0m             \u001b[1;32mreturn\u001b[0m \u001b[0mself\u001b[0m\u001b[1;33m.\u001b[0m\u001b[0m_result\u001b[0m\u001b[1;33m\u001b[0m\u001b[1;33m\u001b[0m\u001b[0m\n",
      "\u001b[1;31mNameError\u001b[0m: name 'Dropout' is not defined"
     ]
    }
   ],
   "source": [
    "# parameter 조합 만들기\n",
    "#batch_size = [10, 20, 40, 60, 80, 100]\n",
    "#epochs = [10, 50, 100]\n",
    "\n",
    "dropout_rate=[0.0,0.1,0.2,0.3,0.4,0.5,0.6,0.7,0.8,0.9]\n",
    "init_mode=['uniform','lecun_uniform','normal','zero','glorot_normal','glorot_uniform','he_normal','he_uniform']\n",
    "activation=['softmax','softplus','softsign','relu','tanh','sigmoid','hard_sigmoid','linear']\n",
    "param_grid = dict(batch_size=batch_size, epochs=epochs)\n",
    "grid = GridSearchCV(estimator=model, param_grid=param_grid, n_jobs=-1) # n_jobs:참여하는 CPU개수(-1=전부)\n",
    "fit_params=dict(callbacks=[stopper])\n",
    "#변동매개변수 (여러개가 전달될때)list= *, dict=**\n",
    "grid_result = grid.fit(X, Y,**fit_params)\n",
    "\n",
    "#summarize results\n",
    "print(\"최적스코어: %f 사용한 파라미터 조합 : %s\" %(grid_result.best_score_,grid_result.best_params_))\n",
    "means = grid_result.cv_results_[\"mean_test_score\"]\n",
    "stds = grid_result.cv_results_[\"std_test_score\"]\n",
    "params = grid_result.cv_results_[\"params\"]\n",
    "for mean, stdev, param in zip(means, stds, params):\n",
    "    print(\"%f (%f) with: %r\" %(mean, stdev, param))"
   ]
  },
  {
   "cell_type": "code",
   "execution_count": 40,
   "metadata": {},
   "outputs": [],
   "source": [
    "# 문제.\n",
    "# 1) dense2에 가중치 초기화 매개변수를 넣어주고, 가장 최적의 가중치 초기화 파라미터를 결정하시요.\n",
    "# 가중치 초기화 매개변수 -> kenel_initializer\n",
    "['uniform','lecun_uniform','normal','zero','glorot_normal','glorot_uniform','he_normal','he_uniform']\n",
    "\n",
    "# 2) dense1에는 activation함수를 넣어주고, 가장 좋은 activation함수를 결정하시요.\n",
    "['softmax','softplus','softsign','relu','tanh','sigmoid','hard_sigmoid','linear']"
   ]
  },
  {
   "cell_type": "code",
   "execution_count": 41,
   "metadata": {},
   "outputs": [
    {
     "data": {
      "text/plain": [
       "'2.3.1'"
      ]
     },
     "execution_count": 41,
     "metadata": {},
     "output_type": "execute_result"
    }
   ],
   "source": [
    "keras.__version__"
   ]
  },
  {
   "cell_type": "code",
   "execution_count": 42,
   "metadata": {},
   "outputs": [
    {
     "data": {
      "text/plain": [
       "'1.14.0'"
      ]
     },
     "execution_count": 42,
     "metadata": {},
     "output_type": "execute_result"
    }
   ],
   "source": [
    "import tensorflow as tf\n",
    "tf.__version__"
   ]
  },
  {
   "cell_type": "code",
   "execution_count": 46,
   "metadata": {},
   "outputs": [
    {
     "ename": "ValueError",
     "evalue": "('Could not interpret activation function identifier:', ['softmax', 'softplus', 'softsign', 'relu', 'tanh', 'sigmoid', 'hard_sigmoid', 'linear'])",
     "output_type": "error",
     "traceback": [
      "\u001b[1;31m---------------------------------------------------------------------------\u001b[0m",
      "\u001b[1;31m_RemoteTraceback\u001b[0m                          Traceback (most recent call last)",
      "\u001b[1;31m_RemoteTraceback\u001b[0m: \n\"\"\"\nTraceback (most recent call last):\n  File \"C:\\Users\\ICT01_15\\Anaconda3\\lib\\site-packages\\joblib\\externals\\loky\\process_executor.py\", line 418, in _process_worker\n    r = call_item()\n  File \"C:\\Users\\ICT01_15\\Anaconda3\\lib\\site-packages\\joblib\\externals\\loky\\process_executor.py\", line 272, in __call__\n    return self.fn(*self.args, **self.kwargs)\n  File \"C:\\Users\\ICT01_15\\Anaconda3\\lib\\site-packages\\joblib\\_parallel_backends.py\", line 567, in __call__\n    return self.func(*args, **kwargs)\n  File \"C:\\Users\\ICT01_15\\Anaconda3\\lib\\site-packages\\joblib\\parallel.py\", line 225, in __call__\n    for func, args, kwargs in self.items]\n  File \"C:\\Users\\ICT01_15\\Anaconda3\\lib\\site-packages\\joblib\\parallel.py\", line 225, in <listcomp>\n    for func, args, kwargs in self.items]\n  File \"C:\\Users\\ICT01_15\\Anaconda3\\lib\\site-packages\\sklearn\\model_selection\\_validation.py\", line 516, in _fit_and_score\n    estimator.fit(X_train, y_train, **fit_params)\n  File \"C:\\Users\\ICT01_15\\Anaconda3\\lib\\site-packages\\keras\\wrappers\\scikit_learn.py\", line 209, in fit\n    return super(KerasClassifier, self).fit(x, y, **kwargs)\n  File \"C:\\Users\\ICT01_15\\Anaconda3\\lib\\site-packages\\keras\\wrappers\\scikit_learn.py\", line 142, in fit\n    self.model = self.build_fn(**self.filter_sk_params(self.build_fn))\n  File \"<ipython-input-44-9cda47376d40>\", line 6, in create_model\n  File \"C:\\Users\\ICT01_15\\Anaconda3\\lib\\site-packages\\keras\\legacy\\interfaces.py\", line 91, in wrapper\n    return func(*args, **kwargs)\n  File \"C:\\Users\\ICT01_15\\Anaconda3\\lib\\site-packages\\keras\\layers\\core.py\", line 875, in __init__\n    self.activation = activations.get(activation)\n  File \"C:\\Users\\ICT01_15\\Anaconda3\\lib\\site-packages\\keras\\activations.py\", line 239, in get\n    'activation function identifier:', identifier)\nValueError: ('Could not interpret activation function identifier:', ['softmax', 'softplus', 'softsign', 'relu', 'tanh', 'sigmoid', 'hard_sigmoid', 'linear'])\n\"\"\"",
      "\nThe above exception was the direct cause of the following exception:\n",
      "\u001b[1;31mValueError\u001b[0m                                Traceback (most recent call last)",
      "\u001b[1;32m<ipython-input-46-b42be106f1b0>\u001b[0m in \u001b[0;36m<module>\u001b[1;34m\u001b[0m\n\u001b[0;32m      4\u001b[0m \u001b[0mparam_grid\u001b[0m \u001b[1;33m=\u001b[0m \u001b[0mdict\u001b[0m\u001b[1;33m(\u001b[0m\u001b[0mbatch_size\u001b[0m\u001b[1;33m=\u001b[0m\u001b[0mbatch_size\u001b[0m\u001b[1;33m,\u001b[0m \u001b[0mepochs\u001b[0m\u001b[1;33m=\u001b[0m\u001b[0mepochs\u001b[0m\u001b[1;33m)\u001b[0m\u001b[1;33m\u001b[0m\u001b[1;33m\u001b[0m\u001b[0m\n\u001b[0;32m      5\u001b[0m \u001b[0mgrid\u001b[0m \u001b[1;33m=\u001b[0m \u001b[0mGridSearchCV\u001b[0m\u001b[1;33m(\u001b[0m\u001b[0mestimator\u001b[0m\u001b[1;33m=\u001b[0m\u001b[0mmodel\u001b[0m\u001b[1;33m,\u001b[0m \u001b[0mparam_grid\u001b[0m\u001b[1;33m=\u001b[0m\u001b[0mparam_grid\u001b[0m\u001b[1;33m,\u001b[0m \u001b[0mn_jobs\u001b[0m\u001b[1;33m=\u001b[0m\u001b[1;33m-\u001b[0m\u001b[1;36m1\u001b[0m\u001b[1;33m)\u001b[0m \u001b[1;31m# n_jobs:참여하는 CPU개수(-1=전부)\u001b[0m\u001b[1;33m\u001b[0m\u001b[1;33m\u001b[0m\u001b[0m\n\u001b[1;32m----> 6\u001b[1;33m \u001b[0mgrid_result\u001b[0m \u001b[1;33m=\u001b[0m \u001b[0mgrid\u001b[0m\u001b[1;33m.\u001b[0m\u001b[0mfit\u001b[0m\u001b[1;33m(\u001b[0m\u001b[0mX\u001b[0m\u001b[1;33m,\u001b[0m \u001b[0mY\u001b[0m\u001b[1;33m)\u001b[0m\u001b[1;33m\u001b[0m\u001b[1;33m\u001b[0m\u001b[0m\n\u001b[0m\u001b[0;32m      7\u001b[0m \u001b[0mprint\u001b[0m\u001b[1;33m(\u001b[0m\u001b[1;34m\"최적스코어: %f      사용한 파라미터 조합 : %s\"\u001b[0m \u001b[1;33m%\u001b[0m\u001b[1;33m(\u001b[0m\u001b[0mgrid_result\u001b[0m\u001b[1;33m.\u001b[0m\u001b[0mbest_score_\u001b[0m\u001b[1;33m,\u001b[0m\u001b[0mgrid_result\u001b[0m\u001b[1;33m.\u001b[0m\u001b[0mbest_params_\u001b[0m\u001b[1;33m)\u001b[0m\u001b[1;33m)\u001b[0m\u001b[1;33m\u001b[0m\u001b[1;33m\u001b[0m\u001b[0m\n\u001b[0;32m      8\u001b[0m \u001b[0mmeans\u001b[0m \u001b[1;33m=\u001b[0m \u001b[0mgrid_result\u001b[0m\u001b[1;33m.\u001b[0m\u001b[0mcv_results_\u001b[0m\u001b[1;33m[\u001b[0m\u001b[1;34m\"mean_test_score\"\u001b[0m\u001b[1;33m]\u001b[0m\u001b[1;33m\u001b[0m\u001b[1;33m\u001b[0m\u001b[0m\n",
      "\u001b[1;32m~\\Anaconda3\\lib\\site-packages\\sklearn\\model_selection\\_search.py\u001b[0m in \u001b[0;36mfit\u001b[1;34m(self, X, y, groups, **fit_params)\u001b[0m\n\u001b[0;32m    686\u001b[0m                 \u001b[1;32mreturn\u001b[0m \u001b[0mresults\u001b[0m\u001b[1;33m\u001b[0m\u001b[1;33m\u001b[0m\u001b[0m\n\u001b[0;32m    687\u001b[0m \u001b[1;33m\u001b[0m\u001b[0m\n\u001b[1;32m--> 688\u001b[1;33m             \u001b[0mself\u001b[0m\u001b[1;33m.\u001b[0m\u001b[0m_run_search\u001b[0m\u001b[1;33m(\u001b[0m\u001b[0mevaluate_candidates\u001b[0m\u001b[1;33m)\u001b[0m\u001b[1;33m\u001b[0m\u001b[1;33m\u001b[0m\u001b[0m\n\u001b[0m\u001b[0;32m    689\u001b[0m \u001b[1;33m\u001b[0m\u001b[0m\n\u001b[0;32m    690\u001b[0m         \u001b[1;31m# For multi-metric evaluation, store the best_index_, best_params_ and\u001b[0m\u001b[1;33m\u001b[0m\u001b[1;33m\u001b[0m\u001b[1;33m\u001b[0m\u001b[0m\n",
      "\u001b[1;32m~\\Anaconda3\\lib\\site-packages\\sklearn\\model_selection\\_search.py\u001b[0m in \u001b[0;36m_run_search\u001b[1;34m(self, evaluate_candidates)\u001b[0m\n\u001b[0;32m   1147\u001b[0m     \u001b[1;32mdef\u001b[0m \u001b[0m_run_search\u001b[0m\u001b[1;33m(\u001b[0m\u001b[0mself\u001b[0m\u001b[1;33m,\u001b[0m \u001b[0mevaluate_candidates\u001b[0m\u001b[1;33m)\u001b[0m\u001b[1;33m:\u001b[0m\u001b[1;33m\u001b[0m\u001b[1;33m\u001b[0m\u001b[0m\n\u001b[0;32m   1148\u001b[0m         \u001b[1;34m\"\"\"Search all candidates in param_grid\"\"\"\u001b[0m\u001b[1;33m\u001b[0m\u001b[1;33m\u001b[0m\u001b[0m\n\u001b[1;32m-> 1149\u001b[1;33m         \u001b[0mevaluate_candidates\u001b[0m\u001b[1;33m(\u001b[0m\u001b[0mParameterGrid\u001b[0m\u001b[1;33m(\u001b[0m\u001b[0mself\u001b[0m\u001b[1;33m.\u001b[0m\u001b[0mparam_grid\u001b[0m\u001b[1;33m)\u001b[0m\u001b[1;33m)\u001b[0m\u001b[1;33m\u001b[0m\u001b[1;33m\u001b[0m\u001b[0m\n\u001b[0m\u001b[0;32m   1150\u001b[0m \u001b[1;33m\u001b[0m\u001b[0m\n\u001b[0;32m   1151\u001b[0m \u001b[1;33m\u001b[0m\u001b[0m\n",
      "\u001b[1;32m~\\Anaconda3\\lib\\site-packages\\sklearn\\model_selection\\_search.py\u001b[0m in \u001b[0;36mevaluate_candidates\u001b[1;34m(candidate_params)\u001b[0m\n\u001b[0;32m    665\u001b[0m                                \u001b[1;32mfor\u001b[0m \u001b[0mparameters\u001b[0m\u001b[1;33m,\u001b[0m \u001b[1;33m(\u001b[0m\u001b[0mtrain\u001b[0m\u001b[1;33m,\u001b[0m \u001b[0mtest\u001b[0m\u001b[1;33m)\u001b[0m\u001b[1;33m\u001b[0m\u001b[1;33m\u001b[0m\u001b[0m\n\u001b[0;32m    666\u001b[0m                                in product(candidate_params,\n\u001b[1;32m--> 667\u001b[1;33m                                           cv.split(X, y, groups)))\n\u001b[0m\u001b[0;32m    668\u001b[0m \u001b[1;33m\u001b[0m\u001b[0m\n\u001b[0;32m    669\u001b[0m                 \u001b[1;32mif\u001b[0m \u001b[0mlen\u001b[0m\u001b[1;33m(\u001b[0m\u001b[0mout\u001b[0m\u001b[1;33m)\u001b[0m \u001b[1;33m<\u001b[0m \u001b[1;36m1\u001b[0m\u001b[1;33m:\u001b[0m\u001b[1;33m\u001b[0m\u001b[1;33m\u001b[0m\u001b[0m\n",
      "\u001b[1;32m~\\Anaconda3\\lib\\site-packages\\joblib\\parallel.py\u001b[0m in \u001b[0;36m__call__\u001b[1;34m(self, iterable)\u001b[0m\n\u001b[0;32m    932\u001b[0m \u001b[1;33m\u001b[0m\u001b[0m\n\u001b[0;32m    933\u001b[0m             \u001b[1;32mwith\u001b[0m \u001b[0mself\u001b[0m\u001b[1;33m.\u001b[0m\u001b[0m_backend\u001b[0m\u001b[1;33m.\u001b[0m\u001b[0mretrieval_context\u001b[0m\u001b[1;33m(\u001b[0m\u001b[1;33m)\u001b[0m\u001b[1;33m:\u001b[0m\u001b[1;33m\u001b[0m\u001b[1;33m\u001b[0m\u001b[0m\n\u001b[1;32m--> 934\u001b[1;33m                 \u001b[0mself\u001b[0m\u001b[1;33m.\u001b[0m\u001b[0mretrieve\u001b[0m\u001b[1;33m(\u001b[0m\u001b[1;33m)\u001b[0m\u001b[1;33m\u001b[0m\u001b[1;33m\u001b[0m\u001b[0m\n\u001b[0m\u001b[0;32m    935\u001b[0m             \u001b[1;31m# Make sure that we get a last message telling us we are done\u001b[0m\u001b[1;33m\u001b[0m\u001b[1;33m\u001b[0m\u001b[1;33m\u001b[0m\u001b[0m\n\u001b[0;32m    936\u001b[0m             \u001b[0melapsed_time\u001b[0m \u001b[1;33m=\u001b[0m \u001b[0mtime\u001b[0m\u001b[1;33m.\u001b[0m\u001b[0mtime\u001b[0m\u001b[1;33m(\u001b[0m\u001b[1;33m)\u001b[0m \u001b[1;33m-\u001b[0m \u001b[0mself\u001b[0m\u001b[1;33m.\u001b[0m\u001b[0m_start_time\u001b[0m\u001b[1;33m\u001b[0m\u001b[1;33m\u001b[0m\u001b[0m\n",
      "\u001b[1;32m~\\Anaconda3\\lib\\site-packages\\joblib\\parallel.py\u001b[0m in \u001b[0;36mretrieve\u001b[1;34m(self)\u001b[0m\n\u001b[0;32m    831\u001b[0m             \u001b[1;32mtry\u001b[0m\u001b[1;33m:\u001b[0m\u001b[1;33m\u001b[0m\u001b[1;33m\u001b[0m\u001b[0m\n\u001b[0;32m    832\u001b[0m                 \u001b[1;32mif\u001b[0m \u001b[0mgetattr\u001b[0m\u001b[1;33m(\u001b[0m\u001b[0mself\u001b[0m\u001b[1;33m.\u001b[0m\u001b[0m_backend\u001b[0m\u001b[1;33m,\u001b[0m \u001b[1;34m'supports_timeout'\u001b[0m\u001b[1;33m,\u001b[0m \u001b[1;32mFalse\u001b[0m\u001b[1;33m)\u001b[0m\u001b[1;33m:\u001b[0m\u001b[1;33m\u001b[0m\u001b[1;33m\u001b[0m\u001b[0m\n\u001b[1;32m--> 833\u001b[1;33m                     \u001b[0mself\u001b[0m\u001b[1;33m.\u001b[0m\u001b[0m_output\u001b[0m\u001b[1;33m.\u001b[0m\u001b[0mextend\u001b[0m\u001b[1;33m(\u001b[0m\u001b[0mjob\u001b[0m\u001b[1;33m.\u001b[0m\u001b[0mget\u001b[0m\u001b[1;33m(\u001b[0m\u001b[0mtimeout\u001b[0m\u001b[1;33m=\u001b[0m\u001b[0mself\u001b[0m\u001b[1;33m.\u001b[0m\u001b[0mtimeout\u001b[0m\u001b[1;33m)\u001b[0m\u001b[1;33m)\u001b[0m\u001b[1;33m\u001b[0m\u001b[1;33m\u001b[0m\u001b[0m\n\u001b[0m\u001b[0;32m    834\u001b[0m                 \u001b[1;32melse\u001b[0m\u001b[1;33m:\u001b[0m\u001b[1;33m\u001b[0m\u001b[1;33m\u001b[0m\u001b[0m\n\u001b[0;32m    835\u001b[0m                     \u001b[0mself\u001b[0m\u001b[1;33m.\u001b[0m\u001b[0m_output\u001b[0m\u001b[1;33m.\u001b[0m\u001b[0mextend\u001b[0m\u001b[1;33m(\u001b[0m\u001b[0mjob\u001b[0m\u001b[1;33m.\u001b[0m\u001b[0mget\u001b[0m\u001b[1;33m(\u001b[0m\u001b[1;33m)\u001b[0m\u001b[1;33m)\u001b[0m\u001b[1;33m\u001b[0m\u001b[1;33m\u001b[0m\u001b[0m\n",
      "\u001b[1;32m~\\Anaconda3\\lib\\site-packages\\joblib\\_parallel_backends.py\u001b[0m in \u001b[0;36mwrap_future_result\u001b[1;34m(future, timeout)\u001b[0m\n\u001b[0;32m    519\u001b[0m         AsyncResults.get from multiprocessing.\"\"\"\n\u001b[0;32m    520\u001b[0m         \u001b[1;32mtry\u001b[0m\u001b[1;33m:\u001b[0m\u001b[1;33m\u001b[0m\u001b[1;33m\u001b[0m\u001b[0m\n\u001b[1;32m--> 521\u001b[1;33m             \u001b[1;32mreturn\u001b[0m \u001b[0mfuture\u001b[0m\u001b[1;33m.\u001b[0m\u001b[0mresult\u001b[0m\u001b[1;33m(\u001b[0m\u001b[0mtimeout\u001b[0m\u001b[1;33m=\u001b[0m\u001b[0mtimeout\u001b[0m\u001b[1;33m)\u001b[0m\u001b[1;33m\u001b[0m\u001b[1;33m\u001b[0m\u001b[0m\n\u001b[0m\u001b[0;32m    522\u001b[0m         \u001b[1;32mexcept\u001b[0m \u001b[0mLokyTimeoutError\u001b[0m\u001b[1;33m:\u001b[0m\u001b[1;33m\u001b[0m\u001b[1;33m\u001b[0m\u001b[0m\n\u001b[0;32m    523\u001b[0m             \u001b[1;32mraise\u001b[0m \u001b[0mTimeoutError\u001b[0m\u001b[1;33m(\u001b[0m\u001b[1;33m)\u001b[0m\u001b[1;33m\u001b[0m\u001b[1;33m\u001b[0m\u001b[0m\n",
      "\u001b[1;32m~\\Anaconda3\\lib\\concurrent\\futures\\_base.py\u001b[0m in \u001b[0;36mresult\u001b[1;34m(self, timeout)\u001b[0m\n\u001b[0;32m    433\u001b[0m                 \u001b[1;32mraise\u001b[0m \u001b[0mCancelledError\u001b[0m\u001b[1;33m(\u001b[0m\u001b[1;33m)\u001b[0m\u001b[1;33m\u001b[0m\u001b[1;33m\u001b[0m\u001b[0m\n\u001b[0;32m    434\u001b[0m             \u001b[1;32melif\u001b[0m \u001b[0mself\u001b[0m\u001b[1;33m.\u001b[0m\u001b[0m_state\u001b[0m \u001b[1;33m==\u001b[0m \u001b[0mFINISHED\u001b[0m\u001b[1;33m:\u001b[0m\u001b[1;33m\u001b[0m\u001b[1;33m\u001b[0m\u001b[0m\n\u001b[1;32m--> 435\u001b[1;33m                 \u001b[1;32mreturn\u001b[0m \u001b[0mself\u001b[0m\u001b[1;33m.\u001b[0m\u001b[0m__get_result\u001b[0m\u001b[1;33m(\u001b[0m\u001b[1;33m)\u001b[0m\u001b[1;33m\u001b[0m\u001b[1;33m\u001b[0m\u001b[0m\n\u001b[0m\u001b[0;32m    436\u001b[0m             \u001b[1;32melse\u001b[0m\u001b[1;33m:\u001b[0m\u001b[1;33m\u001b[0m\u001b[1;33m\u001b[0m\u001b[0m\n\u001b[0;32m    437\u001b[0m                 \u001b[1;32mraise\u001b[0m \u001b[0mTimeoutError\u001b[0m\u001b[1;33m(\u001b[0m\u001b[1;33m)\u001b[0m\u001b[1;33m\u001b[0m\u001b[1;33m\u001b[0m\u001b[0m\n",
      "\u001b[1;32m~\\Anaconda3\\lib\\concurrent\\futures\\_base.py\u001b[0m in \u001b[0;36m__get_result\u001b[1;34m(self)\u001b[0m\n\u001b[0;32m    382\u001b[0m     \u001b[1;32mdef\u001b[0m \u001b[0m__get_result\u001b[0m\u001b[1;33m(\u001b[0m\u001b[0mself\u001b[0m\u001b[1;33m)\u001b[0m\u001b[1;33m:\u001b[0m\u001b[1;33m\u001b[0m\u001b[1;33m\u001b[0m\u001b[0m\n\u001b[0;32m    383\u001b[0m         \u001b[1;32mif\u001b[0m \u001b[0mself\u001b[0m\u001b[1;33m.\u001b[0m\u001b[0m_exception\u001b[0m\u001b[1;33m:\u001b[0m\u001b[1;33m\u001b[0m\u001b[1;33m\u001b[0m\u001b[0m\n\u001b[1;32m--> 384\u001b[1;33m             \u001b[1;32mraise\u001b[0m \u001b[0mself\u001b[0m\u001b[1;33m.\u001b[0m\u001b[0m_exception\u001b[0m\u001b[1;33m\u001b[0m\u001b[1;33m\u001b[0m\u001b[0m\n\u001b[0m\u001b[0;32m    385\u001b[0m         \u001b[1;32melse\u001b[0m\u001b[1;33m:\u001b[0m\u001b[1;33m\u001b[0m\u001b[1;33m\u001b[0m\u001b[0m\n\u001b[0;32m    386\u001b[0m             \u001b[1;32mreturn\u001b[0m \u001b[0mself\u001b[0m\u001b[1;33m.\u001b[0m\u001b[0m_result\u001b[0m\u001b[1;33m\u001b[0m\u001b[1;33m\u001b[0m\u001b[0m\n",
      "\u001b[1;31mValueError\u001b[0m: ('Could not interpret activation function identifier:', ['softmax', 'softplus', 'softsign', 'relu', 'tanh', 'sigmoid', 'hard_sigmoid', 'linear'])"
     ]
    }
   ],
   "source": [
    "#1\n",
    "#init_mode=['uniform','lecun_uniform','normal','zero','glorot_normal','glorot_uniform','he_normal','he_uniform']\n",
    "#activation=['softmax','softplus','softsign','relu','tanh','sigmoid','hard_sigmoid','linear']\n",
    "#param_grid = dict(batch_size=batch_size, epochs=epochs)\n",
    "#grid = GridSearchCV(estimator=model, param_grid=param_grid, n_jobs=-1) # n_jobs:참여하는 CPU개수(-1=전부)\n",
    "#grid_result = grid.fit(X, Y)\n",
    "#print(\"최적스코어: %f      사용한 파라미터 조합 : %s\" %(grid_result.best_score_,grid_result.best_params_))\n",
    "#means = grid_result.cv_results_[\"mean_test_score\"]\n",
    "#stds = grid_result.cv_results_[\"std_test_score\"]\n",
    "#params = grid_result.cv_results_[\"params\"]\n",
    "#for mean, stdev, param in zip(means, stds, params):\n",
    "#    print(\"%f (%f) with: %r\" %(mean, stdev, param))"
   ]
  },
  {
   "cell_type": "code",
   "execution_count": null,
   "metadata": {},
   "outputs": [],
   "source": [
    "##################다시########"
   ]
  },
  {
   "cell_type": "code",
   "execution_count": 54,
   "metadata": {},
   "outputs": [
    {
     "name": "stderr",
     "output_type": "stream",
     "text": [
      "C:\\Users\\ICT01_15\\Anaconda3\\lib\\site-packages\\joblib\\externals\\loky\\process_executor.py:706: UserWarning: A worker stopped while some jobs were given to the executor. This can be caused by a too short worker timeout or by a memory leak.\n",
      "  \"timeout or by a memory leak.\", UserWarning\n"
     ]
    },
    {
     "name": "stdout",
     "output_type": "stream",
     "text": [
      "Epoch 1/100\n",
      "768/768 [==============================] - 0s 457us/step - loss: 5.3827 - accuracy: 0.6510\n",
      "Epoch 2/100\n",
      "768/768 [==============================] - 0s 97us/step - loss: 3.2521 - accuracy: 0.5807\n",
      "Epoch 3/100\n",
      "768/768 [==============================] - 0s 97us/step - loss: 0.7907 - accuracy: 0.6354\n",
      "Epoch 4/100\n",
      " 10/768 [..............................] - ETA: 0s - loss: 0.9570 - accuracy: 0.5000"
     ]
    },
    {
     "name": "stderr",
     "output_type": "stream",
     "text": [
      "C:\\Users\\ICT01_15\\Anaconda3\\lib\\site-packages\\keras\\callbacks\\callbacks.py:846: RuntimeWarning: Early stopping conditioned on metric `var_accuracy` which is not available. Available metrics are: loss,accuracy\n",
      "  (self.monitor, ','.join(list(logs.keys()))), RuntimeWarning\n"
     ]
    },
    {
     "name": "stdout",
     "output_type": "stream",
     "text": [
      "768/768 [==============================] - 0s 92us/step - loss: 0.6842 - accuracy: 0.6471\n",
      "Epoch 5/100\n",
      "768/768 [==============================] - 0s 88us/step - loss: 0.7030 - accuracy: 0.6549\n",
      "Epoch 6/100\n",
      "768/768 [==============================] - 0s 93us/step - loss: 0.6643 - accuracy: 0.6667\n",
      "Epoch 7/100\n",
      "768/768 [==============================] - 0s 96us/step - loss: 0.7011 - accuracy: 0.6237\n",
      "Epoch 8/100\n",
      "768/768 [==============================] - 0s 99us/step - loss: 0.6822 - accuracy: 0.6562\n",
      "Epoch 9/100\n",
      "768/768 [==============================] - 0s 100us/step - loss: 0.6783 - accuracy: 0.6523\n",
      "Epoch 10/100\n",
      "768/768 [==============================] - 0s 110us/step - loss: 0.6504 - accuracy: 0.6641\n",
      "Epoch 11/100\n",
      "768/768 [==============================] - 0s 90us/step - loss: 0.6593 - accuracy: 0.6680\n",
      "Epoch 12/100\n",
      "768/768 [==============================] - 0s 88us/step - loss: 0.6622 - accuracy: 0.6549\n",
      "Epoch 13/100\n",
      "768/768 [==============================] - 0s 88us/step - loss: 0.6562 - accuracy: 0.6784\n",
      "Epoch 14/100\n",
      "768/768 [==============================] - 0s 92us/step - loss: 0.6540 - accuracy: 0.6654\n",
      "Epoch 15/100\n",
      "768/768 [==============================] - 0s 87us/step - loss: 0.6656 - accuracy: 0.6589\n",
      "Epoch 16/100\n",
      "768/768 [==============================] - 0s 96us/step - loss: 0.6561 - accuracy: 0.6589\n",
      "Epoch 17/100\n",
      "768/768 [==============================] - 0s 92us/step - loss: 0.6520 - accuracy: 0.6602\n",
      "Epoch 18/100\n",
      "768/768 [==============================] - 0s 95us/step - loss: 0.6574 - accuracy: 0.6628\n",
      "Epoch 19/100\n",
      "768/768 [==============================] - 0s 97us/step - loss: 0.6511 - accuracy: 0.6758\n",
      "Epoch 20/100\n",
      "768/768 [==============================] - 0s 96us/step - loss: 0.6350 - accuracy: 0.6784\n",
      "Epoch 21/100\n",
      "768/768 [==============================] - 0s 91us/step - loss: 0.6408 - accuracy: 0.6745\n",
      "Epoch 22/100\n",
      "768/768 [==============================] - 0s 96us/step - loss: 0.6364 - accuracy: 0.6862\n",
      "Epoch 23/100\n",
      "768/768 [==============================] - 0s 93us/step - loss: 0.6333 - accuracy: 0.6875\n",
      "Epoch 24/100\n",
      "768/768 [==============================] - 0s 92us/step - loss: 0.6386 - accuracy: 0.6810\n",
      "Epoch 25/100\n",
      "768/768 [==============================] - 0s 88us/step - loss: 0.6260 - accuracy: 0.6810\n",
      "Epoch 26/100\n",
      "768/768 [==============================] - 0s 92us/step - loss: 0.6370 - accuracy: 0.6719\n",
      "Epoch 27/100\n",
      "768/768 [==============================] - 0s 88us/step - loss: 0.6315 - accuracy: 0.6758\n",
      "Epoch 28/100\n",
      "768/768 [==============================] - 0s 90us/step - loss: 0.6144 - accuracy: 0.6719\n",
      "Epoch 29/100\n",
      "768/768 [==============================] - 0s 92us/step - loss: 0.6358 - accuracy: 0.6562\n",
      "Epoch 30/100\n",
      "768/768 [==============================] - 0s 91us/step - loss: 0.6249 - accuracy: 0.6719\n",
      "Epoch 31/100\n",
      "768/768 [==============================] - 0s 95us/step - loss: 0.6215 - accuracy: 0.6667\n",
      "Epoch 32/100\n",
      "768/768 [==============================] - 0s 94us/step - loss: 0.6166 - accuracy: 0.6797\n",
      "Epoch 33/100\n",
      "768/768 [==============================] - 0s 90us/step - loss: 0.6265 - accuracy: 0.6771\n",
      "Epoch 34/100\n",
      "768/768 [==============================] - 0s 86us/step - loss: 0.6170 - accuracy: 0.6745\n",
      "Epoch 35/100\n",
      "768/768 [==============================] - 0s 90us/step - loss: 0.6068 - accuracy: 0.6849\n",
      "Epoch 36/100\n",
      "768/768 [==============================] - 0s 92us/step - loss: 0.6087 - accuracy: 0.6849\n",
      "Epoch 37/100\n",
      "768/768 [==============================] - 0s 90us/step - loss: 0.6097 - accuracy: 0.6823\n",
      "Epoch 38/100\n",
      "768/768 [==============================] - 0s 92us/step - loss: 0.6114 - accuracy: 0.6823\n",
      "Epoch 39/100\n",
      "768/768 [==============================] - 0s 95us/step - loss: 0.5925 - accuracy: 0.6823\n",
      "Epoch 40/100\n",
      "768/768 [==============================] - 0s 101us/step - loss: 0.6029 - accuracy: 0.6888\n",
      "Epoch 41/100\n",
      "768/768 [==============================] - 0s 90us/step - loss: 0.5976 - accuracy: 0.6979\n",
      "Epoch 42/100\n",
      "768/768 [==============================] - 0s 91us/step - loss: 0.5966 - accuracy: 0.6914\n",
      "Epoch 43/100\n",
      "768/768 [==============================] - 0s 90us/step - loss: 0.5980 - accuracy: 0.7005\n",
      "Epoch 44/100\n",
      "768/768 [==============================] - 0s 95us/step - loss: 0.5889 - accuracy: 0.6992\n",
      "Epoch 45/100\n",
      "768/768 [==============================] - 0s 88us/step - loss: 0.5917 - accuracy: 0.6927\n",
      "Epoch 46/100\n",
      "768/768 [==============================] - 0s 92us/step - loss: 0.5838 - accuracy: 0.6862\n",
      "Epoch 47/100\n",
      "768/768 [==============================] - 0s 92us/step - loss: 0.5794 - accuracy: 0.7214\n",
      "Epoch 48/100\n",
      "768/768 [==============================] - 0s 91us/step - loss: 0.5759 - accuracy: 0.7201\n",
      "Epoch 49/100\n",
      "768/768 [==============================] - 0s 91us/step - loss: 0.5822 - accuracy: 0.7174\n",
      "Epoch 50/100\n",
      "768/768 [==============================] - 0s 88us/step - loss: 0.5812 - accuracy: 0.7044\n",
      "Epoch 51/100\n",
      "768/768 [==============================] - 0s 100us/step - loss: 0.5834 - accuracy: 0.7018\n",
      "Epoch 52/100\n",
      "768/768 [==============================] - 0s 93us/step - loss: 0.5918 - accuracy: 0.6992\n",
      "Epoch 53/100\n",
      "768/768 [==============================] - 0s 85us/step - loss: 0.5923 - accuracy: 0.6810\n",
      "Epoch 54/100\n",
      "768/768 [==============================] - 0s 91us/step - loss: 0.5829 - accuracy: 0.7057\n",
      "Epoch 55/100\n",
      "768/768 [==============================] - 0s 90us/step - loss: 0.5746 - accuracy: 0.7096\n",
      "Epoch 56/100\n",
      "768/768 [==============================] - 0s 88us/step - loss: 0.5740 - accuracy: 0.7135\n",
      "Epoch 57/100\n",
      "768/768 [==============================] - 0s 90us/step - loss: 0.5747 - accuracy: 0.7135\n",
      "Epoch 58/100\n",
      "768/768 [==============================] - 0s 91us/step - loss: 0.5868 - accuracy: 0.7057\n",
      "Epoch 59/100\n",
      "768/768 [==============================] - 0s 88us/step - loss: 0.5644 - accuracy: 0.7214\n",
      "Epoch 60/100\n",
      "768/768 [==============================] - 0s 93us/step - loss: 0.5771 - accuracy: 0.7083\n",
      "Epoch 61/100\n",
      "768/768 [==============================] - 0s 88us/step - loss: 0.5738 - accuracy: 0.7148\n",
      "Epoch 62/100\n",
      "768/768 [==============================] - 0s 89us/step - loss: 0.5861 - accuracy: 0.7096\n",
      "Epoch 63/100\n",
      "768/768 [==============================] - 0s 91us/step - loss: 0.5879 - accuracy: 0.6953\n",
      "Epoch 64/100\n",
      "768/768 [==============================] - 0s 95us/step - loss: 0.5800 - accuracy: 0.7109\n",
      "Epoch 65/100\n",
      "768/768 [==============================] - 0s 96us/step - loss: 0.5818 - accuracy: 0.7057\n",
      "Epoch 66/100\n",
      "768/768 [==============================] - 0s 94us/step - loss: 0.5865 - accuracy: 0.6953\n",
      "Epoch 67/100\n",
      "768/768 [==============================] - 0s 91us/step - loss: 0.5747 - accuracy: 0.7240\n",
      "Epoch 68/100\n",
      "768/768 [==============================] - 0s 90us/step - loss: 0.5688 - accuracy: 0.7096\n",
      "Epoch 69/100\n",
      "768/768 [==============================] - 0s 90us/step - loss: 0.5732 - accuracy: 0.7096\n",
      "Epoch 70/100\n",
      "768/768 [==============================] - 0s 91us/step - loss: 0.5808 - accuracy: 0.6979\n",
      "Epoch 71/100\n",
      "768/768 [==============================] - 0s 98us/step - loss: 0.5701 - accuracy: 0.7083\n",
      "Epoch 72/100\n",
      "768/768 [==============================] - 0s 91us/step - loss: 0.5700 - accuracy: 0.7135\n",
      "Epoch 73/100\n",
      "768/768 [==============================] - 0s 89us/step - loss: 0.5785 - accuracy: 0.7005\n",
      "Epoch 74/100\n",
      "768/768 [==============================] - 0s 88us/step - loss: 0.5766 - accuracy: 0.7018\n",
      "Epoch 75/100\n",
      "768/768 [==============================] - 0s 86us/step - loss: 0.5851 - accuracy: 0.7083\n",
      "Epoch 76/100\n",
      "768/768 [==============================] - 0s 96us/step - loss: 0.5785 - accuracy: 0.6992\n",
      "Epoch 77/100\n",
      "768/768 [==============================] - 0s 86us/step - loss: 0.5691 - accuracy: 0.7031\n",
      "Epoch 78/100\n",
      "768/768 [==============================] - 0s 84us/step - loss: 0.5628 - accuracy: 0.7109\n",
      "Epoch 79/100\n",
      "768/768 [==============================] - 0s 86us/step - loss: 0.5787 - accuracy: 0.7070\n",
      "Epoch 80/100\n",
      "768/768 [==============================] - 0s 86us/step - loss: 0.5682 - accuracy: 0.7070\n",
      "Epoch 81/100\n",
      "768/768 [==============================] - 0s 88us/step - loss: 0.5838 - accuracy: 0.6966\n",
      "Epoch 82/100\n",
      "768/768 [==============================] - 0s 93us/step - loss: 0.5788 - accuracy: 0.7096\n",
      "Epoch 83/100\n"
     ]
    },
    {
     "name": "stdout",
     "output_type": "stream",
     "text": [
      "768/768 [==============================] - 0s 90us/step - loss: 0.5836 - accuracy: 0.6979\n",
      "Epoch 84/100\n",
      "768/768 [==============================] - 0s 87us/step - loss: 0.5651 - accuracy: 0.7122\n",
      "Epoch 85/100\n",
      "768/768 [==============================] - 0s 87us/step - loss: 0.5844 - accuracy: 0.6992\n",
      "Epoch 86/100\n",
      "768/768 [==============================] - 0s 87us/step - loss: 0.5685 - accuracy: 0.7135\n",
      "Epoch 87/100\n",
      "768/768 [==============================] - 0s 86us/step - loss: 0.5655 - accuracy: 0.7240\n",
      "Epoch 88/100\n",
      "768/768 [==============================] - 0s 88us/step - loss: 0.5580 - accuracy: 0.7214\n",
      "Epoch 89/100\n",
      "768/768 [==============================] - 0s 88us/step - loss: 0.6146 - accuracy: 0.7188\n",
      "Epoch 90/100\n",
      "768/768 [==============================] - 0s 88us/step - loss: 0.5747 - accuracy: 0.7057\n",
      "Epoch 91/100\n",
      "768/768 [==============================] - 0s 87us/step - loss: 0.5749 - accuracy: 0.7148\n",
      "Epoch 92/100\n",
      "768/768 [==============================] - 0s 87us/step - loss: 0.5690 - accuracy: 0.7109\n",
      "Epoch 93/100\n",
      "768/768 [==============================] - 0s 93us/step - loss: 0.5747 - accuracy: 0.7188\n",
      "Epoch 94/100\n",
      "768/768 [==============================] - 0s 86us/step - loss: 0.5781 - accuracy: 0.6849\n",
      "Epoch 95/100\n",
      "768/768 [==============================] - 0s 88us/step - loss: 0.5783 - accuracy: 0.6979\n",
      "Epoch 96/100\n",
      "768/768 [==============================] - 0s 86us/step - loss: 0.5758 - accuracy: 0.6979\n",
      "Epoch 97/100\n",
      "768/768 [==============================] - 0s 89us/step - loss: 0.5650 - accuracy: 0.7253\n",
      "Epoch 98/100\n",
      "768/768 [==============================] - 0s 86us/step - loss: 0.5695 - accuracy: 0.7188\n",
      "Epoch 99/100\n",
      "768/768 [==============================] - 0s 83us/step - loss: 0.5638 - accuracy: 0.7188\n",
      "Epoch 100/100\n",
      "768/768 [==============================] - 0s 86us/step - loss: 0.5761 - accuracy: 0.7070\n",
      "Best: 0.707031 using {'dropout_rate': 0.2, 'init_mode': 'uniform', 'optimizer': 'softmax'}\n",
      "0.679688 (0.016573) with: {'dropout_rate': 0.1, 'init_mode': 'uniform', 'optimizer': 'softmax'}\n",
      "0.000000 (0.000000) with: {'dropout_rate': 0.1, 'init_mode': 'uniform', 'optimizer': 'relu'}\n",
      "0.644531 (0.019401) with: {'dropout_rate': 0.1, 'init_mode': 'lecun_uniform', 'optimizer': 'softmax'}\n",
      "0.000000 (0.000000) with: {'dropout_rate': 0.1, 'init_mode': 'lecun_uniform', 'optimizer': 'relu'}\n",
      "0.707031 (0.006379) with: {'dropout_rate': 0.2, 'init_mode': 'uniform', 'optimizer': 'softmax'}\n",
      "0.000000 (0.000000) with: {'dropout_rate': 0.2, 'init_mode': 'uniform', 'optimizer': 'relu'}\n",
      "0.651042 (0.024774) with: {'dropout_rate': 0.2, 'init_mode': 'lecun_uniform', 'optimizer': 'softmax'}\n",
      "0.000000 (0.000000) with: {'dropout_rate': 0.2, 'init_mode': 'lecun_uniform', 'optimizer': 'relu'}\n",
      "0.677083 (0.033502) with: {'dropout_rate': 0.3, 'init_mode': 'uniform', 'optimizer': 'softmax'}\n",
      "0.332031 (0.286535) with: {'dropout_rate': 0.3, 'init_mode': 'uniform', 'optimizer': 'relu'}\n",
      "0.651042 (0.024774) with: {'dropout_rate': 0.3, 'init_mode': 'lecun_uniform', 'optimizer': 'softmax'}\n",
      "0.000000 (0.000000) with: {'dropout_rate': 0.3, 'init_mode': 'lecun_uniform', 'optimizer': 'relu'}\n"
     ]
    }
   ],
   "source": [
    "# Use scikit-learn to grid search the weight initialization\n",
    "import numpy\n",
    "from sklearn.model_selection import GridSearchCV\n",
    "from keras.models import Sequential\n",
    "from keras.layers import Dense, Dropout\n",
    "from keras.wrappers.scikit_learn import KerasClassifier\n",
    "from keras.callbacks import EarlyStopping\n",
    "stopper = EarlyStopping(monitor='var_accuracy', patience=3, verbose=1)\n",
    "# Function to create model, required for KerasClassifier\n",
    "def create_model(init_mode='uniform',optimizer='relu',dropout_rate=0.1):\n",
    "# create model\n",
    "    model = Sequential()\n",
    "    model.add(Dense(12, input_dim=8, kernel_initializer=init_mode, activation=optimizer))\n",
    "    model.add(Dropout(dropout_rate))\n",
    "    model.add(Dense(1))\n",
    "    # Compile model\n",
    "    model.compile(loss='binary_crossentropy', optimizer='adam', metrics=['accuracy'])\n",
    "    return model\n",
    "# fix random seed for reproducibility\n",
    "seed = 7\n",
    "numpy.random.seed(seed)\n",
    "# load dataset\n",
    "dataset = numpy.loadtxt(\"pima.csv\", delimiter=\",\")\n",
    "# split into input (X) and output (Y) variables\n",
    "X = dataset[:,0:8]\n",
    "Y = dataset[:,8]\n",
    "# create model\n",
    "# Earlystopping\n",
    "model = KerasClassifier(build_fn=create_model, epochs=100, batch_size=10, verbose=1)\n",
    "# define the grid search parameters\n",
    "dropout_rate=[0.1,0.2,0.3] # ,0.4,0.5,0.6,0.7,0.8,0.9\n",
    "init_mode = ['uniform', 'lecun_uniform']# ,'normal','zero','glorot_normal','glorot_uniform','he_normal','he_uniform'\n",
    "optimizer = ['softmax','relu'] #, 'softplus', 'softsign','tanh','sigmoid','hard_sigmoid','linear'\n",
    "param_grid = dict(init_mode=init_mode,optimizer=optimizer,dropout_rate=dropout_rate)\n",
    "fit_params = dict(callbacks=[stopper])\n",
    "grid = GridSearchCV(estimator=model, param_grid=param_grid, n_jobs=-1, cv=3)\n",
    "# 변동 매개변수\n",
    "grid_result = grid.fit(X, Y, **fit_params)\n",
    "# summarize results\n",
    "print(\"Best: %f using %s\" % (grid_result.best_score_, grid_result.best_params_))\n",
    "means = grid_result.cv_results_['mean_test_score']\n",
    "stds = grid_result.cv_results_['std_test_score']\n",
    "params = grid_result.cv_results_['params']\n",
    "for mean, stdev, param in zip(means, stds, params):\n",
    "    print(\"%f (%f) with: %r\" % (mean, stdev, param))"
   ]
  },
  {
   "cell_type": "code",
   "execution_count": null,
   "metadata": {},
   "outputs": [],
   "source": [
    "#회귀"
   ]
  },
  {
   "cell_type": "code",
   "execution_count": 74,
   "metadata": {},
   "outputs": [],
   "source": [
    "from keras.wrappers.scikit_learn import KerasRegressor\n",
    "from sklearn.model_selection import cross_val_score\n",
    "from sklearn.model_selection import KFold\n",
    "from sklearn.preprocessing import StandardScaler\n",
    "from sklearn.pipeline import Pipeline\n",
    "import pandas"
   ]
  },
  {
   "cell_type": "code",
   "execution_count": 82,
   "metadata": {},
   "outputs": [
    {
     "name": "stdout",
     "output_type": "stream",
     "text": [
      "(506, 13)\n"
     ]
    }
   ],
   "source": [
    "dataframe=pandas.read_csv('housing.csv',delim_whitespace=True,header=None)\n",
    "dataset=dataframe.values\n",
    "X=dataset[:,0:13]\n",
    "Y=dataset[:,13] #reshape\n",
    "print(X.shape)"
   ]
  },
  {
   "cell_type": "code",
   "execution_count": 89,
   "metadata": {},
   "outputs": [],
   "source": [
    "#추가: 모델을 바꿔주면 \n"
   ]
  },
  {
   "cell_type": "code",
   "execution_count": null,
   "metadata": {},
   "outputs": [],
   "source": [
    "#추가"
   ]
  },
  {
   "cell_type": "code",
   "execution_count": 96,
   "metadata": {},
   "outputs": [],
   "source": [
    "#baseline_model 보다 deep 해짐\n",
    "def larger_model():\n",
    "    model=Sequential() \n",
    "    #506 x 13 13x13 506x13           #hyperparameter 뭐가 좋은지는 데이터에 따라 다르다 \n",
    "    model.add(Dense(13,input_dim=13,kernel_initializer='normal',activation='relu'))\n",
    "    #506 x 13 13x1  506x1\n",
    "    model.add(Dense(1,kernel_initializer='normal'))\n",
    "    model.compile(loss='mean_squared_error',optimizer='adam') #여기까지만 정의해준다\n",
    "    return model"
   ]
  },
  {
   "cell_type": "code",
   "execution_count": 97,
   "metadata": {},
   "outputs": [],
   "source": [
    "seed=7\n",
    "numpy.random.seed(seed)\n",
    "estimator=KerasRegressor(build_fn=larger_model,nb_epoch=100,batch_size=5,verbose=0)\n",
    "\n",
    "#결과:"
   ]
  },
  {
   "cell_type": "code",
   "execution_count": 115,
   "metadata": {},
   "outputs": [],
   "source": [
    "def baseline_model(): #모델안에있는 덴스에서는 줘야한다?\n",
    "    model=Sequential() \n",
    "    #506 x 13 13x13 506x13           #hyperparameter 뭐가 좋은지는 데이터에 따라 다르다 \n",
    "    model.add(Dense(13,input_dim=13,kernel_initializer='normal',activation='relu'))\n",
    "    #506 x 13 13x1  506x1\n",
    "    model.add(Dense(1,kernel_initializer='normal'))\n",
    "    model.compile(loss='mean_squared_error',optimizer='adam') #여기까지만 정의해준다\n",
    "    return model"
   ]
  },
  {
   "cell_type": "code",
   "execution_count": 116,
   "metadata": {},
   "outputs": [],
   "source": [
    "seed=7\n",
    "numpy.random.seed(seed)\n",
    "estimator=KerasRegressor(build_fn=baseline_model,nb_epoch=100,batch_size=5,verbose=0)\n",
    "\n",
    "#nb_epoch ,nb_epoch 는 fitting 할때줌\n",
    "#결과 results: -114.89 (83.20) MSE, standardized: -29.27 (27.70) MSE "
   ]
  },
  {
   "cell_type": "code",
   "execution_count": 109,
   "metadata": {},
   "outputs": [],
   "source": [
    "def wider_model(): #모델안에있는 덴스에서는 줘야한다?\n",
    "    model=Sequential() \n",
    "    #506 x 13 13x13 506x13           #hyperparameter 뭐가 좋은지는 데이터에 따라 다르다 \n",
    "    model.add(Dense(20,input_dim=13,kernel_initializer='normal',activation='relu'))\n",
    "    #506 x 13 13x1  506x1\n",
    "    model.add(Dense(1,kernel_initializer='normal'))\n",
    "    model.compile(loss='mean_squared_error',optimizer='adam') #여기까지만 정의해준다\n",
    "    return model"
   ]
  },
  {
   "cell_type": "code",
   "execution_count": 110,
   "metadata": {},
   "outputs": [],
   "source": [
    "seed=7\n",
    "numpy.random.seed(seed)\n",
    "estimator=KerasRegressor(build_fn=wider_model,nb_epoch=100,batch_size=5,verbose=0)\n",
    "\n",
    "#results: -101.97 (72.19) MSE\n",
    "#standardized: -29.48 (27.69) MSE"
   ]
  },
  {
   "cell_type": "code",
   "execution_count": 90,
   "metadata": {},
   "outputs": [],
   "source": []
  },
  {
   "cell_type": "code",
   "execution_count": 117,
   "metadata": {},
   "outputs": [
    {
     "name": "stdout",
     "output_type": "stream",
     "text": [
      "results: -114.57 (82.69) MSE\n"
     ]
    }
   ],
   "source": [
    "#10개중 한개는 validation: 검증용\n",
    "kfold=KFold(n_splits=10,random_state=seed)\n",
    "results=cross_val_score(estimator, X,Y,cv=kfold) #모델을 돌리지도 않았는데 평가를? 매개변수에 데이터를 던져줌, \n",
    "print('results: %.2f (%.2f) MSE' % (results.mean(),results.std()))"
   ]
  },
  {
   "cell_type": "code",
   "execution_count": 118,
   "metadata": {},
   "outputs": [
    {
     "name": "stdout",
     "output_type": "stream",
     "text": [
      "standardized: -29.49 (27.67) MSE\n"
     ]
    }
   ],
   "source": [
    "numpy.random.seed(seed)\n",
    "estimators=[]\n",
    "estimators.append(('standadize',StandardScaler()))\n",
    "estimators.append(('mlp',KerasRegressor(build_fn=baseline_model,epochs=50, batch_size=5,verbose=0))) #KerasRegressor 는 매개변수로 딕셔너리를 요구\n",
    "pipeline=Pipeline(estimators) #파이프라인의 매개 변수가 리스트를 요구 \n",
    "kfold=KFold(n_splits=10, random_state=seed)\n",
    "results=cross_val_score(pipeline,X,Y,cv=kfold)\n",
    "print('standardized: %.2f (%.2f) MSE' % (results.mean(),results.std()))"
   ]
  },
  {
   "cell_type": "code",
   "execution_count": 119,
   "metadata": {},
   "outputs": [
    {
     "data": {
      "text/plain": [
       "Pipeline(memory=None,\n",
       "         steps=[('standadize',\n",
       "                 StandardScaler(copy=True, with_mean=True, with_std=True)),\n",
       "                ('mlp',\n",
       "                 <keras.wrappers.scikit_learn.KerasRegressor object at 0x000001E243DBE108>)],\n",
       "         verbose=False)"
      ]
     },
     "execution_count": 119,
     "metadata": {},
     "output_type": "execute_result"
    }
   ],
   "source": [
    "pipeline.fit(X,Y)"
   ]
  },
  {
   "cell_type": "code",
   "execution_count": 120,
   "metadata": {},
   "outputs": [
    {
     "data": {
      "text/plain": [
       "29.822124"
      ]
     },
     "execution_count": 120,
     "metadata": {},
     "output_type": "execute_result"
    }
   ],
   "source": [
    "#예측하려면 파이프라인 자체가 최적의 예측을하고 있음?\n",
    "res=pipeline.predict(X)\n",
    "res[0]\n"
   ]
  },
  {
   "cell_type": "code",
   "execution_count": 121,
   "metadata": {},
   "outputs": [
    {
     "data": {
      "text/plain": [
       "array([[1.        , 0.91264519],\n",
       "       [0.91264519, 1.        ]])"
      ]
     },
     "execution_count": 121,
     "metadata": {},
     "output_type": "execute_result"
    }
   ],
   "source": [
    "#평가....? 상관계수로 \n",
    "np.corrcoef(res,Y)"
   ]
  },
  {
   "cell_type": "code",
   "execution_count": null,
   "metadata": {},
   "outputs": [],
   "source": []
  },
  {
   "cell_type": "code",
   "execution_count": null,
   "metadata": {},
   "outputs": [],
   "source": [
    "#####호경이###"
   ]
  },
  {
   "cell_type": "code",
   "execution_count": null,
   "metadata": {},
   "outputs": [],
   "source": [
    "\n",
    "from keras.models import Sequential\n",
    "from keras.layers import Dense\n",
    "from keras.wrappers.scikit_learn import KerasRegressor\n",
    "from sklearn.model_selection import cross_val_score\n",
    "from sklearn.model_selection import KFold\n",
    "from sklearn.preprocessing import StandardScaler\n",
    "from sklearn.pipeline import Pipeline\n",
    "import pandas\n",
    "import numpy"
   ]
  },
  {
   "cell_type": "code",
   "execution_count": null,
   "metadata": {},
   "outputs": [],
   "source": [
    "def baseline_model():\n",
    "    model = Sequential()\n",
    "    model.add(Dense(13, input_dim=13, kernel_initializer=\"normal\", activation=\"relu\"))\n",
    "    model.add(Dense(1, kernel_initializer=\"normal\"))\n",
    "    model.compile(loss=\"mean_squared_error\", optimizer=\"adam\")\n",
    "    return model"
   ]
  },
  {
   "cell_type": "code",
   "execution_count": null,
   "metadata": {},
   "outputs": [],
   "source": [
    "seed = 7\n",
    "numpy.random.seed(seed)\n",
    "estimator = KerasRegressor(build_fn=baseline_model, nb_epoch=100, batch_size=5, verbose=0)"
   ]
  },
  {
   "cell_type": "code",
   "execution_count": null,
   "metadata": {},
   "outputs": [],
   "source": [
    "kfold = KFold(n_splits=10, random_state=seed)\n",
    "results = cross_val_score(estimator, X, Y, cv=kfold)\n",
    "print(\"Results: %.2f (%.2f) MSE\" % (results.mean(), results.std()))"
   ]
  },
  {
   "cell_type": "code",
   "execution_count": null,
   "metadata": {},
   "outputs": [],
   "source": [
    "numpy.random.seed(seed)\n",
    "estimators = []\n",
    "estimators.append((\"standardize\", StandardScaler()))\n",
    "estimators.append((\"mlp\", KerasRegressor(build_fn=baseline_model, epochs=50, batch_size=5, verbose=0)))\n",
    "pipeline = Pipeline(estimators)\n",
    "kfold = KFold(n_splits=10, random_state=seed)\n",
    "results = cross_val_score(pipeline, X, Y, cv=kfold)\n",
    "print(\"Standardized: %.2f (%.2f) MSE\" % (results.mean(), results.std()))"
   ]
  },
  {
   "cell_type": "code",
   "execution_count": null,
   "metadata": {},
   "outputs": [],
   "source": [
    "pipeline.fit(X, Y)"
   ]
  },
  {
   "cell_type": "code",
   "execution_count": null,
   "metadata": {},
   "outputs": [],
   "source": [
    "#############################################"
   ]
  },
  {
   "cell_type": "code",
   "execution_count": null,
   "metadata": {},
   "outputs": [],
   "source": [
    "#숙제\n",
    "1.iris.csv 데이터를 로딩한 다음\n",
    "2.분류를 구성하시오\n",
    "3.parameter tuning 을 구현하시오(pipeline 사용도 함께)"
   ]
  },
  {
   "cell_type": "code",
   "execution_count": null,
   "metadata": {},
   "outputs": [],
   "source": [
    "dataframe=pandas.read_csv('iris.csv',delim_whitespace=True,header=None)\n",
    "dataset=dataframe.values\n",
    "\n"
   ]
  },
  {
   "cell_type": "code",
   "execution_count": null,
   "metadata": {},
   "outputs": [],
   "source": []
  },
  {
   "cell_type": "code",
   "execution_count": null,
   "metadata": {},
   "outputs": [],
   "source": []
  },
  {
   "cell_type": "code",
   "execution_count": null,
   "metadata": {},
   "outputs": [],
   "source": []
  },
  {
   "cell_type": "code",
   "execution_count": null,
   "metadata": {},
   "outputs": [],
   "source": []
  }
 ],
 "metadata": {
  "kernelspec": {
   "display_name": "Python 3",
   "language": "python",
   "name": "python3"
  },
  "language_info": {
   "codemirror_mode": {
    "name": "ipython",
    "version": 3
   },
   "file_extension": ".py",
   "mimetype": "text/x-python",
   "name": "python",
   "nbconvert_exporter": "python",
   "pygments_lexer": "ipython3",
   "version": "3.7.4"
  }
 },
 "nbformat": 4,
 "nbformat_minor": 2
}
