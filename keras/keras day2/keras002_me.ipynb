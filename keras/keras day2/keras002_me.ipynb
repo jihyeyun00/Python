{
 "cells": [
  {
   "cell_type": "code",
   "execution_count": 20,
   "metadata": {},
   "outputs": [
    {
     "name": "stdout",
     "output_type": "stream",
     "text": [
      "[name: \"/device:CPU:0\"\n",
      "device_type: \"CPU\"\n",
      "memory_limit: 268435456\n",
      "locality {\n",
      "}\n",
      "incarnation: 6527597144638054887\n",
      ", name: \"/device:GPU:0\"\n",
      "device_type: \"GPU\"\n",
      "memory_limit: 3141979340\n",
      "locality {\n",
      "  bus_id: 1\n",
      "  links {\n",
      "  }\n",
      "}\n",
      "incarnation: 16544897833176474858\n",
      "physical_device_desc: \"device: 0, name: GeForce GTX 1050 Ti, pci bus id: 0000:01:00.0, compute capability: 6.1\"\n",
      "]\n"
     ]
    }
   ],
   "source": [
    "from tensorflow.python.client import device_lib\n",
    "print(device_lib.list_local_devices())"
   ]
  },
  {
   "cell_type": "code",
   "execution_count": 21,
   "metadata": {},
   "outputs": [],
   "source": [
    "#CNN\n",
    "K.set_image_data_fromat('channels_first') #channels_last"
   ]
  },
  {
   "cell_type": "code",
   "execution_count": 22,
   "metadata": {},
   "outputs": [],
   "source": [
    "import matplotlib.pyplot as plt\n",
    "%matplotlib inline\n",
    "import keras\n",
    "from keras.datasets import mnist\n",
    "from keras.models import Sequential\n",
    "from keras.layers import Dense, Dropout, Flatten\n",
    "from keras.layers import Conv2D,MaxPooling2D\n",
    "from keras import backend as k\n",
    "\n",
    "batch_size=128\n",
    "num_classes=10\n",
    "epochs=12\n",
    "img_rows, img_clos=28, 28\n",
    "(x_train, y_train),(x_test, y_test)=mnist.load_data()"
   ]
  },
  {
   "cell_type": "code",
   "execution_count": 23,
   "metadata": {},
   "outputs": [
    {
     "data": {
      "text/plain": [
       "<matplotlib.image.AxesImage at 0x25e6ef8ff48>"
      ]
     },
     "execution_count": 23,
     "metadata": {},
     "output_type": "execute_result"
    },
    {
     "data": {
      "image/png": "[encoded data removed]",
      "text/plain": [
       "<Figure size 432x288 with 1 Axes>"
      ]
     },
     "metadata": {
      "needs_background": "light"
     },
     "output_type": "display_data"
    }
   ],
   "source": [
    "first_image=x_train[0,:,:]\n",
    "plt.imshow(first_image, cmap=plt.cm.Greys)"
   ]
  },
  {
   "cell_type": "code",
   "execution_count": 24,
   "metadata": {},
   "outputs": [
    {
     "name": "stdout",
     "output_type": "stream",
     "text": [
      "x_train shape: (60000, 28, 28, 1)\n",
      "60000 train samples\n",
      "10000 test samples\n"
     ]
    }
   ],
   "source": [
    "##channel_first, channelllast\n",
    "#X_train=X_train.reshape(X_train.shape[0],1,28,28)\n",
    "#X_test=x_test.reshape(X_test.shape[0],1,28,28)\n",
    "\n",
    "x_train=x_train.reshape(x_train.shape[0],28,28,1)\n",
    "x_test=x_test.reshape(x_test.shape[0],28,28,1)\n",
    "x_train=x_train.astype('float32') #타입변경\n",
    "x_test=x_test.astype('float32')\n",
    "x_train /=255  #float32 로 타입변경 255로 나눠줘야 하기 때문에 \n",
    "x_test /=255\n",
    "print('x_train shape:',x_train.shape)\n",
    "print(x_train.shape[0],'train samples')\n",
    "print(x_test.shape[0],'test samples')\n",
    "y_train=keras.utils.to_categorical(y_train, num_classes)\n",
    "y_test=keras.utils.to_categorical(y_test, num_classes)"
   ]
  },
  {
   "cell_type": "code",
   "execution_count": 25,
   "metadata": {},
   "outputs": [
    {
     "name": "stdout",
     "output_type": "stream",
     "text": [
      "WARNING:tensorflow:From C:\\Users\\ICT01_23\\Anaconda3\\lib\\site-packages\\keras\\backend\\tensorflow_backend.py:4070: The name tf.nn.max_pool is deprecated. Please use tf.nn.max_pool2d instead.\n",
      "\n"
     ]
    }
   ],
   "source": [
    "model=Sequential()\n",
    "#      32:아웃풋 필터 개수,3*3 :필터 사이즈 \n",
    "#입력 :28 * 28 =>(128(128*1), 26(28-5+1), 26,32)  #valid,same(28,28):모서리 특징\n",
    "model.add(Conv2D(32,kernel_size=(3,3),activation='relu'  #음수가 제거 \n",
    "                 ,input_shape=(28,28,1)))\n",
    "model.add(Conv2D(64,(3,3),activation='relu'))\n",
    "#128장 24(?) * 24 *64 \n",
    "model.add(MaxPooling2D(pool_size=(2,2))) #128장,12,12,64\n",
    "model.add(Dropout(0.25))\n",
    "model.add(Flatten()) #12*12*64 =>1차원 9216\n",
    "model.add(Dense(128,activation='relu')) #9216*128\n",
    "#128 * 128\n",
    "model.add(Dropout(0.5)) #계산회로만 생략:\n",
    "model.add(Dense(10,activation='softmax')) #128*10 가중치 \n",
    "#128*10"
   ]
  },
  {
   "cell_type": "code",
   "execution_count": 26,
   "metadata": {},
   "outputs": [
    {
     "name": "stdout",
     "output_type": "stream",
     "text": [
      "WARNING:tensorflow:From C:\\Users\\ICT01_23\\Anaconda3\\lib\\site-packages\\keras\\backend\\tensorflow_backend.py:422: The name tf.global_variables is deprecated. Please use tf.compat.v1.global_variables instead.\n",
      "\n",
      "Train on 60000 samples, validate on 10000 samples\n",
      "Epoch 1/12\n",
      "60000/60000 [==============================] - 8s 134us/step - loss: 0.2577 - accuracy: 0.9198 - val_loss: 0.0543 - val_accuracy: 0.9826\n",
      "Epoch 2/12\n",
      "60000/60000 [==============================] - 8s 126us/step - loss: 0.0864 - accuracy: 0.9740 - val_loss: 0.0447 - val_accuracy: 0.9849\n",
      "Epoch 3/12\n",
      "60000/60000 [==============================] - 8s 126us/step - loss: 0.0651 - accuracy: 0.9804 - val_loss: 0.0387 - val_accuracy: 0.9866\n",
      "Epoch 4/12\n",
      "60000/60000 [==============================] - 8s 127us/step - loss: 0.0525 - accuracy: 0.9842 - val_loss: 0.0318 - val_accuracy: 0.9895\n",
      "Epoch 5/12\n",
      "60000/60000 [==============================] - 8s 128us/step - loss: 0.0469 - accuracy: 0.9856 - val_loss: 0.0296 - val_accuracy: 0.9895\n",
      "Epoch 6/12\n",
      "60000/60000 [==============================] - 8s 129us/step - loss: 0.0419 - accuracy: 0.9871 - val_loss: 0.0295 - val_accuracy: 0.9906\n",
      "Epoch 7/12\n",
      "60000/60000 [==============================] - 8s 127us/step - loss: 0.0373 - accuracy: 0.9884 - val_loss: 0.0314 - val_accuracy: 0.9900\n",
      "Epoch 8/12\n",
      "60000/60000 [==============================] - 8s 127us/step - loss: 0.0338 - accuracy: 0.9895 - val_loss: 0.0275 - val_accuracy: 0.9912\n",
      "Epoch 9/12\n",
      "60000/60000 [==============================] - 8s 130us/step - loss: 0.0300 - accuracy: 0.9906 - val_loss: 0.0267 - val_accuracy: 0.9913\n",
      "Epoch 10/12\n",
      "60000/60000 [==============================] - 8s 130us/step - loss: 0.0296 - accuracy: 0.9908 - val_loss: 0.0277 - val_accuracy: 0.9916\n",
      "Epoch 11/12\n",
      "60000/60000 [==============================] - 8s 127us/step - loss: 0.0259 - accuracy: 0.9921 - val_loss: 0.0264 - val_accuracy: 0.9920\n",
      "Epoch 12/12\n",
      "60000/60000 [==============================] - 8s 126us/step - loss: 0.0247 - accuracy: 0.9922 - val_loss: 0.0261 - val_accuracy: 0.9921\n"
     ]
    }
   ],
   "source": [
    "model.compile(loss=keras.losses.categorical_crossentropy,\n",
    "              optimizer=keras.optimizers.Adadelta(),\n",
    "              metrics=[\"accuracy\"])\n",
    "model.fit(x_train, y_train, batch_size=batch_size, epochs=epochs, verbose=1, validation_data=(x_test, y_test))\n",
    "score = model.evaluate(x_test, y_test, verbose=0)"
   ]
  },
  {
   "cell_type": "code",
   "execution_count": 27,
   "metadata": {},
   "outputs": [
    {
     "name": "stdout",
     "output_type": "stream",
     "text": [
      "Train on 60000 samples, validate on 10000 samples\n",
      "Epoch 1/12\n",
      "60000/60000 [==============================] - 8s 130us/step - loss: 0.0245 - accuracy: 0.9926 - val_loss: 0.0266 - val_accuracy: 0.9917\n",
      "Epoch 2/12\n",
      "60000/60000 [==============================] - 8s 130us/step - loss: 0.0233 - accuracy: 0.9923 - val_loss: 0.0271 - val_accuracy: 0.9912\n",
      "Epoch 3/12\n",
      "60000/60000 [==============================] - 8s 128us/step - loss: 0.0216 - accuracy: 0.9937 - val_loss: 0.0324 - val_accuracy: 0.9895\n",
      "Epoch 4/12\n",
      "60000/60000 [==============================] - 8s 128us/step - loss: 0.0216 - accuracy: 0.9928 - val_loss: 0.0281 - val_accuracy: 0.9916\n",
      "Epoch 5/12\n",
      "60000/60000 [==============================] - 8s 128us/step - loss: 0.0207 - accuracy: 0.9937 - val_loss: 0.0333 - val_accuracy: 0.9914\n",
      "Epoch 6/12\n",
      "60000/60000 [==============================] - 8s 128us/step - loss: 0.0200 - accuracy: 0.9936 - val_loss: 0.0276 - val_accuracy: 0.9918\n",
      "Epoch 7/12\n",
      "60000/60000 [==============================] - 8s 130us/step - loss: 0.0203 - accuracy: 0.9936 - val_loss: 0.0267 - val_accuracy: 0.9919\n",
      "Epoch 8/12\n",
      "60000/60000 [==============================] - 8s 127us/step - loss: 0.0195 - accuracy: 0.9943 - val_loss: 0.0289 - val_accuracy: 0.9919\n",
      "Epoch 9/12\n",
      "60000/60000 [==============================] - 8s 127us/step - loss: 0.0193 - accuracy: 0.9939 - val_loss: 0.0292 - val_accuracy: 0.9920\n",
      "Epoch 10/12\n",
      "60000/60000 [==============================] - 8s 126us/step - loss: 0.0192 - accuracy: 0.9941 - val_loss: 0.0280 - val_accuracy: 0.9918\n",
      "Epoch 11/12\n",
      "60000/60000 [==============================] - 8s 129us/step - loss: 0.0177 - accuracy: 0.9945 - val_loss: 0.0341 - val_accuracy: 0.9921\n",
      "Epoch 12/12\n",
      "60000/60000 [==============================] - 8s 127us/step - loss: 0.0178 - accuracy: 0.9939 - val_loss: 0.0307 - val_accuracy: 0.9915\n"
     ]
    },
    {
     "data": {
      "text/plain": [
       "<keras.callbacks.callbacks.History at 0x25e72a411c8>"
      ]
     },
     "execution_count": 27,
     "metadata": {},
     "output_type": "execute_result"
    }
   ],
   "source": [
    "#model.compile(loss=keras.losses.categorical_crossentropy, optimizer=keras.optimizers.Adadelta(), metrics=['accuracy']) #num_classes=10 때문에\n",
    "#class AccuracyHistory(keras.callbacks.Callback):\n",
    "#    def on_train_begin(self, logs={}): #훈련시작시 이벤으 반드시 이 함수를 써야함\n",
    "#        self.acc=[]\n",
    "#    def on_epoch_end(self,batch,logs={}):\n",
    "#        self.acc.append(logs.get('acc'))\n",
    "#history=AccuracyHistory()\n",
    "#model.fit(x_train,y_train,batch_size=batch_size,epochs=epochs,verbose=1,validation_data=(x_test,y_test), callbacks=[history])\n",
    "#score=model.evaluate(x_test,y_test,verbose=0)\n",
    "#score[0]\n",
    "#score[1]\n",
    "#plt.plot(range(1,11),history,acc)\n",
    "#plt.xlabel('Epoch')\n",
    "#plt.ylabel('Accuracy')\n",
    "#plt.show()\n",
    "#\n",
    "model.compile(loss=keras.losses.categorical_crossentropy, optimizer=keras.optimizers.Adadelta(), metrics=['accuracy'])\n",
    "\n",
    "# epoch 마다 accuracy 를 저장하게 해준다.  ( 안해도 별차니는 없다 ) \n",
    "class AccuracyHistory(keras.callbacks.Callback):\n",
    "    def on_train_begin(self,logs={}): # 오버라이팅 ( -> 반드시 이름이 on_train_begin 으로 ! )\n",
    "        self.acc=[]              #>> 훈련시작시 이벤트(on_train_begin) 가 발생하도록 발생했다 \n",
    "    def on_epochs_end(self, batch, logs={}):   # epoch 하나 끝날때마다 하도록 설정 \n",
    "        self.acc.append(logs.get('accuracy'))\n",
    "history = AccuracyHistory()  # 인스턴스 해주고 아래 fit에 , callbacks에  history 지정한다.\n",
    "\n",
    "model.fit(x_train, y_train, batch_size=batch_size,epochs=epochs, verbose=1, validation_data=(x_test,y_test), callbacks=[history])"
   ]
  },
  {
   "cell_type": "code",
   "execution_count": 31,
   "metadata": {},
   "outputs": [
    {
     "ename": "IndexError",
     "evalue": "list index out of range",
     "output_type": "error",
     "traceback": [
      "\u001b[1;31m---------------------------------------------------------------------------\u001b[0m",
      "\u001b[1;31mIndexError\u001b[0m                                Traceback (most recent call last)",
      "\u001b[1;32m<ipython-input-31-8b0f0857411a>\u001b[0m in \u001b[0;36m<module>\u001b[1;34m\u001b[0m\n\u001b[1;32m----> 1\u001b[1;33m \u001b[0mscore\u001b[0m\u001b[1;33m=\u001b[0m\u001b[0mmodel\u001b[0m\u001b[1;33m.\u001b[0m\u001b[0mevaluate\u001b[0m\u001b[1;33m(\u001b[0m\u001b[0mx_test\u001b[0m\u001b[1;33m,\u001b[0m\u001b[0mverbose\u001b[0m\u001b[1;33m=\u001b[0m\u001b[1;36m0\u001b[0m\u001b[1;33m)\u001b[0m\u001b[1;33m\u001b[0m\u001b[1;33m\u001b[0m\u001b[0m\n\u001b[0m\u001b[0;32m      2\u001b[0m \u001b[0mscore\u001b[0m\u001b[1;33m[\u001b[0m\u001b[1;36m0\u001b[0m\u001b[1;33m]\u001b[0m\u001b[1;33m\u001b[0m\u001b[1;33m\u001b[0m\u001b[0m\n\u001b[0;32m      3\u001b[0m \u001b[0mscore\u001b[0m\u001b[1;33m[\u001b[0m\u001b[1;36m1\u001b[0m\u001b[1;33m]\u001b[0m\u001b[1;33m\u001b[0m\u001b[1;33m\u001b[0m\u001b[0m\n\u001b[0;32m      4\u001b[0m \u001b[0mplt\u001b[0m\u001b[1;33m.\u001b[0m\u001b[0mplot\u001b[0m\u001b[1;33m(\u001b[0m\u001b[0mrange\u001b[0m\u001b[1;33m(\u001b[0m\u001b[1;36m1\u001b[0m\u001b[1;33m,\u001b[0m\u001b[1;36m11\u001b[0m\u001b[1;33m)\u001b[0m\u001b[1;33m,\u001b[0m\u001b[0mhistory\u001b[0m\u001b[1;33m,\u001b[0m\u001b[0macc\u001b[0m\u001b[1;33m)\u001b[0m\u001b[1;33m\u001b[0m\u001b[1;33m\u001b[0m\u001b[0m\n\u001b[0;32m      5\u001b[0m \u001b[0mplt\u001b[0m\u001b[1;33m.\u001b[0m\u001b[0mxlabel\u001b[0m\u001b[1;33m(\u001b[0m\u001b[1;34m'Epoch'\u001b[0m\u001b[1;33m)\u001b[0m\u001b[1;33m\u001b[0m\u001b[1;33m\u001b[0m\u001b[0m\n",
      "\u001b[1;32m~\\Anaconda3\\lib\\site-packages\\keras\\engine\\training.py\u001b[0m in \u001b[0;36mevaluate\u001b[1;34m(self, x, y, batch_size, verbose, sample_weight, steps, callbacks, max_queue_size, workers, use_multiprocessing)\u001b[0m\n\u001b[0;32m   1359\u001b[0m                                          \u001b[0mverbose\u001b[0m\u001b[1;33m=\u001b[0m\u001b[0mverbose\u001b[0m\u001b[1;33m,\u001b[0m\u001b[1;33m\u001b[0m\u001b[1;33m\u001b[0m\u001b[0m\n\u001b[0;32m   1360\u001b[0m                                          \u001b[0msteps\u001b[0m\u001b[1;33m=\u001b[0m\u001b[0msteps\u001b[0m\u001b[1;33m,\u001b[0m\u001b[1;33m\u001b[0m\u001b[1;33m\u001b[0m\u001b[0m\n\u001b[1;32m-> 1361\u001b[1;33m                                          callbacks=callbacks)\n\u001b[0m\u001b[0;32m   1362\u001b[0m \u001b[1;33m\u001b[0m\u001b[0m\n\u001b[0;32m   1363\u001b[0m     def predict(self, x,\n",
      "\u001b[1;32m~\\Anaconda3\\lib\\site-packages\\keras\\engine\\training_arrays.py\u001b[0m in \u001b[0;36mtest_loop\u001b[1;34m(model, f, ins, batch_size, verbose, steps, callbacks)\u001b[0m\n\u001b[0;32m    401\u001b[0m     \u001b[0mindices_for_conversion_to_dense\u001b[0m \u001b[1;33m=\u001b[0m \u001b[1;33m[\u001b[0m\u001b[1;33m]\u001b[0m\u001b[1;33m\u001b[0m\u001b[1;33m\u001b[0m\u001b[0m\n\u001b[0;32m    402\u001b[0m     \u001b[1;32mfor\u001b[0m \u001b[0mi\u001b[0m \u001b[1;32min\u001b[0m \u001b[0mrange\u001b[0m\u001b[1;33m(\u001b[0m\u001b[0mlen\u001b[0m\u001b[1;33m(\u001b[0m\u001b[0mfeed\u001b[0m\u001b[1;33m)\u001b[0m\u001b[1;33m)\u001b[0m\u001b[1;33m:\u001b[0m\u001b[1;33m\u001b[0m\u001b[1;33m\u001b[0m\u001b[0m\n\u001b[1;32m--> 403\u001b[1;33m         \u001b[1;32mif\u001b[0m \u001b[0missparse\u001b[0m\u001b[1;33m(\u001b[0m\u001b[0mins\u001b[0m\u001b[1;33m[\u001b[0m\u001b[0mi\u001b[0m\u001b[1;33m]\u001b[0m\u001b[1;33m)\u001b[0m \u001b[1;32mand\u001b[0m \u001b[1;32mnot\u001b[0m \u001b[0mK\u001b[0m\u001b[1;33m.\u001b[0m\u001b[0mis_sparse\u001b[0m\u001b[1;33m(\u001b[0m\u001b[0mfeed\u001b[0m\u001b[1;33m[\u001b[0m\u001b[0mi\u001b[0m\u001b[1;33m]\u001b[0m\u001b[1;33m)\u001b[0m\u001b[1;33m:\u001b[0m\u001b[1;33m\u001b[0m\u001b[1;33m\u001b[0m\u001b[0m\n\u001b[0m\u001b[0;32m    404\u001b[0m             \u001b[0mindices_for_conversion_to_dense\u001b[0m\u001b[1;33m.\u001b[0m\u001b[0mappend\u001b[0m\u001b[1;33m(\u001b[0m\u001b[0mi\u001b[0m\u001b[1;33m)\u001b[0m\u001b[1;33m\u001b[0m\u001b[1;33m\u001b[0m\u001b[0m\n\u001b[0;32m    405\u001b[0m \u001b[1;33m\u001b[0m\u001b[0m\n",
      "\u001b[1;31mIndexError\u001b[0m: list index out of range"
     ]
    }
   ],
   "source": [
    "score=model.evaluate(x_test,y_test,verbose=0)\n",
    "score[0]\n",
    "score[1]\n",
    "plt.plot(range(1,11),history,acc)\n",
    "plt.xlabel('Epoch')\n",
    "plt.ylabel('Accuracy')\n",
    "plt.show()\n"
   ]
  },
  {
   "cell_type": "code",
   "execution_count": null,
   "metadata": {},
   "outputs": [],
   "source": []
  },
  {
   "cell_type": "code",
   "execution_count": null,
   "metadata": {},
   "outputs": [],
   "source": [
    "#모델저장/로딩"
   ]
  },
  {
   "cell_type": "code",
   "execution_count": 32,
   "metadata": {},
   "outputs": [
    {
     "name": "stdout",
     "output_type": "stream",
     "text": [
      "모델이 저장되었습니다.\n",
      "모델이 로딩되었습니다.\n",
      "Model: \"sequential_1\"\n",
      "_________________________________________________________________\n",
      "Layer (type)                 Output Shape              Param #   \n",
      "=================================================================\n",
      "conv2d_1 (Conv2D)            (None, 26, 26, 32)        320       \n",
      "_________________________________________________________________\n",
      "conv2d_2 (Conv2D)            (None, 24, 24, 64)        18496     \n",
      "_________________________________________________________________\n",
      "max_pooling2d_1 (MaxPooling2 (None, 12, 12, 64)        0         \n",
      "_________________________________________________________________\n",
      "dropout_1 (Dropout)          (None, 12, 12, 64)        0         \n",
      "_________________________________________________________________\n",
      "flatten_1 (Flatten)          (None, 9216)              0         \n",
      "_________________________________________________________________\n",
      "dense_1 (Dense)              (None, 128)               1179776   \n",
      "_________________________________________________________________\n",
      "dropout_2 (Dropout)          (None, 128)               0         \n",
      "_________________________________________________________________\n",
      "dense_2 (Dense)              (None, 10)                1290      \n",
      "=================================================================\n",
      "Total params: 1,199,882\n",
      "Trainable params: 1,199,882\n",
      "Non-trainable params: 0\n",
      "_________________________________________________________________\n"
     ]
    }
   ],
   "source": [
    "#HDFS(hadoop file system ):model 구조전체 저장\n",
    "#가중치 구조, optimization stage 등이 저장\n",
    "#json 으로 저장, 구조 가중치를 별도로 저장 =>web 에서 tensorflow\n",
    "model.save('model_mnist.h5')\n",
    "print('모델이 저장되었습니다.')\n",
    "from keras.models import load_model\n",
    "\n",
    "model=load_model('model_mnist.h5')\n",
    "print('모델이 로딩되었습니다.')\n",
    "\n",
    "model.summary()"
   ]
  },
  {
   "cell_type": "code",
   "execution_count": 33,
   "metadata": {},
   "outputs": [
    {
     "name": "stdout",
     "output_type": "stream",
     "text": [
      "conv2d_1\n",
      "(None, 28, 28, 1)\n",
      "<function relu at 0x0000025E6B9ABAF8>\n",
      "(None, 26, 26, 32)\n"
     ]
    }
   ],
   "source": [
    "#레이어 정보 확인\n",
    "l1=model.layers[0]\n",
    "l2=model.layers[1]\n",
    "print(l1.name) #?\n",
    "print(l1.input_shape)\n",
    "print(l1.activation)\n",
    "print(l1.output_shape)"
   ]
  },
  {
   "cell_type": "code",
   "execution_count": 34,
   "metadata": {},
   "outputs": [
    {
     "data": {
      "image/png": "[encoded data removed]",
      "text/plain": [
       "<Figure size 432x288 with 9 Axes>"
      ]
     },
     "metadata": {
      "needs_background": "light"
     },
     "output_type": "display_data"
    }
   ],
   "source": [
    "from keras.datasets import mnist\n",
    "from keras.preprocessing.image import ImageDataGenerator\n",
    "from matplotlib import pyplot\n",
    "from keras import backend as K\n",
    "(X_train, y_train),(X_test,y_test)=mnist.load_data()\n",
    "X_train=X_train.reshape(X_train.shape[0],28,28,1)\n",
    "X_test=X_test.reshape(X_test.shape[0],28,28,1)\n",
    "X_train=X_train.astype('float32')\n",
    "X_test=X_test.astype('float32')\n",
    "datagen=ImageDataGenerator(horizontal_flip=True,vertical_flip=True)\n",
    "#datagen=ImageDataGenerator(width_shift_range=0.2,heigh_shift_range=0.2)\n",
    "#이미지 백색화 =>noise 제거 (변수간 상관도를 없앰:PCA)\n",
    "\n",
    "datagen.fit(X_train)\n",
    "for X_batch,y_batch in datagen.flow(X_train,y_train,batch_size=9,\n",
    "    #augment\n",
    "    save_to_dir='Images',save_prefix='aug',save_format='png'):\n",
    "    for i in range(0,9):\n",
    "        pyplot.subplot(330+1+i)\n",
    "        pyplot.imshow(X_batch[i].reshape(28,28),cmap=pyplot.get_cmap('gray'))\n",
    "    pyplot.show()\n",
    "    break"
   ]
  },
  {
   "cell_type": "code",
   "execution_count": 35,
   "metadata": {},
   "outputs": [
    {
     "name": "stdout",
     "output_type": "stream",
     "text": [
      "X_train shape: (50000, 32, 32, 3)\n",
      "50000 train samples\n",
      "10000 test samples\n"
     ]
    },
    {
     "data": {
      "image/png": "[encoded data removed]",
      "text/plain": [
       "<Figure size 432x288 with 1 Axes>"
      ]
     },
     "metadata": {
      "needs_background": "light"
     },
     "output_type": "display_data"
    },
    {
     "data": {
      "image/png": "[encoded data removed]",
      "text/plain": [
       "<Figure size 432x288 with 1 Axes>"
      ]
     },
     "metadata": {
      "needs_background": "light"
     },
     "output_type": "display_data"
    }
   ],
   "source": [
    "from keras.datasets import cifar10\n",
    "from keras.optimizers import SGD,Adam,RMSprop\n",
    "from keras.utils import np_utils\n",
    "from keras.layers import Activation\n",
    "from keras.datasets import mnist\n",
    "from keras.models import Sequential\n",
    "from keras.layers import Dense, Dropout, Flatten\n",
    "from keras.layers import Conv2D,MaxPooling2D\n",
    "from keras import backend as k\n",
    "import matplotlib.pyplot as plt\n",
    "#import\n",
    "\n",
    "(X_train,Y_train),(X_test,Y_test)=cifar10.load_data()\n",
    "print('X_train shape:',X_train.shape)\n",
    "print(X_train.shape[0],'train samples')\n",
    "print(X_test.shape[0],'test samples')\n",
    "NB_CLASSES=10\n",
    "Y_train=np_utils.to_categorical(Y_train,NB_CLASSES)\n",
    "Y_test=np_utils.to_categorical(Y_test,NB_CLASSES)\n",
    "\n",
    "X_train=X_train.astype('float32')\n",
    "X_test=X_test.astype('float32')\n",
    "X_train /=255\n",
    "X_test /=255\n",
    "\n",
    "\n",
    "plt.imshow(X_train[5])\n",
    "plt.grid(False)\n",
    "plt.show()\n",
    "plt.imshow(X_train[6])\n",
    "plt.grid(False)\n",
    "plt.show()"
   ]
  },
  {
   "cell_type": "code",
   "execution_count": 36,
   "metadata": {},
   "outputs": [],
   "source": [
    "IMG_CHANNELS=3\n",
    "IMG_ROWS=32\n",
    "IMG_COLS=32\n",
    "BATCH_SIZE=128\n",
    "NB_EPOCH=40\n",
    "NB_CLASSES=10\n",
    "VERBOSE=1\n",
    "VALIDATION_SPLIT=0.2\n",
    "OPTIM=RMSprop()"
   ]
  },
  {
   "cell_type": "code",
   "execution_count": 37,
   "metadata": {},
   "outputs": [],
   "source": [
    "model=Sequential()\n",
    "#residual 망의 영향을 받아서 \n",
    "#32 * 32 =>32 * 32 * 32\n",
    "model.add(Conv2D(32,kernel_size=3,padding='same',\n",
    "                input_shape=(IMG_ROWS,IMG_COLS,IMG_CHANNELS)))\n",
    "model.add(Activation('relu'))\n",
    "model.add(Conv2D(32,kernel_size=3,padding='same'))\n",
    "model.add(Activation('relu'))\n",
    "model.add(MaxPooling2D(pool_size=(2,2)))\n",
    "model.add(Dropout(0.25))"
   ]
  },
  {
   "cell_type": "code",
   "execution_count": 38,
   "metadata": {},
   "outputs": [
    {
     "name": "stderr",
     "output_type": "stream",
     "text": [
      "C:\\Users\\ICT01_23\\Anaconda3\\lib\\site-packages\\ipykernel_launcher.py:3: UserWarning: Update your `Conv2D` call to the Keras 2 API: `Conv2D(64, (3, 3))`\n",
      "  This is separate from the ipykernel package so we can avoid doing imports until\n"
     ]
    }
   ],
   "source": [
    "model.add(Conv2D(32,kernel_size=3,padding='same'))\n",
    "model.add(Activation('relu'))\n",
    "model.add(Conv2D(64,3,3))\n",
    "model.add(MaxPooling2D(pool_size=(2,2)))\n",
    "model.add(Dropout(0.25))"
   ]
  },
  {
   "cell_type": "code",
   "execution_count": 39,
   "metadata": {},
   "outputs": [
    {
     "name": "stdout",
     "output_type": "stream",
     "text": [
      "Model: \"sequential_2\"\n",
      "_________________________________________________________________\n",
      "Layer (type)                 Output Shape              Param #   \n",
      "=================================================================\n",
      "conv2d_3 (Conv2D)            (None, 32, 32, 32)        896       \n",
      "_________________________________________________________________\n",
      "activation_1 (Activation)    (None, 32, 32, 32)        0         \n",
      "_________________________________________________________________\n",
      "conv2d_4 (Conv2D)            (None, 32, 32, 32)        9248      \n",
      "_________________________________________________________________\n",
      "activation_2 (Activation)    (None, 32, 32, 32)        0         \n",
      "_________________________________________________________________\n",
      "max_pooling2d_2 (MaxPooling2 (None, 16, 16, 32)        0         \n",
      "_________________________________________________________________\n",
      "dropout_3 (Dropout)          (None, 16, 16, 32)        0         \n",
      "_________________________________________________________________\n",
      "conv2d_5 (Conv2D)            (None, 16, 16, 32)        9248      \n",
      "_________________________________________________________________\n",
      "activation_3 (Activation)    (None, 16, 16, 32)        0         \n",
      "_________________________________________________________________\n",
      "conv2d_6 (Conv2D)            (None, 14, 14, 64)        18496     \n",
      "_________________________________________________________________\n",
      "max_pooling2d_3 (MaxPooling2 (None, 7, 7, 64)          0         \n",
      "_________________________________________________________________\n",
      "dropout_4 (Dropout)          (None, 7, 7, 64)          0         \n",
      "_________________________________________________________________\n",
      "flatten_2 (Flatten)          (None, 3136)              0         \n",
      "_________________________________________________________________\n",
      "dense_3 (Dense)              (None, 512)               1606144   \n",
      "_________________________________________________________________\n",
      "activation_4 (Activation)    (None, 512)               0         \n",
      "_________________________________________________________________\n",
      "dropout_5 (Dropout)          (None, 512)               0         \n",
      "_________________________________________________________________\n",
      "dense_4 (Dense)              (None, 10)                5130      \n",
      "_________________________________________________________________\n",
      "activation_5 (Activation)    (None, 10)                0         \n",
      "=================================================================\n",
      "Total params: 1,649,162\n",
      "Trainable params: 1,649,162\n",
      "Non-trainable params: 0\n",
      "_________________________________________________________________\n"
     ]
    }
   ],
   "source": [
    "model.add(Flatten())\n",
    "model.add(Dense(512))\n",
    "model.add(Activation('relu'))\n",
    "model.add(Dropout(0.5))\n",
    "model.add(Dense(NB_CLASSES))\n",
    "model.add(Activation('softmax'))\n",
    "model.summary()\n",
    "model.compile(loss='categorical_crossentropy',optimizer=OPTIM,metrics=['accuracy'])"
   ]
  },
  {
   "cell_type": "code",
   "execution_count": 40,
   "metadata": {},
   "outputs": [
    {
     "name": "stdout",
     "output_type": "stream",
     "text": [
      "Train on 40000 samples, validate on 10000 samples\n",
      "Epoch 1/40\n",
      "40000/40000 [==============================] - 8s 196us/step - loss: 1.6783 - accuracy: 0.3925 - val_loss: 1.2826 - val_accuracy: 0.5396\n",
      "Epoch 2/40\n",
      "40000/40000 [==============================] - 7s 176us/step - loss: 1.2463 - accuracy: 0.5549 - val_loss: 1.1392 - val_accuracy: 0.5929\n",
      "Epoch 3/40\n",
      "40000/40000 [==============================] - 7s 176us/step - loss: 1.0656 - accuracy: 0.6230 - val_loss: 1.2925 - val_accuracy: 0.5783\n",
      "Epoch 4/40\n",
      "40000/40000 [==============================] - 7s 176us/step - loss: 0.9509 - accuracy: 0.6672 - val_loss: 0.9947 - val_accuracy: 0.6476\n",
      "Epoch 5/40\n",
      "40000/40000 [==============================] - 7s 177us/step - loss: 0.8663 - accuracy: 0.6956 - val_loss: 0.8390 - val_accuracy: 0.7060\n",
      "Epoch 6/40\n",
      "40000/40000 [==============================] - 7s 176us/step - loss: 0.7962 - accuracy: 0.7208 - val_loss: 0.8228 - val_accuracy: 0.7183\n",
      "Epoch 7/40\n",
      "40000/40000 [==============================] - 7s 177us/step - loss: 0.7447 - accuracy: 0.7400 - val_loss: 0.8813 - val_accuracy: 0.6880\n",
      "Epoch 8/40\n",
      "40000/40000 [==============================] - 7s 178us/step - loss: 0.6911 - accuracy: 0.7582 - val_loss: 0.7514 - val_accuracy: 0.7448\n",
      "Epoch 9/40\n",
      "40000/40000 [==============================] - 7s 177us/step - loss: 0.6536 - accuracy: 0.7692 - val_loss: 0.7153 - val_accuracy: 0.7541\n",
      "Epoch 10/40\n",
      "40000/40000 [==============================] - 7s 178us/step - loss: 0.6194 - accuracy: 0.7814 - val_loss: 0.7529 - val_accuracy: 0.7584\n",
      "Epoch 11/40\n",
      "40000/40000 [==============================] - 7s 177us/step - loss: 0.5846 - accuracy: 0.7967 - val_loss: 0.7082 - val_accuracy: 0.7575\n",
      "Epoch 12/40\n",
      "40000/40000 [==============================] - 7s 176us/step - loss: 0.5512 - accuracy: 0.8037 - val_loss: 0.7883 - val_accuracy: 0.7411\n",
      "Epoch 13/40\n",
      "40000/40000 [==============================] - 7s 176us/step - loss: 0.5268 - accuracy: 0.8152 - val_loss: 0.7489 - val_accuracy: 0.7597\n",
      "Epoch 14/40\n",
      "40000/40000 [==============================] - 7s 176us/step - loss: 0.5020 - accuracy: 0.8231 - val_loss: 0.7089 - val_accuracy: 0.7680\n",
      "Epoch 15/40\n",
      "40000/40000 [==============================] - 7s 179us/step - loss: 0.4823 - accuracy: 0.8303 - val_loss: 0.7076 - val_accuracy: 0.7644\n",
      "Epoch 16/40\n",
      "40000/40000 [==============================] - 7s 176us/step - loss: 0.4613 - accuracy: 0.8375 - val_loss: 0.6798 - val_accuracy: 0.7867\n",
      "Epoch 17/40\n",
      "40000/40000 [==============================] - 7s 179us/step - loss: 0.4357 - accuracy: 0.8461 - val_loss: 0.7605 - val_accuracy: 0.7592\n",
      "Epoch 18/40\n",
      "40000/40000 [==============================] - 7s 176us/step - loss: 0.4247 - accuracy: 0.8508 - val_loss: 0.7090 - val_accuracy: 0.7721\n",
      "Epoch 19/40\n",
      "40000/40000 [==============================] - 7s 180us/step - loss: 0.4091 - accuracy: 0.8559 - val_loss: 0.7889 - val_accuracy: 0.7765\n",
      "Epoch 20/40\n",
      "40000/40000 [==============================] - 7s 177us/step - loss: 0.3967 - accuracy: 0.8599 - val_loss: 0.7196 - val_accuracy: 0.7717\n",
      "Epoch 21/40\n",
      "40000/40000 [==============================] - 7s 177us/step - loss: 0.3744 - accuracy: 0.8683 - val_loss: 0.8414 - val_accuracy: 0.7579\n",
      "Epoch 22/40\n",
      "40000/40000 [==============================] - 7s 177us/step - loss: 0.3700 - accuracy: 0.8712 - val_loss: 0.7437 - val_accuracy: 0.7768\n",
      "Epoch 23/40\n",
      "40000/40000 [==============================] - 7s 179us/step - loss: 0.3602 - accuracy: 0.8743 - val_loss: 0.7269 - val_accuracy: 0.7880\n",
      "Epoch 24/40\n",
      "40000/40000 [==============================] - 7s 177us/step - loss: 0.3526 - accuracy: 0.8773 - val_loss: 0.8532 - val_accuracy: 0.7728\n",
      "Epoch 25/40\n",
      "40000/40000 [==============================] - 7s 177us/step - loss: 0.3439 - accuracy: 0.8782 - val_loss: 0.7313 - val_accuracy: 0.7838\n",
      "Epoch 26/40\n",
      "40000/40000 [==============================] - 7s 179us/step - loss: 0.3295 - accuracy: 0.8860 - val_loss: 0.7493 - val_accuracy: 0.7777\n",
      "Epoch 27/40\n",
      "40000/40000 [==============================] - 7s 177us/step - loss: 0.3273 - accuracy: 0.8866 - val_loss: 0.7636 - val_accuracy: 0.7896\n",
      "Epoch 28/40\n",
      "40000/40000 [==============================] - 7s 177us/step - loss: 0.3216 - accuracy: 0.8875 - val_loss: 0.7740 - val_accuracy: 0.7795\n",
      "Epoch 29/40\n",
      "40000/40000 [==============================] - 7s 179us/step - loss: 0.3214 - accuracy: 0.8903 - val_loss: 0.7691 - val_accuracy: 0.7776\n",
      "Epoch 30/40\n",
      "40000/40000 [==============================] - 7s 181us/step - loss: 0.3115 - accuracy: 0.8903 - val_loss: 0.8299 - val_accuracy: 0.7709\n",
      "Epoch 31/40\n",
      "40000/40000 [==============================] - 7s 177us/step - loss: 0.3073 - accuracy: 0.8929 - val_loss: 0.8148 - val_accuracy: 0.7761\n",
      "Epoch 32/40\n",
      "40000/40000 [==============================] - 7s 176us/step - loss: 0.3027 - accuracy: 0.8957 - val_loss: 0.8510 - val_accuracy: 0.7770\n",
      "Epoch 33/40\n",
      "40000/40000 [==============================] - 7s 177us/step - loss: 0.2988 - accuracy: 0.8971 - val_loss: 0.8301 - val_accuracy: 0.7785\n",
      "Epoch 34/40\n",
      "40000/40000 [==============================] - 7s 176us/step - loss: 0.2970 - accuracy: 0.8976 - val_loss: 0.9147 - val_accuracy: 0.7697\n",
      "Epoch 35/40\n",
      "40000/40000 [==============================] - 7s 178us/step - loss: 0.2900 - accuracy: 0.9005 - val_loss: 0.7724 - val_accuracy: 0.7868\n",
      "Epoch 36/40\n",
      "40000/40000 [==============================] - 7s 177us/step - loss: 0.2880 - accuracy: 0.9006 - val_loss: 0.9149 - val_accuracy: 0.7671\n",
      "Epoch 37/40\n",
      "40000/40000 [==============================] - 7s 177us/step - loss: 0.2895 - accuracy: 0.9007 - val_loss: 0.9025 - val_accuracy: 0.7623\n",
      "Epoch 38/40\n",
      "40000/40000 [==============================] - 7s 178us/step - loss: 0.2866 - accuracy: 0.9028 - val_loss: 0.8398 - val_accuracy: 0.7739\n",
      "Epoch 39/40\n",
      "40000/40000 [==============================] - 7s 178us/step - loss: 0.2831 - accuracy: 0.9039 - val_loss: 0.8739 - val_accuracy: 0.7846\n",
      "Epoch 40/40\n",
      "40000/40000 [==============================] - 7s 177us/step - loss: 0.2796 - accuracy: 0.9058 - val_loss: 0.8817 - val_accuracy: 0.7801\n"
     ]
    }
   ],
   "source": [
    "history=model.fit(X_train,Y_train,batch_size=BATCH_SIZE,epochs=NB_EPOCH, validation_split=VALIDATION_SPLIT,\n",
    "                 verbose=VERBOSE)"
   ]
  },
  {
   "cell_type": "code",
   "execution_count": 57,
   "metadata": {},
   "outputs": [],
   "source": [
    "from keras.preprocessing.image import ImageDataGenerator\n",
    "datagen=ImageDataGenerator(featurewise_center=False, #똑같은 데이터 \n",
    "                           samplewise_center=False,\n",
    "                           featurewise_std_normalization=False,\n",
    "                           samplewise_std_normalization=False,\n",
    "                           zca_whitening=False, #이미지 PCA 노이즈 제거\n",
    "                           rotation_range=0,\n",
    "                           width_shift_range=0.1,\n",
    "                           height_shift_range=0.1,\n",
    "                           horizontal_flip=True,\n",
    "                           vertical_flip=False)\n",
    "datagen.fit(X_train)\n",
    "                           "
   ]
  },
  {
   "cell_type": "code",
   "execution_count": 58,
   "metadata": {},
   "outputs": [
    {
     "ename": "TypeError",
     "evalue": "fit_generator() got an unexpected keyword argument 'samples_per_epoch'",
     "output_type": "error",
     "traceback": [
      "\u001b[1;31m---------------------------------------------------------------------------\u001b[0m",
      "\u001b[1;31mTypeError\u001b[0m                                 Traceback (most recent call last)",
      "\u001b[1;32m<ipython-input-58-0681d8dbbcf2>\u001b[0m in \u001b[0;36m<module>\u001b[1;34m\u001b[0m\n\u001b[0;32m      3\u001b[0m                     \u001b[0msamples_per_epoch\u001b[0m\u001b[1;33m=\u001b[0m\u001b[0mX_train\u001b[0m\u001b[1;33m.\u001b[0m\u001b[0mshape\u001b[0m\u001b[1;33m[\u001b[0m\u001b[1;36m0\u001b[0m\u001b[1;33m]\u001b[0m\u001b[1;33m,\u001b[0m\u001b[1;33m\u001b[0m\u001b[1;33m\u001b[0m\u001b[0m\n\u001b[0;32m      4\u001b[0m                     \u001b[0mnb_epoch\u001b[0m\u001b[1;33m=\u001b[0m\u001b[0mNB_EPOCH\u001b[0m\u001b[1;33m,\u001b[0m\u001b[1;33m\u001b[0m\u001b[1;33m\u001b[0m\u001b[0m\n\u001b[1;32m----> 5\u001b[1;33m                     verbose=VERBOSE)\n\u001b[0m",
      "\u001b[1;31mTypeError\u001b[0m: fit_generator() got an unexpected keyword argument 'samples_per_epoch'"
     ]
    }
   ],
   "source": [
    "model.fit_generator(datagen.flow(X_train, Y_train,\n",
    "                                batch_size=BATCH_SIZE),\n",
    "                    samples_per_epoch=X_train.shape[0],\n",
    "                    nb_epoch=NB_EPOCH,\n",
    "                    verbose=VERBOSE)"
   ]
  },
  {
   "cell_type": "code",
   "execution_count": null,
   "metadata": {},
   "outputs": [],
   "source": [
    "score=model.evaluate(X_test,Y_test,batch_size=BATCH_SIZE,verbose=VERBOSE)\n",
    "print('\\nTest score:',score[0])\n",
    "print('\\nTest accuracy:',score[1])\n"
   ]
  },
  {
   "cell_type": "code",
   "execution_count": null,
   "metadata": {},
   "outputs": [],
   "source": [
    "#json\n",
    "model_json=model.to_json()\n",
    "open('cifar10_architecture.json','w').write(model_json)\n",
    "model.save_weights('cifar10_weights.h5',overwrite=True)"
   ]
  },
  {
   "cell_type": "code",
   "execution_count": null,
   "metadata": {},
   "outputs": [],
   "source": [
    "from keras.models import model_from_json\n",
    "json_file=open('cifar10_architecture.json','r')\n",
    "loaded_model_json=json_file.read()\n",
    "json_file.close()\n",
    "loaded_model=model_from_json(loaded_model_json)\n",
    "loaded_model.load_weights('cifar10_weights.h5')\n",
    "print('Loaded model from disk')"
   ]
  },
  {
   "cell_type": "code",
   "execution_count": null,
   "metadata": {},
   "outputs": [],
   "source": [
    "#accuracy graph를 출력해보시오\n",
    "이미지 cat dog를 다운로드한 다음 위의 모델로예측해보아라"
   ]
  },
  {
   "cell_type": "code",
   "execution_count": null,
   "metadata": {},
   "outputs": [],
   "source": [
    "plt.plot(history.history['val_accuracy'])\n",
    "plt.plot(history.history['accuracy'])\n",
    "plt.title('model accuracy')\n",
    "plt.ylabel('accuracy')\n",
    "plt.xlabel('epoch')\n",
    "plt.legend(['train','test'],loc='upper left')\n",
    "plt.show()"
   ]
  },
  {
   "cell_type": "code",
   "execution_count": null,
   "metadata": {},
   "outputs": [],
   "source": [
    "import numpy as np #이미지 사이즈 일치\n",
    "from imageio import imread\n",
    "from skimage.transform import resize\n",
    "from keras.models import model_from_json\n",
    "img_names=['cat.jpg','dog.jpg']\n",
    "imgs=[resize(imread(img_name),(32,32)).astype('float32') for img_name in img_names]\n",
    "imgs=np.array(imgs)\n",
    "predicions=model.predict_classes(imgs)\n",
    "print(predictions)\n"
   ]
  },
  {
   "cell_type": "code",
   "execution_count": null,
   "metadata": {},
   "outputs": [],
   "source": [
    "#전이 (transfer learning ) 학습Application\n",
    "반지도 학습 (일부데이터 라빌이 없음):knn, Trenductive SVM\n",
    "가중치 활용: 그대로 적용\n",
    "가중치 중 일부만 활용\n",
    "가중치는 그대로 두고 FFNN부분만 학습해서 사용하기"
   ]
  },
  {
   "cell_type": "code",
   "execution_count": null,
   "metadata": {},
   "outputs": [],
   "source": [
    "pre-trained model ,fine-tuning:FFNN 부분만 domain knowledge"
   ]
  },
  {
   "cell_type": "code",
   "execution_count": null,
   "metadata": {},
   "outputs": [],
   "source": [
    "import PIL\n",
    "from keras.preprocessing.image import load_img, img_to_array\n",
    "from keras.applications.imagenet_utils import decode_predictions\n",
    "import numpy as np\n",
    "from keras.applications.resnet50 import ResNet50\n",
    "from keras.applications import resnet50\n",
    "filename = 'banana.jpg'\n",
    "original = load_img(filename, target_size=(224,224))\n",
    "print('PIL image size', original.size)\n",
    "plt.imshow(original)\n",
    "plt.show()\n",
    "numpy_image = img_to_array(original)\n",
    "plt.imshow(np.uint8(numpy_image))\n",
    "print('numpy array size' , numpy_image.shape)\n",
    "\n",
    "#차원확대 :여러장 처리\n",
    "#1장 (3차원->4차원 으로 확장)\n",
    "image_batch=np.expand_dims(numpy_image, axis=0)\n",
    "print('image array size' , image_batch.shape)\n",
    "#prepare the image for the resnet50 model\n",
    "precessed_image = resnet50.preprocess_input(image_batch.copy())\n",
    "#dense 을 이용하여 모델을 생성\n",
    "#라벨->확률:\n",
    "resnet_model = resnet50.ResNet50(weights = 'imagenet')\n",
    "predictions = resnet_model.predict(precessed_image)\n",
    "label = decode_predictions(predictions)\n",
    "print(label)"
   ]
  },
  {
   "cell_type": "code",
   "execution_count": null,
   "metadata": {},
   "outputs": [],
   "source": [
    "label = decode_predictions(predictions,top=3)\n",
    "print(label)"
   ]
  },
  {
   "cell_type": "code",
   "execution_count": null,
   "metadata": {},
   "outputs": [],
   "source": [
    "#ft."
   ]
  },
  {
   "cell_type": "code",
   "execution_count": 41,
   "metadata": {},
   "outputs": [],
   "source": [
    "from numpy.random import randn\n",
    "import pathlib\n",
    "import random\n",
    "import matplotlib.pyplot as plt\n",
    "import tensorflow as tf\n",
    "import numpy as np\n",
    "from matplotlib.image import imread\n",
    "from keras.preprocessing import image\n",
    "# tf.enable_eager_execution()  -> 2.0 이 아닌경우 맨처음에 실행해줘야한다\n",
    "AUTOTUNE = tf.data.experimental.AUTOTUNE"
   ]
  },
  {
   "cell_type": "code",
   "execution_count": 42,
   "metadata": {},
   "outputs": [],
   "source": [
    "data_dir = tf.keras.utils.get_file(origin='https://storage.googleapis.com/download.tensorflow.org/example_images/flower_photos.tgz', fname='flower_photos', untar=True)\n",
    "#data_dir = \"C:/Users/ICT01_24/Documents/jeju/keras/pass/flowers/flower/flower_photos\"\n",
    "data_dir = pathlib.Path(data_dir)\n",
    "label_names = {\"daisy\" : 0, \"dandelion\" : 1, \"roses\" : 2, \"sunflowers\" : 3, \"tulips\" : 4}\n",
    "label_key = [\"daisy\", \"dandelion\", \"roses\", \"sunflowers\", \"tulips\"]"
   ]
  },
  {
   "cell_type": "code",
   "execution_count": 43,
   "metadata": {},
   "outputs": [],
   "source": [
    "all_images = list(data_dir.glob('*/*')) #파일명로딩\n",
    "all_images = [str(path) for path in all_images]\n",
    "random.shuffle(all_images)\n",
    "#라벨을 할당\n",
    "#디렉터리의 경로를 관리하는 라이브러리\n",
    "all_labels=[label_names[pathlib.Path(path).parent.name] for path in all_images]\n",
    "data_size = len(all_images)\n",
    "train_test_split=(int)(data_size*0.2) \n",
    "x_train = all_images[train_test_split:]\n",
    "x_test = all_images[:train_test_split]\n",
    "y_train = all_labels[train_test_split:]\n",
    "y_test = all_labels[:train_test_split]\n",
    "IMG_SIZE= 160\n",
    "BATCH_SIZE = 32"
   ]
  },
  {
   "cell_type": "code",
   "execution_count": 44,
   "metadata": {},
   "outputs": [],
   "source": [
    "def _parse_data(x,y):\n",
    "    image = tf.read_file(x) #파일에는 헤더파일(압축방법)\n",
    "    image = tf.image.decode_jpeg(image, channels= 3) #color\n",
    "    image = tf.cast(image,tf.float32) #data를 나누기위해서 데이터형식 바꿔줌\n",
    "    image = (image/127.5) -1 #0~2 -1 =>-1 ~1\n",
    "    #이미지 사이즈를 통일시켜줌 160 * 160으로 조정해줌? 어디서?\n",
    "    image = tf.image.resize(image, (IMG_SIZE, IMG_SIZE))\n",
    "    return image,y \n",
    "def _input_fn(x,y):\n",
    "    #기본단위요소로 분해\n",
    "    ds = tf.data.Dataset.from_tensor_slices((x,y))  #dataset을 생성\n",
    "    ds = ds.map(_parse_data) #데이터마다 함수를 적용할때 사용\n",
    "    ds = ds.shuffle(buffer_size=data_size) #충분한 공간확보 ,buffer_size:거쳐가는 기억공간\n",
    "    ds = ds.repeat() #데이터가 부족하면 처음부터 다시 시작\n",
    "    ds = ds.batch(BATCH_SIZE) #미니배치사이즈\n",
    "    ds = ds.prefetch(buffer_size=AUTOTUNE) #\n",
    "    return ds\n",
    "train_ds = _input_fn(x_train,y_train)\n",
    "validation_ds = _input_fn(x_test, y_test)"
   ]
  },
  {
   "cell_type": "code",
   "execution_count": 45,
   "metadata": {},
   "outputs": [],
   "source": [
    "IMG_SHAPE = (IMG_SIZE, IMG_SIZE, 3)\n",
    "#\n",
    "VGG16_MODEL = tf.keras.applications.VGG16(input_shape=IMG_SHAPE,\n",
    "                                          include_top=False, #include_top=False,인경우는 \n",
    "                                          weights='imagenet') #모델을 만들지 않음.왜?VGG16로 만들어졌기때문에"
   ]
  },
  {
   "cell_type": "code",
   "execution_count": 46,
   "metadata": {},
   "outputs": [],
   "source": [
    "VGG16_MODEL.trainable =False\n",
    "\n",
    "#flattn 이 없음 대신 GlobalAveragePooling2D :모양을 유지한채 그대로 풀링된다\n",
    "global_average_layer = tf.keras.layers.GlobalAveragePooling2D()\n",
    "#ffnn 의 가중치는 학습\n",
    "prediction_layer = tf.keras.layers.Dense(len(label_names),activation='softmax')"
   ]
  },
  {
   "cell_type": "code",
   "execution_count": 47,
   "metadata": {},
   "outputs": [],
   "source": [
    "model=tf.keras.Sequential([  #model(vgg16 가중치+FFNN 가중치 학습)\n",
    "    VGG16_MODEL, global_average_layer, prediction_layer])"
   ]
  },
  {
   "cell_type": "code",
   "execution_count": 48,
   "metadata": {},
   "outputs": [],
   "source": [
    "model.compile(optimizer=tf.train.AdamOptimizer(),\n",
    "             loss=tf.keras.losses.sparse_categorical_crossentropy, metrics=['accuracy']) #sparse_categorical_crossentropy :희소 행렬일때 (10개는 희소하지 않음 1000개 정도)"
   ]
  },
  {
   "cell_type": "code",
   "execution_count": 49,
   "metadata": {},
   "outputs": [
    {
     "name": "stdout",
     "output_type": "stream",
     "text": [
      "Train on 2 steps\n",
      "Epoch 1/100\n",
      "2/2 [==============================] - 9s 5s/step - loss: 1.8462 - acc: 0.1719\n",
      "Epoch 2/100\n",
      "2/2 [==============================] - 0s 166ms/step - loss: 1.8134 - acc: 0.1875\n",
      "Epoch 3/100\n",
      "2/2 [==============================] - 0s 154ms/step - loss: 1.6869 - acc: 0.2031\n",
      "Epoch 4/100\n",
      "2/2 [==============================] - 0s 154ms/step - loss: 1.5982 - acc: 0.2969\n",
      "Epoch 5/100\n",
      "2/2 [==============================] - 0s 157ms/step - loss: 1.6151 - acc: 0.2969\n",
      "Epoch 6/100\n",
      "2/2 [==============================] - 0s 155ms/step - loss: 1.5492 - acc: 0.3906\n",
      "Epoch 7/100\n",
      "2/2 [==============================] - 0s 155ms/step - loss: 1.5439 - acc: 0.3438\n",
      "Epoch 8/100\n",
      "2/2 [==============================] - 0s 155ms/step - loss: 1.5647 - acc: 0.3594\n",
      "Epoch 9/100\n",
      "2/2 [==============================] - 0s 157ms/step - loss: 1.5010 - acc: 0.4531\n",
      "Epoch 10/100\n",
      "2/2 [==============================] - 0s 155ms/step - loss: 1.6053 - acc: 0.2500\n",
      "Epoch 11/100\n",
      "2/2 [==============================] - 0s 155ms/step - loss: 1.5283 - acc: 0.3906\n",
      "Epoch 12/100\n",
      "2/2 [==============================] - 0s 156ms/step - loss: 1.5820 - acc: 0.2188\n",
      "Epoch 13/100\n",
      "2/2 [==============================] - 0s 155ms/step - loss: 1.4916 - acc: 0.4062\n",
      "Epoch 14/100\n",
      "2/2 [==============================] - 0s 155ms/step - loss: 1.4586 - acc: 0.4531\n",
      "Epoch 15/100\n",
      "2/2 [==============================] - 0s 156ms/step - loss: 1.4810 - acc: 0.4219\n",
      "Epoch 16/100\n",
      "2/2 [==============================] - 0s 155ms/step - loss: 1.4432 - acc: 0.4531\n",
      "Epoch 17/100\n",
      "2/2 [==============================] - 0s 156ms/step - loss: 1.4196 - acc: 0.5312\n",
      "Epoch 18/100\n",
      "2/2 [==============================] - 0s 156ms/step - loss: 1.3968 - acc: 0.5156\n",
      "Epoch 19/100\n",
      "2/2 [==============================] - 0s 155ms/step - loss: 1.4600 - acc: 0.4219\n",
      "Epoch 20/100\n",
      "2/2 [==============================] - 0s 155ms/step - loss: 1.3968 - acc: 0.5625\n",
      "Epoch 21/100\n",
      "2/2 [==============================] - 0s 155ms/step - loss: 1.4367 - acc: 0.5000\n",
      "Epoch 22/100\n",
      "2/2 [==============================] - 0s 156ms/step - loss: 1.4185 - acc: 0.5625\n",
      "Epoch 23/100\n",
      "2/2 [==============================] - 0s 155ms/step - loss: 1.3565 - acc: 0.5469\n",
      "Epoch 24/100\n",
      "2/2 [==============================] - 0s 155ms/step - loss: 1.3590 - acc: 0.5625\n",
      "Epoch 25/100\n",
      "2/2 [==============================] - 0s 156ms/step - loss: 1.3338 - acc: 0.5469\n",
      "Epoch 26/100\n",
      "2/2 [==============================] - 0s 155ms/step - loss: 1.2997 - acc: 0.5469\n",
      "Epoch 27/100\n",
      "2/2 [==============================] - 0s 155ms/step - loss: 1.3526 - acc: 0.5312\n",
      "Epoch 28/100\n",
      "2/2 [==============================] - 0s 157ms/step - loss: 1.3056 - acc: 0.5312\n",
      "Epoch 29/100\n",
      "2/2 [==============================] - 0s 157ms/step - loss: 1.3248 - acc: 0.5156\n",
      "Epoch 30/100\n",
      "2/2 [==============================] - 0s 155ms/step - loss: 1.2805 - acc: 0.5625\n",
      "Epoch 31/100\n",
      "2/2 [==============================] - 0s 157ms/step - loss: 1.3149 - acc: 0.4844\n",
      "Epoch 32/100\n",
      "2/2 [==============================] - 0s 156ms/step - loss: 1.2727 - acc: 0.5469\n",
      "Epoch 33/100\n",
      "2/2 [==============================] - 0s 155ms/step - loss: 1.2352 - acc: 0.6406\n",
      "Epoch 34/100\n",
      "2/2 [==============================] - 0s 157ms/step - loss: 1.2416 - acc: 0.5938\n",
      "Epoch 35/100\n",
      "2/2 [==============================] - 0s 157ms/step - loss: 1.2583 - acc: 0.6094\n",
      "Epoch 36/100\n",
      "2/2 [==============================] - 0s 155ms/step - loss: 1.4132 - acc: 0.5156\n",
      "Epoch 37/100\n",
      "2/2 [==============================] - 0s 157ms/step - loss: 1.2681 - acc: 0.6094\n",
      "Epoch 38/100\n",
      "2/2 [==============================] - 0s 157ms/step - loss: 1.1775 - acc: 0.6562\n",
      "Epoch 39/100\n",
      "2/2 [==============================] - 0s 156ms/step - loss: 1.2991 - acc: 0.6094\n",
      "Epoch 40/100\n",
      "2/2 [==============================] - 0s 156ms/step - loss: 1.2047 - acc: 0.6094\n",
      "Epoch 41/100\n",
      "2/2 [==============================] - 0s 157ms/step - loss: 1.2968 - acc: 0.5625\n",
      "Epoch 42/100\n",
      "2/2 [==============================] - 0s 155ms/step - loss: 1.2394 - acc: 0.5781\n",
      "Epoch 43/100\n",
      "2/2 [==============================] - 0s 157ms/step - loss: 1.2190 - acc: 0.6562\n",
      "Epoch 44/100\n",
      "2/2 [==============================] - 0s 156ms/step - loss: 1.2203 - acc: 0.6719\n",
      "Epoch 45/100\n",
      "2/2 [==============================] - 0s 157ms/step - loss: 1.2431 - acc: 0.5469\n",
      "Epoch 46/100\n",
      "2/2 [==============================] - 0s 156ms/step - loss: 1.1843 - acc: 0.6562\n",
      "Epoch 47/100\n",
      "2/2 [==============================] - 0s 155ms/step - loss: 1.1494 - acc: 0.6562\n",
      "Epoch 48/100\n",
      "2/2 [==============================] - 0s 157ms/step - loss: 1.2036 - acc: 0.6250\n",
      "Epoch 49/100\n",
      "2/2 [==============================] - 0s 155ms/step - loss: 1.2024 - acc: 0.5469\n",
      "Epoch 50/100\n",
      "2/2 [==============================] - 0s 156ms/step - loss: 1.2378 - acc: 0.5625\n",
      "Epoch 51/100\n",
      "2/2 [==============================] - 0s 156ms/step - loss: 1.1435 - acc: 0.6719\n",
      "Epoch 52/100\n",
      "2/2 [==============================] - 0s 155ms/step - loss: 1.1310 - acc: 0.6562\n",
      "Epoch 53/100\n",
      "2/2 [==============================] - 0s 157ms/step - loss: 1.0280 - acc: 0.7656\n",
      "Epoch 54/100\n",
      "2/2 [==============================] - 0s 156ms/step - loss: 1.1566 - acc: 0.6094\n",
      "Epoch 55/100\n",
      "2/2 [==============================] - 0s 155ms/step - loss: 1.1624 - acc: 0.6250\n",
      "Epoch 56/100\n",
      "2/2 [==============================] - 0s 156ms/step - loss: 1.1791 - acc: 0.6406\n",
      "Epoch 57/100\n",
      "2/2 [==============================] - 0s 157ms/step - loss: 1.1586 - acc: 0.7031\n",
      "Epoch 58/100\n",
      "2/2 [==============================] - 0s 155ms/step - loss: 1.0713 - acc: 0.7188\n",
      "Epoch 59/100\n",
      "2/2 [==============================] - 0s 158ms/step - loss: 1.0825 - acc: 0.7031\n",
      "Epoch 60/100\n",
      "2/2 [==============================] - 0s 155ms/step - loss: 0.9901 - acc: 0.7656\n",
      "Epoch 61/100\n",
      "2/2 [==============================] - 0s 156ms/step - loss: 1.0837 - acc: 0.6406\n",
      "Epoch 62/100\n",
      "2/2 [==============================] - 0s 156ms/step - loss: 1.0919 - acc: 0.7188\n",
      "Epoch 63/100\n",
      "2/2 [==============================] - 0s 154ms/step - loss: 1.0676 - acc: 0.7031\n",
      "Epoch 64/100\n",
      "2/2 [==============================] - 0s 155ms/step - loss: 1.0681 - acc: 0.7344\n",
      "Epoch 65/100\n",
      "2/2 [==============================] - 0s 156ms/step - loss: 1.0642 - acc: 0.7812\n",
      "Epoch 66/100\n",
      "2/2 [==============================] - 0s 155ms/step - loss: 1.0681 - acc: 0.6562\n",
      "Epoch 67/100\n",
      "2/2 [==============================] - 0s 155ms/step - loss: 1.1052 - acc: 0.7188\n",
      "Epoch 68/100\n",
      "2/2 [==============================] - 0s 156ms/step - loss: 1.0864 - acc: 0.6719\n",
      "Epoch 69/100\n",
      "2/2 [==============================] - 0s 155ms/step - loss: 1.0648 - acc: 0.6250\n",
      "Epoch 70/100\n",
      "2/2 [==============================] - 0s 155ms/step - loss: 1.1373 - acc: 0.6562\n",
      "Epoch 71/100\n",
      "2/2 [==============================] - 0s 155ms/step - loss: 0.9705 - acc: 0.7500\n",
      "Epoch 72/100\n",
      "2/2 [==============================] - 0s 155ms/step - loss: 1.0817 - acc: 0.7031\n",
      "Epoch 73/100\n",
      "2/2 [==============================] - 0s 155ms/step - loss: 1.0258 - acc: 0.7656\n",
      "Epoch 74/100\n",
      "2/2 [==============================] - 0s 156ms/step - loss: 1.1177 - acc: 0.6875\n",
      "Epoch 75/100\n",
      "2/2 [==============================] - 0s 155ms/step - loss: 1.0258 - acc: 0.7344\n",
      "Epoch 76/100\n",
      "2/2 [==============================] - 0s 155ms/step - loss: 1.0342 - acc: 0.7031\n",
      "Epoch 77/100\n",
      "2/2 [==============================] - 0s 155ms/step - loss: 1.0468 - acc: 0.7031\n",
      "Epoch 78/100\n",
      "2/2 [==============================] - 0s 154ms/step - loss: 0.9996 - acc: 0.7344\n",
      "Epoch 79/100\n",
      "2/2 [==============================] - 0s 155ms/step - loss: 0.8881 - acc: 0.7969\n",
      "Epoch 80/100\n",
      "2/2 [==============================] - 0s 155ms/step - loss: 1.0076 - acc: 0.8125\n",
      "Epoch 81/100\n",
      "2/2 [==============================] - 0s 156ms/step - loss: 1.0210 - acc: 0.7188\n",
      "Epoch 82/100\n",
      "2/2 [==============================] - 0s 155ms/step - loss: 0.9979 - acc: 0.7656\n",
      "Epoch 83/100\n",
      "2/2 [==============================] - 0s 155ms/step - loss: 0.9422 - acc: 0.7500\n",
      "Epoch 84/100\n",
      "2/2 [==============================] - 0s 156ms/step - loss: 1.0040 - acc: 0.6875\n",
      "Epoch 85/100\n",
      "2/2 [==============================] - 0s 155ms/step - loss: 1.1167 - acc: 0.6250\n",
      "Epoch 86/100\n",
      "2/2 [==============================] - 0s 155ms/step - loss: 1.0222 - acc: 0.6406\n",
      "Epoch 87/100\n"
     ]
    },
    {
     "name": "stdout",
     "output_type": "stream",
     "text": [
      "2/2 [==============================] - 0s 155ms/step - loss: 0.9406 - acc: 0.7969\n",
      "Epoch 88/100\n",
      "2/2 [==============================] - 0s 156ms/step - loss: 0.9969 - acc: 0.7031\n",
      "Epoch 89/100\n",
      "2/2 [==============================] - 0s 155ms/step - loss: 0.9208 - acc: 0.7188\n",
      "Epoch 90/100\n",
      "2/2 [==============================] - 0s 155ms/step - loss: 0.9115 - acc: 0.7656\n",
      "Epoch 91/100\n",
      "2/2 [==============================] - 0s 155ms/step - loss: 0.9764 - acc: 0.7500\n",
      "Epoch 92/100\n",
      "2/2 [==============================] - 0s 156ms/step - loss: 0.8863 - acc: 0.7969\n",
      "Epoch 93/100\n",
      "2/2 [==============================] - 0s 156ms/step - loss: 0.9761 - acc: 0.7344\n",
      "Epoch 94/100\n",
      "2/2 [==============================] - 0s 155ms/step - loss: 0.9026 - acc: 0.7500\n",
      "Epoch 95/100\n",
      "2/2 [==============================] - 0s 155ms/step - loss: 0.9328 - acc: 0.7656\n",
      "Epoch 96/100\n",
      "2/2 [==============================] - 0s 154ms/step - loss: 0.9704 - acc: 0.7500\n",
      "Epoch 97/100\n",
      "2/2 [==============================] - 0s 155ms/step - loss: 0.9601 - acc: 0.7969\n",
      "Epoch 98/100\n",
      "2/2 [==============================] - 0s 156ms/step - loss: 0.9356 - acc: 0.7812\n",
      "Epoch 99/100\n",
      "2/2 [==============================] - 0s 155ms/step - loss: 0.8714 - acc: 0.8125\n",
      "Epoch 100/100\n",
      "2/2 [==============================] - 0s 154ms/step - loss: 1.0225 - acc: 0.7031\n"
     ]
    }
   ],
   "source": [
    "history = model.fit(train_ds, epochs=100, steps_per_epoch=2)"
   ]
  },
  {
   "cell_type": "code",
   "execution_count": 56,
   "metadata": {},
   "outputs": [
    {
     "ename": "KeyError",
     "evalue": "'val_acc'",
     "output_type": "error",
     "traceback": [
      "\u001b[1;31m---------------------------------------------------------------------------\u001b[0m",
      "\u001b[1;31mKeyError\u001b[0m                                  Traceback (most recent call last)",
      "\u001b[1;32m<ipython-input-56-cd0f203cf6ae>\u001b[0m in \u001b[0;36m<module>\u001b[1;34m\u001b[0m\n\u001b[0;32m      1\u001b[0m \u001b[0mplt\u001b[0m\u001b[1;33m.\u001b[0m\u001b[0mplot\u001b[0m\u001b[1;33m(\u001b[0m\u001b[0mhistory\u001b[0m\u001b[1;33m.\u001b[0m\u001b[0mhistory\u001b[0m\u001b[1;33m[\u001b[0m\u001b[1;34m'acc'\u001b[0m\u001b[1;33m]\u001b[0m\u001b[1;33m)\u001b[0m\u001b[1;33m\u001b[0m\u001b[1;33m\u001b[0m\u001b[0m\n\u001b[1;32m----> 2\u001b[1;33m \u001b[0mplt\u001b[0m\u001b[1;33m.\u001b[0m\u001b[0mplot\u001b[0m\u001b[1;33m(\u001b[0m\u001b[0mhistory\u001b[0m\u001b[1;33m.\u001b[0m\u001b[0mhistory\u001b[0m\u001b[1;33m[\u001b[0m\u001b[1;34m'val_acc'\u001b[0m\u001b[1;33m]\u001b[0m\u001b[1;33m)\u001b[0m\u001b[1;33m\u001b[0m\u001b[1;33m\u001b[0m\u001b[0m\n\u001b[0m\u001b[0;32m      3\u001b[0m \u001b[0mplt\u001b[0m\u001b[1;33m.\u001b[0m\u001b[0mtitle\u001b[0m\u001b[1;33m(\u001b[0m\u001b[1;34m'model accuracy'\u001b[0m\u001b[1;33m)\u001b[0m\u001b[1;33m\u001b[0m\u001b[1;33m\u001b[0m\u001b[0m\n\u001b[0;32m      4\u001b[0m \u001b[0mplt\u001b[0m\u001b[1;33m.\u001b[0m\u001b[0mylabel\u001b[0m\u001b[1;33m(\u001b[0m\u001b[1;34m'acc'\u001b[0m\u001b[1;33m)\u001b[0m\u001b[1;33m\u001b[0m\u001b[1;33m\u001b[0m\u001b[0m\n\u001b[0;32m      5\u001b[0m \u001b[0mplt\u001b[0m\u001b[1;33m.\u001b[0m\u001b[0mxlabel\u001b[0m\u001b[1;33m(\u001b[0m\u001b[1;34m'epoch'\u001b[0m\u001b[1;33m)\u001b[0m\u001b[1;33m\u001b[0m\u001b[1;33m\u001b[0m\u001b[0m\n",
      "\u001b[1;31mKeyError\u001b[0m: 'val_acc'"
     ]
    },
    {
     "data": {
      "image/png": "[encoded data removed]",
      "text/plain": [
       "<Figure size 432x288 with 1 Axes>"
      ]
     },
     "metadata": {
      "needs_background": "light"
     },
     "output_type": "display_data"
    }
   ],
   "source": [
    "plt.plot(history.history['acc'])\n",
    "plt.plot(history.history['val_acc'])\n",
    "plt.title('model accuracy')\n",
    "plt.ylabel('accuracy')\n",
    "plt.xlabel('epoch')\n",
    "plt.legend('train','test',loc='upper left')\n",
    "plt.show()"
   ]
  },
  {
   "cell_type": "code",
   "execution_count": null,
   "metadata": {},
   "outputs": [],
   "source": []
  },
  {
   "cell_type": "code",
   "execution_count": null,
   "metadata": {},
   "outputs": [],
   "source": []
  },
  {
   "cell_type": "code",
   "execution_count": null,
   "metadata": {},
   "outputs": [],
   "source": []
  },
  {
   "cell_type": "code",
   "execution_count": null,
   "metadata": {},
   "outputs": [],
   "source": []
  }
 ],
 "metadata": {
  "kernelspec": {
   "display_name": "Python 3",
   "language": "python",
   "name": "python3"
  },
  "language_info": {
   "codemirror_mode": {
    "name": "ipython",
    "version": 3
   },
   "file_extension": ".py",
   "mimetype": "text/x-python",
   "name": "python",
   "nbconvert_exporter": "python",
   "pygments_lexer": "ipython3",
   "version": "3.7.4"
  }
 },
 "nbformat": 4,
 "nbformat_minor": 2
}
