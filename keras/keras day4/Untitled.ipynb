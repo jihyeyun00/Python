{
 "cells": [
  {
   "cell_type": "code",
   "execution_count": null,
   "metadata": {},
   "outputs": [],
   "source": [
    "data_dir='D:/food-5'\n",
    "categories=os.listdir(data_dir)\n",
    "nb_classes=len(categories)\n",
    "image_w=128\n",
    "image_h=128\n",
    "pixels=image_h*image_w*3\n",
    "\n",
    "X=[]\n",
    "y=[]"
   ]
  },
  {
   "cell_type": "code",
   "execution_count": null,
   "metadata": {},
   "outputs": [],
   "source": [
    "for idx,cat in enumerate(categories):\n",
    "    #one-hot\n",
    "    label=[0 for i in range(nb_classes)]\n",
    "    label[idx]=1\n",
    "    \n",
    "    image_dir=data_dir+ '/' +cat\n",
    "    files=glob.glob(image_dir+'*.jpg')\n",
    "    print(cat,'파일길이:', len(files))\n",
    "    \n",
    "    for i, f in enumerate(files):\n",
    "        img=image.open(f)\n",
    "        img=img.convert('RGB')\n",
    "        img=img.resize((image_w,image_h))\n",
    "        data=np.asarray(img)\n",
    "        \n",
    "        X.append(data)\n",
    "        y.append(label)\n",
    "        \n",
    "        print(cat,\":\",f)\n",
    "        \n",
    "X=np.array(X)\n",
    "y=np.array(y)\n",
    "\n",
    "X_train,X_test,y_train,y_test=train_test_split(X,y)\n",
    "xy=(X_train,X_test,y_train,y_test)\n",
    "np.save('./food8.npy',xy)\n",
    "\n",
    "print('ok',len(y))\n",
    "        "
   ]
  },
  {
   "cell_type": "code",
   "execution_count": null,
   "metadata": {},
   "outputs": [],
   "source": [
    "#모델\n",
    "import os,glob,numpy as np\n",
    "from keras.models import Sequential\n",
    "from keras.layers import Conv2D,MaxPooling2D,Dense,Flatten, Dorpout\n",
    "from keras.callbacks import EarlyStopping, ModelChekpoint\n",
    "import tensorflow as tf\n",
    "import matplotlib.pyplot as plt\n",
    "import keras.backend.tensorflow_backend as K\n",
    "import pathlib\n",
    "\n",
    "from keras.wrwppers.scikit_learn import KerasClassfier\n",
    "from sklearn.model_selection import GridSearchCV\n",
    "\n",
    "config=tf.ConfigProto()\n",
    "config.gpu_options.allos_growth=True\n",
    "session=tf.Session(config=config)\n",
    "\n",
    "X_train,X_test,y_train,y_test=np.load('./food8.npy')\n"
   ]
  },
  {
   "cell_type": "code",
   "execution_count": null,
   "metadata": {},
   "outputs": [],
   "source": [
    "data_dir='D:/food-5'\n",
    "data_dir=pathlib.Path(data_dir)\n",
    "categories=os.listdir(data_dir)\n",
    "nb_classes=len(categories)"
   ]
  },
  {
   "cell_type": "code",
   "execution_count": null,
   "metadata": {},
   "outputs": [],
   "source": [
    "X_train=X_train.astype(float)/255\n",
    "X_test=X_test.astype(float)/255\n"
   ]
  },
  {
   "cell_type": "code",
   "execution_count": null,
   "metadata": {},
   "outputs": [],
   "source": [
    "X_train.shape"
   ]
  },
  {
   "cell_type": "code",
   "execution_count": null,
   "metadata": {},
   "outputs": [],
   "source": [
    "categories"
   ]
  },
  {
   "cell_type": "code",
   "execution_count": null,
   "metadata": {},
   "outputs": [],
   "source": [
    "plt.imshow(X_train[0])"
   ]
  },
  {
   "cell_type": "code",
   "execution_count": null,
   "metadata": {},
   "outputs": [],
   "source": [
    "y_train[0]"
   ]
  },
  {
   "cell_type": "code",
   "execution_count": null,
   "metadata": {},
   "outputs": [],
   "source": [
    "model=Sequentail()\n",
    "#input layer\n",
    "model.add(Conv2D(32,(3,3),padding='same',\n",
    "                input_shape=X_train.shape[1:],\n",
    "                activation='relu',\n",
    "                init='he_uniform'))\n",
    "model.add(MaxPooling2D(pool_size=(2,2)))\n",
    "model.add(Dropout(0.25))\n",
    "#hidden layer1\n",
    "model.add(Conv2D(64,(3,3),padding='same',\n",
    "                activation='relu',\n",
    "                init='he_uniform'))\n",
    "model.add(MaxPooling2D(pool_size=(2,2)))\n",
    "model.add(Dropout(0.25))\n",
    "\n",
    "#hidden layer2\n",
    "model.add(Conv2D(128,(3,3),padding='same',\n",
    "                activation='relu',\n",
    "                init='he_uniform'))\n",
    "model.add(MaxPooling2D(pool_size=(2,2)))\n",
    "model.add(Dropout(0.25))\n",
    "\n",
    "#flatten output layer\n",
    "model.add(Flatten())\n",
    "model.add(Dense(256,activation='relu'))\n",
    "model.add(Dropout(0.5))\n",
    "model.add(Dense(nb_classes, activation='softmax'))\n",
    "model.compile(loss='categorical_crossnetropy',optimizer='adam',metrics=['accuracy'])\n",
    "model_dir='./model'\n",
    "\n",
    "if not os.path.exists(model_dir):\n",
    "    os.mkdir(model_dir)\n",
    "\n",
    "model_path=model_dir+ '/muti_img_clssification8.model'\n",
    "checkpoint=ModelChekpoint(filepath=model_path,monitor='val_loss',verbose=1,save_best_onlly=True)\n",
    "early_stopping=EarlyStopping(monitor='val_loss',patience=10)\n"
   ]
  },
  {
   "cell_type": "code",
   "execution_count": null,
   "metadata": {},
   "outputs": [],
   "source": [
    "history=model.fit(X_train,y_train,batch_size=20,epochs=50,\n",
    "                 validation_data=(X_test,y_test),\n",
    "                 callbacks=[checkpoint,early_stopping])"
   ]
  },
  {
   "cell_type": "code",
   "execution_count": null,
   "metadata": {},
   "outputs": [],
   "source": [
    "print('정확도: %.4f' % (model.evaluate(X_test,y_test)[1]))"
   ]
  },
  {
   "cell_type": "code",
   "execution_count": null,
   "metadata": {},
   "outputs": [],
   "source": [
    "y_vloss=history.history['val_loss']\n",
    "y_loss=history.history['loss']\n",
    "\n",
    "x_len=np.arange(len(y_loss))\n",
    "plt.plot(x_len,y_vloss,marker='.',c='red',label='val_set_loss')\n",
    "plt.plot(x_len,y_loss,marker='.',c='blue',label='train_set_loss')\n",
    "plt.legend()\n",
    "plt.xlabel('epochs')\n",
    "plt.ylabel('loss')\n",
    "plt.grid()\n",
    "plt.show()"
   ]
  },
  {
   "cell_type": "code",
   "execution_count": null,
   "metadata": {},
   "outputs": [],
   "source": []
  },
  {
   "cell_type": "code",
   "execution_count": null,
   "metadata": {},
   "outputs": [],
   "source": []
  },
  {
   "cell_type": "code",
   "execution_count": null,
   "metadata": {},
   "outputs": [],
   "source": []
  }
 ],
 "metadata": {
  "kernelspec": {
   "display_name": "Python 3",
   "language": "python",
   "name": "python3"
  },
  "language_info": {
   "codemirror_mode": {
    "name": "ipython",
    "version": 3
   },
   "file_extension": ".py",
   "mimetype": "text/x-python",
   "name": "python",
   "nbconvert_exporter": "python",
   "pygments_lexer": "ipython3",
   "version": "3.7.4"
  }
 },
 "nbformat": 4,
 "nbformat_minor": 2
}
