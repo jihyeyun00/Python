{
 "cells": [
  {
   "cell_type": "code",
   "execution_count": 1,
   "metadata": {},
   "outputs": [],
   "source": [
    "#멀티라벨 분류\n",
    "#음식라벨 4가지를 데이터셋으로 만들었음\n",
    "\n",
    "from PIL import Image\n",
    "import os, glob, numpy as np\n",
    "from sklearn.model_selection import train_test_split\n",
    "\n",
    "#caltech_dir: 에서 이미지와 라벨명을 가져옴\n",
    "caltech_dir = \"D:/final\"\n",
    "\n",
    "#D:/final\" 폴더에 있는 하위폴더이름을 불러오기(->categories)\n",
    "categories  = os.listdir(caltech_dir)\n",
    "nb_classes = len(categories )\n",
    "image_w = 128\n",
    "image_h = 128\n",
    "pixels = image_h * image_w * 3\n",
    "\n",
    "X = []\n",
    "y = []"
   ]
  },
  {
   "cell_type": "code",
   "execution_count": 2,
   "metadata": {},
   "outputs": [
    {
     "data": {
      "text/plain": [
       "['숙주나물', '순두부찌개', '시금치나물', '애호박볶음']"
      ]
     },
     "execution_count": 2,
     "metadata": {},
     "output_type": "execute_result"
    }
   ],
   "source": [
    "categories"
   ]
  },
  {
   "cell_type": "code",
   "execution_count": 29,
   "metadata": {},
   "outputs": [
    {
     "name": "stdout",
     "output_type": "stream",
     "text": [
      "숙주나물  파일 길이 :  967\n",
      "숙주나물  :  D:/final/숙주나물\\Img_043_0000.JPG\n",
      "숙주나물  :  D:/final/숙주나물\\Img_043_0729.jpg\n",
      "순두부찌개  파일 길이 :  942\n",
      "순두부찌개  :  D:/final/순두부찌개\\Img_123_0000.jpg\n",
      "순두부찌개  :  D:/final/순두부찌개\\Img_123_0747.jpg\n",
      "시금치나물  파일 길이 :  936\n",
      "시금치나물  :  D:/final/시금치나물\\Img_044_0000.JPG\n",
      "시금치나물  :  D:/final/시금치나물\\Img_044_0752.jpg\n",
      "애호박볶음  파일 길이 :  947\n",
      "애호박볶음  :  D:/final/애호박볶음\\Img_045_0000.jpg\n",
      "애호박볶음  :  D:/final/애호박볶음\\Img_045_0743.jpg\n",
      "ok 3792\n"
     ]
    }
   ],
   "source": [
    "for idx, cat in enumerate(categories):\n",
    "    \n",
    "#one-hot 돌리기.\n",
    "    label = [0 for i in range(nb_classes)]\n",
    "    label[idx] = 1\n",
    "\n",
    "    image_dir = caltech_dir + \"/\" + cat\n",
    "    files = glob.glob(image_dir+\"/*.jpg\")\n",
    "    print(cat, \" 파일 길이 : \", len(files))\n",
    "    for i, f in enumerate(files):\n",
    "        img = Image.open(f)\n",
    "        img = img.convert(\"RGB\")\n",
    "        img = img.resize((image_w, image_h))\n",
    "        data = np.asarray(img)\n",
    "\n",
    "        X.append(data)\n",
    "        y.append(label)\n",
    "\n",
    "        if i % 700 == 0:\n",
    "            print(cat, \" : \", f)\n",
    "\n",
    "X = np.array(X)\n",
    "y = np.array(y)\n",
    "\n",
    "#1 0 0 0 이면 airplanes\n",
    "#0 1 0 0 이면 buddha 이런식\n",
    "\n",
    "X_train, X_test, y_train, y_test = train_test_split(X, y)\n",
    "xy = (X_train, X_test, y_train, y_test)\n",
    "np.save(\"./numpy_data/np1.npy\", xy)  #\n",
    "\n",
    "print(\"ok\", len(y))"
   ]
  },
  {
   "cell_type": "code",
   "execution_count": null,
   "metadata": {},
   "outputs": [],
   "source": []
  },
  {
   "cell_type": "code",
   "execution_count": null,
   "metadata": {},
   "outputs": [],
   "source": [
    "위에는 4가지(숙주나물~~애호박볶음)데이터셋 만드는거 \n",
    "아래는 food128.npy데이터셋 불러와서 내가 만든 모델에 넣고 돌리는거"
   ]
  },
  {
   "cell_type": "code",
   "execution_count": null,
   "metadata": {},
   "outputs": [],
   "source": []
  },
  {
   "cell_type": "code",
   "execution_count": 20,
   "metadata": {},
   "outputs": [
    {
     "name": "stdout",
     "output_type": "stream",
     "text": [
      "(14023, 128, 128, 3)\n",
      "14023\n"
     ]
    }
   ],
   "source": [
    "import os, glob, numpy as np\n",
    "from keras.models import Sequential\n",
    "from keras.layers import Conv2D, MaxPooling2D, Dense, Flatten, Dropout\n",
    "from keras.callbacks import EarlyStopping, ModelCheckpoint\n",
    "import matplotlib.pyplot as plt\n",
    "import keras.backend.tensorflow_backend as K\n",
    "\n",
    "import tensorflow as tf\n",
    "config = tf.ConfigProto()\n",
    "config.gpu_options.allow_growth = True\n",
    "session = tf.Session(config=config)\n",
    "\n",
    "nb_classes=20\n",
    "X_train, X_test, y_train, y_test = np.load('./food128.npy',allow_pickle=True)\n",
    "print(X_train.shape)\n",
    "print(X_train.shape[0])"
   ]
  },
  {
   "cell_type": "code",
   "execution_count": 21,
   "metadata": {},
   "outputs": [],
   "source": [
    "#categories = [\"airplanes\", \"buddha\", \"butterfly\", \"crab\"] 우리 모델을 라벨이 4개인데 폴더별로 이미 이름이 있고,라벨로 쓸예정임\n",
    "#nb_classes = len(categories)\n",
    "\n",
    "#일반화\n",
    "X_train = X_train.astype(float) / 255\n",
    "X_test = X_test.astype(float) / 255"
   ]
  },
  {
   "cell_type": "code",
   "execution_count": 22,
   "metadata": {},
   "outputs": [],
   "source": [
    "with K.tf_ops.device('/device:GPU:0'):\n",
    "    model = Sequential()\n",
    "    model.add(Conv2D(32, (3,3), padding=\"same\", input_shape=X_train.shape[1:], activation='relu'))\n",
    "    model.add(MaxPooling2D(pool_size=(2,2)))\n",
    "    model.add(Dropout(0.25))\n",
    "    \n",
    "    model.add(Conv2D(64, (3,3), padding=\"same\", activation='relu'))\n",
    "    model.add(MaxPooling2D(pool_size=(2,2)))\n",
    "    model.add(Dropout(0.25))\n",
    "    \n",
    "    model.add(Flatten())\n",
    "    model.add(Dense(256, activation='relu'))\n",
    "    model.add(Dropout(0.5))\n",
    "    model.add(Dense(nb_classes, activation='softmax'))\n",
    "    model.compile(loss='categorical_crossentropy', optimizer='adam', metrics=['accuracy'])\n",
    "    model_dir = './model'\n",
    "    \n",
    "    if not os.path.exists(model_dir):\n",
    "        os.mkdir(model_dir)\n",
    "    \n",
    "    model_path = model_dir + '/food128.model'\n",
    "    checkpoint = ModelCheckpoint(filepath=model_path , monitor='val_loss', verbose=1, save_best_only=True)\n",
    "    early_stopping = EarlyStopping(monitor='val_loss', patience=6)"
   ]
  },
  {
   "cell_type": "code",
   "execution_count": 23,
   "metadata": {},
   "outputs": [
    {
     "name": "stdout",
     "output_type": "stream",
     "text": [
      "Model: \"sequential_3\"\n",
      "_________________________________________________________________\n",
      "Layer (type)                 Output Shape              Param #   \n",
      "=================================================================\n",
      "conv2d_5 (Conv2D)            (None, 128, 128, 32)      896       \n",
      "_________________________________________________________________\n",
      "max_pooling2d_5 (MaxPooling2 (None, 64, 64, 32)        0         \n",
      "_________________________________________________________________\n",
      "dropout_7 (Dropout)          (None, 64, 64, 32)        0         \n",
      "_________________________________________________________________\n",
      "conv2d_6 (Conv2D)            (None, 64, 64, 64)        18496     \n",
      "_________________________________________________________________\n",
      "max_pooling2d_6 (MaxPooling2 (None, 32, 32, 64)        0         \n",
      "_________________________________________________________________\n",
      "dropout_8 (Dropout)          (None, 32, 32, 64)        0         \n",
      "_________________________________________________________________\n",
      "flatten_3 (Flatten)          (None, 65536)             0         \n",
      "_________________________________________________________________\n",
      "dense_5 (Dense)              (None, 256)               16777472  \n",
      "_________________________________________________________________\n",
      "dropout_9 (Dropout)          (None, 256)               0         \n",
      "_________________________________________________________________\n",
      "dense_6 (Dense)              (None, 20)                5140      \n",
      "=================================================================\n",
      "Total params: 16,802,004\n",
      "Trainable params: 16,802,004\n",
      "Non-trainable params: 0\n",
      "_________________________________________________________________\n"
     ]
    }
   ],
   "source": [
    "model.summary()"
   ]
  },
  {
   "cell_type": "code",
   "execution_count": 8,
   "metadata": {},
   "outputs": [],
   "source": [
    "#print(\"정확도 : %.4f\" % (model.evaluate(X_test, y_test)[1]))"
   ]
  },
  {
   "cell_type": "code",
   "execution_count": 24,
   "metadata": {},
   "outputs": [
    {
     "name": "stdout",
     "output_type": "stream",
     "text": [
      "Train on 14023 samples, validate on 4675 samples\n",
      "Epoch 1/50\n",
      "14023/14023 [==============================] - 33s 2ms/step - loss: 2.5631 - accuracy: 0.2138 - val_loss: 1.9479 - val_accuracy: 0.3499\n",
      "\n",
      "Epoch 00001: val_loss improved from inf to 1.94790, saving model to ./model/food128.model\n",
      "Epoch 2/50\n",
      "14023/14023 [==============================] - 33s 2ms/step - loss: 1.9112 - accuracy: 0.3699 - val_loss: 1.6974 - val_accuracy: 0.4466\n",
      "\n",
      "Epoch 00002: val_loss improved from 1.94790 to 1.69737, saving model to ./model/food128.model\n",
      "Epoch 3/50\n",
      "14023/14023 [==============================] - 33s 2ms/step - loss: 1.7082 - accuracy: 0.4347 - val_loss: 1.6085 - val_accuracy: 0.4806\n",
      "\n",
      "Epoch 00003: val_loss improved from 1.69737 to 1.60848, saving model to ./model/food128.model\n",
      "Epoch 4/50\n",
      "14023/14023 [==============================] - 33s 2ms/step - loss: 1.5539 - accuracy: 0.4833 - val_loss: 1.5023 - val_accuracy: 0.5018\n",
      "\n",
      "Epoch 00004: val_loss improved from 1.60848 to 1.50230, saving model to ./model/food128.model\n",
      "Epoch 5/50\n",
      "14023/14023 [==============================] - 33s 2ms/step - loss: 1.4021 - accuracy: 0.5293 - val_loss: 1.4388 - val_accuracy: 0.5316\n",
      "\n",
      "Epoch 00005: val_loss improved from 1.50230 to 1.43880, saving model to ./model/food128.model\n",
      "Epoch 6/50\n",
      "14023/14023 [==============================] - 33s 2ms/step - loss: 1.2427 - accuracy: 0.5863 - val_loss: 1.3777 - val_accuracy: 0.5405\n",
      "\n",
      "Epoch 00006: val_loss improved from 1.43880 to 1.37773, saving model to ./model/food128.model\n",
      "Epoch 7/50\n",
      "14023/14023 [==============================] - 33s 2ms/step - loss: 1.0967 - accuracy: 0.6273 - val_loss: 1.3915 - val_accuracy: 0.5512\n",
      "\n",
      "Epoch 00007: val_loss did not improve from 1.37773\n",
      "Epoch 8/50\n",
      "14023/14023 [==============================] - 33s 2ms/step - loss: 0.9603 - accuracy: 0.6693 - val_loss: 1.3945 - val_accuracy: 0.5662\n",
      "\n",
      "Epoch 00008: val_loss did not improve from 1.37773\n",
      "Epoch 9/50\n",
      "14023/14023 [==============================] - 33s 2ms/step - loss: 0.8539 - accuracy: 0.7084 - val_loss: 1.3758 - val_accuracy: 0.5709\n",
      "\n",
      "Epoch 00009: val_loss improved from 1.37773 to 1.37579, saving model to ./model/food128.model\n",
      "Epoch 10/50\n",
      "14023/14023 [==============================] - 33s 2ms/step - loss: 0.7486 - accuracy: 0.7383 - val_loss: 1.4317 - val_accuracy: 0.5716\n",
      "\n",
      "Epoch 00010: val_loss did not improve from 1.37579\n",
      "Epoch 11/50\n",
      "14023/14023 [==============================] - 33s 2ms/step - loss: 0.6685 - accuracy: 0.7657 - val_loss: 1.4696 - val_accuracy: 0.5859\n",
      "\n",
      "Epoch 00011: val_loss did not improve from 1.37579\n",
      "Epoch 12/50\n",
      "14023/14023 [==============================] - 33s 2ms/step - loss: 0.6074 - accuracy: 0.7869 - val_loss: 1.5476 - val_accuracy: 0.5681\n",
      "\n",
      "Epoch 00012: val_loss did not improve from 1.37579\n",
      "Epoch 13/50\n",
      "14023/14023 [==============================] - 33s 2ms/step - loss: 0.5305 - accuracy: 0.8150 - val_loss: 1.5782 - val_accuracy: 0.5724\n",
      "\n",
      "Epoch 00013: val_loss did not improve from 1.37579\n",
      "Epoch 14/50\n",
      "14023/14023 [==============================] - 33s 2ms/step - loss: 0.4901 - accuracy: 0.8274 - val_loss: 1.6525 - val_accuracy: 0.5728\n",
      "\n",
      "Epoch 00014: val_loss did not improve from 1.37579\n",
      "Epoch 15/50\n",
      "14023/14023 [==============================] - 33s 2ms/step - loss: 0.4636 - accuracy: 0.8376 - val_loss: 1.6540 - val_accuracy: 0.5632\n",
      "\n",
      "Epoch 00015: val_loss did not improve from 1.37579\n"
     ]
    }
   ],
   "source": [
    "history = model.fit(X_train, y_train, batch_size=32, epochs=50, validation_data=(X_test, y_test), callbacks=[checkpoint, early_stopping])"
   ]
  },
  {
   "cell_type": "code",
   "execution_count": 16,
   "metadata": {},
   "outputs": [
    {
     "data": {
      "image/png": "[encoded data removed]",
      "text/plain": [
       "<Figure size 432x288 with 1 Axes>"
      ]
     },
     "metadata": {
      "needs_background": "light"
     },
     "output_type": "display_data"
    }
   ],
   "source": [
    "y_vloss = history.history['val_loss']\n",
    "y_loss = history.history['loss']\n",
    "\n",
    "x_len = np.arange(len(y_loss))\n",
    "\n",
    "plt.plot(x_len, y_vloss, marker='.', c='red', label='val_set_loss')\n",
    "plt.plot(x_len, y_loss, marker='.', c='blue', label='train_set_oss')\n",
    "plt.legend()\n",
    "plt.xlabel('epochs')\n",
    "plt.ylabel('loss')\n",
    "plt.grid()\n",
    "plt.show()"
   ]
  },
  {
   "cell_type": "code",
   "execution_count": 19,
   "metadata": {},
   "outputs": [
    {
     "name": "stdout",
     "output_type": "stream",
     "text": [
      "[0.000 0.000 0.000 1.000 0.000 0.000 0.000 0.000 0.000 0.000 0.000 0.000\n",
      " 0.000 0.000 0.000 0.000 0.000 0.000 0.000 0.000]\n",
      "3\n",
      "해당 이미지는 애호박볶음로 추정됩니다.\n",
      "[0.000 0.000 0.000 0.000 0.000 1.000 0.000 0.000 0.000 0.000 0.000 0.000\n",
      " 0.000 0.000 0.000 0.000 0.000 0.000 0.000 0.000]\n",
      "5\n"
     ]
    },
    {
     "ename": "IndexError",
     "evalue": "list index out of range",
     "output_type": "error",
     "traceback": [
      "\u001b[1;31m---------------------------------------------------------------------------\u001b[0m",
      "\u001b[1;31mIndexError\u001b[0m                                Traceback (most recent call last)",
      "\u001b[1;32m<ipython-input-19-dd8998292caf>\u001b[0m in \u001b[0;36m<module>\u001b[1;34m\u001b[0m\n\u001b[0;32m     32\u001b[0m     \u001b[0mprint\u001b[0m\u001b[1;33m(\u001b[0m\u001b[0mi\u001b[0m\u001b[1;33m)\u001b[0m\u001b[1;33m\u001b[0m\u001b[1;33m\u001b[0m\u001b[0m\n\u001b[0;32m     33\u001b[0m     \u001b[0mprint\u001b[0m\u001b[1;33m(\u001b[0m\u001b[0mpre_ans\u001b[0m\u001b[1;33m)\u001b[0m\u001b[1;33m\u001b[0m\u001b[1;33m\u001b[0m\u001b[0m\n\u001b[1;32m---> 34\u001b[1;33m     \u001b[0mpre_ans_str\u001b[0m \u001b[1;33m=\u001b[0m \u001b[0mcategories\u001b[0m\u001b[1;33m[\u001b[0m\u001b[0mpre_ans\u001b[0m\u001b[1;33m]\u001b[0m\u001b[1;33m\u001b[0m\u001b[1;33m\u001b[0m\u001b[0m\n\u001b[0m\u001b[0;32m     35\u001b[0m     \u001b[0mprint\u001b[0m\u001b[1;33m(\u001b[0m\u001b[1;34m\"해당 \"\u001b[0m\u001b[1;33m+\u001b[0m\u001b[1;34m\"이미지는 \"\u001b[0m\u001b[1;33m+\u001b[0m\u001b[0mpre_ans_str\u001b[0m\u001b[1;33m+\u001b[0m\u001b[1;34m\"로 추정됩니다.\"\u001b[0m\u001b[1;33m)\u001b[0m\u001b[1;33m\u001b[0m\u001b[1;33m\u001b[0m\u001b[0m\n",
      "\u001b[1;31mIndexError\u001b[0m: list index out of range"
     ]
    }
   ],
   "source": [
    "from PIL import Image\n",
    "import os, glob, numpy as np\n",
    "from keras.models import load_model\n",
    "\n",
    "caltech_dir = \"D:/final_test\"\n",
    "image_w = 128\n",
    "image_h = 128\n",
    "\n",
    "pixels = image_h * image_w * 3\n",
    "\n",
    "X = []\n",
    "filenames = []\n",
    "files = glob.glob(caltech_dir+\"/*.*\")\n",
    "for i, f in enumerate(files):\n",
    "    img = Image.open(f)\n",
    "    img = img.convert(\"RGB\")\n",
    "    img = img.resize((image_w, image_h))\n",
    "    data = np.asarray(img)\n",
    "    filenames.append(f)\n",
    "    X.append(data)\n",
    "\n",
    "X = np.array(X)\n",
    "model = load_model('./food128.model')\n",
    "\n",
    "prediction = model.predict(X)\n",
    "np.set_printoptions(formatter={'float': lambda x: \"{0:0.3f}\".format(x)})\n",
    "cnt = 0\n",
    "\n",
    "#이 비교는 그냥 파일들이 있으면 해당 파일과 비교. 카테고리와 함께 비교해서 진행하는 것은 _4 파일.\n",
    "for i in prediction:\n",
    "    pre_ans = i.argmax()  # 예측 레이블\n",
    "    print(i)\n",
    "    print(pre_ans)\n",
    "    pre_ans_str = categories[pre_ans]\n",
    "    print(\"해당 \"+\"이미지는 \"+pre_ans_str+\"로 추정됩니다.\")\n"
   ]
  },
  {
   "cell_type": "code",
   "execution_count": 25,
   "metadata": {},
   "outputs": [
    {
     "data": {
      "text/plain": [
       "2"
      ]
     },
     "execution_count": 25,
     "metadata": {},
     "output_type": "execute_result"
    }
   ],
   "source": [
    "len(files)"
   ]
  },
  {
   "cell_type": "code",
   "execution_count": null,
   "metadata": {},
   "outputs": [],
   "source": []
  }
 ],
 "metadata": {
  "kernelspec": {
   "display_name": "Python 3",
   "language": "python",
   "name": "python3"
  },
  "language_info": {
   "codemirror_mode": {
    "name": "ipython",
    "version": 3
   },
   "file_extension": ".py",
   "mimetype": "text/x-python",
   "name": "python",
   "nbconvert_exporter": "python",
   "pygments_lexer": "ipython3",
   "version": "3.7.4"
  }
 },
 "nbformat": 4,
 "nbformat_minor": 2
}
