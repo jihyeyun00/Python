{
 "cells": [
  {
   "cell_type": "code",
   "execution_count": 1,
   "metadata": {},
   "outputs": [],
   "source": [
    "from PIL import Image\n",
    "import os, glob, numpy as np\n",
    "from sklearn.model_selection import train_test_split\n",
    "\n",
    "caltech_dir = \"C:/Users/ICT01_20/Desktop/food-5\" #현창이 디렉토리\n",
    "categories  = os.listdir(caltech_dir)\n",
    "nb_classes = len(categories )\n",
    "image_w = 128\n",
    "image_h = 128\n",
    "\n",
    "X = []\n",
    "y = []"
   ]
  },
  {
   "cell_type": "code",
   "execution_count": 9,
   "metadata": {},
   "outputs": [
    {
     "name": "stdout",
     "output_type": "stream",
     "text": [
      "(4013, 128, 128, 3)\n",
      "4013\n"
     ]
    }
   ],
   "source": [
    "import os, glob, numpy as np\n",
    "import tensorflow as tf\n",
    "from keras.models import Sequential\n",
    "from keras.layers import Conv2D, MaxPooling2D, Dense, Flatten, Dropout\n",
    "from keras.callbacks import EarlyStopping, ModelCheckpoint\n",
    "import matplotlib.pyplot as plt\n",
    "import keras.backend.tensorflow_backend as K\n",
    "#np_load_old = np.load\n",
    "#np.load = lambda *a, **k : np_load_old(*a, allow_pickle=True, **k)\n",
    "#np.load = np_load_old\n",
    "\n",
    "import tensorflow as tf\n",
    "config = tf.ConfigProto()\n",
    "config.gpu_options.allow_growth = True\n",
    "session = tf.Session(config=config)\n",
    "\n",
    "X_train, X_test, X_val, y_train, y_test, y_val= np.load('C:/Users/ICT01_23/Documents/Python/keras/keras day4/food-10.npy',allow_pickle=True) #\n",
    "#C:/Users/ICT01_23/Documents/Python/keras/keras day4\n",
    "# C:/Users/ICT01_20/Desktop/food-5-2.npy\n",
    "# C:/Users/ICT01_20/Documents/study/test/food128-1.npy\n",
    "print(X_train.shape)\n",
    "print(X_train.shape[0])"
   ]
  },
  {
   "cell_type": "code",
   "execution_count": 10,
   "metadata": {},
   "outputs": [],
   "source": [
    "#categories"
   ]
  },
  {
   "cell_type": "code",
   "execution_count": 12,
   "metadata": {},
   "outputs": [],
   "source": [
    "#일반화\n",
    "X_train = X_train.astype(float) / 255\n",
    "X_test = X_test.astype(float) / 255\n",
    "X_val = X_test.astype(float) / 255"
   ]
  },
  {
   "cell_type": "code",
   "execution_count": 13,
   "metadata": {},
   "outputs": [],
   "source": [
    "from keras.layers import BatchNormalization\n",
    "with K.tf_ops.device('/device:GPU:0'):\n",
    "    model = Sequential()\n",
    "    model.add(Conv2D(32, (3,3), padding=\"same\", input_shape=X_train.shape[1:], activation='relu')) \n",
    "    model.add(MaxPooling2D(pool_size=(2,2)))\n",
    "    model.add(Dropout(0.25))\n",
    "    \n",
    "    model.add(Conv2D(64, (3,3), padding=\"same\", activation='relu'))\n",
    "    \n",
    "    model.add(MaxPooling2D(pool_size=(2,2)))\n",
    "    model.add(Dropout(0.25))\n",
    "    \n",
    "    model.add(Flatten())\n",
    "    \n",
    "    model.add(Dense(256, activation='relu'))\n",
    "    model.add(Dropout(0.5))\n",
    "    model.add(Dense(10, activation='softmax'))\n",
    "    model.compile(loss='categorical_crossentropy', optimizer='adam', metrics=['accuracy'])\n",
    "    model_dir = './test'\n",
    "    \n",
    "    if not os.path.exists(model_dir):\n",
    "        os.mkdir(model_dir)\n",
    "    \n",
    "    model_path = model_dir + '/food-1-1.model'\n",
    "    checkpoint = ModelCheckpoint(filepath=model_path , monitor='val_loss', verbose=1, save_best_only=True)\n",
    "    early_stopping = EarlyStopping(monitor='val_loss', patience=2)"
   ]
  },
  {
   "cell_type": "code",
   "execution_count": 14,
   "metadata": {},
   "outputs": [
    {
     "name": "stdout",
     "output_type": "stream",
     "text": [
      "Model: \"sequential_2\"\n",
      "_________________________________________________________________\n",
      "Layer (type)                 Output Shape              Param #   \n",
      "=================================================================\n",
      "conv2d_4 (Conv2D)            (None, 128, 128, 32)      896       \n",
      "_________________________________________________________________\n",
      "max_pooling2d_4 (MaxPooling2 (None, 64, 64, 32)        0         \n",
      "_________________________________________________________________\n",
      "dropout_5 (Dropout)          (None, 64, 64, 32)        0         \n",
      "_________________________________________________________________\n",
      "conv2d_5 (Conv2D)            (None, 64, 64, 64)        18496     \n",
      "_________________________________________________________________\n",
      "max_pooling2d_5 (MaxPooling2 (None, 32, 32, 64)        0         \n",
      "_________________________________________________________________\n",
      "dropout_6 (Dropout)          (None, 32, 32, 64)        0         \n",
      "_________________________________________________________________\n",
      "flatten_2 (Flatten)          (None, 65536)             0         \n",
      "_________________________________________________________________\n",
      "dense_3 (Dense)              (None, 256)               16777472  \n",
      "_________________________________________________________________\n",
      "dropout_7 (Dropout)          (None, 256)               0         \n",
      "_________________________________________________________________\n",
      "dense_4 (Dense)              (None, 10)                2570      \n",
      "=================================================================\n",
      "Total params: 16,799,434\n",
      "Trainable params: 16,799,434\n",
      "Non-trainable params: 0\n",
      "_________________________________________________________________\n"
     ]
    }
   ],
   "source": [
    "model.summary()"
   ]
  },
  {
   "cell_type": "code",
   "execution_count": 15,
   "metadata": {},
   "outputs": [
    {
     "name": "stdout",
     "output_type": "stream",
     "text": [
      "Train on 4013 samples, validate on 1338 samples\n",
      "Epoch 1/50\n",
      "4013/4013 [==============================] - 10s 3ms/step - loss: 2.2257 - accuracy: 0.1258 - val_loss: 2.2211 - val_accuracy: 0.1166\n",
      "\n",
      "Epoch 00001: val_loss improved from inf to 2.22108, saving model to ./test/food-1-1.model\n",
      "Epoch 2/50\n",
      "4013/4013 [==============================] - 9s 2ms/step - loss: 2.1733 - accuracy: 0.1610 - val_loss: 2.0440 - val_accuracy: 0.2250\n",
      "\n",
      "Epoch 00002: val_loss improved from 2.22108 to 2.04398, saving model to ./test/food-1-1.model\n",
      "Epoch 3/50\n",
      "4013/4013 [==============================] - 9s 2ms/step - loss: 1.9650 - accuracy: 0.2437 - val_loss: 1.9360 - val_accuracy: 0.2287\n",
      "\n",
      "Epoch 00003: val_loss improved from 2.04398 to 1.93598, saving model to ./test/food-1-1.model\n",
      "Epoch 4/50\n",
      "4013/4013 [==============================] - 9s 2ms/step - loss: 1.8713 - accuracy: 0.2861 - val_loss: 1.8282 - val_accuracy: 0.3274\n",
      "\n",
      "Epoch 00004: val_loss improved from 1.93598 to 1.82816, saving model to ./test/food-1-1.model\n",
      "Epoch 5/50\n",
      "4013/4013 [==============================] - 9s 2ms/step - loss: 1.8058 - accuracy: 0.3112 - val_loss: 1.7698 - val_accuracy: 0.3468\n",
      "\n",
      "Epoch 00005: val_loss improved from 1.82816 to 1.76977, saving model to ./test/food-1-1.model\n",
      "Epoch 6/50\n",
      "4013/4013 [==============================] - 9s 2ms/step - loss: 1.7584 - accuracy: 0.3249 - val_loss: 1.7283 - val_accuracy: 0.3393\n",
      "\n",
      "Epoch 00006: val_loss improved from 1.76977 to 1.72828, saving model to ./test/food-1-1.model\n",
      "Epoch 7/50\n",
      "4013/4013 [==============================] - 10s 2ms/step - loss: 1.7248 - accuracy: 0.3399 - val_loss: 1.7164 - val_accuracy: 0.3490\n",
      "\n",
      "Epoch 00007: val_loss improved from 1.72828 to 1.71643, saving model to ./test/food-1-1.model\n",
      "Epoch 8/50\n",
      "4013/4013 [==============================] - 9s 2ms/step - loss: 1.7241 - accuracy: 0.3382 - val_loss: 1.7373 - val_accuracy: 0.3513\n",
      "\n",
      "Epoch 00008: val_loss did not improve from 1.71643\n",
      "Epoch 9/50\n",
      "4013/4013 [==============================] - 10s 2ms/step - loss: 1.6757 - accuracy: 0.3598 - val_loss: 1.6454 - val_accuracy: 0.3767\n",
      "\n",
      "Epoch 00009: val_loss improved from 1.71643 to 1.64537, saving model to ./test/food-1-1.model\n",
      "Epoch 10/50\n",
      "4013/4013 [==============================] - 9s 2ms/step - loss: 1.6467 - accuracy: 0.3705 - val_loss: 1.6202 - val_accuracy: 0.3857\n",
      "\n",
      "Epoch 00010: val_loss improved from 1.64537 to 1.62021, saving model to ./test/food-1-1.model\n",
      "Epoch 11/50\n",
      "4013/4013 [==============================] - 9s 2ms/step - loss: 1.6430 - accuracy: 0.3780 - val_loss: 1.6146 - val_accuracy: 0.4043\n",
      "\n",
      "Epoch 00011: val_loss improved from 1.62021 to 1.61458, saving model to ./test/food-1-1.model\n",
      "Epoch 12/50\n",
      "4013/4013 [==============================] - 9s 2ms/step - loss: 1.6104 - accuracy: 0.3828 - val_loss: 1.6088 - val_accuracy: 0.3999\n",
      "\n",
      "Epoch 00012: val_loss improved from 1.61458 to 1.60883, saving model to ./test/food-1-1.model\n",
      "Epoch 13/50\n",
      "4013/4013 [==============================] - 9s 2ms/step - loss: 1.5961 - accuracy: 0.3932 - val_loss: 1.5900 - val_accuracy: 0.4051\n",
      "\n",
      "Epoch 00013: val_loss improved from 1.60883 to 1.59002, saving model to ./test/food-1-1.model\n",
      "Epoch 14/50\n",
      "4013/4013 [==============================] - 9s 2ms/step - loss: 1.5837 - accuracy: 0.4004 - val_loss: 1.6597 - val_accuracy: 0.3857\n",
      "\n",
      "Epoch 00014: val_loss did not improve from 1.59002\n",
      "Epoch 15/50\n",
      "4013/4013 [==============================] - 9s 2ms/step - loss: 1.5744 - accuracy: 0.4049 - val_loss: 1.5930 - val_accuracy: 0.4058\n",
      "\n",
      "Epoch 00015: val_loss did not improve from 1.59002\n"
     ]
    }
   ],
   "source": [
    "history = model.fit(X_train, y_train, batch_size=32, epochs=50, validation_data=(X_test, y_test), \n",
    "                    callbacks=[checkpoint, early_stopping])"
   ]
  },
  {
   "cell_type": "code",
   "execution_count": 16,
   "metadata": {},
   "outputs": [
    {
     "name": "stdout",
     "output_type": "stream",
     "text": [
      "1338/1338 [==============================] - 1s 662us/step\n",
      "test : 정확도 : 0.4058\n",
      "4013/4013 [==============================] - 3s 634us/step\n",
      "train : 정확도 : 0.4538\n"
     ]
    }
   ],
   "source": [
    "print(\"test : 정확도 : %.4f\" % (model.evaluate(X_test, y_test)[1]))\n",
    "print(\"train : 정확도 : %.4f\" % (model.evaluate(X_train, y_train)[1]))\n"
   ]
  },
  {
   "cell_type": "code",
   "execution_count": 17,
   "metadata": {},
   "outputs": [
    {
     "data": {
      "image/png": "[encoded data removed]",
      "text/plain": [
       "<Figure size 432x288 with 1 Axes>"
      ]
     },
     "metadata": {
      "needs_background": "light"
     },
     "output_type": "display_data"
    }
   ],
   "source": [
    "y_vloss = history.history['val_loss']\n",
    "y_loss = history.history['loss']\n",
    "\n",
    "x_len = np.arange(len(y_loss))\n",
    "\n",
    "plt.plot(x_len, y_vloss, marker='.', c='red', label='val_set_loss')\n",
    "plt.plot(x_len, y_loss, marker='.', c='blue', label='train_set_oss')\n",
    "plt.legend()\n",
    "plt.xlabel('epochs')\n",
    "plt.ylabel('loss')\n",
    "plt.grid()\n",
    "plt.show()"
   ]
  },
  {
   "cell_type": "code",
   "execution_count": 21,
   "metadata": {
    "scrolled": true
   },
   "outputs": [
    {
     "ename": "FileNotFoundError",
     "evalue": "[WinError 3] 지정된 경로를 찾을 수 없습니다: 'C:/Users/ICT01_20/Documents/study/test1'",
     "output_type": "error",
     "traceback": [
      "\u001b[1;31m---------------------------------------------------------------------------\u001b[0m",
      "\u001b[1;31mFileNotFoundError\u001b[0m                         Traceback (most recent call last)",
      "\u001b[1;32m<ipython-input-21-ecb3a73fc6be>\u001b[0m in \u001b[0;36m<module>\u001b[1;34m\u001b[0m\n\u001b[0;32m      4\u001b[0m \u001b[1;33m\u001b[0m\u001b[0m\n\u001b[0;32m      5\u001b[0m \u001b[0mcaltech_dir\u001b[0m \u001b[1;33m=\u001b[0m \u001b[1;34m\"C:/Users/ICT01_20/Documents/study/test1\"\u001b[0m\u001b[1;33m\u001b[0m\u001b[1;33m\u001b[0m\u001b[0m\n\u001b[1;32m----> 6\u001b[1;33m \u001b[0mcategories\u001b[0m  \u001b[1;33m=\u001b[0m \u001b[0mos\u001b[0m\u001b[1;33m.\u001b[0m\u001b[0mlistdir\u001b[0m\u001b[1;33m(\u001b[0m\u001b[0mcaltech_dir\u001b[0m\u001b[1;33m)\u001b[0m\u001b[1;33m\u001b[0m\u001b[1;33m\u001b[0m\u001b[0m\n\u001b[0m\u001b[0;32m      7\u001b[0m \u001b[0mnb_classes\u001b[0m \u001b[1;33m=\u001b[0m \u001b[0mlen\u001b[0m\u001b[1;33m(\u001b[0m\u001b[0mcategories\u001b[0m \u001b[1;33m)\u001b[0m\u001b[1;33m\u001b[0m\u001b[1;33m\u001b[0m\u001b[0m\n\u001b[0;32m      8\u001b[0m \u001b[0mprint\u001b[0m\u001b[1;33m(\u001b[0m\u001b[0mcategories\u001b[0m\u001b[1;33m)\u001b[0m\u001b[1;33m\u001b[0m\u001b[1;33m\u001b[0m\u001b[0m\n",
      "\u001b[1;31mFileNotFoundError\u001b[0m: [WinError 3] 지정된 경로를 찾을 수 없습니다: 'C:/Users/ICT01_20/Documents/study/test1'"
     ]
    }
   ],
   "source": [
    "from PIL import Image\n",
    "import os, glob, numpy as np\n",
    "from keras.models import load_model\n",
    "\n",
    "caltech_dir = \"D:/final_test\"\n",
    "categories  = os.listdir(caltech_dir)\n",
    "nb_classes = len(categories )\n",
    "#print(categories)\n",
    "image_w = 128\n",
    "image_h = 128\n",
    "\n",
    "\n",
    "X = []\n",
    "filenames = []\n",
    "files = glob.glob(caltech_dir+\"/*.*\")\n",
    "for i, f in enumerate(files):\n",
    "    img = Image.open(f)\n",
    "    img = img.convert(\"RGB\")\n",
    "    img = img.resize((image_w, image_h))\n",
    "    data = np.asarray(img)\n",
    "    filenames.append(f)\n",
    "    X.append(data)\n",
    "\n",
    "X = np.array(X)\n",
    "model = load_model('./test/food-1-1.model')\n",
    "\n",
    "prediction = model.predict(X)\n",
    "np.set_printoptions(formatter={'float': lambda x: \"{0:0.3f}\".format(x)})\n",
    "cnt = 0\n",
    "\n",
    "#caltech_dir = \"C:/Users/ICT01_20/Desktop/food-5\"\n",
    "categories  = os.listdir(caltech_dir)\n",
    "#이 비교는 그냥 파일들이 있으면 해당 파일과 비교. 카테고리와 함께 비교해서 진행하는 것은 _4 파일.\n",
    "for i in prediction:\n",
    "    pre_ans = i.argmax()  # 예측 레이블\n",
    "    print(i)\n",
    "    print(pre_ans)\n",
    "    pre_ans_str = categories[pre_ans]\n",
    "    print(\"해당 \"+\"이미지는 \"+pre_ans_str+\"로 추정됩니다.\")\n",
    "  "
   ]
  },
  {
   "cell_type": "code",
   "execution_count": null,
   "metadata": {},
   "outputs": [],
   "source": [
    "#----추가 "
   ]
  },
  {
   "cell_type": "code",
   "execution_count": 1,
   "metadata": {},
   "outputs": [
    {
     "name": "stderr",
     "output_type": "stream",
     "text": [
      "Using TensorFlow backend.\n"
     ]
    },
    {
     "name": "stdout",
     "output_type": "stream",
     "text": [
      "(4013, 128, 128, 3)\n",
      "4013\n"
     ]
    }
   ],
   "source": [
    "# ----------------------------------------------------------\n",
    "import os, glob, numpy as np\n",
    "import tensorflow as tf\n",
    "from keras.models import Sequential\n",
    "from keras.layers import Conv2D, MaxPooling2D, Dense, Flatten, Dropout\n",
    "from keras.callbacks import EarlyStopping, ModelCheckpoint\n",
    "import matplotlib.pyplot as plt\n",
    "import keras.backend.tensorflow_backend as K\n",
    "\n",
    "import tensorflow as tf\n",
    "config = tf.ConfigProto()\n",
    "config.gpu_options.allow_growth = True\n",
    "session = tf.Session(config=config)\n",
    "\n",
    "X_train, X_test, X_val, y_train, y_test, y_val= np.load('C:/Users/ICT01_23/Documents/Python/keras/keras day4/food-10.npy',allow_pickle=True)\n",
    "#C:/Users/ICT01_23/Documents/Python/keras/keras day4\n",
    "# C:/Users/ICT01_20/Desktop/food-5-2.npy\n",
    "# C:/Users/ICT01_20/Documents/study/test/food128-1.npy\n",
    "print(X_train.shape)\n",
    "print(X_train.shape[0])\n",
    "X_train = X_train.astype(float) / 255\n",
    "X_test = X_test.astype(float) / 255\n",
    "X_val = X_test.astype(float) / 255"
   ]
  },
  {
   "cell_type": "code",
   "execution_count": 2,
   "metadata": {},
   "outputs": [
    {
     "name": "stdout",
     "output_type": "stream",
     "text": [
      "WARNING:tensorflow:From C:\\Users\\ICT01_23\\Anaconda3\\lib\\site-packages\\tensorflow_core\\python\\ops\\resource_variable_ops.py:1630: calling BaseResourceVariable.__init__ (from tensorflow.python.ops.resource_variable_ops) with constraint is deprecated and will be removed in a future version.\n",
      "Instructions for updating:\n",
      "If using Keras pass *_constraint arguments to layers.\n",
      "WARNING:tensorflow:From C:\\Users\\ICT01_23\\Anaconda3\\lib\\site-packages\\keras\\backend\\tensorflow_backend.py:4070: The name tf.nn.max_pool is deprecated. Please use tf.nn.max_pool2d instead.\n",
      "\n"
     ]
    }
   ],
   "source": [
    "import keras\n",
    "from keras.layers import ELU\n",
    "from keras.layers import BatchNormalization , LeakyReLU\n",
    "with K.tf_ops.device('/device:GPU:0'):\n",
    "    model = Sequential()\n",
    "    model.add(Conv2D(32, (2,2), padding=\"same\", input_shape=X_train.shape[1:],\n",
    "                     kernel_regularizer=keras.regularizers.l2(0.001), kernel_initializer='he_normal')) \n",
    "    model.add(LeakyReLU(alpha=0.01))\n",
    "    model.add(MaxPooling2D(pool_size=(2,2)))\n",
    "    model.add(Dropout(0.3))\n",
    "    \n",
    "    model.add(Conv2D(64, (2,2), padding=\"same\", kernel_regularizer=keras.regularizers.l2(0.001), kernel_initializer='he_normal'))\n",
    "    model.add(LeakyReLU(alpha=0.01))\n",
    "    model.add(MaxPooling2D(pool_size=(2,2)))\n",
    "    model.add(Dropout(0.3))\n",
    "    \n",
    "    model.add(Conv2D(128, (2,2), padding=\"same\", kernel_regularizer=keras.regularizers.l2(0.001), kernel_initializer='he_normal'))\n",
    "    model.add(LeakyReLU(alpha=0.01))\n",
    "    model.add(MaxPooling2D(pool_size=(2,2)))\n",
    "    model.add(Dropout(0.3))\n",
    "    \n",
    "    model.add(Flatten()) # 65536 \n",
    "    \n",
    "    model.add(Dense(256, kernel_regularizer=keras.regularizers.l2(0.001), kernel_initializer='he_normal'))\n",
    "    model.add(LeakyReLU(alpha=0.01))\n",
    "    model.add(Dropout(0.5))\n",
    "    model.add(Dense(10, activation='softmax'))\n",
    "    model.compile(loss='categorical_crossentropy', optimizer='adam', metrics=['accuracy'])\n",
    "    model_dir = './test'\n",
    "    \n",
    "    if not os.path.exists(model_dir):\n",
    "        os.mkdir(model_dir)\n",
    "    \n",
    "    model_path = model_dir + '/food-10.model'\n",
    "    checkpoint = ModelCheckpoint(filepath=model_path , monitor='val_loss', verbose=1, save_best_only=True)\n",
    "    early_stopping = EarlyStopping(monitor='val_loss', patience=6)"
   ]
  },
  {
   "cell_type": "code",
   "execution_count": 3,
   "metadata": {},
   "outputs": [
    {
     "name": "stdout",
     "output_type": "stream",
     "text": [
      "Model: \"sequential_1\"\n",
      "_________________________________________________________________\n",
      "Layer (type)                 Output Shape              Param #   \n",
      "=================================================================\n",
      "conv2d_1 (Conv2D)            (None, 128, 128, 32)      416       \n",
      "_________________________________________________________________\n",
      "leaky_re_lu_1 (LeakyReLU)    (None, 128, 128, 32)      0         \n",
      "_________________________________________________________________\n",
      "max_pooling2d_1 (MaxPooling2 (None, 64, 64, 32)        0         \n",
      "_________________________________________________________________\n",
      "dropout_1 (Dropout)          (None, 64, 64, 32)        0         \n",
      "_________________________________________________________________\n",
      "conv2d_2 (Conv2D)            (None, 64, 64, 64)        8256      \n",
      "_________________________________________________________________\n",
      "leaky_re_lu_2 (LeakyReLU)    (None, 64, 64, 64)        0         \n",
      "_________________________________________________________________\n",
      "max_pooling2d_2 (MaxPooling2 (None, 32, 32, 64)        0         \n",
      "_________________________________________________________________\n",
      "dropout_2 (Dropout)          (None, 32, 32, 64)        0         \n",
      "_________________________________________________________________\n",
      "conv2d_3 (Conv2D)            (None, 32, 32, 128)       32896     \n",
      "_________________________________________________________________\n",
      "leaky_re_lu_3 (LeakyReLU)    (None, 32, 32, 128)       0         \n",
      "_________________________________________________________________\n",
      "max_pooling2d_3 (MaxPooling2 (None, 16, 16, 128)       0         \n",
      "_________________________________________________________________\n",
      "dropout_3 (Dropout)          (None, 16, 16, 128)       0         \n",
      "_________________________________________________________________\n",
      "flatten_1 (Flatten)          (None, 32768)             0         \n",
      "_________________________________________________________________\n",
      "dense_1 (Dense)              (None, 256)               8388864   \n",
      "_________________________________________________________________\n",
      "leaky_re_lu_4 (LeakyReLU)    (None, 256)               0         \n",
      "_________________________________________________________________\n",
      "dropout_4 (Dropout)          (None, 256)               0         \n",
      "_________________________________________________________________\n",
      "dense_2 (Dense)              (None, 10)                2570      \n",
      "=================================================================\n",
      "Total params: 8,433,002\n",
      "Trainable params: 8,433,002\n",
      "Non-trainable params: 0\n",
      "_________________________________________________________________\n"
     ]
    }
   ],
   "source": [
    "model.summary()"
   ]
  },
  {
   "cell_type": "code",
   "execution_count": 4,
   "metadata": {},
   "outputs": [
    {
     "name": "stdout",
     "output_type": "stream",
     "text": [
      "WARNING:tensorflow:From C:\\Users\\ICT01_23\\Anaconda3\\lib\\site-packages\\keras\\backend\\tensorflow_backend.py:422: The name tf.global_variables is deprecated. Please use tf.compat.v1.global_variables instead.\n",
      "\n",
      "Train on 4013 samples, validate on 1338 samples\n",
      "Epoch 1/50\n",
      "4013/4013 [==============================] - 13s 3ms/step - loss: 5.7420 - accuracy: 0.2061 - val_loss: 2.7836 - val_accuracy: 0.3341\n",
      "\n",
      "Epoch 00001: val_loss improved from inf to 2.78361, saving model to ./test/food-10.model\n",
      "Epoch 2/50\n",
      "4013/4013 [==============================] - 11s 3ms/step - loss: 2.5644 - accuracy: 0.3524 - val_loss: 2.4328 - val_accuracy: 0.3759\n",
      "\n",
      "Epoch 00002: val_loss improved from 2.78361 to 2.43279, saving model to ./test/food-10.model\n",
      "Epoch 3/50\n",
      "4013/4013 [==============================] - 11s 3ms/step - loss: 2.2779 - accuracy: 0.4393 - val_loss: 2.1370 - val_accuracy: 0.5209\n",
      "\n",
      "Epoch 00003: val_loss improved from 2.43279 to 2.13703, saving model to ./test/food-10.model\n",
      "Epoch 4/50\n",
      "4013/4013 [==============================] - 11s 3ms/step - loss: 2.0118 - accuracy: 0.5395 - val_loss: 1.9686 - val_accuracy: 0.5516\n",
      "\n",
      "Epoch 00004: val_loss improved from 2.13703 to 1.96856, saving model to ./test/food-10.model\n",
      "Epoch 5/50\n",
      "4013/4013 [==============================] - 11s 3ms/step - loss: 1.8618 - accuracy: 0.5853 - val_loss: 1.7917 - val_accuracy: 0.6353\n",
      "\n",
      "Epoch 00005: val_loss improved from 1.96856 to 1.79167, saving model to ./test/food-10.model\n",
      "Epoch 6/50\n",
      "4013/4013 [==============================] - 11s 3ms/step - loss: 1.7850 - accuracy: 0.6105 - val_loss: 1.7516 - val_accuracy: 0.6241\n",
      "\n",
      "Epoch 00006: val_loss improved from 1.79167 to 1.75162, saving model to ./test/food-10.model\n",
      "Epoch 7/50\n",
      "4013/4013 [==============================] - 11s 3ms/step - loss: 1.6991 - accuracy: 0.6387 - val_loss: 1.6668 - val_accuracy: 0.6756\n",
      "\n",
      "Epoch 00007: val_loss improved from 1.75162 to 1.66681, saving model to ./test/food-10.model\n",
      "Epoch 8/50\n",
      "4013/4013 [==============================] - 11s 3ms/step - loss: 1.6496 - accuracy: 0.6452 - val_loss: 1.6723 - val_accuracy: 0.6487\n",
      "\n",
      "Epoch 00008: val_loss did not improve from 1.66681\n",
      "Epoch 9/50\n",
      "4013/4013 [==============================] - 11s 3ms/step - loss: 1.6004 - accuracy: 0.6676 - val_loss: 1.6208 - val_accuracy: 0.6764\n",
      "\n",
      "Epoch 00009: val_loss improved from 1.66681 to 1.62082, saving model to ./test/food-10.model\n",
      "Epoch 10/50\n",
      "4013/4013 [==============================] - 11s 3ms/step - loss: 1.5288 - accuracy: 0.6875 - val_loss: 1.5582 - val_accuracy: 0.6913\n",
      "\n",
      "Epoch 00010: val_loss improved from 1.62082 to 1.55821, saving model to ./test/food-10.model\n",
      "Epoch 11/50\n",
      "4013/4013 [==============================] - 11s 3ms/step - loss: 1.4615 - accuracy: 0.7092 - val_loss: 1.5068 - val_accuracy: 0.7078\n",
      "\n",
      "Epoch 00011: val_loss improved from 1.55821 to 1.50682, saving model to ./test/food-10.model\n",
      "Epoch 12/50\n",
      "4013/4013 [==============================] - 11s 3ms/step - loss: 1.4250 - accuracy: 0.7197 - val_loss: 1.5051 - val_accuracy: 0.7115\n",
      "\n",
      "Epoch 00012: val_loss improved from 1.50682 to 1.50515, saving model to ./test/food-10.model\n",
      "Epoch 13/50\n",
      "4013/4013 [==============================] - 11s 3ms/step - loss: 1.4060 - accuracy: 0.7388 - val_loss: 1.4580 - val_accuracy: 0.7280\n",
      "\n",
      "Epoch 00013: val_loss improved from 1.50515 to 1.45800, saving model to ./test/food-10.model\n",
      "Epoch 14/50\n",
      "4013/4013 [==============================] - 11s 3ms/step - loss: 1.3842 - accuracy: 0.7533 - val_loss: 1.4960 - val_accuracy: 0.7093\n",
      "\n",
      "Epoch 00014: val_loss did not improve from 1.45800\n",
      "Epoch 15/50\n",
      "4013/4013 [==============================] - 11s 3ms/step - loss: 1.3444 - accuracy: 0.7595 - val_loss: 1.4337 - val_accuracy: 0.7272\n",
      "\n",
      "Epoch 00015: val_loss improved from 1.45800 to 1.43367, saving model to ./test/food-10.model\n",
      "Epoch 16/50\n",
      "4013/4013 [==============================] - 11s 3ms/step - loss: 1.3233 - accuracy: 0.7618 - val_loss: 1.4181 - val_accuracy: 0.7466\n",
      "\n",
      "Epoch 00016: val_loss improved from 1.43367 to 1.41812, saving model to ./test/food-10.model\n",
      "Epoch 17/50\n",
      "4013/4013 [==============================] - 11s 3ms/step - loss: 1.2975 - accuracy: 0.7862 - val_loss: 1.3743 - val_accuracy: 0.7661\n",
      "\n",
      "Epoch 00017: val_loss improved from 1.41812 to 1.37432, saving model to ./test/food-10.model\n",
      "Epoch 18/50\n",
      "4013/4013 [==============================] - 11s 3ms/step - loss: 1.2864 - accuracy: 0.7914 - val_loss: 1.3899 - val_accuracy: 0.7706\n",
      "\n",
      "Epoch 00018: val_loss did not improve from 1.37432\n",
      "Epoch 19/50\n",
      "4013/4013 [==============================] - 11s 3ms/step - loss: 1.2439 - accuracy: 0.8134 - val_loss: 1.3301 - val_accuracy: 0.7840\n",
      "\n",
      "Epoch 00019: val_loss improved from 1.37432 to 1.33012, saving model to ./test/food-10.model\n",
      "Epoch 20/50\n",
      "4013/4013 [==============================] - 11s 3ms/step - loss: 1.2429 - accuracy: 0.8154 - val_loss: 1.3556 - val_accuracy: 0.7862\n",
      "\n",
      "Epoch 00020: val_loss did not improve from 1.33012\n",
      "Epoch 21/50\n",
      "4013/4013 [==============================] - 11s 3ms/step - loss: 1.1559 - accuracy: 0.8435 - val_loss: 1.3408 - val_accuracy: 0.7728\n",
      "\n",
      "Epoch 00021: val_loss did not improve from 1.33012\n",
      "Epoch 22/50\n",
      "4013/4013 [==============================] - 11s 3ms/step - loss: 1.1448 - accuracy: 0.8527 - val_loss: 1.3106 - val_accuracy: 0.7952\n",
      "\n",
      "Epoch 00022: val_loss improved from 1.33012 to 1.31062, saving model to ./test/food-10.model\n",
      "Epoch 23/50\n",
      "4013/4013 [==============================] - 11s 3ms/step - loss: 1.1299 - accuracy: 0.8425 - val_loss: 1.3232 - val_accuracy: 0.7922\n",
      "\n",
      "Epoch 00023: val_loss did not improve from 1.31062\n",
      "Epoch 24/50\n",
      "4013/4013 [==============================] - 11s 3ms/step - loss: 1.1238 - accuracy: 0.8555 - val_loss: 1.3752 - val_accuracy: 0.7877\n",
      "\n",
      "Epoch 00024: val_loss did not improve from 1.31062\n",
      "Epoch 25/50\n",
      "4013/4013 [==============================] - 11s 3ms/step - loss: 1.1180 - accuracy: 0.8724 - val_loss: 1.3926 - val_accuracy: 0.7900\n",
      "\n",
      "Epoch 00025: val_loss did not improve from 1.31062\n",
      "Epoch 26/50\n",
      "4013/4013 [==============================] - 11s 3ms/step - loss: 1.1112 - accuracy: 0.8724 - val_loss: 1.4065 - val_accuracy: 0.7907\n",
      "\n",
      "Epoch 00026: val_loss did not improve from 1.31062\n",
      "Epoch 27/50\n",
      "4013/4013 [==============================] - 11s 3ms/step - loss: 1.0847 - accuracy: 0.8767 - val_loss: 1.3276 - val_accuracy: 0.8034\n",
      "\n",
      "Epoch 00027: val_loss did not improve from 1.31062\n",
      "Epoch 28/50\n",
      "4013/4013 [==============================] - 11s 3ms/step - loss: 1.0913 - accuracy: 0.8821 - val_loss: 1.3825 - val_accuracy: 0.7907\n",
      "\n",
      "Epoch 00028: val_loss did not improve from 1.31062\n"
     ]
    }
   ],
   "source": [
    "history = model.fit(X_train, y_train, batch_size=32, epochs=50, validation_data=(X_test, y_test), \n",
    "                    callbacks=[checkpoint, early_stopping])"
   ]
  },
  {
   "cell_type": "code",
   "execution_count": 5,
   "metadata": {},
   "outputs": [
    {
     "data": {
      "image/png": "[encoded data removed]",
      "text/plain": [
       "<Figure size 432x288 with 1 Axes>"
      ]
     },
     "metadata": {
      "needs_background": "light"
     },
     "output_type": "display_data"
    }
   ],
   "source": [
    "y_vloss = history.history['val_loss']\n",
    "y_loss = history.history['loss']\n",
    "\n",
    "x_len = np.arange(len(y_loss))\n",
    "\n",
    "plt.plot(x_len, y_vloss, marker='.', c='red', label='val_set_loss')\n",
    "plt.plot(x_len, y_loss, marker='.', c='blue', label='train_set_oss')\n",
    "plt.legend()\n",
    "plt.xlabel('epochs')\n",
    "plt.ylabel('loss')\n",
    "plt.grid()\n",
    "plt.show() #loss: 1.0913 - accuracy: 0.8821 - val_loss: 1.3825 - val_accuracy: 0.7907"
   ]
  },
  {
   "cell_type": "code",
   "execution_count": 27,
   "metadata": {},
   "outputs": [
    {
     "name": "stdout",
     "output_type": "stream",
     "text": [
      "['gosari.jpg', '갈치구이.jpg', '계란찜.jpg', '메추리알.jpg', '소세지볶음.jpg', '애호박볶음.jpg', '연근조림.jpg', '오징어채볶음.jpg', '제육볶음.jpg', '콩자반.jpg']\n",
      "정답률 :  100.0 % 해당 이미지는 고사리나물로 추정됩니다.\n",
      "정답률 :  100.0 % 해당 이미지는 갈치구이로 추정됩니다.\n",
      "정답률 :  100.0 % 해당 이미지는 계란찜로 추정됩니다.\n",
      "정답률 :  100.0 % 해당 이미지는 메추리알장조림로 추정됩니다.\n",
      "정답률 :  100.0 % 해당 이미지는 오징어채볶음로 추정됩니다.\n",
      "정답률 :  100.0 % 해당 이미지는 애호박볶음로 추정됩니다.\n",
      "정답률 :  100.0 % 해당 이미지는 오징어채볶음로 추정됩니다.\n",
      "정답률 :  100.0 % 해당 이미지는 오징어채볶음로 추정됩니다.\n",
      "정답률 :  100.0 % 해당 이미지는 오징어채볶음로 추정됩니다.\n",
      "정답률 :  100.0 % 해당 이미지는 콩자반로 추정됩니다.\n"
     ]
    }
   ],
   "source": [
    "from PIL import Image\n",
    "import os, glob, numpy as np\n",
    "from keras.models import load_model\n",
    "\n",
    "caltech_dir = \"D:/final_test/\"\n",
    "categories  = os.listdir(caltech_dir)\n",
    "nb_classes = len(categories )\n",
    "print(categories)\n",
    "image_w = 128\n",
    "image_h = 128\n",
    "\n",
    "X = []\n",
    "filenames = []\n",
    "files = glob.glob(caltech_dir+\"/*.*\")\n",
    "for i, f in enumerate(files):\n",
    "    img = Image.open(f)\n",
    "    img = img.convert(\"RGB\")\n",
    "    img = img.resize((image_w, image_h))\n",
    "    \n",
    "    data = np.asarray(img)\n",
    "    filenames.append(f)\n",
    "    X.append(data)\n",
    "    \n",
    "X = np.array(X)\n",
    "model = load_model('./test/food-10.model')\n",
    "\n",
    "prediction = model.predict(X)\n",
    "np.set_printoptions(formatter={'float': lambda x: \"{0:0.3f}\".format(x)})\n",
    "cnt = 0\n",
    "\n",
    "# caltech_dir =  \"D:/final_test/\"\n",
    "categories  = ['갈치구이','계란찜','고사리나물','메추리알장조림','소세지볶음','애호박볶음','연근조림','오징어채볶음','제육볶음',\n",
    " '콩자반']\n",
    "for i in prediction:\n",
    "    pre_ans = i.argmax()  \n",
    "    i = i[pre_ans]\n",
    "    i = round(i * 100,3 )\n",
    "    pre_ans_str = categories[pre_ans]\n",
    "    print('정답률 : ' , i, '%',\"해당 \"+\"이미지는 \"+pre_ans_str+\"로 추정됩니다.\")"
   ]
  },
  {
   "cell_type": "code",
   "execution_count": null,
   "metadata": {},
   "outputs": [],
   "source": []
  }
 ],
 "metadata": {
  "kernelspec": {
   "display_name": "Python 3",
   "language": "python",
   "name": "python3"
  },
  "language_info": {
   "codemirror_mode": {
    "name": "ipython",
    "version": 3
   },
   "file_extension": ".py",
   "mimetype": "text/x-python",
   "name": "python",
   "nbconvert_exporter": "python",
   "pygments_lexer": "ipython3",
   "version": "3.7.4"
  }
 },
 "nbformat": 4,
 "nbformat_minor": 4
}
