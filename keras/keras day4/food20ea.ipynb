{
 "cells": [
  {
   "cell_type": "code",
   "execution_count": 1,
   "metadata": {},
   "outputs": [],
   "source": [
    "#멀티라벨 분류\n",
    "#음식라벨 4가지를 데이터셋으로 만들었음\n",
    "\n",
    "from PIL import Image\n",
    "import os, glob, numpy as np\n",
    "from sklearn.model_selection import train_test_split\n",
    "\n",
    "#caltech_dir: 에서 이미지와 라벨명을 가져옴\n",
    "caltech_dir = \"D:/food2\"\n",
    "\n",
    "#D:/final\" 폴더에 있는 하위폴더이름을 불러오기(->categories)\n",
    "categories  = os.listdir(caltech_dir)\n",
    "nb_classes = len(categories )\n",
    "image_w = 128\n",
    "image_h = 128\n",
    "#pixels = image_h * image_w * 3\n",
    "\n",
    "X = []\n",
    "y = []"
   ]
  },
  {
   "cell_type": "code",
   "execution_count": 2,
   "metadata": {},
   "outputs": [
    {
     "data": {
      "text/plain": [
       "['갈비찜',\n",
       " '감자탕',\n",
       " '고사리나물',\n",
       " '김치찌개',\n",
       " '깍두기',\n",
       " '닭볶음탕',\n",
       " '된장찌개',\n",
       " '떡볶이',\n",
       " '무국',\n",
       " '미역국',\n",
       " '배추김치',\n",
       " '삼계탕',\n",
       " '숙주나물',\n",
       " '순두부찌개',\n",
       " '시금치나물',\n",
       " '애호박볶음',\n",
       " '육개장',\n",
       " '잡채',\n",
       " '제육볶음',\n",
       " '콩나물국']"
      ]
     },
     "execution_count": 2,
     "metadata": {},
     "output_type": "execute_result"
    }
   ],
   "source": [
    "categories"
   ]
  },
  {
   "cell_type": "code",
   "execution_count": null,
   "metadata": {},
   "outputs": [],
   "source": []
  },
  {
   "cell_type": "code",
   "execution_count": 3,
   "metadata": {},
   "outputs": [
    {
     "name": "stdout",
     "output_type": "stream",
     "text": [
      "갈비찜  파일 길이 :  966\n",
      "갈비찜  :  D:/food2/갈비찜\\Img_124_0000.jpg\n",
      "갈비찜  :  D:/food2/갈비찜\\Img_124_0723.jpg\n",
      "감자탕  파일 길이 :  946\n",
      "감자탕  :  D:/food2/감자탕\\Img_135_0000.jpg\n",
      "감자탕  :  D:/food2/감자탕\\Img_135_0736.jpg\n",
      "고사리나물  파일 길이 :  957\n",
      "고사리나물  :  D:/food2/고사리나물\\Img_041_0000.JPG\n",
      "고사리나물  :  D:/food2/고사리나물\\Img_041_0733.jpg\n",
      "김치찌개  파일 길이 :  960\n",
      "김치찌개  :  D:/food2/김치찌개\\Img_119_0000.jpg\n",
      "김치찌개  :  D:/food2/김치찌개\\Img_119_0735.jpg\n",
      "깍두기  파일 길이 :  963\n",
      "깍두기  :  D:/food2/깍두기\\Img_030_0000.jpg\n",
      "깍두기  :  D:/food2/깍두기\\Img_030_0725.jpg\n",
      "닭볶음탕  파일 길이 :  997\n",
      "닭볶음탕  :  D:/food2/닭볶음탕\\Img_128_0000.jpg\n",
      "닭볶음탕  :  D:/food2/닭볶음탕\\Img_128_0704.jpg\n",
      "된장찌개  파일 길이 :  972\n",
      "된장찌개  :  D:/food2/된장찌개\\Img_122_0000.JPG\n",
      "된장찌개  :  D:/food2/된장찌개\\Img_122_0723.jpg\n",
      "떡볶이  파일 길이 :  969\n",
      "떡볶이  :  D:/food2/떡볶이\\Img_082_0000.jpg\n",
      "떡볶이  :  D:/food2/떡볶이\\Img_082_0727.jpg\n",
      "무국  파일 길이 :  955\n",
      "무국  :  D:/food2/무국\\Img_016_0000.jpg\n"
     ]
    },
    {
     "name": "stderr",
     "output_type": "stream",
     "text": [
      "C:\\Users\\ICT01_23\\Anaconda3\\lib\\site-packages\\PIL\\TiffImagePlugin.py:802: UserWarning: Corrupt EXIF data.  Expecting to read 12 bytes but only got 4. \n",
      "  warnings.warn(str(msg))\n"
     ]
    },
    {
     "name": "stdout",
     "output_type": "stream",
     "text": [
      "무국  :  D:/food2/무국\\Img_016_0740.jpg\n",
      "미역국  파일 길이 :  950\n",
      "미역국  :  D:/food2/미역국\\Img_017_0001.jpg\n",
      "미역국  :  D:/food2/미역국\\Img_017_0737.jpg\n",
      "배추김치  파일 길이 :  974\n",
      "배추김치  :  D:/food2/배추김치\\Img_033_0000.jpg\n",
      "배추김치  :  D:/food2/배추김치\\Img_033_0721.jpg\n",
      "삼계탕  파일 길이 :  957\n",
      "삼계탕  :  D:/food2/삼계탕\\Img_138_0000.jpg\n",
      "삼계탕  :  D:/food2/삼계탕\\Img_138_0731.jpg\n",
      "숙주나물  파일 길이 :  962\n",
      "숙주나물  :  D:/food2/숙주나물\\Img_043_0000.JPG\n",
      "숙주나물  :  D:/food2/숙주나물\\Img_043_0731.jpg\n",
      "순두부찌개  파일 길이 :  925\n",
      "순두부찌개  :  D:/food2/순두부찌개\\Img_123_0000.jpg\n",
      "순두부찌개  :  D:/food2/순두부찌개\\Img_123_0754.jpg\n",
      "시금치나물  파일 길이 :  925\n",
      "시금치나물  :  D:/food2/시금치나물\\Img_044_0000.JPG\n",
      "시금치나물  :  D:/food2/시금치나물\\Img_044_0759.jpg\n",
      "애호박볶음  파일 길이 :  938\n",
      "애호박볶음  :  D:/food2/애호박볶음\\Img_045_0000.jpg\n",
      "애호박볶음  :  D:/food2/애호박볶음\\Img_045_0750.jpg\n",
      "육개장  파일 길이 :  874\n",
      "육개장  :  D:/food2/육개장\\Img_020_0000.jpg\n",
      "육개장  :  D:/food2/육개장\\Img_020_0801.jpg\n",
      "잡채  파일 길이 :  854\n",
      "잡채  :  D:/food2/잡채\\Img_065_0000.jpg\n",
      "잡채  :  D:/food2/잡채\\Img_065_0787.jpg\n",
      "제육볶음  파일 길이 :  961\n",
      "제육볶음  :  D:/food2/제육볶음\\Img_088_0000.jpg\n",
      "제육볶음  :  D:/food2/제육볶음\\Img_088_0730.jpg\n",
      "콩나물국  파일 길이 :  914\n",
      "콩나물국  :  D:/food2/콩나물국\\Img_021_0000.jpg\n",
      "콩나물국  :  D:/food2/콩나물국\\Img_021_0763.jpg\n",
      "ok 18919\n"
     ]
    }
   ],
   "source": [
    "for idx, cat in enumerate(categories):\n",
    "    \n",
    "#one-hot 돌리기.\n",
    "    label = [0 for i in range(nb_classes)]\n",
    "    label[idx] = 1\n",
    "\n",
    "    image_dir = caltech_dir + \"/\" + cat\n",
    "    files = glob.glob(image_dir+\"/*.jpg\")\n",
    "    print(cat, \" 파일 길이 : \", len(files))\n",
    "    for i, f in enumerate(files):\n",
    "        img = Image.open(f)\n",
    "        img = img.convert(\"RGB\")\n",
    "        img = img.resize((image_w, image_h))\n",
    "        data = np.asarray(img)\n",
    "\n",
    "        X.append(data)\n",
    "        y.append(label)\n",
    "\n",
    "        if i % 700 == 0:\n",
    "            print(cat, \" : \", f)\n",
    "\n",
    "X = np.array(X)\n",
    "y = np.array(y)\n",
    "\n",
    "#1 0 0 0 이면 airplanes\n",
    "#0 1 0 0 이면 buddha 이런식\n",
    "\n",
    "X_train, X_test, y_train, y_test = train_test_split(X, y)\n",
    "xy = (X_train, X_test, y_train, y_test)\n",
    "np.save(\"./numpy_data/food2np.npy\", xy)  #\n",
    "\n",
    "print(\"ok\", len(y))"
   ]
  },
  {
   "cell_type": "code",
   "execution_count": null,
   "metadata": {},
   "outputs": [],
   "source": []
  },
  {
   "cell_type": "code",
   "execution_count": null,
   "metadata": {},
   "outputs": [],
   "source": [
    "위에는 4가지(숙주나물~~애호박볶음)데이터셋 만드는거 \n",
    "아래는 food128.npy데이터셋 불러와서 내가 만든 모델에 넣고 돌리는거"
   ]
  },
  {
   "cell_type": "code",
   "execution_count": null,
   "metadata": {},
   "outputs": [],
   "source": []
  },
  {
   "cell_type": "code",
   "execution_count": 4,
   "metadata": {},
   "outputs": [
    {
     "name": "stderr",
     "output_type": "stream",
     "text": [
      "Using TensorFlow backend.\n"
     ]
    },
    {
     "name": "stdout",
     "output_type": "stream",
     "text": [
      "(14189, 128, 128, 3)\n",
      "14189\n"
     ]
    }
   ],
   "source": [
    "import os, glob, numpy as np\n",
    "from keras.models import Sequential\n",
    "from keras.layers import Conv2D, MaxPooling2D, Dense, Flatten, Dropout\n",
    "from keras.callbacks import EarlyStopping, ModelCheckpoint\n",
    "import matplotlib.pyplot as plt\n",
    "import keras.backend.tensorflow_backend as K\n",
    "\n",
    "import tensorflow as tf\n",
    "config = tf.ConfigProto()\n",
    "config.gpu_options.allow_growth = True\n",
    "session = tf.Session(config=config)\n",
    "\n",
    "nb_classes=20\n",
    "X_train, X_test, y_train, y_test = np.load('./numpy_data/food2np.npy',allow_pickle=True)\n",
    "print(X_train.shape)\n",
    "print(X_train.shape[0])"
   ]
  },
  {
   "cell_type": "code",
   "execution_count": 5,
   "metadata": {},
   "outputs": [],
   "source": [
    "#categories = [\"airplanes\", \"buddha\", \"butterfly\", \"crab\"] 우리 모델을 라벨이 4개인데 폴더별로 이미 이름이 있고,라벨로 쓸예정임\n",
    "#nb_classes = len(categories)\n",
    "\n",
    "#일반화\n",
    "X_train = X_train.astype(float) / 255\n",
    "X_test = X_test.astype(float) / 255"
   ]
  },
  {
   "cell_type": "code",
   "execution_count": 6,
   "metadata": {},
   "outputs": [
    {
     "name": "stdout",
     "output_type": "stream",
     "text": [
      "WARNING:tensorflow:From C:\\Users\\ICT01_23\\Anaconda3\\lib\\site-packages\\tensorflow_core\\python\\ops\\resource_variable_ops.py:1630: calling BaseResourceVariable.__init__ (from tensorflow.python.ops.resource_variable_ops) with constraint is deprecated and will be removed in a future version.\n",
      "Instructions for updating:\n",
      "If using Keras pass *_constraint arguments to layers.\n",
      "WARNING:tensorflow:From C:\\Users\\ICT01_23\\Anaconda3\\lib\\site-packages\\keras\\backend\\tensorflow_backend.py:4070: The name tf.nn.max_pool is deprecated. Please use tf.nn.max_pool2d instead.\n",
      "\n"
     ]
    }
   ],
   "source": [
    "with K.tf_ops.device('/device:GPU:0'):\n",
    "    model = Sequential()\n",
    "    model.add(Conv2D(32, (3,3), padding=\"same\", input_shape=X_train.shape[1:], activation='relu'))\n",
    "    model.add(MaxPooling2D(pool_size=(2,2)))\n",
    "    model.add(Dropout(0.25))\n",
    "    \n",
    "    model.add(Conv2D(64, (3,3), padding=\"same\", activation='relu'))\n",
    "    model.add(MaxPooling2D(pool_size=(2,2)))\n",
    "    model.add(Dropout(0.25))\n",
    "    \n",
    "    model.add(Flatten())\n",
    "    model.add(Dense(256, activation='relu'))\n",
    "    model.add(Dropout(0.5))\n",
    "    model.add(Dense(nb_classes, activation='softmax'))\n",
    "    model.compile(loss='categorical_crossentropy', optimizer='adam', metrics=['accuracy'])\n",
    "    model_dir = './model'\n",
    "    \n",
    "    if not os.path.exists(model_dir):\n",
    "        os.mkdir(model_dir)\n",
    "    \n",
    "    model_path = model_dir + '/food2.model'\n",
    "    checkpoint = ModelCheckpoint(filepath=model_path , monitor='val_loss', verbose=1, save_best_only=True)\n",
    "    early_stopping = EarlyStopping(monitor='val_loss', patience=6)"
   ]
  },
  {
   "cell_type": "code",
   "execution_count": 7,
   "metadata": {},
   "outputs": [
    {
     "name": "stdout",
     "output_type": "stream",
     "text": [
      "Model: \"sequential_1\"\n",
      "_________________________________________________________________\n",
      "Layer (type)                 Output Shape              Param #   \n",
      "=================================================================\n",
      "conv2d_1 (Conv2D)            (None, 128, 128, 32)      896       \n",
      "_________________________________________________________________\n",
      "max_pooling2d_1 (MaxPooling2 (None, 64, 64, 32)        0         \n",
      "_________________________________________________________________\n",
      "dropout_1 (Dropout)          (None, 64, 64, 32)        0         \n",
      "_________________________________________________________________\n",
      "conv2d_2 (Conv2D)            (None, 64, 64, 64)        18496     \n",
      "_________________________________________________________________\n",
      "max_pooling2d_2 (MaxPooling2 (None, 32, 32, 64)        0         \n",
      "_________________________________________________________________\n",
      "dropout_2 (Dropout)          (None, 32, 32, 64)        0         \n",
      "_________________________________________________________________\n",
      "flatten_1 (Flatten)          (None, 65536)             0         \n",
      "_________________________________________________________________\n",
      "dense_1 (Dense)              (None, 256)               16777472  \n",
      "_________________________________________________________________\n",
      "dropout_3 (Dropout)          (None, 256)               0         \n",
      "_________________________________________________________________\n",
      "dense_2 (Dense)              (None, 20)                5140      \n",
      "=================================================================\n",
      "Total params: 16,802,004\n",
      "Trainable params: 16,802,004\n",
      "Non-trainable params: 0\n",
      "_________________________________________________________________\n"
     ]
    }
   ],
   "source": [
    "model.summary()"
   ]
  },
  {
   "cell_type": "code",
   "execution_count": 8,
   "metadata": {},
   "outputs": [],
   "source": [
    "#print(\"정확도 : %.4f\" % (model.evaluate(X_test, y_test)[1]))"
   ]
  },
  {
   "cell_type": "code",
   "execution_count": 8,
   "metadata": {},
   "outputs": [
    {
     "name": "stdout",
     "output_type": "stream",
     "text": [
      "WARNING:tensorflow:From C:\\Users\\ICT01_23\\Anaconda3\\lib\\site-packages\\keras\\backend\\tensorflow_backend.py:422: The name tf.global_variables is deprecated. Please use tf.compat.v1.global_variables instead.\n",
      "\n",
      "Train on 14189 samples, validate on 4730 samples\n",
      "Epoch 1/50\n",
      "14189/14189 [==============================] - 36s 3ms/step - loss: 2.5008 - accuracy: 0.2098 - val_loss: 1.9129 - val_accuracy: 0.3901\n",
      "\n",
      "Epoch 00001: val_loss improved from inf to 1.91291, saving model to ./model/food2.model\n",
      "Epoch 2/50\n",
      "14189/14189 [==============================] - 34s 2ms/step - loss: 1.8970 - accuracy: 0.3734 - val_loss: 1.6537 - val_accuracy: 0.4592\n",
      "\n",
      "Epoch 00002: val_loss improved from 1.91291 to 1.65371, saving model to ./model/food2.model\n",
      "Epoch 3/50\n",
      "14189/14189 [==============================] - 33s 2ms/step - loss: 1.6686 - accuracy: 0.4436 - val_loss: 1.5709 - val_accuracy: 0.4837\n",
      "\n",
      "Epoch 00003: val_loss improved from 1.65371 to 1.57090, saving model to ./model/food2.model\n",
      "Epoch 4/50\n",
      "14189/14189 [==============================] - 34s 2ms/step - loss: 1.4959 - accuracy: 0.4976 - val_loss: 1.5074 - val_accuracy: 0.5175\n",
      "\n",
      "Epoch 00004: val_loss improved from 1.57090 to 1.50738, saving model to ./model/food2.model\n",
      "Epoch 5/50\n",
      "14189/14189 [==============================] - 33s 2ms/step - loss: 1.3281 - accuracy: 0.5499 - val_loss: 1.4588 - val_accuracy: 0.5309\n",
      "\n",
      "Epoch 00005: val_loss improved from 1.50738 to 1.45875, saving model to ./model/food2.model\n",
      "Epoch 6/50\n",
      "14189/14189 [==============================] - 33s 2ms/step - loss: 1.1747 - accuracy: 0.6015 - val_loss: 1.4790 - val_accuracy: 0.5199\n",
      "\n",
      "Epoch 00006: val_loss did not improve from 1.45875\n",
      "Epoch 7/50\n",
      "14189/14189 [==============================] - 34s 2ms/step - loss: 1.0206 - accuracy: 0.6490 - val_loss: 1.3924 - val_accuracy: 0.5531\n",
      "\n",
      "Epoch 00007: val_loss improved from 1.45875 to 1.39236, saving model to ./model/food2.model\n",
      "Epoch 8/50\n",
      "14189/14189 [==============================] - 33s 2ms/step - loss: 0.8884 - accuracy: 0.6909 - val_loss: 1.4201 - val_accuracy: 0.5533\n",
      "\n",
      "Epoch 00008: val_loss did not improve from 1.39236\n",
      "Epoch 9/50\n",
      "14189/14189 [==============================] - 33s 2ms/step - loss: 0.7997 - accuracy: 0.7218 - val_loss: 1.4512 - val_accuracy: 0.5529\n",
      "\n",
      "Epoch 00009: val_loss did not improve from 1.39236\n",
      "Epoch 10/50\n",
      "14189/14189 [==============================] - 33s 2ms/step - loss: 0.7061 - accuracy: 0.7505 - val_loss: 1.4284 - val_accuracy: 0.5723\n",
      "\n",
      "Epoch 00010: val_loss did not improve from 1.39236\n",
      "Epoch 11/50\n",
      "14189/14189 [==============================] - 34s 2ms/step - loss: 0.6249 - accuracy: 0.7724 - val_loss: 1.4601 - val_accuracy: 0.5679\n",
      "\n",
      "Epoch 00011: val_loss did not improve from 1.39236\n",
      "Epoch 12/50\n",
      "14189/14189 [==============================] - 34s 2ms/step - loss: 0.5687 - accuracy: 0.7945 - val_loss: 1.5006 - val_accuracy: 0.5630\n",
      "\n",
      "Epoch 00012: val_loss did not improve from 1.39236\n",
      "Epoch 13/50\n",
      "14189/14189 [==============================] - 33s 2ms/step - loss: 0.5284 - accuracy: 0.8111 - val_loss: 1.5024 - val_accuracy: 0.5715\n",
      "\n",
      "Epoch 00013: val_loss did not improve from 1.39236\n"
     ]
    }
   ],
   "source": [
    "history = model.fit(X_train, y_train, batch_size=32, epochs=50, validation_data=(X_test, y_test), callbacks=[checkpoint, early_stopping])"
   ]
  },
  {
   "cell_type": "code",
   "execution_count": 14,
   "metadata": {},
   "outputs": [
    {
     "data": {
      "image/png": "[encoded data removed]",
      "text/plain": [
       "<Figure size 432x288 with 1 Axes>"
      ]
     },
     "metadata": {
      "needs_background": "light"
     },
     "output_type": "display_data"
    }
   ],
   "source": [
    "y_vloss = history.history['val_loss']\n",
    "y_loss = history.history['loss']\n",
    "\n",
    "x_len = np.arange(len(y_loss))\n",
    "\n",
    "plt.plot(x_len, y_vloss, marker='.', c='red', label='val_set_loss')\n",
    "plt.plot(x_len, y_loss, marker='.', c='blue', label='train_set_oss')\n",
    "plt.legend()\n",
    "plt.xlabel('epochs')\n",
    "plt.ylabel('loss')\n",
    "plt.grid()\n",
    "plt.show()"
   ]
  },
  {
   "cell_type": "code",
   "execution_count": 19,
   "metadata": {},
   "outputs": [
    {
     "name": "stdout",
     "output_type": "stream",
     "text": [
      "[0.000 0.000 0.000 0.000 0.000 0.000 0.000 0.000 0.000 0.000 0.000 0.000\n",
      " 0.000 1.000 0.000 0.000 0.000 0.000 0.000 0.000]\n",
      "13\n",
      "해당 이미지는 순두부찌개로 추정됩니다.\n",
      "[0.000 0.000 0.000 0.000 0.000 1.000 0.000 0.000 0.000 0.000 0.000 0.000\n",
      " 0.000 0.000 0.000 0.000 0.000 0.000 0.000 0.000]\n",
      "5\n",
      "해당 이미지는 닭볶음탕로 추정됩니다.\n"
     ]
    }
   ],
   "source": [
    "from PIL import Image\n",
    "import os, glob, numpy as np\n",
    "from keras.models import load_model\n",
    "\n",
    "caltech_dir = \"D:/final_test\"\n",
    "image_w = 128\n",
    "image_h = 128\n",
    "\n",
    "#pixels = image_h * image_w * 3\n",
    "\n",
    "X = []\n",
    "filenames = []\n",
    "files = glob.glob(caltech_dir+\"/*.*\")\n",
    "for i, f in enumerate(files):\n",
    "    img = Image.open(f)\n",
    "    img = img.convert(\"RGB\")\n",
    "    img = img.resize((image_w, image_h))\n",
    "    data = np.asarray(img)\n",
    "    filenames.append(f)\n",
    "    X.append(data)\n",
    "\n",
    "X = np.array(X)\n",
    "model = load_model('./model/food2.model')\n",
    "\n",
    "prediction = model.predict(X)\n",
    "np.set_printoptions(formatter={'float': lambda x: \"{0:0.3f}\".format(x)})\n",
    "cnt = 0\n",
    "\n",
    "#이 비교는 그냥 파일들이 있으면 해당 파일과 비교. 카테고리와 함께 비교해서 진행하는 것은 _4 파일.\n",
    "for i in prediction:\n",
    "    pre_ans = i.argmax()  # 예측 레이블\n",
    "    print(i)\n",
    "    print(pre_ans)\n",
    "    pre_ans_str = categories[pre_ans]\n",
    "    print(\"해당 \"+\"이미지는 \"+pre_ans_str+\"로 추정됩니다.\")\n"
   ]
  },
  {
   "cell_type": "code",
   "execution_count": 25,
   "metadata": {},
   "outputs": [
    {
     "data": {
      "text/plain": [
       "2"
      ]
     },
     "execution_count": 25,
     "metadata": {},
     "output_type": "execute_result"
    }
   ],
   "source": [
    "len(files)"
   ]
  },
  {
   "cell_type": "code",
   "execution_count": null,
   "metadata": {},
   "outputs": [],
   "source": []
  }
 ],
 "metadata": {
  "kernelspec": {
   "display_name": "Python 3",
   "language": "python",
   "name": "python3"
  },
  "language_info": {
   "codemirror_mode": {
    "name": "ipython",
    "version": 3
   },
   "file_extension": ".py",
   "mimetype": "text/x-python",
   "name": "python",
   "nbconvert_exporter": "python",
   "pygments_lexer": "ipython3",
   "version": "3.7.4"
  }
 },
 "nbformat": 4,
 "nbformat_minor": 2
}
