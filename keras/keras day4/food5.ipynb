{
 "cells": [
  {
   "cell_type": "code",
   "execution_count": 9,
   "metadata": {},
   "outputs": [],
   "source": [
    "from PIL import Image\n",
    "import os, glob, numpy as np\n",
    "from sklearn.model_selection import train_test_split\n",
    "\n",
    "#caltech_dir: 에서 이미지와 라벨명을 가져옴\n",
    "caltech_dir = \"D:/food-5\"\n",
    "\n",
    "#D:/final\" 폴더에 있는 하위폴더이름을 불러오기(->categories)\n",
    "categories  = os.listdir(caltech_dir)\n",
    "nb_classes = len(categories )\n",
    "image_w = 128\n",
    "image_h = 128\n",
    "#pixels = image_h * image_w * 3\n",
    "\n",
    "X = []\n",
    "y = []"
   ]
  },
  {
   "cell_type": "code",
   "execution_count": 10,
   "metadata": {},
   "outputs": [
    {
     "data": {
      "text/plain": [
       "['계란찜', '고사리나물', '삼계탕', '오징어채볶음', '콩자반']"
      ]
     },
     "execution_count": 10,
     "metadata": {},
     "output_type": "execute_result"
    }
   ],
   "source": [
    "categories"
   ]
  },
  {
   "cell_type": "code",
   "execution_count": 11,
   "metadata": {},
   "outputs": [
    {
     "name": "stdout",
     "output_type": "stream",
     "text": [
      "계란찜  파일 길이 :  784\n",
      "계란찜  :  D:/food-5/계란찜\\Img_125_0000.jpg\n",
      "계란찜  :  D:/food-5/계란찜\\Img_125_0871.jpg\n",
      "고사리나물  파일 길이 :  896\n",
      "고사리나물  :  D:/food-5/고사리나물\\Img_041_0000.JPG\n",
      "고사리나물  :  D:/food-5/고사리나물\\Img_041_0782.jpg\n",
      "삼계탕  파일 길이 :  864\n",
      "삼계탕  :  D:/food-5/삼계탕\\Img_138_0000.jpg\n",
      "삼계탕  :  D:/food-5/삼계탕\\Img_138_0785.jpg\n",
      "오징어채볶음  파일 길이 :  704\n",
      "오징어채볶음  :  D:/food-5/오징어채볶음\\Img_087_0003.jpg\n",
      "오징어채볶음  :  D:/food-5/오징어채볶음\\Img_087_1070.jpg\n",
      "콩자반  파일 길이 :  675\n",
      "콩자반  :  D:/food-5/콩자반\\Img_025_0001.jpg\n",
      "ok 3923\n"
     ]
    }
   ],
   "source": [
    "for idx, cat in enumerate(categories):\n",
    "    \n",
    "#one-hot 돌리기.\n",
    "    label = [0 for i in range(nb_classes)]\n",
    "    label[idx] = 1\n",
    "\n",
    "    image_dir = caltech_dir + \"/\" + cat\n",
    "    files = glob.glob(image_dir+\"/*.jpg\")\n",
    "    print(cat, \" 파일 길이 : \", len(files))\n",
    "    for i, f in enumerate(files):\n",
    "        img = Image.open(f)\n",
    "        img = img.convert(\"RGB\")\n",
    "        img = img.resize((image_w, image_h))\n",
    "        data = np.asarray(img)\n",
    "\n",
    "        X.append(data)\n",
    "        y.append(label)\n",
    "\n",
    "        if i % 700 == 0:\n",
    "            print(cat, \" : \", f)\n",
    "\n",
    "X = np.array(X)\n",
    "y = np.array(y)\n",
    "\n",
    "#1 0 0 0 이면 airplanes\n",
    "#0 1 0 0 이면 buddha 이런식\n",
    "\n",
    "X_train, X_test, y_train, y_test = train_test_split(X, y)\n",
    "xy = (X_train, X_test, y_train, y_test)\n",
    "np.save(\"./numpy_data/food5np.npy\", xy)  #\n",
    "\n",
    "print(\"ok\", len(y))"
   ]
  },
  {
   "cell_type": "code",
   "execution_count": 13,
   "metadata": {},
   "outputs": [
    {
     "name": "stdout",
     "output_type": "stream",
     "text": [
      "(2942, 128, 128, 3)\n",
      "2942\n"
     ]
    }
   ],
   "source": [
    "import os, glob, numpy as np\n",
    "from keras.models import Sequential\n",
    "from keras.layers import Conv2D, MaxPooling2D, Dense, Flatten, Dropout\n",
    "from keras.callbacks import EarlyStopping, ModelCheckpoint\n",
    "\n",
    "import matplotlib.pyplot as plt\n",
    "import keras.backend.tensorflow_backend as K\n",
    "\n",
    "import tensorflow as tf\n",
    "config = tf.ConfigProto()\n",
    "config.gpu_options.allow_growth = True\n",
    "session = tf.Session(config=config)\n",
    "\n",
    "nb_classes=5\n",
    "X_train, X_test, y_train, y_test = np.load('./numpy_data/food5np.npy',allow_pickle=True)\n",
    "print(X_train.shape)\n",
    "print(X_train.shape[0])"
   ]
  },
  {
   "cell_type": "code",
   "execution_count": 14,
   "metadata": {},
   "outputs": [],
   "source": [
    "#일반화\n",
    "X_train = X_train.astype(float) / 255\n",
    "X_test = X_test.astype(float) / 255"
   ]
  },
  {
   "cell_type": "code",
   "execution_count": 15,
   "metadata": {},
   "outputs": [],
   "source": [
    "with K.tf_ops.device('/device:GPU:0'):\n",
    "    model = Sequential()\n",
    "    model.add(Conv2D(32, (3,3), padding=\"same\", input_shape=X_train.shape[1:], activation='relu'))\n",
    "    model.add(MaxPooling2D(pool_size=(2,2)))\n",
    "    model.add(Dropout(0.25))\n",
    "    \n",
    "    model.add(Conv2D(64, (3,3), padding=\"same\", activation='relu'))\n",
    "    model.add(MaxPooling2D(pool_size=(2,2)))\n",
    "    model.add(Dropout(0.25))\n",
    "    \n",
    "    model.add(Flatten())\n",
    "    model.add(Dense(256, activation='relu'))\n",
    "    model.add(Dropout(0.5))\n",
    "    model.add(Dense(nb_classes, activation='softmax'))\n",
    "    model.compile(loss='categorical_crossentropy', optimizer='adam', metrics=['accuracy'])\n",
    "    model_dir = './model'\n",
    "    \n",
    "    if not os.path.exists(model_dir):\n",
    "        os.mkdir(model_dir)\n",
    "    \n",
    "    model_path = model_dir + '/food5.model'\n",
    "    checkpoint = ModelCheckpoint(filepath=model_path , monitor='val_loss', verbose=1, save_best_only=True)\n",
    "    early_stopping = EarlyStopping(monitor='val_loss', patience=6)"
   ]
  },
  {
   "cell_type": "code",
   "execution_count": 16,
   "metadata": {},
   "outputs": [
    {
     "name": "stdout",
     "output_type": "stream",
     "text": [
      "Model: \"sequential_2\"\n",
      "_________________________________________________________________\n",
      "Layer (type)                 Output Shape              Param #   \n",
      "=================================================================\n",
      "conv2d_3 (Conv2D)            (None, 128, 128, 32)      896       \n",
      "_________________________________________________________________\n",
      "max_pooling2d_3 (MaxPooling2 (None, 64, 64, 32)        0         \n",
      "_________________________________________________________________\n",
      "dropout_4 (Dropout)          (None, 64, 64, 32)        0         \n",
      "_________________________________________________________________\n",
      "conv2d_4 (Conv2D)            (None, 64, 64, 64)        18496     \n",
      "_________________________________________________________________\n",
      "max_pooling2d_4 (MaxPooling2 (None, 32, 32, 64)        0         \n",
      "_________________________________________________________________\n",
      "dropout_5 (Dropout)          (None, 32, 32, 64)        0         \n",
      "_________________________________________________________________\n",
      "flatten_2 (Flatten)          (None, 65536)             0         \n",
      "_________________________________________________________________\n",
      "dense_3 (Dense)              (None, 256)               16777472  \n",
      "_________________________________________________________________\n",
      "dropout_6 (Dropout)          (None, 256)               0         \n",
      "_________________________________________________________________\n",
      "dense_4 (Dense)              (None, 5)                 1285      \n",
      "=================================================================\n",
      "Total params: 16,798,149\n",
      "Trainable params: 16,798,149\n",
      "Non-trainable params: 0\n",
      "_________________________________________________________________\n"
     ]
    }
   ],
   "source": [
    "model.summary()"
   ]
  },
  {
   "cell_type": "code",
   "execution_count": 9,
   "metadata": {},
   "outputs": [],
   "source": [
    "#print(\"정확도 : %.4f\" % (model.evaluate(X_test, y_test)[1]))"
   ]
  },
  {
   "cell_type": "code",
   "execution_count": 17,
   "metadata": {},
   "outputs": [
    {
     "name": "stdout",
     "output_type": "stream",
     "text": [
      "WARNING:tensorflow:From C:\\Users\\ICT01_23\\Anaconda3\\lib\\site-packages\\keras\\backend\\tensorflow_backend.py:422: The name tf.global_variables is deprecated. Please use tf.compat.v1.global_variables instead.\n",
      "\n",
      "Train on 2942 samples, validate on 981 samples\n",
      "Epoch 1/50\n",
      "2942/2942 [==============================] - 9s 3ms/step - loss: 1.6949 - accuracy: 0.4830 - val_loss: 0.6437 - val_accuracy: 0.7635\n",
      "\n",
      "Epoch 00001: val_loss improved from inf to 0.64366, saving model to ./model/food5.model\n",
      "Epoch 2/50\n",
      "2942/2942 [==============================] - 7s 2ms/step - loss: 0.5832 - accuracy: 0.7692 - val_loss: 0.4636 - val_accuracy: 0.8318\n",
      "\n",
      "Epoch 00002: val_loss improved from 0.64366 to 0.46362, saving model to ./model/food5.model\n",
      "Epoch 3/50\n",
      "2942/2942 [==============================] - 7s 2ms/step - loss: 0.4369 - accuracy: 0.8338 - val_loss: 0.4409 - val_accuracy: 0.8186\n",
      "\n",
      "Epoch 00003: val_loss improved from 0.46362 to 0.44090, saving model to ./model/food5.model\n",
      "Epoch 4/50\n",
      "2942/2942 [==============================] - 7s 2ms/step - loss: 0.3926 - accuracy: 0.8464 - val_loss: 0.3247 - val_accuracy: 0.8889\n",
      "\n",
      "Epoch 00004: val_loss improved from 0.44090 to 0.32467, saving model to ./model/food5.model\n",
      "Epoch 5/50\n",
      "2942/2942 [==============================] - 7s 2ms/step - loss: 0.3451 - accuracy: 0.8732 - val_loss: 0.2999 - val_accuracy: 0.8940\n",
      "\n",
      "Epoch 00005: val_loss improved from 0.32467 to 0.29987, saving model to ./model/food5.model\n",
      "Epoch 6/50\n",
      "2942/2942 [==============================] - 7s 2ms/step - loss: 0.2785 - accuracy: 0.8967 - val_loss: 0.2907 - val_accuracy: 0.9001\n",
      "\n",
      "Epoch 00006: val_loss improved from 0.29987 to 0.29071, saving model to ./model/food5.model\n",
      "Epoch 7/50\n",
      "2942/2942 [==============================] - 7s 2ms/step - loss: 0.2402 - accuracy: 0.9123 - val_loss: 0.2806 - val_accuracy: 0.9052\n",
      "\n",
      "Epoch 00007: val_loss improved from 0.29071 to 0.28062, saving model to ./model/food5.model\n",
      "Epoch 8/50\n",
      "2942/2942 [==============================] - 7s 2ms/step - loss: 0.2043 - accuracy: 0.9252 - val_loss: 0.2794 - val_accuracy: 0.9032\n",
      "\n",
      "Epoch 00008: val_loss improved from 0.28062 to 0.27944, saving model to ./model/food5.model\n",
      "Epoch 9/50\n",
      "2942/2942 [==============================] - 7s 2ms/step - loss: 0.1685 - accuracy: 0.9460 - val_loss: 0.2601 - val_accuracy: 0.9113\n",
      "\n",
      "Epoch 00009: val_loss improved from 0.27944 to 0.26012, saving model to ./model/food5.model\n",
      "Epoch 10/50\n",
      "2942/2942 [==============================] - 7s 2ms/step - loss: 0.1450 - accuracy: 0.9504 - val_loss: 0.2681 - val_accuracy: 0.9144\n",
      "\n",
      "Epoch 00010: val_loss did not improve from 0.26012\n",
      "Epoch 11/50\n",
      "2942/2942 [==============================] - 7s 2ms/step - loss: 0.1255 - accuracy: 0.9562 - val_loss: 0.3237 - val_accuracy: 0.9062\n",
      "\n",
      "Epoch 00011: val_loss did not improve from 0.26012\n",
      "Epoch 12/50\n",
      "2942/2942 [==============================] - 7s 2ms/step - loss: 0.1169 - accuracy: 0.9585 - val_loss: 0.2887 - val_accuracy: 0.8970\n",
      "\n",
      "Epoch 00012: val_loss did not improve from 0.26012\n",
      "Epoch 13/50\n",
      "2942/2942 [==============================] - 7s 2ms/step - loss: 0.0982 - accuracy: 0.9667 - val_loss: 0.3272 - val_accuracy: 0.9123\n",
      "\n",
      "Epoch 00013: val_loss did not improve from 0.26012\n",
      "Epoch 14/50\n",
      "2942/2942 [==============================] - 7s 2ms/step - loss: 0.0704 - accuracy: 0.9776 - val_loss: 0.3056 - val_accuracy: 0.9123\n",
      "\n",
      "Epoch 00014: val_loss did not improve from 0.26012\n",
      "Epoch 15/50\n",
      "2942/2942 [==============================] - 7s 2ms/step - loss: 0.0665 - accuracy: 0.9769 - val_loss: 0.3577 - val_accuracy: 0.8919\n",
      "\n",
      "Epoch 00015: val_loss did not improve from 0.26012\n"
     ]
    }
   ],
   "source": [
    "history = model.fit(X_train, y_train, batch_size=32, epochs=50, validation_data=(X_test, y_test), callbacks=[checkpoint, early_stopping])"
   ]
  },
  {
   "cell_type": "code",
   "execution_count": null,
   "metadata": {},
   "outputs": [],
   "source": [
    "y_vloss = history.history['val_loss']\n",
    "y_loss = history.history['loss']\n",
    "\n",
    "x_len = np.arange(len(y_loss))\n",
    "\n",
    "plt.plot(x_len, y_vloss, marker='.', c='red', label='val_set_loss')\n",
    "plt.plot(x_len, y_loss, marker='.', c='blue', label='train_set_oss')\n",
    "plt.legend()\n",
    "plt.xlabel('epochs')\n",
    "plt.ylabel('loss')\n",
    "plt.grid()\n",
    "plt.show()"
   ]
  },
  {
   "cell_type": "code",
   "execution_count": null,
   "metadata": {},
   "outputs": [],
   "source": []
  },
  {
   "cell_type": "code",
   "execution_count": null,
   "metadata": {},
   "outputs": [],
   "source": []
  },
  {
   "cell_type": "code",
   "execution_count": null,
   "metadata": {},
   "outputs": [],
   "source": []
  },
  {
   "cell_type": "code",
   "execution_count": null,
   "metadata": {},
   "outputs": [],
   "source": []
  },
  {
   "cell_type": "code",
   "execution_count": null,
   "metadata": {},
   "outputs": [],
   "source": []
  }
 ],
 "metadata": {
  "kernelspec": {
   "display_name": "Python 3",
   "language": "python",
   "name": "python3"
  },
  "language_info": {
   "codemirror_mode": {
    "name": "ipython",
    "version": 3
   },
   "file_extension": ".py",
   "mimetype": "text/x-python",
   "name": "python",
   "nbconvert_exporter": "python",
   "pygments_lexer": "ipython3",
   "version": "3.7.4"
  }
 },
 "nbformat": 4,
 "nbformat_minor": 2
}
