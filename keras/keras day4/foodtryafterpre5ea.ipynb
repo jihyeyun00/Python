{
 "cells": [
  {
   "cell_type": "code",
   "execution_count": 1,
   "metadata": {},
   "outputs": [],
   "source": [
    "#멀티라벨 분류\n",
    "#음식라벨 4가지를 데이터셋으로 만들었음\n",
    "\n",
    "from PIL import Image\n",
    "import os, glob, numpy as np\n",
    "from sklearn.model_selection import train_test_split\n",
    "\n",
    "#caltech_dir: 에서 이미지와 라벨명을 가져옴\n",
    "caltech_dir = \"D:/food-5\"\n",
    "\n",
    "#D:/final\" 폴더에 있는 하위폴더이름을 불러오기(->categories)\n",
    "categories  = os.listdir(caltech_dir)\n",
    "nb_classes = len(categories )\n",
    "image_w = 128\n",
    "image_h = 128\n",
    "#pixels = image_h * image_w * 3\n",
    "\n",
    "X = []\n",
    "y = []"
   ]
  },
  {
   "cell_type": "code",
   "execution_count": 2,
   "metadata": {},
   "outputs": [
    {
     "data": {
      "text/plain": [
       "['계란찜', '고사리나물', '삼계탕', '오징어채볶음', '콩자반']"
      ]
     },
     "execution_count": 2,
     "metadata": {},
     "output_type": "execute_result"
    }
   ],
   "source": [
    "categories"
   ]
  },
  {
   "cell_type": "code",
   "execution_count": null,
   "metadata": {},
   "outputs": [],
   "source": []
  },
  {
   "cell_type": "code",
   "execution_count": 3,
   "metadata": {},
   "outputs": [
    {
     "name": "stdout",
     "output_type": "stream",
     "text": [
      "계란찜  파일 길이 :  784\n",
      "계란찜  :  D:/food-5/계란찜\\Img_125_0000.jpg\n",
      "계란찜  :  D:/food-5/계란찜\\Img_125_0871.jpg\n",
      "고사리나물  파일 길이 :  896\n",
      "고사리나물  :  D:/food-5/고사리나물\\Img_041_0000.JPG\n",
      "고사리나물  :  D:/food-5/고사리나물\\Img_041_0782.jpg\n",
      "삼계탕  파일 길이 :  864\n",
      "삼계탕  :  D:/food-5/삼계탕\\Img_138_0000.jpg\n",
      "삼계탕  :  D:/food-5/삼계탕\\Img_138_0785.jpg\n",
      "오징어채볶음  파일 길이 :  704\n",
      "오징어채볶음  :  D:/food-5/오징어채볶음\\Img_087_0003.jpg\n",
      "오징어채볶음  :  D:/food-5/오징어채볶음\\Img_087_1070.jpg\n",
      "콩자반  파일 길이 :  675\n",
      "콩자반  :  D:/food-5/콩자반\\Img_025_0001.jpg\n",
      "ok 3923\n"
     ]
    }
   ],
   "source": [
    "for idx, cat in enumerate(categories):\n",
    "    \n",
    "#one-hot 돌리기.\n",
    "    label = [0 for i in range(nb_classes)]\n",
    "    label[idx] = 1\n",
    "\n",
    "    image_dir = caltech_dir + \"/\" + cat\n",
    "    files = glob.glob(image_dir+\"/*.jpg\")\n",
    "    print(cat, \" 파일 길이 : \", len(files))\n",
    "    for i, f in enumerate(files):\n",
    "        img = Image.open(f)\n",
    "        img = img.convert(\"RGB\")\n",
    "        img = img.resize((image_w, image_h))\n",
    "        data = np.asarray(img)\n",
    "\n",
    "        X.append(data)\n",
    "        y.append(label)\n",
    "\n",
    "        if i % 700 == 0:\n",
    "            print(cat, \" : \", f)\n",
    "\n",
    "X = np.array(X)\n",
    "y = np.array(y)\n",
    "\n",
    "#1 0 0 0 이면 airplanes\n",
    "#0 1 0 0 이면 buddha 이런식\n",
    "\n",
    "X_train, X_test, y_train, y_test = train_test_split(X, y)\n",
    "xy = (X_train, X_test, y_train, y_test)\n",
    "np.save(\"./numpy_data/food5-1.npy\", xy)  #\n",
    "\n",
    "print(\"ok\", len(y))"
   ]
  },
  {
   "cell_type": "code",
   "execution_count": null,
   "metadata": {},
   "outputs": [],
   "source": []
  },
  {
   "cell_type": "code",
   "execution_count": null,
   "metadata": {},
   "outputs": [],
   "source": [
    "위에는 4가지(숙주나물~~애호박볶음)데이터셋 만드는거 \n",
    "아래는 food128.npy데이터셋 불러와서 내가 만든 모델에 넣고 돌리는거"
   ]
  },
  {
   "cell_type": "code",
   "execution_count": null,
   "metadata": {},
   "outputs": [],
   "source": []
  },
  {
   "cell_type": "code",
   "execution_count": 9,
   "metadata": {},
   "outputs": [
    {
     "name": "stdout",
     "output_type": "stream",
     "text": [
      "(2942, 128, 128, 3)\n",
      "2942\n"
     ]
    }
   ],
   "source": [
    "import os, glob, numpy as np\n",
    "from keras.models import Sequential\n",
    "from keras.layers import Conv2D, MaxPooling2D, Dense, Flatten, Dropout\n",
    "from keras.callbacks import EarlyStopping, ModelCheckpoint\n",
    "import matplotlib.pyplot as plt\n",
    "import keras.backend.tensorflow_backend as K\n",
    "\n",
    "import tensorflow as tf\n",
    "config = tf.ConfigProto()\n",
    "config.gpu_options.allow_growth = True\n",
    "session = tf.Session(config=config)\n",
    "\n",
    "nb_classes=5\n",
    "X_train, X_test, y_train, y_test = np.load('./numpy_data/food5-1.npy',allow_pickle=True)\n",
    "print(X_train.shape)\n",
    "print(X_train.shape[0])"
   ]
  },
  {
   "cell_type": "code",
   "execution_count": 10,
   "metadata": {},
   "outputs": [],
   "source": [
    "#categories = [\"airplanes\", \"buddha\", \"butterfly\", \"crab\"] 우리 모델을 라벨이 4개인데 폴더별로 이미 이름이 있고,라벨로 쓸예정임\n",
    "#nb_classes = len(categories)\n",
    "\n",
    "#일반화\n",
    "X_train = X_train.astype(float) / 255\n",
    "X_test = X_test.astype(float) / 255"
   ]
  },
  {
   "cell_type": "code",
   "execution_count": 11,
   "metadata": {},
   "outputs": [],
   "source": [
    "with K.tf_ops.device('/device:GPU:0'):\n",
    "    model = Sequential()\n",
    "    model.add(Conv2D(32, (3,3), padding=\"same\", input_shape=X_train.shape[1:], activation='relu'))\n",
    "    model.add(MaxPooling2D(pool_size=(2,2)))\n",
    "    model.add(Dropout(0.25))\n",
    "    \n",
    "    model.add(Conv2D(64, (3,3), padding=\"same\", activation='relu'))\n",
    "    model.add(MaxPooling2D(pool_size=(2,2)))\n",
    "    model.add(Dropout(0.25))\n",
    "    \n",
    "    model.add(Flatten())\n",
    "    model.add(Dense(256, activation='relu'))\n",
    "    model.add(Dropout(0.5))\n",
    "    model.add(Dense(nb_classes, activation='softmax'))\n",
    "    model.compile(loss='categorical_crossentropy', optimizer='adam', metrics=['accuracy'])\n",
    "    model_dir = './model'\n",
    "    \n",
    "    if not os.path.exists(model_dir):\n",
    "        os.mkdir(model_dir)\n",
    "    \n",
    "    model_path = model_dir + '/food5-1.model'\n",
    "    checkpoint = ModelCheckpoint(filepath=model_path , monitor='val_loss', verbose=1, save_best_only=True)\n",
    "    early_stopping = EarlyStopping(monitor='val_loss', patience=6)"
   ]
  },
  {
   "cell_type": "code",
   "execution_count": 12,
   "metadata": {},
   "outputs": [
    {
     "name": "stdout",
     "output_type": "stream",
     "text": [
      "Model: \"sequential_2\"\n",
      "_________________________________________________________________\n",
      "Layer (type)                 Output Shape              Param #   \n",
      "=================================================================\n",
      "conv2d_3 (Conv2D)            (None, 128, 128, 32)      896       \n",
      "_________________________________________________________________\n",
      "max_pooling2d_3 (MaxPooling2 (None, 64, 64, 32)        0         \n",
      "_________________________________________________________________\n",
      "dropout_4 (Dropout)          (None, 64, 64, 32)        0         \n",
      "_________________________________________________________________\n",
      "conv2d_4 (Conv2D)            (None, 64, 64, 64)        18496     \n",
      "_________________________________________________________________\n",
      "max_pooling2d_4 (MaxPooling2 (None, 32, 32, 64)        0         \n",
      "_________________________________________________________________\n",
      "dropout_5 (Dropout)          (None, 32, 32, 64)        0         \n",
      "_________________________________________________________________\n",
      "flatten_2 (Flatten)          (None, 65536)             0         \n",
      "_________________________________________________________________\n",
      "dense_3 (Dense)              (None, 256)               16777472  \n",
      "_________________________________________________________________\n",
      "dropout_6 (Dropout)          (None, 256)               0         \n",
      "_________________________________________________________________\n",
      "dense_4 (Dense)              (None, 5)                 1285      \n",
      "=================================================================\n",
      "Total params: 16,798,149\n",
      "Trainable params: 16,798,149\n",
      "Non-trainable params: 0\n",
      "_________________________________________________________________\n"
     ]
    }
   ],
   "source": [
    "model.summary()"
   ]
  },
  {
   "cell_type": "code",
   "execution_count": 13,
   "metadata": {},
   "outputs": [],
   "source": [
    "#print(\"정확도 : %.4f\" % (model.evaluate(X_test, y_test)[1]))"
   ]
  },
  {
   "cell_type": "code",
   "execution_count": 14,
   "metadata": {},
   "outputs": [
    {
     "name": "stdout",
     "output_type": "stream",
     "text": [
      "WARNING:tensorflow:From C:\\Users\\ICT01_23\\Anaconda3\\lib\\site-packages\\keras\\backend\\tensorflow_backend.py:422: The name tf.global_variables is deprecated. Please use tf.compat.v1.global_variables instead.\n",
      "\n",
      "Train on 2942 samples, validate on 981 samples\n",
      "Epoch 1/50\n",
      "2942/2942 [==============================] - 10s 3ms/step - loss: 1.4190 - accuracy: 0.5354 - val_loss: 0.6065 - val_accuracy: 0.7543\n",
      "\n",
      "Epoch 00001: val_loss improved from inf to 0.60650, saving model to ./model/food5-1.model\n",
      "Epoch 2/50\n",
      "2942/2942 [==============================] - 7s 2ms/step - loss: 0.5382 - accuracy: 0.7903 - val_loss: 0.4249 - val_accuracy: 0.8287\n",
      "\n",
      "Epoch 00002: val_loss improved from 0.60650 to 0.42492, saving model to ./model/food5-1.model\n",
      "Epoch 3/50\n",
      "2942/2942 [==============================] - 7s 2ms/step - loss: 0.4825 - accuracy: 0.8141 - val_loss: 0.5217 - val_accuracy: 0.7625\n",
      "\n",
      "Epoch 00003: val_loss did not improve from 0.42492\n",
      "Epoch 4/50\n",
      "2942/2942 [==============================] - 7s 2ms/step - loss: 0.4091 - accuracy: 0.8409 - val_loss: 0.3793 - val_accuracy: 0.8430\n",
      "\n",
      "Epoch 00004: val_loss improved from 0.42492 to 0.37932, saving model to ./model/food5-1.model\n",
      "Epoch 5/50\n",
      "2942/2942 [==============================] - 7s 2ms/step - loss: 0.3556 - accuracy: 0.8606 - val_loss: 0.3849 - val_accuracy: 0.8430\n",
      "\n",
      "Epoch 00005: val_loss did not improve from 0.37932\n",
      "Epoch 6/50\n",
      "2942/2942 [==============================] - 7s 2ms/step - loss: 0.2660 - accuracy: 0.9069 - val_loss: 0.3100 - val_accuracy: 0.8818\n",
      "\n",
      "Epoch 00006: val_loss improved from 0.37932 to 0.31003, saving model to ./model/food5-1.model\n",
      "Epoch 7/50\n",
      "2942/2942 [==============================] - 7s 2ms/step - loss: 0.2159 - accuracy: 0.9232 - val_loss: 0.3005 - val_accuracy: 0.8787\n",
      "\n",
      "Epoch 00007: val_loss improved from 0.31003 to 0.30054, saving model to ./model/food5-1.model\n",
      "Epoch 8/50\n",
      "2942/2942 [==============================] - 7s 2ms/step - loss: 0.1884 - accuracy: 0.9358 - val_loss: 0.3085 - val_accuracy: 0.8838\n",
      "\n",
      "Epoch 00008: val_loss did not improve from 0.30054\n",
      "Epoch 9/50\n",
      "2942/2942 [==============================] - 7s 2ms/step - loss: 0.1216 - accuracy: 0.9545 - val_loss: 0.3319 - val_accuracy: 0.8838\n",
      "\n",
      "Epoch 00009: val_loss did not improve from 0.30054\n",
      "Epoch 10/50\n",
      "2942/2942 [==============================] - 7s 2ms/step - loss: 0.0942 - accuracy: 0.9653 - val_loss: 0.2950 - val_accuracy: 0.8919\n",
      "\n",
      "Epoch 00010: val_loss improved from 0.30054 to 0.29505, saving model to ./model/food5-1.model\n",
      "Epoch 11/50\n",
      "2942/2942 [==============================] - 7s 2ms/step - loss: 0.0746 - accuracy: 0.9738 - val_loss: 0.3567 - val_accuracy: 0.8950\n",
      "\n",
      "Epoch 00011: val_loss did not improve from 0.29505\n",
      "Epoch 12/50\n",
      "2942/2942 [==============================] - 7s 2ms/step - loss: 0.0575 - accuracy: 0.9786 - val_loss: 0.3125 - val_accuracy: 0.8919\n",
      "\n",
      "Epoch 00012: val_loss did not improve from 0.29505\n",
      "Epoch 13/50\n",
      "2942/2942 [==============================] - 7s 2ms/step - loss: 0.0463 - accuracy: 0.9847 - val_loss: 0.3457 - val_accuracy: 0.8940\n",
      "\n",
      "Epoch 00013: val_loss did not improve from 0.29505\n",
      "Epoch 14/50\n",
      "2942/2942 [==============================] - 7s 2ms/step - loss: 0.0562 - accuracy: 0.9816 - val_loss: 0.3731 - val_accuracy: 0.8767\n",
      "\n",
      "Epoch 00014: val_loss did not improve from 0.29505\n",
      "Epoch 15/50\n",
      "2942/2942 [==============================] - 7s 2ms/step - loss: 0.0448 - accuracy: 0.9871 - val_loss: 0.3526 - val_accuracy: 0.8940\n",
      "\n",
      "Epoch 00015: val_loss did not improve from 0.29505\n",
      "Epoch 16/50\n",
      "2942/2942 [==============================] - 7s 2ms/step - loss: 0.0308 - accuracy: 0.9915 - val_loss: 0.3363 - val_accuracy: 0.8970\n",
      "\n",
      "Epoch 00016: val_loss did not improve from 0.29505\n"
     ]
    }
   ],
   "source": [
    "history = model.fit(X_train, y_train, batch_size=32, epochs=50, validation_data=(X_test, y_test), callbacks=[checkpoint, early_stopping])"
   ]
  },
  {
   "cell_type": "code",
   "execution_count": 16,
   "metadata": {},
   "outputs": [
    {
     "data": {
      "image/png": "[encoded data removed]",
      "text/plain": [
       "<Figure size 432x288 with 1 Axes>"
      ]
     },
     "metadata": {
      "needs_background": "light"
     },
     "output_type": "display_data"
    }
   ],
   "source": [
    "y_vloss = history.history['val_loss']\n",
    "y_loss = history.history['loss']\n",
    "\n",
    "x_len = np.arange(len(y_loss))\n",
    "\n",
    "plt.plot(x_len, y_vloss, marker='.', c='red', label='val_set_loss')\n",
    "plt.plot(x_len, y_loss, marker='.', c='blue', label='train_set_loss')\n",
    "plt.legend()\n",
    "plt.xlabel('epochs')\n",
    "plt.ylabel('loss')\n",
    "plt.grid()\n",
    "plt.show()"
   ]
  },
  {
   "cell_type": "code",
   "execution_count": 23,
   "metadata": {},
   "outputs": [
    {
     "name": "stdout",
     "output_type": "stream",
     "text": [
      "D:/final_test\\계란찜.jpg\n",
      "D:/final_test\\고사리나물과.jpg\n",
      "D:/final_test\\삼계탕.jpg\n",
      "D:/final_test\\삼계탕2.jpg\n",
      "D:/final_test\\오징어채볶음.jpg\n",
      "D:/final_test\\오징어채볶음2.jpg\n",
      "[1.000 0.000 0.000 0.000 0.000]\n",
      "0\n",
      "해당 이미지는 계란찜로 추정됩니다.\n",
      "[0.000 0.000 1.000 0.000 0.000]\n",
      "2\n",
      "해당 이미지는 삼계탕로 추정됩니다.\n",
      "[1.000 0.000 0.000 0.000 0.000]\n",
      "0\n",
      "해당 이미지는 계란찜로 추정됩니다.\n",
      "[0.000 0.000 1.000 0.000 0.000]\n",
      "2\n",
      "해당 이미지는 삼계탕로 추정됩니다.\n",
      "[0.000 0.000 0.000 1.000 0.000]\n",
      "3\n",
      "해당 이미지는 오징어채볶음로 추정됩니다.\n",
      "[0.000 0.000 0.000 1.000 0.000]\n",
      "3\n",
      "해당 이미지는 오징어채볶음로 추정됩니다.\n"
     ]
    }
   ],
   "source": [
    "from PIL import Image\n",
    "import os, glob, numpy as np\n",
    "from keras.models import load_model\n",
    "\n",
    "caltech_dir = \"D:/final_test\"\n",
    "image_w = 128\n",
    "image_h = 128\n",
    "\n",
    "#pixels = image_h * image_w * 3\n",
    "\n",
    "X = []\n",
    "filenames = []\n",
    "files = glob.glob(caltech_dir+\"/*.*\")\n",
    "for i, f in enumerate(files):\n",
    "    print(f)\n",
    "    img = Image.open(f)\n",
    "    img = img.convert(\"RGB\")\n",
    "    img = img.resize((image_w, image_h))\n",
    "    data = np.asarray(img)\n",
    "    filenames.append(f)\n",
    "    X.append(data)\n",
    "\n",
    "X = np.array(X)\n",
    "model = load_model('./model/food5-1.model')\n",
    "\n",
    "prediction = model.predict(X)\n",
    "np.set_printoptions(formatter={'float': lambda x: \"{0:0.3f}\".format(x)})\n",
    "cnt = 0\n",
    "\n",
    "#이 비교는 그냥 파일들이 있으면 해당 파일과 비교. 카테고리와 함께 비교해서 진행하는 것은 _4 파일.\n",
    "for i in prediction:\n",
    "    pre_ans = i.argmax()  # 예측 레이블\n",
    "    print(i)\n",
    "    print(pre_ans)\n",
    "    pre_ans_str = categories[pre_ans]\n",
    "    print(\"해당 \"+\"이미지는 \"+pre_ans_str+\"로 추정됩니다.\")\n"
   ]
  },
  {
   "cell_type": "code",
   "execution_count": 19,
   "metadata": {},
   "outputs": [
    {
     "data": {
      "text/plain": [
       "2"
      ]
     },
     "execution_count": 19,
     "metadata": {},
     "output_type": "execute_result"
    }
   ],
   "source": [
    "len(files)"
   ]
  },
  {
   "cell_type": "code",
   "execution_count": null,
   "metadata": {},
   "outputs": [],
   "source": []
  }
 ],
 "metadata": {
  "kernelspec": {
   "display_name": "Python 3",
   "language": "python",
   "name": "python3"
  },
  "language_info": {
   "codemirror_mode": {
    "name": "ipython",
    "version": 3
   },
   "file_extension": ".py",
   "mimetype": "text/x-python",
   "name": "python",
   "nbconvert_exporter": "python",
   "pygments_lexer": "ipython3",
   "version": "3.7.4"
  }
 },
 "nbformat": 4,
 "nbformat_minor": 2
}
