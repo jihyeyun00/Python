{
 "cells": [
  {
   "cell_type": "markdown",
   "metadata": {},
   "source": [
    "# keras --> 프로그래밍이 간단해진다. \n",
    "\n",
    "- Backend - tensorflow\n",
    "          - CNTK\n",
    "          - Theamo\n",
    "            \n",
    "- constant , variables , placeholder --> 행렬연산\n",
    "- loss function , activation, optimizer\n",
    "- keras는 텐서플로의 과정을 내포시켜 놓았다. \n",
    "- Dense --> 가중치가 자동으로 만들어지는 함수 ( tensorflow 안에서 ) --> variable을 선언할 필요 x 등등...\n",
    "\n",
    "\n",
    "- keras --> add를 통해서 layer를 추가\n",
    "        --> retrun 받는 과정을 생략한다. 체이닝을 할 필요가 xx\n",
    "        --> 이전 layer에서 계산된 결과가 자동으로 들어간다. \n",
    "        --> 가중치를 선언할 필요가 없다 위에서 설명할때의 Dense 처럼. \n",
    "<span style = \"color:red\">--> @@중@@ 출력 차수만을 지정해주면 이전 레이어에서 들어온 값과 출력 차수를 계산해서 다음 레이어로 보내준다 @@요@@</span>\n",
    "- keras model을 만드는 방법  --> seqential\n",
    "                             --> functional  (multi input multi output)\n",
    "                             --> model  --> 클래스 베이스로 프로그래밍 하게 만들어져 있다. \n",
    "                            \n",
    "- loss , activation , optimizer를 compile의 매개 변수로 넣어줘야한다. \n",
    "- Data 입력 , epoch, batch_size, validation   를  fit의 매개변수로 넣어줘야한다. \n",
    "- evaluate --> predict 를 이용해서  프로그램을 만들수 있다. \n",
    "\n",
    "- keras와 sklearn이 같이 연결되어 있음. --> classifer 와 regressior를 사용(?) --> 분류와 예측. \n",
    "- pre training --> transfer learning --> 가중치가 어느정도 학습이 되어 져 있음. \n",
    "- 이걸 케라스에서는 application 으로 들어와 있다. \n",
    "- RNN도 10단계 이상을 진행하면 기울기 손실이 생길수 밖에 없다.--> 그래서 나온게 LSTM이다. --> LSTM을 바꾼게 --> GRU(updata, reset)()\n",
    "\n",
    "- seq2seq가 효율이 별로 좋지 않아서 만든게 attention이더라. \n",
    "- attention --> 가중치 3개를 가지고 만든것.\n",
    "- NMT == seq2seq + attention\n",
    "- transformer == (?) seq2seq\n",
    "- BERT (bi-directional embedding Transformer)\n",
    "-\n",
    "-\n",
    "- Image -> openCv\n",
    "- sound -> libosa\n",
    "- text -> gensim\n",
    "- 이미지에서는 GAN 이 트렌드 , 텍스트에서는 BERT가 트렌드이다. \n",
    "\n",
    "\n",
    "- tensorflow를 배우는 이유--> 뭔가 작업을 자동화 시키기 위해서. \n",
    "### 예를 들어서. \n",
    "- 공장에서 나오는 기계 소리를 분석해서 어떤 소리가 들리면 이건 일주일 후에 고장난다라는 예측을 하자. \n",
    "\n",
    "\n",
    "\n",
    "\n",
    "\n",
    "\n",
    "\n",
    "\n"
   ]
  },
  {
   "cell_type": "code",
   "execution_count": 57,
   "metadata": {
    "scrolled": true
   },
   "outputs": [
    {
     "name": "stdout",
     "output_type": "stream",
     "text": [
      "입력데이터 = [0.72514063 0.74570817], 예측결과 = [0.46557802]\n",
      "입력데이터 = [0.5294337  0.37245742], 예측결과 = [0.46557802]\n",
      "입력데이터 = [0.69163493 0.39282232], 예측결과 = [0.46557802]\n"
     ]
    }
   ],
   "source": [
    "#Dense망은 FFNN을 만들때 사용한다. \n",
    "\n",
    "from keras.models import Sequential   # keras안에 models안에 서브패키지에 있다. \n",
    "from keras.layers import Dense       # layers에서 모델을 구성한다. \n",
    "from sklearn.datasets import make_regression \n",
    "from sklearn.preprocessing import MinMaxScaler\n",
    "# 신경망에서는 정규화 시켜줘야한다. \n",
    "X, y = make_regression(n_samples = 100, n_features = 2, noise =0.1, random_state = 42)\n",
    "# X = 100x 2 y = 100개가 나온다. \n",
    "# 회귀하고있음. \n",
    "\n",
    "scalarX, scalarY = MinMaxScaler(), MinMaxScaler()  # 데이터가 다르고 데이터의 사이즈( 값의 범위)가 다르기 때문에 두개로 만들어준다. \n",
    "\n",
    "scalarX.fit(X)  \n",
    "scalarY.fit(y.reshape(100,1))  # 위에서 열로 100개가 만들어졌기 때문에 행으로 만들어 주기 위해서. \n",
    "X = scalarX.transform(X)\n",
    "y = scalarY.transform(y.reshape(100,1))\n",
    "\n",
    "\n",
    "# 케라스의 모델을 시작한다. \n",
    "\n",
    "# Dense 망을 시작한다. \n",
    "model = Sequential()\n",
    "model.add(Dense(4, input_dim = 2, activation = 'relu'))  # 여기서 4는 출력 차수로 지정한다. \n",
    "# 인풋데이터 100X2 일때 출력이 4인데  가중치를 맞춰줄려고 2x4로 만들어준다 따라서 여기서 100x2, 2X4가 된다 --> 100x4의 형태. \n",
    "\n",
    "model.add(Dense(4, activation = 'relu'))\n",
    "# 앞 layer의 값 100X 4가 들어오고  가중치는 100X4 , 4X4, 즉 100x4로 출력된다. \n",
    "# 여기까지 layer Depth = 2\n",
    "model.add(Dense(1, activation = 'linear'))\n",
    "# 100X4, 4X1 100X1로 예측된다. \n",
    "model.compile(loss = 'mse', optimizer = 'adam')  # tensorflow 모델을 변환한다. 여기까지 모델을 만들어놓고 \n",
    "# 회귀에서는 mse , 분류에서는 cross-entropy, Gan에서는 KL-divergence\n",
    "model.fit(X,y, epochs= 1000, verbose = 0)  # 여기에서 fit해서 작동 시킨다. \n",
    "# 안에서 2중 for 문이 작동한다. \n",
    "# X,y == 인풋데이터 , \n",
    "Xnew, a = make_regression(n_samples = 3, n_features = 2, noise = 0.1, random_state = 42)\n",
    "Xnew = scalarX.transform(Xnew)\n",
    "ynew = model.predict(Xnew)\n",
    "for i in range(len(Xnew)):\n",
    "    print(\"입력데이터 = %s, 예측결과 = %s\" % (Xnew[i], ynew[i])) "
   ]
  },
  {
   "cell_type": "code",
   "execution_count": 58,
   "metadata": {},
   "outputs": [
    {
     "name": "stdout",
     "output_type": "stream",
     "text": [
      "Train on 514 samples, validate on 254 samples\n",
      "Epoch 1/150\n",
      "514/514 [==============================] - 0s 877us/step - loss: 0.6796 - accuracy: 0.6401 - val_loss: 0.6586 - val_accuracy: 0.6732\n",
      "Epoch 2/150\n",
      "514/514 [==============================] - 0s 124us/step - loss: 0.6687 - accuracy: 0.6401 - val_loss: 0.6535 - val_accuracy: 0.6732\n",
      "Epoch 3/150\n",
      "514/514 [==============================] - 0s 120us/step - loss: 0.6617 - accuracy: 0.6401 - val_loss: 0.6518 - val_accuracy: 0.6732\n",
      "Epoch 4/150\n",
      "514/514 [==============================] - 0s 116us/step - loss: 0.6541 - accuracy: 0.6401 - val_loss: 0.6462 - val_accuracy: 0.6732\n",
      "Epoch 5/150\n",
      "514/514 [==============================] - 0s 120us/step - loss: 0.6460 - accuracy: 0.6401 - val_loss: 0.6375 - val_accuracy: 0.6890\n",
      "Epoch 6/150\n",
      "514/514 [==============================] - 0s 130us/step - loss: 0.6400 - accuracy: 0.6401 - val_loss: 0.6257 - val_accuracy: 0.6929\n",
      "Epoch 7/150\n",
      "514/514 [==============================] - 0s 118us/step - loss: 0.6314 - accuracy: 0.6556 - val_loss: 0.6160 - val_accuracy: 0.6850\n",
      "Epoch 8/150\n",
      "514/514 [==============================] - 0s 128us/step - loss: 0.6242 - accuracy: 0.6634 - val_loss: 0.6074 - val_accuracy: 0.6850\n",
      "Epoch 9/150\n",
      "514/514 [==============================] - 0s 120us/step - loss: 0.6172 - accuracy: 0.6693 - val_loss: 0.6037 - val_accuracy: 0.7008\n",
      "Epoch 10/150\n",
      "514/514 [==============================] - 0s 136us/step - loss: 0.6112 - accuracy: 0.6887 - val_loss: 0.5955 - val_accuracy: 0.6929\n",
      "Epoch 11/150\n",
      "514/514 [==============================] - 0s 122us/step - loss: 0.6061 - accuracy: 0.6790 - val_loss: 0.5982 - val_accuracy: 0.6890\n",
      "Epoch 12/150\n",
      "514/514 [==============================] - 0s 125us/step - loss: 0.6080 - accuracy: 0.6809 - val_loss: 0.5812 - val_accuracy: 0.7008\n",
      "Epoch 13/150\n",
      "514/514 [==============================] - 0s 118us/step - loss: 0.6071 - accuracy: 0.6926 - val_loss: 0.5836 - val_accuracy: 0.6772\n",
      "Epoch 14/150\n",
      "514/514 [==============================] - 0s 121us/step - loss: 0.5940 - accuracy: 0.7043 - val_loss: 0.5769 - val_accuracy: 0.7047\n",
      "Epoch 15/150\n",
      "514/514 [==============================] - 0s 138us/step - loss: 0.5899 - accuracy: 0.7023 - val_loss: 0.5802 - val_accuracy: 0.6850\n",
      "Epoch 16/150\n",
      "514/514 [==============================] - 0s 145us/step - loss: 0.5950 - accuracy: 0.7023 - val_loss: 0.5741 - val_accuracy: 0.7047\n",
      "Epoch 17/150\n",
      "514/514 [==============================] - 0s 128us/step - loss: 0.5892 - accuracy: 0.6965 - val_loss: 0.5688 - val_accuracy: 0.7126\n",
      "Epoch 18/150\n",
      "514/514 [==============================] - 0s 142us/step - loss: 0.5836 - accuracy: 0.7218 - val_loss: 0.5738 - val_accuracy: 0.7126\n",
      "Epoch 19/150\n",
      "514/514 [==============================] - 0s 144us/step - loss: 0.5864 - accuracy: 0.7043 - val_loss: 0.5739 - val_accuracy: 0.7047\n",
      "Epoch 20/150\n",
      "514/514 [==============================] - 0s 120us/step - loss: 0.5826 - accuracy: 0.6946 - val_loss: 0.5697 - val_accuracy: 0.7087\n",
      "Epoch 21/150\n",
      "514/514 [==============================] - 0s 136us/step - loss: 0.5760 - accuracy: 0.7179 - val_loss: 0.5728 - val_accuracy: 0.6890\n",
      "Epoch 22/150\n",
      "514/514 [==============================] - 0s 128us/step - loss: 0.5725 - accuracy: 0.7218 - val_loss: 0.5683 - val_accuracy: 0.7008\n",
      "Epoch 23/150\n",
      "514/514 [==============================] - 0s 122us/step - loss: 0.5767 - accuracy: 0.7004 - val_loss: 0.5684 - val_accuracy: 0.7047\n",
      "Epoch 24/150\n",
      "514/514 [==============================] - 0s 124us/step - loss: 0.5602 - accuracy: 0.7198 - val_loss: 0.5621 - val_accuracy: 0.6929\n",
      "Epoch 25/150\n",
      "514/514 [==============================] - 0s 136us/step - loss: 0.5654 - accuracy: 0.7257 - val_loss: 0.5600 - val_accuracy: 0.7126\n",
      "Epoch 26/150\n",
      "514/514 [==============================] - 0s 130us/step - loss: 0.5642 - accuracy: 0.7354 - val_loss: 0.5600 - val_accuracy: 0.7047\n",
      "Epoch 27/150\n",
      "514/514 [==============================] - 0s 118us/step - loss: 0.5637 - accuracy: 0.7218 - val_loss: 0.5585 - val_accuracy: 0.7165\n",
      "Epoch 28/150\n",
      "514/514 [==============================] - 0s 138us/step - loss: 0.5580 - accuracy: 0.7354 - val_loss: 0.6415 - val_accuracy: 0.5866\n",
      "Epoch 29/150\n",
      "514/514 [==============================] - 0s 134us/step - loss: 0.5609 - accuracy: 0.7257 - val_loss: 0.5711 - val_accuracy: 0.7283\n",
      "Epoch 30/150\n",
      "514/514 [==============================] - 0s 159us/step - loss: 0.5549 - accuracy: 0.7179 - val_loss: 0.5630 - val_accuracy: 0.7244\n",
      "Epoch 31/150\n",
      "514/514 [==============================] - 0s 146us/step - loss: 0.5500 - accuracy: 0.7179 - val_loss: 0.5698 - val_accuracy: 0.7205\n",
      "Epoch 32/150\n",
      "514/514 [==============================] - 0s 142us/step - loss: 0.5604 - accuracy: 0.7276 - val_loss: 0.5854 - val_accuracy: 0.6929\n",
      "Epoch 33/150\n",
      "514/514 [==============================] - 0s 130us/step - loss: 0.5711 - accuracy: 0.7237 - val_loss: 0.5740 - val_accuracy: 0.7283\n",
      "Epoch 34/150\n",
      "514/514 [==============================] - 0s 122us/step - loss: 0.5537 - accuracy: 0.7237 - val_loss: 0.5593 - val_accuracy: 0.7244\n",
      "Epoch 35/150\n",
      "514/514 [==============================] - 0s 140us/step - loss: 0.5476 - accuracy: 0.7237 - val_loss: 0.5521 - val_accuracy: 0.7283\n",
      "Epoch 36/150\n",
      "514/514 [==============================] - 0s 122us/step - loss: 0.5522 - accuracy: 0.7276 - val_loss: 0.5587 - val_accuracy: 0.7323\n",
      "Epoch 37/150\n",
      "514/514 [==============================] - 0s 118us/step - loss: 0.5460 - accuracy: 0.7276 - val_loss: 0.5608 - val_accuracy: 0.7283\n",
      "Epoch 38/150\n",
      "514/514 [==============================] - 0s 122us/step - loss: 0.5451 - accuracy: 0.7374 - val_loss: 0.5470 - val_accuracy: 0.7165\n",
      "Epoch 39/150\n",
      "514/514 [==============================] - 0s 182us/step - loss: 0.5515 - accuracy: 0.7082 - val_loss: 0.5539 - val_accuracy: 0.7441\n",
      "Epoch 40/150\n",
      "514/514 [==============================] - 0s 186us/step - loss: 0.5473 - accuracy: 0.7374 - val_loss: 0.5522 - val_accuracy: 0.7362\n",
      "Epoch 41/150\n",
      "514/514 [==============================] - 0s 136us/step - loss: 0.5449 - accuracy: 0.7374 - val_loss: 0.5500 - val_accuracy: 0.7165\n",
      "Epoch 42/150\n",
      "514/514 [==============================] - 0s 126us/step - loss: 0.5468 - accuracy: 0.7412 - val_loss: 0.5755 - val_accuracy: 0.7165\n",
      "Epoch 43/150\n",
      "514/514 [==============================] - 0s 124us/step - loss: 0.5484 - accuracy: 0.7354 - val_loss: 0.5496 - val_accuracy: 0.7244\n",
      "Epoch 44/150\n",
      "514/514 [==============================] - 0s 122us/step - loss: 0.5463 - accuracy: 0.7296 - val_loss: 0.5484 - val_accuracy: 0.7244\n",
      "Epoch 45/150\n",
      "514/514 [==============================] - 0s 126us/step - loss: 0.5390 - accuracy: 0.7257 - val_loss: 0.5787 - val_accuracy: 0.6890\n",
      "Epoch 46/150\n",
      "514/514 [==============================] - 0s 122us/step - loss: 0.5489 - accuracy: 0.7121 - val_loss: 0.5564 - val_accuracy: 0.7283\n",
      "Epoch 47/150\n",
      "514/514 [==============================] - 0s 120us/step - loss: 0.5470 - accuracy: 0.7257 - val_loss: 0.5495 - val_accuracy: 0.7283\n",
      "Epoch 48/150\n",
      "514/514 [==============================] - 0s 134us/step - loss: 0.5418 - accuracy: 0.7218 - val_loss: 0.5498 - val_accuracy: 0.7402\n",
      "Epoch 49/150\n",
      "514/514 [==============================] - 0s 139us/step - loss: 0.5428 - accuracy: 0.7296 - val_loss: 0.5513 - val_accuracy: 0.7205\n",
      "Epoch 50/150\n",
      "514/514 [==============================] - 0s 132us/step - loss: 0.5425 - accuracy: 0.7315 - val_loss: 0.5562 - val_accuracy: 0.7205\n",
      "Epoch 51/150\n",
      "514/514 [==============================] - 0s 130us/step - loss: 0.5334 - accuracy: 0.7374 - val_loss: 0.5420 - val_accuracy: 0.7441\n",
      "Epoch 52/150\n",
      "514/514 [==============================] - 0s 122us/step - loss: 0.5396 - accuracy: 0.7374 - val_loss: 0.5523 - val_accuracy: 0.7244\n",
      "Epoch 53/150\n",
      "514/514 [==============================] - 0s 115us/step - loss: 0.5352 - accuracy: 0.7432 - val_loss: 0.5420 - val_accuracy: 0.7441\n",
      "Epoch 54/150\n",
      "514/514 [==============================] - 0s 116us/step - loss: 0.5327 - accuracy: 0.7374 - val_loss: 0.5458 - val_accuracy: 0.7441\n",
      "Epoch 55/150\n",
      "514/514 [==============================] - 0s 122us/step - loss: 0.5313 - accuracy: 0.7393 - val_loss: 0.5426 - val_accuracy: 0.7402\n",
      "Epoch 56/150\n",
      "514/514 [==============================] - 0s 117us/step - loss: 0.5412 - accuracy: 0.7335 - val_loss: 0.5566 - val_accuracy: 0.7323\n"
     ]
    },
    {
     "name": "stdout",
     "output_type": "stream",
     "text": [
      "Epoch 57/150\n",
      "514/514 [==============================] - 0s 118us/step - loss: 0.5398 - accuracy: 0.7237 - val_loss: 0.5546 - val_accuracy: 0.7441\n",
      "Epoch 58/150\n",
      "514/514 [==============================] - 0s 116us/step - loss: 0.5320 - accuracy: 0.7335 - val_loss: 0.5614 - val_accuracy: 0.7047\n",
      "Epoch 59/150\n",
      "514/514 [==============================] - 0s 116us/step - loss: 0.5413 - accuracy: 0.7257 - val_loss: 0.5412 - val_accuracy: 0.7480\n",
      "Epoch 60/150\n",
      "514/514 [==============================] - 0s 134us/step - loss: 0.5353 - accuracy: 0.7276 - val_loss: 0.5490 - val_accuracy: 0.7402\n",
      "Epoch 61/150\n",
      "514/514 [==============================] - 0s 136us/step - loss: 0.5331 - accuracy: 0.7412 - val_loss: 0.5492 - val_accuracy: 0.7480\n",
      "Epoch 62/150\n",
      "514/514 [==============================] - 0s 126us/step - loss: 0.5373 - accuracy: 0.7276 - val_loss: 0.5424 - val_accuracy: 0.7402\n",
      "Epoch 63/150\n",
      "514/514 [==============================] - 0s 114us/step - loss: 0.5292 - accuracy: 0.7374 - val_loss: 0.5449 - val_accuracy: 0.7480\n",
      "Epoch 64/150\n",
      "514/514 [==============================] - 0s 113us/step - loss: 0.5323 - accuracy: 0.7451 - val_loss: 0.5398 - val_accuracy: 0.7441\n",
      "Epoch 65/150\n",
      "514/514 [==============================] - 0s 113us/step - loss: 0.5371 - accuracy: 0.7296 - val_loss: 0.5481 - val_accuracy: 0.7520\n",
      "Epoch 66/150\n",
      "514/514 [==============================] - 0s 113us/step - loss: 0.5352 - accuracy: 0.7354 - val_loss: 0.5337 - val_accuracy: 0.7598\n",
      "Epoch 67/150\n",
      "514/514 [==============================] - 0s 114us/step - loss: 0.5271 - accuracy: 0.7335 - val_loss: 0.5431 - val_accuracy: 0.7402\n",
      "Epoch 68/150\n",
      "514/514 [==============================] - 0s 128us/step - loss: 0.5341 - accuracy: 0.7296 - val_loss: 0.5563 - val_accuracy: 0.7283\n",
      "Epoch 69/150\n",
      "514/514 [==============================] - 0s 136us/step - loss: 0.5452 - accuracy: 0.7198 - val_loss: 0.5410 - val_accuracy: 0.7598\n",
      "Epoch 70/150\n",
      "514/514 [==============================] - 0s 124us/step - loss: 0.5321 - accuracy: 0.7412 - val_loss: 0.5349 - val_accuracy: 0.7520\n",
      "Epoch 71/150\n",
      "514/514 [==============================] - 0s 134us/step - loss: 0.5277 - accuracy: 0.7568 - val_loss: 0.5475 - val_accuracy: 0.7559\n",
      "Epoch 72/150\n",
      "514/514 [==============================] - 0s 112us/step - loss: 0.5279 - accuracy: 0.7510 - val_loss: 0.5299 - val_accuracy: 0.7795\n",
      "Epoch 73/150\n",
      "514/514 [==============================] - 0s 112us/step - loss: 0.5316 - accuracy: 0.7354 - val_loss: 0.5303 - val_accuracy: 0.7402\n",
      "Epoch 74/150\n",
      "514/514 [==============================] - 0s 113us/step - loss: 0.5252 - accuracy: 0.7374 - val_loss: 0.5393 - val_accuracy: 0.7520\n",
      "Epoch 75/150\n",
      "514/514 [==============================] - 0s 113us/step - loss: 0.5288 - accuracy: 0.7490 - val_loss: 0.5396 - val_accuracy: 0.7402\n",
      "Epoch 76/150\n",
      "514/514 [==============================] - 0s 113us/step - loss: 0.5306 - accuracy: 0.7412 - val_loss: 0.5282 - val_accuracy: 0.7520\n",
      "Epoch 77/150\n",
      "514/514 [==============================] - 0s 113us/step - loss: 0.5222 - accuracy: 0.7393 - val_loss: 0.5338 - val_accuracy: 0.7520\n",
      "Epoch 78/150\n",
      "514/514 [==============================] - 0s 113us/step - loss: 0.5219 - accuracy: 0.7412 - val_loss: 0.5280 - val_accuracy: 0.7756\n",
      "Epoch 79/150\n",
      "514/514 [==============================] - 0s 113us/step - loss: 0.5334 - accuracy: 0.7451 - val_loss: 0.5450 - val_accuracy: 0.7520\n",
      "Epoch 80/150\n",
      "514/514 [==============================] - 0s 112us/step - loss: 0.5258 - accuracy: 0.7432 - val_loss: 0.5364 - val_accuracy: 0.7717\n",
      "Epoch 81/150\n",
      "514/514 [==============================] - 0s 112us/step - loss: 0.5318 - accuracy: 0.7490 - val_loss: 0.5379 - val_accuracy: 0.7480\n",
      "Epoch 82/150\n",
      "514/514 [==============================] - 0s 111us/step - loss: 0.5249 - accuracy: 0.7276 - val_loss: 0.5307 - val_accuracy: 0.7480\n",
      "Epoch 83/150\n",
      "514/514 [==============================] - 0s 116us/step - loss: 0.5185 - accuracy: 0.7276 - val_loss: 0.5421 - val_accuracy: 0.7323\n",
      "Epoch 84/150\n",
      "514/514 [==============================] - 0s 114us/step - loss: 0.5285 - accuracy: 0.7393 - val_loss: 0.5255 - val_accuracy: 0.7835\n",
      "Epoch 85/150\n",
      "514/514 [==============================] - 0s 113us/step - loss: 0.5218 - accuracy: 0.7471 - val_loss: 0.5311 - val_accuracy: 0.7480\n",
      "Epoch 86/150\n",
      "514/514 [==============================] - 0s 114us/step - loss: 0.5190 - accuracy: 0.7432 - val_loss: 0.5341 - val_accuracy: 0.7717\n",
      "Epoch 87/150\n",
      "514/514 [==============================] - 0s 114us/step - loss: 0.5191 - accuracy: 0.7354 - val_loss: 0.5259 - val_accuracy: 0.7835\n",
      "Epoch 88/150\n",
      "514/514 [==============================] - 0s 117us/step - loss: 0.5203 - accuracy: 0.7490 - val_loss: 0.5365 - val_accuracy: 0.7480\n",
      "Epoch 89/150\n",
      "514/514 [==============================] - 0s 115us/step - loss: 0.5176 - accuracy: 0.7412 - val_loss: 0.5281 - val_accuracy: 0.7638\n",
      "Epoch 90/150\n",
      "514/514 [==============================] - 0s 115us/step - loss: 0.5210 - accuracy: 0.7393 - val_loss: 0.5376 - val_accuracy: 0.7362\n",
      "Epoch 91/150\n",
      "514/514 [==============================] - 0s 111us/step - loss: 0.5205 - accuracy: 0.7393 - val_loss: 0.5304 - val_accuracy: 0.7598\n",
      "Epoch 92/150\n",
      "514/514 [==============================] - 0s 111us/step - loss: 0.5257 - accuracy: 0.7354 - val_loss: 0.5257 - val_accuracy: 0.7480\n",
      "Epoch 93/150\n",
      "514/514 [==============================] - 0s 118us/step - loss: 0.5161 - accuracy: 0.7607 - val_loss: 0.5272 - val_accuracy: 0.7598\n",
      "Epoch 94/150\n",
      "514/514 [==============================] - 0s 126us/step - loss: 0.5199 - accuracy: 0.7393 - val_loss: 0.5239 - val_accuracy: 0.7638\n",
      "Epoch 95/150\n",
      "514/514 [==============================] - 0s 124us/step - loss: 0.5208 - accuracy: 0.7549 - val_loss: 0.5407 - val_accuracy: 0.7323\n",
      "Epoch 96/150\n",
      "514/514 [==============================] - 0s 134us/step - loss: 0.5261 - accuracy: 0.7393 - val_loss: 0.5208 - val_accuracy: 0.7795\n",
      "Epoch 97/150\n",
      "514/514 [==============================] - 0s 124us/step - loss: 0.5153 - accuracy: 0.7451 - val_loss: 0.5207 - val_accuracy: 0.7756\n",
      "Epoch 98/150\n",
      "514/514 [==============================] - 0s 113us/step - loss: 0.5232 - accuracy: 0.7296 - val_loss: 0.5297 - val_accuracy: 0.7559\n",
      "Epoch 99/150\n",
      "514/514 [==============================] - 0s 112us/step - loss: 0.5261 - accuracy: 0.7354 - val_loss: 0.5203 - val_accuracy: 0.7756\n",
      "Epoch 100/150\n",
      "514/514 [==============================] - 0s 120us/step - loss: 0.5200 - accuracy: 0.7374 - val_loss: 0.5132 - val_accuracy: 0.7835\n",
      "Epoch 101/150\n",
      "514/514 [==============================] - 0s 118us/step - loss: 0.5164 - accuracy: 0.7510 - val_loss: 0.5192 - val_accuracy: 0.7717\n",
      "Epoch 102/150\n",
      "514/514 [==============================] - 0s 128us/step - loss: 0.5117 - accuracy: 0.7432 - val_loss: 0.5147 - val_accuracy: 0.7717\n",
      "Epoch 103/150\n",
      "514/514 [==============================] - 0s 140us/step - loss: 0.5200 - accuracy: 0.7529 - val_loss: 0.5226 - val_accuracy: 0.7480\n",
      "Epoch 104/150\n",
      "514/514 [==============================] - 0s 120us/step - loss: 0.5154 - accuracy: 0.7432 - val_loss: 0.5133 - val_accuracy: 0.7756\n",
      "Epoch 105/150\n",
      "514/514 [==============================] - 0s 111us/step - loss: 0.5110 - accuracy: 0.7529 - val_loss: 0.5257 - val_accuracy: 0.7638\n",
      "Epoch 106/150\n",
      "514/514 [==============================] - 0s 115us/step - loss: 0.5156 - accuracy: 0.7412 - val_loss: 0.5158 - val_accuracy: 0.7756\n",
      "Epoch 107/150\n",
      "514/514 [==============================] - 0s 113us/step - loss: 0.5156 - accuracy: 0.7471 - val_loss: 0.5272 - val_accuracy: 0.7520\n",
      "Epoch 108/150\n",
      "514/514 [==============================] - 0s 113us/step - loss: 0.5210 - accuracy: 0.7588 - val_loss: 0.5270 - val_accuracy: 0.7480\n",
      "Epoch 109/150\n",
      "514/514 [==============================] - 0s 138us/step - loss: 0.5153 - accuracy: 0.7490 - val_loss: 0.5114 - val_accuracy: 0.7835\n",
      "Epoch 110/150\n",
      "514/514 [==============================] - 0s 120us/step - loss: 0.5034 - accuracy: 0.7626 - val_loss: 0.5528 - val_accuracy: 0.7362\n",
      "Epoch 111/150\n",
      "514/514 [==============================] - 0s 122us/step - loss: 0.5228 - accuracy: 0.7471 - val_loss: 0.5180 - val_accuracy: 0.7795\n",
      "Epoch 112/150\n",
      "514/514 [==============================] - 0s 122us/step - loss: 0.5061 - accuracy: 0.7549 - val_loss: 0.5155 - val_accuracy: 0.7559\n",
      "Epoch 113/150\n"
     ]
    },
    {
     "name": "stdout",
     "output_type": "stream",
     "text": [
      "514/514 [==============================] - 0s 120us/step - loss: 0.5116 - accuracy: 0.7471 - val_loss: 0.5131 - val_accuracy: 0.7677\n",
      "Epoch 114/150\n",
      "514/514 [==============================] - 0s 113us/step - loss: 0.5079 - accuracy: 0.7451 - val_loss: 0.5079 - val_accuracy: 0.7835\n",
      "Epoch 115/150\n",
      "514/514 [==============================] - 0s 116us/step - loss: 0.5125 - accuracy: 0.7432 - val_loss: 0.5097 - val_accuracy: 0.7835\n",
      "Epoch 116/150\n",
      "514/514 [==============================] - 0s 140us/step - loss: 0.5082 - accuracy: 0.7432 - val_loss: 0.5063 - val_accuracy: 0.7953\n",
      "Epoch 117/150\n",
      "514/514 [==============================] - 0s 126us/step - loss: 0.5148 - accuracy: 0.7412 - val_loss: 0.5262 - val_accuracy: 0.7677\n",
      "Epoch 118/150\n",
      "514/514 [==============================] - 0s 122us/step - loss: 0.5066 - accuracy: 0.7529 - val_loss: 0.5093 - val_accuracy: 0.7756\n",
      "Epoch 119/150\n",
      "514/514 [==============================] - 0s 116us/step - loss: 0.5132 - accuracy: 0.7471 - val_loss: 0.5186 - val_accuracy: 0.7835\n",
      "Epoch 120/150\n",
      "514/514 [==============================] - 0s 112us/step - loss: 0.5088 - accuracy: 0.7529 - val_loss: 0.5127 - val_accuracy: 0.7756\n",
      "Epoch 121/150\n",
      "514/514 [==============================] - 0s 113us/step - loss: 0.5080 - accuracy: 0.7451 - val_loss: 0.5174 - val_accuracy: 0.7598\n",
      "Epoch 122/150\n",
      "514/514 [==============================] - 0s 113us/step - loss: 0.5082 - accuracy: 0.7549 - val_loss: 0.5062 - val_accuracy: 0.7953\n",
      "Epoch 123/150\n",
      "514/514 [==============================] - 0s 112us/step - loss: 0.5084 - accuracy: 0.7354 - val_loss: 0.5161 - val_accuracy: 0.7677\n",
      "Epoch 124/150\n",
      "514/514 [==============================] - 0s 115us/step - loss: 0.5061 - accuracy: 0.7510 - val_loss: 0.5198 - val_accuracy: 0.7480\n",
      "Epoch 125/150\n",
      "514/514 [==============================] - 0s 121us/step - loss: 0.5203 - accuracy: 0.7393 - val_loss: 0.5100 - val_accuracy: 0.7677\n",
      "Epoch 126/150\n",
      "514/514 [==============================] - 0s 128us/step - loss: 0.5006 - accuracy: 0.7393 - val_loss: 0.5241 - val_accuracy: 0.7402\n",
      "Epoch 127/150\n",
      "514/514 [==============================] - 0s 128us/step - loss: 0.5018 - accuracy: 0.7529 - val_loss: 0.5045 - val_accuracy: 0.7795\n",
      "Epoch 128/150\n",
      "514/514 [==============================] - 0s 125us/step - loss: 0.5001 - accuracy: 0.7685 - val_loss: 0.5059 - val_accuracy: 0.7874\n",
      "Epoch 129/150\n",
      "514/514 [==============================] - 0s 111us/step - loss: 0.5044 - accuracy: 0.7510 - val_loss: 0.5021 - val_accuracy: 0.7717\n",
      "Epoch 130/150\n",
      "514/514 [==============================] - 0s 111us/step - loss: 0.5036 - accuracy: 0.7549 - val_loss: 0.4964 - val_accuracy: 0.8071\n",
      "Epoch 131/150\n",
      "514/514 [==============================] - 0s 116us/step - loss: 0.5031 - accuracy: 0.7549 - val_loss: 0.5182 - val_accuracy: 0.7323\n",
      "Epoch 132/150\n",
      "514/514 [==============================] - 0s 136us/step - loss: 0.5078 - accuracy: 0.7568 - val_loss: 0.5010 - val_accuracy: 0.7835\n",
      "Epoch 133/150\n",
      "514/514 [==============================] - 0s 130us/step - loss: 0.5019 - accuracy: 0.7626 - val_loss: 0.5015 - val_accuracy: 0.7992\n",
      "Epoch 134/150\n",
      "514/514 [==============================] - 0s 120us/step - loss: 0.5015 - accuracy: 0.7529 - val_loss: 0.5010 - val_accuracy: 0.7756\n",
      "Epoch 135/150\n",
      "514/514 [==============================] - 0s 113us/step - loss: 0.5047 - accuracy: 0.7451 - val_loss: 0.4987 - val_accuracy: 0.7795\n",
      "Epoch 136/150\n",
      "514/514 [==============================] - 0s 115us/step - loss: 0.5019 - accuracy: 0.7490 - val_loss: 0.4938 - val_accuracy: 0.7953\n",
      "Epoch 137/150\n",
      "514/514 [==============================] - 0s 116us/step - loss: 0.5095 - accuracy: 0.7471 - val_loss: 0.5043 - val_accuracy: 0.7717\n",
      "Epoch 138/150\n",
      "514/514 [==============================] - 0s 130us/step - loss: 0.4986 - accuracy: 0.7471 - val_loss: 0.5013 - val_accuracy: 0.7717\n",
      "Epoch 139/150\n",
      "514/514 [==============================] - 0s 136us/step - loss: 0.5004 - accuracy: 0.7451 - val_loss: 0.4954 - val_accuracy: 0.7913\n",
      "Epoch 140/150\n",
      "514/514 [==============================] - 0s 132us/step - loss: 0.4949 - accuracy: 0.7549 - val_loss: 0.4997 - val_accuracy: 0.7756\n",
      "Epoch 141/150\n",
      "514/514 [==============================] - 0s 118us/step - loss: 0.5019 - accuracy: 0.7432 - val_loss: 0.4875 - val_accuracy: 0.8110\n",
      "Epoch 142/150\n",
      "514/514 [==============================] - 0s 111us/step - loss: 0.5043 - accuracy: 0.7529 - val_loss: 0.4920 - val_accuracy: 0.7795\n",
      "Epoch 143/150\n",
      "514/514 [==============================] - 0s 111us/step - loss: 0.5024 - accuracy: 0.7490 - val_loss: 0.4965 - val_accuracy: 0.7795\n",
      "Epoch 144/150\n",
      "514/514 [==============================] - 0s 114us/step - loss: 0.5098 - accuracy: 0.7490 - val_loss: 0.4899 - val_accuracy: 0.7874\n",
      "Epoch 145/150\n",
      "514/514 [==============================] - 0s 113us/step - loss: 0.4994 - accuracy: 0.7451 - val_loss: 0.4861 - val_accuracy: 0.8150\n",
      "Epoch 146/150\n",
      "514/514 [==============================] - 0s 120us/step - loss: 0.4933 - accuracy: 0.7549 - val_loss: 0.4978 - val_accuracy: 0.7992\n",
      "Epoch 147/150\n",
      "514/514 [==============================] - 0s 128us/step - loss: 0.4934 - accuracy: 0.7549 - val_loss: 0.4882 - val_accuracy: 0.7953\n",
      "Epoch 148/150\n",
      "514/514 [==============================] - 0s 144us/step - loss: 0.4963 - accuracy: 0.7549 - val_loss: 0.5018 - val_accuracy: 0.7638\n",
      "Epoch 149/150\n",
      "514/514 [==============================] - 0s 122us/step - loss: 0.4926 - accuracy: 0.7685 - val_loss: 0.4902 - val_accuracy: 0.7874\n",
      "Epoch 150/150\n",
      "514/514 [==============================] - 0s 122us/step - loss: 0.4928 - accuracy: 0.7724 - val_loss: 0.4912 - val_accuracy: 0.7874\n",
      "768/768 [==============================] - 0s 16us/step\n",
      "\n",
      "accuracy: 77.73%\n"
     ]
    }
   ],
   "source": [
    "from keras.models import Sequential # 입력이 하나고 output도 하나인 망\n",
    "from keras.layers import Dense\n",
    "import numpy \n",
    "numpy.random.seed(7)\n",
    "datasets = numpy.loadtxt('pima.data', delimiter = \",\")\n",
    "X = datasets[:, 0:8]  # 8개까지가 독립변수이고 \n",
    "Y = datasets[:,8]   # 9번쨰가 독립 변수임. \n",
    "model = Sequential()\n",
    "model.add(Dense(12, input_dim = 8,kernel_initializer = 'uniform', activation = 'relu'))\n",
    "# ? X 8, 8X12 ==?X12                     # 초기화 방법 --> 균등분포\n",
    "model.add(Dense(8, kernel_initializer = 'uniform', activation = 'relu'))\n",
    "# ?X12 12X8 ==> ?X8\n",
    "model.add(Dense(1, kernel_initializer = 'uniform', activation = 'sigmoid'))\n",
    "# ?X 8  8X1 ==> ? x1 분류           \n",
    "model.compile(loss = 'binary_crossentropy', optimizer = 'adam', metrics = ['accuracy'])\n",
    "# metics == accuracy는 정확도를 측정하겠다라는 뜻임 즉 내가 보고싶은게 accuracy이다 라는뜻이다. \n",
    "history = model.fit(X,Y, epochs = 150,validation_split = 0.33, batch_size = 10)\n",
    "# 데이터를 분리 입력할때 (train, test)  이놈 까지도 과적합 되는 현상이 생긴다.\n",
    "# 따라서 그 안에서도 과적합을 방지하기 위한 validation 을 만들어줘야한다. \n",
    "scores = model.evaluate(X,Y)\n",
    "print('\\n%s: %.2f%%'  %(model.metrics_names[1], scores[1]*100))\n",
    "# 모델의 메트릭스의 이름을 지정하고 그 이름의 점수 값을 지정한다. \n"
   ]
  },
  {
   "cell_type": "code",
   "execution_count": 59,
   "metadata": {},
   "outputs": [
    {
     "name": "stdout",
     "output_type": "stream",
     "text": [
      "dict_keys(['val_loss', 'val_accuracy', 'loss', 'accuracy'])\n"
     ]
    },
    {
     "data": {
      "image/png": "[encoded data removed]",
      "text/plain": [
       "<Figure size 432x288 with 1 Axes>"
      ]
     },
     "metadata": {
      "needs_background": "light"
     },
     "output_type": "display_data"
    }
   ],
   "source": [
    "import matplotlib.pyplot as plt\n",
    "%matplotlib inline\n",
    "\n",
    "print(history.history.keys())\n",
    "## val_loss, val_accuracy , loss , accuracy\n",
    "\n",
    "plt.plot(history.history['accuracy'])\n",
    "plt.plot(history.history['val_accuracy'])\n",
    "plt.title('accuracy')\n",
    "plt.ylabel('accuracy')\n",
    "plt.xlabel('epoch')\n",
    "plt.legend(['train','test'], loc = 'upper left')\n",
    "plt.show()"
   ]
  },
  {
   "cell_type": "code",
   "execution_count": 60,
   "metadata": {},
   "outputs": [
    {
     "name": "stdout",
     "output_type": "stream",
     "text": [
      "dict_keys(['val_loss', 'val_accuracy', 'loss', 'accuracy'])\n"
     ]
    },
    {
     "data": {
      "image/png": "[encoded data removed]",
      "text/plain": [
       "<Figure size 432x288 with 1 Axes>"
      ]
     },
     "metadata": {
      "needs_background": "light"
     },
     "output_type": "display_data"
    }
   ],
   "source": [
    "import matplotlib.pyplot as plt\n",
    "%matplotlib inline\n",
    "\n",
    "print(history.history.keys())\n",
    "## val_loss, val_accuracy , loss , accuracy\n",
    "\n",
    "plt.plot(history.history['loss'])\n",
    "plt.plot(history.history['val_loss'])\n",
    "plt.title('loss')\n",
    "plt.ylabel('loss')\n",
    "plt.xlabel('epoch')\n",
    "plt.legend(['train','test'], loc = 'upper left')\n",
    "plt.show()"
   ]
  },
  {
   "cell_type": "code",
   "execution_count": 61,
   "metadata": {},
   "outputs": [],
   "source": [
    "from sklearn.preprocessing import scale\n",
    "from sklearn.model_selection import train_test_split\n",
    "from sklearn.datasets import make_moons\n",
    "X,Y = make_moons(noise = 0.2, random_state =0, n_samples = 1000)\n",
    "X = scale(X)\n",
    "X_train,X_test,Y_train, Y_test = train_test_split(X,Y, test_size = .5)"
   ]
  },
  {
   "cell_type": "code",
   "execution_count": 62,
   "metadata": {},
   "outputs": [
    {
     "data": {
      "text/plain": [
       "[Text(0, 0.5, 'Y'), Text(0.5, 0, 'X'), Text(0.5, 1.0, 'binary classifiicaion')]"
      ]
     },
     "execution_count": 62,
     "metadata": {},
     "output_type": "execute_result"
    },
    {
     "data": {
      "image/png": "[encoded data removed]",
      "text/plain": [
       "<Figure size 432x288 with 1 Axes>"
      ]
     },
     "metadata": {
      "needs_background": "light"
     },
     "output_type": "display_data"
    }
   ],
   "source": [
    "fig, ax = plt.subplots()\n",
    "ax.scatter(X[Y == 0,0], X[Y == 0,1], label = 'Class 0')\n",
    "ax.scatter(X[Y == 1,0], X[Y ==1,1], color = 'r', label = 'Class 1')\n",
    "ax.legend()\n",
    "ax.set(xlabel = 'X', ylabel = 'Y', title = 'binary classifiicaion')"
   ]
  },
  {
   "cell_type": "code",
   "execution_count": 63,
   "metadata": {},
   "outputs": [],
   "source": [
    "# Callback class\n",
    "# custom callback 함수의 제작\n",
    "# 함수에 의해서 호출되는 객체 \n",
    "\n",
    "class CustomHistory(keras.callbacks.Callback):   ## 상속\n",
    "    def init(self):\n",
    "        self.train_loss = []\n",
    "        self.val_loss = []\n",
    "        self.train_acc = []\n",
    "        self.val_acc = []\n",
    "        \n",
    "    def on_epoch_end(self, batch, logs = {}):  ## 오버라이딩 \n",
    "        self.train_loss.append(logs.get('loss'))\n",
    "        self.val_loss.append(logs.get('val_loss'))\n",
    "        self.train_acc.append(logs.get('acc'))\n",
    "        self.val_acc.append(logs.get('val_acc'))\n",
    "        "
   ]
  },
  {
   "cell_type": "code",
   "execution_count": 64,
   "metadata": {},
   "outputs": [],
   "source": [
    "import keras\n",
    "# 비선형 모델 - 신경망\n",
    "model = Sequential()\n",
    "# 행렬 연산의 규칙.  \n",
    "model.add(Dense(32, input_dim = 2, activation = 'relu'))\n",
    "# 1000 X2 , 2X32 --> 1000X32 2개로 설명할것을 32개로 설명한다. \n",
    "# 논리적으로보면 변수를 32개로 늘린것과 같다. \n",
    "model.add(Dense(1, activation = 'sigmoid'))\n",
    "# 1000 X32 , 32X1 --> 1000X1 로 분류 \n",
    "model.compile(optimizer = 'AdaDelta', loss = 'binary_crossentropy', metrics = ['accuracy'])\n",
    "tb_callback = keras.callbacks.TensorBoard( log_dir = './Graph/model_1/', histogram_freq = 100, \n",
    "                                         write_graph = True, write_images = False)\n",
    "## callback함수는 window 자동으로 호출되는 함수. \n",
    "# graph 이미지를 출력할 준비를 해라. \n",
    "tb_callback.set_model(model) # 콜백을 모델에 등록해라. "
   ]
  },
  {
   "cell_type": "code",
   "execution_count": 65,
   "metadata": {},
   "outputs": [
    {
     "ename": "InvalidArgumentError",
     "evalue": "You must feed a value for placeholder tensor 'dense_17_input' with dtype float and shape [?,2]\n\t [[node dense_17_input (defined at C:\\Users\\ICT01_15\\Anaconda3\\lib\\site-packages\\keras\\backend\\tensorflow_backend.py:736) ]]\n\nOriginal stack trace for 'dense_17_input':\n  File \"C:\\Users\\ICT01_15\\Anaconda3\\lib\\runpy.py\", line 193, in _run_module_as_main\n    \"__main__\", mod_spec)\n  File \"C:\\Users\\ICT01_15\\Anaconda3\\lib\\runpy.py\", line 85, in _run_code\n    exec(code, run_globals)\n  File \"C:\\Users\\ICT01_15\\Anaconda3\\lib\\site-packages\\ipykernel_launcher.py\", line 16, in <module>\n    app.launch_new_instance()\n  File \"C:\\Users\\ICT01_15\\Anaconda3\\lib\\site-packages\\traitlets\\config\\application.py\", line 664, in launch_instance\n    app.start()\n  File \"C:\\Users\\ICT01_15\\Anaconda3\\lib\\site-packages\\ipykernel\\kernelapp.py\", line 563, in start\n    self.io_loop.start()\n  File \"C:\\Users\\ICT01_15\\Anaconda3\\lib\\site-packages\\tornado\\platform\\asyncio.py\", line 148, in start\n    self.asyncio_loop.run_forever()\n  File \"C:\\Users\\ICT01_15\\Anaconda3\\lib\\asyncio\\base_events.py\", line 534, in run_forever\n    self._run_once()\n  File \"C:\\Users\\ICT01_15\\Anaconda3\\lib\\asyncio\\base_events.py\", line 1771, in _run_once\n    handle._run()\n  File \"C:\\Users\\ICT01_15\\Anaconda3\\lib\\asyncio\\events.py\", line 88, in _run\n    self._context.run(self._callback, *self._args)\n  File \"C:\\Users\\ICT01_15\\Anaconda3\\lib\\site-packages\\tornado\\ioloop.py\", line 690, in <lambda>\n    lambda f: self._run_callback(functools.partial(callback, future))\n  File \"C:\\Users\\ICT01_15\\Anaconda3\\lib\\site-packages\\tornado\\ioloop.py\", line 743, in _run_callback\n    ret = callback()\n  File \"C:\\Users\\ICT01_15\\Anaconda3\\lib\\site-packages\\tornado\\gen.py\", line 787, in inner\n    self.run()\n  File \"C:\\Users\\ICT01_15\\Anaconda3\\lib\\site-packages\\tornado\\gen.py\", line 748, in run\n    yielded = self.gen.send(value)\n  File \"C:\\Users\\ICT01_15\\Anaconda3\\lib\\site-packages\\ipykernel\\kernelbase.py\", line 365, in process_one\n    yield gen.maybe_future(dispatch(*args))\n  File \"C:\\Users\\ICT01_15\\Anaconda3\\lib\\site-packages\\tornado\\gen.py\", line 209, in wrapper\n    yielded = next(result)\n  File \"C:\\Users\\ICT01_15\\Anaconda3\\lib\\site-packages\\ipykernel\\kernelbase.py\", line 272, in dispatch_shell\n    yield gen.maybe_future(handler(stream, idents, msg))\n  File \"C:\\Users\\ICT01_15\\Anaconda3\\lib\\site-packages\\tornado\\gen.py\", line 209, in wrapper\n    yielded = next(result)\n  File \"C:\\Users\\ICT01_15\\Anaconda3\\lib\\site-packages\\ipykernel\\kernelbase.py\", line 542, in execute_request\n    user_expressions, allow_stdin,\n  File \"C:\\Users\\ICT01_15\\Anaconda3\\lib\\site-packages\\tornado\\gen.py\", line 209, in wrapper\n    yielded = next(result)\n  File \"C:\\Users\\ICT01_15\\Anaconda3\\lib\\site-packages\\ipykernel\\ipkernel.py\", line 294, in do_execute\n    res = shell.run_cell(code, store_history=store_history, silent=silent)\n  File \"C:\\Users\\ICT01_15\\Anaconda3\\lib\\site-packages\\ipykernel\\zmqshell.py\", line 536, in run_cell\n    return super(ZMQInteractiveShell, self).run_cell(*args, **kwargs)\n  File \"C:\\Users\\ICT01_15\\Anaconda3\\lib\\site-packages\\IPython\\core\\interactiveshell.py\", line 2855, in run_cell\n    raw_cell, store_history, silent, shell_futures)\n  File \"C:\\Users\\ICT01_15\\Anaconda3\\lib\\site-packages\\IPython\\core\\interactiveshell.py\", line 2881, in _run_cell\n    return runner(coro)\n  File \"C:\\Users\\ICT01_15\\Anaconda3\\lib\\site-packages\\IPython\\core\\async_helpers.py\", line 68, in _pseudo_sync_runner\n    coro.send(None)\n  File \"C:\\Users\\ICT01_15\\Anaconda3\\lib\\site-packages\\IPython\\core\\interactiveshell.py\", line 3058, in run_cell_async\n    interactivity=interactivity, compiler=compiler, result=result)\n  File \"C:\\Users\\ICT01_15\\Anaconda3\\lib\\site-packages\\IPython\\core\\interactiveshell.py\", line 3249, in run_ast_nodes\n    if (await self.run_code(code, result,  async_=asy)):\n  File \"C:\\Users\\ICT01_15\\Anaconda3\\lib\\site-packages\\IPython\\core\\interactiveshell.py\", line 3326, in run_code\n    exec(code_obj, self.user_global_ns, self.user_ns)\n  File \"<ipython-input-33-e32ab4ceae04>\", line 5, in <module>\n    model.add(Dense(32, input_dim = 2, activation = 'relu'))\n  File \"C:\\Users\\ICT01_15\\Anaconda3\\lib\\site-packages\\keras\\engine\\sequential.py\", line 162, in add\n    name=layer.name + '_input')\n  File \"C:\\Users\\ICT01_15\\Anaconda3\\lib\\site-packages\\keras\\engine\\input_layer.py\", line 178, in Input\n    input_tensor=tensor)\n  File \"C:\\Users\\ICT01_15\\Anaconda3\\lib\\site-packages\\keras\\legacy\\interfaces.py\", line 91, in wrapper\n    return func(*args, **kwargs)\n  File \"C:\\Users\\ICT01_15\\Anaconda3\\lib\\site-packages\\keras\\engine\\input_layer.py\", line 87, in __init__\n    name=self.name)\n  File \"C:\\Users\\ICT01_15\\Anaconda3\\lib\\site-packages\\keras\\backend\\tensorflow_backend.py\", line 736, in placeholder\n    shape=shape, ndim=ndim, dtype=dtype, sparse=sparse, name=name)\n  File \"C:\\Users\\ICT01_15\\Anaconda3\\lib\\site-packages\\tensorflow\\python\\keras\\backend.py\", line 998, in placeholder\n    x = array_ops.placeholder(dtype, shape=shape, name=name)\n  File \"C:\\Users\\ICT01_15\\Anaconda3\\lib\\site-packages\\tensorflow\\python\\ops\\array_ops.py\", line 2143, in placeholder\n    return gen_array_ops.placeholder(dtype=dtype, shape=shape, name=name)\n  File \"C:\\Users\\ICT01_15\\Anaconda3\\lib\\site-packages\\tensorflow\\python\\ops\\gen_array_ops.py\", line 6261, in placeholder\n    \"Placeholder\", dtype=dtype, shape=shape, name=name)\n  File \"C:\\Users\\ICT01_15\\Anaconda3\\lib\\site-packages\\tensorflow\\python\\framework\\op_def_library.py\", line 788, in _apply_op_helper\n    op_def=op_def)\n  File \"C:\\Users\\ICT01_15\\Anaconda3\\lib\\site-packages\\tensorflow\\python\\util\\deprecation.py\", line 507, in new_func\n    return func(*args, **kwargs)\n  File \"C:\\Users\\ICT01_15\\Anaconda3\\lib\\site-packages\\tensorflow\\python\\framework\\ops.py\", line 3616, in create_op\n    op_def=op_def)\n  File \"C:\\Users\\ICT01_15\\Anaconda3\\lib\\site-packages\\tensorflow\\python\\framework\\ops.py\", line 2005, in __init__\n    self._traceback = tf_stack.extract_stack()\n",
     "output_type": "error",
     "traceback": [
      "\u001b[1;31m---------------------------------------------------------------------------\u001b[0m",
      "\u001b[1;31mInvalidArgumentError\u001b[0m                      Traceback (most recent call last)",
      "\u001b[1;32m~\\Anaconda3\\lib\\site-packages\\tensorflow\\python\\client\\session.py\u001b[0m in \u001b[0;36m_do_call\u001b[1;34m(self, fn, *args)\u001b[0m\n\u001b[0;32m   1355\u001b[0m     \u001b[1;32mtry\u001b[0m\u001b[1;33m:\u001b[0m\u001b[1;33m\u001b[0m\u001b[1;33m\u001b[0m\u001b[0m\n\u001b[1;32m-> 1356\u001b[1;33m       \u001b[1;32mreturn\u001b[0m \u001b[0mfn\u001b[0m\u001b[1;33m(\u001b[0m\u001b[1;33m*\u001b[0m\u001b[0margs\u001b[0m\u001b[1;33m)\u001b[0m\u001b[1;33m\u001b[0m\u001b[1;33m\u001b[0m\u001b[0m\n\u001b[0m\u001b[0;32m   1357\u001b[0m     \u001b[1;32mexcept\u001b[0m \u001b[0merrors\u001b[0m\u001b[1;33m.\u001b[0m\u001b[0mOpError\u001b[0m \u001b[1;32mas\u001b[0m \u001b[0me\u001b[0m\u001b[1;33m:\u001b[0m\u001b[1;33m\u001b[0m\u001b[1;33m\u001b[0m\u001b[0m\n",
      "\u001b[1;32m~\\Anaconda3\\lib\\site-packages\\tensorflow\\python\\client\\session.py\u001b[0m in \u001b[0;36m_run_fn\u001b[1;34m(feed_dict, fetch_list, target_list, options, run_metadata)\u001b[0m\n\u001b[0;32m   1340\u001b[0m       return self._call_tf_sessionrun(\n\u001b[1;32m-> 1341\u001b[1;33m           options, feed_dict, fetch_list, target_list, run_metadata)\n\u001b[0m\u001b[0;32m   1342\u001b[0m \u001b[1;33m\u001b[0m\u001b[0m\n",
      "\u001b[1;32m~\\Anaconda3\\lib\\site-packages\\tensorflow\\python\\client\\session.py\u001b[0m in \u001b[0;36m_call_tf_sessionrun\u001b[1;34m(self, options, feed_dict, fetch_list, target_list, run_metadata)\u001b[0m\n\u001b[0;32m   1428\u001b[0m         \u001b[0mself\u001b[0m\u001b[1;33m.\u001b[0m\u001b[0m_session\u001b[0m\u001b[1;33m,\u001b[0m \u001b[0moptions\u001b[0m\u001b[1;33m,\u001b[0m \u001b[0mfeed_dict\u001b[0m\u001b[1;33m,\u001b[0m \u001b[0mfetch_list\u001b[0m\u001b[1;33m,\u001b[0m \u001b[0mtarget_list\u001b[0m\u001b[1;33m,\u001b[0m\u001b[1;33m\u001b[0m\u001b[1;33m\u001b[0m\u001b[0m\n\u001b[1;32m-> 1429\u001b[1;33m         run_metadata)\n\u001b[0m\u001b[0;32m   1430\u001b[0m \u001b[1;33m\u001b[0m\u001b[0m\n",
      "\u001b[1;31mInvalidArgumentError\u001b[0m: You must feed a value for placeholder tensor 'dense_17_input' with dtype float and shape [?,2]\n\t [[{{node dense_17_input}}]]",
      "\nDuring handling of the above exception, another exception occurred:\n",
      "\u001b[1;31mInvalidArgumentError\u001b[0m                      Traceback (most recent call last)",
      "\u001b[1;32m<ipython-input-65-2f8b0ee1972f>\u001b[0m in \u001b[0;36m<module>\u001b[1;34m\u001b[0m\n\u001b[1;32m----> 1\u001b[1;33m \u001b[0mhist\u001b[0m \u001b[1;33m=\u001b[0m \u001b[0mmodel\u001b[0m\u001b[1;33m.\u001b[0m\u001b[0mfit\u001b[0m\u001b[1;33m(\u001b[0m\u001b[0mX_train\u001b[0m\u001b[1;33m,\u001b[0m \u001b[0mY_train\u001b[0m\u001b[1;33m,\u001b[0m \u001b[0mbatch_size\u001b[0m \u001b[1;33m=\u001b[0m \u001b[1;36m32\u001b[0m\u001b[1;33m,\u001b[0m \u001b[0mepochs\u001b[0m \u001b[1;33m=\u001b[0m\u001b[1;36m200\u001b[0m\u001b[1;33m,\u001b[0m \u001b[0mverbose\u001b[0m \u001b[1;33m=\u001b[0m \u001b[1;36m0\u001b[0m\u001b[1;33m,\u001b[0m \u001b[0mvalidation_data\u001b[0m \u001b[1;33m=\u001b[0m \u001b[1;33m(\u001b[0m\u001b[0mX_test\u001b[0m\u001b[1;33m,\u001b[0m \u001b[0mY_test\u001b[0m\u001b[1;33m)\u001b[0m\u001b[1;33m,\u001b[0m \u001b[0mcallbacks\u001b[0m \u001b[1;33m=\u001b[0m \u001b[1;33m[\u001b[0m\u001b[0mtb_callback\u001b[0m\u001b[1;33m]\u001b[0m\u001b[1;33m)\u001b[0m\u001b[1;33m\u001b[0m\u001b[1;33m\u001b[0m\u001b[0m\n\u001b[0m",
      "\u001b[1;32m~\\Anaconda3\\lib\\site-packages\\keras\\engine\\training.py\u001b[0m in \u001b[0;36mfit\u001b[1;34m(self, x, y, batch_size, epochs, verbose, callbacks, validation_split, validation_data, shuffle, class_weight, sample_weight, initial_epoch, steps_per_epoch, validation_steps, validation_freq, max_queue_size, workers, use_multiprocessing, **kwargs)\u001b[0m\n\u001b[0;32m   1237\u001b[0m                                         \u001b[0msteps_per_epoch\u001b[0m\u001b[1;33m=\u001b[0m\u001b[0msteps_per_epoch\u001b[0m\u001b[1;33m,\u001b[0m\u001b[1;33m\u001b[0m\u001b[1;33m\u001b[0m\u001b[0m\n\u001b[0;32m   1238\u001b[0m                                         \u001b[0mvalidation_steps\u001b[0m\u001b[1;33m=\u001b[0m\u001b[0mvalidation_steps\u001b[0m\u001b[1;33m,\u001b[0m\u001b[1;33m\u001b[0m\u001b[1;33m\u001b[0m\u001b[0m\n\u001b[1;32m-> 1239\u001b[1;33m                                         validation_freq=validation_freq)\n\u001b[0m\u001b[0;32m   1240\u001b[0m \u001b[1;33m\u001b[0m\u001b[0m\n\u001b[0;32m   1241\u001b[0m     def evaluate(self,\n",
      "\u001b[1;32m~\\Anaconda3\\lib\\site-packages\\keras\\engine\\training_arrays.py\u001b[0m in \u001b[0;36mfit_loop\u001b[1;34m(model, fit_function, fit_inputs, out_labels, batch_size, epochs, verbose, callbacks, val_function, val_inputs, shuffle, initial_epoch, steps_per_epoch, validation_steps, validation_freq)\u001b[0m\n\u001b[0;32m    214\u001b[0m                         \u001b[0mepoch_logs\u001b[0m\u001b[1;33m[\u001b[0m\u001b[1;34m'val_'\u001b[0m \u001b[1;33m+\u001b[0m \u001b[0ml\u001b[0m\u001b[1;33m]\u001b[0m \u001b[1;33m=\u001b[0m \u001b[0mo\u001b[0m\u001b[1;33m\u001b[0m\u001b[1;33m\u001b[0m\u001b[0m\n\u001b[0;32m    215\u001b[0m \u001b[1;33m\u001b[0m\u001b[0m\n\u001b[1;32m--> 216\u001b[1;33m         \u001b[0mcallbacks\u001b[0m\u001b[1;33m.\u001b[0m\u001b[0mon_epoch_end\u001b[0m\u001b[1;33m(\u001b[0m\u001b[0mepoch\u001b[0m\u001b[1;33m,\u001b[0m \u001b[0mepoch_logs\u001b[0m\u001b[1;33m)\u001b[0m\u001b[1;33m\u001b[0m\u001b[1;33m\u001b[0m\u001b[0m\n\u001b[0m\u001b[0;32m    217\u001b[0m         \u001b[1;32mif\u001b[0m \u001b[0mcallbacks\u001b[0m\u001b[1;33m.\u001b[0m\u001b[0mmodel\u001b[0m\u001b[1;33m.\u001b[0m\u001b[0mstop_training\u001b[0m\u001b[1;33m:\u001b[0m\u001b[1;33m\u001b[0m\u001b[1;33m\u001b[0m\u001b[0m\n\u001b[0;32m    218\u001b[0m             \u001b[1;32mbreak\u001b[0m\u001b[1;33m\u001b[0m\u001b[1;33m\u001b[0m\u001b[0m\n",
      "\u001b[1;32m~\\Anaconda3\\lib\\site-packages\\keras\\callbacks\\callbacks.py\u001b[0m in \u001b[0;36mon_epoch_end\u001b[1;34m(self, epoch, logs)\u001b[0m\n\u001b[0;32m    150\u001b[0m         \u001b[0mlogs\u001b[0m \u001b[1;33m=\u001b[0m \u001b[0mlogs\u001b[0m \u001b[1;32mor\u001b[0m \u001b[1;33m{\u001b[0m\u001b[1;33m}\u001b[0m\u001b[1;33m\u001b[0m\u001b[1;33m\u001b[0m\u001b[0m\n\u001b[0;32m    151\u001b[0m         \u001b[1;32mfor\u001b[0m \u001b[0mcallback\u001b[0m \u001b[1;32min\u001b[0m \u001b[0mself\u001b[0m\u001b[1;33m.\u001b[0m\u001b[0mcallbacks\u001b[0m\u001b[1;33m:\u001b[0m\u001b[1;33m\u001b[0m\u001b[1;33m\u001b[0m\u001b[0m\n\u001b[1;32m--> 152\u001b[1;33m             \u001b[0mcallback\u001b[0m\u001b[1;33m.\u001b[0m\u001b[0mon_epoch_end\u001b[0m\u001b[1;33m(\u001b[0m\u001b[0mepoch\u001b[0m\u001b[1;33m,\u001b[0m \u001b[0mlogs\u001b[0m\u001b[1;33m)\u001b[0m\u001b[1;33m\u001b[0m\u001b[1;33m\u001b[0m\u001b[0m\n\u001b[0m\u001b[0;32m    153\u001b[0m \u001b[1;33m\u001b[0m\u001b[0m\n\u001b[0;32m    154\u001b[0m     \u001b[1;32mdef\u001b[0m \u001b[0mon_train_batch_begin\u001b[0m\u001b[1;33m(\u001b[0m\u001b[0mself\u001b[0m\u001b[1;33m,\u001b[0m \u001b[0mbatch\u001b[0m\u001b[1;33m,\u001b[0m \u001b[0mlogs\u001b[0m\u001b[1;33m=\u001b[0m\u001b[1;32mNone\u001b[0m\u001b[1;33m)\u001b[0m\u001b[1;33m:\u001b[0m\u001b[1;33m\u001b[0m\u001b[1;33m\u001b[0m\u001b[0m\n",
      "\u001b[1;32m~\\Anaconda3\\lib\\site-packages\\keras\\callbacks\\tensorboard_v1.py\u001b[0m in \u001b[0;36mon_epoch_end\u001b[1;34m(self, epoch, logs)\u001b[0m\n\u001b[0;32m    287\u001b[0m                     \u001b[1;32massert\u001b[0m \u001b[0mlen\u001b[0m\u001b[1;33m(\u001b[0m\u001b[0mbatch_val\u001b[0m\u001b[1;33m)\u001b[0m \u001b[1;33m==\u001b[0m \u001b[0mlen\u001b[0m\u001b[1;33m(\u001b[0m\u001b[0mtensors\u001b[0m\u001b[1;33m)\u001b[0m\u001b[1;33m\u001b[0m\u001b[1;33m\u001b[0m\u001b[0m\n\u001b[0;32m    288\u001b[0m                     \u001b[0mfeed_dict\u001b[0m \u001b[1;33m=\u001b[0m \u001b[0mdict\u001b[0m\u001b[1;33m(\u001b[0m\u001b[0mzip\u001b[0m\u001b[1;33m(\u001b[0m\u001b[0mtensors\u001b[0m\u001b[1;33m,\u001b[0m \u001b[0mbatch_val\u001b[0m\u001b[1;33m)\u001b[0m\u001b[1;33m)\u001b[0m\u001b[1;33m\u001b[0m\u001b[1;33m\u001b[0m\u001b[0m\n\u001b[1;32m--> 289\u001b[1;33m                     \u001b[0mresult\u001b[0m \u001b[1;33m=\u001b[0m \u001b[0mself\u001b[0m\u001b[1;33m.\u001b[0m\u001b[0msess\u001b[0m\u001b[1;33m.\u001b[0m\u001b[0mrun\u001b[0m\u001b[1;33m(\u001b[0m\u001b[1;33m[\u001b[0m\u001b[0mself\u001b[0m\u001b[1;33m.\u001b[0m\u001b[0mmerged\u001b[0m\u001b[1;33m]\u001b[0m\u001b[1;33m,\u001b[0m \u001b[0mfeed_dict\u001b[0m\u001b[1;33m=\u001b[0m\u001b[0mfeed_dict\u001b[0m\u001b[1;33m)\u001b[0m\u001b[1;33m\u001b[0m\u001b[1;33m\u001b[0m\u001b[0m\n\u001b[0m\u001b[0;32m    290\u001b[0m                     \u001b[0msummary_str\u001b[0m \u001b[1;33m=\u001b[0m \u001b[0mresult\u001b[0m\u001b[1;33m[\u001b[0m\u001b[1;36m0\u001b[0m\u001b[1;33m]\u001b[0m\u001b[1;33m\u001b[0m\u001b[1;33m\u001b[0m\u001b[0m\n\u001b[0;32m    291\u001b[0m                     \u001b[0mself\u001b[0m\u001b[1;33m.\u001b[0m\u001b[0mwriter\u001b[0m\u001b[1;33m.\u001b[0m\u001b[0madd_summary\u001b[0m\u001b[1;33m(\u001b[0m\u001b[0msummary_str\u001b[0m\u001b[1;33m,\u001b[0m \u001b[0mepoch\u001b[0m\u001b[1;33m)\u001b[0m\u001b[1;33m\u001b[0m\u001b[1;33m\u001b[0m\u001b[0m\n",
      "\u001b[1;32m~\\Anaconda3\\lib\\site-packages\\tensorflow\\python\\client\\session.py\u001b[0m in \u001b[0;36mrun\u001b[1;34m(self, fetches, feed_dict, options, run_metadata)\u001b[0m\n\u001b[0;32m    948\u001b[0m     \u001b[1;32mtry\u001b[0m\u001b[1;33m:\u001b[0m\u001b[1;33m\u001b[0m\u001b[1;33m\u001b[0m\u001b[0m\n\u001b[0;32m    949\u001b[0m       result = self._run(None, fetches, feed_dict, options_ptr,\n\u001b[1;32m--> 950\u001b[1;33m                          run_metadata_ptr)\n\u001b[0m\u001b[0;32m    951\u001b[0m       \u001b[1;32mif\u001b[0m \u001b[0mrun_metadata\u001b[0m\u001b[1;33m:\u001b[0m\u001b[1;33m\u001b[0m\u001b[1;33m\u001b[0m\u001b[0m\n\u001b[0;32m    952\u001b[0m         \u001b[0mproto_data\u001b[0m \u001b[1;33m=\u001b[0m \u001b[0mtf_session\u001b[0m\u001b[1;33m.\u001b[0m\u001b[0mTF_GetBuffer\u001b[0m\u001b[1;33m(\u001b[0m\u001b[0mrun_metadata_ptr\u001b[0m\u001b[1;33m)\u001b[0m\u001b[1;33m\u001b[0m\u001b[1;33m\u001b[0m\u001b[0m\n",
      "\u001b[1;32m~\\Anaconda3\\lib\\site-packages\\tensorflow\\python\\client\\session.py\u001b[0m in \u001b[0;36m_run\u001b[1;34m(self, handle, fetches, feed_dict, options, run_metadata)\u001b[0m\n\u001b[0;32m   1171\u001b[0m     \u001b[1;32mif\u001b[0m \u001b[0mfinal_fetches\u001b[0m \u001b[1;32mor\u001b[0m \u001b[0mfinal_targets\u001b[0m \u001b[1;32mor\u001b[0m \u001b[1;33m(\u001b[0m\u001b[0mhandle\u001b[0m \u001b[1;32mand\u001b[0m \u001b[0mfeed_dict_tensor\u001b[0m\u001b[1;33m)\u001b[0m\u001b[1;33m:\u001b[0m\u001b[1;33m\u001b[0m\u001b[1;33m\u001b[0m\u001b[0m\n\u001b[0;32m   1172\u001b[0m       results = self._do_run(handle, final_targets, final_fetches,\n\u001b[1;32m-> 1173\u001b[1;33m                              feed_dict_tensor, options, run_metadata)\n\u001b[0m\u001b[0;32m   1174\u001b[0m     \u001b[1;32melse\u001b[0m\u001b[1;33m:\u001b[0m\u001b[1;33m\u001b[0m\u001b[1;33m\u001b[0m\u001b[0m\n\u001b[0;32m   1175\u001b[0m       \u001b[0mresults\u001b[0m \u001b[1;33m=\u001b[0m \u001b[1;33m[\u001b[0m\u001b[1;33m]\u001b[0m\u001b[1;33m\u001b[0m\u001b[1;33m\u001b[0m\u001b[0m\n",
      "\u001b[1;32m~\\Anaconda3\\lib\\site-packages\\tensorflow\\python\\client\\session.py\u001b[0m in \u001b[0;36m_do_run\u001b[1;34m(self, handle, target_list, fetch_list, feed_dict, options, run_metadata)\u001b[0m\n\u001b[0;32m   1348\u001b[0m     \u001b[1;32mif\u001b[0m \u001b[0mhandle\u001b[0m \u001b[1;32mis\u001b[0m \u001b[1;32mNone\u001b[0m\u001b[1;33m:\u001b[0m\u001b[1;33m\u001b[0m\u001b[1;33m\u001b[0m\u001b[0m\n\u001b[0;32m   1349\u001b[0m       return self._do_call(_run_fn, feeds, fetches, targets, options,\n\u001b[1;32m-> 1350\u001b[1;33m                            run_metadata)\n\u001b[0m\u001b[0;32m   1351\u001b[0m     \u001b[1;32melse\u001b[0m\u001b[1;33m:\u001b[0m\u001b[1;33m\u001b[0m\u001b[1;33m\u001b[0m\u001b[0m\n\u001b[0;32m   1352\u001b[0m       \u001b[1;32mreturn\u001b[0m \u001b[0mself\u001b[0m\u001b[1;33m.\u001b[0m\u001b[0m_do_call\u001b[0m\u001b[1;33m(\u001b[0m\u001b[0m_prun_fn\u001b[0m\u001b[1;33m,\u001b[0m \u001b[0mhandle\u001b[0m\u001b[1;33m,\u001b[0m \u001b[0mfeeds\u001b[0m\u001b[1;33m,\u001b[0m \u001b[0mfetches\u001b[0m\u001b[1;33m)\u001b[0m\u001b[1;33m\u001b[0m\u001b[1;33m\u001b[0m\u001b[0m\n",
      "\u001b[1;32m~\\Anaconda3\\lib\\site-packages\\tensorflow\\python\\client\\session.py\u001b[0m in \u001b[0;36m_do_call\u001b[1;34m(self, fn, *args)\u001b[0m\n\u001b[0;32m   1368\u001b[0m           \u001b[1;32mpass\u001b[0m\u001b[1;33m\u001b[0m\u001b[1;33m\u001b[0m\u001b[0m\n\u001b[0;32m   1369\u001b[0m       \u001b[0mmessage\u001b[0m \u001b[1;33m=\u001b[0m \u001b[0merror_interpolation\u001b[0m\u001b[1;33m.\u001b[0m\u001b[0minterpolate\u001b[0m\u001b[1;33m(\u001b[0m\u001b[0mmessage\u001b[0m\u001b[1;33m,\u001b[0m \u001b[0mself\u001b[0m\u001b[1;33m.\u001b[0m\u001b[0m_graph\u001b[0m\u001b[1;33m)\u001b[0m\u001b[1;33m\u001b[0m\u001b[1;33m\u001b[0m\u001b[0m\n\u001b[1;32m-> 1370\u001b[1;33m       \u001b[1;32mraise\u001b[0m \u001b[0mtype\u001b[0m\u001b[1;33m(\u001b[0m\u001b[0me\u001b[0m\u001b[1;33m)\u001b[0m\u001b[1;33m(\u001b[0m\u001b[0mnode_def\u001b[0m\u001b[1;33m,\u001b[0m \u001b[0mop\u001b[0m\u001b[1;33m,\u001b[0m \u001b[0mmessage\u001b[0m\u001b[1;33m)\u001b[0m\u001b[1;33m\u001b[0m\u001b[1;33m\u001b[0m\u001b[0m\n\u001b[0m\u001b[0;32m   1371\u001b[0m \u001b[1;33m\u001b[0m\u001b[0m\n\u001b[0;32m   1372\u001b[0m   \u001b[1;32mdef\u001b[0m \u001b[0m_extend_graph\u001b[0m\u001b[1;33m(\u001b[0m\u001b[0mself\u001b[0m\u001b[1;33m)\u001b[0m\u001b[1;33m:\u001b[0m\u001b[1;33m\u001b[0m\u001b[1;33m\u001b[0m\u001b[0m\n",
      "\u001b[1;31mInvalidArgumentError\u001b[0m: You must feed a value for placeholder tensor 'dense_17_input' with dtype float and shape [?,2]\n\t [[node dense_17_input (defined at C:\\Users\\ICT01_15\\Anaconda3\\lib\\site-packages\\keras\\backend\\tensorflow_backend.py:736) ]]\n\nOriginal stack trace for 'dense_17_input':\n  File \"C:\\Users\\ICT01_15\\Anaconda3\\lib\\runpy.py\", line 193, in _run_module_as_main\n    \"__main__\", mod_spec)\n  File \"C:\\Users\\ICT01_15\\Anaconda3\\lib\\runpy.py\", line 85, in _run_code\n    exec(code, run_globals)\n  File \"C:\\Users\\ICT01_15\\Anaconda3\\lib\\site-packages\\ipykernel_launcher.py\", line 16, in <module>\n    app.launch_new_instance()\n  File \"C:\\Users\\ICT01_15\\Anaconda3\\lib\\site-packages\\traitlets\\config\\application.py\", line 664, in launch_instance\n    app.start()\n  File \"C:\\Users\\ICT01_15\\Anaconda3\\lib\\site-packages\\ipykernel\\kernelapp.py\", line 563, in start\n    self.io_loop.start()\n  File \"C:\\Users\\ICT01_15\\Anaconda3\\lib\\site-packages\\tornado\\platform\\asyncio.py\", line 148, in start\n    self.asyncio_loop.run_forever()\n  File \"C:\\Users\\ICT01_15\\Anaconda3\\lib\\asyncio\\base_events.py\", line 534, in run_forever\n    self._run_once()\n  File \"C:\\Users\\ICT01_15\\Anaconda3\\lib\\asyncio\\base_events.py\", line 1771, in _run_once\n    handle._run()\n  File \"C:\\Users\\ICT01_15\\Anaconda3\\lib\\asyncio\\events.py\", line 88, in _run\n    self._context.run(self._callback, *self._args)\n  File \"C:\\Users\\ICT01_15\\Anaconda3\\lib\\site-packages\\tornado\\ioloop.py\", line 690, in <lambda>\n    lambda f: self._run_callback(functools.partial(callback, future))\n  File \"C:\\Users\\ICT01_15\\Anaconda3\\lib\\site-packages\\tornado\\ioloop.py\", line 743, in _run_callback\n    ret = callback()\n  File \"C:\\Users\\ICT01_15\\Anaconda3\\lib\\site-packages\\tornado\\gen.py\", line 787, in inner\n    self.run()\n  File \"C:\\Users\\ICT01_15\\Anaconda3\\lib\\site-packages\\tornado\\gen.py\", line 748, in run\n    yielded = self.gen.send(value)\n  File \"C:\\Users\\ICT01_15\\Anaconda3\\lib\\site-packages\\ipykernel\\kernelbase.py\", line 365, in process_one\n    yield gen.maybe_future(dispatch(*args))\n  File \"C:\\Users\\ICT01_15\\Anaconda3\\lib\\site-packages\\tornado\\gen.py\", line 209, in wrapper\n    yielded = next(result)\n  File \"C:\\Users\\ICT01_15\\Anaconda3\\lib\\site-packages\\ipykernel\\kernelbase.py\", line 272, in dispatch_shell\n    yield gen.maybe_future(handler(stream, idents, msg))\n  File \"C:\\Users\\ICT01_15\\Anaconda3\\lib\\site-packages\\tornado\\gen.py\", line 209, in wrapper\n    yielded = next(result)\n  File \"C:\\Users\\ICT01_15\\Anaconda3\\lib\\site-packages\\ipykernel\\kernelbase.py\", line 542, in execute_request\n    user_expressions, allow_stdin,\n  File \"C:\\Users\\ICT01_15\\Anaconda3\\lib\\site-packages\\tornado\\gen.py\", line 209, in wrapper\n    yielded = next(result)\n  File \"C:\\Users\\ICT01_15\\Anaconda3\\lib\\site-packages\\ipykernel\\ipkernel.py\", line 294, in do_execute\n    res = shell.run_cell(code, store_history=store_history, silent=silent)\n  File \"C:\\Users\\ICT01_15\\Anaconda3\\lib\\site-packages\\ipykernel\\zmqshell.py\", line 536, in run_cell\n    return super(ZMQInteractiveShell, self).run_cell(*args, **kwargs)\n  File \"C:\\Users\\ICT01_15\\Anaconda3\\lib\\site-packages\\IPython\\core\\interactiveshell.py\", line 2855, in run_cell\n    raw_cell, store_history, silent, shell_futures)\n  File \"C:\\Users\\ICT01_15\\Anaconda3\\lib\\site-packages\\IPython\\core\\interactiveshell.py\", line 2881, in _run_cell\n    return runner(coro)\n  File \"C:\\Users\\ICT01_15\\Anaconda3\\lib\\site-packages\\IPython\\core\\async_helpers.py\", line 68, in _pseudo_sync_runner\n    coro.send(None)\n  File \"C:\\Users\\ICT01_15\\Anaconda3\\lib\\site-packages\\IPython\\core\\interactiveshell.py\", line 3058, in run_cell_async\n    interactivity=interactivity, compiler=compiler, result=result)\n  File \"C:\\Users\\ICT01_15\\Anaconda3\\lib\\site-packages\\IPython\\core\\interactiveshell.py\", line 3249, in run_ast_nodes\n    if (await self.run_code(code, result,  async_=asy)):\n  File \"C:\\Users\\ICT01_15\\Anaconda3\\lib\\site-packages\\IPython\\core\\interactiveshell.py\", line 3326, in run_code\n    exec(code_obj, self.user_global_ns, self.user_ns)\n  File \"<ipython-input-33-e32ab4ceae04>\", line 5, in <module>\n    model.add(Dense(32, input_dim = 2, activation = 'relu'))\n  File \"C:\\Users\\ICT01_15\\Anaconda3\\lib\\site-packages\\keras\\engine\\sequential.py\", line 162, in add\n    name=layer.name + '_input')\n  File \"C:\\Users\\ICT01_15\\Anaconda3\\lib\\site-packages\\keras\\engine\\input_layer.py\", line 178, in Input\n    input_tensor=tensor)\n  File \"C:\\Users\\ICT01_15\\Anaconda3\\lib\\site-packages\\keras\\legacy\\interfaces.py\", line 91, in wrapper\n    return func(*args, **kwargs)\n  File \"C:\\Users\\ICT01_15\\Anaconda3\\lib\\site-packages\\keras\\engine\\input_layer.py\", line 87, in __init__\n    name=self.name)\n  File \"C:\\Users\\ICT01_15\\Anaconda3\\lib\\site-packages\\keras\\backend\\tensorflow_backend.py\", line 736, in placeholder\n    shape=shape, ndim=ndim, dtype=dtype, sparse=sparse, name=name)\n  File \"C:\\Users\\ICT01_15\\Anaconda3\\lib\\site-packages\\tensorflow\\python\\keras\\backend.py\", line 998, in placeholder\n    x = array_ops.placeholder(dtype, shape=shape, name=name)\n  File \"C:\\Users\\ICT01_15\\Anaconda3\\lib\\site-packages\\tensorflow\\python\\ops\\array_ops.py\", line 2143, in placeholder\n    return gen_array_ops.placeholder(dtype=dtype, shape=shape, name=name)\n  File \"C:\\Users\\ICT01_15\\Anaconda3\\lib\\site-packages\\tensorflow\\python\\ops\\gen_array_ops.py\", line 6261, in placeholder\n    \"Placeholder\", dtype=dtype, shape=shape, name=name)\n  File \"C:\\Users\\ICT01_15\\Anaconda3\\lib\\site-packages\\tensorflow\\python\\framework\\op_def_library.py\", line 788, in _apply_op_helper\n    op_def=op_def)\n  File \"C:\\Users\\ICT01_15\\Anaconda3\\lib\\site-packages\\tensorflow\\python\\util\\deprecation.py\", line 507, in new_func\n    return func(*args, **kwargs)\n  File \"C:\\Users\\ICT01_15\\Anaconda3\\lib\\site-packages\\tensorflow\\python\\framework\\ops.py\", line 3616, in create_op\n    op_def=op_def)\n  File \"C:\\Users\\ICT01_15\\Anaconda3\\lib\\site-packages\\tensorflow\\python\\framework\\ops.py\", line 2005, in __init__\n    self._traceback = tf_stack.extract_stack()\n"
     ]
    }
   ],
   "source": [
    "hist = model.fit(X_train, Y_train, batch_size = 32, epochs =200, verbose = 0, validation_data = (X_test, Y_test), callbacks = [tb_callback])"
   ]
  },
  {
   "cell_type": "code",
   "execution_count": null,
   "metadata": {},
   "outputs": [],
   "source": [
    "score = model.evaluate(X_test, Y_test, verbose = 0)\n",
    "print('Test loss:', score[0])\n",
    "print('Test accuracy:', score[1])"
   ]
  },
  {
   "cell_type": "code",
   "execution_count": null,
   "metadata": {},
   "outputs": [],
   "source": [
    "keras.utils.print_summary(model)"
   ]
  },
  {
   "cell_type": "code",
   "execution_count": null,
   "metadata": {},
   "outputs": [],
   "source": [
    "keras.utils.plot_model(model)"
   ]
  },
  {
   "cell_type": "code",
   "execution_count": null,
   "metadata": {},
   "outputs": [],
   "source": [
    "from keras.utils.vis_utils import model_to_dot\n",
    "model_to_dot(model)"
   ]
  },
  {
   "cell_type": "code",
   "execution_count": null,
   "metadata": {},
   "outputs": [],
   "source": [
    "from IPython.display import Image, SVG\n",
    "SVG(model_to_dot(model).create(prog = 'dot', format = 'svg'))"
   ]
  },
  {
   "cell_type": "code",
   "execution_count": null,
   "metadata": {},
   "outputs": [],
   "source": [
    "model.summary()\n",
    "# param = 96--> 2X32 == 64 + bias(32개 )"
   ]
  },
  {
   "cell_type": "code",
   "execution_count": null,
   "metadata": {},
   "outputs": [],
   "source": []
  },
  {
   "cell_type": "code",
   "execution_count": null,
   "metadata": {},
   "outputs": [],
   "source": [
    "from keras.datasets import mnist\n",
    "import matplotlib.pylab as plt\n",
    "(X_train0, y_train0), (X_test0, y_test0) = mnist.load_data()\n",
    "print(X_train0.shape, X_train0.dtype)\n",
    "print(y_train0.shape, y_train0.dtype)\n",
    "print(X_test0.shape, X_test0.dtype)\n",
    "print(y_test0.shape, y_test0.dtype)\n"
   ]
  },
  {
   "cell_type": "code",
   "execution_count": null,
   "metadata": {},
   "outputs": [],
   "source": [
    "plt.imshow(X_train0[0])\n",
    "plt.grid(False)\n",
    "plt.show()"
   ]
  },
  {
   "cell_type": "code",
   "execution_count": null,
   "metadata": {},
   "outputs": [],
   "source": [
    "# fully-connected: fltten : FFNN은 데이터가 한줄로 \n",
    "# 이미지 정규화는 0에서부터 255까지의 컬러 값을 가지므로 255.0으로 나누어줘야한다. \n",
    "# \n",
    "X_train = X_train0.reshape(60000, 784).astype('float32')/255.0\n",
    "X_test = X_test0.reshape(10000,784).astype('float32')/255.0\n",
    "print(X_train.shape, X_train.dtype)"
   ]
  },
  {
   "cell_type": "code",
   "execution_count": null,
   "metadata": {},
   "outputs": [],
   "source": [
    "y_train0[:5]"
   ]
  },
  {
   "cell_type": "code",
   "execution_count": null,
   "metadata": {},
   "outputs": [],
   "source": [
    "from keras.utils import np_utils\n",
    "Y_train = np_utils.to_categorical(y_train0, 10)\n",
    "Y_test = np_utils.to_categorical(y_test0, 10)\n",
    "Y_train[:5]"
   ]
  },
  {
   "cell_type": "code",
   "execution_count": null,
   "metadata": {},
   "outputs": [],
   "source": [
    "import numpy as np\n",
    "from keras.optimizers import SGD\n",
    "np.random.seed(0)\n",
    "model = Sequential()\n",
    "\n",
    "# 60000 X 784  784X 15  ==> 60000X15\n",
    "model.add(Dense(512, input_dim = 784, activation = 'sigmoid'))\n",
    "model.add(Dense(15))\n",
    "# 60000X15 15 X 10 ==> 60000 X10 \n",
    "model.add(Dense(10, activation = 'sigmoid'))\n",
    "model.compile(optimizer = SGD(lr = 0.2), loss = 'mse', metrics = ['accuracy'])\n",
    "## lr == learning rate \n",
    "## SGD == 확률적 경사하강법\n"
   ]
  },
  {
   "cell_type": "code",
   "execution_count": null,
   "metadata": {},
   "outputs": [],
   "source": [
    "model.layers"
   ]
  },
  {
   "cell_type": "code",
   "execution_count": null,
   "metadata": {},
   "outputs": [],
   "source": [
    "l1 = model.layers[0]\n",
    "l2 = model.layers[1]\n",
    "\n",
    "l1.name\n",
    "l1.input_shape\n",
    "l1.output_shape\n",
    "l1.activation"
   ]
  },
  {
   "cell_type": "code",
   "execution_count": null,
   "metadata": {},
   "outputs": [],
   "source": [
    "\n",
    "\n",
    "custom_hist = CustomHistory()\n",
    "custom_hist.init()\n",
    "hist = model.fit(X_train, Y_train, nb_epoch = 30, \n",
    "                 batch_size =100, validation_data = (X_test, Y_test), callbacks = [custom_hist] ,verbose = 2)\n",
    "plt.plot(hist.history['loss'])\n",
    "plt.show()"
   ]
  },
  {
   "cell_type": "code",
   "execution_count": null,
   "metadata": {},
   "outputs": [],
   "source": [
    "plt.plot(hist.history['accuracy'], 'b-', label = 'training')\n",
    "plt.plot(hist.history['val_accuracy'], 'r:', label = 'test')\n",
    "plt.legend()\n",
    "plt.show()\n",
    "\n",
    "print(hist.model)\n",
    "print(hist.params)\n",
    "print(hist.history['accuracy'])\n",
    "print(hist.history['val_accuracy'][29])\n",
    "plt.show()\n",
    "plt.plot(custom_hist.train_loss, 'y' , label = 'train loss')\n",
    "plt.show()"
   ]
  },
  {
   "cell_type": "code",
   "execution_count": null,
   "metadata": {},
   "outputs": [],
   "source": [
    "# answp X_test의 이미지 한장의 label을 예측해 보시오 \n",
    "\n",
    "# 앞에서 모델을 전부 만들어 진다. \n",
    "model.predict(X_test[:1,:])"
   ]
  },
  {
   "cell_type": "code",
   "execution_count": null,
   "metadata": {},
   "outputs": [],
   "source": [
    "model.predict_classes(X_test[:1, :], verbose = 0)"
   ]
  },
  {
   "cell_type": "code",
   "execution_count": null,
   "metadata": {},
   "outputs": [],
   "source": [
    "# 출력차수가 512인 레이어를 추가히시오"
   ]
  },
  {
   "cell_type": "code",
   "execution_count": null,
   "metadata": {},
   "outputs": [],
   "source": [
    "from keras.datasets import boston_housing\n",
    "(x_train,y_train), (x_test, y_test) = boston_housing.load_data()\n",
    "\n",
    "print(x_train.shape)\n",
    "print(y_train.shape)\n",
    "print(x_test.shape)\n",
    "print(y_test.shape)\n",
    "\n",
    "## 이넘으로 보스턴 집값 예측 ㄱㄱ"
   ]
  },
  {
   "cell_type": "code",
   "execution_count": null,
   "metadata": {
    "scrolled": true
   },
   "outputs": [],
   "source": [
    "model = Sequential()\n",
    "num_features = 13\n",
    "model.add(Dense(1, input_dim = num_features, activation = 'linear'))\n"
   ]
  },
  {
   "cell_type": "code",
   "execution_count": null,
   "metadata": {},
   "outputs": [],
   "source": [
    "model.summary()\n",
    "model.compile(optimizer = 'rmsprop',loss = 'mse', metrics = ['mae'] )\n",
    "model.fit(x_train, y_train, batch_size = 1, epochs = 10, verbose = 1)\n"
   ]
  },
  {
   "cell_type": "code",
   "execution_count": null,
   "metadata": {},
   "outputs": [],
   "source": [
    "mse, mae = model.evaluate(x_test, y_test, verbose = False)\n",
    "rmse = np.sqrt(mse)\n",
    "mse,rmse, mae"
   ]
  },
  {
   "cell_type": "code",
   "execution_count": null,
   "metadata": {},
   "outputs": [],
   "source": [
    "# x_test의 3장을 예측해보시오\n",
    "pred = model.predict(x_test[:3,:])\n",
    "real = y_test[:3]\n",
    "print(model.predict(x_test[:3,:]))\n",
    "print('실제집값 :', y_test[:3])\n"
   ]
  },
  {
   "cell_type": "code",
   "execution_count": null,
   "metadata": {},
   "outputs": [],
   "source": [
    "pred =pred.reshape(3)\n"
   ]
  },
  {
   "cell_type": "code",
   "execution_count": null,
   "metadata": {},
   "outputs": [],
   "source": [
    "import numpy as np\n",
    "np.corrcoef(pred,real)"
   ]
  },
  {
   "cell_type": "code",
   "execution_count": null,
   "metadata": {},
   "outputs": [],
   "source": [
    "        "
   ]
  },
  {
   "cell_type": "code",
   "execution_count": null,
   "metadata": {},
   "outputs": [],
   "source": [
    "#scikits -- keras 를 연결: kerasclassifier, kerasRegressor\n",
    "import numpy\n",
    "from sklearn.model_selection import GridSearchCV\n",
    "from keras.models import Sequential\n",
    "from keras.layers import Dense\n",
    "from keras.wrappers.scikit_learn import KerasClassifier"
   ]
  },
  {
   "cell_type": "code",
   "execution_count": null,
   "metadata": {},
   "outputs": [],
   "source": [
    "#768 x 9=>768,8 독립변수,   768,1 종속변수\n",
    "#입력 8개 \n",
    "def create_model():\n",
    "    model = Sequential()\n",
    "    #8 x 12 => 768 x 12=>\n",
    "    model.add(Dense(12, input_dim=8, activation=\"relu\"))\n",
    "    #768 x 12=>768 X 1\n",
    "    model.add(Dense(1, activation=\"sigmoid\")) #0~1\n",
    "    model.compile(loss=\"binary_crossentropy\", optimizer=\"adam\", metrics=[\"accuracy\"])\n",
    "    return model\n",
    "\n",
    "seed = 7\n",
    "numpy.random.seed(seed)\n",
    "dataset = numpy.loadtxt(\"pima.csv\", delimiter=\",\")\n",
    "print(dataset.shape)\n",
    "X = dataset[:, 0:8]\n",
    "Y = dataset[:, 8] #종속변수 1개\n",
    "model = KerasClassifier(build_fn=create_model, verbose=0)"
   ]
  },
  {
   "cell_type": "code",
   "execution_count": null,
   "metadata": {},
   "outputs": [],
   "source": [
    "#파라미터 조합\n",
    "batch_size=[10,20,40,60,80,100]\n",
    "epochs=[10,50,100]\n",
    "\n",
    "#매개변수입력 형태는 dictionary\n",
    "param_grid=dict(batch_size=batch_size,epochs=epochs)\n",
    "grid=GridSearchCV(estimator=model,param_grid=param_grid,n_jobs=-1) #참여하는 cpu 개수 -1: 다 참여\n",
    "grid_result=grid.fit(X,Y)\n",
    "print('최적스코어:%f 사용한 파라미터조합: %s'%(\n",
    "grid_result.best_score_,grid_result.best_params_))\n",
    "means=grid_result.cv_results_['mean_test_score']\n",
    "stds=grid_result.cv_results_['std_test_score']\n",
    "params=grid_result.cv_results_['params']\n",
    "for mean,stdev,param in zip(means,stds,params):\n",
    "    print('%f (%f) with:%r' % (mean,stdev,param))"
   ]
  },
  {
   "cell_type": "code",
   "execution_count": null,
   "metadata": {},
   "outputs": [],
   "source": [
    "#Dense2:가중치 초기화 (kernel_initializer)매개변수를 넣고 이를 테스트 해서 가장 최적의 가중치 초기화 파라미터\n",
    "#를 결정하시오\n",
    "\n",
    "\n",
    "#Dense1:activation 함수를 달아주고\n",
    "\n",
    "#의 조합중 가장 좋은 activation 함수를 결정하시오"
   ]
  }
 ],
 "metadata": {
  "kernelspec": {
   "display_name": "Python 3",
   "language": "python",
   "name": "python3"
  },
  "language_info": {
   "codemirror_mode": {
    "name": "ipython",
    "version": 3
   },
   "file_extension": ".py",
   "mimetype": "text/x-python",
   "name": "python",
   "nbconvert_exporter": "python",
   "pygments_lexer": "ipython3",
   "version": "3.7.4"
  }
 },
 "nbformat": 4,
 "nbformat_minor": 2
}
