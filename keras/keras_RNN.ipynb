{
  "nbformat": 4,
  "nbformat_minor": 0,
  "metadata": {
    "colab": {
      "name": "keras_RNN.ipynb",
      "provenance": [],
      "collapsed_sections": [],
      "toc_visible": true
    },
    "kernelspec": {
      "name": "python3",
      "display_name": "Python 3"
    },
    "accelerator": "GPU"
  },
  "cells": [
    {
      "cell_type": "code",
      "metadata": {
        "id": "TNWMtA402YUR",
        "colab_type": "code",
        "outputId": "602f3f21-fa7f-4ade-efb1-7ac72a749069",
        "colab": {
          "base_uri": "https://localhost:8080/",
          "height": 35
        }
      },
      "source": [
        "%matplotlib inline \n",
        "\n",
        "import numpy \n",
        "import matplotlib.pyplot as plt\n",
        "import pandas\n",
        "import math\n",
        "from keras.models import Sequential\n",
        "from keras.layers import Dense\n",
        "\n",
        "numpy.random.seed(7)\n",
        "dataframe = pandas.read_csv('passengers.csv', usecols = [1],  # 1번만 읽어 드린다. \n",
        "                            engine = 'python', skipfooter = 3)\n",
        "dataset = dataframe.values\n",
        "dataset = dataset.astype('float32')\n",
        "train_size = int(len(dataset)*0.67)\n",
        "test_size = len(dataset) - train_size\n",
        "train, test = dataset[0:train_size, :], dataset[train_size:len(dataset), :]\n",
        "print(len(train), len(test))"
      ],
      "execution_count": 0,
      "outputs": [
        {
          "output_type": "stream",
          "text": [
            "96 48\n"
          ],
          "name": "stdout"
        }
      ]
    },
    {
      "cell_type": "code",
      "metadata": {
        "id": "IzwU55Fd3aj7",
        "colab_type": "code",
        "colab": {}
      },
      "source": [
        "# , window size로 독립변수와 종속변수를 분리 한다. \n",
        "\n",
        "def create_dataset(dataset, look_back = 1):\n",
        "  dataX, dataY = [], []\n",
        "  for i in range(len(dataset) - look_back - 1):\n",
        "    a = dataset[i:(i +look_back) , 0]   # 0 ~ 2 까지 . \n",
        "    dataX.append(a)\n",
        "    dataY.append(dataset[i + look_back, 0])  # 마지막 데이터를 Y에 추가해준다. \n",
        "  return numpy.array(dataX), numpy.array(dataY)"
      ],
      "execution_count": 0,
      "outputs": []
    },
    {
      "cell_type": "code",
      "metadata": {
        "id": "wjqH_itB4H7U",
        "colab_type": "code",
        "outputId": "99dc0163-f6e2-429e-db3e-9860a9e3407e",
        "colab": {
          "base_uri": "https://localhost:8080/",
          "height": 1000
        }
      },
      "source": [
        "look_back = 2 \n",
        "# 자기 상관성이 이전 2개를 보면 다음 한개를 알 수 있다. ,\n",
        "# 벡터 1개로 부터 종속변수 독립변수\n",
        "trainX, trainY = create_dataset(train, look_back)\n",
        "testX, testY = create_dataset(test, look_back)\n",
        "print(trainX.shape)  # 전체 사이즈가 줄어든다/ \n",
        "trainX.shape\n",
        "model = Sequential()\n",
        "# 2X8 사이즈 차원확대 \n",
        "model.add(Dense(8, input_dim = look_back, activation='relu'))\n",
        "model.add(Dense(1))\n",
        "model.compile(loss = 'mean_squared_error', optimizer = 'adam')\n",
        "model.fit(trainX, trainY, epochs =200, batch_size = 2, verbose = 2)"
      ],
      "execution_count": 0,
      "outputs": [
        {
          "output_type": "stream",
          "text": [
            "(93, 2)\n",
            "WARNING:tensorflow:From /usr/local/lib/python3.6/dist-packages/keras/backend/tensorflow_backend.py:66: The name tf.get_default_graph is deprecated. Please use tf.compat.v1.get_default_graph instead.\n",
            "\n",
            "WARNING:tensorflow:From /usr/local/lib/python3.6/dist-packages/keras/backend/tensorflow_backend.py:541: The name tf.placeholder is deprecated. Please use tf.compat.v1.placeholder instead.\n",
            "\n",
            "WARNING:tensorflow:From /usr/local/lib/python3.6/dist-packages/keras/backend/tensorflow_backend.py:4432: The name tf.random_uniform is deprecated. Please use tf.random.uniform instead.\n",
            "\n",
            "WARNING:tensorflow:From /usr/local/lib/python3.6/dist-packages/keras/optimizers.py:793: The name tf.train.Optimizer is deprecated. Please use tf.compat.v1.train.Optimizer instead.\n",
            "\n",
            "WARNING:tensorflow:From /usr/local/lib/python3.6/dist-packages/keras/backend/tensorflow_backend.py:1033: The name tf.assign_add is deprecated. Please use tf.compat.v1.assign_add instead.\n",
            "\n",
            "WARNING:tensorflow:From /usr/local/lib/python3.6/dist-packages/keras/backend/tensorflow_backend.py:1020: The name tf.assign is deprecated. Please use tf.compat.v1.assign instead.\n",
            "\n",
            "WARNING:tensorflow:From /usr/local/lib/python3.6/dist-packages/keras/backend/tensorflow_backend.py:3005: The name tf.Session is deprecated. Please use tf.compat.v1.Session instead.\n",
            "\n",
            "Epoch 1/200\n",
            "WARNING:tensorflow:From /usr/local/lib/python3.6/dist-packages/keras/backend/tensorflow_backend.py:190: The name tf.get_default_session is deprecated. Please use tf.compat.v1.get_default_session instead.\n",
            "\n",
            "WARNING:tensorflow:From /usr/local/lib/python3.6/dist-packages/keras/backend/tensorflow_backend.py:197: The name tf.ConfigProto is deprecated. Please use tf.compat.v1.ConfigProto instead.\n",
            "\n",
            "WARNING:tensorflow:From /usr/local/lib/python3.6/dist-packages/keras/backend/tensorflow_backend.py:207: The name tf.global_variables is deprecated. Please use tf.compat.v1.global_variables instead.\n",
            "\n",
            "WARNING:tensorflow:From /usr/local/lib/python3.6/dist-packages/keras/backend/tensorflow_backend.py:216: The name tf.is_variable_initialized is deprecated. Please use tf.compat.v1.is_variable_initialized instead.\n",
            "\n",
            "WARNING:tensorflow:From /usr/local/lib/python3.6/dist-packages/keras/backend/tensorflow_backend.py:223: The name tf.variables_initializer is deprecated. Please use tf.compat.v1.variables_initializer instead.\n",
            "\n",
            " - 1s - loss: 90235.3566\n",
            "Epoch 2/200\n",
            " - 0s - loss: 78757.6683\n",
            "Epoch 3/200\n",
            " - 0s - loss: 70659.4462\n",
            "Epoch 4/200\n",
            " - 0s - loss: 64837.7677\n",
            "Epoch 5/200\n",
            " - 0s - loss: 60585.8644\n",
            "Epoch 6/200\n",
            " - 0s - loss: 57509.6920\n",
            "Epoch 7/200\n",
            " - 0s - loss: 55309.2628\n",
            "Epoch 8/200\n",
            " - 0s - loss: 53697.4973\n",
            "Epoch 9/200\n",
            " - 0s - loss: 52541.0220\n",
            "Epoch 10/200\n",
            " - 0s - loss: 51643.4071\n",
            "Epoch 11/200\n",
            " - 0s - loss: 50883.5132\n",
            "Epoch 12/200\n",
            " - 0s - loss: 50092.7904\n",
            "Epoch 13/200\n",
            " - 0s - loss: 49139.1691\n",
            "Epoch 14/200\n",
            " - 0s - loss: 47781.4953\n",
            "Epoch 15/200\n",
            " - 0s - loss: 45735.9639\n",
            "Epoch 16/200\n",
            " - 0s - loss: 42640.5625\n",
            "Epoch 17/200\n",
            " - 0s - loss: 38283.6710\n",
            "Epoch 18/200\n",
            " - 0s - loss: 32573.4345\n",
            "Epoch 19/200\n",
            " - 0s - loss: 26014.9244\n",
            "Epoch 20/200\n",
            " - 0s - loss: 19142.2661\n",
            "Epoch 21/200\n",
            " - 0s - loss: 13027.3005\n",
            "Epoch 22/200\n",
            " - 0s - loss: 8095.2752\n",
            "Epoch 23/200\n",
            " - 0s - loss: 4764.3830\n",
            "Epoch 24/200\n",
            " - 0s - loss: 2637.5848\n",
            "Epoch 25/200\n",
            " - 0s - loss: 1573.6061\n",
            "Epoch 26/200\n",
            " - 0s - loss: 1020.7338\n",
            "Epoch 27/200\n",
            " - 0s - loss: 804.3133\n",
            "Epoch 28/200\n",
            " - 0s - loss: 712.8076\n",
            "Epoch 29/200\n",
            " - 0s - loss: 681.9175\n",
            "Epoch 30/200\n",
            " - 0s - loss: 668.1178\n",
            "Epoch 31/200\n",
            " - 0s - loss: 667.8569\n",
            "Epoch 32/200\n",
            " - 0s - loss: 664.5019\n",
            "Epoch 33/200\n",
            " - 0s - loss: 661.2987\n",
            "Epoch 34/200\n",
            " - 0s - loss: 669.3569\n",
            "Epoch 35/200\n",
            " - 0s - loss: 667.2886\n",
            "Epoch 36/200\n",
            " - 0s - loss: 663.2024\n",
            "Epoch 37/200\n",
            " - 0s - loss: 663.3912\n",
            "Epoch 38/200\n",
            " - 0s - loss: 660.1211\n",
            "Epoch 39/200\n",
            " - 0s - loss: 662.5754\n",
            "Epoch 40/200\n",
            " - 0s - loss: 662.3717\n",
            "Epoch 41/200\n",
            " - 0s - loss: 665.0469\n",
            "Epoch 42/200\n",
            " - 0s - loss: 660.5851\n",
            "Epoch 43/200\n",
            " - 0s - loss: 659.7638\n",
            "Epoch 44/200\n",
            " - 0s - loss: 659.2945\n",
            "Epoch 45/200\n",
            " - 0s - loss: 658.9588\n",
            "Epoch 46/200\n",
            " - 0s - loss: 658.9329\n",
            "Epoch 47/200\n",
            " - 0s - loss: 670.2056\n",
            "Epoch 48/200\n",
            " - 0s - loss: 658.7067\n",
            "Epoch 49/200\n",
            " - 0s - loss: 660.1178\n",
            "Epoch 50/200\n",
            " - 0s - loss: 661.8603\n",
            "Epoch 51/200\n",
            " - 0s - loss: 660.3944\n",
            "Epoch 52/200\n",
            " - 0s - loss: 656.0677\n",
            "Epoch 53/200\n",
            " - 0s - loss: 656.4447\n",
            "Epoch 54/200\n",
            " - 0s - loss: 655.6088\n",
            "Epoch 55/200\n",
            " - 0s - loss: 654.7896\n",
            "Epoch 56/200\n",
            " - 0s - loss: 654.7404\n",
            "Epoch 57/200\n",
            " - 0s - loss: 661.4115\n",
            "Epoch 58/200\n",
            " - 0s - loss: 655.8867\n",
            "Epoch 59/200\n",
            " - 0s - loss: 655.5496\n",
            "Epoch 60/200\n",
            " - 0s - loss: 653.7392\n",
            "Epoch 61/200\n",
            " - 0s - loss: 659.0785\n",
            "Epoch 62/200\n",
            " - 0s - loss: 655.3303\n",
            "Epoch 63/200\n",
            " - 0s - loss: 657.5697\n",
            "Epoch 64/200\n",
            " - 0s - loss: 658.6497\n",
            "Epoch 65/200\n",
            " - 0s - loss: 652.1349\n",
            "Epoch 66/200\n",
            " - 0s - loss: 658.4006\n",
            "Epoch 67/200\n",
            " - 0s - loss: 652.8842\n",
            "Epoch 68/200\n",
            " - 0s - loss: 650.8353\n",
            "Epoch 69/200\n",
            " - 0s - loss: 648.8154\n",
            "Epoch 70/200\n",
            " - 0s - loss: 648.6376\n",
            "Epoch 71/200\n",
            " - 0s - loss: 652.3473\n",
            "Epoch 72/200\n",
            " - 0s - loss: 654.0792\n",
            "Epoch 73/200\n",
            " - 0s - loss: 649.7485\n",
            "Epoch 74/200\n",
            " - 0s - loss: 649.2552\n",
            "Epoch 75/200\n",
            " - 0s - loss: 648.7526\n",
            "Epoch 76/200\n",
            " - 0s - loss: 649.8604\n",
            "Epoch 77/200\n",
            " - 0s - loss: 655.0815\n",
            "Epoch 78/200\n",
            " - 0s - loss: 643.9729\n",
            "Epoch 79/200\n",
            " - 0s - loss: 650.3393\n",
            "Epoch 80/200\n",
            " - 0s - loss: 645.3789\n",
            "Epoch 81/200\n",
            " - 0s - loss: 646.1676\n",
            "Epoch 82/200\n",
            " - 0s - loss: 643.9145\n",
            "Epoch 83/200\n",
            " - 0s - loss: 645.8032\n",
            "Epoch 84/200\n",
            " - 0s - loss: 642.6761\n",
            "Epoch 85/200\n",
            " - 0s - loss: 640.6749\n",
            "Epoch 86/200\n",
            " - 0s - loss: 646.6449\n",
            "Epoch 87/200\n",
            " - 0s - loss: 644.3227\n",
            "Epoch 88/200\n",
            " - 0s - loss: 644.0102\n",
            "Epoch 89/200\n",
            " - 0s - loss: 644.0109\n",
            "Epoch 90/200\n",
            " - 0s - loss: 641.7874\n",
            "Epoch 91/200\n",
            " - 0s - loss: 644.3410\n",
            "Epoch 92/200\n",
            " - 0s - loss: 644.4820\n",
            "Epoch 93/200\n",
            " - 0s - loss: 637.9987\n",
            "Epoch 94/200\n",
            " - 0s - loss: 644.5425\n",
            "Epoch 95/200\n",
            " - 0s - loss: 637.1307\n",
            "Epoch 96/200\n",
            " - 0s - loss: 639.5982\n",
            "Epoch 97/200\n",
            " - 0s - loss: 634.2568\n",
            "Epoch 98/200\n",
            " - 0s - loss: 650.6245\n",
            "Epoch 99/200\n",
            " - 0s - loss: 654.3158\n",
            "Epoch 100/200\n",
            " - 0s - loss: 632.5240\n",
            "Epoch 101/200\n",
            " - 0s - loss: 637.4401\n",
            "Epoch 102/200\n",
            " - 0s - loss: 638.2831\n",
            "Epoch 103/200\n",
            " - 0s - loss: 631.4355\n",
            "Epoch 104/200\n",
            " - 0s - loss: 643.1011\n",
            "Epoch 105/200\n",
            " - 0s - loss: 641.0525\n",
            "Epoch 106/200\n",
            " - 0s - loss: 633.3320\n",
            "Epoch 107/200\n",
            " - 0s - loss: 627.6491\n",
            "Epoch 108/200\n",
            " - 0s - loss: 639.3018\n",
            "Epoch 109/200\n",
            " - 0s - loss: 632.8842\n",
            "Epoch 110/200\n",
            " - 0s - loss: 639.2322\n",
            "Epoch 111/200\n",
            " - 0s - loss: 640.7749\n",
            "Epoch 112/200\n",
            " - 0s - loss: 634.5773\n",
            "Epoch 113/200\n",
            " - 0s - loss: 630.1122\n",
            "Epoch 114/200\n",
            " - 0s - loss: 627.9959\n",
            "Epoch 115/200\n",
            " - 0s - loss: 620.6892\n",
            "Epoch 116/200\n",
            " - 0s - loss: 626.8814\n",
            "Epoch 117/200\n",
            " - 0s - loss: 629.1142\n",
            "Epoch 118/200\n",
            " - 0s - loss: 633.4483\n",
            "Epoch 119/200\n",
            " - 0s - loss: 630.2889\n",
            "Epoch 120/200\n",
            " - 0s - loss: 620.8209\n",
            "Epoch 121/200\n",
            " - 0s - loss: 621.9547\n",
            "Epoch 122/200\n",
            " - 0s - loss: 626.8497\n",
            "Epoch 123/200\n",
            " - 0s - loss: 621.9842\n",
            "Epoch 124/200\n",
            " - 0s - loss: 626.2652\n",
            "Epoch 125/200\n",
            " - 0s - loss: 626.1786\n",
            "Epoch 126/200\n",
            " - 0s - loss: 632.5650\n",
            "Epoch 127/200\n",
            " - 0s - loss: 628.5266\n",
            "Epoch 128/200\n",
            " - 0s - loss: 618.7157\n",
            "Epoch 129/200\n",
            " - 0s - loss: 619.3422\n",
            "Epoch 130/200\n",
            " - 0s - loss: 615.1155\n",
            "Epoch 131/200\n",
            " - 0s - loss: 616.1550\n",
            "Epoch 132/200\n",
            " - 0s - loss: 618.8184\n",
            "Epoch 133/200\n",
            " - 0s - loss: 626.5880\n",
            "Epoch 134/200\n",
            " - 0s - loss: 607.5206\n",
            "Epoch 135/200\n",
            " - 0s - loss: 618.5099\n",
            "Epoch 136/200\n",
            " - 0s - loss: 615.5090\n",
            "Epoch 137/200\n",
            " - 0s - loss: 614.5491\n",
            "Epoch 138/200\n",
            " - 0s - loss: 613.1558\n",
            "Epoch 139/200\n",
            " - 0s - loss: 608.9357\n",
            "Epoch 140/200\n",
            " - 0s - loss: 608.0799\n",
            "Epoch 141/200\n",
            " - 0s - loss: 612.2511\n",
            "Epoch 142/200\n",
            " - 0s - loss: 613.2186\n",
            "Epoch 143/200\n",
            " - 0s - loss: 614.2699\n",
            "Epoch 144/200\n",
            " - 0s - loss: 606.1794\n",
            "Epoch 145/200\n",
            " - 0s - loss: 610.1773\n",
            "Epoch 146/200\n",
            " - 0s - loss: 607.6103\n",
            "Epoch 147/200\n",
            " - 0s - loss: 605.5340\n",
            "Epoch 148/200\n",
            " - 0s - loss: 602.1805\n",
            "Epoch 149/200\n",
            " - 0s - loss: 611.1505\n",
            "Epoch 150/200\n",
            " - 0s - loss: 612.4890\n",
            "Epoch 151/200\n",
            " - 0s - loss: 613.7367\n",
            "Epoch 152/200\n",
            " - 0s - loss: 604.7385\n",
            "Epoch 153/200\n",
            " - 0s - loss: 605.6192\n",
            "Epoch 154/200\n",
            " - 0s - loss: 603.7688\n",
            "Epoch 155/200\n",
            " - 0s - loss: 599.9143\n",
            "Epoch 156/200\n",
            " - 0s - loss: 605.3417\n",
            "Epoch 157/200\n",
            " - 0s - loss: 598.0990\n",
            "Epoch 158/200\n",
            " - 0s - loss: 598.2181\n",
            "Epoch 159/200\n",
            " - 0s - loss: 602.0668\n",
            "Epoch 160/200\n",
            " - 0s - loss: 599.1470\n",
            "Epoch 161/200\n",
            " - 0s - loss: 596.2028\n",
            "Epoch 162/200\n",
            " - 0s - loss: 599.8940\n",
            "Epoch 163/200\n",
            " - 0s - loss: 593.3319\n",
            "Epoch 164/200\n",
            " - 0s - loss: 592.9537\n",
            "Epoch 165/200\n",
            " - 0s - loss: 605.5654\n",
            "Epoch 166/200\n",
            " - 0s - loss: 609.2277\n",
            "Epoch 167/200\n",
            " - 0s - loss: 592.7274\n",
            "Epoch 168/200\n",
            " - 0s - loss: 599.3296\n",
            "Epoch 169/200\n",
            " - 0s - loss: 589.9559\n",
            "Epoch 170/200\n",
            " - 0s - loss: 598.8024\n",
            "Epoch 171/200\n",
            " - 0s - loss: 590.3442\n",
            "Epoch 172/200\n",
            " - 0s - loss: 589.5827\n",
            "Epoch 173/200\n",
            " - 0s - loss: 596.6209\n",
            "Epoch 174/200\n",
            " - 0s - loss: 604.7145\n",
            "Epoch 175/200\n",
            " - 0s - loss: 588.7003\n",
            "Epoch 176/200\n",
            " - 0s - loss: 587.3581\n",
            "Epoch 177/200\n",
            " - 0s - loss: 584.4788\n",
            "Epoch 178/200\n",
            " - 0s - loss: 592.9904\n",
            "Epoch 179/200\n",
            " - 0s - loss: 585.8754\n",
            "Epoch 180/200\n",
            " - 0s - loss: 587.8060\n",
            "Epoch 181/200\n",
            " - 0s - loss: 595.3078\n",
            "Epoch 182/200\n",
            " - 0s - loss: 584.5052\n",
            "Epoch 183/200\n",
            " - 0s - loss: 587.1125\n",
            "Epoch 184/200\n",
            " - 0s - loss: 581.7845\n",
            "Epoch 185/200\n",
            " - 0s - loss: 584.0022\n",
            "Epoch 186/200\n",
            " - 0s - loss: 587.4269\n",
            "Epoch 187/200\n",
            " - 0s - loss: 582.8804\n",
            "Epoch 188/200\n",
            " - 0s - loss: 578.9716\n",
            "Epoch 189/200\n",
            " - 0s - loss: 585.8043\n",
            "Epoch 190/200\n",
            " - 0s - loss: 588.3060\n",
            "Epoch 191/200\n",
            " - 0s - loss: 579.0606\n",
            "Epoch 192/200\n",
            " - 0s - loss: 584.9457\n",
            "Epoch 193/200\n",
            " - 0s - loss: 601.1682\n",
            "Epoch 194/200\n",
            " - 0s - loss: 573.6928\n",
            "Epoch 195/200\n",
            " - 0s - loss: 574.1772\n",
            "Epoch 196/200\n",
            " - 0s - loss: 573.2479\n",
            "Epoch 197/200\n",
            " - 0s - loss: 575.4872\n",
            "Epoch 198/200\n",
            " - 0s - loss: 572.4327\n",
            "Epoch 199/200\n",
            " - 0s - loss: 585.6557\n",
            "Epoch 200/200\n",
            " - 0s - loss: 576.2467\n"
          ],
          "name": "stdout"
        },
        {
          "output_type": "execute_result",
          "data": {
            "text/plain": [
              "<keras.callbacks.History at 0x7f40e3007710>"
            ]
          },
          "metadata": {
            "tags": []
          },
          "execution_count": 4
        }
      ]
    },
    {
      "cell_type": "code",
      "metadata": {
        "id": "y_VA4JGc44K9",
        "colab_type": "code",
        "outputId": "d929d57b-c787-4254-967a-e1973b66aa15",
        "colab": {
          "base_uri": "https://localhost:8080/",
          "height": 35
        }
      },
      "source": [
        "# 데이터 분할( 시계열 데이터 형태에 일치 시킴 )\n",
        "# house 집값 예측 13, 종속변수 \n",
        "\n",
        "trainScore = model.evaluate(trainX, trainY, verbose=0)\n",
        "print('Train Score: %.2f MSE (%.2f RMSE)' %(trainScore, math.sqrt(trainScore)) )"
      ],
      "execution_count": 0,
      "outputs": [
        {
          "output_type": "stream",
          "text": [
            "Train Score: 564.94 MSE (23.77 RMSE)\n"
          ],
          "name": "stdout"
        }
      ]
    },
    {
      "cell_type": "code",
      "metadata": {
        "id": "fE4APqqV-q8U",
        "colab_type": "code",
        "outputId": "4928e0aa-8798-447b-8db3-0a9e968d440c",
        "colab": {
          "base_uri": "https://localhost:8080/",
          "height": 305
        }
      },
      "source": [
        "!pip install pmdarima"
      ],
      "execution_count": 0,
      "outputs": [
        {
          "output_type": "stream",
          "text": [
            "Collecting pmdarima\n",
            "\u001b[?25l  Downloading https://files.pythonhosted.org/packages/4a/1a/32945c19306212fd08547369f40c8965bbc9e18652bb241766dfab398710/pmdarima-1.5.2-cp36-cp36m-manylinux1_x86_64.whl (1.4MB)\n",
            "\u001b[K     |████████████████████████████████| 1.5MB 3.4MB/s \n",
            "\u001b[?25hRequirement already satisfied: pandas>=0.19 in /usr/local/lib/python3.6/dist-packages (from pmdarima) (0.25.3)\n",
            "Requirement already satisfied: scipy>=1.3 in /usr/local/lib/python3.6/dist-packages (from pmdarima) (1.4.1)\n",
            "Requirement already satisfied: joblib>=0.11 in /usr/local/lib/python3.6/dist-packages (from pmdarima) (0.14.1)\n",
            "Requirement already satisfied: Cython>=0.29 in /usr/local/lib/python3.6/dist-packages (from pmdarima) (0.29.14)\n",
            "Requirement already satisfied: numpy>=1.16 in /usr/local/lib/python3.6/dist-packages (from pmdarima) (1.17.5)\n",
            "Requirement already satisfied: statsmodels>=0.10.0 in /usr/local/lib/python3.6/dist-packages (from pmdarima) (0.10.2)\n",
            "Requirement already satisfied: scikit-learn>=0.19 in /usr/local/lib/python3.6/dist-packages (from pmdarima) (0.22.1)\n",
            "Requirement already satisfied: python-dateutil>=2.6.1 in /usr/local/lib/python3.6/dist-packages (from pandas>=0.19->pmdarima) (2.6.1)\n",
            "Requirement already satisfied: pytz>=2017.2 in /usr/local/lib/python3.6/dist-packages (from pandas>=0.19->pmdarima) (2018.9)\n",
            "Requirement already satisfied: patsy>=0.4.0 in /usr/local/lib/python3.6/dist-packages (from statsmodels>=0.10.0->pmdarima) (0.5.1)\n",
            "Requirement already satisfied: six>=1.5 in /usr/local/lib/python3.6/dist-packages (from python-dateutil>=2.6.1->pandas>=0.19->pmdarima) (1.12.0)\n",
            "Installing collected packages: pmdarima\n",
            "Successfully installed pmdarima-1.5.2\n"
          ],
          "name": "stdout"
        }
      ]
    },
    {
      "cell_type": "code",
      "metadata": {
        "id": "5A3MgKpw8yRs",
        "colab_type": "code",
        "colab": {}
      },
      "source": [
        "import numpy as np \n",
        "import pandas as pd\n",
        "from statsmodels.tsa.statespace.sarimax import SARIMAX\n",
        "from statsmodels.graphics.tsaplots import plot_acf, plot_pacf\n",
        "from statsmodels.tsa.seasonal import seasonal_decompose\n",
        "from pmdarima import auto_arima\n",
        "from sklearn.metrics import mean_squared_error\n",
        "from statsmodels.tools.eval_measures import rmse\n",
        "import warnings\n",
        "warnings.filterwarnings('ignore')"
      ],
      "execution_count": 0,
      "outputs": []
    },
    {
      "cell_type": "code",
      "metadata": {
        "id": "5qetv4K463Il",
        "colab_type": "code",
        "outputId": "37dc6adc-dc9f-406e-bf62-c2696c551539",
        "colab": {
          "base_uri": "https://localhost:8080/",
          "height": 143
        }
      },
      "source": [
        "import pandas as pd\n",
        "df = pd.read_csv(\"austr.csv\",skipfooter=3)\n",
        "df.head()\n",
        "df.info()\n",
        "df.Month = pd.to_datetime(df.Month)   # 시간데이터 --> 문자열로 입력. \n",
        "df.columns = ['Month', 'beer']"
      ],
      "execution_count": 0,
      "outputs": [
        {
          "output_type": "stream",
          "text": [
            "<class 'pandas.core.frame.DataFrame'>\n",
            "RangeIndex: 476 entries, 0 to 475\n",
            "Data columns (total 2 columns):\n",
            "Month                                                                                                                                                               476 non-null object\n",
            "Monthly beer production in Australia: megalitres. Includes ale and stout. Does not include beverages with alcohol percentage less than 1.15. Jan 1956 ? Aug 1995    476 non-null float64\n",
            "dtypes: float64(1), object(1)\n",
            "memory usage: 7.6+ KB\n"
          ],
          "name": "stdout"
        }
      ]
    },
    {
      "cell_type": "code",
      "metadata": {
        "id": "Z2KD3_Gy714p",
        "colab_type": "code",
        "colab": {}
      },
      "source": [
        "df = df.set_index('Month')\n",
        "df.head()\n",
        "df.index.freq = 'MS'\n",
        "\n"
      ],
      "execution_count": 0,
      "outputs": []
    },
    {
      "cell_type": "code",
      "metadata": {
        "id": "maFbLVml78YS",
        "colab_type": "code",
        "outputId": "f66253e8-eb03-48f7-8ccd-2fb74cd6d712",
        "colab": {
          "base_uri": "https://localhost:8080/",
          "height": 368
        }
      },
      "source": [
        "ax = df['beer'].plot(figsize = (16,5), title = \"Monthly Beer Production\")\n",
        "ax.set(xlabel = 'Dates', ylabel = 'Total Production')"
      ],
      "execution_count": 0,
      "outputs": [
        {
          "output_type": "execute_result",
          "data": {
            "text/plain": [
              "[Text(0, 0.5, 'Total Production'), Text(0.5, 0, 'Dates')]"
            ]
          },
          "metadata": {
            "tags": []
          },
          "execution_count": 10
        },
        {
          "output_type": "display_data",
          "data": {
            "image/png": "[encoded data removed]",
            "text/plain": [
              "<Figure size 1152x360 with 1 Axes>"
            ]
          },
          "metadata": {
            "tags": []
          }
        }
      ]
    },
    {
      "cell_type": "code",
      "metadata": {
        "id": "aZdOpl5_9qN_",
        "colab_type": "code",
        "outputId": "0463f996-406e-4944-97b4-fa3b0ca0c6dd",
        "colab": {
          "base_uri": "https://localhost:8080/",
          "height": 297
        }
      },
      "source": [
        "a = seasonal_decompose(df[\"beer\"], model = \"add\")\n",
        "a.plot();"
      ],
      "execution_count": 0,
      "outputs": [
        {
          "output_type": "display_data",
          "data": {
            "image/png": "[encoded data removed]",
            "text/plain": [
              "<Figure size 432x288 with 4 Axes>"
            ]
          },
          "metadata": {
            "tags": []
          }
        }
      ]
    },
    {
      "cell_type": "code",
      "metadata": {
        "id": "eWNEtjBD9yui",
        "colab_type": "code",
        "outputId": "0f1dd886-be83-49eb-85ac-8f2bc660b462",
        "colab": {
          "base_uri": "https://localhost:8080/",
          "height": 460
        }
      },
      "source": [
        "import matplotlib.pyplot as plt\n",
        "\n",
        "plt.figure(figsize=(16,7))\n",
        "a.seasonal.plot()"
      ],
      "execution_count": 0,
      "outputs": [
        {
          "output_type": "execute_result",
          "data": {
            "text/plain": [
              "<matplotlib.axes._subplots.AxesSubplot at 0x7f40cae5c828>"
            ]
          },
          "metadata": {
            "tags": []
          },
          "execution_count": 12
        },
        {
          "output_type": "display_data",
          "data": {
            "image/png": "[encoded data removed]",
            "text/plain": [
              "<Figure size 1152x504 with 1 Axes>"
            ]
          },
          "metadata": {
            "tags": []
          }
        }
      ]
    },
    {
      "cell_type": "code",
      "metadata": {
        "id": "g3CzZnxI96yC",
        "colab_type": "code",
        "outputId": "a7dd9b25-9870-4f60-a520-8536a8ed09ab",
        "colab": {
          "base_uri": "https://localhost:8080/",
          "height": 591
        }
      },
      "source": [
        "# 대문자 P,D,Q  계절성 모델. # 차분 차수. \n",
        "# 소문자 p,d,q  비계절성 모델. \n",
        "auto_arima(df['beer'], seasonal = True, m = 12, max_p =7, max_d = 5, max_q = 7, max_P =4, max_D = 4, max_Q = 4).summary()"
      ],
      "execution_count": 0,
      "outputs": [
        {
          "output_type": "execute_result",
          "data": {
            "text/html": [
              "<table class=\"simpletable\">\n",
              "<caption>Statespace Model Results</caption>\n",
              "<tr>\n",
              "  <th>Dep. Variable:</th>                  <td>y</td>               <th>  No. Observations:  </th>    <td>476</td>   \n",
              "</tr>\n",
              "<tr>\n",
              "  <th>Model:</th>           <td>SARIMAX(2, 1, 3)x(3, 0, 1, 12)</td> <th>  Log Likelihood     </th> <td>-1738.333</td>\n",
              "</tr>\n",
              "<tr>\n",
              "  <th>Date:</th>                   <td>Tue, 11 Feb 2020</td>        <th>  AIC                </th> <td>3498.666</td> \n",
              "</tr>\n",
              "<tr>\n",
              "  <th>Time:</th>                       <td>02:55:52</td>            <th>  BIC                </th> <td>3544.462</td> \n",
              "</tr>\n",
              "<tr>\n",
              "  <th>Sample:</th>                         <td>0</td>               <th>  HQIC               </th> <td>3516.676</td> \n",
              "</tr>\n",
              "<tr>\n",
              "  <th></th>                             <td> - 476</td>             <th>                     </th>     <td> </td>    \n",
              "</tr>\n",
              "<tr>\n",
              "  <th>Covariance Type:</th>               <td>opg</td>              <th>                     </th>     <td> </td>    \n",
              "</tr>\n",
              "</table>\n",
              "<table class=\"simpletable\">\n",
              "<tr>\n",
              "      <td></td>         <th>coef</th>     <th>std err</th>      <th>z</th>      <th>P>|z|</th>  <th>[0.025</th>    <th>0.975]</th>  \n",
              "</tr>\n",
              "<tr>\n",
              "  <th>intercept</th> <td>    0.0012</td> <td>    0.019</td> <td>    0.065</td> <td> 0.948</td> <td>   -0.035</td> <td>    0.038</td>\n",
              "</tr>\n",
              "<tr>\n",
              "  <th>ar.L1</th>     <td>   -1.1476</td> <td>    0.005</td> <td> -216.109</td> <td> 0.000</td> <td>   -1.158</td> <td>   -1.137</td>\n",
              "</tr>\n",
              "<tr>\n",
              "  <th>ar.L2</th>     <td>   -0.9907</td> <td>    0.006</td> <td> -177.999</td> <td> 0.000</td> <td>   -1.002</td> <td>   -0.980</td>\n",
              "</tr>\n",
              "<tr>\n",
              "  <th>ma.L1</th>     <td>    0.2198</td> <td>    0.024</td> <td>    9.030</td> <td> 0.000</td> <td>    0.172</td> <td>    0.268</td>\n",
              "</tr>\n",
              "<tr>\n",
              "  <th>ma.L2</th>     <td>   -0.0084</td> <td>    0.024</td> <td>   -0.352</td> <td> 0.725</td> <td>   -0.055</td> <td>    0.038</td>\n",
              "</tr>\n",
              "<tr>\n",
              "  <th>ma.L3</th>     <td>   -0.8616</td> <td>    0.023</td> <td>  -38.084</td> <td> 0.000</td> <td>   -0.906</td> <td>   -0.817</td>\n",
              "</tr>\n",
              "<tr>\n",
              "  <th>ar.S.L12</th>  <td>    0.9675</td> <td>    0.084</td> <td>   11.579</td> <td> 0.000</td> <td>    0.804</td> <td>    1.131</td>\n",
              "</tr>\n",
              "<tr>\n",
              "  <th>ar.S.L24</th>  <td>    0.0031</td> <td>    0.053</td> <td>    0.059</td> <td> 0.953</td> <td>   -0.100</td> <td>    0.107</td>\n",
              "</tr>\n",
              "<tr>\n",
              "  <th>ar.S.L36</th>  <td>    0.0207</td> <td>    0.063</td> <td>    0.328</td> <td> 0.743</td> <td>   -0.103</td> <td>    0.144</td>\n",
              "</tr>\n",
              "<tr>\n",
              "  <th>ma.S.L12</th>  <td>   -0.7595</td> <td>    0.071</td> <td>  -10.642</td> <td> 0.000</td> <td>   -0.899</td> <td>   -0.620</td>\n",
              "</tr>\n",
              "<tr>\n",
              "  <th>sigma2</th>    <td>   80.5886</td> <td>    4.309</td> <td>   18.700</td> <td> 0.000</td> <td>   72.142</td> <td>   89.035</td>\n",
              "</tr>\n",
              "</table>\n",
              "<table class=\"simpletable\">\n",
              "<tr>\n",
              "  <th>Ljung-Box (Q):</th>          <td>60.23</td> <th>  Jarque-Bera (JB):  </th> <td>36.74</td>\n",
              "</tr>\n",
              "<tr>\n",
              "  <th>Prob(Q):</th>                <td>0.02</td>  <th>  Prob(JB):          </th> <td>0.00</td> \n",
              "</tr>\n",
              "<tr>\n",
              "  <th>Heteroskedasticity (H):</th> <td>3.29</td>  <th>  Skew:              </th> <td>-0.18</td>\n",
              "</tr>\n",
              "<tr>\n",
              "  <th>Prob(H) (two-sided):</th>    <td>0.00</td>  <th>  Kurtosis:          </th> <td>4.32</td> \n",
              "</tr>\n",
              "</table><br/><br/>Warnings:<br/>[1] Covariance matrix calculated using the outer product of gradients (complex-step)."
            ],
            "text/plain": [
              "<class 'statsmodels.iolib.summary.Summary'>\n",
              "\"\"\"\n",
              "                                 Statespace Model Results                                 \n",
              "==========================================================================================\n",
              "Dep. Variable:                                  y   No. Observations:                  476\n",
              "Model:             SARIMAX(2, 1, 3)x(3, 0, 1, 12)   Log Likelihood               -1738.333\n",
              "Date:                            Tue, 11 Feb 2020   AIC                           3498.666\n",
              "Time:                                    02:55:52   BIC                           3544.462\n",
              "Sample:                                         0   HQIC                          3516.676\n",
              "                                            - 476                                         \n",
              "Covariance Type:                              opg                                         \n",
              "==============================================================================\n",
              "                 coef    std err          z      P>|z|      [0.025      0.975]\n",
              "------------------------------------------------------------------------------\n",
              "intercept      0.0012      0.019      0.065      0.948      -0.035       0.038\n",
              "ar.L1         -1.1476      0.005   -216.109      0.000      -1.158      -1.137\n",
              "ar.L2         -0.9907      0.006   -177.999      0.000      -1.002      -0.980\n",
              "ma.L1          0.2198      0.024      9.030      0.000       0.172       0.268\n",
              "ma.L2         -0.0084      0.024     -0.352      0.725      -0.055       0.038\n",
              "ma.L3         -0.8616      0.023    -38.084      0.000      -0.906      -0.817\n",
              "ar.S.L12       0.9675      0.084     11.579      0.000       0.804       1.131\n",
              "ar.S.L24       0.0031      0.053      0.059      0.953      -0.100       0.107\n",
              "ar.S.L36       0.0207      0.063      0.328      0.743      -0.103       0.144\n",
              "ma.S.L12      -0.7595      0.071    -10.642      0.000      -0.899      -0.620\n",
              "sigma2        80.5886      4.309     18.700      0.000      72.142      89.035\n",
              "===================================================================================\n",
              "Ljung-Box (Q):                       60.23   Jarque-Bera (JB):                36.74\n",
              "Prob(Q):                              0.02   Prob(JB):                         0.00\n",
              "Heteroskedasticity (H):               3.29   Skew:                            -0.18\n",
              "Prob(H) (two-sided):                  0.00   Kurtosis:                         4.32\n",
              "===================================================================================\n",
              "\n",
              "Warnings:\n",
              "[1] Covariance matrix calculated using the outer product of gradients (complex-step).\n",
              "\"\"\""
            ]
          },
          "metadata": {
            "tags": []
          },
          "execution_count": 13
        }
      ]
    },
    {
      "cell_type": "code",
      "metadata": {
        "id": "Wk088nmk-QAK",
        "colab_type": "code",
        "outputId": "1f8ef04d-0f1d-4c71-80eb-58121a723f35",
        "colab": {
          "base_uri": "https://localhost:8080/",
          "height": 487
        }
      },
      "source": [
        "# Stata ARIMA 아리마 모형 (비정상적 데이터 분석이 가능)\n",
        "    # seasonal 계절성을 고려한 ARIMA( 비정상적 시계열 )\n",
        "    # AR, MA, ARMA --> 정상성을 띈 시계열 분석 모델. \n",
        "train_data = df[:len(df) - 12]\n",
        "test_data = df[len(df) - 12:]\n",
        "arima_model = SARIMAX(train_data['beer'],\n",
        "                      order = (2,1,3), seasonal_order = (3,0,1,12))\n",
        "arima_result = arima_model.fit()\n",
        "arima_result.summary()\n",
        "# 자기상관성 Ljing -Box\n",
        "# Jarque -Bera  정규 분포의 적합도 정도확인 4.34:3"
      ],
      "execution_count": 0,
      "outputs": [
        {
          "output_type": "execute_result",
          "data": {
            "text/html": [
              "<table class=\"simpletable\">\n",
              "<caption>Statespace Model Results</caption>\n",
              "<tr>\n",
              "  <th>Dep. Variable:</th>                <td>beer</td>              <th>  No. Observations:  </th>    <td>464</td>   \n",
              "</tr>\n",
              "<tr>\n",
              "  <th>Model:</th>           <td>SARIMAX(2, 1, 3)x(3, 0, 1, 12)</td> <th>  Log Likelihood     </th> <td>-1697.293</td>\n",
              "</tr>\n",
              "<tr>\n",
              "  <th>Date:</th>                   <td>Tue, 11 Feb 2020</td>        <th>  AIC                </th> <td>3414.585</td> \n",
              "</tr>\n",
              "<tr>\n",
              "  <th>Time:</th>                       <td>04:14:43</td>            <th>  BIC                </th> <td>3455.963</td> \n",
              "</tr>\n",
              "<tr>\n",
              "  <th>Sample:</th>                    <td>01-01-1956</td>           <th>  HQIC               </th> <td>3430.874</td> \n",
              "</tr>\n",
              "<tr>\n",
              "  <th></th>                          <td>- 08-01-1994</td>          <th>                     </th>     <td> </td>    \n",
              "</tr>\n",
              "<tr>\n",
              "  <th>Covariance Type:</th>               <td>opg</td>              <th>                     </th>     <td> </td>    \n",
              "</tr>\n",
              "</table>\n",
              "<table class=\"simpletable\">\n",
              "<tr>\n",
              "      <td></td>        <th>coef</th>     <th>std err</th>      <th>z</th>      <th>P>|z|</th>  <th>[0.025</th>    <th>0.975]</th>  \n",
              "</tr>\n",
              "<tr>\n",
              "  <th>ar.L1</th>    <td>   -1.1470</td> <td>    0.005</td> <td> -219.730</td> <td> 0.000</td> <td>   -1.157</td> <td>   -1.137</td>\n",
              "</tr>\n",
              "<tr>\n",
              "  <th>ar.L2</th>    <td>   -0.9901</td> <td>    0.006</td> <td> -174.265</td> <td> 0.000</td> <td>   -1.001</td> <td>   -0.979</td>\n",
              "</tr>\n",
              "<tr>\n",
              "  <th>ma.L1</th>    <td>    0.2331</td> <td>    0.026</td> <td>    8.973</td> <td> 0.000</td> <td>    0.182</td> <td>    0.284</td>\n",
              "</tr>\n",
              "<tr>\n",
              "  <th>ma.L2</th>    <td>    0.0026</td> <td>    0.025</td> <td>    0.103</td> <td> 0.918</td> <td>   -0.047</td> <td>    0.053</td>\n",
              "</tr>\n",
              "<tr>\n",
              "  <th>ma.L3</th>    <td>   -0.8571</td> <td>    0.024</td> <td>  -35.408</td> <td> 0.000</td> <td>   -0.905</td> <td>   -0.810</td>\n",
              "</tr>\n",
              "<tr>\n",
              "  <th>ar.S.L12</th> <td>    0.9910</td> <td>    0.081</td> <td>   12.173</td> <td> 0.000</td> <td>    0.831</td> <td>    1.151</td>\n",
              "</tr>\n",
              "<tr>\n",
              "  <th>ar.S.L24</th> <td>   -0.0162</td> <td>    0.055</td> <td>   -0.295</td> <td> 0.768</td> <td>   -0.124</td> <td>    0.092</td>\n",
              "</tr>\n",
              "<tr>\n",
              "  <th>ar.S.L36</th> <td>    0.0163</td> <td>    0.062</td> <td>    0.261</td> <td> 0.794</td> <td>   -0.106</td> <td>    0.139</td>\n",
              "</tr>\n",
              "<tr>\n",
              "  <th>ma.S.L12</th> <td>   -0.7950</td> <td>    0.068</td> <td>  -11.716</td> <td> 0.000</td> <td>   -0.928</td> <td>   -0.662</td>\n",
              "</tr>\n",
              "<tr>\n",
              "  <th>sigma2</th>   <td>   83.0789</td> <td>    4.601</td> <td>   18.059</td> <td> 0.000</td> <td>   74.062</td> <td>   92.096</td>\n",
              "</tr>\n",
              "</table>\n",
              "<table class=\"simpletable\">\n",
              "<tr>\n",
              "  <th>Ljung-Box (Q):</th>          <td>61.49</td> <th>  Jarque-Bera (JB):  </th> <td>32.87</td>\n",
              "</tr>\n",
              "<tr>\n",
              "  <th>Prob(Q):</th>                <td>0.02</td>  <th>  Prob(JB):          </th> <td>0.00</td> \n",
              "</tr>\n",
              "<tr>\n",
              "  <th>Heteroskedasticity (H):</th> <td>3.65</td>  <th>  Skew:              </th> <td>-0.14</td>\n",
              "</tr>\n",
              "<tr>\n",
              "  <th>Prob(H) (two-sided):</th>    <td>0.00</td>  <th>  Kurtosis:          </th> <td>4.27</td> \n",
              "</tr>\n",
              "</table><br/><br/>Warnings:<br/>[1] Covariance matrix calculated using the outer product of gradients (complex-step)."
            ],
            "text/plain": [
              "<class 'statsmodels.iolib.summary.Summary'>\n",
              "\"\"\"\n",
              "                                 Statespace Model Results                                 \n",
              "==========================================================================================\n",
              "Dep. Variable:                               beer   No. Observations:                  464\n",
              "Model:             SARIMAX(2, 1, 3)x(3, 0, 1, 12)   Log Likelihood               -1697.293\n",
              "Date:                            Tue, 11 Feb 2020   AIC                           3414.585\n",
              "Time:                                    04:14:43   BIC                           3455.963\n",
              "Sample:                                01-01-1956   HQIC                          3430.874\n",
              "                                     - 08-01-1994                                         \n",
              "Covariance Type:                              opg                                         \n",
              "==============================================================================\n",
              "                 coef    std err          z      P>|z|      [0.025      0.975]\n",
              "------------------------------------------------------------------------------\n",
              "ar.L1         -1.1470      0.005   -219.730      0.000      -1.157      -1.137\n",
              "ar.L2         -0.9901      0.006   -174.265      0.000      -1.001      -0.979\n",
              "ma.L1          0.2331      0.026      8.973      0.000       0.182       0.284\n",
              "ma.L2          0.0026      0.025      0.103      0.918      -0.047       0.053\n",
              "ma.L3         -0.8571      0.024    -35.408      0.000      -0.905      -0.810\n",
              "ar.S.L12       0.9910      0.081     12.173      0.000       0.831       1.151\n",
              "ar.S.L24      -0.0162      0.055     -0.295      0.768      -0.124       0.092\n",
              "ar.S.L36       0.0163      0.062      0.261      0.794      -0.106       0.139\n",
              "ma.S.L12      -0.7950      0.068    -11.716      0.000      -0.928      -0.662\n",
              "sigma2        83.0789      4.601     18.059      0.000      74.062      92.096\n",
              "===================================================================================\n",
              "Ljung-Box (Q):                       61.49   Jarque-Bera (JB):                32.87\n",
              "Prob(Q):                              0.02   Prob(JB):                         0.00\n",
              "Heteroskedasticity (H):               3.65   Skew:                            -0.14\n",
              "Prob(H) (two-sided):                  0.00   Kurtosis:                         4.27\n",
              "===================================================================================\n",
              "\n",
              "Warnings:\n",
              "[1] Covariance matrix calculated using the outer product of gradients (complex-step).\n",
              "\"\"\""
            ]
          },
          "metadata": {
            "tags": []
          },
          "execution_count": 20
        }
      ]
    },
    {
      "cell_type": "code",
      "metadata": {
        "id": "P_c5En6WFftu",
        "colab_type": "code",
        "outputId": "47f9111a-490b-4407-e7f0-b903261f1f53",
        "colab": {
          "base_uri": "https://localhost:8080/",
          "height": 245
        }
      },
      "source": [
        "arima_pred = arima_result.predict(start = len(train_data), end = len(df) - 1, type = 'levels').rename('ARIMA Predictions')\n",
        "\n",
        "arima_pred"
      ],
      "execution_count": 0,
      "outputs": [
        {
          "output_type": "execute_result",
          "data": {
            "text/plain": [
              "1994-09-01    134.256563\n",
              "1994-10-01    157.377792\n",
              "1994-11-01    179.908988\n",
              "1994-12-01    181.110974\n",
              "1995-01-01    141.262719\n",
              "1995-02-01    139.862042\n",
              "1995-03-01    148.290301\n",
              "1995-04-01    133.375199\n",
              "1995-05-01    137.530604\n",
              "1995-06-01    117.800210\n",
              "1995-07-01    129.328103\n",
              "1995-08-01    140.635141\n",
              "Freq: MS, Name: ARIMA Predictions, dtype: float64"
            ]
          },
          "metadata": {
            "tags": []
          },
          "execution_count": 21
        }
      ]
    },
    {
      "cell_type": "code",
      "metadata": {
        "id": "q072jD1Wd5Q9",
        "colab_type": "code",
        "outputId": "baf34f7d-9125-49c4-d59e-3997afc286a7",
        "colab": {
          "base_uri": "https://localhost:8080/",
          "height": 382
        }
      },
      "source": [
        "test_data['beer'].plot(figsize = (16,5), legend = True)\n",
        "arima_pred.plot(legend = True)"
      ],
      "execution_count": 0,
      "outputs": [
        {
          "output_type": "execute_result",
          "data": {
            "text/plain": [
              "<matplotlib.axes._subplots.AxesSubplot at 0x7f40cae12358>"
            ]
          },
          "metadata": {
            "tags": []
          },
          "execution_count": 22
        },
        {
          "output_type": "display_data",
          "data": {
            "image/png": "[encoded data removed]",
            "text/plain": [
              "<Figure size 1152x360 with 1 Axes>"
            ]
          },
          "metadata": {
            "tags": []
          }
        }
      ]
    },
    {
      "cell_type": "code",
      "metadata": {
        "id": "USOa18bDeJkT",
        "colab_type": "code",
        "colab": {}
      },
      "source": [
        "from sklearn.preprocessing import MinMaxScaler\n",
        "scaler = MinMaxScaler()\n",
        "scaler.fit(train_data)\n",
        "scaled_train_data = scaler.transform(train_data)\n",
        "scaled_test_data = scaler.transform(test_data)"
      ],
      "execution_count": 0,
      "outputs": []
    },
    {
      "cell_type": "code",
      "metadata": {
        "id": "Q6pD3YTjeVCF",
        "colab_type": "code",
        "outputId": "838cd9de-e75f-4596-956d-3280d850c350",
        "colab": {
          "base_uri": "https://localhost:8080/",
          "height": 227
        }
      },
      "source": [
        "from keras.preprocessing.sequence import TimeseriesGenerator\n",
        "# 1 2 3 4 5 6 7 8 9 10\n",
        "#\n",
        "import numpy as np\n",
        "# 10개의 데이터를 취한 다음, 2개의 덩어리를 만들어야함\n",
        "# sampling을 선택한다. \n",
        "data = np.array([[i] for i in range(50)])\n",
        "targets = np.array([[i] for i in range(50)])\n",
        "data_gen = TimeseriesGenerator(data, targets, length = 10, sampling_rate = 2, batch_size = 2)\n",
        "assert len(data_gen) == 20\n",
        "batch_0 = data_gen[0]\n",
        "batch_0"
      ],
      "execution_count": 0,
      "outputs": [
        {
          "output_type": "execute_result",
          "data": {
            "text/plain": [
              "(array([[[0],\n",
              "         [2],\n",
              "         [4],\n",
              "         [6],\n",
              "         [8]],\n",
              " \n",
              "        [[1],\n",
              "         [3],\n",
              "         [5],\n",
              "         [7],\n",
              "         [9]]]), array([[10],\n",
              "        [11]]))"
            ]
          },
          "metadata": {
            "tags": []
          },
          "execution_count": 27
        }
      ]
    },
    {
      "cell_type": "code",
      "metadata": {
        "id": "3hK7IsyneROi",
        "colab_type": "code",
        "colab": {}
      },
      "source": [
        "x,y = batch_0"
      ],
      "execution_count": 0,
      "outputs": []
    },
    {
      "cell_type": "code",
      "metadata": {
        "id": "qEq3sfQbiRIU",
        "colab_type": "code",
        "outputId": "ca46e746-ec01-47ab-86d9-42303e699987",
        "colab": {
          "base_uri": "https://localhost:8080/",
          "height": 210
        }
      },
      "source": [
        "x"
      ],
      "execution_count": 0,
      "outputs": [
        {
          "output_type": "execute_result",
          "data": {
            "text/plain": [
              "array([[[0],\n",
              "        [2],\n",
              "        [4],\n",
              "        [6],\n",
              "        [8]],\n",
              "\n",
              "       [[1],\n",
              "        [3],\n",
              "        [5],\n",
              "        [7],\n",
              "        [9]]])"
            ]
          },
          "metadata": {
            "tags": []
          },
          "execution_count": 33
        }
      ]
    },
    {
      "cell_type": "code",
      "metadata": {
        "id": "Q1VvYhYaiSzk",
        "colab_type": "code",
        "outputId": "9870cc40-1d68-4e9e-feb3-1c507455d27a",
        "colab": {
          "base_uri": "https://localhost:8080/",
          "height": 52
        }
      },
      "source": [
        "y"
      ],
      "execution_count": 0,
      "outputs": [
        {
          "output_type": "execute_result",
          "data": {
            "text/plain": [
              "array([[10],\n",
              "       [11]])"
            ]
          },
          "metadata": {
            "tags": []
          },
          "execution_count": 34
        }
      ]
    },
    {
      "cell_type": "code",
      "metadata": {
        "id": "ltNbmhAOhJIF",
        "colab_type": "code",
        "colab": {}
      },
      "source": [
        "from keras.preprocessing.sequence import TimeseriesGenerator\n",
        "n_input = 12\n",
        "n_features = 1\n",
        "generator = TimeseriesGenerator(scaled_train_data, scaled_train_data, length = n_input, batch_size = 1)"
      ],
      "execution_count": 0,
      "outputs": []
    },
    {
      "cell_type": "code",
      "metadata": {
        "id": "WoaJFhHChZWY",
        "colab_type": "code",
        "outputId": "1a4f8b1b-fd32-4afa-cfcb-846d66970abb",
        "colab": {
          "base_uri": "https://localhost:8080/",
          "height": 227
        }
      },
      "source": [
        "\n",
        "from keras.models import Sequential\n",
        "from keras.layers import Dense\n",
        "from keras.layers import LSTM\n",
        "lstm_model = Sequential()\n",
        "lstm_model.add(LSTM(200, activation = 'relu', input_shape = (n_input, n_features)))\n",
        "lstm_model.add(Dense(1))\n",
        "lstm_model.compile(optimizer = 'adam', loss = 'mse')\n",
        "lstm_model.summary()"
      ],
      "execution_count": 0,
      "outputs": [
        {
          "output_type": "stream",
          "text": [
            "Model: \"sequential_2\"\n",
            "_________________________________________________________________\n",
            "Layer (type)                 Output Shape              Param #   \n",
            "=================================================================\n",
            "lstm_1 (LSTM)                (None, 200)               161600    \n",
            "_________________________________________________________________\n",
            "dense_3 (Dense)              (None, 1)                 201       \n",
            "=================================================================\n",
            "Total params: 161,801\n",
            "Trainable params: 161,801\n",
            "Non-trainable params: 0\n",
            "_________________________________________________________________\n"
          ],
          "name": "stdout"
        }
      ]
    },
    {
      "cell_type": "code",
      "metadata": {
        "id": "vhqIvO5niKuL",
        "colab_type": "code",
        "outputId": "bd8d66e4-f3a3-4b03-b542-4bea96f446f5",
        "colab": {
          "base_uri": "https://localhost:8080/",
          "height": 807
        }
      },
      "source": [
        "lstm_model.fit_generator(generator, epochs=20)"
      ],
      "execution_count": 0,
      "outputs": [
        {
          "output_type": "stream",
          "text": [
            "WARNING:tensorflow:From /usr/local/lib/python3.6/dist-packages/tensorflow_core/python/ops/math_grad.py:1424: where (from tensorflow.python.ops.array_ops) is deprecated and will be removed in a future version.\n",
            "Instructions for updating:\n",
            "Use tf.where in 2.0, which has the same broadcast rule as np.where\n",
            "Epoch 1/20\n",
            "452/452 [==============================] - 9s 19ms/step - loss: 0.0249\n",
            "Epoch 2/20\n",
            "452/452 [==============================] - 8s 17ms/step - loss: 0.0142\n",
            "Epoch 3/20\n",
            "452/452 [==============================] - 8s 17ms/step - loss: 0.0090\n",
            "Epoch 4/20\n",
            "452/452 [==============================] - 8s 18ms/step - loss: 0.0079\n",
            "Epoch 5/20\n",
            "452/452 [==============================] - 8s 18ms/step - loss: 0.0083\n",
            "Epoch 6/20\n",
            "452/452 [==============================] - 8s 18ms/step - loss: 0.0077\n",
            "Epoch 7/20\n",
            "452/452 [==============================] - 8s 18ms/step - loss: 0.0076\n",
            "Epoch 8/20\n",
            "452/452 [==============================] - 8s 18ms/step - loss: 0.0069\n",
            "Epoch 9/20\n",
            "452/452 [==============================] - 8s 18ms/step - loss: 0.0069\n",
            "Epoch 10/20\n",
            "452/452 [==============================] - 8s 18ms/step - loss: 0.0068\n",
            "Epoch 11/20\n",
            "452/452 [==============================] - 8s 18ms/step - loss: 0.0076\n",
            "Epoch 12/20\n",
            "452/452 [==============================] - 8s 18ms/step - loss: 0.0066\n",
            "Epoch 13/20\n",
            "452/452 [==============================] - 8s 18ms/step - loss: 0.0066\n",
            "Epoch 14/20\n",
            "452/452 [==============================] - 8s 18ms/step - loss: 0.0063\n",
            "Epoch 15/20\n",
            "452/452 [==============================] - 8s 18ms/step - loss: 0.0062\n",
            "Epoch 16/20\n",
            "452/452 [==============================] - 8s 18ms/step - loss: 0.0066\n",
            "Epoch 17/20\n",
            "452/452 [==============================] - 8s 18ms/step - loss: 0.0063\n",
            "Epoch 18/20\n",
            "452/452 [==============================] - 8s 18ms/step - loss: 0.0064\n",
            "Epoch 19/20\n",
            "452/452 [==============================] - 8s 18ms/step - loss: 0.0063\n",
            "Epoch 20/20\n",
            "452/452 [==============================] - 8s 18ms/step - loss: 0.0065\n"
          ],
          "name": "stdout"
        },
        {
          "output_type": "execute_result",
          "data": {
            "text/plain": [
              "<keras.callbacks.History at 0x7f40cd7302e8>"
            ]
          },
          "metadata": {
            "tags": []
          },
          "execution_count": 35
        }
      ]
    },
    {
      "cell_type": "code",
      "metadata": {
        "id": "5d2SPxbHiefJ",
        "colab_type": "code",
        "outputId": "483e2981-a4d6-45be-f9aa-cebcaa1aac88",
        "colab": {
          "base_uri": "https://localhost:8080/",
          "height": 296
        }
      },
      "source": [
        "losses_lstm = lstm_model.history.history['loss']\n",
        "plt.figure(figsize = (12,4))\n",
        "plt.xlabel('epochs')\n",
        "plt.ylabel('Loss')\n",
        "plt.xticks(np.arange(0,21,1))\n",
        "plt.plot(range(len(losses_lstm)), losses_lstm)"
      ],
      "execution_count": 0,
      "outputs": [
        {
          "output_type": "execute_result",
          "data": {
            "text/plain": [
              "[<matplotlib.lines.Line2D at 0x7f40ca82f2b0>]"
            ]
          },
          "metadata": {
            "tags": []
          },
          "execution_count": 36
        },
        {
          "output_type": "display_data",
          "data": {
            "image/png": "[encoded data removed]",
            "text/plain": [
              "<Figure size 864x288 with 1 Axes>"
            ]
          },
          "metadata": {
            "tags": []
          }
        }
      ]
    },
    {
      "cell_type": "code",
      "metadata": {
        "id": "Fwunkdq4kNf0",
        "colab_type": "code",
        "colab": {}
      },
      "source": [
        "import re\n",
        "import numpy as np\n",
        "from keras.preprocessing.sequence import pad_sequences  # 동일한 사이즈로 맞추기 위한 패딩 \n",
        "from keras.preprocessing.text import one_hot\n",
        "from keras.models import Sequential\n",
        "from keras.layers import Embedding, Flatten, Dense   #vectorization "
      ],
      "execution_count": 0,
      "outputs": []
    },
    {
      "cell_type": "code",
      "metadata": {
        "id": "aA6DrxU_lF84",
        "colab_type": "code",
        "colab": {}
      },
      "source": [
        "docs = ['Well done!', 'Good work', 'Great effort', 'nice work', 'Excellent!',\n",
        "        'Weak', 'Poor effort!', 'not good', 'poor work', 'Could have done better.']\n",
        "\n",
        "\n",
        "labels = [1, 1, 1, 1, 1, 0, 0, 0, 0, 0] \n",
        "\n"
      ],
      "execution_count": 0,
      "outputs": []
    },
    {
      "cell_type": "code",
      "metadata": {
        "id": "6HA1nb9ulh05",
        "colab_type": "code",
        "outputId": "c6de6fb6-3fe9-47d6-bf76-57442f195276",
        "colab": {
          "base_uri": "https://localhost:8080/",
          "height": 35
        }
      },
      "source": [
        "# 중요 단어 10개 :dictionary\n",
        "# \n",
        "own_embedding_vocab_size = 10\n",
        "encoded_docs_oe = [one_hot(d, own_embedding_vocab_size) for d in docs]\n",
        "print(encoded_docs_oe)"
      ],
      "execution_count": 0,
      "outputs": [
        {
          "output_type": "stream",
          "text": [
            "[[6, 9], [7, 9], [1, 6], [2, 9], [6], [7], [9, 6], [8, 7], [9, 9], [6, 6, 9, 1]]\n"
          ],
          "name": "stdout"
        }
      ]
    },
    {
      "cell_type": "code",
      "metadata": {
        "id": "mFmFgLN_lwKA",
        "colab_type": "code",
        "outputId": "3a91a6ec-7738-4933-a878-586e24b244fa",
        "colab": {
          "base_uri": "https://localhost:8080/",
          "height": 192
        }
      },
      "source": [
        "maxlen = 5\n",
        "padded_docs_oe = pad_sequences(encoded_docs_oe, maxlen = maxlen, \n",
        "                              padding = 'post')\n",
        "print(padded_docs_oe)"
      ],
      "execution_count": 0,
      "outputs": [
        {
          "output_type": "stream",
          "text": [
            "[[6 9 0 0 0]\n",
            " [7 9 0 0 0]\n",
            " [1 6 0 0 0]\n",
            " [2 9 0 0 0]\n",
            " [6 0 0 0 0]\n",
            " [7 0 0 0 0]\n",
            " [9 6 0 0 0]\n",
            " [8 7 0 0 0]\n",
            " [9 9 0 0 0]\n",
            " [6 6 9 1 0]]\n"
          ],
          "name": "stdout"
        }
      ]
    },
    {
      "cell_type": "code",
      "metadata": {
        "id": "R5KYe3Ykl8Bh",
        "colab_type": "code",
        "colab": {}
      },
      "source": [
        "model = Sequential()\n",
        "model.add(Embedding(input_dim = own_embedding_vocab_size,\n",
        "                    output_dim = 32,\n",
        "                    input_length = maxlen))\n",
        "model.add(Flatten())\n",
        "model.add(Dense(1, activation='sigmoid'))"
      ],
      "execution_count": 0,
      "outputs": []
    },
    {
      "cell_type": "code",
      "metadata": {
        "id": "awLIX1YEmRCw",
        "colab_type": "code",
        "outputId": "51124b0c-7b5a-4b97-9b69-7abf889b884d",
        "colab": {
          "base_uri": "https://localhost:8080/",
          "height": 35
        }
      },
      "source": [
        "model.compile(optimizer='adam', loss ='binary_crossentropy', metrics=['acc'])\n",
        "model.fit(padded_docs_oe, labels, epochs= 50, verbose=0)\n",
        "loss, accuracy = model.evaluate(padded_docs_oe, labels, verbose=0)\n",
        "print('Accuracy: %0.3f' % accuracy)"
      ],
      "execution_count": 0,
      "outputs": [
        {
          "output_type": "stream",
          "text": [
            "Accuracy: 0.800\n"
          ],
          "name": "stdout"
        }
      ]
    },
    {
      "cell_type": "code",
      "metadata": {
        "id": "tecZA4EnoZYT",
        "colab_type": "code",
        "colab": {}
      },
      "source": [
        "predictions = model.predict(padded_docs_oe)\n",
        "\n"
      ],
      "execution_count": 0,
      "outputs": []
    },
    {
      "cell_type": "code",
      "metadata": {
        "id": "57ESHMfUopDr",
        "colab_type": "code",
        "outputId": "3b25aa09-0db0-407d-fd43-a9ca97ecd5e0",
        "colab": {
          "base_uri": "https://localhost:8080/",
          "height": 192
        }
      },
      "source": [
        "predictions"
      ],
      "execution_count": 0,
      "outputs": [
        {
          "output_type": "execute_result",
          "data": {
            "text/plain": [
              "array([[0.6146327 ],\n",
              "       [0.5827479 ],\n",
              "       [0.5340282 ],\n",
              "       [0.6120641 ],\n",
              "       [0.57240224],\n",
              "       [0.5396404 ],\n",
              "       [0.42302907],\n",
              "       [0.43472746],\n",
              "       [0.51463544],\n",
              "       [0.3895105 ]], dtype=float32)"
            ]
          },
          "metadata": {
            "tags": []
          },
          "execution_count": 60
        }
      ]
    },
    {
      "cell_type": "code",
      "metadata": {
        "id": "DzdSd_ZhopF5",
        "colab_type": "code",
        "outputId": "2d8977c5-fdc5-446f-bded-ea8e41cffa2b",
        "colab": {
          "base_uri": "https://localhost:8080/",
          "height": 35
        }
      },
      "source": [
        "word = 'Good work'\n",
        "word_docs_oe = [one_hot(word, own_embedding_vocab_size)]\n",
        "word_oe = pad_sequences(word_docs_oe, maxlen = maxlen, padding= 'post')\n",
        "pred = model.predict(word_oe)\n",
        "import numpy as np\n",
        "pred"
      ],
      "execution_count": 0,
      "outputs": [
        {
          "output_type": "execute_result",
          "data": {
            "text/plain": [
              "array([[0.5827479]], dtype=float32)"
            ]
          },
          "metadata": {
            "tags": []
          },
          "execution_count": 62
        }
      ]
    },
    {
      "cell_type": "code",
      "metadata": {
        "id": "R1jsJGNropI2",
        "colab_type": "code",
        "colab": {}
      },
      "source": [
        "# 로이터 뉴스를 카테고리별 분리하기 "
      ],
      "execution_count": 0,
      "outputs": []
    },
    {
      "cell_type": "code",
      "metadata": {
        "id": "0T5mdhGdopMa",
        "colab_type": "code",
        "colab": {}
      },
      "source": [
        "from keras.datasets import reuters\n",
        "from keras.utils import np_utils\n",
        "from keras.preprocessing.text import Tokenizer\n",
        "from  keras.layers import Dropout"
      ],
      "execution_count": 0,
      "outputs": []
    },
    {
      "cell_type": "code",
      "metadata": {
        "id": "gwPol5q7opPi",
        "colab_type": "code",
        "colab": {}
      },
      "source": [
        "max_words = 1000\n",
        "batch_size = 100\n",
        "nb_epoch = 200\n",
        "(X_train, y_train), (X_test, y_test) = reuters.load_data(nb_words = max_words, test_split = 0.2)\n",
        "nb_classes = np.max(y_train) + 1\n",
        "tokenizer = Tokenizer(nb_words = max_words)"
      ],
      "execution_count": 0,
      "outputs": []
    },
    {
      "cell_type": "code",
      "metadata": {
        "id": "4Vg3sA_JopWK",
        "colab_type": "code",
        "colab": {}
      },
      "source": [
        "X_train = tokenizer.sequences_to_matrix(X_train, mode ='binary')\n",
        "X_test = tokenizer.sequences_to_matrix(X_test, mode = 'binary')\n",
        "Y_train = np_utils.to_categorical(y_train, nb_classes)\n",
        "Y_test = np_utils.to_categorical(y_test, nb_classes)\n"
      ],
      "execution_count": 0,
      "outputs": []
    },
    {
      "cell_type": "code",
      "metadata": {
        "id": "QK_rwpJRophx",
        "colab_type": "code",
        "colab": {}
      },
      "source": [
        "model = Sequential()\n",
        "model.add(Dense(512, input_shape = (max_words, ), activation='relu'))\n",
        "model.add(Dropout(0.5))\n",
        "model.add(Dense(nb_classes,activation='softmax' ))\n",
        "model.compile(loss = 'categorical_crossentropy', optimizer='adam', metrics=['accuracy'])"
      ],
      "execution_count": 0,
      "outputs": []
    },
    {
      "cell_type": "code",
      "metadata": {
        "id": "7YxlTURsxX2s",
        "colab_type": "code",
        "outputId": "3e69c3ad-e6dc-4e84-dc5e-05367db1436d",
        "colab": {
          "base_uri": "https://localhost:8080/",
          "height": 105
        }
      },
      "source": [
        "history = model.fit(X_train, Y_train , nb_epoch = nb_epoch, batch_size = batch_size, \n",
        "                    verbose = 0, validation_split=0.1)\n",
        "score = model.evaluate(X_test, Y_test, batch_size=batch_size, verbose = 1)\n",
        "print('\\n\\nModel accuracy: %.2f%%' % (score[1]*100))\n",
        "print('Model loss: %.2f%%' %(score[0]*100))"
      ],
      "execution_count": 0,
      "outputs": [
        {
          "output_type": "stream",
          "text": [
            "2246/2246 [==============================] - 0s 41us/step\n",
            "\n",
            "\n",
            "Model accuracy: 78.23%\n",
            "Model loss: 168.98%\n"
          ],
          "name": "stdout"
        }
      ]
    },
    {
      "cell_type": "code",
      "metadata": {
        "id": "M84G4qeL1Dht",
        "colab_type": "code",
        "outputId": "fefc88a3-f2db-4b97-c261-06baa263f4f1",
        "colab": {
          "base_uri": "https://localhost:8080/",
          "height": 687
        }
      },
      "source": [
        "!pip install konlpy"
      ],
      "execution_count": 0,
      "outputs": [
        {
          "output_type": "stream",
          "text": [
            "Collecting konlpy\n",
            "\u001b[?25l  Downloading https://files.pythonhosted.org/packages/85/0e/f385566fec837c0b83f216b2da65db9997b35dd675e107752005b7d392b1/konlpy-0.5.2-py2.py3-none-any.whl (19.4MB)\n",
            "\u001b[K     |████████████████████████████████| 19.4MB 223kB/s \n",
            "\u001b[?25hCollecting JPype1>=0.7.0\n",
            "\u001b[?25l  Downloading https://files.pythonhosted.org/packages/04/90/a94a55a58edfd67360fef85894bfb136a2c28b2cc7227d3a44dc508d5900/JPype1-0.7.1-cp36-cp36m-manylinux1_x86_64.whl (2.3MB)\n",
            "\u001b[K     |████████████████████████████████| 2.3MB 44.8MB/s \n",
            "\u001b[?25hCollecting colorama\n",
            "  Downloading https://files.pythonhosted.org/packages/c9/dc/45cdef1b4d119eb96316b3117e6d5708a08029992b2fee2c143c7a0a5cc5/colorama-0.4.3-py2.py3-none-any.whl\n",
            "Requirement already satisfied: lxml>=4.1.0 in /usr/local/lib/python3.6/dist-packages (from konlpy) (4.2.6)\n",
            "Collecting beautifulsoup4==4.6.0\n",
            "\u001b[?25l  Downloading https://files.pythonhosted.org/packages/9e/d4/10f46e5cfac773e22707237bfcd51bbffeaf0a576b0a847ec7ab15bd7ace/beautifulsoup4-4.6.0-py3-none-any.whl (86kB)\n",
            "\u001b[K     |████████████████████████████████| 92kB 9.0MB/s \n",
            "\u001b[?25hCollecting tweepy>=3.7.0\n",
            "  Downloading https://files.pythonhosted.org/packages/36/1b/2bd38043d22ade352fc3d3902cf30ce0e2f4bf285be3b304a2782a767aec/tweepy-3.8.0-py2.py3-none-any.whl\n",
            "Requirement already satisfied: numpy>=1.6 in /usr/local/lib/python3.6/dist-packages (from konlpy) (1.17.5)\n",
            "Requirement already satisfied: requests>=2.11.1 in /usr/local/lib/python3.6/dist-packages (from tweepy>=3.7.0->konlpy) (2.21.0)\n",
            "Requirement already satisfied: requests-oauthlib>=0.7.0 in /usr/local/lib/python3.6/dist-packages (from tweepy>=3.7.0->konlpy) (1.3.0)\n",
            "Requirement already satisfied: PySocks>=1.5.7 in /usr/local/lib/python3.6/dist-packages (from tweepy>=3.7.0->konlpy) (1.7.1)\n",
            "Requirement already satisfied: six>=1.10.0 in /usr/local/lib/python3.6/dist-packages (from tweepy>=3.7.0->konlpy) (1.12.0)\n",
            "Requirement already satisfied: certifi>=2017.4.17 in /usr/local/lib/python3.6/dist-packages (from requests>=2.11.1->tweepy>=3.7.0->konlpy) (2019.11.28)\n",
            "Requirement already satisfied: urllib3<1.25,>=1.21.1 in /usr/local/lib/python3.6/dist-packages (from requests>=2.11.1->tweepy>=3.7.0->konlpy) (1.24.3)\n",
            "Requirement already satisfied: chardet<3.1.0,>=3.0.2 in /usr/local/lib/python3.6/dist-packages (from requests>=2.11.1->tweepy>=3.7.0->konlpy) (3.0.4)\n",
            "Requirement already satisfied: idna<2.9,>=2.5 in /usr/local/lib/python3.6/dist-packages (from requests>=2.11.1->tweepy>=3.7.0->konlpy) (2.8)\n",
            "Requirement already satisfied: oauthlib>=3.0.0 in /usr/local/lib/python3.6/dist-packages (from requests-oauthlib>=0.7.0->tweepy>=3.7.0->konlpy) (3.1.0)\n",
            "Installing collected packages: JPype1, colorama, beautifulsoup4, tweepy, konlpy\n",
            "  Found existing installation: beautifulsoup4 4.6.3\n",
            "    Uninstalling beautifulsoup4-4.6.3:\n",
            "      Successfully uninstalled beautifulsoup4-4.6.3\n",
            "  Found existing installation: tweepy 3.6.0\n",
            "    Uninstalling tweepy-3.6.0:\n",
            "      Successfully uninstalled tweepy-3.6.0\n",
            "Successfully installed JPype1-0.7.1 beautifulsoup4-4.6.0 colorama-0.4.3 konlpy-0.5.2 tweepy-3.8.0\n"
          ],
          "name": "stdout"
        },
        {
          "output_type": "display_data",
          "data": {
            "application/vnd.colab-display-data+json": {
              "pip_warning": {
                "packages": [
                  "bs4"
                ]
              }
            }
          },
          "metadata": {
            "tags": []
          }
        }
      ]
    },
    {
      "cell_type": "code",
      "metadata": {
        "id": "XSK8ApZI1Dg5",
        "colab_type": "code",
        "colab": {}
      },
      "source": [
        ""
      ],
      "execution_count": 0,
      "outputs": []
    },
    {
      "cell_type": "code",
      "metadata": {
        "id": "_j1HZqjJzfle",
        "colab_type": "code",
        "colab": {}
      },
      "source": [
        "# wordcloud\n",
        "\n",
        "import requests\n",
        "from bs4 import BeautifulSoup\n",
        "from wordcloud import WordCloud\n",
        "import matplotlib.pyplot as plt\n",
        "import nltk\n",
        "from konlpy.tag import Twitter\n",
        "res = requests.get('https://sports.news.naver.com/news.nhn?oid=109&aid=0004164151')\n"
      ],
      "execution_count": 0,
      "outputs": []
    },
    {
      "cell_type": "code",
      "metadata": {
        "id": "Rg0F8WoJ1Apc",
        "colab_type": "code",
        "colab": {}
      },
      "source": [
        "soup = BeautifulSoup(res.content, 'html.parser')\n",
        "body = soup.select('.newscenter')[0]\n",
        "text = ' '.join(p.get_text() for p in body.find_all('p'))\n",
        "text = body.get_text()\n",
        "t = Twitter()\n",
        "tokens_ko = t.nouns(text)\n",
        "ko = nltk.Text(tokens_ko, name = '스포츠')\n",
        "ko.vocab().most_common(10)\n",
        "data = ko.vocab().most_common(500)\n",
        "tmp_data = dict(data)"
      ],
      "execution_count": 0,
      "outputs": []
    },
    {
      "cell_type": "code",
      "metadata": {
        "id": "f-J0SFdt5lfl",
        "colab_type": "code",
        "colab": {}
      },
      "source": [
        "FONT_PATH = os.environ.get(\"FONT_PATH\", \"/Library/Fonts/NanumMyeongjo.ttf\")"
      ],
      "execution_count": 0,
      "outputs": []
    },
    {
      "cell_type": "code",
      "metadata": {
        "id": "JbYvRh2V5lel",
        "colab_type": "code",
        "outputId": "ca2b6bcc-5d6a-4e29-a08c-6c1ab061b172",
        "colab": {
          "base_uri": "https://localhost:8080/",
          "height": 105
        }
      },
      "source": [
        "import os\n",
        "import matplotlib as mpl\n",
        "import matplotlib.pyplot as plt\n",
        "import matplotlib.font_manager as fm\n",
        "%config InlineBackend.figure_format = 'retina'\n",
        "!apt -qq -y install fonts-nanum\n",
        "\n",
        "fontpath = \"/Library/Fonts/NanumMyeongjo.ttf\"\n",
        "font = fm.FontProperties(fname = fontpath, size = 9)\n",
        "plt.rc('font', family = 'NanumMyeongjo')\n",
        "mpl.font_manager._rebuild()"
      ],
      "execution_count": 0,
      "outputs": [
        {
          "output_type": "stream",
          "text": [
            "fonts-nanum is already the newest version (20170925-1).\n",
            "The following package was automatically installed and is no longer required:\n",
            "  libnvidia-common-430\n",
            "Use 'apt autoremove' to remove it.\n",
            "0 upgraded, 0 newly installed, 0 to remove and 25 not upgraded.\n"
          ],
          "name": "stdout"
        }
      ]
    },
    {
      "cell_type": "code",
      "metadata": {
        "id": "ZMqldO_c10aF",
        "colab_type": "code",
        "outputId": "9cb70eb1-a8c4-4dc3-87f2-7cfde5b81d5a",
        "colab": {
          "base_uri": "https://localhost:8080/",
          "height": 466
        }
      },
      "source": [
        "wordcloud = WordCloud(font_path=fontpath,background_color = 'white').generate(' '.join(tmp_data))\n",
        "plt.figure(figsize=(16,8))\n",
        "plt.imshow(wordcloud)\n",
        "plt.axis('off')\n",
        "plt.show()"
      ],
      "execution_count": 0,
      "outputs": [
        {
          "output_type": "display_data",
          "data": {
            "image/png": "[encoded data removed]",
            "text/plain": [
              "<Figure size 1152x576 with 1 Axes>"
            ]
          },
          "metadata": {
            "tags": [],
            "image/png": {
              "width": 884,
              "height": 449
            }
          }
        }
      ]
    },
    {
      "cell_type": "code",
      "metadata": {
        "id": "NvPhJ838RWGx",
        "colab_type": "code",
        "outputId": "cfa0300b-73cc-40df-9013-a96ea70e0afc",
        "colab": {
          "base_uri": "https://localhost:8080/",
          "height": 35
        }
      },
      "source": [
        "import tensorflow.compat.v1 as tf \n",
        "tf.global_variables "
      ],
      "execution_count": 0,
      "outputs": [
        {
          "output_type": "execute_result",
          "data": {
            "text/plain": [
              "<function tensorflow.python.ops.variables.global_variables>"
            ]
          },
          "metadata": {
            "tags": []
          },
          "execution_count": 161
        }
      ]
    },
    {
      "cell_type": "code",
      "metadata": {
        "id": "hAg5Q3KGB_06",
        "colab_type": "code",
        "outputId": "71f80987-6432-4cef-888d-0dd3efe24005",
        "colab": {
          "base_uri": "https://localhost:8080/",
          "height": 113
        }
      },
      "source": [
        "from tensorflow.keras.preprocessing import sequence\n",
        "from tensorflow.keras.preprocessing.sequence import pad_sequences\n",
        "from tensorflow.keras.models import Sequential\n",
        "from tensorflow.keras.layers import Embedding, LSTM, Flatten, Dense, Dropout\n",
        "from tensorflow.keras.datasets import imdb\n",
        "import numpy as np\n",
        "\n",
        "(x_train, y_train), (x_test, y_test) = imdb.load_data( num_words =2000)\n",
        "x_train = sequence.pad_sequences(x_train, maxlen=80)\n",
        "x_test = sequence.pad_sequences(x_test, maxlen=80)"
      ],
      "execution_count": 1,
      "outputs": [
        {
          "output_type": "display_data",
          "data": {
            "text/html": [
              "<p style=\"color: red;\">\n",
              "The default version of TensorFlow in Colab will soon switch to TensorFlow 2.x.<br>\n",
              "We recommend you <a href=\"https://www.tensorflow.org/guide/migrate\" target=\"_blank\">upgrade</a> now \n",
              "or ensure your notebook will continue to use TensorFlow 1.x via the <code>%tensorflow_version 1.x</code> magic:\n",
              "<a href=\"https://colab.research.google.com/notebooks/tensorflow_version.ipynb\" target=\"_blank\">more info</a>.</p>\n"
            ],
            "text/plain": [
              "<IPython.core.display.HTML object>"
            ]
          },
          "metadata": {
            "tags": []
          }
        },
        {
          "output_type": "stream",
          "text": [
            "Downloading data from https://storage.googleapis.com/tensorflow/tf-keras-datasets/imdb.npz\n",
            "17465344/17464789 [==============================] - 0s 0us/step\n"
          ],
          "name": "stdout"
        }
      ]
    },
    {
      "cell_type": "code",
      "metadata": {
        "id": "5Dxmr5PXBcX7",
        "colab_type": "code",
        "colab": {
          "base_uri": "https://localhost:8080/",
          "height": 35
        },
        "outputId": "526b9be1-e826-48f0-9dd8-1a689bf41630"
      },
      "source": [
        "import tensorflow as tf \n",
        "tf.test.gpu_device_name()"
      ],
      "execution_count": 2,
      "outputs": [
        {
          "output_type": "execute_result",
          "data": {
            "text/plain": [
              "'/device:GPU:0'"
            ]
          },
          "metadata": {
            "tags": []
          },
          "execution_count": 2
        }
      ]
    },
    {
      "cell_type": "code",
      "metadata": {
        "id": "0JXF1HpvBcWW",
        "colab_type": "code",
        "colab": {}
      },
      "source": [
        ""
      ],
      "execution_count": 0,
      "outputs": []
    },
    {
      "cell_type": "code",
      "metadata": {
        "id": "31E3w6adO4Eh",
        "colab_type": "code",
        "outputId": "b08088fd-3bb2-4fc4-a07f-a7cf6fe5dfdf",
        "colab": {
          "base_uri": "https://localhost:8080/",
          "height": 195
        }
      },
      "source": [
        "model = Sequential()\n",
        "model.add(Embedding(2000, 128))\n",
        "model.add(LSTM(128, dropout= 0.2, recurrent_dropout =0.2))\n",
        "model.add(Dense(1, activation = 'sigmoid'))\n",
        "model.compile(loss = 'binary_crossentropy',\n",
        "             optimizer = 'adam', metrics=['accuracy'])"
      ],
      "execution_count": 3,
      "outputs": [
        {
          "output_type": "stream",
          "text": [
            "WARNING:tensorflow:From /usr/local/lib/python3.6/dist-packages/tensorflow_core/python/keras/initializers.py:119: calling RandomUniform.__init__ (from tensorflow.python.ops.init_ops) with dtype is deprecated and will be removed in a future version.\n",
            "Instructions for updating:\n",
            "Call initializer instance with the dtype argument instead of passing it to the constructor\n",
            "WARNING:tensorflow:From /usr/local/lib/python3.6/dist-packages/tensorflow_core/python/ops/resource_variable_ops.py:1630: calling BaseResourceVariable.__init__ (from tensorflow.python.ops.resource_variable_ops) with constraint is deprecated and will be removed in a future version.\n",
            "Instructions for updating:\n",
            "If using Keras pass *_constraint arguments to layers.\n",
            "WARNING:tensorflow:From /usr/local/lib/python3.6/dist-packages/tensorflow_core/python/ops/nn_impl.py:183: where (from tensorflow.python.ops.array_ops) is deprecated and will be removed in a future version.\n",
            "Instructions for updating:\n",
            "Use tf.where in 2.0, which has the same broadcast rule as np.where\n"
          ],
          "name": "stdout"
        }
      ]
    },
    {
      "cell_type": "code",
      "metadata": {
        "id": "VehRU7SGPYEG",
        "colab_type": "code",
        "outputId": "a49904c5-54ff-40d7-84ff-a4f5524ba1eb",
        "colab": {
          "base_uri": "https://localhost:8080/",
          "height": 597
        }
      },
      "source": [
        "model.fit( x_train, y_train, batch_size = 32, epochs =15,\n",
        "         validation_data = (x_test, y_test))"
      ],
      "execution_count": 4,
      "outputs": [
        {
          "output_type": "stream",
          "text": [
            "Train on 25000 samples, validate on 25000 samples\n",
            "Epoch 1/15\n",
            "25000/25000 [==============================] - 123s 5ms/sample - loss: 0.4841 - acc: 0.7667 - val_loss: 0.4229 - val_acc: 0.8052\n",
            "Epoch 2/15\n",
            "25000/25000 [==============================] - 121s 5ms/sample - loss: 0.3893 - acc: 0.8270 - val_loss: 0.3938 - val_acc: 0.8201\n",
            "Epoch 3/15\n",
            "25000/25000 [==============================] - 120s 5ms/sample - loss: 0.3505 - acc: 0.8449 - val_loss: 0.3760 - val_acc: 0.8349\n",
            "Epoch 4/15\n",
            "25000/25000 [==============================] - 120s 5ms/sample - loss: 0.3220 - acc: 0.8599 - val_loss: 0.3808 - val_acc: 0.8354\n",
            "Epoch 5/15\n",
            "25000/25000 [==============================] - 120s 5ms/sample - loss: 0.2925 - acc: 0.8735 - val_loss: 0.3736 - val_acc: 0.8394\n",
            "Epoch 6/15\n",
            "25000/25000 [==============================] - 120s 5ms/sample - loss: 0.2718 - acc: 0.8838 - val_loss: 0.3713 - val_acc: 0.8379\n",
            "Epoch 7/15\n",
            "25000/25000 [==============================] - 120s 5ms/sample - loss: 0.2506 - acc: 0.8957 - val_loss: 0.4260 - val_acc: 0.8253\n",
            "Epoch 8/15\n",
            "25000/25000 [==============================] - 120s 5ms/sample - loss: 0.2309 - acc: 0.9045 - val_loss: 0.3895 - val_acc: 0.8288\n",
            "Epoch 9/15\n",
            "25000/25000 [==============================] - 119s 5ms/sample - loss: 0.2142 - acc: 0.9121 - val_loss: 0.4300 - val_acc: 0.8346\n",
            "Epoch 10/15\n",
            "25000/25000 [==============================] - 120s 5ms/sample - loss: 0.1968 - acc: 0.9206 - val_loss: 0.4676 - val_acc: 0.8346\n",
            "Epoch 11/15\n",
            "25000/25000 [==============================] - 119s 5ms/sample - loss: 0.1804 - acc: 0.9290 - val_loss: 0.4822 - val_acc: 0.8310\n",
            "Epoch 12/15\n",
            "25000/25000 [==============================] - 119s 5ms/sample - loss: 0.1616 - acc: 0.9357 - val_loss: 0.4902 - val_acc: 0.8269\n",
            "Epoch 13/15\n",
            "25000/25000 [==============================] - 119s 5ms/sample - loss: 0.1528 - acc: 0.9411 - val_loss: 0.5310 - val_acc: 0.8224\n",
            "Epoch 14/15\n",
            "25000/25000 [==============================] - 119s 5ms/sample - loss: 0.1353 - acc: 0.9484 - val_loss: 0.5836 - val_acc: 0.8262\n",
            "Epoch 15/15\n",
            "25000/25000 [==============================] - 119s 5ms/sample - loss: 0.1218 - acc: 0.9551 - val_loss: 0.6137 - val_acc: 0.8212\n"
          ],
          "name": "stdout"
        },
        {
          "output_type": "execute_result",
          "data": {
            "text/plain": [
              "<tensorflow.python.keras.callbacks.History at 0x7fb5178afd68>"
            ]
          },
          "metadata": {
            "tags": []
          },
          "execution_count": 4
        }
      ]
    },
    {
      "cell_type": "code",
      "metadata": {
        "id": "-9OGAUpHQF7d",
        "colab_type": "code",
        "outputId": "a6484c2a-3cea-41e2-e5e7-84b8776f640e",
        "colab": {
          "base_uri": "https://localhost:8080/",
          "height": 1000
        }
      },
      "source": [
        "dictionary = imdb.get_word_index(path = 'imdb_word_index.json')\n",
        "imdb_key = dictionary.keys()\n",
        "list(imdb_key)"
      ],
      "execution_count": 5,
      "outputs": [
        {
          "output_type": "stream",
          "text": [
            "Downloading data from https://storage.googleapis.com/tensorflow/tf-keras-datasets/imdb_word_index.json\n",
            "1646592/1641221 [==============================] - 0s 0us/step\n"
          ],
          "name": "stdout"
        },
        {
          "output_type": "execute_result",
          "data": {
            "text/plain": [
              "['fawn',\n",
              " 'tsukino',\n",
              " 'nunnery',\n",
              " 'sonja',\n",
              " 'vani',\n",
              " 'woods',\n",
              " 'spiders',\n",
              " 'hanging',\n",
              " 'woody',\n",
              " 'trawling',\n",
              " \"hold's\",\n",
              " 'comically',\n",
              " 'localized',\n",
              " 'disobeying',\n",
              " \"'royale\",\n",
              " \"harpo's\",\n",
              " 'canet',\n",
              " 'aileen',\n",
              " 'acurately',\n",
              " \"diplomat's\",\n",
              " 'rickman',\n",
              " 'arranged',\n",
              " 'rumbustious',\n",
              " 'familiarness',\n",
              " \"spider'\",\n",
              " 'hahahah',\n",
              " \"wood'\",\n",
              " 'transvestism',\n",
              " \"hangin'\",\n",
              " 'bringing',\n",
              " 'seamier',\n",
              " 'wooded',\n",
              " 'bravora',\n",
              " 'grueling',\n",
              " 'wooden',\n",
              " 'wednesday',\n",
              " \"'prix\",\n",
              " 'altagracia',\n",
              " 'circuitry',\n",
              " 'crotch',\n",
              " 'busybody',\n",
              " \"tart'n'tangy\",\n",
              " 'burgade',\n",
              " 'thrace',\n",
              " \"tom's\",\n",
              " 'snuggles',\n",
              " 'francesco',\n",
              " 'complainers',\n",
              " 'templarios',\n",
              " '272',\n",
              " '273',\n",
              " 'zaniacs',\n",
              " '275',\n",
              " 'consenting',\n",
              " 'snuggled',\n",
              " 'inanimate',\n",
              " 'uality',\n",
              " 'bronte',\n",
              " 'errors',\n",
              " 'dialogs',\n",
              " \"yomada's\",\n",
              " \"madman's\",\n",
              " 'dialoge',\n",
              " 'usenet',\n",
              " 'videodrome',\n",
              " \"kid'\",\n",
              " 'pawed',\n",
              " \"'girlfriend'\",\n",
              " \"'pleasure\",\n",
              " \"'reloaded'\",\n",
              " \"kazakos'\",\n",
              " 'rocque',\n",
              " 'mailings',\n",
              " 'brainwashed',\n",
              " 'mcanally',\n",
              " \"tom''\",\n",
              " 'kurupt',\n",
              " 'affiliated',\n",
              " 'babaganoosh',\n",
              " \"noe's\",\n",
              " 'quart',\n",
              " 'kids',\n",
              " 'uplifting',\n",
              " 'controversy',\n",
              " 'kida',\n",
              " 'kidd',\n",
              " \"error'\",\n",
              " 'neurologist',\n",
              " 'spotty',\n",
              " 'cobblers',\n",
              " 'projection',\n",
              " 'fastforwarding',\n",
              " 'sters',\n",
              " \"eggar's\",\n",
              " 'etherything',\n",
              " 'gateshead',\n",
              " 'airball',\n",
              " 'unsinkable',\n",
              " 'stern',\n",
              " \"cervi's\",\n",
              " 'dnd',\n",
              " 'dna',\n",
              " 'insecurity',\n",
              " \"'reboot'\",\n",
              " 'trelkovsky',\n",
              " 'jaekel',\n",
              " 'sidebars',\n",
              " \"sforza's\",\n",
              " 'distortions',\n",
              " 'mutinies',\n",
              " 'sermons',\n",
              " '7ft',\n",
              " 'boobage',\n",
              " \"o'bannon's\",\n",
              " 'populations',\n",
              " 'chulak',\n",
              " 'mesmerize',\n",
              " 'quinnell',\n",
              " 'yahoo',\n",
              " 'meteorologist',\n",
              " 'beswick',\n",
              " 'boorman',\n",
              " 'voicework',\n",
              " \"ster'\",\n",
              " 'blustering',\n",
              " 'hj',\n",
              " 'intake',\n",
              " 'morally',\n",
              " 'jumbling',\n",
              " 'bowersock',\n",
              " \"'porky's'\",\n",
              " 'gershon',\n",
              " 'ludicrosity',\n",
              " 'coprophilia',\n",
              " 'expressively',\n",
              " \"india's\",\n",
              " \"post's\",\n",
              " 'wana',\n",
              " 'wang',\n",
              " 'wand',\n",
              " 'wane',\n",
              " 'edgeways',\n",
              " 'titanium',\n",
              " 'pinta',\n",
              " 'want',\n",
              " 'pinto',\n",
              " 'whoopdedoodles',\n",
              " 'tchaikovsky',\n",
              " 'travel',\n",
              " \"'victory'\",\n",
              " 'copious',\n",
              " 'gouge',\n",
              " \"chapters'\",\n",
              " 'barbra',\n",
              " 'uselessness',\n",
              " \"wan'\",\n",
              " 'assimilated',\n",
              " 'petiot',\n",
              " 'most\\x85and',\n",
              " 'dinosaurs',\n",
              " 'wrong',\n",
              " 'seda',\n",
              " 'stollen',\n",
              " 'sentencing',\n",
              " 'ouroboros',\n",
              " 'assimilates',\n",
              " 'colorfully',\n",
              " 'glenne',\n",
              " 'dongen',\n",
              " 'subplots',\n",
              " 'kiloton',\n",
              " 'chandon',\n",
              " \"effect'\",\n",
              " 'snugly',\n",
              " 'kuei',\n",
              " 'welcomed',\n",
              " 'dishonor',\n",
              " 'concurrence',\n",
              " 'stoicism',\n",
              " \"guys'\",\n",
              " \"beroemd'\",\n",
              " 'butcher',\n",
              " \"melfi's\",\n",
              " 'aargh',\n",
              " 'playhouse',\n",
              " 'wickedly',\n",
              " 'fit',\n",
              " 'labratory',\n",
              " 'lifeline',\n",
              " 'screaming',\n",
              " 'fix',\n",
              " 'cineliterate',\n",
              " 'fic',\n",
              " 'fia',\n",
              " 'fig',\n",
              " 'fmvs',\n",
              " 'fie',\n",
              " 'reentered',\n",
              " 'fin',\n",
              " 'doctresses',\n",
              " 'fil',\n",
              " 'zucker',\n",
              " 'ached',\n",
              " 'counsil',\n",
              " 'paterfamilias',\n",
              " 'songwriter',\n",
              " 'shivam',\n",
              " 'hurting',\n",
              " 'effects',\n",
              " 'slauther',\n",
              " \"'flame'\",\n",
              " 'sommerset',\n",
              " 'interwhined',\n",
              " 'whacking',\n",
              " 'bartok',\n",
              " 'barton',\n",
              " 'frewer',\n",
              " \"fi'\",\n",
              " 'ingrid',\n",
              " 'stribor',\n",
              " 'approporiately',\n",
              " 'wobblyhand',\n",
              " 'tantalisingly',\n",
              " 'ankylosaurus',\n",
              " 'parasites',\n",
              " 'childen',\n",
              " \"jenkins'\",\n",
              " 'metafiction',\n",
              " 'golem',\n",
              " 'indiscretion',\n",
              " \"reeves'\",\n",
              " \"inamorata's\",\n",
              " 'brittannica',\n",
              " 'adapt',\n",
              " \"russo's\",\n",
              " 'guitarists',\n",
              " 'abbott',\n",
              " 'abbots',\n",
              " 'lanisha',\n",
              " 'magickal',\n",
              " 'mattter',\n",
              " \"'willy\",\n",
              " 'pumpkins',\n",
              " 'stuntpeople',\n",
              " 'estimate',\n",
              " 'ugghhh',\n",
              " 'gameplay',\n",
              " \"wern't\",\n",
              " \"n'sync\",\n",
              " 'sickeningly',\n",
              " 'chiara',\n",
              " 'disturbed',\n",
              " 'portmanteau',\n",
              " 'ineffectively',\n",
              " \"duchonvey's\",\n",
              " \"nasty'\",\n",
              " 'purpose',\n",
              " 'lazers',\n",
              " 'lightened',\n",
              " 'kaliganj',\n",
              " 'popularism',\n",
              " \"damme's\",\n",
              " 'stylistics',\n",
              " 'mindgaming',\n",
              " 'spoilerish',\n",
              " \"'corny'\",\n",
              " 'boerner',\n",
              " 'olds',\n",
              " 'bakelite',\n",
              " 'renovated',\n",
              " 'forrester',\n",
              " \"lumiere's\",\n",
              " 'gaskets',\n",
              " 'needed',\n",
              " 'smight',\n",
              " 'master',\n",
              " \"edie's\",\n",
              " 'seeber',\n",
              " 'hiya',\n",
              " 'fuzziness',\n",
              " 'genesis',\n",
              " 'rewards',\n",
              " 'enthrall',\n",
              " \"'about\",\n",
              " \"recollection's\",\n",
              " 'mutilated',\n",
              " 'fatherlands',\n",
              " \"fischer's\",\n",
              " 'positively',\n",
              " '270',\n",
              " 'ahmed',\n",
              " 'zatoichi',\n",
              " 'bannister',\n",
              " 'anniversaries',\n",
              " \"helm's\",\n",
              " \"'work'\",\n",
              " 'exclaimed',\n",
              " \"'unfunny'\",\n",
              " '274',\n",
              " 'feeling',\n",
              " \"wanda's\",\n",
              " 'dolan',\n",
              " '278',\n",
              " 'peacoat',\n",
              " 'brawny',\n",
              " 'mishra',\n",
              " 'worlders',\n",
              " 'protags',\n",
              " 'skullcap',\n",
              " 'dastagir',\n",
              " 'affairs',\n",
              " 'wholesome',\n",
              " 'hymen',\n",
              " 'paramedics',\n",
              " 'unpersons',\n",
              " 'heavyarms',\n",
              " 'affaire',\n",
              " 'coulisses',\n",
              " 'hymer',\n",
              " 'kremlin',\n",
              " 'shipments',\n",
              " 'pixilated',\n",
              " \"'00s\",\n",
              " 'diminishing',\n",
              " 'cinematic',\n",
              " 'resonates',\n",
              " 'simplify',\n",
              " \"nature'\",\n",
              " 'temptresses',\n",
              " 'reverence',\n",
              " 'resonated',\n",
              " 'dailey',\n",
              " '2\\x85',\n",
              " 'treize',\n",
              " 'majo',\n",
              " 'kiya',\n",
              " 'woolnough',\n",
              " 'thanatos',\n",
              " 'sandoval',\n",
              " 'dorama',\n",
              " \"o'shaughnessy\",\n",
              " 'tech',\n",
              " 'fugitives',\n",
              " 'teck',\n",
              " \"'e'\",\n",
              " 'doesn’t',\n",
              " 'purged',\n",
              " 'saying',\n",
              " \"martians'\",\n",
              " 'norliss',\n",
              " 'dickey',\n",
              " 'dicker',\n",
              " \"'sependipity\",\n",
              " 'padded',\n",
              " 'ordell',\n",
              " \"sturges'\",\n",
              " 'independentcritics',\n",
              " 'tempted',\n",
              " \"atkinson's\",\n",
              " 'hounded',\n",
              " 'apace',\n",
              " 'clicked',\n",
              " \"'humor'\",\n",
              " \"martino's\",\n",
              " \"'supporting\",\n",
              " 'warmongering',\n",
              " \"zemeckis's\",\n",
              " 'lube',\n",
              " 'shocky',\n",
              " 'plate',\n",
              " 'plata',\n",
              " 'sturgess',\n",
              " \"nerds'\",\n",
              " 'plato',\n",
              " 'plath',\n",
              " 'platt',\n",
              " 'mcnab',\n",
              " 'clumsiness',\n",
              " 'altogether',\n",
              " 'massacring',\n",
              " 'bicenntinial',\n",
              " 'skaal',\n",
              " 'droning',\n",
              " 'lds',\n",
              " 'jaguar',\n",
              " \"cale's\",\n",
              " 'nicely',\n",
              " 'mummy',\n",
              " \"lot's\",\n",
              " 'patch',\n",
              " 'kerkhof',\n",
              " \"leader's\",\n",
              " \"'movie\",\n",
              " 'uncomfirmed',\n",
              " 'heirloom',\n",
              " 'wrangle',\n",
              " 'emotion\\x85',\n",
              " \"'stargate'\",\n",
              " 'pinoy',\n",
              " 'conchatta',\n",
              " 'broeke',\n",
              " 'advisedly',\n",
              " \"barker's\",\n",
              " 'descours',\n",
              " 'lots',\n",
              " 'lotr',\n",
              " 'irs',\n",
              " 'lott',\n",
              " 'xvi',\n",
              " 'irk',\n",
              " 'irl',\n",
              " 'ira',\n",
              " 'belzer',\n",
              " 'irc',\n",
              " 'ire',\n",
              " 'requisites',\n",
              " 'discipline',\n",
              " 'lyoko',\n",
              " 'extend',\n",
              " 'nature',\n",
              " \"'dickie'\",\n",
              " 'optimist',\n",
              " 'lapping',\n",
              " 'superficial',\n",
              " 'vestment',\n",
              " 'extent',\n",
              " 'tendons',\n",
              " \"heller's\",\n",
              " 'quagmires',\n",
              " 'miyako',\n",
              " 'moocow',\n",
              " \"coles'\",\n",
              " 'lookit',\n",
              " 'ravenously',\n",
              " 'levitating',\n",
              " 'perfunctorily',\n",
              " 'lookin',\n",
              " \"lot'\",\n",
              " 'lookie',\n",
              " 'fearlessly',\n",
              " 'libyan',\n",
              " 'fondles',\n",
              " 'gopher',\n",
              " 'wearying',\n",
              " \"nz's\",\n",
              " 'minuses',\n",
              " 'puposelessly',\n",
              " 'shandling',\n",
              " 'decapitates',\n",
              " 'humming',\n",
              " \"'nother\",\n",
              " 'smackdown',\n",
              " 'underdone',\n",
              " 'frf',\n",
              " 'triviality',\n",
              " 'fro',\n",
              " 'bothers',\n",
              " \"'kensington\",\n",
              " 'much',\n",
              " 'muco',\n",
              " 'wiseguy',\n",
              " \"richie's\",\n",
              " 'tonino',\n",
              " 'unleavened',\n",
              " 'fry',\n",
              " \"'tv'\",\n",
              " 'toning',\n",
              " 'obese',\n",
              " 'sensationalized',\n",
              " 'spiv',\n",
              " 'spit',\n",
              " 'arkin',\n",
              " 'charleton',\n",
              " 'jeon',\n",
              " 'boardroom',\n",
              " 'doubts',\n",
              " 'spin',\n",
              " 'hepo',\n",
              " 'wildcat',\n",
              " 'venoms',\n",
              " 'misconstrues',\n",
              " 'mesmerising',\n",
              " 'misconstrued',\n",
              " 'rescinds',\n",
              " 'prostrate',\n",
              " 'majid',\n",
              " 'climbed',\n",
              " 'canoeing',\n",
              " 'majin',\n",
              " 'animie',\n",
              " 'sylke',\n",
              " 'conditioned',\n",
              " 'waddell',\n",
              " '3\\x85',\n",
              " 'hyperdrive',\n",
              " 'conditioner',\n",
              " 'bricklayer',\n",
              " 'hong',\n",
              " 'memoriam',\n",
              " 'inventively',\n",
              " \"levant's\",\n",
              " 'portobello',\n",
              " 'remand',\n",
              " 'mummified',\n",
              " 'honk',\n",
              " 'spews',\n",
              " 'visitations',\n",
              " 'mummifies',\n",
              " 'cavanaugh',\n",
              " 'zeon',\n",
              " \"jungle's\",\n",
              " 'viertel',\n",
              " 'frenchmen',\n",
              " 'torpedoes',\n",
              " 'schlessinger',\n",
              " 'torpedoed',\n",
              " 'blister',\n",
              " 'cinefest',\n",
              " 'furlough',\n",
              " 'mainsequence',\n",
              " 'mentors',\n",
              " 'academic',\n",
              " 'stillness',\n",
              " 'academia',\n",
              " 'lonelier',\n",
              " 'nibby',\n",
              " \"losers'\",\n",
              " 'cineastes',\n",
              " 'corporate',\n",
              " 'massaging',\n",
              " 'bellow',\n",
              " 'absurdities',\n",
              " 'expetations',\n",
              " 'nyfiken',\n",
              " 'mehras',\n",
              " 'lasse',\n",
              " 'visability',\n",
              " 'militarily',\n",
              " \"elder'\",\n",
              " 'gainsbourg',\n",
              " 'hah',\n",
              " 'hai',\n",
              " 'haj',\n",
              " 'hak',\n",
              " 'hal',\n",
              " 'ham',\n",
              " 'duffer',\n",
              " 'haa',\n",
              " 'had',\n",
              " 'advancement',\n",
              " 'hag',\n",
              " \"hand'\",\n",
              " 'hay',\n",
              " 'mcnamara',\n",
              " \"mozart's\",\n",
              " 'duffel',\n",
              " 'haq',\n",
              " 'har',\n",
              " 'has',\n",
              " 'hat',\n",
              " 'hav',\n",
              " 'haw',\n",
              " 'figtings',\n",
              " 'elders',\n",
              " 'underpanted',\n",
              " 'pninson',\n",
              " 'unequivocally',\n",
              " \"barbara's\",\n",
              " \"bello'\",\n",
              " 'indicative',\n",
              " 'yawnfest',\n",
              " 'hexploitation',\n",
              " \"loder's\",\n",
              " 'sleuthing',\n",
              " \"justin's\",\n",
              " \"'ball\",\n",
              " \"'summer\",\n",
              " \"'demons'\",\n",
              " \"mormon's\",\n",
              " \"laughton's\",\n",
              " 'debell',\n",
              " 'shipyard',\n",
              " 'unabashedly',\n",
              " 'disks',\n",
              " 'crowd',\n",
              " 'crowe',\n",
              " \"vancouver's\",\n",
              " 'mosques',\n",
              " 'crown',\n",
              " 'culpas',\n",
              " 'crows',\n",
              " 'surrell',\n",
              " 'flowless',\n",
              " 'sheirk',\n",
              " \"'three\",\n",
              " \"peterson'\",\n",
              " 'ooverall',\n",
              " 'perchance',\n",
              " 'bottom',\n",
              " 'chabert',\n",
              " 'sneha',\n",
              " 'inhuman',\n",
              " 'ichii',\n",
              " 'ursla',\n",
              " 'completly',\n",
              " 'moviedom',\n",
              " 'raddick',\n",
              " 'brundage',\n",
              " 'brigades',\n",
              " 'starring',\n",
              " \"'goal'\",\n",
              " 'caskets',\n",
              " 'willcock',\n",
              " \"threesome's\",\n",
              " \"mosque'\",\n",
              " \"cover's\",\n",
              " 'spaceships',\n",
              " 'anomalous',\n",
              " 'ptsd',\n",
              " 'shirdan',\n",
              " 'obscenity',\n",
              " 'lemmings',\n",
              " 'duccio',\n",
              " \"levene's\",\n",
              " \"'gorby'\",\n",
              " \"teenager's\",\n",
              " 'marshall',\n",
              " 'honeymoon',\n",
              " 'shoots',\n",
              " 'despised',\n",
              " 'okabasho',\n",
              " 'fabric',\n",
              " 'cannavale',\n",
              " 'raped',\n",
              " \"tutt's\",\n",
              " 'grasping',\n",
              " 'despises',\n",
              " \"thief's\",\n",
              " 'rapes',\n",
              " 'raper',\n",
              " \"eyre'\",\n",
              " 'walchek',\n",
              " \"elmo's\",\n",
              " 'perfumes',\n",
              " 'spurting',\n",
              " \"exposition'\\x85\",\n",
              " 'denoting',\n",
              " 'thesaurus',\n",
              " \"shoot'\",\n",
              " 'bonejack',\n",
              " 'simpsonian',\n",
              " 'hebetude',\n",
              " \"hallow's\",\n",
              " 'desperation\\x85',\n",
              " 'incinerator',\n",
              " 'congratulations',\n",
              " 'humbled',\n",
              " \"else's\",\n",
              " 'trelkovski',\n",
              " \"rape'\",\n",
              " \"'chapters'\",\n",
              " '1600s',\n",
              " 'martian',\n",
              " 'nicest',\n",
              " 'eyred',\n",
              " 'passenger',\n",
              " 'disgrace',\n",
              " 'moderne',\n",
              " 'barrymore',\n",
              " 'yankovich',\n",
              " 'moderns',\n",
              " 'studliest',\n",
              " 'bedsheet',\n",
              " 'decapitation',\n",
              " 'slurring',\n",
              " \"'nunsploitation'\",\n",
              " \"'character'\",\n",
              " 'cambodia',\n",
              " 'rebelious',\n",
              " 'pasadena',\n",
              " 'crowne',\n",
              " \"'bedchamber\",\n",
              " 'conjectural',\n",
              " 'appologize',\n",
              " 'halfassing',\n",
              " 'paycheque',\n",
              " 'palms',\n",
              " \"'islands\",\n",
              " 'hawked',\n",
              " 'palme',\n",
              " 'conservatively',\n",
              " 'larp',\n",
              " 'palma',\n",
              " 'smelling',\n",
              " 'aragorn',\n",
              " 'hawker',\n",
              " 'hawkes',\n",
              " 'explosions',\n",
              " 'loren',\n",
              " \"pyle's\",\n",
              " 'shootout',\n",
              " \"mike's\",\n",
              " \"driscoll's\",\n",
              " 'cogsworth',\n",
              " \"britian's\",\n",
              " 'childs',\n",
              " \"portrait's\",\n",
              " 'chain',\n",
              " 'whoever',\n",
              " 'puttered',\n",
              " 'childe',\n",
              " 'maywether',\n",
              " 'chair',\n",
              " \"rance's\",\n",
              " 'machu',\n",
              " 'ballet',\n",
              " 'grapples',\n",
              " 'summerize',\n",
              " 'freelance',\n",
              " \"andrea's\",\n",
              " '\\x91very',\n",
              " 'coolidge',\n",
              " 'mache',\n",
              " 'balled',\n",
              " 'grappled',\n",
              " 'macha',\n",
              " 'underlining',\n",
              " 'macho',\n",
              " 'oversight',\n",
              " 'machi',\n",
              " 'verbally',\n",
              " 'tenacious',\n",
              " 'windshields',\n",
              " 'paychecks',\n",
              " 'jerk',\n",
              " \"good'\",\n",
              " 'prancer',\n",
              " 'prances',\n",
              " 'olympus',\n",
              " 'lark',\n",
              " 'embark',\n",
              " 'gloomy',\n",
              " 'jehaan',\n",
              " 'turaqui',\n",
              " \"child'\",\n",
              " 'locked',\n",
              " 'pranced',\n",
              " 'exact',\n",
              " 'unattuned',\n",
              " 'minute',\n",
              " 'skewed',\n",
              " 'hodgins',\n",
              " 'skewer',\n",
              " 'think\\x85',\n",
              " 'rosenstein',\n",
              " 'helmit',\n",
              " 'wrestlemanias',\n",
              " 'hindered',\n",
              " \"martha's\",\n",
              " 'cheree',\n",
              " \"pluckin'\",\n",
              " 'ogles',\n",
              " 'heavyweight',\n",
              " 'aada',\n",
              " 'chopping',\n",
              " 'strongboy',\n",
              " 'hegemonic',\n",
              " 'adorns',\n",
              " 'xxth',\n",
              " 'nobuhiro',\n",
              " 'capitães',\n",
              " 'kavogianni',\n",
              " 'antwerp',\n",
              " 'celebrated',\n",
              " 'roarke',\n",
              " 'baggins',\n",
              " 'cheeseburgers',\n",
              " 'matras',\n",
              " \"nineties'\",\n",
              " \"'craig'\",\n",
              " 'celebrates',\n",
              " 'unintentionally',\n",
              " 'drafted',\n",
              " 'climby',\n",
              " '303',\n",
              " 'oldies',\n",
              " 'climbs',\n",
              " 'honour',\n",
              " 'plucking',\n",
              " '305',\n",
              " 'address',\n",
              " 'menjou',\n",
              " \"'freak'\",\n",
              " 'dwindling',\n",
              " 'benson',\n",
              " 'white’s',\n",
              " 'shamelessness',\n",
              " 'impacted',\n",
              " 'upatz',\n",
              " 'cusack',\n",
              " \"flavia's\",\n",
              " 'effette',\n",
              " 'influx',\n",
              " 'boooooooo',\n",
              " 'dimitrova',\n",
              " 'houseman',\n",
              " 'bigas',\n",
              " 'boylen',\n",
              " 'phillipenes',\n",
              " 'fakery',\n",
              " \"grandpa's\",\n",
              " 'darnell',\n",
              " 'undergone',\n",
              " 'handbags',\n",
              " 'perished',\n",
              " 'pooped',\n",
              " 'vigour',\n",
              " 'opposed',\n",
              " 'etude',\n",
              " \"caine's\",\n",
              " 'doozers',\n",
              " 'photojournals',\n",
              " 'perishes',\n",
              " 'constrains',\n",
              " 'migenes',\n",
              " 'consoled',\n",
              " 'alastair',\n",
              " 'wvs',\n",
              " 'ooooooh',\n",
              " 'approving',\n",
              " 'consoles',\n",
              " 'disparagement',\n",
              " 'futureistic',\n",
              " 'rebounding',\n",
              " \"'date\",\n",
              " 'gregoire',\n",
              " 'rutherford',\n",
              " 'americanised',\n",
              " 'novikov',\n",
              " 'following',\n",
              " 'munroe',\n",
              " \"morita'\",\n",
              " 'christenssen',\n",
              " 'oatmeal',\n",
              " 'fossey',\n",
              " 'livered',\n",
              " 'listens',\n",
              " \"'marci\",\n",
              " \"otis's\",\n",
              " 'thanking',\n",
              " 'maude',\n",
              " 'extensions',\n",
              " 'ameteurish',\n",
              " \"commender's\",\n",
              " 'agricultural',\n",
              " 'convincingly',\n",
              " 'fueled',\n",
              " 'mahattan',\n",
              " \"paris's\",\n",
              " 'vulkan',\n",
              " 'stapes',\n",
              " 'odysessy',\n",
              " 'harmon',\n",
              " 'surfing',\n",
              " 'halloran',\n",
              " 'unbelieveably',\n",
              " \"'offed'\",\n",
              " 'quadrant',\n",
              " 'inhabiting',\n",
              " 'nebbish',\n",
              " 'forebears',\n",
              " 'skirmish',\n",
              " 'ocassionally',\n",
              " \"'resist\",\n",
              " 'impactful',\n",
              " 'spicier',\n",
              " 'touristy',\n",
              " \"'football'\",\n",
              " 'webpage',\n",
              " 'exurbia',\n",
              " 'jucier',\n",
              " 'professors',\n",
              " 'structuring',\n",
              " 'jig',\n",
              " 'overlord',\n",
              " 'disconnect',\n",
              " 'sniffle',\n",
              " 'slimeball',\n",
              " 'jia',\n",
              " 'milked',\n",
              " 'banjoes',\n",
              " 'jim',\n",
              " 'workforces',\n",
              " 'jip',\n",
              " 'rotweiller',\n",
              " 'mundaneness',\n",
              " \"'ninja'\",\n",
              " \"dead'\",\n",
              " \"cipriani's\",\n",
              " 'modestly',\n",
              " \"professor'\",\n",
              " 'shacked',\n",
              " 'bashful',\n",
              " 'sorter',\n",
              " 'overpowering',\n",
              " 'workmanlike',\n",
              " 'henpecked',\n",
              " 'sorted',\n",
              " \"jōb's\",\n",
              " \"'always\",\n",
              " \"'baptists\",\n",
              " 'dreamcatchers',\n",
              " \"'silence'\",\n",
              " 'hickory',\n",
              " 'fun\\x97yet',\n",
              " 'breakumentary',\n",
              " 'didn',\n",
              " 'didi',\n",
              " 'pealing',\n",
              " 'dispite',\n",
              " \"italy's\",\n",
              " 'instability',\n",
              " 'quarter',\n",
              " 'quartet',\n",
              " 'padmé',\n",
              " \"'bleedmedry\",\n",
              " 'pahalniuk',\n",
              " 'honduras',\n",
              " 'bursting',\n",
              " \"pablo's\",\n",
              " 'irremediably',\n",
              " 'presages',\n",
              " 'bowlegged',\n",
              " 'dalip',\n",
              " 'entering',\n",
              " 'newsradio',\n",
              " 'presaged',\n",
              " \"giallo's\",\n",
              " 'bouyant',\n",
              " 'amerterish',\n",
              " 'rajni',\n",
              " 'leeves',\n",
              " 'macauley',\n",
              " 'seriously',\n",
              " 'sugercoma',\n",
              " 'grimstead',\n",
              " \"'fairy'\",\n",
              " 'zenda',\n",
              " \"'twins'\",\n",
              " 'realisation',\n",
              " 'highsmith',\n",
              " 'raunchy',\n",
              " 'incentives',\n",
              " 'flatson',\n",
              " 'snooker',\n",
              " 'crazies',\n",
              " 'crazier',\n",
              " 'grandma',\n",
              " 'napunsaktha',\n",
              " 'workmanship',\n",
              " 'reisner',\n",
              " \"sanford's\",\n",
              " '\\x91doña',\n",
              " 'modest',\n",
              " \"everything's\",\n",
              " 'hamer',\n",
              " \"couldn't'\",\n",
              " 'quibble',\n",
              " 'socking',\n",
              " 'tingler',\n",
              " 'gutman',\n",
              " 'lachlan',\n",
              " 'tableaus',\n",
              " 'headbanger',\n",
              " 'spoken',\n",
              " 'cerebrally',\n",
              " \"'road\",\n",
              " 'tableaux',\n",
              " \"proust's\",\n",
              " 'periodical',\n",
              " \"shoveller's\",\n",
              " 'tamara',\n",
              " 'affords',\n",
              " 'concert',\n",
              " \"yara's\",\n",
              " 'someome',\n",
              " 'lingering',\n",
              " \"abraham's\",\n",
              " 'beesley',\n",
              " 'cherbourg',\n",
              " 'kagan',\n",
              " 'snatch',\n",
              " \"miyazaki's\",\n",
              " 'absorbs',\n",
              " \"koltai's\",\n",
              " 'tingled',\n",
              " 'crossroads',\n",
              " 'rehab',\n",
              " 'falworth',\n",
              " 'sequals',\n",
              " ...]"
            ]
          },
          "metadata": {
            "tags": []
          },
          "execution_count": 5
        }
      ]
    },
    {
      "cell_type": "code",
      "metadata": {
        "id": "q3guuOI-TVdu",
        "colab_type": "code",
        "colab": {}
      },
      "source": [
        "# 숙제 \n",
        "# 문제 x_train[1] 문장으로 변환해 보시오. \n",
        "# model.summary 를 해보고 가중치 사이즈를 계산해 보시오. "
      ],
      "execution_count": 0,
      "outputs": []
    },
    {
      "cell_type": "code",
      "metadata": {
        "id": "6Hvp9BnyAkQl",
        "colab_type": "code",
        "colab": {}
      },
      "source": [
        "word = imdb.get_word_index()\n",
        "index_to_word = {}\n",
        "for key, value in word.items():\n",
        "  index_to_word[value] = key\n"
      ],
      "execution_count": 0,
      "outputs": []
    },
    {
      "cell_type": "code",
      "metadata": {
        "id": "oxggoYA3AkEc",
        "colab_type": "code",
        "colab": {
          "base_uri": "https://localhost:8080/",
          "height": 55
        },
        "outputId": "bbb3737b-410f-4f2a-82f4-ec7b480f3c64"
      },
      "source": [
        "print(([list(imdb_key)[x] for x in x_train[1]]))"
      ],
      "execution_count": 11,
      "outputs": [
        {
          "output_type": "stream",
          "text": [
            "['hj', \"'pleasure\", 'nunnery', 'nunnery', \"harpo's\", 'norliss', 'assimilates', 'nunnery', 'stern', 'woods', 'vani', 'golem', 'trawling', 'thrace', 'nunnery', 'photon', \"harpo's\", 'feeling', 'beswick', 'woods', 'beswick', 'kuei', 'comically', 'approporiately', 'welcomed', \"post's\", '273', 'trawling', 'nunnery', 'golem', 'nunnery', 'woods', 'nunnery', 'humbled', 'ugghhh', 'nunnery', 'woods', 'vani', 'nunnery', 'gershon', \"chapters'\", 'conditioned', 'acurately', 'nunnery', 'bravora', 'nunnery', 'being', \"'royale\", 'trawling', 'spiders', 'sturgess', 'babaganoosh', 'rumbustious', \"teenager's\", 'videodrome', \"hetfield's\", 'trawling', 'woody', 'dongen', 'pinto', 'familiarness', 'vani', 'walberg', \"harpo's\", 'canet', 'vani', 'unwelcomed', 'woods', \"hangin'\", 'spiders', '275', 'uselessness', 'tonino', 'grueling', 'cobblers', 'babaganoosh', 'mutilated', 'canet', 'pinto', 'gateshead']\n"
          ],
          "name": "stdout"
        }
      ]
    },
    {
      "cell_type": "code",
      "metadata": {
        "id": "xmE131zqEa5L",
        "colab_type": "code",
        "colab": {
          "base_uri": "https://localhost:8080/",
          "height": 262
        },
        "outputId": "1bc54997-4c81-4da9-b2d4-951e8e7078d1"
      },
      "source": [
        "model.summary()"
      ],
      "execution_count": 12,
      "outputs": [
        {
          "output_type": "stream",
          "text": [
            "Model: \"sequential\"\n",
            "_________________________________________________________________\n",
            "Layer (type)                 Output Shape              Param #   \n",
            "=================================================================\n",
            "embedding (Embedding)        (None, None, 128)         256000    \n",
            "_________________________________________________________________\n",
            "lstm (LSTM)                  (None, 128)               131584    \n",
            "_________________________________________________________________\n",
            "dense (Dense)                (None, 1)                 129       \n",
            "=================================================================\n",
            "Total params: 387,713\n",
            "Trainable params: 387,713\n",
            "Non-trainable params: 0\n",
            "_________________________________________________________________\n"
          ],
          "name": "stdout"
        }
      ]
    },
    {
      "cell_type": "code",
      "metadata": {
        "id": "nleVSrh2EJDc",
        "colab_type": "code",
        "colab": {
          "base_uri": "https://localhost:8080/",
          "height": 35
        },
        "outputId": "505a54dc-c512-4814-e4b7-943abe00cd01"
      },
      "source": [
        "print(x_train.shape)"
      ],
      "execution_count": 13,
      "outputs": [
        {
          "output_type": "stream",
          "text": [
            "(25000, 80)\n"
          ],
          "name": "stdout"
        }
      ]
    },
    {
      "cell_type": "code",
      "metadata": {
        "id": "EjQODcz8EXGs",
        "colab_type": "code",
        "colab": {
          "base_uri": "https://localhost:8080/",
          "height": 35
        },
        "outputId": "ab1e1f2d-2dc9-42ea-f6c1-7a0b0a31ac8e"
      },
      "source": [
        "print(y_train.shape)"
      ],
      "execution_count": 14,
      "outputs": [
        {
          "output_type": "stream",
          "text": [
            "(25000,)\n"
          ],
          "name": "stdout"
        }
      ]
    },
    {
      "cell_type": "code",
      "metadata": {
        "id": "kD75HF6UEZsT",
        "colab_type": "code",
        "colab": {}
      },
      "source": [
        "# 25000 X 80 , 80 X 128 --> 25000 X128\n",
        "# None== 128 --> 128 X 128 \n",
        "# 25000 X 128 , 128 X 128 --> 25000 X 128 \n",
        "# 25000 X 128 , None(128) X 1 --> 25000 X 1..."
      ],
      "execution_count": 0,
      "outputs": []
    }
  ]
}