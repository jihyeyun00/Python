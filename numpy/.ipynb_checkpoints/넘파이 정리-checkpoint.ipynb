{
 "cells": [
  {
   "cell_type": "code",
   "execution_count": null,
   "metadata": {},
   "outputs": [],
   "source": [
    "1차원 벡터 :np.array 를 시행하면 됌. 그래서 차원을 조회하면 (4,)로 원소의 개수\n",
    "가 출력됌 (리스트연산은 append되고, 1차원 벡터연산은 다름(덧셈이 가능))\n",
    "2차원 matrix(행렬):np.array 시행시, 원소를 []로 표현 \n",
    "예)a=[[2,3],[4,5]] ,a.shape=(2,2)\n",
    "\n",
    "reshape 함수가 2차원 matrix 를 1차원 vector 로 바꾸는 함수 \n",
    "예)a=np.array[1,2,3] => a.reshape(1,3) 으로 하면 1행, 3열 의 1차 vector 로 바뀜\n",
    " 또,resahpe 를 이용해서 행렬의 모양도 바꿀수 있음. 2x3을 3x2 로\n",
    "\n",
    "1차원 벡터 c=np.array([1,2,3,4,5]) 이면 c.T 가 안됌 이때는 reshape 를 써서 c.reshape(1,5) 후에 \n",
    "e=c.reshape(1,5)로 한 다음 c.T 로 바꿔줘야 한다. (그러면 5행 1열로 출력)"
   ]
  }
 ],
 "metadata": {
  "kernelspec": {
   "display_name": "Python 3",
   "language": "python",
   "name": "python3"
  },
  "language_info": {
   "codemirror_mode": {
    "name": "ipython",
    "version": 3
   },
   "file_extension": ".py",
   "mimetype": "text/x-python",
   "name": "python",
   "nbconvert_exporter": "python",
   "pygments_lexer": "ipython3",
   "version": "3.7.4"
  }
 },
 "nbformat": 4,
 "nbformat_minor": 2
}
