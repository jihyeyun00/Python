{
 "cells": [
  {
   "cell_type": "markdown",
   "metadata": {},
   "source": [
    "- 초기화 : __init__() => 생성자 함수\n",
    "- 소멸자 : 자동으로 해줌\n",
    "- 변수, 함수 : 맴버 변수 정의 self(*중요), 클래스 함수의 모든 함수의 첫번째인자는 self(*중요), 실시간 추가가능\n",
    "- class 변수 : 공유\n",
    "- 멤버 변수 : self\n",
    "- 지역 변수 : slef(X)"
   ]
  },
  {
   "cell_type": "markdown",
   "metadata": {},
   "source": [
    "### 객체 지향 프로그래밍 (class(꼴) => (instance : 메로리 확보) Object(객체)\n",
    "- class : 멤버 변수(속성) + 멤버 함수(공듀되어짐)\n",
    "- 인스턴스할 때 멤버변수(속성)를 저장하는 공간만 확보"
   ]
  },
  {
   "cell_type": "code",
   "execution_count": 1,
   "metadata": {},
   "outputs": [
    {
     "name": "stdout",
     "output_type": "stream",
     "text": [
      "삼각형의 넓이는 :  100.0\n"
     ]
    }
   ],
   "source": [
    "width = 10\n",
    "height = 20\n",
    "area = 10*20 / 2\n",
    "area = 10*20/2\n",
    "print('삼각형의 넓이는 : ', area)"
   ]
  },
  {
   "cell_type": "code",
   "execution_count": 9,
   "metadata": {},
   "outputs": [
    {
     "name": "stdout",
     "output_type": "stream",
     "text": [
      "10 20 100.0\n"
     ]
    }
   ],
   "source": [
    "class Triangle:\n",
    "    def setData(self, width, height): # 함수를 이용한 초기화\n",
    "        self.width = width\n",
    "        self.height = height\n",
    "        \n",
    "    def area(self): # self:  매개변수 취급은 안함(하지만 넣어줘야함)\n",
    "        return self.width*self.height/2\n",
    "    \n",
    "tri1 = Triangle() # 인스턴스 한다.()함수처럼 초기화\n",
    "tri1.setData(10,20) # 실시간으로 변수 공간 확보\n",
    "\n",
    "print(tri1.width, tri1.height, tri1.area())"
   ]
  },
  {
   "cell_type": "code",
   "execution_count": 10,
   "metadata": {},
   "outputs": [
    {
     "name": "stdout",
     "output_type": "stream",
     "text": [
      "10 20 100.0\n"
     ]
    }
   ],
   "source": [
    "# __init__ : Object에 있는 함수(상속)\n",
    "class Triangle: # 자동으로 Object상속\n",
    "    def __init__(self, width, height): # 초기화함수, 생성자, 강제로 호출불가한 함수, 재정의한 함수\n",
    "        self.width = width\n",
    "        self.height = height\n",
    "        \n",
    "    def area(self):\n",
    "        return self.width*self.height/2\n",
    "    \n",
    "tri1 = Triangle(10, 20)\n",
    "# tri1.__init__(10, 20) 불가, 인스턴스할 때 자동으로 호출\n",
    "\n",
    "\n",
    "print(tri1.width, tri1.height, tri1.area())"
   ]
  },
  {
   "cell_type": "code",
   "execution_count": 11,
   "metadata": {},
   "outputs": [
    {
     "data": {
      "text/plain": [
       "'클래스의 예'"
      ]
     },
     "execution_count": 11,
     "metadata": {},
     "output_type": "execute_result"
    }
   ],
   "source": [
    "# 클래스변수, 멤버변수, 지역변수\n",
    "class MyClass(object): # 선언하는 순간에 메모리에 자리를 잡음\n",
    "    \"\"\"클래스의 예\"\"\"\n",
    "    i = 12345 # 클래스 변수, 공용변수\n",
    "    def __init__(self):\n",
    "        self.i = 54321 # 멤버변수\n",
    "        num = 100 # 지역변수\n",
    "        \n",
    "    def f(self):\n",
    "        return self.i\n",
    "    \n",
    "MyClass.__doc__ # Object의 속성"
   ]
  },
  {
   "cell_type": "code",
   "execution_count": 21,
   "metadata": {},
   "outputs": [
    {
     "name": "stdout",
     "output_type": "stream",
     "text": [
      "12345\n"
     ]
    }
   ],
   "source": [
    "print(MyClass.i) # 인스턴스하지 않고도 호출가능"
   ]
  },
  {
   "cell_type": "code",
   "execution_count": 26,
   "metadata": {},
   "outputs": [
    {
     "name": "stdout",
     "output_type": "stream",
     "text": [
      "54321\n",
      "54321\n"
     ]
    }
   ],
   "source": [
    "myclass = MyClass() # self.i 에 대한 메모리 확보\n",
    "print(myclass.i) # 멤버변수호출\n",
    "print(myclass.f())"
   ]
  },
  {
   "cell_type": "code",
   "execution_count": 24,
   "metadata": {},
   "outputs": [
    {
     "name": "stdout",
     "output_type": "stream",
     "text": [
      "12345\n",
      "54321\n"
     ]
    }
   ],
   "source": [
    "print(MyClass.i)\n",
    "print(MyClass().i) # 참조가 없기 때문에 사용과 동시에 메모리에서 사라짐"
   ]
  },
  {
   "cell_type": "code",
   "execution_count": 1,
   "metadata": {},
   "outputs": [
    {
     "name": "stdout",
     "output_type": "stream",
     "text": [
      "생성 Tue Dec 31 09:23:46 2019\n",
      "Sleeping for 3 sec\n",
      "사망 Tue Dec 31 09:23:49 2019\n"
     ]
    }
   ],
   "source": [
    "from time import time, ctime, sleep # 시간은 초로 관리 ctime(문자열로 convert)\n",
    "\n",
    "class Life:\n",
    "    def __init__(self): # 생성자\n",
    "        self.birth = ctime() # 현재의 시간을 문자열로 변환\n",
    "        print('생성', self.birth)\n",
    "        \n",
    "    def __del__(self): # 소면자 (메모리에서 사라질 때 자동으로 호출)\n",
    "        print('사망', ctime())\n",
    "        \n",
    "    def test(slef):\n",
    "        print('Sleeping for 3 sec')\n",
    "        sleep(3) # 초\n",
    "        \n",
    "li = Life() # 오른쪽은 heap에 저장,왼쪽은 그 주소를 가리키는 stack에 생성\n",
    "li.test()\n",
    "\n",
    "del li # 자동으로 가비지 컬렉션됨\n"
   ]
  },
  {
   "cell_type": "code",
   "execution_count": 2,
   "metadata": {},
   "outputs": [],
   "source": [
    "# 사원관리\n",
    "class Employee:\n",
    "    empCount = 0 # 사원수를 저장\n",
    "    def __init__(self, name, salary):\n",
    "        self.name = name # 이름\n",
    "        self.salary = salary # 급여\n",
    "        Employee.empCount += 1\n",
    "        \n",
    "    def displayCount(self):\n",
    "        print('직원 수 = %d'% Employee.empCount)\n",
    "        \n",
    "    def displayEmployee(self):\n",
    "        print('이름 : ',self.name, ', 급여 : ', self.salary)\n",
    "        \n",
    "    def __call__(self, *pargs, **kargs):\n",
    "        print('Called : ', pargs, kargs)\n"
   ]
  },
  {
   "cell_type": "code",
   "execution_count": 10,
   "metadata": {},
   "outputs": [
    {
     "name": "stdout",
     "output_type": "stream",
     "text": [
      "이름 :  김종호 , 급여 :  500\n",
      "None\n",
      "직원 수 = 3\n",
      "None\n",
      "직원 수 = 4\n",
      "None\n",
      "\n",
      "Called :  (1, 2) {'z': 1}\n",
      "Called :  () {}\n"
     ]
    }
   ],
   "source": [
    "emp = Employee('김종호', 500)\n",
    "print(emp.displayEmployee()) # 대아토룰 담고 있는 위치가 다르기 때문\n",
    "print(emp.displayCount()) # 1\n",
    "\n",
    "emp1 = Employee('빅데타', 500)\n",
    "print(emp1.displayCount()) # 2 공유변수\n",
    "print()\n",
    "emp(1, 2, z=1)\n",
    "emp()\n"
   ]
  },
  {
   "cell_type": "code",
   "execution_count": 4,
   "metadata": {},
   "outputs": [
    {
     "name": "stdout",
     "output_type": "stream",
     "text": [
      "이름 :  김종호 , 급여 :  500\n",
      "None\n",
      "직원 수 = 2\n",
      "None\n",
      "\n",
      "이름 :  빅데타 , 급여 :  500\n",
      "None\n",
      "직원 수 = 2\n",
      "None\n"
     ]
    }
   ],
   "source": [
    "print(emp.displayEmployee())\n",
    "print(emp.displayCount())\n",
    "print()\n",
    "print(emp1.displayEmployee())\n",
    "print(emp1.displayCount())\n"
   ]
  },
  {
   "cell_type": "code",
   "execution_count": 6,
   "metadata": {},
   "outputs": [],
   "source": [
    "emp.age = 7\n",
    "emp1.age = 8"
   ]
  },
  {
   "cell_type": "code",
   "execution_count": 8,
   "metadata": {},
   "outputs": [
    {
     "name": "stdout",
     "output_type": "stream",
     "text": [
      "이름 :  김종호 , 급여 :  500\n",
      "직원 수 = 2\n",
      "Called :  (None, None) {}\n",
      "None\n"
     ]
    }
   ],
   "source": [
    "print(emp.__call__(emp.displayEmployee(), emp.displayCount())) # ?"
   ]
  },
  {
   "cell_type": "code",
   "execution_count": 9,
   "metadata": {},
   "outputs": [
    {
     "name": "stdout",
     "output_type": "stream",
     "text": [
      "{'name': '김종호', 'salary': 500, 'age': 7}\n"
     ]
    }
   ],
   "source": [
    "print(emp.__dict__) # object를 상속"
   ]
  },
  {
   "cell_type": "code",
   "execution_count": 10,
   "metadata": {
    "scrolled": true
   },
   "outputs": [
    {
     "name": "stdout",
     "output_type": "stream",
     "text": [
      "['__call__', '__class__', '__delattr__', '__dict__', '__dir__', '__doc__', '__eq__', '__format__', '__ge__', '__getattribute__', '__gt__', '__hash__', '__init__', '__init_subclass__', '__le__', '__lt__', '__module__', '__ne__', '__new__', '__reduce__', '__reduce_ex__', '__repr__', '__setattr__', '__sizeof__', '__str__', '__subclasshook__', '__weakref__', 'age', 'displayCount', 'displayEmployee', 'empCount', 'name', 'salary']\n"
     ]
    }
   ],
   "source": [
    "print(dir(emp))"
   ]
  },
  {
   "cell_type": "code",
   "execution_count": 15,
   "metadata": {},
   "outputs": [
    {
     "name": "stdout",
     "output_type": "stream",
     "text": [
      "Called :  ('빅데타', 500, 100) {'c': 100}\n",
      "None\n"
     ]
    }
   ],
   "source": [
    "print(emp('빅데타', 500, 100, c = 100)) # 클래스를 함수처럼 사용하고 싶을때 , __call__을 오버라이딩"
   ]
  },
  {
   "cell_type": "code",
   "execution_count": 19,
   "metadata": {},
   "outputs": [],
   "source": [
    "# 문제 이름과 나이를 저장하는 student class를 생성하시요\n",
    "# 이름과 나이를 출력하는 pring함수를 클래스 내에 정의하시요\n",
    "class Student:\n",
    "    \"\"\"학생관리\"\"\"\n",
    "    def __init__(self, name, age):\n",
    "        self.name = name\n",
    "        self.age = age\n",
    "        \n",
    "        \n",
    "    def displayName(self):\n",
    "        print(\"학생의 이름 : \", self.name)\n",
    "        \n",
    "    def displayAge(self):\n",
    "        print('학생의 나이 : ', self.age)"
   ]
  },
  {
   "cell_type": "code",
   "execution_count": 20,
   "metadata": {},
   "outputs": [
    {
     "name": "stdout",
     "output_type": "stream",
     "text": [
      "학생의 이름 :  똥현이\n",
      "학생의 나이 :  27\n"
     ]
    }
   ],
   "source": [
    "std = Student('똥현이', 27)\n",
    "std.displayName()\n",
    "std.displayAge()"
   ]
  },
  {
   "cell_type": "code",
   "execution_count": 35,
   "metadata": {},
   "outputs": [],
   "source": [
    "class Student:\n",
    "    \"\"\"학생관리\"\"\"\n",
    "    def __init__(self, name, age):\n",
    "        self.name = name\n",
    "        self.age = age\n",
    "        \n",
    "    def print(self):\n",
    "        print('이름 : {}, 나이 : {}'.format(self.name, self.age))\n",
    "        \n",
    "    def __repr__(self): # __str__ 오버라이딩 해 놓은 경우\n",
    "        return '나의 이름은 ' + self.name"
   ]
  },
  {
   "cell_type": "code",
   "execution_count": 30,
   "metadata": {},
   "outputs": [
    {
     "name": "stdout",
     "output_type": "stream",
     "text": [
      "이름 : 다, 나이 : 20\n"
     ]
    }
   ],
   "source": [
    "f = Student('다', 20)\n",
    "f.print()"
   ]
  },
  {
   "cell_type": "code",
   "execution_count": 31,
   "metadata": {},
   "outputs": [
    {
     "name": "stdout",
     "output_type": "stream",
     "text": [
      "나의 이름은 다\n"
     ]
    }
   ],
   "source": [
    "print(f)"
   ]
  },
  {
   "cell_type": "code",
   "execution_count": 32,
   "metadata": {},
   "outputs": [
    {
     "name": "stdout",
     "output_type": "stream",
     "text": [
      "<class '__main__.Student'>\n"
     ]
    }
   ],
   "source": [
    "# object로 상속\n",
    "print(f.__class__) # 어떤 클래스에서 인스턴스 되었는디를 확인"
   ]
  },
  {
   "cell_type": "code",
   "execution_count": 34,
   "metadata": {},
   "outputs": [
    {
     "name": "stdout",
     "output_type": "stream",
     "text": [
      "나의 이름은 김종호\n"
     ]
    }
   ],
   "source": [
    "# Student('김종호', 34)\n",
    "g = f.__class__('김종호', 34) # 인스턴스된 변수로 부터 클래스 생성\n",
    "print(g)"
   ]
  },
  {
   "cell_type": "code",
   "execution_count": 39,
   "metadata": {},
   "outputs": [],
   "source": [
    "import math\n",
    "\n",
    "# 1개를 다루는 클래스를 작성하고 있지만 거리값은 두개를 이용\n",
    "class Point:\n",
    "    def __init__(self, x, y): # 생성자\n",
    "        self.x = x\n",
    "        self.y = y\n",
    "        \n",
    "    def __str__(self): # __repr__ 문자열을 요구하는 함수에 들어가면\n",
    "        return '좌표는 (%d, %d)'%(self.x, self.y)\n",
    "    \n",
    "    def dist(self, other): # 피타고라스 정리\n",
    "        distance = math.sqrt((self.x - other.x)**2 + (self.y - other.y)**2)\n",
    "        return distance\n",
    "    \n",
    "    def collision(self, other): # 충돌 범위?\n",
    "        return self.dist(other) < 3"
   ]
  },
  {
   "cell_type": "code",
   "execution_count": 41,
   "metadata": {},
   "outputs": [
    {
     "name": "stdout",
     "output_type": "stream",
     "text": [
      "좌표는 (7, 3)\n",
      "좌표는 (4, 7)\n"
     ]
    }
   ],
   "source": [
    "first = Point(7,3)\n",
    "second = Point(4,7)\n",
    "print(first)\n",
    "print(second)"
   ]
  },
  {
   "cell_type": "code",
   "execution_count": 43,
   "metadata": {},
   "outputs": [
    {
     "name": "stdout",
     "output_type": "stream",
     "text": [
      "두점 사이의 거니는 =  5.0\n",
      "충돌하지 않았습니다.\n"
     ]
    }
   ],
   "source": [
    "print('두점 사이의 거니는 = ', first.dist(second))\n",
    "if first.collision(second):\n",
    "    print('충돌했습니다.')\n",
    "else:\n",
    "    print('충돌하지 않았습니다.')"
   ]
  },
  {
   "cell_type": "code",
   "execution_count": 92,
   "metadata": {},
   "outputs": [],
   "source": [
    "# 문제 Point 클래스를 이용하여 Circle 클래스를 정의하시요\n",
    "# 원 : 중심점하고 반지름\n",
    "# 원과 원이 충돌하는 여부를 확인하는 함수\n",
    "class Circle:\n",
    "    def __init__(self, Point, r):\n",
    "        self.Point = Point\n",
    "        self.r = r\n",
    "    def __str__(self):\n",
    "        return '중심점 : {}, 반지름 : {}'.format(self.Point, self.r)\n",
    "    def dist(self, other):\n",
    "        distance = 2*self.r*math.pi - 2*other.r*math.pi\n",
    "        return distance\n",
    "    def collision(self, other):\n",
    "        return self.dist(other) < 3"
   ]
  },
  {
   "cell_type": "code",
   "execution_count": 93,
   "metadata": {},
   "outputs": [
    {
     "name": "stdout",
     "output_type": "stream",
     "text": [
      "중심점 : 좌표는 (7, 3), 반지름 : 5\n",
      "중심점 : 좌표는 (3, 7), 반지름 : 3\n"
     ]
    }
   ],
   "source": [
    "circle = Circle(Point(7,3),5)\n",
    "circle2 = Circle(Point(3,7), 3)\n",
    "print(circle)\n",
    "print(circle2)"
   ]
  },
  {
   "cell_type": "code",
   "execution_count": 94,
   "metadata": {},
   "outputs": [
    {
     "name": "stdout",
     "output_type": "stream",
     "text": [
      "12.566370614359172\n"
     ]
    }
   ],
   "source": [
    "print(circle.dist(circle2))"
   ]
  },
  {
   "cell_type": "code",
   "execution_count": 95,
   "metadata": {},
   "outputs": [
    {
     "name": "stdout",
     "output_type": "stream",
     "text": [
      "충돌하지 않았습니다.\n"
     ]
    }
   ],
   "source": [
    "if circle.collision(circle2):\n",
    "     print('충돌했습니다.')\n",
    "else:\n",
    "    print('충돌하지 않았습니다.')"
   ]
  },
  {
   "cell_type": "code",
   "execution_count": null,
   "metadata": {},
   "outputs": [],
   "source": [
    "# import math\n",
    "\n",
    "# # 1개를 다루는 클래스를 작성하고 있지만 거리값은 두개를 이용\n",
    "# class Point:\n",
    "#     def __init__(self, x, y): # 생성자\n",
    "#         self.x = x\n",
    "#         self.y = y\n",
    "        \n",
    "#     def __str__(self): # __repr__ 문자열을 요구하는 함수에 들어가면\n",
    "#         return '좌표는 (%d, %d)'%(self.x, self.y)\n",
    "    \n",
    "#     def dist(self, other): # 피타고라스 정리\n",
    "#         distance = math.sqrt((self.x - other.x)**2 + (self.y - other.y)**2)\n",
    "#         return distance\n",
    "    \n",
    "#     def collision(self, other): # 충돌 범위?\n",
    "#         return self.dist(other) < 3\n",
    "    "
   ]
  },
  {
   "cell_type": "code",
   "execution_count": null,
   "metadata": {},
   "outputs": [],
   "source": [
    "# first = Point(7,3)\n",
    "# second = Point(4,7)\n",
    "# print(first)\n",
    "# print(second)"
   ]
  },
  {
   "cell_type": "code",
   "execution_count": 96,
   "metadata": {},
   "outputs": [],
   "source": [
    "class circle:\n",
    "    def __init__(self, center, radius):\n",
    "        self.center = center\n",
    "        self.radius = radius\n",
    "        \n",
    "    def __str__(self):\n",
    "        return '원의 중심 : {}, 반지름 : {}'.format(self.center, self.radius)\n",
    "    \n",
    "    \n",
    "    def collision(self, other):\n",
    "        if self.center.dist(other.center) < self.radius + other.radius:\n",
    "            result = '충돌'\n",
    "        else:\n",
    "            result = '충돌하지않음'\n",
    "        return result"
   ]
  },
  {
   "cell_type": "code",
   "execution_count": 97,
   "metadata": {},
   "outputs": [
    {
     "name": "stdout",
     "output_type": "stream",
     "text": [
      "원의 중심 : 좌표는 (7, 3), 반지름 : 1\n",
      "원의 중심 : 좌표는 (4, 7), 반지름 : 5\n"
     ]
    }
   ],
   "source": [
    "cir = circle(first, 1)\n",
    "cir2 = circle(second, 5)\n",
    "print(cir)\n",
    "print(cir2)"
   ]
  },
  {
   "cell_type": "code",
   "execution_count": 98,
   "metadata": {},
   "outputs": [
    {
     "name": "stdout",
     "output_type": "stream",
     "text": [
      "충돌\n"
     ]
    }
   ],
   "source": [
    "print(cir.collision(cir2))"
   ]
  },
  {
   "cell_type": "code",
   "execution_count": 99,
   "metadata": {},
   "outputs": [
    {
     "data": {
      "text/plain": [
       "'충돌'"
      ]
     },
     "execution_count": 99,
     "metadata": {},
     "output_type": "execute_result"
    }
   ],
   "source": [
    "circle.collision(cir, cir2) # self"
   ]
  },
  {
   "cell_type": "code",
   "execution_count": 129,
   "metadata": {},
   "outputs": [],
   "source": [
    "# Point를 이용해서 사각형 Rectangle 클래스를 작성\n",
    "# 사각형의 면적\n",
    "# 사각형의 둘레\n",
    "# 대각선의 길이\n",
    "class Rectangle:\n",
    "    def __init__(self, point, point2):\n",
    "        self.point = point\n",
    "        self.point2 = point2\n",
    "        self.point3 = (self.point.x, self.point2.y)\n",
    "        self.point4 = (self.point2.x, self.point.y)\n",
    "        \n",
    "    def __str__(self):\n",
    "        return '점1 : {}, 점2 : {}, 점3 : {}, 점4 : {}'.format(self.point, self.point2, self.point3, self.point4)\n",
    "    \n",
    "    def avg(self):\n",
    "        line1 = math.sqrt(pow(self.point.x-self.point4.x) + pow(self.point.y - self.point4.y))\n",
    "        line2 = math.sqrt(pow(self.point3.x-self.point.x) + pow(self.point3.y-self.point.y))\n",
    "        aver = line1 * line2\n",
    "        return aver"
   ]
  },
  {
   "cell_type": "code",
   "execution_count": 130,
   "metadata": {},
   "outputs": [
    {
     "name": "stdout",
     "output_type": "stream",
     "text": [
      "점1 : 좌표는 (7, 3), 점2 : 좌표는 (4, 7), 점3 : (7, 7), 점4 : (4, 3)\n"
     ]
    }
   ],
   "source": [
    "rectangle = Rectangle(first, second)\n",
    "print(rectangle)"
   ]
  },
  {
   "cell_type": "code",
   "execution_count": 131,
   "metadata": {},
   "outputs": [
    {
     "ename": "AttributeError",
     "evalue": "'tuple' object has no attribute 'x'",
     "output_type": "error",
     "traceback": [
      "\u001b[1;31m---------------------------------------------------------------------------\u001b[0m",
      "\u001b[1;31mAttributeError\u001b[0m                            Traceback (most recent call last)",
      "\u001b[1;32m<ipython-input-131-16f3138ff19a>\u001b[0m in \u001b[0;36m<module>\u001b[1;34m\u001b[0m\n\u001b[1;32m----> 1\u001b[1;33m \u001b[0mprint\u001b[0m\u001b[1;33m(\u001b[0m\u001b[0mrectangle\u001b[0m\u001b[1;33m.\u001b[0m\u001b[0mavg\u001b[0m\u001b[1;33m(\u001b[0m\u001b[1;33m)\u001b[0m\u001b[1;33m)\u001b[0m\u001b[1;33m\u001b[0m\u001b[1;33m\u001b[0m\u001b[0m\n\u001b[0m",
      "\u001b[1;32m<ipython-input-129-543033e79b36>\u001b[0m in \u001b[0;36mavg\u001b[1;34m(self)\u001b[0m\n\u001b[0;32m     14\u001b[0m \u001b[1;33m\u001b[0m\u001b[0m\n\u001b[0;32m     15\u001b[0m     \u001b[1;32mdef\u001b[0m \u001b[0mavg\u001b[0m\u001b[1;33m(\u001b[0m\u001b[0mself\u001b[0m\u001b[1;33m)\u001b[0m\u001b[1;33m:\u001b[0m\u001b[1;33m\u001b[0m\u001b[1;33m\u001b[0m\u001b[0m\n\u001b[1;32m---> 16\u001b[1;33m         \u001b[0mline1\u001b[0m \u001b[1;33m=\u001b[0m \u001b[0mmath\u001b[0m\u001b[1;33m.\u001b[0m\u001b[0msqrt\u001b[0m\u001b[1;33m(\u001b[0m\u001b[0mpow\u001b[0m\u001b[1;33m(\u001b[0m\u001b[0mself\u001b[0m\u001b[1;33m.\u001b[0m\u001b[0mpoint\u001b[0m\u001b[1;33m.\u001b[0m\u001b[0mx\u001b[0m\u001b[1;33m-\u001b[0m\u001b[0mself\u001b[0m\u001b[1;33m.\u001b[0m\u001b[0mpoint4\u001b[0m\u001b[1;33m.\u001b[0m\u001b[0mx\u001b[0m\u001b[1;33m)\u001b[0m \u001b[1;33m+\u001b[0m \u001b[0mpow\u001b[0m\u001b[1;33m(\u001b[0m\u001b[0mself\u001b[0m\u001b[1;33m.\u001b[0m\u001b[0mpoint\u001b[0m\u001b[1;33m.\u001b[0m\u001b[0my\u001b[0m \u001b[1;33m-\u001b[0m \u001b[0mself\u001b[0m\u001b[1;33m.\u001b[0m\u001b[0mpoint4\u001b[0m\u001b[1;33m.\u001b[0m\u001b[0my\u001b[0m\u001b[1;33m)\u001b[0m\u001b[1;33m)\u001b[0m\u001b[1;33m\u001b[0m\u001b[1;33m\u001b[0m\u001b[0m\n\u001b[0m\u001b[0;32m     17\u001b[0m         \u001b[0mline2\u001b[0m \u001b[1;33m=\u001b[0m \u001b[0mmath\u001b[0m\u001b[1;33m.\u001b[0m\u001b[0msqrt\u001b[0m\u001b[1;33m(\u001b[0m\u001b[0mpow\u001b[0m\u001b[1;33m(\u001b[0m\u001b[0mself\u001b[0m\u001b[1;33m.\u001b[0m\u001b[0mpoint3\u001b[0m\u001b[1;33m.\u001b[0m\u001b[0mx\u001b[0m\u001b[1;33m-\u001b[0m\u001b[0mself\u001b[0m\u001b[1;33m.\u001b[0m\u001b[0mpoint\u001b[0m\u001b[1;33m.\u001b[0m\u001b[0mx\u001b[0m\u001b[1;33m)\u001b[0m \u001b[1;33m+\u001b[0m \u001b[0mpow\u001b[0m\u001b[1;33m(\u001b[0m\u001b[0mself\u001b[0m\u001b[1;33m.\u001b[0m\u001b[0mpoint3\u001b[0m\u001b[1;33m.\u001b[0m\u001b[0my\u001b[0m\u001b[1;33m-\u001b[0m\u001b[0mself\u001b[0m\u001b[1;33m.\u001b[0m\u001b[0mpoint\u001b[0m\u001b[1;33m.\u001b[0m\u001b[0my\u001b[0m\u001b[1;33m)\u001b[0m\u001b[1;33m)\u001b[0m\u001b[1;33m\u001b[0m\u001b[1;33m\u001b[0m\u001b[0m\n\u001b[0;32m     18\u001b[0m         \u001b[0maver\u001b[0m \u001b[1;33m=\u001b[0m \u001b[0mline1\u001b[0m \u001b[1;33m*\u001b[0m \u001b[0mline2\u001b[0m\u001b[1;33m\u001b[0m\u001b[1;33m\u001b[0m\u001b[0m\n",
      "\u001b[1;31mAttributeError\u001b[0m: 'tuple' object has no attribute 'x'"
     ]
    }
   ],
   "source": [
    "print(rectangle.avg())"
   ]
  },
  {
   "cell_type": "code",
   "execution_count": 134,
   "metadata": {},
   "outputs": [],
   "source": [
    "class Rectangle:\n",
    "    def __init__(self, point, point2): # point = Point() 매핑\n",
    "        self.poin = point\n",
    "        self.point2 = point2\n",
    "        \n",
    "    def area(self):\n",
    "        result = abs((point.x - point2.x) * (point.y - point2.y))\n",
    "        return result\n",
    "     \n",
    "    def perimeter(self):\n",
    "        result = abs(point.x - poin2.x)* + abs(point.y - point2.y)*2\n",
    "        return result\n",
    "        \n",
    "    def diagronal_dist(self):\n",
    "        result = math.sqrt(pow(point.x - point2.x) + pow(point.y- point2.y))\n",
    "        return result"
   ]
  },
  {
   "cell_type": "code",
   "execution_count": 159,
   "metadata": {},
   "outputs": [],
   "source": [
    "# 문제 : Vector class를 작성하시오\n",
    "# x,y의 2차원 벡터 구현\n",
    "# 벡터의 연산(+,-,*,/) : 요소별로 계산하면 됨\n",
    "# dot 함수를 구현하시요 : 벡터의 요소별로 곱하고 모두 더해주면 내적 유사도\n",
    "# cos 값으로 변환하는 함수를 구현하시요\n",
    "#  cos theta = acos(A내적B/|A|||B|)\n",
    "#  |A| = math.sqrt(x^2+y^2)\n",
    "\n",
    "class Vector:\n",
    "    def __init__(self, x, y):\n",
    "        self.x = x\n",
    "        self.y = y\n",
    "        \n",
    "    def __str__(self):\n",
    "        return '(좌표 {}, {})'.format(self.x, self.y)\n",
    "    \n",
    "    def __add__(self, other): # 연산자 오버로딩으로 구현한 것\n",
    "        return Vector(self.x+other.x, self.y+other.y)\n",
    "    \n",
    "    def __mul__(self, other):\n",
    "        return Vector(self.x*other.x, self.y*other.y)\n",
    "    \n",
    "    def __sub__(self, other):\n",
    "        return Vector(self.x - other.x, self.y-other.y)\n",
    "    \n",
    "    def __truediv__(self, other):\n",
    "        return Vector(self.x/other.x, self.y/other.y)"
   ]
  },
  {
   "cell_type": "code",
   "execution_count": 160,
   "metadata": {},
   "outputs": [
    {
     "name": "stdout",
     "output_type": "stream",
     "text": [
      "(좌표 10, 23)\n",
      "(좌표 20, 46)\n",
      "(좌표 30, 50)\n",
      "(좌표 200, 621)\n",
      "(좌표 0.5, 0.8518518518518519)\n",
      "(좌표 -10, -4)\n"
     ]
    }
   ],
   "source": [
    "f = Vector(10, 23)\n",
    "g = Vector(20, 27)\n",
    "print(f)\n",
    "print(f+f)\n",
    "print(f + g)\n",
    "print(f*g)\n",
    "print(f / g)\n",
    "print(f-g)"
   ]
  },
  {
   "cell_type": "code",
   "execution_count": 173,
   "metadata": {},
   "outputs": [],
   "source": [
    "import math\n",
    "class Vector:\n",
    "    def __init__(self, x, y, z):\n",
    "        self.x = x\n",
    "        self.y = y\n",
    "        self.z = z\n",
    "        \n",
    "    def __str__(self):\n",
    "        return '(좌표 {}, {}, {})'.format(self.x, self.y, self.z)\n",
    "    \n",
    "    def __add__(self, other): # 연산자 오버로딩으로 구현한 것\n",
    "        return Vector(self.x+other.x, self.y+other.y, self.z + other.z)\n",
    "    \n",
    "    def __mul__(self, other):\n",
    "        return Vector(self.x*other.x, self.y*other.y, self.z*other.z)\n",
    "    \n",
    "    def __sub__(self, other):\n",
    "        return Vector(self.x - other.x, self.y-other.y, self.z - other.z)\n",
    "    \n",
    "    def __truediv__(self, other):\n",
    "        return Vector(self.x/other.x, self.y/other.y, self.z/other.z)\n",
    "    \n",
    "    def dist(self):\n",
    "        return math.sqrt(self.x*self.x+self.y*self.y + self.z*self.z)\n",
    "    \n",
    "    # 방향만 바뀌어야지 크기까지 바뀌면 안됨\n",
    "    def norm(self): # 정규화(normalization)크기값이 1인 사이즈로 변경(반지름이 1인 )\n",
    "        dist = self.dist()\n",
    "        return self.x/dist, self.y/dist, self.z/dist\n",
    "    \n",
    "    def dot(self, other):\n",
    "        return (self.x*other.x+self.y*other.y+self.z*other.z)\n",
    "    \n",
    "    def theta(self, other):\n",
    "        dot = self.dot(other)\n",
    "        dist1 = self.dist()\n",
    "        dist2 = other.dist()# radian => degree로 (컴퓨터는 라디안 만 사용)\n",
    "        return math.acos(dot/(dist1*dist2)) * (180/math.pi) # 라디안 => 디그리로 변경\n",
    "    # 변환과정이 필요 => 사람이 사용하는 각도 입력(90) => 라디안 변환(math.pi/180)\n",
    "    #  => 계산후 => 사람이 사용하는 degree로 변환 해서 출력(180/math.pi)"
   ]
  },
  {
   "cell_type": "code",
   "execution_count": 186,
   "metadata": {},
   "outputs": [
    {
     "name": "stdout",
     "output_type": "stream",
     "text": [
      "(좌표 10, 1, 1)\n",
      "(좌표 20, 2, 2)\n",
      "(좌표 11, 11, 2)\n",
      "(좌표 10, 10, 1)\n",
      "(좌표 10.0, 0.1, 1.0)\n",
      "(좌표 9, -9, 0)\n",
      "f벡터의 크기 10.099504938362077\n",
      "g벡터의 크기 10.099504938362077\n",
      "f의 normal vector (0.9901475429766744, 0.09901475429766744, 0.09901475429766744)\n",
      "g의 normal vector (0.09901475429766744, 0.9901475429766744, 0.09901475429766744)\n",
      "두 벡터의 내적 21\n",
      "f와 g의 사이각 78.11884397898929\n"
     ]
    }
   ],
   "source": [
    "f = Vector(10, 1, 1)\n",
    "g = Vector(1, 10, 1)\n",
    "print(f)\n",
    "print(f+f)\n",
    "print(f + g)\n",
    "print(f*g)\n",
    "print(f / g)\n",
    "print(f-g)\n",
    "print('f벡터의 크기',f.dist())\n",
    "print('g벡터의 크기',g.dist())\n",
    "print('f의 normal vector',f.norm())\n",
    "print('g의 normal vector',g.norm())\n",
    "print('두 벡터의 내적',f.dot(g)) # 내적이 0이면 두 벡터는 90도 직교한다.\n",
    "print('f와 g의 사이각',f.theta(g))"
   ]
  },
  {
   "cell_type": "code",
   "execution_count": 189,
   "metadata": {},
   "outputs": [
    {
     "name": "stdout",
     "output_type": "stream",
     "text": [
      "a =  [1, 2, 3]\n",
      "[[1, 2, 3], [4, 5, [1, 2, 3]], 100]\n",
      "[[1, 2, 3], [4, 5, [1, 2, 3]], 100]\n",
      "[[1, 2, 3], [4, 5, [1, 2, 3]], 100]\n",
      "[[1, 2, 3], [4, 5, [1, 2, 3]], 100]\n",
      "\n",
      "[[1, 2, 3, 100], [4, 5, [1, 2, 3, 100]], 100]\n",
      "[[1, 2, 3, 100], [4, 5, [1, 2, 3, 100]], 100]\n",
      "[[1, 2, 3], [4, 5, [1, 2, 3]], 100]\n",
      "[[1, 2, 3], [4, 5, [1, 2, 3]], 100]\n"
     ]
    }
   ],
   "source": [
    "# deep copy, copy\n",
    "import copy\n",
    "a = [1,2,3]\n",
    "b=[4,5,a] # 주소\n",
    "\n",
    "x=[a,b,100]\n",
    "y=copy.copy(x) # 주소 복사\n",
    "t=copy.deepcopy(x) # 원래의 요소를 별도의 공간에 복사한 다음 주소전달\n",
    "e = copy.deepcopy(x)\n",
    "\n",
    "print('a = ',a)\n",
    "print(x)\n",
    "print(y)\n",
    "print(t)\n",
    "print(e)\n",
    "a.append(100)\n",
    "print()\n",
    "print(x)\n",
    "print(y)\n",
    "print(t)\n",
    "print(e)"
   ]
  },
  {
   "cell_type": "code",
   "execution_count": 1,
   "metadata": {},
   "outputs": [],
   "source": [
    "# 이름, 국어 수학 영어를 관리하는 Student class를 작성(1인분관리)\n",
    "# 총점과 평균도 계산해서 멤버 변수에 저장\n",
    "class Student:\n",
    "    studCount = 0\n",
    "    def __init__(self, name, kor, math, eng):\n",
    "        self.name = name\n",
    "        self.kor = kor\n",
    "        self.math = math \n",
    "        self.eng = eng\n",
    "        self.tot = self.kor + self.math + self.eng\n",
    "        self.avg = self.tot /3\n",
    "        Student.studCount += 1\n",
    "        "
   ]
  },
  {
   "cell_type": "code",
   "execution_count": 2,
   "metadata": {},
   "outputs": [
    {
     "name": "stdout",
     "output_type": "stream",
     "text": [
      "1입력 2. 출력 3. 계산 4 종료 =>1\n",
      "이름 : k\n",
      "국어 : 90\n",
      "수학 : 90\n",
      "영어 : 90\n",
      "1입력 2. 출력 3. 계산 4 종료 =>2\n",
      "이름 : k, 국어 : 90, 수학 : 90, 영어 : 90, 총점 : 270, 평균 : 90.0\n",
      "1입력 2. 출력 3. 계산 4 종료 =>1\n",
      "이름 : l\n",
      "국어 : 80\n",
      "수학 : 80\n",
      "영어 : 80\n",
      "1입력 2. 출력 3. 계산 4 종료 =>2\n",
      "이름 : k, 국어 : 90, 수학 : 90, 영어 : 90, 총점 : 270, 평균 : 90.0\n",
      "이름 : l, 국어 : 80, 수학 : 80, 영어 : 80, 총점 : 240, 평균 : 80.0\n",
      "1입력 2. 출력 3. 계산 4 종료 =>3\n",
      "총 학생수 : 2\n",
      "국어 평균 : 85.0, 수학 평균 : 85.0, 영어 평균 : 85.0\n",
      "1입력 2. 출력 3. 계산 4 종료 =>4\n"
     ]
    }
   ],
   "source": [
    "# 메뉴화\n",
    "def start():\n",
    "    students = []\n",
    "\n",
    "    while True:\n",
    "        choice = input('1입력 2. 출력 3. 계산 4 종료 =>')\n",
    "        if choice =='1':\n",
    "            name = input('이름 : ')\n",
    "            kor = eval(input('국어 : '))\n",
    "            math = eval(input('수학 : '))\n",
    "            eng = eval(input('영어 : '))\n",
    "            stud = Student(name, kor, math, eng)\n",
    "            students.append(stud)\n",
    "\n",
    "        elif choice =='2':\n",
    "                for s in students:\n",
    "                    print('이름 : {}, 국어 : {}, 수학 : {}, 영어 : {}, 총점 : {}, 평균 : {}'.format(s.name, s.kor, s.math, s.eng, s.tot, s.avg))\n",
    "        elif choice == '3':            \n",
    "            kor_tot = 0; math_tot = 0;eng_tot = 0\n",
    "            for s in students:\n",
    "                kor_tot += s.kor\n",
    "                math_tot += s.math\n",
    "                eng_tot += s.eng\n",
    "            kor_avg = round(kor_tot/len(students),2)\n",
    "            math_avg = round(math_tot/len(students),2)\n",
    "            eng_avg = round(eng_tot/len(students),2)\n",
    "            print('총 학생수 : {}'.format(len(students)))\n",
    "            print('국어 평균 : {}, 수학 평균 : {}, 영어 평균 : {}'.format(kor_avg, math_avg, eng_avg))\n",
    "            \n",
    "        elif choice == '4':\n",
    "            break\n",
    "start()\n",
    "       \n",
    "    "
   ]
  },
  {
   "cell_type": "code",
   "execution_count": null,
   "metadata": {},
   "outputs": [],
   "source": [
    "# 2 개로 분리된 class\n",
    "# 기본적인 데이터르 저장하는 클래스\n",
    "# Management(입력, 출력, 검색, 수정)\n",
    "# 메뉴함수"
   ]
  },
  {
   "cell_type": "code",
   "execution_count": 9,
   "metadata": {},
   "outputs": [],
   "source": [
    "import sys\n",
    "# 학생 클래스\n",
    "class Student:\n",
    "    def __init__(self): # 초기화\n",
    "        self.bunho = 0\n",
    "        self.name = ''\n",
    "        self.kor = 0\n",
    "        self.math = 0\n",
    "        self.eng = 0\n",
    "        self.total = 0\n",
    "        self.average = 0\n",
    "        self.grade = ''\n",
    "    def inputData(self): # 이름, 국어, 수학, 영어 입력\n",
    "        self.name = input('이름 : ')\n",
    "        self.kor = eval(input('국어 : '))\n",
    "        self.math = eval(input('수학 : '))\n",
    "        self.eng = eval(input('영어 : '))\n",
    "    def calc_total_average(self):# 한 학생의 총점, 평균, 성적 ; 수정도 염두해 별도의 함수화\n",
    "        self.total = self.kor + self.math + self.eng\n",
    "        self.average = round(self.total / 3, 2)\n",
    "        self.grade = self.calcSemGrade()\n",
    "    def calcSemGrade(self): # 학점 계산\n",
    "        if self.average >= 90: return 'A'\n",
    "        elif self.average >= 80: return 'B'\n",
    "        elif self.average >= 70: return 'C'\n",
    "        elif self.average >= 60: return 'D'\n",
    "        else: return 'F'\n",
    "\n",
    "    def __str__(self): # 학생의 개인정보 출력\n",
    "        return '{}\\t{}\\t{}\\t{}\\t{}\\t{}\\t{}\\t{}'.format(self.bunho, self.name, self.kor, self.math, self.eng, self.total, self.average, self.grade)\n",
    "    def __cmp__(self, other): # 뭘까? 검색할때 쓸거 같다.\n",
    "        return self.name == other.name\n",
    "        "
   ]
  },
  {
   "cell_type": "code",
   "execution_count": 18,
   "metadata": {},
   "outputs": [],
   "source": [
    "# 학생의 클래스를 관리하기 위한 클래스\n",
    "class Management:\n",
    "    schoolname = '제주 아카데미'\n",
    "    bunho = 0\n",
    "    def __init__(self, count):\n",
    "        print('메뉴를 선택하세요 : ')\n",
    "        self.sungjuk = [] # 성적 리스트 초기화\n",
    "        self.count = count # 몇번 학생을 입력할 것인가?\n",
    "        \n",
    "    def input(self):\n",
    "        for co_in in range(self.count):# count만큼 학생 입력\n",
    "            stu = Student() # 클래스를 인스턴스해준다.\n",
    "            stu.inputData() # 학생 클래스의 입력 함수 사용\n",
    "            Management.bunho += 1 # 학생 번호 증가?\n",
    "            stu.bunho = Management.bunho # 학생클래스의 번호를 관리번호로 입력\n",
    "            self.sungjuk.append(stu) # 성적 리스트에 학생 추가\n",
    "            \n",
    "    def print_sungjuk(self): # 성적 출력\n",
    "        for per in self.sungjuk:\n",
    "            print(per)\n",
    "            print()\n",
    "            \n",
    "    def calc_sungjuk(self): # 성적 계산???????????????\n",
    "        for per in self.sungjuk:\n",
    "            per.calc_total_average()\n",
    "            \n",
    "    def search_name(self): # 학생 검색\n",
    "        name = input('검색할 이름 : ')\n",
    "        for per in self.sungjuk: \n",
    "            if per.name == name:\n",
    "                print(per)\n",
    "                print()\n",
    "                return\n",
    "        print('검색 학생이 없다')\n",
    "        return\n",
    "    def replace_name(self): # 이름 수정하기\n",
    "        name = input('수정할 이름을 입력하세요 : ') # 수정할 이름 입력\n",
    "        oldname = input('기존 이름 : ') # 기존학생 이름\n",
    "        \n",
    "        for per in self.sungjuk: # 학생부 뒤지기\n",
    "            if per.name == oldname: # 학생부에 기존학생 이름이랑 같은게 있는지 확인\n",
    "                per.name = name # 기존이름에 수정할 이름 넣기\n",
    "                return \n",
    "        print('그런 학생 안키워요...')\n",
    "        return\n",
    "    def remove_del(self): # 학생 삭제\n",
    "        name = input('명부에서 지울 이름 : ') # 삭제할 학생 이름\n",
    "        \n",
    "        for per in self.sungjuk: # 학생부 뒤지기\n",
    "            if per.name == name: # 학생부와 삭제할 학생이 같은게 있는지\n",
    "                self.sungjuk.remove(per) # 성적을 기준으로 찾은 per 전체를 지운다.\n",
    "                return \n",
    "        print('그런 학생 안키워요...')\n",
    "        return\n",
    "    \n",
    "        \n",
    "    def sort_sungjuk(self): # 정렬\n",
    "        return self.sungjuk.sort(key=lambda object: object.total, reverse = True) # 성적을 정렬한다. 기준이 되는 키는 객체의 total, 내림차순으로"
   ]
  },
  {
   "cell_type": "code",
   "execution_count": 19,
   "metadata": {},
   "outputs": [
    {
     "name": "stdout",
     "output_type": "stream",
     "text": [
      "메뉴를 선택하세요 : \n",
      "['입력(1)', '출력(2)', '계산(3)', '검색(4)', '이름삭제(5)', '정렬(6)', '수정(7)', '종료(8)']1\n",
      "이름 : k\n",
      "국어 : 80\n",
      "수학 : 80\n",
      "영어 : 80\n",
      "이름 : l\n",
      "국어 : 90\n",
      "수학 : 90\n",
      "영어 : 90\n",
      "['입력(1)', '출력(2)', '계산(3)', '검색(4)', '이름삭제(5)', '정렬(6)', '수정(7)', '종료(8)']2\n",
      "제주 아카데미성적 계산표\n",
      "번호\t이름\t국어\t수학\t영어\t총점\t평균\t학점\n",
      "1\tk\t80\t80\t80\t0\t0\t\n",
      "\n",
      "2\tl\t90\t90\t90\t0\t0\t\n",
      "\n",
      "['입력(1)', '출력(2)', '계산(3)', '검색(4)', '이름삭제(5)', '정렬(6)', '수정(7)', '종료(8)']3\n",
      "게산이 완료 - 확인하려면 출력\n",
      "['입력(1)', '출력(2)', '계산(3)', '검색(4)', '이름삭제(5)', '정렬(6)', '수정(7)', '종료(8)']2\n",
      "제주 아카데미성적 계산표\n",
      "번호\t이름\t국어\t수학\t영어\t총점\t평균\t학점\n",
      "1\tk\t80\t80\t80\t240\t80.0\tB\n",
      "\n",
      "2\tl\t90\t90\t90\t270\t90.0\tA\n",
      "\n",
      "['입력(1)', '출력(2)', '계산(3)', '검색(4)', '이름삭제(5)', '정렬(6)', '수정(7)', '종료(8)']6\n",
      "270\n",
      "1\tk\t80\t80\t80\t240\t80.0\tB\n",
      "<class '__main__.Student'>\n",
      "ok\n",
      "['입력(1)', '출력(2)', '계산(3)', '검색(4)', '이름삭제(5)', '정렬(6)', '수정(7)', '종료(8)']2\n",
      "제주 아카데미성적 계산표\n",
      "번호\t이름\t국어\t수학\t영어\t총점\t평균\t학점\n",
      "2\tl\t90\t90\t90\t270\t90.0\tA\n",
      "\n",
      "1\tk\t80\t80\t80\t240\t80.0\tB\n",
      "\n",
      "['입력(1)', '출력(2)', '계산(3)', '검색(4)', '이름삭제(5)', '정렬(6)', '수정(7)', '종료(8)']1\n",
      "이름 : ㅛ\n",
      "국어 : 70\n",
      "수학 : 90\n",
      "영어 : 90\n",
      "이름 : ㅑ\n",
      "국어 : 100\n",
      "수학 : 60\n",
      "영어 : 80\n",
      "['입력(1)', '출력(2)', '계산(3)', '검색(4)', '이름삭제(5)', '정렬(6)', '수정(7)', '종료(8)']2\n",
      "제주 아카데미성적 계산표\n",
      "번호\t이름\t국어\t수학\t영어\t총점\t평균\t학점\n",
      "2\tl\t90\t90\t90\t270\t90.0\tA\n",
      "\n",
      "1\tk\t80\t80\t80\t240\t80.0\tB\n",
      "\n",
      "3\tㅛ\t70\t90\t90\t0\t0\t\n",
      "\n",
      "4\tㅑ\t100\t60\t80\t0\t0\t\n",
      "\n",
      "['입력(1)', '출력(2)', '계산(3)', '검색(4)', '이름삭제(5)', '정렬(6)', '수정(7)', '종료(8)']3\n",
      "게산이 완료 - 확인하려면 출력\n",
      "['입력(1)', '출력(2)', '계산(3)', '검색(4)', '이름삭제(5)', '정렬(6)', '수정(7)', '종료(8)']3\n",
      "게산이 완료 - 확인하려면 출력\n",
      "['입력(1)', '출력(2)', '계산(3)', '검색(4)', '이름삭제(5)', '정렬(6)', '수정(7)', '종료(8)']2\n",
      "제주 아카데미성적 계산표\n",
      "번호\t이름\t국어\t수학\t영어\t총점\t평균\t학점\n",
      "2\tl\t90\t90\t90\t270\t90.0\tA\n",
      "\n",
      "1\tk\t80\t80\t80\t240\t80.0\tB\n",
      "\n",
      "3\tㅛ\t70\t90\t90\t250\t83.33\tB\n",
      "\n",
      "4\tㅑ\t100\t60\t80\t240\t80.0\tB\n",
      "\n",
      "['입력(1)', '출력(2)', '계산(3)', '검색(4)', '이름삭제(5)', '정렬(6)', '수정(7)', '종료(8)']6\n",
      "240\n",
      "2\tl\t90\t90\t90\t270\t90.0\tA\n",
      "<class '__main__.Student'>\n",
      "ok\n",
      "['입력(1)', '출력(2)', '계산(3)', '검색(4)', '이름삭제(5)', '정렬(6)', '수정(7)', '종료(8)']2\n",
      "제주 아카데미성적 계산표\n",
      "번호\t이름\t국어\t수학\t영어\t총점\t평균\t학점\n",
      "2\tl\t90\t90\t90\t270\t90.0\tA\n",
      "\n",
      "3\tㅛ\t70\t90\t90\t250\t83.33\tB\n",
      "\n",
      "1\tk\t80\t80\t80\t240\t80.0\tB\n",
      "\n",
      "4\tㅑ\t100\t60\t80\t240\t80.0\tB\n",
      "\n",
      "['입력(1)', '출력(2)', '계산(3)', '검색(4)', '이름삭제(5)', '정렬(6)', '수정(7)', '종료(8)']8\n"
     ]
    },
    {
     "ename": "SystemExit",
     "evalue": "0",
     "output_type": "error",
     "traceback": [
      "An exception has occurred, use %tb to see the full traceback.\n",
      "\u001b[1;31mSystemExit\u001b[0m\u001b[1;31m:\u001b[0m 0\n"
     ]
    }
   ],
   "source": [
    "sj = ['번호', '이름', '국어', '수학',' 영어', '총점', '평균', '학점'] # 성적표 names 출력\n",
    "menu = ['입력(1)', '출력(2)', '계산(3)', '검색(4)', '이름삭제(5)', '정렬(6)', '수정(7)', '종료(8)'] # 메뉴 선택 \n",
    "man_sung = Management(2) # 몇 명 한번에 학생을 입력할 것인가?\n",
    "\n",
    "while 1: # True\n",
    "    sel = input(menu) # 메뉴 선택 번호\n",
    "    \n",
    "    if sel =='1':\n",
    "        man_sung.input() # 학생 입력\n",
    "        continue\n",
    "        \n",
    "    elif sel == '2':\n",
    "        print(Management.schoolname + '성적 계산표')\n",
    "        print('번호\\t이름\\t국어\\t수학\\t영어\\t총점\\t평균\\t학점')\n",
    "        man_sung.print_sungjuk() # 학생들의 성적 출력\n",
    "        continue\n",
    "    elif sel == '3': \n",
    "        man_sung.calc_sungjuk() # 총점, 평균 계산\n",
    "        print('게산이 완료 - 확인하려면 출력')\n",
    "        continue\n",
    "    elif sel == '4':\n",
    "        man_sung.calc_sungjuk() # 학생 검색\n",
    "        continue\n",
    "    elif sel == '5':\n",
    "        man_sung.remove_del() # 학생 지우기\n",
    "        continue\n",
    "    elif sel == '6':\n",
    "        man_sung.sort_sungjuk() # 총점으로 정렬\n",
    "        continue\n",
    "    elif sel =='7':\n",
    "        man_sung.replace_name() # 학생 이름 바꾸기\n",
    "        continue\n",
    "    elif sel =='8': \n",
    "        sys.exit(0) # 종료\n",
    "    else:\n",
    "        print('잘못된 입력')\n",
    "        continue"
   ]
  },
  {
   "cell_type": "code",
   "execution_count": null,
   "metadata": {},
   "outputs": [],
   "source": []
  }
 ],
 "metadata": {
  "kernelspec": {
   "display_name": "Python 3",
   "language": "python",
   "name": "python3"
  },
  "language_info": {
   "codemirror_mode": {
    "name": "ipython",
    "version": 3
   },
   "file_extension": ".py",
   "mimetype": "text/x-python",
   "name": "python",
   "nbconvert_exporter": "python",
   "pygments_lexer": "ipython3",
   "version": "3.7.4"
  }
 },
 "nbformat": 4,
 "nbformat_minor": 2
}
