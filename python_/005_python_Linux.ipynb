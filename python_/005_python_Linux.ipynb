{
 "cells": [
  {
   "cell_type": "markdown",
   "metadata": {},
   "source": [
    "## Linux : mariaDB, 서버 관리자\n",
    "\n",
    "- 서비스 제공을 제어 : systemctl\n",
    "    systemctl get-default  : graphic mode(윈도우 쓰듯이 GUI)\n",
    "        : text mode(서버가 gui로 서비스를 제공하면 무겁기 때문에 이걸 사용)\n",
    "\n",
    "- 보안 : firewall-cmd\n",
    "- ip, port (포트 번호는 다 막혀있음) => 열 때는 \" firewall-cmd --permanent --zone=public --add-port=3306/top \"\n",
    "            : 3306번 포트를 계속해서 열어라\n",
    "  포트를 열면 그 다음으로↓\n",
    "  \n",
    "- HeidiSQL : 원격으로 mariaDB에 접속 작업을 함\n",
    "\n",
    "### vi 편집기\n",
    "\n",
    "- 명령모드(esc 키를 누르고 나면 칠 수 있는 명령)\n",
    ": esc + 커서 있는 곳에서 dd를 누르면 1줄 삭제, yy : 복사, p 붙여넣기\n",
    "\n",
    "- 입력모드\n",
    " 명령모드 -> 입력모드 :i(insert),a(append),o\n",
    "\n",
    "- 마지막행 모드 :w = 저장     :q! = 저장하지 않고 저장"
   ]
  },
  {
   "cell_type": "code",
   "execution_count": null,
   "metadata": {},
   "outputs": [],
   "source": []
  }
 ],
 "metadata": {
  "kernelspec": {
   "display_name": "Python 3",
   "language": "python",
   "name": "python3"
  },
  "language_info": {
   "codemirror_mode": {
    "name": "ipython",
    "version": 3
   },
   "file_extension": ".py",
   "mimetype": "text/x-python",
   "name": "python",
   "nbconvert_exporter": "python",
   "pygments_lexer": "ipython3",
   "version": "3.7.4"
  }
 },
 "nbformat": 4,
 "nbformat_minor": 2
}
