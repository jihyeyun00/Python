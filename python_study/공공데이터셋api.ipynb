{
 "cells": [
  {
   "cell_type": "markdown",
   "metadata": {},
   "source": [
    "# 공공데이터셋 xml to json 형태로 변환 "
   ]
  },
  {
   "cell_type": "code",
   "execution_count": 24,
   "metadata": {},
   "outputs": [
    {
     "name": "stdout",
     "output_type": "stream",
     "text": [
      "상급병실료차액\n",
      "상급병실료차액\n",
      "상급병실료차액\n",
      "초음파검사료\n",
      "초음파검사료\n",
      "초음파검사료\n",
      "PET진단료\n",
      "캡슐내시경검사료\n",
      "제증명수수료\n",
      "제증명수수료\n",
      "제증명수수료\n",
      "제증명수수료\n",
      "제증명수수료\n",
      "제증명수수료\n",
      "제증명수수료\n",
      "제증명수수료\n",
      "제증명수수료\n",
      "제증명수수료\n",
      "제증명수수료\n",
      "제증명수수료\n",
      "제증명수수료\n",
      "제증명수수료\n",
      "제증명수수료\n",
      "제증명수수료\n",
      "제증명수수료\n",
      "제증명수수료\n",
      "제증명수수료\n",
      "제증명수수료\n",
      "교육상담료\n",
      "교육상담료\n",
      "교육상담료\n",
      "교육상담료\n",
      "교육상담료\n",
      "교육상담료\n",
      "MRI진단료\n",
      "MRI진단료\n",
      "MRI진단료\n",
      "MRI진단료\n",
      "치과임플란트료\n",
      "다빈치로봇수술료\n",
      "다빈치로봇수술료\n",
      "양수염색체검사료\n",
      "수면내시경검사료(환자관리행위료)\n",
      "수면내시경검사료(환자관리행위료)\n",
      "수면내시경검사료(환자관리행위료)\n",
      "충치치료료\n",
      "시력교정술료\n",
      "시력교정술료\n",
      "체온열검사료/경피온열검사료\n",
      "체온열검사료/경피온열검사료\n",
      "치과보철료\n",
      "한방물리요법료\n",
      "한방물리요법료\n",
      "한방물리요법료\n"
     ]
    }
   ],
   "source": [
    "import requests ,xmltodict,json\n",
    "\n",
    "\n",
    "key='Hl9nCtSJsJYpZKSXI1I4S3Ucr7gOPCG6dCX6BSht44RZMRnxVrw4NdAA07lo6kd9fNT6ThCPql8Ia0a2EBDlbw%3D%3D'\n",
    "url='http://apis.data.go.kr/B551182/nonPaymentDamtInfoService/getNonPaymentItemCodeList?pageNo=1&numOfRows=100&ServiceKey={}'.format(key)\n",
    "\n",
    "content=requests.get(url).content\n",
    "dict= xmltodict.parse(content)\n",
    "jsonString = json.dumps(dict['response']['body'],ensure_ascii=False)\n",
    "jsonObj = json.loads(jsonString)\n",
    "\n",
    "\n",
    "#print(jsonObj['items']['item'])\n",
    "\n",
    "for item in jsonObj['items']['item']:\n",
    "    print(item['divCd1Nm'])  \n",
    "\n",
    "\n",
    "\n",
    "\n",
    "\n",
    "\n"
   ]
  },
  {
   "cell_type": "markdown",
   "metadata": {},
   "source": [
    "# 공공데이터 api 호출하기"
   ]
  },
  {
   "cell_type": "code",
   "execution_count": null,
   "metadata": {},
   "outputs": [],
   "source": [
    "import requests\n",
    "\n",
    "\n",
    "url = 'http://openapi.molit.go.kr/OpenAPI_ToolInstallPackage/service/rest/RTMSOBJSvc/getRTMSDataSvcNrgTrade'\n",
    "queryParams = '?' +'ServiceKey'+'서비스키'\n",
    "+'LAWD_CD'+ '11110'\n",
    "+'DEAL_YMD'+'201512'\n",
    "+'serviceKey'+ '인증키(URL Encode)'"
   ]
  },
  {
   "cell_type": "code",
   "execution_count": null,
   "metadata": {},
   "outputs": [],
   "source": []
  },
  {
   "cell_type": "code",
   "execution_count": null,
   "metadata": {},
   "outputs": [],
   "source": []
  },
  {
   "cell_type": "code",
   "execution_count": null,
   "metadata": {},
   "outputs": [],
   "source": []
  },
  {
   "cell_type": "code",
   "execution_count": null,
   "metadata": {},
   "outputs": [],
   "source": []
  },
  {
   "cell_type": "code",
   "execution_count": null,
   "metadata": {},
   "outputs": [],
   "source": []
  },
  {
   "cell_type": "code",
   "execution_count": null,
   "metadata": {},
   "outputs": [],
   "source": []
  },
  {
   "cell_type": "code",
   "execution_count": null,
   "metadata": {},
   "outputs": [],
   "source": []
  },
  {
   "cell_type": "code",
   "execution_count": null,
   "metadata": {},
   "outputs": [],
   "source": []
  }
 ],
 "metadata": {
  "kernelspec": {
   "display_name": "Python 3",
   "language": "python",
   "name": "python3"
  },
  "language_info": {
   "codemirror_mode": {
    "name": "ipython",
    "version": 3
   },
   "file_extension": ".py",
   "mimetype": "text/x-python",
   "name": "python",
   "nbconvert_exporter": "python",
   "pygments_lexer": "ipython3",
   "version": "3.7.4"
  },
  "toc": {
   "base_numbering": 1,
   "nav_menu": {},
   "number_sections": true,
   "sideBar": true,
   "skip_h1_title": false,
   "title_cell": "Table of Contents",
   "title_sidebar": "Contents",
   "toc_cell": false,
   "toc_position": {
    "height": "calc(100% - 180px)",
    "left": "10px",
    "top": "150px",
    "width": "165px"
   },
   "toc_section_display": true,
   "toc_window_display": true
  }
 },
 "nbformat": 4,
 "nbformat_minor": 2
}
