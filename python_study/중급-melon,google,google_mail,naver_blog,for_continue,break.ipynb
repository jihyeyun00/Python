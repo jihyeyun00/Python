{
 "cells": [
  {
   "cell_type": "markdown",
   "metadata": {},
   "source": [
    "# 멜론차트 100위까지 가져오고 csv파일로 저장하기"
   ]
  },
  {
   "cell_type": "code",
   "execution_count": 4,
   "metadata": {},
   "outputs": [],
   "source": [
    "import urllib.request\n",
    "from bs4 import BeautifulSoup\n",
    "import csv"
   ]
  },
  {
   "cell_type": "code",
   "execution_count": 11,
   "metadata": {},
   "outputs": [],
   "source": [
    "hdr={'User-Agent':'Mozilla/5.0'}\n",
    "url = 'https://www.melon.com/chart/index.htm'\n",
    "req=urllib.request.Request(url, headers=hdr)\n",
    "html=urllib.request.urlopen(req).read()\n",
    "soup=BeautifulSoup(html,'html.parser')\n"
   ]
  },
  {
   "cell_type": "code",
   "execution_count": 36,
   "metadata": {},
   "outputs": [],
   "source": [
    "lst50=soup.select('.lst50, .lst100')\n",
    "\n",
    "melonlist=[]\n",
    "for i in lst50:\n",
    "    temp=[]\n",
    "    temp.append(i.select_one('.rank').text)\n",
    "    temp.append(i.select_one('.ellipsis.rank01').a.text)\n",
    "    temp.append(i.select_one('.ellipsis.rank02').a.text)\n",
    "    temp.append(i.select_one('.ellipsis.rank03').a.text)\n",
    "    melonlist.append(temp)\n",
    "#newline 자동줄바꿈\n",
    "with open('melon100.csv','w',encoding='utf-8',newline='') as f:\n",
    "    writer=csv.writer(f)\n",
    "    writer.writerow(['순위','아티스트','곡명','앨범'])\n",
    "    writer.writerows(melonlist)"
   ]
  },
  {
   "cell_type": "code",
   "execution_count": null,
   "metadata": {},
   "outputs": [],
   "source": []
  },
  {
   "cell_type": "markdown",
   "metadata": {},
   "source": [
    "# 구글 크롤링: selenium beautifulsoup 웹스크롤링"
   ]
  },
  {
   "cell_type": "code",
   "execution_count": 4,
   "metadata": {},
   "outputs": [],
   "source": [
    "from urllib.parse import quote_plus #검색 기본용어로 한글이 아님, 그래서 한글로 변환해주는 것\n",
    "from bs4 import BeautifulSoup\n",
    "from selenium import webdriver\n"
   ]
  },
  {
   "cell_type": "code",
   "execution_count": 9,
   "metadata": {},
   "outputs": [
    {
     "name": "stdout",
     "output_type": "stream",
     "text": [
      "무엇을 검색할까요?파이썬\n",
      "파이썬 자습서 — Python 3.8.2 문서\n",
      "docs.python.org › tutorial\n",
      "https://docs.python.org/ko/3/tutorial/index.html\n",
      "\n",
      "파이썬 - 위키백과, 우리 모두의 백과사전\n",
      "ko.wikipedia.org › wiki › 파이썬\n",
      "https://ko.wikipedia.org/wiki/%ED%8C%8C%EC%9D%B4%EC%8D%AC\n",
      "\n",
      "1. 파이썬 시작하기 - 왕초보를 위한 Python - WikiDocs\n",
      "wikidocs.net › ...\n",
      "https://wikidocs.net/43\n",
      "\n",
      "Python - 나무위키\n",
      "namu.wiki › Python\n",
      "https://namu.wiki/w/Python\n",
      "\n",
      "파이썬이란? - 바로 실행해보면서 배우는 파이썬\n",
      "edu.goorm.io › lecture › 바로-실행해보면서-배우는-파이썬 › lesson\n",
      "https://edu.goorm.io/learn/lecture/202/%EB%B0%94%EB%A1%9C-%EC%8B%A4%ED%96%89%ED%95%B4%EB%B3%B4%EB%A9%B4%EC%84%9C-%EB%B0%B0%EC%9A%B0%EB%8A%94-%ED%8C%8C%EC%9D%B4%EC%8D%AC/lesson/6037/%ED%8C%8C%EC%9D%B4%EC%8D%AC%EC%9D%B4%EB%9E%80\n",
      "\n",
      "파이썬 입문 | 프로그래머스\n",
      "programmers.co.kr › learn › courses\n",
      "https://programmers.co.kr/learn/courses/2\n",
      "\n",
      "Python 코딩의 기초 - 예제로 배우는 파이썬 프로그래밍\n",
      "pythonstudy.xyz › python › article › 6-Python-코딩의-기초\n",
      "http://pythonstudy.xyz/python/article/6-Python-%EC%BD%94%EB%94%A9%EC%9D%98-%EA%B8%B0%EC%B4%88\n",
      "\n",
      "파이썬이란? - Python\n",
      "www.opentutorials.org › module\n",
      "https://www.opentutorials.org/module/3958/23953\n",
      "\n",
      "파이썬 코딩 도장: 1.3 파이썬\n",
      "dojang.io › 강좌 › 프로그래밍 › 파이썬 코딩 도장\n",
      "https://dojang.io/mod/page/view.php?id=2153\n",
      "\n",
      "\"고\"할 것인가 \"파이썬\"할 것인가, 비교 선택 가이드 - ITWorld ...\n",
      "www.itworld.co.kr › news\n",
      "http://www.itworld.co.kr/news/136275\n",
      "\n"
     ]
    }
   ],
   "source": [
    "baseurl='https://www.google.com/search?q='\n",
    "plusurl=input('무엇을 검색할까요?')\n",
    "url= baseurl + quote_plus(plusurl)\n",
    "\n",
    "driver=webdriver.Chrome() #작업하는 파일과 같은 폴더에 있을때는 이렇게 비원둬도 됨\n",
    "driver.get(url)\n",
    "\n",
    "html = driver.page_source\n",
    "soup = BeautifulSoup(html)\n",
    "\n",
    "r= soup.select('.r')  #select 를 사용하면 list 형태로 가져옴\n",
    "for i in r:\n",
    "    print(i.select_one('.LC20lb.DKV0Md').text) #개발자 도구에서 class 에서 있는것 \n",
    "    print(i.select_one('.iUh30.bc.tjvcx').text)\n",
    "    print(i.a.attrs['href'])\n",
    "    print() #빈 줄\n",
    "    \n",
    "driver.close()"
   ]
  },
  {
   "cell_type": "code",
   "execution_count": null,
   "metadata": {},
   "outputs": [],
   "source": [
    "#왜 셀레늄을 사용하는가 -번거롭고 복잡하다. url에서 class 가 언제 바뀔지 모르기 때문이다.(구글의 특성:크롤링 해가기 어렵게 만듦)\n",
    "import urllib.request\n",
    "from urllib.parse import quote_plus\n",
    "from bs4 import BeautifulSoup\n",
    "import pyperclip, time\n",
    "\n",
    "hdr= {'User-Agent':'Mozilla/5.0'}\n",
    "baseurl='https://www.google.com/serch?q='\n",
    "pluslurl=input('검색어를 입력하세요')\n",
    "url=baseurl + quote_plus(plusurl)\n",
    "\n",
    "req=urllib.request.Request(url, headers=hdr)\n",
    "html = urllib.request.urlopen(req).read()\n",
    "soup=BeautifulSoup(html,'html.parser')\n",
    "\n",
    "pyperclip.copy(str(soup))"
   ]
  },
  {
   "cell_type": "markdown",
   "metadata": {},
   "source": [
    "# 구글메신저보내기-셀레니움 webdriver와 actionchains 으로 웹사이트 매크로 제작"
   ]
  },
  {
   "cell_type": "code",
   "execution_count": 7,
   "metadata": {},
   "outputs": [],
   "source": [
    "from selenium import webdriver\n",
    "from selenium.webdriver.common.keys import Keys\n",
    "from selenium.webdriver.common.action_chains import ActionChains\n",
    "\n",
    "import time\n",
    "\n",
    "driver=webdriver.Chrome()\n",
    "url='https://google.com'\n",
    "driver.get(url)\n",
    "#창 크게\n",
    "driver.maximize_window()\n",
    "action=ActionChains(driver)\n",
    "#로그인페이지\n",
    "driver.find_element_by_css_selector('#gb_70').click() #개발자 도구에서 id \n",
    "#구글아이디로 접속\n",
    "action.send_keys('jhjhystudy').perform()\n",
    "action.reset_actions() #리셋\n",
    "driver.find_element_by_css_selector('.CwaK9').click()\n",
    "\n",
    "time.sleep(2) #쉬고 비번\n",
    "driver.find_element_by_css_selector('.whsOnd.zHQkBf').send_keys('@1djsdjekfdls')\n",
    "driver.find_element_by_css_selector('.CwaK9').click()\n",
    "time.sleep(2)\n",
    "\n",
    "driver.get('https://mail.google.com/mail/u/0/?tab=wm1#inbox')\n",
    "time.sleep(2)\n",
    "#편지쓰기\n",
    "driver.find_element_by_css_selector('.T-I.J-J5-Ji.T-I-KE.L3').click()\n",
    "time.sleep(2)\n",
    "\n",
    "action = ActionChains(driver)\n",
    "\n",
    "send_button=driver.find_element_by_css_selector('.gU.Up')\n",
    "\n",
    "(\n",
    "action.send_keys('jhjhystudy@gmail.com').pause(2)\n",
    ".key_down(Keys.TAB).pause(2)\n",
    ".key_down(Keys.TAB).pause(2)\n",
    ".send_keys('제목입니다.').pause(2).key_down(Keys.TAB)\n",
    ".send_keys('abcde').pause(2).key_down(Keys.ENTER)\n",
    ".key_down(Keys.SHIFT).send_keys('abcde').key_up(Keys.SHIFT).pause(2)\n",
    ".move_to_element(send_button).click()\n",
    ".perform()\n",
    ") "
   ]
  },
  {
   "cell_type": "code",
   "execution_count": null,
   "metadata": {},
   "outputs": [],
   "source": []
  },
  {
   "cell_type": "markdown",
   "metadata": {},
   "source": [
    "# 여러페이지 크롤링: 네이버 블로그 검색결과 웹스크래핑"
   ]
  },
  {
   "cell_type": "code",
   "execution_count": 2,
   "metadata": {},
   "outputs": [
    {
     "name": "stdout",
     "output_type": "stream",
     "text": [
      "검색어를 입력하세요파이썬\n",
      "몇 페이지를 크롤링 할까요?:2\n",
      "-----------1페이지 결과입니다.-------\n",
      "파이썬 학원 처음 시작은 꼼꼼하게!\n",
      "https://blog.naver.com/catharsis486?Redirect=Log&logNo=221818343149\n",
      "강남파이썬학원 무조건 취업한다\n",
      "https://blog.naver.com/ykm0711?Redirect=Log&logNo=221806143987\n",
      "혼공파 3주차 - 파이썬 (python) 반복문 공부\n",
      "http://motherscat.com/221817308471\n",
      "파이썬 : Pygame으로 Ping Pong 게임 만들기 따라하기\n",
      "https://cosmosjs.blog.me/221719238699\n",
      "파이썬학원 어렵게 돌아가지 마요\n",
      "https://blog.naver.com/7441472?Redirect=Log&logNo=221813839069\n",
      "[Python] 파이썬 컬렉션 타입 딕셔너리, 세트(dictionary, set) 편\n",
      "https://blog.naver.com/passionisall?Redirect=Log&logNo=221824828638\n",
      "무료 인강 :: IT 공부 시작 해보고 싶은 분 컴온! (파이썬,C언어 등)\n",
      "https://blog.naver.com/cdh0584?Redirect=Log&logNo=221827528862\n",
      "pyCharm - 파이썬 IDE\n",
      "https://blog.naver.com/tommybee?Redirect=Log&logNo=221762128570\n",
      "파이썬 IDE 파이참(pycharm) 설치 방법 알아보기\n",
      "https://itgroovy.tistory.com/702\n",
      "[Python] 파이썬 웹 개발. #개발 프레임워크, Django와 Flask 비교\n",
      "https://dsz08082.blog.me/221797865031\n",
      "\n",
      "-----------2페이지 결과입니다.-------\n",
      "[파이썬] VSCode와 Jupyter notebook\n",
      "https://blog.naver.com/writer0713?Redirect=Log&logNo=221822993658\n",
      "*대구 코딩* 파이썬 기초강의: 조건문(if문)은 무엇일까?\n",
      "https://blog.naver.com/nasu0210?Redirect=Log&logNo=221806310877\n",
      "파이썬 - turtle모듈로 정3각형 그리기\n",
      "https://happynut.blog.me/221795110808\n",
      "한권으로 끝내는 파이썬 - 독학으로 Python 프로그램 코딩 공부하기\n",
      "https://blog.naver.com/since201109?Redirect=Log&logNo=221553965961\n",
      "파이썬학원 IT입문하고 싶어? 그럼 여기야!\n",
      "https://blog.naver.com/ykm0711?Redirect=Log&logNo=221797368637\n",
      "파이썬 인강 ☞ 데이터 분석을 위한 프로그램 통계분석 데이터 기초 과정 강좌\n",
      "https://blog.naver.com/beta700?Redirect=Log&logNo=221788408728\n",
      "[Python] 파이썬으로 와슨 AI 이용해보기\n",
      "http://mcchae.egloos.com/11336272\n",
      "파이썬강의 인강이든 학원이든 될사람은 어떻게든 된다.\n",
      "https://blog.naver.com/therapy92?Redirect=Log&logNo=221824069461\n",
      "직장인이라면 꼭 알아야 할 기술, 업무자동화 (엑셀/VBA/파이썬)\n",
      "http://blog.fastcampus.co.kr/221659851273\n",
      "파이썬 인강 :: 독학을 위한 최선의 선택\n",
      "https://blog.naver.com/cdh0584?Redirect=Log&logNo=221790305394\n",
      "\n"
     ]
    }
   ],
   "source": [
    "import urllib.request\n",
    "import urllib.parse\n",
    "from bs4 import BeautifulSoup\n",
    "\n",
    "\n",
    "plusurl=urllib.parse.quote_plus(input('검색어를 입력하세요'))\n",
    "\n",
    "\n",
    "#여러블로그를 가져올때 pageNum 변수만듦\n",
    "pageNum = 1\n",
    "count = 1\n",
    "\n",
    "i = input('몇 페이지를 크롤링 할까요?:')\n",
    "\n",
    "lastPage= int(i) * 10 - 9 \n",
    "while pageNum < lastPage + 1: \n",
    "    url = f'https://search.naver.com/search.naver?date_from=&date_option=0&date_to=&dup_remove=1&nso=&post_blogurl=&post_blogurl_without=&query={plusurl}&sm=tab_pge&srchby=all&st=sim&where=post&start={pageNum}'\n",
    "    html=urllib.request.urlopen(url).read()\n",
    "    soup=BeautifulSoup(html,'html.parser')\n",
    "\n",
    "    title=soup.find_all(class_='sh_blog_title')\n",
    "    print(f'-----------{count}페이지 결과입니다.-------')    \n",
    "    for i in title:\n",
    "        print(i.attrs['title'])\n",
    "        print(i.attrs['href'])\n",
    "    print()\n",
    "    \n",
    "    pageNum +=10\n",
    "    count +=1\n",
    "    \n",
    "    \n"
   ]
  },
  {
   "cell_type": "code",
   "execution_count": null,
   "metadata": {},
   "outputs": [],
   "source": []
  },
  {
   "cell_type": "markdown",
   "metadata": {},
   "source": [
    "#  반복문,continue, break 연습"
   ]
  },
  {
   "cell_type": "code",
   "execution_count": 3,
   "metadata": {},
   "outputs": [
    {
     "name": "stdout",
     "output_type": "stream",
     "text": [
      "0\n",
      "1\n",
      "2\n",
      "4\n",
      "5\n",
      "6\n",
      "end\n"
     ]
    }
   ],
   "source": [
    "\n",
    "for i in range(10):\n",
    "    if i ==3:\n",
    "        continue\n",
    "    if i ==7:\n",
    "        break\n",
    "    print(i)\n",
    "    \n",
    "print('end')"
   ]
  },
  {
   "cell_type": "code",
   "execution_count": null,
   "metadata": {},
   "outputs": [],
   "source": []
  },
  {
   "cell_type": "markdown",
   "metadata": {},
   "source": [
    "# 네이버 이미지 검색결과 한번에 다운로드 프로그램"
   ]
  },
  {
   "cell_type": "code",
   "execution_count": 7,
   "metadata": {},
   "outputs": [
    {
     "name": "stdout",
     "output_type": "stream",
     "text": [
      "검색어를 입력하세요딸기\n",
      "https://search.pstatic.net/common/?src=http%3A%2F%2Fimgnews.naver.net%2Fimage%2F005%2F2017%2F01%2F22%2F201701221542_61120011216427_1_20170122154300706.jpg&type=b400\n",
      "https://search.pstatic.net/common/?src=http%3A%2F%2Fpost.phinf.naver.net%2FMjAxNzAxMDlfMjEx%2FMDAxNDgzOTI5MTI5MDU1.FPRiK_SyUU8WqxGaVxWkpSgQg5_0wNG8MLDFlDjVAeEg.UHAFHdaQTFV_pj6xY2iPO3JTx0MDTUbXThSs31wm_Osg.PNG%2FINLMEXmVjKwypuke8VMtuKWXYFPA.jpg&type=b400\n",
      "https://search.pstatic.net/common/?src=http%3A%2F%2Fshop1.phinf.naver.net%2F20171125_259%2Fokbunn_15116151013325UxiB_JPEG%2F34921065958201201_964715567.jpg&type=b400\n",
      "https://search.pstatic.net/common/?src=http%3A%2F%2Fblogfiles.naver.net%2F20120315_33%2Fdiet44go_1331740344400YxM9w_JPEG%2F%25B5%25FE%25B1%25E2.jpg&type=b400\n",
      "https://search.pstatic.net/common/?src=http%3A%2F%2Fblogfiles.naver.net%2F20150311_183%2Fhitandrunner_1426066234489NvBUj_JPEG%2F%25B5%25FE%25B1%25E2%25C8%25BF%25B4%25C96.jpg&type=b400\n",
      "https://search.pstatic.net/common/?src=http%3A%2F%2Fblogfiles.naver.net%2F20160224_64%2Fyuu1035_14562866520323wYeU_JPEG%2F%25B5%25FE%25B1%25E2%25C4%25AE%25B7%25CE%25B8%25AE_1.jpg&type=b400\n",
      "https://search.pstatic.net/common/?src=http%3A%2F%2Fimgnews.naver.net%2Fimage%2F5270%2F2014%2F01%2F16%2F2014011619062677172_20140116190843_1_59_20140116191002.jpg&type=b400\n",
      "https://search.pstatic.net/common/?src=http%3A%2F%2Fimgnews.naver.net%2Fimage%2F5503%2F2017%2F11%2F23%2F0000002526_001_20171123111956837.jpg&type=b400\n",
      "https://search.pstatic.net/common/?src=http%3A%2F%2Fblogfiles.naver.net%2Fdata5%2F2004%2F11%2F30%2F83%2Fstrawberry-orchidchoi.jpg&type=b400\n",
      "https://search.pstatic.net/common/?src=http%3A%2F%2Fblogfiles.naver.net%2F20120615_269%2Ftwins1177_1339743946658iHMjd_PNG%2F%25B4%25DE%25B1%25E2_%25284%2529.png&type=b400\n",
      "https://search.pstatic.net/common/?src=http%3A%2F%2Fpost.phinf.naver.net%2F20160715_100%2F146854600332096pTQ_JPEG%2FIVAHLBie1hSjALsmja5F2r92v99o.jpg&type=b400\n",
      "https://search.pstatic.net/common/?src=http%3A%2F%2Fblogfiles.naver.net%2FMjAxOTAzMTBfMjY1%2FMDAxNTUyMjE3MjY4MDE3.UmgoWNH-pfFCYudQxaPhYd1DYPdN3hR3RWQQ10RnZGUg.Xa4dP-LepPdlrZeO7f3vQ-iD5AN9pwJDMKSxyNc1Iiog.JPEG.hyeryun840%2F%25C5%25F0%25C3%25CC%25B5%25FE%25B1%25E2%25B3%25F3%25C0%25E51.jpg&type=b400\n",
      "https://search.pstatic.net/common/?src=http%3A%2F%2Fblogfiles.naver.net%2FMjAyMDAxMTNfMTM2%2FMDAxNTc4OTI2MjI2MTM1.gX-bPVTLIxDfMA8p6jaEtJJnDZ-rR4WpkIHidGaBCYsg.VRDOCexDfmk7P-PKgOdejeKjeLtD60Cru8d984_pj20g.JPEG.exgrpmfbjye%2F96d652754aadc43c4058dde9bd7597e057f3fc8282e569.jpg&type=b400\n",
      "https://search.pstatic.net/common/?src=http%3A%2F%2Fblogfiles.naver.net%2FMjAxNjEyMjJfNDYg%2FMDAxNDgyNDAwNDM1ODk2.AG16VWXxunGRz3jLZWXgYDk4UETGuybt61ltQ7Rqzjkg.5gtl7SKCg1guOs8vC8wA79HijXAycCRRk9BFgheYz6Ag.JPEG.double_jej%2F%25B5%25FE%25B1%25E2%25BA%25DF%25C6%25E4_%25289%2529.JPG&type=b400\n",
      "https://search.pstatic.net/common/?src=http%3A%2F%2Fblogfiles.naver.net%2F20151112_247%2Fokmotor1300_1447288813034ffMWh_JPEG%2F%25B4%25DE%25C4%25DE%25C7%25D1_%25B5%25FE%25B1%25E2%25C0%25C7_%25C8%25BF%25B4%25C9%25B0%25FA_%25B5%25FE%25B1%25E2_1%25B0%25B3_%25C4%25AE%25B7%25CE%25B8%25AE_%25281%2529.jpg&type=b400\n",
      "https://search.pstatic.net/common/?src=http%3A%2F%2Fblogfiles.naver.net%2F20130415_17%2Fkimig80_1366034255282UnCeY_JPEG%2FimagesCAH2MLZD.jpg&type=b400\n",
      "https://search.pstatic.net/common/?src=http%3A%2F%2Fblogfiles.naver.net%2Fdata41%2F2009%2F3%2F18%2F244%2F%25B5%25FE%25B1%25E2_k_boa.jpg&type=b400\n",
      "https://search.pstatic.net/common/?src=http%3A%2F%2Fblogfiles.naver.net%2F20150107_255%2Fxodid2027_1420593806396FlMYa_JPEG%2F%25B5%25FE%25B1%25E2%25BB%25E7%25C1%25F8_%25282%2529.jpg&type=b400\n",
      "https://search.pstatic.net/common/?src=http%3A%2F%2Fblogfiles.naver.net%2F20130311_72%2Fepm002_1362966657405Pt3LF_JPEG%2F2013-03-11_10%253B49%253B39.jpg&type=b400\n",
      "https://search.pstatic.net/common/?src=http%3A%2F%2Fcafefiles.naver.net%2FMjAxOTExMjdfODIg%2FMDAxNTc0ODE3NTY2Nzgw.QZc8Ickf1ZkZg_1MTWHEXE6hdfM4RSgzPYGhSw9xtl8g.jKt8QSxYAo4DiixGyiSQccWOfBwbm-PfPhf3ZvYJ6j8g.JPEG%2Ff6083be2-9d8c-453d-892b-4248d8839245.JPG&type=b400\n",
      "https://search.pstatic.net/common/?src=http%3A%2F%2Fblogfiles.naver.net%2F20111229_187%2Fohj2023_1325160748266J11XF_JPEG%2FIMG_0794.jpg&type=b400\n",
      "https://search.pstatic.net/common/?src=http%3A%2F%2Fblogfiles.naver.net%2F20130824_57%2Fchoasoap81_1377303809941uu3xS_JPEG%2F%25B5%25FE%25B1%25E2.JPG&type=b400\n",
      "https://search.pstatic.net/common/?src=http%3A%2F%2Fblogfiles.naver.net%2F20140320_64%2Fycstar01000_1395280387869RVFDH_JPEG%2F%25B5%25FE%25B1%25E2%25C8%25BF%25B4%25C91.jpg&type=b400\n",
      "https://search.pstatic.net/common/?src=http%3A%2F%2Fblogfiles.naver.net%2FMjAxODAyMjdfMjgw%2FMDAxNTE5NzQyNDk2NzM2.8NfBEaEGn1gZTUGhF8SFbbyQqwJyvfqUHX1RDpCsn-sg.iwjTepElwYqEaR0IvIypkFhCu9-ZYwyR7o2dv5e7g_Ag.JPEG.nahmeerang0%2F%25B5%25FE%25B1%25E2_%25BD%25BA%25B9%25AB%25B5%25F0photo_2018-02-27_15-07-21.jpg&type=b400\n",
      "https://search.pstatic.net/common/?src=http%3A%2F%2Fblogfiles.naver.net%2Fdata2%2F2004%2F2%2F5%2F39%2F%25B5%25FE%25B1%25E2%25BB%25E7%25C1%25F82.jpg&type=b400\n",
      "https://search.pstatic.net/common/?src=http%3A%2F%2Fblogfiles.naver.net%2FMjAxOTA1MjJfMTIx%2FMDAxNTU4NDkzNDc2NTU2.hBxP9Tx1BFbOgonHe-VkIN6CLmCdueBCbPpyinFcah0g.5bogCuOFtZh9tFMKlls7AgJh8kv0WJR-tfHLmNvdbVwg.JPEG.nahmeerang0%2F%25B5%25FE%25B1%25E2IMG_20190517_141255.jpg&type=b400\n",
      "https://search.pstatic.net/common/?src=http%3A%2F%2Fblogfiles.naver.net%2F20110404_261%2Fmhdc_1301922703484xgRjn_JPEG%2Fst-1.jpg&type=b400\n",
      "https://search.pstatic.net/common/?src=http%3A%2F%2Fimgnews.naver.net%2Fimage%2F5002%2F2019%2F03%2F26%2F0001176656_001_20190326140403964.jpg&type=b400\n",
      "https://search.pstatic.net/common/?src=http%3A%2F%2Fblogfiles.naver.net%2FMjAxOTExMzBfNDEg%2FMDAxNTc1MTE3MTgxNjk5.eUosVHvA1CRfgOslnuE-pKhsGSKjWPSapixOuG30-zog.AiCfqnSLDMYHFR8q1CtOvj-RCB2fmtJXRjnDhomWIMQg.JPEG.honeyking215%2F%25B5%25FE%25B1%25E24.jpg&type=b400\n",
      "https://search.pstatic.net/common/?src=http%3A%2F%2Fcafefiles.naver.net%2F20130209_284%2Fkldj4800_1360420942643rAMiN_JPEG%2FmiX7dQW.jpg&type=b400\n",
      "https://search.pstatic.net/common/?src=http%3A%2F%2Fblogfiles.naver.net%2F20120902_3%2Fmama9608_1346580089793XwaCu_JPEG%2F%25C0%25CC%25BB%25F3%25C7%25D1%25B5%25FE%25B1%25E21.jpg&type=b400\n",
      "https://search.pstatic.net/common/?src=http%3A%2F%2Fblogfiles.naver.net%2Fdata1%2F2004%2F2%2F23%2F27%2F%25B5%25FE%25B1%25E2%25282%2529.jpg&type=b400\n",
      "https://search.pstatic.net/common/?src=http%3A%2F%2Fpost.phinf.naver.net%2FMjAyMDAxMjNfNTIg%2FMDAxNTc5NzU2NTcyODQx.2JziQQfxqgp7D-6j37m0RLrtlcDUiSduMcSiwNX2Zswg.UkQwuDsYdJGF4ByFHudLK5fUJg9QinXy-YL5qY3vWpwg.JPEG%2FIFIFxh5WDaL2UUl5D0AG-jEdjb7M.jpg&type=b400\n",
      "https://search.pstatic.net/common/?src=http%3A%2F%2Fblogfiles.naver.net%2F20150312_152%2Fgoblincape_1426150361053uBOos_JPEG%2FNaverBlog_20150126_191858_06.jpg&type=b400\n",
      "https://search.pstatic.net/common/?src=http%3A%2F%2Fshop1.phinf.naver.net%2F20191126_99%2F1574732863566Mgn3X_JPEG%2F12093602199381444_426962156.jpg&type=b400\n",
      "https://search.pstatic.net/common/?src=http%3A%2F%2Fblogfiles.naver.net%2F20111010_96%2Flovefarm063_131820640756064Mbq_JPEG%2FSNV31712.JPG&type=b400\n",
      "https://search.pstatic.net/common/?src=http%3A%2F%2Fblogfiles.naver.net%2Fdata19%2F2007%2F3%2F30%2F110%2Fsd1x7574-rsn1-candyra9.jpg&type=b400\n",
      "https://search.pstatic.net/common/?src=http%3A%2F%2Fblogfiles.naver.net%2F20140501_116%2Fsalt16_139891953344705zqx_JPEG%2Fugc.jpg&type=b400\n",
      "https://search.pstatic.net/common/?src=http%3A%2F%2Fcafefiles.naver.net%2FMjAxNzA2MTdfMTAz%2FMDAxNDk3NjUyOTIzNjYy.gU_5S67FpZHiHsBpfuK2DwlUgwwonMEINiGYzlV-HXsg.uBF7ML37yWcggWBucfrIbFTyCCL2CRkdHmvt2aWz1i4g.JPEG.jkleewow2%2FexternalFile.jpg&type=b400\n",
      "https://search.pstatic.net/common/?src=http%3A%2F%2Fblogfiles.naver.net%2FMjAxOTA1MTVfMTYw%2FMDAxNTU3OTA2NDk3MzQ4.FQIjKazRnggtv6I2M2iUbdb1rqSICu2Q5Ta5hjhsmLsg.BneHSfY7os1bze_e17lZT8m_uoq1evXatiBp9OrtnuAg.GIF.youngjy1914%2F%25B5%25FE%25B1%25E2%25B4%25C2%25B3%25BB%25B2%25A8%25B4%25D9%25B3%25C9.GIF.gif&type=b400\n",
      "https://search.pstatic.net/common/?src=http%3A%2F%2Fblogfiles.naver.net%2FMjAxOTAxMTlfMjk2%2FMDAxNTQ3ODkxNzkxMzE0.FB3cZUXc4PEGshdzswXeoOLhv6YcKZlyRsBA-5Grsxcg.WpS9X8kEMul0KljdkKsnSOj87TkiQMqfVkK1vRtVSNog.JPEG.rednbk%2F20190118_17868057.jpg&type=b400\n",
      "https://search.pstatic.net/common/?src=http%3A%2F%2Fblogfiles.naver.net%2FMjAxOTEyMDlfMjk3%2FMDAxNTc1ODcxMTM4MTAx.VfmdHkq-5Ks_PJC9hrkYOAgmV4f8kfBkiNGKAE9cVhAg.jPKkGQO6ZL3yTsjJEuGT1XAj8-NxTjIw_esGmro9mtAg.PNG.yeskim83%2F%25B5%25FE%25B1%25E2.PNG&type=b400\n",
      "https://search.pstatic.net/common/?src=http%3A%2F%2Fblogfiles.naver.net%2Fdata5%2F2005%2F2%2F22%2F282%2F3109_004-liush.jpg&type=b400\n",
      "https://search.pstatic.net/common/?src=http%3A%2F%2Fpost.phinf.naver.net%2F20160412_111%2F1460390606154H95DP_JPEG%2FIsCMKbYNJDpKcii7SQl5QfJNzn-k.jpg&type=b400\n"
     ]
    },
    {
     "name": "stdout",
     "output_type": "stream",
     "text": [
      "https://search.pstatic.net/common/?src=http%3A%2F%2Fblogfiles.naver.net%2Fdata11%2F2005%2F8%2F18%2F272%2F%25B5%25FE%25B1%25E2%25C4%25A1%25C1%25EE%25C4%25C9%25C0%25CD-shron4321.jpg&type=b400\n",
      "https://search.pstatic.net/common/?src=http%3A%2F%2Fblogfiles.naver.net%2Fdata12%2F2005%2F7%2F7%2F103%2F%25B5%25FE%25B1%25E2_%25BE%25C6%25C0%25CC%25BD%25BA%25C5%25A9%25B8%25B2-narluv.jpg&type=b400\n",
      "https://search.pstatic.net/common/?src=http%3A%2F%2Fcafefiles.naver.net%2Fdata8%2F2005%2F4%2F26%2F124%2Fdragon3205_5.jpg&type=b400\n",
      "https://search.pstatic.net/common/?src=http%3A%2F%2Fpost.phinf.naver.net%2FMjAxOTAxMjRfMjIz%2FMDAxNTQ4MzE2OTQ5MDI2.WhPscgwLHfkTjLcrGIAFF10zppx784AtrcWFGEi24Jsg.tNMP3ManjpDDT5uzjhcxsNK_r-F6CQ3nXuskmQGrZR8g.JPEG%2FIO7NaTfbHOvFJse0dRvi4zKVv0l4.jpg&type=b400\n",
      "https://search.pstatic.net/common/?src=http%3A%2F%2Fcafefiles.naver.net%2F20130209_181%2Fkldj4800_1360420943068JVrOQ_PNG%2FmS88iSF.png&type=b400\n",
      "https://search.pstatic.net/common/?src=http%3A%2F%2Fblogfiles.naver.net%2Fdata1%2F2003%2F12%2F2%2F78%2F%2525B5%2525FE%2525B1%2525E2.jpg&type=b400\n",
      "다운로드완료\n"
     ]
    }
   ],
   "source": [
    "from urllib.request import urlopen\n",
    "from urllib.parse import quote_plus\n",
    "from bs4 import BeautifulSoup\n",
    "\n",
    "baseurl='https://search.naver.com/search.naver?where=image&sm=tab_jum&query='\n",
    "plusurl=input('검색어를 입력하세요')\n",
    "url=baseurl + quote_plus(plusurl)\n",
    "\n",
    "#print(url) 출력해보기\n",
    "#검색어를 입력하세요:딸기 , 아스키코드로 변환됨\n",
    "#https://search.naver.com/search.naver?where=image&sm=tab_jum&query=%EB%94%B8%EA%B8%B0\n",
    "\n",
    "html = urlopen(url).read()\n",
    "soup=BeautifulSoup(html,'html.parser')\n",
    "\n",
    "img=soup.find_all(class_='_img')\n",
    "\n",
    "#print(img[0]) #data-source= 개발자도구에서 확인할때와 불러와서 볼때와 다를 수 있다\n",
    "\n",
    "#이미지 주소 출력\n",
    "n = 1 \n",
    "for i in img:\n",
    "    imgurl=i['data-source'] #각각의 url 하나하나\n",
    "    with urlopen(imgurl) as f:\n",
    "        with open('./img/'+ plusurl+ str(n) +'.jpg','wb') as h:\n",
    "            img=f.read()\n",
    "            h.write(img)\n",
    "    n +=1\n",
    "    print(imgurl)\n",
    "print('다운로드완료')"
   ]
  },
  {
   "cell_type": "code",
   "execution_count": null,
   "metadata": {},
   "outputs": [],
   "source": []
  },
  {
   "cell_type": "markdown",
   "metadata": {},
   "source": []
  },
  {
   "cell_type": "code",
   "execution_count": null,
   "metadata": {},
   "outputs": [],
   "source": []
  },
  {
   "cell_type": "code",
   "execution_count": null,
   "metadata": {},
   "outputs": [],
   "source": []
  },
  {
   "cell_type": "code",
   "execution_count": null,
   "metadata": {},
   "outputs": [],
   "source": []
  },
  {
   "cell_type": "code",
   "execution_count": null,
   "metadata": {},
   "outputs": [],
   "source": []
  },
  {
   "cell_type": "code",
   "execution_count": null,
   "metadata": {},
   "outputs": [],
   "source": []
  },
  {
   "cell_type": "code",
   "execution_count": null,
   "metadata": {},
   "outputs": [],
   "source": []
  },
  {
   "cell_type": "code",
   "execution_count": null,
   "metadata": {},
   "outputs": [],
   "source": []
  },
  {
   "cell_type": "code",
   "execution_count": null,
   "metadata": {},
   "outputs": [],
   "source": []
  },
  {
   "cell_type": "code",
   "execution_count": null,
   "metadata": {},
   "outputs": [],
   "source": []
  },
  {
   "cell_type": "code",
   "execution_count": null,
   "metadata": {},
   "outputs": [],
   "source": []
  }
 ],
 "metadata": {
  "kernelspec": {
   "display_name": "Python 3",
   "language": "python",
   "name": "python3"
  },
  "language_info": {
   "codemirror_mode": {
    "name": "ipython",
    "version": 3
   },
   "file_extension": ".py",
   "mimetype": "text/x-python",
   "name": "python",
   "nbconvert_exporter": "python",
   "pygments_lexer": "ipython3",
   "version": "3.7.4"
  },
  "toc": {
   "base_numbering": 1,
   "nav_menu": {},
   "number_sections": true,
   "sideBar": true,
   "skip_h1_title": false,
   "title_cell": "Table of Contents",
   "title_sidebar": "Contents",
   "toc_cell": false,
   "toc_position": {
    "height": "calc(100% - 180px)",
    "left": "10px",
    "top": "150px",
    "width": "165px"
   },
   "toc_section_display": true,
   "toc_window_display": true
  }
 },
 "nbformat": 4,
 "nbformat_minor": 2
}
