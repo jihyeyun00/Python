{
 "cells": [
  {
   "cell_type": "code",
   "execution_count": 1,
   "metadata": {},
   "outputs": [
    {
     "name": "stdout",
     "output_type": "stream",
     "text": [
      "[{'contents': 'Loading...', 'datetime': '2020-02-26T16:29:10.000+09:00', 'title': '', 'url': 'https://namu.wiki/w/%EC%9D%B4%ED%9A%A8%EB%A6%AC'}, {'contents': '<b>이효리</b>의 주요 수상 이력 [ 펼치기 · 접기 ] 가요대상 대상 장나라 Sweet Dream (2002년) ▶ <b>이효리</b> 10 Minutes (2003년) ▶ 비 It&#39;s Raining (2004년) 가요대전 대상 BoA No.1 (2002년) ▶ <b>이효리</b> 10 Minutes...', 'datetime': '2020-02-27T00:00:00.000+09:00', 'title': '<b>이효리</b> - 나무위키', 'url': 'https://namu.wiki/w/이효리'}, {'contents': '언론정보대학원 문화콘텐츠학 석사과정2006 국민대학교 연극영화학 학사 서문여자고등학교 서문여자중학교 <b>이효리</b>, 옥주현, 이진, 성유리 ‘핑클’ 데뷔 21주년 기념 베스트 앨범 발매 2019.07.22 3049 &#39;영원한...', 'datetime': '2013-06-15T00:00:00.000+09:00', 'title': '<b>이효리</b>', 'url': 'http://www.playdb.co.kr/artistdb/detail.asp?ManNo=11456'}, {'contents': '가나다라마바사 가나다라마바사 가나다라마바사 HOME 라이프 방송/연예 &#39;캠핑클럽&#39; 이진, <b>이효리</b>와 어색한 기류 탈피? <b>이효리</b>가 찍어준 사진 게재 &#39;행복해보여&#39; 김경욱 승인 2019.08.03 13:11 댓글 0 가나다라마...', 'datetime': '2020-02-27T00:00:00.000+09:00', 'title': '&#39;캠핑클럽&#39; 이진, <b>이효리</b>와 어색한 기류 탈피? <b>이효리</b>가 찍어준 사진 게재 &#39;행복해보여&#39;', 'url': 'http://www.whitepaper.co.kr/news/articleView.html?idxno=168269&replyAll=&reply_sc_order_by=C#reply'}, {'contents': '파격화보가 놀랍다는 평가다. 안혜경 파격화보 속에는 그간 볼 수 없었던 관능미가 풍겨져 절친 <b>이효리</b> 못지 않은 오라를 자아내게 했다. 실제 연예계 소문난 79년생 동갑내기인 안혜경과 <b>이효리</b>는 탁월한 패션...', 'datetime': '2020-02-26T15:59:26.000+09:00', 'title': '안혜경 파격화보 속에서 &#39;<b>이효리</b>&#39;가 보인다?', 'url': 'http://www.vop.co.kr/view.php?cid=A00000581700'}, {'contents': 'ⓒ클리오 제공 <b>이효리</b> 단발머리 <b>이효리</b>가 단발머리로 변신했다. <b>이효리</b>의 단발머리는 보통 단발머리 보다 더 짧은 단발머리였다. <b>이효리</b>는 최근 화장품 브랜드 광고 촬영을 위해 짧은 단발머리로 변신했다...', 'datetime': '2020-02-28T10:08:03.000+09:00', 'title': '<b>이효리</b> 단발머리, 자르기만 했을 뿐인데...분위기 반전 성공', 'url': 'http://www.vop.co.kr/view.php?cid=A00000513045'}, {'contents': '스타&#39; 캡처 이천희 &#34;&#39;효리네 민박&#39;에 등장한 가구로 주문 폭주&#34; [더팩트｜박슬기 기자] 배우 이천희가 <b>이효리</b> 이상순 부부에게 고마움을 전했다. 이천희는 26일 방송된 MBC 예능프로그램 &#39;라디오스타&#39;에 출연해...', 'datetime': '2020-02-27T00:00:00.000+09:00', 'title': '라스 이천희 &#34;가구 회사, <b>이효리</b> 이상순 덕분에 PPL 효과&#34;', 'url': 'https://www.mimint.co.kr/article/board_view.asp?strBoardID=news&bbstype=S1N13&bidx=2168184&page=1&pageblock=1'}, {'contents': '[박영범의 세무톡톡] ‘통장잔고 걱정 없다’던 <b>이효리</b>, 한남동 빌딩 대출받아 산 이유? [땅집고] 지난해 10월 서울 용산구 한남동에 있는 &#39;그래머시(GRAMERCY) 빌딩&#39;을 58억2000만원에 매입한 가수 <b>이효리</b>씨...', 'datetime': '2020-02-24T19:28:02.000+09:00', 'title': '[땅집고] <b>이효리</b>·이상순 부부는 왜 &#39;58억 빌딩&#39; 대출받아 샀을까 - 1boon', 'url': 'https://1boon.kakao.com/realty/5e53a5327391205c8a533486'}, {'contents': '코리아=김현정 기자] 퍼스트룩 마켓(1st Look Market )이 지난 22일 오후 CGV청담씨네시티에서 가수 <b>이효리</b>와 함께 캘린더 발매 기념 팬 사인회를 개최했다. 이번 캘린더에는 <b>이효리</b>와 그녀의 반려견 순심이의...', 'datetime': '2020-02-26T13:21:59.000+09:00', 'title': '<b>이효리</b>, 반려견 순심이와 함께 자선 팬사인회 개최', 'url': 'http://www.tournews21.com/news/articleView.html?idxno=5053'}, {'contents': '핑클 <b>이효리</b>, 솔로 가수 <b>이효리</b>, 예능인 <b>이효리</b>… 어떤 수식어도 모두 잘 어울리는 <b>이효리</b>는 1998년부터 2019년까지 슈퍼스타로 늘 우리 곁에 있습니다. 2017년도에 &lt;라디오스타&gt;에 나와 기타리스트 이상순 씨...', 'datetime': '2020-02-25T09:42:49.000+09:00', 'title': '[책썰미] <b>이효리</b>가 연예계에서 인기 있을 수 있었던 이유는? - 1boon', 'url': 'https://1boon.kakao.com/theable/sensitive2'}]\n"
     ]
    }
   ],
   "source": [
    "import requests\n",
    "\n",
    "key=\"0166edbccc8fae3043dc6f0830749d81\"\n",
    "\n",
    "api_url=\"https://dapi.kakao.com/v2/search/web\"\n",
    "keyword=\"이효리\"\n",
    "query=\"?query=\"\n",
    "api_header = {\"Authorization\": \"KakaoAK \" + key}\n",
    "\n",
    "# https://dapi.kakao.com/v2/search/web?query=이효리\n",
    "all= api_url + query + keyword\n",
    "all\n",
    "\n",
    "response=requests.get(all, headers=api_header)\n",
    "response\n",
    "\n",
    "result_data = response.json()\n",
    "result_data\n",
    "\n",
    "documents = result_data[\"documents\"]\n",
    "print(documents)\n",
    "\n",
    "# 1건만 뽑아낸 거\n",
    "one_document = documents[0]\n",
    "one_title = one_document[\"title\"]\n",
    "one_contents=one_document['contents']\n",
    "one_datetime=one_document['datetime']\n",
    "one_url=one_document['url']\n",
    "\n",
    "#print(one_title)\n",
    "#print(one_contents)\n",
    "#print(one_datetime)\n",
    "#print(one_url)\n",
    "\n",
    "result_documents = []\n",
    "\n",
    "# 5건 뽑아낸 거\n",
    "for i in range(len(documents)):\n",
    "    docs = documents[i]\n",
    "    result_documents.append( (docs['title'], docs['contents'], docs['url'], docs['datetime']) )\n",
    "    \n",
    "print(result_documents)\n",
    "len(documents)"
   ]
  },
  {
   "cell_type": "code",
   "execution_count": 39,
   "metadata": {},
   "outputs": [],
   "source": [
    "import pymysql\n",
    "conn = pymysql.connect(host = '172.18.31.74',\n",
    "                       db = 'practicedb',\n",
    "                       user = 'root',\n",
    "                       port = 3306,\n",
    "                       password = 'acorn1234Q!',\n",
    "                       charset = 'utf8mb4',\n",
    "                       use_unicode = True,\n",
    "                       cursorclass = pymysql.cursors.DictCursor)"
   ]
  },
  {
   "cell_type": "code",
   "execution_count": 40,
   "metadata": {},
   "outputs": [],
   "source": [
    "# INSERT INTO search_tb(title,contents,url,search_date) VALUES ('test','test_contents','test_url','test_search_date')"
   ]
  },
  {
   "cell_type": "code",
   "execution_count": 41,
   "metadata": {},
   "outputs": [],
   "source": [
    "cur = conn.cursor()\n",
    "\n",
    "sql=\"INSERT INTO search_tb(title) VALUES (%s)\"\n",
    "\n",
    "# INSERT INTO search_tb(title) VALUES (one_title)\n",
    "\n",
    "# INSERT INTO search_tb(title, contents, url, search_date) VALUES (one_title, one_contents, one_url, one_datetime)\n",
    "# INSERT INTO search_tb(title, contents, url, search_date) VALUES (%s, %s, %s, %s)\n",
    "\n",
    "#cur.execute(\"SQL문\", (\"1번째 %s에 들어갈 내용\", \"2번째 %s에 들어갈 내용\", \"n번째 %s에 들어갈 내용\"))\n",
    "\n",
    "# cur.execute(sql문, (1건 데이터)) -> 1건\n",
    "# cur.executemany(sql문, [ (데이터1), (데이터2), (데이터N) ]) -> 2건이상 여러건\n",
    "\n",
    "#[(one_title, one_contents, one_url, one_datetime), (two_title, two_contents, two_url, two_datetime)]\n",
    "\n",
    "#cur.execute(\"INSERT INTO search_tb(title, contents, url, search_date) VALUES (%s, %s, %s, %s)\", (one_title, one_contents, one_url, one_datetime))\n",
    "\n",
    "# result_documents 의 형식 = [ (데이터1), (데이터2), (데이터N) ]\n",
    "cur.executemany(\"INSERT INTO search_tb(title, contents, url, search_date) VALUES (%s, %s, %s, %s)\", result_documents)\n",
    "\n",
    "\n",
    "#commit 은 무조건 쓴다\n",
    "conn.commit()\n",
    "conn.close()"
   ]
  },
  {
   "cell_type": "code",
   "execution_count": 42,
   "metadata": {},
   "outputs": [],
   "source": []
  },
  {
   "cell_type": "code",
   "execution_count": null,
   "metadata": {},
   "outputs": [],
   "source": [
    "* 테이블 안에 데이터를 조회하는 SQL문\n",
    "SELECT ~ FROM\n",
    "\n",
    "* 테이블 안에 데이터의 변경이 일어나는 SQL문(신규입력,수정,삭제) -> commit, rollback\n",
    "INSERT INTO ~ VALUES\n",
    "UPDATE ~ SET\n",
    "DELETE FROM ~\n"
   ]
  },
  {
   "cell_type": "code",
   "execution_count": null,
   "metadata": {},
   "outputs": [],
   "source": []
  },
  {
   "cell_type": "code",
   "execution_count": null,
   "metadata": {},
   "outputs": [],
   "source": []
  },
  {
   "cell_type": "code",
   "execution_count": null,
   "metadata": {},
   "outputs": [],
   "source": []
  },
  {
   "cell_type": "code",
   "execution_count": null,
   "metadata": {},
   "outputs": [],
   "source": []
  },
  {
   "cell_type": "code",
   "execution_count": 56,
   "metadata": {},
   "outputs": [
    {
     "data": {
      "text/plain": [
       "dict_keys(['contents', 'datetime', 'title', 'url'])"
      ]
     },
     "execution_count": 56,
     "metadata": {},
     "output_type": "execute_result"
    }
   ],
   "source": [
    "documents[2].keys()"
   ]
  },
  {
   "cell_type": "code",
   "execution_count": null,
   "metadata": {},
   "outputs": [],
   "source": [
    "\n",
    "result_data.keys()\n",
    "documents[2].keys()\n",
    "\n",
    "\n",
    "\n",
    "result_documents = []\n",
    "\n",
    "# ()\n",
    "# [ (), () ]\n",
    "\n",
    "for i in range(5):\n",
    "    docs = documents[i]\n",
    "    result_documents.append( (docs['title'], docs['contents'], docs['url'], docs['datetime']) )\n",
    "    \n",
    "    \n",
    "    \n",
    "print(result_documents)\n",
    "    \n",
    "    \n",
    "\n",
    "    \n",
    "#################\n",
    "#documents[0]['contents']\n",
    "#documents[0]['datetime']\n",
    "#documents[0]['title']\n",
    "#documents[0]['url']\n",
    "###################\n",
    "#documents[1]['contents']\n",
    "#documents[1]['datetime']\n",
    "#documents[1]['title']\n",
    "#documents[1]['url']\n",
    "##############\n",
    "\n"
   ]
  }
 ],
 "metadata": {
  "kernelspec": {
   "display_name": "Python 3",
   "language": "python",
   "name": "python3"
  },
  "language_info": {
   "codemirror_mode": {
    "name": "ipython",
    "version": 3
   },
   "file_extension": ".py",
   "mimetype": "text/x-python",
   "name": "python",
   "nbconvert_exporter": "python",
   "pygments_lexer": "ipython3",
   "version": "3.7.4"
  },
  "toc": {
   "base_numbering": 1,
   "nav_menu": {},
   "number_sections": true,
   "sideBar": true,
   "skip_h1_title": false,
   "title_cell": "Table of Contents",
   "title_sidebar": "Contents",
   "toc_cell": false,
   "toc_position": {},
   "toc_section_display": true,
   "toc_window_display": false
  }
 },
 "nbformat": 4,
 "nbformat_minor": 2
}
