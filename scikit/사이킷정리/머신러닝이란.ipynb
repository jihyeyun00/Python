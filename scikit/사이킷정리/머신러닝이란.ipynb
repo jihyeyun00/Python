{
 "cells": [
  {
   "cell_type": "markdown",
   "metadata": {},
   "source": [
    "# 머신러닝()\n",
    "http://hleecaster.com/what-is-machine-learning/"
   ]
  },
  {
   "cell_type": "markdown",
   "metadata": {},
   "source": [
    "# 데이터 전처리 프로세스\n",
    "\n",
    "https://pythonanalysis.tistory.com/7\n",
    "\n",
    "1. Dataset I/O & 기본 정보 확인\n",
    "\n",
    "2. Outlier 제거 (e.g. MAD, IQR, Std)\n",
    "\n",
    "3. 결측치 처리 (e.g Imputation, Replacement)\n",
    "\n",
    "4. 분포 transformation (e.g log, sqrt, box-cox)\n",
    "\n",
    "5. 차원 축소 (PCA, Factor analysis)\n",
    "\n",
    "6. EDA & Plotting\n",
    "\n",
    "7. Dataset 분리\n"
   ]
  },
  {
   "cell_type": "code",
   "execution_count": null,
   "metadata": {},
   "outputs": [],
   "source": [
    "#이상치제거하는거\n",
    "https://mkjjo.github.io/python/2019/01/10/outlier.html"
   ]
  },
  {
   "cell_type": "markdown",
   "metadata": {},
   "source": [
    "# 전처리 중 결측치 처리 \n",
    "\n",
    "wt['일강수량(mm)'].fillna(0,inplace=True)\n",
    "wt\n",
    "wt.drop(['지점','지점명'],axis='columns',inplace=True)"
   ]
  },
  {
   "cell_type": "markdown",
   "metadata": {},
   "source": [
    "# 전처리 중 특성 스케일링 (정규화)107\n",
    "\n",
    "from sklearn.preprocessing import scale,robust_scale,minmax_scale,maxabs_scale"
   ]
  },
  {
   "cell_type": "markdown",
   "metadata": {},
   "source": [
    "# 전처리 중 범주화 특성 다루기 102~106 쪽\n",
    "\n",
    "from sklearn.preprocessing import OneHotEncoder\n",
    "ohe= OneHotEncoder()"
   ]
  },
  {
   "cell_type": "code",
   "execution_count": null,
   "metadata": {},
   "outputs": [],
   "source": [
    "검증\n",
    "\n",
    "from sklearn.metrics import accuracy_score, recall_score, precision_score, f1_score\n",
    "from sklearn.metrics import r2_score\n",
    "print('다중결정트리, R2:{:.4f}'.format(r2_score(y_test,y_pred)))"
   ]
  },
  {
   "cell_type": "code",
   "execution_count": null,
   "metadata": {},
   "outputs": [],
   "source": []
  },
  {
   "cell_type": "code",
   "execution_count": null,
   "metadata": {},
   "outputs": [],
   "source": []
  }
 ],
 "metadata": {
  "kernelspec": {
   "display_name": "Python 3",
   "language": "python",
   "name": "python3"
  },
  "language_info": {
   "codemirror_mode": {
    "name": "ipython",
    "version": 3
   },
   "file_extension": ".py",
   "mimetype": "text/x-python",
   "name": "python",
   "nbconvert_exporter": "python",
   "pygments_lexer": "ipython3",
   "version": "3.7.4"
  }
 },
 "nbformat": 4,
 "nbformat_minor": 2
}
