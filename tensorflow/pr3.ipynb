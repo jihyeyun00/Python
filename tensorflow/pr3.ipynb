{
 "cells": [
  {
   "cell_type": "code",
   "execution_count": 2,
   "metadata": {},
   "outputs": [],
   "source": [
    "import tensorflow as tf\n",
    "import warnings\n",
    "warnings.filterwarnings(action='ignore')\n"
   ]
  },
  {
   "cell_type": "code",
   "execution_count": 3,
   "metadata": {},
   "outputs": [
    {
     "name": "stdout",
     "output_type": "stream",
     "text": [
      "Extracting /tmp/data2/train-images-idx3-ubyte.gz\n",
      "Extracting /tmp/data2/train-labels-idx1-ubyte.gz\n",
      "Extracting /tmp/data2/t10k-images-idx3-ubyte.gz\n",
      "Extracting /tmp/data2/t10k-labels-idx1-ubyte.gz\n",
      "(128, 784)\n"
     ]
    }
   ],
   "source": [
    "from tensorflow.examples.tutorials.mnist import input_data\n",
    "#target:1000000000\n",
    "\n",
    "mnist=input_data.read_data_sets('/tmp/data2/',one_hot=True)\n",
    "batch_x,batch_y=mnist.train.next_batch(128)\n",
    "print(batch_x.shape)\n",
    "learning_rate=0.1\n",
    "num_steps=500\n",
    "batch_size=128\n",
    "display_step=100"
   ]
  },
  {
   "cell_type": "code",
   "execution_count": null,
   "metadata": {},
   "outputs": [],
   "source": [
    "n_hidden_1=256\n",
    "n_hidden_2=256\n",
    "num_input=784\n",
    "num_classes=10\n",
    "X=tf.placeholder('float',[None,num_input])\n",
    "Y=tf.placeholder('float',[None,num_classes])"
   ]
  },
  {
   "cell_type": "code",
   "execution_count": null,
   "metadata": {},
   "outputs": [],
   "source": [
    "weights={\n",
    "    'h1':tf.Variable(tf.random_normal([num_input,n_hidden_1])), #784 x256\n",
    "    'h2':tf.Variable(tf.random_normal([n_hidden_1,n_hidden_2])), #256x256\n",
    "    'out':tf.Variable(tf.random_normal([n_hidden_2,num_classes])) #256x10\n",
    "}\n",
    "#activation =biase\n",
    "biases={  #가중치 한덩어리 당 bias 가 반드시 존재\n",
    "    'b1':tf.Variable(tf.random_normal([n_hidden_1])),  #변수개수 만큼 존재\n",
    "    'b2':tf.Variable(tf.random_normal([n_hidden_2])),\n",
    "    'out':tf.Variable(tf.random_normal([num_classes])),\n",
    "}"
   ]
  },
  {
   "cell_type": "code",
   "execution_count": null,
   "metadata": {},
   "outputs": [],
   "source": []
  },
  {
   "cell_type": "code",
   "execution_count": null,
   "metadata": {},
   "outputs": [],
   "source": []
  },
  {
   "cell_type": "code",
   "execution_count": null,
   "metadata": {},
   "outputs": [],
   "source": []
  },
  {
   "cell_type": "code",
   "execution_count": null,
   "metadata": {},
   "outputs": [],
   "source": []
  }
 ],
 "metadata": {
  "kernelspec": {
   "display_name": "Python 3",
   "language": "python",
   "name": "python3"
  },
  "language_info": {
   "codemirror_mode": {
    "name": "ipython",
    "version": 3
   },
   "file_extension": ".py",
   "mimetype": "text/x-python",
   "name": "python",
   "nbconvert_exporter": "python",
   "pygments_lexer": "ipython3",
   "version": "3.7.4"
  }
 },
 "nbformat": 4,
 "nbformat_minor": 2
}
