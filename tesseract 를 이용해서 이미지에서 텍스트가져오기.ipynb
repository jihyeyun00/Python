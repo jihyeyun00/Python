{
 "cells": [
  {
   "cell_type": "code",
   "execution_count": null,
   "metadata": {},
   "outputs": [],
   "source": [
    "#tesseract 를 이용한 이미지에서 텍스트 뽑기 (먼저 pip install pillow, pip install pytesseract )\n",
    "\n",
    "from PIL import Image\n",
    "import pytesseract\n",
    "\n",
    "tesseract_path = \"C:/Program Files/Tesseract-OCR\"\n",
    "pytesseract.pytesseract.tesseract_cmd = tesseract_path + \"/tesseract\"\n",
    "\n",
    "filename = \"sn1.jpg\"\n",
    "image = Image.open(filename)\n",
    "text = image_to_string(image, lang=\"kor\")\n",
    "\n",
    "with open(\"sample.txt\", \"w\") as f:\n",
    "    f.write(text)"
   ]
  }
 ],
 "metadata": {
  "kernelspec": {
   "display_name": "Python 3",
   "language": "python",
   "name": "python3"
  },
  "language_info": {
   "codemirror_mode": {
    "name": "ipython",
    "version": 3
   },
   "file_extension": ".py",
   "mimetype": "text/x-python",
   "name": "python",
   "nbconvert_exporter": "python",
   "pygments_lexer": "ipython3",
   "version": "3.7.4"
  }
 },
 "nbformat": 4,
 "nbformat_minor": 2
}
