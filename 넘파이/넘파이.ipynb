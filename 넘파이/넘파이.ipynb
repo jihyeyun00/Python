{
 "cells": [
  {
   "cell_type": "code",
   "execution_count": null,
   "metadata": {},
   "outputs": [],
   "source": [
    "import flask #웹서버기능5000번 port 로 service "
   ]
  },
  {
   "cell_type": "code",
   "execution_count": 31,
   "metadata": {},
   "outputs": [
    {
     "name": "stdout",
     "output_type": "stream",
     "text": [
      "1.16.5\n",
      "type:<class 'numpy.ndarray'>\n",
      "shape:(3,).dimension:1.dtype:int32\n",
      "Array's Data:\n",
      " [1 2 3]\n"
     ]
    }
   ],
   "source": [
    "import matplotlib   #시각화 패키지\n",
    "import numpy as np  #별칭 class \n",
    "print(np.__version__) #상위 오브젝트가 가진 속성\n",
    "def pprint(arr): #ndarry :numpy 의 기본데이터타입\n",
    "    print(\"type:{}\".format(type(arr)))\n",
    "    print(\"shape:{}.dimension:{}.dtype:{}\".format(arr.shape,arr.ndim,arr.dtype))\n",
    "    print(\"Array's Data:\\n\",arr)\n",
    "    #숫자의 디폴트는 int32\n",
    "arr=[1.0,2.0,3.0] #리스트\n",
    "a=np.array([1,2,3])#ndarray 생성함수(매개변수:리스트)\n",
    "pprint(a)"
   ]
  },
  {
   "cell_type": "code",
   "execution_count": 32,
   "metadata": {},
   "outputs": [
    {
     "name": "stdout",
     "output_type": "stream",
     "text": [
      "2437827975488\n",
      "10\n",
      "[0. 1. 2. 3. 4. 5. 6. 7. 8. 9.]\n",
      "40\n"
     ]
    },
    {
     "data": {
      "text/plain": [
       "array([  0,   1,   2,   3,   4,   5,   6,   7,   8,   9,  10,  11,  12,\n",
       "        13,  14,  15,  16,  17,  18,  19,  20,  21,  22,  23,  24,  25,\n",
       "        26,  27,  28,  29,  30,  31,  32,  33,  34,  35,  36,  37,  38,\n",
       "        39,  40,  41,  42,  43,  44,  45,  46,  47,  48,  49,  50,  51,\n",
       "        52,  53,  54,  55,  56,  57,  58,  59,  60,  61,  62,  63,  64,\n",
       "        65,  66,  67,  68,  69,  70,  71,  72,  73,  74,  75,  76,  77,\n",
       "        78,  79,  80,  81,  82,  83,  84,  85,  86,  87,  88,  89,  90,\n",
       "        91,  92,  93,  94,  95,  96,  97,  98,  99, 100, 101, 102, 103,\n",
       "       104, 105, 106, 107, 108, 109, 110, 111, 112, 113, 114, 115, 116,\n",
       "       117, 118, 119, 120, 121, 122, 123, 124, 125, 126, 127, 128, 129,\n",
       "       130, 131, 132, 133, 134, 135, 136, 137, 138, 139, 140, 141, 142,\n",
       "       143, 144, 145, 146, 147, 148, 149, 150, 151, 152, 153, 154, 155,\n",
       "       156, 157, 158, 159, 160, 161, 162, 163, 164, 165, 166, 167, 168,\n",
       "       169, 170, 171, 172, 173, 174, 175, 176, 177, 178, 179, 180, 181,\n",
       "       182, 183, 184, 185, 186, 187, 188, 189, 190, 191, 192, 193, 194,\n",
       "       195, 196, 197, 198, 199, 200, 201, 202, 203, 204, 205, 206, 207,\n",
       "       208, 209, 210, 211, 212, 213, 214, 215, 216, 217, 218, 219, 220,\n",
       "       221, 222, 223, 224, 225, 226, 227, 228, 229, 230, 231, 232, 233,\n",
       "       234, 235, 236, 237, 238, 239, 240, 241, 242, 243, 244, 245, 246,\n",
       "       247, 248, 249, 250, 251, 252, 253, 254, 255, 256, 257, 258, 259,\n",
       "       260, 261, 262, 263, 264, 265, 266, 267, 268, 269, 270, 271, 272,\n",
       "       273, 274, 275, 276, 277, 278, 279, 280, 281, 282, 283, 284, 285,\n",
       "       286, 287, 288, 289, 290, 291, 292, 293, 294, 295, 296, 297, 298,\n",
       "       299, 300, 301, 302, 303, 304, 305, 306, 307, 308, 309, 310, 311,\n",
       "       312, 313, 314, 315, 316, 317, 318, 319, 320, 321, 322, 323, 324,\n",
       "       325, 326, 327, 328, 329, 330, 331, 332, 333, 334, 335, 336, 337,\n",
       "       338, 339, 340, 341, 342, 343, 344, 345, 346, 347, 348, 349, 350,\n",
       "       351, 352, 353, 354, 355, 356, 357, 358, 359, 360, 361, 362, 363,\n",
       "       364, 365, 366, 367, 368, 369, 370, 371, 372, 373, 374, 375, 376,\n",
       "       377, 378, 379, 380, 381, 382, 383, 384, 385, 386, 387, 388, 389,\n",
       "       390, 391, 392, 393, 394, 395, 396, 397, 398, 399, 400, 401, 402,\n",
       "       403, 404, 405, 406, 407, 408, 409, 410, 411, 412, 413, 414, 415,\n",
       "       416, 417, 418, 419, 420, 421, 422, 423, 424, 425, 426, 427, 428,\n",
       "       429, 430, 431, 432, 433, 434, 435, 436, 437, 438, 439, 440, 441,\n",
       "       442, 443, 444, 445, 446, 447, 448, 449, 450, 451, 452, 453, 454,\n",
       "       455, 456, 457, 458, 459, 460, 461, 462, 463, 464, 465, 466, 467,\n",
       "       468, 469, 470, 471, 472, 473, 474, 475, 476, 477, 478, 479, 480,\n",
       "       481, 482, 483, 484, 485, 486, 487, 488, 489, 490, 491, 492, 493,\n",
       "       494, 495, 496, 497, 498, 499, 500, 501, 502, 503, 504, 505, 506,\n",
       "       507, 508, 509, 510, 511, 512, 513, 514, 515, 516, 517, 518, 519,\n",
       "       520, 521, 522, 523, 524, 525, 526, 527, 528, 529, 530, 531, 532,\n",
       "       533, 534, 535, 536, 537, 538, 539, 540, 541, 542, 543, 544, 545,\n",
       "       546, 547, 548, 549, 550, 551, 552, 553, 554, 555, 556, 557, 558,\n",
       "       559, 560, 561, 562, 563, 564, 565, 566, 567, 568, 569, 570, 571,\n",
       "       572, 573, 574, 575, 576, 577, 578, 579, 580, 581, 582, 583, 584,\n",
       "       585, 586, 587, 588, 589, 590, 591, 592, 593, 594, 595, 596, 597,\n",
       "       598, 599, 600, 601, 602, 603, 604, 605, 606, 607, 608, 609, 610,\n",
       "       611, 612, 613, 614, 615, 616, 617, 618, 619, 620, 621, 622, 623,\n",
       "       624, 625, 626, 627, 628, 629, 630, 631, 632, 633, 634, 635, 636,\n",
       "       637, 638, 639, 640, 641, 642, 643, 644, 645, 646, 647, 648, 649,\n",
       "       650, 651, 652, 653, 654, 655, 656, 657, 658, 659, 660, 661, 662,\n",
       "       663, 664, 665, 666, 667, 668, 669, 670, 671, 672, 673, 674, 675,\n",
       "       676, 677, 678, 679, 680, 681, 682, 683, 684, 685, 686, 687, 688,\n",
       "       689, 690, 691, 692, 693, 694, 695, 696, 697, 698, 699, 700, 701,\n",
       "       702, 703, 704, 705, 706, 707, 708, 709, 710, 711, 712, 713, 714,\n",
       "       715, 716, 717, 718, 719, 720, 721, 722, 723, 724, 725, 726, 727,\n",
       "       728, 729, 730, 731, 732, 733, 734, 735, 736, 737, 738, 739, 740,\n",
       "       741, 742, 743, 744, 745, 746, 747, 748, 749, 750, 751, 752, 753,\n",
       "       754, 755, 756, 757, 758, 759, 760, 761, 762, 763, 764, 765, 766,\n",
       "       767, 768, 769, 770, 771, 772, 773, 774, 775, 776, 777, 778, 779,\n",
       "       780, 781, 782, 783, 784, 785, 786, 787, 788, 789, 790, 791, 792,\n",
       "       793, 794, 795, 796, 797, 798, 799, 800, 801, 802, 803, 804, 805,\n",
       "       806, 807, 808, 809, 810, 811, 812, 813, 814, 815, 816, 817, 818,\n",
       "       819, 820, 821, 822, 823, 824, 825, 826, 827, 828, 829, 830, 831,\n",
       "       832, 833, 834, 835, 836, 837, 838, 839, 840, 841, 842, 843, 844,\n",
       "       845, 846, 847, 848, 849, 850, 851, 852, 853, 854, 855, 856, 857,\n",
       "       858, 859, 860, 861, 862, 863, 864, 865, 866, 867, 868, 869, 870,\n",
       "       871, 872, 873, 874, 875, 876, 877, 878, 879, 880, 881, 882, 883,\n",
       "       884, 885, 886, 887, 888, 889, 890, 891, 892, 893, 894, 895, 896,\n",
       "       897, 898, 899, 900, 901, 902, 903, 904, 905, 906, 907, 908, 909,\n",
       "       910, 911, 912, 913, 914, 915, 916, 917, 918, 919, 920, 921, 922,\n",
       "       923, 924, 925, 926, 927, 928, 929, 930, 931, 932, 933, 934, 935,\n",
       "       936, 937, 938, 939, 940, 941, 942, 943, 944, 945, 946, 947, 948,\n",
       "       949, 950, 951, 952, 953, 954, 955, 956, 957, 958, 959, 960, 961,\n",
       "       962, 963, 964, 965, 966, 967, 968, 969, 970, 971, 972, 973, 974,\n",
       "       975, 976, 977, 978, 979, 980, 981, 982, 983, 984, 985, 986, 987,\n",
       "       988, 989, 990, 991, 992, 993, 994, 995, 996, 997, 998, 999])"
      ]
     },
     "execution_count": 32,
     "metadata": {},
     "output_type": "execute_result"
    }
   ],
   "source": [
    "#인스턴스상태\n",
    "a=np.array([0,1,2,3,4,5,6,7,8,9])#ndarray\n",
    "print(id(a)) #주소값확인\n",
    "print(a.size) #데이터개수\n",
    "print(a.astype(np.float32)) #데이터타입.numpy 는 행중심, 동질적\n",
    "print(a.dtype.itemsize*a.size) #전체 메모리 사이즈(바이트)\n",
    "#literator fot in range=> list\n",
    "a=np.arange(1000) #>ndarray\n",
    "a"
   ]
  },
  {
   "cell_type": "code",
   "execution_count": 69,
   "metadata": {},
   "outputs": [
    {
     "name": "stdout",
     "output_type": "stream",
     "text": [
      "[[0. 0. 0. 0.]\n",
      " [0. 0. 0. 0.]\n",
      " [0. 0. 0. 0.]]\n",
      "[[[1 1 1 1]\n",
      "  [1 1 1 1]\n",
      "  [1 1 1 1]]\n",
      "\n",
      " [[1 1 1 1]\n",
      "  [1 1 1 1]\n",
      "  [1 1 1 1]]]\n",
      "[[7 7]\n",
      " [7 7]]\n",
      "[[1. 0. 0. 0.]\n",
      " [0. 1. 0. 0.]\n",
      " [0. 0. 1. 0.]\n",
      " [0. 0. 0. 1.]]\n",
      "[[4.24399158e-313 1.69759663e-313]\n",
      " [4.88059032e-313 2.33419537e-313]\n",
      " [4.45619116e-313 1.90979621e-313]\n",
      " [4.66839074e-313 2.12199579e-313]]\n"
     ]
    }
   ],
   "source": [
    "#ndarray 초기화 함수들\n",
    "print(np.zeros((3,4))) #0\n",
    "print(np.ones((2,3,4),dtype=np.int16))\n",
    "print(np.full((2,2),7))\n",
    "print(np.eye(4)) #대각행렬 ,identity 행렬에서 항등원 +,*\n",
    "print(np.empty((4,2))) #=>쓰레기값,아무의미없는 값\n"
   ]
  },
  {
   "cell_type": "code",
   "execution_count": 19,
   "metadata": {},
   "outputs": [
    {
     "name": "stdout",
     "output_type": "stream",
     "text": [
      "[1, 5, -1]\n",
      "[ 0 10 20 30 40 50 60 70 80 90]\n",
      "[10 50 90]\n"
     ]
    }
   ],
   "source": [
    "a=np.arange(0,100,10) #ndarray\n",
    "indices=[1,5,-1] #list\n",
    "print(indices)\n",
    "b=a[indices] #list를 인덱스로 사용 0~90 까지 10씩 가는데 거기에서 1번 5번 -1(거꾸로)번 인덱스면 \n",
    "print(a)\n",
    "print(b)"
   ]
  },
  {
   "cell_type": "code",
   "execution_count": 14,
   "metadata": {},
   "outputs": [
    {
     "name": "stdout",
     "output_type": "stream",
     "text": [
      "[[11 12 13 14 15]\n",
      " [16 17 18 19 20]\n",
      " [21 22 23 24 25]\n",
      " [26 27 28 29 30]\n",
      " [31 32 33 34 35]]\n",
      "<class 'numpy.ndarray'>\n",
      "int32\n",
      "25\n",
      "(5, 5)\n",
      "2\n",
      "100\n",
      "(20, 4)\n"
     ]
    }
   ],
   "source": [
    "a=np.arange(11,36) #1차원 np.array + range 의 기능을 합침\n",
    "a.shape=(5,5) #정상 모양을 갖춘개수  R\n",
    "print(a)\n",
    "print(type(a))\n",
    "print(a.dtype) #int32  여기서 쓰는 데이터타입\n",
    "print(a.size)\n",
    "print(a.shape) #차수(5,5)\n",
    "print(a.ndim)#2차원\n",
    "print(a.nbytes) #100바이트=25개 * (한개가)4바이트\n",
    "print(a.strides) #(20,4) 다음열의 데이터는 몇바이트를 건너뛰어야 하는가  \n",
    "                 #4*5 =20 다음행은 몇바이트를 건너 뛰어야 하는가 "
   ]
  },
  {
   "cell_type": "code",
   "execution_count": 108,
   "metadata": {},
   "outputs": [
    {
     "name": "stdout",
     "output_type": "stream",
     "text": [
      "<class 'numpy.ndarray'>\n",
      "[0 1 2 3 4 5 6 7 8 9]\n",
      "5\n",
      "[5 6 7]\n",
      "[ 1  2  3  4 12]\n"
     ]
    }
   ],
   "source": [
    "#\n",
    "arr=np.arange(10) #0~9\n",
    "print(type(arr))\n",
    "print(arr)\n",
    "print(arr[5]   )\n",
    "print(arr[5:8]) #마지막 불포함\n",
    "arr[5:8]=12 #데이터 업데이트\n",
    "print(arr[1:6]) #1:8 은 1 2 3 4 12 12 12"
   ]
  },
  {
   "cell_type": "code",
   "execution_count": 115,
   "metadata": {},
   "outputs": [
    {
     "name": "stdout",
     "output_type": "stream",
     "text": [
      "[[1 2 3]\n",
      " [4 5 6]\n",
      " [7 8 9]]\n",
      "[1 2 3]\n",
      "3\n",
      "3\n",
      "[[1 2 3]\n",
      " [4 5 6]]\n",
      "\n",
      "[[2 3]\n",
      " [5 6]]\n",
      "[[4 5 6]\n",
      " [7 8 9]]\n",
      "\n",
      "[[2 3]\n",
      " [5 6]\n",
      " [8 9]]\n",
      "[4 5]\n",
      "[7]\n",
      "\n",
      "[[0 2 3]\n",
      " [0 5 6]\n",
      " [7 8 9]]\n"
     ]
    }
   ],
   "source": [
    "arr2d=np.array([[1,2,3],[4,5,6],[7,8,9]])\n",
    "print(arr2d)\n",
    "print(arr2d[0]) #행우선 :행\n",
    "print(arr2d[0][2]) \n",
    "print(arr2d[0,2]) \n",
    "print(arr2d[:2]) #0,1행 처음부터\n",
    "print()\n",
    "\n",
    "print(arr2d[:2,1:]) #0~1행, 열1~끝 \n",
    "print(arr2d[1:])\n",
    "print()\n",
    "\n",
    "print(arr2d[:,1:]) #0~끝행, 1열~끝\n",
    "print(arr2d[1,:2])\n",
    "print(arr2d[2,:1])\n",
    "print()\n",
    "\n",
    "arr2d[:2,:1]=0\n",
    "arr2d[:2,:1]=0\n",
    "print(arr2d)\n"
   ]
  },
  {
   "cell_type": "code",
   "execution_count": 17,
   "metadata": {},
   "outputs": [
    {
     "name": "stdout",
     "output_type": "stream",
     "text": [
      "스트라이드의 값 (160, 40, 8)\n"
     ]
    }
   ],
   "source": [
    "#실제 저장은 일렬로, 사람이 데이터를 다루는 것은 입체로 480바이트 8개 지나가면 다음 행,3면 4행 5열 \n",
    "#행렬 연산에서 앞의 행렬의 열수와 뒤의 행수를 일치시켜야 행렬 곱이 가능\n",
    "#행렬곱에서 행렬 앞뒤로 바꾸면 안된다.\n",
    "print(\"스트라이드의 값\",np.ones((3,4,5),dtype=np.float64).strides)\n",
    "\n",
    "#단일 데이터 float :8바이트"
   ]
  },
  {
   "cell_type": "code",
   "execution_count": 119,
   "metadata": {},
   "outputs": [
    {
     "name": "stdout",
     "output_type": "stream",
     "text": [
      "첫면 [[1 2 3]\n",
      " [4 5 6]]\n",
      "첫차원 첫행은= [1 2 3]\n",
      "첫면 첫행, 첫 요소는= 1\n"
     ]
    },
    {
     "data": {
      "text/plain": [
       "12"
      ]
     },
     "execution_count": 119,
     "metadata": {},
     "output_type": "execute_result"
    }
   ],
   "source": [
    "#문제\n",
    "arr3d=np.array([[[1,2,3],[4,5,6]],[[7,8,9],[10,11,12]]]) # 2면2행3열\n",
    "print(\"첫면\",arr3d[0]) #0번면\n",
    "print(\"첫차원 첫행은=\",arr3d[0][0])\n",
    "print(\"첫면 첫행, 첫 요소는=\",arr3d[0][0][0])\n",
    "#8을 출력\n",
    "arr3d[1][0][1]\n",
    "#12를 출력\n",
    "arr3d[1][1][2]"
   ]
  },
  {
   "cell_type": "code",
   "execution_count": 26,
   "metadata": {},
   "outputs": [
    {
     "name": "stdout",
     "output_type": "stream",
     "text": [
      "값의 변경후\n",
      "[[[42 42 42]\n",
      "  [42 42 42]]\n",
      "\n",
      " [[ 7  8  9]\n",
      "  [10 11 12]]]\n",
      "이전값으로 복귀\n",
      "[[[42 42 42]\n",
      "  [42 42 42]]\n",
      "\n",
      " [[ 7  8  9]\n",
      "  [10 11 12]]]\n"
     ]
    }
   ],
   "source": [
    "#백업이 안됨: 대입하면 같은 주소를 가리키기 때문에 \n",
    "#대입 :주소를 복사\n",
    "arr3d[0]=42\n",
    "old_values=arr3d.copy() #값이 똑같이 복사된다.카피하게되면 원본,복사본 2개가 되는것\n",
    "arr3d[0]=42\n",
    "print(\"값의 변경후\")\n",
    "print(arr3d)\n",
    "print(\"이전값으로 복귀\")\n",
    "arr3d=old_values\n",
    "print(arr3d) #arr3d 다르다 old 랑 \n"
   ]
  },
  {
   "cell_type": "code",
   "execution_count": 28,
   "metadata": {},
   "outputs": [
    {
     "name": "stdout",
     "output_type": "stream",
     "text": [
      "[ 0  1  2  3  4  5  6  7  8  9 10 11 12 13 14 15 16 17 18 19 20 21 22 23\n",
      " 24 25 26 27 28 29 30 31 32 33 34 35]\n",
      "[[[ 0  1  2  3  4  5]\n",
      "  [ 6  7  8  9 10 11]\n",
      "  [12 13 14 15 16 17]]\n",
      "\n",
      " [[18 19 20 21 22 23]\n",
      "  [24 25 26 27 28 29]\n",
      "  [30 31 32 33 34 35]]]\n"
     ]
    }
   ],
   "source": [
    "Z=np.arange(36) #1차원으로 생성\n",
    "print(Z)\n",
    "Z=Z.reshape((6,6)) #2차원 행렬로 생성\n",
    "reshape2=Z.reshape((2,3,6)) #3차원 면,행,열로 생성\n",
    "print(reshape2)"
   ]
  },
  {
   "cell_type": "code",
   "execution_count": 70,
   "metadata": {},
   "outputs": [
    {
     "name": "stdout",
     "output_type": "stream",
     "text": [
      "[[ 0  1  2  3]\n",
      " [ 4  5  6  7]\n",
      " [ 8  9 10 11]\n",
      " [12 13 14 15]\n",
      " [16 17 18 19]\n",
      " [20 21 22 23]\n",
      " [24 25 26 27]\n",
      " [28 29 30 31]]\n",
      "\n",
      "[[ 4  5  6  7]\n",
      " [20 21 22 23]\n",
      " [28 29 30 31]\n",
      " [ 8  9 10 11]]\n",
      "\n",
      "[[28 29 30 31]\n",
      " [12 13 14 15]\n",
      " [ 4  5  6  7]\n",
      " [24 25 26 27]]\n",
      "\n",
      "[ 4 23 29 10]\n",
      "\n",
      "[[ 4  5  6  7]\n",
      " [ 8  9 10 11]\n",
      " [20 21 22 23]\n",
      " [28 29 30 31]]\n",
      "\n",
      "[[ 4  7  5  6]\n",
      " [20 23 21 22]\n",
      " [28 31 29 30]\n",
      " [ 8 11  9 10]]\n"
     ]
    }
   ],
   "source": [
    "arr=np.arange(32).reshape((8,4))\n",
    "print(arr)\n",
    "print()\n",
    "print(arr[[1,5,7,2]]) #행중심\n",
    "print()\n",
    "print(arr[[-1,-5,-7,-2]]) #거꾸로 인덱싱  \n",
    "print()\n",
    "print(arr[[1,5,7,2],[0,3,1,2]]) \n",
    "print()\n",
    "#fancy 인덱싱 :위에 있는 인덱싱의 단점을 보완함\n",
    "print(arr[[1,2,5,7]][:,[0,1,2,3]]) #1,2,5,7의 행들을 다시 함수로 만들고 0~3번의 순서를 준것\n",
    "print()\n",
    "print(arr[[1,5,7,2]][:,[0,3,1,2]])\n",
    "\n"
   ]
  },
  {
   "cell_type": "code",
   "execution_count": 41,
   "metadata": {},
   "outputs": [
    {
     "name": "stdout",
     "output_type": "stream",
     "text": [
      "[[0, 1, 2, 3, 4, 5], [10, 11, 12, 13, 14, 15], [20, 21, 22, 23, 24, 25], [30, 31, 32, 33, 34, 35], [40, 41, 42, 43, 44, 45], [50, 51, 52, 53, 54, 55]]\n"
     ]
    }
   ],
   "source": [
    "arr=[]\n",
    "for i in range(6):\n",
    "    ad=[]\n",
    "    for j in range(6):\n",
    "        ad.append(i*10+j)\n",
    "    arr.append(ad)\n",
    "print(arr)\n",
    "arr=np.array(arr)"
   ]
  },
  {
   "cell_type": "code",
   "execution_count": 44,
   "metadata": {},
   "outputs": [
    {
     "name": "stdout",
     "output_type": "stream",
     "text": [
      "주황색 [ 1 12 23 34 45]\n",
      "빨강색 [ 2 22 52]\n",
      "하늘색 [[30 32 35]\n",
      " [40 42 45]\n",
      " [50 52 55]]\n"
     ]
    }
   ],
   "source": [
    "print(\"주황색\",arr[[0,1,2,3,4],[1,2,3,4,5]]) \n",
    "print(\"빨강색\",arr[[0,2,5],2])\n",
    "print(\"하늘색\",arr[3:6][:,[0,2,5]])"
   ]
  },
  {
   "cell_type": "code",
   "execution_count": 46,
   "metadata": {},
   "outputs": [
    {
     "name": "stdout",
     "output_type": "stream",
     "text": [
      "빨강색 [ 2 12 22 32 42 52]\n",
      "주황색 [3 4]\n",
      "녹색 [[20 22 24]\n",
      " [40 42 44]]\n",
      "green= [[44 45]\n",
      " [54 55]]\n"
     ]
    }
   ],
   "source": [
    "print(\"빨강색\",arr[:,2])\n",
    "print(\"주황색\",arr[0,[3,4]])\n",
    "print(\"녹색\",arr[[2,4]][:,[0,2,4]])\n",
    "print(\"green=\",arr[4:][:,[4,5]])"
   ]
  },
  {
   "cell_type": "code",
   "execution_count": 51,
   "metadata": {},
   "outputs": [
    {
     "name": "stdout",
     "output_type": "stream",
     "text": [
      "[[ 1  2  3]\n",
      " [ 4  5  6]\n",
      " [ 7  8  9]\n",
      " [10 11 12]]\n",
      "타일출력\n",
      "[[1 0 1]\n",
      " [1 0 1]\n",
      " [1 0 1]\n",
      " [1 0 1]]\n",
      "[[ 2  2  4]\n",
      " [ 5  5  7]\n",
      " [ 8  8 10]\n",
      " [11 11 13]]\n",
      "[[ 2  2  4]\n",
      " [ 5  5  7]\n",
      " [ 8  8 10]\n",
      " [11 11 13]]\n"
     ]
    },
    {
     "data": {
      "text/plain": [
       "array([[ 4,  5,  6],\n",
       "       [ 7,  8,  9],\n",
       "       [10, 11, 12],\n",
       "       [13, 14, 15]])"
      ]
     },
     "execution_count": 51,
     "metadata": {},
     "output_type": "execute_result"
    }
   ],
   "source": [
    "x=np.array([[1,2,3],[4,5,6],[7,8,9],[10,11,12]]) #4x3 4행 3열?\n",
    "print(x)\n",
    "v=np.array([1,0,1])\n",
    "print(\"타일출력\")\n",
    "vv=np.tile(v,(4,1)) #v가 4행 1열로\n",
    "print(vv)\n",
    "y=x+vv #4x3 배열연산=>요소별 연산\n",
    "print(y)\n",
    "#배열연산:양쪽차원이 일치해야함\n",
    "print(x+v) #4x3, 1x3 브로드캐스팅  4x3 ,4x1  가능 \n",
    "x+3  #상수는 모든데이터에 가능"
   ]
  },
  {
   "cell_type": "code",
   "execution_count": 57,
   "metadata": {},
   "outputs": [
    {
     "name": "stdout",
     "output_type": "stream",
     "text": [
      "[[0 1]\n",
      " [2 3]\n",
      " [4 5]]\n"
     ]
    },
    {
     "data": {
      "text/plain": [
       "array([[ 1,  3,  5],\n",
       "       [ 3, 13, 23],\n",
       "       [ 5, 23, 41]])"
      ]
     },
     "execution_count": 57,
     "metadata": {},
     "output_type": "execute_result"
    }
   ],
   "source": [
    "x=np.arange(6).reshape((3,2)) #0~5까지 3행2열\n",
    "print(x)\n",
    "#거듭제곱(행렬곱)\n",
    "#x@x  #앞의 행렬 열수와 뒤의 행렬의 행수가 일치해야함 다시 생각!\n",
    "#(3x2)(3x2) #에러가뜸\n",
    "            \n",
    "#전치행렬 :행과 열을 바꿔 줌 ,#전치해주면 (3x2)(2x3) 이된다\n",
    "x@x.T  #3x3\n",
    "#print(np.transpose(x)) 도 가능"
   ]
  },
  {
   "cell_type": "code",
   "execution_count": 80,
   "metadata": {},
   "outputs": [
    {
     "name": "stdout",
     "output_type": "stream",
     "text": [
      "[[[ 0  1  2  3]\n",
      "  [ 4  5  6  7]\n",
      "  [ 8  9 10 11]]\n",
      "\n",
      " [[12 13 14 15]\n",
      "  [16 17 18 19]\n",
      "  [20 21 22 23]]]\n",
      "\n",
      "[[[ 0  1  2  3]\n",
      "  [12 13 14 15]]\n",
      "\n",
      " [[ 4  5  6  7]\n",
      "  [16 17 18 19]]\n",
      "\n",
      " [[ 8  9 10 11]\n",
      "  [20 21 22 23]]]\n",
      "\n",
      "[[[ 0  4  8]\n",
      "  [ 1  5  9]\n",
      "  [ 2  6 10]\n",
      "  [ 3  7 11]]\n",
      "\n",
      " [[12 16 20]\n",
      "  [13 17 21]\n",
      "  [14 18 22]\n",
      "  [15 19 23]]]\n"
     ]
    }
   ],
   "source": [
    "arr=np.arange(24).reshape((2,3,4)) #0,1,2\n",
    "print(arr)\n",
    "print()\n",
    "print(arr.transpose((1,0,2))) #3면2행4열로 바뀜\n",
    "print()\n",
    "print(arr.transpose((0,2,1))) #2면4행3열로 바뀜"
   ]
  },
  {
   "cell_type": "code",
   "execution_count": 84,
   "metadata": {},
   "outputs": [
    {
     "name": "stdout",
     "output_type": "stream",
     "text": [
      "[[-0.9121697   1.16132256 -0.43877227 -0.10462475]\n",
      " [-1.10741455 -1.12267444 -1.0095676  -0.30078964]\n",
      " [-0.94219495  1.68836668  0.50312493  0.45548756]\n",
      " [-2.39740691  2.28573997 -0.99060095  2.28066299]\n",
      " [ 0.07442856 -0.05549438 -0.30660044  0.79971847]\n",
      " [ 0.17461314 -0.1196969  -0.1720281  -0.81480566]\n",
      " [ 0.90038969 -0.08992046  0.57094184 -1.13394006]]\n",
      "[ True False False False False False False]\n",
      "[[-0.9121697   1.16132256 -0.43877227 -0.10462475]]\n",
      "[[-0.43877227 -0.10462475]]\n",
      "[-0.10462475]\n",
      "[False  True  True  True  True  True  True]\n",
      "[False  True  True  True  True  True  True]\n",
      "[ True False  True False  True False False]\n",
      "[[-0.9121697   1.16132256 -0.43877227 -0.10462475]\n",
      " [-0.94219495  1.68836668  0.50312493  0.45548756]\n",
      " [ 0.07442856 -0.05549438 -0.30660044  0.79971847]]\n"
     ]
    }
   ],
   "source": [
    "#Boolean indexing (True/False)   중요!!!\n",
    "#문자열은 대소문자 구분\n",
    "names=np.array(['Seoul','Daejun','chungju','seoul','chungju','Daejun','Daejun'])\n",
    "data=np.random.randn(7,4) #7행 4열의 행렬을 랜덤하게\n",
    "print(data)\n",
    "print(names=='Seoul') #1.0,0,0,0,0,\n",
    "print(data[names=='Seoul']) #0번행\n",
    "print(data[names=='Seoul',2:])\n",
    "print(data[names=='Seoul',3])\n",
    "print(names !='Seoul')\n",
    "print(~(names=='Seoul')) #위의 것과 같음 ~은 부정\n",
    "mask=(names=='Seoul')|(names=='chungju') #또는 \n",
    "print(mask) \n",
    "print(data[mask])  #3개가 true"
   ]
  },
  {
   "cell_type": "code",
   "execution_count": 72,
   "metadata": {},
   "outputs": [
    {
     "name": "stdout",
     "output_type": "stream",
     "text": [
      "<zip object at 0x000002379876A1C8>\n",
      "[(1.1, 2.1, True), (1.2, 2.2, False), (1.2, 2.3, True), (1.3, 2.4, True), (1.5, 2.5, False)]\n",
      "result= [1.1, 2.2, 1.2, 1.3, 2.5]\n",
      "[1.1 2.2 1.2 1.3 2.5]\n",
      "[[-0.13435685 -0.66776968 -1.20471517 -0.49170229]\n",
      " [ 0.12764318  0.01800417  0.9954842  -0.75614719]\n",
      " [ 0.99153487  0.02346459 -1.16450575  0.51963602]\n",
      " [-0.52748826 -0.1545296   0.27762049 -0.10873906]]\n",
      "[[-2 -2 -2 -2]\n",
      " [ 2  2  2 -2]\n",
      " [ 2  2 -2  2]\n",
      " [-2 -2  2 -2]]\n"
     ]
    }
   ],
   "source": [
    "xarr=np.array([1.1,1.2,1.2,1.3,1.5])\n",
    "yarr=np.array([2.1,2.2,2.3,2.4,2.5])\n",
    "cond=np.array([True,False,True,True,False])\n",
    "print(zip(xarr,yarr,cond)) #요소별로 데이터를 묶음.zip 고유포멧 그래서 아래처럼 list로 변환\n",
    "print(list(zip(xarr,yarr,cond)))\n",
    "result=[(x if c else y) for x,y,c in zip (xarr,yarr,cond)] #3항 연산자\n",
    "print(\"result=\",result)\n",
    "\n",
    "result=np.where(cond,xarr,yarr) #조건이 참이면 xarr 조건이 거짓이면 yarr\n",
    "print(result)\n",
    "      \n",
    "arr=np.random.randn(4,4) #4by 4\n",
    "print(arr)\n",
    "print(np.where(arr>0,2,-2)) #나온 요소들이 참인가, 참이면 2, 거짓이면 -2"
   ]
  },
  {
   "cell_type": "code",
   "execution_count": 75,
   "metadata": {},
   "outputs": [
    {
     "name": "stdout",
     "output_type": "stream",
     "text": [
      "3항 연산자 [1 2 0 0 3 2 0]\n",
      "수식을 이용한 [1 2 0 0 3 2 0]\n"
     ]
    }
   ],
   "source": [
    "#문제 다음데이터를 이용하여 두개 다 참일 때는 0, cond1 이 참일때는 1, cond2가 참일때는 2 그 외일 때는\n",
    "#3으로 처리하여 출력하도록 하시오\n",
    "#0,1,2,3\n",
    "#조건 4\n",
    "#where 3\n",
    "result=[]\n",
    "cond1=np.array([1,0,1,1,0,0,1],dtype=bool)\n",
    "cond2=np.array([0,1,1,1,0,1,1],dtype=bool)\n",
    "\n",
    "result=np.where(cond1 & cond2, 0, np.where(cond1, 1, np.where(cond2, 2,3)))\n",
    "print(\"3항 연산자\",result)\n",
    "\n",
    "result=1*(cond1&~cond2)+2*(cond2&~cond1)+3* ~(cond1 | cond2)\n",
    "print(\"수식을 이용한\",result)"
   ]
  },
  {
   "cell_type": "code",
   "execution_count": 82,
   "metadata": {},
   "outputs": [],
   "source": [
    "x=np.arange(1,10001)\n",
    "y=np.arange(10001,20001)\n",
    "z=np.zeros_like(x)  #다른 행렬과 같은 사이즈로 초기화 zeros_like()라는 함수를 사용\n",
    "for i in range(10000):\n",
    "    z[i]=x[i]+y[i]"
   ]
  },
  {
   "cell_type": "code",
   "execution_count": 83,
   "metadata": {},
   "outputs": [
    {
     "name": "stdout",
     "output_type": "stream",
     "text": [
      "False\n",
      "True\n",
      "[ 2.71828183  7.3890561  20.08553692 54.59815003]\n"
     ]
    }
   ],
   "source": [
    "a=np.array([1,2,3,4])\n",
    "b=np.array([4,2,2,4])\n",
    "print(np.all(a==b)) #전체가 참일때 참\n",
    "print(np.any(a==b)) #하나라도 참이면 참\n",
    "print(np.exp(a)) #지수함수 (자연대수:2.172) 느닷없이 로그를 취할때는 값을 작게 만들려고"
   ]
  },
  {
   "cell_type": "code",
   "execution_count": null,
   "metadata": {},
   "outputs": [],
   "source": [
    "#선형대수:선형으로 해결하자 =>비선형도 잘게 나누면 선형 "
   ]
  },
  {
   "cell_type": "code",
   "execution_count": 85,
   "metadata": {},
   "outputs": [],
   "source": [
    "#행렬의 종류\n",
    "#-정방행렬:정사각형(행과 열수가 같은 행렬)\n",
    "#-대칭행렬:우상단과 좌하단 같은것 \n",
    "#-대각행렬:scale을 변화시키는 요소\n",
    "#-단위행렬(identity):행렬곱의 항등원, 행렬과 역행렬을 곱하면 단위행렬\n",
    "#-역행렬:행렬의 나눗셈을 위해 구해서 곱해지는 행렬(정방행렬만 가능)\n",
    "#-특이행렬:역행렬이 없는 행렬\n",
    "#-직교행렬:축의 정직교,각 축과는 내적이 0인행렬\n",
    "#-정방행렬이면서 대칭행렬:공분산 행렬,상관계수행렬,거리행렬\n",
    "#-공분산:두 수간의 관계, ((한수-평균)*(다른수-평균))/(n-1)\n",
    "#-상관계수(표준화 -1~1 사이값):공분산/표준편차의 곱"
   ]
  },
  {
   "cell_type": "code",
   "execution_count": 87,
   "metadata": {},
   "outputs": [
    {
     "name": "stdout",
     "output_type": "stream",
     "text": [
      "[[1 2]\n",
      " [3 4]]\n",
      "[[2 2]\n",
      " [2 2]]\n",
      "[[3 4]\n",
      " [5 6]]\n",
      "[[2 4]\n",
      " [6 8]]\n",
      "[[ 6  6]\n",
      " [14 14]]\n"
     ]
    }
   ],
   "source": [
    "import numpy as np\n",
    "F1=np.array([[1,2],[3,4]]) #2x2\n",
    "F2=np.array([[2,2],[2,2]]) #2x2\n",
    "print(F1)\n",
    "print(F2)\n",
    "print(F1+F2) #요소끼리\n",
    "print(F1*F2) \n",
    "print(F1@F2) \n",
    "#1,2   2,2   행렬곱도 내적 1x2+2x2=6 \n",
    "#3,4   2,2                 3x2+4x2=14\n",
    "#       2,2,1             차원확장 (곱해야할 요소가 3개로 늘어남)\n",
    "#       2,2,1   "
   ]
  },
  {
   "cell_type": "code",
   "execution_count": 88,
   "metadata": {},
   "outputs": [],
   "source": [
    "#방정식의 해\n",
    "#2x1 + x2 -2x3=-3\n",
    "#3x1 +      x3=5\n",
    "#  x1+ x2 - x3=-2\n",
    "\n"
   ]
  },
  {
   "cell_type": "code",
   "execution_count": 89,
   "metadata": {},
   "outputs": [
    {
     "name": "stdout",
     "output_type": "stream",
     "text": [
      "[[ 2  1 -2]\n",
      " [ 3  0  1]\n",
      " [ 1  1 -1]]\n",
      "[[-3]\n",
      " [ 5]\n",
      " [-2]]\n",
      "[[ 1.]\n",
      " [-1.]\n",
      " [ 2.]]\n"
     ]
    }
   ],
   "source": [
    "A=np.array([[2,1,-2],[3,0,1],[1,1,-1]])\n",
    "print(A)\n",
    "b=np.transpose(np.array([[-3,5,-2]])) #열로 전치\n",
    "print(b)\n",
    "x=np.linalg.solve(A,b)#A의 역행렬을 구해서 b와 곱해줌\n",
    "print(x)\n"
   ]
  },
  {
   "cell_type": "code",
   "execution_count": 90,
   "metadata": {},
   "outputs": [
    {
     "data": {
      "text/plain": [
       "array([[ 1.],\n",
       "       [-1.],\n",
       "       [ 2.]])"
      ]
     },
     "execution_count": 90,
     "metadata": {},
     "output_type": "execute_result"
    }
   ],
   "source": [
    "np.dot(np.linalg.inv(A),b) #행렬곱  #inv가 역행렬구하는 함수"
   ]
  },
  {
   "cell_type": "code",
   "execution_count": 92,
   "metadata": {},
   "outputs": [
    {
     "data": {
      "text/plain": [
       "array([[ 1.],\n",
       "       [-1.],\n",
       "       [ 2.]])"
      ]
     },
     "execution_count": 92,
     "metadata": {},
     "output_type": "execute_result"
    }
   ],
   "source": [
    "np.linalg.inv(A)@b #왜 역행렬을 구해야 하는가? 행렬은 나눗셈이 없어서 역행렬 곱해서"
   ]
  },
  {
   "cell_type": "code",
   "execution_count": 94,
   "metadata": {},
   "outputs": [
    {
     "data": {
      "text/plain": [
       "-3"
      ]
     },
     "execution_count": 94,
     "metadata": {},
     "output_type": "execute_result"
    }
   ],
   "source": [
    "#검산\n",
    "2*1 +(-1) -2*2"
   ]
  },
  {
   "cell_type": "code",
   "execution_count": 96,
   "metadata": {},
   "outputs": [
    {
     "name": "stdout",
     "output_type": "stream",
     "text": [
      "0\n"
     ]
    }
   ],
   "source": [
    "a=np.array([0,1,0]) #x축\n",
    "b=np.array([1,0,0]) #y 축\n",
    "res=np.dot(a,b) #내적사이각 =직각 (내적이 0이므로)  #행렬의 곱\n",
    "print(res)"
   ]
  },
  {
   "cell_type": "code",
   "execution_count": 100,
   "metadata": {},
   "outputs": [
    {
     "name": "stdout",
     "output_type": "stream",
     "text": [
      "1.0\n",
      "1.0\n",
      "1.0\n",
      "cos theta 0.0\n",
      "1.5707963267948966\n",
      "90.0\n"
     ]
    }
   ],
   "source": [
    "print(np.linalg.norm(a)) #|a|:벡터의 크기 \n",
    "print(np.linalg.norm(b)) \n",
    "print(np.linalg.norm(a)*np.linalg.norm(b))\n",
    "rad=res/(np.linalg.norm(a)*np.linalg.norm(b)) #cos(theta)\n",
    "print(\"cos theta\",rad) \n",
    "print(np.arccos(rad)) #theta 값을 구함\n",
    "print(np.degrees(np.arccos(rad))) #사람이 알아보는 각도로 표현"
   ]
  },
  {
   "cell_type": "code",
   "execution_count": 102,
   "metadata": {},
   "outputs": [
    {
     "name": "stdout",
     "output_type": "stream",
     "text": [
      "[[1 2]\n",
      " [3 4]]\n",
      "[[-2.   1. ]\n",
      " [ 1.5 -0.5]]\n",
      "[[1.00000000e+00 1.11022302e-16]\n",
      " [0.00000000e+00 1.00000000e+00]]\n"
     ]
    }
   ],
   "source": [
    "x=np.array([[1,2],[3,4]])\n",
    "y=np.linalg.inv(x)\n",
    "print(x)\n",
    "print(y)\n",
    "print(np.dot(x,y))  #1.11022302e-16 도 0 "
   ]
  },
  {
   "cell_type": "code",
   "execution_count": 105,
   "metadata": {},
   "outputs": [
    {
     "name": "stdout",
     "output_type": "stream",
     "text": [
      "[[ 1  1  1]\n",
      " [ 0  2  5]\n",
      " [ 2  5 -1]]\n",
      "[[ 6]\n",
      " [-4]\n",
      " [27]]\n",
      "[[ 5.]\n",
      " [ 3.]\n",
      " [-2.]]\n"
     ]
    }
   ],
   "source": [
    "#다음 방정식의 해를 구하고 검산하시오\n",
    "#x+y+z=6\n",
    "#  2y+5z=-4\n",
    "#2x+5y-z=27\n",
    "\n",
    "A=np.array([[1,1,1],[0,2,5],[2,5,-1]])\n",
    "print(A)\n",
    "b=np.transpose(np.array([[6,-4,27]])) #열로 전치\n",
    "print(b)\n",
    "x=np.linalg.solve(A,b)#A의 역행렬을 구해서 b와 곱해줌\n",
    "print(x)"
   ]
  },
  {
   "cell_type": "code",
   "execution_count": null,
   "metadata": {},
   "outputs": [],
   "source": [
    "#검산 x=5,y=3,z=-2\n",
    "5+3-2=6"
   ]
  }
 ],
 "metadata": {
  "kernelspec": {
   "display_name": "Python 3",
   "language": "python",
   "name": "python3"
  },
  "language_info": {
   "codemirror_mode": {
    "name": "ipython",
    "version": 3
   },
   "file_extension": ".py",
   "mimetype": "text/x-python",
   "name": "python",
   "nbconvert_exporter": "python",
   "pygments_lexer": "ipython3",
   "version": "3.7.4"
  }
 },
 "nbformat": 4,
 "nbformat_minor": 2
}
