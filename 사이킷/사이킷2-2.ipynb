{
 "cells": [
  {
   "cell_type": "code",
   "execution_count": null,
   "metadata": {},
   "outputs": [],
   "source": [
    "# pipeline : 전처리->model 연결\n",
    "#  - 전처리하기 전에 test 데이터와 훈련 데이터 분리\n",
    "#  - 매개변수에 값 설정하는 방식 : 이름__parameter명 = 값\n",
    "#\n",
    "# GridSearchCV : parameter tunning => parameter의 조합을 만들어 test\n",
    "#\n",
    "# Decision Tree\n",
    "#  - Regressor\n",
    "#  - Classifier\n",
    "#\n",
    "# Random Forest\n",
    "#\n",
    "# XGBoost : DMatrix(전용행렬)만드는 방법과 model을 직접 호출하는 방법 두가지 존재\n",
    "#  - Regressor\n",
    "#  - Classifier\n",
    "#\n",
    "# Tree계열은 1)시각화 2)변수중요도가 출력된다.(*변수중요도는 Decision Tree만 빼고)\n",
    "#\n",
    "# PreProccessing\n",
    "#  - 정규화\n",
    "#    1) scale : Z점수\n",
    "#    2) robust_scale 평균 : median(위치적 중위수) / IQR\n",
    "#    3) minmax_scale : 0 ~ 1\n",
    "#    4) maxabs_scale\n",
    "#\n",
    "# 평가\n",
    "#  - 분류 : confusion_matrix\n",
    "#  - 예측 : MSE, RMSE"
   ]
  }
 ],
 "metadata": {
  "kernelspec": {
   "display_name": "Python 3",
   "language": "python",
   "name": "python3"
  },
  "language_info": {
   "codemirror_mode": {
    "name": "ipython",
    "version": 3
   },
   "file_extension": ".py",
   "mimetype": "text/x-python",
   "name": "python",
   "nbconvert_exporter": "python",
   "pygments_lexer": "ipython3",
   "version": "3.7.4"
  }
 },
 "nbformat": 4,
 "nbformat_minor": 2
}
