{
 "cells": [
  {
   "cell_type": "markdown",
   "metadata": {},
   "source": [
    "# 검증Validation\n",
    " \n",
    "Cross Validation\n",
    ":the set or train,valid,test\n",
    ":k-Fold with Stratify\n",
    ":Cross vaildation score\n",
    "    \n",
    "Parameter Tuning\n",
    ":Grid Search\n",
    ":Random Search\n",
    "    \n",
    "Ensemble\n",
    ":Voting Ensemble\n",
    ":Stacking, Average Blending"
   ]
  },
  {
   "cell_type": "code",
   "execution_count": null,
   "metadata": {},
   "outputs": [],
   "source": [
    "import pandas as pd\n",
    "import sklearn\n",
    "import matplotlib.pyplot as plt\n",
    "\n",
    "adult_path=join('data','adult_data.csv')\n",
    "column_path=join('data','adult_names.txt')\n",
    "\n",
    "adult_columns=list()\n",
    "for l in open(column_path):\n",
    "    adult_colums=l.split()\n",
    "\n",
    "data=pd.read_csv(ault_path,names=adult_columns)\n",
    "label=data['income']\n",
    "\n",
    "dal data['income']  #y값이 income 이므로 \n",
    "data.head()......\n",
    "\n",
    "소득을 예측하는 데이터 (이진분류)"
   ]
  },
  {
   "cell_type": "code",
   "execution_count": null,
   "metadata": {},
   "outputs": [],
   "source": [
    "#get_dummies 함수를 사용해 범주형 변수를 one hot encoding 하고 라벨 데이터를 0,1로 변경\n",
    "#one hot encoding 변환한 다음에 다시 되돌려야 함, 판다스에 get_dummies함수가 있다\n",
    "data=pc.get_dummies(data) \n",
    "label=label.map(lambda x:0 if x=='>50k' else 1)\n",
    "data.shape"
   ]
  },
  {
   "cell_type": "markdown",
   "metadata": {},
   "source": [
    "훈련,검증,테스트 데이터\n",
    "train data:모델을 학습하는데 사용하는 데이터(모델이 알고 있는 학습할 데이터)\n",
    "valid data:학습한 모델의 성능을 데이터(모델이 모르는 학습하지 않을 데이터, 모델 검증에 사용하는 데이터)\n",
    "test data:학습한 모델로 예측할 데이터 (모델이 모르는 예측할 데이터)"
   ]
  },
  {
   "cell_type": "code",
   "execution_count": null,
   "metadata": {},
   "outputs": [],
   "source": [
    "from sklearn.model_selection import train_test_split\n",
    "\n",
    "#(train , valid) test 분할\n",
    "X,X_train,y,y_train=train_test_split(data,label,test_size=0.2,stratify=label,shuffle=True)\n",
    "\n",
    "#확인(안해도됨)\n",
    "label.unique()\n",
    "#확인(안해도됨)\n",
    "print('ones:{}'.format(np.sum(label==1,axis=0)))\n",
    "print('zeros:{}'.format(np.sum(label==0,axis=0)))\n",
    "답 ones:37115, zeros:11687\n",
    "    \n",
    "#train, valid 분할\n",
    "X_train,X_valid,y_train,y_valid=train_test_split(X,y,test_size=0.2,stratify=y,shuffle=True)"
   ]
  },
  {
   "cell_type": "code",
   "execution_count": null,
   "metadata": {},
   "outputs": [],
   "source": [
    "from sklearn.linear_model import LogisticRegression\n",
    "from sklearn.metrics import accuracy_score\n",
    "\n",
    "lr=LogisticRegression(random_state=2019)\n",
    "\n",
    "#train 데이터로 학습\n",
    "lr.fit(X_train,y_train)\n",
    "\n",
    "#valid 데이터로 검증\n",
    "y_pred_val=lr.predict(X_valid)\n",
    "print('로지스틱 회귀검증 데이터 정확도: {:2.f}%'.format(accuracy_score(y_valid,y_pred_val)*100))\n",
    "\n",
    "답:로지스틱 회귀검증 데이터 정확도:79.99%\n",
    "\n",
    "#test데이터로 모델 평가\n",
    "y_pred=print('로지스틱 회귀 테스트 데이터 정확도:{:2.f}%'.format(accuracy_score(y_test,y_pred)*100))\n",
    "답:로지스틱 회귀 테스트 정확도:79.77%"
   ]
  },
  {
   "cell_type": "markdown",
   "metadata": {},
   "source": [
    "# K-fold with stratify\n",
    "\n",
    "k-Fold \n",
    "는 말 그대로 데이터를 k개로 쪼갠다.\n",
    "k의 개수를 조절하여 몇개의 fold 를 만들지 결정할 수 있다.\n",
    "k-fold 는 sklearn 의 model_selection 패키지에 있다\n",
    "\n",
    "StraitifiedKfold 가 더 좋은듯..\n",
    "비율로 쪼갠다.\n"
   ]
  },
  {
   "cell_type": "code",
   "execution_count": null,
   "metadata": {},
   "outputs": [],
   "source": [
    "from sklearn.model_selection import StratifiedKFold\n",
    "skf=StratifiedKFold(n_splits=5,shuffle=True, random_state=2019)\n",
    "\n",
    "......"
   ]
  },
  {
   "cell_type": "markdown",
   "metadata": {},
   "source": [
    "# cross validation score\n",
    "for i ....(반복문) 거추장스럽게 할 필요 없이 알아서 sklearn 에는 한번에 k-fold cross validation score 를 계산하는 cross_val_score 함수를 제공한다.\n",
    "파라미터로 cv에 숫자를 전달하면, 그 숫자 만큼의 fold를 만들어 cross validation(CV)를 진행하고,\n",
    "kfold 객체를 전달하면 해당객체에 맞에 데이터를 분할하여 CV score를 계산한다.\n",
    "cross_val_score 함수는 폴드 개수대로 Score 를 반환하며, 해당 스코어들의 평균을 계산해 모델의 성능을 가늠해 볼 수 있다.\n",
    "\n",
    "기본적으로 cross_val_score 함수는 label 값이 클래스로 나누어진 분류 모델인 경우 StratifiedKFold 를 적용한다."
   ]
  },
  {
   "cell_type": "code",
   "execution_count": null,
   "metadata": {},
   "outputs": [],
   "source": []
  }
 ],
 "metadata": {
  "kernelspec": {
   "display_name": "Python 3",
   "language": "python",
   "name": "python3"
  },
  "language_info": {
   "codemirror_mode": {
    "name": "ipython",
    "version": 3
   },
   "file_extension": ".py",
   "mimetype": "text/x-python",
   "name": "python",
   "nbconvert_exporter": "python",
   "pygments_lexer": "ipython3",
   "version": "3.7.4"
  }
 },
 "nbformat": 4,
 "nbformat_minor": 2
}
