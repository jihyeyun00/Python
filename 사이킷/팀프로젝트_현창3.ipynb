{
 "cells": [
  {
   "cell_type": "code",
   "execution_count": 2,
   "metadata": {},
   "outputs": [],
   "source": [
    "import numpy as np\n",
    "import pandas as pd\n",
    "import matplotlib.pyplot as plt\n",
    "from sklearn.linear_model import LinearRegression\n",
    "df = pd.read_csv(\"연습1.csv\",encoding = \n",
    "                 'euc-kr',index_col = 0)\n",
    "\n",
    "from matplotlib import font_manager,rc\n",
    "font_name=font_manager.FontProperties(fname=\"c:/Windows/Fonts/malgun.ttf\").get_name()\n",
    "rc('font',family=font_name)\n"
   ]
  },
  {
   "cell_type": "code",
   "execution_count": 3,
   "metadata": {},
   "outputs": [],
   "source": [
    "df[\"일강수량(mm)\"].fillna(0,inplace =True)"
   ]
  },
  {
   "cell_type": "code",
   "execution_count": 4,
   "metadata": {},
   "outputs": [],
   "source": [
    "df=df.dropna(axis = 0 )"
   ]
  },
  {
   "cell_type": "code",
   "execution_count": 5,
   "metadata": {
    "scrolled": true
   },
   "outputs": [
    {
     "data": {
      "text/html": [
       "<div>\n",
       "<style scoped>\n",
       "    .dataframe tbody tr th:only-of-type {\n",
       "        vertical-align: middle;\n",
       "    }\n",
       "\n",
       "    .dataframe tbody tr th {\n",
       "        vertical-align: top;\n",
       "    }\n",
       "\n",
       "    .dataframe thead th {\n",
       "        text-align: right;\n",
       "    }\n",
       "</style>\n",
       "<table border=\"1\" class=\"dataframe\">\n",
       "  <thead>\n",
       "    <tr style=\"text-align: right;\">\n",
       "      <th></th>\n",
       "      <th>최고기온(°C)</th>\n",
       "      <th>일강수량(mm)</th>\n",
       "      <th>최대 순간 풍속(m/s)</th>\n",
       "      <th>최대 풍속(m/s)</th>\n",
       "      <th>평균 풍속(m/s)</th>\n",
       "      <th>풍정합(100m)</th>\n",
       "      <th>최소 상대습도(%)</th>\n",
       "      <th>평균 상대습도(%)</th>\n",
       "      <th>가조시간(hr)</th>\n",
       "      <th>평균 전운량(1/10)</th>\n",
       "      <th>평균 중하층운량(1/10)</th>\n",
       "      <th>평균 지면온도(°C)</th>\n",
       "      <th>분류</th>\n",
       "    </tr>\n",
       "    <tr>\n",
       "      <th>일시</th>\n",
       "      <th></th>\n",
       "      <th></th>\n",
       "      <th></th>\n",
       "      <th></th>\n",
       "      <th></th>\n",
       "      <th></th>\n",
       "      <th></th>\n",
       "      <th></th>\n",
       "      <th></th>\n",
       "      <th></th>\n",
       "      <th></th>\n",
       "      <th></th>\n",
       "      <th></th>\n",
       "    </tr>\n",
       "  </thead>\n",
       "  <tbody>\n",
       "    <tr>\n",
       "      <td>2019-01-01</td>\n",
       "      <td>7.0</td>\n",
       "      <td>0.0</td>\n",
       "      <td>13.6</td>\n",
       "      <td>7.6</td>\n",
       "      <td>5.3</td>\n",
       "      <td>4560.0</td>\n",
       "      <td>47.0</td>\n",
       "      <td>61.1</td>\n",
       "      <td>10.0</td>\n",
       "      <td>9.0</td>\n",
       "      <td>9.0</td>\n",
       "      <td>4.8</td>\n",
       "      <td>45</td>\n",
       "    </tr>\n",
       "    <tr>\n",
       "      <td>2019-01-02</td>\n",
       "      <td>6.1</td>\n",
       "      <td>0.0</td>\n",
       "      <td>11.4</td>\n",
       "      <td>6.2</td>\n",
       "      <td>3.9</td>\n",
       "      <td>340560.0</td>\n",
       "      <td>53.1</td>\n",
       "      <td>61.0</td>\n",
       "      <td>9.9</td>\n",
       "      <td>8.8</td>\n",
       "      <td>8.8</td>\n",
       "      <td>4.6</td>\n",
       "      <td>45</td>\n",
       "    </tr>\n",
       "    <tr>\n",
       "      <td>2019-01-03</td>\n",
       "      <td>8.0</td>\n",
       "      <td>0.0</td>\n",
       "      <td>8.2</td>\n",
       "      <td>5.1</td>\n",
       "      <td>2.7</td>\n",
       "      <td>234000.0</td>\n",
       "      <td>41.2</td>\n",
       "      <td>60.0</td>\n",
       "      <td>9.9</td>\n",
       "      <td>4.1</td>\n",
       "      <td>4.1</td>\n",
       "      <td>5.5</td>\n",
       "      <td>54</td>\n",
       "    </tr>\n",
       "    <tr>\n",
       "      <td>2019-01-04</td>\n",
       "      <td>10.0</td>\n",
       "      <td>1.6</td>\n",
       "      <td>7.6</td>\n",
       "      <td>4.6</td>\n",
       "      <td>2.0</td>\n",
       "      <td>174960.0</td>\n",
       "      <td>62.7</td>\n",
       "      <td>78.0</td>\n",
       "      <td>9.9</td>\n",
       "      <td>8.1</td>\n",
       "      <td>6.3</td>\n",
       "      <td>5.2</td>\n",
       "      <td>41</td>\n",
       "    </tr>\n",
       "    <tr>\n",
       "      <td>2019-01-05</td>\n",
       "      <td>9.0</td>\n",
       "      <td>0.0</td>\n",
       "      <td>8.9</td>\n",
       "      <td>5.1</td>\n",
       "      <td>3.2</td>\n",
       "      <td>274320.0</td>\n",
       "      <td>49.5</td>\n",
       "      <td>67.0</td>\n",
       "      <td>9.9</td>\n",
       "      <td>5.9</td>\n",
       "      <td>5.1</td>\n",
       "      <td>6.6</td>\n",
       "      <td>52</td>\n",
       "    </tr>\n",
       "  </tbody>\n",
       "</table>\n",
       "</div>"
      ],
      "text/plain": [
       "            최고기온(°C)  일강수량(mm)  최대 순간 풍속(m/s)  최대 풍속(m/s)  평균 풍속(m/s)  \\\n",
       "일시                                                                      \n",
       "2019-01-01       7.0       0.0           13.6         7.6         5.3   \n",
       "2019-01-02       6.1       0.0           11.4         6.2         3.9   \n",
       "2019-01-03       8.0       0.0            8.2         5.1         2.7   \n",
       "2019-01-04      10.0       1.6            7.6         4.6         2.0   \n",
       "2019-01-05       9.0       0.0            8.9         5.1         3.2   \n",
       "\n",
       "            풍정합(100m)  최소 상대습도(%)  평균 상대습도(%)  가조시간(hr)  평균 전운량(1/10)  \\\n",
       "일시                                                                      \n",
       "2019-01-01     4560.0        47.0        61.1      10.0           9.0   \n",
       "2019-01-02   340560.0        53.1        61.0       9.9           8.8   \n",
       "2019-01-03   234000.0        41.2        60.0       9.9           4.1   \n",
       "2019-01-04   174960.0        62.7        78.0       9.9           8.1   \n",
       "2019-01-05   274320.0        49.5        67.0       9.9           5.9   \n",
       "\n",
       "            평균 중하층운량(1/10)  평균 지면온도(°C)  분류  \n",
       "일시                                           \n",
       "2019-01-01             9.0          4.8  45  \n",
       "2019-01-02             8.8          4.6  45  \n",
       "2019-01-03             4.1          5.5  54  \n",
       "2019-01-04             6.3          5.2  41  \n",
       "2019-01-05             5.1          6.6  52  "
      ]
     },
     "execution_count": 5,
     "metadata": {},
     "output_type": "execute_result"
    }
   ],
   "source": [
    "df.head()"
   ]
  },
  {
   "cell_type": "code",
   "execution_count": 6,
   "metadata": {
    "scrolled": true
   },
   "outputs": [
    {
     "data": {
      "text/plain": [
       "최고기온(°C)          0\n",
       "일강수량(mm)          0\n",
       "최대 순간 풍속(m/s)     0\n",
       "최대 풍속(m/s)        0\n",
       "평균 풍속(m/s)        0\n",
       "풍정합(100m)         0\n",
       "최소 상대습도(%)        0\n",
       "평균 상대습도(%)        0\n",
       "가조시간(hr)          0\n",
       "평균 전운량(1/10)      0\n",
       "평균 중하층운량(1/10)    0\n",
       "평균 지면온도(°C)       0\n",
       "분류                0\n",
       "dtype: int64"
      ]
     },
     "execution_count": 6,
     "metadata": {},
     "output_type": "execute_result"
    }
   ],
   "source": [
    "df.isnull().sum()"
   ]
  },
  {
   "cell_type": "code",
   "execution_count": 7,
   "metadata": {},
   "outputs": [],
   "source": [
    "X, y = df.iloc[:,:],df.iloc[:,:]"
   ]
  },
  {
   "cell_type": "code",
   "execution_count": 8,
   "metadata": {},
   "outputs": [
    {
     "name": "stdout",
     "output_type": "stream",
     "text": [
      "            최고기온(°C)  일강수량(mm)  최대 순간 풍속(m/s)  최대 풍속(m/s)  평균 풍속(m/s)  \\\n",
      "일시                                                                      \n",
      "2019-01-01       7.0       0.0           13.6         7.6         5.3   \n",
      "2019-01-02       6.1       0.0           11.4         6.2         3.9   \n",
      "2019-01-03       8.0       0.0            8.2         5.1         2.7   \n",
      "2019-01-04      10.0       1.6            7.6         4.6         2.0   \n",
      "2019-01-05       9.0       0.0            8.9         5.1         3.2   \n",
      "...              ...       ...            ...         ...         ...   \n",
      "2019-12-27       7.3       0.0           17.5         9.5         5.2   \n",
      "2019-12-28       9.7       0.0            6.6         4.0         2.0   \n",
      "2019-12-29      16.4      11.4           10.8         5.9         2.9   \n",
      "2019-12-30      13.6       0.0           14.0         7.7         3.8   \n",
      "2019-12-31       6.4       0.0           17.3        10.0         5.3   \n",
      "\n",
      "            풍정합(100m)  최소 상대습도(%)  평균 상대습도(%)  가조시간(hr)  평균 전운량(1/10)  \\\n",
      "일시                                                                      \n",
      "2019-01-01     4560.0        47.0        61.1      10.0           9.0   \n",
      "2019-01-02   340560.0        53.1        61.0       9.9           8.8   \n",
      "2019-01-03   234000.0        41.2        60.0       9.9           4.1   \n",
      "2019-01-04   174960.0        62.7        78.0       9.9           8.1   \n",
      "2019-01-05   274320.0        49.5        67.0       9.9           5.9   \n",
      "...               ...         ...         ...       ...           ...   \n",
      "2019-12-27   449640.0        47.0        55.0      10.0           8.6   \n",
      "2019-12-28   169920.0        47.0        58.0      10.0           4.8   \n",
      "2019-12-29   246600.0        64.7        82.0      10.0           9.6   \n",
      "2019-12-30   324000.0        61.0        76.0      10.0           8.5   \n",
      "2019-12-31   456840.0        49.6        62.0      10.0           8.6   \n",
      "\n",
      "            평균 중하층운량(1/10)  평균 지면온도(°C)  분류  \n",
      "일시                                           \n",
      "2019-01-01             9.0          4.8  45  \n",
      "2019-01-02             8.8          4.6  45  \n",
      "2019-01-03             4.1          5.5  54  \n",
      "2019-01-04             6.3          5.2  41  \n",
      "2019-01-05             5.1          6.6  52  \n",
      "...                    ...          ...  ..  \n",
      "2019-12-27             8.6          6.2  45  \n",
      "2019-12-28             3.8          7.2  61  \n",
      "2019-12-29             7.0          9.3  36  \n",
      "2019-12-30             7.1         10.8  51  \n",
      "2019-12-31             8.6          5.4  45  \n",
      "\n",
      "[364 rows x 13 columns]\n"
     ]
    }
   ],
   "source": [
    "print(y)"
   ]
  },
  {
   "cell_type": "code",
   "execution_count": 42,
   "metadata": {
    "scrolled": true
   },
   "outputs": [
    {
     "data": {
      "text/html": [
       "<div>\n",
       "<style scoped>\n",
       "    .dataframe tbody tr th:only-of-type {\n",
       "        vertical-align: middle;\n",
       "    }\n",
       "\n",
       "    .dataframe tbody tr th {\n",
       "        vertical-align: top;\n",
       "    }\n",
       "\n",
       "    .dataframe thead th {\n",
       "        text-align: right;\n",
       "    }\n",
       "</style>\n",
       "<table border=\"1\" class=\"dataframe\">\n",
       "  <thead>\n",
       "    <tr style=\"text-align: right;\">\n",
       "      <th></th>\n",
       "      <th>최고기온(°C)</th>\n",
       "      <th>일강수량(mm)</th>\n",
       "      <th>최대 순간 풍속(m/s)</th>\n",
       "      <th>최대 풍속(m/s)</th>\n",
       "      <th>평균 풍속(m/s)</th>\n",
       "      <th>풍정합(100m)</th>\n",
       "      <th>최소 상대습도(%)</th>\n",
       "      <th>평균 상대습도(%)</th>\n",
       "      <th>가조시간(hr)</th>\n",
       "      <th>평균 전운량(1/10)</th>\n",
       "      <th>평균 중하층운량(1/10)</th>\n",
       "      <th>평균 지면온도(°C)</th>\n",
       "      <th>분류</th>\n",
       "    </tr>\n",
       "  </thead>\n",
       "  <tbody>\n",
       "    <tr>\n",
       "      <td>최고기온(°C)</td>\n",
       "      <td>1.000000</td>\n",
       "      <td>0.175206</td>\n",
       "      <td>-0.096924</td>\n",
       "      <td>-0.056964</td>\n",
       "      <td>-0.221401</td>\n",
       "      <td>-0.216202</td>\n",
       "      <td>0.315711</td>\n",
       "      <td>0.439160</td>\n",
       "      <td>0.839474</td>\n",
       "      <td>-0.085174</td>\n",
       "      <td>-0.246872</td>\n",
       "      <td>0.955660</td>\n",
       "      <td>0.216157</td>\n",
       "    </tr>\n",
       "    <tr>\n",
       "      <td>일강수량(mm)</td>\n",
       "      <td>0.175206</td>\n",
       "      <td>1.000000</td>\n",
       "      <td>0.314171</td>\n",
       "      <td>0.289182</td>\n",
       "      <td>0.220952</td>\n",
       "      <td>0.199497</td>\n",
       "      <td>0.338721</td>\n",
       "      <td>0.392572</td>\n",
       "      <td>0.173523</td>\n",
       "      <td>0.304290</td>\n",
       "      <td>0.255761</td>\n",
       "      <td>0.131605</td>\n",
       "      <td>-0.259326</td>\n",
       "    </tr>\n",
       "    <tr>\n",
       "      <td>최대 순간 풍속(m/s)</td>\n",
       "      <td>-0.096924</td>\n",
       "      <td>0.314171</td>\n",
       "      <td>1.000000</td>\n",
       "      <td>0.959380</td>\n",
       "      <td>0.838739</td>\n",
       "      <td>0.756396</td>\n",
       "      <td>0.076888</td>\n",
       "      <td>0.105571</td>\n",
       "      <td>-0.140761</td>\n",
       "      <td>0.316156</td>\n",
       "      <td>0.411179</td>\n",
       "      <td>-0.162483</td>\n",
       "      <td>-0.373513</td>\n",
       "    </tr>\n",
       "    <tr>\n",
       "      <td>최대 풍속(m/s)</td>\n",
       "      <td>-0.056964</td>\n",
       "      <td>0.289182</td>\n",
       "      <td>0.959380</td>\n",
       "      <td>1.000000</td>\n",
       "      <td>0.826994</td>\n",
       "      <td>0.765547</td>\n",
       "      <td>0.071070</td>\n",
       "      <td>0.114993</td>\n",
       "      <td>-0.082707</td>\n",
       "      <td>0.278655</td>\n",
       "      <td>0.366372</td>\n",
       "      <td>-0.114021</td>\n",
       "      <td>-0.333675</td>\n",
       "    </tr>\n",
       "    <tr>\n",
       "      <td>평균 풍속(m/s)</td>\n",
       "      <td>-0.221401</td>\n",
       "      <td>0.220952</td>\n",
       "      <td>0.838739</td>\n",
       "      <td>0.826994</td>\n",
       "      <td>1.000000</td>\n",
       "      <td>0.917876</td>\n",
       "      <td>-0.021487</td>\n",
       "      <td>-0.056008</td>\n",
       "      <td>-0.194272</td>\n",
       "      <td>0.215047</td>\n",
       "      <td>0.386557</td>\n",
       "      <td>-0.242118</td>\n",
       "      <td>-0.321882</td>\n",
       "    </tr>\n",
       "    <tr>\n",
       "      <td>풍정합(100m)</td>\n",
       "      <td>-0.216202</td>\n",
       "      <td>0.199497</td>\n",
       "      <td>0.756396</td>\n",
       "      <td>0.765547</td>\n",
       "      <td>0.917876</td>\n",
       "      <td>1.000000</td>\n",
       "      <td>-0.020667</td>\n",
       "      <td>-0.059725</td>\n",
       "      <td>-0.181883</td>\n",
       "      <td>0.200713</td>\n",
       "      <td>0.355750</td>\n",
       "      <td>-0.236499</td>\n",
       "      <td>-0.279176</td>\n",
       "    </tr>\n",
       "    <tr>\n",
       "      <td>최소 상대습도(%)</td>\n",
       "      <td>0.315711</td>\n",
       "      <td>0.338721</td>\n",
       "      <td>0.076888</td>\n",
       "      <td>0.071070</td>\n",
       "      <td>-0.021487</td>\n",
       "      <td>-0.020667</td>\n",
       "      <td>1.000000</td>\n",
       "      <td>0.887414</td>\n",
       "      <td>0.274502</td>\n",
       "      <td>0.453708</td>\n",
       "      <td>0.447447</td>\n",
       "      <td>0.284019</td>\n",
       "      <td>-0.244754</td>\n",
       "    </tr>\n",
       "    <tr>\n",
       "      <td>평균 상대습도(%)</td>\n",
       "      <td>0.439160</td>\n",
       "      <td>0.392572</td>\n",
       "      <td>0.105571</td>\n",
       "      <td>0.114993</td>\n",
       "      <td>-0.056008</td>\n",
       "      <td>-0.059725</td>\n",
       "      <td>0.887414</td>\n",
       "      <td>1.000000</td>\n",
       "      <td>0.406304</td>\n",
       "      <td>0.494609</td>\n",
       "      <td>0.399907</td>\n",
       "      <td>0.399535</td>\n",
       "      <td>-0.236685</td>\n",
       "    </tr>\n",
       "    <tr>\n",
       "      <td>가조시간(hr)</td>\n",
       "      <td>0.839474</td>\n",
       "      <td>0.173523</td>\n",
       "      <td>-0.140761</td>\n",
       "      <td>-0.082707</td>\n",
       "      <td>-0.194272</td>\n",
       "      <td>-0.181883</td>\n",
       "      <td>0.274502</td>\n",
       "      <td>0.406304</td>\n",
       "      <td>1.000000</td>\n",
       "      <td>-0.019257</td>\n",
       "      <td>-0.237865</td>\n",
       "      <td>0.899129</td>\n",
       "      <td>0.271198</td>\n",
       "    </tr>\n",
       "    <tr>\n",
       "      <td>평균 전운량(1/10)</td>\n",
       "      <td>-0.085174</td>\n",
       "      <td>0.304290</td>\n",
       "      <td>0.316156</td>\n",
       "      <td>0.278655</td>\n",
       "      <td>0.215047</td>\n",
       "      <td>0.200713</td>\n",
       "      <td>0.453708</td>\n",
       "      <td>0.494609</td>\n",
       "      <td>-0.019257</td>\n",
       "      <td>1.000000</td>\n",
       "      <td>0.826562</td>\n",
       "      <td>-0.129851</td>\n",
       "      <td>-0.517777</td>\n",
       "    </tr>\n",
       "    <tr>\n",
       "      <td>평균 중하층운량(1/10)</td>\n",
       "      <td>-0.246872</td>\n",
       "      <td>0.255761</td>\n",
       "      <td>0.411179</td>\n",
       "      <td>0.366372</td>\n",
       "      <td>0.386557</td>\n",
       "      <td>0.355750</td>\n",
       "      <td>0.447447</td>\n",
       "      <td>0.399907</td>\n",
       "      <td>-0.237865</td>\n",
       "      <td>0.826562</td>\n",
       "      <td>1.000000</td>\n",
       "      <td>-0.298676</td>\n",
       "      <td>-0.579276</td>\n",
       "    </tr>\n",
       "    <tr>\n",
       "      <td>평균 지면온도(°C)</td>\n",
       "      <td>0.955660</td>\n",
       "      <td>0.131605</td>\n",
       "      <td>-0.162483</td>\n",
       "      <td>-0.114021</td>\n",
       "      <td>-0.242118</td>\n",
       "      <td>-0.236499</td>\n",
       "      <td>0.284019</td>\n",
       "      <td>0.399535</td>\n",
       "      <td>0.899129</td>\n",
       "      <td>-0.129851</td>\n",
       "      <td>-0.298676</td>\n",
       "      <td>1.000000</td>\n",
       "      <td>0.274100</td>\n",
       "    </tr>\n",
       "    <tr>\n",
       "      <td>분류</td>\n",
       "      <td>0.216157</td>\n",
       "      <td>-0.259326</td>\n",
       "      <td>-0.373513</td>\n",
       "      <td>-0.333675</td>\n",
       "      <td>-0.321882</td>\n",
       "      <td>-0.279176</td>\n",
       "      <td>-0.244754</td>\n",
       "      <td>-0.236685</td>\n",
       "      <td>0.271198</td>\n",
       "      <td>-0.517777</td>\n",
       "      <td>-0.579276</td>\n",
       "      <td>0.274100</td>\n",
       "      <td>1.000000</td>\n",
       "    </tr>\n",
       "  </tbody>\n",
       "</table>\n",
       "</div>"
      ],
      "text/plain": [
       "                최고기온(°C)  일강수량(mm)  최대 순간 풍속(m/s)  최대 풍속(m/s)  평균 풍속(m/s)  \\\n",
       "최고기온(°C)        1.000000  0.175206      -0.096924   -0.056964   -0.221401   \n",
       "일강수량(mm)        0.175206  1.000000       0.314171    0.289182    0.220952   \n",
       "최대 순간 풍속(m/s)  -0.096924  0.314171       1.000000    0.959380    0.838739   \n",
       "최대 풍속(m/s)     -0.056964  0.289182       0.959380    1.000000    0.826994   \n",
       "평균 풍속(m/s)     -0.221401  0.220952       0.838739    0.826994    1.000000   \n",
       "풍정합(100m)      -0.216202  0.199497       0.756396    0.765547    0.917876   \n",
       "최소 상대습도(%)      0.315711  0.338721       0.076888    0.071070   -0.021487   \n",
       "평균 상대습도(%)      0.439160  0.392572       0.105571    0.114993   -0.056008   \n",
       "가조시간(hr)        0.839474  0.173523      -0.140761   -0.082707   -0.194272   \n",
       "평균 전운량(1/10)   -0.085174  0.304290       0.316156    0.278655    0.215047   \n",
       "평균 중하층운량(1/10) -0.246872  0.255761       0.411179    0.366372    0.386557   \n",
       "평균 지면온도(°C)     0.955660  0.131605      -0.162483   -0.114021   -0.242118   \n",
       "분류              0.216157 -0.259326      -0.373513   -0.333675   -0.321882   \n",
       "\n",
       "                풍정합(100m)  최소 상대습도(%)  평균 상대습도(%)  가조시간(hr)  평균 전운량(1/10)  \\\n",
       "최고기온(°C)        -0.216202    0.315711    0.439160  0.839474     -0.085174   \n",
       "일강수량(mm)         0.199497    0.338721    0.392572  0.173523      0.304290   \n",
       "최대 순간 풍속(m/s)    0.756396    0.076888    0.105571 -0.140761      0.316156   \n",
       "최대 풍속(m/s)       0.765547    0.071070    0.114993 -0.082707      0.278655   \n",
       "평균 풍속(m/s)       0.917876   -0.021487   -0.056008 -0.194272      0.215047   \n",
       "풍정합(100m)        1.000000   -0.020667   -0.059725 -0.181883      0.200713   \n",
       "최소 상대습도(%)      -0.020667    1.000000    0.887414  0.274502      0.453708   \n",
       "평균 상대습도(%)      -0.059725    0.887414    1.000000  0.406304      0.494609   \n",
       "가조시간(hr)        -0.181883    0.274502    0.406304  1.000000     -0.019257   \n",
       "평균 전운량(1/10)     0.200713    0.453708    0.494609 -0.019257      1.000000   \n",
       "평균 중하층운량(1/10)   0.355750    0.447447    0.399907 -0.237865      0.826562   \n",
       "평균 지면온도(°C)     -0.236499    0.284019    0.399535  0.899129     -0.129851   \n",
       "분류              -0.279176   -0.244754   -0.236685  0.271198     -0.517777   \n",
       "\n",
       "                평균 중하층운량(1/10)  평균 지면온도(°C)        분류  \n",
       "최고기온(°C)             -0.246872     0.955660  0.216157  \n",
       "일강수량(mm)              0.255761     0.131605 -0.259326  \n",
       "최대 순간 풍속(m/s)         0.411179    -0.162483 -0.373513  \n",
       "최대 풍속(m/s)            0.366372    -0.114021 -0.333675  \n",
       "평균 풍속(m/s)            0.386557    -0.242118 -0.321882  \n",
       "풍정합(100m)             0.355750    -0.236499 -0.279176  \n",
       "최소 상대습도(%)            0.447447     0.284019 -0.244754  \n",
       "평균 상대습도(%)            0.399907     0.399535 -0.236685  \n",
       "가조시간(hr)             -0.237865     0.899129  0.271198  \n",
       "평균 전운량(1/10)          0.826562    -0.129851 -0.517777  \n",
       "평균 중하층운량(1/10)        1.000000    -0.298676 -0.579276  \n",
       "평균 지면온도(°C)          -0.298676     1.000000  0.274100  \n",
       "분류                   -0.579276     0.274100  1.000000  "
      ]
     },
     "execution_count": 42,
     "metadata": {},
     "output_type": "execute_result"
    }
   ],
   "source": [
    "df.corr() # 최고 기온 , 최대 순간 풍속, 평균 상대습도, 평균 지면 온도 ,가조 시간\n",
    "# 최대 순간 풍속, 최대 풍속, 평균 풍속 ,풍정합\n",
    "\n"
   ]
  },
  {
   "cell_type": "code",
   "execution_count": 9,
   "metadata": {},
   "outputs": [
    {
     "name": "stderr",
     "output_type": "stream",
     "text": [
      "C:\\Users\\ICT01_23\\Anaconda3\\lib\\site-packages\\matplotlib\\backends\\backend_agg.py:211: RuntimeWarning: Glyph 8722 missing from current font.\n",
      "  font.set_text(s, 0.0, flags=flags)\n",
      "C:\\Users\\ICT01_23\\Anaconda3\\lib\\site-packages\\matplotlib\\backends\\backend_agg.py:180: RuntimeWarning: Glyph 8722 missing from current font.\n",
      "  font.set_text(s, 0, flags=flags)\n"
     ]
    },
    {
     "data": {
      "image/png": "[encoded data removed]",
      "text/plain": [
       "<Figure size 1440x1080 with 16 Axes>"
      ]
     },
     "metadata": {
      "needs_background": "light"
     },
     "output_type": "display_data"
    }
   ],
   "source": [
    "# standardScaler\n",
    "from sklearn.preprocessing import StandardScaler\n",
    "scaler = StandardScaler()\n",
    "scaler.fit(X)\n",
    "x_scaled = scaler.fit_transform(X)\n",
    "df = pd.DataFrame(x_scaled, columns = X.columns)\n",
    "df.hist( figsize = (20 , 15))\n",
    "plt.show()"
   ]
  },
  {
   "cell_type": "code",
   "execution_count": 10,
   "metadata": {
    "scrolled": true
   },
   "outputs": [],
   "source": [
    "from patsy import dmatrices\n",
    "import statsmodels.api as sm\n",
    "from statsmodels.stats.outliers_influence import variance_inflation_factor"
   ]
  },
  {
   "cell_type": "code",
   "execution_count": 11,
   "metadata": {},
   "outputs": [
    {
     "data": {
      "text/plain": [
       "Index(['최고기온(°C)', '일강수량(mm)', '최대 순간 풍속(m/s)', '최대 풍속(m/s)', '평균 풍속(m/s)',\n",
       "       '풍정합(100m)', '최소 상대습도(%)', '평균 상대습도(%)', '가조시간(hr)', '평균 전운량(1/10)',\n",
       "       '평균 중하층운량(1/10)', '평균 지면온도(°C)', '분류'],\n",
       "      dtype='object')"
      ]
     },
     "execution_count": 11,
     "metadata": {},
     "output_type": "execute_result"
    }
   ],
   "source": [
    "df.columns"
   ]
  },
  {
   "cell_type": "code",
   "execution_count": 104,
   "metadata": {},
   "outputs": [
    {
     "data": {
      "text/html": [
       "<table class=\"simpletable\">\n",
       "<caption>OLS Regression Results</caption>\n",
       "<tr>\n",
       "  <th>Dep. Variable:</th>           <td>분류</td>        <th>  R-squared (uncentered):</th>      <td>   0.948</td> \n",
       "</tr>\n",
       "<tr>\n",
       "  <th>Model:</th>                   <td>OLS</td>       <th>  Adj. R-squared (uncentered):</th> <td>   0.946</td> \n",
       "</tr>\n",
       "<tr>\n",
       "  <th>Method:</th>             <td>Least Squares</td>  <th>  F-statistic:       </th>          <td>   536.2</td> \n",
       "</tr>\n",
       "<tr>\n",
       "  <th>Date:</th>             <td>Wed, 22 Jan 2020</td> <th>  Prob (F-statistic):</th>          <td>7.76e-218</td>\n",
       "</tr>\n",
       "<tr>\n",
       "  <th>Time:</th>                 <td>10:56:05</td>     <th>  Log-Likelihood:    </th>          <td> -1517.8</td> \n",
       "</tr>\n",
       "<tr>\n",
       "  <th>No. Observations:</th>      <td>   364</td>      <th>  AIC:               </th>          <td>   3060.</td> \n",
       "</tr>\n",
       "<tr>\n",
       "  <th>Df Residuals:</th>          <td>   352</td>      <th>  BIC:               </th>          <td>   3106.</td> \n",
       "</tr>\n",
       "<tr>\n",
       "  <th>Df Model:</th>              <td>    12</td>      <th>                     </th>              <td> </td>    \n",
       "</tr>\n",
       "<tr>\n",
       "  <th>Covariance Type:</th>      <td>nonrobust</td>    <th>                     </th>              <td> </td>    \n",
       "</tr>\n",
       "</table>\n",
       "<table class=\"simpletable\">\n",
       "<tr>\n",
       "         <td></td>           <th>coef</th>     <th>std err</th>      <th>t</th>      <th>P>|t|</th>  <th>[0.025</th>    <th>0.975]</th>  \n",
       "</tr>\n",
       "<tr>\n",
       "  <th>최고기온(°C)</th>       <td>    0.1745</td> <td>    0.399</td> <td>    0.437</td> <td> 0.662</td> <td>   -0.611</td> <td>    0.960</td>\n",
       "</tr>\n",
       "<tr>\n",
       "  <th>일강수량(mm)</th>       <td>   -0.1507</td> <td>    0.046</td> <td>   -3.270</td> <td> 0.001</td> <td>   -0.241</td> <td>   -0.060</td>\n",
       "</tr>\n",
       "<tr>\n",
       "  <th>최대 순간 풍속(m/s)</th>  <td>   -0.1854</td> <td>    0.812</td> <td>   -0.228</td> <td> 0.819</td> <td>   -1.782</td> <td>    1.411</td>\n",
       "</tr>\n",
       "<tr>\n",
       "  <th>최대 풍속(m/s)</th>     <td>   -0.4209</td> <td>    1.581</td> <td>   -0.266</td> <td> 0.790</td> <td>   -3.531</td> <td>    2.689</td>\n",
       "</tr>\n",
       "<tr>\n",
       "  <th>평균 풍속(m/s)</th>     <td>   -1.9011</td> <td>    2.437</td> <td>   -0.780</td> <td> 0.436</td> <td>   -6.694</td> <td>    2.892</td>\n",
       "</tr>\n",
       "<tr>\n",
       "  <th>풍정합(100m)</th>      <td> 1.972e-05</td> <td> 2.27e-05</td> <td>    0.868</td> <td> 0.386</td> <td>-2.49e-05</td> <td> 6.44e-05</td>\n",
       "</tr>\n",
       "<tr>\n",
       "  <th>최소 상대습도(%)</th>     <td>    0.0297</td> <td>    0.125</td> <td>    0.237</td> <td> 0.813</td> <td>   -0.217</td> <td>    0.276</td>\n",
       "</tr>\n",
       "<tr>\n",
       "  <th>평균 상대습도(%)</th>     <td>   -0.0442</td> <td>    0.156</td> <td>   -0.284</td> <td> 0.776</td> <td>   -0.350</td> <td>    0.262</td>\n",
       "</tr>\n",
       "<tr>\n",
       "  <th>가조시간(hr)</th>       <td>    9.1609</td> <td>    0.649</td> <td>   14.116</td> <td> 0.000</td> <td>    7.885</td> <td>   10.437</td>\n",
       "</tr>\n",
       "<tr>\n",
       "  <th>평균 전운량(1/10)</th>   <td>   -2.1170</td> <td>    0.608</td> <td>   -3.479</td> <td> 0.001</td> <td>   -3.314</td> <td>   -0.920</td>\n",
       "</tr>\n",
       "<tr>\n",
       "  <th>평균 중하층운량(1/10)</th> <td>   -1.6501</td> <td>    0.755</td> <td>   -2.186</td> <td> 0.029</td> <td>   -3.134</td> <td>   -0.166</td>\n",
       "</tr>\n",
       "<tr>\n",
       "  <th>평균 지면온도(°C)</th>    <td>   -1.1662</td> <td>    0.373</td> <td>   -3.128</td> <td> 0.002</td> <td>   -1.900</td> <td>   -0.433</td>\n",
       "</tr>\n",
       "</table>\n",
       "<table class=\"simpletable\">\n",
       "<tr>\n",
       "  <th>Omnibus:</th>       <td>21.404</td> <th>  Durbin-Watson:     </th> <td>   0.599</td>\n",
       "</tr>\n",
       "<tr>\n",
       "  <th>Prob(Omnibus):</th> <td> 0.000</td> <th>  Jarque-Bera (JB):  </th> <td>  23.492</td>\n",
       "</tr>\n",
       "<tr>\n",
       "  <th>Skew:</th>          <td>-0.591</td> <th>  Prob(JB):          </th> <td>7.92e-06</td>\n",
       "</tr>\n",
       "<tr>\n",
       "  <th>Kurtosis:</th>      <td> 3.390</td> <th>  Cond. No.          </th> <td>8.06e+05</td>\n",
       "</tr>\n",
       "</table><br/><br/>Warnings:<br/>[1] Standard Errors assume that the covariance matrix of the errors is correctly specified.<br/>[2] The condition number is large, 8.06e+05. This might indicate that there are<br/>strong multicollinearity or other numerical problems."
      ],
      "text/plain": [
       "<class 'statsmodels.iolib.summary.Summary'>\n",
       "\"\"\"\n",
       "                                 OLS Regression Results                                \n",
       "=======================================================================================\n",
       "Dep. Variable:                     분류   R-squared (uncentered):                   0.948\n",
       "Model:                            OLS   Adj. R-squared (uncentered):              0.946\n",
       "Method:                 Least Squares   F-statistic:                              536.2\n",
       "Date:                Wed, 22 Jan 2020   Prob (F-statistic):                   7.76e-218\n",
       "Time:                        10:56:05   Log-Likelihood:                         -1517.8\n",
       "No. Observations:                 364   AIC:                                      3060.\n",
       "Df Residuals:                     352   BIC:                                      3106.\n",
       "Df Model:                          12                                                  \n",
       "Covariance Type:            nonrobust                                                  \n",
       "==================================================================================\n",
       "                     coef    std err          t      P>|t|      [0.025      0.975]\n",
       "----------------------------------------------------------------------------------\n",
       "최고기온(°C)           0.1745      0.399      0.437      0.662      -0.611       0.960\n",
       "일강수량(mm)          -0.1507      0.046     -3.270      0.001      -0.241      -0.060\n",
       "최대 순간 풍속(m/s)     -0.1854      0.812     -0.228      0.819      -1.782       1.411\n",
       "최대 풍속(m/s)        -0.4209      1.581     -0.266      0.790      -3.531       2.689\n",
       "평균 풍속(m/s)        -1.9011      2.437     -0.780      0.436      -6.694       2.892\n",
       "풍정합(100m)       1.972e-05   2.27e-05      0.868      0.386   -2.49e-05    6.44e-05\n",
       "최소 상대습도(%)         0.0297      0.125      0.237      0.813      -0.217       0.276\n",
       "평균 상대습도(%)        -0.0442      0.156     -0.284      0.776      -0.350       0.262\n",
       "가조시간(hr)           9.1609      0.649     14.116      0.000       7.885      10.437\n",
       "평균 전운량(1/10)      -2.1170      0.608     -3.479      0.001      -3.314      -0.920\n",
       "평균 중하층운량(1/10)    -1.6501      0.755     -2.186      0.029      -3.134      -0.166\n",
       "평균 지면온도(°C)       -1.1662      0.373     -3.128      0.002      -1.900      -0.433\n",
       "==============================================================================\n",
       "Omnibus:                       21.404   Durbin-Watson:                   0.599\n",
       "Prob(Omnibus):                  0.000   Jarque-Bera (JB):               23.492\n",
       "Skew:                          -0.591   Prob(JB):                     7.92e-06\n",
       "Kurtosis:                       3.390   Cond. No.                     8.06e+05\n",
       "==============================================================================\n",
       "\n",
       "Warnings:\n",
       "[1] Standard Errors assume that the covariance matrix of the errors is correctly specified.\n",
       "[2] The condition number is large, 8.06e+05. This might indicate that there are\n",
       "strong multicollinearity or other numerical problems.\n",
       "\"\"\""
      ]
     },
     "execution_count": 104,
     "metadata": {},
     "output_type": "execute_result"
    }
   ],
   "source": [
    "lm = sm.OLS(df['분류'],df[['최고기온(°C)', '일강수량(mm)','최대 순간 풍속(m/s)', '최대 풍속(m/s)', '평균 풍속(m/s)',\n",
    "       '풍정합(100m)', '최소 상대습도(%)', '평균 상대습도(%)', '가조시간(hr)', '평균 전운량(1/10)',\n",
    "       '평균 중하층운량(1/10)', '평균 지면온도(°C)']])\n",
    "results = lm.fit()\n",
    "results.summary()"
   ]
  },
  {
   "cell_type": "code",
   "execution_count": 40,
   "metadata": {},
   "outputs": [
    {
     "data": {
      "text/html": [
       "<table class=\"simpletable\">\n",
       "<caption>OLS Regression Results</caption>\n",
       "<tr>\n",
       "  <th>Dep. Variable:</th>           <td>분류</td>        <th>  R-squared (uncentered):</th>      <td>   0.392</td>\n",
       "</tr>\n",
       "<tr>\n",
       "  <th>Model:</th>                   <td>OLS</td>       <th>  Adj. R-squared (uncentered):</th> <td>   0.384</td>\n",
       "</tr>\n",
       "<tr>\n",
       "  <th>Method:</th>             <td>Least Squares</td>  <th>  F-statistic:       </th>          <td>   46.37</td>\n",
       "</tr>\n",
       "<tr>\n",
       "  <th>Date:</th>             <td>Wed, 22 Jan 2020</td> <th>  Prob (F-statistic):</th>          <td>6.53e-37</td>\n",
       "</tr>\n",
       "<tr>\n",
       "  <th>Time:</th>                 <td>12:36:18</td>     <th>  Log-Likelihood:    </th>          <td> -425.81</td>\n",
       "</tr>\n",
       "<tr>\n",
       "  <th>No. Observations:</th>      <td>   364</td>      <th>  AIC:               </th>          <td>   861.6</td>\n",
       "</tr>\n",
       "<tr>\n",
       "  <th>Df Residuals:</th>          <td>   359</td>      <th>  BIC:               </th>          <td>   881.1</td>\n",
       "</tr>\n",
       "<tr>\n",
       "  <th>Df Model:</th>              <td>     5</td>      <th>                     </th>              <td> </td>   \n",
       "</tr>\n",
       "<tr>\n",
       "  <th>Covariance Type:</th>      <td>nonrobust</td>    <th>                     </th>              <td> </td>   \n",
       "</tr>\n",
       "</table>\n",
       "<table class=\"simpletable\">\n",
       "<tr>\n",
       "         <td></td>           <th>coef</th>     <th>std err</th>      <th>t</th>      <th>P>|t|</th>  <th>[0.025</th>    <th>0.975]</th>  \n",
       "</tr>\n",
       "<tr>\n",
       "  <th>일강수량(mm)</th>       <td>   -0.1522</td> <td>    0.044</td> <td>   -3.446</td> <td> 0.001</td> <td>   -0.239</td> <td>   -0.065</td>\n",
       "</tr>\n",
       "<tr>\n",
       "  <th>가조시간(hr)</th>       <td>    0.1675</td> <td>    0.049</td> <td>    3.385</td> <td> 0.001</td> <td>    0.070</td> <td>    0.265</td>\n",
       "</tr>\n",
       "<tr>\n",
       "  <th>평균 전운량(1/10)</th>   <td>   -0.2176</td> <td>    0.079</td> <td>   -2.761</td> <td> 0.006</td> <td>   -0.373</td> <td>   -0.063</td>\n",
       "</tr>\n",
       "<tr>\n",
       "  <th>평균 중하층운량(1/10)</th> <td>   -0.3199</td> <td>    0.080</td> <td>   -4.003</td> <td> 0.000</td> <td>   -0.477</td> <td>   -0.163</td>\n",
       "</tr>\n",
       "<tr>\n",
       "  <th>가조시간(hr)</th>       <td>    0.1675</td> <td>    0.049</td> <td>    3.385</td> <td> 0.001</td> <td>    0.070</td> <td>    0.265</td>\n",
       "</tr>\n",
       "<tr>\n",
       "  <th>평균 지면온도(°C)</th>    <td>   -0.1309</td> <td>    0.097</td> <td>   -1.345</td> <td> 0.180</td> <td>   -0.322</td> <td>    0.061</td>\n",
       "</tr>\n",
       "</table>\n",
       "<table class=\"simpletable\">\n",
       "<tr>\n",
       "  <th>Omnibus:</th>       <td>29.657</td> <th>  Durbin-Watson:     </th> <td>   0.614</td>\n",
       "</tr>\n",
       "<tr>\n",
       "  <th>Prob(Omnibus):</th> <td> 0.000</td> <th>  Jarque-Bera (JB):  </th> <td>  34.490</td>\n",
       "</tr>\n",
       "<tr>\n",
       "  <th>Skew:</th>          <td>-0.728</td> <th>  Prob(JB):          </th> <td>3.24e-08</td>\n",
       "</tr>\n",
       "<tr>\n",
       "  <th>Kurtosis:</th>      <td> 3.391</td> <th>  Cond. No.          </th> <td>2.05e+16</td>\n",
       "</tr>\n",
       "</table><br/><br/>Warnings:<br/>[1] Standard Errors assume that the covariance matrix of the errors is correctly specified.<br/>[2] The smallest eigenvalue is 2.62e-30. This might indicate that there are<br/>strong multicollinearity problems or that the design matrix is singular."
      ],
      "text/plain": [
       "<class 'statsmodels.iolib.summary.Summary'>\n",
       "\"\"\"\n",
       "                                 OLS Regression Results                                \n",
       "=======================================================================================\n",
       "Dep. Variable:                     분류   R-squared (uncentered):                   0.392\n",
       "Model:                            OLS   Adj. R-squared (uncentered):              0.384\n",
       "Method:                 Least Squares   F-statistic:                              46.37\n",
       "Date:                Wed, 22 Jan 2020   Prob (F-statistic):                    6.53e-37\n",
       "Time:                        12:36:18   Log-Likelihood:                         -425.81\n",
       "No. Observations:                 364   AIC:                                      861.6\n",
       "Df Residuals:                     359   BIC:                                      881.1\n",
       "Df Model:                           5                                                  \n",
       "Covariance Type:            nonrobust                                                  \n",
       "==================================================================================\n",
       "                     coef    std err          t      P>|t|      [0.025      0.975]\n",
       "----------------------------------------------------------------------------------\n",
       "일강수량(mm)          -0.1522      0.044     -3.446      0.001      -0.239      -0.065\n",
       "가조시간(hr)           0.1675      0.049      3.385      0.001       0.070       0.265\n",
       "평균 전운량(1/10)      -0.2176      0.079     -2.761      0.006      -0.373      -0.063\n",
       "평균 중하층운량(1/10)    -0.3199      0.080     -4.003      0.000      -0.477      -0.163\n",
       "가조시간(hr)           0.1675      0.049      3.385      0.001       0.070       0.265\n",
       "평균 지면온도(°C)       -0.1309      0.097     -1.345      0.180      -0.322       0.061\n",
       "==============================================================================\n",
       "Omnibus:                       29.657   Durbin-Watson:                   0.614\n",
       "Prob(Omnibus):                  0.000   Jarque-Bera (JB):               34.490\n",
       "Skew:                          -0.728   Prob(JB):                     3.24e-08\n",
       "Kurtosis:                       3.391   Cond. No.                     2.05e+16\n",
       "==============================================================================\n",
       "\n",
       "Warnings:\n",
       "[1] Standard Errors assume that the covariance matrix of the errors is correctly specified.\n",
       "[2] The smallest eigenvalue is 2.62e-30. This might indicate that there are\n",
       "strong multicollinearity problems or that the design matrix is singular.\n",
       "\"\"\""
      ]
     },
     "execution_count": 40,
     "metadata": {},
     "output_type": "execute_result"
    }
   ],
   "source": [
    "lm = sm.OLS(df['분류'],df[['일강수량(mm)','가조시간(hr)','평균 전운량(1/10)',\n",
    "                      '평균 중하층운량(1/10)', '가조시간(hr)','평균 지면온도(°C)' ]])\n",
    "results = lm.fit()\n",
    "results.summary()"
   ]
  },
  {
   "cell_type": "code",
   "execution_count": 12,
   "metadata": {
    "scrolled": true
   },
   "outputs": [
    {
     "name": "stderr",
     "output_type": "stream",
     "text": [
      "C:\\Users\\ICT01_23\\Anaconda3\\lib\\site-packages\\ipykernel_launcher.py:2: UserWarning: Pandas doesn't allow columns to be created via a new attribute name - see https://pandas.pydata.org/pandas-docs/stable/indexing.html#attribute-access\n",
      "  \n",
      "C:\\Users\\ICT01_23\\Anaconda3\\lib\\site-packages\\ipykernel_launcher.py:3: UserWarning: Pandas doesn't allow columns to be created via a new attribute name - see https://pandas.pydata.org/pandas-docs/stable/indexing.html#attribute-access\n",
      "  This is separate from the ipykernel package so we can avoid doing imports until\n"
     ]
    }
   ],
   "source": [
    "df.data = df[['일강수량(mm)','가조시간(hr)','평균 전운량(1/10)',\n",
    "                      '평균 중하층운량(1/10)','평균 지면온도(°C)' ]]\n",
    "df.target = df[[\"분류\"]]"
   ]
  },
  {
   "cell_type": "code",
   "execution_count": 13,
   "metadata": {},
   "outputs": [
    {
     "data": {
      "text/html": [
       "<div>\n",
       "<style scoped>\n",
       "    .dataframe tbody tr th:only-of-type {\n",
       "        vertical-align: middle;\n",
       "    }\n",
       "\n",
       "    .dataframe tbody tr th {\n",
       "        vertical-align: top;\n",
       "    }\n",
       "\n",
       "    .dataframe thead th {\n",
       "        text-align: right;\n",
       "    }\n",
       "</style>\n",
       "<table border=\"1\" class=\"dataframe\">\n",
       "  <thead>\n",
       "    <tr style=\"text-align: right;\">\n",
       "      <th></th>\n",
       "      <th>일강수량(mm)</th>\n",
       "      <th>가조시간(hr)</th>\n",
       "      <th>평균 전운량(1/10)</th>\n",
       "      <th>평균 중하층운량(1/10)</th>\n",
       "      <th>평균 지면온도(°C)</th>\n",
       "    </tr>\n",
       "  </thead>\n",
       "  <tbody>\n",
       "    <tr>\n",
       "      <td>일강수량(mm)</td>\n",
       "      <td>1.000000</td>\n",
       "      <td>0.173523</td>\n",
       "      <td>0.304290</td>\n",
       "      <td>0.255761</td>\n",
       "      <td>0.131605</td>\n",
       "    </tr>\n",
       "    <tr>\n",
       "      <td>가조시간(hr)</td>\n",
       "      <td>0.173523</td>\n",
       "      <td>1.000000</td>\n",
       "      <td>-0.019257</td>\n",
       "      <td>-0.237865</td>\n",
       "      <td>0.899129</td>\n",
       "    </tr>\n",
       "    <tr>\n",
       "      <td>평균 전운량(1/10)</td>\n",
       "      <td>0.304290</td>\n",
       "      <td>-0.019257</td>\n",
       "      <td>1.000000</td>\n",
       "      <td>0.826562</td>\n",
       "      <td>-0.129851</td>\n",
       "    </tr>\n",
       "    <tr>\n",
       "      <td>평균 중하층운량(1/10)</td>\n",
       "      <td>0.255761</td>\n",
       "      <td>-0.237865</td>\n",
       "      <td>0.826562</td>\n",
       "      <td>1.000000</td>\n",
       "      <td>-0.298676</td>\n",
       "    </tr>\n",
       "    <tr>\n",
       "      <td>평균 지면온도(°C)</td>\n",
       "      <td>0.131605</td>\n",
       "      <td>0.899129</td>\n",
       "      <td>-0.129851</td>\n",
       "      <td>-0.298676</td>\n",
       "      <td>1.000000</td>\n",
       "    </tr>\n",
       "  </tbody>\n",
       "</table>\n",
       "</div>"
      ],
      "text/plain": [
       "                일강수량(mm)  가조시간(hr)  평균 전운량(1/10)  평균 중하층운량(1/10)  평균 지면온도(°C)\n",
       "일강수량(mm)        1.000000  0.173523      0.304290        0.255761     0.131605\n",
       "가조시간(hr)        0.173523  1.000000     -0.019257       -0.237865     0.899129\n",
       "평균 전운량(1/10)    0.304290 -0.019257      1.000000        0.826562    -0.129851\n",
       "평균 중하층운량(1/10)  0.255761 -0.237865      0.826562        1.000000    -0.298676\n",
       "평균 지면온도(°C)     0.131605  0.899129     -0.129851       -0.298676     1.000000"
      ]
     },
     "execution_count": 13,
     "metadata": {},
     "output_type": "execute_result"
    }
   ],
   "source": [
    "df.data.corr()"
   ]
  },
  {
   "cell_type": "code",
   "execution_count": 14,
   "metadata": {},
   "outputs": [],
   "source": [
    "import pandas as pd\n",
    "import matplotlib\n",
    "import matplotlib.pyplot as plt\n",
    "model_df = LinearRegression().fit(df.data, df.target)"
   ]
  },
  {
   "cell_type": "code",
   "execution_count": 15,
   "metadata": {},
   "outputs": [
    {
     "name": "stdout",
     "output_type": "stream",
     "text": [
      "[[-0.15220358  0.33500884 -0.21758596 -0.31990568 -0.13088768]]\n",
      "[3.56515476e-16]\n"
     ]
    }
   ],
   "source": [
    "print(model_df.coef_)\n",
    "print(model_df.intercept_)"
   ]
  },
  {
   "cell_type": "code",
   "execution_count": 16,
   "metadata": {},
   "outputs": [],
   "source": [
    "from sklearn.model_selection import train_test_split\n",
    "\n",
    "x_train, x_test, y_train, y_test = train_test_split(df.data, df.target, train_size=0.8, test_size=0.2)"
   ]
  },
  {
   "cell_type": "code",
   "execution_count": 17,
   "metadata": {},
   "outputs": [
    {
     "name": "stdout",
     "output_type": "stream",
     "text": [
      "훈련 세트 점수 : 0.417\n",
      "테스트 세트 점수 : 0.297\n"
     ]
    }
   ],
   "source": [
    "from sklearn.linear_model import LinearRegression\n",
    "\n",
    "lin = LinearRegression()\n",
    "lin = lin.fit(x_train, y_train)\n",
    "\n",
    "print(\"훈련 세트 점수 : {:.3f}\".format(lin.score(x_train, y_train)))\n",
    "print(\"테스트 세트 점수 : {:.3f}\".format(lin.score(x_test, y_test)))"
   ]
  },
  {
   "cell_type": "code",
   "execution_count": 132,
   "metadata": {},
   "outputs": [
    {
     "name": "stdout",
     "output_type": "stream",
     "text": [
      "mse 228.15260302796713\n",
      "rmse 15.10472121649278\n"
     ]
    }
   ],
   "source": [
    "from sklearn.metrics import mean_squared_error\n",
    "x_train_pre = lin.predict(x_train)\n",
    "lin_pre = lin.predict(x_train)\n",
    "lin_mse = mean_squared_error(y_train,x_train_pre)\n",
    "lin_rmse = np.sqrt(lin_mse)\n",
    "print(\"mse\",lin_mse)\n",
    "print(\"rmse\",lin_rmse)"
   ]
  },
  {
   "cell_type": "code",
   "execution_count": 36,
   "metadata": {},
   "outputs": [],
   "source": [
    "#1.모델불러오기 및 정의하기\n",
    "from sklearn.tree import DecisionTreeRegressor\n",
    "dt_regr=DecisionTreeRegressor(max_depth=5)"
   ]
  },
  {
   "cell_type": "code",
   "execution_count": 37,
   "metadata": {},
   "outputs": [
    {
     "data": {
      "text/plain": [
       "DecisionTreeRegressor(criterion='mse', max_depth=5, max_features=None,\n",
       "                      max_leaf_nodes=None, min_impurity_decrease=0.0,\n",
       "                      min_impurity_split=None, min_samples_leaf=1,\n",
       "                      min_samples_split=2, min_weight_fraction_leaf=0.0,\n",
       "                      presort=False, random_state=None, splitter='best')"
      ]
     },
     "execution_count": 37,
     "metadata": {},
     "output_type": "execute_result"
    }
   ],
   "source": [
    "#2.모델학습하기(훈련데이터)\n",
    "dt_regr.fit(x_train,y_train)"
   ]
  },
  {
   "cell_type": "code",
   "execution_count": 38,
   "metadata": {},
   "outputs": [],
   "source": [
    "#3.결과 예측하기(테스트데이터)\n",
    "y_pred=dt_regr.predict(x_test)"
   ]
  },
  {
   "cell_type": "code",
   "execution_count": 39,
   "metadata": {},
   "outputs": [
    {
     "name": "stdout",
     "output_type": "stream",
     "text": [
      "다중결정트리, R2:0.7549\n"
     ]
    }
   ],
   "source": [
    "#4.결과 살펴보기\n",
    "#일반적으로 선형회귀R2(제곱)을 평가척도로 사용 1에 가까울수록 모델일 데이터를 잘 표현한다는 \n",
    "\n",
    "from sklearn.metrics import accuracy_score, recall_score, precision_score, f1_score\n",
    "from sklearn.metrics import r2_score\n",
    "print('다중결정트리, R2:{:.4f}'.format(r2_score(y_test,y_pred)))\n"
   ]
  },
  {
   "cell_type": "code",
   "execution_count": null,
   "metadata": {},
   "outputs": [],
   "source": []
  },
  {
   "cell_type": "code",
   "execution_count": null,
   "metadata": {},
   "outputs": [],
   "source": [
    "#pca "
   ]
  },
  {
   "cell_type": "code",
   "execution_count": null,
   "metadata": {},
   "outputs": [],
   "source": []
  },
  {
   "cell_type": "code",
   "execution_count": null,
   "metadata": {},
   "outputs": [],
   "source": []
  },
  {
   "cell_type": "code",
   "execution_count": null,
   "metadata": {},
   "outputs": [],
   "source": []
  },
  {
   "cell_type": "code",
   "execution_count": 18,
   "metadata": {},
   "outputs": [
    {
     "ename": "NameError",
     "evalue": "name 'x_train_pre' is not defined",
     "output_type": "error",
     "traceback": [
      "\u001b[1;31m---------------------------------------------------------------------------\u001b[0m",
      "\u001b[1;31mNameError\u001b[0m                                 Traceback (most recent call last)",
      "\u001b[1;32m<ipython-input-18-a29e878389e4>\u001b[0m in \u001b[0;36m<module>\u001b[1;34m\u001b[0m\n\u001b[0;32m      1\u001b[0m \u001b[1;32mfrom\u001b[0m \u001b[0msklearn\u001b[0m\u001b[1;33m.\u001b[0m\u001b[0mmodel_selection\u001b[0m \u001b[1;32mimport\u001b[0m \u001b[0mcross_val_score\u001b[0m\u001b[1;33m\u001b[0m\u001b[1;33m\u001b[0m\u001b[0m\n\u001b[1;32m----> 2\u001b[1;33m scores = cross_val_score(lin, x_train_pre, y_train,\n\u001b[0m\u001b[0;32m      3\u001b[0m                         scoring =\"neg_mean_squared_error\", cv = 10)\n\u001b[0;32m      4\u001b[0m \u001b[0mlin_rmse_scores\u001b[0m \u001b[1;33m=\u001b[0m \u001b[0mnp\u001b[0m\u001b[1;33m.\u001b[0m\u001b[0msqrt\u001b[0m\u001b[1;33m(\u001b[0m\u001b[1;33m-\u001b[0m\u001b[0mscores\u001b[0m\u001b[1;33m)\u001b[0m\u001b[1;33m\u001b[0m\u001b[1;33m\u001b[0m\u001b[0m\n",
      "\u001b[1;31mNameError\u001b[0m: name 'x_train_pre' is not defined"
     ]
    }
   ],
   "source": [
    "from sklearn.model_selection import cross_val_score\n",
    "scores = cross_val_score(lin, x_train_pre, y_train,\n",
    "                        scoring =\"neg_mean_squared_error\", cv = 10)\n",
    "lin_rmse_scores = np.sqrt(-scores)"
   ]
  },
  {
   "cell_type": "code",
   "execution_count": 136,
   "metadata": {
    "scrolled": true
   },
   "outputs": [
    {
     "name": "stdout",
     "output_type": "stream",
     "text": [
      "[-162.89458089 -305.62036584 -383.317965   -239.91461759 -118.17236333\n",
      " -236.11510059 -149.60253496 -336.75300157 -236.40618074 -162.32876769]\n",
      "-233.11254781999682\n",
      "2.714487617605146\n"
     ]
    }
   ],
   "source": [
    "def display_scores(score):\n",
    "    print(scores)\n",
    "    print(scores.mean())\n",
    "    print(score.std())\n",
    "display_scores(lin_rmse_scores)"
   ]
  },
  {
   "cell_type": "code",
   "execution_count": null,
   "metadata": {},
   "outputs": [],
   "source": []
  },
  {
   "cell_type": "code",
   "execution_count": null,
   "metadata": {},
   "outputs": [],
   "source": [
    "pip install Line"
   ]
  }
 ],
 "metadata": {
  "kernelspec": {
   "display_name": "Python 3",
   "language": "python",
   "name": "python3"
  },
  "language_info": {
   "codemirror_mode": {
    "name": "ipython",
    "version": 3
   },
   "file_extension": ".py",
   "mimetype": "text/x-python",
   "name": "python",
   "nbconvert_exporter": "python",
   "pygments_lexer": "ipython3",
   "version": "3.7.4"
  }
 },
 "nbformat": 4,
 "nbformat_minor": 2
}
