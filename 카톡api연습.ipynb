{
 "cells": [
  {
   "cell_type": "code",
   "execution_count": 43,
   "metadata": {},
   "outputs": [
    {
     "name": "stdout",
     "output_type": "stream",
     "text": [
      "[{'contents': '<b>이효리</b>의 주요 수상 이력 [ 펼치기 · 접기 ] 가요대상 대상 장나라 Sweet Dream (2002년) ▶ <b>이효리</b> 10 Minutes (2003년) ▶ 비 It&#39;s Raining (2004년) 가요대전 대상 BoA No.1 (2002년) ▶ <b>이효리</b> 10 Minutes...', 'datetime': '2020-02-09T00:00:00.000+09:00', 'title': '<b>이효리</b> - 나무위키', 'url': 'https://namu.wiki/w/%EC%9D%B4%ED%9A%A8%EB%A6%AC'}, {'contents': '언론정보대학원 문화콘텐츠학 석사과정2006 국민대학교 연극영화학 학사 서문여자고등학교 서문여자중학교 <b>이효리</b>, 옥주현, 이진, 성유리 ‘핑클’ 데뷔 21주년 기념 베스트 앨범 발매 2019.07.22 3023 &#39;영원한...', 'datetime': '2013-06-15T00:00:00.000+09:00', 'title': '<b>이효리</b>', 'url': 'http://www.playdb.co.kr/artistdb/detail.asp?ManNo=11456'}, {'contents': '라마바사 가나다라마바사 가나다라마바사 가나다라마바사 HOME 라이프 방송/연예 셔누, <b>이효리</b>와 밀착 스킨십? 알고보니 <b>이효리</b> 백댄서 출신 황미진 승인 2018.07.14 21:19 댓글 0 가나다라마바사 가나다라마바사...', 'datetime': '2020-02-21T00:00:00.000+09:00', 'title': '셔누, <b>이효리</b>와 밀착 스킨십? 알고보니 <b>이효리</b> 백댄서 출신', 'url': 'http://www.whitepaper.co.kr/news/articleView.html?idxno=102815'}, {'contents': '파격화보가 놀랍다는 평가다. 안혜경 파격화보 속에는 그간 볼 수 없었던 관능미가 풍겨져 절친 <b>이효리</b> 못지 않은 오라를 자아내게 했다. 실제 연예계 소문난 79년생 동갑내기인 안혜경과 <b>이효리</b>는 탁월한 패션...', 'datetime': '2020-02-21T15:20:02.000+09:00', 'title': '안혜경 파격화보 속에서 &#39;<b>이효리</b>&#39;가 보인다?', 'url': 'http://www.vop.co.kr/view.php?cid=A00000581700'}, {'contents': '<b>이효리</b> 한의사ⓒ유앤아이 방송화면 가수 <b>이효리</b>가 한의사와 맞선에 대한 일화를 고백했다. <b>이효리</b>는 15일 방송된 SBS &#39;정재형 <b>이효리</b>의 유앤아이&#39;에서 게스트와 결혼적령기에 대해 이야기를 나누던 중 &#34;한의사와...', 'datetime': '2020-02-16T16:05:21.000+09:00', 'title': '<b>이효리</b> 한의사, 그녀의 이상형은 이병헌 목소리의 남자', 'url': 'http://www.vop.co.kr/A00000550542.html'}, {'contents': '봄봄봄 봄이 왔어요~* 봄의 여신 &#39;<b>이효리</b>&#39;가 꽃을 들고 꽃보다 아름다운 자태를 뽐냈는데요 ! 마리끌레르 3월호에서 공개된 이번 봄 화보는 <b>이효리</b>와 특별한 인연인 브랜드, &#39;쟈딕앤볼테르&#39;와 함께했다고 해요...', 'datetime': '2020-02-21T12:02:14.000+09:00', 'title': '[트렌드를알려주는여자] 꽃보다 아름다운 <b>이효리</b>가 전하는 여자 봄 패션 소식 - 1boon', 'url': 'https://1boon.kakao.com/tag/2212'}, {'contents': '[OSEN=김보라 기자] &#39;라섹&#39; 유재석 사장님이 만만치 않은 &#39;손님&#39; <b>이효리</b>-이상순 부부를 만난다. 유재석은 온탕과 냉탕을 오가며 종잡을 수 없는 매력을 뽐내는 <b>이효리</b>와의 재회에 도리어 서운함을 느꼈다고 해...', 'datetime': '2020-02-08T00:00:00.000+09:00', 'title': '&#39;놀면 뭐하니&#39; 유재석, <b>이효리</b>♥?이상순 부부 등장에 &#39;안절부절&#39;[Oh!쎈 예고]', 'url': 'http://www.mimint.co.kr/article/board_view.asp?strBoardID=news&bbstype=S1N13&bidx=2097362&page=1&pageblock=1'}, {'contents': '[OSEN=이승훈 기자] &#39;놀면 뭐하니?&#39; 유재석이 &#39;국민MC&#39;의 입지를 확실히 굳혔다. &#39;유산슬라면&#39;으로 <b>이효리</b>, 이상순은 물론, EBS에 첫 출연하면서 &#39;최고의 요리 비결&#39;과 펭수까지 사로잡았기 때문. 8일 오후 방송...', 'datetime': '2020-02-08T00:00:00.000+09:00', 'title': '&#39;놀면뭐하니&#39; 유재석, <b>이효리</b>♥이상순과 &#39;인생케미&#39;→EBS &#39;최요비&#39; 첫출연 (feat.펭수 콜라보) [종합]', 'url': 'http://www.mimint.co.kr/article/board_view.asp?strBoardID=news&bbstype=S1N13&bidx=2098351&page=1&pageblock=1'}, {'contents': '코리아=김현정 기자] 퍼스트룩 마켓(1st Look Market )이 지난 22일 오후 CGV청담씨네시티에서 가수 <b>이효리</b>와 함께 캘린더 발매 기념 팬 사인회를 개최했다. 이번 캘린더에는 <b>이효리</b>와 그녀의 반려견 순심이의...', 'datetime': '2020-02-16T12:55:59.000+09:00', 'title': '<b>이효리</b>, 반려견 순심이와 함께 자선 팬사인회 개최', 'url': 'http://www.tournews21.com/news/articleView.html?idxno=5053'}, {'contents': 'ⓒ 마리끌레르 프렌치 모던 럭셔리 브랜드 쟈딕앤볼테르와 함께한 <b>이효리</b>의 화보가 패션 매거진 마리끌레르 3월호에서 공개됐다. 화보 속 <b>이효리</b>는 쟈딕앤볼테르의 다양한 스프링-썸머룩을 착용해 화사한 매력과...', 'datetime': '2020-02-21T00:00:00.000+09:00', 'title': '쟈딕앤볼테르, 봄의 여신이 된 <b>이효리</b> 화보 공개!', 'url': 'http://zine.istyle24.com/Fashion/FashionView.aspx?Idx=47700&Menu=12&Page=1&Field=T&Key=&OrderId='}]\n",
      "[('<b>이효리</b> - 나무위키', '<b>이효리</b>의 주요 수상 이력 [ 펼치기 · 접기 ] 가요대상 대상 장나라 Sweet Dream (2002년) ▶ <b>이효리</b> 10 Minutes (2003년) ▶ 비 It&#39;s Raining (2004년) 가요대전 대상 BoA No.1 (2002년) ▶ <b>이효리</b> 10 Minutes...', 'https://namu.wiki/w/%EC%9D%B4%ED%9A%A8%EB%A6%AC', '2020-02-09T00:00:00.000+09:00'), ('<b>이효리</b>', '언론정보대학원 문화콘텐츠학 석사과정2006 국민대학교 연극영화학 학사 서문여자고등학교 서문여자중학교 <b>이효리</b>, 옥주현, 이진, 성유리 ‘핑클’ 데뷔 21주년 기념 베스트 앨범 발매 2019.07.22 3023 &#39;영원한...', 'http://www.playdb.co.kr/artistdb/detail.asp?ManNo=11456', '2013-06-15T00:00:00.000+09:00'), ('셔누, <b>이효리</b>와 밀착 스킨십? 알고보니 <b>이효리</b> 백댄서 출신', '라마바사 가나다라마바사 가나다라마바사 가나다라마바사 HOME 라이프 방송/연예 셔누, <b>이효리</b>와 밀착 스킨십? 알고보니 <b>이효리</b> 백댄서 출신 황미진 승인 2018.07.14 21:19 댓글 0 가나다라마바사 가나다라마바사...', 'http://www.whitepaper.co.kr/news/articleView.html?idxno=102815', '2020-02-21T00:00:00.000+09:00'), ('안혜경 파격화보 속에서 &#39;<b>이효리</b>&#39;가 보인다?', '파격화보가 놀랍다는 평가다. 안혜경 파격화보 속에는 그간 볼 수 없었던 관능미가 풍겨져 절친 <b>이효리</b> 못지 않은 오라를 자아내게 했다. 실제 연예계 소문난 79년생 동갑내기인 안혜경과 <b>이효리</b>는 탁월한 패션...', 'http://www.vop.co.kr/view.php?cid=A00000581700', '2020-02-21T15:20:02.000+09:00'), ('<b>이효리</b> 한의사, 그녀의 이상형은 이병헌 목소리의 남자', '<b>이효리</b> 한의사ⓒ유앤아이 방송화면 가수 <b>이효리</b>가 한의사와 맞선에 대한 일화를 고백했다. <b>이효리</b>는 15일 방송된 SBS &#39;정재형 <b>이효리</b>의 유앤아이&#39;에서 게스트와 결혼적령기에 대해 이야기를 나누던 중 &#34;한의사와...', 'http://www.vop.co.kr/A00000550542.html', '2020-02-16T16:05:21.000+09:00'), ('[트렌드를알려주는여자] 꽃보다 아름다운 <b>이효리</b>가 전하는 여자 봄 패션 소식 - 1boon', '봄봄봄 봄이 왔어요~* 봄의 여신 &#39;<b>이효리</b>&#39;가 꽃을 들고 꽃보다 아름다운 자태를 뽐냈는데요 ! 마리끌레르 3월호에서 공개된 이번 봄 화보는 <b>이효리</b>와 특별한 인연인 브랜드, &#39;쟈딕앤볼테르&#39;와 함께했다고 해요...', 'https://1boon.kakao.com/tag/2212', '2020-02-21T12:02:14.000+09:00'), ('&#39;놀면 뭐하니&#39; 유재석, <b>이효리</b>♥?이상순 부부 등장에 &#39;안절부절&#39;[Oh!쎈 예고]', '[OSEN=김보라 기자] &#39;라섹&#39; 유재석 사장님이 만만치 않은 &#39;손님&#39; <b>이효리</b>-이상순 부부를 만난다. 유재석은 온탕과 냉탕을 오가며 종잡을 수 없는 매력을 뽐내는 <b>이효리</b>와의 재회에 도리어 서운함을 느꼈다고 해...', 'http://www.mimint.co.kr/article/board_view.asp?strBoardID=news&bbstype=S1N13&bidx=2097362&page=1&pageblock=1', '2020-02-08T00:00:00.000+09:00'), ('&#39;놀면뭐하니&#39; 유재석, <b>이효리</b>♥이상순과 &#39;인생케미&#39;→EBS &#39;최요비&#39; 첫출연 (feat.펭수 콜라보) [종합]', '[OSEN=이승훈 기자] &#39;놀면 뭐하니?&#39; 유재석이 &#39;국민MC&#39;의 입지를 확실히 굳혔다. &#39;유산슬라면&#39;으로 <b>이효리</b>, 이상순은 물론, EBS에 첫 출연하면서 &#39;최고의 요리 비결&#39;과 펭수까지 사로잡았기 때문. 8일 오후 방송...', 'http://www.mimint.co.kr/article/board_view.asp?strBoardID=news&bbstype=S1N13&bidx=2098351&page=1&pageblock=1', '2020-02-08T00:00:00.000+09:00'), ('<b>이효리</b>, 반려견 순심이와 함께 자선 팬사인회 개최', '코리아=김현정 기자] 퍼스트룩 마켓(1st Look Market )이 지난 22일 오후 CGV청담씨네시티에서 가수 <b>이효리</b>와 함께 캘린더 발매 기념 팬 사인회를 개최했다. 이번 캘린더에는 <b>이효리</b>와 그녀의 반려견 순심이의...', 'http://www.tournews21.com/news/articleView.html?idxno=5053', '2020-02-16T12:55:59.000+09:00'), ('쟈딕앤볼테르, 봄의 여신이 된 <b>이효리</b> 화보 공개!', 'ⓒ 마리끌레르 프렌치 모던 럭셔리 브랜드 쟈딕앤볼테르와 함께한 <b>이효리</b>의 화보가 패션 매거진 마리끌레르 3월호에서 공개됐다. 화보 속 <b>이효리</b>는 쟈딕앤볼테르의 다양한 스프링-썸머룩을 착용해 화사한 매력과...', 'http://zine.istyle24.com/Fashion/FashionView.aspx?Idx=47700&Menu=12&Page=1&Field=T&Key=&OrderId=', '2020-02-21T00:00:00.000+09:00')]\n"
     ]
    },
    {
     "data": {
      "text/plain": [
       "10"
      ]
     },
     "execution_count": 43,
     "metadata": {},
     "output_type": "execute_result"
    }
   ],
   "source": [
    "import requests\n",
    "\n",
    "key=\"0166edbccc8fae3043dc6f0830749d81\"\n",
    "\n",
    "api_url=\"https://dapi.kakao.com/v2/search/web\"\n",
    "keyword=\"이효리\"\n",
    "query=\"?query=\"\n",
    "api_header = {\"Authorization\": \"KakaoAK \" + key}\n",
    "\n",
    "# https://dapi.kakao.com/v2/search/web?query=이효리\n",
    "all= api_url + query + keyword\n",
    "all\n",
    "\n",
    "response=requests.get(all, headers=api_header)\n",
    "response\n",
    "\n",
    "result_data = response.json()\n",
    "result_data\n",
    "\n",
    "documents = result_data[\"documents\"]\n",
    "print(documents)\n",
    "\n",
    "# 1건만 뽑아낸 거\n",
    "one_document = documents[0]\n",
    "one_title = one_document[\"title\"]\n",
    "one_contents=one_document['contents']\n",
    "one_datetime=one_document['datetime']\n",
    "one_url=one_document['url']\n",
    "\n",
    "#print(one_title)\n",
    "#print(one_contents)\n",
    "#print(one_datetime)\n",
    "#print(one_url)\n",
    "\n",
    "result_documents = []\n",
    "\n",
    "# 5건 뽑아낸 거\n",
    "for i in range(len(documents)):\n",
    "    docs = documents[i]\n",
    "    result_documents.append( (docs['title'], docs['contents'], docs['url'], docs['datetime']) )\n",
    "    \n",
    "print(result_documents)\n",
    "len(documents)"
   ]
  },
  {
   "cell_type": "code",
   "execution_count": 39,
   "metadata": {},
   "outputs": [],
   "source": [
    "import pymysql\n",
    "conn = pymysql.connect(host = '172.18.31.74',\n",
    "                       db = 'practicedb',\n",
    "                       user = 'root',\n",
    "                       port = 3306,\n",
    "                       password = 'acorn1234Q!',\n",
    "                       charset = 'utf8mb4',\n",
    "                       use_unicode = True,\n",
    "                       cursorclass = pymysql.cursors.DictCursor)"
   ]
  },
  {
   "cell_type": "code",
   "execution_count": 40,
   "metadata": {},
   "outputs": [],
   "source": [
    "# INSERT INTO search_tb(title,contents,url,search_date) VALUES ('test','test_contents','test_url','test_search_date')"
   ]
  },
  {
   "cell_type": "code",
   "execution_count": 41,
   "metadata": {},
   "outputs": [],
   "source": [
    "cur = conn.cursor()\n",
    "\n",
    "sql=\"INSERT INTO search_tb(title) VALUES (%s)\"\n",
    "\n",
    "# INSERT INTO search_tb(title) VALUES (one_title)\n",
    "\n",
    "# INSERT INTO search_tb(title, contents, url, search_date) VALUES (one_title, one_contents, one_url, one_datetime)\n",
    "# INSERT INTO search_tb(title, contents, url, search_date) VALUES (%s, %s, %s, %s)\n",
    "\n",
    "#cur.execute(\"SQL문\", (\"1번째 %s에 들어갈 내용\", \"2번째 %s에 들어갈 내용\", \"n번째 %s에 들어갈 내용\"))\n",
    "\n",
    "# cur.execute(sql문, (1건 데이터)) -> 1건\n",
    "# cur.executemany(sql문, [ (데이터1), (데이터2), (데이터N) ]) -> 2건이상 여러건\n",
    "\n",
    "#[(one_title, one_contents, one_url, one_datetime), (two_title, two_contents, two_url, two_datetime)]\n",
    "\n",
    "#cur.execute(\"INSERT INTO search_tb(title, contents, url, search_date) VALUES (%s, %s, %s, %s)\", (one_title, one_contents, one_url, one_datetime))\n",
    "\n",
    "# result_documents 의 형식 = [ (데이터1), (데이터2), (데이터N) ]\n",
    "cur.executemany(\"INSERT INTO search_tb(title, contents, url, search_date) VALUES (%s, %s, %s, %s)\", result_documents)\n",
    "\n",
    "\n",
    "#commit 은 무조건 쓴다\n",
    "conn.commit()\n",
    "conn.close()"
   ]
  },
  {
   "cell_type": "code",
   "execution_count": 42,
   "metadata": {},
   "outputs": [],
   "source": []
  },
  {
   "cell_type": "code",
   "execution_count": null,
   "metadata": {},
   "outputs": [],
   "source": [
    "* 테이블 안에 데이터를 조회하는 SQL문\n",
    "SELECT ~ FROM\n",
    "\n",
    "* 테이블 안에 데이터의 변경이 일어나는 SQL문(신규입력,수정,삭제) -> commit, rollback\n",
    "INSERT INTO ~ VALUES\n",
    "UPDATE ~ SET\n",
    "DELETE FROM ~\n"
   ]
  },
  {
   "cell_type": "code",
   "execution_count": null,
   "metadata": {},
   "outputs": [],
   "source": []
  },
  {
   "cell_type": "code",
   "execution_count": null,
   "metadata": {},
   "outputs": [],
   "source": []
  },
  {
   "cell_type": "code",
   "execution_count": null,
   "metadata": {},
   "outputs": [],
   "source": []
  },
  {
   "cell_type": "code",
   "execution_count": null,
   "metadata": {},
   "outputs": [],
   "source": []
  },
  {
   "cell_type": "code",
   "execution_count": 56,
   "metadata": {},
   "outputs": [
    {
     "data": {
      "text/plain": [
       "dict_keys(['contents', 'datetime', 'title', 'url'])"
      ]
     },
     "execution_count": 56,
     "metadata": {},
     "output_type": "execute_result"
    }
   ],
   "source": [
    "documents[2].keys()"
   ]
  },
  {
   "cell_type": "code",
   "execution_count": null,
   "metadata": {},
   "outputs": [],
   "source": [
    "\n",
    "result_data.keys()\n",
    "documents[2].keys()\n",
    "\n",
    "\n",
    "\n",
    "result_documents = []\n",
    "\n",
    "# ()\n",
    "# [ (), () ]\n",
    "\n",
    "for i in range(5):\n",
    "    docs = documents[i]\n",
    "    result_documents.append( (docs['title'], docs['contents'], docs['url'], docs['datetime']) )\n",
    "    \n",
    "    \n",
    "    \n",
    "print(result_documents)\n",
    "    \n",
    "    \n",
    "\n",
    "    \n",
    "#################\n",
    "#documents[0]['contents']\n",
    "#documents[0]['datetime']\n",
    "#documents[0]['title']\n",
    "#documents[0]['url']\n",
    "###################\n",
    "#documents[1]['contents']\n",
    "#documents[1]['datetime']\n",
    "#documents[1]['title']\n",
    "#documents[1]['url']\n",
    "##############\n",
    "\n"
   ]
  }
 ],
 "metadata": {
  "kernelspec": {
   "display_name": "Python 3",
   "language": "python",
   "name": "python3"
  },
  "language_info": {
   "codemirror_mode": {
    "name": "ipython",
    "version": 3
   },
   "file_extension": ".py",
   "mimetype": "text/x-python",
   "name": "python",
   "nbconvert_exporter": "python",
   "pygments_lexer": "ipython3",
   "version": "3.7.4"
  }
 },
 "nbformat": 4,
 "nbformat_minor": 2
}
