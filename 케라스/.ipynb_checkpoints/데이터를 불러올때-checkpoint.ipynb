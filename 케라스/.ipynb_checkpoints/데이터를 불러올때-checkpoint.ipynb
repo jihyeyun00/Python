{
 "cells": [
  {
   "cell_type": "markdown",
   "metadata": {},
   "source": [
    "# pandas로 데이터를 불러오면 dataframe이 되고\n",
    "numpy로 데이터를 불러오면 ndarray가 된다."
   ]
  },
  {
   "cell_type": "code",
   "execution_count": null,
   "metadata": {},
   "outputs": [],
   "source": [
    "df = pd.read_csv(\"연습1.csv\",encoding = \n",
    "                 'euc-kr',index_col = 0)\n",
    "......\n",
    "X, y = df.iloc[:,2:],df.iloc[:,:-1]\n",
    "print(y)"
   ]
  },
  {
   "cell_type": "code",
   "execution_count": null,
   "metadata": {},
   "outputs": [],
   "source": [
    "dataset=numpy.loadtxt('pima.data',delimiter=',') #data일 경우\n",
    "X=dataset[:,0:8] \n",
    "Y=dataset[:,8] \n",
    "print(X.shape)  #(768, 8)\n",
    "print(Y.shape)   #(768,)\n",
    "\n",
    "df=pandas.read_csv('iris.csv',header=None)  #넘파이형 판다스형 ? loadtxt,read_csv\n",
    "dataset=df.values #값만 넣어줌\n",
    "print(df.shape) #(151, 5)\n",
    "\n",
    "X=dataset[1:,0:4] \n",
    "Y=dataset[1:,4]\n",
    "print(X.shape)  #(150, 4)\n",
    "print(Y.shape)  #(150,)\n",
    "print(type(dataset)) #<class 'numpy.ndarray'>\n"
   ]
  },
  {
   "cell_type": "code",
   "execution_count": null,
   "metadata": {},
   "outputs": [],
   "source": []
  },
  {
   "cell_type": "code",
   "execution_count": null,
   "metadata": {},
   "outputs": [],
   "source": []
  },
  {
   "cell_type": "code",
   "execution_count": null,
   "metadata": {},
   "outputs": [],
   "source": []
  }
 ],
 "metadata": {
  "kernelspec": {
   "display_name": "Python 3",
   "language": "python",
   "name": "python3"
  },
  "language_info": {
   "codemirror_mode": {
    "name": "ipython",
    "version": 3
   },
   "file_extension": ".py",
   "mimetype": "text/x-python",
   "name": "python",
   "nbconvert_exporter": "python",
   "pygments_lexer": "ipython3",
   "version": "3.7.4"
  }
 },
 "nbformat": 4,
 "nbformat_minor": 2
}
