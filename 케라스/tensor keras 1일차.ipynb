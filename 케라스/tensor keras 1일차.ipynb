{
 "cells": [
  {
   "cell_type": "code",
   "execution_count": 4,
   "metadata": {},
   "outputs": [
    {
     "name": "stdout",
     "output_type": "stream",
     "text": [
      "입력데이터=[0.29466096 0.30317302], 예측결과=[0.17371328]\n",
      "입력데이터=[0.39445118 0.79390858], 예측결과=[0.7426364]\n",
      "입력데이터=[0.02884127 0.6208843 ], 예측결과=[0.41398478]\n"
     ]
    }
   ],
   "source": [
    "from keras.models import Sequential\n",
    "from keras.layers import Dense # layers -> 모델구성\n",
    "from sklearn.datasets import make_regression\n",
    "# 신경망에서는 정규화가 우선임\n",
    "from sklearn.preprocessing import MinMaxScaler\n",
    "X,y = make_regression(n_samples=100, n_features=2,noise=0.1,random_state=1)\n",
    "scalarX, scalarY = MinMaxScaler(), MinMaxScaler()\n",
    "scalarX.fit(X)\n",
    "scalarY.fit(y.reshape(100,1))\n",
    "X = scalarX.transform(X)\n",
    "y = scalarY.transform(y.reshape(100,1))\n",
    "# keras 모델\n",
    "model = Sequential()\n",
    "# 100*2 출력차수지정, 2*4 -> 100*4\n",
    "# layer depth\n",
    "# Dense는 FFNN망을 구성할때 씀\n",
    "model.add(Dense(4, input_dim=2, activation='relu'))\n",
    "# 100*4 / 4*4 / 100*4\n",
    "model.add(Dense(4, activation='relu'))\n",
    "# 100*4 / 4*1 / 100*1 예측\n",
    "model.add(Dense(1, activation='linear'))\n",
    "# backend = tensorflow\n",
    "# loss 에 mse, cross enthropy, KL-divergence : 분포를 비교\n",
    "model.compile(loss='mse', optimizer='adam') # tensorflow 모델을변환\n",
    "model.fit(X,y, epochs=1000, verbose=0)\n",
    "Xnew, a = make_regression(n_samples=3, n_features=2, noise=0.1,random_state=1)\n",
    "Xnew = scalarX.transform(Xnew)\n",
    "ynew = model.predict(Xnew)\n",
    "for i in range(len(Xnew)):\n",
    "    print(\"입력데이터=%s, 예측결과=%s\"%(Xnew[i], ynew[i]))"
   ]
  },
  {
   "cell_type": "code",
   "execution_count": 5,
   "metadata": {
    "jupyter": {
     "outputs_hidden": true
    }
   },
   "outputs": [
    {
     "name": "stdout",
     "output_type": "stream",
     "text": [
      "WARNING:tensorflow:From C:\\Users\\ICT01_15\\Anaconda3\\lib\\site-packages\\tensorflow\\python\\ops\\nn_impl.py:180: add_dispatch_support.<locals>.wrapper (from tensorflow.python.ops.array_ops) is deprecated and will be removed in a future version.\n",
      "Instructions for updating:\n",
      "Use tf.where in 2.0, which has the same broadcast rule as np.where\n",
      "Train on 514 samples, validate on 254 samples\n",
      "Epoch 1/150\n",
      "514/514 [==============================] - 0s 674us/step - loss: 0.6796 - accuracy: 0.6401 - val_loss: 0.6586 - val_accuracy: 0.6732\n",
      "Epoch 2/150\n",
      "514/514 [==============================] - 0s 109us/step - loss: 0.6688 - accuracy: 0.6401 - val_loss: 0.6533 - val_accuracy: 0.6732\n",
      "Epoch 3/150\n",
      "514/514 [==============================] - 0s 113us/step - loss: 0.6616 - accuracy: 0.6401 - val_loss: 0.6510 - val_accuracy: 0.6732\n",
      "Epoch 4/150\n",
      "514/514 [==============================] - 0s 109us/step - loss: 0.6545 - accuracy: 0.6362 - val_loss: 0.6456 - val_accuracy: 0.6890\n",
      "Epoch 5/150\n",
      "514/514 [==============================] - 0s 114us/step - loss: 0.6456 - accuracy: 0.6420 - val_loss: 0.6363 - val_accuracy: 0.7008\n",
      "Epoch 6/150\n",
      "514/514 [==============================] - 0s 113us/step - loss: 0.6386 - accuracy: 0.6420 - val_loss: 0.6230 - val_accuracy: 0.6890\n",
      "Epoch 7/150\n",
      "514/514 [==============================] - 0s 122us/step - loss: 0.6319 - accuracy: 0.6518 - val_loss: 0.6148 - val_accuracy: 0.6890\n",
      "Epoch 8/150\n",
      "514/514 [==============================] - 0s 114us/step - loss: 0.6217 - accuracy: 0.6712 - val_loss: 0.6043 - val_accuracy: 0.6890\n",
      "Epoch 9/150\n",
      "514/514 [==============================] - 0s 120us/step - loss: 0.6177 - accuracy: 0.6595 - val_loss: 0.6055 - val_accuracy: 0.6850\n",
      "Epoch 10/150\n",
      "514/514 [==============================] - 0s 109us/step - loss: 0.6093 - accuracy: 0.6887 - val_loss: 0.5939 - val_accuracy: 0.7008\n",
      "Epoch 11/150\n",
      "514/514 [==============================] - 0s 109us/step - loss: 0.6035 - accuracy: 0.6868 - val_loss: 0.6002 - val_accuracy: 0.7087\n",
      "Epoch 12/150\n",
      "514/514 [==============================] - 0s 115us/step - loss: 0.6046 - accuracy: 0.6926 - val_loss: 0.5817 - val_accuracy: 0.7008\n",
      "Epoch 13/150\n",
      "514/514 [==============================] - 0s 110us/step - loss: 0.6014 - accuracy: 0.6984 - val_loss: 0.5872 - val_accuracy: 0.6969\n",
      "Epoch 14/150\n",
      "514/514 [==============================] - 0s 109us/step - loss: 0.5887 - accuracy: 0.7101 - val_loss: 0.5759 - val_accuracy: 0.7205\n",
      "Epoch 15/150\n",
      "514/514 [==============================] - 0s 116us/step - loss: 0.5849 - accuracy: 0.7121 - val_loss: 0.5760 - val_accuracy: 0.6929\n",
      "Epoch 16/150\n",
      "514/514 [==============================] - 0s 115us/step - loss: 0.5922 - accuracy: 0.6926 - val_loss: 0.5758 - val_accuracy: 0.7047\n",
      "Epoch 17/150\n",
      "514/514 [==============================] - 0s 122us/step - loss: 0.5844 - accuracy: 0.7062 - val_loss: 0.5713 - val_accuracy: 0.7165\n",
      "Epoch 18/150\n",
      "514/514 [==============================] - 0s 113us/step - loss: 0.5815 - accuracy: 0.7140 - val_loss: 0.5768 - val_accuracy: 0.7087\n",
      "Epoch 19/150\n",
      "514/514 [==============================] - 0s 106us/step - loss: 0.5840 - accuracy: 0.7101 - val_loss: 0.5759 - val_accuracy: 0.7244\n",
      "Epoch 20/150\n",
      "514/514 [==============================] - 0s 109us/step - loss: 0.5764 - accuracy: 0.7276 - val_loss: 0.5715 - val_accuracy: 0.6890\n",
      "Epoch 21/150\n",
      "514/514 [==============================] - 0s 112us/step - loss: 0.5760 - accuracy: 0.7082 - val_loss: 0.5777 - val_accuracy: 0.7047\n",
      "Epoch 22/150\n",
      "514/514 [==============================] - 0s 113us/step - loss: 0.5730 - accuracy: 0.7354 - val_loss: 0.5692 - val_accuracy: 0.6811\n",
      "Epoch 23/150\n",
      "514/514 [==============================] - 0s 114us/step - loss: 0.5744 - accuracy: 0.7004 - val_loss: 0.5678 - val_accuracy: 0.7126\n",
      "Epoch 24/150\n",
      "514/514 [==============================] - 0s 116us/step - loss: 0.5599 - accuracy: 0.7276 - val_loss: 0.5638 - val_accuracy: 0.7244\n",
      "Epoch 25/150\n",
      "514/514 [==============================] - 0s 132us/step - loss: 0.5662 - accuracy: 0.7237 - val_loss: 0.5604 - val_accuracy: 0.7008\n",
      "Epoch 26/150\n",
      "514/514 [==============================] - 0s 108us/step - loss: 0.5625 - accuracy: 0.7412 - val_loss: 0.5647 - val_accuracy: 0.7126\n",
      "Epoch 27/150\n",
      "514/514 [==============================] - 0s 107us/step - loss: 0.5607 - accuracy: 0.7315 - val_loss: 0.5632 - val_accuracy: 0.7008\n",
      "Epoch 28/150\n",
      "514/514 [==============================] - 0s 105us/step - loss: 0.5588 - accuracy: 0.7315 - val_loss: 0.6341 - val_accuracy: 0.5906\n",
      "Epoch 29/150\n",
      "514/514 [==============================] - 0s 113us/step - loss: 0.5590 - accuracy: 0.7237 - val_loss: 0.5695 - val_accuracy: 0.7283\n",
      "Epoch 30/150\n",
      "514/514 [==============================] - 0s 107us/step - loss: 0.5537 - accuracy: 0.7335 - val_loss: 0.5621 - val_accuracy: 0.7283\n",
      "Epoch 31/150\n",
      "514/514 [==============================] - 0s 115us/step - loss: 0.5467 - accuracy: 0.7179 - val_loss: 0.5775 - val_accuracy: 0.7165\n",
      "Epoch 32/150\n",
      "514/514 [==============================] - 0s 107us/step - loss: 0.5601 - accuracy: 0.7276 - val_loss: 0.5962 - val_accuracy: 0.6496\n",
      "Epoch 33/150\n",
      "514/514 [==============================] - 0s 113us/step - loss: 0.5806 - accuracy: 0.7140 - val_loss: 0.5827 - val_accuracy: 0.7244\n",
      "Epoch 34/150\n",
      "514/514 [==============================] - 0s 109us/step - loss: 0.5515 - accuracy: 0.7179 - val_loss: 0.5616 - val_accuracy: 0.7126\n",
      "Epoch 35/150\n",
      "514/514 [==============================] - 0s 110us/step - loss: 0.5451 - accuracy: 0.7335 - val_loss: 0.5539 - val_accuracy: 0.7244\n",
      "Epoch 36/150\n",
      "514/514 [==============================] - 0s 106us/step - loss: 0.5522 - accuracy: 0.7198 - val_loss: 0.5652 - val_accuracy: 0.7087\n",
      "Epoch 37/150\n",
      "514/514 [==============================] - 0s 107us/step - loss: 0.5457 - accuracy: 0.7276 - val_loss: 0.5666 - val_accuracy: 0.7283\n",
      "Epoch 38/150\n",
      "514/514 [==============================] - 0s 109us/step - loss: 0.5448 - accuracy: 0.7335 - val_loss: 0.5493 - val_accuracy: 0.7165\n",
      "Epoch 39/150\n",
      "514/514 [==============================] - 0s 107us/step - loss: 0.5523 - accuracy: 0.7140 - val_loss: 0.5609 - val_accuracy: 0.7205\n",
      "Epoch 40/150\n",
      "514/514 [==============================] - 0s 107us/step - loss: 0.5474 - accuracy: 0.7412 - val_loss: 0.5530 - val_accuracy: 0.7323\n",
      "Epoch 41/150\n",
      "514/514 [==============================] - 0s 105us/step - loss: 0.5407 - accuracy: 0.7393 - val_loss: 0.5523 - val_accuracy: 0.7244\n",
      "Epoch 42/150\n",
      "514/514 [==============================] - 0s 110us/step - loss: 0.5476 - accuracy: 0.7374 - val_loss: 0.5804 - val_accuracy: 0.7165\n",
      "Epoch 43/150\n",
      "514/514 [==============================] - 0s 105us/step - loss: 0.5435 - accuracy: 0.7393 - val_loss: 0.5606 - val_accuracy: 0.7362\n",
      "Epoch 44/150\n",
      "514/514 [==============================] - 0s 109us/step - loss: 0.5451 - accuracy: 0.7276 - val_loss: 0.5592 - val_accuracy: 0.7126\n",
      "Epoch 45/150\n",
      "514/514 [==============================] - 0s 107us/step - loss: 0.5349 - accuracy: 0.7354 - val_loss: 0.5850 - val_accuracy: 0.6575\n",
      "Epoch 46/150\n",
      "514/514 [==============================] - 0s 105us/step - loss: 0.5500 - accuracy: 0.7121 - val_loss: 0.5619 - val_accuracy: 0.7244\n",
      "Epoch 47/150\n",
      "514/514 [==============================] - 0s 107us/step - loss: 0.5492 - accuracy: 0.7160 - val_loss: 0.5543 - val_accuracy: 0.7362\n",
      "Epoch 48/150\n",
      "514/514 [==============================] - 0s 114us/step - loss: 0.5416 - accuracy: 0.7237 - val_loss: 0.5514 - val_accuracy: 0.7323\n",
      "Epoch 49/150\n",
      "514/514 [==============================] - 0s 112us/step - loss: 0.5382 - accuracy: 0.7412 - val_loss: 0.5483 - val_accuracy: 0.7165\n",
      "Epoch 50/150\n",
      "514/514 [==============================] - 0s 104us/step - loss: 0.5387 - accuracy: 0.7315 - val_loss: 0.5635 - val_accuracy: 0.7047\n",
      "Epoch 51/150\n",
      "514/514 [==============================] - 0s 104us/step - loss: 0.5334 - accuracy: 0.7490 - val_loss: 0.5504 - val_accuracy: 0.7323\n",
      "Epoch 52/150\n",
      "514/514 [==============================] - 0s 110us/step - loss: 0.5391 - accuracy: 0.7471 - val_loss: 0.5604 - val_accuracy: 0.6969\n",
      "Epoch 53/150\n",
      "514/514 [==============================] - 0s 106us/step - loss: 0.5338 - accuracy: 0.7451 - val_loss: 0.5406 - val_accuracy: 0.7402\n",
      "Epoch 54/150\n"
     ]
    },
    {
     "name": "stdout",
     "output_type": "stream",
     "text": [
      "514/514 [==============================] - 0s 108us/step - loss: 0.5304 - accuracy: 0.7315 - val_loss: 0.5470 - val_accuracy: 0.7480\n",
      "Epoch 55/150\n",
      "514/514 [==============================] - 0s 105us/step - loss: 0.5287 - accuracy: 0.7432 - val_loss: 0.5532 - val_accuracy: 0.7283\n",
      "Epoch 56/150\n",
      "514/514 [==============================] - 0s 109us/step - loss: 0.5394 - accuracy: 0.7315 - val_loss: 0.5482 - val_accuracy: 0.7362\n",
      "Epoch 57/150\n",
      "514/514 [==============================] - 0s 109us/step - loss: 0.5391 - accuracy: 0.7393 - val_loss: 0.5630 - val_accuracy: 0.7323\n",
      "Epoch 58/150\n",
      "514/514 [==============================] - 0s 110us/step - loss: 0.5268 - accuracy: 0.7354 - val_loss: 0.5648 - val_accuracy: 0.7087\n",
      "Epoch 59/150\n",
      "514/514 [==============================] - 0s 111us/step - loss: 0.5436 - accuracy: 0.7315 - val_loss: 0.5484 - val_accuracy: 0.7362\n",
      "Epoch 60/150\n",
      "514/514 [==============================] - 0s 109us/step - loss: 0.5315 - accuracy: 0.7374 - val_loss: 0.5517 - val_accuracy: 0.7283\n",
      "Epoch 61/150\n",
      "514/514 [==============================] - 0s 111us/step - loss: 0.5359 - accuracy: 0.7276 - val_loss: 0.5538 - val_accuracy: 0.7323\n",
      "Epoch 62/150\n",
      "514/514 [==============================] - 0s 106us/step - loss: 0.5345 - accuracy: 0.7198 - val_loss: 0.5478 - val_accuracy: 0.7283\n",
      "Epoch 63/150\n",
      "514/514 [==============================] - 0s 110us/step - loss: 0.5253 - accuracy: 0.7374 - val_loss: 0.5464 - val_accuracy: 0.7362\n",
      "Epoch 64/150\n",
      "514/514 [==============================] - 0s 108us/step - loss: 0.5289 - accuracy: 0.7432 - val_loss: 0.5493 - val_accuracy: 0.7402\n",
      "Epoch 65/150\n",
      "514/514 [==============================] - 0s 107us/step - loss: 0.5324 - accuracy: 0.7296 - val_loss: 0.5604 - val_accuracy: 0.7165\n",
      "Epoch 66/150\n",
      "514/514 [==============================] - 0s 110us/step - loss: 0.5321 - accuracy: 0.7374 - val_loss: 0.5323 - val_accuracy: 0.7677\n",
      "Epoch 67/150\n",
      "514/514 [==============================] - 0s 108us/step - loss: 0.5254 - accuracy: 0.7374 - val_loss: 0.5593 - val_accuracy: 0.7441\n",
      "Epoch 68/150\n",
      "514/514 [==============================] - 0s 112us/step - loss: 0.5332 - accuracy: 0.7315 - val_loss: 0.5622 - val_accuracy: 0.7323\n",
      "Epoch 69/150\n",
      "514/514 [==============================] - 0s 108us/step - loss: 0.5290 - accuracy: 0.7335 - val_loss: 0.5513 - val_accuracy: 0.7244\n",
      "Epoch 70/150\n",
      "514/514 [==============================] - 0s 107us/step - loss: 0.5337 - accuracy: 0.7490 - val_loss: 0.5432 - val_accuracy: 0.7244\n",
      "Epoch 71/150\n",
      "514/514 [==============================] - 0s 109us/step - loss: 0.5267 - accuracy: 0.7432 - val_loss: 0.5532 - val_accuracy: 0.7559\n",
      "Epoch 72/150\n",
      "514/514 [==============================] - 0s 107us/step - loss: 0.5278 - accuracy: 0.7412 - val_loss: 0.5296 - val_accuracy: 0.7677\n",
      "Epoch 73/150\n",
      "514/514 [==============================] - 0s 109us/step - loss: 0.5283 - accuracy: 0.7354 - val_loss: 0.5348 - val_accuracy: 0.7362\n",
      "Epoch 74/150\n",
      "514/514 [==============================] - 0s 111us/step - loss: 0.5206 - accuracy: 0.7451 - val_loss: 0.5419 - val_accuracy: 0.7480\n",
      "Epoch 75/150\n",
      "514/514 [==============================] - 0s 107us/step - loss: 0.5269 - accuracy: 0.7393 - val_loss: 0.5418 - val_accuracy: 0.7520\n",
      "Epoch 76/150\n",
      "514/514 [==============================] - 0s 105us/step - loss: 0.5207 - accuracy: 0.7471 - val_loss: 0.5345 - val_accuracy: 0.7362\n",
      "Epoch 77/150\n",
      "514/514 [==============================] - 0s 106us/step - loss: 0.5195 - accuracy: 0.7412 - val_loss: 0.5341 - val_accuracy: 0.7402\n",
      "Epoch 78/150\n",
      "514/514 [==============================] - 0s 108us/step - loss: 0.5180 - accuracy: 0.7471 - val_loss: 0.5291 - val_accuracy: 0.7835\n",
      "Epoch 79/150\n",
      "514/514 [==============================] - 0s 106us/step - loss: 0.5271 - accuracy: 0.7393 - val_loss: 0.5456 - val_accuracy: 0.7480\n",
      "Epoch 80/150\n",
      "514/514 [==============================] - 0s 103us/step - loss: 0.5246 - accuracy: 0.7451 - val_loss: 0.5294 - val_accuracy: 0.7520\n",
      "Epoch 81/150\n",
      "514/514 [==============================] - 0s 111us/step - loss: 0.5277 - accuracy: 0.7529 - val_loss: 0.5381 - val_accuracy: 0.7402\n",
      "Epoch 82/150\n",
      "514/514 [==============================] - 0s 105us/step - loss: 0.5201 - accuracy: 0.7315 - val_loss: 0.5297 - val_accuracy: 0.7677\n",
      "Epoch 83/150\n",
      "514/514 [==============================] - 0s 107us/step - loss: 0.5159 - accuracy: 0.7374 - val_loss: 0.5387 - val_accuracy: 0.7402\n",
      "Epoch 84/150\n",
      "514/514 [==============================] - 0s 107us/step - loss: 0.5257 - accuracy: 0.7432 - val_loss: 0.5255 - val_accuracy: 0.7717\n",
      "Epoch 85/150\n",
      "514/514 [==============================] - 0s 109us/step - loss: 0.5184 - accuracy: 0.7471 - val_loss: 0.5292 - val_accuracy: 0.7402\n",
      "Epoch 86/150\n",
      "514/514 [==============================] - 0s 110us/step - loss: 0.5157 - accuracy: 0.7374 - val_loss: 0.5385 - val_accuracy: 0.7598\n",
      "Epoch 87/150\n",
      "514/514 [==============================] - 0s 109us/step - loss: 0.5152 - accuracy: 0.7412 - val_loss: 0.5233 - val_accuracy: 0.7677\n",
      "Epoch 88/150\n",
      "514/514 [==============================] - 0s 108us/step - loss: 0.5133 - accuracy: 0.7510 - val_loss: 0.5358 - val_accuracy: 0.7323\n",
      "Epoch 89/150\n",
      "514/514 [==============================] - 0s 105us/step - loss: 0.5147 - accuracy: 0.7432 - val_loss: 0.5266 - val_accuracy: 0.7520\n",
      "Epoch 90/150\n",
      "514/514 [==============================] - 0s 107us/step - loss: 0.5159 - accuracy: 0.7471 - val_loss: 0.5349 - val_accuracy: 0.7323\n",
      "Epoch 91/150\n",
      "514/514 [==============================] - 0s 104us/step - loss: 0.5159 - accuracy: 0.7490 - val_loss: 0.5319 - val_accuracy: 0.7480\n",
      "Epoch 92/150\n",
      "514/514 [==============================] - 0s 107us/step - loss: 0.5196 - accuracy: 0.7471 - val_loss: 0.5334 - val_accuracy: 0.7441\n",
      "Epoch 93/150\n",
      "514/514 [==============================] - 0s 107us/step - loss: 0.5127 - accuracy: 0.7568 - val_loss: 0.5307 - val_accuracy: 0.7362\n",
      "Epoch 94/150\n",
      "514/514 [==============================] - 0s 113us/step - loss: 0.5171 - accuracy: 0.7529 - val_loss: 0.5219 - val_accuracy: 0.7638\n",
      "Epoch 95/150\n",
      "514/514 [==============================] - 0s 119us/step - loss: 0.5147 - accuracy: 0.7607 - val_loss: 0.5360 - val_accuracy: 0.7244\n",
      "Epoch 96/150\n",
      "514/514 [==============================] - 0s 106us/step - loss: 0.5191 - accuracy: 0.7451 - val_loss: 0.5216 - val_accuracy: 0.7756\n",
      "Epoch 97/150\n",
      "514/514 [==============================] - 0s 105us/step - loss: 0.5113 - accuracy: 0.7529 - val_loss: 0.5170 - val_accuracy: 0.7638\n",
      "Epoch 98/150\n",
      "514/514 [==============================] - 0s 103us/step - loss: 0.5208 - accuracy: 0.7412 - val_loss: 0.5379 - val_accuracy: 0.7402\n",
      "Epoch 99/150\n",
      "514/514 [==============================] - 0s 105us/step - loss: 0.5199 - accuracy: 0.7393 - val_loss: 0.5298 - val_accuracy: 0.7638\n",
      "Epoch 100/150\n",
      "514/514 [==============================] - 0s 107us/step - loss: 0.5102 - accuracy: 0.7432 - val_loss: 0.5201 - val_accuracy: 0.7913\n",
      "Epoch 101/150\n",
      "514/514 [==============================] - 0s 105us/step - loss: 0.5097 - accuracy: 0.7471 - val_loss: 0.5264 - val_accuracy: 0.7598\n",
      "Epoch 102/150\n",
      "514/514 [==============================] - 0s 106us/step - loss: 0.5051 - accuracy: 0.7588 - val_loss: 0.5136 - val_accuracy: 0.7717\n",
      "Epoch 103/150\n",
      "514/514 [==============================] - 0s 109us/step - loss: 0.5185 - accuracy: 0.7471 - val_loss: 0.5244 - val_accuracy: 0.7323\n",
      "Epoch 104/150\n",
      "514/514 [==============================] - 0s 127us/step - loss: 0.5116 - accuracy: 0.7432 - val_loss: 0.5164 - val_accuracy: 0.7717\n",
      "Epoch 105/150\n",
      "514/514 [==============================] - 0s 109us/step - loss: 0.5032 - accuracy: 0.7432 - val_loss: 0.5183 - val_accuracy: 0.7638\n",
      "Epoch 106/150\n",
      "514/514 [==============================] - 0s 116us/step - loss: 0.5101 - accuracy: 0.7354 - val_loss: 0.5128 - val_accuracy: 0.7795\n",
      "Epoch 107/150\n",
      "514/514 [==============================] - 0s 111us/step - loss: 0.5099 - accuracy: 0.7412 - val_loss: 0.5320 - val_accuracy: 0.7323\n",
      "Epoch 108/150\n",
      "514/514 [==============================] - 0s 111us/step - loss: 0.5174 - accuracy: 0.7529 - val_loss: 0.5261 - val_accuracy: 0.7402\n",
      "Epoch 109/150\n",
      "514/514 [==============================] - 0s 109us/step - loss: 0.5075 - accuracy: 0.7510 - val_loss: 0.5157 - val_accuracy: 0.7874\n",
      "Epoch 110/150\n"
     ]
    },
    {
     "name": "stdout",
     "output_type": "stream",
     "text": [
      "514/514 [==============================] - 0s 106us/step - loss: 0.5011 - accuracy: 0.7432 - val_loss: 0.5506 - val_accuracy: 0.7362\n",
      "Epoch 111/150\n",
      "514/514 [==============================] - 0s 106us/step - loss: 0.5161 - accuracy: 0.7354 - val_loss: 0.5168 - val_accuracy: 0.7835\n",
      "Epoch 112/150\n",
      "514/514 [==============================] - 0s 109us/step - loss: 0.4995 - accuracy: 0.7490 - val_loss: 0.5199 - val_accuracy: 0.7480\n",
      "Epoch 113/150\n",
      "514/514 [==============================] - 0s 108us/step - loss: 0.5029 - accuracy: 0.7549 - val_loss: 0.5141 - val_accuracy: 0.7717\n",
      "Epoch 114/150\n",
      "514/514 [==============================] - 0s 108us/step - loss: 0.5001 - accuracy: 0.7432 - val_loss: 0.5094 - val_accuracy: 0.7717\n",
      "Epoch 115/150\n",
      "514/514 [==============================] - 0s 105us/step - loss: 0.4999 - accuracy: 0.7529 - val_loss: 0.5070 - val_accuracy: 0.7835\n",
      "Epoch 116/150\n",
      "514/514 [==============================] - 0s 107us/step - loss: 0.5013 - accuracy: 0.7451 - val_loss: 0.5076 - val_accuracy: 0.7874\n",
      "Epoch 117/150\n",
      "514/514 [==============================] - 0s 109us/step - loss: 0.5044 - accuracy: 0.7374 - val_loss: 0.5359 - val_accuracy: 0.7717\n",
      "Epoch 118/150\n",
      "514/514 [==============================] - 0s 103us/step - loss: 0.4999 - accuracy: 0.7471 - val_loss: 0.5080 - val_accuracy: 0.7835\n",
      "Epoch 119/150\n",
      "514/514 [==============================] - 0s 104us/step - loss: 0.5064 - accuracy: 0.7549 - val_loss: 0.5257 - val_accuracy: 0.7835\n",
      "Epoch 120/150\n",
      "514/514 [==============================] - 0s 106us/step - loss: 0.4993 - accuracy: 0.7490 - val_loss: 0.5120 - val_accuracy: 0.7677\n",
      "Epoch 121/150\n",
      "514/514 [==============================] - 0s 105us/step - loss: 0.4975 - accuracy: 0.7490 - val_loss: 0.5194 - val_accuracy: 0.7559\n",
      "Epoch 122/150\n",
      "514/514 [==============================] - 0s 105us/step - loss: 0.5001 - accuracy: 0.7549 - val_loss: 0.5032 - val_accuracy: 0.7874\n",
      "Epoch 123/150\n",
      "514/514 [==============================] - 0s 108us/step - loss: 0.4951 - accuracy: 0.7490 - val_loss: 0.5221 - val_accuracy: 0.7480\n",
      "Epoch 124/150\n",
      "514/514 [==============================] - 0s 108us/step - loss: 0.4966 - accuracy: 0.7626 - val_loss: 0.5200 - val_accuracy: 0.7520\n",
      "Epoch 125/150\n",
      "514/514 [==============================] - 0s 105us/step - loss: 0.5024 - accuracy: 0.7471 - val_loss: 0.5138 - val_accuracy: 0.7598\n",
      "Epoch 126/150\n",
      "514/514 [==============================] - 0s 114us/step - loss: 0.4872 - accuracy: 0.7568 - val_loss: 0.5291 - val_accuracy: 0.7480\n",
      "Epoch 127/150\n",
      "514/514 [==============================] - 0s 105us/step - loss: 0.4938 - accuracy: 0.7529 - val_loss: 0.5090 - val_accuracy: 0.7717\n",
      "Epoch 128/150\n",
      "514/514 [==============================] - 0s 111us/step - loss: 0.4920 - accuracy: 0.7607 - val_loss: 0.5157 - val_accuracy: 0.7638\n",
      "Epoch 129/150\n",
      "514/514 [==============================] - 0s 107us/step - loss: 0.4954 - accuracy: 0.7393 - val_loss: 0.5036 - val_accuracy: 0.7795\n",
      "Epoch 130/150\n",
      "514/514 [==============================] - 0s 114us/step - loss: 0.4930 - accuracy: 0.7588 - val_loss: 0.5074 - val_accuracy: 0.7835\n",
      "Epoch 131/150\n",
      "514/514 [==============================] - 0s 104us/step - loss: 0.4874 - accuracy: 0.7588 - val_loss: 0.5135 - val_accuracy: 0.7402\n",
      "Epoch 132/150\n",
      "514/514 [==============================] - 0s 103us/step - loss: 0.4951 - accuracy: 0.7549 - val_loss: 0.5108 - val_accuracy: 0.7638\n",
      "Epoch 133/150\n",
      "514/514 [==============================] - 0s 115us/step - loss: 0.4912 - accuracy: 0.7704 - val_loss: 0.5039 - val_accuracy: 0.7795\n",
      "Epoch 134/150\n",
      "514/514 [==============================] - 0s 105us/step - loss: 0.4932 - accuracy: 0.7549 - val_loss: 0.5158 - val_accuracy: 0.7480\n",
      "Epoch 135/150\n",
      "514/514 [==============================] - 0s 106us/step - loss: 0.4853 - accuracy: 0.7529 - val_loss: 0.5089 - val_accuracy: 0.7795\n",
      "Epoch 136/150\n",
      "514/514 [==============================] - 0s 105us/step - loss: 0.4883 - accuracy: 0.7393 - val_loss: 0.5059 - val_accuracy: 0.7874\n",
      "Epoch 137/150\n",
      "514/514 [==============================] - 0s 106us/step - loss: 0.5057 - accuracy: 0.7296 - val_loss: 0.5147 - val_accuracy: 0.7559\n",
      "Epoch 138/150\n",
      "514/514 [==============================] - 0s 106us/step - loss: 0.4894 - accuracy: 0.7568 - val_loss: 0.5041 - val_accuracy: 0.7638\n",
      "Epoch 139/150\n",
      "514/514 [==============================] - 0s 107us/step - loss: 0.4919 - accuracy: 0.7471 - val_loss: 0.4975 - val_accuracy: 0.7835\n",
      "Epoch 140/150\n",
      "514/514 [==============================] - 0s 107us/step - loss: 0.4817 - accuracy: 0.7626 - val_loss: 0.5030 - val_accuracy: 0.7913\n",
      "Epoch 141/150\n",
      "514/514 [==============================] - 0s 107us/step - loss: 0.4866 - accuracy: 0.7354 - val_loss: 0.4997 - val_accuracy: 0.7795\n",
      "Epoch 142/150\n",
      "514/514 [==============================] - 0s 106us/step - loss: 0.4868 - accuracy: 0.7588 - val_loss: 0.4980 - val_accuracy: 0.7835\n",
      "Epoch 143/150\n",
      "514/514 [==============================] - 0s 113us/step - loss: 0.4949 - accuracy: 0.7296 - val_loss: 0.4933 - val_accuracy: 0.7835\n",
      "Epoch 144/150\n",
      "514/514 [==============================] - 0s 104us/step - loss: 0.4917 - accuracy: 0.7529 - val_loss: 0.5050 - val_accuracy: 0.7874\n",
      "Epoch 145/150\n",
      "514/514 [==============================] - 0s 117us/step - loss: 0.4870 - accuracy: 0.7471 - val_loss: 0.4939 - val_accuracy: 0.7913\n",
      "Epoch 146/150\n",
      "514/514 [==============================] - 0s 109us/step - loss: 0.4842 - accuracy: 0.7471 - val_loss: 0.4980 - val_accuracy: 0.7913\n",
      "Epoch 147/150\n",
      "514/514 [==============================] - 0s 116us/step - loss: 0.4793 - accuracy: 0.7451 - val_loss: 0.5019 - val_accuracy: 0.7756\n",
      "Epoch 148/150\n",
      "514/514 [==============================] - 0s 104us/step - loss: 0.4910 - accuracy: 0.7529 - val_loss: 0.5186 - val_accuracy: 0.7520\n",
      "Epoch 149/150\n",
      "514/514 [==============================] - 0s 109us/step - loss: 0.4787 - accuracy: 0.7588 - val_loss: 0.4963 - val_accuracy: 0.7756\n",
      "Epoch 150/150\n",
      "514/514 [==============================] - 0s 107us/step - loss: 0.4805 - accuracy: 0.7607 - val_loss: 0.4981 - val_accuracy: 0.7717\n",
      "768/768 [==============================] - 0s 18us/step\n",
      "\n",
      "accuracy: 76.95%\n"
     ]
    }
   ],
   "source": [
    "from keras.models import Sequential\n",
    "from keras.layers import Dense\n",
    "import numpy\n",
    "numpy.random.seed(7)\n",
    "dataset = numpy.loadtxt(\"pima.data\", delimiter=\",\")\n",
    "X = dataset[:,0:8] # 8개 독립변수\n",
    "Y = dataset[:,8] # 종속변수\n",
    "model = Sequential()\n",
    "# ? * 8 / 8*12 => ?*12\n",
    "model.add(Dense(12, input_dim=8,kernel_initializer='uniform', activation='relu'))\n",
    "# ?*12 / 12*8 -> ?*8\n",
    "model.add(Dense(8,kernel_initializer='uniform', activation='relu'))\n",
    "# ? * 8 / 8*1 -> ?*1 분류\n",
    "model.add(Dense(1,kernel_initializer='uniform', activation='sigmoid')) # 0.5\n",
    "model.compile(loss='binary_crossentropy', optimizer='adam', metrics=['accuracy'])\n",
    "# 데이터 분리입력 (train, test) :과적합 되는상황이나옴\n",
    "# train, validation, test\n",
    "history = model.fit(X,Y,validation_split=0.33 ,epochs=150, batch_size=10)\n",
    "scores = model.evaluate(X,Y)\n",
    "print(\"\\n%s: %.2f%%\"%(model.metrics_names[1], scores[1]*100))"
   ]
  },
  {
   "cell_type": "code",
   "execution_count": 6,
   "metadata": {},
   "outputs": [
    {
     "name": "stdout",
     "output_type": "stream",
     "text": [
      "dict_keys(['val_loss', 'val_accuracy', 'loss', 'accuracy'])\n"
     ]
    },
    {
     "data": {
      "image/png": "[encoded data removed]",
      "text/plain": [
       "<Figure size 432x288 with 1 Axes>"
      ]
     },
     "metadata": {
      "needs_background": "light"
     },
     "output_type": "display_data"
    }
   ],
   "source": [
    "import matplotlib.pyplot as plt\n",
    "print(history.history.keys())\n",
    "# loss, accuracy\n",
    "plt.plot(history.history['accuracy'])\n",
    "plt.plot(history.history['loss'])\n",
    "plt.show()"
   ]
  },
  {
   "cell_type": "code",
   "execution_count": 7,
   "metadata": {},
   "outputs": [
    {
     "data": {
      "image/png": "[encoded data removed]",
      "text/plain": [
       "<Figure size 432x288 with 1 Axes>"
      ]
     },
     "metadata": {
      "needs_background": "light"
     },
     "output_type": "display_data"
    }
   ],
   "source": [
    "plt.plot(history.history['val_accuracy'])\n",
    "plt.plot(history.history['val_loss'])\n",
    "plt.show()"
   ]
  },
  {
   "cell_type": "code",
   "execution_count": 8,
   "metadata": {},
   "outputs": [
    {
     "data": {
      "image/png": "[encoded data removed]",
      "text/plain": [
       "<Figure size 432x288 with 1 Axes>"
      ]
     },
     "metadata": {
      "needs_background": "light"
     },
     "output_type": "display_data"
    }
   ],
   "source": [
    "plt.plot(history.history['accuracy'])\n",
    "plt.plot(history.history['val_accuracy'])\n",
    "plt.title('accuracy')\n",
    "plt.ylabel('accuracy')\n",
    "plt.xlabel('epoch')\n",
    "plt.legend(['train','test'], loc='upper left')\n",
    "plt.show()"
   ]
  },
  {
   "cell_type": "code",
   "execution_count": 14,
   "metadata": {},
   "outputs": [
    {
     "data": {
      "image/png": "[encoded data removed]",
      "text/plain": [
       "<Figure size 432x288 with 1 Axes>"
      ]
     },
     "metadata": {
      "needs_background": "light"
     },
     "output_type": "display_data"
    }
   ],
   "source": [
    "plt.plot(history.history['loss'])\n",
    "plt.plot(history.history['val_loss'])\n",
    "plt.title('loss')\n",
    "plt.ylabel('loss')\n",
    "plt.xlabel('epoch')\n",
    "plt.legend(['train','test'], loc='upper left')\n",
    "plt.show()"
   ]
  },
  {
   "cell_type": "code",
   "execution_count": 1,
   "metadata": {},
   "outputs": [],
   "source": [
    "from sklearn.preprocessing import scale\n",
    "from sklearn.model_selection import train_test_split\n",
    "from sklearn.datasets import make_moons\n",
    "import matplotlib.pyplot as plt\n",
    "X,Y = make_moons(noise=0.2, random_state=0, n_samples=1000)\n",
    "X = scale(X)\n",
    "X_train,X_test, Y_train,Y_test = train_test_split(X,Y,test_size=.3)"
   ]
  },
  {
   "cell_type": "code",
   "execution_count": 2,
   "metadata": {},
   "outputs": [
    {
     "data": {
      "text/plain": [
       "[Text(0, 0.5, 'Y'), Text(0.5, 0, 'X'), Text(0.5, 1.0, 'binary classification')]"
      ]
     },
     "execution_count": 2,
     "metadata": {},
     "output_type": "execute_result"
    },
    {
     "data": {
      "image/png": "[encoded data removed]",
      "text/plain": [
       "<Figure size 432x288 with 1 Axes>"
      ]
     },
     "metadata": {
      "needs_background": "light"
     },
     "output_type": "display_data"
    }
   ],
   "source": [
    "fig, ax = plt.subplots()\n",
    "ax.scatter(X[Y==0,0], X[Y==0,1], label='Class 0')\n",
    "ax.scatter(X[Y==1,0], X[Y==1,1], color='r', label='Class 1')\n",
    "ax.legend()\n",
    "ax.set(xlabel='X', ylabel='Y', title='binary classification')"
   ]
  },
  {
   "cell_type": "code",
   "execution_count": 3,
   "metadata": {},
   "outputs": [
    {
     "data": {
      "text/plain": [
       "(700, 2)"
      ]
     },
     "execution_count": 3,
     "metadata": {},
     "output_type": "execute_result"
    }
   ],
   "source": [
    "X_train.shape\n"
   ]
  },
  {
   "cell_type": "code",
   "execution_count": 4,
   "metadata": {},
   "outputs": [
    {
     "name": "stderr",
     "output_type": "stream",
     "text": [
      "Using TensorFlow backend.\n",
      "C:\\Users\\ICT01_06\\Anaconda3\\envs\\tf_test22\\lib\\site-packages\\tensorflow\\python\\framework\\dtypes.py:516: FutureWarning: Passing (type, 1) or '1type' as a synonym of type is deprecated; in a future version of numpy, it will be understood as (type, (1,)) / '(1,)type'.\n",
      "  _np_qint8 = np.dtype([(\"qint8\", np.int8, 1)])\n",
      "C:\\Users\\ICT01_06\\Anaconda3\\envs\\tf_test22\\lib\\site-packages\\tensorflow\\python\\framework\\dtypes.py:517: FutureWarning: Passing (type, 1) or '1type' as a synonym of type is deprecated; in a future version of numpy, it will be understood as (type, (1,)) / '(1,)type'.\n",
      "  _np_quint8 = np.dtype([(\"quint8\", np.uint8, 1)])\n",
      "C:\\Users\\ICT01_06\\Anaconda3\\envs\\tf_test22\\lib\\site-packages\\tensorflow\\python\\framework\\dtypes.py:518: FutureWarning: Passing (type, 1) or '1type' as a synonym of type is deprecated; in a future version of numpy, it will be understood as (type, (1,)) / '(1,)type'.\n",
      "  _np_qint16 = np.dtype([(\"qint16\", np.int16, 1)])\n",
      "C:\\Users\\ICT01_06\\Anaconda3\\envs\\tf_test22\\lib\\site-packages\\tensorflow\\python\\framework\\dtypes.py:519: FutureWarning: Passing (type, 1) or '1type' as a synonym of type is deprecated; in a future version of numpy, it will be understood as (type, (1,)) / '(1,)type'.\n",
      "  _np_quint16 = np.dtype([(\"quint16\", np.uint16, 1)])\n",
      "C:\\Users\\ICT01_06\\Anaconda3\\envs\\tf_test22\\lib\\site-packages\\tensorflow\\python\\framework\\dtypes.py:520: FutureWarning: Passing (type, 1) or '1type' as a synonym of type is deprecated; in a future version of numpy, it will be understood as (type, (1,)) / '(1,)type'.\n",
      "  _np_qint32 = np.dtype([(\"qint32\", np.int32, 1)])\n",
      "C:\\Users\\ICT01_06\\Anaconda3\\envs\\tf_test22\\lib\\site-packages\\tensorflow\\python\\framework\\dtypes.py:525: FutureWarning: Passing (type, 1) or '1type' as a synonym of type is deprecated; in a future version of numpy, it will be understood as (type, (1,)) / '(1,)type'.\n",
      "  np_resource = np.dtype([(\"resource\", np.ubyte, 1)])\n"
     ]
    },
    {
     "name": "stdout",
     "output_type": "stream",
     "text": [
      "WARNING:tensorflow:From C:\\Users\\ICT01_06\\Anaconda3\\envs\\tf_test22\\lib\\site-packages\\tensorflow\\python\\ops\\nn_impl.py:180: add_dispatch_support.<locals>.wrapper (from tensorflow.python.ops.array_ops) is deprecated and will be removed in a future version.\n",
      "Instructions for updating:\n",
      "Use tf.where in 2.0, which has the same broadcast rule as np.where\n"
     ]
    },
    {
     "name": "stderr",
     "output_type": "stream",
     "text": [
      "C:\\Users\\ICT01_06\\Anaconda3\\envs\\tf_test22\\lib\\site-packages\\tensorboard\\compat\\tensorflow_stub\\dtypes.py:541: FutureWarning: Passing (type, 1) or '1type' as a synonym of type is deprecated; in a future version of numpy, it will be understood as (type, (1,)) / '(1,)type'.\n",
      "  _np_qint8 = np.dtype([(\"qint8\", np.int8, 1)])\n",
      "C:\\Users\\ICT01_06\\Anaconda3\\envs\\tf_test22\\lib\\site-packages\\tensorboard\\compat\\tensorflow_stub\\dtypes.py:542: FutureWarning: Passing (type, 1) or '1type' as a synonym of type is deprecated; in a future version of numpy, it will be understood as (type, (1,)) / '(1,)type'.\n",
      "  _np_quint8 = np.dtype([(\"quint8\", np.uint8, 1)])\n",
      "C:\\Users\\ICT01_06\\Anaconda3\\envs\\tf_test22\\lib\\site-packages\\tensorboard\\compat\\tensorflow_stub\\dtypes.py:543: FutureWarning: Passing (type, 1) or '1type' as a synonym of type is deprecated; in a future version of numpy, it will be understood as (type, (1,)) / '(1,)type'.\n",
      "  _np_qint16 = np.dtype([(\"qint16\", np.int16, 1)])\n",
      "C:\\Users\\ICT01_06\\Anaconda3\\envs\\tf_test22\\lib\\site-packages\\tensorboard\\compat\\tensorflow_stub\\dtypes.py:544: FutureWarning: Passing (type, 1) or '1type' as a synonym of type is deprecated; in a future version of numpy, it will be understood as (type, (1,)) / '(1,)type'.\n",
      "  _np_quint16 = np.dtype([(\"quint16\", np.uint16, 1)])\n",
      "C:\\Users\\ICT01_06\\Anaconda3\\envs\\tf_test22\\lib\\site-packages\\tensorboard\\compat\\tensorflow_stub\\dtypes.py:545: FutureWarning: Passing (type, 1) or '1type' as a synonym of type is deprecated; in a future version of numpy, it will be understood as (type, (1,)) / '(1,)type'.\n",
      "  _np_qint32 = np.dtype([(\"qint32\", np.int32, 1)])\n",
      "C:\\Users\\ICT01_06\\Anaconda3\\envs\\tf_test22\\lib\\site-packages\\tensorboard\\compat\\tensorflow_stub\\dtypes.py:550: FutureWarning: Passing (type, 1) or '1type' as a synonym of type is deprecated; in a future version of numpy, it will be understood as (type, (1,)) / '(1,)type'.\n",
      "  np_resource = np.dtype([(\"resource\", np.ubyte, 1)])\n"
     ]
    },
    {
     "name": "stdout",
     "output_type": "stream",
     "text": [
      "WARNING:tensorflow:From C:\\Users\\ICT01_06\\Anaconda3\\envs\\tf_test22\\lib\\site-packages\\keras\\callbacks\\tensorboard_v1.py:146: The name tf.summary.histogram is deprecated. Please use tf.compat.v1.summary.histogram instead.\n",
      "\n",
      "WARNING:tensorflow:From C:\\Users\\ICT01_06\\Anaconda3\\envs\\tf_test22\\lib\\site-packages\\keras\\callbacks\\tensorboard_v1.py:200: The name tf.summary.merge_all is deprecated. Please use tf.compat.v1.summary.merge_all instead.\n",
      "\n",
      "WARNING:tensorflow:From C:\\Users\\ICT01_06\\Anaconda3\\envs\\tf_test22\\lib\\site-packages\\keras\\callbacks\\tensorboard_v1.py:203: The name tf.summary.FileWriter is deprecated. Please use tf.compat.v1.summary.FileWriter instead.\n",
      "\n"
     ]
    }
   ],
   "source": [
    "import keras\n",
    "from keras.models import Sequential\n",
    "from keras.layers import Dense\n",
    "import numpy\n",
    "# 비선형 모델 - 신경망\n",
    "model = Sequential()\n",
    "model.add(Dense(32, input_dim=2, activation='relu')) # 차원확대\n",
    "model.add(Dense(1, activation='sigmoid'))\n",
    "model.compile(optimizer='AdaDelta',loss='binary_crossentropy', metrics=['accuracy'])\n",
    "# callback 함수는 window 자동으로 호출되는 함수 / 이미지 출력할 준비를해라\n",
    "tb_callback = keras.callbacks.TensorBoard(log_dir='./Graph/model_1/',histogram_freq=100,write_graph=True,write_images=False)\n",
    "tb_callback.set_model(model) # 콜백을 모델에 등록"
   ]
  },
  {
   "cell_type": "code",
   "execution_count": 5,
   "metadata": {},
   "outputs": [
    {
     "name": "stdout",
     "output_type": "stream",
     "text": [
      "WARNING:tensorflow:From C:\\Users\\ICT01_06\\Anaconda3\\envs\\tf_test22\\lib\\site-packages\\keras\\backend\\tensorflow_backend.py:422: The name tf.global_variables is deprecated. Please use tf.compat.v1.global_variables instead.\n",
      "\n",
      "WARNING:tensorflow:From C:\\Users\\ICT01_06\\Anaconda3\\envs\\tf_test22\\lib\\site-packages\\keras\\callbacks\\tensorboard_v1.py:343: The name tf.Summary is deprecated. Please use tf.compat.v1.Summary instead.\n",
      "\n"
     ]
    }
   ],
   "source": [
    "hist = model.fit(X_train,Y_train,batch_size=32, epochs=200,verbose=0,callbacks=[tb_callback] ,validation_data =(X_test,Y_test))"
   ]
  },
  {
   "cell_type": "code",
   "execution_count": 6,
   "metadata": {},
   "outputs": [
    {
     "name": "stdout",
     "output_type": "stream",
     "text": [
      "Test loss : 0.10781903684139252\n",
      "Test accuracy :  0.9666666388511658\n"
     ]
    }
   ],
   "source": [
    "score = model.evaluate(X_test,Y_test, verbose=0)\n",
    "print(\"Test loss :\", score[0])\n",
    "print(\"Test accuracy : \", score[1])"
   ]
  },
  {
   "cell_type": "code",
   "execution_count": 7,
   "metadata": {},
   "outputs": [
    {
     "name": "stdout",
     "output_type": "stream",
     "text": [
      "Test loss: 0.10781903684139252\n",
      "Test accuracy : 0.9666666388511658\n"
     ]
    }
   ],
   "source": [
    "score = model.evaluate(X_test, Y_test, verbose=0)\n",
    "print(\"Test loss:\",score[0])\n",
    "print(\"Test accuracy :\", score[1])"
   ]
  },
  {
   "cell_type": "code",
   "execution_count": 8,
   "metadata": {},
   "outputs": [
    {
     "name": "stdout",
     "output_type": "stream",
     "text": [
      "Model: \"sequential_1\"\n",
      "_________________________________________________________________\n",
      "Layer (type)                 Output Shape              Param #   \n",
      "=================================================================\n",
      "dense_1 (Dense)              (None, 32)                96        \n",
      "_________________________________________________________________\n",
      "dense_2 (Dense)              (None, 1)                 33        \n",
      "=================================================================\n",
      "Total params: 129\n",
      "Trainable params: 129\n",
      "Non-trainable params: 0\n",
      "_________________________________________________________________\n"
     ]
    }
   ],
   "source": [
    "keras.utils.print_summary(model)"
   ]
  },
  {
   "cell_type": "code",
   "execution_count": 9,
   "metadata": {},
   "outputs": [],
   "source": [
    "# conda install graphviz\n",
    "# conda install pydot\n",
    "import pydot\n",
    "from keras.utils.vis_utils import model_to_dot"
   ]
  },
  {
   "cell_type": "code",
   "execution_count": 10,
   "metadata": {},
   "outputs": [
    {
     "data": {
      "image/png": "[encoded data removed]",
      "text/plain": [
       "<IPython.core.display.Image object>"
      ]
     },
     "execution_count": 10,
     "metadata": {},
     "output_type": "execute_result"
    }
   ],
   "source": [
    "from keras.utils import plot_model\n",
    "plot_model(model)"
   ]
  },
  {
   "cell_type": "code",
   "execution_count": 11,
   "metadata": {},
   "outputs": [
    {
     "data": {
      "text/plain": [
       "<pydot.Dot at 0x12714f915c8>"
      ]
     },
     "execution_count": 11,
     "metadata": {},
     "output_type": "execute_result"
    }
   ],
   "source": [
    "%matplotlib inline\n",
    "from keras.utils.vis_utils import model_to_dot\n",
    "model_to_dot(model)"
   ]
  },
  {
   "cell_type": "code",
   "execution_count": 12,
   "metadata": {},
   "outputs": [
    {
     "data": {
      "image/svg+xml": [
       "<svg height=\"255pt\" viewBox=\"0.00 0.00 174.00 191.00\" width=\"232pt\" xmlns=\"http://www.w3.org/2000/svg\" xmlns:xlink=\"http://www.w3.org/1999/xlink\">\n",
       "<g class=\"graph\" id=\"graph0\" transform=\"scale(1.33333 1.33333) rotate(0) translate(4 187)\">\n",
       "<title>G</title>\n",
       "<polygon fill=\"white\" points=\"-4,4 -4,-187 170,-187 170,4 -4,4\" stroke=\"none\"/>\n",
       "<!-- 1266221510152 -->\n",
       "<g class=\"node\" id=\"node1\"><title>1266221510152</title>\n",
       "<polygon fill=\"none\" points=\"0,-146.5 0,-182.5 166,-182.5 166,-146.5 0,-146.5\" stroke=\"black\"/>\n",
       "<text font-family=\"Times New Roman,serif\" font-size=\"14.00\" text-anchor=\"middle\" x=\"83\" y=\"-160.8\">dense_1_input: InputLayer</text>\n",
       "</g>\n",
       "<!-- 1266070378632 -->\n",
       "<g class=\"node\" id=\"node2\"><title>1266070378632</title>\n",
       "<polygon fill=\"none\" points=\"31,-73.5 31,-109.5 135,-109.5 135,-73.5 31,-73.5\" stroke=\"black\"/>\n",
       "<text font-family=\"Times New Roman,serif\" font-size=\"14.00\" text-anchor=\"middle\" x=\"83\" y=\"-87.8\">dense_1: Dense</text>\n",
       "</g>\n",
       "<!-- 1266221510152&#45;&gt;1266070378632 -->\n",
       "<g class=\"edge\" id=\"edge1\"><title>1266221510152-&gt;1266070378632</title>\n",
       "<path d=\"M83,-146.313C83,-138.289 83,-128.547 83,-119.569\" fill=\"none\" stroke=\"black\"/>\n",
       "<polygon fill=\"black\" points=\"86.5001,-119.529 83,-109.529 79.5001,-119.529 86.5001,-119.529\" stroke=\"black\"/>\n",
       "</g>\n",
       "<!-- 1266221507272 -->\n",
       "<g class=\"node\" id=\"node3\"><title>1266221507272</title>\n",
       "<polygon fill=\"none\" points=\"31,-0.5 31,-36.5 135,-36.5 135,-0.5 31,-0.5\" stroke=\"black\"/>\n",
       "<text font-family=\"Times New Roman,serif\" font-size=\"14.00\" text-anchor=\"middle\" x=\"83\" y=\"-14.8\">dense_2: Dense</text>\n",
       "</g>\n",
       "<!-- 1266070378632&#45;&gt;1266221507272 -->\n",
       "<g class=\"edge\" id=\"edge2\"><title>1266070378632-&gt;1266221507272</title>\n",
       "<path d=\"M83,-73.3129C83,-65.2895 83,-55.5475 83,-46.5691\" fill=\"none\" stroke=\"black\"/>\n",
       "<polygon fill=\"black\" points=\"86.5001,-46.5288 83,-36.5288 79.5001,-46.5289 86.5001,-46.5288\" stroke=\"black\"/>\n",
       "</g>\n",
       "</g>\n",
       "</svg>"
      ],
      "text/plain": [
       "<IPython.core.display.SVG object>"
      ]
     },
     "execution_count": 12,
     "metadata": {},
     "output_type": "execute_result"
    }
   ],
   "source": [
    "from IPython.display import Image, SVG\n",
    "SVG(model_to_dot(model).create(prog='dot', format='svg'))"
   ]
  },
  {
   "cell_type": "code",
   "execution_count": 13,
   "metadata": {},
   "outputs": [
    {
     "name": "stdout",
     "output_type": "stream",
     "text": [
      "Model: \"sequential_1\"\n",
      "_________________________________________________________________\n",
      "Layer (type)                 Output Shape              Param #   \n",
      "=================================================================\n",
      "dense_1 (Dense)              (None, 32)                96        \n",
      "_________________________________________________________________\n",
      "dense_2 (Dense)              (None, 1)                 33        \n",
      "=================================================================\n",
      "Total params: 129\n",
      "Trainable params: 129\n",
      "Non-trainable params: 0\n",
      "_________________________________________________________________\n"
     ]
    }
   ],
   "source": [
    "model.summary()"
   ]
  },
  {
   "cell_type": "code",
   "execution_count": 2,
   "metadata": {},
   "outputs": [],
   "source": [
    "import keras\n",
    "# Callback class\n",
    "# Custum callback 함수 제작\n",
    "# 함수에 의해서 호출되는 객체\n",
    "class CustomHistory(keras.callbacks.Callback): # 상속\n",
    "    def init(self):\n",
    "        self.train_loss = []\n",
    "        self.val_loss = []\n",
    "        self.train_acc = []\n",
    "        self.val_acc = []\n",
    "    def on_epoch_end(self,batch, logs={}): # 오버라이딩\n",
    "        self.train_loss.append(logs.get('loss'))\n",
    "        self.val_loss.append(logs.get('val_loss'))\n",
    "        self.train_acc.append(logs.get('accuracy'))\n",
    "        self.val_acc.append(logs.get('val_accuracy'))"
   ]
  },
  {
   "cell_type": "code",
   "execution_count": 3,
   "metadata": {},
   "outputs": [
    {
     "name": "stdout",
     "output_type": "stream",
     "text": [
      "(60000, 28, 28) uint8\n",
      "(60000,) uint8\n",
      "(10000, 28, 28) uint8\n",
      "(10000,) uint8\n"
     ]
    }
   ],
   "source": [
    "from keras.datasets import mnist\n",
    "import matplotlib.pylab as plt\n",
    "from keras.models import Sequential\n",
    "from keras.layers import Dense\n",
    "(X_train0, y_train0), (X_test0, y_test0) = mnist.load_data()\n",
    "print(X_train0.shape, X_train0.dtype)\n",
    "print(y_train0.shape, y_train0.dtype)\n",
    "print(X_test0.shape, X_test0.dtype)\n",
    "print(y_test0.shape, y_test0.dtype)"
   ]
  },
  {
   "cell_type": "code",
   "execution_count": 4,
   "metadata": {},
   "outputs": [
    {
     "data": {
      "text/plain": [
       "<function matplotlib.pyplot.show(*args, **kw)>"
      ]
     },
     "execution_count": 4,
     "metadata": {},
     "output_type": "execute_result"
    },
    {
     "data": {
      "image/png": "[encoded data removed]",
      "text/plain": [
       "<Figure size 432x288 with 1 Axes>"
      ]
     },
     "metadata": {
      "needs_background": "light"
     },
     "output_type": "display_data"
    }
   ],
   "source": [
    "plt.imshow(X_train0[0])\n",
    "plt.grid(False)\n",
    "plt.show"
   ]
  },
  {
   "cell_type": "code",
   "execution_count": 5,
   "metadata": {},
   "outputs": [
    {
     "name": "stdout",
     "output_type": "stream",
     "text": [
      "(60000, 784) float32\n"
     ]
    }
   ],
   "source": [
    "X_train = X_train0.reshape(60000,784).astype('float32')/255.0\n",
    "X_test = X_test0.reshape(10000,784).astype('float32')/255.0\n",
    "print(X_train.shape, X_train.dtype) # 60000 * 784"
   ]
  },
  {
   "cell_type": "code",
   "execution_count": 6,
   "metadata": {},
   "outputs": [
    {
     "data": {
      "text/plain": [
       "array([5, 0, 4, 1, 9], dtype=uint8)"
      ]
     },
     "execution_count": 6,
     "metadata": {},
     "output_type": "execute_result"
    }
   ],
   "source": [
    "y_train0[:5]\n",
    "# one hot encoding 여부 : multi - label-> softmax\n",
    "# 경우에 수에 대한 확률값"
   ]
  },
  {
   "cell_type": "code",
   "execution_count": 7,
   "metadata": {},
   "outputs": [
    {
     "data": {
      "text/plain": [
       "array([[0., 0., 0., 0., 0., 1., 0., 0., 0., 0.],\n",
       "       [1., 0., 0., 0., 0., 0., 0., 0., 0., 0.],\n",
       "       [0., 0., 0., 0., 1., 0., 0., 0., 0., 0.],\n",
       "       [0., 1., 0., 0., 0., 0., 0., 0., 0., 0.],\n",
       "       [0., 0., 0., 0., 0., 0., 0., 0., 0., 1.]], dtype=float32)"
      ]
     },
     "execution_count": 7,
     "metadata": {},
     "output_type": "execute_result"
    }
   ],
   "source": [
    "from keras.utils import np_utils\n",
    "Y_train = np_utils.to_categorical(y_train0,10)\n",
    "Y_test = np_utils.to_categorical(y_test0,10)\n",
    "Y_train[:5]"
   ]
  },
  {
   "cell_type": "code",
   "execution_count": 8,
   "metadata": {},
   "outputs": [],
   "source": [
    "from keras.optimizers import SGD\n",
    "import numpy as np\n",
    "np.random.seed(0)\n",
    "model = Sequential()\n",
    "# 60000 * 784\n",
    "model.add(Dense(512, input_dim=784, activation='sigmoid'))\n",
    "# 60000 * 15 / 15 *10 -> 60000*10\n",
    "model.add(Dense(15))\n",
    "model.add(Dense(10, activation='sigmoid'))\n",
    "# lr : learning rate\n",
    "# stochastic gradient descent\n",
    "model.compile(optimizer=SGD(lr=0.2), loss='mse', metrics=['accuracy'])"
   ]
  },
  {
   "cell_type": "code",
   "execution_count": 9,
   "metadata": {},
   "outputs": [
    {
     "data": {
      "text/plain": [
       "[<keras.layers.core.Dense at 0x1d992808e08>,\n",
       " <keras.layers.core.Dense at 0x1d992795108>,\n",
       " <keras.layers.core.Dense at 0x1d992abd848>]"
      ]
     },
     "execution_count": 9,
     "metadata": {},
     "output_type": "execute_result"
    }
   ],
   "source": [
    "model.layers"
   ]
  },
  {
   "cell_type": "code",
   "execution_count": 10,
   "metadata": {},
   "outputs": [
    {
     "data": {
      "text/plain": [
       "<function keras.activations.sigmoid(x)>"
      ]
     },
     "execution_count": 10,
     "metadata": {},
     "output_type": "execute_result"
    }
   ],
   "source": [
    "l1 = model.layers[0]\n",
    "l2 = model.layers[1]\n",
    "# 레이어 속성으로 정보확인\n",
    "l1.name\n",
    "l1.input_shape\n",
    "l1.output_shape\n",
    "l1.activation"
   ]
  },
  {
   "cell_type": "code",
   "execution_count": 11,
   "metadata": {},
   "outputs": [
    {
     "name": "stderr",
     "output_type": "stream",
     "text": [
      "C:\\Users\\ICT01_06\\Anaconda3\\envs\\tf_test22\\lib\\site-packages\\ipykernel_launcher.py:3: UserWarning: The `nb_epoch` argument in `fit` has been renamed `epochs`.\n",
      "  This is separate from the ipykernel package so we can avoid doing imports until\n"
     ]
    },
    {
     "name": "stdout",
     "output_type": "stream",
     "text": [
      "WARNING:tensorflow:From C:\\Users\\ICT01_06\\Anaconda3\\envs\\tf_test22\\lib\\site-packages\\keras\\backend\\tensorflow_backend.py:422: The name tf.global_variables is deprecated. Please use tf.compat.v1.global_variables instead.\n",
      "\n",
      "Train on 60000 samples, validate on 10000 samples\n",
      "Epoch 1/30\n",
      " - 2s - loss: 0.0860 - accuracy: 0.3521 - val_loss: 0.0768 - val_accuracy: 0.5219\n",
      "Epoch 2/30\n",
      " - 1s - loss: 0.0679 - accuracy: 0.6147 - val_loss: 0.0583 - val_accuracy: 0.7312\n",
      "Epoch 3/30\n",
      " - 1s - loss: 0.0512 - accuracy: 0.7517 - val_loss: 0.0434 - val_accuracy: 0.7966\n",
      "Epoch 4/30\n",
      " - 2s - loss: 0.0400 - accuracy: 0.8070 - val_loss: 0.0354 - val_accuracy: 0.8313\n",
      "Epoch 5/30\n",
      " - 1s - loss: 0.0339 - accuracy: 0.8359 - val_loss: 0.0306 - val_accuracy: 0.8585\n",
      "Epoch 6/30\n",
      " - 2s - loss: 0.0302 - accuracy: 0.8540 - val_loss: 0.0276 - val_accuracy: 0.8690\n",
      "Epoch 7/30\n",
      " - 1s - loss: 0.0276 - accuracy: 0.8640 - val_loss: 0.0257 - val_accuracy: 0.8801\n",
      "Epoch 8/30\n",
      " - 1s - loss: 0.0259 - accuracy: 0.8712 - val_loss: 0.0241 - val_accuracy: 0.8829\n",
      "Epoch 9/30\n",
      " - 1s - loss: 0.0245 - accuracy: 0.8766 - val_loss: 0.0229 - val_accuracy: 0.8876\n",
      "Epoch 10/30\n",
      " - 2s - loss: 0.0235 - accuracy: 0.8802 - val_loss: 0.0220 - val_accuracy: 0.8893\n",
      "Epoch 11/30\n",
      " - 2s - loss: 0.0227 - accuracy: 0.8839 - val_loss: 0.0214 - val_accuracy: 0.8931\n",
      "Epoch 12/30\n",
      " - 2s - loss: 0.0220 - accuracy: 0.8860 - val_loss: 0.0207 - val_accuracy: 0.8941\n",
      "Epoch 13/30\n",
      " - 2s - loss: 0.0215 - accuracy: 0.8882 - val_loss: 0.0203 - val_accuracy: 0.8954\n",
      "Epoch 14/30\n",
      " - 2s - loss: 0.0210 - accuracy: 0.8907 - val_loss: 0.0198 - val_accuracy: 0.8977\n",
      "Epoch 15/30\n",
      " - 2s - loss: 0.0206 - accuracy: 0.8922 - val_loss: 0.0194 - val_accuracy: 0.8994\n",
      "Epoch 16/30\n",
      " - 2s - loss: 0.0203 - accuracy: 0.8936 - val_loss: 0.0190 - val_accuracy: 0.8999\n",
      "Epoch 17/30\n",
      " - 2s - loss: 0.0199 - accuracy: 0.8956 - val_loss: 0.0188 - val_accuracy: 0.9021\n",
      "Epoch 18/30\n",
      " - 2s - loss: 0.0196 - accuracy: 0.8960 - val_loss: 0.0186 - val_accuracy: 0.9010\n",
      "Epoch 19/30\n",
      " - 2s - loss: 0.0194 - accuracy: 0.8972 - val_loss: 0.0183 - val_accuracy: 0.9026\n",
      "Epoch 20/30\n",
      " - 2s - loss: 0.0191 - accuracy: 0.8985 - val_loss: 0.0180 - val_accuracy: 0.9053\n",
      "Epoch 21/30\n",
      " - 1s - loss: 0.0189 - accuracy: 0.8994 - val_loss: 0.0178 - val_accuracy: 0.9069\n",
      "Epoch 22/30\n",
      " - 2s - loss: 0.0187 - accuracy: 0.8999 - val_loss: 0.0177 - val_accuracy: 0.9049\n",
      "Epoch 23/30\n",
      " - 2s - loss: 0.0186 - accuracy: 0.9009 - val_loss: 0.0175 - val_accuracy: 0.9058\n",
      "Epoch 24/30\n",
      " - 2s - loss: 0.0184 - accuracy: 0.9021 - val_loss: 0.0174 - val_accuracy: 0.9054\n",
      "Epoch 25/30\n",
      " - 2s - loss: 0.0182 - accuracy: 0.9028 - val_loss: 0.0172 - val_accuracy: 0.9076\n",
      "Epoch 26/30\n",
      " - 2s - loss: 0.0181 - accuracy: 0.9035 - val_loss: 0.0170 - val_accuracy: 0.9086\n",
      "Epoch 27/30\n",
      " - 2s - loss: 0.0179 - accuracy: 0.9043 - val_loss: 0.0169 - val_accuracy: 0.9105\n",
      "Epoch 28/30\n",
      " - 2s - loss: 0.0178 - accuracy: 0.9049 - val_loss: 0.0168 - val_accuracy: 0.9100\n",
      "Epoch 29/30\n",
      " - 2s - loss: 0.0177 - accuracy: 0.9052 - val_loss: 0.0167 - val_accuracy: 0.9124\n",
      "Epoch 30/30\n",
      " - 2s - loss: 0.0176 - accuracy: 0.9062 - val_loss: 0.0166 - val_accuracy: 0.9109\n"
     ]
    }
   ],
   "source": [
    "custom_hist = CustomHistory()\n",
    "custom_hist.init()\n",
    "hist = model.fit(X_train,Y_train, nb_epoch=30, batch_size=100,validation_data=(X_test, Y_test),callbacks = [custom_hist], verbose=2)\n"
   ]
  },
  {
   "cell_type": "code",
   "execution_count": 12,
   "metadata": {},
   "outputs": [
    {
     "data": {
      "image/png": "[encoded data removed]",
      "text/plain": [
       "<Figure size 432x288 with 1 Axes>"
      ]
     },
     "metadata": {
      "needs_background": "light"
     },
     "output_type": "display_data"
    },
    {
     "data": {
      "text/plain": [
       "{'val_loss': [0.07683572441339492,\n",
       "  0.05834646128118038,\n",
       "  0.043395434748381374,\n",
       "  0.03535151083022356,\n",
       "  0.030587551863864065,\n",
       "  0.027587511288002135,\n",
       "  0.02565657061059028,\n",
       "  0.024116867673583328,\n",
       "  0.022919171140529215,\n",
       "  0.021974300118163228,\n",
       "  0.02135288940742612,\n",
       "  0.020697393685113637,\n",
       "  0.02025736521696672,\n",
       "  0.01983120997902006,\n",
       "  0.019370711194351315,\n",
       "  0.019012496029026806,\n",
       "  0.018822022730018942,\n",
       "  0.0186336818523705,\n",
       "  0.018302158701699225,\n",
       "  0.018001458179205655,\n",
       "  0.017809623969951643,\n",
       "  0.017692498430842533,\n",
       "  0.017546580815687777,\n",
       "  0.017363981892121957,\n",
       "  0.01715362637420185,\n",
       "  0.016994106291094796,\n",
       "  0.01685530650662258,\n",
       "  0.0168044478201773,\n",
       "  0.016699056945508346,\n",
       "  0.016574281057110056],\n",
       " 'val_accuracy': [0.5218999981880188,\n",
       "  0.7311999797821045,\n",
       "  0.7965999841690063,\n",
       "  0.8313000202178955,\n",
       "  0.8585000038146973,\n",
       "  0.8690000176429749,\n",
       "  0.8801000118255615,\n",
       "  0.8828999996185303,\n",
       "  0.8876000046730042,\n",
       "  0.8892999887466431,\n",
       "  0.8931000232696533,\n",
       "  0.89410001039505,\n",
       "  0.8953999876976013,\n",
       "  0.8977000117301941,\n",
       "  0.899399995803833,\n",
       "  0.8999000191688538,\n",
       "  0.9021000266075134,\n",
       "  0.9010000228881836,\n",
       "  0.9025999903678894,\n",
       "  0.9053000211715698,\n",
       "  0.9068999886512756,\n",
       "  0.9049000144004822,\n",
       "  0.9057999849319458,\n",
       "  0.9053999781608582,\n",
       "  0.9075999855995178,\n",
       "  0.9085999727249146,\n",
       "  0.9104999899864197,\n",
       "  0.9100000262260437,\n",
       "  0.9124000072479248,\n",
       "  0.9108999967575073],\n",
       " 'loss': [0.0859624641140302,\n",
       "  0.06791399252911409,\n",
       "  0.051229866370558735,\n",
       "  0.03999041950640579,\n",
       "  0.03389611677577098,\n",
       "  0.030170770734548567,\n",
       "  0.027642754934107262,\n",
       "  0.025851025267814597,\n",
       "  0.024519902520502606,\n",
       "  0.023500479711219668,\n",
       "  0.022682612038527925,\n",
       "  0.022035676377515,\n",
       "  0.02148735623806715,\n",
       "  0.021015496860879165,\n",
       "  0.020616131108254193,\n",
       "  0.020252212557631235,\n",
       "  0.019925558062580725,\n",
       "  0.01964418501437952,\n",
       "  0.019384692828170954,\n",
       "  0.01913772913782547,\n",
       "  0.018936085710301996,\n",
       "  0.018741668262518944,\n",
       "  0.018557356802436212,\n",
       "  0.018385904173677168,\n",
       "  0.0182284108394136,\n",
       "  0.01806380629229049,\n",
       "  0.017924567616234222,\n",
       "  0.017806429787694165,\n",
       "  0.017673641035022836,\n",
       "  0.017560359484050422],\n",
       " 'accuracy': [0.3521,\n",
       "  0.61468333,\n",
       "  0.75173336,\n",
       "  0.80698335,\n",
       "  0.8358833,\n",
       "  0.85396665,\n",
       "  0.86405,\n",
       "  0.87118334,\n",
       "  0.87655,\n",
       "  0.88015,\n",
       "  0.8839333,\n",
       "  0.88595,\n",
       "  0.8882333,\n",
       "  0.89073336,\n",
       "  0.8921833,\n",
       "  0.89365,\n",
       "  0.89558333,\n",
       "  0.89605,\n",
       "  0.89725,\n",
       "  0.89848334,\n",
       "  0.8993833,\n",
       "  0.89985,\n",
       "  0.9008833,\n",
       "  0.90208334,\n",
       "  0.9028,\n",
       "  0.9035,\n",
       "  0.90431666,\n",
       "  0.90491664,\n",
       "  0.9051833,\n",
       "  0.9061667]}"
      ]
     },
     "execution_count": 12,
     "metadata": {},
     "output_type": "execute_result"
    }
   ],
   "source": [
    "plt.plot(hist.history['loss'])\n",
    "plt.show()\n",
    "hist.history"
   ]
  },
  {
   "cell_type": "code",
   "execution_count": 13,
   "metadata": {},
   "outputs": [
    {
     "data": {
      "image/png": "[encoded data removed]",
      "text/plain": [
       "<Figure size 432x288 with 1 Axes>"
      ]
     },
     "metadata": {
      "needs_background": "light"
     },
     "output_type": "display_data"
    },
    {
     "name": "stdout",
     "output_type": "stream",
     "text": [
      "<keras.engine.sequential.Sequential object at 0x000001D99282AD08>\n",
      "{'batch_size': 100, 'epochs': 30, 'steps': None, 'samples': 60000, 'verbose': 2, 'do_validation': True, 'metrics': ['loss', 'accuracy', 'val_loss', 'val_accuracy']}\n",
      "[0.3521, 0.61468333, 0.75173336, 0.80698335, 0.8358833, 0.85396665, 0.86405, 0.87118334, 0.87655, 0.88015, 0.8839333, 0.88595, 0.8882333, 0.89073336, 0.8921833, 0.89365, 0.89558333, 0.89605, 0.89725, 0.89848334, 0.8993833, 0.89985, 0.9008833, 0.90208334, 0.9028, 0.9035, 0.90431666, 0.90491664, 0.9051833, 0.9061667]\n",
      "0.9108999967575073\n"
     ]
    },
    {
     "data": {
      "image/png": "[encoded data removed]",
      "text/plain": [
       "<Figure size 432x288 with 1 Axes>"
      ]
     },
     "metadata": {
      "needs_background": "light"
     },
     "output_type": "display_data"
    }
   ],
   "source": [
    "plt.plot(hist.history['accuracy'], 'b-', label='Training')\n",
    "plt.plot(hist.history['val_accuracy'], 'r:', label='test')\n",
    "plt.legend()\n",
    "plt.show()\n",
    "\n",
    "print(hist.model)\n",
    "print(hist.params)\n",
    "print(hist.history['accuracy'])\n",
    "print(hist.history['val_accuracy'][29])\n",
    "plt.show()\n",
    "plt.plot(custom_hist.train_loss, 'y', label='train loss')\n",
    "plt.show()"
   ]
  },
  {
   "cell_type": "code",
   "execution_count": 37,
   "metadata": {},
   "outputs": [
    {
     "ename": "ValueError",
     "evalue": "Error when checking input: expected dense_4_input to have shape (13,) but got array with shape (784,)",
     "output_type": "error",
     "traceback": [
      "\u001b[1;31m---------------------------------------------------------------------------\u001b[0m",
      "\u001b[1;31mValueError\u001b[0m                                Traceback (most recent call last)",
      "\u001b[1;32m<ipython-input-37-79cbc6af9350>\u001b[0m in \u001b[0;36m<module>\u001b[1;34m\u001b[0m\n\u001b[1;32m----> 1\u001b[1;33m \u001b[0mmodel\u001b[0m\u001b[1;33m.\u001b[0m\u001b[0mpredict\u001b[0m\u001b[1;33m(\u001b[0m\u001b[0mX_test\u001b[0m\u001b[1;33m[\u001b[0m\u001b[1;33m:\u001b[0m\u001b[1;36m1\u001b[0m\u001b[1;33m,\u001b[0m\u001b[1;33m:\u001b[0m\u001b[1;33m]\u001b[0m\u001b[1;33m)\u001b[0m\u001b[1;33m\u001b[0m\u001b[1;33m\u001b[0m\u001b[0m\n\u001b[0m",
      "\u001b[1;32m~\\Anaconda3\\envs\\tf_test22\\lib\\site-packages\\keras\\engine\\training.py\u001b[0m in \u001b[0;36mpredict\u001b[1;34m(self, x, batch_size, verbose, steps, callbacks, max_queue_size, workers, use_multiprocessing)\u001b[0m\n\u001b[0;32m   1439\u001b[0m \u001b[1;33m\u001b[0m\u001b[0m\n\u001b[0;32m   1440\u001b[0m         \u001b[1;31m# Case 2: Symbolic tensors or Numpy array-like.\u001b[0m\u001b[1;33m\u001b[0m\u001b[1;33m\u001b[0m\u001b[1;33m\u001b[0m\u001b[0m\n\u001b[1;32m-> 1441\u001b[1;33m         \u001b[0mx\u001b[0m\u001b[1;33m,\u001b[0m \u001b[0m_\u001b[0m\u001b[1;33m,\u001b[0m \u001b[0m_\u001b[0m \u001b[1;33m=\u001b[0m \u001b[0mself\u001b[0m\u001b[1;33m.\u001b[0m\u001b[0m_standardize_user_data\u001b[0m\u001b[1;33m(\u001b[0m\u001b[0mx\u001b[0m\u001b[1;33m)\u001b[0m\u001b[1;33m\u001b[0m\u001b[1;33m\u001b[0m\u001b[0m\n\u001b[0m\u001b[0;32m   1442\u001b[0m         \u001b[1;32mif\u001b[0m \u001b[0mself\u001b[0m\u001b[1;33m.\u001b[0m\u001b[0mstateful\u001b[0m\u001b[1;33m:\u001b[0m\u001b[1;33m\u001b[0m\u001b[1;33m\u001b[0m\u001b[0m\n\u001b[0;32m   1443\u001b[0m             \u001b[1;32mif\u001b[0m \u001b[0mx\u001b[0m\u001b[1;33m[\u001b[0m\u001b[1;36m0\u001b[0m\u001b[1;33m]\u001b[0m\u001b[1;33m.\u001b[0m\u001b[0mshape\u001b[0m\u001b[1;33m[\u001b[0m\u001b[1;36m0\u001b[0m\u001b[1;33m]\u001b[0m \u001b[1;33m>\u001b[0m \u001b[0mbatch_size\u001b[0m \u001b[1;32mand\u001b[0m \u001b[0mx\u001b[0m\u001b[1;33m[\u001b[0m\u001b[1;36m0\u001b[0m\u001b[1;33m]\u001b[0m\u001b[1;33m.\u001b[0m\u001b[0mshape\u001b[0m\u001b[1;33m[\u001b[0m\u001b[1;36m0\u001b[0m\u001b[1;33m]\u001b[0m \u001b[1;33m%\u001b[0m \u001b[0mbatch_size\u001b[0m \u001b[1;33m!=\u001b[0m \u001b[1;36m0\u001b[0m\u001b[1;33m:\u001b[0m\u001b[1;33m\u001b[0m\u001b[1;33m\u001b[0m\u001b[0m\n",
      "\u001b[1;32m~\\Anaconda3\\envs\\tf_test22\\lib\\site-packages\\keras\\engine\\training.py\u001b[0m in \u001b[0;36m_standardize_user_data\u001b[1;34m(self, x, y, sample_weight, class_weight, check_array_lengths, batch_size)\u001b[0m\n\u001b[0;32m    577\u001b[0m             \u001b[0mfeed_input_shapes\u001b[0m\u001b[1;33m,\u001b[0m\u001b[1;33m\u001b[0m\u001b[1;33m\u001b[0m\u001b[0m\n\u001b[0;32m    578\u001b[0m             \u001b[0mcheck_batch_axis\u001b[0m\u001b[1;33m=\u001b[0m\u001b[1;32mFalse\u001b[0m\u001b[1;33m,\u001b[0m  \u001b[1;31m# Don't enforce the batch size.\u001b[0m\u001b[1;33m\u001b[0m\u001b[1;33m\u001b[0m\u001b[0m\n\u001b[1;32m--> 579\u001b[1;33m             exception_prefix='input')\n\u001b[0m\u001b[0;32m    580\u001b[0m \u001b[1;33m\u001b[0m\u001b[0m\n\u001b[0;32m    581\u001b[0m         \u001b[1;32mif\u001b[0m \u001b[0my\u001b[0m \u001b[1;32mis\u001b[0m \u001b[1;32mnot\u001b[0m \u001b[1;32mNone\u001b[0m\u001b[1;33m:\u001b[0m\u001b[1;33m\u001b[0m\u001b[1;33m\u001b[0m\u001b[0m\n",
      "\u001b[1;32m~\\Anaconda3\\envs\\tf_test22\\lib\\site-packages\\keras\\engine\\training_utils.py\u001b[0m in \u001b[0;36mstandardize_input_data\u001b[1;34m(data, names, shapes, check_batch_axis, exception_prefix)\u001b[0m\n\u001b[0;32m    143\u001b[0m                             \u001b[1;34m': expected '\u001b[0m \u001b[1;33m+\u001b[0m \u001b[0mnames\u001b[0m\u001b[1;33m[\u001b[0m\u001b[0mi\u001b[0m\u001b[1;33m]\u001b[0m \u001b[1;33m+\u001b[0m \u001b[1;34m' to have shape '\u001b[0m \u001b[1;33m+\u001b[0m\u001b[1;33m\u001b[0m\u001b[1;33m\u001b[0m\u001b[0m\n\u001b[0;32m    144\u001b[0m                             \u001b[0mstr\u001b[0m\u001b[1;33m(\u001b[0m\u001b[0mshape\u001b[0m\u001b[1;33m)\u001b[0m \u001b[1;33m+\u001b[0m \u001b[1;34m' but got array with shape '\u001b[0m \u001b[1;33m+\u001b[0m\u001b[1;33m\u001b[0m\u001b[1;33m\u001b[0m\u001b[0m\n\u001b[1;32m--> 145\u001b[1;33m                             str(data_shape))\n\u001b[0m\u001b[0;32m    146\u001b[0m     \u001b[1;32mreturn\u001b[0m \u001b[0mdata\u001b[0m\u001b[1;33m\u001b[0m\u001b[1;33m\u001b[0m\u001b[0m\n\u001b[0;32m    147\u001b[0m \u001b[1;33m\u001b[0m\u001b[0m\n",
      "\u001b[1;31mValueError\u001b[0m: Error when checking input: expected dense_4_input to have shape (13,) but got array with shape (784,)"
     ]
    }
   ],
   "source": [
    "model.predict(X_test[:1,:])\n"
   ]
  },
  {
   "cell_type": "code",
   "execution_count": 38,
   "metadata": {},
   "outputs": [
    {
     "ename": "ValueError",
     "evalue": "Error when checking input: expected dense_4_input to have shape (13,) but got array with shape (784,)",
     "output_type": "error",
     "traceback": [
      "\u001b[1;31m---------------------------------------------------------------------------\u001b[0m",
      "\u001b[1;31mValueError\u001b[0m                                Traceback (most recent call last)",
      "\u001b[1;32m<ipython-input-38-41e618394a52>\u001b[0m in \u001b[0;36m<module>\u001b[1;34m\u001b[0m\n\u001b[0;32m      1\u001b[0m \u001b[1;31m# 문제 X_test의 이미지 한장의 label을 예측해보시오\u001b[0m\u001b[1;33m\u001b[0m\u001b[1;33m\u001b[0m\u001b[1;33m\u001b[0m\u001b[0m\n\u001b[1;32m----> 2\u001b[1;33m \u001b[0mmodel\u001b[0m\u001b[1;33m.\u001b[0m\u001b[0mpredict\u001b[0m\u001b[1;33m(\u001b[0m\u001b[0mX_test\u001b[0m\u001b[1;33m[\u001b[0m\u001b[1;33m:\u001b[0m\u001b[1;36m1\u001b[0m\u001b[1;33m,\u001b[0m\u001b[1;33m:\u001b[0m\u001b[1;33m]\u001b[0m\u001b[1;33m)\u001b[0m\u001b[1;33m\u001b[0m\u001b[1;33m\u001b[0m\u001b[0m\n\u001b[0m",
      "\u001b[1;32m~\\Anaconda3\\envs\\tf_test22\\lib\\site-packages\\keras\\engine\\training.py\u001b[0m in \u001b[0;36mpredict\u001b[1;34m(self, x, batch_size, verbose, steps, callbacks, max_queue_size, workers, use_multiprocessing)\u001b[0m\n\u001b[0;32m   1439\u001b[0m \u001b[1;33m\u001b[0m\u001b[0m\n\u001b[0;32m   1440\u001b[0m         \u001b[1;31m# Case 2: Symbolic tensors or Numpy array-like.\u001b[0m\u001b[1;33m\u001b[0m\u001b[1;33m\u001b[0m\u001b[1;33m\u001b[0m\u001b[0m\n\u001b[1;32m-> 1441\u001b[1;33m         \u001b[0mx\u001b[0m\u001b[1;33m,\u001b[0m \u001b[0m_\u001b[0m\u001b[1;33m,\u001b[0m \u001b[0m_\u001b[0m \u001b[1;33m=\u001b[0m \u001b[0mself\u001b[0m\u001b[1;33m.\u001b[0m\u001b[0m_standardize_user_data\u001b[0m\u001b[1;33m(\u001b[0m\u001b[0mx\u001b[0m\u001b[1;33m)\u001b[0m\u001b[1;33m\u001b[0m\u001b[1;33m\u001b[0m\u001b[0m\n\u001b[0m\u001b[0;32m   1442\u001b[0m         \u001b[1;32mif\u001b[0m \u001b[0mself\u001b[0m\u001b[1;33m.\u001b[0m\u001b[0mstateful\u001b[0m\u001b[1;33m:\u001b[0m\u001b[1;33m\u001b[0m\u001b[1;33m\u001b[0m\u001b[0m\n\u001b[0;32m   1443\u001b[0m             \u001b[1;32mif\u001b[0m \u001b[0mx\u001b[0m\u001b[1;33m[\u001b[0m\u001b[1;36m0\u001b[0m\u001b[1;33m]\u001b[0m\u001b[1;33m.\u001b[0m\u001b[0mshape\u001b[0m\u001b[1;33m[\u001b[0m\u001b[1;36m0\u001b[0m\u001b[1;33m]\u001b[0m \u001b[1;33m>\u001b[0m \u001b[0mbatch_size\u001b[0m \u001b[1;32mand\u001b[0m \u001b[0mx\u001b[0m\u001b[1;33m[\u001b[0m\u001b[1;36m0\u001b[0m\u001b[1;33m]\u001b[0m\u001b[1;33m.\u001b[0m\u001b[0mshape\u001b[0m\u001b[1;33m[\u001b[0m\u001b[1;36m0\u001b[0m\u001b[1;33m]\u001b[0m \u001b[1;33m%\u001b[0m \u001b[0mbatch_size\u001b[0m \u001b[1;33m!=\u001b[0m \u001b[1;36m0\u001b[0m\u001b[1;33m:\u001b[0m\u001b[1;33m\u001b[0m\u001b[1;33m\u001b[0m\u001b[0m\n",
      "\u001b[1;32m~\\Anaconda3\\envs\\tf_test22\\lib\\site-packages\\keras\\engine\\training.py\u001b[0m in \u001b[0;36m_standardize_user_data\u001b[1;34m(self, x, y, sample_weight, class_weight, check_array_lengths, batch_size)\u001b[0m\n\u001b[0;32m    577\u001b[0m             \u001b[0mfeed_input_shapes\u001b[0m\u001b[1;33m,\u001b[0m\u001b[1;33m\u001b[0m\u001b[1;33m\u001b[0m\u001b[0m\n\u001b[0;32m    578\u001b[0m             \u001b[0mcheck_batch_axis\u001b[0m\u001b[1;33m=\u001b[0m\u001b[1;32mFalse\u001b[0m\u001b[1;33m,\u001b[0m  \u001b[1;31m# Don't enforce the batch size.\u001b[0m\u001b[1;33m\u001b[0m\u001b[1;33m\u001b[0m\u001b[0m\n\u001b[1;32m--> 579\u001b[1;33m             exception_prefix='input')\n\u001b[0m\u001b[0;32m    580\u001b[0m \u001b[1;33m\u001b[0m\u001b[0m\n\u001b[0;32m    581\u001b[0m         \u001b[1;32mif\u001b[0m \u001b[0my\u001b[0m \u001b[1;32mis\u001b[0m \u001b[1;32mnot\u001b[0m \u001b[1;32mNone\u001b[0m\u001b[1;33m:\u001b[0m\u001b[1;33m\u001b[0m\u001b[1;33m\u001b[0m\u001b[0m\n",
      "\u001b[1;32m~\\Anaconda3\\envs\\tf_test22\\lib\\site-packages\\keras\\engine\\training_utils.py\u001b[0m in \u001b[0;36mstandardize_input_data\u001b[1;34m(data, names, shapes, check_batch_axis, exception_prefix)\u001b[0m\n\u001b[0;32m    143\u001b[0m                             \u001b[1;34m': expected '\u001b[0m \u001b[1;33m+\u001b[0m \u001b[0mnames\u001b[0m\u001b[1;33m[\u001b[0m\u001b[0mi\u001b[0m\u001b[1;33m]\u001b[0m \u001b[1;33m+\u001b[0m \u001b[1;34m' to have shape '\u001b[0m \u001b[1;33m+\u001b[0m\u001b[1;33m\u001b[0m\u001b[1;33m\u001b[0m\u001b[0m\n\u001b[0;32m    144\u001b[0m                             \u001b[0mstr\u001b[0m\u001b[1;33m(\u001b[0m\u001b[0mshape\u001b[0m\u001b[1;33m)\u001b[0m \u001b[1;33m+\u001b[0m \u001b[1;34m' but got array with shape '\u001b[0m \u001b[1;33m+\u001b[0m\u001b[1;33m\u001b[0m\u001b[1;33m\u001b[0m\u001b[0m\n\u001b[1;32m--> 145\u001b[1;33m                             str(data_shape))\n\u001b[0m\u001b[0;32m    146\u001b[0m     \u001b[1;32mreturn\u001b[0m \u001b[0mdata\u001b[0m\u001b[1;33m\u001b[0m\u001b[1;33m\u001b[0m\u001b[0m\n\u001b[0;32m    147\u001b[0m \u001b[1;33m\u001b[0m\u001b[0m\n",
      "\u001b[1;31mValueError\u001b[0m: Error when checking input: expected dense_4_input to have shape (13,) but got array with shape (784,)"
     ]
    }
   ],
   "source": [
    "# 문제 X_test의 이미지 한장의 label을 예측해보시오\n",
    "model.predict(X_test[:1,:])"
   ]
  },
  {
   "cell_type": "code",
   "execution_count": 15,
   "metadata": {},
   "outputs": [
    {
     "data": {
      "text/plain": [
       "array([7], dtype=int64)"
      ]
     },
     "execution_count": 15,
     "metadata": {},
     "output_type": "execute_result"
    }
   ],
   "source": [
    "model.predict_classes(X_test[:1,:], verbose=0)"
   ]
  },
  {
   "cell_type": "code",
   "execution_count": 18,
   "metadata": {},
   "outputs": [
    {
     "name": "stdout",
     "output_type": "stream",
     "text": [
      "Downloading data from https://s3.amazonaws.com/keras-datasets/boston_housing.npz\n",
      "57344/57026 [==============================] - 0s 7us/step\n"
     ]
    }
   ],
   "source": [
    "# 보스턴집값예측\n",
    "from keras.datasets import boston_housing\n",
    "(x_train, y_train), (x_test, y_test) = boston_housing.load_data()"
   ]
  },
  {
   "cell_type": "code",
   "execution_count": 26,
   "metadata": {},
   "outputs": [],
   "source": [
    "num_faetures=13\n",
    "model = Sequential()\n",
    "model.add(Dense(1, input_dim=num_faetures, activation='linear'))"
   ]
  },
  {
   "cell_type": "code",
   "execution_count": 28,
   "metadata": {},
   "outputs": [
    {
     "name": "stdout",
     "output_type": "stream",
     "text": [
      "Model: \"sequential_2\"\n",
      "_________________________________________________________________\n",
      "Layer (type)                 Output Shape              Param #   \n",
      "=================================================================\n",
      "dense_4 (Dense)              (None, 1)                 14        \n",
      "=================================================================\n",
      "Total params: 14\n",
      "Trainable params: 14\n",
      "Non-trainable params: 0\n",
      "_________________________________________________________________\n",
      "Epoch 1/10\n",
      "404/404 [==============================] - 1s 2ms/step - loss: 28031.2607 - mae: 127.1642\n",
      "Epoch 2/10\n",
      "404/404 [==============================] - 1s 2ms/step - loss: 3554.3974 - mae: 46.6836\n",
      "Epoch 3/10\n",
      "404/404 [==============================] - 1s 2ms/step - loss: 1257.6947 - mae: 27.5113\n",
      "Epoch 4/10\n",
      "404/404 [==============================] - 1s 2ms/step - loss: 298.5176 - mae: 12.8495\n",
      "Epoch 5/10\n",
      "404/404 [==============================] - 1s 2ms/step - loss: 140.4095 - mae: 8.7667\n",
      "Epoch 6/10\n",
      "404/404 [==============================] - 1s 2ms/step - loss: 126.6947 - mae: 8.0275\n",
      "Epoch 7/10\n",
      "404/404 [==============================] - 1s 2ms/step - loss: 113.5021 - mae: 7.5869\n",
      "Epoch 8/10\n",
      "404/404 [==============================] - 1s 2ms/step - loss: 104.8122 - mae: 7.3391\n",
      "Epoch 9/10\n",
      "404/404 [==============================] - 1s 2ms/step - loss: 98.4709 - mae: 7.0894\n",
      "Epoch 10/10\n",
      "404/404 [==============================] - 1s 2ms/step - loss: 91.2522 - mae: 6.6835\n"
     ]
    },
    {
     "data": {
      "text/plain": [
       "<keras.callbacks.callbacks.History at 0x1d993d3df88>"
      ]
     },
     "execution_count": 28,
     "metadata": {},
     "output_type": "execute_result"
    }
   ],
   "source": [
    "model.summary()\n",
    "model.compile(optimizer='rmsprop', loss='mse', metrics=['mae'])\n",
    "model.fit(x_train, y_train, batch_size=1, epochs=10, verbose=1)"
   ]
  },
  {
   "cell_type": "code",
   "execution_count": 29,
   "metadata": {},
   "outputs": [
    {
     "data": {
      "text/plain": [
       "(80.52659606933594, 8.973661241061864, 6.593564510345459)"
      ]
     },
     "execution_count": 29,
     "metadata": {},
     "output_type": "execute_result"
    }
   ],
   "source": [
    "# mae\n",
    "mse, mae = model.evaluate(x_test,y_test,verbose=False)\n",
    "rmse= np.sqrt(mse)\n",
    "mse,rmse,mae"
   ]
  },
  {
   "cell_type": "code",
   "execution_count": 31,
   "metadata": {},
   "outputs": [
    {
     "data": {
      "text/plain": [
       "array([ 7.2, 18.8, 19. ])"
      ]
     },
     "execution_count": 31,
     "metadata": {},
     "output_type": "execute_result"
    }
   ],
   "source": []
  },
  {
   "cell_type": "code",
   "execution_count": null,
   "metadata": {},
   "outputs": [],
   "source": [
    "# 문제 : x_test의 3집을 예상하시오.\n",
    "model.evaluate(x_test,y_test,verbose=False)"
   ]
  },
  {
   "cell_type": "code",
   "execution_count": 58,
   "metadata": {},
   "outputs": [
    {
     "name": "stdout",
     "output_type": "stream",
     "text": [
      "[[ 8.539891]\n",
      " [19.76989 ]\n",
      " [27.80211 ]]\n",
      "실제집값 : [ 7.2 18.8 19. ]\n"
     ]
    }
   ],
   "source": [
    "pred = model.predict(x_test[:3,:])\n",
    "real = y_test[:3]\n",
    "print(model.predict(x_test[:3,:]))\n",
    "print('실제집값 :', y_test[:3])"
   ]
  },
  {
   "cell_type": "code",
   "execution_count": 59,
   "metadata": {},
   "outputs": [],
   "source": [
    "pred =pred.reshape(3)"
   ]
  },
  {
   "cell_type": "code",
   "execution_count": 60,
   "metadata": {},
   "outputs": [
    {
     "data": {
      "text/plain": [
       "array([[1.       , 0.9158244],\n",
       "       [0.9158244, 1.       ]])"
      ]
     },
     "execution_count": 60,
     "metadata": {},
     "output_type": "execute_result"
    }
   ],
   "source": [
    "import numpy as np\n",
    "np.corrcoef(pred,real)"
   ]
  },
  {
   "cell_type": "code",
   "execution_count": null,
   "metadata": {},
   "outputs": [],
   "source": []
  }
 ],
 "metadata": {
  "kernelspec": {
   "display_name": "Python 3",
   "language": "python",
   "name": "python3"
  },
  "language_info": {
   "codemirror_mode": {
    "name": "ipython",
    "version": 3
   },
   "file_extension": ".py",
   "mimetype": "text/x-python",
   "name": "python",
   "nbconvert_exporter": "python",
   "pygments_lexer": "ipython3",
   "version": "3.7.4"
  }
 },
 "nbformat": 4,
 "nbformat_minor": 4
}
