{
 "cells": [
  {
   "cell_type": "code",
   "execution_count": 1,
   "metadata": {},
   "outputs": [
    {
     "name": "stderr",
     "output_type": "stream",
     "text": [
      "Using TensorFlow backend.\n"
     ]
    },
    {
     "name": "stdout",
     "output_type": "stream",
     "text": [
      "WARNING:tensorflow:From C:\\Users\\ICT01_15\\Anaconda3\\lib\\site-packages\\keras\\backend\\tensorflow_backend.py:422: The name tf.global_variables is deprecated. Please use tf.compat.v1.global_variables instead.\n",
      "\n",
      "입력데이터=[0.29466096 0.30317302],예측결과=[0.17289366]\n",
      "입력데이터=[0.39445118 0.79390858],예측결과=[0.74440247]\n",
      "입력데이터=[0.02884127 0.6208843 ],예측결과=[0.40264118]\n"
     ]
    }
   ],
   "source": [
    "#회귀\n",
    "from keras.models import Sequential #models 서브패키지\n",
    "from keras.layers import Dense #layers 모델구성\n",
    "from sklearn.datasets import make_regression\n",
    "\n",
    "#MinMaxScaler 신경망-정규화\n",
    "from sklearn.preprocessing import MinMaxScaler\n",
    "\n",
    "#X=100x2 y=100\n",
    "X,y=make_regression(n_samples=100,n_features=2,\n",
    "                   noise=0.1,random_state=1)\n",
    "scalarX,scalarY=MinMaxScaler(),MinMaxScaler() #값의 범위가 (데이터사이즈가) 다르므로 \n",
    "scalarX.fit(X)\n",
    "scalarY.fit(y.reshape(100,1)) #y=100 열, 행으로 만들어 주기 위해 \n",
    "X=scalarX.transform(X)\n",
    "y=scalarY.transform(y.reshape(100,1))\n",
    "\n",
    "#케라스모델시작\n",
    "model=Sequential()\n",
    "#layer depth\n",
    "#100x2 출력차수지정, 2x4 의 가중치(의 차수를 자동으로 맞춰줌), 결과는 100x4\n",
    "model.add(Dense(4,input_dim=2,activation='relu'))  #ffnn 만들때\n",
    "#100x4(출력이 입력으로) 4x4 100x4\n",
    "model.add(Dense(4,activation='relu'))\n",
    "#100x4 4x1 100x1 예측\n",
    "model.add(Dense(1,activation='linear'))\n",
    "#backend=tensorflow \n",
    "#mse, cross entropy kl_divergence\n",
    "model.compile(loss='mse',optimizer='adam') #tensorflow 로 모델을 변환\n",
    "model.fit(X,y,epochs=1000,verbose=0) #2개의 for문 대신 \n",
    "\n",
    "Xnew,a=make_regression(n_samples=3,n_features=2,noise=0.1,random_state=1) #a를 쓴 이유:make_regression x,y 값이 필요하니까\n",
    "Xnew=scalarX.transform(Xnew)\n",
    "ynew=model.predict(Xnew)\n",
    "\n",
    "for i in range(len(Xnew)):\n",
    "    print('입력데이터=%s,예측결과=%s' %(Xnew[i],ynew[i]))\n",
    "    \n",
    "\n"
   ]
  },
  {
   "cell_type": "code",
   "execution_count": 2,
   "metadata": {},
   "outputs": [
    {
     "name": "stdout",
     "output_type": "stream",
     "text": [
      "(768, 8)\n",
      "(768,)\n",
      "WARNING:tensorflow:From C:\\Users\\ICT01_15\\Anaconda3\\lib\\site-packages\\tensorflow\\python\\ops\\nn_impl.py:180: add_dispatch_support.<locals>.wrapper (from tensorflow.python.ops.array_ops) is deprecated and will be removed in a future version.\n",
      "Instructions for updating:\n",
      "Use tf.where in 2.0, which has the same broadcast rule as np.where\n",
      "Train on 514 samples, validate on 254 samples\n",
      "Epoch 1/150\n",
      "514/514 [==============================] - 0s 646us/step - loss: 0.6906 - accuracy: 0.6576 - val_loss: 0.6556 - val_accuracy: 0.6575\n",
      "Epoch 2/150\n",
      "514/514 [==============================] - 0s 129us/step - loss: 0.6548 - accuracy: 0.6245 - val_loss: 0.6272 - val_accuracy: 0.6614\n",
      "Epoch 3/150\n",
      "514/514 [==============================] - 0s 110us/step - loss: 0.6417 - accuracy: 0.6479 - val_loss: 0.6330 - val_accuracy: 0.6614\n",
      "Epoch 4/150\n",
      "514/514 [==============================] - 0s 111us/step - loss: 0.6362 - accuracy: 0.6440 - val_loss: 0.6299 - val_accuracy: 0.6693\n",
      "Epoch 5/150\n",
      "514/514 [==============================] - 0s 111us/step - loss: 0.6282 - accuracy: 0.6615 - val_loss: 0.6196 - val_accuracy: 0.6732\n",
      "Epoch 6/150\n",
      "514/514 [==============================] - 0s 111us/step - loss: 0.6217 - accuracy: 0.6556 - val_loss: 0.6147 - val_accuracy: 0.6732\n",
      "Epoch 7/150\n",
      "514/514 [==============================] - 0s 108us/step - loss: 0.6123 - accuracy: 0.6770 - val_loss: 0.6135 - val_accuracy: 0.6811\n",
      "Epoch 8/150\n",
      "514/514 [==============================] - 0s 104us/step - loss: 0.6146 - accuracy: 0.6751 - val_loss: 0.6070 - val_accuracy: 0.6890\n",
      "Epoch 9/150\n",
      "514/514 [==============================] - 0s 116us/step - loss: 0.6019 - accuracy: 0.6829 - val_loss: 0.6026 - val_accuracy: 0.7126\n",
      "Epoch 10/150\n",
      "514/514 [==============================] - 0s 109us/step - loss: 0.6076 - accuracy: 0.6848 - val_loss: 0.5965 - val_accuracy: 0.6890\n",
      "Epoch 11/150\n",
      "514/514 [==============================] - 0s 108us/step - loss: 0.5954 - accuracy: 0.6907 - val_loss: 0.6180 - val_accuracy: 0.6772\n",
      "Epoch 12/150\n",
      "514/514 [==============================] - 0s 107us/step - loss: 0.6000 - accuracy: 0.6790 - val_loss: 0.5929 - val_accuracy: 0.6850\n",
      "Epoch 13/150\n",
      "514/514 [==============================] - 0s 113us/step - loss: 0.5965 - accuracy: 0.6868 - val_loss: 0.5946 - val_accuracy: 0.6811\n",
      "Epoch 14/150\n",
      "514/514 [==============================] - 0s 109us/step - loss: 0.5888 - accuracy: 0.6907 - val_loss: 0.5947 - val_accuracy: 0.6850\n",
      "Epoch 15/150\n",
      "514/514 [==============================] - 0s 108us/step - loss: 0.5918 - accuracy: 0.6829 - val_loss: 0.5923 - val_accuracy: 0.6850\n",
      "Epoch 16/150\n",
      "514/514 [==============================] - 0s 107us/step - loss: 0.5910 - accuracy: 0.6887 - val_loss: 0.5858 - val_accuracy: 0.7087\n",
      "Epoch 17/150\n",
      "514/514 [==============================] - 0s 102us/step - loss: 0.5850 - accuracy: 0.6887 - val_loss: 0.5948 - val_accuracy: 0.6772\n",
      "Epoch 18/150\n",
      "514/514 [==============================] - 0s 116us/step - loss: 0.5860 - accuracy: 0.6907 - val_loss: 0.6055 - val_accuracy: 0.6811\n",
      "Epoch 19/150\n",
      "514/514 [==============================] - 0s 106us/step - loss: 0.5918 - accuracy: 0.6965 - val_loss: 0.5830 - val_accuracy: 0.7008\n",
      "Epoch 20/150\n",
      "514/514 [==============================] - 0s 105us/step - loss: 0.5844 - accuracy: 0.6946 - val_loss: 0.5768 - val_accuracy: 0.7087\n",
      "Epoch 21/150\n",
      "514/514 [==============================] - 0s 106us/step - loss: 0.5829 - accuracy: 0.6965 - val_loss: 0.5855 - val_accuracy: 0.7047\n",
      "Epoch 22/150\n",
      "514/514 [==============================] - 0s 109us/step - loss: 0.5780 - accuracy: 0.6907 - val_loss: 0.5768 - val_accuracy: 0.7047\n",
      "Epoch 23/150\n",
      "514/514 [==============================] - 0s 106us/step - loss: 0.5820 - accuracy: 0.6946 - val_loss: 0.5702 - val_accuracy: 0.7087\n",
      "Epoch 24/150\n",
      "514/514 [==============================] - 0s 107us/step - loss: 0.5637 - accuracy: 0.7160 - val_loss: 0.5622 - val_accuracy: 0.7126\n",
      "Epoch 25/150\n",
      "514/514 [==============================] - 0s 113us/step - loss: 0.5767 - accuracy: 0.7101 - val_loss: 0.5676 - val_accuracy: 0.6929\n",
      "Epoch 26/150\n",
      "514/514 [==============================] - 0s 108us/step - loss: 0.5738 - accuracy: 0.7004 - val_loss: 0.5753 - val_accuracy: 0.7087\n",
      "Epoch 27/150\n",
      "514/514 [==============================] - 0s 109us/step - loss: 0.5692 - accuracy: 0.7101 - val_loss: 0.5684 - val_accuracy: 0.6811\n",
      "Epoch 28/150\n",
      "514/514 [==============================] - 0s 110us/step - loss: 0.5669 - accuracy: 0.7023 - val_loss: 0.6265 - val_accuracy: 0.6378\n",
      "Epoch 29/150\n",
      "514/514 [==============================] - 0s 107us/step - loss: 0.5690 - accuracy: 0.7101 - val_loss: 0.5777 - val_accuracy: 0.7165\n",
      "Epoch 30/150\n",
      "514/514 [==============================] - 0s 105us/step - loss: 0.5645 - accuracy: 0.7121 - val_loss: 0.5807 - val_accuracy: 0.7087\n",
      "Epoch 31/150\n",
      "514/514 [==============================] - 0s 107us/step - loss: 0.5559 - accuracy: 0.7121 - val_loss: 0.5746 - val_accuracy: 0.6969\n",
      "Epoch 32/150\n",
      "514/514 [==============================] - 0s 104us/step - loss: 0.5824 - accuracy: 0.6984 - val_loss: 0.6029 - val_accuracy: 0.6496\n",
      "Epoch 33/150\n",
      "514/514 [==============================] - 0s 106us/step - loss: 0.5786 - accuracy: 0.6926 - val_loss: 0.5961 - val_accuracy: 0.7126\n",
      "Epoch 34/150\n",
      "514/514 [==============================] - 0s 105us/step - loss: 0.5611 - accuracy: 0.7082 - val_loss: 0.5793 - val_accuracy: 0.6969\n",
      "Epoch 35/150\n",
      "514/514 [==============================] - 0s 108us/step - loss: 0.5701 - accuracy: 0.7218 - val_loss: 0.5579 - val_accuracy: 0.7165\n",
      "Epoch 36/150\n",
      "514/514 [==============================] - 0s 111us/step - loss: 0.5651 - accuracy: 0.7198 - val_loss: 0.5812 - val_accuracy: 0.7205\n",
      "Epoch 37/150\n",
      "514/514 [==============================] - 0s 122us/step - loss: 0.5576 - accuracy: 0.7121 - val_loss: 0.5748 - val_accuracy: 0.7165\n",
      "Epoch 38/150\n",
      "514/514 [==============================] - 0s 109us/step - loss: 0.5564 - accuracy: 0.7218 - val_loss: 0.5604 - val_accuracy: 0.7165\n",
      "Epoch 39/150\n",
      "514/514 [==============================] - 0s 108us/step - loss: 0.5558 - accuracy: 0.7121 - val_loss: 0.5721 - val_accuracy: 0.7087\n",
      "Epoch 40/150\n",
      "514/514 [==============================] - 0s 107us/step - loss: 0.5551 - accuracy: 0.7237 - val_loss: 0.5683 - val_accuracy: 0.7126\n",
      "Epoch 41/150\n",
      "514/514 [==============================] - 0s 109us/step - loss: 0.5563 - accuracy: 0.7023 - val_loss: 0.5515 - val_accuracy: 0.7047\n",
      "Epoch 42/150\n",
      "514/514 [==============================] - 0s 107us/step - loss: 0.5649 - accuracy: 0.7198 - val_loss: 0.5815 - val_accuracy: 0.7126\n",
      "Epoch 43/150\n",
      "514/514 [==============================] - 0s 105us/step - loss: 0.5545 - accuracy: 0.7237 - val_loss: 0.5634 - val_accuracy: 0.7283\n",
      "Epoch 44/150\n",
      "514/514 [==============================] - 0s 108us/step - loss: 0.5589 - accuracy: 0.7043 - val_loss: 0.5605 - val_accuracy: 0.7165\n",
      "Epoch 45/150\n",
      "514/514 [==============================] - 0s 106us/step - loss: 0.5478 - accuracy: 0.7198 - val_loss: 0.5839 - val_accuracy: 0.6811\n",
      "Epoch 46/150\n",
      "514/514 [==============================] - 0s 107us/step - loss: 0.5597 - accuracy: 0.7218 - val_loss: 0.5721 - val_accuracy: 0.7047\n",
      "Epoch 47/150\n",
      "514/514 [==============================] - 0s 106us/step - loss: 0.5613 - accuracy: 0.7140 - val_loss: 0.5614 - val_accuracy: 0.7087\n",
      "Epoch 48/150\n",
      "514/514 [==============================] - 0s 105us/step - loss: 0.5539 - accuracy: 0.6984 - val_loss: 0.5539 - val_accuracy: 0.7126\n",
      "Epoch 49/150\n",
      "514/514 [==============================] - 0s 104us/step - loss: 0.5453 - accuracy: 0.7237 - val_loss: 0.5552 - val_accuracy: 0.7283\n",
      "Epoch 50/150\n",
      "514/514 [==============================] - 0s 109us/step - loss: 0.5525 - accuracy: 0.7160 - val_loss: 0.5747 - val_accuracy: 0.6969\n",
      "Epoch 51/150\n",
      "514/514 [==============================] - 0s 108us/step - loss: 0.5417 - accuracy: 0.7218 - val_loss: 0.5515 - val_accuracy: 0.7323\n",
      "Epoch 52/150\n",
      "514/514 [==============================] - 0s 105us/step - loss: 0.5510 - accuracy: 0.7062 - val_loss: 0.5744 - val_accuracy: 0.7126\n",
      "Epoch 53/150\n",
      "514/514 [==============================] - 0s 107us/step - loss: 0.5417 - accuracy: 0.7393 - val_loss: 0.5501 - val_accuracy: 0.7087\n",
      "Epoch 54/150\n"
     ]
    },
    {
     "name": "stdout",
     "output_type": "stream",
     "text": [
      "514/514 [==============================] - 0s 104us/step - loss: 0.5408 - accuracy: 0.7276 - val_loss: 0.5727 - val_accuracy: 0.7323\n",
      "Epoch 55/150\n",
      "514/514 [==============================] - 0s 105us/step - loss: 0.5434 - accuracy: 0.7179 - val_loss: 0.5630 - val_accuracy: 0.7165\n",
      "Epoch 56/150\n",
      "514/514 [==============================] - 0s 109us/step - loss: 0.5443 - accuracy: 0.7101 - val_loss: 0.5758 - val_accuracy: 0.7126\n",
      "Epoch 57/150\n",
      "514/514 [==============================] - 0s 106us/step - loss: 0.5472 - accuracy: 0.7257 - val_loss: 0.5696 - val_accuracy: 0.7087\n",
      "Epoch 58/150\n",
      "514/514 [==============================] - 0s 114us/step - loss: 0.5415 - accuracy: 0.7179 - val_loss: 0.5946 - val_accuracy: 0.6575\n",
      "Epoch 59/150\n",
      "514/514 [==============================] - 0s 103us/step - loss: 0.5516 - accuracy: 0.7257 - val_loss: 0.5598 - val_accuracy: 0.7323\n",
      "Epoch 60/150\n",
      "514/514 [==============================] - 0s 107us/step - loss: 0.5388 - accuracy: 0.7257 - val_loss: 0.5515 - val_accuracy: 0.7283\n",
      "Epoch 61/150\n",
      "514/514 [==============================] - 0s 108us/step - loss: 0.5460 - accuracy: 0.7198 - val_loss: 0.5562 - val_accuracy: 0.7362\n",
      "Epoch 62/150\n",
      "514/514 [==============================] - 0s 105us/step - loss: 0.5417 - accuracy: 0.7315 - val_loss: 0.5509 - val_accuracy: 0.7441\n",
      "Epoch 63/150\n",
      "514/514 [==============================] - 0s 114us/step - loss: 0.5399 - accuracy: 0.7296 - val_loss: 0.5479 - val_accuracy: 0.7362\n",
      "Epoch 64/150\n",
      "514/514 [==============================] - 0s 109us/step - loss: 0.5344 - accuracy: 0.7335 - val_loss: 0.5565 - val_accuracy: 0.7283\n",
      "Epoch 65/150\n",
      "514/514 [==============================] - 0s 112us/step - loss: 0.5437 - accuracy: 0.7257 - val_loss: 0.5827 - val_accuracy: 0.6850\n",
      "Epoch 66/150\n",
      "514/514 [==============================] - 0s 101us/step - loss: 0.5374 - accuracy: 0.7160 - val_loss: 0.5416 - val_accuracy: 0.7283\n",
      "Epoch 67/150\n",
      "514/514 [==============================] - 0s 106us/step - loss: 0.5363 - accuracy: 0.7276 - val_loss: 0.5665 - val_accuracy: 0.7087\n",
      "Epoch 68/150\n",
      "514/514 [==============================] - 0s 109us/step - loss: 0.5363 - accuracy: 0.7335 - val_loss: 0.5719 - val_accuracy: 0.7323\n",
      "Epoch 69/150\n",
      "514/514 [==============================] - 0s 102us/step - loss: 0.5377 - accuracy: 0.7121 - val_loss: 0.5565 - val_accuracy: 0.7362\n",
      "Epoch 70/150\n",
      "514/514 [==============================] - 0s 105us/step - loss: 0.5377 - accuracy: 0.7179 - val_loss: 0.5533 - val_accuracy: 0.7362\n",
      "Epoch 71/150\n",
      "514/514 [==============================] - 0s 109us/step - loss: 0.5312 - accuracy: 0.7471 - val_loss: 0.5512 - val_accuracy: 0.7402\n",
      "Epoch 72/150\n",
      "514/514 [==============================] - 0s 105us/step - loss: 0.5316 - accuracy: 0.7471 - val_loss: 0.5415 - val_accuracy: 0.7323\n",
      "Epoch 73/150\n",
      "514/514 [==============================] - 0s 109us/step - loss: 0.5376 - accuracy: 0.7082 - val_loss: 0.5481 - val_accuracy: 0.7598\n",
      "Epoch 74/150\n",
      "514/514 [==============================] - 0s 106us/step - loss: 0.5251 - accuracy: 0.7354 - val_loss: 0.5533 - val_accuracy: 0.7520\n",
      "Epoch 75/150\n",
      "514/514 [==============================] - 0s 114us/step - loss: 0.5300 - accuracy: 0.7393 - val_loss: 0.5564 - val_accuracy: 0.7165\n",
      "Epoch 76/150\n",
      "514/514 [==============================] - 0s 109us/step - loss: 0.5247 - accuracy: 0.7354 - val_loss: 0.5446 - val_accuracy: 0.7402\n",
      "Epoch 77/150\n",
      "514/514 [==============================] - 0s 108us/step - loss: 0.5232 - accuracy: 0.7296 - val_loss: 0.5528 - val_accuracy: 0.7441\n",
      "Epoch 78/150\n",
      "514/514 [==============================] - 0s 107us/step - loss: 0.5279 - accuracy: 0.7412 - val_loss: 0.5454 - val_accuracy: 0.7441\n",
      "Epoch 79/150\n",
      "514/514 [==============================] - 0s 107us/step - loss: 0.5297 - accuracy: 0.7335 - val_loss: 0.5619 - val_accuracy: 0.7441\n",
      "Epoch 80/150\n",
      "514/514 [==============================] - 0s 114us/step - loss: 0.5255 - accuracy: 0.7354 - val_loss: 0.5500 - val_accuracy: 0.7638\n",
      "Epoch 81/150\n",
      "514/514 [==============================] - 0s 107us/step - loss: 0.5319 - accuracy: 0.7393 - val_loss: 0.5637 - val_accuracy: 0.7126\n",
      "Epoch 82/150\n",
      "514/514 [==============================] - 0s 106us/step - loss: 0.5276 - accuracy: 0.7393 - val_loss: 0.5385 - val_accuracy: 0.7441\n",
      "Epoch 83/150\n",
      "514/514 [==============================] - 0s 105us/step - loss: 0.5148 - accuracy: 0.7412 - val_loss: 0.5608 - val_accuracy: 0.7087\n",
      "Epoch 84/150\n",
      "514/514 [==============================] - 0s 105us/step - loss: 0.5259 - accuracy: 0.7432 - val_loss: 0.5582 - val_accuracy: 0.7598\n",
      "Epoch 85/150\n",
      "514/514 [==============================] - 0s 108us/step - loss: 0.5234 - accuracy: 0.7374 - val_loss: 0.5453 - val_accuracy: 0.7244\n",
      "Epoch 86/150\n",
      "514/514 [==============================] - 0s 104us/step - loss: 0.5201 - accuracy: 0.7374 - val_loss: 0.5382 - val_accuracy: 0.7559\n",
      "Epoch 87/150\n",
      "514/514 [==============================] - 0s 106us/step - loss: 0.5199 - accuracy: 0.7374 - val_loss: 0.5430 - val_accuracy: 0.7402\n",
      "Epoch 88/150\n",
      "514/514 [==============================] - 0s 108us/step - loss: 0.5157 - accuracy: 0.7451 - val_loss: 0.5628 - val_accuracy: 0.7480\n",
      "Epoch 89/150\n",
      "514/514 [==============================] - 0s 107us/step - loss: 0.5167 - accuracy: 0.7451 - val_loss: 0.5495 - val_accuracy: 0.7244\n",
      "Epoch 90/150\n",
      "514/514 [==============================] - 0s 104us/step - loss: 0.5226 - accuracy: 0.7529 - val_loss: 0.5601 - val_accuracy: 0.7402\n",
      "Epoch 91/150\n",
      "514/514 [==============================] - 0s 119us/step - loss: 0.5181 - accuracy: 0.7432 - val_loss: 0.5678 - val_accuracy: 0.7283\n",
      "Epoch 92/150\n",
      "514/514 [==============================] - 0s 107us/step - loss: 0.5184 - accuracy: 0.7432 - val_loss: 0.5504 - val_accuracy: 0.7323\n",
      "Epoch 93/150\n",
      "514/514 [==============================] - 0s 107us/step - loss: 0.5195 - accuracy: 0.7549 - val_loss: 0.5508 - val_accuracy: 0.7362\n",
      "Epoch 94/150\n",
      "514/514 [==============================] - 0s 106us/step - loss: 0.5161 - accuracy: 0.7490 - val_loss: 0.5396 - val_accuracy: 0.7874\n",
      "Epoch 95/150\n",
      "514/514 [==============================] - 0s 106us/step - loss: 0.5150 - accuracy: 0.7626 - val_loss: 0.5602 - val_accuracy: 0.7047\n",
      "Epoch 96/150\n",
      "514/514 [==============================] - 0s 104us/step - loss: 0.5262 - accuracy: 0.7412 - val_loss: 0.5427 - val_accuracy: 0.7520\n",
      "Epoch 97/150\n",
      "514/514 [==============================] - 0s 103us/step - loss: 0.5117 - accuracy: 0.7451 - val_loss: 0.5443 - val_accuracy: 0.7323\n",
      "Epoch 98/150\n",
      "514/514 [==============================] - 0s 109us/step - loss: 0.5229 - accuracy: 0.7374 - val_loss: 0.5676 - val_accuracy: 0.7441\n",
      "Epoch 99/150\n",
      "514/514 [==============================] - 0s 107us/step - loss: 0.5249 - accuracy: 0.7393 - val_loss: 0.5622 - val_accuracy: 0.7598\n",
      "Epoch 100/150\n",
      "514/514 [==============================] - 0s 105us/step - loss: 0.5115 - accuracy: 0.7451 - val_loss: 0.5352 - val_accuracy: 0.7874\n",
      "Epoch 101/150\n",
      "514/514 [==============================] - 0s 115us/step - loss: 0.5102 - accuracy: 0.7529 - val_loss: 0.5511 - val_accuracy: 0.7323\n",
      "Epoch 102/150\n",
      "514/514 [==============================] - 0s 105us/step - loss: 0.5057 - accuracy: 0.7568 - val_loss: 0.5359 - val_accuracy: 0.7441\n",
      "Epoch 103/150\n",
      "514/514 [==============================] - 0s 108us/step - loss: 0.5159 - accuracy: 0.7471 - val_loss: 0.5645 - val_accuracy: 0.7126\n",
      "Epoch 104/150\n",
      "514/514 [==============================] - 0s 104us/step - loss: 0.5143 - accuracy: 0.7451 - val_loss: 0.5385 - val_accuracy: 0.7480\n",
      "Epoch 105/150\n",
      "514/514 [==============================] - 0s 105us/step - loss: 0.5011 - accuracy: 0.7704 - val_loss: 0.5454 - val_accuracy: 0.7677\n",
      "Epoch 106/150\n",
      "514/514 [==============================] - 0s 109us/step - loss: 0.5126 - accuracy: 0.7237 - val_loss: 0.5525 - val_accuracy: 0.7520\n",
      "Epoch 107/150\n",
      "514/514 [==============================] - 0s 106us/step - loss: 0.5111 - accuracy: 0.7510 - val_loss: 0.5579 - val_accuracy: 0.7402\n",
      "Epoch 108/150\n",
      "514/514 [==============================] - 0s 108us/step - loss: 0.5162 - accuracy: 0.7607 - val_loss: 0.5529 - val_accuracy: 0.7441\n",
      "Epoch 109/150\n",
      "514/514 [==============================] - 0s 105us/step - loss: 0.5015 - accuracy: 0.7568 - val_loss: 0.5508 - val_accuracy: 0.7362\n",
      "Epoch 110/150\n"
     ]
    },
    {
     "name": "stdout",
     "output_type": "stream",
     "text": [
      "514/514 [==============================] - 0s 105us/step - loss: 0.5145 - accuracy: 0.7237 - val_loss: 0.5934 - val_accuracy: 0.7165\n",
      "Epoch 111/150\n",
      "514/514 [==============================] - 0s 116us/step - loss: 0.5096 - accuracy: 0.7393 - val_loss: 0.5689 - val_accuracy: 0.7244\n",
      "Epoch 112/150\n",
      "514/514 [==============================] - 0s 105us/step - loss: 0.4977 - accuracy: 0.7588 - val_loss: 0.5608 - val_accuracy: 0.7323\n",
      "Epoch 113/150\n",
      "514/514 [==============================] - 0s 109us/step - loss: 0.5047 - accuracy: 0.7626 - val_loss: 0.5419 - val_accuracy: 0.7402\n",
      "Epoch 114/150\n",
      "514/514 [==============================] - 0s 104us/step - loss: 0.5011 - accuracy: 0.7451 - val_loss: 0.5403 - val_accuracy: 0.7441\n",
      "Epoch 115/150\n",
      "514/514 [==============================] - 0s 106us/step - loss: 0.5026 - accuracy: 0.7529 - val_loss: 0.5317 - val_accuracy: 0.7520\n",
      "Epoch 116/150\n",
      "514/514 [==============================] - 0s 105us/step - loss: 0.4954 - accuracy: 0.7549 - val_loss: 0.5397 - val_accuracy: 0.7638\n",
      "Epoch 117/150\n",
      "514/514 [==============================] - 0s 105us/step - loss: 0.5026 - accuracy: 0.7626 - val_loss: 0.5872 - val_accuracy: 0.7126\n",
      "Epoch 118/150\n",
      "514/514 [==============================] - 0s 107us/step - loss: 0.4962 - accuracy: 0.7471 - val_loss: 0.5441 - val_accuracy: 0.7441\n",
      "Epoch 119/150\n",
      "514/514 [==============================] - 0s 106us/step - loss: 0.5042 - accuracy: 0.7529 - val_loss: 0.5480 - val_accuracy: 0.7559\n",
      "Epoch 120/150\n",
      "514/514 [==============================] - 0s 106us/step - loss: 0.4935 - accuracy: 0.7588 - val_loss: 0.5331 - val_accuracy: 0.7559\n",
      "Epoch 121/150\n",
      "514/514 [==============================] - 0s 104us/step - loss: 0.4996 - accuracy: 0.7374 - val_loss: 0.5783 - val_accuracy: 0.7362\n",
      "Epoch 122/150\n",
      "514/514 [==============================] - 0s 113us/step - loss: 0.4978 - accuracy: 0.7549 - val_loss: 0.5455 - val_accuracy: 0.7441\n",
      "Epoch 123/150\n",
      "514/514 [==============================] - 0s 105us/step - loss: 0.4950 - accuracy: 0.7607 - val_loss: 0.5592 - val_accuracy: 0.7362\n",
      "Epoch 124/150\n",
      "514/514 [==============================] - 0s 107us/step - loss: 0.4926 - accuracy: 0.7568 - val_loss: 0.5439 - val_accuracy: 0.7480\n",
      "Epoch 125/150\n",
      "514/514 [==============================] - 0s 106us/step - loss: 0.4942 - accuracy: 0.7665 - val_loss: 0.5708 - val_accuracy: 0.7402\n",
      "Epoch 126/150\n",
      "514/514 [==============================] - 0s 107us/step - loss: 0.4899 - accuracy: 0.7626 - val_loss: 0.5676 - val_accuracy: 0.7362\n",
      "Epoch 127/150\n",
      "514/514 [==============================] - 0s 108us/step - loss: 0.4887 - accuracy: 0.7490 - val_loss: 0.5505 - val_accuracy: 0.7520\n",
      "Epoch 128/150\n",
      "514/514 [==============================] - 0s 105us/step - loss: 0.4892 - accuracy: 0.7704 - val_loss: 0.5503 - val_accuracy: 0.7677\n",
      "Epoch 129/150\n",
      "514/514 [==============================] - 0s 109us/step - loss: 0.4973 - accuracy: 0.7510 - val_loss: 0.5554 - val_accuracy: 0.7362\n",
      "Epoch 130/150\n",
      "514/514 [==============================] - 0s 103us/step - loss: 0.4878 - accuracy: 0.7607 - val_loss: 0.5363 - val_accuracy: 0.7598\n",
      "Epoch 131/150\n",
      "514/514 [==============================] - 0s 105us/step - loss: 0.4823 - accuracy: 0.7510 - val_loss: 0.5701 - val_accuracy: 0.7244\n",
      "Epoch 132/150\n",
      "514/514 [==============================] - 0s 108us/step - loss: 0.4941 - accuracy: 0.7412 - val_loss: 0.5546 - val_accuracy: 0.7441\n",
      "Epoch 133/150\n",
      "514/514 [==============================] - 0s 105us/step - loss: 0.4876 - accuracy: 0.7607 - val_loss: 0.5396 - val_accuracy: 0.7520\n",
      "Epoch 134/150\n",
      "514/514 [==============================] - 0s 105us/step - loss: 0.4832 - accuracy: 0.7529 - val_loss: 0.5491 - val_accuracy: 0.7362\n",
      "Epoch 135/150\n",
      "514/514 [==============================] - 0s 109us/step - loss: 0.4828 - accuracy: 0.7607 - val_loss: 0.5331 - val_accuracy: 0.7480\n",
      "Epoch 136/150\n",
      "514/514 [==============================] - 0s 105us/step - loss: 0.4857 - accuracy: 0.7510 - val_loss: 0.5365 - val_accuracy: 0.7520\n",
      "Epoch 137/150\n",
      "514/514 [==============================] - 0s 105us/step - loss: 0.5007 - accuracy: 0.7471 - val_loss: 0.5426 - val_accuracy: 0.7205\n",
      "Epoch 138/150\n",
      "514/514 [==============================] - 0s 109us/step - loss: 0.4847 - accuracy: 0.7432 - val_loss: 0.5300 - val_accuracy: 0.7480\n",
      "Epoch 139/150\n",
      "514/514 [==============================] - 0s 105us/step - loss: 0.4824 - accuracy: 0.7626 - val_loss: 0.5479 - val_accuracy: 0.7480\n",
      "Epoch 140/150\n",
      "514/514 [==============================] - 0s 108us/step - loss: 0.4778 - accuracy: 0.7607 - val_loss: 0.5371 - val_accuracy: 0.7520\n",
      "Epoch 141/150\n",
      "514/514 [==============================] - 0s 105us/step - loss: 0.4795 - accuracy: 0.7568 - val_loss: 0.5438 - val_accuracy: 0.7638\n",
      "Epoch 142/150\n",
      "514/514 [==============================] - 0s 106us/step - loss: 0.4815 - accuracy: 0.7665 - val_loss: 0.5688 - val_accuracy: 0.7402\n",
      "Epoch 143/150\n",
      "514/514 [==============================] - 0s 108us/step - loss: 0.4924 - accuracy: 0.7568 - val_loss: 0.5480 - val_accuracy: 0.7402\n",
      "Epoch 144/150\n",
      "514/514 [==============================] - 0s 105us/step - loss: 0.4950 - accuracy: 0.7568 - val_loss: 0.5607 - val_accuracy: 0.7441\n",
      "Epoch 145/150\n",
      "514/514 [==============================] - 0s 104us/step - loss: 0.4925 - accuracy: 0.7412 - val_loss: 0.5311 - val_accuracy: 0.7638\n",
      "Epoch 146/150\n",
      "514/514 [==============================] - 0s 108us/step - loss: 0.4768 - accuracy: 0.7607 - val_loss: 0.5637 - val_accuracy: 0.7362\n",
      "Epoch 147/150\n",
      "514/514 [==============================] - 0s 105us/step - loss: 0.4760 - accuracy: 0.7607 - val_loss: 0.5444 - val_accuracy: 0.7598\n",
      "Epoch 148/150\n",
      "514/514 [==============================] - 0s 108us/step - loss: 0.4817 - accuracy: 0.7665 - val_loss: 0.5419 - val_accuracy: 0.7402\n",
      "Epoch 149/150\n",
      "514/514 [==============================] - 0s 106us/step - loss: 0.4704 - accuracy: 0.7626 - val_loss: 0.5555 - val_accuracy: 0.7402\n",
      "Epoch 150/150\n",
      "514/514 [==============================] - 0s 106us/step - loss: 0.4715 - accuracy: 0.7685 - val_loss: 0.5429 - val_accuracy: 0.7638\n",
      "768/768 [==============================] - 0s 12us/step\n",
      "\n",
      "accuracy:76.95%\n"
     ]
    }
   ],
   "source": [
    "from keras.models import Sequential #models 서브패키지\n",
    "from keras.layers import Dense #layers 모델구성\n",
    "from sklearn.datasets import make_regression\n",
    "\n",
    "\n",
    "\n",
    "import numpy \n",
    "numpy.random.seed(7)\n",
    "dataset=numpy.loadtxt('pima.data',delimiter=',')\n",
    "X=dataset[:,0:8] #8개의 독립변수\n",
    "Y=dataset[:,8] #종속변수 8번째 독립변수의 종속변수를 모름(784이긴하지만) \n",
    "model=Sequential()\n",
    "print(X.shape)\n",
    "print(Y.shape)\n",
    "#? # 8 8x12=>?x12\n",
    "model.add(Dense(12,input_dim=8, kernel_initializer='uniform', activation='relu'))\n",
    "#?x12 12x8 =>?x8                                #초기화:균등분포\n",
    "model.add(Dense(8, activation='relu'))\n",
    "#?x8 8x1->?X1\n",
    "model.add(Dense(1,activation='sigmoid')) #분류 0.5 기준으로 크면 1 작으면 0\n",
    "model.compile(loss='binary_crossentropy',optimizer='adam',metrics=['accuracy']) \n",
    "\n",
    "\n",
    "#model.fit(X,Y,epochs=150,batch_size=10)\n",
    "#데이터 분리 입력 (train, test):과적합\n",
    "#train, validation ,test\n",
    "history=model.fit(X,Y,validation_split=0.33, epochs=150,batch_size=10)\n",
    "scores=model.evaluate(X,Y) #accuracy 를 출력해줌\n",
    "\n",
    "\n",
    "#1번 loss ,2번째 accuracy (metrics=['accuracy'])??\n",
    "print('\\n%s:%.2f%%' % (model.metrics_names[1],scores[1]*100))\n",
    "\n",
    "          "
   ]
  },
  {
   "cell_type": "code",
   "execution_count": 3,
   "metadata": {},
   "outputs": [
    {
     "name": "stdout",
     "output_type": "stream",
     "text": [
      "dict_keys(['val_loss', 'val_accuracy', 'loss', 'accuracy'])\n"
     ]
    },
    {
     "data": {
      "image/png": "[encoded data removed]",
      "text/plain": [
       "<Figure size 432x288 with 1 Axes>"
      ]
     },
     "metadata": {
      "needs_background": "light"
     },
     "output_type": "display_data"
    }
   ],
   "source": [
    "import matplotlib.pyplot as plt\n",
    "%matplotlib inline\n",
    "\n",
    "print(history.history.keys())\n",
    "\n",
    "#val_loss,val_accuracy,loss,accuracy :4개 나옴\n",
    "\n",
    "plt.plot(history.history['accuracy'])\n",
    "plt.plot(history.history['val_accuracy'])\n",
    "plt.title('accuracy')\n",
    "plt.ylabel('accuracy')\n",
    "plt.xlabel('epoch')\n",
    "plt.legend(['trian','test'],loc='upper left')\n",
    "\n",
    "plt.show()"
   ]
  },
  {
   "cell_type": "code",
   "execution_count": 4,
   "metadata": {},
   "outputs": [
    {
     "data": {
      "image/png": "[encoded data removed]",
      "text/plain": [
       "<Figure size 432x288 with 1 Axes>"
      ]
     },
     "metadata": {
      "needs_background": "light"
     },
     "output_type": "display_data"
    }
   ],
   "source": [
    "plt.plot(history.history['loss'])\n",
    "plt.plot(history.history['val_loss'])\n",
    "plt.title('loss')\n",
    "plt.ylabel('loss')\n",
    "plt.xlabel('epoch')\n",
    "plt.legend(['trian','test'],loc='upper left')\n",
    "plt.show()"
   ]
  },
  {
   "cell_type": "code",
   "execution_count": 5,
   "metadata": {},
   "outputs": [],
   "source": [
    "########여기서부터 "
   ]
  },
  {
   "cell_type": "code",
   "execution_count": 6,
   "metadata": {},
   "outputs": [
    {
     "name": "stdout",
     "output_type": "stream",
     "text": [
      "(1000, 2)\n",
      "(1000,)\n"
     ]
    }
   ],
   "source": [
    "from sklearn.preprocessing import scale\n",
    "from sklearn.datasets import make_moons\n",
    "from sklearn.model_selection import train_test_split\n",
    "X,Y=make_moons(noise=0.2, random_state=0, n_samples=1000)\n",
    "X=scale(X)\n",
    "X_train,X_test,Y_train,Y_test=train_test_split(X,Y,test_size=.5)\n",
    "print(X.shape)\n",
    "print(Y.shape)"
   ]
  },
  {
   "cell_type": "code",
   "execution_count": 7,
   "metadata": {},
   "outputs": [
    {
     "data": {
      "text/plain": [
       "[Text(0, 0.5, 'Y'),\n",
       " Text(0.5, 0, 'X'),\n",
       " Text(0.5, 1.0, 'history classification')]"
      ]
     },
     "execution_count": 7,
     "metadata": {},
     "output_type": "execute_result"
    },
    {
     "data": {
      "image/png": "[encoded data removed]",
      "text/plain": [
       "<Figure size 432x288 with 1 Axes>"
      ]
     },
     "metadata": {
      "needs_background": "light"
     },
     "output_type": "display_data"
    }
   ],
   "source": [
    "fif,ax=plt.subplots()\n",
    "ax.scatter(X[Y==0,0],X[Y==0,1],label='Class 0')\n",
    "ax.scatter(X[Y==1,0],X[Y==1,1],color='r',label='Class 1')\n",
    "ax.legend()\n",
    "ax.set(xlabel='X',ylabel='Y',title='history classification')"
   ]
  },
  {
   "cell_type": "code",
   "execution_count": 8,
   "metadata": {},
   "outputs": [
    {
     "name": "stdout",
     "output_type": "stream",
     "text": [
      "WARNING:tensorflow:From C:\\Users\\ICT01_15\\Anaconda3\\lib\\site-packages\\keras\\callbacks\\tensorboard_v1.py:146: The name tf.summary.histogram is deprecated. Please use tf.compat.v1.summary.histogram instead.\n",
      "\n",
      "WARNING:tensorflow:From C:\\Users\\ICT01_15\\Anaconda3\\lib\\site-packages\\keras\\callbacks\\tensorboard_v1.py:200: The name tf.summary.merge_all is deprecated. Please use tf.compat.v1.summary.merge_all instead.\n",
      "\n",
      "WARNING:tensorflow:From C:\\Users\\ICT01_15\\Anaconda3\\lib\\site-packages\\keras\\callbacks\\tensorboard_v1.py:203: The name tf.summary.FileWriter is deprecated. Please use tf.compat.v1.summary.FileWriter instead.\n",
      "\n"
     ]
    }
   ],
   "source": [
    "import keras\n",
    "# 비선형일 때 신경망을 사용한다.\n",
    "model = Sequential()\n",
    "# 입력데이터 1000x2 2x32 => 1000x32 (차원확대 2->32 => 설명이 잘된다) \n",
    "#param 96인 이유 2x32=64 +(가중치)32=96 !!!!!!\n",
    "model.add(Dense(32, input_dim=2, activation=\"relu\"))\n",
    "# 1000x32 32x1 => 1000x1(분류)\n",
    "model.add(Dense(1, activation=\"sigmoid\"))\n",
    "model.compile(optimizer=\"AdaDelta\", loss=\"binary_crossentropy\", metrics=[\"accuracy\"])\n",
    "\n",
    "# callback함수 : winodows에서 event후에 자동으로 호출되어지는 함수\n",
    "# graph image 출력\n",
    "tb_callback = keras.callbacks.TensorBoard(log_dir=\"./Graph/model_1/\",\n",
    "                                          histogram_freq=100,\n",
    "                                          write_graph=True,\n",
    "                                          write_images=False)\n",
    "tb_callback.set_model(model) # callback함수를 model에 등록"
   ]
  },
  {
   "cell_type": "code",
   "execution_count": null,
   "metadata": {},
   "outputs": [],
   "source": []
  },
  {
   "cell_type": "code",
   "execution_count": 9,
   "metadata": {
    "scrolled": false
   },
   "outputs": [
    {
     "name": "stdout",
     "output_type": "stream",
     "text": [
      "WARNING:tensorflow:From C:\\Users\\ICT01_15\\Anaconda3\\lib\\site-packages\\keras\\callbacks\\tensorboard_v1.py:343: The name tf.Summary is deprecated. Please use tf.compat.v1.Summary instead.\n",
      "\n"
     ]
    }
   ],
   "source": [
    "hist = model.fit(X_train, Y_train, batch_size=32, epochs=200, verbose=0, validation_data=(X_test, Y_test), callbacks=[tb_callback])\n"
   ]
  },
  {
   "cell_type": "code",
   "execution_count": 10,
   "metadata": {},
   "outputs": [
    {
     "name": "stdout",
     "output_type": "stream",
     "text": [
      "test loss: 0.12789358568191528\n",
      "test accuracy: 0.949999988079071\n"
     ]
    }
   ],
   "source": [
    "score=model.evaluate(X_test,Y_test,verbose=0)\n",
    "print('test loss:',score[0])\n",
    "print('test accuracy:',score[1])"
   ]
  },
  {
   "cell_type": "code",
   "execution_count": 11,
   "metadata": {},
   "outputs": [
    {
     "name": "stdout",
     "output_type": "stream",
     "text": [
      "Model: \"sequential_3\"\n",
      "_________________________________________________________________\n",
      "Layer (type)                 Output Shape              Param #   \n",
      "=================================================================\n",
      "dense_7 (Dense)              (None, 32)                96        \n",
      "_________________________________________________________________\n",
      "dense_8 (Dense)              (None, 1)                 33        \n",
      "=================================================================\n",
      "Total params: 129\n",
      "Trainable params: 129\n",
      "Non-trainable params: 0\n",
      "_________________________________________________________________\n"
     ]
    }
   ],
   "source": [
    "keras.utils.print_summary(model)"
   ]
  },
  {
   "cell_type": "code",
   "execution_count": 12,
   "metadata": {},
   "outputs": [
    {
     "ename": "AttributeError",
     "evalue": "module 'keras.utils' has no attribute 'plot_summary'",
     "output_type": "error",
     "traceback": [
      "\u001b[1;31m---------------------------------------------------------------------------\u001b[0m",
      "\u001b[1;31mAttributeError\u001b[0m                            Traceback (most recent call last)",
      "\u001b[1;32m<ipython-input-12-2f793d2a27df>\u001b[0m in \u001b[0;36m<module>\u001b[1;34m\u001b[0m\n\u001b[1;32m----> 1\u001b[1;33m \u001b[0mkeras\u001b[0m\u001b[1;33m.\u001b[0m\u001b[0mutils\u001b[0m\u001b[1;33m.\u001b[0m\u001b[0mplot_summary\u001b[0m\u001b[1;33m(\u001b[0m\u001b[0mmodel\u001b[0m\u001b[1;33m)\u001b[0m\u001b[1;33m\u001b[0m\u001b[1;33m\u001b[0m\u001b[0m\n\u001b[0m",
      "\u001b[1;31mAttributeError\u001b[0m: module 'keras.utils' has no attribute 'plot_summary'"
     ]
    }
   ],
   "source": [
    "keras.utils.plot_summary(model)"
   ]
  },
  {
   "cell_type": "code",
   "execution_count": null,
   "metadata": {},
   "outputs": [],
   "source": [
    "from keras.utils.vis_utils import model_to_dot\n",
    "model_to_dot(model)"
   ]
  },
  {
   "cell_type": "code",
   "execution_count": null,
   "metadata": {},
   "outputs": [],
   "source": [
    "from IPython.desplay import Image, SVG\n",
    "SVG(model_to_dot(model).create(prog='dot',format='svg'))"
   ]
  },
  {
   "cell_type": "code",
   "execution_count": null,
   "metadata": {},
   "outputs": [],
   "source": [
    "model.summary()"
   ]
  },
  {
   "cell_type": "code",
   "execution_count": null,
   "metadata": {},
   "outputs": [],
   "source": []
  },
  {
   "cell_type": "code",
   "execution_count": null,
   "metadata": {},
   "outputs": [],
   "source": [
    "from keras.datasets import mnist\n",
    "import matplotlib.pylab as plt\n",
    "(X_train0,y_train0),(X_test0,y_test0)=mnist.load_data()\n",
    "print(X_train0.shape,X_train0.dtype) #60000, 28x28  원본이미지 보통 인터넷에서 다운받으면 640 x 640\n",
    "print(y_train0.shape,y_train0.dtype) #60000\n",
    "print(X_test0.shape,X_test0.dtype) #10000 28x28\n",
    "print(y_test0.shape,y_test0.dtype) #10000 28x28"
   ]
  },
  {
   "cell_type": "code",
   "execution_count": null,
   "metadata": {},
   "outputs": [],
   "source": [
    "plt.imshow(X_train0[0])\n",
    "plt.grid(False)\n",
    "plt.show()\n"
   ]
  },
  {
   "cell_type": "code",
   "execution_count": null,
   "metadata": {},
   "outputs": [],
   "source": [
    "#fully-connected:flatten :ffnn 은 \n",
    "#이미지 정규화 :0~255 컬러값 /255  => 0~1\n",
    "X_train=X_train0.reshape(60000,784).astype('float32')/255.0  \n",
    "X_test=X_test0.reshape(10000,784).astype('float32')/255.0\n",
    "print(X_train.shape, X_train.dtype)\n"
   ]
  },
  {
   "cell_type": "code",
   "execution_count": null,
   "metadata": {},
   "outputs": [],
   "source": [
    "y_train0[:5] #one hot encoding 여부 \n",
    "#:multi label일 경우 sotfmax(경우의 수에 대한 확률값) -3개 이상인 경우 사용!! 2개일때는 (binary.....)\n",
    "#5, 0, 4, 1, 9 :원핫인코딩이 안되어 있음"
   ]
  },
  {
   "cell_type": "code",
   "execution_count": null,
   "metadata": {},
   "outputs": [],
   "source": [
    "from keras.utils import np_utils\n",
    "Y_train=np_utils.to_categorical(y_train0,10)\n",
    "Y_test=np_utils.to_categorical(y_test0,10)\n",
    "Y_train[:5]"
   ]
  },
  {
   "cell_type": "code",
   "execution_count": null,
   "metadata": {},
   "outputs": [],
   "source": [
    "import numpy as np\n",
    "from keras.optimizers import SGD\n",
    "\n",
    "np.random.seed(0)\n",
    "model=Sequential()\n",
    "\n",
    "#60000x784 ,784 x 15 =>60000x15\n",
    "model.add(Dense(512,input_dim=784,activation='sigmoid'))\n",
    "model.add(Dense(15))\n",
    "#60000x15 15x10 =>60000x 10\n",
    "model.add(Dense(10,activation='sigmoid')) #확률값으로 출력\n",
    "#lr:learning rate\n",
    "#stochastic gradient descent\n",
    "model.compile(optimizer=SGD(lr=0.2),loss='mean_squared_error',metrics=['accuracy'])"
   ]
  },
  {
   "cell_type": "code",
   "execution_count": null,
   "metadata": {},
   "outputs": [],
   "source": [
    "model.layers"
   ]
  },
  {
   "cell_type": "code",
   "execution_count": null,
   "metadata": {},
   "outputs": [],
   "source": [
    "l1=model.layers[0]\n",
    "l2=model.layers[1]\n",
    "#레이어 속성으로 정보 확인\n",
    "l1.name\n",
    "l1.input_shape\n",
    "l1.output_shape\n",
    "l1.activation"
   ]
  },
  {
   "cell_type": "code",
   "execution_count": null,
   "metadata": {},
   "outputs": [],
   "source": [
    "#callbacks class \n",
    "#Custom callbacks 함수의 제작\n",
    "#함수에 의해서 호출되는 객체\n",
    "class CustomHistory(keras.callbacks.Callback): #상속\n",
    "    def init(self):\n",
    "        self.train_loss=[]\n",
    "        self.val_loss=[]\n",
    "        self.train_acc=[]\n",
    "        self.val_acc=[]\n",
    "    def on_epoch_end(self,batch,logs={}): #오버라이딩\n",
    "        self.train_loss.append(logs.get('loss'))\n",
    "        self.val_loss.append(logs.get('val_loss'))\n",
    "        self.train_acc.append(logs.get('accuracy'))\n",
    "        self.val_loss.append(logs.get('val_loss'))"
   ]
  },
  {
   "cell_type": "code",
   "execution_count": null,
   "metadata": {},
   "outputs": [],
   "source": [
    "#callback function 사용\n",
    "custom_hist=CustomHistory()\n",
    "custom_hist.init()\n",
    "\n",
    "hist=model.fit(X_train,Y_train,nb_epoch=30,batch_size=1000,validation_data=(X_test,Y_test),verbose=2,callbacks=[custom_hist]\n",
    "plt.plot(hist.history['loss'])\n",
    "plt.show()"
   ]
  },
  {
   "cell_type": "code",
   "execution_count": null,
   "metadata": {},
   "outputs": [],
   "source": [
    "plt.plot(hist.history['accuracy'],'b-',label='training')\n",
    "plt.plot(hist.history['val_accuracy'],'r-',label='test')\n",
    "plt.legend()\n",
    "plt.show()\n",
    "\n",
    "print(hist.model)\n",
    "print(hist.param)\n",
    "print(hist.history['acc'])\n",
    "print(hist.hisrory['vall_accracy'][29])"
   ]
  },
  {
   "cell_type": "code",
   "execution_count": null,
   "metadata": {},
   "outputs": [],
   "source": []
  },
  {
   "cell_type": "code",
   "execution_count": null,
   "metadata": {},
   "outputs": [],
   "source": []
  },
  {
   "cell_type": "code",
   "execution_count": null,
   "metadata": {},
   "outputs": [],
   "source": []
  },
  {
   "cell_type": "code",
   "execution_count": null,
   "metadata": {},
   "outputs": [],
   "source": [
    "######문제 X_test 의 이미지 한장의 label 을 예측해보시오"
   ]
  },
  {
   "cell_type": "code",
   "execution_count": null,
   "metadata": {},
   "outputs": [],
   "source": [
    "model.predict(X_test[:1,:])"
   ]
  },
  {
   "cell_type": "code",
   "execution_count": null,
   "metadata": {},
   "outputs": [],
   "source": [
    "model.predict_classes(X_test[:1,:],verbose=0) #넘버로 바꿔줌...."
   ]
  },
  {
   "cell_type": "code",
   "execution_count": null,
   "metadata": {},
   "outputs": [],
   "source": [
    "#######문제 :출력 차수가 512인 레이어를 추가하시오 (위)"
   ]
  },
  {
   "cell_type": "code",
   "execution_count": null,
   "metadata": {},
   "outputs": [],
   "source": []
  },
  {
   "cell_type": "code",
   "execution_count": null,
   "metadata": {},
   "outputs": [],
   "source": [
    "#집값예측\n",
    "from keras.datasets import boston_housing\n",
    "(x_train, y_train),(x_test,y_test)=boston_housing.load_data()\n",
    "print(x_train.shape)\n",
    "print(y_train.shape)"
   ]
  },
  {
   "cell_type": "code",
   "execution_count": null,
   "metadata": {},
   "outputs": [],
   "source": [
    "model=Sequential()\n",
    "num_features=13\n",
    "model.add(Dense(1,input_dim=num_features,activation='linear'))"
   ]
  },
  {
   "cell_type": "code",
   "execution_count": null,
   "metadata": {},
   "outputs": [],
   "source": [
    "model.summary()\n",
    "model.compile(optimizer='rmsprop',loss='mse',metrics=['mae'])\n",
    "model.fit(x_train,y_train,batch_size=1,epochs=10,verbose=1)"
   ]
  },
  {
   "cell_type": "code",
   "execution_count": null,
   "metadata": {},
   "outputs": [],
   "source": [
    "#accuracy 였는데 바뀐이유:loss='mse',metrics=['mae']\n",
    "mse,mae=model.evaluate(x_test,y_test,verbose=False)\n",
    "rmse=np.sqrt(mse)\n",
    "mse,rmse,mae"
   ]
  },
  {
   "cell_type": "code",
   "execution_count": null,
   "metadata": {},
   "outputs": [],
   "source": [
    "#########문제 :x_test 의 앞의 3집을 예측해 보시오\n"
   ]
  },
  {
   "cell_type": "code",
   "execution_count": null,
   "metadata": {},
   "outputs": [],
   "source": [
    "pred=model.predict(X_test[:3,:])"
   ]
  },
  {
   "cell_type": "code",
   "execution_count": null,
   "metadata": {},
   "outputs": [],
   "source": [
    "real=y_test[:3]"
   ]
  },
  {
   "cell_type": "code",
   "execution_count": null,
   "metadata": {},
   "outputs": [],
   "source": [
    "#상관계수를 확인하시오"
   ]
  },
  {
   "cell_type": "code",
   "execution_count": null,
   "metadata": {},
   "outputs": [],
   "source": [
    "import numpy as np\n",
    "np.corrcoef(pred,real)"
   ]
  },
  {
   "cell_type": "code",
   "execution_count": null,
   "metadata": {},
   "outputs": [],
   "source": []
  },
  {
   "cell_type": "code",
   "execution_count": null,
   "metadata": {},
   "outputs": [],
   "source": [
    "import numpy \n",
    "from sklearn.model_selection import GridSearchCV\n",
    "from keras.mo"
   ]
  },
  {
   "cell_type": "code",
   "execution_count": null,
   "metadata": {},
   "outputs": [],
   "source": []
  }
 ],
 "metadata": {
  "kernelspec": {
   "display_name": "Python 3",
   "language": "python",
   "name": "python3"
  },
  "language_info": {
   "codemirror_mode": {
    "name": "ipython",
    "version": 3
   },
   "file_extension": ".py",
   "mimetype": "text/x-python",
   "name": "python",
   "nbconvert_exporter": "python",
   "pygments_lexer": "ipython3",
   "version": "3.7.4"
  }
 },
 "nbformat": 4,
 "nbformat_minor": 2
}
