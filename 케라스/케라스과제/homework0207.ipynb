{
 "cells": [
  {
   "cell_type": "code",
   "execution_count": 14,
   "metadata": {},
   "outputs": [],
   "source": [
    "# 숙제(2/9 일요일 밤까지 제출)\n",
    "# - iris.csv 데이터를 로딩한 다음\n",
    "# - 분류를 구성하시요.\n",
    "# - parameter tuning을 구현하시요.(pipeline 사용도 함께)"
   ]
  },
  {
   "cell_type": "code",
   "execution_count": 15,
   "metadata": {},
   "outputs": [],
   "source": [
    "import numpy as np\n",
    "import pandas as pd\n",
    "from sklearn.model_selection import GridSearchCV\n",
    "from keras.models import Sequential\n",
    "from keras.layers import Dense\n",
    "from keras.layers import Dropout\n",
    "from keras.wrappers.scikit_learn import KerasClassifier"
   ]
  },
  {
   "cell_type": "code",
   "execution_count": 16,
   "metadata": {},
   "outputs": [
    {
     "data": {
      "text/plain": [
       "(150,)"
      ]
     },
     "execution_count": 16,
     "metadata": {},
     "output_type": "execute_result"
    }
   ],
   "source": [
    "df = pd.read_csv(\"iris.csv\")\n",
    "df\n",
    "dataset = df.values\n",
    "X = dataset[:, :]\n",
    "Y = dataset[:, 4]\n",
    "\n",
    "np.random.seed(7)\n",
    "Y.shape"
   ]
  },
  {
   "cell_type": "code",
   "execution_count": 17,
   "metadata": {},
   "outputs": [],
   "source": [
    "def create_model(init_mode='uniform', activation='relu'):\n",
    "    model = Sequential()\n",
    "    model.add(Dense(32,\n",
    "                    input_dim=5,\n",
    "                    kernel_initializer=init_mode,\n",
    "                    activation=activation))\n",
    "    model.add(Dense(3,\n",
    "                    kernel_initializer=init_mode,\n",
    "                    activation=activation))\n",
    "    model.compile(loss=\"categorical_crossentropy\",\n",
    "                  optimizer=\"adam\",\n",
    "                  metrics=[\"accuracy\"])\n",
    "    \n",
    "    return model"
   ]
  },
  {
   "cell_type": "code",
   "execution_count": 18,
   "metadata": {
    "scrolled": false
   },
   "outputs": [
    {
     "name": "stderr",
     "output_type": "stream",
     "text": [
      "C:\\Users\\ICT01_16\\Anaconda3\\lib\\site-packages\\joblib\\externals\\loky\\process_executor.py:706: UserWarning: A worker stopped while some jobs were given to the executor. This can be caused by a too short worker timeout or by a memory leak.\n",
      "  \"timeout or by a memory leak.\", UserWarning\n"
     ]
    },
    {
     "name": "stdout",
     "output_type": "stream",
     "text": [
      "WARNING:tensorflow:From C:\\Users\\ICT01_16\\Anaconda3\\lib\\site-packages\\tensorflow\\python\\ops\\math_grad.py:1250: add_dispatch_support.<locals>.wrapper (from tensorflow.python.ops.array_ops) is deprecated and will be removed in a future version.\n",
      "Instructions for updating:\n",
      "Use tf.where in 2.0, which has the same broadcast rule as np.where\n",
      "WARNING:tensorflow:From C:\\Users\\ICT01_16\\Anaconda3\\lib\\site-packages\\keras\\backend\\tensorflow_backend.py:422: The name tf.global_variables is deprecated. Please use tf.compat.v1.global_variables instead.\n",
      "\n",
      "Epoch 1/10\n",
      "150/150 [==============================] - 0s 2ms/step - loss: 1.0813 - accuracy: 0.3000\n",
      "Epoch 2/10\n",
      "150/150 [==============================] - 0s 671us/step - loss: 0.9763 - accuracy: 0.7200\n",
      "Epoch 3/10\n",
      "150/150 [==============================] - 0s 655us/step - loss: 0.7443 - accuracy: 0.7400\n",
      "Epoch 4/10\n",
      "150/150 [==============================] - 0s 645us/step - loss: 0.5352 - accuracy: 0.8733\n",
      "Epoch 5/10\n",
      "150/150 [==============================] - 0s 658us/step - loss: 0.4135 - accuracy: 0.8533\n",
      "Epoch 6/10\n",
      "150/150 [==============================] - 0s 652us/step - loss: 0.2854 - accuracy: 1.0000\n",
      "Epoch 7/10\n",
      "150/150 [==============================] - 0s 652us/step - loss: 0.2007 - accuracy: 1.0000\n",
      "Epoch 8/10\n",
      "150/150 [==============================] - 0s 645us/step - loss: 0.1488 - accuracy: 1.0000\n",
      "Epoch 9/10\n",
      "150/150 [==============================] - 0s 658us/step - loss: 0.1080 - accuracy: 1.0000\n",
      "Epoch 10/10\n",
      "150/150 [==============================] - 0s 665us/step - loss: 0.0813 - accuracy: 1.0000\n",
      "최적스코어: 1.000000   사용한 파라미터조합 : {'activation': 'softplus', 'init_mode': 'uniform'}\n",
      "0.586667 (0.041096) with: {'activation': 'softmax', 'init_mode': 'uniform'}\n",
      "0.586667 (0.041096) with: {'activation': 'softmax', 'init_mode': 'lecun_uniform'}\n",
      "0.586667 (0.041096) with: {'activation': 'softmax', 'init_mode': 'normal'}\n",
      "0.240000 (0.043205) with: {'activation': 'softmax', 'init_mode': 'zero'}\n",
      "0.586667 (0.041096) with: {'activation': 'softmax', 'init_mode': 'glorot_normal'}\n",
      "0.626667 (0.095685) with: {'activation': 'softmax', 'init_mode': 'glorot_uniform'}\n",
      "0.640000 (0.114310) with: {'activation': 'softmax', 'init_mode': 'he_normal'}\n",
      "0.813333 (0.165194) with: {'activation': 'softmax', 'init_mode': 'he_uniform'}\n",
      "1.000000 (0.000000) with: {'activation': 'softplus', 'init_mode': 'uniform'}\n",
      "1.000000 (0.000000) with: {'activation': 'softplus', 'init_mode': 'lecun_uniform'}\n",
      "0.966667 (0.047140) with: {'activation': 'softplus', 'init_mode': 'normal'}\n",
      "0.306667 (0.082192) with: {'activation': 'softplus', 'init_mode': 'zero'}\n",
      "1.000000 (0.000000) with: {'activation': 'softplus', 'init_mode': 'glorot_normal'}\n",
      "1.000000 (0.000000) with: {'activation': 'softplus', 'init_mode': 'glorot_uniform'}\n",
      "0.900000 (0.141421) with: {'activation': 'softplus', 'init_mode': 'he_normal'}\n",
      "0.993333 (0.009428) with: {'activation': 'softplus', 'init_mode': 'he_uniform'}\n",
      "0.273333 (0.052493) with: {'activation': 'softsign', 'init_mode': 'uniform'}\n",
      "0.366667 (0.089938) with: {'activation': 'softsign', 'init_mode': 'lecun_uniform'}\n",
      "0.253333 (0.061824) with: {'activation': 'softsign', 'init_mode': 'normal'}\n",
      "0.333333 (0.033993) with: {'activation': 'softsign', 'init_mode': 'zero'}\n",
      "0.500000 (0.117757) with: {'activation': 'softsign', 'init_mode': 'glorot_normal'}\n",
      "0.480000 (0.145144) with: {'activation': 'softsign', 'init_mode': 'glorot_uniform'}\n",
      "0.460000 (0.097980) with: {'activation': 'softsign', 'init_mode': 'he_normal'}\n",
      "0.213333 (0.232283) with: {'activation': 'softsign', 'init_mode': 'he_uniform'}\n",
      "0.393333 (0.194822) with: {'activation': 'relu', 'init_mode': 'uniform'}\n",
      "0.333333 (0.033993) with: {'activation': 'relu', 'init_mode': 'lecun_uniform'}\n",
      "0.486667 (0.209974) with: {'activation': 'relu', 'init_mode': 'normal'}\n",
      "0.333333 (0.033993) with: {'activation': 'relu', 'init_mode': 'zero'}\n",
      "0.400000 (0.127541) with: {'activation': 'relu', 'init_mode': 'glorot_normal'}\n",
      "0.353333 (0.024944) with: {'activation': 'relu', 'init_mode': 'glorot_uniform'}\n",
      "0.606667 (0.167597) with: {'activation': 'relu', 'init_mode': 'he_normal'}\n",
      "0.380000 (0.065320) with: {'activation': 'relu', 'init_mode': 'he_uniform'}\n",
      "0.320000 (0.071181) with: {'activation': 'tanh', 'init_mode': 'uniform'}\n",
      "0.306667 (0.073636) with: {'activation': 'tanh', 'init_mode': 'lecun_uniform'}\n",
      "0.300000 (0.071181) with: {'activation': 'tanh', 'init_mode': 'normal'}\n",
      "0.333333 (0.033993) with: {'activation': 'tanh', 'init_mode': 'zero'}\n",
      "0.393333 (0.194822) with: {'activation': 'tanh', 'init_mode': 'glorot_normal'}\n",
      "0.433333 (0.180616) with: {'activation': 'tanh', 'init_mode': 'glorot_uniform'}\n",
      "0.326667 (0.082192) with: {'activation': 'tanh', 'init_mode': 'he_normal'}\n",
      "0.460000 (0.133666) with: {'activation': 'tanh', 'init_mode': 'he_uniform'}\n",
      "0.700000 (0.185472) with: {'activation': 'sigmoid', 'init_mode': 'uniform'}\n",
      "0.946667 (0.075425) with: {'activation': 'sigmoid', 'init_mode': 'lecun_uniform'}\n",
      "0.713333 (0.204179) with: {'activation': 'sigmoid', 'init_mode': 'normal'}\n",
      "0.380000 (0.176635) with: {'activation': 'sigmoid', 'init_mode': 'zero'}\n",
      "0.846667 (0.216846) with: {'activation': 'sigmoid', 'init_mode': 'glorot_normal'}\n",
      "0.846667 (0.216846) with: {'activation': 'sigmoid', 'init_mode': 'glorot_uniform'}\n",
      "0.866667 (0.188562) with: {'activation': 'sigmoid', 'init_mode': 'he_normal'}\n",
      "1.000000 (0.000000) with: {'activation': 'sigmoid', 'init_mode': 'he_uniform'}\n",
      "0.666667 (0.083799) with: {'activation': 'hard_sigmoid', 'init_mode': 'uniform'}\n",
      "0.746667 (0.179876) with: {'activation': 'hard_sigmoid', 'init_mode': 'lecun_uniform'}\n",
      "0.646667 (0.106249) with: {'activation': 'hard_sigmoid', 'init_mode': 'normal'}\n",
      "0.386667 (0.185712) with: {'activation': 'hard_sigmoid', 'init_mode': 'zero'}\n",
      "0.666667 (0.083799) with: {'activation': 'hard_sigmoid', 'init_mode': 'glorot_normal'}\n",
      "0.646667 (0.106249) with: {'activation': 'hard_sigmoid', 'init_mode': 'glorot_uniform'}\n",
      "0.640000 (0.099331) with: {'activation': 'hard_sigmoid', 'init_mode': 'he_normal'}\n",
      "0.653333 (0.065997) with: {'activation': 'hard_sigmoid', 'init_mode': 'he_uniform'}\n",
      "0.273333 (0.061824) with: {'activation': 'linear', 'init_mode': 'uniform'}\n",
      "0.473333 (0.231132) with: {'activation': 'linear', 'init_mode': 'lecun_uniform'}\n",
      "0.333333 (0.033993) with: {'activation': 'linear', 'init_mode': 'normal'}\n",
      "0.333333 (0.033993) with: {'activation': 'linear', 'init_mode': 'zero'}\n",
      "0.293333 (0.067987) with: {'activation': 'linear', 'init_mode': 'glorot_normal'}\n",
      "0.400000 (0.176635) with: {'activation': 'linear', 'init_mode': 'glorot_uniform'}\n",
      "0.373333 (0.065997) with: {'activation': 'linear', 'init_mode': 'he_normal'}\n",
      "0.460000 (0.247117) with: {'activation': 'linear', 'init_mode': 'he_uniform'}\n"
     ]
    }
   ],
   "source": [
    "init_mode = [\"uniform\", \"lecun_uniform\", \"normal\", \"zero\", \"glorot_normal\", \"glorot_uniform\", \"he_normal\", \"he_uniform\"]\n",
    "activation = [\"softmax\", \"softplus\", \"softsign\", \"relu\", \"tanh\", \"sigmoid\", \"hard_sigmoid\", \"linear\"]\n",
    "\n",
    "model = KerasClassifier(build_fn=create_model,\n",
    "                        epochs=10,\n",
    "                        batch_size=1,\n",
    "                        verbose=1)\n",
    "\n",
    "param_grid = dict(activation=activation, init_mode=init_mode)\n",
    "grid = GridSearchCV(estimator=model,\n",
    "                    param_grid=param_grid,\n",
    "                    n_jobs=-1)\n",
    "\n",
    "grid_result = grid.fit(X, Y)\n",
    "\n",
    "print(\"최적스코어: %f   사용한 파라미터조합 : %s\" % (grid_result.best_score_, grid_result.best_params_))\n",
    "means = grid_result.cv_results_['mean_test_score']\n",
    "stds = grid_result.cv_results_['std_test_score']\n",
    "params = grid_result.cv_results_['params']\n",
    "for mean, stdev, param in zip(means, stds, params):\n",
    "    print(\"%f (%f) with: %r\" % (mean, stdev, param))"
   ]
  }
 ],
 "metadata": {
  "kernelspec": {
   "display_name": "Python 3",
   "language": "python",
   "name": "python3"
  },
  "language_info": {
   "codemirror_mode": {
    "name": "ipython",
    "version": 3
   },
   "file_extension": ".py",
   "mimetype": "text/x-python",
   "name": "python",
   "nbconvert_exporter": "python",
   "pygments_lexer": "ipython3",
   "version": "3.7.4"
  }
 },
 "nbformat": 4,
 "nbformat_minor": 2
}
