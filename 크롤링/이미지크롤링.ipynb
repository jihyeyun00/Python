{
 "cells": [
  {
   "cell_type": "code",
   "execution_count": 6,
   "metadata": {},
   "outputs": [
    {
     "name": "stdout",
     "output_type": "stream",
     "text": [
      "\n",
      "Item no.: 1 --> Item name = water\n",
      "Evaluating...\n",
      "Starting Download...\n",
      "Image URL: https://lh3.googleusercontent.com/wH5bctbWe3tcsO2-GdyQMS_LIjTvKafu8yg6m20hG5z96HF-XM0VTkEeNQF3IDoJCOJUDDPhOg=w640-h400-e365\n",
      "Invalid or missing image format. Skipping...\n",
      "Image URL: http://www.thefringenews.com/wp-content/uploads/2017/12/s3-us-west-2.amazonaws.comwater-glass-4cb4a1683880f1341eff76b1e40c51de2d40f2d0-1.jpg\n",
      "Completed Image ====> 1.s3-us-west-2.amazonaws.comwater-glass-4cb4a1683880f1341eff76b1e40c51de2d40f2d0-1.jpg\n",
      "Image URL: https://www.water-technology.net/wp-content/uploads/sites/28/2017/11/water-thumb.png\n",
      "Completed Image ====> 2.water-thumb.png\n",
      "Image URL: https://www.ipeg.com/wp-content/uploads/2019/05/water.jpg\n",
      "Completed Image ====> 3.water.jpg\n",
      "Image URL: https://images.agoramedia.com/everydayhealth/gcms/The-Health-Benefits-of-Water-722x406.jpg?width=722\n",
      "Completed Image ====> 4.The-Health-Benefits-of-Water-722x406.jpg\n",
      "Image URL: https://image.shutterstock.com/image-photo/water-splash-isolated-on-white-260nw-527497447.jpg\n",
      "Completed Image ====> 5.water-splash-isolated-on-white-260nw-527497447.jpg\n",
      "Image URL: https://gowaterpilot.com/wp-content/uploads/2018/07/Water-Pilot-Slide-1.jpg\n",
      "Completed Image ====> 6.Water-Pilot-Slide-1.jpg\n",
      "Image URL: http://korea-water.com/media/cache/8a/18/8a18bee89f36795418f353536854a283.png\n",
      "Completed Image ====> 7.8a18bee89f36795418f353536854a283.png\n",
      "Image URL: http://basketell.com/wp-content/uploads/2019/06/136106_Two-forms-of-water.jpg\n",
      "Completed Image ====> 8.136106_Two-forms-of-water.jpg\n",
      "Image URL: http://fundsforlife.ch/wp-content/uploads/2018/06/water-blog.jpg\n",
      "IOError on an image...trying next one... Error: [WinError 10054] 현재 연결은 원격 호스트에 의해 강제로 끊겼습니다\n",
      "Image URL: http://hsd-water.com/uploads/sites/9/2019/08/HSD-Water-water-disinfection-without-precursor2.jpg\n",
      "Completed Image ====> 9.HSD-Water-water-disinfection-without-precursor2.jpg\n",
      "Image URL: https://www.gecoso.com/wp-content/uploads/2018/12/drinking-bottled-water.jpg\n",
      "Completed Image ====> 10.drinking-bottled-water.jpg\n",
      "\n",
      "Errors: 2\n",
      "\n",
      "({'water': ['C:\\\\Users\\\\ICT01_15\\\\Documents\\\\jeju\\\\Python\\\\image\\\\물\\\\1.s3-us-west-2.amazonaws.comwater-glass-4cb4a1683880f1341eff76b1e40c51de2d40f2d0-1.jpg', 'C:\\\\Users\\\\ICT01_15\\\\Documents\\\\jeju\\\\Python\\\\image\\\\물\\\\2.water-thumb.png', 'C:\\\\Users\\\\ICT01_15\\\\Documents\\\\jeju\\\\Python\\\\image\\\\물\\\\3.water.jpg', 'C:\\\\Users\\\\ICT01_15\\\\Documents\\\\jeju\\\\Python\\\\image\\\\물\\\\4.The-Health-Benefits-of-Water-722x406.jpg', 'C:\\\\Users\\\\ICT01_15\\\\Documents\\\\jeju\\\\Python\\\\image\\\\물\\\\5.water-splash-isolated-on-white-260nw-527497447.jpg', 'C:\\\\Users\\\\ICT01_15\\\\Documents\\\\jeju\\\\Python\\\\image\\\\물\\\\6.Water-Pilot-Slide-1.jpg', 'C:\\\\Users\\\\ICT01_15\\\\Documents\\\\jeju\\\\Python\\\\image\\\\물\\\\7.8a18bee89f36795418f353536854a283.png', 'C:\\\\Users\\\\ICT01_15\\\\Documents\\\\jeju\\\\Python\\\\image\\\\물\\\\8.136106_Two-forms-of-water.jpg', 'C:\\\\Users\\\\ICT01_15\\\\Documents\\\\jeju\\\\Python\\\\image\\\\물\\\\9.HSD-Water-water-disinfection-without-precursor2.jpg', 'C:\\\\Users\\\\ICT01_15\\\\Documents\\\\jeju\\\\Python\\\\image\\\\물\\\\10.drinking-bottled-water.jpg']}, 2)\n"
     ]
    }
   ],
   "source": [
    "\n",
    "from google_images_download import google_images_download as gd\n",
    "\n",
    "import ssl\n",
    "ssl._create_default_https_context = ssl._create_unverified_context\n",
    "\n",
    "def imageCrawling(keyword, dir):\n",
    "    reaponse = gd.googleimagesdownload()\n",
    "    \n",
    "    arguments = {'keywords': keyword,\n",
    "                'limit':10,\n",
    "                'print_urls':True,\n",
    "                'no_directory':True,\n",
    "                'output_directory' : dir}\n",
    "    paths = reaponse.download(arguments)\n",
    "    print(paths)\n",
    "    \n",
    "imageCrawling('water','./image/물/')"
   ]
  }
 ],
 "metadata": {
  "kernelspec": {
   "display_name": "Python 3",
   "language": "python",
   "name": "python3"
  },
  "language_info": {
   "codemirror_mode": {
    "name": "ipython",
    "version": 3
   },
   "file_extension": ".py",
   "mimetype": "text/x-python",
   "name": "python",
   "nbconvert_exporter": "python",
   "pygments_lexer": "ipython3",
   "version": "3.7.4"
  }
 },
 "nbformat": 4,
 "nbformat_minor": 2
}
