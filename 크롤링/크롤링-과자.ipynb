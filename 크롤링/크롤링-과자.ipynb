{
 "cells": [
  {
   "cell_type": "code",
   "execution_count": 1,
   "metadata": {},
   "outputs": [
    {
     "name": "stdout",
     "output_type": "stream",
     "text": [
      "접속중\n"
     ]
    },
    {
     "name": "stderr",
     "output_type": "stream",
     "text": [
      "100%|███████████████████████████████████████████████████████████████████████████████| 150/150 [00:00<00:00, 153.22it/s]\n"
     ]
    },
    {
     "name": "stdout",
     "output_type": "stream",
     "text": [
      "수집완료\n",
      "폴더생성\n",
      "다운로드중\n"
     ]
    },
    {
     "name": "stderr",
     "output_type": "stream",
     "text": [
      "100it [01:13,  1.36it/s]\n"
     ]
    },
    {
     "name": "stdout",
     "output_type": "stream",
     "text": [
      "다운로드 완료\n"
     ]
    }
   ],
   "source": [
    "from selenium import webdriver\n",
    "from selenium.webdriver.common.keys import Keys\n",
    "import time\n",
    "from tqdm import tqdm\n",
    "\n",
    "\n",
    "# 키워드 입력\n",
    "keyword = \"과자\"\n",
    "\n",
    "# 웹접속 - 네이버 이미지 접속\n",
    "# 79.0.3945.36 / chrome version\n",
    "print(\"접속중\")\n",
    "driver = webdriver.Chrome(executable_path=\"./chromedriver.exe\")\n",
    "driver.implicitly_wait(30)\n",
    "\n",
    "url = 'https://search.naver.com/search.naver?where=image&sm=tab_jum&query={}'.format(keyword)\n",
    "driver.get(url)\n",
    "# 페이지 스크롤 다운\n",
    "body = driver.find_element_by_css_selector('body')\n",
    "for i in range(3):\n",
    "    body.send_keys(Keys.PAGE_DOWN)\n",
    "    time.sleep(1)\n",
    "\n",
    "# 이미지 링크 수집\n",
    "imgs = driver.find_elements_by_css_selector('img._img')\n",
    "result = []\n",
    "for img in tqdm(imgs):\n",
    "    if 'http' in img.get_attribute('src'):\n",
    "        result.append(img.get_attribute('src'))\n",
    "# print(result)\n",
    "\n",
    "driver.close()\n",
    "print('수집완료')\n",
    "\n",
    "# 파일 저장\n",
    "import os\n",
    "if not os.path.isdir('./{}'.format(keyword)):\n",
    "    print('폴더생성')\n",
    "    os.mkdir('./{}'.format(keyword))\n",
    "\n",
    "# 다운로드\n",
    "from urllib.request import urlretrieve\n",
    "\n",
    "print(\"다운로드중\")\n",
    "for index, link in tqdm(enumerate(result)):\n",
    "    start = link.rfind('.')\n",
    "    end = link.rfind('&')\n",
    "    # print(link[start:end])\n",
    "    filetype = link[start:end]\n",
    "    if filetype == '.jpg':  # jpg 만 다운\n",
    "        urlretrieve(link, './{}/{}{}{}'.format(keyword, keyword, index, filetype))\n",
    "        time.sleep(1)\n",
    "print(\"다운로드 완료\")\n",
    "\n",
    "# import zipfile\n",
    "# zip_file = zipfile.Zipfile('./{}.zip'.format(keyword),'w')\n",
    "# # 이 폴더안에 파일 가져오는거\n",
    "# for image in tqdm(os.listdir('./{}'.format(keyword))):\n",
    "#     zip_file.write('./{}/{}'.format(keyword,image), compress_type=zip_file.ZIP_DEFLATED)\n",
    "# zip_file.close()\n",
    "# print(\"압축완료\")\n"
   ]
  }
 ],
 "metadata": {
  "kernelspec": {
   "display_name": "Python 3",
   "language": "python",
   "name": "python3"
  },
  "language_info": {
   "codemirror_mode": {
    "name": "ipython",
    "version": 3
   },
   "file_extension": ".py",
   "mimetype": "text/x-python",
   "name": "python",
   "nbconvert_exporter": "python",
   "pygments_lexer": "ipython3",
   "version": "3.7.4"
  }
 },
 "nbformat": 4,
 "nbformat_minor": 2
}
