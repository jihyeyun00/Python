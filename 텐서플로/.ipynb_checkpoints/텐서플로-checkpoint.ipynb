{
 "cells": [
  {
   "cell_type": "code",
   "execution_count": 1,
   "metadata": {},
   "outputs": [
    {
     "name": "stderr",
     "output_type": "stream",
     "text": [
      "C:\\Users\\ICT01_07\\Anaconda\\envs\\tf_test\\lib\\site-packages\\tensorflow\\python\\framework\\dtypes.py:516: FutureWarning: Passing (type, 1) or '1type' as a synonym of type is deprecated; in a future version of numpy, it will be understood as (type, (1,)) / '(1,)type'.\n",
      "  _np_qint8 = np.dtype([(\"qint8\", np.int8, 1)])\n",
      "C:\\Users\\ICT01_07\\Anaconda\\envs\\tf_test\\lib\\site-packages\\tensorflow\\python\\framework\\dtypes.py:517: FutureWarning: Passing (type, 1) or '1type' as a synonym of type is deprecated; in a future version of numpy, it will be understood as (type, (1,)) / '(1,)type'.\n",
      "  _np_quint8 = np.dtype([(\"quint8\", np.uint8, 1)])\n",
      "C:\\Users\\ICT01_07\\Anaconda\\envs\\tf_test\\lib\\site-packages\\tensorflow\\python\\framework\\dtypes.py:518: FutureWarning: Passing (type, 1) or '1type' as a synonym of type is deprecated; in a future version of numpy, it will be understood as (type, (1,)) / '(1,)type'.\n",
      "  _np_qint16 = np.dtype([(\"qint16\", np.int16, 1)])\n",
      "C:\\Users\\ICT01_07\\Anaconda\\envs\\tf_test\\lib\\site-packages\\tensorflow\\python\\framework\\dtypes.py:519: FutureWarning: Passing (type, 1) or '1type' as a synonym of type is deprecated; in a future version of numpy, it will be understood as (type, (1,)) / '(1,)type'.\n",
      "  _np_quint16 = np.dtype([(\"quint16\", np.uint16, 1)])\n",
      "C:\\Users\\ICT01_07\\Anaconda\\envs\\tf_test\\lib\\site-packages\\tensorflow\\python\\framework\\dtypes.py:520: FutureWarning: Passing (type, 1) or '1type' as a synonym of type is deprecated; in a future version of numpy, it will be understood as (type, (1,)) / '(1,)type'.\n",
      "  _np_qint32 = np.dtype([(\"qint32\", np.int32, 1)])\n",
      "C:\\Users\\ICT01_07\\Anaconda\\envs\\tf_test\\lib\\site-packages\\tensorflow\\python\\framework\\dtypes.py:525: FutureWarning: Passing (type, 1) or '1type' as a synonym of type is deprecated; in a future version of numpy, it will be understood as (type, (1,)) / '(1,)type'.\n",
      "  np_resource = np.dtype([(\"resource\", np.ubyte, 1)])\n"
     ]
    },
    {
     "name": "stdout",
     "output_type": "stream",
     "text": [
      "1.14.0\n"
     ]
    },
    {
     "name": "stderr",
     "output_type": "stream",
     "text": [
      "C:\\Users\\ICT01_07\\Anaconda\\envs\\tf_test\\lib\\site-packages\\tensorboard\\compat\\tensorflow_stub\\dtypes.py:541: FutureWarning: Passing (type, 1) or '1type' as a synonym of type is deprecated; in a future version of numpy, it will be understood as (type, (1,)) / '(1,)type'.\n",
      "  _np_qint8 = np.dtype([(\"qint8\", np.int8, 1)])\n",
      "C:\\Users\\ICT01_07\\Anaconda\\envs\\tf_test\\lib\\site-packages\\tensorboard\\compat\\tensorflow_stub\\dtypes.py:542: FutureWarning: Passing (type, 1) or '1type' as a synonym of type is deprecated; in a future version of numpy, it will be understood as (type, (1,)) / '(1,)type'.\n",
      "  _np_quint8 = np.dtype([(\"quint8\", np.uint8, 1)])\n",
      "C:\\Users\\ICT01_07\\Anaconda\\envs\\tf_test\\lib\\site-packages\\tensorboard\\compat\\tensorflow_stub\\dtypes.py:543: FutureWarning: Passing (type, 1) or '1type' as a synonym of type is deprecated; in a future version of numpy, it will be understood as (type, (1,)) / '(1,)type'.\n",
      "  _np_qint16 = np.dtype([(\"qint16\", np.int16, 1)])\n",
      "C:\\Users\\ICT01_07\\Anaconda\\envs\\tf_test\\lib\\site-packages\\tensorboard\\compat\\tensorflow_stub\\dtypes.py:544: FutureWarning: Passing (type, 1) or '1type' as a synonym of type is deprecated; in a future version of numpy, it will be understood as (type, (1,)) / '(1,)type'.\n",
      "  _np_quint16 = np.dtype([(\"quint16\", np.uint16, 1)])\n",
      "C:\\Users\\ICT01_07\\Anaconda\\envs\\tf_test\\lib\\site-packages\\tensorboard\\compat\\tensorflow_stub\\dtypes.py:545: FutureWarning: Passing (type, 1) or '1type' as a synonym of type is deprecated; in a future version of numpy, it will be understood as (type, (1,)) / '(1,)type'.\n",
      "  _np_qint32 = np.dtype([(\"qint32\", np.int32, 1)])\n",
      "C:\\Users\\ICT01_07\\Anaconda\\envs\\tf_test\\lib\\site-packages\\tensorboard\\compat\\tensorflow_stub\\dtypes.py:550: FutureWarning: Passing (type, 1) or '1type' as a synonym of type is deprecated; in a future version of numpy, it will be understood as (type, (1,)) / '(1,)type'.\n",
      "  np_resource = np.dtype([(\"resource\", np.ubyte, 1)])\n"
     ]
    }
   ],
   "source": [
    "import tensorflow as tf\n",
    "print(tf.__version__)"
   ]
  },
  {
   "cell_type": "code",
   "execution_count": 3,
   "metadata": {},
   "outputs": [
    {
     "name": "stdout",
     "output_type": "stream",
     "text": [
      "b'Hello, TensorFlow!'\n",
      "Tensor(\"Const_1:0\", shape=(), dtype=string)\n"
     ]
    }
   ],
   "source": [
    "#데이터타입\n",
    "hello=tf.constant('Hello, TensorFlow!') \n",
    "\n",
    "#tensorflow :constant, vafiables, placeholder\n",
    "sess=tf.Session() \n",
    "print(sess.run(hello))#tensorflow 의데이터는 직접 확인이 불가\n",
    "print(hello) "
   ]
  },
  {
   "cell_type": "code",
   "execution_count": 4,
   "metadata": {},
   "outputs": [
    {
     "name": "stdout",
     "output_type": "stream",
     "text": [
      "<tf.Variable 'y:0' shape=() dtype=int32_ref>\n"
     ]
    }
   ],
   "source": [
    "#메모리 값만 저장되고 위치는 저장되지 않음\n",
    "\n",
    "x=tf.constant(35,name=\"x\") #변수가 있는데 이름을 주는 이유: 모델의 그래프 구조 확인, 모델을 그대로 저장(가중치저장)할때 메모리 위치를 확인하기 위해\n",
    "y=tf.Variable(x+5,name='y') #변수가 있는 경우_반드시 초기화,이름이 바뀌어도 됌\n",
    "print(y)"
   ]
  },
  {
   "cell_type": "code",
   "execution_count": 5,
   "metadata": {},
   "outputs": [
    {
     "name": "stdout",
     "output_type": "stream",
     "text": [
      "40\n"
     ]
    }
   ],
   "source": [
    "model=tf.global_variables_initializer() #변수초기화 시켜줘야 함\n",
    "\n",
    "#######################################여기까지가 모델을 만드는 과정 이하는 학습과정\n",
    "with tf.Session() as session:\n",
    "    session.run(model)\n",
    "    print (session.run(y))"
   ]
  },
  {
   "cell_type": "code",
   "execution_count": 7,
   "metadata": {},
   "outputs": [
    {
     "name": "stdout",
     "output_type": "stream",
     "text": [
      "[2 4 6]\n"
     ]
    }
   ],
   "source": [
    "#판다스에서 데이터 초기화(list, dict) #요소끼리 계산(행렬연산x 배열연산)\n",
    "a=tf.constant([1,2,3],name='a') #GPU공간\n",
    "b=tf.constant([1,2,3],name='b')\n",
    "add_op=a+b\n",
    "\n",
    "with tf.Session() as session:\n",
    "    print(session.run(add_op))"
   ]
  },
  {
   "cell_type": "code",
   "execution_count": 9,
   "metadata": {},
   "outputs": [],
   "source": [
    "#자료구조가 그래프로 형성 -골격(구조) 형성\n",
    "a=tf.placeholder(tf.int16) #데이터없이 공간만확보\n",
    "b=tf.placeholder(tf.int16)\n",
    "add=tf.add(a,b)\n",
    "mul=tf.multiply(a,b)\n",
    "total=tf.multiply(add,mul)"
   ]
  },
  {
   "cell_type": "code",
   "execution_count": 11,
   "metadata": {},
   "outputs": [
    {
     "name": "stdout",
     "output_type": "stream",
     "text": [
      "feed 변수곱: 30\n"
     ]
    }
   ],
   "source": [
    "#with 로 하면 좋은점: with 가 끝나면 자동으로 없어짐\n",
    "with tf.Session() as sess: \n",
    "    print('feed 변수합: %i' % sess.run(add,feed_dict={a: 2,b:3}))\n",
    "    print('feed 변수곱: %i' % sess.run(mul,feed_dict={a: 2,b:3}))\n",
    "    print('feed 변수곱: %i' % sess.run(total,feed_dict={a: 2,b:3})) #위의 계산식이 없어도 나옴 "
   ]
  },
  {
   "cell_type": "code",
   "execution_count": 16,
   "metadata": {},
   "outputs": [
    {
     "name": "stdout",
     "output_type": "stream",
     "text": [
      "[[12.]]\n"
     ]
    }
   ],
   "source": [
    "matrix1=tf.constant([[3.,3.]]) #1x2\n",
    "matrix2=tf.constant([[2.],[2.]]) #2x1=>1x1\n",
    "product=tf.matmul(matrix1,matrix2) #matrix multiply\n",
    "\n",
    "with tf.Session() as sess: #실행부\n",
    "    result=sess.run(product)\n",
    "    print(result)"
   ]
  },
  {
   "cell_type": "code",
   "execution_count": 61,
   "metadata": {},
   "outputs": [],
   "source": [
    "zeros=tf.zeros([2,2])#0\n",
    "ones=tf.ones([6])#1\n",
    "\n",
    "#균등분포\n",
    "uniform=tf.random_uniform([3,3,3],minval=0.0,maxval=10)\n",
    "\n",
    "#정규분포\n",
    "normal=tf.random_normal([3,3,3],mean=0.0,stddev=2.0)\n",
    "\n",
    "#표준편차 2배내의 것으로 초기화\n",
    "trunc=tf.truncated_normal([2,2],mean=5.0,stddev=1.0)\n",
    "random_var=tf.Variable(tf.truncated_normal([2,2]))"
   ]
  },
  {
   "cell_type": "code",
   "execution_count": 63,
   "metadata": {},
   "outputs": [
    {
     "name": "stdout",
     "output_type": "stream",
     "text": [
      "[[3.2127972 4.764406 ]\n",
      " [5.460865  4.732747 ]]\n",
      "변수초기화 [[ 0.1492053   0.56155723]\n",
      " [-0.00883962  0.5727945 ]]\n"
     ]
    }
   ],
   "source": [
    "sess=tf.Session() #세션을 만들고\n",
    "print(sess.run(trunc))   # trunc는 session 만 하면 됨\n",
    "\n",
    "\n",
    "init=tf.global_variables_initializer() #초기화 아래 4줄이 세트 \n",
    "with tf.Session() as session:          #vaiable은 with 과정을 해줘야 함 '변수가 있는 경우 반드시 초기화!!1'\n",
    "    sess.run(init)\n",
    "print('변수초기화',sess.run(random_var)) "
   ]
  },
  {
   "cell_type": "code",
   "execution_count": 22,
   "metadata": {},
   "outputs": [
    {
     "name": "stdout",
     "output_type": "stream",
     "text": [
      "<class 'tensorflow.python.framework.tensor_shape.TensorShape'>\n",
      "(6, 2)\n",
      "(2, 6)\n"
     ]
    }
   ],
   "source": [
    "import tensorflow as tf\n",
    "my_tensor=tf.constant(0,shape=[6,2]) #0으로 초기화하고 shape를 6x2 의행렬이 만들어지고=>상수화\n",
    "my_static_shape=my_tensor.get_shape()\n",
    "print(type(my_static_shape))\n",
    "print(my_static_shape) #내용은 run으로 ,차수는 get_shape 함수로\n",
    "\n",
    "my_tensor_transposed=tf.transpose(my_tensor) #전치\n",
    "print(my_tensor_transposed.get_shape())"
   ]
  },
  {
   "cell_type": "code",
   "execution_count": 25,
   "metadata": {},
   "outputs": [
    {
     "name": "stdout",
     "output_type": "stream",
     "text": [
      "[0. 0.]\n"
     ]
    },
    {
     "name": "stderr",
     "output_type": "stream",
     "text": [
      "C:\\Users\\ICT01_07\\Anaconda\\envs\\tf_test\\lib\\site-packages\\tensorflow\\python\\client\\session.py:1735: UserWarning: An interactive session is already active. This can cause out-of-memory errors in some cases. You must explicitly call `InteractiveSession.close()` to release resources held by the other session(s).\n",
      "  warnings.warn('An interactive session is already active. This can '\n"
     ]
    }
   ],
   "source": [
    "tf.InteractiveSession() #대화형 세션\n",
    "tf.zeros(2)\n",
    "a=tf.zeros(2)\n",
    "print(a.eval()) #run 쓰지 않아도 됌"
   ]
  },
  {
   "cell_type": "code",
   "execution_count": 135,
   "metadata": {},
   "outputs": [],
   "source": [
    "def showvalue(t):\n",
    "    sess=tf.InteractiveSession()\n",
    "    tf.global_variables_initializer().run()\n",
    "    print(t.eval())\n",
    "    sess.close()"
   ]
  },
  {
   "cell_type": "code",
   "execution_count": 136,
   "metadata": {},
   "outputs": [
    {
     "name": "stdout",
     "output_type": "stream",
     "text": [
      "[ 3.5 10.1]\n",
      "[-8  5 17]\n"
     ]
    },
    {
     "name": "stderr",
     "output_type": "stream",
     "text": [
      "C:\\Users\\ICT01_07\\Anaconda\\envs\\tf_test\\lib\\site-packages\\tensorflow\\python\\client\\session.py:1735: UserWarning: An interactive session is already active. This can cause out-of-memory errors in some cases. You must explicitly call `InteractiveSession.close()` to release resources held by the other session(s).\n",
      "  warnings.warn('An interactive session is already active. This can '\n"
     ]
    }
   ],
   "source": [
    "c2,c3=tf.constant([1.2,5.6]),tf.constant([-4,-1,7])\n",
    "v2,v3=tf.Variable([2.3,4.5]),tf.Variable([-2,3,5])\n",
    "showvalue(tf.add_n([c2,v2]))\n",
    "showvalue(tf.add_n([c3,v3,v3])) #여러개가 가능하도록"
   ]
  },
  {
   "cell_type": "code",
   "execution_count": 137,
   "metadata": {},
   "outputs": [
    {
     "name": "stdout",
     "output_type": "stream",
     "text": [
      "[[ 2.  1.  1.]\n",
      " [ 4.  3.  4.]\n",
      " [-4.  2.  2.]]\n",
      "[[ 1.]\n",
      " [ 2.]\n",
      " [-6.]]\n"
     ]
    }
   ],
   "source": [
    "#2x +y +z =1\n",
    "#4x +3y +4z =2\n",
    "#-4x +2y +2z =-6\n",
    "#A dot x =[1, 2, -6] #행렬나누기 =>역행렬\n",
    "#      y\n",
    "#      z\n",
    "\n",
    "#3x3 3x1=>3x1\n",
    "\n",
    "sess=tf.Session()\n",
    "x=tf.constant([2.0, 1.0, 1.0, 4, 3, 4, -4, 2, 2], shape=[3,3])\n",
    "print(sess.run(x))\n",
    "y=tf.constant([1.0, 2, -6], shape=[3,1])\n",
    "print(sess.run(y))"
   ]
  },
  {
   "cell_type": "code",
   "execution_count": 138,
   "metadata": {},
   "outputs": [
    {
     "name": "stdout",
     "output_type": "stream",
     "text": [
      "계수: [[ 1.0000001]\n",
      " [-2.0000002]\n",
      " [ 1.0000001]]\n",
      "[[ 1.0000001]\n",
      " [-2.0000002]\n",
      " [ 1.0000001]]\n"
     ]
    },
    {
     "data": {
      "text/plain": [
       "1"
      ]
     },
     "execution_count": 138,
     "metadata": {},
     "output_type": "execute_result"
    }
   ],
   "source": [
    "z=tf.matrix_solve(x,y)\n",
    "result=sess.run(z)\n",
    "print('계수:',result)\n",
    "print(sess.run(z))\n",
    "\n",
    "#1, -2, 1\n",
    "\n",
    "2*1 + (-2) +1"
   ]
  },
  {
   "cell_type": "code",
   "execution_count": 139,
   "metadata": {},
   "outputs": [
    {
     "name": "stdout",
     "output_type": "stream",
     "text": [
      "[1.0000001]\n",
      "\n",
      "[[ 1.0000001]\n",
      " [ 2.       ]\n",
      " [-6.000001 ]]\n"
     ]
    }
   ],
   "source": [
    "print(2.0 *result[0] +1.0 *result[1] +1.0 *result[2])\n",
    "print()\n",
    "print(sess.run(tf.matmul(x,z)))"
   ]
  },
  {
   "cell_type": "code",
   "execution_count": 140,
   "metadata": {},
   "outputs": [
    {
     "name": "stdout",
     "output_type": "stream",
     "text": [
      "해: [[ 1.0000002]\n",
      " [-2.0000005]\n",
      " [ 1.0000002]]\n"
     ]
    }
   ],
   "source": [
    "x_1=tf.matrix_inverse(x)  #matrix_solve (역행렬)을 구하고 \n",
    "z=tf.matmul(x_1,y)        #y 를 곱한것\n",
    "print('해:',sess.run(z))"
   ]
  },
  {
   "cell_type": "code",
   "execution_count": 141,
   "metadata": {},
   "outputs": [
    {
     "name": "stdout",
     "output_type": "stream",
     "text": [
      "[9.508034   0.77286935]\n",
      "[[-0.38631773 -0.92236584]\n",
      " [-0.92236584  0.38631773]]\n",
      "[[-0.42866713  0.8059641 ]\n",
      " [-0.56630695  0.1123824 ]\n",
      " [-0.70394677 -0.58119917]]\n"
     ]
    }
   ],
   "source": [
    "#s, u, v 특이행렬 분해(singular value decomposition ) :앞뒤 차수, 즉 행렬이 다를때 \n",
    "#PCA 할때 - 고유값 분해 (eigenvalue + eigenvector :정방행렬)\n",
    "a=tf.constant([1,2,3,4,5,6],shape=[2,3]) #2x3 으로 행렬이 다를때 쓰는게 특이행렬 분해\n",
    "a=tf.to_float(a)\n",
    "\n",
    "#행과 열의 특징을 별도로 뽑음\n",
    "\n",
    "#정방행렬:앞의 행렬과 맨 뒤의 행렬이 정방행렬로 나옴 \n",
    "#truncate: s가 매개 역할 \n",
    "\n",
    "s,u,v=tf.svd(a)  #3개로 나눠준다.(singular value) u(2x2), s(1x2), v(3x2) \n",
    "print(sess.run(s))\n",
    "print(sess.run(u))\n",
    "print(sess.run(v))"
   ]
  },
  {
   "cell_type": "code",
   "execution_count": 142,
   "metadata": {},
   "outputs": [
    {
     "name": "stdout",
     "output_type": "stream",
     "text": [
      "[[1 0 0 0]\n",
      " [0 2 0 0]\n",
      " [0 0 3 0]\n",
      " [0 0 0 4]]\n"
     ]
    }
   ],
   "source": [
    "diagonal=[1,2,3,4]\n",
    "dia=tf.diag(diagonal) #대각행렬을 만들어줌 -one hot encoding 때 많이 씀 \n",
    "print(sess.run(dia))"
   ]
  },
  {
   "cell_type": "code",
   "execution_count": 143,
   "metadata": {},
   "outputs": [
    {
     "name": "stdout",
     "output_type": "stream",
     "text": [
      "[1 2 3 4]\n",
      "10\n"
     ]
    }
   ],
   "source": [
    "print(sess.run(tf.diag_part(dia))) #요소만 뽑아줌\n",
    "print(sess.run(tf.trace(dia))) ## 요소의 값을 더해줌\n"
   ]
  },
  {
   "cell_type": "code",
   "execution_count": 144,
   "metadata": {},
   "outputs": [
    {
     "data": {
      "text/plain": [
       "array([[ 58,  64],\n",
       "       [139, 154]])"
      ]
     },
     "execution_count": 144,
     "metadata": {},
     "output_type": "execute_result"
    }
   ],
   "source": [
    "import numpy as np\n",
    "a=tf.constant([1,2,3,4,5,6],shape=[2,3])\n",
    "b=tf.constant([7,8,9,10,11,12],shape=[3,2])\n",
    "c=tf.matmul(a,b)\n",
    "sess.run(c) #2x2"
   ]
  },
  {
   "cell_type": "code",
   "execution_count": 145,
   "metadata": {},
   "outputs": [
    {
     "name": "stdout",
     "output_type": "stream",
     "text": [
      "[[[ 1  2  3]\n",
      "  [ 4  5  6]]\n",
      "\n",
      " [[ 7  8  9]\n",
      "  [10 11 12]]]\n",
      "\n",
      "[[[13 14]\n",
      "  [15 16]\n",
      "  [17 18]]\n",
      "\n",
      " [[19 20]\n",
      "  [21 22]\n",
      "  [23 24]]]\n"
     ]
    },
    {
     "data": {
      "text/plain": [
       "array([[[ 94, 100],\n",
       "        [229, 244]],\n",
       "\n",
       "       [[508, 532],\n",
       "        [697, 730]]])"
      ]
     },
     "execution_count": 145,
     "metadata": {},
     "output_type": "execute_result"
    }
   ],
   "source": [
    "#행렬: 맨 뒤에 차수의 행과열을 확인하고 앞의 것은 개수, 어떻게 층을 이루고 있는가\n",
    "a=tf.constant(np.arange(1,13,dtype=np.int32),shape=[2,2,3]) #뒤에 2,3 , 행렬을 중심하고 데이터를 표현 ,2행 3열이 2개 \n",
    "print(sess.run(a))\n",
    "print()\n",
    "b=tf.constant(np.arange(13,25,dtype=np.int32),shape=[2,3,2]) #뒤에 3,2 ,3행 2열이 2개 \n",
    "print(sess.run(b))\n",
    "c=tf.matmul(a,b)\n",
    "sess.run(c)\n"
   ]
  },
  {
   "cell_type": "code",
   "execution_count": 146,
   "metadata": {},
   "outputs": [
    {
     "name": "stdout",
     "output_type": "stream",
     "text": [
      "[[[[ 1  2  3]\n",
      "   [ 4  5  6]]\n",
      "\n",
      "  [[ 7  8  9]\n",
      "   [10 11 12]]]\n",
      "\n",
      "\n",
      " [[[13 14 15]\n",
      "   [16 17 18]]\n",
      "\n",
      "  [[19 20 21]\n",
      "   [22 23 24]]]]\n",
      "\n",
      "[[[[25 26]\n",
      "   [27 28]\n",
      "   [29 30]]\n",
      "\n",
      "  [[31 32]\n",
      "   [33 34]\n",
      "   [35 36]]]\n",
      "\n",
      "\n",
      " [[[37 38]\n",
      "   [39 40]\n",
      "   [41 42]]\n",
      "\n",
      "  [[43 44]\n",
      "   [45 46]\n",
      "   [47 48]]]]\n"
     ]
    },
    {
     "data": {
      "text/plain": [
       "array([[[[ 166,  172],\n",
       "         [ 409,  424]],\n",
       "\n",
       "        [[ 796,  820],\n",
       "         [1093, 1126]]],\n",
       "\n",
       "\n",
       "       [[[1642, 1684],\n",
       "         [1993, 2044]],\n",
       "\n",
       "        [[2704, 2764],\n",
       "         [3109, 3178]]]])"
      ]
     },
     "execution_count": 146,
     "metadata": {},
     "output_type": "execute_result"
    }
   ],
   "source": [
    "a=tf.constant(np.arange(1,25,dtype=np.int32),shape=[2,2,2,3]) #뒤에 2,3 , 행렬을 중심하고 데이터를 표현 ,2행 3열이 2x2개 \n",
    "print(sess.run(a))\n",
    "print()\n",
    "b=tf.constant(np.arange(25,49,dtype=np.int32),shape=[2,2,3,2]) #뒤에 3,2 ,3행 2열이 2x2개 \n",
    "print(sess.run(b))\n",
    "c=tf.matmul(a,b)\n",
    "sess.run(c)  #2행 2열 이 4개 \n"
   ]
  },
  {
   "cell_type": "code",
   "execution_count": 147,
   "metadata": {},
   "outputs": [
    {
     "name": "stdout",
     "output_type": "stream",
     "text": [
      "[[[[  14   32]\n",
      "   [  32   77]]\n",
      "\n",
      "  [[ 194  266]\n",
      "   [ 266  365]]]\n",
      "\n",
      "\n",
      " [[[ 590  716]\n",
      "   [ 716  869]]\n",
      "\n",
      "  [[1202 1382]\n",
      "   [1382 1589]]]]\n"
     ]
    }
   ],
   "source": [
    "#a를 제곱한다면 :자기 자신을 제곱하려면 전치!!\n",
    "d=tf.matmul(a,tf.transpose(a,perm=[0,1,3,2])) #뒤에 3,2를 바꿔주면됨\n",
    "print(sess.run(d))\n"
   ]
  },
  {
   "cell_type": "code",
   "execution_count": 148,
   "metadata": {},
   "outputs": [
    {
     "data": {
      "text/plain": [
       "<tf.Tensor 'MatMul_6:0' shape=(2, 2, 2, 2) dtype=int32>"
      ]
     },
     "execution_count": 148,
     "metadata": {},
     "output_type": "execute_result"
    }
   ],
   "source": [
    "#또는 \n",
    "tf.matmul(a,a,transpose_b=True) #전치해서 자기 제곱"
   ]
  },
  {
   "cell_type": "code",
   "execution_count": 149,
   "metadata": {},
   "outputs": [
    {
     "name": "stdout",
     "output_type": "stream",
     "text": [
      "[2 2 3]\n"
     ]
    },
    {
     "data": {
      "text/plain": [
       "array([[[ 1,  7],\n",
       "        [ 4, 10]],\n",
       "\n",
       "       [[ 2,  8],\n",
       "        [ 5, 11]],\n",
       "\n",
       "       [[ 3,  9],\n",
       "        [ 6, 12]]])"
      ]
     },
     "execution_count": 149,
     "metadata": {},
     "output_type": "execute_result"
    }
   ],
   "source": [
    "                          #0,1,2\n",
    "x=tf.constant([[[1,2,3],  #2x2x3 =>제곱이 되려면 2x3x2 가 되면(인덱스 순서 0 2 1) \n",
    "              [4,5,6]],\n",
    "              [[7,8,9],\n",
    "              [10,11,12]]])\n",
    "print(sess.run(tf.shape(x)))\n",
    "sess.run(tf.transpose(x)) #3x2x2 :#디폴트 2 1 0"
   ]
  },
  {
   "cell_type": "code",
   "execution_count": 150,
   "metadata": {},
   "outputs": [
    {
     "data": {
      "text/plain": [
       "array([[[ 1,  7],\n",
       "        [ 2,  8],\n",
       "        [ 3,  9]],\n",
       "\n",
       "       [[ 4, 10],\n",
       "        [ 5, 11],\n",
       "        [ 6, 12]]])"
      ]
     },
     "execution_count": 150,
     "metadata": {},
     "output_type": "execute_result"
    }
   ],
   "source": [
    "y=tf.transpose(x,perm=[0,2,1])\n",
    "sess.run(tf.transpose(y))"
   ]
  },
  {
   "cell_type": "code",
   "execution_count": 151,
   "metadata": {},
   "outputs": [
    {
     "data": {
      "text/plain": [
       "array([[[ 14,  32],\n",
       "        [ 32,  77]],\n",
       "\n",
       "       [[194, 266],\n",
       "        [266, 365]]])"
      ]
     },
     "execution_count": 151,
     "metadata": {},
     "output_type": "execute_result"
    }
   ],
   "source": [
    "sess.run(tf.matmul(x,tf.transpose(x,perm=[0,2,1])))"
   ]
  },
  {
   "cell_type": "code",
   "execution_count": 152,
   "metadata": {},
   "outputs": [
    {
     "data": {
      "text/plain": [
       "array([[[[[[1]],\n",
       "\n",
       "          [[2]],\n",
       "\n",
       "          [[3]]]],\n",
       "\n",
       "\n",
       "\n",
       "        [[[[4]],\n",
       "\n",
       "          [[5]],\n",
       "\n",
       "          [[6]]]]]])"
      ]
     },
     "execution_count": 152,
     "metadata": {},
     "output_type": "execute_result"
    }
   ],
   "source": [
    "t=[1,2,3,4,5,6] #6차원으로 만들어야 할때\n",
    "t=tf.reshape(t,[1,2,1,3,1,1]) #1은 데이터 개수에 무영향 1행 1열이 3개...\n",
    "sess.run(t)"
   ]
  },
  {
   "cell_type": "code",
   "execution_count": 153,
   "metadata": {},
   "outputs": [
    {
     "name": "stdout",
     "output_type": "stream",
     "text": [
      "t의 차원은 [1 2 1 3 1 1]\n"
     ]
    }
   ],
   "source": [
    "print('t의 차원은',sess.run(tf.shape(t)))"
   ]
  },
  {
   "cell_type": "code",
   "execution_count": 154,
   "metadata": {},
   "outputs": [
    {
     "name": "stdout",
     "output_type": "stream",
     "text": [
      "차원의 수를 축소할때 [2 3]\n"
     ]
    }
   ],
   "source": [
    "print('차원의 수를 축소할때',sess.run(tf.shape(tf.squeeze(t)))) #1이 모두 없어짐 2x3으로 축소됨"
   ]
  },
  {
   "cell_type": "code",
   "execution_count": 155,
   "metadata": {},
   "outputs": [
    {
     "name": "stdout",
     "output_type": "stream",
     "text": [
      "[[ 1  2  3  4  5  6]\n",
      " [ 7  8  9 10 11 12]]\n",
      "\n",
      "[[[ 1  2  3]\n",
      "  [ 4  5  6]]\n",
      "\n",
      " [[ 7  8  9]\n",
      "  [10 11 12]]]\n"
     ]
    }
   ],
   "source": [
    "tensor=[1,2,3,4,5,6,7,8,9,10,11,12]\n",
    "print(sess.run(tf.reshape(tensor,[2,-1])))  #계산으로 채워라 6개가 들어옴\n",
    "print()\n",
    "tf.reshape(tensor,[-1,6])  #2개가 들어옴\n",
    "print(sess.run(tf.reshape(tensor,[2,-1,3]))) #2개가 들어옴 "
   ]
  },
  {
   "cell_type": "code",
   "execution_count": 156,
   "metadata": {},
   "outputs": [
    {
     "name": "stdout",
     "output_type": "stream",
     "text": [
      "Tensor(\"ExpandDims:0\", shape=(1, 1, 2, 1, 3, 1, 1), dtype=int32)\n"
     ]
    }
   ],
   "source": [
    "#t: 원래차원 1,2,1,3  =>1,1,2,1,3,1,1\n",
    "print(tf.expand_dims(t,0)) #차원확대"
   ]
  },
  {
   "cell_type": "code",
   "execution_count": 157,
   "metadata": {},
   "outputs": [
    {
     "name": "stdout",
     "output_type": "stream",
     "text": [
      "[[0 0 0 0 0 0 0]\n",
      " [0 0 1 2 3 0 0]\n",
      " [0 0 4 5 6 0 0]\n",
      " [0 0 0 0 0 0 0]]\n"
     ]
    }
   ],
   "source": [
    "#padding 충전재\n",
    "t=[[1,2,3],[4,5,6]] #2x3=>4x7로 만들어라\n",
    "paddings=[[1,1,],[2,2]] #위아래 왼쪽 오른쪽\n",
    "print(sess.run(tf.pad(t,paddings,\"CONSTANT\")))"
   ]
  },
  {
   "cell_type": "code",
   "execution_count": 158,
   "metadata": {},
   "outputs": [
    {
     "name": "stdout",
     "output_type": "stream",
     "text": [
      "[[5 4 5 6 5]\n",
      " [2 1 2 3 2]\n",
      " [5 4 5 6 5]\n",
      " [2 1 2 3 2]]\n"
     ]
    }
   ],
   "source": [
    "paddings=[[1,1,],[1,1]] #\n",
    "print(sess.run(tf.pad(t,paddings,\"REFLECT\")))"
   ]
  },
  {
   "cell_type": "code",
   "execution_count": 159,
   "metadata": {},
   "outputs": [
    {
     "name": "stdout",
     "output_type": "stream",
     "text": [
      "[[1 1 2 3 3]\n",
      " [1 1 2 3 3]\n",
      " [4 4 5 6 6]\n",
      " [4 4 5 6 6]]\n"
     ]
    }
   ],
   "source": [
    "print(sess.run(tf.pad(t,paddings,\"SYMMETRIC\"))) #??"
   ]
  },
  {
   "cell_type": "markdown",
   "metadata": {},
   "source": [
    "# 다차 방정식의 해\n",
    "무작위 대입법\n",
    "역행렬의 구함 (x,y값이 다 결정되어있을때)\n",
    "입출력 데이터만 있을 때: 계수 결정(가중치 학습을 통해서 학습)\n",
    "\n",
    "데이터(minibatch 후에=>feeding 해준다)->행렬곱 또는 수식 ->loss func ->optimizer ->minimize ->for 반복문 "
   ]
  },
  {
   "cell_type": "code",
   "execution_count": 89,
   "metadata": {},
   "outputs": [
    {
     "data": {
      "text/plain": [
       "100"
      ]
     },
     "execution_count": 89,
     "metadata": {},
     "output_type": "execute_result"
    }
   ],
   "source": [
    "#데이터로 부터 규칙을 발견->분류와 예측을 하기 위해\n",
    "\n",
    "#랜덤으로 데이터를 생성=>minibatch 후에=>feeding 해준다.!!\n",
    "x_data=np.random.rand(100).astype(np.float32)  \n",
    "y_data=x_data*0.1+0.3  #선형방정식으로 만듦, 어떻게 0.1 ,0.3을 알아내느냐 !!!\n",
    "len(y_data)\n"
   ]
  },
  {
   "cell_type": "code",
   "execution_count": 96,
   "metadata": {},
   "outputs": [],
   "source": [
    "#가중치와 bias\n",
    "#설명력\n",
    "#bias 는 activation 활성화 \n",
    "#모든 가중치에는 꼭 바이어스가 한개씩 결합\n",
    "W=tf.Variable(tf.random_uniform([1],-0.1,1.0)) #균등분포\n",
    "b=tf.Variable(tf.zeros([1])) #bias \n",
    "sess=tf.Session() \n",
    "y=W*x_data+b  #예측"
   ]
  },
  {
   "cell_type": "code",
   "execution_count": 97,
   "metadata": {},
   "outputs": [],
   "source": [
    "#loss function -mean square error :mse :2차원인 경우 포물선을 이루고 최적점은 한 개 \n",
    "loss=tf.reduce_mean(tf.square(y-y_data))  #y가 예측값, y_data 가 실제값 reduce 합\n",
    "\n",
    "#GradientDescentOptimizer 경사하강법 \n",
    "#기울기: 미분을 이용해서 기울기가 -면 가중치에 차를 더해주고, 기울기가 +면 가중치에 감하는 연산\n",
    "optimizer=tf.train.GradientDescentOptimizer(0.5) #0.5는 learning rate학습율\n",
    "train=optimizer.minimize(loss)  #loss 를 가장 적게 하는 값을 찾아라"
   ]
  },
  {
   "cell_type": "code",
   "execution_count": 98,
   "metadata": {},
   "outputs": [],
   "source": [
    "init=tf.global_variables_initializer() #session run 하기 전에만 호출해주면됨!! 왜 ? Variable 에 가중치가 들어가기 때문에 \n",
    "sess.run(init)"
   ]
  },
  {
   "cell_type": "code",
   "execution_count": 102,
   "metadata": {},
   "outputs": [
    {
     "name": "stdout",
     "output_type": "stream",
     "text": [
      "0 [0.73156786] [-0.05455677]\n",
      "20 [0.24329709] [0.22436982]\n",
      "40 [0.13206798] [0.28307498]\n",
      "60 [0.10717639] [0.2962124]\n",
      "80 [0.10160598] [0.2991524]\n",
      "100 [0.10035941] [0.29981032]\n",
      "120 [0.10008043] [0.29995757]\n",
      "140 [0.100018] [0.2999905]\n",
      "160 [0.10000403] [0.2999979]\n",
      "180 [0.10000091] [0.29999954]\n",
      "200 [0.1000002] [0.2999999]\n"
     ]
    }
   ],
   "source": [
    "for step in range(201): #200번회전\n",
    "    sess.run(train)\n",
    "    if step % 20==0:       #20번마다 \n",
    "       print(step,sess.run(W),sess.run(b))  #0.1 + 0.3 으로 수렴해"
   ]
  },
  {
   "cell_type": "markdown",
   "metadata": {},
   "source": [
    "# 주입변수로 주입"
   ]
  },
  {
   "cell_type": "code",
   "execution_count": 111,
   "metadata": {},
   "outputs": [
    {
     "name": "stdout",
     "output_type": "stream",
     "text": [
      "0 [0.27973354] [0.27599207]\n",
      "20 [0.13367666] [0.28222594]\n",
      "40 [0.10753639] [0.29602242]\n",
      "60 [0.10168656] [0.29910988]\n",
      "80 [0.10037743] [0.2998008]\n",
      "100 [0.10008448] [0.29995543]\n",
      "120 [0.10001892] [0.29999003]\n",
      "140 [0.10000424] [0.29999778]\n",
      "160 [0.10000096] [0.2999995]\n",
      "180 [0.10000022] [0.2999999]\n",
      "200 [0.1000001] [0.29999995]\n"
     ]
    }
   ],
   "source": [
    "\n",
    "x=tf.placeholder(tf.float32,name='x')\n",
    "y=tf.placeholder(tf.float32)\n",
    "\n",
    "W=tf.Variable(tf.random_uniform([1],-0.1,1.0)) #균등분포\n",
    "b=tf.Variable(tf.zeros([1])) #bias \n",
    "sess=tf.Session() \n",
    "\n",
    "y_model=W*x+b #예측\n",
    "\n",
    "loss=tf.reduce_mean(tf.square(y_model-y)) #y_model 이 예측값\n",
    "optimizer=tf.train.GradientDescentOptimizer(0.5) #0.5는 learning rate학습율\n",
    "train=optimizer.minimize(loss) \n",
    "init=tf.global_variables_initializer() #session run 하기 전에만 호출해주면됨!! 왜 ? Variable 에 가중치가 들어가기 때문에 \n",
    "sess.run(init)\n",
    "\n",
    "for step in range(201): #200번회전\n",
    "    sess.run(train,{x:x_data,y:y_data})\n",
    "    if step % 20==0:       #20번마다 \n",
    "       print(step,sess.run(W),sess.run(b))"
   ]
  },
  {
   "cell_type": "code",
   "execution_count": 112,
   "metadata": {},
   "outputs": [],
   "source": [
    "predicted=sess.run(y_model,{x:[i for i in range(100)]})"
   ]
  },
  {
   "cell_type": "code",
   "execution_count": 113,
   "metadata": {},
   "outputs": [
    {
     "data": {
      "image/png": "[encoded data removed]",
      "text/plain": [
       "<Figure size 432x288 with 1 Axes>"
      ]
     },
     "metadata": {
      "needs_background": "light"
     },
     "output_type": "display_data"
    }
   ],
   "source": [
    "%matplotlib inline\n",
    "import matplotlib.pyplot as plt\n",
    "plt.plot(x_data,y_data,'o',markersize=5)\n",
    "plt.plot(predicted,'r')\n",
    "plt.show()"
   ]
  },
  {
   "cell_type": "code",
   "execution_count": 115,
   "metadata": {},
   "outputs": [],
   "source": [
    "from tensorflow.python.framework import ops\n",
    "import os\n",
    "ops.reset_default_graph()"
   ]
  },
  {
   "cell_type": "code",
   "execution_count": 118,
   "metadata": {},
   "outputs": [
    {
     "name": "stdout",
     "output_type": "stream",
     "text": [
      "[1. 3. 5. 7. 9.]\n",
      "[ 3.  9. 15. 21. 27.]\n",
      "[ 5. 15. 25. 35. 45.]\n",
      "[ 7. 21. 35. 49. 63.]\n",
      "[ 9. 27. 45. 63. 81.]\n"
     ]
    }
   ],
   "source": [
    "sess=tf.Session()\n",
    "x_vals=np.array([1.,3.,5.,7.,9.])\n",
    "y_vals=np.array([1.,3.,5.,7.,9.])\n",
    "x_data=tf.placeholder(tf.float32)\n",
    "y_data=tf.placeholder(tf.float32)\n",
    "m=tf.constant(3.)\n",
    "prod=tf.multiply(x_data,y_data)\n",
    "for x_val in x_vals:\n",
    "    print(sess.run(prod, feed_dict={x_data:x_val,\n",
    "                                   y_data:y_vals}))\n"
   ]
  },
  {
   "cell_type": "code",
   "execution_count": 119,
   "metadata": {},
   "outputs": [],
   "source": [
    "merged=tf.summary.merge_all()\n",
    "if not os.path.exists('c://tmp/tensorboard_logs/'):\n",
    "    os.makedirs('c://tmp/tensorboard_logs/')\n",
    "    \n",
    "my_writer=tf.summary.FileWriter('c://tmp/tensorboard_logs/',sess.graph)"
   ]
  },
  {
   "cell_type": "code",
   "execution_count": null,
   "metadata": {},
   "outputs": [],
   "source": []
  },
  {
   "cell_type": "code",
   "execution_count": 129,
   "metadata": {},
   "outputs": [],
   "source": [
    "import numpy\n",
    "rng=numpy.random\n",
    "\n",
    "#변수를 따로 두고 상수화할때 좋은점: 수정할때 좋음\n",
    "learning_rate=0.01\n",
    "training_epochs=4000\n",
    "display_step=50\n",
    "train_X = numpy.asarray([3.3,4.4,5.5,6.71,6.93,4.168,9.779,6.182,7.59,2.167,7.042,10.791,5.313,7.997,5.654,9.27,3.1])\n",
    "train_Y = numpy.asarray([1.7,2.76,2.09,3.19,1.694,1.573,3.366,2.596,2.53,1.221,2.827,3.465,1.65,2.904,2.42,2.94,1.3]) \n",
    "#행 또는 열밖에 없는 데이터"
   ]
  },
  {
   "cell_type": "code",
   "execution_count": 130,
   "metadata": {},
   "outputs": [
    {
     "name": "stdout",
     "output_type": "stream",
     "text": [
      "WARNING:tensorflow:From C:\\Users\\ICT01_07\\Anaconda\\envs\\tf_test\\lib\\site-packages\\tensorflow\\python\\ops\\math_grad.py:1205: add_dispatch_support.<locals>.wrapper (from tensorflow.python.ops.array_ops) is deprecated and will be removed in a future version.\n",
      "Instructions for updating:\n",
      "Use tf.where in 2.0, which has the same broadcast rule as np.where\n",
      "WARNING:tensorflow:From C:\\Users\\ICT01_07\\Anaconda\\envs\\tf_test\\lib\\site-packages\\tensorflow\\python\\util\\tf_should_use.py:193: initialize_all_variables (from tensorflow.python.ops.variables) is deprecated and will be removed after 2017-03-02.\n",
      "Instructions for updating:\n",
      "Use `tf.global_variables_initializer` instead.\n"
     ]
    }
   ],
   "source": [
    "\n",
    "n_samples=train_X.shape[0] #[0]:행의 수=>행의 수는 data point =관측치 , 0인데스 다음은 [1], [1]은 열의 수\n",
    "                              #차수 :행 (3,4) :인덱스 접근\n",
    "X=tf.placeholder('float')\n",
    "Y=tf.placeholder('float')\n",
    "W=tf.Variable(rng.randn(),name='weight') #설명\n",
    "b=tf.Variable(rng.randn(),name='bias') #activation 활성화\n",
    "\n",
    "activation=tf.add(tf.multiply(X,W),b) #수식!! y=ax + b  #노드, 그래서  실행안됨\n",
    "cost=tf.reduce_sum(tf.pow(activation-Y,2)/(2*n_samples))  #엣지 2를 곱한이유: 행 또는 열 밖에 없는 데이터 이기 때문에 !!\n",
    "#                     제곱 (예측치- 실제값)\n",
    "#역전파:optimizer도 hyper parameter\n",
    "optimizer=tf.train.GradientDescentOptimizer(learning_rate).minimize(cost)  #GradientDescentOptimizer 는 기울기, 최소화를 넣어야 함#momentum:고려\n",
    "init=tf.initialize_all_variables()"
   ]
  },
  {
   "cell_type": "code",
   "execution_count": 132,
   "metadata": {},
   "outputs": [
    {
     "name": "stdout",
     "output_type": "stream",
     "text": [
      "Epoch: 0001 cost= 11.637424469 W= -0.35520968 b= -0.014885382\n",
      "Epoch: 0051 cost= 0.104945138 W= 0.34319824 b= 0.1280817\n",
      "Epoch: 0101 cost= 0.101711035 W= 0.3376311 b= 0.16813107\n",
      "Epoch: 0151 cost= 0.098850653 W= 0.33239505 b= 0.20579877\n",
      "Epoch: 0201 cost= 0.096320853 W= 0.32747042 b= 0.24122597\n",
      "Epoch: 0251 cost= 0.094083399 W= 0.32283872 b= 0.2745462\n",
      "Epoch: 0301 cost= 0.092104584 W= 0.31848243 b= 0.30588502\n",
      "Epoch: 0351 cost= 0.090354525 W= 0.31438527 b= 0.33535928\n",
      "Epoch: 0401 cost= 0.088806771 W= 0.3105319 b= 0.3630809\n",
      "Epoch: 0451 cost= 0.087437972 W= 0.30690753 b= 0.38915408\n",
      "Epoch: 0501 cost= 0.086227439 W= 0.3034988 b= 0.4136761\n",
      "Epoch: 0551 cost= 0.085156940 W= 0.30029288 b= 0.43673965\n",
      "Epoch: 0601 cost= 0.084210217 W= 0.29727754 b= 0.45843178\n",
      "Epoch: 0651 cost= 0.083373010 W= 0.29444143 b= 0.47883418\n",
      "Epoch: 0701 cost= 0.082632668 W= 0.29177418 b= 0.49802262\n",
      "Epoch: 0751 cost= 0.081978016 W= 0.28926542 b= 0.5160697\n",
      "Epoch: 0801 cost= 0.081399113 W= 0.28690597 b= 0.5330438\n",
      "Epoch: 0851 cost= 0.080887221 W= 0.28468683 b= 0.54900837\n",
      "Epoch: 0901 cost= 0.080434591 W= 0.2825995 b= 0.5640239\n",
      "Epoch: 0951 cost= 0.080034338 W= 0.28063637 b= 0.5781465\n",
      "Epoch: 1001 cost= 0.079680450 W= 0.27879018 b= 0.5914288\n",
      "Epoch: 1051 cost= 0.079367533 W= 0.27705333 b= 0.6039231\n",
      "Epoch: 1101 cost= 0.079090931 W= 0.27542004 b= 0.6156726\n",
      "Epoch: 1151 cost= 0.078846417 W= 0.27388424 b= 0.62672126\n",
      "Epoch: 1201 cost= 0.078630246 W= 0.2724397 b= 0.63711286\n",
      "Epoch: 1251 cost= 0.078439154 W= 0.271081 b= 0.6468874\n",
      "Epoch: 1301 cost= 0.078270189 W= 0.26980305 b= 0.6560808\n",
      "Epoch: 1351 cost= 0.078120843 W= 0.26860118 b= 0.66472733\n",
      "Epoch: 1401 cost= 0.077988818 W= 0.26747072 b= 0.6728598\n",
      "Epoch: 1451 cost= 0.077872150 W= 0.26640752 b= 0.6805086\n",
      "Epoch: 1501 cost= 0.077769049 W= 0.2654075 b= 0.68770206\n",
      "Epoch: 1551 cost= 0.077677906 W= 0.264467 b= 0.69446796\n",
      "Epoch: 1601 cost= 0.077597357 W= 0.26358253 b= 0.7008313\n",
      "Epoch: 1651 cost= 0.077526182 W= 0.2627505 b= 0.7068166\n",
      "Epoch: 1701 cost= 0.077463269 W= 0.26196778 b= 0.7124467\n",
      "Epoch: 1751 cost= 0.077407718 W= 0.261232 b= 0.7177409\n",
      "Epoch: 1801 cost= 0.077358603 W= 0.26053974 b= 0.72272086\n",
      "Epoch: 1851 cost= 0.077315256 W= 0.25988868 b= 0.7274047\n",
      "Epoch: 1901 cost= 0.077276938 W= 0.2592763 b= 0.7318101\n",
      "Epoch: 1951 cost= 0.077243097 W= 0.2587003 b= 0.73595345\n",
      "Epoch: 2001 cost= 0.077213205 W= 0.25815842 b= 0.7398513\n",
      "Epoch: 2051 cost= 0.077186808 W= 0.25764906 b= 0.74351585\n",
      "Epoch: 2101 cost= 0.077163525 W= 0.25716984 b= 0.7469632\n",
      "Epoch: 2151 cost= 0.077142932 W= 0.25671917 b= 0.7502054\n",
      "Epoch: 2201 cost= 0.077124782 W= 0.2562952 b= 0.7532555\n",
      "Epoch: 2251 cost= 0.077108741 W= 0.2558965 b= 0.7561235\n",
      "Epoch: 2301 cost= 0.077094600 W= 0.25552136 b= 0.7588223\n",
      "Epoch: 2351 cost= 0.077082112 W= 0.25516874 b= 0.7613589\n",
      "Epoch: 2401 cost= 0.077071100 W= 0.2548371 b= 0.76374525\n",
      "Epoch: 2451 cost= 0.077061370 W= 0.25452507 b= 0.7659901\n",
      "Epoch: 2501 cost= 0.077052832 W= 0.25423175 b= 0.7680998\n",
      "Epoch: 2551 cost= 0.077045269 W= 0.2539557 b= 0.7700858\n",
      "Epoch: 2601 cost= 0.077038601 W= 0.25369594 b= 0.7719547\n",
      "Epoch: 2651 cost= 0.077032737 W= 0.25345188 b= 0.7737102\n",
      "Epoch: 2701 cost= 0.077027567 W= 0.25322232 b= 0.7753623\n",
      "Epoch: 2751 cost= 0.077023007 W= 0.25300625 b= 0.7769163\n",
      "Epoch: 2801 cost= 0.077018999 W= 0.2528029 b= 0.7783789\n",
      "Epoch: 2851 cost= 0.077015474 W= 0.2526119 b= 0.7797528\n",
      "Epoch: 2901 cost= 0.077012375 W= 0.25243235 b= 0.7810446\n",
      "Epoch: 2951 cost= 0.077009633 W= 0.25226334 b= 0.78226066\n",
      "Epoch: 3001 cost= 0.077007234 W= 0.25210416 b= 0.7834053\n",
      "Epoch: 3051 cost= 0.077005118 W= 0.2519546 b= 0.78448164\n",
      "Epoch: 3101 cost= 0.077003263 W= 0.25181404 b= 0.7854927\n",
      "Epoch: 3151 cost= 0.077001631 W= 0.25168222 b= 0.7864411\n",
      "Epoch: 3201 cost= 0.077000223 W= 0.2515583 b= 0.7873323\n",
      "Epoch: 3251 cost= 0.076998964 W= 0.25144154 b= 0.7881724\n",
      "Epoch: 3301 cost= 0.076997869 W= 0.25133193 b= 0.7889608\n",
      "Epoch: 3351 cost= 0.076996878 W= 0.2512286 b= 0.7897044\n",
      "Epoch: 3401 cost= 0.076996058 W= 0.25113142 b= 0.7904035\n",
      "Epoch: 3451 cost= 0.076995306 W= 0.25104 b= 0.7910613\n",
      "Epoch: 3501 cost= 0.076994672 W= 0.25095406 b= 0.7916789\n",
      "Epoch: 3551 cost= 0.076994106 W= 0.2508734 b= 0.7922599\n",
      "Epoch: 3601 cost= 0.076993622 W= 0.2507976 b= 0.7928049\n",
      "Epoch: 3651 cost= 0.076993197 W= 0.2507263 b= 0.79331756\n",
      "Epoch: 3701 cost= 0.076992802 W= 0.25065914 b= 0.79380083\n",
      "Epoch: 3751 cost= 0.076992489 W= 0.25059584 b= 0.79425615\n",
      "Epoch: 3801 cost= 0.076992206 W= 0.2505366 b= 0.7946823\n",
      "Epoch: 3851 cost= 0.076991975 W= 0.25048065 b= 0.79508495\n",
      "Epoch: 3901 cost= 0.076991752 W= 0.25042814 b= 0.79546225\n",
      "Epoch: 3951 cost= 0.076991580 W= 0.2503785 b= 0.7958194\n",
      "최적화종료\n",
      "cost= 0.07699142 W= 0.2503329 b= 0.7961471\n"
     ]
    },
    {
     "data": {
      "image/png": "[encoded data removed]",
      "text/plain": [
       "<Figure size 432x288 with 1 Axes>"
      ]
     },
     "metadata": {
      "needs_background": "light"
     },
     "output_type": "display_data"
    }
   ],
   "source": [
    "#그래프 정의 :node (연산)+ edge(데이터전달:tensor(배열+행렬))\n",
    "#전제조건:GPU 가 존재한다는 가정에서=>네트워크로 연결한다. (sessiond으로)\n",
    "with tf.Session() as sess: #실행부\n",
    "    sess.run(init)\n",
    "    for epoch in range(training_epochs): #epoch : 반복해서 돌아간다.=> 4000번씩 \n",
    "        for (x,y) in zip(train_X, train_Y): #데이터가 한개씩 feeding \n",
    "            sess.run(optimizer,feed_dict={X:x, Y:y})\n",
    "        if epoch % display_step==0:   #비용함수: 감소해야 : 우하향 #accuracy(정확도) :점점 증가해야\n",
    "            print('Epoch:', '%04d' % (epoch+1),'cost=','{:.9f}'.format(sess.run(cost,feed_dict={X:train_X, Y:train_Y})),\n",
    "                 \"W=\",sess.run(W),'b=',sess.run(b))  #수렴값확인\n",
    "    print('최적화종료')\n",
    "    print('cost=',sess.run(cost,feed_dict={X:train_X, Y:train_Y}),\n",
    "         'W=',sess.run(W),'b=',sess.run(b))\n",
    "    plt.plot(train_X, train_Y, 'ro', label='Original data')\n",
    "    #predict 한 결과값 출력\n",
    "    plt.plot(train_X, sess.run(W) * train_X + sess.run(b),\n",
    "             label=\"Fitted line\")\n",
    "    plt.legend()\n",
    "    plt.show()"
   ]
  },
  {
   "cell_type": "code",
   "execution_count": 166,
   "metadata": {},
   "outputs": [],
   "source": [
    "#tensor->직접 시각화하는 것이 불가능=>numpy 포멧으로 변경\n",
    "def run_variable(variable):\n",
    "    tf.global_variables_initializer()\n",
    "    with tf.Session() as sess:\n",
    "        return sess.run(variable)"
   ]
  },
  {
   "cell_type": "code",
   "execution_count": 167,
   "metadata": {},
   "outputs": [],
   "source": [
    "my_distribution=tf.random_uniform((600,4),seed=42) #24\n",
    "uniform=run_variable(my_distribution)"
   ]
  },
  {
   "cell_type": "code",
   "execution_count": 168,
   "metadata": {},
   "outputs": [
    {
     "data": {
      "image/png": "[encoded data removed]",
      "text/plain": [
       "<Figure size 432x288 with 1 Axes>"
      ]
     },
     "metadata": {
      "needs_background": "light"
     },
     "output_type": "display_data"
    }
   ],
   "source": [
    "from matplotlib import pyplot as plt\n",
    "plt.hist(uniform.flatten()) #데이터 메모리 저장: \"1차원\"으로 저장되는 포멧으로 바꿔라\n",
    "plt.show()"
   ]
  },
  {
   "cell_type": "markdown",
   "metadata": {},
   "source": [
    "# activation 함수: \n",
    "활성화 함수 :역할-회귀냐 분류인가를 결정\n",
    "\n",
    "-비선형 매핑(선형대수->비선형 문제로 변경)\n",
    "-가중치를 깊게 하고 활성화 함수 매핑으로 XOR 문제를 해결\n",
    "-한번 정의된 그래프를 리셋해줘햐 한다."
   ]
  },
  {
   "cell_type": "code",
   "execution_count": 169,
   "metadata": {},
   "outputs": [
    {
     "name": "stdout",
     "output_type": "stream",
     "text": [
      "[-10.          -9.7979798   -9.5959596   -9.39393939  -9.19191919\n",
      "  -8.98989899  -8.78787879  -8.58585859  -8.38383838  -8.18181818\n",
      "  -7.97979798  -7.77777778  -7.57575758  -7.37373737  -7.17171717\n",
      "  -6.96969697  -6.76767677  -6.56565657  -6.36363636  -6.16161616\n",
      "  -5.95959596  -5.75757576  -5.55555556  -5.35353535  -5.15151515\n",
      "  -4.94949495  -4.74747475  -4.54545455  -4.34343434  -4.14141414\n",
      "  -3.93939394  -3.73737374  -3.53535354  -3.33333333  -3.13131313\n",
      "  -2.92929293  -2.72727273  -2.52525253  -2.32323232  -2.12121212\n",
      "  -1.91919192  -1.71717172  -1.51515152  -1.31313131  -1.11111111\n",
      "  -0.90909091  -0.70707071  -0.50505051  -0.3030303   -0.1010101\n",
      "   0.1010101    0.3030303    0.50505051   0.70707071   0.90909091\n",
      "   1.11111111   1.31313131   1.51515152   1.71717172   1.91919192\n",
      "   2.12121212   2.32323232   2.52525253   2.72727273   2.92929293\n",
      "   3.13131313   3.33333333   3.53535354   3.73737374   3.93939394\n",
      "   4.14141414   4.34343434   4.54545455   4.74747475   4.94949495\n",
      "   5.15151515   5.35353535   5.55555556   5.75757576   5.95959596\n",
      "   6.16161616   6.36363636   6.56565657   6.76767677   6.96969697\n",
      "   7.17171717   7.37373737   7.57575758   7.77777778   7.97979798\n",
      "   8.18181818   8.38383838   8.58585859   8.78787879   8.98989899\n",
      "   9.19191919   9.39393939   9.5959596    9.7979798   10.        ]\n"
     ]
    }
   ],
   "source": [
    "ops.reset_default_graph()\n",
    "sess=tf.Session()\n",
    "\n",
    "x_vals=np.linspace(start=-10., stop=10., num=100)\n",
    "print(x_vals)"
   ]
  },
  {
   "cell_type": "code",
   "execution_count": 172,
   "metadata": {},
   "outputs": [
    {
     "name": "stdout",
     "output_type": "stream",
     "text": [
      "[ 0.  3. 10.]\n",
      "[0.26894143 0.5        0.7310586 ]\n",
      "[-0.7615942  0.         0.7615942]\n",
      "[0.31326166 0.6931472  1.3132616 ]\n",
      "[4.53988992e-05 5.55621925e-05 6.80006294e-05 8.32234827e-05\n",
      " 1.01854002e-04 1.24654915e-04 1.52559623e-04 1.86710374e-04\n",
      " 2.28504961e-04 2.79653838e-04 3.42249995e-04 4.18854392e-04\n",
      " 5.12600439e-04 6.27321712e-04 7.67708042e-04 9.39496227e-04\n",
      " 1.14970295e-03 1.40690911e-03 1.72160671e-03 2.10662180e-03\n",
      " 2.57762963e-03 3.15378152e-03 3.85846667e-03 4.72023638e-03\n",
      " 5.77392318e-03 7.06199264e-03 8.63617122e-03 1.05593993e-02\n",
      " 1.29081631e-02 1.57752639e-02 1.92730804e-02 2.35373794e-02\n",
      " 2.87317129e-02 3.50524161e-02 4.27341757e-02 5.20560700e-02\n",
      " 6.33478781e-02 7.69963170e-02 9.34506760e-02 1.13227094e-01\n",
      " 1.36910472e-01 1.65152775e-01 1.98666320e-01 2.38210660e-01\n",
      " 2.84571982e-01 3.38534624e-01 4.00845440e-01 4.72173209e-01\n",
      " 5.53066799e-01 6.43916968e-01 7.44927069e-01 8.56097102e-01\n",
      " 9.77223714e-01 1.10791615e+00 1.24762553e+00 1.39568309e+00\n",
      " 1.55134197e+00 1.71381783e+00 1.88232449e+00 2.05610239e+00\n",
      " 2.23443922e+00 2.41668300e+00 2.60224884e+00 2.79062061e+00\n",
      " 2.98134900e+00 3.17404731e+00 3.36838575e+00 3.56408525e+00\n",
      " 3.76091112e+00 3.95866702e+00 4.15718941e+00 4.35634251e+00\n",
      " 4.55601394e+00 4.75611092e+00 4.95655694e+00 5.15728907e+00\n",
      " 5.35825559e+00 5.55941402e+00 5.76072954e+00 5.96217359e+00\n",
      " 6.16372278e+00 6.36535797e+00 6.56706347e+00 6.76882647e+00\n",
      " 6.97063647e+00 7.17248488e+00 7.37436470e+00 7.57627018e+00\n",
      " 7.77819663e+00 7.98014023e+00 8.18209784e+00 8.38406689e+00\n",
      " 8.58604530e+00 8.78803135e+00 8.99002364e+00 9.19202105e+00\n",
      " 9.39402262e+00 9.59602760e+00 9.79803536e+00 1.00000454e+01]\n",
      "[-0.63212055  0.          1.        ]\n",
      "[-0.9999546  -0.99994444 -0.999932   -0.99991677 -0.99989814 -0.99987534\n",
      " -0.99984743 -0.99981327 -0.99977147 -0.99972031 -0.99965769 -0.99958106\n",
      " -0.99948727 -0.99937248 -0.999232   -0.99906006 -0.99884964 -0.9985921\n",
      " -0.99827691 -0.99789116 -0.99741905 -0.99684124 -0.99613408 -0.99526861\n",
      " -0.99420938 -0.99291301 -0.99132643 -0.98938465 -0.98700817 -0.98409965\n",
      " -0.98053999 -0.97618343 -0.97085155 -0.96432601 -0.95633957 -0.94656519\n",
      " -0.9346026  -0.9199619  -0.90204355 -0.88011378 -0.85327452 -0.82042669\n",
      " -0.78022512 -0.73102351 -0.67080701 -0.59710968 -0.50691352 -0.3965249\n",
      " -0.26142329 -0.0960761   0.1010101   0.3030303   0.50505051  0.70707071\n",
      "  0.90909091  1.11111111  1.31313131  1.51515152  1.71717172  1.91919192\n",
      "  2.12121212  2.32323232  2.52525253  2.72727273  2.92929293  3.13131313\n",
      "  3.33333333  3.53535354  3.73737374  3.93939394  4.14141414  4.34343434\n",
      "  4.54545455  4.74747475  4.94949495  5.15151515  5.35353535  5.55555556\n",
      "  5.75757576  5.95959596  6.16161616  6.36363636  6.56565657  6.76767677\n",
      "  6.96969697  7.17171717  7.37373737  7.57575758  7.77777778  7.97979798\n",
      "  8.18181818  8.38383838  8.58585859  8.78787879  8.98989899  9.19191919\n",
      "  9.39393939  9.5959596   9.7979798  10.        ]\n"
     ]
    },
    {
     "data": {
      "image/png": "[encoded data removed]",
      "text/plain": [
       "<Figure size 432x288 with 1 Axes>"
      ]
     },
     "metadata": {
      "needs_background": "light"
     },
     "output_type": "display_data"
    },
    {
     "data": {
      "image/png": "[encoded data removed]",
      "text/plain": [
       "<Figure size 432x288 with 1 Axes>"
      ]
     },
     "metadata": {
      "needs_background": "light"
     },
     "output_type": "display_data"
    }
   ],
   "source": [
    "#relu\n",
    "print(sess.run(tf.nn.relu([-3., 3., 10]))) #0~ inf\n",
    "y_relu=sess.run(tf.nn.relu(x_vals))\n",
    "\n",
    "#sigmoid\n",
    "print(sess.run(tf.nn.sigmoid([-1., 0., 1]))) #0~1\n",
    "y_sigmoid=sess.run(tf.nn.sigmoid(x_vals))\n",
    "\n",
    "#tanh\n",
    "print(sess.run(tf.nn.tanh([-1., 0., 1]))) #-1~1\n",
    "y_tanh=sess.run(tf.nn.tanh(x_vals))\n",
    "\n",
    "#softplus\n",
    "print(sess.run(tf.nn.softplus([-1., 0., 1]))) #각진단점보완....\n",
    "y_softplus=sess.run(tf.nn.softplus(x_vals))\n",
    "print(y_softplus) \n",
    "\n",
    "#elu\n",
    "print(sess.run(tf.nn.elu([-1., 0., 1]))) #-1 ~inf(무한대)\n",
    "y_elu=sess.run(tf.nn.elu(x_vals))\n",
    "print(y_elu)\n",
    "\n",
    "plt.plot(x_vals,y_relu,'b:',label=\"ReLU\",linewidth=2)\n",
    "plt.plot(x_vals,y_elu,'k-',label=\"ExpLU\",linewidth=0.5)\n",
    "plt.ylim([-1.5,7])\n",
    "plt.legend(loc='upper left')\n",
    "plt.show()\n",
    "plt.plot(x_vals, y_sigmoid,'r--',label='Sigmoid',linewidth=2)\n",
    "plt.plot(x_vals, y_tanh,'b:',label='tanh',linewidth=2)\n",
    "plt.ylim([-2,2])\n",
    "plt.legend(loc='upper left')\n",
    "plt.show()\n"
   ]
  },
  {
   "cell_type": "code",
   "execution_count": 173,
   "metadata": {},
   "outputs": [],
   "source": [
    "ops.reset_default_graph() #그래프 초기화\n",
    "sess=tf.Session()\n",
    "tf.set_random_seed(5) #텐서플로 시드의 초기값\n",
    "np.random.seed(42) #넘파이 시드의 초기값\n",
    "batch_size=50\n",
    "a1=tf.Variable(tf.random_normal(shape=[1,1])) #a1 a2 는 가중치\n",
    "b1=tf.Variable(tf.random_uniform(shape=[1,1])) #bias\n",
    "a2=tf.Variable(tf.random_normal(shape=[1,1]))\n",
    "b2=tf.Variable(tf.random_uniform(shape=[1,1]))\n",
    "x=np.random.normal(2,0.1,500)\n",
    "\n",
    "#사이즈를 fix 하지 않고 입력 데이터로 부터 계산\n",
    "x_data=tf.placeholder(shape=[None, 1],dtype=tf.float32)\n",
    "                     #shape=[None, 1] : 행데이터로 생성하라"
   ]
  },
  {
   "cell_type": "code",
   "execution_count": 180,
   "metadata": {},
   "outputs": [
    {
     "name": "stdout",
     "output_type": "stream",
     "text": [
      "\n",
      " Sigmoid And Relu 함수의 최적화 0.75\n"
     ]
    }
   ],
   "source": [
    "#y=ax + b 는 같은데 0~1 사이값으로 \n",
    "sigmoid_activation=tf.sigmoid(tf.add(tf.matmul(x_data,a1),b1))\n",
    "\n",
    "#0~ oo (무한대)\n",
    "relu_activation=tf.nn.relu(tf.add(tf.matmul(x_data,a2),b2))\n",
    "\n",
    "#0.75 로 수렴하는 과정\n",
    "#MSE \n",
    "loss1=tf.reduce_mean(tf.square(tf.subtract(sigmoid_activation,0.75)))\n",
    "loss2=tf.reduce_mean(tf.square(tf.subtract(relu_activation,0.75)))\n",
    "\n",
    "init=tf.global_variables_initializer()\n",
    "sess.run(init)\n",
    "my_opt=tf.train.GradientDescentOptimizer(0.01)\n",
    "train_step_sigmoid=my_opt.minimize(loss1)\n",
    "train_step_relu=my_opt.minimize(loss2)\n",
    "print('\\n Sigmoid And Relu 함수의 최적화 0.75')"
   ]
  },
  {
   "cell_type": "code",
   "execution_count": 181,
   "metadata": {},
   "outputs": [],
   "source": [
    "loss_vec_sigmoid=[]  #loss 값을 저장하기 위해 만들어 놓음\n",
    "loss_vec_relu=[]"
   ]
  },
  {
   "cell_type": "code",
   "execution_count": 182,
   "metadata": {},
   "outputs": [
    {
     "name": "stdout",
     "output_type": "stream",
     "text": [
      "sigmoid=0.1989033relu=0.118771225\n",
      "sigmoid=0.27935964relu=0.74676085\n",
      "sigmoid=0.37849867relu=0.7495585\n",
      "sigmoid=0.47748688relu=0.7501805\n",
      "sigmoid=0.55091023relu=0.7502029\n",
      "sigmoid=0.6000637relu=0.74962366\n",
      "sigmoid=0.63823366relu=0.75036263\n",
      "sigmoid=0.66343176relu=0.75003487\n",
      "sigmoid=0.6853033relu=0.7515681\n",
      "sigmoid=0.6963125relu=0.75019807\n"
     ]
    }
   ],
   "source": [
    "for i in range(500): \n",
    "    rand_indices=np.random.choice(len(x),size=batch_size)  #len(x) 500->50개를 선택\n",
    "    x_vals=np.transpose([x[rand_indices]]) #모양을 맞추기위해\n",
    "    sess.run(train_step_sigmoid, feed_dict={x_data:x_vals})\n",
    "    sess.run(train_step_relu, feed_dict={x_data:x_vals})\n",
    "    loss_vec_sigmoid.append(sess.run(loss1, feed_dict={x_data:x_vals}))\n",
    "    loss_vec_relu.append(sess.run(loss2, feed_dict={x_data:x_vals}))\n",
    "    \n",
    "    sigmoid_output=np.mean(sess.run(sigmoid_activation, feed_dict={x_data:x_vals}))\n",
    "    relu_output=np.mean(sess.run(relu_activation, feed_dict={x_data:x_vals}))\n",
    "    if i % 50==0:\n",
    "        print('sigmoid=' +str(np.mean(sigmoid_output))+'relu='+str(np.mean(relu_output)))\n",
    "#0.75로 수렴하는 과정    "
   ]
  },
  {
   "cell_type": "code",
   "execution_count": 183,
   "metadata": {},
   "outputs": [
    {
     "data": {
      "image/png": "[encoded data removed]",
      "text/plain": [
       "<Figure size 432x288 with 1 Axes>"
      ]
     },
     "metadata": {
      "needs_background": "light"
     },
     "output_type": "display_data"
    }
   ],
   "source": [
    "plt.plot(loss_vec_sigmoid, 'k-', label='Sigmoid Activation')\n",
    "plt.plot(loss_vec_relu, 'r--', label='Relu Activation')\n",
    "plt.ylim([0, 1.0])\n",
    "plt.title('loss per Generation')\n",
    "plt.xlabel('Generation')\n",
    "plt.ylabel('Loss')\n",
    "plt.legend(loc='upper right')\n",
    "plt.show() "
   ]
  },
  {
   "cell_type": "code",
   "execution_count": null,
   "metadata": {},
   "outputs": [],
   "source": [
    "#relu 가 개발되기 전까지는 sigmoid 함수를 썼음"
   ]
  },
  {
   "cell_type": "code",
   "execution_count": null,
   "metadata": {},
   "outputs": [],
   "source": []
  }
 ],
 "metadata": {
  "kernelspec": {
   "display_name": "Python 3",
   "language": "python",
   "name": "python3"
  },
  "language_info": {
   "codemirror_mode": {
    "name": "ipython",
    "version": 3
   },
   "file_extension": ".py",
   "mimetype": "text/x-python",
   "name": "python",
   "nbconvert_exporter": "python",
   "pygments_lexer": "ipython3",
   "version": "3.7.4"
  }
 },
 "nbformat": 4,
 "nbformat_minor": 2
}
