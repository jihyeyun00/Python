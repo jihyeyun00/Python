{
 "cells": [
  {
   "cell_type": "code",
   "execution_count": null,
   "metadata": {},
   "outputs": [],
   "source": [
    "import tensorflow as tf\n",
    "tf.set_random_seed(777)\n",
    "x1_data=[73.,93.,89.,]"
   ]
  },
  {
   "cell_type": "code",
   "execution_count": null,
   "metadata": {},
   "outputs": [],
   "source": [
    "train_x_batch,train_y_batch=\\tf.train.batch([xy[0:-1],\n",
    "                                           xy[-1:]],batch_size=10)\n",
    "sess=tf.Session()\n",
    "coord=tf.train.Coord()\n",
    "threads=tf.train.start_queue_runners(sess=sess,coord=coord)\n",
    "\n"
   ]
  },
  {
   "cell_type": "code",
   "execution_count": null,
   "metadata": {},
   "outputs": [],
   "source": [
    "hypothesis=tf.sigmoid(tf.matmul(X,W)+b)\n",
    "cost=-tf.reduce_mean(Y*tf.log(hypothesis)+(1-Y)*\n",
    "                    tf.log(1-hypothesis))\n",
    "train=tf.train.GradientDescentOptimizer(learning_rate=0.01).\n",
    "minimize(cost)"
   ]
  },
  {
   "cell_type": "code",
   "execution_count": null,
   "metadata": {},
   "outputs": [],
   "source": [
    "with tf.Session() as sess:\n",
    "    sess.run(tf.global_variables_initializer())\n",
    "    \n",
    "    for step in range(10001):\n",
    "        cost_val,_=sess.run([cost,train],feed_dict={X:x_data,Y:y_data})\n",
    "        \n",
    "    if step %200==0:\n",
    "        print(step,cost_val )"
   ]
  },
  {
   "cell_type": "code",
   "execution_count": null,
   "metadata": {},
   "outputs": [],
   "source": [
    "xy=np.loadtxt('data.csv',delimiter=',')\n",
    "X=tf.placeholder(tf.float32,shape[None,8]) "
   ]
  },
  {
   "cell_type": "code",
   "execution_count": null,
   "metadata": {},
   "outputs": [],
   "source": [
    "hypothesis=tf.nn.softmax(tf.matmul(X,W)+b)\n",
    "a=sess.run(hypothesis,feed_dict={X:[1,11,7,9]}\n",
    "          print(a,sess.run(tf.arg_max(a,1)))\n",
    "           \n",
    "all=sess.run()\n",
    "print(all,sess.run(tf.arg_max(all,1)))\n",
    "           "
   ]
  },
  {
   "cell_type": "code",
   "execution_count": null,
   "metadata": {},
   "outputs": [],
   "source": [
    "xy=np.loadtxt('data-04-zoo.csv',delimiter=',',dtype=np.float32)\n",
    "x_data=xy[:,0:-1]\n",
    "x_data=xy[:,[-1]] \n",
    "np_classes=7\n",
    "X=tf.placeholder(tf.float32,[None,16])\n",
    "Y=tf.placeholder(tf.float32,[None,1])\n",
    "\n",
    "Y_one_hot=tf.one_hot(Y,nb_classes)\n",
    "Y_one_hot=tf.reshape(Y_one_hot,[-1,nb_classes])\n",
    "W=tf.Variable(tf.random_normal([16,nb_classes]),name='weight')\n",
    "b=tf.Variable(tf.random_normal([nb_classes]),name='bias')\n",
    "logits=tf.matmul(X,W)+b\n",
    "hypothesis=tf.nn.softmax(logits)\n",
    "\n",
    "cost_i=tf.nn.softmax_cross_entropy_with_logits(logits=logits,\n",
    "                                               labels=Y_one_hot)\n",
    "cost=tf.reduce_mean(cost_i)\n",
    "optimizer=tf.train.GradientDescentOptimizer(learning_rate=0.1).minimize(cost)"
   ]
  },
  {
   "cell_type": "code",
   "execution_count": null,
   "metadata": {},
   "outputs": [],
   "source": [
    "prediction = tf.argmax(hypothesis,1)\n",
    "correct_prediction=tf.equal(prediction, tf.argmax(Y_one_hot,1))\n",
    "accuracy=tf.reduce_mean(tf.cast(correct_prediction, tf.float32))\n",
    "\n",
    "with tf.Session() as sess:\n",
    "    sess.run(tf.global_variables_initializer())\n",
    "    \n",
    "    for step in range(2000):\n",
    "        sess.run(optimizer,feed_dict{X:x_data,Y:y_data})\n",
    "        if step % 100==0:\n",
    "            loss,acc=sess.run([cost,accuracy],feed_dict={\n",
    "                X:x_data,Y:y_data})\n",
    "            print('step:{:5}\\tLoss: {:.3f}\\tAcc: {:.2%}'.format(\n",
    "            step,loss,acc))\n",
    "\n",
    "pred=sess.run(prediction,feed_dict={X:x_data})\n",
    "for p, y in zip(pred,y_data.fatten()):\n",
    "    print('[{}] prediction: {} True Y: {}'.format(p==int(y),p,int(y)))"
   ]
  },
  {
   "cell_type": "code",
   "execution_count": null,
   "metadata": {},
   "outputs": [],
   "source": [
    "import tensorflow as tf\n",
    "tf.set_random_seed(777)  # for reproducibility\n",
    "\n",
    "x_data = [[1, 2, 1],\n",
    "          [1, 3, 2],\n",
    "          [1, 3, 4],\n",
    "          [1, 5, 5],\n",
    "          [1, 7, 5],\n",
    "          [1, 2, 5],\n",
    "          [1, 6, 6],\n",
    "          [1, 7, 7]]\n",
    "y_data = [[0, 0, 1],\n",
    "          [0, 0, 1],\n",
    "          [0, 0, 1],\n",
    "          [0, 1, 0],\n",
    "          [0, 1, 0],\n",
    "          [0, 1, 0],\n",
    "          [1, 0, 0],\n",
    "          [1, 0, 0]]\n",
    "\n",
    "\n",
    "x_test = [[2, 1, 1],\n",
    "          [3, 1, 2],\n",
    "          [3, 3, 4]]\n",
    "y_test = [[0, 0, 1],\n",
    "          [0, 0, 1],\n",
    "          [0, 0, 1]]\n"
   ]
  },
  {
   "cell_type": "code",
   "execution_count": null,
   "metadata": {},
   "outputs": [],
   "source": [
    "X = tf.placeholder(tf.float32, [None, 784])\n",
    "Y = tf.placeholder(tf.float32, [None, nb_classes])\n",
    "\n",
    "w=  \n",
    "b=\n",
    "mnist=input_data.read_sets('MNIST_data/',one_hot=True)\n",
    "batch_xs,batch_ys=mnist.train.next_batch(100)\n",
    "print('a:',accuracy)"
   ]
  },
  {
   "cell_type": "code",
   "execution_count": null,
   "metadata": {},
   "outputs": [],
   "source": [
    "training_epochs=15\n",
    "batch_size=100\n",
    "\n",
    "with tf.Session() as sess:\n",
    "    sess.run(tf.glabal_variables_initializer())\n",
    "    for epoch in range(training_epochs):\n",
    "        avg_cost=0\n",
    "        total_batch=int(mnist.train.num_examples/batch_size)\n",
    "        \n",
    "        for i in range(total_batch):\n",
    "            batch_xs,batch_ys=mnist.train.next_batch(batch_size)\n",
    "            c,_=sess.run([cost,optimizer],feed_dict={X:batch_xs,Y:batch_ys})\n",
    "            avg_cost +=c / total_batch"
   ]
  },
  {
   "cell_type": "code",
   "execution_count": null,
   "metadata": {},
   "outputs": [],
   "source": [
    "tf.reduce_mean([1,2])"
   ]
  },
  {
   "cell_type": "code",
   "execution_count": null,
   "metadata": {},
   "outputs": [],
   "source": []
  },
  {
   "cell_type": "code",
   "execution_count": null,
   "metadata": {},
   "outputs": [],
   "source": []
  },
  {
   "cell_type": "code",
   "execution_count": null,
   "metadata": {},
   "outputs": [],
   "source": []
  }
 ],
 "metadata": {
  "kernelspec": {
   "display_name": "Python 3",
   "language": "python",
   "name": "python3"
  },
  "language_info": {
   "codemirror_mode": {
    "name": "ipython",
    "version": 3
   },
   "file_extension": ".py",
   "mimetype": "text/x-python",
   "name": "python",
   "nbconvert_exporter": "python",
   "pygments_lexer": "ipython3",
   "version": "3.7.4"
  }
 },
 "nbformat": 4,
 "nbformat_minor": 2
}
