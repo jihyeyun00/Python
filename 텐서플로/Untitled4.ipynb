{
 "cells": [
  {
   "cell_type": "code",
   "execution_count": null,
   "metadata": {},
   "outputs": [],
   "source": [
    "X=tf.placeholder(tf.float32,[None, n_step,n_input])\n",
    "Y=tf.placeholder(tf.float32,[None, n_class])\n",
    "W=tf.Variable(tf.random_normal([n_hidden, n_class]))\n",
    "b=tf.Variable(tf.random_normal([n_class]))\n",
    "\n",
    "cell=tf.nn.run_cell.BasicRNNCell(n_hidden)\n",
    "\n",
    "outputs,states=tf.nn.dynamic_runn(cell,X,dtype=tf.float32)\n",
    "\n",
    "outputs=outputs[-1] ##??\n",
    "model=tf.matmul(outputs,W)+b\n",
    "cost=tf.reduce_mean(tf.nn.softmax_cross_entropy_with_logits(logits=model,labels=Y))\n",
    "optimizer=tf.train.AdamOptimizer(learning_rate).minimize(cost)"
   ]
  },
  {
   "cell_type": "code",
   "execution_count": null,
   "metadata": {},
   "outputs": [],
   "source": [
    "sess=tf.Session()\n",
    "sess.run(tf.global_variables_initializer())\n",
    "total_batch=int(mnist.train.num_examples/batch_size)\n",
    "for epoch in range(total_epoch):\n",
    "    total_cost=0\n",
    "    for i in range(total_batch):\n",
    "        batch_xs,batch_ys=mnist.train.next_batch(batch_size)\n",
    "        batch_xs=batch_xs.reshape((batch_size,n_step,n_input))\n",
    "        _,cost_val=sess.run([optimizer,cost],feed_dict={X:batch_xs,Y:batch_ys})\n",
    "        total_cost +=cost_val\n",
    "    "
   ]
  },
  {
   "cell_type": "code",
   "execution_count": null,
   "metadata": {},
   "outputs": [],
   "source": [
    "tf.reset_default_graph()\n",
    "char_arr=['a','b','c','d','e','f','g','h','i','j','k','l','m','n','o','p','q','r','s','t','u','v','w','x','y','z']\n",
    "num_dic={n:i for i, n in enumerate(char_arr)}\n",
    "dic_len=len(num_dic)\n",
    "\n",
    "seq_data=['word','wood','deep','dive','cold','cool','load','love','kiss','kind']"
   ]
  },
  {
   "cell_type": "code",
   "execution_count": null,
   "metadata": {},
   "outputs": [],
   "source": [
    "\n",
    "input_batch=[]\n",
    "target_batch=[]\n",
    "X=tf.placeholder(tf.)"
   ]
  },
  {
   "cell_type": "code",
   "execution_count": null,
   "metadata": {},
   "outputs": [],
   "source": []
  }
 ],
 "metadata": {
  "kernelspec": {
   "display_name": "Python 3",
   "language": "python",
   "name": "python3"
  },
  "language_info": {
   "codemirror_mode": {
    "name": "ipython",
    "version": 3
   },
   "file_extension": ".py",
   "mimetype": "text/x-python",
   "name": "python",
   "nbconvert_exporter": "python",
   "pygments_lexer": "ipython3",
   "version": "3.7.4"
  }
 },
 "nbformat": 4,
 "nbformat_minor": 2
}
