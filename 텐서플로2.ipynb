{
 "cells": [
  {
   "cell_type": "code",
   "execution_count": 1,
   "metadata": {},
   "outputs": [
    {
     "name": "stdout",
     "output_type": "stream",
     "text": [
      "1.14.0\n"
     ]
    }
   ],
   "source": [
    "import tensorflow as tf\n",
    "print(tf.__version__)"
   ]
  },
  {
   "cell_type": "code",
   "execution_count": 16,
   "metadata": {},
   "outputs": [],
   "source": [
    "import warnings\n",
    "warnings.filterwarnings(action='ignore')\n"
   ]
  },
  {
   "cell_type": "code",
   "execution_count": 41,
   "metadata": {},
   "outputs": [
    {
     "ename": "SyntaxError",
     "evalue": "invalid syntax (<ipython-input-41-00a7b8d32a99>, line 2)",
     "output_type": "error",
     "traceback": [
      "\u001b[1;36m  File \u001b[1;32m\"<ipython-input-41-00a7b8d32a99>\"\u001b[1;36m, line \u001b[1;32m2\u001b[0m\n\u001b[1;33m    이미지의 숫자 예측\u001b[0m\n\u001b[1;37m          ^\u001b[0m\n\u001b[1;31mSyntaxError\u001b[0m\u001b[1;31m:\u001b[0m invalid syntax\n"
     ]
    }
   ],
   "source": [
    "#FFNN\n",
    "이미지의 숫자 예측\n",
    "0~9 까지의 숫자를 이미지화 인식=>자동차 번호판"
   ]
  },
  {
   "cell_type": "code",
   "execution_count": 17,
   "metadata": {},
   "outputs": [
    {
     "name": "stdout",
     "output_type": "stream",
     "text": [
      "Extracting /tmp/data/train-images-idx3-ubyte.gz\n",
      "Extracting /tmp/data/train-labels-idx1-ubyte.gz\n",
      "Extracting /tmp/data/t10k-images-idx3-ubyte.gz\n",
      "Extracting /tmp/data/t10k-labels-idx1-ubyte.gz\n"
     ]
    }
   ],
   "source": [
    "from tensorflow.examples.tutorials.mnist import input_data\n",
    "#target:1000,000,000\n",
    "\n",
    "mnist=input_data.read_data_sets('/tmp/data/',one_hot=True)"
   ]
  },
  {
   "cell_type": "code",
   "execution_count": 33,
   "metadata": {},
   "outputs": [
    {
     "name": "stdout",
     "output_type": "stream",
     "text": [
      "(128, 784)\n"
     ]
    }
   ],
   "source": [
    "#128장의 이미지를 random 하게 공급\n",
    "batch_x,batch_y=mnist.train.next_batch(128)\n",
    "print(batch_x.shape) #128장 * 784 (가로28 x 세로 28):\n",
    "learning_rate=0.1 #hyper parameter\n",
    "num_steps=500 #epcdh 세대\n",
    "batch_size=128 #mini batch 사이즈 :속도를 고속으로, local 해를 극복\n",
    "display_step=100 #데이터 시각화 "
   ]
  },
  {
   "cell_type": "code",
   "execution_count": 34,
   "metadata": {},
   "outputs": [],
   "source": [
    "#히든레이어가 2개\n",
    "#input =784(픽셀1개를 변수로 봄)-> 784X 256 ->256x256->256x10\n",
    "n_hidden_1=256\n",
    "n_hidden_2=256\n",
    "num_input=784\n",
    "num_classes=10 #target 0~9\n",
    "#미니배치사이즈\n",
    "X=tf.placeholder('float',[None, num_input]) #128 개씩() 784 \n",
    "Y=tf.placeholder('float',[None, num_classes]) #128 x10\n"
   ]
  },
  {
   "cell_type": "code",
   "execution_count": 35,
   "metadata": {},
   "outputs": [],
   "source": [
    "#설명력= 계수 \n",
    "weights={\n",
    "    'h1':tf.Variable(tf.random_normal([num_input,n_hidden_1])), #784 x256\n",
    "    'h2':tf.Variable(tf.random_normal([n_hidden_1,n_hidden_2])), #256x256\n",
    "    'out':tf.Variable(tf.random_normal([n_hidden_2,num_classes])) #256x10\n",
    "}\n",
    "#activation =biase\n",
    "biases={  #가중치 한덩어리 당 bias 가 반드시 존재\n",
    "    'b1':tf.Variable(tf.random_normal([n_hidden_1])),  #변수개수 만큼 존재\n",
    "    'b2':tf.Variable(tf.random_normal([n_hidden_2])),\n",
    "    'out':tf.Variable(tf.random_normal([num_classes])),\n",
    "}"
   ]
  },
  {
   "cell_type": "code",
   "execution_count": 36,
   "metadata": {},
   "outputs": [],
   "source": [
    "def neural_net(x):  #128x784 로 들어옴, \n",
    "    #layer_1 사이즈 : 전달 데이터 (tensor)128 x256\n",
    "    layer_1=tf.add(tf.matmul(x,weights['h1']),biases['b1'])\n",
    "    #layer_2 :들어올때 128X256 =>256x256=>128x256\n",
    "    layer_2=tf.add(tf.matmul(layer_1,weights['h2']),biases['b2'])\n",
    "    #128x256 256x10=>10\n",
    "    out_layer=tf.matmul(layer_2,weights['out'])+biases['out']\n",
    "    return out_layer"
   ]
  },
  {
   "cell_type": "code",
   "execution_count": 37,
   "metadata": {},
   "outputs": [],
   "source": [
    "logits=neural_net(X) #128x10\n",
    "\n",
    "#경사하강법->미분가능->분류\n",
    "loss_op=tf.reduce_mean(  #원핫인코드된 값 *log(확률값)\n",
    "\n",
    "#softmax:확률값으로 계산\n",
    "tf.nn.softmax_cross_entropy_with_logits_v2(\n",
    "logits=logits,labels=Y))\n",
    "\n",
    "#최적화기:기울기를 어떻게 할것인지, 학습율을 어떻게 할것인지\n",
    "#momentum + propgrad = Adam :\n",
    "#adagrad:learning-rate 를 처음에는 크게 ->점점작게(0)으로 수렴되는 단점이 있었음\n",
    "#propgrad :adaptive 적응적으로 하는 장점 \n",
    "optimizer=tf.train.AdamOptimizer(learning_rate=learning_rate)\n",
    "train_op=optimizer.minimize(loss_op)\n",
    "\n",
    "#argmax :가장큰값의 인덱스를 구함(one hot encoding하고 cast를 통해 가장큰값을 찾음)=>target    질문??\n",
    "correct_pred=tf.equal(tf.argmax(logits,1),tf.argmax(Y,1))\n",
    "\n",
    "#cast: 데이터 형변환\n",
    "accuracy=tf.reduce_mean(tf.cast(correct_pred,tf.float32))\n",
    "init=tf.global_variables_initializer()\n",
    "####################################여기까지가 모델"
   ]
  },
  {
   "cell_type": "code",
   "execution_count": 38,
   "metadata": {},
   "outputs": [
    {
     "name": "stdout",
     "output_type": "stream",
     "text": [
      "step1,minibatch loss=8715.0449, traning accuracy=0.352\n",
      "테스트정확도: 0.3095\n",
      "step100,minibatch loss=367.9412, traning accuracy=0.867\n",
      "테스트정확도: 0.8565\n",
      "step200,minibatch loss=105.5206, traning accuracy=0.914\n",
      "테스트정확도: 0.8674\n",
      "step300,minibatch loss=62.4434, traning accuracy=0.875\n",
      "테스트정확도: 0.8696\n",
      "step400,minibatch loss=36.0494, traning accuracy=0.898\n",
      "테스트정확도: 0.8726\n",
      "step500,minibatch loss=40.6547, traning accuracy=0.914\n",
      "테스트정확도: 0.8733\n"
     ]
    }
   ],
   "source": [
    "\n",
    "with tf.Session() as sess:   #GPU 네트워크 연결->일반화\n",
    "    sess.run(init)\n",
    "    for step in range(1,num_steps+1): #epoch \n",
    "        \n",
    "        #x:128x784 , y:128x10\n",
    "        batch_x,batch_y=mnist.train.next_batch(batch_size) \n",
    "        sess.run(train_op, feed_dict={X:batch_x, Y:batch_y})\n",
    "        if step % display_step==0 or step ==1:\n",
    "            loss,acc=sess.run([loss_op, accuracy],feed_dict={X:batch_x,Y:batch_y})\n",
    "            print('step'+str(step)+',minibatch loss='+ '{:.4f}'.format(loss)+', traning accuracy='+'{:.3f}'.format(acc))\n",
    "            print('테스트정확도:',sess.run(accuracy,feed_dict={X:mnist.test.images, Y:mnist.test.labels}))"
   ]
  },
  {
   "cell_type": "code",
   "execution_count": 40,
   "metadata": {},
   "outputs": [
    {
     "data": {
      "text/html": [
       "<div>\n",
       "<style scoped>\n",
       "    .dataframe tbody tr th:only-of-type {\n",
       "        vertical-align: middle;\n",
       "    }\n",
       "\n",
       "    .dataframe tbody tr th {\n",
       "        vertical-align: top;\n",
       "    }\n",
       "\n",
       "    .dataframe thead th {\n",
       "        text-align: right;\n",
       "    }\n",
       "</style>\n",
       "<table border=\"1\" class=\"dataframe\">\n",
       "  <thead>\n",
       "    <tr style=\"text-align: right;\">\n",
       "      <th></th>\n",
       "      <th>CRIM</th>\n",
       "      <th>ZN</th>\n",
       "      <th>INDUS</th>\n",
       "      <th>CHAS</th>\n",
       "      <th>NOX</th>\n",
       "      <th>RM</th>\n",
       "      <th>AGE</th>\n",
       "      <th>DIS</th>\n",
       "      <th>RAD</th>\n",
       "      <th>TAX</th>\n",
       "      <th>PTRATIO</th>\n",
       "      <th>B</th>\n",
       "      <th>LSTAT</th>\n",
       "      <th>const</th>\n",
       "    </tr>\n",
       "  </thead>\n",
       "  <tbody>\n",
       "    <tr>\n",
       "      <td>501</td>\n",
       "      <td>0.06263</td>\n",
       "      <td>0.0</td>\n",
       "      <td>11.93</td>\n",
       "      <td>0.0</td>\n",
       "      <td>0.573</td>\n",
       "      <td>6.593</td>\n",
       "      <td>69.1</td>\n",
       "      <td>2.4786</td>\n",
       "      <td>1.0</td>\n",
       "      <td>273.0</td>\n",
       "      <td>21.0</td>\n",
       "      <td>391.99</td>\n",
       "      <td>9.67</td>\n",
       "      <td>1.0</td>\n",
       "    </tr>\n",
       "    <tr>\n",
       "      <td>502</td>\n",
       "      <td>0.04527</td>\n",
       "      <td>0.0</td>\n",
       "      <td>11.93</td>\n",
       "      <td>0.0</td>\n",
       "      <td>0.573</td>\n",
       "      <td>6.120</td>\n",
       "      <td>76.7</td>\n",
       "      <td>2.2875</td>\n",
       "      <td>1.0</td>\n",
       "      <td>273.0</td>\n",
       "      <td>21.0</td>\n",
       "      <td>396.90</td>\n",
       "      <td>9.08</td>\n",
       "      <td>1.0</td>\n",
       "    </tr>\n",
       "    <tr>\n",
       "      <td>503</td>\n",
       "      <td>0.06076</td>\n",
       "      <td>0.0</td>\n",
       "      <td>11.93</td>\n",
       "      <td>0.0</td>\n",
       "      <td>0.573</td>\n",
       "      <td>6.976</td>\n",
       "      <td>91.0</td>\n",
       "      <td>2.1675</td>\n",
       "      <td>1.0</td>\n",
       "      <td>273.0</td>\n",
       "      <td>21.0</td>\n",
       "      <td>396.90</td>\n",
       "      <td>5.64</td>\n",
       "      <td>1.0</td>\n",
       "    </tr>\n",
       "    <tr>\n",
       "      <td>504</td>\n",
       "      <td>0.10959</td>\n",
       "      <td>0.0</td>\n",
       "      <td>11.93</td>\n",
       "      <td>0.0</td>\n",
       "      <td>0.573</td>\n",
       "      <td>6.794</td>\n",
       "      <td>89.3</td>\n",
       "      <td>2.3889</td>\n",
       "      <td>1.0</td>\n",
       "      <td>273.0</td>\n",
       "      <td>21.0</td>\n",
       "      <td>393.45</td>\n",
       "      <td>6.48</td>\n",
       "      <td>1.0</td>\n",
       "    </tr>\n",
       "    <tr>\n",
       "      <td>505</td>\n",
       "      <td>0.04741</td>\n",
       "      <td>0.0</td>\n",
       "      <td>11.93</td>\n",
       "      <td>0.0</td>\n",
       "      <td>0.573</td>\n",
       "      <td>6.030</td>\n",
       "      <td>80.8</td>\n",
       "      <td>2.5050</td>\n",
       "      <td>1.0</td>\n",
       "      <td>273.0</td>\n",
       "      <td>21.0</td>\n",
       "      <td>396.90</td>\n",
       "      <td>7.88</td>\n",
       "      <td>1.0</td>\n",
       "    </tr>\n",
       "  </tbody>\n",
       "</table>\n",
       "</div>"
      ],
      "text/plain": [
       "        CRIM   ZN  INDUS  CHAS    NOX     RM   AGE     DIS  RAD    TAX  \\\n",
       "501  0.06263  0.0  11.93   0.0  0.573  6.593  69.1  2.4786  1.0  273.0   \n",
       "502  0.04527  0.0  11.93   0.0  0.573  6.120  76.7  2.2875  1.0  273.0   \n",
       "503  0.06076  0.0  11.93   0.0  0.573  6.976  91.0  2.1675  1.0  273.0   \n",
       "504  0.10959  0.0  11.93   0.0  0.573  6.794  89.3  2.3889  1.0  273.0   \n",
       "505  0.04741  0.0  11.93   0.0  0.573  6.030  80.8  2.5050  1.0  273.0   \n",
       "\n",
       "     PTRATIO       B  LSTAT  const  \n",
       "501     21.0  391.99   9.67    1.0  \n",
       "502     21.0  396.90   9.08    1.0  \n",
       "503     21.0  396.90   5.64    1.0  \n",
       "504     21.0  393.45   6.48    1.0  \n",
       "505     21.0  396.90   7.88    1.0  "
      ]
     },
     "execution_count": 40,
     "metadata": {},
     "output_type": "execute_result"
    }
   ],
   "source": [
    "from sklearn.datasets import load_boston\n",
    "import pandas as pd\n",
    "import numpy as np\n",
    "import tensorflow as tf\n",
    "boston=load_boston()\n",
    "df=pd.DataFrame(boston.data,columns=boston.feature_names)\n",
    "df['const']=np.ones(df.shape[0])\n",
    "df.tail()"
   ]
  },
  {
   "cell_type": "code",
   "execution_count": 47,
   "metadata": {},
   "outputs": [
    {
     "name": "stdout",
     "output_type": "stream",
     "text": [
      "506 14\n"
     ]
    }
   ],
   "source": [
    "n,m=df.shape\n",
    "print(n,m) #506 : 데이터포인트 (관측치) 14 변수\n",
    "\n",
    "X=tf.placeholder(tf.float64,shape=(n,m))\n",
    "y=tf.placeholder(tf.float64,shape=(n,1))\n",
    "XT=tf.transpose(X)"
   ]
  },
  {
   "cell_type": "code",
   "execution_count": 46,
   "metadata": {},
   "outputs": [
    {
     "name": "stdout",
     "output_type": "stream",
     "text": [
      "예측한집값: [18.40613603] 실제집값: 18.2\n"
     ]
    }
   ],
   "source": [
    "#행렬식\n",
    "#거듭제곱:상관계수\n",
    "#14x506, 506x14 =>14x14 상관행렬 =>\n",
    "# 역행렬을 통해서 14 x14 ,14x 506 \n",
    "#14 x 506 , 506 x 1 =>14 x 1 로 결정(가중치)\n",
    "#역행렬을 이용해서 가중치를 결정 \n",
    "w=tf.matmul(tf.matmul(tf.matrix_inverse(tf.matmul(XT,X)),XT),y)\n",
    "y_pred=tf.matmul(X,w) #506 x 14, 14x 1=>506 x 1 회귀식\n",
    "with tf.Session() as sess:\n",
    "    y_pred_=sess.run(y_pred, feed_dict={X:df.values,y:boston.target.reshape(-1,1)})\n",
    "print('예측한집값:',y_pred_[19],\"실제집값:\",boston.target[19])"
   ]
  },
  {
   "cell_type": "code",
   "execution_count": 53,
   "metadata": {},
   "outputs": [
    {
     "name": "stdout",
     "output_type": "stream",
     "text": [
      "홑일때  [0 2 3 0 2 3 0 2 3 0 2 3 0 2 3]\n"
     ]
    }
   ],
   "source": [
    "import tensorflow as tf\n",
    "sess=tf.Session()\n",
    "val=[0,2,3]\n",
    "val=tf.tile(val,[5]) #5번 \n",
    "print('홑일때 ',sess.run(val))"
   ]
  },
  {
   "cell_type": "code",
   "execution_count": 54,
   "metadata": {},
   "outputs": [
    {
     "name": "stdout",
     "output_type": "stream",
     "text": [
      "2차원일때 [[1 1 1 1 1 1]\n",
      " [2 2 2 2 2 2]\n",
      " [3 3 3 3 3 3]\n",
      " [1 1 1 1 1 1]\n",
      " [2 2 2 2 2 2]\n",
      " [3 3 3 3 3 3]\n",
      " [1 1 1 1 1 1]\n",
      " [2 2 2 2 2 2]\n",
      " [3 3 3 3 3 3]\n",
      " [1 1 1 1 1 1]\n",
      " [2 2 2 2 2 2]\n",
      " [3 3 3 3 3 3]\n",
      " [1 1 1 1 1 1]\n",
      " [2 2 2 2 2 2]\n",
      " [3 3 3 3 3 3]]\n"
     ]
    }
   ],
   "source": [
    "#타일은 차원을 확대하지는 않음,차수만 확대\n",
    "val=[[1,1,1],[2,2,2],[3,3,3]] \n",
    "val=tf.tile(val,[5,2]) #5번 2번씩 반복?  =>15 x 6 \n",
    "print('2차원일때',sess.run(val))"
   ]
  },
  {
   "cell_type": "code",
   "execution_count": 58,
   "metadata": {},
   "outputs": [
    {
     "name": "stdout",
     "output_type": "stream",
     "text": [
      "[[ 1.  2.  1.  2.  1.  2.]\n",
      " [ 2.  1.  2.  1.  2.  1.]\n",
      " [-2. -1. -2. -1. -2. -1.]]\n",
      "[[ 1.  2.  1.  2.  1.  2.]\n",
      " [ 2.  1.  2.  1.  2.  1.]\n",
      " [-2. -1. -2. -1. -2. -1.]\n",
      " [ 1.  2.  1.  2.  1.  2.]\n",
      " [ 2.  1.  2.  1.  2.  1.]\n",
      " [-2. -1. -2. -1. -2. -1.]]\n"
     ]
    }
   ],
   "source": [
    "input_vecs=[[1.,2.],[2.,1.],[-2.,-1.]]\n",
    "tiled_vecs=tf.tile(input_vecs,[1,3])\n",
    "print(sess.run(tiled_vecs))\n",
    "tiled_vecs=tf.tile(input_vecs,[2,3])\n",
    "print(sess.run(tiled_vecs))"
   ]
  },
  {
   "cell_type": "code",
   "execution_count": null,
   "metadata": {},
   "outputs": [],
   "source": [
    "#kmeans :k 가 결정=>중심이 발생\n",
    "-각 데이터의 중심값을 빼서 거리값을 계산 "
   ]
  },
  {
   "cell_type": "code",
   "execution_count": 75,
   "metadata": {},
   "outputs": [],
   "source": [
    "import matplotlib.pyplot as plt\n",
    "from sklearn import datasets\n",
    "from sklearn.preprocessing import scale\n",
    "from tensorflow.python.framework import ops\n",
    "ops.reset_default_graph() #그래프 초기화\n",
    "sess=tf.Session()\n",
    "iris=datasets.load_iris() #4개의 변수와 target"
   ]
  },
  {
   "cell_type": "code",
   "execution_count": 76,
   "metadata": {},
   "outputs": [],
   "source": [
    "num_pts=len(iris.data) #행수\n",
    "num_feats=len(iris.data[0]) #columns 수?  #shape 이랑 data는 다름\n",
    "k=3 #군집수 \n",
    "generations=25 #epoch\n",
    "data_points=tf.Variable(iris.data)\n",
    "\n",
    "#레이블 변수 \n",
    "cluster_labels=tf.Variable(tf.zeros([num_pts],dtype=tf.int64))\n",
    "\n",
    "#중심 데이터를 랜덤으로 취함 \n",
    "#중신의 열변수 개수->4개 \n",
    "rand_starts=np.array([iris.data[np.random.choice(len(iris.data))] for _ in range(k)])\n",
    "centroids=tf.Variable(rand_starts) #중심저장 변수\n",
    "centroid_matrix=tf.reshape(tf.tile(centroids,[num_pts,1]),[num_pts,k,num_feats]) #(150, k=3 , 4)\n",
    "point_matrix=tf.reshape(tf.tile(data_points,[1,k]),[num_pts,k,num_feats]) #1은 변화가 없고(본 데이터) k=3 개, 150 개 x3 만큼 늘어남\n",
    "distances=tf.reduce_sum(tf.square(point_matrix-centroid_matrix),axis=2) #열 중심하고 데이터를 한번에 빼면 거리값이 나옴\n",
    "\n",
    "#2개 전제 (인덱스 , 실제값 비교)\n",
    "centroid_group=tf.argmin(distances,1) #중심거리 1, 중심거리 2, 중심거리 3으로 만들어짐 : argmin :가장 작은 것이 있는 그룹1개 선택"
   ]
  },
  {
   "cell_type": "code",
   "execution_count": 77,
   "metadata": {},
   "outputs": [],
   "source": [
    "#그룹별로 거리의 평균\n",
    "def data_group_avg(group_ids,data):\n",
    "    #라벨번호로 값의 합계:라벨-값, 그룹이 3개 \n",
    "    sum_total=tf.unsorted_segment_sum(data,group_ids,3) #unsorted_segment_sum:라벨 번호로 값의 합계 -라벨을 기준으로 값을 합침\n",
    "    \n",
    "    #그룹의 전체 개수 \n",
    "    num_total=tf.unsorted_segment_sum(tf.ones_like(data),group_ids,3) #ones_like :1로 되어진것 \n",
    "    avg_by_group=sum_total/num_total #그룹의 평균거리\n",
    "    return(avg_by_group)\n",
    "means=data_group_avg(centroid_group,data_points)\n",
    "\n",
    "#없데이트 node 를 결정\n",
    "update=tf.group(centroids.assign(means),cluster_labels.assign(centroid_group)) #assign(means) :중심거리를 재 계산\n",
    "init=tf.global_variables_initializer()\n",
    "sess.run(init)"
   ]
  },
  {
   "cell_type": "code",
   "execution_count": 78,
   "metadata": {},
   "outputs": [
    {
     "name": "stdout",
     "output_type": "stream",
     "text": [
      "calculating gen 0, out of 25.\n",
      "group counts:[11, 32, 107]\n",
      "calculating gen 1, out of 25.\n",
      "group counts:[13, 59, 78]\n",
      "calculating gen 2, out of 25.\n",
      "group counts:[16, 76, 58]\n",
      "calculating gen 3, out of 25.\n",
      "group counts:[23, 74, 53]\n",
      "calculating gen 4, out of 25.\n",
      "group counts:[32, 67, 51]\n",
      "calculating gen 5, out of 25.\n",
      "group counts:[35, 65, 50]\n",
      "calculating gen 6, out of 25.\n",
      "group counts:[38, 62, 50]\n",
      "calculating gen 7, out of 25.\n",
      "group counts:[38, 62, 50]\n",
      "calculating gen 8, out of 25.\n",
      "group counts:[38, 62, 50]\n",
      "calculating gen 9, out of 25.\n",
      "group counts:[38, 62, 50]\n",
      "calculating gen 10, out of 25.\n",
      "group counts:[38, 62, 50]\n",
      "calculating gen 11, out of 25.\n",
      "group counts:[38, 62, 50]\n",
      "calculating gen 12, out of 25.\n",
      "group counts:[38, 62, 50]\n",
      "calculating gen 13, out of 25.\n",
      "group counts:[38, 62, 50]\n",
      "calculating gen 14, out of 25.\n",
      "group counts:[38, 62, 50]\n",
      "calculating gen 15, out of 25.\n",
      "group counts:[38, 62, 50]\n",
      "calculating gen 16, out of 25.\n",
      "group counts:[38, 62, 50]\n",
      "calculating gen 17, out of 25.\n",
      "group counts:[38, 62, 50]\n",
      "calculating gen 18, out of 25.\n",
      "group counts:[38, 62, 50]\n",
      "calculating gen 19, out of 25.\n",
      "group counts:[38, 62, 50]\n",
      "calculating gen 20, out of 25.\n",
      "group counts:[38, 62, 50]\n",
      "calculating gen 21, out of 25.\n",
      "group counts:[38, 62, 50]\n",
      "calculating gen 22, out of 25.\n",
      "group counts:[38, 62, 50]\n",
      "calculating gen 23, out of 25.\n",
      "group counts:[38, 62, 50]\n",
      "calculating gen 24, out of 25.\n",
      "group counts:[38, 62, 50]\n"
     ]
    }
   ],
   "source": [
    "for i in range(generations):\n",
    "    print('calculating gen {}, out of {}.'.format(i, generations))\n",
    "    \n",
    "    #centroid_group :그룹번호가 결정\n",
    "    #update : 군집의 중심값을 재계산하고 그룹을 변경\n",
    "    _,centroid_group_count=sess.run([update,centroid_group])\n",
    "    group_count=[]\n",
    "    for ix in range(k): #군집번호 , 군집별 카운트\n",
    "        group_count.append(np.sum(centroid_group_count==ix))\n",
    "    print('group counts:{}'.format(group_count))\n",
    "\n",
    "#결정된 중심값, 할당된 군집번호를 받음 \n",
    "[centers,assignments]=sess.run([centroids,cluster_labels])"
   ]
  },
  {
   "cell_type": "code",
   "execution_count": 79,
   "metadata": {},
   "outputs": [
    {
     "name": "stdout",
     "output_type": "stream",
     "text": [
      "accuracy:0.89\n"
     ]
    }
   ],
   "source": [
    "#set :키의 중복을 불허 \n",
    "def most_common(my_list): #대표성을 띈 라벨을 결정 \n",
    "    return(max(set(my_list),key=my_list.count))\n",
    "label0=most_common(list(assignments[0:50])) #라벨링\n",
    "label1=most_common(list(assignments[50:100]))\n",
    "label2=most_common(list(assignments[100:150]))\n",
    "group0_count=np.sum(assignments[0:50]==label0)\n",
    "group1_count=np.sum(assignments[50:100]==label1)\n",
    "group2_count=np.sum(assignments[100:150]==label2)\n",
    "accuracy=(group0_count+group1_count+group2_count)/150.\n",
    "print('accuracy:{:.2}'.format(accuracy)) #89% kmens 로 군집화 "
   ]
  },
  {
   "cell_type": "code",
   "execution_count": 15,
   "metadata": {},
   "outputs": [],
   "source": [
    "import tensorflow as tf\n",
    "import csv\n",
    "import random\n",
    "import numpy as np\n",
    "from tensorflow.python.framework import ops\n",
    "import matplotlib.pyplot as plt\n",
    "from sklearn import datasets\n",
    "from sklearn.preprocessing import scale\n",
    "from tensorflow.python.framework import ops\n",
    "\n",
    "ops.reset_default_graph()"
   ]
  },
  {
   "cell_type": "code",
   "execution_count": 119,
   "metadata": {},
   "outputs": [],
   "source": [
    "response=6\n",
    "batch_size=50\n",
    "symmetry=['rotate180','rotate90','rotate270','flip_v','flip_h']"
   ]
  },
  {
   "cell_type": "code",
   "execution_count": 120,
   "metadata": {},
   "outputs": [],
   "source": [
    "#말판\n",
    "def print_board(board):\n",
    "    symbols=['0',' ','X']\n",
    "    board_plus1=[int(x)+1 for x in board]\n",
    "    print(' '+symbols[board_plus1[0]]+' | '+symbols[board_plus1[1]]+' | '+symbols[board_plus1[2]])\n",
    "    print('__________')\n",
    "    print(' '+symbols[board_plus1[3]]+' | '+symbols[board_plus1[4]]+' | '+symbols[board_plus1[5]])\n",
    "    print('__________')\n",
    "    print(' '+symbols[board_plus1[6]]+' | '+symbols[board_plus1[7]]+' | '+symbols[board_plus1[8]])\n",
    "    print('__________')"
   ]
  },
  {
   "cell_type": "code",
   "execution_count": 121,
   "metadata": {},
   "outputs": [],
   "source": [
    "#다양한 경우르 충족하기 위해 변화\n",
    "def get_symmetry(board,response,transformation):\n",
    "    if transformation=='rotate180':\n",
    "        new_response=8-response\n",
    "        return(board[::-1],new_response)\n",
    "    elif transformation=='rotate90':\n",
    "        new_response=[6,3,0,7,4,1,8,5,2].index(response)\n",
    "        tuple_board=list(zip(*board[6:9],board[3:6],board[0:3]))\n",
    "        return([value for item in tuple_board for value in item],\n",
    "              new_response)\n",
    "    elif transformation == 'rotate270':\n",
    "        new_response=[2,5,8,1,4,7,0,3,6].index(response)\n",
    "        tuple_board=list(zip(*board[0:3],board[3:6],board[6:9]))[::-1]\n",
    "        return([value for item in tuple_board for value in item],\n",
    "              new_response)\n",
    "    elif transformation == 'flip_v':\n",
    "        new_response=[6,7,8,3,4,5,0,1,2].index(response)\n",
    "        return(board[6:9]+board[3:6]+board[0:3],new_response)\n",
    "    elif transformation == 'flip_h':\n",
    "        new_response=[2,1,0,5,4,3,8,7,6].index(response)\n",
    "        new_board=board[::-1]\n",
    "        return(new_board[6:9]+new_board[3:6]+new_board[0:3],new_response)\n",
    "    else:\n",
    "        raise ValueError('해당하는 경우가 없음')"
   ]
  },
  {
   "cell_type": "code",
   "execution_count": 122,
   "metadata": {},
   "outputs": [],
   "source": [
    "def get_moves_from_csv(csv_file):\n",
    "    moves=[]\n",
    "    with open(csv_file,'rt') as csvfile:\n",
    "        reader=csv.reader(csvfile,delimiter=',')\n",
    "        for row in reader:\n",
    "            moves.append(([int(x) for x in row[0:9]],int(row[9])))\n",
    "    return(moves)"
   ]
  },
  {
   "cell_type": "code",
   "execution_count": 123,
   "metadata": {},
   "outputs": [],
   "source": [
    "def get_rand_move(moves,n=1, rand_transforms=2):\n",
    "    (board,response)=random.choice(moves)\n",
    "    possible_transforms=['rotate90','rotate180','rotate270','flip_v','flip_h']\n",
    "    for i in range(rand_transforms):\n",
    "        random_transform=random.choice(possible_transforms)\n",
    "        (board,response)=get_symmetry(board,response,random_transform)\n",
    "    return(board,response)"
   ]
  },
  {
   "cell_type": "code",
   "execution_count": 108,
   "metadata": {},
   "outputs": [
    {
     "ename": "TypeError",
     "evalue": "zip argument #1 must support iteration",
     "output_type": "error",
     "traceback": [
      "\u001b[1;31m---------------------------------------------------------------------------\u001b[0m",
      "\u001b[1;31mTypeError\u001b[0m                                 Traceback (most recent call last)",
      "\u001b[1;32m<ipython-input-108-7b233b55acad>\u001b[0m in \u001b[0;36m<module>\u001b[1;34m\u001b[0m\n\u001b[0;32m      3\u001b[0m \u001b[0mtrain_set\u001b[0m\u001b[1;33m=\u001b[0m\u001b[1;33m[\u001b[0m\u001b[1;33m]\u001b[0m\u001b[1;33m\u001b[0m\u001b[1;33m\u001b[0m\u001b[0m\n\u001b[0;32m      4\u001b[0m \u001b[1;32mfor\u001b[0m \u001b[0mt\u001b[0m \u001b[1;32min\u001b[0m \u001b[0mrange\u001b[0m\u001b[1;33m(\u001b[0m\u001b[0mtrain_length\u001b[0m\u001b[1;33m)\u001b[0m\u001b[1;33m:\u001b[0m\u001b[1;33m\u001b[0m\u001b[1;33m\u001b[0m\u001b[0m\n\u001b[1;32m----> 5\u001b[1;33m     \u001b[0mtrain_set\u001b[0m\u001b[1;33m.\u001b[0m\u001b[0mappend\u001b[0m\u001b[1;33m(\u001b[0m\u001b[0mget_rand_move\u001b[0m\u001b[1;33m(\u001b[0m\u001b[0mmoves\u001b[0m\u001b[1;33m)\u001b[0m\u001b[1;33m)\u001b[0m\u001b[1;33m\u001b[0m\u001b[1;33m\u001b[0m\u001b[0m\n\u001b[0m",
      "\u001b[1;32m<ipython-input-107-3a6395698f19>\u001b[0m in \u001b[0;36mget_rand_move\u001b[1;34m(moves, n, rand_transforms)\u001b[0m\n\u001b[0;32m      4\u001b[0m     \u001b[1;32mfor\u001b[0m \u001b[0mi\u001b[0m \u001b[1;32min\u001b[0m \u001b[0mrange\u001b[0m\u001b[1;33m(\u001b[0m\u001b[0mrand_transforms\u001b[0m\u001b[1;33m)\u001b[0m\u001b[1;33m:\u001b[0m\u001b[1;33m\u001b[0m\u001b[1;33m\u001b[0m\u001b[0m\n\u001b[0;32m      5\u001b[0m         \u001b[0mrandom_transform\u001b[0m\u001b[1;33m=\u001b[0m\u001b[0mrandom\u001b[0m\u001b[1;33m.\u001b[0m\u001b[0mchoice\u001b[0m\u001b[1;33m(\u001b[0m\u001b[0mpossible_transforms\u001b[0m\u001b[1;33m)\u001b[0m\u001b[1;33m\u001b[0m\u001b[1;33m\u001b[0m\u001b[0m\n\u001b[1;32m----> 6\u001b[1;33m         \u001b[1;33m(\u001b[0m\u001b[0mboard\u001b[0m\u001b[1;33m,\u001b[0m\u001b[0mresponse\u001b[0m\u001b[1;33m)\u001b[0m\u001b[1;33m=\u001b[0m\u001b[0mget_symmetry\u001b[0m\u001b[1;33m(\u001b[0m\u001b[0mboard\u001b[0m\u001b[1;33m,\u001b[0m\u001b[0mresponse\u001b[0m\u001b[1;33m,\u001b[0m\u001b[0mrandom_transform\u001b[0m\u001b[1;33m)\u001b[0m\u001b[1;33m\u001b[0m\u001b[1;33m\u001b[0m\u001b[0m\n\u001b[0m\u001b[0;32m      7\u001b[0m     \u001b[1;32mreturn\u001b[0m\u001b[1;33m(\u001b[0m\u001b[0mboard\u001b[0m\u001b[1;33m,\u001b[0m\u001b[0mresponse\u001b[0m\u001b[1;33m)\u001b[0m\u001b[1;33m\u001b[0m\u001b[1;33m\u001b[0m\u001b[0m\n",
      "\u001b[1;32m<ipython-input-105-df374607c439>\u001b[0m in \u001b[0;36mget_symmetry\u001b[1;34m(board, response, transformation)\u001b[0m\n\u001b[0;32m      6\u001b[0m     \u001b[1;32melif\u001b[0m \u001b[0mtransformation\u001b[0m\u001b[1;33m==\u001b[0m\u001b[1;34m'rotate90'\u001b[0m\u001b[1;33m:\u001b[0m\u001b[1;33m\u001b[0m\u001b[1;33m\u001b[0m\u001b[0m\n\u001b[0;32m      7\u001b[0m         \u001b[0mnew_response\u001b[0m\u001b[1;33m=\u001b[0m\u001b[1;33m[\u001b[0m\u001b[1;36m6\u001b[0m\u001b[1;33m,\u001b[0m\u001b[1;36m3\u001b[0m\u001b[1;33m,\u001b[0m\u001b[1;36m0\u001b[0m\u001b[1;33m,\u001b[0m\u001b[1;36m7\u001b[0m\u001b[1;33m,\u001b[0m\u001b[1;36m4\u001b[0m\u001b[1;33m,\u001b[0m\u001b[1;36m1\u001b[0m\u001b[1;33m,\u001b[0m\u001b[1;36m8\u001b[0m\u001b[1;33m,\u001b[0m\u001b[1;36m5\u001b[0m\u001b[1;33m,\u001b[0m\u001b[1;36m2\u001b[0m\u001b[1;33m]\u001b[0m\u001b[1;33m.\u001b[0m\u001b[0mindex\u001b[0m\u001b[1;33m(\u001b[0m\u001b[0mresponse\u001b[0m\u001b[1;33m)\u001b[0m\u001b[1;33m\u001b[0m\u001b[1;33m\u001b[0m\u001b[0m\n\u001b[1;32m----> 8\u001b[1;33m         \u001b[0mtuple_board\u001b[0m\u001b[1;33m=\u001b[0m\u001b[0mlist\u001b[0m\u001b[1;33m(\u001b[0m\u001b[0mzip\u001b[0m\u001b[1;33m(\u001b[0m\u001b[1;33m*\u001b[0m\u001b[0mboard\u001b[0m\u001b[1;33m[\u001b[0m\u001b[1;36m6\u001b[0m\u001b[1;33m:\u001b[0m\u001b[1;36m9\u001b[0m\u001b[1;33m]\u001b[0m\u001b[1;33m,\u001b[0m\u001b[0mboard\u001b[0m\u001b[1;33m[\u001b[0m\u001b[1;36m3\u001b[0m\u001b[1;33m:\u001b[0m\u001b[1;36m6\u001b[0m\u001b[1;33m]\u001b[0m\u001b[1;33m,\u001b[0m\u001b[0mboard\u001b[0m\u001b[1;33m[\u001b[0m\u001b[1;36m0\u001b[0m\u001b[1;33m:\u001b[0m\u001b[1;36m3\u001b[0m\u001b[1;33m]\u001b[0m\u001b[1;33m)\u001b[0m\u001b[1;33m)\u001b[0m\u001b[1;33m\u001b[0m\u001b[1;33m\u001b[0m\u001b[0m\n\u001b[0m\u001b[0;32m      9\u001b[0m         return([value for item in tuple_board for value in item],\n\u001b[0;32m     10\u001b[0m               new_response)\n",
      "\u001b[1;31mTypeError\u001b[0m: zip argument #1 must support iteration"
     ]
    }
   ],
   "source": [
    "moves=get_moves_from_csv('tictactoe_moves.csv')\n",
    "train_length=500\n",
    "train_set=[]\n",
    "for t in range(train_length):\n",
    "    train_set.append(get_rand_move(moves))"
   ]
  },
  {
   "cell_type": "code",
   "execution_count": null,
   "metadata": {},
   "outputs": [],
   "source": [
    "def init_weights(shape):\n",
    "    return(tf.Variable(tf.random_normal(shape)))"
   ]
  },
  {
   "cell_type": "code",
   "execution_count": null,
   "metadata": {},
   "outputs": [],
   "source": [
    "def model(X,A1,A2,bias1,bias2):\n",
    "    layer1=tf.nn.sigmoid(tf.add(tf.matmul(X,A1),bias1))\n",
    "    layer2=tf.add(tf.matmul(layer1,A2),bias2)\n",
    "    return(layer2)"
   ]
  },
  {
   "cell_type": "code",
   "execution_count": null,
   "metadata": {},
   "outputs": [],
   "source": [
    "X=tf.placeholder(dtype=tf.float32,shape=[None,9])\n",
    "Y=tf.placeholder(dtype=tf.float32,shape=[None])\n",
    "A1=init_weights([9,81])\n",
    "bias1=init_weights([81])\n",
    "A2=init_weights([81,9])\n",
    "bias1=init_weights([9])\n",
    "model_output=model(X,A1,A2,bias1,bias2)\n",
    "\n",
    "loss=tf.reduce_mean(tf.nn.sparse_sofemax_cross_entropy_with_logits(logits=model_output,labels=Y)\n",
    "train_step=tf.train.GradientDescentOptimizer(0.025).minimize(loss)\n",
    "prediction=tf.argmax(model_output,1)\n",
    "sess=tf.Session()\n",
    "init=tf.global_variables_initializer()\n",
    "sess.run(init)"
   ]
  },
  {
   "cell_type": "code",
   "execution_count": null,
   "metadata": {},
   "outputs": [],
   "source": [
    "loss_vec=[]\n",
    "for i in range(10000):\n",
    "    rand_indices=np.random.choice(range(len(train_set)),batch_size,replace=False)\n",
    "    batch_data=[train_set[i] for i in rand_indices]\n",
    "    x_input=[x[0] for x in batch_data]\n",
    "    y_target=np.array([y[1] for y in batch_data])\n",
    "    sess.run(train_step, feed_dict={X:x_input, Y:y_target})\n",
    "    temp_loss=sess.run(loss, feed_dict={X:x_input, Y:y_target})\n",
    "    loss_vec.append(temp_loss)\n",
    "    if i%500==0:\n",
    "        print('iteration'+str(i)+'loss:'+str(temp_loss))\n",
    "        "
   ]
  },
  {
   "cell_type": "code",
   "execution_count": null,
   "metadata": {},
   "outputs": [],
   "source": [
    "test_board=[-1,0,0,1,-1,-1,0,0,1]\n",
    "train_set=[x for x in train_set if x[0] !=test_board]"
   ]
  },
  {
   "cell_type": "code",
   "execution_count": null,
   "metadata": {},
   "outputs": [],
   "source": [
    "#게임 승패 결정\n",
    "def check(board):\n",
    "    wins = [[0, 1, 2], [3, 4, 5], [6, 7, 8], [0, 3, 6], [1, 4, 7], [2, 5, 8], [0, 4, 8], [2, 4, 6]]\n",
    "    for ix in range(len(wins)):\n",
    "        if board[wins[ix][0]] == board[wins[ix][1]] == board[wins[ix][2]] == 1.:\n",
    "            return 1\n",
    "        elif board[wins[ix][0]] == board[wins[ix][1]] == board[wins[ix][2]] == -1.:\n",
    "            return 1\n",
    "    return 0\n",
    "\n",
    "# Let's play against our model\n",
    "game_tracker = [0., 0., 0., 0., 0., 0., 0., 0., 0.]\n",
    "win_logical = False\n",
    "num_moves = 0\n",
    "while not win_logical:\n",
    "    player_index = input('이동하고 싶은 인덱스를 입력하시오 (0-8): ')\n",
    "    num_moves += 1\n",
    "    # Add player move to game\n",
    "    game_tracker[int(player_index)] = 1.\n",
    "    \n",
    "    # Get model's move by first getting all the logits for each index\n",
    "    [potential_moves] = sess.run(model_output, feed_dict={X: [game_tracker]})\n",
    "    # Now find allowed moves (where game tracker values = 0.0)\n",
    "    allowed_moves = [ix for ix, x in enumerate(game_tracker) if x == 0.0]\n",
    "    # Find best move by taking argmax of logits if they are in allowed moves\n",
    "    model_move = np.argmax([x if ix in allowed_moves else -999.0 for ix, x in enumerate(potential_moves)])\n",
    "    \n",
    "    # Add model move to game\n",
    "    game_tracker[int(model_move)] = -1.\n",
    "    print('모델이 이동하였습니다')\n",
    "    print_board(game_tracker)\n",
    "    # Now check for win or too many moves\n",
    "    if check(game_tracker) == 1 or num_moves >= 5:\n",
    "        print('게임종료 승리했습니다!!')\n",
    "        win_logical = True\n",
    "    elif "
   ]
  },
  {
   "cell_type": "code",
   "execution_count": null,
   "metadata": {},
   "outputs": [],
   "source": [
    "####################################################\n",
    "게임승패결정"
   ]
  },
  {
   "cell_type": "code",
   "execution_count": 16,
   "metadata": {},
   "outputs": [],
   "source": [
    "# Test board optimal response:\n",
    "response = 6\n",
    "# Set batch size and five different symmetries of board positions\n",
    "batch_size = 50\n",
    "symmetry = ['rotate180', 'rotate90', 'rotate270', 'flip_v', 'flip_h']\n",
    "\n",
    "\n",
    "# Print a board \n",
    "def print_board(board):  #말판출력\n",
    "    symbols = ['O', ' ', 'X'] #유저,컴퓨터\n",
    "    board_plus1 = [int(x) + 1 for x in board]\n",
    "    board_line1 = ' {} | {} | {}'.format(symbols[board_plus1[0]],\n",
    "                                         symbols[board_plus1[1]],\n",
    "                                         symbols[board_plus1[2]])\n",
    "    board_line2 = ' {} | {} | {}'.format(symbols[board_plus1[3]],\n",
    "                                         symbols[board_plus1[4]],\n",
    "                                         symbols[board_plus1[5]])\n",
    "    board_line3 = ' {} | {} | {}'.format(symbols[board_plus1[6]],\n",
    "                                         symbols[board_plus1[7]],\n",
    "                                         symbols[board_plus1[8]])\n",
    "    print(board_line1)\n",
    "    print('___________')\n",
    "    print(board_line2)\n",
    "    print('___________')\n",
    "    print(board_line3)\n",
    "\n",
    "\n"
   ]
  },
  {
   "cell_type": "code",
   "execution_count": 17,
   "metadata": {},
   "outputs": [],
   "source": [
    "# Given a board, a response, and a transformation, get the new board+response\n",
    "def get_symmetry(board, play_response, transformation): #컴퓨터의 위치를 잡기위해...\n",
    "    if transformation == 'rotate180':\n",
    "        new_response = 8 - play_response   #1번 이면 7자리로?? ........\n",
    "        return board[::-1], new_response\n",
    "    elif transformation == 'rotate90':\n",
    "        new_response = [6, 3, 0, 7, 4, 1, 8, 5, 2].index(play_response)\n",
    "        tuple_board = list(zip(*[board[6:9], board[3:6], board[0:3]]))\n",
    "        return [value for item in tuple_board for value in item], new_response\n",
    "    elif transformation == 'rotate270':\n",
    "        new_response = [2, 5, 8, 1, 4, 7, 0, 3, 6].index(play_response)\n",
    "        tuple_board = list(zip(*[board[0:3], board[3:6], board[6:9]]))[::-1]\n",
    "        return [value for item in tuple_board for value in item], new_response\n",
    "    elif transformation == 'flip_v':\n",
    "        new_response = [6, 7, 8, 3, 4, 5, 0, 1, 2].index(play_response)\n",
    "        return board[6:9] + board[3:6] + board[0:3], new_response\n",
    "    elif transformation == 'flip_h':  # flip_h = rotate180, then flip_v\n",
    "        new_response = [2, 1, 0, 5, 4, 3, 8, 7, 6].index(play_response)\n",
    "        new_board = board[::-1]\n",
    "        return new_board[6:9] + new_board[3:6] + new_board[0:3], new_response\n",
    "    else:\n",
    "        raise ValueError('Method not implemented.')\n",
    "\n",
    "\n",
    "# Read in board move csv file\n",
    "def get_moves_from_csv(csv_file):\n",
    "    play_moves = []\n",
    "    with open(csv_file, 'rt') as csvfile:\n",
    "        reader = csv.reader(csvfile, delimiter=',')\n",
    "        for row in reader:\n",
    "            play_moves.append(([int(x) for x in row[0:9]], int(row[9])))\n",
    "    return play_moves\n",
    "\n",
    "\n",
    "# Get random board with optimal move\n",
    "def get_rand_move(play_moves, rand_transforms=2):\n",
    "    \n",
    "    (board, play_response) = random.choice(play_moves)\n",
    "    possible_transforms = ['rotate90', 'rotate180', 'rotate270', 'flip_v', 'flip_h']\n",
    "    for _ in range(rand_transforms):\n",
    "        random_transform = random.choice(possible_transforms)\n",
    "        (board, play_response) = get_symmetry(board, play_response, random_transform)\n",
    "    return board, play_response\n",
    "\n"
   ]
  },
  {
   "cell_type": "code",
   "execution_count": 18,
   "metadata": {},
   "outputs": [
    {
     "name": "stdout",
     "output_type": "stream",
     "text": [
      "Iteration: 0, Loss: 4.203567028045654\n",
      "Iteration: 500, Loss: 2.0324366092681885\n",
      "Iteration: 1000, Loss: 2.0720908641815186\n",
      "Iteration: 1500, Loss: 1.416504979133606\n",
      "Iteration: 2000, Loss: 1.3396719694137573\n",
      "Iteration: 2500, Loss: 1.2184436321258545\n",
      "Iteration: 3000, Loss: 1.371156930923462\n",
      "Iteration: 3500, Loss: 1.2323663234710693\n",
      "Iteration: 4000, Loss: 1.0571900606155396\n",
      "Iteration: 4500, Loss: 1.1692472696304321\n",
      "Iteration: 5000, Loss: 0.8333152532577515\n",
      "Iteration: 5500, Loss: 0.830128014087677\n",
      "Iteration: 6000, Loss: 0.8997588157653809\n",
      "Iteration: 6500, Loss: 0.8966100215911865\n",
      "Iteration: 7000, Loss: 0.7803314924240112\n",
      "Iteration: 7500, Loss: 1.0046745538711548\n",
      "Iteration: 8000, Loss: 0.7307809591293335\n",
      "Iteration: 8500, Loss: 1.010366678237915\n",
      "Iteration: 9000, Loss: 0.61307692527771\n",
      "Iteration: 9500, Loss: 0.7193627953529358\n"
     ]
    }
   ],
   "source": [
    "# Get list of optimal moves w/ responses\n",
    "moves = get_moves_from_csv('tictactoe_moves.csv')\n",
    "\n",
    "# Create a train set:\n",
    "train_length = 500\n",
    "train_set = []\n",
    "for t in range(train_length):\n",
    "    train_set.append(get_rand_move(moves))\n",
    "\n",
    "# To see if the network learns anything new, we will remove\n",
    "# all instances of the board [-1, 0, 0, 1, -1, -1, 0, 0, 1],\n",
    "# which the optimal response will be the index '6'.  We will\n",
    "# Test this at the end.\n",
    "test_board = [-1, 0, 0, 1, -1, -1, 0, 0, 1]\n",
    "train_set = [x for x in train_set if x[0] != test_board]\n",
    "\n",
    "\n",
    "def init_weights(shape):\n",
    "    return tf.Variable(tf.random_normal(shape))\n",
    "\n",
    "\n",
    "def model(X, A1, A2, bias1, bias2):\n",
    "    layer1 = tf.nn.sigmoid(tf.add(tf.matmul(X, A1), bias1))\n",
    "    layer2 = tf.add(tf.matmul(layer1, A2), bias2)\n",
    "    # Note: we don't take the softmax at the end because our cost function does that for us\n",
    "    return layer2\n",
    "\n",
    "X = tf.placeholder(dtype=tf.float32, shape=[None, 9])\n",
    "Y = tf.placeholder(dtype=tf.int32, shape=[None])\n",
    "\n",
    "A1 = init_weights([9, 81])\n",
    "bias1 = init_weights([81])\n",
    "A2 = init_weights([81, 9])\n",
    "bias2 = init_weights([9])\n",
    "\n",
    "model_output = model(X, A1, A2, bias1, bias2)\n",
    "\n",
    "loss = tf.reduce_mean(tf.nn.sparse_softmax_cross_entropy_with_logits(logits=model_output, labels=Y))\n",
    "train_step = tf.train.GradientDescentOptimizer(0.025).minimize(loss)\n",
    "prediction = tf.argmax(model_output, 1)\n",
    "\n",
    "sess = tf.Session()\n",
    "init = tf.global_variables_initializer()\n",
    "sess.run(init)\n",
    "\n",
    "loss_vec = []\n",
    "for i in range(10000):\n",
    "    rand_indices = np.random.choice(range(len(train_set)), batch_size, replace=False)\n",
    "    batch_data = [train_set[i] for i in rand_indices]\n",
    "    x_input = [x[0] for x in batch_data]\n",
    "    y_target = np.array([y[1] for y in batch_data])\n",
    "    sess.run(train_step, feed_dict={X: x_input, Y: y_target})\n",
    "    \n",
    "    temp_loss = sess.run(loss, feed_dict={X: x_input, Y: y_target})\n",
    "    loss_vec.append(temp_loss)\n",
    "    if i % 500 == 0:\n",
    "        print('Iteration: {}, Loss: {}'.format(i, temp_loss))\n",
    "\n",
    "\n"
   ]
  },
  {
   "cell_type": "code",
   "execution_count": 19,
   "metadata": {},
   "outputs": [
    {
     "data": {
      "image/png": "[encoded data removed]",
      "text/plain": [
       "<Figure size 432x288 with 1 Axes>"
      ]
     },
     "metadata": {
      "needs_background": "light"
     },
     "output_type": "display_data"
    },
    {
     "name": "stdout",
     "output_type": "stream",
     "text": [
      "[6]\n"
     ]
    }
   ],
   "source": [
    "# Print loss\n",
    "plt.plot(loss_vec, 'k-', label='Loss')\n",
    "plt.title('Loss (MSE) per Generation')\n",
    "plt.xlabel('Generation')\n",
    "plt.ylabel('Loss')\n",
    "plt.show()\n",
    "\n",
    "# Make Prediction:\n",
    "test_boards = [test_board]\n",
    "feed_dict = {X: test_boards}\n",
    "logits = sess.run(model_output, feed_dict=feed_dict)\n",
    "predictions = sess.run(prediction, feed_dict=feed_dict)\n",
    "print(predictions)\n",
    "\n",
    "\n",
    "# Declare function to check for win\n",
    "def check(board):\n",
    "    wins = [[0, 1, 2], [3, 4, 5], [6, 7, 8], [0, 3, 6], [1, 4, 7], [2, 5, 8], [0, 4, 8], [2, 4, 6]]\n",
    "    for ix in range(len(wins)):\n",
    "        if board[wins[ix][0]] == board[wins[ix][1]] == board[wins[ix][2]] == 1.:\n",
    "            return 1\n",
    "        elif board[wins[ix][0]] == board[wins[ix][1]] == board[wins[ix][2]] == -1.:\n",
    "            return 1\n",
    "    return 0\n",
    "# Let's play against our model\n",
    "game_tracker = [0., 0., 0., 0., 0., 0., 0., 0., 0.]\n",
    "win_logical = False\n",
    "num_moves = 0"
   ]
  },
  {
   "cell_type": "code",
   "execution_count": 20,
   "metadata": {},
   "outputs": [
    {
     "name": "stdout",
     "output_type": "stream",
     "text": [
      "이동하고 싶은 인덱스를 입력하시오 (0-8): 5\n",
      "모델이 이동하였습니다\n",
      "   |   |  \n",
      "___________\n",
      "   |   | X\n",
      "___________\n",
      "   |   | O\n",
      "이동하고 싶은 인덱스를 입력하시오 (0-8): 3\n",
      "모델이 이동하였습니다\n",
      " O |   |  \n",
      "___________\n",
      " X |   | X\n",
      "___________\n",
      "   |   | O\n",
      "이동하고 싶은 인덱스를 입력하시오 (0-8): 8\n",
      "모델이 이동하였습니다\n",
      " O |   | O\n",
      "___________\n",
      " X |   | X\n",
      "___________\n",
      "   |   | X\n",
      "이동하고 싶은 인덱스를 입력하시오 (0-8): 7\n",
      "모델이 이동하였습니다\n",
      " O |   | O\n",
      "___________\n",
      " X |   | X\n",
      "___________\n",
      " O | X | X\n",
      "이동하고 싶은 인덱스를 입력하시오 (0-8): 6\n",
      "모델이 이동하였습니다\n",
      " O |   | O\n",
      "___________\n",
      " X | O | X\n",
      "___________\n",
      " X | X | X\n",
      "게임종료 승리했습니다!!!\n"
     ]
    }
   ],
   "source": [
    "\n",
    "#게임은 무한루프로 돌아감\n",
    "while not win_logical:\n",
    "    player_index = input('이동하고 싶은 인덱스를 입력하시오 (0-8): ')\n",
    "    num_moves += 1\n",
    "    # Add player move to game\n",
    "    game_tracker[int(player_index)] = 1.\n",
    "    \n",
    "    # Get model's move by first getting all the logits for each index\n",
    "    [potential_moves] = sess.run(model_output, feed_dict={X: [game_tracker]})\n",
    "    # 말 여부를 확인해서 가능한 값을 선택 Now find allowed moves (where game tracker valu = 0.0)\n",
    "    allowed_moves = [ix for ix, x in enumerate(game_tracker) if x == 0.0]\n",
    "    # 허락위치에 있는 것인지 확인 Find best move by taking argmax of logits if they are in allowed moves\n",
    "    #\n",
    "    model_move = np.argmax([x if ix in allowed_moves else -999.0 for ix, x in enumerate(potential_moves)])\n",
    "    \n",
    "    # 컴퓨터가 선택 Add model move to game\n",
    "    game_tracker[int(model_move)] = -1.\n",
    "    print('모델이 이동하였습니다')\n",
    "    print_board(game_tracker) #GUI 방식\n",
    "    # Now check for win or too many moves\n",
    "    if check(game_tracker) == 1 or num_moves >= 5:\n",
    "        print('게임종료 승리했습니다!!!')\n",
    "        win_logical = True\n",
    "    elif check(game_tracker)== -1:\n",
    "        print('게임종료 졌습니다!!!!!!!')\n",
    "        win_logical = True"
   ]
  },
  {
   "cell_type": "code",
   "execution_count": null,
   "metadata": {},
   "outputs": [],
   "source": [
    "###############################################"
   ]
  },
  {
   "cell_type": "code",
   "execution_count": null,
   "metadata": {},
   "outputs": [],
   "source": [
    "CNN"
   ]
  },
  {
   "cell_type": "code",
   "execution_count": 21,
   "metadata": {},
   "outputs": [],
   "source": [
    "import os\n",
    "def save_fig(fig_id, tight_layout=True):\n",
    "    path=os.path.join('./images/',fig_id+'.png')\n",
    "    print('Saving figure',fig_id)\n",
    "    if tight_layout:\n",
    "        plt.tight_layout()\n",
    "    plt.savefig(path,format='png',dpi=300) #dpi dot per inch"
   ]
  },
  {
   "cell_type": "code",
   "execution_count": 22,
   "metadata": {},
   "outputs": [],
   "source": [
    "def reset_graph(seed=42):\n",
    "    tf.reset_default_graph()\n",
    "    tf.set_random_seed(seed)\n",
    "    np.random.seed(seed)"
   ]
  },
  {
   "cell_type": "code",
   "execution_count": 23,
   "metadata": {},
   "outputs": [],
   "source": [
    "from sklearn.datasets import load_sample_image\n",
    "china=load_sample_image('china.jpg')\n",
    "\n",
    "#70x 120: 행=높이, 열=가로\n",
    "image=china[150:220,130:250] #clipping\n",
    "height,width,channels=image.shape   #3개\n",
    "\n",
    "#0~255\n",
    "image_grayscale=image.mean(axis=2).astype(np.float32) #channel 중심으로 평균\n",
    "images=image_grayscale.reshape(1,height,width,1) #차수를 맞추기위해 확장"
   ]
  },
  {
   "cell_type": "code",
   "execution_count": 24,
   "metadata": {},
   "outputs": [],
   "source": [
    "def plot_image(image): #흑백\n",
    "    plt.imshow(image,cmap='gray',interpolation='nearest') #보간\n",
    "    plt.axis('off') #이미지축 생략\n",
    "def plot_color_image(image): #컬러\n",
    "    plt.imshow(image.astype(np.uint8),interpolation='nearest')\n",
    "    plt.axis('off')"
   ]
  },
  {
   "cell_type": "code",
   "execution_count": 40,
   "metadata": {},
   "outputs": [
    {
     "data": {
      "text/plain": [
       "array([[0., 0., 0., 1., 0., 0., 0.],\n",
       "       [0., 0., 0., 1., 0., 0., 0.],\n",
       "       [0., 0., 0., 1., 0., 0., 0.],\n",
       "       [0., 0., 0., 1., 0., 0., 0.],\n",
       "       [0., 0., 0., 1., 0., 0., 0.],\n",
       "       [0., 0., 0., 1., 0., 0., 0.],\n",
       "       [0., 0., 0., 1., 0., 0., 0.]], dtype=float32)"
      ]
     },
     "execution_count": 40,
     "metadata": {},
     "output_type": "execute_result"
    }
   ],
   "source": [
    "#필터 (필터의 높이, 필터의 가로 ,입력채널, 출력채널)\n",
    "#필터 2개 필요함 :왜? 출력채널이 2개니까\n",
    "import numpy as np\n",
    "fmap=np.zeros(shape=(7,7,1,2),dtype=np.float32)\n",
    "fmap[:,3,0,0]=1 #0,1,2,3,4,5,6  - 0은 검은색, 1은 흰색\n",
    "fmap[3,:,0,1]=1 #0 행\n",
    "fmap[:,:,0,0]\n"
   ]
  },
  {
   "cell_type": "code",
   "execution_count": 42,
   "metadata": {},
   "outputs": [
    {
     "data": {
      "text/plain": [
       "array([[0., 0., 0., 0., 0., 0., 0.],\n",
       "       [0., 0., 0., 0., 0., 0., 0.],\n",
       "       [0., 0., 0., 0., 0., 0., 0.],\n",
       "       [1., 1., 1., 1., 1., 1., 1.],\n",
       "       [0., 0., 0., 0., 0., 0., 0.],\n",
       "       [0., 0., 0., 0., 0., 0., 0.],\n",
       "       [0., 0., 0., 0., 0., 0., 0.]], dtype=float32)"
      ]
     },
     "execution_count": 42,
     "metadata": {},
     "output_type": "execute_result"
    }
   ],
   "source": [
    "fmap[:,:,0,1]\n"
   ]
  },
  {
   "cell_type": "code",
   "execution_count": 26,
   "metadata": {},
   "outputs": [
    {
     "data": {
      "image/png": "[encoded data removed]",
      "text/plain": [
       "<Figure size 432x288 with 1 Axes>"
      ]
     },
     "metadata": {
      "needs_background": "light"
     },
     "output_type": "display_data"
    },
    {
     "data": {
      "image/png": "[encoded data removed]",
      "text/plain": [
       "<Figure size 432x288 with 1 Axes>"
      ]
     },
     "metadata": {
      "needs_background": "light"
     },
     "output_type": "display_data"
    },
    {
     "name": "stdout",
     "output_type": "stream",
     "text": [
      "[[0. 0. 0. 1. 0. 0. 0.]\n",
      " [0. 0. 0. 1. 0. 0. 0.]\n",
      " [0. 0. 0. 1. 0. 0. 0.]\n",
      " [0. 0. 0. 1. 0. 0. 0.]\n",
      " [0. 0. 0. 1. 0. 0. 0.]\n",
      " [0. 0. 0. 1. 0. 0. 0.]\n",
      " [0. 0. 0. 1. 0. 0. 0.]]\n"
     ]
    }
   ],
   "source": [
    "plot_image(fmap[:,:,0,0]) #세로흰색\n",
    "plt.show()\n",
    "plot_image(fmap[:,:,0,1]) #가로흰색\n",
    "plt.show()\n",
    "print(fmap[:,:,0,0])"
   ]
  },
  {
   "cell_type": "code",
   "execution_count": 32,
   "metadata": {},
   "outputs": [],
   "source": [
    "reset_graph()\n",
    "#장수, 높이, 가로, 채널수\n",
    "X=tf.placeholder(tf.float32,shape=(None,height,width,1))\n",
    "feature_maps=tf.constant(fmap) #필터를 상수로\n",
    "#convolution은 1d(텍스트), 2d(이미지), 3d(동영상)\n",
    "#padding='SAME', \n",
    "#오늘 :convolution, filter,padding,strides\n",
    "#70x120=>70x120 왜? same 이니까\n",
    "#64x114 =>same 이 아니라면 (70-7+1, 120-7+1)\n",
    "convolution=tf.nn.conv2d(X,feature_maps,strides=[1,1,1,1],padding='SAME',use_cudnn_on_gpu=False) #SAME,VALID\n",
    "\n",
    "#pooling 은 별도로 진행"
   ]
  },
  {
   "cell_type": "code",
   "execution_count": 33,
   "metadata": {},
   "outputs": [],
   "source": [
    "with tf.Session() as sess:\n",
    "    output=convolution.eval(feed_dict={X:images})"
   ]
  },
  {
   "cell_type": "code",
   "execution_count": 34,
   "metadata": {},
   "outputs": [
    {
     "name": "stdout",
     "output_type": "stream",
     "text": [
      "Saving figure china_original\n"
     ]
    },
    {
     "data": {
      "image/png": "[encoded data removed]",
      "text/plain": [
       "<Figure size 432x288 with 1 Axes>"
      ]
     },
     "metadata": {
      "needs_background": "light"
     },
     "output_type": "display_data"
    }
   ],
   "source": [
    "plot_image(images[0,:,:,0])\n",
    "save_fig('china_original',tight_layout=False)\n",
    "plt.show()"
   ]
  },
  {
   "cell_type": "code",
   "execution_count": 36,
   "metadata": {},
   "outputs": [
    {
     "name": "stdout",
     "output_type": "stream",
     "text": [
      "Saving figure china_vertical\n"
     ]
    },
    {
     "data": {
      "image/png": "[encoded data removed]",
      "text/plain": [
       "<Figure size 432x288 with 1 Axes>"
      ]
     },
     "metadata": {
      "needs_background": "light"
     },
     "output_type": "display_data"
    }
   ],
   "source": [
    "#output :2장의 이미지 (필터가다르면 특징도 다르게 잡힌다.)\n",
    "plot_image(output[0,:,:,0]) #0번필터 적용: 세로줄\n",
    "save_fig('china_vertical',tight_layout=False)\n",
    "plt.show()"
   ]
  },
  {
   "cell_type": "code",
   "execution_count": 37,
   "metadata": {},
   "outputs": [
    {
     "name": "stdout",
     "output_type": "stream",
     "text": [
      "Saving figure china_horizonal\n"
     ]
    },
    {
     "data": {
      "image/png": "[encoded data removed]",
      "text/plain": [
       "<Figure size 432x288 with 1 Axes>"
      ]
     },
     "metadata": {
      "needs_background": "light"
     },
     "output_type": "display_data"
    }
   ],
   "source": [
    "plot_image(output[0,:,:,1]) \n",
    "save_fig('china_horizonal',tight_layout=False)\n",
    "plt.show()"
   ]
  },
  {
   "cell_type": "code",
   "execution_count": null,
   "metadata": {},
   "outputs": [],
   "source": []
  },
  {
   "cell_type": "code",
   "execution_count": null,
   "metadata": {},
   "outputs": [],
   "source": []
  },
  {
   "cell_type": "code",
   "execution_count": null,
   "metadata": {},
   "outputs": [],
   "source": []
  },
  {
   "cell_type": "code",
   "execution_count": null,
   "metadata": {},
   "outputs": [],
   "source": []
  },
  {
   "cell_type": "code",
   "execution_count": null,
   "metadata": {},
   "outputs": [],
   "source": []
  }
 ],
 "metadata": {
  "kernelspec": {
   "display_name": "Python 3",
   "language": "python",
   "name": "python3"
  },
  "language_info": {
   "codemirror_mode": {
    "name": "ipython",
    "version": 3
   },
   "file_extension": ".py",
   "mimetype": "text/x-python",
   "name": "python",
   "nbconvert_exporter": "python",
   "pygments_lexer": "ipython3",
   "version": "3.7.4"
  }
 },
 "nbformat": 4,
 "nbformat_minor": 2
}
